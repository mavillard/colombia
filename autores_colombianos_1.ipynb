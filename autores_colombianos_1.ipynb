{
 "cells": [
  {
   "cell_type": "markdown",
   "metadata": {},
   "source": [
    "# Autores colombianos por provincias"
   ]
  },
  {
   "cell_type": "code",
   "execution_count": 1,
   "metadata": {
    "collapsed": true
   },
   "outputs": [],
   "source": [
    "import ast\n",
    "import csv\n",
    "import os\n",
    "import re\n",
    "from collections import defaultdict\n",
    "from collections import Counter\n",
    "from datetime import datetime\n",
    "from datetime import timedelta\n",
    "from string import punctuation\n",
    "\n",
    "import matplotlib\n",
    "import numpy as np\n",
    "import networkx as nx\n",
    "import pandas as pd\n",
    "import requests\n",
    "import seaborn as sns\n",
    "from geolocation.main import GoogleMaps\n",
    "from matplotlib import pyplot as plt\n",
    "from SPARQLWrapper import SPARQLWrapper, JSON\n",
    "\n",
    "from googlemaps_key import KEY"
   ]
  },
  {
   "cell_type": "markdown",
   "metadata": {},
   "source": [
    "## Autores"
   ]
  },
  {
   "cell_type": "code",
   "execution_count": 2,
   "metadata": {
    "collapsed": false
   },
   "outputs": [
    {
     "name": "stdout",
     "output_type": "stream",
     "text": [
      "CPU times: user 3 s, sys: 31.4 ms, total: 3.03 s\n",
      "Wall time: 3.03 s\n"
     ]
    }
   ],
   "source": [
    "%%time\n",
    "\n",
    "autores_df = pd.read_csv(\n",
    "    'autores7.csv',\n",
    "    header=0,\n",
    "    converters={\n",
    "        'GEOLOC_CAPITAL_AUTOR': ast.literal_eval,\n",
    "        'GEOLOC_CAPITAL_EJEMPLAR': ast.literal_eval\n",
    "    }\n",
    ")\n",
    "autores_df = autores_df.fillna('')"
   ]
  },
  {
   "cell_type": "code",
   "execution_count": 3,
   "metadata": {
    "collapsed": false
   },
   "outputs": [
    {
     "data": {
      "text/plain": [
       "(87200, 9)"
      ]
     },
     "execution_count": 3,
     "metadata": {},
     "output_type": "execute_result"
    }
   ],
   "source": [
    "autores_df.shape"
   ]
  },
  {
   "cell_type": "code",
   "execution_count": 4,
   "metadata": {
    "collapsed": false
   },
   "outputs": [
    {
     "data": {
      "text/html": [
       "<div>\n",
       "<table border=\"1\" class=\"dataframe\">\n",
       "  <thead>\n",
       "    <tr style=\"text-align: right;\">\n",
       "      <th></th>\n",
       "      <th>TITULO</th>\n",
       "      <th>PAIS_EJEMPLAR</th>\n",
       "      <th>AUTOR</th>\n",
       "      <th>PAIS_AUTOR</th>\n",
       "      <th>FECHA_PUB</th>\n",
       "      <th>CAPITAL_AUTOR</th>\n",
       "      <th>CAPITAL_EJEMPLAR</th>\n",
       "      <th>GEOLOC_CAPITAL_AUTOR</th>\n",
       "      <th>GEOLOC_CAPITAL_EJEMPLAR</th>\n",
       "    </tr>\n",
       "  </thead>\n",
       "  <tbody>\n",
       "    <tr>\n",
       "      <th>0</th>\n",
       "      <td>Adivina en qué pais ...</td>\n",
       "      <td>Spain</td>\n",
       "      <td>Martina Badstuber</td>\n",
       "      <td>Germany</td>\n",
       "      <td>2010</td>\n",
       "      <td>Berlin</td>\n",
       "      <td>Madrid</td>\n",
       "      <td>(52.52000659999999, 13.404954)</td>\n",
       "      <td>(40.4167754, -3.7037902)</td>\n",
       "    </tr>\n",
       "    <tr>\n",
       "      <th>1</th>\n",
       "      <td>¡No quiero hacer pipí en el orinal!</td>\n",
       "      <td>Spain</td>\n",
       "      <td>Roser Rius</td>\n",
       "      <td>Mexico</td>\n",
       "      <td>2009</td>\n",
       "      <td>Mexico City</td>\n",
       "      <td>Madrid</td>\n",
       "      <td>(19.4326077, -99.133208)</td>\n",
       "      <td>(40.4167754, -3.7037902)</td>\n",
       "    </tr>\n",
       "    <tr>\n",
       "      <th>2</th>\n",
       "      <td>Humo</td>\n",
       "      <td>Spain</td>\n",
       "      <td>Antón Fortes Torres</td>\n",
       "      <td>Spain</td>\n",
       "      <td>2008</td>\n",
       "      <td>Madrid</td>\n",
       "      <td>Madrid</td>\n",
       "      <td>(40.4167754, -3.7037902)</td>\n",
       "      <td>(40.4167754, -3.7037902)</td>\n",
       "    </tr>\n",
       "    <tr>\n",
       "      <th>3</th>\n",
       "      <td>Galleta para perros</td>\n",
       "      <td>Spain</td>\n",
       "      <td>Helen Cooper</td>\n",
       "      <td>United Kingdom</td>\n",
       "      <td>2008</td>\n",
       "      <td>London</td>\n",
       "      <td>Madrid</td>\n",
       "      <td>(51.5073509, -0.1277583)</td>\n",
       "      <td>(40.4167754, -3.7037902)</td>\n",
       "    </tr>\n",
       "    <tr>\n",
       "      <th>4</th>\n",
       "      <td>Autobio</td>\n",
       "      <td>Spain</td>\n",
       "      <td>Cyril Pedrosa</td>\n",
       "      <td>France</td>\n",
       "      <td>2009</td>\n",
       "      <td>Paris</td>\n",
       "      <td>Madrid</td>\n",
       "      <td>(48.856614, 2.3522219)</td>\n",
       "      <td>(40.4167754, -3.7037902)</td>\n",
       "    </tr>\n",
       "  </tbody>\n",
       "</table>\n",
       "</div>"
      ],
      "text/plain": [
       "                                TITULO PAIS_EJEMPLAR                AUTOR  \\\n",
       "0              Adivina en qué pais ...         Spain    Martina Badstuber   \n",
       "1  ¡No quiero hacer pipí en el orinal!         Spain           Roser Rius   \n",
       "2                                 Humo         Spain  Antón Fortes Torres   \n",
       "3                  Galleta para perros         Spain         Helen Cooper   \n",
       "4                              Autobio         Spain        Cyril Pedrosa   \n",
       "\n",
       "       PAIS_AUTOR  FECHA_PUB CAPITAL_AUTOR CAPITAL_EJEMPLAR  \\\n",
       "0         Germany       2010        Berlin           Madrid   \n",
       "1          Mexico       2009   Mexico City           Madrid   \n",
       "2           Spain       2008        Madrid           Madrid   \n",
       "3  United Kingdom       2008        London           Madrid   \n",
       "4          France       2009         Paris           Madrid   \n",
       "\n",
       "             GEOLOC_CAPITAL_AUTOR   GEOLOC_CAPITAL_EJEMPLAR  \n",
       "0  (52.52000659999999, 13.404954)  (40.4167754, -3.7037902)  \n",
       "1        (19.4326077, -99.133208)  (40.4167754, -3.7037902)  \n",
       "2        (40.4167754, -3.7037902)  (40.4167754, -3.7037902)  \n",
       "3        (51.5073509, -0.1277583)  (40.4167754, -3.7037902)  \n",
       "4          (48.856614, 2.3522219)  (40.4167754, -3.7037902)  "
      ]
     },
     "execution_count": 4,
     "metadata": {},
     "output_type": "execute_result"
    }
   ],
   "source": [
    "autores_df.head()"
   ]
  },
  {
   "cell_type": "markdown",
   "metadata": {},
   "source": [
    "## Autores colombianos"
   ]
  },
  {
   "cell_type": "code",
   "execution_count": 5,
   "metadata": {
    "collapsed": false
   },
   "outputs": [],
   "source": [
    "autores_colombianos_df = autores_df[autores_df['PAIS_AUTOR'] == 'Colombia']\n",
    "autores_colombianos_df = autores_colombianos_df.copy()"
   ]
  },
  {
   "cell_type": "code",
   "execution_count": 6,
   "metadata": {
    "collapsed": false
   },
   "outputs": [
    {
     "data": {
      "text/plain": [
       "(5551, 9)"
      ]
     },
     "execution_count": 6,
     "metadata": {},
     "output_type": "execute_result"
    }
   ],
   "source": [
    "autores_colombianos_df.shape"
   ]
  },
  {
   "cell_type": "code",
   "execution_count": 7,
   "metadata": {
    "collapsed": false
   },
   "outputs": [
    {
     "data": {
      "text/html": [
       "<div>\n",
       "<table border=\"1\" class=\"dataframe\">\n",
       "  <thead>\n",
       "    <tr style=\"text-align: right;\">\n",
       "      <th></th>\n",
       "      <th>TITULO</th>\n",
       "      <th>PAIS_EJEMPLAR</th>\n",
       "      <th>AUTOR</th>\n",
       "      <th>PAIS_AUTOR</th>\n",
       "      <th>FECHA_PUB</th>\n",
       "      <th>CAPITAL_AUTOR</th>\n",
       "      <th>CAPITAL_EJEMPLAR</th>\n",
       "      <th>GEOLOC_CAPITAL_AUTOR</th>\n",
       "      <th>GEOLOC_CAPITAL_EJEMPLAR</th>\n",
       "    </tr>\n",
       "  </thead>\n",
       "  <tbody>\n",
       "    <tr>\n",
       "      <th>7</th>\n",
       "      <td>En la laguna más profunda</td>\n",
       "      <td>Colombia</td>\n",
       "      <td>Oscar Collazos</td>\n",
       "      <td>Colombia</td>\n",
       "      <td>2011</td>\n",
       "      <td>Bogotá</td>\n",
       "      <td>Bogotá</td>\n",
       "      <td>(4.710988599999999, -74.072092)</td>\n",
       "      <td>(4.710988599999999, -74.072092)</td>\n",
       "    </tr>\n",
       "    <tr>\n",
       "      <th>90</th>\n",
       "      <td>El gato bandido y otros cuentos</td>\n",
       "      <td>Colombia</td>\n",
       "      <td>Rafael Pombo</td>\n",
       "      <td>Colombia</td>\n",
       "      <td>2007</td>\n",
       "      <td>Bogotá</td>\n",
       "      <td>Bogotá</td>\n",
       "      <td>(4.710988599999999, -74.072092)</td>\n",
       "      <td>(4.710988599999999, -74.072092)</td>\n",
       "    </tr>\n",
       "    <tr>\n",
       "      <th>101</th>\n",
       "      <td>Cuentos pintados</td>\n",
       "      <td>Colombia</td>\n",
       "      <td>Rafael Pombo</td>\n",
       "      <td>Colombia</td>\n",
       "      <td>2011</td>\n",
       "      <td>Bogotá</td>\n",
       "      <td>Bogotá</td>\n",
       "      <td>(4.710988599999999, -74.072092)</td>\n",
       "      <td>(4.710988599999999, -74.072092)</td>\n",
       "    </tr>\n",
       "    <tr>\n",
       "      <th>120</th>\n",
       "      <td>Aleida : 10 años</td>\n",
       "      <td>Colombia</td>\n",
       "      <td>Vladdo</td>\n",
       "      <td>Colombia</td>\n",
       "      <td>2007</td>\n",
       "      <td>Bogotá</td>\n",
       "      <td>Bogotá</td>\n",
       "      <td>(4.710988599999999, -74.072092)</td>\n",
       "      <td>(4.710988599999999, -74.072092)</td>\n",
       "    </tr>\n",
       "    <tr>\n",
       "      <th>292</th>\n",
       "      <td>Mitos y leyendas indígenas de Colombia</td>\n",
       "      <td>Colombia</td>\n",
       "      <td>Javier Ocampo López</td>\n",
       "      <td>Colombia</td>\n",
       "      <td>2013</td>\n",
       "      <td>Bogotá</td>\n",
       "      <td>Bogotá</td>\n",
       "      <td>(4.710988599999999, -74.072092)</td>\n",
       "      <td>(4.710988599999999, -74.072092)</td>\n",
       "    </tr>\n",
       "  </tbody>\n",
       "</table>\n",
       "</div>"
      ],
      "text/plain": [
       "                                     TITULO PAIS_EJEMPLAR  \\\n",
       "7                 En la laguna más profunda      Colombia   \n",
       "90          El gato bandido y otros cuentos      Colombia   \n",
       "101                        Cuentos pintados      Colombia   \n",
       "120                        Aleida : 10 años      Colombia   \n",
       "292  Mitos y leyendas indígenas de Colombia      Colombia   \n",
       "\n",
       "                   AUTOR PAIS_AUTOR  FECHA_PUB CAPITAL_AUTOR CAPITAL_EJEMPLAR  \\\n",
       "7         Oscar Collazos   Colombia       2011        Bogotá           Bogotá   \n",
       "90          Rafael Pombo   Colombia       2007        Bogotá           Bogotá   \n",
       "101         Rafael Pombo   Colombia       2011        Bogotá           Bogotá   \n",
       "120               Vladdo   Colombia       2007        Bogotá           Bogotá   \n",
       "292  Javier Ocampo López   Colombia       2013        Bogotá           Bogotá   \n",
       "\n",
       "                GEOLOC_CAPITAL_AUTOR          GEOLOC_CAPITAL_EJEMPLAR  \n",
       "7    (4.710988599999999, -74.072092)  (4.710988599999999, -74.072092)  \n",
       "90   (4.710988599999999, -74.072092)  (4.710988599999999, -74.072092)  \n",
       "101  (4.710988599999999, -74.072092)  (4.710988599999999, -74.072092)  \n",
       "120  (4.710988599999999, -74.072092)  (4.710988599999999, -74.072092)  \n",
       "292  (4.710988599999999, -74.072092)  (4.710988599999999, -74.072092)  "
      ]
     },
     "execution_count": 7,
     "metadata": {},
     "output_type": "execute_result"
    }
   ],
   "source": [
    "autores_colombianos_df.head()"
   ]
  },
  {
   "cell_type": "markdown",
   "metadata": {},
   "source": [
    "## Ciudades y departamentos autores"
   ]
  },
  {
   "cell_type": "code",
   "execution_count": 8,
   "metadata": {
    "collapsed": false
   },
   "outputs": [],
   "source": [
    "def get_ciudad_departamento_autor_data_wkd(name, lang):\n",
    "    template = \"\"\"\n",
    "        PREFIX wd: <http://www.wikidata.org/entity/>\n",
    "        PREFIX wdt: <http://www.wikidata.org/prop/direct/>\n",
    "        PREFIX rdfs: <http://www.w3.org/2000/01/rdf-schema#>\n",
    "\n",
    "        SELECT ?authorLabel ?pobLabel ?depLabel\n",
    "        WHERE {{\n",
    "            BIND(\"{0}\"@{1} AS ?authorLabel) .\n",
    "            ?author rdfs:label ?authorLabel .\n",
    "            ?author wdt:P31 wd:Q5 .\n",
    "            OPTIONAL {{\n",
    "                ?author wdt:P106 wd:Q36180 .\n",
    "            }}\n",
    "            ?author wdt:P19 ?pob .\n",
    "            ?pob wdt:P31 wd:Q2555896 .\n",
    "            ?pob rdfs:label ?pobLabel .\n",
    "            FILTER(lang(?pobLabel)=\"{1}\")\n",
    "            OPTIONAL {{\n",
    "                ?pob wdt:P131 ?dep .\n",
    "                ?dep wdt:P31 wd:Q215655 .\n",
    "                ?dep rdfs:label ?depLabel .\n",
    "                FILTER(lang(?depLabel)=\"{1}\")\n",
    "            }}\n",
    "        }}\n",
    "    \"\"\"\n",
    "    query = template.format(name, lang)\n",
    "    url = 'https://query.wikidata.org/bigdata/namespace/wdq/sparql'\n",
    "    data = requests.get(url, params={'query': query, 'format': 'json'}).json()\n",
    "    return data"
   ]
  },
  {
   "cell_type": "code",
   "execution_count": 9,
   "metadata": {
    "collapsed": true
   },
   "outputs": [],
   "source": [
    "sparql_dbp = SPARQLWrapper(\"http://dbpedia.org/sparql\")\n",
    "\n",
    "def get_ciudad_departamento_autor_data_dbp(name, lang):\n",
    "    template = \"\"\"\n",
    "        PREFIX dbo: <http://dbpedia.org/ontology/>\n",
    "        PREFIX dbp: <http://dbpedia.org/property/>\n",
    "        PREFIX rdf: <http://www.w3.org/1999/02/22-rdf-syntax-ns#>\n",
    "        PREFIX rdfs: <http://www.w3.org/2000/01/rdf-schema#>\n",
    "        PREFIX yago: <http://dbpedia.org/class/yago/>\n",
    "\n",
    "        SELECT ?authorLabel ?pobLabel ?depLabel\n",
    "        WHERE {{\n",
    "            BIND(\"{0}\"@{1} AS ?authorLabel) .\n",
    "            ?author rdfs:label ?authorLabel .\n",
    "            ?author rdf:type dbo:Person .\n",
    "            OPTIONAL {{\n",
    "                ?author rdf:type dbo:Writer .\n",
    "            }}\n",
    "            ?author dbp:birthPlace ?pob .\n",
    "            ?pob rdf:type yago:WikicatMunicipalitiesOfColombia .\n",
    "            ?pob rdfs:label ?pobLabel .\n",
    "            FILTER(lang(?pobLabel)=\"{1}\")\n",
    "            OPTIONAL {{\n",
    "                ?pob dbo:isPartOf ?dep .\n",
    "                ?dep rdf:type yago:WikicatDepartmentsOfColombia .\n",
    "                ?dep rdfs:label ?depLabel .\n",
    "                FILTER(lang(?depLabel)=\"{1}\")\n",
    "            }}\n",
    "        }}\n",
    "    \"\"\"\n",
    "    query = template.format(name, lang)\n",
    "    sparql_dbp.setQuery(query)\n",
    "    sparql_dbp.setReturnFormat(JSON)\n",
    "    data = sparql_dbp.query().convert()\n",
    "    return data"
   ]
  },
  {
   "cell_type": "code",
   "execution_count": 10,
   "metadata": {
    "collapsed": false
   },
   "outputs": [],
   "source": [
    "error_autores = set()\n",
    "\n",
    "def get_ciudad_departamento_autor_data(db, name, lang):\n",
    "    try:\n",
    "        if db == 'wdt':\n",
    "            data = get_ciudad_departamento_autor_data_wkd(name, lang)\n",
    "        elif db == 'dbp':\n",
    "            data = get_ciudad_departamento_autor_data_dbp(name, lang)\n",
    "\n",
    "        pobs = set(d['pobLabel']['value'] for d in data['results']['bindings'])\n",
    "        if len(pobs) == 0:\n",
    "            pob = 'UNKNOWN'\n",
    "        elif len(pobs) == 1:\n",
    "            pob = pobs.pop()\n",
    "        else:\n",
    "            print('MáS DE UNA POBLACIóN PARA', name, ':', pobs)\n",
    "            pob = pobs.pop()\n",
    "\n",
    "        deps = set(d['depLabel']['value'] for d in data['results']['bindings'])\n",
    "        if len(deps) == 0:\n",
    "            dep = 'UNKNOWN'\n",
    "        elif len(deps) == 1:\n",
    "            dep = deps.pop()\n",
    "        else:\n",
    "            print('MáS DE UN DEPARTAMENTO PARA', name, ':', deps)\n",
    "            dep = deps.pop()\n",
    "    except:\n",
    "        print('ERROR EN SPARQL PARA', name)\n",
    "        pob = 'UNKNOWN'\n",
    "        dep = 'UNKNOWN'\n",
    "        error_autores.add(name)\n",
    "    return (pob, dep)"
   ]
  },
  {
   "cell_type": "code",
   "execution_count": 11,
   "metadata": {
    "collapsed": true
   },
   "outputs": [],
   "source": [
    "autores_encontrados_list = []\n",
    "\n",
    "def get_ciudad_departamento_autor(name):\n",
    "    result = ('DESCONOCIDO', 'DESCONOCIDO')\n",
    "    for lang in ['es', 'en']:\n",
    "        for db in ['wdt', 'dbp']:\n",
    "            r = get_ciudad_departamento_autor_data(db, name, lang)\n",
    "            if r[0] != 'UNKNOWN':\n",
    "                autores_encontrados_list.append(name)\n",
    "                if r[1] == 'UNKNOWN':\n",
    "                    result = (r[0], 'DESCONOCIDO')\n",
    "                else: #r[1] != 'UNKNOWN'\n",
    "                    result = r\n",
    "                    return result\n",
    "    return result"
   ]
  },
  {
   "cell_type": "code",
   "execution_count": 12,
   "metadata": {
    "collapsed": false
   },
   "outputs": [
    {
     "name": "stdout",
     "output_type": "stream",
     "text": [
      "ERROR EN SPARQL PARA Javier Ocampo López\n",
      "ERROR EN SPARQL PARA Javier Ocampo López\n",
      "ERROR EN SPARQL PARA Pablo Montoya\n",
      "ERROR EN SPARQL PARA Pablo Montoya\n",
      "ERROR EN SPARQL PARA Pirry\n",
      "ERROR EN SPARQL PARA Pirry\n",
      "ERROR EN SPARQL PARA Octavio Escobar Giraldo\n",
      "ERROR EN SPARQL PARA Octavio Escobar Giraldo\n",
      "ERROR EN SPARQL PARA Arturo Escobar\n",
      "ERROR EN SPARQL PARA Adalberto Agudelo Duque\n",
      "ERROR EN SPARQL PARA Adalberto Agudelo Duque\n",
      "ERROR EN SPARQL PARA Evelio Ramírez Martínez\n",
      "ERROR EN SPARQL PARA Evelio Ramírez Martínez\n",
      "ERROR EN SPARQL PARA Alfredo Gómez Jaime\n",
      "ERROR EN SPARQL PARA Alfredo Gómez Jaime\n",
      "ERROR EN SPARQL PARA Enrique Santos Montejo\n",
      "ERROR EN SPARQL PARA Enrique Santos Montejo\n",
      "ERROR EN SPARQL PARA Maruja Vieira\n",
      "ERROR EN SPARQL PARA Maruja Vieira\n",
      "ERROR EN SPARQL PARA Alfonso López Pumarejo\n",
      "ERROR EN SPARQL PARA Alfonso López Pumarejo\n",
      "ERROR EN SPARQL PARA David Manzur\n",
      "ERROR EN SPARQL PARA David Manzur\n",
      "ERROR EN SPARQL PARA Gilberto Alzate Avendaño\n",
      "ERROR EN SPARQL PARA Gilberto Alzate Avendaño\n",
      "ERROR EN SPARQL PARA Gustavo Rojas Pinilla\n",
      "ERROR EN SPARQL PARA Gustavo Nieto Roa\n",
      "ERROR EN SPARQL PARA Arturo Robledo Ocampo\n",
      "ERROR EN SPARQL PARA Arturo Robledo Ocampo\n",
      "ERROR EN SPARQL PARA César Grajales\n",
      "ERROR EN SPARQL PARA César Grajales\n",
      "ERROR EN SPARQL PARA Carlos Quintero\n",
      "MáS DE UNA POBLACIóN PARA Carlos Quintero : {'Cali', 'Villamaría, Caldas'}\n",
      "ERROR EN SPARQL PARA Carlos Quintero\n",
      "ERROR EN SPARQL PARA Simón Vélez\n",
      "CPU times: user 26.6 s, sys: 676 ms, total: 27.3 s\n",
      "Wall time: 5min 47s\n"
     ]
    }
   ],
   "source": [
    "%%time\n",
    "\n",
    "autores_ciudades_departamentos_dict = {}\n",
    "\n",
    "for x in autores_colombianos_df['AUTOR'].unique():\n",
    "    autores_ciudades_departamentos_dict[x] = get_ciudad_departamento_autor(x)"
   ]
  },
  {
   "cell_type": "code",
   "execution_count": 13,
   "metadata": {
    "collapsed": false
   },
   "outputs": [
    {
     "name": "stdout",
     "output_type": "stream",
     "text": [
      "ERROR EN SPARQL PARA Adalberto Agudelo Duque\n",
      "ERROR EN SPARQL PARA Adalberto Agudelo Duque\n",
      "ERROR EN SPARQL PARA Octavio Escobar Giraldo\n",
      "ERROR EN SPARQL PARA Octavio Escobar Giraldo\n",
      "ERROR EN SPARQL PARA Evelio Ramírez Martínez\n",
      "ERROR EN SPARQL PARA Evelio Ramírez Martínez\n",
      "ERROR EN SPARQL PARA Maruja Vieira\n",
      "ERROR EN SPARQL PARA Maruja Vieira\n",
      "ERROR EN SPARQL PARA Alfredo Gómez Jaime\n",
      "ERROR EN SPARQL PARA Alfredo Gómez Jaime\n",
      "ERROR EN SPARQL PARA Pablo Montoya\n",
      "ERROR EN SPARQL PARA Pablo Montoya\n",
      "ERROR EN SPARQL PARA Arturo Robledo Ocampo\n",
      "ERROR EN SPARQL PARA Arturo Robledo Ocampo\n",
      "ERROR EN SPARQL PARA César Grajales\n",
      "ERROR EN SPARQL PARA César Grajales\n",
      "ERROR EN SPARQL PARA Gustavo Rojas Pinilla\n",
      "ERROR EN SPARQL PARA Arturo Escobar\n",
      "ERROR EN SPARQL PARA Pirry\n",
      "ERROR EN SPARQL PARA Pirry\n",
      "ERROR EN SPARQL PARA Gilberto Alzate Avendaño\n",
      "ERROR EN SPARQL PARA Gilberto Alzate Avendaño\n",
      "ERROR EN SPARQL PARA Enrique Santos Montejo\n",
      "ERROR EN SPARQL PARA Enrique Santos Montejo\n",
      "ERROR EN SPARQL PARA Carlos Quintero\n",
      "MáS DE UNA POBLACIóN PARA Carlos Quintero : {'Cali', 'Villamaría, Caldas'}\n",
      "ERROR EN SPARQL PARA Carlos Quintero\n",
      "ERROR EN SPARQL PARA Javier Ocampo López\n",
      "ERROR EN SPARQL PARA Javier Ocampo López\n",
      "ERROR EN SPARQL PARA Simón Vélez\n",
      "ERROR EN SPARQL PARA Alfonso López Pumarejo\n",
      "ERROR EN SPARQL PARA Alfonso López Pumarejo\n",
      "ERROR EN SPARQL PARA David Manzur\n",
      "ERROR EN SPARQL PARA David Manzur\n",
      "ERROR EN SPARQL PARA Gustavo Nieto Roa\n",
      "CPU times: user 1.08 s, sys: 50.8 ms, total: 1.13 s\n",
      "Wall time: 16.8 s\n"
     ]
    }
   ],
   "source": [
    "%%time\n",
    "\n",
    "for x in error_autores:\n",
    "    autores_ciudades_departamentos_dict[x] = get_ciudad_departamento_autor(x)"
   ]
  },
  {
   "cell_type": "code",
   "execution_count": 14,
   "metadata": {
    "collapsed": false
   },
   "outputs": [
    {
     "name": "stdout",
     "output_type": "stream",
     "text": [
      "CPU times: user 167 ms, sys: 87 µs, total: 167 ms\n",
      "Wall time: 165 ms\n"
     ]
    }
   ],
   "source": [
    "%%time\n",
    "\n",
    "def process_ciudad(x):\n",
    "    return autores_ciudades_departamentos_dict[x['AUTOR']][0]\n",
    "\n",
    "autores_colombianos_df['CIUDAD_AUTOR'] = autores_colombianos_df.apply(process_ciudad, axis=1)"
   ]
  },
  {
   "cell_type": "code",
   "execution_count": 15,
   "metadata": {
    "collapsed": false
   },
   "outputs": [
    {
     "name": "stdout",
     "output_type": "stream",
     "text": [
      "CPU times: user 115 ms, sys: 0 ns, total: 115 ms\n",
      "Wall time: 113 ms\n"
     ]
    }
   ],
   "source": [
    "%%time\n",
    "\n",
    "def process_departamento(x):\n",
    "    return autores_ciudades_departamentos_dict[x['AUTOR']][1]\n",
    "\n",
    "autores_colombianos_df['DEPARTAMENTO_AUTOR'] = autores_colombianos_df.apply(process_departamento, axis=1)"
   ]
  },
  {
   "cell_type": "code",
   "execution_count": 16,
   "metadata": {
    "collapsed": false
   },
   "outputs": [
    {
     "name": "stdout",
     "output_type": "stream",
     "text": [
      "CPU times: user 154 ms, sys: 3.93 ms, total: 158 ms\n",
      "Wall time: 156 ms\n"
     ]
    }
   ],
   "source": [
    "%%time\n",
    "\n",
    "def process_encontrado(x):\n",
    "    return x['AUTOR'] in autores_encontrados_list\n",
    "\n",
    "autores_colombianos_df['ENCONTRADO'] = autores_colombianos_df.apply(process_encontrado, axis=1)"
   ]
  },
  {
   "cell_type": "markdown",
   "metadata": {},
   "source": [
    "# Saving results"
   ]
  },
  {
   "cell_type": "code",
   "execution_count": 17,
   "metadata": {
    "collapsed": true
   },
   "outputs": [],
   "source": [
    "autores_colombianos_df.to_csv('autores_colombianos_1.csv', index=False)"
   ]
  },
  {
   "cell_type": "code",
   "execution_count": null,
   "metadata": {
    "collapsed": true
   },
   "outputs": [],
   "source": []
  }
 ],
 "metadata": {
  "kernelspec": {
   "display_name": "Python 3",
   "language": "python",
   "name": "python3"
  },
  "language_info": {
   "codemirror_mode": {
    "name": "ipython",
    "version": 3
   },
   "file_extension": ".py",
   "mimetype": "text/x-python",
   "name": "python",
   "nbconvert_exporter": "python",
   "pygments_lexer": "ipython3",
   "version": "3.4.3"
  }
 },
 "nbformat": 4,
 "nbformat_minor": 1
}
