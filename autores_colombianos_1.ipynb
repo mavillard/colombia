{
 "cells": [
  {
   "cell_type": "markdown",
   "metadata": {},
   "source": [
    "# Autores colombianos por provincias"
   ]
  },
  {
   "cell_type": "code",
   "execution_count": 1,
   "metadata": {
    "collapsed": true
   },
   "outputs": [],
   "source": [
    "import ast\n",
    "import csv\n",
    "import os\n",
    "import re\n",
    "from collections import defaultdict\n",
    "from collections import Counter\n",
    "from datetime import datetime\n",
    "from datetime import timedelta\n",
    "from string import punctuation\n",
    "\n",
    "import matplotlib\n",
    "import numpy as np\n",
    "import networkx as nx\n",
    "import pandas as pd\n",
    "import requests\n",
    "import seaborn as sns\n",
    "from geolocation.main import GoogleMaps\n",
    "from matplotlib import pyplot as plt\n",
    "from SPARQLWrapper import SPARQLWrapper, JSON\n",
    "\n",
    "from googlemaps_key import KEY"
   ]
  },
  {
   "cell_type": "markdown",
   "metadata": {},
   "source": [
    "## Autores"
   ]
  },
  {
   "cell_type": "code",
   "execution_count": 2,
   "metadata": {
    "collapsed": false
   },
   "outputs": [
    {
     "name": "stdout",
     "output_type": "stream",
     "text": [
      "CPU times: user 2.02 s, sys: 33.1 ms, total: 2.05 s\n",
      "Wall time: 2.05 s\n"
     ]
    }
   ],
   "source": [
    "%%time\n",
    "\n",
    "autores_df = pd.read_csv(\n",
    "    'autores8.csv',\n",
    "    header=0,\n",
    "    converters={\n",
    "        'GEOLOC_CAPITAL_AUTOR': ast.literal_eval,\n",
    "        'GEOLOC_CAPITAL_EJEMPLAR': ast.literal_eval\n",
    "    }\n",
    ")\n",
    "autores_df = autores_df.fillna('')"
   ]
  },
  {
   "cell_type": "code",
   "execution_count": 3,
   "metadata": {
    "collapsed": false
   },
   "outputs": [
    {
     "data": {
      "text/plain": [
       "(61857, 10)"
      ]
     },
     "execution_count": 3,
     "metadata": {},
     "output_type": "execute_result"
    }
   ],
   "source": [
    "autores_df.shape"
   ]
  },
  {
   "cell_type": "code",
   "execution_count": 4,
   "metadata": {
    "collapsed": false
   },
   "outputs": [
    {
     "data": {
      "text/html": [
       "<div>\n",
       "<table border=\"1\" class=\"dataframe\">\n",
       "  <thead>\n",
       "    <tr style=\"text-align: right;\">\n",
       "      <th></th>\n",
       "      <th>TITULO</th>\n",
       "      <th>FECHA_PUB</th>\n",
       "      <th>PAIS_EJEMPLAR</th>\n",
       "      <th>AUTOR</th>\n",
       "      <th>PAIS_AUTOR</th>\n",
       "      <th>NOMBRE_LOCALIZADO</th>\n",
       "      <th>CAPITAL_AUTOR</th>\n",
       "      <th>CAPITAL_EJEMPLAR</th>\n",
       "      <th>GEOLOC_CAPITAL_AUTOR</th>\n",
       "      <th>GEOLOC_CAPITAL_EJEMPLAR</th>\n",
       "    </tr>\n",
       "  </thead>\n",
       "  <tbody>\n",
       "    <tr>\n",
       "      <th>0</th>\n",
       "      <td>Adivina en qué pais ...</td>\n",
       "      <td>2010</td>\n",
       "      <td>Spain</td>\n",
       "      <td>Martina Badstuber</td>\n",
       "      <td>Germany</td>\n",
       "      <td>Martina Badstuber</td>\n",
       "      <td>Berlin</td>\n",
       "      <td>Madrid</td>\n",
       "      <td>(52.52000659999999, 13.404954)</td>\n",
       "      <td>(40.4167754, -3.7037902)</td>\n",
       "    </tr>\n",
       "    <tr>\n",
       "      <th>1</th>\n",
       "      <td>Galleta para perros</td>\n",
       "      <td>2008</td>\n",
       "      <td>Spain</td>\n",
       "      <td>Helen Cooper</td>\n",
       "      <td>United Kingdom</td>\n",
       "      <td>Helen Cooper</td>\n",
       "      <td>London</td>\n",
       "      <td>Madrid</td>\n",
       "      <td>(51.5073509, -0.1277583)</td>\n",
       "      <td>(40.4167754, -3.7037902)</td>\n",
       "    </tr>\n",
       "    <tr>\n",
       "      <th>2</th>\n",
       "      <td>Codrilo</td>\n",
       "      <td>2009</td>\n",
       "      <td>Spain</td>\n",
       "      <td>Roberto Aliaga Sánchez</td>\n",
       "      <td>Spain</td>\n",
       "      <td>Roberto Aliaga</td>\n",
       "      <td>Madrid</td>\n",
       "      <td>Madrid</td>\n",
       "      <td>(40.4167754, -3.7037902)</td>\n",
       "      <td>(40.4167754, -3.7037902)</td>\n",
       "    </tr>\n",
       "    <tr>\n",
       "      <th>3</th>\n",
       "      <td>Félix, : el coleccionista de miedos</td>\n",
       "      <td>2009</td>\n",
       "      <td>Spain</td>\n",
       "      <td>Fina Casalderrey</td>\n",
       "      <td>Spain</td>\n",
       "      <td>Fina Casalderrey</td>\n",
       "      <td>Madrid</td>\n",
       "      <td>Madrid</td>\n",
       "      <td>(40.4167754, -3.7037902)</td>\n",
       "      <td>(40.4167754, -3.7037902)</td>\n",
       "    </tr>\n",
       "    <tr>\n",
       "      <th>4</th>\n",
       "      <td>En la laguna más profunda</td>\n",
       "      <td>2011</td>\n",
       "      <td>Colombia</td>\n",
       "      <td>Oscar Collazos</td>\n",
       "      <td>Colombia</td>\n",
       "      <td>Oscar Collazos</td>\n",
       "      <td>Bogotá</td>\n",
       "      <td>Bogotá</td>\n",
       "      <td>(4.710988599999999, -74.072092)</td>\n",
       "      <td>(4.710988599999999, -74.072092)</td>\n",
       "    </tr>\n",
       "  </tbody>\n",
       "</table>\n",
       "</div>"
      ],
      "text/plain": [
       "                                TITULO  FECHA_PUB PAIS_EJEMPLAR  \\\n",
       "0              Adivina en qué pais ...       2010         Spain   \n",
       "1                  Galleta para perros       2008         Spain   \n",
       "2                              Codrilo       2009         Spain   \n",
       "3  Félix, : el coleccionista de miedos       2009         Spain   \n",
       "4            En la laguna más profunda       2011      Colombia   \n",
       "\n",
       "                    AUTOR      PAIS_AUTOR  NOMBRE_LOCALIZADO CAPITAL_AUTOR  \\\n",
       "0       Martina Badstuber         Germany  Martina Badstuber        Berlin   \n",
       "1            Helen Cooper  United Kingdom       Helen Cooper        London   \n",
       "2  Roberto Aliaga Sánchez           Spain     Roberto Aliaga        Madrid   \n",
       "3        Fina Casalderrey           Spain   Fina Casalderrey        Madrid   \n",
       "4          Oscar Collazos        Colombia     Oscar Collazos        Bogotá   \n",
       "\n",
       "  CAPITAL_EJEMPLAR             GEOLOC_CAPITAL_AUTOR  \\\n",
       "0           Madrid   (52.52000659999999, 13.404954)   \n",
       "1           Madrid         (51.5073509, -0.1277583)   \n",
       "2           Madrid         (40.4167754, -3.7037902)   \n",
       "3           Madrid         (40.4167754, -3.7037902)   \n",
       "4           Bogotá  (4.710988599999999, -74.072092)   \n",
       "\n",
       "           GEOLOC_CAPITAL_EJEMPLAR  \n",
       "0         (40.4167754, -3.7037902)  \n",
       "1         (40.4167754, -3.7037902)  \n",
       "2         (40.4167754, -3.7037902)  \n",
       "3         (40.4167754, -3.7037902)  \n",
       "4  (4.710988599999999, -74.072092)  "
      ]
     },
     "execution_count": 4,
     "metadata": {},
     "output_type": "execute_result"
    }
   ],
   "source": [
    "autores_df.head()"
   ]
  },
  {
   "cell_type": "markdown",
   "metadata": {},
   "source": [
    "## Autores colombianos"
   ]
  },
  {
   "cell_type": "code",
   "execution_count": 5,
   "metadata": {
    "collapsed": false
   },
   "outputs": [],
   "source": [
    "autores_colombianos_df = autores_df[autores_df['PAIS_AUTOR'] == 'Colombia']\n",
    "autores_colombianos_df = autores_colombianos_df.copy()"
   ]
  },
  {
   "cell_type": "code",
   "execution_count": 6,
   "metadata": {
    "collapsed": false
   },
   "outputs": [
    {
     "data": {
      "text/plain": [
       "(3450, 10)"
      ]
     },
     "execution_count": 6,
     "metadata": {},
     "output_type": "execute_result"
    }
   ],
   "source": [
    "autores_colombianos_df.shape"
   ]
  },
  {
   "cell_type": "code",
   "execution_count": 7,
   "metadata": {
    "collapsed": false
   },
   "outputs": [
    {
     "data": {
      "text/html": [
       "<div>\n",
       "<table border=\"1\" class=\"dataframe\">\n",
       "  <thead>\n",
       "    <tr style=\"text-align: right;\">\n",
       "      <th></th>\n",
       "      <th>TITULO</th>\n",
       "      <th>FECHA_PUB</th>\n",
       "      <th>PAIS_EJEMPLAR</th>\n",
       "      <th>AUTOR</th>\n",
       "      <th>PAIS_AUTOR</th>\n",
       "      <th>NOMBRE_LOCALIZADO</th>\n",
       "      <th>CAPITAL_AUTOR</th>\n",
       "      <th>CAPITAL_EJEMPLAR</th>\n",
       "      <th>GEOLOC_CAPITAL_AUTOR</th>\n",
       "      <th>GEOLOC_CAPITAL_EJEMPLAR</th>\n",
       "    </tr>\n",
       "  </thead>\n",
       "  <tbody>\n",
       "    <tr>\n",
       "      <th>4</th>\n",
       "      <td>En la laguna más profunda</td>\n",
       "      <td>2011</td>\n",
       "      <td>Colombia</td>\n",
       "      <td>Oscar Collazos</td>\n",
       "      <td>Colombia</td>\n",
       "      <td>Oscar Collazos</td>\n",
       "      <td>Bogotá</td>\n",
       "      <td>Bogotá</td>\n",
       "      <td>(4.710988599999999, -74.072092)</td>\n",
       "      <td>(4.710988599999999, -74.072092)</td>\n",
       "    </tr>\n",
       "    <tr>\n",
       "      <th>177</th>\n",
       "      <td>Zoro</td>\n",
       "      <td>1997</td>\n",
       "      <td>Colombia</td>\n",
       "      <td>Jairo Aníbal Niño</td>\n",
       "      <td>Colombia</td>\n",
       "      <td>Jairo Aníbal Niño</td>\n",
       "      <td>Bogotá</td>\n",
       "      <td>Bogotá</td>\n",
       "      <td>(4.710988599999999, -74.072092)</td>\n",
       "      <td>(4.710988599999999, -74.072092)</td>\n",
       "    </tr>\n",
       "    <tr>\n",
       "      <th>232</th>\n",
       "      <td>Mitos y leyendas indígenas de Colombia</td>\n",
       "      <td>2013</td>\n",
       "      <td>Colombia</td>\n",
       "      <td>Javier Ocampo López</td>\n",
       "      <td>Colombia</td>\n",
       "      <td>Javier Ocampo López</td>\n",
       "      <td>Bogotá</td>\n",
       "      <td>Bogotá</td>\n",
       "      <td>(4.710988599999999, -74.072092)</td>\n",
       "      <td>(4.710988599999999, -74.072092)</td>\n",
       "    </tr>\n",
       "    <tr>\n",
       "      <th>286</th>\n",
       "      <td>Puro pueblo</td>\n",
       "      <td>2002</td>\n",
       "      <td>Colombia</td>\n",
       "      <td>Jairo Aníbal Niño</td>\n",
       "      <td>Colombia</td>\n",
       "      <td>Jairo Aníbal Niño</td>\n",
       "      <td>Bogotá</td>\n",
       "      <td>Bogotá</td>\n",
       "      <td>(4.710988599999999, -74.072092)</td>\n",
       "      <td>(4.710988599999999, -74.072092)</td>\n",
       "    </tr>\n",
       "    <tr>\n",
       "      <th>304</th>\n",
       "      <td>Octubre, 1942-1952</td>\n",
       "      <td>1953</td>\n",
       "      <td>Colombia</td>\n",
       "      <td>Carmelina Soto Valencia</td>\n",
       "      <td>Colombia</td>\n",
       "      <td>Carmelina Soto Valencia</td>\n",
       "      <td>Bogotá</td>\n",
       "      <td>Bogotá</td>\n",
       "      <td>(4.710988599999999, -74.072092)</td>\n",
       "      <td>(4.710988599999999, -74.072092)</td>\n",
       "    </tr>\n",
       "  </tbody>\n",
       "</table>\n",
       "</div>"
      ],
      "text/plain": [
       "                                     TITULO  FECHA_PUB PAIS_EJEMPLAR  \\\n",
       "4                 En la laguna más profunda       2011      Colombia   \n",
       "177                                    Zoro       1997      Colombia   \n",
       "232  Mitos y leyendas indígenas de Colombia       2013      Colombia   \n",
       "286                             Puro pueblo       2002      Colombia   \n",
       "304                      Octubre, 1942-1952       1953      Colombia   \n",
       "\n",
       "                       AUTOR PAIS_AUTOR        NOMBRE_LOCALIZADO  \\\n",
       "4             Oscar Collazos   Colombia           Oscar Collazos   \n",
       "177        Jairo Aníbal Niño   Colombia        Jairo Aníbal Niño   \n",
       "232      Javier Ocampo López   Colombia      Javier Ocampo López   \n",
       "286        Jairo Aníbal Niño   Colombia        Jairo Aníbal Niño   \n",
       "304  Carmelina Soto Valencia   Colombia  Carmelina Soto Valencia   \n",
       "\n",
       "    CAPITAL_AUTOR CAPITAL_EJEMPLAR             GEOLOC_CAPITAL_AUTOR  \\\n",
       "4          Bogotá           Bogotá  (4.710988599999999, -74.072092)   \n",
       "177        Bogotá           Bogotá  (4.710988599999999, -74.072092)   \n",
       "232        Bogotá           Bogotá  (4.710988599999999, -74.072092)   \n",
       "286        Bogotá           Bogotá  (4.710988599999999, -74.072092)   \n",
       "304        Bogotá           Bogotá  (4.710988599999999, -74.072092)   \n",
       "\n",
       "             GEOLOC_CAPITAL_EJEMPLAR  \n",
       "4    (4.710988599999999, -74.072092)  \n",
       "177  (4.710988599999999, -74.072092)  \n",
       "232  (4.710988599999999, -74.072092)  \n",
       "286  (4.710988599999999, -74.072092)  \n",
       "304  (4.710988599999999, -74.072092)  "
      ]
     },
     "execution_count": 7,
     "metadata": {},
     "output_type": "execute_result"
    }
   ],
   "source": [
    "autores_colombianos_df.head()"
   ]
  },
  {
   "cell_type": "markdown",
   "metadata": {},
   "source": [
    "## Ciudades y departamentos"
   ]
  },
  {
   "cell_type": "code",
   "execution_count": 8,
   "metadata": {
    "collapsed": false
   },
   "outputs": [],
   "source": [
    "def get_ciudad_departamento_autor_data_wkd(name, lang):\n",
    "    template = \"\"\"\n",
    "        PREFIX wd: <http://www.wikidata.org/entity/>\n",
    "        PREFIX wdt: <http://www.wikidata.org/prop/direct/>\n",
    "        PREFIX rdfs: <http://www.w3.org/2000/01/rdf-schema#>\n",
    "\n",
    "        SELECT DISTINCT ?authorLabel ?pobLabel ?depLabel\n",
    "        WHERE {{\n",
    "            BIND(\"{0}\"@{1} AS ?authorLabel) .\n",
    "            ?author rdfs:label ?authorLabel .\n",
    "            ?author wdt:P31 wd:Q5 .\n",
    "            {{\n",
    "                {{\n",
    "                    ?author wdt:P106 wd:Q36180 .\n",
    "                }}\n",
    "                UNION\n",
    "                {{ \n",
    "                    ?author wdt:P106 ?prof .\n",
    "                    ?prof wdt:P279 wd:Q36180 .\n",
    "                }}\n",
    "            }}\n",
    "            ?author wdt:P19 ?pob .\n",
    "            {{\n",
    "                ?pob wdt:P31 wd:Q2555896 .\n",
    "            }}\n",
    "            UNION\n",
    "            {{\n",
    "                ?pob wdt:P31 wd:Q5119 .\n",
    "                ?pob wdt:P17 wd:Q739 .\n",
    "            }}\n",
    "            ?pob rdfs:label ?pobLabel .\n",
    "            FILTER(lang(?pobLabel)=\"{1}\")\n",
    "            OPTIONAL {{\n",
    "                ?pob wdt:P131 ?dep .\n",
    "                ?dep wdt:P31 wd:Q215655 .\n",
    "                ?dep rdfs:label ?depLabel .\n",
    "                FILTER(lang(?depLabel)=\"{1}\")\n",
    "            }}\n",
    "        }}\n",
    "    \"\"\"\n",
    "    query = template.format(name, lang)\n",
    "    url = 'https://query.wikidata.org/bigdata/namespace/wdq/sparql'\n",
    "    data = requests.get(url, params={'query': query, 'format': 'json'}).json()\n",
    "    return data"
   ]
  },
  {
   "cell_type": "code",
   "execution_count": 9,
   "metadata": {
    "collapsed": true
   },
   "outputs": [],
   "source": [
    "sparql_dbp = SPARQLWrapper(\"http://dbpedia.org/sparql\")\n",
    "\n",
    "def get_ciudad_departamento_autor_data_dbp(name, lang):\n",
    "    template = \"\"\"\n",
    "        PREFIX dbo: <http://dbpedia.org/ontology/>\n",
    "        PREFIX dbp: <http://dbpedia.org/property/>\n",
    "        PREFIX rdf: <http://www.w3.org/1999/02/22-rdf-syntax-ns#>\n",
    "        PREFIX rdfs: <http://www.w3.org/2000/01/rdf-schema#>\n",
    "        PREFIX yago: <http://dbpedia.org/class/yago/>\n",
    "\n",
    "        SELECT DISTINCT ?authorLabel ?pobLabel ?depLabel\n",
    "        WHERE {{\n",
    "            BIND(\"{0}\"@{1} AS ?authorLabel) .\n",
    "            ?author rdfs:label ?authorLabel .\n",
    "            ?author rdf:type dbo:Person .\n",
    "            {{\n",
    "                {{\n",
    "                    ?author rdf:type dbo:Writer .\n",
    "                }}\n",
    "                UNION\n",
    "                {{\n",
    "                    ?author rdf:type ?prof .\n",
    "                    ?prof rdfs:subClassOf dbo:Writer .\n",
    "                }}\n",
    "            }}\n",
    "            ?author dbp:birthPlace ?pob .\n",
    "            ?pob rdf:type yago:WikicatMunicipalitiesOfColombia .\n",
    "            ?pob rdfs:label ?pobLabel .\n",
    "            FILTER(lang(?pobLabel)=\"{1}\")\n",
    "            OPTIONAL {{\n",
    "                ?pob dbo:isPartOf ?dep .\n",
    "                ?dep rdf:type yago:WikicatDepartmentsOfColombia .\n",
    "                ?dep rdfs:label ?depLabel .\n",
    "                FILTER(lang(?depLabel)=\"{1}\")\n",
    "            }}\n",
    "        }}\n",
    "    \"\"\"\n",
    "    query = template.format(name, lang)\n",
    "    sparql_dbp.setQuery(query)\n",
    "    sparql_dbp.setReturnFormat(JSON)\n",
    "    data = sparql_dbp.query().convert()\n",
    "    return data"
   ]
  },
  {
   "cell_type": "code",
   "execution_count": 10,
   "metadata": {
    "collapsed": false
   },
   "outputs": [],
   "source": [
    "error_autores = set()\n",
    "\n",
    "def get_ciudad_departamento_autor_data(db, name, lang):\n",
    "    pob = 'UNKNOWN'\n",
    "    dep = 'UNKNOWN'\n",
    "    try:\n",
    "        if db == 'wdt':\n",
    "            data = get_ciudad_departamento_autor_data_wkd(name, lang)\n",
    "        elif db == 'dbp':\n",
    "            data = get_ciudad_departamento_autor_data_dbp(name, lang)\n",
    "        \n",
    "        results = data['results']['bindings']\n",
    "        if results:\n",
    "            if len(results) > 1:\n",
    "                print('MáS DE UNA CIUDAD Y/O DEPARTAMENTO PARA', name, ':', results)\n",
    "            r = results[0]\n",
    "            if 'pobLabel' in r:\n",
    "                pob = r['pobLabel']['value']\n",
    "            else:\n",
    "                pob = 'UNKNOWN'\n",
    "            if 'depLabel' in r:\n",
    "                dep = r['depLabel']['value']\n",
    "            else:\n",
    "                dep = 'UNKNOWN'\n",
    "    except Exception as e:\n",
    "        print('ERROR EN SPARQL PARA', name)\n",
    "        error_autores.add(name)\n",
    "    return (pob, dep)"
   ]
  },
  {
   "cell_type": "code",
   "execution_count": 11,
   "metadata": {
    "collapsed": true
   },
   "outputs": [],
   "source": [
    "def get_ciudad_departamento_autor(name):\n",
    "    result = ('DESCONOCIDO', 'DESCONOCIDO')\n",
    "    for lang in ['es', 'en']:\n",
    "        for db in ['wdt', 'dbp']:\n",
    "            r = get_ciudad_departamento_autor_data(db, name, lang)\n",
    "            if r[0] != 'UNKNOWN':\n",
    "                if r[1] == 'UNKNOWN':\n",
    "                    result = (r[0], 'DESCONOCIDO')\n",
    "                else: #r[1] != 'UNKNOWN'\n",
    "                    result = r\n",
    "                    return result\n",
    "    return result"
   ]
  },
  {
   "cell_type": "code",
   "execution_count": 12,
   "metadata": {
    "collapsed": false
   },
   "outputs": [
    {
     "name": "stdout",
     "output_type": "stream",
     "text": [
      "CPU times: user 7.76 s, sys: 196 ms, total: 7.96 s\n",
      "Wall time: 1min 50s\n"
     ]
    }
   ],
   "source": [
    "%%time\n",
    "\n",
    "autores_ciudades_departamentos_dict = {}\n",
    "\n",
    "for x in autores_colombianos_df['NOMBRE_LOCALIZADO'].unique():\n",
    "    autores_ciudades_departamentos_dict[x] = get_ciudad_departamento_autor(x)"
   ]
  },
  {
   "cell_type": "code",
   "execution_count": 13,
   "metadata": {
    "collapsed": false
   },
   "outputs": [
    {
     "name": "stdout",
     "output_type": "stream",
     "text": [
      "CPU times: user 0 ns, sys: 0 ns, total: 0 ns\n",
      "Wall time: 4.29 µs\n"
     ]
    }
   ],
   "source": [
    "%%time\n",
    "\n",
    "for x in error_autores:\n",
    "    autores_ciudades_departamentos_dict[x] = get_ciudad_departamento_autor(x)"
   ]
  },
  {
   "cell_type": "code",
   "execution_count": 14,
   "metadata": {
    "collapsed": false
   },
   "outputs": [
    {
     "name": "stdout",
     "output_type": "stream",
     "text": [
      "CPU times: user 97.5 ms, sys: 0 ns, total: 97.5 ms\n",
      "Wall time: 96.4 ms\n"
     ]
    }
   ],
   "source": [
    "%%time\n",
    "\n",
    "def process_ciudad(x):\n",
    "    return autores_ciudades_departamentos_dict[x['NOMBRE_LOCALIZADO']][0]\n",
    "\n",
    "autores_colombianos_df['CIUDAD_AUTOR'] = autores_colombianos_df.apply(process_ciudad, axis=1)"
   ]
  },
  {
   "cell_type": "code",
   "execution_count": 15,
   "metadata": {
    "collapsed": false
   },
   "outputs": [
    {
     "name": "stdout",
     "output_type": "stream",
     "text": [
      "CPU times: user 75.9 ms, sys: 0 ns, total: 75.9 ms\n",
      "Wall time: 74.3 ms\n"
     ]
    }
   ],
   "source": [
    "%%time\n",
    "\n",
    "def process_departamento(x):\n",
    "    return autores_ciudades_departamentos_dict[x['NOMBRE_LOCALIZADO']][1]\n",
    "\n",
    "autores_colombianos_df['DEPARTAMENTO_AUTOR'] = autores_colombianos_df.apply(process_departamento, axis=1)"
   ]
  },
  {
   "cell_type": "markdown",
   "metadata": {},
   "source": [
    "# Saving results"
   ]
  },
  {
   "cell_type": "code",
   "execution_count": 16,
   "metadata": {
    "collapsed": true
   },
   "outputs": [],
   "source": [
    "autores_colombianos_df.to_csv('autores_colombianos_1.csv', index=False)"
   ]
  },
  {
   "cell_type": "code",
   "execution_count": null,
   "metadata": {
    "collapsed": true
   },
   "outputs": [],
   "source": []
  }
 ],
 "metadata": {
  "kernelspec": {
   "display_name": "Python 3",
   "language": "python",
   "name": "python3"
  },
  "language_info": {
   "codemirror_mode": {
    "name": "ipython",
    "version": 3
   },
   "file_extension": ".py",
   "mimetype": "text/x-python",
   "name": "python",
   "nbconvert_exporter": "python",
   "pygments_lexer": "ipython3",
   "version": "3.4.3"
  }
 },
 "nbformat": 4,
 "nbformat_minor": 1
}
