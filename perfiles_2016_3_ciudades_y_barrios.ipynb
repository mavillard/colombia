{
 "cells": [
  {
   "cell_type": "code",
   "execution_count": 1,
   "metadata": {
    "collapsed": true
   },
   "outputs": [],
   "source": [
    "import csv\n",
    "import os\n",
    "from collections import Counter\n",
    "from collections import defaultdict\n",
    "from datetime import datetime\n",
    "from datetime import timedelta\n",
    "from string import punctuation\n",
    "\n",
    "import matplotlib\n",
    "import numpy as np\n",
    "import pandas as pd\n",
    "import seaborn as sns\n",
    "from matplotlib import pyplot as plt\n",
    "from nltk.corpus import stopwords\n",
    "from pandas.tslib import Timestamp"
   ]
  },
  {
   "cell_type": "markdown",
   "metadata": {},
   "source": [
    "# Spelling corrector (based on http://norvig.com/spell-correct.html)"
   ]
  },
  {
   "cell_type": "code",
   "execution_count": 2,
   "metadata": {
    "collapsed": false
   },
   "outputs": [],
   "source": [
    "def P(word):\n",
    "    \"Probability of `word`.\"\n",
    "    N = sum(WORDS.values())\n",
    "    return WORDS[word] / N\n",
    "\n",
    "def correction(word):\n",
    "    \"Most probable spelling correction for word.\"\n",
    "    return max(candidates(word), key=P)\n",
    "\n",
    "# def candidates(word):\n",
    "#     \"Generate possible spelling corrections for word.\"\n",
    "#     return (known([word]) or known(edits1(word)) or known(edits2(word)) or [word])\n",
    "\n",
    "def candidates(word):\n",
    "    \"Generate possible spelling corrections for word.\"\n",
    "    return (known([word]) or known(edits1(word)) or [word])\n",
    "\n",
    "def known(words):\n",
    "    \"The subset of `words` that appear in the dictionary of WORDS.\"\n",
    "    return set(w for w in words if w in WORDS)\n",
    "\n",
    "def edits1(word):\n",
    "    \"All edits that are one edit away from `word`.\"\n",
    "    letters    = 'abcdefghijklmnñopqrstuvwxyz'\n",
    "    splits     = [(word[:i], word[i:])    for i in range(len(word) + 1)]\n",
    "    deletes    = [L + R[1:]               for L, R in splits if R]\n",
    "    transposes = [L + R[1] + R[0] + R[2:] for L, R in splits if len(R)>1]\n",
    "    replaces   = [L + c + R[1:]           for L, R in splits if R for c in letters]\n",
    "    inserts    = [L + c + R               for L, R in splits for c in letters]\n",
    "    return set(deletes + transposes + replaces + inserts)\n",
    "\n",
    "# def edits2(word):\n",
    "#     \"All edits that are two edits away from `word`.\"\n",
    "#     return (e2 for e1 in edits1(word) for e2 in edits1(e1))"
   ]
  },
  {
   "cell_type": "markdown",
   "metadata": {},
   "source": [
    "# Ciudades y barrios"
   ]
  },
  {
   "cell_type": "markdown",
   "metadata": {},
   "source": [
    "## Socios activos 2016"
   ]
  },
  {
   "cell_type": "code",
   "execution_count": 3,
   "metadata": {
    "collapsed": true
   },
   "outputs": [],
   "source": [
    "# 1.       CTA: categoría para niños y jóvenes hasta bachillerato\n",
    "# 2.       CTI: categoría infantil, hasta doce años y solo es para Bogotá (blaa –biblioteca Luis Ángel Arango)\n",
    "# 3.       CTB: público general (solo permite préstamo de libros)\n",
    "# 4.       CTC: público en general (permite préstamo de libros y material audiovisual)\n",
    "# 5.       CTF: categoría familiar, pueden acceder a los beneficios hasta tres personas del grupo familiar que se asocia\n",
    "# 6.       CE1, CE2, CE2: categorías empresariales (solo para instituciones)\n",
    "# 7.       CIS: categoría Inclusión Social\n",
    "# 8.       CTU: categoría Universitaria\n",
    "# 9.       VIP: Investigadores, préstamo de 30 materiales (libros y material audiovisual)\n",
    "\n",
    "#      Categoría de lector: CE1 Categoría empresarial                                   218\n",
    "#      Categoría de lector: CE2 Categoría empresarial 2                                   5\n",
    "#      Categoría de lector: CEM Categoría Empleado/Pensionado                          1593\n",
    "#      Categoría de lector: CIN Categoría Interbibliotecario                            128\n",
    "#      Categoría de lector: CIP Categoría Investigador                                  351\n",
    "#      Categoría de lector: CIS Categoría Inclusión Preferencial                      15974\n",
    "#      Categoría de lector: CIV Categoría Investigadores                                 72\n",
    "#      Categoría de lector: CML Categoría Mediador de Proyectos Culturales                2\n",
    "#      Categoría de lector: CSU Categoría Sucursal                                       91\n",
    "#      Categoría de lector: CTA Categoría Básica A                                    10610\n",
    "#      Categoría de lector: CTB Categoría B                                            1359\n",
    "#      Categoría de lector: CTC Categoría C                                             224\n",
    "#      Categoría de lector: CTF Categoría familiar                                     1105\n",
    "#      Categoría de lector: CTI Categoría Infantil                                     1004\n",
    "#      Categoría de lector: CTU Categoría General                                     17402\n",
    "#      Categoría de lector: PTE PROCESOS TÉCNICOS                                        95"
   ]
  },
  {
   "cell_type": "code",
   "execution_count": 4,
   "metadata": {
    "collapsed": false
   },
   "outputs": [
    {
     "name": "stdout",
     "output_type": "stream",
     "text": [
      "CPU times: user 399 ms, sys: 91 µs, total: 399 ms\n",
      "Wall time: 397 ms\n"
     ]
    }
   ],
   "source": [
    "%%time\n",
    "\n",
    "dtypes = {\n",
    "    'CODBAR': str,\n",
    "    'Sucursal': str,\n",
    "    'Tratamiento': str,\n",
    "    'Barrio': str,\n",
    "    'Ciudad': str,\n",
    "    'CATEG': str,\n",
    "    'Ocupación1': str,\n",
    "    'Nivel Estudio1': str,\n",
    "    'Área de Estudio1': str,\n",
    "    'Fech. Nacim': pd.tslib.Timestamp,\n",
    "    'Edad': float,\n",
    "}\n",
    "\n",
    "perfiles_df = pd.read_csv('socios_activos_2016.csv', header=0, dtype=dtypes, parse_dates=['Fech. Nacim'])\n",
    "perfiles_df = perfiles_df.fillna('')"
   ]
  },
  {
   "cell_type": "code",
   "execution_count": 5,
   "metadata": {
    "collapsed": false
   },
   "outputs": [
    {
     "data": {
      "text/plain": [
       "(50272, 11)"
      ]
     },
     "execution_count": 5,
     "metadata": {},
     "output_type": "execute_result"
    }
   ],
   "source": [
    "perfiles_df.shape"
   ]
  },
  {
   "cell_type": "code",
   "execution_count": 6,
   "metadata": {
    "collapsed": false
   },
   "outputs": [
    {
     "data": {
      "text/html": [
       "<div>\n",
       "<table border=\"1\" class=\"dataframe\">\n",
       "  <thead>\n",
       "    <tr style=\"text-align: right;\">\n",
       "      <th></th>\n",
       "      <th>CODBAR</th>\n",
       "      <th>Sucursal</th>\n",
       "      <th>Tratamiento</th>\n",
       "      <th>Barrio</th>\n",
       "      <th>Ciudad</th>\n",
       "      <th>CATEG</th>\n",
       "      <th>Ocupación1</th>\n",
       "      <th>Nivel Estudio1</th>\n",
       "      <th>Área de Estudio1</th>\n",
       "      <th>Fech. Nacim</th>\n",
       "      <th>Edad</th>\n",
       "    </tr>\n",
       "  </thead>\n",
       "  <tbody>\n",
       "    <tr>\n",
       "      <th>0</th>\n",
       "      <td>88180782</td>\n",
       "      <td>BLAA</td>\n",
       "      <td></td>\n",
       "      <td>chapinero</td>\n",
       "      <td>bogota colombia</td>\n",
       "      <td>CIN</td>\n",
       "      <td>universidad</td>\n",
       "      <td></td>\n",
       "      <td></td>\n",
       "      <td></td>\n",
       "      <td></td>\n",
       "    </tr>\n",
       "    <tr>\n",
       "      <th>1</th>\n",
       "      <td>88183608</td>\n",
       "      <td>BLAA</td>\n",
       "      <td>sra.</td>\n",
       "      <td>ayacuyo ii</td>\n",
       "      <td>bogota colombia</td>\n",
       "      <td>CEM</td>\n",
       "      <td>pensionado</td>\n",
       "      <td></td>\n",
       "      <td></td>\n",
       "      <td>1957-07-30 00:00:00</td>\n",
       "      <td>59</td>\n",
       "    </tr>\n",
       "    <tr>\n",
       "      <th>2</th>\n",
       "      <td>88181732</td>\n",
       "      <td>BLAA</td>\n",
       "      <td>sra.</td>\n",
       "      <td>icata</td>\n",
       "      <td>bogota colombia</td>\n",
       "      <td>CEM</td>\n",
       "      <td>empleado</td>\n",
       "      <td>profesional</td>\n",
       "      <td>filosofía y letras</td>\n",
       "      <td></td>\n",
       "      <td></td>\n",
       "    </tr>\n",
       "    <tr>\n",
       "      <th>3</th>\n",
       "      <td>88182347</td>\n",
       "      <td>ARM</td>\n",
       "      <td>sr.</td>\n",
       "      <td>montenegro</td>\n",
       "      <td>montenegro colombia</td>\n",
       "      <td>CEM</td>\n",
       "      <td>empleado</td>\n",
       "      <td>profesional</td>\n",
       "      <td>economía</td>\n",
       "      <td>1963-09-20 00:00:00</td>\n",
       "      <td>53</td>\n",
       "    </tr>\n",
       "    <tr>\n",
       "      <th>4</th>\n",
       "      <td>88181284</td>\n",
       "      <td>BLAA</td>\n",
       "      <td>sr.</td>\n",
       "      <td>la soledad</td>\n",
       "      <td>bogota colombia</td>\n",
       "      <td>CEM</td>\n",
       "      <td></td>\n",
       "      <td></td>\n",
       "      <td></td>\n",
       "      <td></td>\n",
       "      <td></td>\n",
       "    </tr>\n",
       "  </tbody>\n",
       "</table>\n",
       "</div>"
      ],
      "text/plain": [
       "     CODBAR Sucursal Tratamiento      Barrio               Ciudad CATEG  \\\n",
       "0  88180782     BLAA               chapinero      bogota colombia   CIN   \n",
       "1  88183608     BLAA        sra.  ayacuyo ii      bogota colombia   CEM   \n",
       "2  88181732     BLAA        sra.       icata      bogota colombia   CEM   \n",
       "3  88182347      ARM         sr.  montenegro  montenegro colombia   CEM   \n",
       "4  88181284     BLAA         sr.  la soledad      bogota colombia   CEM   \n",
       "\n",
       "    Ocupación1 Nivel Estudio1    Área de Estudio1          Fech. Nacim Edad  \n",
       "0  universidad                                                               \n",
       "1   pensionado                                     1957-07-30 00:00:00   59  \n",
       "2     empleado    profesional  filosofía y letras                            \n",
       "3     empleado    profesional            economía  1963-09-20 00:00:00   53  \n",
       "4                                                                            "
      ]
     },
     "execution_count": 6,
     "metadata": {},
     "output_type": "execute_result"
    }
   ],
   "source": [
    "perfiles_df.head()"
   ]
  },
  {
   "cell_type": "markdown",
   "metadata": {},
   "source": [
    "## Ciudades, población y departamentos (Wikipedia)"
   ]
  },
  {
   "cell_type": "code",
   "execution_count": 7,
   "metadata": {
    "collapsed": false
   },
   "outputs": [],
   "source": [
    "dtypes = {\n",
    "    'Ciudad': str,\n",
    "    'Población': np.int32,\n",
    "    'Departamento': str,\n",
    "}\n",
    "\n",
    "ciudades_df = pd.read_csv(\n",
    "    'ciudades_colombia.csv',\n",
    "    sep='\\t',\n",
    "    header=-1,\n",
    "    names=['Wiki index', 'Ciudad', 'Población', 'Departamento'],\n",
    "    usecols=['Ciudad', 'Población', 'Departamento'],\n",
    "    dtype=dtypes,\n",
    "    thousands='.',\n",
    ")"
   ]
  },
  {
   "cell_type": "code",
   "execution_count": 8,
   "metadata": {
    "collapsed": false
   },
   "outputs": [
    {
     "data": {
      "text/html": [
       "<div>\n",
       "<table border=\"1\" class=\"dataframe\">\n",
       "  <thead>\n",
       "    <tr style=\"text-align: right;\">\n",
       "      <th></th>\n",
       "      <th>Ciudad</th>\n",
       "      <th>Población</th>\n",
       "      <th>Departamento</th>\n",
       "    </tr>\n",
       "  </thead>\n",
       "  <tbody>\n",
       "    <tr>\n",
       "      <th>0</th>\n",
       "      <td>Bogotá</td>\n",
       "      <td>7840116</td>\n",
       "      <td>Cundinamarca</td>\n",
       "    </tr>\n",
       "    <tr>\n",
       "      <th>1</th>\n",
       "      <td>Medellín</td>\n",
       "      <td>2214494</td>\n",
       "      <td>Antioquia</td>\n",
       "    </tr>\n",
       "    <tr>\n",
       "      <th>2</th>\n",
       "      <td>Cali</td>\n",
       "      <td>2119908</td>\n",
       "      <td>Valle del Cauca</td>\n",
       "    </tr>\n",
       "    <tr>\n",
       "      <th>3</th>\n",
       "      <td>Barranquilla</td>\n",
       "      <td>1146359</td>\n",
       "      <td>Atlántico</td>\n",
       "    </tr>\n",
       "    <tr>\n",
       "      <th>4</th>\n",
       "      <td>Cartagena</td>\n",
       "      <td>892545</td>\n",
       "      <td>Bolívar</td>\n",
       "    </tr>\n",
       "  </tbody>\n",
       "</table>\n",
       "</div>"
      ],
      "text/plain": [
       "         Ciudad  Población     Departamento\n",
       "0        Bogotá    7840116     Cundinamarca\n",
       "1      Medellín    2214494        Antioquia\n",
       "2          Cali    2119908  Valle del Cauca\n",
       "3  Barranquilla    1146359        Atlántico\n",
       "4     Cartagena     892545          Bolívar"
      ]
     },
     "execution_count": 8,
     "metadata": {},
     "output_type": "execute_result"
    }
   ],
   "source": [
    "ciudades_df.head()"
   ]
  },
  {
   "cell_type": "code",
   "execution_count": 9,
   "metadata": {
    "collapsed": false
   },
   "outputs": [
    {
     "name": "stdout",
     "output_type": "stream",
     "text": [
      "CPU times: user 27.5 ms, sys: 0 ns, total: 27.5 ms\n",
      "Wall time: 26.8 ms\n"
     ]
    }
   ],
   "source": [
    "%%time\n",
    "\n",
    "def process_field_ciudad(x):\n",
    "    r = x['Ciudad'].strip().lower()\n",
    "    r = r.replace('á', 'a').replace('é', 'e').replace('í', 'i').replace('ó', 'o').replace('ú', 'u')\n",
    "    return r\n",
    "\n",
    "ciudades_df['Ciudad'] = ciudades_df.apply(process_field_ciudad, axis=1)"
   ]
  },
  {
   "cell_type": "code",
   "execution_count": 10,
   "metadata": {
    "collapsed": false
   },
   "outputs": [
    {
     "name": "stdout",
     "output_type": "stream",
     "text": [
      "CPU times: user 35.4 ms, sys: 0 ns, total: 35.4 ms\n",
      "Wall time: 34.5 ms\n"
     ]
    }
   ],
   "source": [
    "%%time\n",
    "\n",
    "def process_field_departamento(x):\n",
    "    r = x['Departamento'].strip().lower()\n",
    "    r = r.replace('á', 'a').replace('é', 'e').replace('í', 'i').replace('ó', 'o').replace('ú', 'u')\n",
    "    return r\n",
    "\n",
    "ciudades_df['Departamento'] = ciudades_df.apply(process_field_departamento, axis=1)"
   ]
  },
  {
   "cell_type": "code",
   "execution_count": 11,
   "metadata": {
    "collapsed": false
   },
   "outputs": [
    {
     "data": {
      "text/html": [
       "<div>\n",
       "<table border=\"1\" class=\"dataframe\">\n",
       "  <thead>\n",
       "    <tr style=\"text-align: right;\">\n",
       "      <th></th>\n",
       "      <th>Ciudad</th>\n",
       "      <th>Población</th>\n",
       "      <th>Departamento</th>\n",
       "    </tr>\n",
       "  </thead>\n",
       "  <tbody>\n",
       "    <tr>\n",
       "      <th>0</th>\n",
       "      <td>bogota</td>\n",
       "      <td>7840116</td>\n",
       "      <td>cundinamarca</td>\n",
       "    </tr>\n",
       "    <tr>\n",
       "      <th>1</th>\n",
       "      <td>medellin</td>\n",
       "      <td>2214494</td>\n",
       "      <td>antioquia</td>\n",
       "    </tr>\n",
       "    <tr>\n",
       "      <th>2</th>\n",
       "      <td>cali</td>\n",
       "      <td>2119908</td>\n",
       "      <td>valle del cauca</td>\n",
       "    </tr>\n",
       "    <tr>\n",
       "      <th>3</th>\n",
       "      <td>barranquilla</td>\n",
       "      <td>1146359</td>\n",
       "      <td>atlantico</td>\n",
       "    </tr>\n",
       "    <tr>\n",
       "      <th>4</th>\n",
       "      <td>cartagena</td>\n",
       "      <td>892545</td>\n",
       "      <td>bolivar</td>\n",
       "    </tr>\n",
       "  </tbody>\n",
       "</table>\n",
       "</div>"
      ],
      "text/plain": [
       "         Ciudad  Población     Departamento\n",
       "0        bogota    7840116     cundinamarca\n",
       "1      medellin    2214494        antioquia\n",
       "2          cali    2119908  valle del cauca\n",
       "3  barranquilla    1146359        atlantico\n",
       "4     cartagena     892545          bolivar"
      ]
     },
     "execution_count": 11,
     "metadata": {},
     "output_type": "execute_result"
    }
   ],
   "source": [
    "ciudades_df.head()"
   ]
  },
  {
   "cell_type": "code",
   "execution_count": 12,
   "metadata": {
    "collapsed": false
   },
   "outputs": [],
   "source": [
    "ciudades_counter = Counter(dict((x['Ciudad'], x['Población']) for i, x in ciudades_df.iterrows()))"
   ]
  },
  {
   "cell_type": "code",
   "execution_count": 13,
   "metadata": {
    "collapsed": false
   },
   "outputs": [],
   "source": [
    "departamentos_df = ciudades_df.groupby('Departamento').sum()\n",
    "departamentos_counter = Counter(dict((i, x['Población']) for i, x in departamentos_df.iterrows()))\n",
    "departamentos_counter['colombia'] = departamentos_df['Población'].sum()"
   ]
  },
  {
   "cell_type": "code",
   "execution_count": 14,
   "metadata": {
    "collapsed": true
   },
   "outputs": [],
   "source": [
    "common = set(ciudades_counter).intersection(departamentos_counter)"
   ]
  },
  {
   "cell_type": "code",
   "execution_count": 15,
   "metadata": {
    "collapsed": false
   },
   "outputs": [
    {
     "data": {
      "text/plain": [
       "{'arauca',\n",
       " 'bolivar',\n",
       " 'boyaca',\n",
       " 'caldas',\n",
       " 'colombia',\n",
       " 'cordoba',\n",
       " 'nariño',\n",
       " 'risaralda',\n",
       " 'sucre'}"
      ]
     },
     "execution_count": 15,
     "metadata": {},
     "output_type": "execute_result"
    }
   ],
   "source": [
    "common"
   ]
  },
  {
   "cell_type": "markdown",
   "metadata": {},
   "source": [
    "# Limpiando datos"
   ]
  },
  {
   "cell_type": "markdown",
   "metadata": {
    "collapsed": true
   },
   "source": [
    "## Ciudades"
   ]
  },
  {
   "cell_type": "code",
   "execution_count": 16,
   "metadata": {
    "collapsed": false
   },
   "outputs": [
    {
     "data": {
      "text/plain": [
       "1327"
      ]
     },
     "execution_count": 16,
     "metadata": {},
     "output_type": "execute_result"
    }
   ],
   "source": [
    "perfiles_df['Ciudad'].nunique()"
   ]
  },
  {
   "cell_type": "code",
   "execution_count": 17,
   "metadata": {
    "collapsed": false
   },
   "outputs": [
    {
     "data": {
      "text/plain": [
       "bogota colombia    18523\n",
       "bogota              4384\n",
       "tunja colombia      2921\n",
       "ibague colombia     2179\n",
       "neiva colombia      1744\n",
       "Name: Ciudad, dtype: int64"
      ]
     },
     "execution_count": 17,
     "metadata": {},
     "output_type": "execute_result"
    }
   ],
   "source": [
    "perfiles_df['Ciudad'].value_counts().head()"
   ]
  },
  {
   "cell_type": "markdown",
   "metadata": {},
   "source": [
    "### Eliminando signos de puntuación"
   ]
  },
  {
   "cell_type": "code",
   "execution_count": 18,
   "metadata": {
    "collapsed": false
   },
   "outputs": [
    {
     "name": "stdout",
     "output_type": "stream",
     "text": [
      "CPU times: user 1.82 s, sys: 4.11 ms, total: 1.83 s\n",
      "Wall time: 1.83 s\n"
     ]
    }
   ],
   "source": [
    "%%time\n",
    "\n",
    "def delete_punctuation(x):\n",
    "    r = x['Ciudad']\n",
    "    for p in punctuation:\n",
    "        r = r.replace(p, ' ')\n",
    "    r = ' '.join(r.split())\n",
    "    return r\n",
    "\n",
    "perfiles_df['Ciudad'] = perfiles_df.apply(delete_punctuation, axis=1)"
   ]
  },
  {
   "cell_type": "code",
   "execution_count": 19,
   "metadata": {
    "collapsed": false
   },
   "outputs": [
    {
     "data": {
      "text/plain": [
       "1146"
      ]
     },
     "execution_count": 19,
     "metadata": {},
     "output_type": "execute_result"
    }
   ],
   "source": [
    "perfiles_df['Ciudad'].nunique()"
   ]
  },
  {
   "cell_type": "markdown",
   "metadata": {},
   "source": [
    "### Corregiendo terminaciones"
   ]
  },
  {
   "cell_type": "code",
   "execution_count": 20,
   "metadata": {
    "collapsed": false
   },
   "outputs": [],
   "source": [
    "endings = []\n",
    "for x in perfiles_df['Ciudad']:\n",
    "    y = x.split()\n",
    "    if len(y) > 1:\n",
    "        z = y[-1]\n",
    "        endings.append(z)\n",
    "endings_counter = Counter(endings)"
   ]
  },
  {
   "cell_type": "code",
   "execution_count": 21,
   "metadata": {
    "collapsed": false
   },
   "outputs": [
    {
     "data": {
      "text/plain": [
       "[('colombia', 40101),\n",
       " ('col', 2525),\n",
       " ('cundinamarca', 163),\n",
       " ('amazonas', 67),\n",
       " ('tolima', 52),\n",
       " ('atlantico', 33),\n",
       " ('colobia', 31),\n",
       " ('quindio', 27),\n",
       " ('cauca', 27),\n",
       " ('brasil', 21),\n",
       " ('caldas', 19),\n",
       " ('bogota', 18),\n",
       " ('coombia', 17),\n",
       " ('santander', 16),\n",
       " ('colombi', 16),\n",
       " ('isla', 16),\n",
       " ('andres', 16),\n",
       " ('huila', 14),\n",
       " ('antioquia', 13),\n",
       " ('marta', 13),\n",
       " ('colomia', 13),\n",
       " ('cordoba', 12),\n",
       " ('clombia', 11),\n",
       " ('sucre', 11),\n",
       " ('colomnbia', 11),\n",
       " ('bolivar', 10),\n",
       " ('colomiba', 10),\n",
       " ('olombia', 9),\n",
       " ('colmbia', 8),\n",
       " ('bia', 8),\n",
       " ('choco', 8),\n",
       " ('coolombia', 8),\n",
       " ('cund', 7),\n",
       " ('c', 7),\n",
       " ('nariño', 6),\n",
       " ('calera', 6),\n",
       " ('valle', 6),\n",
       " ('cundinamrca', 6),\n",
       " ('islas', 5),\n",
       " ('colomba', 5),\n",
       " ('colomvbia', 5),\n",
       " ('boyaca', 5),\n",
       " ('cololombia', 5),\n",
       " ('coilombia', 4),\n",
       " ('cololmbia', 4),\n",
       " ('colombias', 4),\n",
       " ('colommbia', 4),\n",
       " ('colombnia', 4),\n",
       " ('colombbia', 4),\n",
       " ('rosario', 3)]"
      ]
     },
     "execution_count": 21,
     "metadata": {},
     "output_type": "execute_result"
    }
   ],
   "source": [
    "endings_counter.most_common(50)"
   ]
  },
  {
   "cell_type": "code",
   "execution_count": 22,
   "metadata": {
    "collapsed": false
   },
   "outputs": [
    {
     "name": "stdout",
     "output_type": "stream",
     "text": [
      "CPU times: user 1.54 s, sys: 3.45 ms, total: 1.55 s\n",
      "Wall time: 1.54 s\n"
     ]
    }
   ],
   "source": [
    "%%time\n",
    "\n",
    "def correct_endings(x):\n",
    "    r = x['Ciudad']\n",
    "    rl = r.split()\n",
    "    while len(rl) > 1 and (rl[-1] in departamentos_counter or rl[-1] in ['col', 'isla', 'cund', 'islas']):\n",
    "        rl = rl[:-1]\n",
    "    r = ' '.join(rl)\n",
    "    return r\n",
    "\n",
    "perfiles_df['Ciudad'] = perfiles_df.apply(correct_endings, axis=1)"
   ]
  },
  {
   "cell_type": "code",
   "execution_count": 23,
   "metadata": {
    "collapsed": false
   },
   "outputs": [
    {
     "data": {
      "text/plain": [
       "896"
      ]
     },
     "execution_count": 23,
     "metadata": {},
     "output_type": "execute_result"
    }
   ],
   "source": [
    "perfiles_df['Ciudad'].nunique()"
   ]
  },
  {
   "cell_type": "markdown",
   "metadata": {},
   "source": [
    "### Corregiendo abreviaciones"
   ]
  },
  {
   "cell_type": "code",
   "execution_count": 24,
   "metadata": {
    "collapsed": false
   },
   "outputs": [
    {
     "name": "stdout",
     "output_type": "stream",
     "text": [
      "CPU times: user 3.23 s, sys: 0 ns, total: 3.23 s\n",
      "Wall time: 3.23 s\n"
     ]
    }
   ],
   "source": [
    "%%time\n",
    "\n",
    "def correct_abrevs(x):\n",
    "    c1 = x['Ciudad']\n",
    "    r = c1\n",
    "    if c1 not in ciudades_counter:\n",
    "        candidates = set()\n",
    "        if len(c1) > 1 and len(c1.split()) == 1:\n",
    "            for c2 in ciudades_counter:\n",
    "                if len(c2.split()) == 1  and c2 != c1 and c2.startswith(c1):\n",
    "                    candidates.add(c2)\n",
    "            if candidates:\n",
    "                r = max([(c, ciudades_counter[c]) for c in candidates], key=lambda x: x[1])[0]\n",
    "    return r\n",
    "\n",
    "perfiles_df['Ciudad'] = perfiles_df.apply(correct_abrevs, axis=1)"
   ]
  },
  {
   "cell_type": "code",
   "execution_count": 25,
   "metadata": {
    "collapsed": false
   },
   "outputs": [
    {
     "data": {
      "text/plain": [
       "878"
      ]
     },
     "execution_count": 25,
     "metadata": {},
     "output_type": "execute_result"
    }
   ],
   "source": [
    "perfiles_df['Ciudad'].nunique()"
   ]
  },
  {
   "cell_type": "markdown",
   "metadata": {},
   "source": [
    "### Corregiendo nombres de ciudades"
   ]
  },
  {
   "cell_type": "code",
   "execution_count": 26,
   "metadata": {
    "collapsed": true
   },
   "outputs": [],
   "source": [
    "WORDS = None"
   ]
  },
  {
   "cell_type": "code",
   "execution_count": 27,
   "metadata": {
    "collapsed": true
   },
   "outputs": [],
   "source": [
    "correcciones_aux = {}\n",
    "for c in ciudades_counter:\n",
    "    correcciones_aux[(c, 'ciudad')] = c\n",
    "for c in departamentos_counter:\n",
    "    correcciones_aux[(c, 'departamento')] = c\n",
    "    for w in c.split():\n",
    "        correcciones_aux[(w, 'departamento')] = w"
   ]
  },
  {
   "cell_type": "code",
   "execution_count": 28,
   "metadata": {
    "collapsed": false
   },
   "outputs": [],
   "source": [
    "ciudad_dept_df = ciudades_df.set_index('Ciudad')['Departamento']\n",
    "\n",
    "ciudades_departamentos_dict = defaultdict(set)\n",
    "for c, d in ciudad_dept_df.iteritems():\n",
    "    ciudades_departamentos_dict[c].add(d)\n",
    "ciudades_departamentos_dict = dict(ciudades_departamentos_dict)\n",
    "\n",
    "def check_departamento(x, y):\n",
    "    if x in ciudades_departamentos_dict and y in ciudades_departamentos_dict and \\\n",
    "       not ciudades_departamentos_dict[x].intersection(ciudades_departamentos_dict[y]):\n",
    "        r = x\n",
    "    else:\n",
    "        r = y\n",
    "    return r"
   ]
  },
  {
   "cell_type": "code",
   "execution_count": 29,
   "metadata": {
    "collapsed": false
   },
   "outputs": [
    {
     "name": "stdout",
     "output_type": "stream",
     "text": [
      "CPU times: user 1.77 s, sys: 3.91 ms, total: 1.77 s\n",
      "Wall time: 1.77 s\n"
     ]
    }
   ],
   "source": [
    "%%time\n",
    "\n",
    "def my_correction_1(x, tag):\n",
    "    global WORDS\n",
    "    if (x, tag) not in correcciones_aux:\n",
    "        if tag == 'ciudad':\n",
    "            WORDS = ciudades_counter\n",
    "        else: # tag == 'departamento'\n",
    "            WORDS = departamentos_counter\n",
    "        correcciones_aux[(x, tag)] = correction(x)\n",
    "    return correcciones_aux[(x, tag)]\n",
    "\n",
    "def correct_ciudad(x):\n",
    "    ciudad = x['Ciudad']\n",
    "    if not ciudad:\n",
    "        r = ciudad\n",
    "    elif ciudad in ciudades_counter:\n",
    "        r = ciudad\n",
    "    elif my_correction_1(ciudad, 'ciudad') in ciudades_counter:\n",
    "        aux = my_correction_1(ciudad, 'ciudad')\n",
    "        r = check_departamento(ciudad, aux)\n",
    "    else:\n",
    "        words = ciudad.split()\n",
    "        if len(words) == 1:\n",
    "            r = ciudad\n",
    "        else: # len(words) >= 2\n",
    "            ok = []\n",
    "            for w in words:\n",
    "                if not (w in departamentos_counter or my_correction_1(w, 'departamento') in departamentos_counter):\n",
    "                    ok.append(w)\n",
    "            aux = ' '.join(ok)\n",
    "            if aux in ciudades_counter:\n",
    "                r = aux\n",
    "            else:\n",
    "                aux = my_correction_1(aux, 'ciudad')\n",
    "                r = check_departamento(ciudad, aux)\n",
    "    return r\n",
    "\n",
    "perfiles_df['Ciudad'] = perfiles_df.apply(correct_ciudad, axis=1)"
   ]
  },
  {
   "cell_type": "code",
   "execution_count": 30,
   "metadata": {
    "collapsed": false
   },
   "outputs": [
    {
     "data": {
      "text/plain": [
       "524"
      ]
     },
     "execution_count": 30,
     "metadata": {},
     "output_type": "execute_result"
    }
   ],
   "source": [
    "perfiles_df['Ciudad'].nunique()"
   ]
  },
  {
   "cell_type": "markdown",
   "metadata": {
    "collapsed": true
   },
   "source": [
    "## Barrios"
   ]
  },
  {
   "cell_type": "code",
   "execution_count": 31,
   "metadata": {
    "collapsed": false
   },
   "outputs": [
    {
     "data": {
      "text/plain": [
       "11092"
      ]
     },
     "execution_count": 31,
     "metadata": {},
     "output_type": "execute_result"
    }
   ],
   "source": [
    "perfiles_df['Barrio'].nunique()"
   ]
  },
  {
   "cell_type": "code",
   "execution_count": 32,
   "metadata": {
    "collapsed": false
   },
   "outputs": [
    {
     "data": {
      "text/plain": [
       "centro       1153\n",
       "chapinero     430\n",
       "              361\n",
       "palermo       265\n",
       "fontibon      242\n",
       "Name: Barrio, dtype: int64"
      ]
     },
     "execution_count": 32,
     "metadata": {},
     "output_type": "execute_result"
    }
   ],
   "source": [
    "perfiles_df['Barrio'].value_counts().head()"
   ]
  },
  {
   "cell_type": "markdown",
   "metadata": {},
   "source": [
    "### Eliminando signos de puntuación"
   ]
  },
  {
   "cell_type": "code",
   "execution_count": 33,
   "metadata": {
    "collapsed": false
   },
   "outputs": [
    {
     "name": "stdout",
     "output_type": "stream",
     "text": [
      "CPU times: user 1.94 s, sys: 77 µs, total: 1.94 s\n",
      "Wall time: 1.93 s\n"
     ]
    }
   ],
   "source": [
    "%%time\n",
    "\n",
    "def delete_punctuation(x):\n",
    "    r = x['Barrio']\n",
    "    for p in punctuation:\n",
    "        r = r.replace(p, ' ')\n",
    "    r = ' '.join(r.split())\n",
    "    return r\n",
    "\n",
    "perfiles_df['Barrio'] = perfiles_df.apply(delete_punctuation, axis=1)"
   ]
  },
  {
   "cell_type": "code",
   "execution_count": 34,
   "metadata": {
    "collapsed": false
   },
   "outputs": [
    {
     "data": {
      "text/plain": [
       "10529"
      ]
     },
     "execution_count": 34,
     "metadata": {},
     "output_type": "execute_result"
    }
   ],
   "source": [
    "perfiles_df['Barrio'].nunique()"
   ]
  },
  {
   "cell_type": "markdown",
   "metadata": {},
   "source": [
    "### Eliminando otros caracteres"
   ]
  },
  {
   "cell_type": "code",
   "execution_count": 35,
   "metadata": {
    "collapsed": false
   },
   "outputs": [],
   "source": [
    "chars = set()\n",
    "\n",
    "for x in perfiles_df.groupby('Barrio').count().index:\n",
    "    y = x.replace(' ', '')\n",
    "    for z in y:\n",
    "        if not (z in '0123456789' or z in 'abcdefghijklmnñopqrstuvwxyz' or z in ' '):\n",
    "            chars.add(z)"
   ]
  },
  {
   "cell_type": "code",
   "execution_count": 36,
   "metadata": {
    "collapsed": false
   },
   "outputs": [
    {
     "data": {
      "text/plain": [
       "{'°', 'º', '¿', 'à', 'è', 'ì', 'ò', 'ö', 'ù', 'ü'}"
      ]
     },
     "execution_count": 36,
     "metadata": {},
     "output_type": "execute_result"
    }
   ],
   "source": [
    "chars"
   ]
  },
  {
   "cell_type": "code",
   "execution_count": 37,
   "metadata": {
    "collapsed": true
   },
   "outputs": [],
   "source": [
    "chars_corrections = {\n",
    "    '°': ' ',\n",
    "    'º': '',\n",
    "    '¿': '',\n",
    "    'à': 'a',\n",
    "    'è': 'e',\n",
    "    'ì': 'i',\n",
    "    'ò': 'o',\n",
    "    'ö': 'o',\n",
    "    'ù': 'u',\n",
    "    'ü': 'u'}"
   ]
  },
  {
   "cell_type": "code",
   "execution_count": 38,
   "metadata": {
    "collapsed": false
   },
   "outputs": [
    {
     "name": "stdout",
     "output_type": "stream",
     "text": [
      "CPU times: user 1.67 s, sys: 0 ns, total: 1.67 s\n",
      "Wall time: 1.67 s\n"
     ]
    }
   ],
   "source": [
    "%%time\n",
    "\n",
    "def delete_chars(x):\n",
    "    r = x['Barrio']\n",
    "    for p in chars_corrections:\n",
    "        r = r.replace(p, chars_corrections[p])\n",
    "    r = ' '.join(r.split())\n",
    "    return r\n",
    "\n",
    "perfiles_df['Barrio'] = perfiles_df.apply(delete_chars, axis=1)"
   ]
  },
  {
   "cell_type": "code",
   "execution_count": 39,
   "metadata": {
    "collapsed": false
   },
   "outputs": [
    {
     "data": {
      "text/plain": [
       "10512"
      ]
     },
     "execution_count": 39,
     "metadata": {},
     "output_type": "execute_result"
    }
   ],
   "source": [
    "perfiles_df['Barrio'].nunique()"
   ]
  },
  {
   "cell_type": "markdown",
   "metadata": {},
   "source": [
    "### Normalizando nombres de barrios"
   ]
  },
  {
   "cell_type": "code",
   "execution_count": 40,
   "metadata": {
    "collapsed": true
   },
   "outputs": [],
   "source": [
    "palabras = []\n",
    "for x in perfiles_df['Barrio']:\n",
    "    palabras.extend(x.split())\n",
    "palabras_counter = Counter(palabras)"
   ]
  },
  {
   "cell_type": "code",
   "execution_count": 41,
   "metadata": {
    "collapsed": false
   },
   "outputs": [
    {
     "name": "stdout",
     "output_type": "stream",
     "text": [
      "san 3145\n",
      "ii 486\n",
      "sur 446\n",
      "2 219\n",
      "sol 210\n",
      "1 199\n",
      "i 185\n",
      "20 154\n",
      "ana 153\n",
      "rio 151\n",
      "paz 150\n",
      "urb 125\n",
      "iii 116\n",
      "7 107\n",
      "vi 106\n",
      "av 106\n",
      "fe 105\n",
      "via 92\n",
      "luz 91\n",
      "sta 84\n",
      "b 79\n",
      "3 74\n",
      "iv 69\n",
      "bay 52\n",
      "vda 52\n",
      "12 49\n",
      "4 49\n",
      "rey 39\n",
      "n 39\n",
      "11 39\n",
      "j 38\n",
      "uvo 29\n",
      "s 28\n",
      "xii 27\n",
      "c 26\n",
      "5 26\n",
      "eva 26\n",
      "pio 26\n",
      "don 24\n",
      "km 21\n",
      "6 19\n",
      "d 19\n",
      "9 19\n",
      "15 18\n",
      "pie 18\n",
      "mar 18\n",
      "8 17\n",
      "ed 16\n",
      "p 16\n",
      "brr 15\n",
      "xxi 15\n",
      "xxx 15\n",
      "23 15\n",
      "dos 15\n",
      "31 13\n",
      "v 12\n",
      "jj 11\n",
      "ap 11\n",
      "et 11\n",
      "ix 10\n",
      "13 10\n",
      "ext 9\n",
      "14 9\n",
      "30 9\n",
      "10 9\n",
      "oro 8\n",
      "16 8\n",
      "29 8\n",
      "pan 8\n",
      "poa 8\n",
      "br 8\n"
     ]
    }
   ],
   "source": [
    "for x, y in palabras_counter.most_common():\n",
    "    if y > 7 and len(x) < 4 and x not in stopwords.words('spanish'):\n",
    "        print(x,y)"
   ]
  },
  {
   "cell_type": "code",
   "execution_count": 42,
   "metadata": {
    "collapsed": false
   },
   "outputs": [],
   "source": [
    "norm_barrios = {\n",
    "    'urb': 'urbanización',\n",
    "    'av': 'avenida',\n",
    "    'vda': 'vereda',\n",
    "    'sta': 'santa',\n",
    "    'brr': 'barrio',\n",
    "    'br': 'barrio',\n",
    "    'suc': 'sucurusal',\n",
    "    'ur': 'urbanización',\n",
    "    'u': 'urbanización',\n",
    "}"
   ]
  },
  {
   "cell_type": "code",
   "execution_count": 43,
   "metadata": {
    "collapsed": false
   },
   "outputs": [
    {
     "name": "stdout",
     "output_type": "stream",
     "text": [
      "CPU times: user 1.57 s, sys: 0 ns, total: 1.57 s\n",
      "Wall time: 1.57 s\n"
     ]
    }
   ],
   "source": [
    "%%time\n",
    "\n",
    "def normalize_barrios(x):\n",
    "    r = x['Barrio']\n",
    "    rl1 = r.split()\n",
    "    rl2 = []\n",
    "    for p in rl1:\n",
    "        if p not in norm_barrios:\n",
    "            rl2.append(p)\n",
    "        else:\n",
    "            rl2.append(norm_barrios[p])\n",
    "    r = ' '.join(rl2)\n",
    "    return r\n",
    "\n",
    "perfiles_df['Barrio'] = perfiles_df.apply(normalize_barrios, axis=1)"
   ]
  },
  {
   "cell_type": "code",
   "execution_count": 44,
   "metadata": {
    "collapsed": false
   },
   "outputs": [
    {
     "data": {
      "text/plain": [
       "10459"
      ]
     },
     "execution_count": 44,
     "metadata": {},
     "output_type": "execute_result"
    }
   ],
   "source": [
    "perfiles_df['Barrio'].nunique()"
   ]
  },
  {
   "cell_type": "markdown",
   "metadata": {},
   "source": [
    "### Eliminando el nombre de la ciudad y departamento"
   ]
  },
  {
   "cell_type": "code",
   "execution_count": 45,
   "metadata": {
    "collapsed": false
   },
   "outputs": [
    {
     "name": "stdout",
     "output_type": "stream",
     "text": [
      "CPU times: user 6.86 s, sys: 0 ns, total: 6.86 s\n",
      "Wall time: 6.86 s\n"
     ]
    }
   ],
   "source": [
    "%%time\n",
    "\n",
    "words = ['avenida', 'barrio', 'calle', 'ciudad', 'ciudadela', 'corregimiento', 'hacienda', 'nuevo', 'nueva',\n",
    "         'parque', 'paseo', 'punto', 'simon', 'sucursal', 'urbanizacion', 'vereda', 'via',\n",
    "         'de', 'del', 'el', 'la', 'los', 'las']\n",
    "\n",
    "def delete_nombre_ciudad_dept(x):\n",
    "    b = x['Barrio']\n",
    "    c = x['Ciudad']\n",
    "    r = b\n",
    "    if c:\n",
    "        if c in ciudad_dept_df.index:\n",
    "            dept = ciudad_dept_df.ix[c]\n",
    "            if isinstance(dept, str):\n",
    "                ds = [dept]\n",
    "            else: # isinstance(dept, pd.core.series.Series)\n",
    "                ds = list(dept)\n",
    "            for d in ds:\n",
    "                if b != d and b.endswith(' ' + d) and not any(b.endswith(x + ' ' + d) for x in words):\n",
    "                    i = r.rfind(d)\n",
    "                    r = r[:i-1]\n",
    "        if b != c and b.endswith(' ' + c) and not any(b.endswith(x + ' ' + c) for x in words):\n",
    "            i = r.rfind(c)\n",
    "            r = r[:i-1]\n",
    "    return r\n",
    "\n",
    "perfiles_df['Barrio'] = perfiles_df.apply(delete_nombre_ciudad_dept, axis=1)"
   ]
  },
  {
   "cell_type": "code",
   "execution_count": 46,
   "metadata": {
    "collapsed": false
   },
   "outputs": [
    {
     "data": {
      "text/plain": [
       "10423"
      ]
     },
     "execution_count": 46,
     "metadata": {},
     "output_type": "execute_result"
    }
   ],
   "source": [
    "perfiles_df['Barrio'].nunique()"
   ]
  },
  {
   "cell_type": "markdown",
   "metadata": {},
   "source": [
    "### Eliminando artículos"
   ]
  },
  {
   "cell_type": "code",
   "execution_count": 47,
   "metadata": {
    "collapsed": false
   },
   "outputs": [
    {
     "name": "stdout",
     "output_type": "stream",
     "text": [
      "CPU times: user 1.48 s, sys: 0 ns, total: 1.48 s\n",
      "Wall time: 1.48 s\n"
     ]
    }
   ],
   "source": [
    "%%time\n",
    "\n",
    "def delete_articulos(x):\n",
    "    b = x['Barrio']\n",
    "    r = b\n",
    "    if b.startswith('el ') or b.startswith('la '):\n",
    "        r = r[3:]\n",
    "    elif b.startswith('los ') or b.startswith('las '):\n",
    "        r = r[4:]\n",
    "    return r\n",
    "\n",
    "perfiles_df['Barrio'] = perfiles_df.apply(delete_articulos, axis=1)"
   ]
  },
  {
   "cell_type": "code",
   "execution_count": 48,
   "metadata": {
    "collapsed": false
   },
   "outputs": [
    {
     "data": {
      "text/plain": [
       "9911"
      ]
     },
     "execution_count": 48,
     "metadata": {},
     "output_type": "execute_result"
    }
   ],
   "source": [
    "perfiles_df['Barrio'].nunique()"
   ]
  },
  {
   "cell_type": "markdown",
   "metadata": {},
   "source": [
    "### Eliminando el nombre de la ciudad en 'centro'"
   ]
  },
  {
   "cell_type": "code",
   "execution_count": 49,
   "metadata": {
    "collapsed": false
   },
   "outputs": [
    {
     "name": "stdout",
     "output_type": "stream",
     "text": [
      "CPU times: user 1.51 s, sys: 10 µs, total: 1.51 s\n",
      "Wall time: 1.51 s\n"
     ]
    }
   ],
   "source": [
    "%%time\n",
    "\n",
    "def delete_nombre_ciudad_centro(x):\n",
    "    b = x['Barrio']\n",
    "    r = b\n",
    "    if 'centro' != b and 'centro' in b:\n",
    "        aux = b.replace('centro', '').strip()\n",
    "        if aux == x['Ciudad']:\n",
    "            r = 'centro'\n",
    "    return r\n",
    "\n",
    "perfiles_df['Barrio'] = perfiles_df.apply(delete_nombre_ciudad_centro, axis=1)"
   ]
  },
  {
   "cell_type": "code",
   "execution_count": 50,
   "metadata": {
    "collapsed": false
   },
   "outputs": [
    {
     "data": {
      "text/plain": [
       "9903"
      ]
     },
     "execution_count": 50,
     "metadata": {},
     "output_type": "execute_result"
    }
   ],
   "source": [
    "perfiles_df['Barrio'].nunique()"
   ]
  },
  {
   "cell_type": "markdown",
   "metadata": {},
   "source": [
    "### Corregiendo nombres de barrios"
   ]
  },
  {
   "cell_type": "code",
   "execution_count": 51,
   "metadata": {
    "collapsed": true
   },
   "outputs": [],
   "source": [
    "barrios_count_df = perfiles_df.groupby('Barrio')['Ciudad'].count()"
   ]
  },
  {
   "cell_type": "code",
   "execution_count": 52,
   "metadata": {
    "collapsed": false
   },
   "outputs": [],
   "source": [
    "barrios_counter = Counter(dict((x, y) for x, y in barrios_count_df.iteritems() if x and y > 10))"
   ]
  },
  {
   "cell_type": "code",
   "execution_count": 53,
   "metadata": {
    "collapsed": true
   },
   "outputs": [],
   "source": [
    "barrios_words = []\n",
    "for x in barrios_counter:\n",
    "    for y in x.split():\n",
    "        barrios_words.append(y)"
   ]
  },
  {
   "cell_type": "code",
   "execution_count": 54,
   "metadata": {
    "collapsed": true
   },
   "outputs": [],
   "source": [
    "barrios_words_counter = Counter(barrios_words)"
   ]
  },
  {
   "cell_type": "code",
   "execution_count": 55,
   "metadata": {
    "collapsed": true
   },
   "outputs": [],
   "source": [
    "correcciones_aux = {}\n",
    "for b in barrios_counter:\n",
    "    correcciones_aux[(b, 'barrio')] = b\n",
    "for b in barrios_words_counter:\n",
    "    correcciones_aux[(b, 'b_palabra')] = b"
   ]
  },
  {
   "cell_type": "code",
   "execution_count": 56,
   "metadata": {
    "collapsed": false
   },
   "outputs": [],
   "source": [
    "barrios_ciudades_dict = defaultdict(set)\n",
    "for i, x in perfiles_df.iterrows():\n",
    "    b = x['Barrio']\n",
    "    c = x['Ciudad']\n",
    "    if b and c:\n",
    "        barrios_ciudades_dict[b].add(c)\n",
    "barrios_ciudades_dict = dict(barrios_ciudades_dict)\n",
    "\n",
    "def check_ciudad(x, y):\n",
    "    if x in barrios_ciudades_dict and y in barrios_ciudades_dict and \\\n",
    "       not barrios_ciudades_dict[x].intersection(barrios_ciudades_dict[y]):\n",
    "        r = x\n",
    "    else:\n",
    "        r = y\n",
    "    return r"
   ]
  },
  {
   "cell_type": "code",
   "execution_count": 57,
   "metadata": {
    "collapsed": false
   },
   "outputs": [
    {
     "name": "stdout",
     "output_type": "stream",
     "text": [
      "CPU times: user 6.86 s, sys: 28 ms, total: 6.88 s\n",
      "Wall time: 6.88 s\n"
     ]
    }
   ],
   "source": [
    "%%time\n",
    "\n",
    "def my_correction_2(x, tag):\n",
    "    global WORDS\n",
    "    if (x, tag) not in correcciones_aux:\n",
    "        if tag == 'barrio':\n",
    "            WORDS = barrios_counter\n",
    "        else: # tag == 'b_palabra'\n",
    "            WORDS = barrios_words_counter\n",
    "        correcciones_aux[(x, tag)] = correction(x)\n",
    "    return correcciones_aux[(x, tag)]\n",
    "\n",
    "def correct_barrio(x):\n",
    "    barrio = x['Barrio']\n",
    "    if not barrio:\n",
    "        r = barrio\n",
    "    elif barrio in barrios_counter:\n",
    "        r = barrio\n",
    "    elif my_correction_2(barrio, 'barrio') in barrios_counter:\n",
    "        aux = my_correction_2(barrio, 'barrio')\n",
    "        r =  check_ciudad(barrio, aux)\n",
    "    else:\n",
    "        ok = []\n",
    "        words = barrio.split()\n",
    "        for w in words:\n",
    "            ok.append(my_correction_2(w, 'b_palabra'))\n",
    "        aux = ' '.join(ok)\n",
    "        if aux in barrios_counter:\n",
    "            r = check_ciudad(barrio, aux)\n",
    "        else:\n",
    "            r = barrio\n",
    "    return r\n",
    "\n",
    "perfiles_df['Barrio'] = perfiles_df.apply(correct_barrio, axis=1)"
   ]
  },
  {
   "cell_type": "code",
   "execution_count": 58,
   "metadata": {
    "collapsed": false
   },
   "outputs": [
    {
     "data": {
      "text/plain": [
       "9140"
      ]
     },
     "execution_count": 58,
     "metadata": {},
     "output_type": "execute_result"
    }
   ],
   "source": [
    "perfiles_df['Barrio'].nunique()"
   ]
  },
  {
   "cell_type": "markdown",
   "metadata": {},
   "source": [
    "## Resultados finales"
   ]
  },
  {
   "cell_type": "code",
   "execution_count": 59,
   "metadata": {
    "collapsed": false
   },
   "outputs": [
    {
     "data": {
      "text/plain": [
       "(50272, 11)"
      ]
     },
     "execution_count": 59,
     "metadata": {},
     "output_type": "execute_result"
    }
   ],
   "source": [
    "perfiles_df.shape"
   ]
  },
  {
   "cell_type": "code",
   "execution_count": 60,
   "metadata": {
    "collapsed": true
   },
   "outputs": [],
   "source": [
    "perfiles_df.to_csv('socios_activos_2016_ciudades_barrios.csv', index=False)"
   ]
  },
  {
   "cell_type": "code",
   "execution_count": null,
   "metadata": {
    "collapsed": true
   },
   "outputs": [],
   "source": []
  }
 ],
 "metadata": {
  "kernelspec": {
   "display_name": "Python 3",
   "language": "python",
   "name": "python3"
  },
  "language_info": {
   "codemirror_mode": {
    "name": "ipython",
    "version": 3
   },
   "file_extension": ".py",
   "mimetype": "text/x-python",
   "name": "python",
   "nbconvert_exporter": "python",
   "pygments_lexer": "ipython3",
   "version": "3.4.3"
  }
 },
 "nbformat": 4,
 "nbformat_minor": 1
}
