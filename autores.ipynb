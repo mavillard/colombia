{
 "cells": [
  {
   "cell_type": "code",
   "execution_count": 39,
   "metadata": {
    "collapsed": true
   },
   "outputs": [],
   "source": [
    "import csv\n",
    "import os\n",
    "import re\n",
    "from collections import defaultdict\n",
    "from datetime import datetime\n",
    "from datetime import timedelta\n",
    "from string import punctuation\n",
    "\n",
    "import matplotlib\n",
    "import numpy as np\n",
    "import networkx as nx\n",
    "import pandas as pd\n",
    "import requests\n",
    "import seaborn as sns\n",
    "from matplotlib import pyplot as plt\n",
    "from SPARQLWrapper import SPARQLWrapper, JSON"
   ]
  },
  {
   "cell_type": "code",
   "execution_count": 2,
   "metadata": {
    "collapsed": true
   },
   "outputs": [],
   "source": [
    "total_colums = [\n",
    "    # Ejemplar\n",
    "    'TITULO', 'AUTOR', 'EDITORIAL', 'SUCURSAL', 'DESC_SUCURSAL', 'COD_BARRAS_LIBRO', 'NUM_TITULO', 'SIG_TOPOGRAFICA',\n",
    "    'DEWEY', 'II_SUMARIO', 'I_SUMARIO', 'EDICION', 'LOCALIZACION_EJEMPLAR', 'DESC_LOCALIZACION_EJEMPLAR', 'POLITICA',\n",
    "    'DESC_POLITICA_EJEMPLAR', 'ISBN', 'FECHA_REGISTRO_EJEMPLAR', 'FECHA_ADICION_EJEMPLAR', 'FECHA_PUB',\n",
    "    'ESTADO_EJEMPLAR', 'PAIS_EJEMPLAR',\n",
    "    # Usuario (I)\n",
    "    'OCUPACION', 'NIVEL_EDUCACION', 'AREA_ESTUDIO',\n",
    "    # Prestamo (I)\n",
    "    'SUCURSAL_PRESTAMO', 'SUCURSAL_DEVOLUCION',\n",
    "    # Usuario (II)\n",
    "    'SUCURSAL_DEL_LECTOR', 'COD_BARRAS_LECTOR', 'CATEGORÍA',\n",
    "    # Prestamo (II)\n",
    "    'FECHA_PRESTAMO', 'FECHA_REAL_DEVOLUCION',\n",
    "]"
   ]
  },
  {
   "cell_type": "code",
   "execution_count": 3,
   "metadata": {
    "collapsed": true
   },
   "outputs": [],
   "source": [
    "used_colums = [\n",
    "    # Ejemplar\n",
    "    'TITULO', 'AUTOR', 'SUCURSAL', 'COD_BARRAS_LIBRO', 'DEWEY', 'DESC_LOCALIZACION_EJEMPLAR',\n",
    "    'FECHA_PUB','PAIS_EJEMPLAR',\n",
    "    # Usuario (I)\n",
    "    'OCUPACION','NIVEL_EDUCACION','AREA_ESTUDIO',\n",
    "    # Prestamo (I)\n",
    "    'SUCURSAL_PRESTAMO','SUCURSAL_DEVOLUCION',\n",
    "    # Usuario (II)\n",
    "    'SUCURSAL_DEL_LECTOR', 'COD_BARRAS_LECTOR', 'CATEGORÍA',\n",
    "    # Prestamo (II)\n",
    "    'FECHA_PRESTAMO','FECHA_REAL_DEVOLUCION'\n",
    "]"
   ]
  },
  {
   "cell_type": "markdown",
   "metadata": {},
   "source": [
    "# Préstamos"
   ]
  },
  {
   "cell_type": "code",
   "execution_count": 4,
   "metadata": {
    "collapsed": false
   },
   "outputs": [
    {
     "name": "stdout",
     "output_type": "stream",
     "text": [
      "CPU times: user 18.8 s, sys: 654 ms, total: 19.5 s\n",
      "Wall time: 19.4 s\n"
     ]
    }
   ],
   "source": [
    "%%time\n",
    "\n",
    "dtypes = {\n",
    "    'TITULO': str,\n",
    "    'AUTOR': str,\n",
    "    'SUCURSAL': str,\n",
    "    'COD_BARRAS_LIBRO': str,\n",
    "    'DEWEY': str,\n",
    "    'DESC_LOCALIZACION_EJEMPLAR': str,\n",
    "    'FECHA_PUB': str,\n",
    "    'PAIS_EJEMPLAR': str,\n",
    "    'OCUPACION': str,\n",
    "    'NIVEL_EDUCACION': str,\n",
    "    'AREA_ESTUDIO': str,\n",
    "    'SUCURSAL_PRESTAMO': str,\n",
    "    'SUCURSAL_DEVOLUCION': str,\n",
    "    'SUCURSAL_DEL_LECTOR': str,\n",
    "    'COD_BARRAS_LECTOR': str,\n",
    "    'CATEGORÍA': str,\n",
    "    'FECHA_PRESTAMO': str,\n",
    "    'FECHA_REAL_DEVOLUCION': str,\n",
    "    'DATE_PRESTAMO': pd.tslib.Timestamp,\n",
    "    'DATE_DEVOLUCION': pd.tslib.Timestamp,\n",
    "}\n",
    "\n",
    "prestamos_df = pd.read_csv('prestamos_totales.csv', header=0, dtype=dtypes, parse_dates=['DATE_PRESTAMO', 'DATE_DEVOLUCION'])\n",
    "prestamos_df = prestamos_df.fillna('')"
   ]
  },
  {
   "cell_type": "code",
   "execution_count": 5,
   "metadata": {
    "collapsed": false
   },
   "outputs": [
    {
     "data": {
      "text/plain": [
       "(3054360, 20)"
      ]
     },
     "execution_count": 5,
     "metadata": {},
     "output_type": "execute_result"
    }
   ],
   "source": [
    "prestamos_df.shape"
   ]
  },
  {
   "cell_type": "code",
   "execution_count": 6,
   "metadata": {
    "collapsed": false
   },
   "outputs": [
    {
     "data": {
      "text/html": [
       "<div>\n",
       "<table border=\"1\" class=\"dataframe\">\n",
       "  <thead>\n",
       "    <tr style=\"text-align: right;\">\n",
       "      <th></th>\n",
       "      <th>TITULO</th>\n",
       "      <th>AUTOR</th>\n",
       "      <th>SUCURSAL</th>\n",
       "      <th>COD_BARRAS_LIBRO</th>\n",
       "      <th>DEWEY</th>\n",
       "      <th>DESC_LOCALIZACION_EJEMPLAR</th>\n",
       "      <th>FECHA_PUB</th>\n",
       "      <th>PAIS_EJEMPLAR</th>\n",
       "      <th>OCUPACION</th>\n",
       "      <th>NIVEL_EDUCACION</th>\n",
       "      <th>AREA_ESTUDIO</th>\n",
       "      <th>SUCURSAL_PRESTAMO</th>\n",
       "      <th>SUCURSAL_DEVOLUCION</th>\n",
       "      <th>SUCURSAL_DEL_LECTOR</th>\n",
       "      <th>COD_BARRAS_LECTOR</th>\n",
       "      <th>CATEGORÍA</th>\n",
       "      <th>FECHA_PRESTAMO</th>\n",
       "      <th>FECHA_REAL_DEVOLUCION</th>\n",
       "      <th>DATE_PRESTAMO</th>\n",
       "      <th>DATE_DEVOLUCION</th>\n",
       "    </tr>\n",
       "  </thead>\n",
       "  <tbody>\n",
       "    <tr>\n",
       "      <th>0</th>\n",
       "      <td>Un bicho extraño</td>\n",
       "      <td>Daporta, Mon.</td>\n",
       "      <td>ARM</td>\n",
       "      <td>2298061</td>\n",
       "      <td>863</td>\n",
       "      <td>Infantil</td>\n",
       "      <td>2010</td>\n",
       "      <td>sp</td>\n",
       "      <td></td>\n",
       "      <td></td>\n",
       "      <td></td>\n",
       "      <td>ARM</td>\n",
       "      <td>ARM</td>\n",
       "      <td>ARM</td>\n",
       "      <td>88429527</td>\n",
       "      <td>CTA</td>\n",
       "      <td>22/01/2015</td>\n",
       "      <td>04/02/2015</td>\n",
       "      <td>2015-01-22</td>\n",
       "      <td>2015-02-04</td>\n",
       "    </tr>\n",
       "    <tr>\n",
       "      <th>1</th>\n",
       "      <td>Un bicho extraño</td>\n",
       "      <td>Daporta, Mon.</td>\n",
       "      <td>ARM</td>\n",
       "      <td>2298061</td>\n",
       "      <td>863</td>\n",
       "      <td>Infantil</td>\n",
       "      <td>2010</td>\n",
       "      <td>sp</td>\n",
       "      <td></td>\n",
       "      <td></td>\n",
       "      <td></td>\n",
       "      <td>ARM</td>\n",
       "      <td>ARM</td>\n",
       "      <td>ARM</td>\n",
       "      <td>88416381</td>\n",
       "      <td>CTA</td>\n",
       "      <td>31/03/2015</td>\n",
       "      <td>07/04/2015</td>\n",
       "      <td>2015-03-31</td>\n",
       "      <td>2015-04-07</td>\n",
       "    </tr>\n",
       "    <tr>\n",
       "      <th>2</th>\n",
       "      <td>Quisiera tener ...</td>\n",
       "      <td>Zoboli, Giovanna.</td>\n",
       "      <td>ARM</td>\n",
       "      <td>2284458</td>\n",
       "      <td>853</td>\n",
       "      <td>Infantil</td>\n",
       "      <td>2010</td>\n",
       "      <td>mx</td>\n",
       "      <td></td>\n",
       "      <td></td>\n",
       "      <td></td>\n",
       "      <td>ARM</td>\n",
       "      <td>ARM</td>\n",
       "      <td>ARM</td>\n",
       "      <td>88381353</td>\n",
       "      <td>CTA</td>\n",
       "      <td>07/11/2015</td>\n",
       "      <td>17/11/2015</td>\n",
       "      <td>2015-11-07</td>\n",
       "      <td>2015-11-17</td>\n",
       "    </tr>\n",
       "    <tr>\n",
       "      <th>3</th>\n",
       "      <td>Johannes Gutenberg</td>\n",
       "      <td>Borràs Perelló, Lluís.</td>\n",
       "      <td>ARM</td>\n",
       "      <td>2288922</td>\n",
       "      <td>925</td>\n",
       "      <td>Infantil</td>\n",
       "      <td>2010</td>\n",
       "      <td>sp</td>\n",
       "      <td>Empleado</td>\n",
       "      <td>Técnico</td>\n",
       "      <td>Adm. de empresas</td>\n",
       "      <td>ARM</td>\n",
       "      <td>ARM</td>\n",
       "      <td>ARM</td>\n",
       "      <td>88007424</td>\n",
       "      <td>CEM</td>\n",
       "      <td>16/01/2015</td>\n",
       "      <td>16/01/2015</td>\n",
       "      <td>2015-01-16</td>\n",
       "      <td>2015-01-16</td>\n",
       "    </tr>\n",
       "    <tr>\n",
       "      <th>4</th>\n",
       "      <td>La fantástica leyenda de: la princesa y el dragón</td>\n",
       "      <td>Alins, Sonia.</td>\n",
       "      <td>ARM</td>\n",
       "      <td>2288896</td>\n",
       "      <td>863</td>\n",
       "      <td>Infantil</td>\n",
       "      <td>2010</td>\n",
       "      <td>sp</td>\n",
       "      <td></td>\n",
       "      <td></td>\n",
       "      <td></td>\n",
       "      <td>ARM</td>\n",
       "      <td>ARM</td>\n",
       "      <td>ARM</td>\n",
       "      <td>88429529</td>\n",
       "      <td>CTA</td>\n",
       "      <td>21/01/2015</td>\n",
       "      <td>28/01/2015</td>\n",
       "      <td>2015-01-21</td>\n",
       "      <td>2015-01-28</td>\n",
       "    </tr>\n",
       "  </tbody>\n",
       "</table>\n",
       "</div>"
      ],
      "text/plain": [
       "                                              TITULO                   AUTOR  \\\n",
       "0                                   Un bicho extraño           Daporta, Mon.   \n",
       "1                                   Un bicho extraño           Daporta, Mon.   \n",
       "2                                 Quisiera tener ...       Zoboli, Giovanna.   \n",
       "3                                 Johannes Gutenberg  Borràs Perelló, Lluís.   \n",
       "4  La fantástica leyenda de: la princesa y el dragón           Alins, Sonia.   \n",
       "\n",
       "  SUCURSAL COD_BARRAS_LIBRO DEWEY DESC_LOCALIZACION_EJEMPLAR FECHA_PUB  \\\n",
       "0      ARM          2298061   863                   Infantil      2010   \n",
       "1      ARM          2298061   863                   Infantil      2010   \n",
       "2      ARM          2284458   853                   Infantil      2010   \n",
       "3      ARM          2288922   925                   Infantil      2010   \n",
       "4      ARM          2288896   863                   Infantil      2010   \n",
       "\n",
       "  PAIS_EJEMPLAR OCUPACION NIVEL_EDUCACION      AREA_ESTUDIO SUCURSAL_PRESTAMO  \\\n",
       "0            sp                                                           ARM   \n",
       "1            sp                                                           ARM   \n",
       "2            mx                                                           ARM   \n",
       "3            sp  Empleado         Técnico  Adm. de empresas               ARM   \n",
       "4            sp                                                           ARM   \n",
       "\n",
       "  SUCURSAL_DEVOLUCION SUCURSAL_DEL_LECTOR COD_BARRAS_LECTOR CATEGORÍA  \\\n",
       "0                 ARM                 ARM          88429527       CTA   \n",
       "1                 ARM                 ARM          88416381       CTA   \n",
       "2                 ARM                 ARM          88381353       CTA   \n",
       "3                 ARM                 ARM          88007424       CEM   \n",
       "4                 ARM                 ARM          88429529       CTA   \n",
       "\n",
       "  FECHA_PRESTAMO FECHA_REAL_DEVOLUCION DATE_PRESTAMO DATE_DEVOLUCION  \n",
       "0     22/01/2015            04/02/2015    2015-01-22      2015-02-04  \n",
       "1     31/03/2015            07/04/2015    2015-03-31      2015-04-07  \n",
       "2     07/11/2015            17/11/2015    2015-11-07      2015-11-17  \n",
       "3     16/01/2015            16/01/2015    2015-01-16      2015-01-16  \n",
       "4     21/01/2015            28/01/2015    2015-01-21      2015-01-28  "
      ]
     },
     "execution_count": 6,
     "metadata": {},
     "output_type": "execute_result"
    }
   ],
   "source": [
    "prestamos_df.head()"
   ]
  },
  {
   "cell_type": "markdown",
   "metadata": {},
   "source": [
    "# Sucursales"
   ]
  },
  {
   "cell_type": "code",
   "execution_count": 7,
   "metadata": {
    "collapsed": true
   },
   "outputs": [],
   "source": [
    "sucursales = {\n",
    "    'ARM': {'name': 'Armenia', 'latitude': 4.53, 'longitude': -75.68},\n",
    "    'BAR': {'name': 'Barranquilla', 'latitude': 10.963889, 'longitude': -74.796389},\n",
    "    'BLAA': {'name': 'Luis Angel Arango', 'latitude': 4.59677, 'longitude': -74.072848},\n",
    "    'BUC': {'name': 'Bucaramanga', 'latitude': 7.133333, 'longitude': -73},\n",
    "    'BUE': {'name': 'Buenaventura', 'latitude': 3.877222, 'longitude': -77.026667},\n",
    "    'CAL': {'name': 'Cali', 'latitude': 3.420556, 'longitude': -76.522222},\n",
    "    'CAR': {'name': 'Cartagena', 'latitude': 10.4, 'longitude': -75.5},\n",
    "    'CASAGO': {'name': 'Casa Gómez Campuzano', 'latitude': 4.6628468, 'longitude': -74.0512116},\n",
    "    'CATMAN': {'name': 'Catalogación y Mantenimiento de Colecciones', 'latitude': 4.5769749, 'longitude': -74.0880581},\n",
    "    'CUC': {'name': 'Cúcuta', 'latitude': 7.894167, 'longitude': -72.503889},\n",
    "    'ESPE': {'name': 'Especial material audiovisual', 'latitude': 4.59677, 'longitude': -74.072848},\n",
    "    'FLO': {'name': 'Florencia', 'latitude': 1.614167, 'longitude': -75.611667},\n",
    "    'GIR': {'name': 'Girardot', 'latitude': 4.305, 'longitude': -74.801667},\n",
    "    'HON': {'name': 'Honda', 'latitude': 5.204167, 'longitude': -74.741667},\n",
    "    'IBA': {'name': 'Ibagué', 'latitude': 4.433333, 'longitude': -75.233333},\n",
    "    'IEC': {'name': 'Investigaciones Económicas', 'latitude': 4.5769749, 'longitude': -74.0880581},\n",
    "    'IPI': {'name': 'Ipiales', 'latitude': 0.830278, 'longitude': -77.644444},\n",
    "    'LET': {'name': 'Leticia', 'latitude': -4.205278, 'longitude': -69.932778},\n",
    "    'MAN': {'name': 'Manizales', 'latitude': 5.1, 'longitude': -75.55},\n",
    "    'MED': {'name': 'Medellín', 'latitude': 6.230833, 'longitude': -75.590556},\n",
    "    'MON': {'name': 'Montería', 'latitude': 8.75, 'longitude': -75.883333},\n",
    "    'NEI': {'name': 'Neiva', 'latitude': 2.998611, 'longitude': -75.304444},\n",
    "    'PAS': {'name': 'Pasto', 'latitude': 1.207778, 'longitude': -77.277222},\n",
    "    'PER': {'name': 'Pereira', 'latitude': 4.814278, 'longitude': -75.694558},\n",
    "    'POP': {'name': 'Popayán', 'latitude': 2.454167, 'longitude': -76.609167},\n",
    "    'QUI': {'name': 'Quibdó', 'latitude': 5.692222, 'longitude': -76.658056},\n",
    "    'RIO': {'name': 'Riohacha', 'latitude': 11.544167, 'longitude': -72.906944},\n",
    "    'SAN': {'name': 'San Andrés', 'latitude': 12.583333, 'longitude': -81.7},\n",
    "    'SIN': {'name': 'Sincelejo', 'latitude': 9.295, 'longitude': -75.396111},\n",
    "    'STM': {'name': 'Santa Marta', 'latitude': 11.241944, 'longitude': -74.205278},\n",
    "    'TUN': {'name': 'Tunja', 'latitude': 5.533333, 'longitude': -73.366667},\n",
    "    'VAL': {'name': 'Valledupar', 'latitude': 10.483333, 'longitude': -73.25},\n",
    "    'VIL': {'name': 'Villavicencio', 'latitude': 4.15, 'longitude': -73.633333},\n",
    "}"
   ]
  },
  {
   "cell_type": "markdown",
   "metadata": {},
   "source": [
    "# Country codes"
   ]
  },
  {
   "cell_type": "markdown",
   "metadata": {},
   "source": [
    "## LOC/MARC"
   ]
  },
  {
   "cell_type": "markdown",
   "metadata": {},
   "source": [
    "http://www.loc.gov/marc/countries/countries_code.html"
   ]
  },
  {
   "cell_type": "code",
   "execution_count": 8,
   "metadata": {
    "collapsed": false
   },
   "outputs": [],
   "source": [
    "loc_marc_df = pd.read_csv('codes-loc-marc-countries.csv', sep='\\t', names=['code','country'])\n",
    "loc_marc_sr = pd.Series(data=list(loc_marc_df['country']), index=list(loc_marc_df['code']))"
   ]
  },
  {
   "cell_type": "code",
   "execution_count": 9,
   "metadata": {
    "collapsed": false
   },
   "outputs": [
    {
     "data": {
      "text/plain": [
       "aa                          Albania\n",
       "abc                         Alberta\n",
       "-ac     Ashmore and Cartier Islands\n",
       "aca    Australian Capital Territory\n",
       "ae                          Algeria\n",
       "dtype: object"
      ]
     },
     "execution_count": 9,
     "metadata": {},
     "output_type": "execute_result"
    }
   ],
   "source": [
    "loc_marc_sr.head()"
   ]
  },
  {
   "cell_type": "markdown",
   "metadata": {},
   "source": [
    "## ISO"
   ]
  },
  {
   "cell_type": "markdown",
   "metadata": {},
   "source": [
    "http://www.nationsonline.org/oneworld/country_code_list.htm"
   ]
  },
  {
   "cell_type": "code",
   "execution_count": 10,
   "metadata": {
    "collapsed": false
   },
   "outputs": [],
   "source": [
    "iso_df = pd.read_csv('codes-iso-countries.csv', sep='\\t', names=['country', 'iso-2', 'iso-3', 'code'])\n",
    "iso2_sr = pd.Series(data=list(iso_df['country']), index=map(lambda x: str(x).lower(), iso_df['iso-2']))\n",
    "iso3_sr = pd.Series(data=list(iso_df['country']), index=map(lambda x: str(x).lower(), iso_df['iso-3']))"
   ]
  },
  {
   "cell_type": "code",
   "execution_count": 11,
   "metadata": {
    "collapsed": false
   },
   "outputs": [
    {
     "data": {
      "text/plain": [
       "af       Afghanistan\n",
       "ax     Aland Islands\n",
       "al           Albania\n",
       "dz           Algeria\n",
       "as    American Samoa\n",
       "dtype: object"
      ]
     },
     "execution_count": 11,
     "metadata": {},
     "output_type": "execute_result"
    }
   ],
   "source": [
    "iso2_sr.head()"
   ]
  },
  {
   "cell_type": "code",
   "execution_count": 12,
   "metadata": {
    "collapsed": false
   },
   "outputs": [
    {
     "data": {
      "text/plain": [
       "afg       Afghanistan\n",
       "ala     Aland Islands\n",
       "alb           Albania\n",
       "dza           Algeria\n",
       "asm    American Samoa\n",
       "dtype: object"
      ]
     },
     "execution_count": 12,
     "metadata": {},
     "output_type": "execute_result"
    }
   ],
   "source": [
    "iso3_sr.head()"
   ]
  },
  {
   "cell_type": "markdown",
   "metadata": {},
   "source": [
    "## Mine"
   ]
  },
  {
   "cell_type": "code",
   "execution_count": 13,
   "metadata": {
    "collapsed": true
   },
   "outputs": [],
   "source": [
    "missing_codes_dict = {\n",
    "    'uk': 'United Kingdom',\n",
    "    'en': 'England',\n",
    "    'spa': 'Spain',\n",
    "    'CK': 'Colombia',\n",
    "    'eng': 'England',\n",
    "    'ger': 'Germany',\n",
    "    'uy|': 'Uruguay',\n",
    "    'SP': 'Spain',\n",
    "    'AG': 'Argentina',\n",
    "    'por': 'Portugal',\n",
    "    'jap': 'Japan',\n",
    "    'ur': 'Uruguay',\n",
    "    'fl': 'Florida',\n",
    "    'flo': 'Florida',\n",
    "    'fre': 'French Guiana',\n",
    "    'he': 'Heard Island and Mcdonald Islands',\n",
    "    'ka': 'Kansas',\n",
    "    'lou': 'Louisiana',\n",
    "    'pu': 'Puerto Rico',\n",
    "    'wa': 'Washington (State)',\n",
    "}"
   ]
  },
  {
   "cell_type": "markdown",
   "metadata": {},
   "source": [
    "# Autores"
   ]
  },
  {
   "cell_type": "code",
   "execution_count": 14,
   "metadata": {
    "collapsed": true
   },
   "outputs": [],
   "source": [
    "autores_df = pd.DataFrame()"
   ]
  },
  {
   "cell_type": "markdown",
   "metadata": {},
   "source": [
    "## Nombre"
   ]
  },
  {
   "cell_type": "code",
   "execution_count": 15,
   "metadata": {
    "collapsed": false
   },
   "outputs": [
    {
     "data": {
      "text/plain": [
       "                                                                409373\n",
       "García Márquez, Gabriel, 1927-2014                               13207\n",
       "Colombia.                                                        11526\n",
       "Hergé, 1907-1983.                                                11510\n",
       "Browne, Anthony, 1946-.                                           8653\n",
       "Foucault, Michel, 1926-1984.                                      6849\n",
       "Cortázar, Julio, 1914-1984.                                       6478\n",
       "Nietzsche, Friedrich Wilhelm, 1844-1900.                          5876\n",
       "Da Coll, Ivar, 1962-                                              5350\n",
       "Kasza, Keiko.                                                     5336\n",
       "Shakespeare, William, 1564-1616.                                  5012\n",
       "Verne, Jules, 1828-1905.                                          4394\n",
       "Instituto Colombiano de Normas Técnicas y Certificación.          4318\n",
       "Dostoievski, Fedor Mijailovich, 1821-1881.                        4296\n",
       "Rowling, J. K., 1965-                                             4269\n",
       "Borges, Jorge Luis, 1899-1986.                                    4192\n",
       "Saramago, José, 1922-2010                                         4091\n",
       "Eco, Umberto, 1932-                                               4076\n",
       "Freud, Sigmund, 1856-1939.                                        3966\n",
       "Poe, Edgar Allan, 1809-1849.                                      3777\n",
       "Vallejo, Fernando, 1942-                                          3724\n",
       "Marx, Karl, 1818-1883.                                            3690\n",
       "Montes, Graciela, 1947-                                           3686\n",
       "McKee, David, 1935-                                               3654\n",
       "Vargas Llosa, Mario, 1936-                                        3540\n",
       "Wilde, Oscar, 1854-1900.                                          3503\n",
       "Pombo, Rafael, 1833-1912.                                         3301\n",
       "Ospina, William, 1954-                                            3074\n",
       "Bourdieu, Pierre, 1930-2002.                                      3058\n",
       "Platón, 428?-347 a. C.                                            3032\n",
       "                                                                 ...  \n",
       "Vila Badia, Anna.                                                    1\n",
       "Costa Reparaz, Emilio.                                               1\n",
       "Vásquez L., Gabriel.                                                 1\n",
       "Seminario sobre Estimación del Impacto de los Proyectos de A         1\n",
       "Orwant, Jon.                                                         1\n",
       "Acosta, Javier, 1967-                                                1\n",
       "Figueroa Sosa, Amelia.                                               1\n",
       "Ospina Chavarro, Gerardo.                                            1\n",
       "Mejía Vera, Esther Julia.                                            1\n",
       "Yadeun, Juan.                                                        1\n",
       "Colombia. Presidencia, Consejeria para los Derechos Hamanos.         1\n",
       "Sales I Campos, Albert.                                              1\n",
       "Mena Segarra, Celiar Enrique.                                        1\n",
       "Diament, Rafael.                                                     1\n",
       "Almeida, Tania.                                                      1\n",
       "Salón de Arte Bidimensional (: 2003 : Bogotá)                        1\n",
       "Villagra Rubio, Angel.                                               1\n",
       "Paul, Elliot.                                                        1\n",
       "Dredge, Richard.                                                     1\n",
       "Higa, Augusto.                                                       1\n",
       "Castro Guevara, Carlo Antonio, 1926-                                 1\n",
       "Dony.                                                                1\n",
       "Karfeld, kurt Peter.                                                 1\n",
       "Muñoz, Edilda.                                                       1\n",
       "Gadhoum, Khédija.                                                    1\n",
       "Jaimes, Marycruz.                                                    1\n",
       "Cidrac, Ch. de.                                                      1\n",
       "Barnes, J. M.                                                        1\n",
       "Dallos Jabbour, Jorge Alberto.                                       1\n",
       "Cunha, Marcelo Carneiro da.                                          1\n",
       "Name: AUTOR, dtype: int64"
      ]
     },
     "execution_count": 15,
     "metadata": {},
     "output_type": "execute_result"
    }
   ],
   "source": [
    "prestamos_df['AUTOR'].value_counts()"
   ]
  },
  {
   "cell_type": "code",
   "execution_count": 18,
   "metadata": {
    "collapsed": false
   },
   "outputs": [
    {
     "name": "stdout",
     "output_type": "stream",
     "text": [
      "CPU times: user 7min 26s, sys: 1.07 s, total: 7min 27s\n",
      "Wall time: 7min 27s\n"
     ]
    }
   ],
   "source": [
    "%%time\n",
    "\n",
    "def process_autor(x):\n",
    "    a = x['AUTOR'].strip(' ' + punctuation)\n",
    "    a = a.replace(', ', ',')\n",
    "    if a:\n",
    "        b = re.findall('(.+),\\d+', a)\n",
    "        if b:\n",
    "            a = b[0]\n",
    "        c = a.split(',')\n",
    "        if len(c) > 1:\n",
    "            r = c[1] + ' ' + c[0]\n",
    "        else:\n",
    "            r = c[0]\n",
    "    else:\n",
    "        r = 'DESCONOCIDO'\n",
    "    return r\n",
    "\n",
    "autores_df['AUTOR'] = prestamos_df.apply(process_autor, axis=1)"
   ]
  },
  {
   "cell_type": "code",
   "execution_count": 20,
   "metadata": {
    "collapsed": false
   },
   "outputs": [
    {
     "data": {
      "text/plain": [
       "DESCONOCIDO                                                     409373\n",
       "Gabriel García Márquez                                           14397\n",
       "Colombia                                                         11526\n",
       "Hergé                                                            11510\n",
       "Anthony Browne                                                    9653\n",
       "Michel Foucault                                                   6849\n",
       "Julio Cortázar                                                    6478\n",
       "Friedrich Wilhelm Nietzsche                                       5876\n",
       "Ivar Da Coll                                                      5350\n",
       "Keiko Kasza                                                       5336\n",
       "William Shakespeare                                               5012\n",
       "José Saramago                                                     4818\n",
       "Jules Verne                                                       4394\n",
       "Instituto Colombiano de Normas Técnicas y Certificación           4333\n",
       "Fedor Mijailovich Dostoievski                                     4296\n",
       "J. K. Rowling                                                     4269\n",
       "Jorge Luis Borges                                                 4192\n",
       "Umberto Eco                                                       4080\n",
       "Sigmund Freud                                                     3966\n",
       "Edgar Allan Poe                                                   3777\n",
       "Fernando Vallejo                                                  3724\n",
       "Karl Marx                                                         3690\n",
       "Graciela Montes                                                   3686\n",
       "David McKee                                                       3654\n",
       "Mario Vargas Llosa                                                3540\n",
       "Oscar Wilde                                                       3533\n",
       "Rafael Pombo                                                      3301\n",
       "William Ospina                                                    3074\n",
       "Pierre Bourdieu                                                   3058\n",
       "Platón                                                            3032\n",
       "                                                                 ...  \n",
       "Hector Raul Alzate Mejia                                             1\n",
       "Leopoldo de la Rosa                                                  1\n",
       "Ricardo Oviedo Arevalo                                               1\n",
       "Conference on Social Control and the Arts Harvard University         1\n",
       "Instituto de Seguridad y Servicios sociales para los trabaja         1\n",
       "Ramón Suárez Vázquez                                                 1\n",
       "Michael Steinberger                                                  1\n",
       "Ana Milena Rodriguez Korgui                                          1\n",
       "William Hendriksen                                                   1\n",
       "Ken McMahon                                                          1\n",
       "R Ramos Martínez                                                     1\n",
       "Felicidad Marqués Asensio                                            1\n",
       "Yang Liu                                                             1\n",
       "Joshua Doder                                                         1\n",
       "Seminario Nacional de Ciencias y Tecnologías del Mar (1988           1\n",
       "Toby Manning                                                         1\n",
       "Edward G Hoffman                                                     1\n",
       "Empresas Públicas de Medellín. Auditoría                             1\n",
       "Alfredo Fressia                                                      1\n",
       "Madan Sarup                                                          1\n",
       "Flora Pellicia                                                       1\n",
       "José San José Prisco                                                 1\n",
       "Favio Gerardo Rico Méndez                                            1\n",
       "Carlos Eduardo Castañeda Crespo                                      1\n",
       "Henri Deluy                                                          1\n",
       "Renáta Modráková                                                     1\n",
       "Alberto Santos Vanegas                                               1\n",
       "Michael Mertens                                                      1\n",
       "Colombia Foro Nacional Petrolero (1989 : Bogotá                      1\n",
       "Adriana Patricia Garnica Monroy                                      1\n",
       "Name: AUTOR, dtype: int64"
      ]
     },
     "execution_count": 20,
     "metadata": {},
     "output_type": "execute_result"
    }
   ],
   "source": [
    "autores_df['AUTOR'].value_counts()"
   ]
  },
  {
   "cell_type": "markdown",
   "metadata": {},
   "source": [
    "## País ejemplar"
   ]
  },
  {
   "cell_type": "code",
   "execution_count": 17,
   "metadata": {
    "collapsed": false
   },
   "outputs": [],
   "source": [
    "total_countries = set(list(loc_marc_sr.values) + list(iso2_sr.values) + list(iso3_sr.values))"
   ]
  },
  {
   "cell_type": "code",
   "execution_count": 18,
   "metadata": {
    "collapsed": false
   },
   "outputs": [],
   "source": [
    "# %%time\n",
    "\n",
    "# def process_pais(x):\n",
    "#     a = x['PAIS_EJEMPLAR'].strip()\n",
    "#     if a in loc_marc_sr:\n",
    "#         r = loc_marc_sr[a]\n",
    "#     elif '-' + a in loc_marc_sr:\n",
    "#         r = loc_marc_sr['-' + a]\n",
    "#     elif a in iso3_sr:\n",
    "#         r = iso3_sr[a]\n",
    "#     elif a in iso2_sr:\n",
    "#         r = iso2_sr[a]\n",
    "#     elif a in missing_codes_dict:\n",
    "#         r = missing_codes_dict[a]\n",
    "#     else:\n",
    "#         r = 'DESCONOCIDO'\n",
    "#     return r\n",
    "\n",
    "# autores_df['PAIS_EJEMPLAR'] = prestamos_df.apply(process_pais, axis=1)"
   ]
  },
  {
   "cell_type": "code",
   "execution_count": 20,
   "metadata": {
    "collapsed": false
   },
   "outputs": [
    {
     "data": {
      "text/plain": [
       "145220"
      ]
     },
     "execution_count": 20,
     "metadata": {},
     "output_type": "execute_result"
    }
   ],
   "source": [
    "autores_df['AUTOR'].nunique()"
   ]
  },
  {
   "cell_type": "code",
   "execution_count": 29,
   "metadata": {
    "collapsed": false
   },
   "outputs": [],
   "source": [
    "# c=0\n",
    "# for x in autores_df['AUTOR'].unique():\n",
    "#     a = x.replace(' ','').replace('-','').replace('.','').replace('\\'','')\n",
    "#     if not a.isalpha():\n",
    "#         print(x)\n",
    "#         c+=1\n",
    "# c"
   ]
  },
  {
   "cell_type": "code",
   "execution_count": null,
   "metadata": {
    "collapsed": true
   },
   "outputs": [],
   "source": []
  },
  {
   "cell_type": "code",
   "execution_count": 19,
   "metadata": {
    "collapsed": false
   },
   "outputs": [
    {
     "name": "stdout",
     "output_type": "stream",
     "text": [
      "Congresos I y II de Filosofía (1996,1997 : Caldas)\n",
      "Encuentros nacionales de filosofía (2000,2001 : Bogotá)\n",
      "Suárez Ávila, Manuel,1968-\n"
     ]
    }
   ],
   "source": [
    "for a in prestamos_df['AUTOR'].unique():\n",
    "    b = re.findall('(.+),\\d{2}', a)\n",
    "    if b:\n",
    "        print(a)"
   ]
  },
  {
   "cell_type": "code",
   "execution_count": 35,
   "metadata": {
    "collapsed": false
   },
   "outputs": [],
   "source": [
    "s=set()\n",
    "for a in prestamos_df['AUTOR'].unique():\n",
    "    b = re.findall('\\w,\\w', a)\n",
    "    if b:\n",
    "        s.add(a)"
   ]
  },
  {
   "cell_type": "code",
   "execution_count": 36,
   "metadata": {
    "collapsed": false
   },
   "outputs": [
    {
     "data": {
      "text/plain": [
       "64"
      ]
     },
     "execution_count": 36,
     "metadata": {},
     "output_type": "execute_result"
    }
   ],
   "source": [
    "len(s)"
   ]
  },
  {
   "cell_type": "code",
   "execution_count": 37,
   "metadata": {
    "collapsed": false
   },
   "outputs": [
    {
     "data": {
      "text/plain": [
       "{'Aldana Alzate,Gabriel, 1955-',\n",
       " 'Angel,Daniel.',\n",
       " 'Aragón Borja,Laura Edna.',\n",
       " 'Arroyo Pizarro,Yolanda, 1970-',\n",
       " 'Backer,Morton.',\n",
       " 'Ballesteros Rodriguez,Jorge.',\n",
       " 'Barlet Jaume,Xana.',\n",
       " 'Bechara,Alvaro.',\n",
       " 'Benavent García,José Manuel.',\n",
       " 'Blumenthal,Ralph.',\n",
       " 'Bonneto,n France.',\n",
       " 'Bueno Chávez,Raúl, 1944-',\n",
       " 'Burns,Roger George, 1937-',\n",
       " 'Caballero,Martha.',\n",
       " 'Calderón,Reinán, 1969-',\n",
       " 'Cano Borrego,Pedro Damián, 1968-',\n",
       " 'Cavazzoni,Ermanno, 1947-',\n",
       " 'Chauvel,Pascal.',\n",
       " 'Congresos I y II de Filosofía (1996,1997 : Caldas)',\n",
       " 'Del Toma,Eugenio.',\n",
       " 'Dorn,Nicholas.',\n",
       " 'Díaz Covarrubias,Juan, 1837-1859.',\n",
       " 'Encuentros nacionales de filosofía (2000,2001 : Bogotá)',\n",
       " 'Fisac Badell,Taciana.',\n",
       " 'García Gutiérrez,Emilio.',\n",
       " 'García Rodríguez,Venancio.',\n",
       " 'Gaster,Theodor Herzl, 1906-',\n",
       " 'Handel,George Frideric, (1685-1759)',\n",
       " 'Ibarra,Martín Gustavo.',\n",
       " 'Jaeger,Paul, 1905-',\n",
       " 'Jiménez Vargas,Liliana.',\n",
       " 'Kahn,Peter B.',\n",
       " 'Kermode,Frank, 1919-',\n",
       " 'Lehninger,Albert L.,.',\n",
       " 'Luchaire,M. Francois, 1919-',\n",
       " 'Lunghini,Giorgio.',\n",
       " 'Main,Wilson.',\n",
       " 'Maldonado,María Cristina.',\n",
       " 'Mareca Cortés,m Ildefonso.',\n",
       " 'Martin,John.',\n",
       " 'Medina Gallego,Carlos.',\n",
       " 'Mejía Benard,Mauricio.',\n",
       " 'Melo Ruiz,Virginia.',\n",
       " 'Merquior, José-Guilherme,d1941-1991.',\n",
       " 'Montandon,George, 1879-',\n",
       " 'Montserrat i Codorniu,Júlia.',\n",
       " 'Munter,Anke.',\n",
       " 'Museo Nacional de Artes Plásticas (Montevideo,Uruguay)',\n",
       " 'Mármol León,Fermín.',\n",
       " 'Ospina Arias,E.Livardo, 1912-',\n",
       " 'Pardo,Andrés.',\n",
       " 'Popper,Franz.',\n",
       " 'Rivera Aguilar,Ennio Elvidio.',\n",
       " 'Rodríguez Hernández,Anselmo.',\n",
       " 'Rojas Gómez,Miguel.',\n",
       " 'Salomone,G. D.',\n",
       " 'Sangaré,Oumou.',\n",
       " 'Sharpe,Tom, 1928-2013.',\n",
       " 'Stephen,Karin.',\n",
       " 'Suárez Ávila, Manuel,1968-',\n",
       " 'Sánchez Herrera,Esiquio Manuel.',\n",
       " 'Valencia,R., Enrique.',\n",
       " 'Ye,Tang.',\n",
       " 'Yeatts,Guillermo M.'}"
      ]
     },
     "execution_count": 37,
     "metadata": {},
     "output_type": "execute_result"
    }
   ],
   "source": [
    "s"
   ]
  },
  {
   "cell_type": "code",
   "execution_count": null,
   "metadata": {
    "collapsed": true
   },
   "outputs": [],
   "source": []
  },
  {
   "cell_type": "code",
   "execution_count": 21,
   "metadata": {
    "collapsed": false
   },
   "outputs": [
    {
     "data": {
      "text/plain": [
       "0"
      ]
     },
     "execution_count": 21,
     "metadata": {},
     "output_type": "execute_result"
    }
   ],
   "source": [
    "c=0\n",
    "for x in autores_df['AUTOR'].unique():\n",
    "    if ',' in x:\n",
    "        print(x)\n",
    "        c+=1\n",
    "c"
   ]
  },
  {
   "cell_type": "code",
   "execution_count": 22,
   "metadata": {
    "collapsed": false
   },
   "outputs": [
    {
     "data": {
      "text/plain": [
       "array(['Mon Daporta', 'Giovanna Zoboli', 'Lluís Borràs Perelló', ...,\n",
       "       'Martha Maestre de Aroca', 'Cesar (Colombia). Gobernación',\n",
       "       'Guzmán Torres Quintero'], dtype=object)"
      ]
     },
     "execution_count": 22,
     "metadata": {},
     "output_type": "execute_result"
    }
   ],
   "source": [
    "autores_df['AUTOR'].unique()"
   ]
  },
  {
   "cell_type": "code",
   "execution_count": 22,
   "metadata": {
    "collapsed": false
   },
   "outputs": [],
   "source": [
    "# autores_df['PAIS_EJEMPLAR'].value_counts()"
   ]
  },
  {
   "cell_type": "code",
   "execution_count": 32,
   "metadata": {
    "collapsed": false
   },
   "outputs": [
    {
     "data": {
      "text/plain": [
       "14397"
      ]
     },
     "execution_count": 32,
     "metadata": {},
     "output_type": "execute_result"
    }
   ],
   "source": [
    "autores_df['AUTOR'].value_counts().ix['Gabriel García Márquez']"
   ]
  },
  {
   "cell_type": "code",
   "execution_count": 53,
   "metadata": {
    "collapsed": true
   },
   "outputs": [],
   "source": [
    "def f(x):\n",
    "    a = x.strip(' ' + punctuation)\n",
    "    a = a.replace(', ', ',')\n",
    "    if a:\n",
    "        b = re.findall('(.+),\\d+', a)\n",
    "        if b:\n",
    "            a = b[0]\n",
    "        c = a.split(',')\n",
    "        if len(c) > 1:\n",
    "            d = c[1] + ' ' + c[0]\n",
    "        else:\n",
    "            d = c[0]\n",
    "#         d = d.strip(',')\n",
    "#         d = d.replace(', ', ',')\n",
    "#         if len(c) > 1:\n",
    "#             d = c[1] + ' ' + c[0]\n",
    "#         else:\n",
    "#             d = c[0]\n",
    "        r = d\n",
    "    else:\n",
    "        r = 'DESCONOCIDO'\n",
    "    return r"
   ]
  },
  {
   "cell_type": "code",
   "execution_count": 56,
   "metadata": {
    "collapsed": false
   },
   "outputs": [
    {
     "data": {
      "text/plain": [
       "array(['Daporta, Mon.', 'Zoboli, Giovanna.', 'Borràs Perelló, Lluís.',\n",
       "       'Alins, Sonia.', '', 'Ayres, Charlie.', 'Wolfe, Gillian.',\n",
       "       'Badstuber, Martina.', 'Aerssen, Ignacio van.',\n",
       "       'Rius, Roser, 1965-', 'Fortes Torres, Antón, 1957-',\n",
       "       'Cooper, Helen.', 'Pedrosa, Cyril.', 'Calvo, Mercedes.',\n",
       "       'Bouchard, André.', 'Verplancke, Klaas.', 'Shone, Rob.',\n",
       "       'Obiols, Anna.', 'Aliaga Sánchez, Roberto, 1976-',\n",
       "       'Casalderrey, Fina, 1951-', 'Yeoman, John.', 'Le Huche, Magali.',\n",
       "       'Collazos, Oscar, 1942-2015.', 'Waechter, Friedrich Karl.',\n",
       "       'Gnone, Elisabetta, 1965-', 'Schwarz, Viviane.', 'Kim, Wan-doo.',\n",
       "       'Gurrutxaga, Mikel.', 'Charlat, Benoit.', 'Suzy, Lee, 1974-',\n",
       "       'Lee, Stan, 1922-.', 'Hergé, 1907-1983.',\n",
       "       'Vallejo Betancur, Alejandro.', 'Nanclares, Silvia.',\n",
       "       'Hohler, Franz, 1943-', 'Gutiérrez, Luz Myriam.',\n",
       "       'Mejía Rivera, Orlando, 1961-', 'Cárdenas Ortiz, Alvaro Ramón.',\n",
       "       'Johnson, Stephen L., 1949-', 'Martins, Isabel Minhós.',\n",
       "       'Pita, Charo.', 'Rosenheim, Stephanie.', 'Liao, Jimmy, 1958-',\n",
       "       'Blake, Quentin, 1932-', 'Luján, Jorge.', 'Bowley, Tim, 1945-.',\n",
       "       'Coppens, Yves, 1934-', 'Muñoz, Alvaro.', 'Murphy, Glenn, 1908-',\n",
       "       'Kipling, Rudyard, 1865-1936.', 'Lacombe, Benjamin, 1982-',\n",
       "       'Henao Montoya, Susana, 1954-', 'Pin, Isabel.', 'Allan, Nicholas.',\n",
       "       'Baredes, Carla.', 'Ribas, Mariano.', 'Pineau, Pablo.',\n",
       "       'Cottin, Menena.', 'Cuevas, Alvarito.', 'Hanán Díaz, Fanuel.',\n",
       "       'Moure Trenor, Gonzalo, 1951-', 'Maltbie, P.I.',\n",
       "       'Carrier, Isabelle.', 'Van Zeveren, Michel.', 'Dubuc, Marianne.',\n",
       "       'Bie, Linne.', 'Escobar, Melba, 1976-.',\n",
       "       'Usaquén Ramos, Martha Lucía, 1952-', 'Gomi, Taro.',\n",
       "       'Martin, C. L. G.', 'Navarro Durán, Rosa, 1947-',\n",
       "       'Bernasconi, Pablo, 1973-', 'Smallman, Steve.',\n",
       "       'Brunhoff, Laurent de, 1925-', 'Alexandri, Ferran.',\n",
       "       'Garcés Blázquez, Fernando.', 'Almeida, Guilherme de.',\n",
       "       'Machado, Ana María, 1941-', 'Academia de Historia del Quindío.',\n",
       "       'González Maya, Martha Alicia.', 'Rivera, Iris, 1950-',\n",
       "       'Poe, Edgar Allan, 1809-1849.', 'Cortázar, Julio, 1914-1984.',\n",
       "       'Letén, Mats.', 'Valentinis, Pia.',\n",
       "       'Tolkien, John Ronald Reuel, 1892-1973.',\n",
       "       'Nöstlinger, Christine, 1936-', 'Tait, Noel.',\n",
       "       'Lovecraft, Howard Phillips, 1890-1937.', 'Buitrago, Jairo.',\n",
       "       'Willis, Jeanne.', 'Rosati, Ivo.', 'Ofogo, Boniface.',\n",
       "       'Calì, Davide.', 'Zimnik, Reiner, 1930-', 'Kockere, Geert De.',\n",
       "       'Gutiérrez, Xulio.', 'Ibañez, Andrés, 1961-',\n",
       "       'Bernal Trujillo, Marta Inés.', 'Pratt, Hugo, 1927-1995.'], dtype=object)"
      ]
     },
     "execution_count": 56,
     "metadata": {},
     "output_type": "execute_result"
    }
   ],
   "source": [
    "prestamos_df['AUTOR'].unique()[:100]"
   ]
  },
  {
   "cell_type": "code",
   "execution_count": 57,
   "metadata": {
    "collapsed": false
   },
   "outputs": [
    {
     "name": "stdout",
     "output_type": "stream",
     "text": [
      "Mon Daporta\n",
      "Giovanna Zoboli\n",
      "Lluís Borràs Perelló\n",
      "Sonia Alins\n",
      "DESCONOCIDO\n",
      "Charlie Ayres\n",
      "Gillian Wolfe\n",
      "Martina Badstuber\n",
      "Ignacio van Aerssen\n",
      "Roser Rius\n",
      "Antón Fortes Torres\n",
      "Helen Cooper\n",
      "Cyril Pedrosa\n",
      "Mercedes Calvo\n",
      "André Bouchard\n",
      "Klaas Verplancke\n",
      "Rob Shone\n",
      "Anna Obiols\n",
      "Roberto Aliaga Sánchez\n",
      "Fina Casalderrey\n",
      "John Yeoman\n",
      "Magali Le Huche\n",
      "Oscar Collazos\n",
      "Friedrich Karl Waechter\n",
      "Elisabetta Gnone\n",
      "Viviane Schwarz\n",
      "Wan-doo Kim\n",
      "Mikel Gurrutxaga\n",
      "Benoit Charlat\n",
      "Lee Suzy\n",
      "Stan Lee\n",
      "Hergé\n",
      "Alejandro Vallejo Betancur\n",
      "Silvia Nanclares\n",
      "Franz Hohler\n",
      "Luz Myriam Gutiérrez\n",
      "Orlando Mejía Rivera\n",
      "Alvaro Ramón Cárdenas Ortiz\n",
      "Stephen L. Johnson\n",
      "Isabel Minhós Martins\n",
      "Charo Pita\n",
      "Stephanie Rosenheim\n",
      "Jimmy Liao\n",
      "Quentin Blake\n",
      "Jorge Luján\n",
      "Tim Bowley\n",
      "Yves Coppens\n",
      "Alvaro Muñoz\n",
      "Glenn Murphy\n",
      "Rudyard Kipling\n",
      "Benjamin Lacombe\n",
      "Susana Henao Montoya\n",
      "Isabel Pin\n",
      "Nicholas Allan\n",
      "Carla Baredes\n",
      "Mariano Ribas\n",
      "Pablo Pineau\n",
      "Menena Cottin\n",
      "Alvarito Cuevas\n",
      "Fanuel Hanán Díaz\n",
      "Gonzalo Moure Trenor\n",
      "P.I Maltbie\n",
      "Isabelle Carrier\n",
      "Michel Van Zeveren\n",
      "Marianne Dubuc\n",
      "Linne Bie\n",
      "Melba Escobar\n",
      "Martha Lucía Usaquén Ramos\n",
      "Taro Gomi\n",
      "C. L. G Martin\n",
      "Rosa Navarro Durán\n",
      "Pablo Bernasconi\n",
      "Steve Smallman\n",
      "Laurent de Brunhoff\n",
      "Ferran Alexandri\n",
      "Fernando Garcés Blázquez\n",
      "Guilherme de Almeida\n",
      "Ana María Machado\n",
      "Academia de Historia del Quindío\n",
      "Martha Alicia González Maya\n",
      "Iris Rivera\n",
      "Edgar Allan Poe\n",
      "Julio Cortázar\n",
      "Mats Letén\n",
      "Pia Valentinis\n",
      "John Ronald Reuel Tolkien\n",
      "Christine Nöstlinger\n",
      "Noel Tait\n",
      "Howard Phillips Lovecraft\n",
      "Jairo Buitrago\n",
      "Jeanne Willis\n",
      "Ivo Rosati\n",
      "Boniface Ofogo\n",
      "Davide Calì\n",
      "Reiner Zimnik\n",
      "Geert De Kockere\n",
      "Xulio Gutiérrez\n",
      "Andrés Ibañez\n",
      "Marta Inés Bernal Trujillo\n",
      "Hugo Pratt\n"
     ]
    }
   ],
   "source": [
    "for a in prestamos_df['AUTOR'].unique()[:100]:\n",
    "    print(f(a))"
   ]
  },
  {
   "cell_type": "code",
   "execution_count": 29,
   "metadata": {
    "collapsed": false
   },
   "outputs": [
    {
     "name": "stdout",
     "output_type": "stream",
     "text": [
      "Orosio, Pablo, 390?-418?\n",
      "['Orosio, Pablo']\n"
     ]
    }
   ],
   "source": [
    "r = 'Orosio, Pablo, 390?-418?'.strip().strip('.')\n",
    "s = re.findall('(.+), \\d{3}', r)\n",
    "print(r)\n",
    "print(s)"
   ]
  },
  {
   "cell_type": "code",
   "execution_count": null,
   "metadata": {
    "collapsed": true
   },
   "outputs": [],
   "source": []
  },
  {
   "cell_type": "code",
   "execution_count": null,
   "metadata": {
    "collapsed": true
   },
   "outputs": [],
   "source": []
  },
  {
   "cell_type": "code",
   "execution_count": null,
   "metadata": {
    "collapsed": true
   },
   "outputs": [],
   "source": []
  },
  {
   "cell_type": "code",
   "execution_count": null,
   "metadata": {
    "collapsed": true
   },
   "outputs": [],
   "source": []
  },
  {
   "cell_type": "code",
   "execution_count": null,
   "metadata": {
    "collapsed": true
   },
   "outputs": [],
   "source": []
  },
  {
   "cell_type": "code",
   "execution_count": 49,
   "metadata": {
    "collapsed": true
   },
   "outputs": [],
   "source": [
    "def get_pais_autor_data_wkd(name, lang):\n",
    "    template = \"\"\"\n",
    "        PREFIX wd: <http://www.wikidata.org/entity/>\n",
    "        PREFIX wdt: <http://www.wikidata.org/prop/direct/>\n",
    "        PREFIX rdfs: <http://www.w3.org/2000/01/rdf-schema#>\n",
    "\n",
    "        SELECT ?authorLabel ?countryLabel\n",
    "        WHERE {{\n",
    "            BIND(\"{0}\"@{1} AS ?authorLabel) .\n",
    "            ?author rdfs:label ?authorLabel .\n",
    "            ?author wdt:P31 wd:Q5 .\n",
    "            ?author wdt:P106 wd:Q36180 .\n",
    "            ?author wdt:P19 ?pob .\n",
    "            ?pob wdt:P17 ?country .\n",
    "            ?country rdfs:label ?countryLabel .\n",
    "            FILTER(lang(?countryLabel)=\"{1}\")\n",
    "        }}\n",
    "    \"\"\"\n",
    "    query = template.format(name, lang)\n",
    "    url = 'https://query.wikidata.org/bigdata/namespace/wdq/sparql'\n",
    "    data = requests.get(url, params={'query': query, 'format': 'json'}).json()\n",
    "    return data"
   ]
  },
  {
   "cell_type": "code",
   "execution_count": 57,
   "metadata": {
    "collapsed": true
   },
   "outputs": [],
   "source": [
    "sparql_dbp = SPARQLWrapper(\"http://dbpedia.org/sparql\")\n",
    "\n",
    "def get_pais_autor_data_dbp(name, lang):\n",
    "    template = \"\"\"\n",
    "        PREFIX dbo: <http://dbpedia.org/ontology/>\n",
    "        PREFIX dbp: <http://dbpedia.org/property/>\n",
    "        PREFIX rdf: <http://www.w3.org/1999/02/22-rdf-syntax-ns#>\n",
    "        PREFIX rdfs: <http://www.w3.org/2000/01/rdf-schema#>\n",
    "\n",
    "        SELECT ?authorLabel ?countryLabel\n",
    "        WHERE {{\n",
    "            BIND(\"{0}\"@{1} AS ?authorLabel) .\n",
    "            ?author rdfs:label ?authorLabel .\n",
    "            ?author rdf:type dbo:Person .\n",
    "            ?author rdf:type dbo:Writer .\n",
    "            ?author dbp:birthPlace ?pob .\n",
    "            ?pob rdf:type dbo:Country .\n",
    "            ?pob rdfs:label ?countryLabel .\n",
    "            FILTER(lang(?countryLabel)=\"{1}\")\n",
    "        }}\n",
    "    \"\"\"\n",
    "    query = template.format(name, lang)\n",
    "    sparql_dbp.setQuery(query)\n",
    "    sparql_dbp.setReturnFormat(JSON)\n",
    "    data = sparql_dbp.query().convert()\n",
    "    return data"
   ]
  },
  {
   "cell_type": "code",
   "execution_count": 156,
   "metadata": {
    "collapsed": true
   },
   "outputs": [],
   "source": [
    "def get_pais_autor_data(db, name, lang):\n",
    "    if db == 'wdt':\n",
    "        data = get_pais_autor_data_wkd(name, lang)\n",
    "    elif db == 'dbp':\n",
    "        data = get_pais_autor_data_dbp(name, lang)\n",
    "    \n",
    "    results = set(d['countryLabel']['value'] for d in data['results']['bindings'])\n",
    "    if len(results) == 0:\n",
    "        result = 'DESCONOCIDO'\n",
    "    elif len(results) == 1:\n",
    "        result = results.pop()\n",
    "    else:\n",
    "        print('MáS DE UN PAíS PARA', name, ':', results)\n",
    "        result = results.pop()\n",
    "    return result"
   ]
  },
  {
   "cell_type": "code",
   "execution_count": 135,
   "metadata": {
    "collapsed": false
   },
   "outputs": [],
   "source": [
    "def choose(opt_list):\n",
    "    return Counter(opt_list).most_common(1)[0][0]"
   ]
  },
  {
   "cell_type": "code",
   "execution_count": 140,
   "metadata": {
    "collapsed": false
   },
   "outputs": [],
   "source": [
    "def get_pais_autor(name):\n",
    "    r = 'DESCONOCIDO'\n",
    "    opt_dict = {}\n",
    "    for lang in ['en', 'es']:\n",
    "        opt_dict[lang] = {}\n",
    "        for db in ['dbp', 'wdt']:\n",
    "            opt_dict[lang][db] = get_pais_autor_data(db, name, lang)\n",
    "        opts = opt_dict[lang].values()\n",
    "        if all(map(lambda x: x != 'DESCONOCIDO', opts)):\n",
    "            r = choose(opts)\n",
    "            break\n",
    "    if r == 'DESCONOCIDO':\n",
    "        opts = list(filter(lambda x: x != 'DESCONOCIDO', opt_dict['en'].values()))\n",
    "        if opts:\n",
    "            r = choose(opts)\n",
    "    return r"
   ]
  },
  {
   "cell_type": "code",
   "execution_count": 141,
   "metadata": {
    "collapsed": false
   },
   "outputs": [
    {
     "data": {
      "text/plain": [
       "'Colombia'"
      ]
     },
     "execution_count": 141,
     "metadata": {},
     "output_type": "execute_result"
    }
   ],
   "source": [
    "get_pais_autor('Gabriel García Márquez')"
   ]
  },
  {
   "cell_type": "code",
   "execution_count": 142,
   "metadata": {
    "collapsed": false
   },
   "outputs": [
    {
     "data": {
      "text/plain": [
       "'Spain'"
      ]
     },
     "execution_count": 142,
     "metadata": {},
     "output_type": "execute_result"
    }
   ],
   "source": [
    "get_pais_autor('Juan Ramón Jiménez')"
   ]
  },
  {
   "cell_type": "code",
   "execution_count": 143,
   "metadata": {
    "collapsed": false
   },
   "outputs": [
    {
     "data": {
      "text/plain": [
       "'DESCONOCIDO'"
      ]
     },
     "execution_count": 143,
     "metadata": {},
     "output_type": "execute_result"
    }
   ],
   "source": [
    "get_pais_autor('dsdfsdfsd')"
   ]
  },
  {
   "cell_type": "code",
   "execution_count": null,
   "metadata": {
    "collapsed": true
   },
   "outputs": [],
   "source": []
  },
  {
   "cell_type": "code",
   "execution_count": null,
   "metadata": {
    "collapsed": false
   },
   "outputs": [
    {
     "name": "stdout",
     "output_type": "stream",
     "text": [
      "MáS DE UN PAíS PARA Ludmila Zeman : {'Czechoslovakia', 'Czech Republic'}\n",
      "MáS DE UN PAíS PARA Ludmila Zeman : {'República Checa', 'Checoslovaquia'}\n",
      "MáS DE UN PAíS PARA David Shannon : {'United States of America', 'United Kingdom'}\n",
      "MáS DE UN PAíS PARA David Shannon : {'Reino Unido', 'Estados Unidos'}\n",
      "MáS DE UN PAíS PARA Mario Ramos : {'Belgium', 'Spain'}\n",
      "MáS DE UN PAíS PARA Mario Ramos : {'España', 'Bélgica'}\n"
     ]
    }
   ],
   "source": [
    "%%time\n",
    "\n",
    "qqq=[]\n",
    "for x in autores_df['AUTOR'].unique():\n",
    "    qqq.append((x, get_pais_autor(x)))\n",
    "ppp=pd.DataFrame(qqq, columns=['AUTOR', 'PAÍS'])\n",
    "ppp.to_csv('autores_paises.csv', index=False)"
   ]
  },
  {
   "cell_type": "code",
   "execution_count": 152,
   "metadata": {
    "collapsed": false
   },
   "outputs": [
    {
     "data": {
      "text/plain": [
       "145132"
      ]
     },
     "execution_count": 152,
     "metadata": {},
     "output_type": "execute_result"
    }
   ],
   "source": [
    "autores_df['AUTOR'].nunique()"
   ]
  },
  {
   "cell_type": "code",
   "execution_count": 155,
   "metadata": {
    "collapsed": false
   },
   "outputs": [
    {
     "data": {
      "text/plain": [
       "[('Mon Daporta', 'DESCONOCIDO'),\n",
       " ('Giovanna Zoboli', 'DESCONOCIDO'),\n",
       " ('Lluís Borràs Perelló', 'DESCONOCIDO'),\n",
       " ('Sonia Alins', 'DESCONOCIDO'),\n",
       " ('DESCONOCIDO', 'DESCONOCIDO'),\n",
       " ('Charlie Ayres', 'DESCONOCIDO'),\n",
       " ('Gillian Wolfe', 'DESCONOCIDO'),\n",
       " ('Martina Badstuber', 'Germany'),\n",
       " ('Ignacio van Aerssen', 'DESCONOCIDO'),\n",
       " ('Roser Rius', 'DESCONOCIDO'),\n",
       " ('Antón Fortes Torres', 'DESCONOCIDO'),\n",
       " ('Helen Cooper', 'United Kingdom'),\n",
       " ('Cyril Pedrosa', 'DESCONOCIDO'),\n",
       " ('Mercedes Calvo', 'DESCONOCIDO'),\n",
       " ('André Bouchard', 'DESCONOCIDO'),\n",
       " ('Klaas Verplancke', 'DESCONOCIDO'),\n",
       " ('Rob Shone', 'DESCONOCIDO'),\n",
       " ('Anna Obiols', 'DESCONOCIDO'),\n",
       " ('Roberto Aliaga Sánchez', 'DESCONOCIDO'),\n",
       " ('Fina Casalderrey', 'Spain'),\n",
       " ('John Yeoman', 'DESCONOCIDO'),\n",
       " ('Magali Le Huche', 'DESCONOCIDO'),\n",
       " ('Oscar Collazos', 'Colombia'),\n",
       " ('Friedrich Karl Waechter', 'DESCONOCIDO'),\n",
       " ('Elisabetta Gnone', 'Italy'),\n",
       " ('Viviane Schwarz', 'DESCONOCIDO'),\n",
       " ('Wan-doo Kim', 'DESCONOCIDO'),\n",
       " ('Mikel Gurrutxaga', 'DESCONOCIDO'),\n",
       " ('Benoit Charlat', 'DESCONOCIDO'),\n",
       " ('Lee Suzy', 'DESCONOCIDO'),\n",
       " ('Stan Lee', 'United States of America'),\n",
       " ('Hergé', 'Belgium'),\n",
       " ('Alejandro Vallejo Betancur', 'DESCONOCIDO'),\n",
       " ('Silvia Nanclares', 'Spain'),\n",
       " ('Franz Hohler', 'Switzerland'),\n",
       " ('Luz Myriam Gutiérrez', 'DESCONOCIDO'),\n",
       " ('Orlando Mejía Rivera', 'DESCONOCIDO'),\n",
       " ('Alvaro Ramón Cárdenas Ortiz', 'DESCONOCIDO'),\n",
       " ('Stephen L. Johnson', 'DESCONOCIDO'),\n",
       " ('Isabel Minhós Martins', 'DESCONOCIDO'),\n",
       " ('Charo Pita', 'DESCONOCIDO'),\n",
       " ('Stephanie Rosenheim', 'DESCONOCIDO'),\n",
       " ('Jimmy Liao', 'DESCONOCIDO'),\n",
       " ('Quentin Blake', 'United Kingdom'),\n",
       " ('Jorge Luján', 'DESCONOCIDO'),\n",
       " ('Tim Bowley', 'DESCONOCIDO'),\n",
       " ('Yves Coppens', 'DESCONOCIDO'),\n",
       " ('Alvaro Muñoz', 'DESCONOCIDO'),\n",
       " ('Glenn Murphy', 'DESCONOCIDO'),\n",
       " ('Rudyard Kipling', 'British Raj'),\n",
       " ('Benjamin Lacombe', 'France'),\n",
       " ('Susana Henao Montoya', 'DESCONOCIDO'),\n",
       " ('Isabel Pin', 'France'),\n",
       " ('Nicholas Allan', 'DESCONOCIDO'),\n",
       " ('Carla Baredes', 'DESCONOCIDO'),\n",
       " ('Mariano Ribas', 'DESCONOCIDO'),\n",
       " ('Pablo Pineau', 'DESCONOCIDO'),\n",
       " ('Menena Cottin', 'DESCONOCIDO'),\n",
       " ('Alvarito Cuevas', 'DESCONOCIDO'),\n",
       " ('Fanuel Hanán Díaz', 'DESCONOCIDO'),\n",
       " ('Gonzalo Moure Trenor', 'DESCONOCIDO'),\n",
       " ('P.I Maltbie', 'DESCONOCIDO'),\n",
       " ('Isabelle Carrier', 'DESCONOCIDO'),\n",
       " ('Michel Van Zeveren', 'DESCONOCIDO'),\n",
       " ('Marianne Dubuc', 'DESCONOCIDO'),\n",
       " ('Linne Bie', 'DESCONOCIDO'),\n",
       " ('Melba Escobar', 'DESCONOCIDO'),\n",
       " ('Martha Lucía Usaquén Ramos', 'DESCONOCIDO'),\n",
       " ('Taro Gomi', 'DESCONOCIDO'),\n",
       " ('C. L. G Martin', 'DESCONOCIDO'),\n",
       " ('Rosa Navarro Durán', 'DESCONOCIDO'),\n",
       " ('Pablo Bernasconi', 'DESCONOCIDO'),\n",
       " ('Steve Smallman', 'DESCONOCIDO'),\n",
       " ('Laurent de Brunhoff', 'France'),\n",
       " ('Ferran Alexandri', 'DESCONOCIDO'),\n",
       " ('Fernando Garcés Blázquez', 'DESCONOCIDO'),\n",
       " ('Guilherme de Almeida', 'Brazil'),\n",
       " ('Ana María Machado', 'DESCONOCIDO'),\n",
       " ('Academia de Historia del Quindío', 'DESCONOCIDO'),\n",
       " ('Martha Alicia González Maya', 'DESCONOCIDO'),\n",
       " ('Iris Rivera', 'Argentina'),\n",
       " ('Edgar Allan Poe', 'United States of America'),\n",
       " ('Julio Cortázar', 'Belgium'),\n",
       " ('Mats Letén', 'DESCONOCIDO'),\n",
       " ('Pia Valentinis', 'DESCONOCIDO'),\n",
       " ('John Ronald Reuel Tolkien', 'DESCONOCIDO'),\n",
       " ('Christine Nöstlinger', 'Austria'),\n",
       " ('Noel Tait', 'DESCONOCIDO'),\n",
       " ('Howard Phillips Lovecraft', 'DESCONOCIDO'),\n",
       " ('Jairo Buitrago', 'DESCONOCIDO'),\n",
       " ('Jeanne Willis', 'DESCONOCIDO'),\n",
       " ('Ivo Rosati', 'DESCONOCIDO'),\n",
       " ('Boniface Ofogo', 'DESCONOCIDO'),\n",
       " ('Davide Calì', 'DESCONOCIDO'),\n",
       " ('Reiner Zimnik', 'Poland'),\n",
       " ('Geert De Kockere', 'DESCONOCIDO'),\n",
       " ('Xulio Gutiérrez', 'DESCONOCIDO'),\n",
       " ('Andrés Ibañez', 'DESCONOCIDO'),\n",
       " ('Marta Inés Bernal Trujillo', 'DESCONOCIDO'),\n",
       " ('Hugo Pratt', 'Italy'),\n",
       " ('Gloria Cecilia Díaz', 'DESCONOCIDO'),\n",
       " ('Carlos Francisco Castillo Sánchez', 'DESCONOCIDO'),\n",
       " ('Andrés Alberto Montañés Lleras', 'DESCONOCIDO'),\n",
       " ('Catalina Ruiz', 'DESCONOCIDO'),\n",
       " ('Antonio José Vélez Melo', 'DESCONOCIDO'),\n",
       " ('María Angélica Rodríguez Gutiérrez', 'DESCONOCIDO'),\n",
       " ('Feridun Oral', 'DESCONOCIDO'),\n",
       " ('Laroche Giles', 'DESCONOCIDO'),\n",
       " ('Rita M Bergstein', 'DESCONOCIDO'),\n",
       " ('Felipe Ugalde', 'DESCONOCIDO'),\n",
       " ('Fabián Mauricio Martínez González', 'DESCONOCIDO'),\n",
       " ('Miguel Angel Moncada Rueda', 'DESCONOCIDO'),\n",
       " ('Ramon Girona', 'DESCONOCIDO'),\n",
       " ('Umberto Senegal', 'DESCONOCIDO'),\n",
       " ('Mark Twain', 'United States of America'),\n",
       " ('Edgar Javier Carmona Suárez', 'DESCONOCIDO'),\n",
       " ('Jaime Lopera', 'DESCONOCIDO'),\n",
       " ('Zoran Drvenkar', 'Croatia'),\n",
       " ('Bobbi Conner', 'DESCONOCIDO'),\n",
       " ('Pablo Zamboni', 'DESCONOCIDO'),\n",
       " ('María Elena López Jordán', 'DESCONOCIDO'),\n",
       " ('Michael Rosen', 'United Kingdom'),\n",
       " ('Irene Vasco', 'DESCONOCIDO'),\n",
       " ('Laura Jane Coats', 'DESCONOCIDO'),\n",
       " ('William Shakespeare', 'Kingdom of England'),\n",
       " ('Gustavo Rubio Guerrero', 'DESCONOCIDO'),\n",
       " ('Brian Lies', 'DESCONOCIDO'),\n",
       " ('Edoardo Bardella Rapino', 'DESCONOCIDO'),\n",
       " ('María del Sol Peralta', 'DESCONOCIDO'),\n",
       " ('Rosalyn Wade', 'DESCONOCIDO'),\n",
       " ('Mark Hutchinson', 'DESCONOCIDO'),\n",
       " ('Von Hardesty', 'DESCONOCIDO'),\n",
       " ('María Eugenia Beltrán Franco', 'DESCONOCIDO'),\n",
       " ('Humberto Durán Vera', 'DESCONOCIDO'),\n",
       " ('Eric Carle', 'United States of America'),\n",
       " ('Leslie P Gartner', 'DESCONOCIDO'),\n",
       " ('Shaun Tan', 'Australia'),\n",
       " ('Michel Alzéal', 'DESCONOCIDO'),\n",
       " ('Gabrielle Vincent', 'Belgium'),\n",
       " ('Carme Martín', 'DESCONOCIDO'),\n",
       " ('Andrés Elías Flórez Brum', 'DESCONOCIDO'),\n",
       " ('Alister Elías Ramírez Márquez', 'DESCONOCIDO'),\n",
       " ('Mario Jiménez Henao', 'DESCONOCIDO'),\n",
       " ('Genichiro Yagyu', 'DESCONOCIDO'),\n",
       " ('Annick Combier', 'DESCONOCIDO'),\n",
       " ('Sarina Simon', 'DESCONOCIDO'),\n",
       " ('María Cristina Ramos', 'Argentina'),\n",
       " ('Ludmila Zeman', 'Czechoslovakia'),\n",
       " ('John Marsden', 'Australia'),\n",
       " ('Miguel Angel Rojas Arias', 'DESCONOCIDO'),\n",
       " ('Nicanor Parra', 'DESCONOCIDO'),\n",
       " ('Eutimio Mejía Soto', 'DESCONOCIDO'),\n",
       " ('Jonathan Farr', 'DESCONOCIDO'),\n",
       " ('Verónica Murguía', 'Mexico'),\n",
       " ('Manuela Olten', 'DESCONOCIDO'),\n",
       " ('Daniela Kulot-Frisch', 'DESCONOCIDO'),\n",
       " ('Polly Dunbar', 'United Kingdom'),\n",
       " ('Estelle Vidard', 'DESCONOCIDO'),\n",
       " ('María Teresa Arango de Narváez', 'DESCONOCIDO'),\n",
       " ('Anne Rooney', 'DESCONOCIDO'),\n",
       " ('Nick Arnold', 'United Kingdom'),\n",
       " ('Cornelia Funke', 'Germany'),\n",
       " ('Antonio Ventura', 'DESCONOCIDO'),\n",
       " ('Shirley Isherwood', 'DESCONOCIDO'),\n",
       " ('Claire Freedman', 'DESCONOCIDO'),\n",
       " ('Peter Stamm', 'Switzerland'),\n",
       " ('Lluís Cugota i Mateu', 'DESCONOCIDO'),\n",
       " ('Charles Perrault', 'France'),\n",
       " ('Paula Vera', 'DESCONOCIDO'),\n",
       " ('Catherine Vadon', 'DESCONOCIDO'),\n",
       " ('Keiko Kasza', 'DESCONOCIDO'),\n",
       " ('Carl Norac', 'Belgium'),\n",
       " ('Alejandro Jodorowsky', 'Chile'),\n",
       " ('Rebeca Orozco', 'DESCONOCIDO'),\n",
       " ('Gabriela Mistral', 'Chile'),\n",
       " ('Ricardo L Castro', 'DESCONOCIDO'),\n",
       " ('Rena Izumibara', 'DESCONOCIDO'),\n",
       " ('Martín Saurí', 'DESCONOCIDO'),\n",
       " ('Alan Moore', 'United Kingdom'),\n",
       " ('Rodrigo Vargas', 'DESCONOCIDO'),\n",
       " ('Satomi Ichikawa', 'DESCONOCIDO'),\n",
       " ('Penny Clarke', 'DESCONOCIDO'),\n",
       " ('Rébecca Dautremer', 'DESCONOCIDO'),\n",
       " ('Juan José Colsa', 'DESCONOCIDO'),\n",
       " ('Philip Steele', 'United Kingdom'),\n",
       " ('Anna Manso', 'DESCONOCIDO'),\n",
       " ('Mathilde Stein', 'DESCONOCIDO'),\n",
       " ('Satoshi Kitamura', 'Japan'),\n",
       " ('Rafael Pombo', 'DESCONOCIDO'),\n",
       " ('Victor Escandell', 'DESCONOCIDO'),\n",
       " ('Roc Olivé Pous', 'DESCONOCIDO'),\n",
       " ('Leo Lionni', 'Netherlands'),\n",
       " ('Rupert Matthews', 'DESCONOCIDO'),\n",
       " ('Josse Goffin', 'DESCONOCIDO'),\n",
       " ('Alexandre Honrado', 'DESCONOCIDO'),\n",
       " ('Marta Farias', 'DESCONOCIDO'),\n",
       " ('Christian Voltz', 'DESCONOCIDO'),\n",
       " ('Jan Loof', 'DESCONOCIDO'),\n",
       " ('Oriol Pagès', 'DESCONOCIDO'),\n",
       " ('Patrick McDonnell', 'DESCONOCIDO'),\n",
       " ('James Stimson', 'DESCONOCIDO'),\n",
       " ('Dieter Wiesmüller', 'Germany'),\n",
       " ('Luisa Aguilar', 'DESCONOCIDO'),\n",
       " ('Silvio Freytes', 'DESCONOCIDO'),\n",
       " ('Luis Luque', 'DESCONOCIDO'),\n",
       " ('Carmen Gil', 'DESCONOCIDO'),\n",
       " ('Sue Graves', 'DESCONOCIDO'),\n",
       " ('Humberto Jaramillo Angel', 'DESCONOCIDO'),\n",
       " ('John Jairo Guzmán Abella', 'DESCONOCIDO'),\n",
       " ('Ivar Da Coll', 'DESCONOCIDO'),\n",
       " ('Gianni Rodari', 'Italy'),\n",
       " ('Sarah L Thomson', 'DESCONOCIDO'),\n",
       " ('Martina Baumbach', 'DESCONOCIDO'),\n",
       " ('Taï-Marc Le Thanh', 'DESCONOCIDO'),\n",
       " ('Bruno Heitz', 'DESCONOCIDO'),\n",
       " ('Juan Villoro', 'Mexico'),\n",
       " ('Yu-Jeong Lee', 'DESCONOCIDO'),\n",
       " ('Yeon-Ju Yang', 'DESCONOCIDO'),\n",
       " ('Riki Blanco', 'DESCONOCIDO'),\n",
       " ('Young-Jik Kwok', 'DESCONOCIDO'),\n",
       " ('Carlos Olalla Linares', 'DESCONOCIDO'),\n",
       " ('Guido Wandrey', 'DESCONOCIDO'),\n",
       " ('Moritz Petz', 'DESCONOCIDO'),\n",
       " ('Caroline Desnoettes', 'DESCONOCIDO'),\n",
       " ('Christine Lesueur', 'DESCONOCIDO'),\n",
       " ('Elsa Beskow', 'Sweden'),\n",
       " ('Claude Ponti', 'France'),\n",
       " ('Anthony Browne', 'United Kingdom'),\n",
       " ('Michel Ocelot', 'DESCONOCIDO'),\n",
       " ('Pau Miranda', 'DESCONOCIDO'),\n",
       " ('Núria Barba', 'DESCONOCIDO'),\n",
       " ('Vladdo', 'DESCONOCIDO'),\n",
       " ('Meritxell Martí', 'DESCONOCIDO'),\n",
       " ('Efraín Sánchez Cabra', 'DESCONOCIDO'),\n",
       " ('Saul Steinberg', 'DESCONOCIDO'),\n",
       " ('James Vance Marshall', 'DESCONOCIDO'),\n",
       " ('Jean Lecointre', 'DESCONOCIDO'),\n",
       " ('Ana Tortosa', 'DESCONOCIDO'),\n",
       " ('Edward van de Vendel', 'Netherlands')]"
      ]
     },
     "execution_count": 155,
     "metadata": {},
     "output_type": "execute_result"
    }
   ],
   "source": [
    "qqq"
   ]
  },
  {
   "cell_type": "code",
   "execution_count": 147,
   "metadata": {
    "collapsed": false
   },
   "outputs": [],
   "source": [
    "aaa=pd.DataFrame([(1,2),(3,4),(5,6)], columns=['AUTOR', 'PAÍS'])"
   ]
  },
  {
   "cell_type": "code",
   "execution_count": 148,
   "metadata": {
    "collapsed": false
   },
   "outputs": [
    {
     "data": {
      "text/html": [
       "<div>\n",
       "<table border=\"1\" class=\"dataframe\">\n",
       "  <thead>\n",
       "    <tr style=\"text-align: right;\">\n",
       "      <th></th>\n",
       "      <th>AUTOR</th>\n",
       "      <th>PAÍS</th>\n",
       "    </tr>\n",
       "  </thead>\n",
       "  <tbody>\n",
       "    <tr>\n",
       "      <th>0</th>\n",
       "      <td>1</td>\n",
       "      <td>2</td>\n",
       "    </tr>\n",
       "    <tr>\n",
       "      <th>1</th>\n",
       "      <td>3</td>\n",
       "      <td>4</td>\n",
       "    </tr>\n",
       "    <tr>\n",
       "      <th>2</th>\n",
       "      <td>5</td>\n",
       "      <td>6</td>\n",
       "    </tr>\n",
       "  </tbody>\n",
       "</table>\n",
       "</div>"
      ],
      "text/plain": [
       "   AUTOR  PAÍS\n",
       "0      1     2\n",
       "1      3     4\n",
       "2      5     6"
      ]
     },
     "execution_count": 148,
     "metadata": {},
     "output_type": "execute_result"
    }
   ],
   "source": [
    "aaa"
   ]
  },
  {
   "cell_type": "code",
   "execution_count": null,
   "metadata": {
    "collapsed": true
   },
   "outputs": [],
   "source": [
    "aaa.to_csv()"
   ]
  }
 ],
 "metadata": {
  "kernelspec": {
   "display_name": "Python 3",
   "language": "python",
   "name": "python3"
  },
  "language_info": {
   "codemirror_mode": {
    "name": "ipython",
    "version": 3
   },
   "file_extension": ".py",
   "mimetype": "text/x-python",
   "name": "python",
   "nbconvert_exporter": "python",
   "pygments_lexer": "ipython3",
   "version": "3.4.3"
  }
 },
 "nbformat": 4,
 "nbformat_minor": 1
}
