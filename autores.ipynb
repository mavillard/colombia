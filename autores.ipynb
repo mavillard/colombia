{
 "cells": [
  {
   "cell_type": "code",
   "execution_count": 1,
   "metadata": {
    "collapsed": true
   },
   "outputs": [],
   "source": [
    "import csv\n",
    "import os\n",
    "import re\n",
    "from collections import defaultdict\n",
    "from datetime import datetime\n",
    "from datetime import timedelta\n",
    "\n",
    "import matplotlib\n",
    "import numpy as np\n",
    "import networkx as nx\n",
    "import pandas as pd\n",
    "import seaborn as sns\n",
    "from matplotlib import pyplot as plt"
   ]
  },
  {
   "cell_type": "code",
   "execution_count": 2,
   "metadata": {
    "collapsed": true
   },
   "outputs": [],
   "source": [
    "total_colums = [\n",
    "    # Ejemplar\n",
    "    'TITULO', 'AUTOR', 'EDITORIAL', 'SUCURSAL', 'DESC_SUCURSAL', 'COD_BARRAS_LIBRO', 'NUM_TITULO', 'SIG_TOPOGRAFICA',\n",
    "    'DEWEY', 'II_SUMARIO', 'I_SUMARIO', 'EDICION', 'LOCALIZACION_EJEMPLAR', 'DESC_LOCALIZACION_EJEMPLAR', 'POLITICA',\n",
    "    'DESC_POLITICA_EJEMPLAR', 'ISBN', 'FECHA_REGISTRO_EJEMPLAR', 'FECHA_ADICION_EJEMPLAR', 'FECHA_PUB',\n",
    "    'ESTADO_EJEMPLAR', 'PAIS_EJEMPLAR',\n",
    "    # Usuario (I)\n",
    "    'OCUPACION', 'NIVEL_EDUCACION', 'AREA_ESTUDIO',\n",
    "    # Prestamo (I)\n",
    "    'SUCURSAL_PRESTAMO', 'SUCURSAL_DEVOLUCION',\n",
    "    # Usuario (II)\n",
    "    'SUCURSAL_DEL_LECTOR', 'COD_BARRAS_LECTOR', 'CATEGORÍA',\n",
    "    # Prestamo (II)\n",
    "    'FECHA_PRESTAMO', 'FECHA_REAL_DEVOLUCION',\n",
    "]"
   ]
  },
  {
   "cell_type": "code",
   "execution_count": 3,
   "metadata": {
    "collapsed": true
   },
   "outputs": [],
   "source": [
    "used_colums = [\n",
    "    # Ejemplar\n",
    "    'TITULO', 'AUTOR', 'SUCURSAL', 'COD_BARRAS_LIBRO', 'DEWEY', 'DESC_LOCALIZACION_EJEMPLAR',\n",
    "    'FECHA_PUB','PAIS_EJEMPLAR',\n",
    "    # Usuario (I)\n",
    "    'OCUPACION','NIVEL_EDUCACION','AREA_ESTUDIO',\n",
    "    # Prestamo (I)\n",
    "    'SUCURSAL_PRESTAMO','SUCURSAL_DEVOLUCION',\n",
    "    # Usuario (II)\n",
    "    'SUCURSAL_DEL_LECTOR', 'COD_BARRAS_LECTOR', 'CATEGORÍA',\n",
    "    # Prestamo (II)\n",
    "    'FECHA_PRESTAMO','FECHA_REAL_DEVOLUCION'\n",
    "]"
   ]
  },
  {
   "cell_type": "markdown",
   "metadata": {},
   "source": [
    "# Préstamos"
   ]
  },
  {
   "cell_type": "code",
   "execution_count": 4,
   "metadata": {
    "collapsed": false
   },
   "outputs": [
    {
     "name": "stdout",
     "output_type": "stream",
     "text": [
      "CPU times: user 23.1 s, sys: 1.01 s, total: 24.1 s\n",
      "Wall time: 25.6 s\n"
     ]
    }
   ],
   "source": [
    "%%time\n",
    "\n",
    "dtypes = {\n",
    "    'TITULO': str,\n",
    "    'AUTOR': str,\n",
    "    'SUCURSAL': str,\n",
    "    'COD_BARRAS_LIBRO': str,\n",
    "    'DEWEY': str,\n",
    "    'DESC_LOCALIZACION_EJEMPLAR': str,\n",
    "    'FECHA_PUB': str,\n",
    "    'PAIS_EJEMPLAR': str,\n",
    "    'OCUPACION': str,\n",
    "    'NIVEL_EDUCACION': str,\n",
    "    'AREA_ESTUDIO': str,\n",
    "    'SUCURSAL_PRESTAMO': str,\n",
    "    'SUCURSAL_DEVOLUCION': str,\n",
    "    'SUCURSAL_DEL_LECTOR': str,\n",
    "    'COD_BARRAS_LECTOR': str,\n",
    "    'CATEGORÍA': str,\n",
    "    'FECHA_PRESTAMO': str,\n",
    "    'FECHA_REAL_DEVOLUCION': str,\n",
    "    'DATE_PRESTAMO': pd.tslib.Timestamp,\n",
    "    'DATE_DEVOLUCION': pd.tslib.Timestamp,\n",
    "}\n",
    "\n",
    "prestamos_df = pd.read_csv('prestamos_totales.csv', header=0, dtype=dtypes, parse_dates=['DATE_PRESTAMO', 'DATE_DEVOLUCION'])\n",
    "prestamos_df = prestamos_df.fillna('')"
   ]
  },
  {
   "cell_type": "code",
   "execution_count": 5,
   "metadata": {
    "collapsed": false
   },
   "outputs": [
    {
     "data": {
      "text/plain": [
       "(3054360, 20)"
      ]
     },
     "execution_count": 5,
     "metadata": {},
     "output_type": "execute_result"
    }
   ],
   "source": [
    "prestamos_df.shape"
   ]
  },
  {
   "cell_type": "code",
   "execution_count": 6,
   "metadata": {
    "collapsed": false
   },
   "outputs": [
    {
     "data": {
      "text/html": [
       "<div>\n",
       "<table border=\"1\" class=\"dataframe\">\n",
       "  <thead>\n",
       "    <tr style=\"text-align: right;\">\n",
       "      <th></th>\n",
       "      <th>TITULO</th>\n",
       "      <th>AUTOR</th>\n",
       "      <th>SUCURSAL</th>\n",
       "      <th>COD_BARRAS_LIBRO</th>\n",
       "      <th>DEWEY</th>\n",
       "      <th>DESC_LOCALIZACION_EJEMPLAR</th>\n",
       "      <th>FECHA_PUB</th>\n",
       "      <th>PAIS_EJEMPLAR</th>\n",
       "      <th>OCUPACION</th>\n",
       "      <th>NIVEL_EDUCACION</th>\n",
       "      <th>AREA_ESTUDIO</th>\n",
       "      <th>SUCURSAL_PRESTAMO</th>\n",
       "      <th>SUCURSAL_DEVOLUCION</th>\n",
       "      <th>SUCURSAL_DEL_LECTOR</th>\n",
       "      <th>COD_BARRAS_LECTOR</th>\n",
       "      <th>CATEGORÍA</th>\n",
       "      <th>FECHA_PRESTAMO</th>\n",
       "      <th>FECHA_REAL_DEVOLUCION</th>\n",
       "      <th>DATE_PRESTAMO</th>\n",
       "      <th>DATE_DEVOLUCION</th>\n",
       "    </tr>\n",
       "  </thead>\n",
       "  <tbody>\n",
       "    <tr>\n",
       "      <th>0</th>\n",
       "      <td>Un bicho extraño</td>\n",
       "      <td>Daporta, Mon.</td>\n",
       "      <td>ARM</td>\n",
       "      <td>2298061</td>\n",
       "      <td>863</td>\n",
       "      <td>Infantil</td>\n",
       "      <td>2010</td>\n",
       "      <td>sp</td>\n",
       "      <td></td>\n",
       "      <td></td>\n",
       "      <td></td>\n",
       "      <td>ARM</td>\n",
       "      <td>ARM</td>\n",
       "      <td>ARM</td>\n",
       "      <td>88429527</td>\n",
       "      <td>CTA</td>\n",
       "      <td>22/01/2015</td>\n",
       "      <td>04/02/2015</td>\n",
       "      <td>2015-01-22</td>\n",
       "      <td>2015-02-04</td>\n",
       "    </tr>\n",
       "    <tr>\n",
       "      <th>1</th>\n",
       "      <td>Un bicho extraño</td>\n",
       "      <td>Daporta, Mon.</td>\n",
       "      <td>ARM</td>\n",
       "      <td>2298061</td>\n",
       "      <td>863</td>\n",
       "      <td>Infantil</td>\n",
       "      <td>2010</td>\n",
       "      <td>sp</td>\n",
       "      <td></td>\n",
       "      <td></td>\n",
       "      <td></td>\n",
       "      <td>ARM</td>\n",
       "      <td>ARM</td>\n",
       "      <td>ARM</td>\n",
       "      <td>88416381</td>\n",
       "      <td>CTA</td>\n",
       "      <td>31/03/2015</td>\n",
       "      <td>07/04/2015</td>\n",
       "      <td>2015-03-31</td>\n",
       "      <td>2015-04-07</td>\n",
       "    </tr>\n",
       "    <tr>\n",
       "      <th>2</th>\n",
       "      <td>Quisiera tener ...</td>\n",
       "      <td>Zoboli, Giovanna.</td>\n",
       "      <td>ARM</td>\n",
       "      <td>2284458</td>\n",
       "      <td>853</td>\n",
       "      <td>Infantil</td>\n",
       "      <td>2010</td>\n",
       "      <td>mx</td>\n",
       "      <td></td>\n",
       "      <td></td>\n",
       "      <td></td>\n",
       "      <td>ARM</td>\n",
       "      <td>ARM</td>\n",
       "      <td>ARM</td>\n",
       "      <td>88381353</td>\n",
       "      <td>CTA</td>\n",
       "      <td>07/11/2015</td>\n",
       "      <td>17/11/2015</td>\n",
       "      <td>2015-11-07</td>\n",
       "      <td>2015-11-17</td>\n",
       "    </tr>\n",
       "    <tr>\n",
       "      <th>3</th>\n",
       "      <td>Johannes Gutenberg</td>\n",
       "      <td>Borràs Perelló, Lluís.</td>\n",
       "      <td>ARM</td>\n",
       "      <td>2288922</td>\n",
       "      <td>925</td>\n",
       "      <td>Infantil</td>\n",
       "      <td>2010</td>\n",
       "      <td>sp</td>\n",
       "      <td>Empleado</td>\n",
       "      <td>Técnico</td>\n",
       "      <td>Adm. de empresas</td>\n",
       "      <td>ARM</td>\n",
       "      <td>ARM</td>\n",
       "      <td>ARM</td>\n",
       "      <td>88007424</td>\n",
       "      <td>CEM</td>\n",
       "      <td>16/01/2015</td>\n",
       "      <td>16/01/2015</td>\n",
       "      <td>2015-01-16</td>\n",
       "      <td>2015-01-16</td>\n",
       "    </tr>\n",
       "    <tr>\n",
       "      <th>4</th>\n",
       "      <td>La fantástica leyenda de: la princesa y el dragón</td>\n",
       "      <td>Alins, Sonia.</td>\n",
       "      <td>ARM</td>\n",
       "      <td>2288896</td>\n",
       "      <td>863</td>\n",
       "      <td>Infantil</td>\n",
       "      <td>2010</td>\n",
       "      <td>sp</td>\n",
       "      <td></td>\n",
       "      <td></td>\n",
       "      <td></td>\n",
       "      <td>ARM</td>\n",
       "      <td>ARM</td>\n",
       "      <td>ARM</td>\n",
       "      <td>88429529</td>\n",
       "      <td>CTA</td>\n",
       "      <td>21/01/2015</td>\n",
       "      <td>28/01/2015</td>\n",
       "      <td>2015-01-21</td>\n",
       "      <td>2015-01-28</td>\n",
       "    </tr>\n",
       "  </tbody>\n",
       "</table>\n",
       "</div>"
      ],
      "text/plain": [
       "                                              TITULO                   AUTOR  \\\n",
       "0                                   Un bicho extraño           Daporta, Mon.   \n",
       "1                                   Un bicho extraño           Daporta, Mon.   \n",
       "2                                 Quisiera tener ...       Zoboli, Giovanna.   \n",
       "3                                 Johannes Gutenberg  Borràs Perelló, Lluís.   \n",
       "4  La fantástica leyenda de: la princesa y el dragón           Alins, Sonia.   \n",
       "\n",
       "  SUCURSAL COD_BARRAS_LIBRO DEWEY DESC_LOCALIZACION_EJEMPLAR FECHA_PUB  \\\n",
       "0      ARM          2298061   863                   Infantil      2010   \n",
       "1      ARM          2298061   863                   Infantil      2010   \n",
       "2      ARM          2284458   853                   Infantil      2010   \n",
       "3      ARM          2288922   925                   Infantil      2010   \n",
       "4      ARM          2288896   863                   Infantil      2010   \n",
       "\n",
       "  PAIS_EJEMPLAR OCUPACION NIVEL_EDUCACION      AREA_ESTUDIO SUCURSAL_PRESTAMO  \\\n",
       "0            sp                                                           ARM   \n",
       "1            sp                                                           ARM   \n",
       "2            mx                                                           ARM   \n",
       "3            sp  Empleado         Técnico  Adm. de empresas               ARM   \n",
       "4            sp                                                           ARM   \n",
       "\n",
       "  SUCURSAL_DEVOLUCION SUCURSAL_DEL_LECTOR COD_BARRAS_LECTOR CATEGORÍA  \\\n",
       "0                 ARM                 ARM          88429527       CTA   \n",
       "1                 ARM                 ARM          88416381       CTA   \n",
       "2                 ARM                 ARM          88381353       CTA   \n",
       "3                 ARM                 ARM          88007424       CEM   \n",
       "4                 ARM                 ARM          88429529       CTA   \n",
       "\n",
       "  FECHA_PRESTAMO FECHA_REAL_DEVOLUCION DATE_PRESTAMO DATE_DEVOLUCION  \n",
       "0     22/01/2015            04/02/2015    2015-01-22      2015-02-04  \n",
       "1     31/03/2015            07/04/2015    2015-03-31      2015-04-07  \n",
       "2     07/11/2015            17/11/2015    2015-11-07      2015-11-17  \n",
       "3     16/01/2015            16/01/2015    2015-01-16      2015-01-16  \n",
       "4     21/01/2015            28/01/2015    2015-01-21      2015-01-28  "
      ]
     },
     "execution_count": 6,
     "metadata": {},
     "output_type": "execute_result"
    }
   ],
   "source": [
    "prestamos_df.head()"
   ]
  },
  {
   "cell_type": "markdown",
   "metadata": {},
   "source": [
    "# Country codes"
   ]
  },
  {
   "cell_type": "markdown",
   "metadata": {},
   "source": [
    "## LOC/MARC"
   ]
  },
  {
   "cell_type": "markdown",
   "metadata": {},
   "source": [
    "http://www.loc.gov/marc/countries/countries_code.html"
   ]
  },
  {
   "cell_type": "code",
   "execution_count": 20,
   "metadata": {
    "collapsed": false
   },
   "outputs": [],
   "source": [
    "loc_marc_df = pd.read_csv('codes-loc-marc-countries.csv', sep='\\t', names=['code','country'])\n",
    "loc_marc_sr = pd.Series(data=list(loc_marc_df['country']), index=list(loc_marc_df['code']))"
   ]
  },
  {
   "cell_type": "code",
   "execution_count": 21,
   "metadata": {
    "collapsed": false
   },
   "outputs": [
    {
     "data": {
      "text/plain": [
       "aa                          Albania\n",
       "abc                         Alberta\n",
       "-ac     Ashmore and Cartier Islands\n",
       "aca    Australian Capital Territory\n",
       "ae                          Algeria\n",
       "dtype: object"
      ]
     },
     "execution_count": 21,
     "metadata": {},
     "output_type": "execute_result"
    }
   ],
   "source": [
    "loc_marc_sr.head()"
   ]
  },
  {
   "cell_type": "markdown",
   "metadata": {},
   "source": [
    "## ISO"
   ]
  },
  {
   "cell_type": "markdown",
   "metadata": {},
   "source": [
    "http://www.nationsonline.org/oneworld/country_code_list.htm"
   ]
  },
  {
   "cell_type": "code",
   "execution_count": 9,
   "metadata": {
    "collapsed": false
   },
   "outputs": [],
   "source": [
    "iso_df = pd.read_csv('codes-iso-countries.csv', sep='\\t', names=['country', 'iso-2', 'iso-3', 'code'])\n",
    "iso2_sr = pd.Series(data=list(iso_df['country']), index=map(lambda x: str(x).lower(), iso_df['iso-2']))\n",
    "iso3_sr = pd.Series(data=list(iso_df['country']), index=map(lambda x: str(x).lower(), iso_df['iso-3']))"
   ]
  },
  {
   "cell_type": "code",
   "execution_count": 10,
   "metadata": {
    "collapsed": false
   },
   "outputs": [
    {
     "data": {
      "text/plain": [
       "af       Afghanistan\n",
       "ax     Aland Islands\n",
       "al           Albania\n",
       "dz           Algeria\n",
       "as    American Samoa\n",
       "dtype: object"
      ]
     },
     "execution_count": 10,
     "metadata": {},
     "output_type": "execute_result"
    }
   ],
   "source": [
    "iso2_sr.head()"
   ]
  },
  {
   "cell_type": "code",
   "execution_count": 11,
   "metadata": {
    "collapsed": false
   },
   "outputs": [
    {
     "data": {
      "text/plain": [
       "afg       Afghanistan\n",
       "ala     Aland Islands\n",
       "alb           Albania\n",
       "dza           Algeria\n",
       "asm    American Samoa\n",
       "dtype: object"
      ]
     },
     "execution_count": 11,
     "metadata": {},
     "output_type": "execute_result"
    }
   ],
   "source": [
    "iso3_sr.head()"
   ]
  },
  {
   "cell_type": "markdown",
   "metadata": {},
   "source": [
    "## Mine"
   ]
  },
  {
   "cell_type": "code",
   "execution_count": 64,
   "metadata": {
    "collapsed": true
   },
   "outputs": [],
   "source": [
    "missing_codes_dict = {\n",
    "    'uk': 'United Kingdom',\n",
    "    'en': 'England',\n",
    "    'spa': 'Spain',\n",
    "    'CK': 'Colombia',\n",
    "    'eng': 'England',\n",
    "    'ger': 'Germany',\n",
    "    'uy|': 'Uruguay',\n",
    "    'SP': 'Spain',\n",
    "    'AG': 'Argentina',\n",
    "    'por': 'Portugal',\n",
    "    'jap': 'Japan',\n",
    "    'ur': 'Uruguay',\n",
    "    'fl': 'Florida',\n",
    "    'flo': 'Florida',\n",
    "    'fre': 'French Guiana',\n",
    "    'he': 'Heard Island and Mcdonald Islands',\n",
    "    'ka': 'Kansas',\n",
    "    'lou': 'Louisiana',\n",
    "    'pu': 'Puerto Rico',\n",
    "    'wa': 'Washington (State)',\n",
    "}"
   ]
  },
  {
   "cell_type": "markdown",
   "metadata": {},
   "source": [
    "# Autores"
   ]
  },
  {
   "cell_type": "code",
   "execution_count": 18,
   "metadata": {
    "collapsed": true
   },
   "outputs": [],
   "source": [
    "autores_df = pd.DataFrame()"
   ]
  },
  {
   "cell_type": "markdown",
   "metadata": {},
   "source": [
    "## Nombre"
   ]
  },
  {
   "cell_type": "code",
   "execution_count": 14,
   "metadata": {
    "collapsed": false
   },
   "outputs": [
    {
     "data": {
      "text/plain": [
       "                                                                409373\n",
       "García Márquez, Gabriel, 1927-2014                               13207\n",
       "Colombia.                                                        11526\n",
       "Hergé, 1907-1983.                                                11510\n",
       "Browne, Anthony, 1946-.                                           8653\n",
       "Foucault, Michel, 1926-1984.                                      6849\n",
       "Cortázar, Julio, 1914-1984.                                       6478\n",
       "Nietzsche, Friedrich Wilhelm, 1844-1900.                          5876\n",
       "Da Coll, Ivar, 1962-                                              5350\n",
       "Kasza, Keiko.                                                     5336\n",
       "Shakespeare, William, 1564-1616.                                  5012\n",
       "Verne, Jules, 1828-1905.                                          4394\n",
       "Instituto Colombiano de Normas Técnicas y Certificación.          4318\n",
       "Dostoievski, Fedor Mijailovich, 1821-1881.                        4296\n",
       "Rowling, J. K., 1965-                                             4269\n",
       "Borges, Jorge Luis, 1899-1986.                                    4192\n",
       "Saramago, José, 1922-2010                                         4091\n",
       "Eco, Umberto, 1932-                                               4076\n",
       "Freud, Sigmund, 1856-1939.                                        3966\n",
       "Poe, Edgar Allan, 1809-1849.                                      3777\n",
       "Vallejo, Fernando, 1942-                                          3724\n",
       "Marx, Karl, 1818-1883.                                            3690\n",
       "Montes, Graciela, 1947-                                           3686\n",
       "McKee, David, 1935-                                               3654\n",
       "Vargas Llosa, Mario, 1936-                                        3540\n",
       "Wilde, Oscar, 1854-1900.                                          3503\n",
       "Pombo, Rafael, 1833-1912.                                         3301\n",
       "Ospina, William, 1954-                                            3074\n",
       "Bourdieu, Pierre, 1930-2002.                                      3058\n",
       "Platón, 428?-347 a. C.                                            3032\n",
       "                                                                 ...  \n",
       "Ramírez Nieva, María Teresa, 1944-                                   1\n",
       "Youden, W. J.                                                        1\n",
       "Martínez Alcalde, Juan.                                              1\n",
       "Lombardi, Ricardo.                                                   1\n",
       "Barón Ramírez, Ana Lonie.                                            1\n",
       "Herculano de Carvalho e Araujo, Alexandre, 1810-1877.                1\n",
       "Heinrich, Bernd.                                                     1\n",
       "Colombia. Legación (Estados Unidos)                                  1\n",
       "Marín, Rufino.                                                       1\n",
       "Smith, Thor L.                                                       1\n",
       "Torres, Juan.                                                        1\n",
       "Mira, María Rosa.                                                    1\n",
       "Paulson, Ed.                                                         1\n",
       "Ochatoma Paravicino, José.                                           1\n",
       "Boero, Jorge A.                                                      1\n",
       "Patterson, Kerry.                                                    1\n",
       "Brasil. Ministerio do Planejamento e Orcamento. Secretaria d         1\n",
       "Rovira, José Carlos.                                                 1\n",
       "Fernández, Ángel.                                                    1\n",
       "Waagenaar, Sam.                                                      1\n",
       "Brautlacht, Erich.                                                   1\n",
       "Simposio sobre El profesor Luis López de Mesa (1996 : Medell         1\n",
       "Morris-Suzuki, Tessa, 1951-                                          1\n",
       "Claude, Marcel, 1957-                                                1\n",
       "Suárez D., Jaime.                                                    1\n",
       "Masriera, Víctor.                                                    1\n",
       "Festinger, Léon.                                                     1\n",
       "Caron, Pierre, 1875-1952.                                            1\n",
       "Rivera, José.                                                        1\n",
       "Sainte-Claire Deville, Paul.                                         1\n",
       "Name: AUTOR, dtype: int64"
      ]
     },
     "execution_count": 14,
     "metadata": {},
     "output_type": "execute_result"
    }
   ],
   "source": [
    "prestamos_df['AUTOR'].value_counts()"
   ]
  },
  {
   "cell_type": "code",
   "execution_count": 19,
   "metadata": {
    "collapsed": false
   },
   "outputs": [
    {
     "name": "stdout",
     "output_type": "stream",
     "text": [
      "CPU times: user 7min 25s, sys: 1.42 s, total: 7min 26s\n",
      "Wall time: 7min 26s\n"
     ]
    }
   ],
   "source": [
    "%%time\n",
    "\n",
    "def process_autor(x):\n",
    "    r = x['AUTOR'].strip()\n",
    "    s = re.findall('(.+)(, \\d{4}-(\\d{4}\\.?)?)', r)\n",
    "    if s:\n",
    "        r = s[0][0]\n",
    "    return r\n",
    "\n",
    "autores_df['AUTOR'] = prestamos_df.apply(process_autor, axis=1)"
   ]
  },
  {
   "cell_type": "markdown",
   "metadata": {},
   "source": [
    "## País ejemplar"
   ]
  },
  {
   "cell_type": "code",
   "execution_count": 36,
   "metadata": {
    "collapsed": false
   },
   "outputs": [],
   "source": [
    "total_countries = set(list(loc_marc_sr.values) + list(iso2_sr.values) + list(iso3_sr.values))"
   ]
  },
  {
   "cell_type": "code",
   "execution_count": 68,
   "metadata": {
    "collapsed": false
   },
   "outputs": [
    {
     "name": "stdout",
     "output_type": "stream",
     "text": [
      "CPU times: user 11min 58s, sys: 1.03 s, total: 11min 59s\n",
      "Wall time: 11min 58s\n"
     ]
    }
   ],
   "source": [
    "%%time\n",
    "\n",
    "def process_pais(x):\n",
    "    a = x['PAIS_EJEMPLAR'].strip()\n",
    "    if a in loc_marc_sr:\n",
    "        r = loc_marc_sr[a]\n",
    "    elif '-' + a in loc_marc_sr:\n",
    "        r = loc_marc_sr['-' + a]\n",
    "    elif a in iso3_sr:\n",
    "        r = iso3_sr[a]\n",
    "    elif a in iso2_sr:\n",
    "        r = iso2_sr[a]\n",
    "    elif a in missing_codes_dict:\n",
    "        r = missing_codes_dict[a]\n",
    "    else:\n",
    "        r = 'DESCONOCIDO'\n",
    "    return r\n",
    "\n",
    "autores_df['PAIS_EJEMPLAR'] = prestamos_df.apply(process_pais, axis=1)"
   ]
  },
  {
   "cell_type": "code",
   "execution_count": 70,
   "metadata": {
    "collapsed": false
   },
   "outputs": [
    {
     "data": {
      "text/plain": [
       "Spain                                          1196618\n",
       "Colombia                                        968719\n",
       "Mexico                                          366627\n",
       "Argentina                                       180773\n",
       "DESCONOCIDO                                      86413\n",
       "United States                                    49631\n",
       "Venezuela                                        28224\n",
       "England                                          27375\n",
       "Chile                                            17621\n",
       "New York (State)                                 15367\n",
       "France                                           12416\n",
       "California                                        9985\n",
       "Peru                                              9473\n",
       "Ecuador                                           9359\n",
       "Brazil                                            8413\n",
       "Cuba                                              7249\n",
       "United Kingdom                                    6916\n",
       "Italy                                             6338\n",
       "Germany                                           5872\n",
       "China                                             2974\n",
       "Maryland                                          2566\n",
       "Uruguay                                           2406\n",
       "Costa Rica                                        2313\n",
       "Soviet Union                                      1794\n",
       "Massachusetts                                     1623\n",
       "Switzerland                                       1622\n",
       "Netherlands                                       1522\n",
       "Canada                                            1239\n",
       "Germany (East)                                    1144\n",
       "New Jersey                                        1079\n",
       "                                                ...   \n",
       "Niger                                                3\n",
       "Hawaii                                               3\n",
       "Kiribati                                             3\n",
       "Saudi Arabia                                         3\n",
       "Mississippi                                          2\n",
       "Saint-Martin                                         2\n",
       "Swaziland                                            2\n",
       "Iraq                                                 2\n",
       "Guadeloupe                                           2\n",
       "Gaza Strip                                           2\n",
       "Ukraine                                              2\n",
       "Cameroon                                             2\n",
       "Nevada                                               2\n",
       "West Berlin                                          2\n",
       "Albania                                              2\n",
       "Montana                                              1\n",
       "British Columbia                                     1\n",
       "Sri Lanka                                            1\n",
       "Libya                                                1\n",
       "Jordan                                               1\n",
       "Heard Island and Mcdonald Islands                    1\n",
       "American Samoa                                       1\n",
       "Trinidad and Tobago                                  1\n",
       "Antigua and Barbuda                                  1\n",
       "Utah                                                 1\n",
       "Barbados                                             1\n",
       "Terres australes et antarctiques françaises          1\n",
       "Québec (Province)                                    1\n",
       "Algeria                                              1\n",
       "Belize                                               1\n",
       "Name: PAIS_EJEMPLAR, dtype: int64"
      ]
     },
     "execution_count": 70,
     "metadata": {},
     "output_type": "execute_result"
    }
   ],
   "source": [
    "autores_df['PAIS_EJEMPLAR'].value_counts()"
   ]
  },
  {
   "cell_type": "code",
   "execution_count": 50,
   "metadata": {
    "collapsed": false
   },
   "outputs": [
    {
     "data": {
      "text/plain": [
       "['',\n",
       " '-cn',\n",
       " '-cs',\n",
       " '-hk',\n",
       " '-uk',\n",
       " '-us',\n",
       " '99',\n",
       " '???',\n",
       " 'AG',\n",
       " 'CK',\n",
       " 'SP',\n",
       " 'a',\n",
       " 'aa',\n",
       " 'aag',\n",
       " 'ab',\n",
       " 'ae',\n",
       " 'af',\n",
       " 'ag',\n",
       " 'aga',\n",
       " 'agp',\n",
       " 'ags',\n",
       " 'alu',\n",
       " 'an',\n",
       " 'ao',\n",
       " 'ap',\n",
       " 'aq',\n",
       " 'ar',\n",
       " 'arc',\n",
       " 'arg',\n",
       " 'as',\n",
       " 'at',\n",
       " 'au',\n",
       " 'aua',\n",
       " 'aut',\n",
       " 'azu',\n",
       " 'b',\n",
       " 'bb',\n",
       " 'bbo',\n",
       " 'bcc',\n",
       " 'be',\n",
       " 'bh',\n",
       " 'bl',\n",
       " 'bn',\n",
       " 'bo',\n",
       " 'br',\n",
       " 'bu',\n",
       " 'bus',\n",
       " 'c',\n",
       " 'ca',\n",
       " 'cau',\n",
       " 'cb',\n",
       " 'cc',\n",
       " 'ccc',\n",
       " 'ccr',\n",
       " 'ce',\n",
       " 'cec',\n",
       " 'cf',\n",
       " 'ch',\n",
       " 'ci',\n",
       " 'cii',\n",
       " 'ck',\n",
       " 'ckd',\n",
       " 'ckf',\n",
       " 'ckk',\n",
       " 'ckl',\n",
       " 'cks',\n",
       " 'cl',\n",
       " 'cm',\n",
       " 'cn',\n",
       " 'cnu',\n",
       " 'co',\n",
       " 'col',\n",
       " 'cou',\n",
       " 'cpr',\n",
       " 'cpy',\n",
       " 'cr',\n",
       " 'cs',\n",
       " 'csp',\n",
       " 'csu',\n",
       " 'ctu',\n",
       " 'cu',\n",
       " 'cxk',\n",
       " 'cz',\n",
       " 'dcu',\n",
       " 'de',\n",
       " 'deu',\n",
       " 'dk',\n",
       " 'dn',\n",
       " 'dp',\n",
       " 'dr',\n",
       " 'e',\n",
       " 'ec',\n",
       " 'ecu',\n",
       " 'ed',\n",
       " 'efr',\n",
       " 'eg',\n",
       " 'egx',\n",
       " 'ek',\n",
       " 'en',\n",
       " 'ena',\n",
       " 'eng',\n",
       " 'enk',\n",
       " 'ens',\n",
       " 'ep',\n",
       " 'es',\n",
       " 'esp',\n",
       " 'eu',\n",
       " 'euk',\n",
       " 'ev',\n",
       " 'f',\n",
       " 'fe',\n",
       " 'fi',\n",
       " 'fl',\n",
       " 'flo',\n",
       " 'flu',\n",
       " 'fn',\n",
       " 'fr',\n",
       " 'fre',\n",
       " 'fs',\n",
       " 'fx',\n",
       " 'g',\n",
       " 'gau',\n",
       " 'gb',\n",
       " 'ge',\n",
       " 'ger',\n",
       " 'gk',\n",
       " 'gp',\n",
       " 'gr',\n",
       " 'gs',\n",
       " 'gt',\n",
       " 'gu',\n",
       " 'gw',\n",
       " 'gx',\n",
       " 'gxg',\n",
       " 'gz',\n",
       " 'he',\n",
       " 'hi',\n",
       " 'hiu',\n",
       " 'hk',\n",
       " 'hl',\n",
       " 'hn',\n",
       " 'ho',\n",
       " 'ht',\n",
       " 'hu',\n",
       " 'iau',\n",
       " 'ie',\n",
       " 'ii',\n",
       " 'il',\n",
       " 'ilu',\n",
       " 'in',\n",
       " 'inu',\n",
       " 'io',\n",
       " 'iq',\n",
       " 'ir',\n",
       " 'is',\n",
       " 'it',\n",
       " 'ita',\n",
       " 'j',\n",
       " 'ja',\n",
       " 'jap',\n",
       " 'jm',\n",
       " 'jn',\n",
       " 'jo',\n",
       " 'jp',\n",
       " 'jx',\n",
       " 'ka',\n",
       " 'kc',\n",
       " 'ke',\n",
       " 'kn',\n",
       " 'ko',\n",
       " 'kr',\n",
       " 'ks',\n",
       " 'ksu',\n",
       " 'kx',\n",
       " 'kyu',\n",
       " 'lau',\n",
       " 'lh',\n",
       " 'lir',\n",
       " 'lou',\n",
       " 'lu',\n",
       " 'ly',\n",
       " 'm',\n",
       " 'ma',\n",
       " 'mau',\n",
       " 'mc',\n",
       " 'mcl',\n",
       " 'mdu',\n",
       " 'me',\n",
       " 'meu',\n",
       " 'mex',\n",
       " 'miu',\n",
       " 'mjx',\n",
       " 'mmy',\n",
       " 'mnu',\n",
       " 'mo',\n",
       " 'mou',\n",
       " 'mr',\n",
       " 'ms',\n",
       " 'msu',\n",
       " 'mtu',\n",
       " 'mx',\n",
       " 'mxc',\n",
       " 'mxs',\n",
       " 'my',\n",
       " 'nbu',\n",
       " 'nc',\n",
       " 'ncu',\n",
       " 'ne',\n",
       " 'ng',\n",
       " 'nhu',\n",
       " 'ni',\n",
       " 'nj',\n",
       " 'nju',\n",
       " 'nl',\n",
       " 'nmu',\n",
       " 'no',\n",
       " 'nq',\n",
       " 'ns',\n",
       " 'nt',\n",
       " 'nus',\n",
       " 'nvu',\n",
       " 'nx',\n",
       " 'ny',\n",
       " 'nyu',\n",
       " 'nz',\n",
       " 'ohu',\n",
       " 'oir',\n",
       " 'oku',\n",
       " 'onc',\n",
       " 'oru',\n",
       " 'pa',\n",
       " 'pau',\n",
       " 'pe',\n",
       " 'ph',\n",
       " 'phu',\n",
       " 'pl',\n",
       " 'pn',\n",
       " 'po',\n",
       " 'pol',\n",
       " 'por',\n",
       " 'pr',\n",
       " 'ps',\n",
       " 'pu',\n",
       " 'py',\n",
       " 'q',\n",
       " 'quc',\n",
       " 'r',\n",
       " 'rd',\n",
       " 'riu',\n",
       " 'rm',\n",
       " 'rp',\n",
       " 'rs',\n",
       " 'ru',\n",
       " 'rw',\n",
       " 's',\n",
       " 's`p',\n",
       " 'sa',\n",
       " 'sag',\n",
       " 'sbe',\n",
       " 'sbr',\n",
       " 'sc',\n",
       " 'sck',\n",
       " 'scu',\n",
       " 'sd',\n",
       " 'sec',\n",
       " 'sg',\n",
       " 'sgw',\n",
       " 'si',\n",
       " 'sjp',\n",
       " 'sk',\n",
       " 'sl',\n",
       " 'so',\n",
       " 'sp',\n",
       " 'spa',\n",
       " 'spe',\n",
       " 'spm',\n",
       " 'sps',\n",
       " 'spy',\n",
       " 'sq',\n",
       " 'sru',\n",
       " 'ssp',\n",
       " 'ssq',\n",
       " 'st',\n",
       " 'stk',\n",
       " 'su',\n",
       " 'sus',\n",
       " 'sw',\n",
       " 'sy',\n",
       " 'sz',\n",
       " 'th',\n",
       " 'tnu',\n",
       " 'tr',\n",
       " 'tu',\n",
       " 'txu',\n",
       " 'ua',\n",
       " 'ug',\n",
       " 'ui',\n",
       " 'uik',\n",
       " 'uk',\n",
       " 'un',\n",
       " 'unk',\n",
       " 'ur',\n",
       " 'us',\n",
       " 'us-',\n",
       " 'usa',\n",
       " 'usg',\n",
       " 'usm',\n",
       " 'usr',\n",
       " 'usu',\n",
       " 'utu',\n",
       " 'uy',\n",
       " 'uy|',\n",
       " 'v',\n",
       " 'vau',\n",
       " 'vc',\n",
       " 've',\n",
       " 'vea',\n",
       " 'ven',\n",
       " 'vk',\n",
       " 'vm',\n",
       " 'vn',\n",
       " 'vt',\n",
       " 'vtu',\n",
       " 'vz',\n",
       " 'wa',\n",
       " 'wau',\n",
       " 'wb',\n",
       " 'wiu',\n",
       " 'xg',\n",
       " 'xm',\n",
       " 'xn',\n",
       " 'xr',\n",
       " 'xx',\n",
       " 'xxc',\n",
       " 'xxi',\n",
       " 'xxk',\n",
       " 'xxu',\n",
       " 'yu',\n",
       " 'zs',\n",
       " 'zz',\n",
       " 'º']"
      ]
     },
     "execution_count": 50,
     "metadata": {},
     "output_type": "execute_result"
    }
   ],
   "source": [
    "sorted(prestamos_df['PAIS_EJEMPLAR'].unique())"
   ]
  },
  {
   "cell_type": "code",
   "execution_count": 53,
   "metadata": {
    "collapsed": false
   },
   "outputs": [],
   "source": [
    "qqq=defaultdict(set)\n",
    "for a in prestamos_df['PAIS_EJEMPLAR'].unique():\n",
    "    if len(a) > 1:\n",
    "        for c in total_countries:\n",
    "            if c.lower().startswith(a.lower()):\n",
    "                qqq[a].add(c)"
   ]
  },
  {
   "cell_type": "code",
   "execution_count": 55,
   "metadata": {
    "collapsed": false
   },
   "outputs": [
    {
     "data": {
      "text/plain": [
       "94"
      ]
     },
     "execution_count": 55,
     "metadata": {},
     "output_type": "execute_result"
    }
   ],
   "source": [
    "len(qqq)"
   ]
  },
  {
   "cell_type": "code",
   "execution_count": 56,
   "metadata": {
    "collapsed": false
   },
   "outputs": [
    {
     "name": "stdout",
     "output_type": "stream",
     "text": [
      "tu - {'Tuvalu', 'Turkmenistan', 'Turkey', 'Turkmen S.S.R.', 'Tunisia', 'Turks and Caicos Islands'}\n",
      "gr - {'Greenland', 'Grenada', 'Greece'}\n",
      "ar - {'Argentina', 'Arizona', 'Armenia', 'Arkansas', 'Armenia (Republic)', 'Aruba', 'Armenian S.S.R.'}\n",
      "ger - {'Germany (East)', 'Germany'}\n",
      "cu - {'Curaçao', 'Cuba'}\n",
      "jo - {'Johnston Atoll', 'Jordan'}\n",
      "pe - {'Pennsylvania', 'Peru'}\n",
      "bo - {'Bosnia and Herzegovina', 'Bouvet Island', 'Botswana', 'Bolivia'}\n",
      "sy - {'Syrian Arab Republic (Syria)', 'Syria'}\n",
      "fr - {'French Southern Territories', 'France', 'French Guiana', 'French Polynesia'}\n",
      "ch - {'Christmas Island', 'China', 'China (Republic : 1949- )', 'Christmas Island (Indian Ocean)', 'Chile', 'Chad'}\n",
      "por - {'Portugal', 'Portuguese Timor'}\n",
      "ru - {'Russian Federation', 'Russian S.F.S.R.', 'Russia (Federation)'}\n",
      "cz - {'Czechoslovakia', 'Czech Republic'}\n",
      "br - {'British Columbia', 'Brazil', 'Brunei Darussalam', 'British Virgin Islands', 'British Indian Ocean Territory', 'Brunei'}\n",
      "fi - {'Fiji', 'Finland'}\n",
      "un - {'United Arab Emirates', 'United States', 'United Kingdom', 'United States of America', 'United States Minor Outlying Islands', 'United States Misc. Caribbean Islands', 'United Kingdom Misc. Islands', 'United States Misc. Pacific Islands'}\n",
      "mau - {'Mauritania', 'Mauritius'}\n",
      "ke - {'Kenya', 'Kentucky'}\n",
      "au - {'Australia', 'Austria', 'Australian Capital Territory'}\n",
      "ka - {'Kazakh S.S.R.', 'Kansas', 'Kazakhstan'}\n",
      "mo - {'Montana', 'Mongolia', 'Montserrat', 'Mozambique', 'Moldavian S.S.R.', 'Morocco', 'Moldova', 'Monaco', 'Montenegro'}\n",
      "no - {'Northern Ireland', 'Norway', 'Northern Territory', 'Norfolk Island', 'Nova Scotia', 'North Dakota', 'Northwest Territories', 'Northern Mariana Islands', 'No place, unknown, or undetermined', 'North Carolina'}\n",
      "ko - {'Korea (South)', 'Korea (North)', 'Korea, Republic of', \"Korea, Democratic People's Republic of\", 'Kosovo'}\n",
      "ve - {'Venezuela', 'Vermont', 'Venezuela (Bolivarian Republic of)'}\n",
      "ca - {'Cayman Islands', 'Cabo Verde', 'Cambodia', 'Caribbean Netherlands', 'Cameroon', 'California', 'Canada', 'Cape Verde', 'Canal Zone', 'Canton and Enderbury Islands'}\n",
      "SP - {'Spratly Island', 'Spanish North Africa', 'Spain'}\n",
      "ma - {'Mauritania', 'Macedonia', 'Maldives', 'Mali', 'Malaysia', 'Maine', 'Madagascar', 'Maryland', 'Manitoba', 'Macao', 'Massachusetts', 'Macedonia, Republic of', 'Marshall Islands', 'Malawi', 'Mayotte', 'Malta', 'Martinique', 'Mauritius', 'Macao, Special Administrative Region of China'}\n",
      "gu - {'Guadeloupe', 'Guinea-Bissau', 'Guyana', 'Guinea', 'Guam', 'Guernsey', 'Guatemala'}\n",
      "ho - {'Holy See (Vatican City State)', 'Honduras', 'Hong Kong', 'Hong Kong, Special Administrative Region of China'}\n",
      "is - {'Israel', 'Israel-Jordan Demilitarized Zones', 'Israel-Syria Demilitarized Zones', 'Isle of Man'}\n",
      "in - {'Indiana', 'India', 'Indonesia'}\n",
      "be - {'Belarus', 'Bermuda Islands', 'Bermuda', 'Belize', 'Benin', 'Belgium'}\n",
      "su - {'Sudan', 'Suriname *', 'Surinam'}\n",
      "bu - {'Burma', 'Burundi', 'Burkina Faso', 'Bulgaria'}\n",
      "ce - {'Central and Southern Line Islands', 'Central African Republic'}\n",
      "pa - {'Papua New Guinea', 'Paraguay', 'Panama', 'Palestinian Territory, Occupied', 'Paracel Islands', 'Palau', 'Pakistan'}\n",
      "co - {'Colombia', 'Congo, Democratic Republic of the', 'Colorado', 'Congo (Brazzaville)', 'Cocos (Keeling) Islands', 'Comoros', 'Costa Rica', 'Coral Sea Islands Territory', 'Cook Islands', 'Connecticut', 'Congo (Democratic Republic)'}\n",
      "so - {'South Carolina', 'South Dakota', 'Solomon Islands', 'South Africa', 'South Sudan', 'Soviet Union', 'South Australia', 'South Georgia and the South Sandwich Islands', 'Somalia'}\n",
      "tr - {'Trust Territory of the Pacific Islands', 'Trinidad and Tobago'}\n",
      "ja - {'Jamaica', 'Japan', 'Jan Mayen'}\n",
      "col - {'Colorado', 'Colombia'}\n",
      "he - {'Heard and McDonald Islands', 'Heard Island and Mcdonald Islands'}\n",
      "sa - {'Saudi Arabia', 'Saint Pierre and Miquelon', 'Saint Kitts-Nevis-Anguilla', 'Saint Helena', 'Saint Vincent and Grenadines', 'Sao Tome and Principe', 'Saint Kitts and Nevis', 'Saint Kitts-Nevis', 'Samoa', 'Saint-Martin', 'Saint Vincent and the Grenadines', 'Saint-Barthélemy', 'Saskatchewan', 'Saint-Martin (French part)', 'San Marino', 'Saint Lucia'}\n",
      "ne - {'New Hampshire', 'New Mexico', 'Nevada', 'New York (State)', 'Nebraska', 'Nepal', 'New Jersey', 'New Caledonia', 'Netherlands Antilles', 'Netherlands', 'Newfoundland and Labrador', 'New Brunswick', 'New South Wales', 'New Zealand'}\n",
      "po - {'Portugal', 'Portuguese Timor', 'Poland'}\n",
      "wa - {'Washington (State)', 'Wales', 'Wallis and Futuna Islands', 'Wallis and Futuna', 'Wake Island'}\n",
      "ven - {'Venezuela', 'Venezuela (Bolivarian Republic of)'}\n",
      "ni - {'Nicaragua', 'Nigeria', 'Niger', 'Niue'}\n",
      "fre - {'French Southern Territories', 'French Guiana', 'French Polynesia'}\n",
      "an - {'Angola', 'Antigua and Barbuda', 'Andorra', 'Anguilla', 'Antarctica'}\n",
      "sp - {'Spratly Island', 'Spanish North Africa', 'Spain'}\n",
      "sw - {'Switzerland', 'Sweden', 'Swaziland', 'Swan Islands'}\n",
      "si - {'Sikkim', 'Sierra Leone', 'Singapore', 'Sint Maarten'}\n",
      "sl - {'Slovakia', 'Slovenia'}\n",
      "spa - {'Spanish North Africa', 'Spain'}\n",
      "ir - {'Ireland', 'Ira', 'Iran', 'Iraq', 'Iraq-Saudi Arabia Neutral Zone', 'Iran, Islamic Republic of'}\n",
      "ge - {'Germany (East)', 'Germany', 'Georgia', 'Georgian S.S.R.', 'Georgia (Republic)'}\n",
      "de - {'Delaware', 'Denmark'}\n"
     ]
    }
   ],
   "source": [
    "for k in qqq:\n",
    "    if len(qqq[k]) > 1:\n",
    "        print(k, '-', qqq[k])"
   ]
  },
  {
   "cell_type": "code",
   "execution_count": 51,
   "metadata": {
    "collapsed": false
   },
   "outputs": [
    {
     "data": {
      "text/plain": [
       "{'Afghanistan',\n",
       " 'Alabama',\n",
       " 'Aland Islands',\n",
       " 'Alaska',\n",
       " 'Albania',\n",
       " 'Alberta',\n",
       " 'Algeria',\n",
       " 'American Samoa',\n",
       " 'Andorra',\n",
       " 'Angola',\n",
       " 'Anguilla',\n",
       " 'Antarctica',\n",
       " 'Antigua and Barbuda',\n",
       " 'Argentina',\n",
       " 'Arizona',\n",
       " 'Arkansas',\n",
       " 'Armenia',\n",
       " 'Armenia (Republic)',\n",
       " 'Armenian S.S.R.',\n",
       " 'Aruba',\n",
       " 'Ashmore and Cartier Islands',\n",
       " 'Australia',\n",
       " 'Australian Capital Territory',\n",
       " 'Austria',\n",
       " 'Azerbaijan',\n",
       " 'Azerbaijan S.S.R.',\n",
       " 'Bahamas',\n",
       " 'Bahrain',\n",
       " 'Bangladesh',\n",
       " 'Barbados',\n",
       " 'Belarus',\n",
       " 'Belgium',\n",
       " 'Belize',\n",
       " 'Benin',\n",
       " 'Bermuda',\n",
       " 'Bermuda Islands',\n",
       " 'Bhutan',\n",
       " 'Bolivia',\n",
       " 'Bosnia and Herzegovina',\n",
       " 'Botswana',\n",
       " 'Bouvet Island',\n",
       " 'Brazil',\n",
       " 'British Columbia',\n",
       " 'British Indian Ocean Territory',\n",
       " 'British Virgin Islands',\n",
       " 'Brunei',\n",
       " 'Brunei Darussalam',\n",
       " 'Bulgaria',\n",
       " 'Burkina Faso',\n",
       " 'Burma',\n",
       " 'Burundi',\n",
       " 'Byelorussian S.S.R.',\n",
       " 'Cabo Verde',\n",
       " 'California',\n",
       " 'Cambodia',\n",
       " 'Cameroon',\n",
       " 'Canada',\n",
       " 'Canal Zone',\n",
       " 'Canton and Enderbury Islands',\n",
       " 'Cape Verde',\n",
       " 'Caribbean Netherlands',\n",
       " 'Cayman Islands',\n",
       " 'Central African Republic',\n",
       " 'Central and Southern Line Islands',\n",
       " 'Chad',\n",
       " 'Chile',\n",
       " 'China',\n",
       " 'China (Republic : 1949- )',\n",
       " 'Christmas Island',\n",
       " 'Christmas Island (Indian Ocean)',\n",
       " 'Cocos (Keeling) Islands',\n",
       " 'Colombia',\n",
       " 'Colorado',\n",
       " 'Comoros',\n",
       " 'Congo (Brazzaville)',\n",
       " 'Congo (Democratic Republic)',\n",
       " 'Congo, Democratic Republic of the',\n",
       " 'Connecticut',\n",
       " 'Cook Islands',\n",
       " 'Coral Sea Islands Territory',\n",
       " 'Costa Rica',\n",
       " 'Croatia',\n",
       " 'Cuba',\n",
       " 'Curaçao',\n",
       " 'Cyprus',\n",
       " 'Czech Republic',\n",
       " 'Czechoslovakia',\n",
       " \"Côte d'Ivoire\",\n",
       " 'Delaware',\n",
       " 'Denmark',\n",
       " 'District of Columbia',\n",
       " 'Djibouti',\n",
       " 'Dominica',\n",
       " 'Dominican Republic',\n",
       " 'Ecuador',\n",
       " 'Egypt',\n",
       " 'El Salvador',\n",
       " 'England',\n",
       " 'Equatorial Guinea',\n",
       " 'Eritrea',\n",
       " 'Estonia',\n",
       " 'Ethiopia',\n",
       " 'Falkland Islands',\n",
       " 'Falkland Islands (Malvinas)',\n",
       " 'Faroe Islands',\n",
       " 'Fiji',\n",
       " 'Finland',\n",
       " 'Florida',\n",
       " 'France',\n",
       " 'French Guiana',\n",
       " 'French Polynesia',\n",
       " 'French Southern Territories',\n",
       " 'Gabon',\n",
       " 'Gambia',\n",
       " 'Gaza Strip',\n",
       " 'Georgia',\n",
       " 'Georgia (Republic)',\n",
       " 'Georgian S.S.R.',\n",
       " 'Germany',\n",
       " 'Germany (East)',\n",
       " 'Ghana',\n",
       " 'Gibraltar',\n",
       " 'Gilbert and Ellice Islands',\n",
       " 'Greece',\n",
       " 'Greenland',\n",
       " 'Grenada',\n",
       " 'Guadeloupe',\n",
       " 'Guam',\n",
       " 'Guatemala',\n",
       " 'Guernsey',\n",
       " 'Guinea',\n",
       " 'Guinea-Bissau',\n",
       " 'Guyana',\n",
       " 'Haiti',\n",
       " 'Hawaii',\n",
       " 'Heard Island and Mcdonald Islands',\n",
       " 'Heard and McDonald Islands',\n",
       " 'Holy See (Vatican City State)',\n",
       " 'Honduras',\n",
       " 'Hong Kong',\n",
       " 'Hong Kong, Special Administrative Region of China',\n",
       " 'Hungary',\n",
       " 'Iceland',\n",
       " 'Idaho',\n",
       " 'Illinois',\n",
       " 'India',\n",
       " 'Indiana',\n",
       " 'Indonesia',\n",
       " 'Iowa',\n",
       " 'Ira',\n",
       " 'Iran',\n",
       " 'Iran, Islamic Republic of',\n",
       " 'Iraq',\n",
       " 'Iraq-Saudi Arabia Neutral Zone',\n",
       " 'Ireland',\n",
       " 'Isle of Man',\n",
       " 'Israel',\n",
       " 'Israel-Jordan Demilitarized Zones',\n",
       " 'Israel-Syria Demilitarized Zones',\n",
       " 'Italy',\n",
       " 'Jamaica',\n",
       " 'Jan Mayen',\n",
       " 'Japan',\n",
       " 'Jersey',\n",
       " 'Johnston Atoll',\n",
       " 'Jordan',\n",
       " 'Kansas',\n",
       " 'Kazakh S.S.R.',\n",
       " 'Kazakhstan',\n",
       " 'Kentucky',\n",
       " 'Kenya',\n",
       " 'Kirghiz S.S.R.',\n",
       " 'Kiribati',\n",
       " 'Korea (North)',\n",
       " 'Korea (South)',\n",
       " \"Korea, Democratic People's Republic of\",\n",
       " 'Korea, Republic of',\n",
       " 'Kosovo',\n",
       " 'Kuwait',\n",
       " 'Kyrgyzstan',\n",
       " 'Lao PDR',\n",
       " 'Laos',\n",
       " 'Latvia',\n",
       " 'Lebanon',\n",
       " 'Lesotho',\n",
       " 'Liberia',\n",
       " 'Libya',\n",
       " 'Liechtenstein',\n",
       " 'Lithuania',\n",
       " 'Louisiana',\n",
       " 'Luxembourg',\n",
       " 'Macao',\n",
       " 'Macao, Special Administrative Region of China',\n",
       " 'Macedonia',\n",
       " 'Macedonia, Republic of',\n",
       " 'Madagascar',\n",
       " 'Maine',\n",
       " 'Malawi',\n",
       " 'Malaysia',\n",
       " 'Maldives',\n",
       " 'Mali',\n",
       " 'Malta',\n",
       " 'Manitoba',\n",
       " 'Marshall Islands',\n",
       " 'Martinique',\n",
       " 'Maryland',\n",
       " 'Massachusetts',\n",
       " 'Mauritania',\n",
       " 'Mauritius',\n",
       " 'Mayotte',\n",
       " 'Mexico',\n",
       " 'Michigan',\n",
       " 'Micronesia (Federated States)',\n",
       " 'Micronesia, Federated States of',\n",
       " 'Midway Islands',\n",
       " 'Minnesota',\n",
       " 'Mississippi',\n",
       " 'Missouri',\n",
       " 'Moldavian S.S.R.',\n",
       " 'Moldova',\n",
       " 'Monaco',\n",
       " 'Mongolia',\n",
       " 'Montana',\n",
       " 'Montenegro',\n",
       " 'Montserrat',\n",
       " 'Morocco',\n",
       " 'Mozambique',\n",
       " 'Myanmar',\n",
       " 'Namibia',\n",
       " 'Nauru',\n",
       " 'Nebraska',\n",
       " 'Nepal',\n",
       " 'Netherlands',\n",
       " 'Netherlands Antilles',\n",
       " 'Nevada',\n",
       " 'New Brunswick',\n",
       " 'New Caledonia',\n",
       " 'New Hampshire',\n",
       " 'New Jersey',\n",
       " 'New Mexico',\n",
       " 'New South Wales',\n",
       " 'New York (State)',\n",
       " 'New Zealand',\n",
       " 'Newfoundland and Labrador',\n",
       " 'Nicaragua',\n",
       " 'Niger',\n",
       " 'Nigeria',\n",
       " 'Niue',\n",
       " 'No place, unknown, or undetermined',\n",
       " 'Norfolk Island',\n",
       " 'North Carolina',\n",
       " 'North Dakota',\n",
       " 'Northern Ireland',\n",
       " 'Northern Mariana Islands',\n",
       " 'Northern Territory',\n",
       " 'Northwest Territories',\n",
       " 'Norway',\n",
       " 'Nova Scotia',\n",
       " 'Nunavut',\n",
       " 'Ohio',\n",
       " 'Oklahoma',\n",
       " 'Oman',\n",
       " 'Ontario',\n",
       " 'Oregon',\n",
       " 'Pakistan',\n",
       " 'Palau',\n",
       " 'Palestinian Territory, Occupied',\n",
       " 'Panama',\n",
       " 'Papua New Guinea',\n",
       " 'Paracel Islands',\n",
       " 'Paraguay',\n",
       " 'Pennsylvania',\n",
       " 'Peru',\n",
       " 'Philippines',\n",
       " 'Pitcairn',\n",
       " 'Pitcairn Island',\n",
       " 'Poland',\n",
       " 'Portugal',\n",
       " 'Portuguese Timor',\n",
       " 'Prince Edward Island',\n",
       " 'Puerto Rico',\n",
       " 'Qatar',\n",
       " 'Queensland',\n",
       " 'Québec (Province)',\n",
       " 'Rhode Island',\n",
       " 'Romania',\n",
       " 'Russia (Federation)',\n",
       " 'Russian Federation',\n",
       " 'Russian S.F.S.R.',\n",
       " 'Rwanda',\n",
       " 'Ryukyu Islands, Southern',\n",
       " 'Réunion',\n",
       " 'Saint Helena',\n",
       " 'Saint Kitts and Nevis',\n",
       " 'Saint Kitts-Nevis',\n",
       " 'Saint Kitts-Nevis-Anguilla',\n",
       " 'Saint Lucia',\n",
       " 'Saint Pierre and Miquelon',\n",
       " 'Saint Vincent and Grenadines',\n",
       " 'Saint Vincent and the Grenadines',\n",
       " 'Saint-Barthélemy',\n",
       " 'Saint-Martin',\n",
       " 'Saint-Martin (French part)',\n",
       " 'Samoa',\n",
       " 'San Marino',\n",
       " 'Sao Tome and Principe',\n",
       " 'Saskatchewan',\n",
       " 'Saudi Arabia',\n",
       " 'Scotland',\n",
       " 'Senegal',\n",
       " 'Serbia',\n",
       " 'Serbia and Montenegro',\n",
       " 'Seychelles',\n",
       " 'Sierra Leone',\n",
       " 'Sikkim',\n",
       " 'Singapore',\n",
       " 'Sint Maarten',\n",
       " 'Slovakia',\n",
       " 'Slovenia',\n",
       " 'Solomon Islands',\n",
       " 'Somalia',\n",
       " 'South Africa',\n",
       " 'South Australia',\n",
       " 'South Carolina',\n",
       " 'South Dakota',\n",
       " 'South Georgia and the South Sandwich Islands',\n",
       " 'South Sudan',\n",
       " 'Soviet Union',\n",
       " 'Spain',\n",
       " 'Spanish North Africa',\n",
       " 'Spratly Island',\n",
       " 'Sri Lanka',\n",
       " 'Sudan',\n",
       " 'Surinam',\n",
       " 'Suriname *',\n",
       " 'Svalbard',\n",
       " 'Svalbard and Jan Mayen Islands',\n",
       " 'Swan Islands',\n",
       " 'Swaziland',\n",
       " 'Sweden',\n",
       " 'Switzerland',\n",
       " 'Syria',\n",
       " 'Syrian Arab Republic (Syria)',\n",
       " 'Taiwan, Republic of China',\n",
       " 'Tajik S.S.R.',\n",
       " 'Tajikistan',\n",
       " 'Tanzania',\n",
       " 'Tanzania *, United Republic of',\n",
       " 'Tasmania',\n",
       " 'Tennessee',\n",
       " 'Terres australes et antarctiques françaises',\n",
       " 'Texas',\n",
       " 'Thailand',\n",
       " 'Timor-Leste',\n",
       " 'Togo',\n",
       " 'Tokelau',\n",
       " 'Tonga',\n",
       " 'Trinidad and Tobago',\n",
       " 'Trust Territory of the Pacific Islands',\n",
       " 'Tunisia',\n",
       " 'Turkey',\n",
       " 'Turkmen S.S.R.',\n",
       " 'Turkmenistan',\n",
       " 'Turks and Caicos Islands',\n",
       " 'Tuvalu',\n",
       " 'Uganda',\n",
       " 'Ukraine',\n",
       " 'United Arab Emirates',\n",
       " 'United Kingdom',\n",
       " 'United Kingdom Misc. Islands',\n",
       " 'United States',\n",
       " 'United States Minor Outlying Islands',\n",
       " 'United States Misc. Caribbean Islands',\n",
       " 'United States Misc. Pacific Islands',\n",
       " 'United States of America',\n",
       " 'Uruguay',\n",
       " 'Utah',\n",
       " 'Uzbek S.S.R.',\n",
       " 'Uzbekistan',\n",
       " 'Vanuatu',\n",
       " 'Various places',\n",
       " 'Vatican City',\n",
       " 'Venezuela',\n",
       " 'Venezuela (Bolivarian Republic of)',\n",
       " 'Vermont',\n",
       " 'Victoria',\n",
       " 'Viet Nam',\n",
       " 'Vietnam',\n",
       " 'Vietnam, North',\n",
       " 'Vietnam, South',\n",
       " 'Virgin Islands of the United States',\n",
       " 'Virgin Islands, US',\n",
       " 'Virginia',\n",
       " 'Wake Island',\n",
       " 'Wales',\n",
       " 'Wallis and Futuna',\n",
       " 'Wallis and Futuna Islands',\n",
       " 'Washington (State)',\n",
       " 'West Bank of the Jordan River',\n",
       " 'West Berlin',\n",
       " 'West Virginia',\n",
       " 'Western Australia',\n",
       " 'Western Sahara',\n",
       " 'Wisconsin',\n",
       " 'Wyoming',\n",
       " 'Yemen',\n",
       " \"Yemen (People's Democratic Republic)\",\n",
       " 'Yukon Territory',\n",
       " 'Zambia',\n",
       " 'Zimbabwe'}"
      ]
     },
     "execution_count": 51,
     "metadata": {},
     "output_type": "execute_result"
    }
   ],
   "source": [
    "total_countries"
   ]
  },
  {
   "cell_type": "code",
   "execution_count": 254,
   "metadata": {
    "collapsed": false
   },
   "outputs": [],
   "source": [
    "sss=''\n",
    "for x in autores_df['AUTOR'].unique():\n",
    "    sss+=x+'\\n'"
   ]
  },
  {
   "cell_type": "code",
   "execution_count": 255,
   "metadata": {
    "collapsed": true
   },
   "outputs": [],
   "source": [
    "with open('autores.txt', 'w') as f:\n",
    "    f.write(sss)"
   ]
  },
  {
   "cell_type": "code",
   "execution_count": 169,
   "metadata": {
    "collapsed": false
   },
   "outputs": [
    {
     "data": {
      "text/plain": [
       "341"
      ]
     },
     "execution_count": 169,
     "metadata": {},
     "output_type": "execute_result"
    }
   ],
   "source": [
    "prestamos_df['PAIS_EJEMPLAR'].nunique()"
   ]
  },
  {
   "cell_type": "code",
   "execution_count": 171,
   "metadata": {
    "collapsed": false
   },
   "outputs": [
    {
     "data": {
      "text/plain": [
       "167"
      ]
     },
     "execution_count": 171,
     "metadata": {},
     "output_type": "execute_result"
    }
   ],
   "source": [
    "c"
   ]
  },
  {
   "cell_type": "code",
   "execution_count": null,
   "metadata": {
    "collapsed": true
   },
   "outputs": [],
   "source": []
  },
  {
   "cell_type": "code",
   "execution_count": 82,
   "metadata": {
    "collapsed": false
   },
   "outputs": [
    {
     "name": "stdout",
     "output_type": "stream",
     "text": [
      "CPU times: user 6 µs, sys: 1e+03 ns, total: 7 µs\n",
      "Wall time: 11 µs\n"
     ]
    },
    {
     "data": {
      "text/plain": [
       "'García Márquez, Gabriel.'"
      ]
     },
     "execution_count": 82,
     "metadata": {},
     "output_type": "execute_result"
    }
   ],
   "source": [
    "%%time\n",
    "\n",
    "autores_dict['García Márquez, Gabriel, 1927-2014']"
   ]
  },
  {
   "cell_type": "code",
   "execution_count": 100,
   "metadata": {
    "collapsed": false
   },
   "outputs": [
    {
     "name": "stdout",
     "output_type": "stream",
     "text": [
      "CPU times: user 17 µs, sys: 1 µs, total: 18 µs\n",
      "Wall time: 21.5 µs\n"
     ]
    },
    {
     "data": {
      "text/plain": [
       "', 1927-2014'"
      ]
     },
     "execution_count": 100,
     "metadata": {},
     "output_type": "execute_result"
    }
   ],
   "source": [
    "%%time\n",
    "\n",
    "process_autor('García Márquez, Gabriel, 1927-2014')"
   ]
  },
  {
   "cell_type": "code",
   "execution_count": null,
   "metadata": {
    "collapsed": true
   },
   "outputs": [],
   "source": [
    "%%time\n",
    "\n",
    "def process_autor(x):\n",
    "    r = x['AUTOR'].strip().lower()\n",
    "    r = r.replace('á', 'a').replace('é', 'e').replace('í', 'i').replace('ó', 'o').replace('ú', 'u')\n",
    "    return r\n",
    "\n",
    "autores_df['AUTOR'] = ciudades_df.apply(process_field_departamento, axis=1)"
   ]
  },
  {
   "cell_type": "code",
   "execution_count": null,
   "metadata": {
    "collapsed": true
   },
   "outputs": [],
   "source": []
  },
  {
   "cell_type": "code",
   "execution_count": 9,
   "metadata": {
    "collapsed": false
   },
   "outputs": [
    {
     "data": {
      "text/plain": [
       "                                            409373\n",
       "García Márquez, Gabriel, 1927-2014           13207\n",
       "Colombia.                                    11526\n",
       "Hergé, 1907-1983.                            11510\n",
       "Browne, Anthony, 1946-.                       8653\n",
       "Foucault, Michel, 1926-1984.                  6849\n",
       "Cortázar, Julio, 1914-1984.                   6478\n",
       "Nietzsche, Friedrich Wilhelm, 1844-1900.      5876\n",
       "Da Coll, Ivar, 1962-                          5350\n",
       "Kasza, Keiko.                                 5336\n",
       "Name: AUTOR, dtype: int64"
      ]
     },
     "execution_count": 9,
     "metadata": {},
     "output_type": "execute_result"
    }
   ],
   "source": [
    "prestamos_df['AUTOR'].value_counts()[:10]"
   ]
  },
  {
   "cell_type": "code",
   "execution_count": 17,
   "metadata": {
    "collapsed": false
   },
   "outputs": [
    {
     "data": {
      "text/plain": [
       "                                                                409373\n",
       "García Márquez, Gabriel, 1927-2014                               13207\n",
       "Colombia.                                                        11526\n",
       "Hergé, 1907-1983.                                                11510\n",
       "Browne, Anthony, 1946-.                                           8653\n",
       "Foucault, Michel, 1926-1984.                                      6849\n",
       "Cortázar, Julio, 1914-1984.                                       6478\n",
       "Nietzsche, Friedrich Wilhelm, 1844-1900.                          5876\n",
       "Da Coll, Ivar, 1962-                                              5350\n",
       "Kasza, Keiko.                                                     5336\n",
       "Shakespeare, William, 1564-1616.                                  5012\n",
       "Verne, Jules, 1828-1905.                                          4394\n",
       "Instituto Colombiano de Normas Técnicas y Certificación.          4318\n",
       "Dostoievski, Fedor Mijailovich, 1821-1881.                        4296\n",
       "Rowling, J. K., 1965-                                             4269\n",
       "Borges, Jorge Luis, 1899-1986.                                    4192\n",
       "Saramago, José, 1922-2010                                         4091\n",
       "Eco, Umberto, 1932-                                               4076\n",
       "Freud, Sigmund, 1856-1939.                                        3966\n",
       "Poe, Edgar Allan, 1809-1849.                                      3777\n",
       "Vallejo, Fernando, 1942-                                          3724\n",
       "Marx, Karl, 1818-1883.                                            3690\n",
       "Montes, Graciela, 1947-                                           3686\n",
       "McKee, David, 1935-                                               3654\n",
       "Vargas Llosa, Mario, 1936-                                        3540\n",
       "Wilde, Oscar, 1854-1900.                                          3503\n",
       "Pombo, Rafael, 1833-1912.                                         3301\n",
       "Ospina, William, 1954-                                            3074\n",
       "Bourdieu, Pierre, 1930-2002.                                      3058\n",
       "Platón, 428?-347 a. C.                                            3032\n",
       "                                                                 ...  \n",
       "Delgado, Jacinto María, fl. s. XVIII.                                1\n",
       "Universidad Santo Tomas : (Bogotá). Centro de Enseñanza Dese         1\n",
       "Billings, John J.                                                    1\n",
       "Ramírez Zuluaga, Alberto.                                            1\n",
       "Abello Mesa, Leonelo, 1953-                                          1\n",
       "Ricardo, Cassiano, 1895-1974.                                        1\n",
       "Pecharromán Cebrián, Ovidio.                                         1\n",
       "Arce y Cacho, Celedonio Nicolás, 1739-1795.                          1\n",
       "Bernal López, Gladys Aurora.                                         1\n",
       "Borrero, Sergio.                                                     1\n",
       "Ball, Karen.                                                         1\n",
       "Helmer, Ángela.                                                      1\n",
       "Aroca, Juan.                                                         1\n",
       "Navalón Jiménez, Marc.                                               1\n",
       "Palau i Fabre, Josep, 1917-2008.                                     1\n",
       "Wilde, Douglass J.                                                   1\n",
       "Seminario la enseñanza del derecho internacional (1972 : Bog         1\n",
       "Ramos Muñoz, José.                                                   1\n",
       "Rincón Noriega, Fredy E.                                             1\n",
       "Medina Chirinos, Carlos, 1884-.                                      1\n",
       "Fundación Galería de Arte Nacional : (Caracas)                       1\n",
       "Martínez Arango, María Elena.                                        1\n",
       "Gralow Nelson, Frances Lorraine.                                     1\n",
       "Universidad Pontificia Bolivariana (Medellín, Colombia)              1\n",
       "Core, Susie Pearl.                                                   1\n",
       "Botero Angel, Federico.                                              1\n",
       "Kutka, Mikulas.                                                      1\n",
       "Persia, Jorge de.                                                    1\n",
       "García Saiz, María Concepción.                                       1\n",
       "Lindsay, Michael, 1909-                                              1\n",
       "Name: AUTOR, dtype: int64"
      ]
     },
     "execution_count": 17,
     "metadata": {},
     "output_type": "execute_result"
    }
   ],
   "source": [
    "prestamos_df['AUTOR'].value_counts()"
   ]
  },
  {
   "cell_type": "code",
   "execution_count": null,
   "metadata": {
    "collapsed": true
   },
   "outputs": [],
   "source": []
  },
  {
   "cell_type": "code",
   "execution_count": null,
   "metadata": {
    "collapsed": true
   },
   "outputs": [],
   "source": []
  },
  {
   "cell_type": "code",
   "execution_count": null,
   "metadata": {
    "collapsed": true
   },
   "outputs": [],
   "source": []
  },
  {
   "cell_type": "code",
   "execution_count": 38,
   "metadata": {
    "collapsed": true
   },
   "outputs": [],
   "source": [
    "s='García Márquez, Gabriel, 1927-2014.'"
   ]
  },
  {
   "cell_type": "code",
   "execution_count": 57,
   "metadata": {
    "collapsed": true
   },
   "outputs": [],
   "source": [
    "s='Lindsay, Michael, 1909-'"
   ]
  },
  {
   "cell_type": "code",
   "execution_count": 53,
   "metadata": {
    "collapsed": true
   },
   "outputs": [],
   "source": [
    "s='Martínez Arango, María Elena.'"
   ]
  },
  {
   "cell_type": "code",
   "execution_count": 58,
   "metadata": {
    "collapsed": false
   },
   "outputs": [],
   "source": [
    "sss=re.findall('(, \\d{4}-(\\d{4}\\.?)?)', s)"
   ]
  },
  {
   "cell_type": "code",
   "execution_count": 59,
   "metadata": {
    "collapsed": false
   },
   "outputs": [
    {
     "data": {
      "text/plain": [
       "[(', 1909-', '')]"
      ]
     },
     "execution_count": 59,
     "metadata": {},
     "output_type": "execute_result"
    }
   ],
   "source": [
    "sss"
   ]
  },
  {
   "cell_type": "code",
   "execution_count": 55,
   "metadata": {
    "collapsed": false
   },
   "outputs": [
    {
     "ename": "IndexError",
     "evalue": "list index out of range",
     "output_type": "error",
     "traceback": [
      "\u001b[0;31m---------------------------------------------------------------------------\u001b[0m",
      "\u001b[0;31mIndexError\u001b[0m                                Traceback (most recent call last)",
      "\u001b[0;32m<ipython-input-55-c1b7e2f7d595>\u001b[0m in \u001b[0;36m<module>\u001b[0;34m()\u001b[0m\n\u001b[0;32m----> 1\u001b[0;31m \u001b[0msss\u001b[0m\u001b[0;34m[\u001b[0m\u001b[0;36m0\u001b[0m\u001b[0;34m]\u001b[0m\u001b[0;34m[\u001b[0m\u001b[0;36m0\u001b[0m\u001b[0;34m]\u001b[0m\u001b[0;34m\u001b[0m\u001b[0m\n\u001b[0m",
      "\u001b[0;31mIndexError\u001b[0m: list index out of range"
     ]
    }
   ],
   "source": [
    "sss[0][0]"
   ]
  },
  {
   "cell_type": "markdown",
   "metadata": {},
   "source": [
    "# Autores"
   ]
  },
  {
   "cell_type": "code",
   "execution_count": 2,
   "metadata": {
    "collapsed": true
   },
   "outputs": [],
   "source": [
    "sucursales = {\n",
    "    'ARM': {'name': 'Armenia', 'latitude': 4.53, 'longitude': -75.68},\n",
    "    'BAR': {'name': 'Barranquilla', 'latitude': 10.963889, 'longitude': -74.796389},\n",
    "    'BLAA': {'name': 'Luis Angel Arango', 'latitude': 4.59677, 'longitude': -74.072848},\n",
    "    'BUC': {'name': 'Bucaramanga', 'latitude': 7.133333, 'longitude': -73},\n",
    "    'BUE': {'name': 'Buenaventura', 'latitude': 3.877222, 'longitude': -77.026667},\n",
    "    'CAL': {'name': 'Cali', 'latitude': 3.420556, 'longitude': -76.522222},\n",
    "    'CAR': {'name': 'Cartagena', 'latitude': 10.4, 'longitude': -75.5},\n",
    "    'CASAGO': {'name': 'Casa Gómez Campuzano', 'latitude': 4.6628468, 'longitude': -74.0512116},\n",
    "    'CATMAN': {'name': 'Catalogación y Mantenimiento de Colecciones', 'latitude': 4.5769749, 'longitude': -74.0880581},\n",
    "    'CUC': {'name': 'Cúcuta', 'latitude': 7.894167, 'longitude': -72.503889},\n",
    "    'ESPE': {'name': 'Especial material audiovisual', 'latitude': 4.59677, 'longitude': -74.072848},\n",
    "    'FLO': {'name': 'Florencia', 'latitude': 1.614167, 'longitude': -75.611667},\n",
    "    'GIR': {'name': 'Girardot', 'latitude': 4.305, 'longitude': -74.801667},\n",
    "    'HON': {'name': 'Honda', 'latitude': 5.204167, 'longitude': -74.741667},\n",
    "    'IBA': {'name': 'Ibagué', 'latitude': 4.433333, 'longitude': -75.233333},\n",
    "    'IEC': {'name': 'Investigaciones Económicas', 'latitude': 4.5769749, 'longitude': -74.0880581},\n",
    "    'IPI': {'name': 'Ipiales', 'latitude': 0.830278, 'longitude': -77.644444},\n",
    "    'LET': {'name': 'Leticia', 'latitude': -4.205278, 'longitude': -69.932778},\n",
    "    'MAN': {'name': 'Manizales', 'latitude': 5.1, 'longitude': -75.55},\n",
    "    'MED': {'name': 'Medellín', 'latitude': 6.230833, 'longitude': -75.590556},\n",
    "    'MON': {'name': 'Montería', 'latitude': 8.75, 'longitude': -75.883333},\n",
    "    'NEI': {'name': 'Neiva', 'latitude': 2.998611, 'longitude': -75.304444},\n",
    "    'PAS': {'name': 'Pasto', 'latitude': 1.207778, 'longitude': -77.277222},\n",
    "    'PER': {'name': 'Pereira', 'latitude': 4.814278, 'longitude': -75.694558},\n",
    "    'POP': {'name': 'Popayán', 'latitude': 2.454167, 'longitude': -76.609167},\n",
    "    'QUI': {'name': 'Quibdó', 'latitude': 5.692222, 'longitude': -76.658056},\n",
    "    'RIO': {'name': 'Riohacha', 'latitude': 11.544167, 'longitude': -72.906944},\n",
    "    'SAN': {'name': 'San Andrés', 'latitude': 12.583333, 'longitude': -81.7},\n",
    "    'SIN': {'name': 'Sincelejo', 'latitude': 9.295, 'longitude': -75.396111},\n",
    "    'STM': {'name': 'Santa Marta', 'latitude': 11.241944, 'longitude': -74.205278},\n",
    "    'TUN': {'name': 'Tunja', 'latitude': 5.533333, 'longitude': -73.366667},\n",
    "    'VAL': {'name': 'Valledupar', 'latitude': 10.483333, 'longitude': -73.25},\n",
    "    'VIL': {'name': 'Villavicencio', 'latitude': 4.15, 'longitude': -73.633333},\n",
    "}"
   ]
  },
  {
   "cell_type": "code",
   "execution_count": null,
   "metadata": {
    "collapsed": true
   },
   "outputs": [],
   "source": []
  },
  {
   "cell_type": "code",
   "execution_count": null,
   "metadata": {
    "collapsed": true
   },
   "outputs": [],
   "source": []
  },
  {
   "cell_type": "code",
   "execution_count": null,
   "metadata": {
    "collapsed": true
   },
   "outputs": [],
   "source": []
  },
  {
   "cell_type": "code",
   "execution_count": null,
   "metadata": {
    "collapsed": true
   },
   "outputs": [],
   "source": []
  },
  {
   "cell_type": "code",
   "execution_count": null,
   "metadata": {
    "collapsed": true
   },
   "outputs": [],
   "source": []
  },
  {
   "cell_type": "code",
   "execution_count": null,
   "metadata": {
    "collapsed": true
   },
   "outputs": [],
   "source": []
  },
  {
   "cell_type": "code",
   "execution_count": null,
   "metadata": {
    "collapsed": true
   },
   "outputs": [],
   "source": []
  }
 ],
 "metadata": {
  "kernelspec": {
   "display_name": "Python 3",
   "language": "python",
   "name": "python3"
  },
  "language_info": {
   "codemirror_mode": {
    "name": "ipython",
    "version": 3
   },
   "file_extension": ".py",
   "mimetype": "text/x-python",
   "name": "python",
   "nbconvert_exporter": "python",
   "pygments_lexer": "ipython3",
   "version": "3.4.3"
  }
 },
 "nbformat": 4,
 "nbformat_minor": 1
}
