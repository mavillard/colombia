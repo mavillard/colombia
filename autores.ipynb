{
 "cells": [
  {
   "cell_type": "code",
   "execution_count": 184,
   "metadata": {
    "collapsed": true
   },
   "outputs": [],
   "source": [
    "import csv\n",
    "import os\n",
    "import re\n",
    "from collections import defaultdict\n",
    "from datetime import datetime\n",
    "from datetime import timedelta\n",
    "\n",
    "import matplotlib\n",
    "import numpy as np\n",
    "import networkx as nx\n",
    "import pandas as pd\n",
    "import seaborn as sns\n",
    "from matplotlib import pyplot as plt"
   ]
  },
  {
   "cell_type": "code",
   "execution_count": 2,
   "metadata": {
    "collapsed": true
   },
   "outputs": [],
   "source": [
    "total_colums = [\n",
    "    # Ejemplar\n",
    "    'TITULO', 'AUTOR', 'EDITORIAL', 'SUCURSAL', 'DESC_SUCURSAL', 'COD_BARRAS_LIBRO', 'NUM_TITULO', 'SIG_TOPOGRAFICA',\n",
    "    'DEWEY', 'II_SUMARIO', 'I_SUMARIO', 'EDICION', 'LOCALIZACION_EJEMPLAR', 'DESC_LOCALIZACION_EJEMPLAR', 'POLITICA',\n",
    "    'DESC_POLITICA_EJEMPLAR', 'ISBN', 'FECHA_REGISTRO_EJEMPLAR', 'FECHA_ADICION_EJEMPLAR', 'FECHA_PUB',\n",
    "    'ESTADO_EJEMPLAR', 'PAIS_EJEMPLAR',\n",
    "    # Usuario (I)\n",
    "    'OCUPACION', 'NIVEL_EDUCACION', 'AREA_ESTUDIO',\n",
    "    # Prestamo (I)\n",
    "    'SUCURSAL_PRESTAMO', 'SUCURSAL_DEVOLUCION',\n",
    "    # Usuario (II)\n",
    "    'SUCURSAL_DEL_LECTOR', 'COD_BARRAS_LECTOR', 'CATEGORÍA',\n",
    "    # Prestamo (II)\n",
    "    'FECHA_PRESTAMO', 'FECHA_REAL_DEVOLUCION',\n",
    "]"
   ]
  },
  {
   "cell_type": "code",
   "execution_count": 3,
   "metadata": {
    "collapsed": true
   },
   "outputs": [],
   "source": [
    "used_colums = [\n",
    "    # Ejemplar\n",
    "    'TITULO', 'AUTOR', 'SUCURSAL', 'COD_BARRAS_LIBRO', 'DEWEY', 'DESC_LOCALIZACION_EJEMPLAR',\n",
    "    'FECHA_PUB','PAIS_EJEMPLAR',\n",
    "    # Usuario (I)\n",
    "    'OCUPACION','NIVEL_EDUCACION','AREA_ESTUDIO',\n",
    "    # Prestamo (I)\n",
    "    'SUCURSAL_PRESTAMO','SUCURSAL_DEVOLUCION',\n",
    "    # Usuario (II)\n",
    "    'SUCURSAL_DEL_LECTOR', 'COD_BARRAS_LECTOR', 'CATEGORÍA',\n",
    "    # Prestamo (II)\n",
    "    'FECHA_PRESTAMO','FECHA_REAL_DEVOLUCION'\n",
    "]"
   ]
  },
  {
   "cell_type": "markdown",
   "metadata": {},
   "source": [
    "# Préstamos"
   ]
  },
  {
   "cell_type": "code",
   "execution_count": 4,
   "metadata": {
    "collapsed": false
   },
   "outputs": [
    {
     "name": "stdout",
     "output_type": "stream",
     "text": [
      "CPU times: user 18.9 s, sys: 784 ms, total: 19.6 s\n",
      "Wall time: 21.2 s\n"
     ]
    }
   ],
   "source": [
    "%%time\n",
    "\n",
    "dtypes = {\n",
    "    'TITULO': str,\n",
    "    'AUTOR': str,\n",
    "    'SUCURSAL': str,\n",
    "    'COD_BARRAS_LIBRO': str,\n",
    "    'DEWEY': str,\n",
    "    'DESC_LOCALIZACION_EJEMPLAR': str,\n",
    "    'FECHA_PUB': str,\n",
    "    'PAIS_EJEMPLAR': str,\n",
    "    'OCUPACION': str,\n",
    "    'NIVEL_EDUCACION': str,\n",
    "    'AREA_ESTUDIO': str,\n",
    "    'SUCURSAL_PRESTAMO': str,\n",
    "    'SUCURSAL_DEVOLUCION': str,\n",
    "    'SUCURSAL_DEL_LECTOR': str,\n",
    "    'COD_BARRAS_LECTOR': str,\n",
    "    'CATEGORÍA': str,\n",
    "    'FECHA_PRESTAMO': str,\n",
    "    'FECHA_REAL_DEVOLUCION': str,\n",
    "    'DATE_PRESTAMO': pd.tslib.Timestamp,\n",
    "    'DATE_DEVOLUCION': pd.tslib.Timestamp,\n",
    "}\n",
    "\n",
    "prestamos_df = pd.read_csv('prestamos_totales.csv', header=0, dtype=dtypes, parse_dates=['DATE_PRESTAMO', 'DATE_DEVOLUCION'])\n",
    "prestamos_df = prestamos_df.fillna('')"
   ]
  },
  {
   "cell_type": "code",
   "execution_count": 5,
   "metadata": {
    "collapsed": false
   },
   "outputs": [
    {
     "data": {
      "text/plain": [
       "(3054360, 20)"
      ]
     },
     "execution_count": 5,
     "metadata": {},
     "output_type": "execute_result"
    }
   ],
   "source": [
    "prestamos_df.shape"
   ]
  },
  {
   "cell_type": "code",
   "execution_count": 6,
   "metadata": {
    "collapsed": false
   },
   "outputs": [
    {
     "data": {
      "text/html": [
       "<div>\n",
       "<table border=\"1\" class=\"dataframe\">\n",
       "  <thead>\n",
       "    <tr style=\"text-align: right;\">\n",
       "      <th></th>\n",
       "      <th>TITULO</th>\n",
       "      <th>AUTOR</th>\n",
       "      <th>SUCURSAL</th>\n",
       "      <th>COD_BARRAS_LIBRO</th>\n",
       "      <th>DEWEY</th>\n",
       "      <th>DESC_LOCALIZACION_EJEMPLAR</th>\n",
       "      <th>FECHA_PUB</th>\n",
       "      <th>PAIS_EJEMPLAR</th>\n",
       "      <th>OCUPACION</th>\n",
       "      <th>NIVEL_EDUCACION</th>\n",
       "      <th>AREA_ESTUDIO</th>\n",
       "      <th>SUCURSAL_PRESTAMO</th>\n",
       "      <th>SUCURSAL_DEVOLUCION</th>\n",
       "      <th>SUCURSAL_DEL_LECTOR</th>\n",
       "      <th>COD_BARRAS_LECTOR</th>\n",
       "      <th>CATEGORÍA</th>\n",
       "      <th>FECHA_PRESTAMO</th>\n",
       "      <th>FECHA_REAL_DEVOLUCION</th>\n",
       "      <th>DATE_PRESTAMO</th>\n",
       "      <th>DATE_DEVOLUCION</th>\n",
       "    </tr>\n",
       "  </thead>\n",
       "  <tbody>\n",
       "    <tr>\n",
       "      <th>0</th>\n",
       "      <td>Un bicho extraño</td>\n",
       "      <td>Daporta, Mon.</td>\n",
       "      <td>ARM</td>\n",
       "      <td>2298061</td>\n",
       "      <td>863</td>\n",
       "      <td>Infantil</td>\n",
       "      <td>2010</td>\n",
       "      <td>sp</td>\n",
       "      <td></td>\n",
       "      <td></td>\n",
       "      <td></td>\n",
       "      <td>ARM</td>\n",
       "      <td>ARM</td>\n",
       "      <td>ARM</td>\n",
       "      <td>88429527</td>\n",
       "      <td>CTA</td>\n",
       "      <td>22/01/2015</td>\n",
       "      <td>04/02/2015</td>\n",
       "      <td>2015-01-22</td>\n",
       "      <td>2015-02-04</td>\n",
       "    </tr>\n",
       "    <tr>\n",
       "      <th>1</th>\n",
       "      <td>Un bicho extraño</td>\n",
       "      <td>Daporta, Mon.</td>\n",
       "      <td>ARM</td>\n",
       "      <td>2298061</td>\n",
       "      <td>863</td>\n",
       "      <td>Infantil</td>\n",
       "      <td>2010</td>\n",
       "      <td>sp</td>\n",
       "      <td></td>\n",
       "      <td></td>\n",
       "      <td></td>\n",
       "      <td>ARM</td>\n",
       "      <td>ARM</td>\n",
       "      <td>ARM</td>\n",
       "      <td>88416381</td>\n",
       "      <td>CTA</td>\n",
       "      <td>31/03/2015</td>\n",
       "      <td>07/04/2015</td>\n",
       "      <td>2015-03-31</td>\n",
       "      <td>2015-04-07</td>\n",
       "    </tr>\n",
       "    <tr>\n",
       "      <th>2</th>\n",
       "      <td>Quisiera tener ...</td>\n",
       "      <td>Zoboli, Giovanna.</td>\n",
       "      <td>ARM</td>\n",
       "      <td>2284458</td>\n",
       "      <td>853</td>\n",
       "      <td>Infantil</td>\n",
       "      <td>2010</td>\n",
       "      <td>mx</td>\n",
       "      <td></td>\n",
       "      <td></td>\n",
       "      <td></td>\n",
       "      <td>ARM</td>\n",
       "      <td>ARM</td>\n",
       "      <td>ARM</td>\n",
       "      <td>88381353</td>\n",
       "      <td>CTA</td>\n",
       "      <td>07/11/2015</td>\n",
       "      <td>17/11/2015</td>\n",
       "      <td>2015-11-07</td>\n",
       "      <td>2015-11-17</td>\n",
       "    </tr>\n",
       "    <tr>\n",
       "      <th>3</th>\n",
       "      <td>Johannes Gutenberg</td>\n",
       "      <td>Borràs Perelló, Lluís.</td>\n",
       "      <td>ARM</td>\n",
       "      <td>2288922</td>\n",
       "      <td>925</td>\n",
       "      <td>Infantil</td>\n",
       "      <td>2010</td>\n",
       "      <td>sp</td>\n",
       "      <td>Empleado</td>\n",
       "      <td>Técnico</td>\n",
       "      <td>Adm. de empresas</td>\n",
       "      <td>ARM</td>\n",
       "      <td>ARM</td>\n",
       "      <td>ARM</td>\n",
       "      <td>88007424</td>\n",
       "      <td>CEM</td>\n",
       "      <td>16/01/2015</td>\n",
       "      <td>16/01/2015</td>\n",
       "      <td>2015-01-16</td>\n",
       "      <td>2015-01-16</td>\n",
       "    </tr>\n",
       "    <tr>\n",
       "      <th>4</th>\n",
       "      <td>La fantástica leyenda de: la princesa y el dragón</td>\n",
       "      <td>Alins, Sonia.</td>\n",
       "      <td>ARM</td>\n",
       "      <td>2288896</td>\n",
       "      <td>863</td>\n",
       "      <td>Infantil</td>\n",
       "      <td>2010</td>\n",
       "      <td>sp</td>\n",
       "      <td></td>\n",
       "      <td></td>\n",
       "      <td></td>\n",
       "      <td>ARM</td>\n",
       "      <td>ARM</td>\n",
       "      <td>ARM</td>\n",
       "      <td>88429529</td>\n",
       "      <td>CTA</td>\n",
       "      <td>21/01/2015</td>\n",
       "      <td>28/01/2015</td>\n",
       "      <td>2015-01-21</td>\n",
       "      <td>2015-01-28</td>\n",
       "    </tr>\n",
       "  </tbody>\n",
       "</table>\n",
       "</div>"
      ],
      "text/plain": [
       "                                              TITULO                   AUTOR  \\\n",
       "0                                   Un bicho extraño           Daporta, Mon.   \n",
       "1                                   Un bicho extraño           Daporta, Mon.   \n",
       "2                                 Quisiera tener ...       Zoboli, Giovanna.   \n",
       "3                                 Johannes Gutenberg  Borràs Perelló, Lluís.   \n",
       "4  La fantástica leyenda de: la princesa y el dragón           Alins, Sonia.   \n",
       "\n",
       "  SUCURSAL COD_BARRAS_LIBRO DEWEY DESC_LOCALIZACION_EJEMPLAR FECHA_PUB  \\\n",
       "0      ARM          2298061   863                   Infantil      2010   \n",
       "1      ARM          2298061   863                   Infantil      2010   \n",
       "2      ARM          2284458   853                   Infantil      2010   \n",
       "3      ARM          2288922   925                   Infantil      2010   \n",
       "4      ARM          2288896   863                   Infantil      2010   \n",
       "\n",
       "  PAIS_EJEMPLAR OCUPACION NIVEL_EDUCACION      AREA_ESTUDIO SUCURSAL_PRESTAMO  \\\n",
       "0            sp                                                           ARM   \n",
       "1            sp                                                           ARM   \n",
       "2            mx                                                           ARM   \n",
       "3            sp  Empleado         Técnico  Adm. de empresas               ARM   \n",
       "4            sp                                                           ARM   \n",
       "\n",
       "  SUCURSAL_DEVOLUCION SUCURSAL_DEL_LECTOR COD_BARRAS_LECTOR CATEGORÍA  \\\n",
       "0                 ARM                 ARM          88429527       CTA   \n",
       "1                 ARM                 ARM          88416381       CTA   \n",
       "2                 ARM                 ARM          88381353       CTA   \n",
       "3                 ARM                 ARM          88007424       CEM   \n",
       "4                 ARM                 ARM          88429529       CTA   \n",
       "\n",
       "  FECHA_PRESTAMO FECHA_REAL_DEVOLUCION DATE_PRESTAMO DATE_DEVOLUCION  \n",
       "0     22/01/2015            04/02/2015    2015-01-22      2015-02-04  \n",
       "1     31/03/2015            07/04/2015    2015-03-31      2015-04-07  \n",
       "2     07/11/2015            17/11/2015    2015-11-07      2015-11-17  \n",
       "3     16/01/2015            16/01/2015    2015-01-16      2015-01-16  \n",
       "4     21/01/2015            28/01/2015    2015-01-21      2015-01-28  "
      ]
     },
     "execution_count": 6,
     "metadata": {},
     "output_type": "execute_result"
    }
   ],
   "source": [
    "prestamos_df.head()"
   ]
  },
  {
   "cell_type": "markdown",
   "metadata": {},
   "source": [
    "# Country codes"
   ]
  },
  {
   "cell_type": "markdown",
   "metadata": {},
   "source": [
    "## LOC/MARC"
   ]
  },
  {
   "cell_type": "markdown",
   "metadata": {},
   "source": [
    "http://www.loc.gov/marc/countries/countries_code.html"
   ]
  },
  {
   "cell_type": "code",
   "execution_count": 206,
   "metadata": {
    "collapsed": false
   },
   "outputs": [],
   "source": [
    "loc_marc_df = pd.read_csv('codes-loc-marc-countries.csv', sep='\\t', names=['code','country'])\n",
    "loc_marc_df_sr = pd.Series(data=list(loc_marc_df['country']), index=list(loc_marc_df['code']))"
   ]
  },
  {
   "cell_type": "code",
   "execution_count": 207,
   "metadata": {
    "collapsed": false
   },
   "outputs": [
    {
     "data": {
      "text/plain": [
       "aa                          Albania\n",
       "abc                         Alberta\n",
       "-ac     Ashmore and Cartier Islands\n",
       "aca    Australian Capital Territory\n",
       "ae                          Algeria\n",
       "dtype: object"
      ]
     },
     "execution_count": 207,
     "metadata": {},
     "output_type": "execute_result"
    }
   ],
   "source": [
    "loc_marc_df_sr.head()"
   ]
  },
  {
   "cell_type": "markdown",
   "metadata": {},
   "source": [
    "## ISO"
   ]
  },
  {
   "cell_type": "markdown",
   "metadata": {},
   "source": [
    "http://www.nationsonline.org/oneworld/country_code_list.htm"
   ]
  },
  {
   "cell_type": "code",
   "execution_count": 202,
   "metadata": {
    "collapsed": false
   },
   "outputs": [],
   "source": [
    "iso_df = pd.read_csv('codes-iso-countries.csv', sep='\\t', names=['country', 'iso-2', 'iso-3', 'code'])\n",
    "iso2_sr = pd.Series(data=list(iso_df['country']), index=map(lambda x: str(x).lower(), iso_df['iso-2']))\n",
    "iso3_sr = pd.Series(data=list(iso_df['country']), index=map(lambda x: str(x).lower(), iso_df['iso-3']))"
   ]
  },
  {
   "cell_type": "code",
   "execution_count": 203,
   "metadata": {
    "collapsed": false
   },
   "outputs": [
    {
     "data": {
      "text/plain": [
       "af       Afghanistan\n",
       "ax     Aland Islands\n",
       "al           Albania\n",
       "dz           Algeria\n",
       "as    American Samoa\n",
       "dtype: object"
      ]
     },
     "execution_count": 203,
     "metadata": {},
     "output_type": "execute_result"
    }
   ],
   "source": [
    "iso2_sr.head()"
   ]
  },
  {
   "cell_type": "code",
   "execution_count": 204,
   "metadata": {
    "collapsed": false
   },
   "outputs": [
    {
     "data": {
      "text/plain": [
       "afg       Afghanistan\n",
       "ala     Aland Islands\n",
       "alb           Albania\n",
       "dza           Algeria\n",
       "asm    American Samoa\n",
       "dtype: object"
      ]
     },
     "execution_count": 204,
     "metadata": {},
     "output_type": "execute_result"
    }
   ],
   "source": [
    "iso3_sr.head()"
   ]
  },
  {
   "cell_type": "markdown",
   "metadata": {},
   "source": [
    "## Mine"
   ]
  },
  {
   "cell_type": "code",
   "execution_count": 238,
   "metadata": {
    "collapsed": true
   },
   "outputs": [],
   "source": [
    "missing_codes_dict = {\n",
    "    'uk': 'United Kingdom',\n",
    "    'en': 'England',\n",
    "    'spa': 'Spain',\n",
    "    'CK': 'Colombia',\n",
    "    'eng': 'England',\n",
    "    'ger': 'Germany',\n",
    "    'uy|': 'Uruguay',\n",
    "    'SP': 'Spain',\n",
    "    'AG': 'Argentina',\n",
    "    'por': 'Portugal',\n",
    "    'jap': 'Japan',\n",
    "    'ur': 'Uruguay',\n",
    "}"
   ]
  },
  {
   "cell_type": "code",
   "execution_count": 249,
   "metadata": {
    "collapsed": false
   },
   "outputs": [],
   "source": [
    "# c=0\n",
    "# cc=prestamos_df['PAIS_EJEMPLAR'].value_counts()\n",
    "# for x in prestamos_df['PAIS_EJEMPLAR'].unique():\n",
    "#     if x not in loc_marc_df_sr and x not in iso3_sr and x not in iso2_sr and x not in missing_codes_dict:\n",
    "#         print(x, cc[x])\n",
    "#         c+=1"
   ]
  },
  {
   "cell_type": "code",
   "execution_count": 271,
   "metadata": {
    "collapsed": false
   },
   "outputs": [
    {
     "data": {
      "text/plain": [
       "                                                                409373\n",
       "García Márquez, Gabriel, 1927-2014                               13207\n",
       "Colombia.                                                        11526\n",
       "Hergé, 1907-1983.                                                11510\n",
       "Browne, Anthony, 1946-.                                           8653\n",
       "Foucault, Michel, 1926-1984.                                      6849\n",
       "Cortázar, Julio, 1914-1984.                                       6478\n",
       "Nietzsche, Friedrich Wilhelm, 1844-1900.                          5876\n",
       "Da Coll, Ivar, 1962-                                              5350\n",
       "Kasza, Keiko.                                                     5336\n",
       "Shakespeare, William, 1564-1616.                                  5012\n",
       "Verne, Jules, 1828-1905.                                          4394\n",
       "Instituto Colombiano de Normas Técnicas y Certificación.          4318\n",
       "Dostoievski, Fedor Mijailovich, 1821-1881.                        4296\n",
       "Rowling, J. K., 1965-                                             4269\n",
       "Borges, Jorge Luis, 1899-1986.                                    4192\n",
       "Saramago, José, 1922-2010                                         4091\n",
       "Eco, Umberto, 1932-                                               4076\n",
       "Freud, Sigmund, 1856-1939.                                        3966\n",
       "Poe, Edgar Allan, 1809-1849.                                      3777\n",
       "Vallejo, Fernando, 1942-                                          3724\n",
       "Marx, Karl, 1818-1883.                                            3690\n",
       "Montes, Graciela, 1947-                                           3686\n",
       "McKee, David, 1935-                                               3654\n",
       "Vargas Llosa, Mario, 1936-                                        3540\n",
       "Wilde, Oscar, 1854-1900.                                          3503\n",
       "Pombo, Rafael, 1833-1912.                                         3301\n",
       "Ospina, William, 1954-                                            3074\n",
       "Bourdieu, Pierre, 1930-2002.                                      3058\n",
       "Platón, 428?-347 a. C.                                            3032\n",
       "                                                                 ...  \n",
       "Delgado, Jacinto María, fl. s. XVIII.                                1\n",
       "Universidad Santo Tomas : (Bogotá). Centro de Enseñanza Dese         1\n",
       "Billings, John J.                                                    1\n",
       "Ramírez Zuluaga, Alberto.                                            1\n",
       "Abello Mesa, Leonelo, 1953-                                          1\n",
       "Ricardo, Cassiano, 1895-1974.                                        1\n",
       "Pecharromán Cebrián, Ovidio.                                         1\n",
       "Arce y Cacho, Celedonio Nicolás, 1739-1795.                          1\n",
       "Bernal López, Gladys Aurora.                                         1\n",
       "Borrero, Sergio.                                                     1\n",
       "Ball, Karen.                                                         1\n",
       "Helmer, Ángela.                                                      1\n",
       "Aroca, Juan.                                                         1\n",
       "Navalón Jiménez, Marc.                                               1\n",
       "Palau i Fabre, Josep, 1917-2008.                                     1\n",
       "Wilde, Douglass J.                                                   1\n",
       "Seminario la enseñanza del derecho internacional (1972 : Bog         1\n",
       "Ramos Muñoz, José.                                                   1\n",
       "Rincón Noriega, Fredy E.                                             1\n",
       "Medina Chirinos, Carlos, 1884-.                                      1\n",
       "Fundación Galería de Arte Nacional : (Caracas)                       1\n",
       "Martínez Arango, María Elena.                                        1\n",
       "Gralow Nelson, Frances Lorraine.                                     1\n",
       "Universidad Pontificia Bolivariana (Medellín, Colombia)              1\n",
       "Core, Susie Pearl.                                                   1\n",
       "Botero Angel, Federico.                                              1\n",
       "Kutka, Mikulas.                                                      1\n",
       "Persia, Jorge de.                                                    1\n",
       "García Saiz, María Concepción.                                       1\n",
       "Lindsay, Michael, 1909-                                              1\n",
       "Name: AUTOR, dtype: int64"
      ]
     },
     "execution_count": 271,
     "metadata": {},
     "output_type": "execute_result"
    }
   ],
   "source": [
    "prestamos_df['AUTOR'].value_counts()"
   ]
  },
  {
   "cell_type": "code",
   "execution_count": 278,
   "metadata": {
    "collapsed": false
   },
   "outputs": [
    {
     "data": {
      "text/plain": [
       "[('Browne, Anthony, 1946-.', '')]"
      ]
     },
     "execution_count": 278,
     "metadata": {},
     "output_type": "execute_result"
    }
   ],
   "source": [
    "s = 'Browne, Anthony, 1946-.'\n",
    "q = re.findall('(.+)(, \\d{4}-.)?', s)\n",
    "q"
   ]
  },
  {
   "cell_type": "code",
   "execution_count": 262,
   "metadata": {
    "collapsed": false
   },
   "outputs": [
    {
     "data": {
      "text/plain": [
       "[('García Márquez, Gabriel', ', 1927-2014', '2014')]"
      ]
     },
     "execution_count": 262,
     "metadata": {},
     "output_type": "execute_result"
    }
   ],
   "source": [
    "q"
   ]
  },
  {
   "cell_type": "markdown",
   "metadata": {},
   "source": [
    "# Autores"
   ]
  },
  {
   "cell_type": "code",
   "execution_count": 60,
   "metadata": {
    "collapsed": true
   },
   "outputs": [],
   "source": [
    "autores_df = pd.DataFrame()"
   ]
  },
  {
   "cell_type": "code",
   "execution_count": 101,
   "metadata": {
    "collapsed": false
   },
   "outputs": [
    {
     "name": "stdout",
     "output_type": "stream",
     "text": [
      "CPU times: user 7min 12s, sys: 803 ms, total: 7min 12s\n",
      "Wall time: 7min 12s\n"
     ]
    }
   ],
   "source": [
    "%%time\n",
    "\n",
    "def process_autor(x):\n",
    "    r = x['AUTOR'].strip()\n",
    "    s = re.findall('(.+)(, \\d{4}-(\\d{4}\\.?)?)', r)\n",
    "    if s:\n",
    "        r = s[0][0]\n",
    "    return r\n",
    "\n",
    "autores_df['AUTOR'] = prestamos_df.apply(process_autor, axis=1)"
   ]
  },
  {
   "cell_type": "code",
   "execution_count": 250,
   "metadata": {
    "collapsed": false
   },
   "outputs": [
    {
     "ename": "KeyboardInterrupt",
     "evalue": "",
     "output_type": "error",
     "traceback": [
      "\u001b[0;31m---------------------------------------------------------------------------\u001b[0m",
      "\u001b[0;31mKeyboardInterrupt\u001b[0m                         Traceback (most recent call last)",
      "\u001b[0;32m<ipython-input-250-68f17e43ca94>\u001b[0m in \u001b[0;36m<module>\u001b[0;34m()\u001b[0m\n\u001b[0;32m----> 1\u001b[0;31m \u001b[0mget_ipython\u001b[0m\u001b[0;34m(\u001b[0m\u001b[0;34m)\u001b[0m\u001b[0;34m.\u001b[0m\u001b[0mrun_cell_magic\u001b[0m\u001b[0;34m(\u001b[0m\u001b[0;34m'time'\u001b[0m\u001b[0;34m,\u001b[0m \u001b[0;34m''\u001b[0m\u001b[0;34m,\u001b[0m \u001b[0;34m\"\\ndef process_pais(x):\\n    r = x['PAIS_EJEMPLAR'].strip()\\n    if r in loc_marc_df_sr:\\n        r = loc_marc_df_sr[r]\\n    if '-' + r in loc_marc_df_sr:\\n        r = loc_marc_df_sr['-' + r]\\n    elif r in iso3_sr:\\n        r = iso3_sr[r]\\n    elif r in iso2_sr:\\n        r = iso2_sr[r]\\n    elif r in missing_codes_dict:\\n        r = missing_codes_dict[r]\\n    return r\\n\\nautores_df['PAIS_EJEMPLAR'] = prestamos_df.apply(process_pais, axis=1)\"\u001b[0m\u001b[0;34m)\u001b[0m\u001b[0;34m\u001b[0m\u001b[0m\n\u001b[0m",
      "\u001b[0;32m/home/antonio/.virtualenvs/colombia/lib/python3.4/site-packages/IPython/core/interactiveshell.py\u001b[0m in \u001b[0;36mrun_cell_magic\u001b[0;34m(self, magic_name, line, cell)\u001b[0m\n\u001b[1;32m   2113\u001b[0m             \u001b[0mmagic_arg_s\u001b[0m \u001b[0;34m=\u001b[0m \u001b[0mself\u001b[0m\u001b[0;34m.\u001b[0m\u001b[0mvar_expand\u001b[0m\u001b[0;34m(\u001b[0m\u001b[0mline\u001b[0m\u001b[0;34m,\u001b[0m \u001b[0mstack_depth\u001b[0m\u001b[0;34m)\u001b[0m\u001b[0;34m\u001b[0m\u001b[0m\n\u001b[1;32m   2114\u001b[0m             \u001b[0;32mwith\u001b[0m \u001b[0mself\u001b[0m\u001b[0;34m.\u001b[0m\u001b[0mbuiltin_trap\u001b[0m\u001b[0;34m:\u001b[0m\u001b[0;34m\u001b[0m\u001b[0m\n\u001b[0;32m-> 2115\u001b[0;31m                 \u001b[0mresult\u001b[0m \u001b[0;34m=\u001b[0m \u001b[0mfn\u001b[0m\u001b[0;34m(\u001b[0m\u001b[0mmagic_arg_s\u001b[0m\u001b[0;34m,\u001b[0m \u001b[0mcell\u001b[0m\u001b[0;34m)\u001b[0m\u001b[0;34m\u001b[0m\u001b[0m\n\u001b[0m\u001b[1;32m   2116\u001b[0m             \u001b[0;32mreturn\u001b[0m \u001b[0mresult\u001b[0m\u001b[0;34m\u001b[0m\u001b[0m\n\u001b[1;32m   2117\u001b[0m \u001b[0;34m\u001b[0m\u001b[0m\n",
      "\u001b[0;32m<decorator-gen-59>\u001b[0m in \u001b[0;36mtime\u001b[0;34m(self, line, cell, local_ns)\u001b[0m\n",
      "\u001b[0;32m/home/antonio/.virtualenvs/colombia/lib/python3.4/site-packages/IPython/core/magic.py\u001b[0m in \u001b[0;36m<lambda>\u001b[0;34m(f, *a, **k)\u001b[0m\n\u001b[1;32m    186\u001b[0m     \u001b[0;31m# but it's overkill for just that one bit of state.\u001b[0m\u001b[0;34m\u001b[0m\u001b[0;34m\u001b[0m\u001b[0m\n\u001b[1;32m    187\u001b[0m     \u001b[0;32mdef\u001b[0m \u001b[0mmagic_deco\u001b[0m\u001b[0;34m(\u001b[0m\u001b[0marg\u001b[0m\u001b[0;34m)\u001b[0m\u001b[0;34m:\u001b[0m\u001b[0;34m\u001b[0m\u001b[0m\n\u001b[0;32m--> 188\u001b[0;31m         \u001b[0mcall\u001b[0m \u001b[0;34m=\u001b[0m \u001b[0;32mlambda\u001b[0m \u001b[0mf\u001b[0m\u001b[0;34m,\u001b[0m \u001b[0;34m*\u001b[0m\u001b[0ma\u001b[0m\u001b[0;34m,\u001b[0m \u001b[0;34m**\u001b[0m\u001b[0mk\u001b[0m\u001b[0;34m:\u001b[0m \u001b[0mf\u001b[0m\u001b[0;34m(\u001b[0m\u001b[0;34m*\u001b[0m\u001b[0ma\u001b[0m\u001b[0;34m,\u001b[0m \u001b[0;34m**\u001b[0m\u001b[0mk\u001b[0m\u001b[0;34m)\u001b[0m\u001b[0;34m\u001b[0m\u001b[0m\n\u001b[0m\u001b[1;32m    189\u001b[0m \u001b[0;34m\u001b[0m\u001b[0m\n\u001b[1;32m    190\u001b[0m         \u001b[0;32mif\u001b[0m \u001b[0mcallable\u001b[0m\u001b[0;34m(\u001b[0m\u001b[0marg\u001b[0m\u001b[0;34m)\u001b[0m\u001b[0;34m:\u001b[0m\u001b[0;34m\u001b[0m\u001b[0m\n",
      "\u001b[0;32m/home/antonio/.virtualenvs/colombia/lib/python3.4/site-packages/IPython/core/magics/execution.py\u001b[0m in \u001b[0;36mtime\u001b[0;34m(self, line, cell, local_ns)\u001b[0m\n\u001b[1;32m   1178\u001b[0m         \u001b[0;32melse\u001b[0m\u001b[0;34m:\u001b[0m\u001b[0;34m\u001b[0m\u001b[0m\n\u001b[1;32m   1179\u001b[0m             \u001b[0mst\u001b[0m \u001b[0;34m=\u001b[0m \u001b[0mclock2\u001b[0m\u001b[0;34m(\u001b[0m\u001b[0;34m)\u001b[0m\u001b[0;34m\u001b[0m\u001b[0m\n\u001b[0;32m-> 1180\u001b[0;31m             \u001b[0mexec\u001b[0m\u001b[0;34m(\u001b[0m\u001b[0mcode\u001b[0m\u001b[0;34m,\u001b[0m \u001b[0mglob\u001b[0m\u001b[0;34m,\u001b[0m \u001b[0mlocal_ns\u001b[0m\u001b[0;34m)\u001b[0m\u001b[0;34m\u001b[0m\u001b[0m\n\u001b[0m\u001b[1;32m   1181\u001b[0m             \u001b[0mend\u001b[0m \u001b[0;34m=\u001b[0m \u001b[0mclock2\u001b[0m\u001b[0;34m(\u001b[0m\u001b[0;34m)\u001b[0m\u001b[0;34m\u001b[0m\u001b[0m\n\u001b[1;32m   1182\u001b[0m             \u001b[0mout\u001b[0m \u001b[0;34m=\u001b[0m \u001b[0;32mNone\u001b[0m\u001b[0;34m\u001b[0m\u001b[0m\n",
      "\u001b[0;32m<timed exec>\u001b[0m in \u001b[0;36m<module>\u001b[0;34m()\u001b[0m\n",
      "\u001b[0;32m/home/antonio/.virtualenvs/colombia/lib/python3.4/site-packages/pandas/core/frame.py\u001b[0m in \u001b[0;36mapply\u001b[0;34m(self, func, axis, broadcast, raw, reduce, args, **kwds)\u001b[0m\n\u001b[1;32m   4161\u001b[0m                     \u001b[0;32mif\u001b[0m \u001b[0mreduce\u001b[0m \u001b[0;32mis\u001b[0m \u001b[0;32mNone\u001b[0m\u001b[0;34m:\u001b[0m\u001b[0;34m\u001b[0m\u001b[0m\n\u001b[1;32m   4162\u001b[0m                         \u001b[0mreduce\u001b[0m \u001b[0;34m=\u001b[0m \u001b[0;32mTrue\u001b[0m\u001b[0;34m\u001b[0m\u001b[0m\n\u001b[0;32m-> 4163\u001b[0;31m                     \u001b[0;32mreturn\u001b[0m \u001b[0mself\u001b[0m\u001b[0;34m.\u001b[0m\u001b[0m_apply_standard\u001b[0m\u001b[0;34m(\u001b[0m\u001b[0mf\u001b[0m\u001b[0;34m,\u001b[0m \u001b[0maxis\u001b[0m\u001b[0;34m,\u001b[0m \u001b[0mreduce\u001b[0m\u001b[0;34m=\u001b[0m\u001b[0mreduce\u001b[0m\u001b[0;34m)\u001b[0m\u001b[0;34m\u001b[0m\u001b[0m\n\u001b[0m\u001b[1;32m   4164\u001b[0m             \u001b[0;32melse\u001b[0m\u001b[0;34m:\u001b[0m\u001b[0;34m\u001b[0m\u001b[0m\n\u001b[1;32m   4165\u001b[0m                 \u001b[0;32mreturn\u001b[0m \u001b[0mself\u001b[0m\u001b[0;34m.\u001b[0m\u001b[0m_apply_broadcast\u001b[0m\u001b[0;34m(\u001b[0m\u001b[0mf\u001b[0m\u001b[0;34m,\u001b[0m \u001b[0maxis\u001b[0m\u001b[0;34m)\u001b[0m\u001b[0;34m\u001b[0m\u001b[0m\n",
      "\u001b[0;32m/home/antonio/.virtualenvs/colombia/lib/python3.4/site-packages/pandas/core/frame.py\u001b[0m in \u001b[0;36m_apply_standard\u001b[0;34m(self, func, axis, ignore_failures, reduce)\u001b[0m\n\u001b[1;32m   4231\u001b[0m             \u001b[0mres_index\u001b[0m \u001b[0;34m=\u001b[0m \u001b[0mself\u001b[0m\u001b[0;34m.\u001b[0m\u001b[0mindex\u001b[0m\u001b[0;34m\u001b[0m\u001b[0m\n\u001b[1;32m   4232\u001b[0m             \u001b[0mres_columns\u001b[0m \u001b[0;34m=\u001b[0m \u001b[0mself\u001b[0m\u001b[0;34m.\u001b[0m\u001b[0mcolumns\u001b[0m\u001b[0;34m\u001b[0m\u001b[0m\n\u001b[0;32m-> 4233\u001b[0;31m             \u001b[0mvalues\u001b[0m \u001b[0;34m=\u001b[0m \u001b[0mself\u001b[0m\u001b[0;34m.\u001b[0m\u001b[0mvalues\u001b[0m\u001b[0;34m\u001b[0m\u001b[0m\n\u001b[0m\u001b[1;32m   4234\u001b[0m             series_gen = (Series.from_array(arr, index=res_columns, name=name,\n\u001b[1;32m   4235\u001b[0m                                             dtype=dtype)\n",
      "\u001b[0;32m/home/antonio/.virtualenvs/colombia/lib/python3.4/site-packages/pandas/core/generic.py\u001b[0m in \u001b[0;36mvalues\u001b[0;34m(self)\u001b[0m\n\u001b[1;32m   2924\u001b[0m         \u001b[0mwill\u001b[0m \u001b[0mresult\u001b[0m \u001b[0;32min\u001b[0m \u001b[0ma\u001b[0m \u001b[0mflot64\u001b[0m \u001b[0mdtype\u001b[0m\u001b[0;34m.\u001b[0m\u001b[0;34m\u001b[0m\u001b[0m\n\u001b[1;32m   2925\u001b[0m         \"\"\"\n\u001b[0;32m-> 2926\u001b[0;31m         \u001b[0;32mreturn\u001b[0m \u001b[0mself\u001b[0m\u001b[0;34m.\u001b[0m\u001b[0mas_matrix\u001b[0m\u001b[0;34m(\u001b[0m\u001b[0;34m)\u001b[0m\u001b[0;34m\u001b[0m\u001b[0m\n\u001b[0m\u001b[1;32m   2927\u001b[0m \u001b[0;34m\u001b[0m\u001b[0m\n\u001b[1;32m   2928\u001b[0m     \u001b[0;34m@\u001b[0m\u001b[0mproperty\u001b[0m\u001b[0;34m\u001b[0m\u001b[0m\n",
      "\u001b[0;32m/home/antonio/.virtualenvs/colombia/lib/python3.4/site-packages/pandas/core/generic.py\u001b[0m in \u001b[0;36mas_matrix\u001b[0;34m(self, columns)\u001b[0m\n\u001b[1;32m   2905\u001b[0m         \u001b[0mself\u001b[0m\u001b[0;34m.\u001b[0m\u001b[0m_consolidate_inplace\u001b[0m\u001b[0;34m(\u001b[0m\u001b[0;34m)\u001b[0m\u001b[0;34m\u001b[0m\u001b[0m\n\u001b[1;32m   2906\u001b[0m         \u001b[0;32mif\u001b[0m \u001b[0mself\u001b[0m\u001b[0;34m.\u001b[0m\u001b[0m_AXIS_REVERSED\u001b[0m\u001b[0;34m:\u001b[0m\u001b[0;34m\u001b[0m\u001b[0m\n\u001b[0;32m-> 2907\u001b[0;31m             \u001b[0;32mreturn\u001b[0m \u001b[0mself\u001b[0m\u001b[0;34m.\u001b[0m\u001b[0m_data\u001b[0m\u001b[0;34m.\u001b[0m\u001b[0mas_matrix\u001b[0m\u001b[0;34m(\u001b[0m\u001b[0mcolumns\u001b[0m\u001b[0;34m)\u001b[0m\u001b[0;34m.\u001b[0m\u001b[0mT\u001b[0m\u001b[0;34m\u001b[0m\u001b[0m\n\u001b[0m\u001b[1;32m   2908\u001b[0m         \u001b[0;32mreturn\u001b[0m \u001b[0mself\u001b[0m\u001b[0;34m.\u001b[0m\u001b[0m_data\u001b[0m\u001b[0;34m.\u001b[0m\u001b[0mas_matrix\u001b[0m\u001b[0;34m(\u001b[0m\u001b[0mcolumns\u001b[0m\u001b[0;34m)\u001b[0m\u001b[0;34m\u001b[0m\u001b[0m\n\u001b[1;32m   2909\u001b[0m \u001b[0;34m\u001b[0m\u001b[0m\n",
      "\u001b[0;32m/home/antonio/.virtualenvs/colombia/lib/python3.4/site-packages/pandas/core/internals.py\u001b[0m in \u001b[0;36mas_matrix\u001b[0;34m(self, items)\u001b[0m\n\u001b[1;32m   3399\u001b[0m             \u001b[0;32mreturn\u001b[0m \u001b[0mmgr\u001b[0m\u001b[0;34m.\u001b[0m\u001b[0mblocks\u001b[0m\u001b[0;34m[\u001b[0m\u001b[0;36m0\u001b[0m\u001b[0;34m]\u001b[0m\u001b[0;34m.\u001b[0m\u001b[0mget_values\u001b[0m\u001b[0;34m(\u001b[0m\u001b[0;34m)\u001b[0m\u001b[0;34m\u001b[0m\u001b[0m\n\u001b[1;32m   3400\u001b[0m         \u001b[0;32melse\u001b[0m\u001b[0;34m:\u001b[0m\u001b[0;34m\u001b[0m\u001b[0m\n\u001b[0;32m-> 3401\u001b[0;31m             \u001b[0;32mreturn\u001b[0m \u001b[0mmgr\u001b[0m\u001b[0;34m.\u001b[0m\u001b[0m_interleave\u001b[0m\u001b[0;34m(\u001b[0m\u001b[0;34m)\u001b[0m\u001b[0;34m\u001b[0m\u001b[0m\n\u001b[0m\u001b[1;32m   3402\u001b[0m \u001b[0;34m\u001b[0m\u001b[0m\n\u001b[1;32m   3403\u001b[0m     \u001b[0;32mdef\u001b[0m \u001b[0m_interleave\u001b[0m\u001b[0;34m(\u001b[0m\u001b[0mself\u001b[0m\u001b[0;34m)\u001b[0m\u001b[0;34m:\u001b[0m\u001b[0;34m\u001b[0m\u001b[0m\n",
      "\u001b[0;32m/home/antonio/.virtualenvs/colombia/lib/python3.4/site-packages/pandas/core/internals.py\u001b[0m in \u001b[0;36m_interleave\u001b[0;34m(self)\u001b[0m\n\u001b[1;32m   3426\u001b[0m         \u001b[0;32mfor\u001b[0m \u001b[0mblk\u001b[0m \u001b[0;32min\u001b[0m \u001b[0mself\u001b[0m\u001b[0;34m.\u001b[0m\u001b[0mblocks\u001b[0m\u001b[0;34m:\u001b[0m\u001b[0;34m\u001b[0m\u001b[0m\n\u001b[1;32m   3427\u001b[0m             \u001b[0mrl\u001b[0m \u001b[0;34m=\u001b[0m \u001b[0mblk\u001b[0m\u001b[0;34m.\u001b[0m\u001b[0mmgr_locs\u001b[0m\u001b[0;34m\u001b[0m\u001b[0m\n\u001b[0;32m-> 3428\u001b[0;31m             \u001b[0mresult\u001b[0m\u001b[0;34m[\u001b[0m\u001b[0mrl\u001b[0m\u001b[0;34m.\u001b[0m\u001b[0mindexer\u001b[0m\u001b[0;34m]\u001b[0m \u001b[0;34m=\u001b[0m \u001b[0mblk\u001b[0m\u001b[0;34m.\u001b[0m\u001b[0mget_values\u001b[0m\u001b[0;34m(\u001b[0m\u001b[0mdtype\u001b[0m\u001b[0;34m)\u001b[0m\u001b[0;34m\u001b[0m\u001b[0m\n\u001b[0m\u001b[1;32m   3429\u001b[0m             \u001b[0mitemmask\u001b[0m\u001b[0;34m[\u001b[0m\u001b[0mrl\u001b[0m\u001b[0;34m.\u001b[0m\u001b[0mindexer\u001b[0m\u001b[0;34m]\u001b[0m \u001b[0;34m=\u001b[0m \u001b[0;36m1\u001b[0m\u001b[0;34m\u001b[0m\u001b[0m\n\u001b[1;32m   3430\u001b[0m \u001b[0;34m\u001b[0m\u001b[0m\n",
      "\u001b[0;32m/home/antonio/.virtualenvs/colombia/lib/python3.4/site-packages/pandas/core/internals.py\u001b[0m in \u001b[0;36mget_values\u001b[0;34m(self, dtype)\u001b[0m\n\u001b[1;32m   1670\u001b[0m         \u001b[0;32mif\u001b[0m \u001b[0mis_object_dtype\u001b[0m\u001b[0;34m(\u001b[0m\u001b[0mdtype\u001b[0m\u001b[0;34m)\u001b[0m\u001b[0;34m:\u001b[0m\u001b[0;34m\u001b[0m\u001b[0m\n\u001b[1;32m   1671\u001b[0m             return lib.map_infer(self.values.ravel(),\n\u001b[0;32m-> 1672\u001b[0;31m                                  self._box_func).reshape(self.values.shape)\n\u001b[0m\u001b[1;32m   1673\u001b[0m         \u001b[0;32mreturn\u001b[0m \u001b[0mself\u001b[0m\u001b[0;34m.\u001b[0m\u001b[0mvalues\u001b[0m\u001b[0;34m\u001b[0m\u001b[0m\n\u001b[1;32m   1674\u001b[0m \u001b[0;34m\u001b[0m\u001b[0m\n",
      "\u001b[0;31mKeyboardInterrupt\u001b[0m: "
     ]
    }
   ],
   "source": [
    "%%time\n",
    "\n",
    "def process_pais(x):\n",
    "    r = x['PAIS_EJEMPLAR'].strip()\n",
    "    if r in loc_marc_df_sr:\n",
    "        r = loc_marc_df_sr[r]\n",
    "    if '-' + r in loc_marc_df_sr:\n",
    "        r = loc_marc_df_sr['-' + r]\n",
    "    elif r in iso3_sr:\n",
    "        r = iso3_sr[r]\n",
    "    elif r in iso2_sr:\n",
    "        r = iso2_sr[r]\n",
    "    elif r in missing_codes_dict:\n",
    "        r = missing_codes_dict[r]\n",
    "    return r\n",
    "\n",
    "autores_df['PAIS_EJEMPLAR'] = prestamos_df.apply(process_pais, axis=1)"
   ]
  },
  {
   "cell_type": "code",
   "execution_count": 254,
   "metadata": {
    "collapsed": false
   },
   "outputs": [],
   "source": [
    "sss=''\n",
    "for x in autores_df['AUTOR'].unique():\n",
    "    sss+=x+'\\n'"
   ]
  },
  {
   "cell_type": "code",
   "execution_count": 255,
   "metadata": {
    "collapsed": true
   },
   "outputs": [],
   "source": [
    "with open('autores.txt', 'w') as f:\n",
    "    f.write(sss)"
   ]
  },
  {
   "cell_type": "code",
   "execution_count": 169,
   "metadata": {
    "collapsed": false
   },
   "outputs": [
    {
     "data": {
      "text/plain": [
       "341"
      ]
     },
     "execution_count": 169,
     "metadata": {},
     "output_type": "execute_result"
    }
   ],
   "source": [
    "prestamos_df['PAIS_EJEMPLAR'].nunique()"
   ]
  },
  {
   "cell_type": "code",
   "execution_count": 171,
   "metadata": {
    "collapsed": false
   },
   "outputs": [
    {
     "data": {
      "text/plain": [
       "167"
      ]
     },
     "execution_count": 171,
     "metadata": {},
     "output_type": "execute_result"
    }
   ],
   "source": [
    "c"
   ]
  },
  {
   "cell_type": "code",
   "execution_count": null,
   "metadata": {
    "collapsed": true
   },
   "outputs": [],
   "source": []
  },
  {
   "cell_type": "code",
   "execution_count": 82,
   "metadata": {
    "collapsed": false
   },
   "outputs": [
    {
     "name": "stdout",
     "output_type": "stream",
     "text": [
      "CPU times: user 6 µs, sys: 1e+03 ns, total: 7 µs\n",
      "Wall time: 11 µs\n"
     ]
    },
    {
     "data": {
      "text/plain": [
       "'García Márquez, Gabriel.'"
      ]
     },
     "execution_count": 82,
     "metadata": {},
     "output_type": "execute_result"
    }
   ],
   "source": [
    "%%time\n",
    "\n",
    "autores_dict['García Márquez, Gabriel, 1927-2014']"
   ]
  },
  {
   "cell_type": "code",
   "execution_count": 100,
   "metadata": {
    "collapsed": false
   },
   "outputs": [
    {
     "name": "stdout",
     "output_type": "stream",
     "text": [
      "CPU times: user 17 µs, sys: 1 µs, total: 18 µs\n",
      "Wall time: 21.5 µs\n"
     ]
    },
    {
     "data": {
      "text/plain": [
       "', 1927-2014'"
      ]
     },
     "execution_count": 100,
     "metadata": {},
     "output_type": "execute_result"
    }
   ],
   "source": [
    "%%time\n",
    "\n",
    "process_autor('García Márquez, Gabriel, 1927-2014')"
   ]
  },
  {
   "cell_type": "code",
   "execution_count": null,
   "metadata": {
    "collapsed": true
   },
   "outputs": [],
   "source": [
    "%%time\n",
    "\n",
    "def process_autor(x):\n",
    "    r = x['AUTOR'].strip().lower()\n",
    "    r = r.replace('á', 'a').replace('é', 'e').replace('í', 'i').replace('ó', 'o').replace('ú', 'u')\n",
    "    return r\n",
    "\n",
    "autores_df['AUTOR'] = ciudades_df.apply(process_field_departamento, axis=1)"
   ]
  },
  {
   "cell_type": "code",
   "execution_count": null,
   "metadata": {
    "collapsed": true
   },
   "outputs": [],
   "source": []
  },
  {
   "cell_type": "code",
   "execution_count": 9,
   "metadata": {
    "collapsed": false
   },
   "outputs": [
    {
     "data": {
      "text/plain": [
       "                                            409373\n",
       "García Márquez, Gabriel, 1927-2014           13207\n",
       "Colombia.                                    11526\n",
       "Hergé, 1907-1983.                            11510\n",
       "Browne, Anthony, 1946-.                       8653\n",
       "Foucault, Michel, 1926-1984.                  6849\n",
       "Cortázar, Julio, 1914-1984.                   6478\n",
       "Nietzsche, Friedrich Wilhelm, 1844-1900.      5876\n",
       "Da Coll, Ivar, 1962-                          5350\n",
       "Kasza, Keiko.                                 5336\n",
       "Name: AUTOR, dtype: int64"
      ]
     },
     "execution_count": 9,
     "metadata": {},
     "output_type": "execute_result"
    }
   ],
   "source": [
    "prestamos_df['AUTOR'].value_counts()[:10]"
   ]
  },
  {
   "cell_type": "code",
   "execution_count": 17,
   "metadata": {
    "collapsed": false
   },
   "outputs": [
    {
     "data": {
      "text/plain": [
       "                                                                409373\n",
       "García Márquez, Gabriel, 1927-2014                               13207\n",
       "Colombia.                                                        11526\n",
       "Hergé, 1907-1983.                                                11510\n",
       "Browne, Anthony, 1946-.                                           8653\n",
       "Foucault, Michel, 1926-1984.                                      6849\n",
       "Cortázar, Julio, 1914-1984.                                       6478\n",
       "Nietzsche, Friedrich Wilhelm, 1844-1900.                          5876\n",
       "Da Coll, Ivar, 1962-                                              5350\n",
       "Kasza, Keiko.                                                     5336\n",
       "Shakespeare, William, 1564-1616.                                  5012\n",
       "Verne, Jules, 1828-1905.                                          4394\n",
       "Instituto Colombiano de Normas Técnicas y Certificación.          4318\n",
       "Dostoievski, Fedor Mijailovich, 1821-1881.                        4296\n",
       "Rowling, J. K., 1965-                                             4269\n",
       "Borges, Jorge Luis, 1899-1986.                                    4192\n",
       "Saramago, José, 1922-2010                                         4091\n",
       "Eco, Umberto, 1932-                                               4076\n",
       "Freud, Sigmund, 1856-1939.                                        3966\n",
       "Poe, Edgar Allan, 1809-1849.                                      3777\n",
       "Vallejo, Fernando, 1942-                                          3724\n",
       "Marx, Karl, 1818-1883.                                            3690\n",
       "Montes, Graciela, 1947-                                           3686\n",
       "McKee, David, 1935-                                               3654\n",
       "Vargas Llosa, Mario, 1936-                                        3540\n",
       "Wilde, Oscar, 1854-1900.                                          3503\n",
       "Pombo, Rafael, 1833-1912.                                         3301\n",
       "Ospina, William, 1954-                                            3074\n",
       "Bourdieu, Pierre, 1930-2002.                                      3058\n",
       "Platón, 428?-347 a. C.                                            3032\n",
       "                                                                 ...  \n",
       "Delgado, Jacinto María, fl. s. XVIII.                                1\n",
       "Universidad Santo Tomas : (Bogotá). Centro de Enseñanza Dese         1\n",
       "Billings, John J.                                                    1\n",
       "Ramírez Zuluaga, Alberto.                                            1\n",
       "Abello Mesa, Leonelo, 1953-                                          1\n",
       "Ricardo, Cassiano, 1895-1974.                                        1\n",
       "Pecharromán Cebrián, Ovidio.                                         1\n",
       "Arce y Cacho, Celedonio Nicolás, 1739-1795.                          1\n",
       "Bernal López, Gladys Aurora.                                         1\n",
       "Borrero, Sergio.                                                     1\n",
       "Ball, Karen.                                                         1\n",
       "Helmer, Ángela.                                                      1\n",
       "Aroca, Juan.                                                         1\n",
       "Navalón Jiménez, Marc.                                               1\n",
       "Palau i Fabre, Josep, 1917-2008.                                     1\n",
       "Wilde, Douglass J.                                                   1\n",
       "Seminario la enseñanza del derecho internacional (1972 : Bog         1\n",
       "Ramos Muñoz, José.                                                   1\n",
       "Rincón Noriega, Fredy E.                                             1\n",
       "Medina Chirinos, Carlos, 1884-.                                      1\n",
       "Fundación Galería de Arte Nacional : (Caracas)                       1\n",
       "Martínez Arango, María Elena.                                        1\n",
       "Gralow Nelson, Frances Lorraine.                                     1\n",
       "Universidad Pontificia Bolivariana (Medellín, Colombia)              1\n",
       "Core, Susie Pearl.                                                   1\n",
       "Botero Angel, Federico.                                              1\n",
       "Kutka, Mikulas.                                                      1\n",
       "Persia, Jorge de.                                                    1\n",
       "García Saiz, María Concepción.                                       1\n",
       "Lindsay, Michael, 1909-                                              1\n",
       "Name: AUTOR, dtype: int64"
      ]
     },
     "execution_count": 17,
     "metadata": {},
     "output_type": "execute_result"
    }
   ],
   "source": [
    "prestamos_df['AUTOR'].value_counts()"
   ]
  },
  {
   "cell_type": "code",
   "execution_count": null,
   "metadata": {
    "collapsed": true
   },
   "outputs": [],
   "source": []
  },
  {
   "cell_type": "code",
   "execution_count": null,
   "metadata": {
    "collapsed": true
   },
   "outputs": [],
   "source": []
  },
  {
   "cell_type": "code",
   "execution_count": null,
   "metadata": {
    "collapsed": true
   },
   "outputs": [],
   "source": []
  },
  {
   "cell_type": "code",
   "execution_count": 38,
   "metadata": {
    "collapsed": true
   },
   "outputs": [],
   "source": [
    "s='García Márquez, Gabriel, 1927-2014.'"
   ]
  },
  {
   "cell_type": "code",
   "execution_count": 57,
   "metadata": {
    "collapsed": true
   },
   "outputs": [],
   "source": [
    "s='Lindsay, Michael, 1909-'"
   ]
  },
  {
   "cell_type": "code",
   "execution_count": 53,
   "metadata": {
    "collapsed": true
   },
   "outputs": [],
   "source": [
    "s='Martínez Arango, María Elena.'"
   ]
  },
  {
   "cell_type": "code",
   "execution_count": 58,
   "metadata": {
    "collapsed": false
   },
   "outputs": [],
   "source": [
    "sss=re.findall('(, \\d{4}-(\\d{4}\\.?)?)', s)"
   ]
  },
  {
   "cell_type": "code",
   "execution_count": 59,
   "metadata": {
    "collapsed": false
   },
   "outputs": [
    {
     "data": {
      "text/plain": [
       "[(', 1909-', '')]"
      ]
     },
     "execution_count": 59,
     "metadata": {},
     "output_type": "execute_result"
    }
   ],
   "source": [
    "sss"
   ]
  },
  {
   "cell_type": "code",
   "execution_count": 55,
   "metadata": {
    "collapsed": false
   },
   "outputs": [
    {
     "ename": "IndexError",
     "evalue": "list index out of range",
     "output_type": "error",
     "traceback": [
      "\u001b[0;31m---------------------------------------------------------------------------\u001b[0m",
      "\u001b[0;31mIndexError\u001b[0m                                Traceback (most recent call last)",
      "\u001b[0;32m<ipython-input-55-c1b7e2f7d595>\u001b[0m in \u001b[0;36m<module>\u001b[0;34m()\u001b[0m\n\u001b[0;32m----> 1\u001b[0;31m \u001b[0msss\u001b[0m\u001b[0;34m[\u001b[0m\u001b[0;36m0\u001b[0m\u001b[0;34m]\u001b[0m\u001b[0;34m[\u001b[0m\u001b[0;36m0\u001b[0m\u001b[0;34m]\u001b[0m\u001b[0;34m\u001b[0m\u001b[0m\n\u001b[0m",
      "\u001b[0;31mIndexError\u001b[0m: list index out of range"
     ]
    }
   ],
   "source": [
    "sss[0][0]"
   ]
  },
  {
   "cell_type": "markdown",
   "metadata": {},
   "source": [
    "# Autores"
   ]
  },
  {
   "cell_type": "code",
   "execution_count": 2,
   "metadata": {
    "collapsed": true
   },
   "outputs": [],
   "source": [
    "sucursales = {\n",
    "    'ARM': {'name': 'Armenia', 'latitude': 4.53, 'longitude': -75.68},\n",
    "    'BAR': {'name': 'Barranquilla', 'latitude': 10.963889, 'longitude': -74.796389},\n",
    "    'BLAA': {'name': 'Luis Angel Arango', 'latitude': 4.59677, 'longitude': -74.072848},\n",
    "    'BUC': {'name': 'Bucaramanga', 'latitude': 7.133333, 'longitude': -73},\n",
    "    'BUE': {'name': 'Buenaventura', 'latitude': 3.877222, 'longitude': -77.026667},\n",
    "    'CAL': {'name': 'Cali', 'latitude': 3.420556, 'longitude': -76.522222},\n",
    "    'CAR': {'name': 'Cartagena', 'latitude': 10.4, 'longitude': -75.5},\n",
    "    'CASAGO': {'name': 'Casa Gómez Campuzano', 'latitude': 4.6628468, 'longitude': -74.0512116},\n",
    "    'CATMAN': {'name': 'Catalogación y Mantenimiento de Colecciones', 'latitude': 4.5769749, 'longitude': -74.0880581},\n",
    "    'CUC': {'name': 'Cúcuta', 'latitude': 7.894167, 'longitude': -72.503889},\n",
    "    'ESPE': {'name': 'Especial material audiovisual', 'latitude': 4.59677, 'longitude': -74.072848},\n",
    "    'FLO': {'name': 'Florencia', 'latitude': 1.614167, 'longitude': -75.611667},\n",
    "    'GIR': {'name': 'Girardot', 'latitude': 4.305, 'longitude': -74.801667},\n",
    "    'HON': {'name': 'Honda', 'latitude': 5.204167, 'longitude': -74.741667},\n",
    "    'IBA': {'name': 'Ibagué', 'latitude': 4.433333, 'longitude': -75.233333},\n",
    "    'IEC': {'name': 'Investigaciones Económicas', 'latitude': 4.5769749, 'longitude': -74.0880581},\n",
    "    'IPI': {'name': 'Ipiales', 'latitude': 0.830278, 'longitude': -77.644444},\n",
    "    'LET': {'name': 'Leticia', 'latitude': -4.205278, 'longitude': -69.932778},\n",
    "    'MAN': {'name': 'Manizales', 'latitude': 5.1, 'longitude': -75.55},\n",
    "    'MED': {'name': 'Medellín', 'latitude': 6.230833, 'longitude': -75.590556},\n",
    "    'MON': {'name': 'Montería', 'latitude': 8.75, 'longitude': -75.883333},\n",
    "    'NEI': {'name': 'Neiva', 'latitude': 2.998611, 'longitude': -75.304444},\n",
    "    'PAS': {'name': 'Pasto', 'latitude': 1.207778, 'longitude': -77.277222},\n",
    "    'PER': {'name': 'Pereira', 'latitude': 4.814278, 'longitude': -75.694558},\n",
    "    'POP': {'name': 'Popayán', 'latitude': 2.454167, 'longitude': -76.609167},\n",
    "    'QUI': {'name': 'Quibdó', 'latitude': 5.692222, 'longitude': -76.658056},\n",
    "    'RIO': {'name': 'Riohacha', 'latitude': 11.544167, 'longitude': -72.906944},\n",
    "    'SAN': {'name': 'San Andrés', 'latitude': 12.583333, 'longitude': -81.7},\n",
    "    'SIN': {'name': 'Sincelejo', 'latitude': 9.295, 'longitude': -75.396111},\n",
    "    'STM': {'name': 'Santa Marta', 'latitude': 11.241944, 'longitude': -74.205278},\n",
    "    'TUN': {'name': 'Tunja', 'latitude': 5.533333, 'longitude': -73.366667},\n",
    "    'VAL': {'name': 'Valledupar', 'latitude': 10.483333, 'longitude': -73.25},\n",
    "    'VIL': {'name': 'Villavicencio', 'latitude': 4.15, 'longitude': -73.633333},\n",
    "}"
   ]
  },
  {
   "cell_type": "code",
   "execution_count": null,
   "metadata": {
    "collapsed": true
   },
   "outputs": [],
   "source": []
  },
  {
   "cell_type": "code",
   "execution_count": null,
   "metadata": {
    "collapsed": true
   },
   "outputs": [],
   "source": []
  },
  {
   "cell_type": "code",
   "execution_count": null,
   "metadata": {
    "collapsed": true
   },
   "outputs": [],
   "source": []
  },
  {
   "cell_type": "code",
   "execution_count": null,
   "metadata": {
    "collapsed": true
   },
   "outputs": [],
   "source": []
  },
  {
   "cell_type": "code",
   "execution_count": null,
   "metadata": {
    "collapsed": true
   },
   "outputs": [],
   "source": []
  },
  {
   "cell_type": "code",
   "execution_count": null,
   "metadata": {
    "collapsed": true
   },
   "outputs": [],
   "source": []
  },
  {
   "cell_type": "code",
   "execution_count": null,
   "metadata": {
    "collapsed": true
   },
   "outputs": [],
   "source": []
  }
 ],
 "metadata": {
  "kernelspec": {
   "display_name": "Python 3",
   "language": "python",
   "name": "python3"
  },
  "language_info": {
   "codemirror_mode": {
    "name": "ipython",
    "version": 3
   },
   "file_extension": ".py",
   "mimetype": "text/x-python",
   "name": "python",
   "nbconvert_exporter": "python",
   "pygments_lexer": "ipython3",
   "version": "3.4.3"
  }
 },
 "nbformat": 4,
 "nbformat_minor": 1
}
