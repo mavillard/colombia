{
 "cells": [
  {
   "cell_type": "code",
   "execution_count": 1,
   "metadata": {
    "collapsed": true
   },
   "outputs": [],
   "source": [
    "import csv\n",
    "import os\n",
    "import re\n",
    "from collections import defaultdict\n",
    "from datetime import datetime\n",
    "from datetime import timedelta\n",
    "from string import punctuation\n",
    "\n",
    "import matplotlib\n",
    "import numpy as np\n",
    "import networkx as nx\n",
    "import pandas as pd\n",
    "import requests\n",
    "import seaborn as sns\n",
    "from matplotlib import pyplot as plt\n",
    "from SPARQLWrapper import SPARQLWrapper, JSON"
   ]
  },
  {
   "cell_type": "code",
   "execution_count": 2,
   "metadata": {
    "collapsed": true
   },
   "outputs": [],
   "source": [
    "total_colums = [\n",
    "    # Ejemplar\n",
    "    'TITULO', 'AUTOR', 'EDITORIAL', 'SUCURSAL', 'DESC_SUCURSAL', 'COD_BARRAS_LIBRO', 'NUM_TITULO', 'SIG_TOPOGRAFICA',\n",
    "    'DEWEY', 'II_SUMARIO', 'I_SUMARIO', 'EDICION', 'LOCALIZACION_EJEMPLAR', 'DESC_LOCALIZACION_EJEMPLAR', 'POLITICA',\n",
    "    'DESC_POLITICA_EJEMPLAR', 'ISBN', 'FECHA_REGISTRO_EJEMPLAR', 'FECHA_ADICION_EJEMPLAR', 'FECHA_PUB',\n",
    "    'ESTADO_EJEMPLAR', 'PAIS_EJEMPLAR',\n",
    "    # Usuario (I)\n",
    "    'OCUPACION', 'NIVEL_EDUCACION', 'AREA_ESTUDIO',\n",
    "    # Prestamo (I)\n",
    "    'SUCURSAL_PRESTAMO', 'SUCURSAL_DEVOLUCION',\n",
    "    # Usuario (II)\n",
    "    'SUCURSAL_DEL_LECTOR', 'COD_BARRAS_LECTOR', 'CATEGORÍA',\n",
    "    # Prestamo (II)\n",
    "    'FECHA_PRESTAMO', 'FECHA_REAL_DEVOLUCION',\n",
    "]"
   ]
  },
  {
   "cell_type": "code",
   "execution_count": 3,
   "metadata": {
    "collapsed": true
   },
   "outputs": [],
   "source": [
    "used_colums = [\n",
    "    # Ejemplar\n",
    "    'TITULO', 'AUTOR', 'SUCURSAL', 'COD_BARRAS_LIBRO', 'DEWEY', 'DESC_LOCALIZACION_EJEMPLAR',\n",
    "    'FECHA_PUB','PAIS_EJEMPLAR',\n",
    "    # Usuario (I)\n",
    "    'OCUPACION','NIVEL_EDUCACION','AREA_ESTUDIO',\n",
    "    # Prestamo (I)\n",
    "    'SUCURSAL_PRESTAMO','SUCURSAL_DEVOLUCION',\n",
    "    # Usuario (II)\n",
    "    'SUCURSAL_DEL_LECTOR', 'COD_BARRAS_LECTOR', 'CATEGORÍA',\n",
    "    # Prestamo (II)\n",
    "    'FECHA_PRESTAMO','FECHA_REAL_DEVOLUCION'\n",
    "]"
   ]
  },
  {
   "cell_type": "markdown",
   "metadata": {},
   "source": [
    "# Préstamos"
   ]
  },
  {
   "cell_type": "code",
   "execution_count": 4,
   "metadata": {
    "collapsed": false
   },
   "outputs": [
    {
     "name": "stdout",
     "output_type": "stream",
     "text": [
      "CPU times: user 18.9 s, sys: 674 ms, total: 19.5 s\n",
      "Wall time: 19.5 s\n"
     ]
    }
   ],
   "source": [
    "%%time\n",
    "\n",
    "dtypes = {\n",
    "    'TITULO': str,\n",
    "    'AUTOR': str,\n",
    "    'SUCURSAL': str,\n",
    "    'COD_BARRAS_LIBRO': str,\n",
    "    'DEWEY': str,\n",
    "    'DESC_LOCALIZACION_EJEMPLAR': str,\n",
    "    'FECHA_PUB': str,\n",
    "    'PAIS_EJEMPLAR': str,\n",
    "    'OCUPACION': str,\n",
    "    'NIVEL_EDUCACION': str,\n",
    "    'AREA_ESTUDIO': str,\n",
    "    'SUCURSAL_PRESTAMO': str,\n",
    "    'SUCURSAL_DEVOLUCION': str,\n",
    "    'SUCURSAL_DEL_LECTOR': str,\n",
    "    'COD_BARRAS_LECTOR': str,\n",
    "    'CATEGORÍA': str,\n",
    "    'FECHA_PRESTAMO': str,\n",
    "    'FECHA_REAL_DEVOLUCION': str,\n",
    "    'DATE_PRESTAMO': pd.tslib.Timestamp,\n",
    "    'DATE_DEVOLUCION': pd.tslib.Timestamp,\n",
    "}\n",
    "\n",
    "prestamos_df = pd.read_csv('prestamos_totales.csv', header=0, dtype=dtypes, parse_dates=['DATE_PRESTAMO', 'DATE_DEVOLUCION'])\n",
    "prestamos_df = prestamos_df.fillna('')"
   ]
  },
  {
   "cell_type": "code",
   "execution_count": 5,
   "metadata": {
    "collapsed": false
   },
   "outputs": [
    {
     "data": {
      "text/plain": [
       "(3054360, 20)"
      ]
     },
     "execution_count": 5,
     "metadata": {},
     "output_type": "execute_result"
    }
   ],
   "source": [
    "prestamos_df.shape"
   ]
  },
  {
   "cell_type": "code",
   "execution_count": 6,
   "metadata": {
    "collapsed": false
   },
   "outputs": [
    {
     "data": {
      "text/html": [
       "<div>\n",
       "<table border=\"1\" class=\"dataframe\">\n",
       "  <thead>\n",
       "    <tr style=\"text-align: right;\">\n",
       "      <th></th>\n",
       "      <th>TITULO</th>\n",
       "      <th>AUTOR</th>\n",
       "      <th>SUCURSAL</th>\n",
       "      <th>COD_BARRAS_LIBRO</th>\n",
       "      <th>DEWEY</th>\n",
       "      <th>DESC_LOCALIZACION_EJEMPLAR</th>\n",
       "      <th>FECHA_PUB</th>\n",
       "      <th>PAIS_EJEMPLAR</th>\n",
       "      <th>OCUPACION</th>\n",
       "      <th>NIVEL_EDUCACION</th>\n",
       "      <th>AREA_ESTUDIO</th>\n",
       "      <th>SUCURSAL_PRESTAMO</th>\n",
       "      <th>SUCURSAL_DEVOLUCION</th>\n",
       "      <th>SUCURSAL_DEL_LECTOR</th>\n",
       "      <th>COD_BARRAS_LECTOR</th>\n",
       "      <th>CATEGORÍA</th>\n",
       "      <th>FECHA_PRESTAMO</th>\n",
       "      <th>FECHA_REAL_DEVOLUCION</th>\n",
       "      <th>DATE_PRESTAMO</th>\n",
       "      <th>DATE_DEVOLUCION</th>\n",
       "    </tr>\n",
       "  </thead>\n",
       "  <tbody>\n",
       "    <tr>\n",
       "      <th>0</th>\n",
       "      <td>Un bicho extraño</td>\n",
       "      <td>Daporta, Mon.</td>\n",
       "      <td>ARM</td>\n",
       "      <td>2298061</td>\n",
       "      <td>863</td>\n",
       "      <td>Infantil</td>\n",
       "      <td>2010</td>\n",
       "      <td>sp</td>\n",
       "      <td></td>\n",
       "      <td></td>\n",
       "      <td></td>\n",
       "      <td>ARM</td>\n",
       "      <td>ARM</td>\n",
       "      <td>ARM</td>\n",
       "      <td>88429527</td>\n",
       "      <td>CTA</td>\n",
       "      <td>22/01/2015</td>\n",
       "      <td>04/02/2015</td>\n",
       "      <td>2015-01-22</td>\n",
       "      <td>2015-02-04</td>\n",
       "    </tr>\n",
       "    <tr>\n",
       "      <th>1</th>\n",
       "      <td>Un bicho extraño</td>\n",
       "      <td>Daporta, Mon.</td>\n",
       "      <td>ARM</td>\n",
       "      <td>2298061</td>\n",
       "      <td>863</td>\n",
       "      <td>Infantil</td>\n",
       "      <td>2010</td>\n",
       "      <td>sp</td>\n",
       "      <td></td>\n",
       "      <td></td>\n",
       "      <td></td>\n",
       "      <td>ARM</td>\n",
       "      <td>ARM</td>\n",
       "      <td>ARM</td>\n",
       "      <td>88416381</td>\n",
       "      <td>CTA</td>\n",
       "      <td>31/03/2015</td>\n",
       "      <td>07/04/2015</td>\n",
       "      <td>2015-03-31</td>\n",
       "      <td>2015-04-07</td>\n",
       "    </tr>\n",
       "    <tr>\n",
       "      <th>2</th>\n",
       "      <td>Quisiera tener ...</td>\n",
       "      <td>Zoboli, Giovanna.</td>\n",
       "      <td>ARM</td>\n",
       "      <td>2284458</td>\n",
       "      <td>853</td>\n",
       "      <td>Infantil</td>\n",
       "      <td>2010</td>\n",
       "      <td>mx</td>\n",
       "      <td></td>\n",
       "      <td></td>\n",
       "      <td></td>\n",
       "      <td>ARM</td>\n",
       "      <td>ARM</td>\n",
       "      <td>ARM</td>\n",
       "      <td>88381353</td>\n",
       "      <td>CTA</td>\n",
       "      <td>07/11/2015</td>\n",
       "      <td>17/11/2015</td>\n",
       "      <td>2015-11-07</td>\n",
       "      <td>2015-11-17</td>\n",
       "    </tr>\n",
       "    <tr>\n",
       "      <th>3</th>\n",
       "      <td>Johannes Gutenberg</td>\n",
       "      <td>Borràs Perelló, Lluís.</td>\n",
       "      <td>ARM</td>\n",
       "      <td>2288922</td>\n",
       "      <td>925</td>\n",
       "      <td>Infantil</td>\n",
       "      <td>2010</td>\n",
       "      <td>sp</td>\n",
       "      <td>Empleado</td>\n",
       "      <td>Técnico</td>\n",
       "      <td>Adm. de empresas</td>\n",
       "      <td>ARM</td>\n",
       "      <td>ARM</td>\n",
       "      <td>ARM</td>\n",
       "      <td>88007424</td>\n",
       "      <td>CEM</td>\n",
       "      <td>16/01/2015</td>\n",
       "      <td>16/01/2015</td>\n",
       "      <td>2015-01-16</td>\n",
       "      <td>2015-01-16</td>\n",
       "    </tr>\n",
       "    <tr>\n",
       "      <th>4</th>\n",
       "      <td>La fantástica leyenda de: la princesa y el dragón</td>\n",
       "      <td>Alins, Sonia.</td>\n",
       "      <td>ARM</td>\n",
       "      <td>2288896</td>\n",
       "      <td>863</td>\n",
       "      <td>Infantil</td>\n",
       "      <td>2010</td>\n",
       "      <td>sp</td>\n",
       "      <td></td>\n",
       "      <td></td>\n",
       "      <td></td>\n",
       "      <td>ARM</td>\n",
       "      <td>ARM</td>\n",
       "      <td>ARM</td>\n",
       "      <td>88429529</td>\n",
       "      <td>CTA</td>\n",
       "      <td>21/01/2015</td>\n",
       "      <td>28/01/2015</td>\n",
       "      <td>2015-01-21</td>\n",
       "      <td>2015-01-28</td>\n",
       "    </tr>\n",
       "  </tbody>\n",
       "</table>\n",
       "</div>"
      ],
      "text/plain": [
       "                                              TITULO                   AUTOR  \\\n",
       "0                                   Un bicho extraño           Daporta, Mon.   \n",
       "1                                   Un bicho extraño           Daporta, Mon.   \n",
       "2                                 Quisiera tener ...       Zoboli, Giovanna.   \n",
       "3                                 Johannes Gutenberg  Borràs Perelló, Lluís.   \n",
       "4  La fantástica leyenda de: la princesa y el dragón           Alins, Sonia.   \n",
       "\n",
       "  SUCURSAL COD_BARRAS_LIBRO DEWEY DESC_LOCALIZACION_EJEMPLAR FECHA_PUB  \\\n",
       "0      ARM          2298061   863                   Infantil      2010   \n",
       "1      ARM          2298061   863                   Infantil      2010   \n",
       "2      ARM          2284458   853                   Infantil      2010   \n",
       "3      ARM          2288922   925                   Infantil      2010   \n",
       "4      ARM          2288896   863                   Infantil      2010   \n",
       "\n",
       "  PAIS_EJEMPLAR OCUPACION NIVEL_EDUCACION      AREA_ESTUDIO SUCURSAL_PRESTAMO  \\\n",
       "0            sp                                                           ARM   \n",
       "1            sp                                                           ARM   \n",
       "2            mx                                                           ARM   \n",
       "3            sp  Empleado         Técnico  Adm. de empresas               ARM   \n",
       "4            sp                                                           ARM   \n",
       "\n",
       "  SUCURSAL_DEVOLUCION SUCURSAL_DEL_LECTOR COD_BARRAS_LECTOR CATEGORÍA  \\\n",
       "0                 ARM                 ARM          88429527       CTA   \n",
       "1                 ARM                 ARM          88416381       CTA   \n",
       "2                 ARM                 ARM          88381353       CTA   \n",
       "3                 ARM                 ARM          88007424       CEM   \n",
       "4                 ARM                 ARM          88429529       CTA   \n",
       "\n",
       "  FECHA_PRESTAMO FECHA_REAL_DEVOLUCION DATE_PRESTAMO DATE_DEVOLUCION  \n",
       "0     22/01/2015            04/02/2015    2015-01-22      2015-02-04  \n",
       "1     31/03/2015            07/04/2015    2015-03-31      2015-04-07  \n",
       "2     07/11/2015            17/11/2015    2015-11-07      2015-11-17  \n",
       "3     16/01/2015            16/01/2015    2015-01-16      2015-01-16  \n",
       "4     21/01/2015            28/01/2015    2015-01-21      2015-01-28  "
      ]
     },
     "execution_count": 6,
     "metadata": {},
     "output_type": "execute_result"
    }
   ],
   "source": [
    "prestamos_df.head()"
   ]
  },
  {
   "cell_type": "markdown",
   "metadata": {},
   "source": [
    "# Sucursales"
   ]
  },
  {
   "cell_type": "code",
   "execution_count": 7,
   "metadata": {
    "collapsed": true
   },
   "outputs": [],
   "source": [
    "sucursales = {\n",
    "    'ARM': {'name': 'Armenia', 'latitude': 4.53, 'longitude': -75.68},\n",
    "    'BAR': {'name': 'Barranquilla', 'latitude': 10.963889, 'longitude': -74.796389},\n",
    "    'BLAA': {'name': 'Luis Angel Arango', 'latitude': 4.59677, 'longitude': -74.072848},\n",
    "    'BUC': {'name': 'Bucaramanga', 'latitude': 7.133333, 'longitude': -73},\n",
    "    'BUE': {'name': 'Buenaventura', 'latitude': 3.877222, 'longitude': -77.026667},\n",
    "    'CAL': {'name': 'Cali', 'latitude': 3.420556, 'longitude': -76.522222},\n",
    "    'CAR': {'name': 'Cartagena', 'latitude': 10.4, 'longitude': -75.5},\n",
    "    'CASAGO': {'name': 'Casa Gómez Campuzano', 'latitude': 4.6628468, 'longitude': -74.0512116},\n",
    "    'CATMAN': {'name': 'Catalogación y Mantenimiento de Colecciones', 'latitude': 4.5769749, 'longitude': -74.0880581},\n",
    "    'CUC': {'name': 'Cúcuta', 'latitude': 7.894167, 'longitude': -72.503889},\n",
    "    'ESPE': {'name': 'Especial material audiovisual', 'latitude': 4.59677, 'longitude': -74.072848},\n",
    "    'FLO': {'name': 'Florencia', 'latitude': 1.614167, 'longitude': -75.611667},\n",
    "    'GIR': {'name': 'Girardot', 'latitude': 4.305, 'longitude': -74.801667},\n",
    "    'HON': {'name': 'Honda', 'latitude': 5.204167, 'longitude': -74.741667},\n",
    "    'IBA': {'name': 'Ibagué', 'latitude': 4.433333, 'longitude': -75.233333},\n",
    "    'IEC': {'name': 'Investigaciones Económicas', 'latitude': 4.5769749, 'longitude': -74.0880581},\n",
    "    'IPI': {'name': 'Ipiales', 'latitude': 0.830278, 'longitude': -77.644444},\n",
    "    'LET': {'name': 'Leticia', 'latitude': -4.205278, 'longitude': -69.932778},\n",
    "    'MAN': {'name': 'Manizales', 'latitude': 5.1, 'longitude': -75.55},\n",
    "    'MED': {'name': 'Medellín', 'latitude': 6.230833, 'longitude': -75.590556},\n",
    "    'MON': {'name': 'Montería', 'latitude': 8.75, 'longitude': -75.883333},\n",
    "    'NEI': {'name': 'Neiva', 'latitude': 2.998611, 'longitude': -75.304444},\n",
    "    'PAS': {'name': 'Pasto', 'latitude': 1.207778, 'longitude': -77.277222},\n",
    "    'PER': {'name': 'Pereira', 'latitude': 4.814278, 'longitude': -75.694558},\n",
    "    'POP': {'name': 'Popayán', 'latitude': 2.454167, 'longitude': -76.609167},\n",
    "    'QUI': {'name': 'Quibdó', 'latitude': 5.692222, 'longitude': -76.658056},\n",
    "    'RIO': {'name': 'Riohacha', 'latitude': 11.544167, 'longitude': -72.906944},\n",
    "    'SAN': {'name': 'San Andrés', 'latitude': 12.583333, 'longitude': -81.7},\n",
    "    'SIN': {'name': 'Sincelejo', 'latitude': 9.295, 'longitude': -75.396111},\n",
    "    'STM': {'name': 'Santa Marta', 'latitude': 11.241944, 'longitude': -74.205278},\n",
    "    'TUN': {'name': 'Tunja', 'latitude': 5.533333, 'longitude': -73.366667},\n",
    "    'VAL': {'name': 'Valledupar', 'latitude': 10.483333, 'longitude': -73.25},\n",
    "    'VIL': {'name': 'Villavicencio', 'latitude': 4.15, 'longitude': -73.633333},\n",
    "}"
   ]
  },
  {
   "cell_type": "markdown",
   "metadata": {},
   "source": [
    "# Country codes"
   ]
  },
  {
   "cell_type": "markdown",
   "metadata": {},
   "source": [
    "## LOC/MARC"
   ]
  },
  {
   "cell_type": "markdown",
   "metadata": {},
   "source": [
    "http://www.loc.gov/marc/countries/countries_code.html"
   ]
  },
  {
   "cell_type": "code",
   "execution_count": 8,
   "metadata": {
    "collapsed": false
   },
   "outputs": [],
   "source": [
    "loc_marc_df = pd.read_csv('codes-loc-marc-countries.csv', sep='\\t', names=['code','country'])\n",
    "loc_marc_sr = pd.Series(data=list(loc_marc_df['country']), index=list(loc_marc_df['code']))"
   ]
  },
  {
   "cell_type": "code",
   "execution_count": 9,
   "metadata": {
    "collapsed": false
   },
   "outputs": [
    {
     "data": {
      "text/plain": [
       "aa                          Albania\n",
       "abc                         Alberta\n",
       "-ac     Ashmore and Cartier Islands\n",
       "aca    Australian Capital Territory\n",
       "ae                          Algeria\n",
       "dtype: object"
      ]
     },
     "execution_count": 9,
     "metadata": {},
     "output_type": "execute_result"
    }
   ],
   "source": [
    "loc_marc_sr.head()"
   ]
  },
  {
   "cell_type": "markdown",
   "metadata": {},
   "source": [
    "## ISO"
   ]
  },
  {
   "cell_type": "markdown",
   "metadata": {},
   "source": [
    "http://www.nationsonline.org/oneworld/country_code_list.htm"
   ]
  },
  {
   "cell_type": "code",
   "execution_count": 10,
   "metadata": {
    "collapsed": false
   },
   "outputs": [],
   "source": [
    "iso_df = pd.read_csv('codes-iso-countries.csv', sep='\\t', names=['country', 'iso-2', 'iso-3', 'code'])\n",
    "iso2_sr = pd.Series(data=list(iso_df['country']), index=map(lambda x: str(x).lower(), iso_df['iso-2']))\n",
    "iso3_sr = pd.Series(data=list(iso_df['country']), index=map(lambda x: str(x).lower(), iso_df['iso-3']))"
   ]
  },
  {
   "cell_type": "code",
   "execution_count": 11,
   "metadata": {
    "collapsed": false
   },
   "outputs": [
    {
     "data": {
      "text/plain": [
       "af       Afghanistan\n",
       "ax     Aland Islands\n",
       "al           Albania\n",
       "dz           Algeria\n",
       "as    American Samoa\n",
       "dtype: object"
      ]
     },
     "execution_count": 11,
     "metadata": {},
     "output_type": "execute_result"
    }
   ],
   "source": [
    "iso2_sr.head()"
   ]
  },
  {
   "cell_type": "code",
   "execution_count": 12,
   "metadata": {
    "collapsed": false
   },
   "outputs": [
    {
     "data": {
      "text/plain": [
       "afg       Afghanistan\n",
       "ala     Aland Islands\n",
       "alb           Albania\n",
       "dza           Algeria\n",
       "asm    American Samoa\n",
       "dtype: object"
      ]
     },
     "execution_count": 12,
     "metadata": {},
     "output_type": "execute_result"
    }
   ],
   "source": [
    "iso3_sr.head()"
   ]
  },
  {
   "cell_type": "markdown",
   "metadata": {},
   "source": [
    "## Mine"
   ]
  },
  {
   "cell_type": "code",
   "execution_count": 13,
   "metadata": {
    "collapsed": true
   },
   "outputs": [],
   "source": [
    "missing_codes_dict = {\n",
    "    'uk': 'United Kingdom',\n",
    "    'en': 'England',\n",
    "    'spa': 'Spain',\n",
    "    'CK': 'Colombia',\n",
    "    'eng': 'England',\n",
    "    'ger': 'Germany',\n",
    "    'uy|': 'Uruguay',\n",
    "    'SP': 'Spain',\n",
    "    'AG': 'Argentina',\n",
    "    'por': 'Portugal',\n",
    "    'jap': 'Japan',\n",
    "    'ur': 'Uruguay',\n",
    "    'fl': 'Florida',\n",
    "    'flo': 'Florida',\n",
    "    'fre': 'French Guiana',\n",
    "    'he': 'Heard Island and Mcdonald Islands',\n",
    "    'ka': 'Kansas',\n",
    "    'lou': 'Louisiana',\n",
    "    'pu': 'Puerto Rico',\n",
    "    'wa': 'Washington (State)',\n",
    "}"
   ]
  },
  {
   "cell_type": "markdown",
   "metadata": {},
   "source": [
    "# Autores"
   ]
  },
  {
   "cell_type": "code",
   "execution_count": 14,
   "metadata": {
    "collapsed": true
   },
   "outputs": [],
   "source": [
    "autores_df = pd.DataFrame()"
   ]
  },
  {
   "cell_type": "markdown",
   "metadata": {},
   "source": [
    "## Título"
   ]
  },
  {
   "cell_type": "code",
   "execution_count": 15,
   "metadata": {
    "collapsed": false
   },
   "outputs": [],
   "source": [
    "autores_df['TITULO'] = prestamos_df['TITULO']"
   ]
  },
  {
   "cell_type": "markdown",
   "metadata": {},
   "source": [
    "## País ejemplar"
   ]
  },
  {
   "cell_type": "code",
   "execution_count": 16,
   "metadata": {
    "collapsed": false
   },
   "outputs": [
    {
     "data": {
      "text/plain": [
       "sp     1194374\n",
       "ck      968489\n",
       "mx      366393\n",
       "ag      180189\n",
       "???      72351\n",
       "us       46255\n",
       "ve       28224\n",
       "enk      19247\n",
       "cl       17621\n",
       "nyu      15367\n",
       "fr       12416\n",
       "gx       10072\n",
       "cau       9985\n",
       "pe        9473\n",
       "ec        9341\n",
       "bl        8413\n",
       "en        7996\n",
       "cu        7249\n",
       "it        6253\n",
       "gw        5767\n",
       "uk        5555\n",
       "xxu       3088\n",
       "cc        2974\n",
       "mdu       2566\n",
       "uy        2397\n",
       "cr        2313\n",
       "spa       2235\n",
       "          1850\n",
       "ur        1794\n",
       "mau       1623\n",
       "        ...   \n",
       "quc          1\n",
       "lou          1\n",
       "jo           1\n",
       "ly           1\n",
       "pol          1\n",
       "tr           1\n",
       "usr          1\n",
       "rp           1\n",
       "sbe          1\n",
       "efr          1\n",
       "f            1\n",
       "bb           1\n",
       "ena          1\n",
       "mxs          1\n",
       "aq           1\n",
       "ssq          1\n",
       "ae           1\n",
       "ckf          1\n",
       "ssp          1\n",
       "nt           1\n",
       "usm          1\n",
       "hn           1\n",
       "ce           1\n",
       "bbo          1\n",
       "bcc          1\n",
       "ka           1\n",
       "spy          1\n",
       "he           1\n",
       "fs           1\n",
       "mtu          1\n",
       "Name: PAIS_EJEMPLAR, dtype: int64"
      ]
     },
     "execution_count": 16,
     "metadata": {},
     "output_type": "execute_result"
    }
   ],
   "source": [
    "prestamos_df['PAIS_EJEMPLAR'].value_counts()"
   ]
  },
  {
   "cell_type": "code",
   "execution_count": null,
   "metadata": {
    "collapsed": false
   },
   "outputs": [],
   "source": [
    "total_countries = set(list(loc_marc_sr.values) + list(iso2_sr.values) + list(iso3_sr.values))"
   ]
  },
  {
   "cell_type": "code",
   "execution_count": null,
   "metadata": {
    "collapsed": false
   },
   "outputs": [],
   "source": [
    "%%time\n",
    "\n",
    "def process_pais(x):\n",
    "    a = x['PAIS_EJEMPLAR'].strip()\n",
    "    if a in loc_marc_sr:\n",
    "        r = loc_marc_sr[a]\n",
    "    elif '-' + a in loc_marc_sr:\n",
    "        r = loc_marc_sr['-' + a]\n",
    "    elif a in iso3_sr:\n",
    "        r = iso3_sr[a]\n",
    "    elif a in iso2_sr:\n",
    "        r = iso2_sr[a]\n",
    "    elif a in missing_codes_dict:\n",
    "        r = missing_codes_dict[a]\n",
    "    else:\n",
    "        r = 'DESCONOCIDO'\n",
    "    return r\n",
    "\n",
    "autores_df['PAIS_EJEMPLAR'] = prestamos_df.apply(process_pais, axis=1)"
   ]
  },
  {
   "cell_type": "code",
   "execution_count": null,
   "metadata": {
    "collapsed": false
   },
   "outputs": [],
   "source": [
    "autores_df['PAIS_EJEMPLAR'].value_counts()"
   ]
  },
  {
   "cell_type": "markdown",
   "metadata": {},
   "source": [
    "## Nombre"
   ]
  },
  {
   "cell_type": "code",
   "execution_count": null,
   "metadata": {
    "collapsed": false
   },
   "outputs": [],
   "source": [
    "prestamos_df['AUTOR'].value_counts()"
   ]
  },
  {
   "cell_type": "code",
   "execution_count": null,
   "metadata": {
    "collapsed": false
   },
   "outputs": [],
   "source": [
    "%%time\n",
    "\n",
    "def process_autor(x):\n",
    "    a = x['AUTOR'].strip(' ' + punctuation)\n",
    "    a = a.replace(', ', ',')\n",
    "    if a:\n",
    "        b = re.findall('(.+),\\d+', a)\n",
    "        if b:\n",
    "            a = b[0]\n",
    "        c = a.split(',')\n",
    "        if len(c) > 1:\n",
    "            r = c[1] + ' ' + c[0]\n",
    "        else:\n",
    "            r = c[0]\n",
    "    else:\n",
    "        r = 'DESCONOCIDO'\n",
    "    return r\n",
    "\n",
    "autores_df['AUTOR'] = prestamos_df.apply(process_autor, axis=1)"
   ]
  },
  {
   "cell_type": "code",
   "execution_count": null,
   "metadata": {
    "collapsed": false
   },
   "outputs": [],
   "source": [
    "autores_df['AUTOR'].value_counts()"
   ]
  },
  {
   "cell_type": "markdown",
   "metadata": {},
   "source": [
    "## País autor"
   ]
  },
  {
   "cell_type": "code",
   "execution_count": null,
   "metadata": {
    "collapsed": true
   },
   "outputs": [],
   "source": [
    "def get_pais_autor_data_wkd(name, lang):\n",
    "    template = \"\"\"\n",
    "        PREFIX wd: <http://www.wikidata.org/entity/>\n",
    "        PREFIX wdt: <http://www.wikidata.org/prop/direct/>\n",
    "        PREFIX rdfs: <http://www.w3.org/2000/01/rdf-schema#>\n",
    "\n",
    "        SELECT ?authorLabel ?countryLabel\n",
    "        WHERE {{\n",
    "            BIND(\"{0}\"@{1} AS ?authorLabel) .\n",
    "            ?author rdfs:label ?authorLabel .\n",
    "            ?author wdt:P31 wd:Q5 .\n",
    "            OPTIONAL {{ ?author wdt:P106 wd:Q36180 . }}\n",
    "            ?author wdt:P19 ?pob .\n",
    "            ?pob wdt:P17 ?country .\n",
    "            ?country rdfs:label ?countryLabel .\n",
    "            FILTER(lang(?countryLabel)=\"{1}\")\n",
    "        }}\n",
    "    \"\"\"\n",
    "    query = template.format(name, lang)\n",
    "    url = 'https://query.wikidata.org/bigdata/namespace/wdq/sparql'\n",
    "    data = requests.get(url, params={'query': query, 'format': 'json'}).json()\n",
    "    return data"
   ]
  },
  {
   "cell_type": "code",
   "execution_count": null,
   "metadata": {
    "collapsed": true
   },
   "outputs": [],
   "source": [
    "sparql_dbp = SPARQLWrapper(\"http://dbpedia.org/sparql\")\n",
    "\n",
    "def get_pais_autor_data_dbp(name, lang):\n",
    "    template = \"\"\"\n",
    "        PREFIX dbo: <http://dbpedia.org/ontology/>\n",
    "        PREFIX dbp: <http://dbpedia.org/property/>\n",
    "        PREFIX rdf: <http://www.w3.org/1999/02/22-rdf-syntax-ns#>\n",
    "        PREFIX rdfs: <http://www.w3.org/2000/01/rdf-schema#>\n",
    "\n",
    "        SELECT ?authorLabel ?countryLabel\n",
    "        WHERE {{\n",
    "            BIND(\"{0}\"@{1} AS ?authorLabel) .\n",
    "            ?author rdfs:label ?authorLabel .\n",
    "            ?author rdf:type dbo:Person .\n",
    "            OPTIONAL {{ ?author rdf:type dbo:Writer . }}\n",
    "            ?author dbp:birthPlace ?pob .\n",
    "            ?pob rdf:type dbo:Country .\n",
    "            ?pob rdfs:label ?countryLabel .\n",
    "            FILTER(lang(?countryLabel)=\"{1}\")\n",
    "        }}\n",
    "    \"\"\"\n",
    "    query = template.format(name, lang)\n",
    "    sparql_dbp.setQuery(query)\n",
    "    sparql_dbp.setReturnFormat(JSON)\n",
    "    data = sparql_dbp.query().convert()\n",
    "    return data"
   ]
  },
  {
   "cell_type": "code",
   "execution_count": null,
   "metadata": {
    "collapsed": true
   },
   "outputs": [],
   "source": [
    "def get_pais_autor_data(db, name, lang):\n",
    "    try:\n",
    "        if db == 'wdt':\n",
    "            data = get_pais_autor_data_wkd(name, lang)\n",
    "        elif db == 'dbp':\n",
    "            data = get_pais_autor_data_dbp(name, lang)\n",
    "\n",
    "        results = set(d['countryLabel']['value'] for d in data['results']['bindings'])\n",
    "        if len(results) == 0:\n",
    "            result = 'UNKOWN'\n",
    "        elif len(results) == 1:\n",
    "            result = results.pop()\n",
    "        else:\n",
    "            print('MáS DE UN PAíS PARA', name, ':', results)\n",
    "            result = results.pop()\n",
    "    except:\n",
    "        print('ERROR EN SPARQL PARA', name)\n",
    "        result = 'UNKOWN'\n",
    "    return result"
   ]
  },
  {
   "cell_type": "code",
   "execution_count": null,
   "metadata": {
    "collapsed": true
   },
   "outputs": [],
   "source": [
    "def choose(opt_list):\n",
    "    return Counter(opt_list).most_common(1)[0][0]"
   ]
  },
  {
   "cell_type": "code",
   "execution_count": null,
   "metadata": {
    "collapsed": true
   },
   "outputs": [],
   "source": [
    "def get_pais_autor(name):\n",
    "    r = 'DESCONOCIDO'\n",
    "    opt_dict = {}\n",
    "    for lang in ['en', 'es']:\n",
    "        opt_dict[lang] = {}\n",
    "        for db in ['dbp', 'wdt']:\n",
    "            opt_dict[lang][db] = get_pais_autor_data(db, name, lang)\n",
    "        opts = opt_dict[lang].values()\n",
    "        if all(map(lambda x: x != 'UNKOWN', opts)):\n",
    "            r = choose(opts)\n",
    "            break\n",
    "    if r == 'DESCONOCIDO':\n",
    "        opts = list(filter(lambda x: x != 'UNKOWN', opt_dict['en'].values()))\n",
    "        if opts:\n",
    "            r = choose(opts)\n",
    "    return r"
   ]
  },
  {
   "cell_type": "code",
   "execution_count": null,
   "metadata": {
    "collapsed": true
   },
   "outputs": [],
   "source": [
    "%%time\n",
    "\n",
    "autores_paises_dict = {}\n",
    "\n",
    "for x in autores_df['AUTOR'].unique():\n",
    "    autores_paises_dict[x] = get_pais_autor(x)"
   ]
  },
  {
   "cell_type": "code",
   "execution_count": null,
   "metadata": {
    "collapsed": true
   },
   "outputs": [],
   "source": [
    "%%time\n",
    "\n",
    "def process_pais(x):\n",
    "    return autores_paises_dict[x['AUTOR']]\n",
    "\n",
    "autores_df['PAIS_AUTOR'] = autores_df.apply(process_pais, axis=1)"
   ]
  },
  {
   "cell_type": "markdown",
   "metadata": {},
   "source": [
    "# Saving results"
   ]
  },
  {
   "cell_type": "code",
   "execution_count": null,
   "metadata": {
    "collapsed": true
   },
   "outputs": [],
   "source": [
    "autores_df.to_csv('autores.csv', index=False)"
   ]
  },
  {
   "cell_type": "code",
   "execution_count": null,
   "metadata": {
    "collapsed": true
   },
   "outputs": [],
   "source": []
  }
 ],
 "metadata": {
  "kernelspec": {
   "display_name": "Python 3",
   "language": "python",
   "name": "python3"
  },
  "language_info": {
   "codemirror_mode": {
    "name": "ipython",
    "version": 3
   },
   "file_extension": ".py",
   "mimetype": "text/x-python",
   "name": "python",
   "nbconvert_exporter": "python",
   "pygments_lexer": "ipython3",
   "version": "3.4.3"
  }
 },
 "nbformat": 4,
 "nbformat_minor": 1
}
