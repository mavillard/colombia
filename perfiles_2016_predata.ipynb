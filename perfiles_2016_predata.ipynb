{
 "cells": [
  {
   "cell_type": "code",
   "execution_count": 1,
   "metadata": {
    "collapsed": true
   },
   "outputs": [],
   "source": [
    "import csv\n",
    "import os\n",
    "from collections import defaultdict\n",
    "from datetime import datetime\n",
    "from datetime import timedelta\n",
    "from string import punctuation\n",
    "\n",
    "import matplotlib\n",
    "import numpy as np\n",
    "import pandas as pd\n",
    "import seaborn as sns\n",
    "from matplotlib import pyplot as plt\n",
    "from pandas.tslib import Timestamp"
   ]
  },
  {
   "cell_type": "markdown",
   "metadata": {},
   "source": [
    "# Preprocesamiento de datos"
   ]
  },
  {
   "cell_type": "markdown",
   "metadata": {},
   "source": [
    "## Socios activos 2016"
   ]
  },
  {
   "cell_type": "code",
   "execution_count": 2,
   "metadata": {
    "collapsed": true
   },
   "outputs": [],
   "source": [
    "# 1.       CTA: categoría para niños y jóvenes hasta bachillerato\n",
    "# 2.       CTI: categoría infantil, hasta doce años y solo es para Bogotá (blaa –biblioteca Luis Ángel Arango)\n",
    "# 3.       CTB: público general (solo permite préstamo de libros)\n",
    "# 4.       CTC: público en general (permite préstamo de libros y material audiovisual)\n",
    "# 5.       CTF: categoría familiar, pueden acceder a los beneficios hasta tres personas del grupo familiar que se asocia\n",
    "# 6.       CE1, CE2, CE2: categorías empresariales (solo para instituciones)\n",
    "# 7.       CIS: categoría Inclusión Social\n",
    "# 8.       CTU: categoría Universitaria\n",
    "# 9.       VIP: Investigadores, préstamo de 30 materiales (libros y material audiovisual)\n",
    "\n",
    "#      Categoría de lector: CE1 Categoría empresarial                                   218\n",
    "#      Categoría de lector: CE2 Categoría empresarial 2                                   5\n",
    "#      Categoría de lector: CEM Categoría Empleado/Pensionado                          1593\n",
    "#      Categoría de lector: CIN Categoría Interbibliotecario                            128\n",
    "#      Categoría de lector: CIP Categoría Investigador                                  351\n",
    "#      Categoría de lector: CIS Categoría Inclusión Preferencial                      15974\n",
    "#      Categoría de lector: CIV Categoría Investigadores                                 72\n",
    "#      Categoría de lector: CML Categoría Mediador de Proyectos Culturales                2\n",
    "#      Categoría de lector: CSU Categoría Sucursal                                       91\n",
    "#      Categoría de lector: CTA Categoría Básica A                                    10610\n",
    "#      Categoría de lector: CTB Categoría B                                            1359\n",
    "#      Categoría de lector: CTC Categoría C                                             224\n",
    "#      Categoría de lector: CTF Categoría familiar                                     1105\n",
    "#      Categoría de lector: CTI Categoría Infantil                                     1004\n",
    "#      Categoría de lector: CTU Categoría General                                     17402\n",
    "#      Categoría de lector: PTE PROCESOS TÉCNICOS                                       95"
   ]
  },
  {
   "cell_type": "code",
   "execution_count": 3,
   "metadata": {
    "collapsed": false
   },
   "outputs": [
    {
     "data": {
      "text/plain": [
       "['SOCIOS_ACTIVOS_A_18_11_2016.csv']"
      ]
     },
     "execution_count": 3,
     "metadata": {},
     "output_type": "execute_result"
    }
   ],
   "source": [
    "os.listdir('socios_activos_csv')"
   ]
  },
  {
   "cell_type": "code",
   "execution_count": 4,
   "metadata": {
    "collapsed": true
   },
   "outputs": [],
   "source": [
    "total_colums_2 = [\n",
    "    'CODBAR', 'Sucursal', 'Tratamiento', 'Barrio', 'Ciudad', 'CATEG', 'Ocupación', 'Ocupación1',\n",
    "    'LECOL2', 'Nivel Estudio1', 'Área de Estudio', 'Área de Estudio1',\n",
    "    'Ult.Uso', 'Fech. Reg', 'Fech. Renov', 'Caduca',\n",
    "    'Fech. Nacim', 'Fecha _Actual', 'Edad', 'Dev. Retras', 'Mat. Prest', 'Prest. Sala',\n",
    "    'No. Petic', 'No. Reser_Act', 'No. suspens', 'Ult.uso bibl', 'Prest_año', 'Pres_ult_año'\n",
    "]"
   ]
  },
  {
   "cell_type": "code",
   "execution_count": 5,
   "metadata": {
    "collapsed": false
   },
   "outputs": [
    {
     "data": {
      "text/plain": [
       "[('CODBAR', 0),\n",
       " ('Sucursal', 1),\n",
       " ('Tratamiento', 2),\n",
       " ('Barrio', 3),\n",
       " ('Ciudad', 4),\n",
       " ('CATEG', 5),\n",
       " ('Ocupación', 6),\n",
       " ('Ocupación1', 7),\n",
       " ('LECOL2', 8),\n",
       " ('Nivel Estudio1', 9),\n",
       " ('Área de Estudio', 10),\n",
       " ('Área de Estudio1', 11),\n",
       " ('Ult.Uso', 12),\n",
       " ('Fech. Reg', 13),\n",
       " ('Fech. Renov', 14),\n",
       " ('Caduca', 15),\n",
       " ('Fech. Nacim', 16),\n",
       " ('Fecha _Actual', 17),\n",
       " ('Edad', 18),\n",
       " ('Dev. Retras', 19),\n",
       " ('Mat. Prest', 20),\n",
       " ('Prest. Sala', 21),\n",
       " ('No. Petic', 22),\n",
       " ('No. Reser_Act', 23),\n",
       " ('No. suspens', 24),\n",
       " ('Ult.uso bibl', 25),\n",
       " ('Prest_año', 26),\n",
       " ('Pres_ult_año', 27)]"
      ]
     },
     "execution_count": 5,
     "metadata": {},
     "output_type": "execute_result"
    }
   ],
   "source": [
    "[(x, total_colums_2.index(x)) for x in total_colums_2]"
   ]
  },
  {
   "cell_type": "code",
   "execution_count": 6,
   "metadata": {
    "collapsed": false
   },
   "outputs": [
    {
     "name": "stdout",
     "output_type": "stream",
     "text": [
      "CPU times: user 236 ms, sys: 8 ms, total: 244 ms\n",
      "Wall time: 243 ms\n"
     ]
    }
   ],
   "source": [
    "%%time\n",
    "\n",
    "used_colums = [\n",
    "    # Identificación\n",
    "    'CODBAR',\n",
    "    # Localización (I)\n",
    "    'Sucursal',\n",
    "    # Género\n",
    "    'Tratamiento',\n",
    "    # Localización (II)\n",
    "    'Barrio', 'Ciudad',\n",
    "    # Educación/Ocupación\n",
    "    'CATEG', 'Ocupación1', 'Nivel Estudio1', 'Área de Estudio1',\n",
    "    # Edad\n",
    "    'Fech. Nacim',\n",
    "]\n",
    "\n",
    "ls = []\n",
    "for filename in os.listdir('socios_activos_csv'):\n",
    "    df = pd.read_csv('socios_activos_csv/' + filename, header=0, usecols=used_colums)\n",
    "    ls.append(df)\n",
    "perfiles_df = pd.concat(ls, ignore_index=True)"
   ]
  },
  {
   "cell_type": "code",
   "execution_count": 7,
   "metadata": {
    "collapsed": false
   },
   "outputs": [
    {
     "data": {
      "text/plain": [
       "(50274, 10)"
      ]
     },
     "execution_count": 7,
     "metadata": {},
     "output_type": "execute_result"
    }
   ],
   "source": [
    "perfiles_df.shape"
   ]
  },
  {
   "cell_type": "code",
   "execution_count": 8,
   "metadata": {
    "collapsed": false
   },
   "outputs": [
    {
     "data": {
      "text/html": [
       "<div>\n",
       "<table border=\"1\" class=\"dataframe\">\n",
       "  <thead>\n",
       "    <tr style=\"text-align: right;\">\n",
       "      <th></th>\n",
       "      <th>CODBAR</th>\n",
       "      <th>Sucursal</th>\n",
       "      <th>Tratamiento</th>\n",
       "      <th>Barrio</th>\n",
       "      <th>Ciudad</th>\n",
       "      <th>CATEG</th>\n",
       "      <th>Ocupación1</th>\n",
       "      <th>Nivel Estudio1</th>\n",
       "      <th>Área de Estudio1</th>\n",
       "      <th>Fech. Nacim</th>\n",
       "    </tr>\n",
       "  </thead>\n",
       "  <tbody>\n",
       "    <tr>\n",
       "      <th>0</th>\n",
       "      <td>88180782.0</td>\n",
       "      <td>BLAA</td>\n",
       "      <td>Vacío</td>\n",
       "      <td>Chapinero</td>\n",
       "      <td>BOGOTA/COLOMBIA</td>\n",
       "      <td>CIN</td>\n",
       "      <td>Universidad</td>\n",
       "      <td>Err:502</td>\n",
       "      <td>Err:502</td>\n",
       "      <td>NaN</td>\n",
       "    </tr>\n",
       "    <tr>\n",
       "      <th>1</th>\n",
       "      <td>88183608.0</td>\n",
       "      <td>BLAA</td>\n",
       "      <td>SRA.</td>\n",
       "      <td>AYACUYO II</td>\n",
       "      <td>BOGOTA/COLOMBIA</td>\n",
       "      <td>CEM</td>\n",
       "      <td>Pensionado</td>\n",
       "      <td>Err:502</td>\n",
       "      <td>Err:502</td>\n",
       "      <td>30/07/57</td>\n",
       "    </tr>\n",
       "    <tr>\n",
       "      <th>2</th>\n",
       "      <td>88181732.0</td>\n",
       "      <td>BLAA</td>\n",
       "      <td>SRA.</td>\n",
       "      <td>Icata</td>\n",
       "      <td>BOGOTA/COLOMBIA</td>\n",
       "      <td>CEM</td>\n",
       "      <td>Empleado</td>\n",
       "      <td>Profesional\\n</td>\n",
       "      <td>Filosofía y letras</td>\n",
       "      <td>NaN</td>\n",
       "    </tr>\n",
       "    <tr>\n",
       "      <th>3</th>\n",
       "      <td>88182347.0</td>\n",
       "      <td>ARM</td>\n",
       "      <td>SR.</td>\n",
       "      <td>MONTENEGRO</td>\n",
       "      <td>MONTENEGRO/COLOMBIA</td>\n",
       "      <td>CEM</td>\n",
       "      <td>Empleado</td>\n",
       "      <td>Profesional\\n</td>\n",
       "      <td>Economía</td>\n",
       "      <td>20/09/63</td>\n",
       "    </tr>\n",
       "    <tr>\n",
       "      <th>4</th>\n",
       "      <td>88181284.0</td>\n",
       "      <td>BLAA</td>\n",
       "      <td>SR.</td>\n",
       "      <td>LA SOLEDAD</td>\n",
       "      <td>BOGOTA/COLOMBIA</td>\n",
       "      <td>CEM</td>\n",
       "      <td>Err:502</td>\n",
       "      <td>Err:502</td>\n",
       "      <td>Err:502</td>\n",
       "      <td>NaN</td>\n",
       "    </tr>\n",
       "  </tbody>\n",
       "</table>\n",
       "</div>"
      ],
      "text/plain": [
       "       CODBAR Sucursal Tratamiento      Barrio               Ciudad  CATEG  \\\n",
       "0  88180782.0   BLAA         Vacío   Chapinero      BOGOTA/COLOMBIA  CIN     \n",
       "1  88183608.0   BLAA          SRA.  AYACUYO II      BOGOTA/COLOMBIA  CEM     \n",
       "2  88181732.0   BLAA          SRA.       Icata      BOGOTA/COLOMBIA  CEM     \n",
       "3  88182347.0   ARM            SR.  MONTENEGRO  MONTENEGRO/COLOMBIA  CEM     \n",
       "4  88181284.0   BLAA           SR.  LA SOLEDAD      BOGOTA/COLOMBIA  CEM     \n",
       "\n",
       "                       Ocupación1                   Nivel Estudio1  \\\n",
       "0  Universidad                                             Err:502   \n",
       "1  Pensionado                                              Err:502   \n",
       "2  Empleado                        Profesional\\n                     \n",
       "3  Empleado                        Profesional\\n                     \n",
       "4                         Err:502                          Err:502   \n",
       "\n",
       "                 Área de Estudio1 Fech. Nacim  \n",
       "0                         Err:502         NaN  \n",
       "1                         Err:502    30/07/57  \n",
       "2  Filosofía y letras                     NaN  \n",
       "3  Economía                          20/09/63  \n",
       "4                         Err:502         NaN  "
      ]
     },
     "execution_count": 8,
     "metadata": {},
     "output_type": "execute_result"
    }
   ],
   "source": [
    "perfiles_df.head()"
   ]
  },
  {
   "cell_type": "markdown",
   "metadata": {},
   "source": [
    "#### CODBAR"
   ]
  },
  {
   "cell_type": "code",
   "execution_count": 9,
   "metadata": {
    "collapsed": false
   },
   "outputs": [
    {
     "name": "stdout",
     "output_type": "stream",
     "text": [
      "CPU times: user 1.4 s, sys: 16 ms, total: 1.42 s\n",
      "Wall time: 1.42 s\n"
     ]
    }
   ],
   "source": [
    "%%time\n",
    "\n",
    "def process_codbar(x):\n",
    "    try:\n",
    "        r = str(int(x['CODBAR']))\n",
    "    except:\n",
    "        r = x['CODBAR']\n",
    "    return r\n",
    "\n",
    "perfiles_df['CODBAR'] = perfiles_df.apply(process_codbar, axis=1)"
   ]
  },
  {
   "cell_type": "markdown",
   "metadata": {},
   "source": [
    "#### Sucursal"
   ]
  },
  {
   "cell_type": "code",
   "execution_count": 10,
   "metadata": {
    "collapsed": false
   },
   "outputs": [
    {
     "name": "stdout",
     "output_type": "stream",
     "text": [
      "CPU times: user 1.24 s, sys: 8 ms, total: 1.24 s\n",
      "Wall time: 1.25 s\n"
     ]
    }
   ],
   "source": [
    "%%time\n",
    "\n",
    "def process_sucursal(x):\n",
    "    try:\n",
    "        r = x['Sucursal'].strip()\n",
    "    except:\n",
    "        r = x['Sucursal']\n",
    "    return r\n",
    "\n",
    "perfiles_df['Sucursal'] = perfiles_df.apply(process_sucursal, axis=1)"
   ]
  },
  {
   "cell_type": "markdown",
   "metadata": {},
   "source": [
    "#### Tratamiento"
   ]
  },
  {
   "cell_type": "code",
   "execution_count": 11,
   "metadata": {
    "collapsed": false
   },
   "outputs": [
    {
     "name": "stdout",
     "output_type": "stream",
     "text": [
      "CPU times: user 1.22 s, sys: 4 ms, total: 1.22 s\n",
      "Wall time: 1.22 s\n"
     ]
    }
   ],
   "source": [
    "%%time\n",
    "\n",
    "def process_tratamiento(x):\n",
    "    try:\n",
    "        r = x['Tratamiento'].strip().lower()\n",
    "        if r == 'vacío':\n",
    "            r = ''\n",
    "    except:\n",
    "        r = x['Tratamiento']\n",
    "    return r\n",
    "\n",
    "perfiles_df['Tratamiento'] = perfiles_df.apply(process_tratamiento, axis=1)"
   ]
  },
  {
   "cell_type": "markdown",
   "metadata": {},
   "source": [
    "#### Barrio"
   ]
  },
  {
   "cell_type": "code",
   "execution_count": 12,
   "metadata": {
    "collapsed": false
   },
   "outputs": [
    {
     "name": "stdout",
     "output_type": "stream",
     "text": [
      "CPU times: user 1.21 s, sys: 4 ms, total: 1.21 s\n",
      "Wall time: 1.21 s\n"
     ]
    }
   ],
   "source": [
    "%%time\n",
    "\n",
    "def process_barrio(x):\n",
    "    try:\n",
    "        r = x['Barrio'].strip().lower()\n",
    "    except:\n",
    "        r = x['Barrio']\n",
    "    return r\n",
    "\n",
    "perfiles_df['Barrio'] = perfiles_df.apply(process_barrio, axis=1)"
   ]
  },
  {
   "cell_type": "markdown",
   "metadata": {},
   "source": [
    "#### Ciudad"
   ]
  },
  {
   "cell_type": "code",
   "execution_count": 13,
   "metadata": {
    "collapsed": false
   },
   "outputs": [
    {
     "name": "stdout",
     "output_type": "stream",
     "text": [
      "CPU times: user 1.75 s, sys: 12 ms, total: 1.76 s\n",
      "Wall time: 1.76 s\n"
     ]
    }
   ],
   "source": [
    "%%time\n",
    "\n",
    "def process_ciudad(x):\n",
    "    try:\n",
    "        r = x['Ciudad'].strip().lower()\n",
    "        r = r.replace('á', 'a').replace('é', 'e').replace('í', 'i').replace('ó', 'o').replace('ú', 'u')\n",
    "        for p in punctuation:\n",
    "            r = r.replace(p, ' ')\n",
    "        r.strip()\n",
    "        rl = r.split()\n",
    "        while len(rl) > 1 and rl[-1] in ['colombia','col','amazonas','isla','islas','isla,','islas,','cundinamarca']:\n",
    "            r = ' '.join(rl[:-1]).strip()\n",
    "            rl = r.split()\n",
    "        r.strip()\n",
    "    except:\n",
    "        r = x['Ciudad']\n",
    "    return r\n",
    "\n",
    "perfiles_df['Ciudad'] = perfiles_df.apply(process_ciudad, axis=1)"
   ]
  },
  {
   "cell_type": "markdown",
   "metadata": {},
   "source": [
    "#### CATEG"
   ]
  },
  {
   "cell_type": "code",
   "execution_count": 14,
   "metadata": {
    "collapsed": false
   },
   "outputs": [
    {
     "name": "stdout",
     "output_type": "stream",
     "text": [
      "CPU times: user 1.25 s, sys: 20 ms, total: 1.27 s\n",
      "Wall time: 1.27 s\n"
     ]
    }
   ],
   "source": [
    "%%time\n",
    "\n",
    "def process_categ(x):\n",
    "    try:\n",
    "        r = x['CATEG'].strip()\n",
    "    except:\n",
    "        r = x['CATEG']\n",
    "    return r\n",
    "\n",
    "perfiles_df['CATEG'] = perfiles_df.apply(process_categ, axis=1)"
   ]
  },
  {
   "cell_type": "markdown",
   "metadata": {},
   "source": [
    "#### Ocupación1"
   ]
  },
  {
   "cell_type": "code",
   "execution_count": 15,
   "metadata": {
    "collapsed": false
   },
   "outputs": [
    {
     "name": "stdout",
     "output_type": "stream",
     "text": [
      "CPU times: user 1.22 s, sys: 12 ms, total: 1.23 s\n",
      "Wall time: 1.23 s\n"
     ]
    }
   ],
   "source": [
    "%%time\n",
    "\n",
    "def process_ocupacion(x):\n",
    "    try:\n",
    "        r = x['Ocupación1'].strip().lower()\n",
    "        if r == 'err:502':\n",
    "            r = ''\n",
    "    except:\n",
    "        r = x['Ocupación1']\n",
    "    return r\n",
    "\n",
    "perfiles_df['Ocupación1'] = perfiles_df.apply(process_ocupacion, axis=1)"
   ]
  },
  {
   "cell_type": "markdown",
   "metadata": {},
   "source": [
    "#### Nivel estudio1"
   ]
  },
  {
   "cell_type": "code",
   "execution_count": 16,
   "metadata": {
    "collapsed": false
   },
   "outputs": [
    {
     "name": "stdout",
     "output_type": "stream",
     "text": [
      "CPU times: user 1.23 s, sys: 0 ns, total: 1.23 s\n",
      "Wall time: 1.23 s\n"
     ]
    }
   ],
   "source": [
    "%%time\n",
    "\n",
    "def process_nivel_estudio(x):\n",
    "    try:\n",
    "        r = x['Nivel Estudio1'].strip().lower()\n",
    "        if r == 'err:502':\n",
    "            r = ''\n",
    "    except:\n",
    "        r = x['Nivel Estudio1']\n",
    "    return r\n",
    "\n",
    "perfiles_df['Nivel Estudio1'] = perfiles_df.apply(process_nivel_estudio, axis=1)"
   ]
  },
  {
   "cell_type": "markdown",
   "metadata": {},
   "source": [
    "#### Área de estudio1"
   ]
  },
  {
   "cell_type": "code",
   "execution_count": 17,
   "metadata": {
    "collapsed": false
   },
   "outputs": [
    {
     "name": "stdout",
     "output_type": "stream",
     "text": [
      "CPU times: user 1.27 s, sys: 4 ms, total: 1.27 s\n",
      "Wall time: 1.27 s\n"
     ]
    }
   ],
   "source": [
    "%%time\n",
    "\n",
    "def process_area_estudio(x):\n",
    "    try:\n",
    "        r = x['Área de Estudio1'].strip().lower()\n",
    "        if r == 'err:502':\n",
    "            r = ''\n",
    "    except:\n",
    "        r = x['Área de Estudio1']\n",
    "    return r\n",
    "\n",
    "perfiles_df['Área de Estudio1'] = perfiles_df.apply(process_area_estudio, axis=1)"
   ]
  },
  {
   "cell_type": "markdown",
   "metadata": {},
   "source": [
    "#### Fech. Nacim"
   ]
  },
  {
   "cell_type": "code",
   "execution_count": 18,
   "metadata": {
    "collapsed": false
   },
   "outputs": [
    {
     "name": "stdout",
     "output_type": "stream",
     "text": [
      "CPU times: user 15 s, sys: 100 ms, total: 15.1 s\n",
      "Wall time: 15.1 s\n"
     ]
    }
   ],
   "source": [
    "%%time\n",
    "\n",
    "def process_fecha_nacimiento(x):\n",
    "    try:\n",
    "        day_str, month_str, year_str = x['Fech. Nacim'].split('/')\n",
    "        if int(year_str) < 16:\n",
    "            year_str = '20' + year_str\n",
    "        else:\n",
    "            year_str = '19' + year_str\n",
    "        r = pd.to_datetime('/'.join([day_str, month_str, year_str]))\n",
    "    except:\n",
    "        r = pd.to_datetime(x['Fech. Nacim'])\n",
    "    return r\n",
    "\n",
    "perfiles_df['Fech. Nacim'] = perfiles_df.apply(process_fecha_nacimiento, axis=1)"
   ]
  },
  {
   "cell_type": "markdown",
   "metadata": {},
   "source": [
    "#### Edad"
   ]
  },
  {
   "cell_type": "code",
   "execution_count": 19,
   "metadata": {
    "collapsed": false
   },
   "outputs": [
    {
     "name": "stdout",
     "output_type": "stream",
     "text": [
      "CPU times: user 5.93 s, sys: 12 ms, total: 5.94 s\n",
      "Wall time: 5.95 s\n"
     ]
    }
   ],
   "source": [
    "%%time\n",
    "\n",
    "def calculate_edad(x):\n",
    "    return 2016 - x['Fech. Nacim'].year\n",
    "\n",
    "perfiles_df['Edad'] = perfiles_df.apply(calculate_edad, axis=1)"
   ]
  },
  {
   "cell_type": "code",
   "execution_count": 20,
   "metadata": {
    "collapsed": true
   },
   "outputs": [],
   "source": [
    "perfiles_df.to_csv('socios_activos_2016.csv', index=False)"
   ]
  },
  {
   "cell_type": "code",
   "execution_count": null,
   "metadata": {
    "collapsed": true
   },
   "outputs": [],
   "source": []
  }
 ],
 "metadata": {
  "kernelspec": {
   "display_name": "Python 3",
   "language": "python",
   "name": "python3"
  },
  "language_info": {
   "codemirror_mode": {
    "name": "ipython",
    "version": 3
   },
   "file_extension": ".py",
   "mimetype": "text/x-python",
   "name": "python",
   "nbconvert_exporter": "python",
   "pygments_lexer": "ipython3",
   "version": "3.4.3"
  }
 },
 "nbformat": 4,
 "nbformat_minor": 1
}
