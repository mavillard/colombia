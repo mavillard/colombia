{
 "cells": [
  {
   "cell_type": "markdown",
   "metadata": {},
   "source": [
    "# Normalize names"
   ]
  },
  {
   "cell_type": "code",
   "execution_count": 2,
   "metadata": {
    "collapsed": true
   },
   "outputs": [],
   "source": [
    "import csv\n",
    "import os\n",
    "import re\n",
    "from collections import defaultdict\n",
    "from collections import Counter\n",
    "from datetime import datetime\n",
    "from datetime import timedelta\n",
    "from string import punctuation\n",
    "\n",
    "import matplotlib\n",
    "import numpy as np\n",
    "import networkx as nx\n",
    "import pandas as pd\n",
    "import requests\n",
    "import seaborn as sns\n",
    "from matplotlib import pyplot as plt\n",
    "from SPARQLWrapper import SPARQLWrapper, JSON"
   ]
  },
  {
   "cell_type": "markdown",
   "metadata": {},
   "source": [
    "# Autores"
   ]
  },
  {
   "cell_type": "code",
   "execution_count": 3,
   "metadata": {
    "collapsed": false
   },
   "outputs": [
    {
     "name": "stdout",
     "output_type": "stream",
     "text": [
      "CPU times: user 5.52 s, sys: 595 ms, total: 6.12 s\n",
      "Wall time: 6.44 s\n"
     ]
    }
   ],
   "source": [
    "%%time\n",
    "\n",
    "dtypes = {\n",
    "    'TITULO': str,\n",
    "    'AUTOR': str,\n",
    "    'PAIS_EJEMPLAR': str,\n",
    "    'PAIS_AUTOR': str,\n",
    "}\n",
    "\n",
    "autores_df = pd.read_csv('autores2.csv', header=0, dtype=dtypes)\n",
    "autores_df = autores_df.fillna('')"
   ]
  },
  {
   "cell_type": "code",
   "execution_count": 4,
   "metadata": {
    "collapsed": false
   },
   "outputs": [
    {
     "data": {
      "text/plain": [
       "(3054360, 4)"
      ]
     },
     "execution_count": 4,
     "metadata": {},
     "output_type": "execute_result"
    }
   ],
   "source": [
    "autores_df.shape"
   ]
  },
  {
   "cell_type": "code",
   "execution_count": 5,
   "metadata": {
    "collapsed": false
   },
   "outputs": [
    {
     "data": {
      "text/html": [
       "<div>\n",
       "<table border=\"1\" class=\"dataframe\">\n",
       "  <thead>\n",
       "    <tr style=\"text-align: right;\">\n",
       "      <th></th>\n",
       "      <th>TITULO</th>\n",
       "      <th>PAIS_EJEMPLAR</th>\n",
       "      <th>AUTOR</th>\n",
       "      <th>PAIS_AUTOR</th>\n",
       "    </tr>\n",
       "  </thead>\n",
       "  <tbody>\n",
       "    <tr>\n",
       "      <th>0</th>\n",
       "      <td>Un bicho extraño</td>\n",
       "      <td>Spain</td>\n",
       "      <td>Mon Daporta</td>\n",
       "      <td>DESCONOCIDO</td>\n",
       "    </tr>\n",
       "    <tr>\n",
       "      <th>1</th>\n",
       "      <td>Un bicho extraño</td>\n",
       "      <td>Spain</td>\n",
       "      <td>Mon Daporta</td>\n",
       "      <td>DESCONOCIDO</td>\n",
       "    </tr>\n",
       "    <tr>\n",
       "      <th>2</th>\n",
       "      <td>Quisiera tener ...</td>\n",
       "      <td>Mexico</td>\n",
       "      <td>Giovanna Zoboli</td>\n",
       "      <td>DESCONOCIDO</td>\n",
       "    </tr>\n",
       "    <tr>\n",
       "      <th>3</th>\n",
       "      <td>Johannes Gutenberg</td>\n",
       "      <td>Spain</td>\n",
       "      <td>Lluís Borràs Perelló</td>\n",
       "      <td>DESCONOCIDO</td>\n",
       "    </tr>\n",
       "    <tr>\n",
       "      <th>4</th>\n",
       "      <td>La fantástica leyenda de: la princesa y el dragón</td>\n",
       "      <td>Spain</td>\n",
       "      <td>Sonia Alins</td>\n",
       "      <td>DESCONOCIDO</td>\n",
       "    </tr>\n",
       "  </tbody>\n",
       "</table>\n",
       "</div>"
      ],
      "text/plain": [
       "                                              TITULO PAIS_EJEMPLAR  \\\n",
       "0                                   Un bicho extraño         Spain   \n",
       "1                                   Un bicho extraño         Spain   \n",
       "2                                 Quisiera tener ...        Mexico   \n",
       "3                                 Johannes Gutenberg         Spain   \n",
       "4  La fantástica leyenda de: la princesa y el dragón         Spain   \n",
       "\n",
       "                  AUTOR   PAIS_AUTOR  \n",
       "0           Mon Daporta  DESCONOCIDO  \n",
       "1           Mon Daporta  DESCONOCIDO  \n",
       "2       Giovanna Zoboli  DESCONOCIDO  \n",
       "3  Lluís Borràs Perelló  DESCONOCIDO  \n",
       "4           Sonia Alins  DESCONOCIDO  "
      ]
     },
     "execution_count": 5,
     "metadata": {},
     "output_type": "execute_result"
    }
   ],
   "source": [
    "autores_df.head()"
   ]
  },
  {
   "cell_type": "markdown",
   "metadata": {},
   "source": [
    "## Normalize"
   ]
  },
  {
   "cell_type": "code",
   "execution_count": 6,
   "metadata": {
    "collapsed": true
   },
   "outputs": [],
   "source": [
    "def norm(s):\n",
    "    return s \\\n",
    "        .replace('á', 'a') \\\n",
    "        .replace('à', 'a') \\\n",
    "        .replace('é', 'e') \\\n",
    "        .replace('è', 'e') \\\n",
    "        .replace('í', 'i') \\\n",
    "        .replace('ì', 'i') \\\n",
    "        .replace('ó', 'o') \\\n",
    "        .replace('ò', 'o') \\\n",
    "        .replace('ú', 'u') \\\n",
    "        .replace('ù', 'u')"
   ]
  },
  {
   "cell_type": "code",
   "execution_count": 7,
   "metadata": {
    "collapsed": true
   },
   "outputs": [],
   "source": [
    "name_dict = {}\n",
    "name_counts = autores_df['AUTOR'].value_counts()\n",
    "\n",
    "for i, x in autores_df.iterrows():\n",
    "    name = x['AUTOR']\n",
    "    normalized = norm(name)\n",
    "    if normalized != name and normalized in name_counts:\n",
    "        name_count = \n",
    "        comparar pais DESCONOCIDO y quien es mas frecuente"
   ]
  },
  {
   "cell_type": "code",
   "execution_count": 8,
   "metadata": {
    "collapsed": false
   },
   "outputs": [
    {
     "data": {
      "text/plain": [
       "False"
      ]
     },
     "execution_count": 8,
     "metadata": {},
     "output_type": "execute_result"
    }
   ],
   "source": [
    "'Miguel de Cervantes' in name_counts"
   ]
  },
  {
   "cell_type": "code",
   "execution_count": 9,
   "metadata": {
    "collapsed": false
   },
   "outputs": [
    {
     "data": {
      "text/plain": [
       "True"
      ]
     },
     "execution_count": 9,
     "metadata": {},
     "output_type": "execute_result"
    }
   ],
   "source": [
    "'Miguel de Cervantes Saavedra' in name_counts"
   ]
  },
  {
   "cell_type": "code",
   "execution_count": 11,
   "metadata": {
    "collapsed": false
   },
   "outputs": [
    {
     "data": {
      "text/plain": [
       "0"
      ]
     },
     "execution_count": 11,
     "metadata": {},
     "output_type": "execute_result"
    }
   ],
   "source": [
    "name_counts.get('Miguel de Cervantes', 0)"
   ]
  },
  {
   "cell_type": "code",
   "execution_count": 12,
   "metadata": {
    "collapsed": false
   },
   "outputs": [
    {
     "data": {
      "text/plain": [
       "2746"
      ]
     },
     "execution_count": 12,
     "metadata": {},
     "output_type": "execute_result"
    }
   ],
   "source": [
    "name_counts.get('Miguel de Cervantes Saavedra', 0)"
   ]
  },
  {
   "cell_type": "markdown",
   "metadata": {},
   "source": [
    "# Saving results"
   ]
  },
  {
   "cell_type": "code",
   "execution_count": 15,
   "metadata": {
    "collapsed": true
   },
   "outputs": [],
   "source": [
    "autores_df.to_csv('autores3.csv', index=False)"
   ]
  },
  {
   "cell_type": "code",
   "execution_count": null,
   "metadata": {
    "collapsed": true
   },
   "outputs": [],
   "source": []
  }
 ],
 "metadata": {
  "kernelspec": {
   "display_name": "Python 3",
   "language": "python",
   "name": "python3"
  },
  "language_info": {
   "codemirror_mode": {
    "name": "ipython",
    "version": 3
   },
   "file_extension": ".py",
   "mimetype": "text/x-python",
   "name": "python",
   "nbconvert_exporter": "python",
   "pygments_lexer": "ipython3",
   "version": "3.4.3"
  }
 },
 "nbformat": 4,
 "nbformat_minor": 1
}
