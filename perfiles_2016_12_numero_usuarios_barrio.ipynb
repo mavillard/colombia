{
 "cells": [
  {
   "cell_type": "code",
   "execution_count": 1,
   "metadata": {
    "collapsed": true
   },
   "outputs": [],
   "source": [
    "import csv\n",
    "import itertools\n",
    "import os\n",
    "import re\n",
    "from collections import Counter\n",
    "from collections import defaultdict\n",
    "from datetime import datetime\n",
    "from datetime import timedelta\n",
    "from random import shuffle\n",
    "from string import punctuation\n",
    "\n",
    "import matplotlib\n",
    "import networkx as nx\n",
    "import numpy as np\n",
    "import pandas as pd\n",
    "import seaborn as sns\n",
    "from matplotlib import pyplot as plt\n",
    "from pandas.tslib import Timestamp"
   ]
  },
  {
   "cell_type": "code",
   "execution_count": 2,
   "metadata": {
    "collapsed": true
   },
   "outputs": [],
   "source": [
    "%matplotlib inline\n",
    "matplotlib.rcParams['figure.max_open_warning'] = 100\n",
    "matplotlib.rcParams['lines.linewidth'] = 1.0"
   ]
  },
  {
   "cell_type": "code",
   "execution_count": 3,
   "metadata": {
    "collapsed": true
   },
   "outputs": [],
   "source": [
    "from IPython.display import display\n",
    "\n",
    "def print_full_df(df):\n",
    "    pd.set_option('display.max_rows', len(df))\n",
    "    display(df)\n",
    "    pd.reset_option('display.max_rows')"
   ]
  },
  {
   "cell_type": "markdown",
   "metadata": {},
   "source": [
    "# Grupos"
   ]
  },
  {
   "cell_type": "markdown",
   "metadata": {},
   "source": [
    "## Socios activos 2016"
   ]
  },
  {
   "cell_type": "code",
   "execution_count": 4,
   "metadata": {
    "collapsed": true
   },
   "outputs": [],
   "source": [
    "# 1.       CTA: categoría para niños y jóvenes hasta bachillerato\n",
    "# 2.       CTI: categoría infantil, hasta doce años y solo es para Bogotá (blaa –biblioteca Luis Ángel Arango)\n",
    "# 3.       CTB: público general (solo permite préstamo de libros)\n",
    "# 4.       CTC: público en general (permite préstamo de libros y material audiovisual)\n",
    "# 5.       CTF: categoría familiar, pueden acceder a los beneficios hasta tres personas del grupo familiar que se asocia\n",
    "# 6.       CE1, CE2, CE2: categorías empresariales (solo para instituciones)\n",
    "# 7.       CIS: categoría Inclusión Social\n",
    "# 8.       CTU: categoría Universitaria\n",
    "# 9.       VIP: Investigadores, préstamo de 30 materiales (libros y material audiovisual)\n",
    "\n",
    "#      Categoría de lector: CE1 Categoría empresarial                                   218\n",
    "#      Categoría de lector: CE2 Categoría empresarial 2                                   5\n",
    "#      Categoría de lector: CEM Categoría Empleado/Pensionado                          1593\n",
    "#      Categoría de lector: CIN Categoría Interbibliotecario                            128\n",
    "#      Categoría de lector: CIP Categoría Investigador                                  351\n",
    "#      Categoría de lector: CIS Categoría Inclusión Preferencial                      15974\n",
    "#      Categoría de lector: CIV Categoría Investigadores                                 72\n",
    "#      Categoría de lector: CML Categoría Mediador de Proyectos Culturales                2\n",
    "#      Categoría de lector: CSU Categoría Sucursal                                       91\n",
    "#      Categoría de lector: CTA Categoría Básica A                                    10610\n",
    "#      Categoría de lector: CTB Categoría B                                            1359\n",
    "#      Categoría de lector: CTC Categoría C                                             224\n",
    "#      Categoría de lector: CTF Categoría familiar                                     1105\n",
    "#      Categoría de lector: CTI Categoría Infantil                                     1004\n",
    "#      Categoría de lector: CTU Categoría General                                     17402\n",
    "#      Categoría de lector: PTE PROCESOS TÉCNICOS                                        95"
   ]
  },
  {
   "cell_type": "code",
   "execution_count": 5,
   "metadata": {
    "collapsed": false
   },
   "outputs": [
    {
     "name": "stdout",
     "output_type": "stream",
     "text": [
      "CPU times: user 66.6 ms, sys: 3.09 ms, total: 69.7 ms\n",
      "Wall time: 69.2 ms\n"
     ]
    }
   ],
   "source": [
    "%%time\n",
    "\n",
    "dtypes = {\n",
    "    'Sucursal': str,\n",
    "    'Tratamiento': str,\n",
    "    'Barrio': str,\n",
    "    'Ciudad': str,\n",
    "    'CATEG': str,\n",
    "    'Ocupación1': str,\n",
    "    'Nivel Estudio1': str,\n",
    "    'Área de Estudio1': str,\n",
    "    'Edad': 'category',\n",
    "}\n",
    "\n",
    "perfiles_df = pd.read_csv(\n",
    "    'valores_grupos_2016.csv', header=0, dtype=dtypes)\n",
    "# perfiles_df = perfiles_df.fillna('')"
   ]
  },
  {
   "cell_type": "code",
   "execution_count": 6,
   "metadata": {
    "collapsed": false
   },
   "outputs": [
    {
     "data": {
      "text/plain": [
       "(50272, 9)"
      ]
     },
     "execution_count": 6,
     "metadata": {},
     "output_type": "execute_result"
    }
   ],
   "source": [
    "perfiles_df.shape"
   ]
  },
  {
   "cell_type": "code",
   "execution_count": 7,
   "metadata": {
    "collapsed": false
   },
   "outputs": [
    {
     "data": {
      "text/html": [
       "<div>\n",
       "<table border=\"1\" class=\"dataframe\">\n",
       "  <thead>\n",
       "    <tr style=\"text-align: right;\">\n",
       "      <th></th>\n",
       "      <th>Sucursal</th>\n",
       "      <th>Tratamiento</th>\n",
       "      <th>Barrio</th>\n",
       "      <th>Ciudad</th>\n",
       "      <th>CATEG</th>\n",
       "      <th>Ocupación1</th>\n",
       "      <th>Nivel Estudio1</th>\n",
       "      <th>Área de Estudio1</th>\n",
       "      <th>Edad</th>\n",
       "    </tr>\n",
       "  </thead>\n",
       "  <tbody>\n",
       "    <tr>\n",
       "      <th>0</th>\n",
       "      <td>BLAA</td>\n",
       "      <td>OTRO</td>\n",
       "      <td>chapinero</td>\n",
       "      <td>bogota</td>\n",
       "      <td>CIN</td>\n",
       "      <td>universidad</td>\n",
       "      <td>OTRO</td>\n",
       "      <td>OTRO</td>\n",
       "      <td>OTRO</td>\n",
       "    </tr>\n",
       "    <tr>\n",
       "      <th>1</th>\n",
       "      <td>BLAA</td>\n",
       "      <td>sra.</td>\n",
       "      <td>OTRO</td>\n",
       "      <td>bogota</td>\n",
       "      <td>CEM</td>\n",
       "      <td>pensionado</td>\n",
       "      <td>OTRO</td>\n",
       "      <td>OTRO</td>\n",
       "      <td>50-64</td>\n",
       "    </tr>\n",
       "    <tr>\n",
       "      <th>2</th>\n",
       "      <td>BLAA</td>\n",
       "      <td>sra.</td>\n",
       "      <td>icata</td>\n",
       "      <td>bogota</td>\n",
       "      <td>CEM</td>\n",
       "      <td>empleado</td>\n",
       "      <td>profesional</td>\n",
       "      <td>filosofía y letras</td>\n",
       "      <td>OTRO</td>\n",
       "    </tr>\n",
       "    <tr>\n",
       "      <th>3</th>\n",
       "      <td>ARM</td>\n",
       "      <td>sr.</td>\n",
       "      <td>OTRO</td>\n",
       "      <td>OTRO</td>\n",
       "      <td>CEM</td>\n",
       "      <td>empleado</td>\n",
       "      <td>profesional</td>\n",
       "      <td>economía</td>\n",
       "      <td>50-64</td>\n",
       "    </tr>\n",
       "    <tr>\n",
       "      <th>4</th>\n",
       "      <td>BLAA</td>\n",
       "      <td>sr.</td>\n",
       "      <td>soledad</td>\n",
       "      <td>bogota</td>\n",
       "      <td>CEM</td>\n",
       "      <td>OTRO</td>\n",
       "      <td>OTRO</td>\n",
       "      <td>OTRO</td>\n",
       "      <td>OTRO</td>\n",
       "    </tr>\n",
       "  </tbody>\n",
       "</table>\n",
       "</div>"
      ],
      "text/plain": [
       "  Sucursal Tratamiento     Barrio  Ciudad CATEG   Ocupación1 Nivel Estudio1  \\\n",
       "0     BLAA        OTRO  chapinero  bogota   CIN  universidad           OTRO   \n",
       "1     BLAA        sra.       OTRO  bogota   CEM   pensionado           OTRO   \n",
       "2     BLAA        sra.      icata  bogota   CEM     empleado    profesional   \n",
       "3      ARM         sr.       OTRO    OTRO   CEM     empleado    profesional   \n",
       "4     BLAA         sr.    soledad  bogota   CEM         OTRO           OTRO   \n",
       "\n",
       "     Área de Estudio1   Edad  \n",
       "0                OTRO   OTRO  \n",
       "1                OTRO  50-64  \n",
       "2  filosofía y letras   OTRO  \n",
       "3            economía  50-64  \n",
       "4                OTRO   OTRO  "
      ]
     },
     "execution_count": 7,
     "metadata": {},
     "output_type": "execute_result"
    }
   ],
   "source": [
    "perfiles_df.head()"
   ]
  },
  {
   "cell_type": "markdown",
   "metadata": {},
   "source": [
    "# Número de usuarios por barrio"
   ]
  },
  {
   "cell_type": "code",
   "execution_count": 8,
   "metadata": {
    "collapsed": true
   },
   "outputs": [],
   "source": [
    "usuarios_por_barrio = perfiles_df.groupby('Barrio')['Ciudad'].count()"
   ]
  },
  {
   "cell_type": "code",
   "execution_count": 9,
   "metadata": {
    "collapsed": false
   },
   "outputs": [
    {
     "data": {
      "text/plain": [
       "Barrio\n",
       "1 de febrero        6\n",
       "1 de mayo          39\n",
       "10 de mayo          4\n",
       "11 de noviembre    16\n",
       "12 de abril         3\n",
       "Name: Ciudad, dtype: int64"
      ]
     },
     "execution_count": 9,
     "metadata": {},
     "output_type": "execute_result"
    }
   ],
   "source": [
    "usuarios_por_barrio.head()"
   ]
  },
  {
   "cell_type": "markdown",
   "metadata": {},
   "source": [
    "# Tabla barrios"
   ]
  },
  {
   "cell_type": "code",
   "execution_count": 10,
   "metadata": {
    "collapsed": false
   },
   "outputs": [],
   "source": [
    "tabla_df = pd.read_excel('tabla_barrios.xlsx')"
   ]
  },
  {
   "cell_type": "code",
   "execution_count": 11,
   "metadata": {
    "collapsed": false
   },
   "outputs": [
    {
     "data": {
      "text/html": [
       "<div>\n",
       "<table border=\"1\" class=\"dataframe\">\n",
       "  <thead>\n",
       "    <tr style=\"text-align: right;\">\n",
       "      <th></th>\n",
       "      <th>FID *</th>\n",
       "      <th>Shape *</th>\n",
       "      <th>OBJECTID_1</th>\n",
       "      <th>OBJECTID</th>\n",
       "      <th>Barrio</th>\n",
       "      <th>ZonaUbical</th>\n",
       "      <th>Localidad</th>\n",
       "      <th>PredNuevos</th>\n",
       "      <th>PromVenta</th>\n",
       "      <th>PromRenta</th>\n",
       "      <th>ValorM2</th>\n",
       "      <th>Shape_Leng</th>\n",
       "      <th>GlobalID</th>\n",
       "      <th>Shape_Le_1</th>\n",
       "      <th>ORIG_FID</th>\n",
       "      <th>POINT_X</th>\n",
       "      <th>POINT_Y</th>\n",
       "      <th>ESTRATO</th>\n",
       "    </tr>\n",
       "  </thead>\n",
       "  <tbody>\n",
       "    <tr>\n",
       "      <th>0</th>\n",
       "      <td>1</td>\n",
       "      <td>Point</td>\n",
       "      <td>1</td>\n",
       "      <td>1</td>\n",
       "      <td>ENGATIVA ZONA URBANA</td>\n",
       "      <td>OCCIDENTE</td>\n",
       "      <td>ENGATIVA</td>\n",
       "      <td>39</td>\n",
       "      <td>3.300000e+08</td>\n",
       "      <td>0.000000e+00</td>\n",
       "      <td>1200000</td>\n",
       "      <td>3051.124910</td>\n",
       "      <td>{95D9F5AC-3E8E-4050-838E-B53229C08E36}</td>\n",
       "      <td>3051.124910</td>\n",
       "      <td>0</td>\n",
       "      <td>-74.143837</td>\n",
       "      <td>4.717057</td>\n",
       "      <td>&lt;Null&gt;</td>\n",
       "    </tr>\n",
       "    <tr>\n",
       "      <th>1</th>\n",
       "      <td>2</td>\n",
       "      <td>Point</td>\n",
       "      <td>2</td>\n",
       "      <td>2</td>\n",
       "      <td>LAS FLORES</td>\n",
       "      <td>NOROCCIDENTE</td>\n",
       "      <td>SUBA</td>\n",
       "      <td>0</td>\n",
       "      <td>5.560452e+08</td>\n",
       "      <td>4.175400e+06</td>\n",
       "      <td>1150000</td>\n",
       "      <td>2718.516436</td>\n",
       "      <td>{5F47EE51-71C6-4B67-9521-E3CEBB6637C4}</td>\n",
       "      <td>2718.516436</td>\n",
       "      <td>1</td>\n",
       "      <td>-74.092323</td>\n",
       "      <td>4.743632</td>\n",
       "      <td>&lt;Null&gt;</td>\n",
       "    </tr>\n",
       "    <tr>\n",
       "      <th>2</th>\n",
       "      <td>3</td>\n",
       "      <td>Point</td>\n",
       "      <td>3</td>\n",
       "      <td>3</td>\n",
       "      <td>GILMAR</td>\n",
       "      <td>NOROCCIDENTE</td>\n",
       "      <td>SUBA</td>\n",
       "      <td>0</td>\n",
       "      <td>3.465921e+08</td>\n",
       "      <td>1.662833e+06</td>\n",
       "      <td>1750000</td>\n",
       "      <td>2405.843123</td>\n",
       "      <td>{D3B5A9F7-5427-4ACE-9591-57F90F2736DC}</td>\n",
       "      <td>2405.843123</td>\n",
       "      <td>2</td>\n",
       "      <td>-74.065877</td>\n",
       "      <td>4.747059</td>\n",
       "      <td>&lt;Null&gt;</td>\n",
       "    </tr>\n",
       "    <tr>\n",
       "      <th>3</th>\n",
       "      <td>4</td>\n",
       "      <td>Point</td>\n",
       "      <td>4</td>\n",
       "      <td>4</td>\n",
       "      <td>SAN PEDRO</td>\n",
       "      <td>NOROCCIDENTE</td>\n",
       "      <td>SUBA</td>\n",
       "      <td>13</td>\n",
       "      <td>1.184000e+09</td>\n",
       "      <td>2.933333e+06</td>\n",
       "      <td>800000</td>\n",
       "      <td>2620.610776</td>\n",
       "      <td>{A92B9098-0C25-49A7-89AD-1E0BF43E9EF2}</td>\n",
       "      <td>2620.610776</td>\n",
       "      <td>3</td>\n",
       "      <td>-74.123515</td>\n",
       "      <td>4.748918</td>\n",
       "      <td>&lt;Null&gt;</td>\n",
       "    </tr>\n",
       "    <tr>\n",
       "      <th>4</th>\n",
       "      <td>5</td>\n",
       "      <td>Point</td>\n",
       "      <td>5</td>\n",
       "      <td>5</td>\n",
       "      <td>TIBABUYES UNIVERSAL</td>\n",
       "      <td>NOROCCIDENTE</td>\n",
       "      <td>SUBA</td>\n",
       "      <td>0</td>\n",
       "      <td>1.800000e+08</td>\n",
       "      <td>0.000000e+00</td>\n",
       "      <td>1600000</td>\n",
       "      <td>1568.529466</td>\n",
       "      <td>{29F5B269-FFD8-4D6E-AB52-9B60AF750FB3}</td>\n",
       "      <td>1568.529466</td>\n",
       "      <td>4</td>\n",
       "      <td>-74.114619</td>\n",
       "      <td>4.748830</td>\n",
       "      <td>&lt;Null&gt;</td>\n",
       "    </tr>\n",
       "  </tbody>\n",
       "</table>\n",
       "</div>"
      ],
      "text/plain": [
       "   FID * Shape *  OBJECTID_1  OBJECTID                Barrio    ZonaUbical  \\\n",
       "0      1   Point           1         1  ENGATIVA ZONA URBANA     OCCIDENTE   \n",
       "1      2   Point           2         2            LAS FLORES  NOROCCIDENTE   \n",
       "2      3   Point           3         3                GILMAR  NOROCCIDENTE   \n",
       "3      4   Point           4         4             SAN PEDRO  NOROCCIDENTE   \n",
       "4      5   Point           5         5   TIBABUYES UNIVERSAL  NOROCCIDENTE   \n",
       "\n",
       "  Localidad  PredNuevos     PromVenta     PromRenta  ValorM2   Shape_Leng  \\\n",
       "0  ENGATIVA          39  3.300000e+08  0.000000e+00  1200000  3051.124910   \n",
       "1      SUBA           0  5.560452e+08  4.175400e+06  1150000  2718.516436   \n",
       "2      SUBA           0  3.465921e+08  1.662833e+06  1750000  2405.843123   \n",
       "3      SUBA          13  1.184000e+09  2.933333e+06   800000  2620.610776   \n",
       "4      SUBA           0  1.800000e+08  0.000000e+00  1600000  1568.529466   \n",
       "\n",
       "                                 GlobalID   Shape_Le_1  ORIG_FID    POINT_X  \\\n",
       "0  {95D9F5AC-3E8E-4050-838E-B53229C08E36}  3051.124910         0 -74.143837   \n",
       "1  {5F47EE51-71C6-4B67-9521-E3CEBB6637C4}  2718.516436         1 -74.092323   \n",
       "2  {D3B5A9F7-5427-4ACE-9591-57F90F2736DC}  2405.843123         2 -74.065877   \n",
       "3  {A92B9098-0C25-49A7-89AD-1E0BF43E9EF2}  2620.610776         3 -74.123515   \n",
       "4  {29F5B269-FFD8-4D6E-AB52-9B60AF750FB3}  1568.529466         4 -74.114619   \n",
       "\n",
       "    POINT_Y ESTRATO  \n",
       "0  4.717057  <Null>  \n",
       "1  4.743632  <Null>  \n",
       "2  4.747059  <Null>  \n",
       "3  4.748918  <Null>  \n",
       "4  4.748830  <Null>  "
      ]
     },
     "execution_count": 11,
     "metadata": {},
     "output_type": "execute_result"
    }
   ],
   "source": [
    "tabla_df.head()"
   ]
  },
  {
   "cell_type": "markdown",
   "metadata": {},
   "source": [
    "# Calculando número de usuarios por barrio"
   ]
  },
  {
   "cell_type": "code",
   "execution_count": 12,
   "metadata": {
    "collapsed": true
   },
   "outputs": [],
   "source": [
    "localidades = [\n",
    "    'Usaquén', 'Chapinero', 'Santa Fe', 'San Cristóbal', 'Usme',\n",
    "    'Tunjuelito', 'Bosa', 'Kennedy', 'Fontibón', 'Engativá',\n",
    "    'Suba', 'Barrios Unidos', 'Teusaquillo', 'Los Mártires', 'Antonio Nariño',\n",
    "    'Puente Aranda', 'La Candelaria', 'Rafael Uribe Uribe', 'Ciudad Bolívar', 'Sumapaz'\n",
    "]"
   ]
  },
  {
   "cell_type": "code",
   "execution_count": 13,
   "metadata": {
    "collapsed": true
   },
   "outputs": [],
   "source": [
    "def format_1(s):\n",
    "    r = s.lower()\n",
    "    r = r.replace('á', 'a').replace('é', 'e').replace('í', 'i').replace('ó', 'o').replace('ú', 'u')\n",
    "    return r"
   ]
  },
  {
   "cell_type": "code",
   "execution_count": 14,
   "metadata": {
    "collapsed": true
   },
   "outputs": [],
   "source": [
    "def format_2(s):\n",
    "    r = s\n",
    "    if r.startswith('el ') or r.startswith('la '):\n",
    "        r = r[3:]\n",
    "    elif r.startswith('los ') or r.startswith('las '):\n",
    "        r = r[4:]\n",
    "    return r"
   ]
  },
  {
   "cell_type": "code",
   "execution_count": 15,
   "metadata": {
    "collapsed": true
   },
   "outputs": [],
   "source": [
    "formatted_localidades_1 = [format_1(x) for x in localidades]"
   ]
  },
  {
   "cell_type": "code",
   "execution_count": 16,
   "metadata": {
    "collapsed": true
   },
   "outputs": [],
   "source": [
    "formatted_localidades_2 = list(set([format_2(x) for x in formatted_localidades_1]).difference(formatted_localidades_1))"
   ]
  },
  {
   "cell_type": "code",
   "execution_count": 17,
   "metadata": {
    "collapsed": false
   },
   "outputs": [
    {
     "name": "stdout",
     "output_type": "stream",
     "text": [
      "CPU times: user 35.9 ms, sys: 0 ns, total: 35.9 ms\n",
      "Wall time: 35.1 ms\n"
     ]
    }
   ],
   "source": [
    "%%time\n",
    "\n",
    "def calculate_n_users(x):\n",
    "    r = None\n",
    "    b = x['Barrio']\n",
    "    b = b.strip().lower()\n",
    "    b = b.replace('á', 'a').replace('é', 'e').replace('í', 'i').replace('ó', 'o').replace('ú', 'u')\n",
    "    if b == 'juan rey (la paz)':\n",
    "        b = 'juan rey'\n",
    "    elif b == 'san diego-bosa':\n",
    "        b = 'san diego'\n",
    "    elif b.startswith('ciudad salitre'):\n",
    "        b = 'ciudad salitre'\n",
    "    if b in usuarios_por_barrio:\n",
    "        r = usuarios_por_barrio[b]\n",
    "    else: \n",
    "        if b.startswith('el ') or b.startswith('la '):\n",
    "            b = b[3:]\n",
    "        elif b.startswith('los ') or b.startswith('las '):\n",
    "            b = b[4:]\n",
    "        if b in usuarios_por_barrio:\n",
    "            r = usuarios_por_barrio[b]\n",
    "        else:\n",
    "            for loc in formatted_localidades_1:\n",
    "                if b.endswith(' ' + loc):\n",
    "                    b = b[:-(len(loc) + 1)]\n",
    "                    break\n",
    "            if b in usuarios_por_barrio:\n",
    "                r = usuarios_por_barrio[b]\n",
    "            else:\n",
    "                for loc in formatted_localidades_2:\n",
    "                    if b.endswith(' ' + loc):\n",
    "                        b = b[:-(len(loc) + 1)]\n",
    "                        break\n",
    "                if b in usuarios_por_barrio:\n",
    "                    r = usuarios_por_barrio[b]\n",
    "                else:\n",
    "                    b = ' '.join(b.split()[:-1])\n",
    "                    if b in usuarios_por_barrio:\n",
    "                        r = usuarios_por_barrio[b]\n",
    "    return r\n",
    "\n",
    "tabla_df['nUsuarios'] = tabla_df.apply(calculate_n_users, axis=1)"
   ]
  },
  {
   "cell_type": "code",
   "execution_count": 18,
   "metadata": {
    "collapsed": false
   },
   "outputs": [
    {
     "data": {
      "text/html": [
       "<div>\n",
       "<table border=\"1\" class=\"dataframe\">\n",
       "  <thead>\n",
       "    <tr style=\"text-align: right;\">\n",
       "      <th></th>\n",
       "      <th>FID *</th>\n",
       "      <th>Shape *</th>\n",
       "      <th>OBJECTID_1</th>\n",
       "      <th>OBJECTID</th>\n",
       "      <th>Barrio</th>\n",
       "      <th>ZonaUbical</th>\n",
       "      <th>Localidad</th>\n",
       "      <th>PredNuevos</th>\n",
       "      <th>PromVenta</th>\n",
       "      <th>PromRenta</th>\n",
       "      <th>ValorM2</th>\n",
       "      <th>Shape_Leng</th>\n",
       "      <th>GlobalID</th>\n",
       "      <th>Shape_Le_1</th>\n",
       "      <th>ORIG_FID</th>\n",
       "      <th>POINT_X</th>\n",
       "      <th>POINT_Y</th>\n",
       "      <th>ESTRATO</th>\n",
       "      <th>nUsuarios</th>\n",
       "    </tr>\n",
       "  </thead>\n",
       "  <tbody>\n",
       "    <tr>\n",
       "      <th>0</th>\n",
       "      <td>1</td>\n",
       "      <td>Point</td>\n",
       "      <td>1</td>\n",
       "      <td>1</td>\n",
       "      <td>ENGATIVA ZONA URBANA</td>\n",
       "      <td>OCCIDENTE</td>\n",
       "      <td>ENGATIVA</td>\n",
       "      <td>39</td>\n",
       "      <td>3.300000e+08</td>\n",
       "      <td>0.000000e+00</td>\n",
       "      <td>1200000</td>\n",
       "      <td>3051.124910</td>\n",
       "      <td>{95D9F5AC-3E8E-4050-838E-B53229C08E36}</td>\n",
       "      <td>3051.124910</td>\n",
       "      <td>0</td>\n",
       "      <td>-74.143837</td>\n",
       "      <td>4.717057</td>\n",
       "      <td>&lt;Null&gt;</td>\n",
       "      <td>NaN</td>\n",
       "    </tr>\n",
       "    <tr>\n",
       "      <th>1</th>\n",
       "      <td>2</td>\n",
       "      <td>Point</td>\n",
       "      <td>2</td>\n",
       "      <td>2</td>\n",
       "      <td>LAS FLORES</td>\n",
       "      <td>NOROCCIDENTE</td>\n",
       "      <td>SUBA</td>\n",
       "      <td>0</td>\n",
       "      <td>5.560452e+08</td>\n",
       "      <td>4.175400e+06</td>\n",
       "      <td>1150000</td>\n",
       "      <td>2718.516436</td>\n",
       "      <td>{5F47EE51-71C6-4B67-9521-E3CEBB6637C4}</td>\n",
       "      <td>2718.516436</td>\n",
       "      <td>1</td>\n",
       "      <td>-74.092323</td>\n",
       "      <td>4.743632</td>\n",
       "      <td>&lt;Null&gt;</td>\n",
       "      <td>22.0</td>\n",
       "    </tr>\n",
       "    <tr>\n",
       "      <th>2</th>\n",
       "      <td>3</td>\n",
       "      <td>Point</td>\n",
       "      <td>3</td>\n",
       "      <td>3</td>\n",
       "      <td>GILMAR</td>\n",
       "      <td>NOROCCIDENTE</td>\n",
       "      <td>SUBA</td>\n",
       "      <td>0</td>\n",
       "      <td>3.465921e+08</td>\n",
       "      <td>1.662833e+06</td>\n",
       "      <td>1750000</td>\n",
       "      <td>2405.843123</td>\n",
       "      <td>{D3B5A9F7-5427-4ACE-9591-57F90F2736DC}</td>\n",
       "      <td>2405.843123</td>\n",
       "      <td>2</td>\n",
       "      <td>-74.065877</td>\n",
       "      <td>4.747059</td>\n",
       "      <td>&lt;Null&gt;</td>\n",
       "      <td>18.0</td>\n",
       "    </tr>\n",
       "    <tr>\n",
       "      <th>3</th>\n",
       "      <td>4</td>\n",
       "      <td>Point</td>\n",
       "      <td>4</td>\n",
       "      <td>4</td>\n",
       "      <td>SAN PEDRO</td>\n",
       "      <td>NOROCCIDENTE</td>\n",
       "      <td>SUBA</td>\n",
       "      <td>13</td>\n",
       "      <td>1.184000e+09</td>\n",
       "      <td>2.933333e+06</td>\n",
       "      <td>800000</td>\n",
       "      <td>2620.610776</td>\n",
       "      <td>{A92B9098-0C25-49A7-89AD-1E0BF43E9EF2}</td>\n",
       "      <td>2620.610776</td>\n",
       "      <td>3</td>\n",
       "      <td>-74.123515</td>\n",
       "      <td>4.748918</td>\n",
       "      <td>&lt;Null&gt;</td>\n",
       "      <td>39.0</td>\n",
       "    </tr>\n",
       "    <tr>\n",
       "      <th>4</th>\n",
       "      <td>5</td>\n",
       "      <td>Point</td>\n",
       "      <td>5</td>\n",
       "      <td>5</td>\n",
       "      <td>TIBABUYES UNIVERSAL</td>\n",
       "      <td>NOROCCIDENTE</td>\n",
       "      <td>SUBA</td>\n",
       "      <td>0</td>\n",
       "      <td>1.800000e+08</td>\n",
       "      <td>0.000000e+00</td>\n",
       "      <td>1600000</td>\n",
       "      <td>1568.529466</td>\n",
       "      <td>{29F5B269-FFD8-4D6E-AB52-9B60AF750FB3}</td>\n",
       "      <td>1568.529466</td>\n",
       "      <td>4</td>\n",
       "      <td>-74.114619</td>\n",
       "      <td>4.748830</td>\n",
       "      <td>&lt;Null&gt;</td>\n",
       "      <td>5.0</td>\n",
       "    </tr>\n",
       "  </tbody>\n",
       "</table>\n",
       "</div>"
      ],
      "text/plain": [
       "   FID * Shape *  OBJECTID_1  OBJECTID                Barrio    ZonaUbical  \\\n",
       "0      1   Point           1         1  ENGATIVA ZONA URBANA     OCCIDENTE   \n",
       "1      2   Point           2         2            LAS FLORES  NOROCCIDENTE   \n",
       "2      3   Point           3         3                GILMAR  NOROCCIDENTE   \n",
       "3      4   Point           4         4             SAN PEDRO  NOROCCIDENTE   \n",
       "4      5   Point           5         5   TIBABUYES UNIVERSAL  NOROCCIDENTE   \n",
       "\n",
       "  Localidad  PredNuevos     PromVenta     PromRenta  ValorM2   Shape_Leng  \\\n",
       "0  ENGATIVA          39  3.300000e+08  0.000000e+00  1200000  3051.124910   \n",
       "1      SUBA           0  5.560452e+08  4.175400e+06  1150000  2718.516436   \n",
       "2      SUBA           0  3.465921e+08  1.662833e+06  1750000  2405.843123   \n",
       "3      SUBA          13  1.184000e+09  2.933333e+06   800000  2620.610776   \n",
       "4      SUBA           0  1.800000e+08  0.000000e+00  1600000  1568.529466   \n",
       "\n",
       "                                 GlobalID   Shape_Le_1  ORIG_FID    POINT_X  \\\n",
       "0  {95D9F5AC-3E8E-4050-838E-B53229C08E36}  3051.124910         0 -74.143837   \n",
       "1  {5F47EE51-71C6-4B67-9521-E3CEBB6637C4}  2718.516436         1 -74.092323   \n",
       "2  {D3B5A9F7-5427-4ACE-9591-57F90F2736DC}  2405.843123         2 -74.065877   \n",
       "3  {A92B9098-0C25-49A7-89AD-1E0BF43E9EF2}  2620.610776         3 -74.123515   \n",
       "4  {29F5B269-FFD8-4D6E-AB52-9B60AF750FB3}  1568.529466         4 -74.114619   \n",
       "\n",
       "    POINT_Y ESTRATO  nUsuarios  \n",
       "0  4.717057  <Null>        NaN  \n",
       "1  4.743632  <Null>       22.0  \n",
       "2  4.747059  <Null>       18.0  \n",
       "3  4.748918  <Null>       39.0  \n",
       "4  4.748830  <Null>        5.0  "
      ]
     },
     "execution_count": 18,
     "metadata": {},
     "output_type": "execute_result"
    }
   ],
   "source": [
    "tabla_df.head()"
   ]
  },
  {
   "cell_type": "code",
   "execution_count": 19,
   "metadata": {
    "collapsed": false
   },
   "outputs": [
    {
     "data": {
      "text/plain": [
       "770"
      ]
     },
     "execution_count": 19,
     "metadata": {},
     "output_type": "execute_result"
    }
   ],
   "source": [
    "len(tabla_df)"
   ]
  },
  {
   "cell_type": "code",
   "execution_count": 20,
   "metadata": {
    "collapsed": false
   },
   "outputs": [
    {
     "data": {
      "text/plain": [
       "642"
      ]
     },
     "execution_count": 20,
     "metadata": {},
     "output_type": "execute_result"
    }
   ],
   "source": [
    "tabla_df['nUsuarios'].count()"
   ]
  },
  {
   "cell_type": "markdown",
   "metadata": {},
   "source": [
    "## Resultados finales"
   ]
  },
  {
   "cell_type": "code",
   "execution_count": 21,
   "metadata": {
    "collapsed": false
   },
   "outputs": [
    {
     "data": {
      "text/plain": [
       "(770, 19)"
      ]
     },
     "execution_count": 21,
     "metadata": {},
     "output_type": "execute_result"
    }
   ],
   "source": [
    "tabla_df.shape"
   ]
  },
  {
   "cell_type": "code",
   "execution_count": 22,
   "metadata": {
    "collapsed": false
   },
   "outputs": [],
   "source": [
    "tabla_df.to_excel('tabla_barrios_nUsuarios.xlsx', index=False)"
   ]
  },
  {
   "cell_type": "code",
   "execution_count": null,
   "metadata": {
    "collapsed": true
   },
   "outputs": [],
   "source": []
  }
 ],
 "metadata": {
  "kernelspec": {
   "display_name": "Python 3",
   "language": "python",
   "name": "python3"
  },
  "language_info": {
   "codemirror_mode": {
    "name": "ipython",
    "version": 3
   },
   "file_extension": ".py",
   "mimetype": "text/x-python",
   "name": "python",
   "nbconvert_exporter": "python",
   "pygments_lexer": "ipython3",
   "version": "3.4.3"
  }
 },
 "nbformat": 4,
 "nbformat_minor": 1
}
