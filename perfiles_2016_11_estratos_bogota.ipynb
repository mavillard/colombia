{
 "cells": [
  {
   "cell_type": "code",
   "execution_count": 1,
   "metadata": {
    "collapsed": true
   },
   "outputs": [],
   "source": [
    "import csv\n",
    "import itertools\n",
    "import os\n",
    "import re\n",
    "from collections import Counter\n",
    "from collections import defaultdict\n",
    "from datetime import datetime\n",
    "from datetime import timedelta\n",
    "from random import random\n",
    "from random import shuffle\n",
    "from string import punctuation\n",
    "\n",
    "import matplotlib\n",
    "import networkx as nx\n",
    "import numpy as np\n",
    "import pandas as pd\n",
    "import seaborn as sns\n",
    "from matplotlib import pyplot as plt\n",
    "from pandas.tslib import Timestamp"
   ]
  },
  {
   "cell_type": "code",
   "execution_count": 2,
   "metadata": {
    "collapsed": true
   },
   "outputs": [],
   "source": [
    "%matplotlib inline\n",
    "matplotlib.rcParams['figure.max_open_warning'] = 100\n",
    "matplotlib.rcParams['lines.linewidth'] = 1.0"
   ]
  },
  {
   "cell_type": "code",
   "execution_count": 3,
   "metadata": {
    "collapsed": true
   },
   "outputs": [],
   "source": [
    "from IPython.display import display\n",
    "\n",
    "def print_full_df(df):\n",
    "    pd.set_option('display.max_rows', len(df))\n",
    "    display(df)\n",
    "    pd.reset_option('display.max_rows')"
   ]
  },
  {
   "cell_type": "markdown",
   "metadata": {},
   "source": [
    "# Grupos"
   ]
  },
  {
   "cell_type": "markdown",
   "metadata": {},
   "source": [
    "## Socios activos 2016"
   ]
  },
  {
   "cell_type": "code",
   "execution_count": 4,
   "metadata": {
    "collapsed": true
   },
   "outputs": [],
   "source": [
    "# 1.       CTA: categoría para niños y jóvenes hasta bachillerato\n",
    "# 2.       CTI: categoría infantil, hasta doce años y solo es para Bogotá (blaa –biblioteca Luis Ángel Arango)\n",
    "# 3.       CTB: público general (solo permite préstamo de libros)\n",
    "# 4.       CTC: público en general (permite préstamo de libros y material audiovisual)\n",
    "# 5.       CTF: categoría familiar, pueden acceder a los beneficios hasta tres personas del grupo familiar que se asocia\n",
    "# 6.       CE1, CE2, CE2: categorías empresariales (solo para instituciones)\n",
    "# 7.       CIS: categoría Inclusión Social\n",
    "# 8.       CTU: categoría Universitaria\n",
    "# 9.       VIP: Investigadores, préstamo de 30 materiales (libros y material audiovisual)\n",
    "\n",
    "#      Categoría de lector: CE1 Categoría empresarial                                   218\n",
    "#      Categoría de lector: CE2 Categoría empresarial 2                                   5\n",
    "#      Categoría de lector: CEM Categoría Empleado/Pensionado                          1593\n",
    "#      Categoría de lector: CIN Categoría Interbibliotecario                            128\n",
    "#      Categoría de lector: CIP Categoría Investigador                                  351\n",
    "#      Categoría de lector: CIS Categoría Inclusión Preferencial                      15974\n",
    "#      Categoría de lector: CIV Categoría Investigadores                                 72\n",
    "#      Categoría de lector: CML Categoría Mediador de Proyectos Culturales                2\n",
    "#      Categoría de lector: CSU Categoría Sucursal                                       91\n",
    "#      Categoría de lector: CTA Categoría Básica A                                    10610\n",
    "#      Categoría de lector: CTB Categoría B                                            1359\n",
    "#      Categoría de lector: CTC Categoría C                                             224\n",
    "#      Categoría de lector: CTF Categoría familiar                                     1105\n",
    "#      Categoría de lector: CTI Categoría Infantil                                     1004\n",
    "#      Categoría de lector: CTU Categoría General                                     17402\n",
    "#      Categoría de lector: PTE PROCESOS TÉCNICOS                                        95"
   ]
  },
  {
   "cell_type": "code",
   "execution_count": 5,
   "metadata": {
    "collapsed": false
   },
   "outputs": [
    {
     "name": "stdout",
     "output_type": "stream",
     "text": [
      "CPU times: user 64.3 ms, sys: 12.1 ms, total: 76.4 ms\n",
      "Wall time: 75.7 ms\n"
     ]
    }
   ],
   "source": [
    "%%time\n",
    "\n",
    "dtypes = {\n",
    "    'Sucursal': str,\n",
    "    'Tratamiento': str,\n",
    "    'Barrio': str,\n",
    "    'Ciudad': str,\n",
    "    'CATEG': str,\n",
    "    'Ocupación1': str,\n",
    "    'Nivel Estudio1': str,\n",
    "    'Área de Estudio1': str,\n",
    "    'Edad': 'category',\n",
    "}\n",
    "\n",
    "perfiles_df = pd.read_csv(\n",
    "    'valores_grupos_2016.csv', header=0, dtype=dtypes)\n",
    "# perfiles_df = perfiles_df.fillna('')"
   ]
  },
  {
   "cell_type": "code",
   "execution_count": 6,
   "metadata": {
    "collapsed": false
   },
   "outputs": [
    {
     "data": {
      "text/plain": [
       "(50272, 9)"
      ]
     },
     "execution_count": 6,
     "metadata": {},
     "output_type": "execute_result"
    }
   ],
   "source": [
    "perfiles_df.shape"
   ]
  },
  {
   "cell_type": "code",
   "execution_count": 7,
   "metadata": {
    "collapsed": false
   },
   "outputs": [
    {
     "data": {
      "text/html": [
       "<div>\n",
       "<table border=\"1\" class=\"dataframe\">\n",
       "  <thead>\n",
       "    <tr style=\"text-align: right;\">\n",
       "      <th></th>\n",
       "      <th>Sucursal</th>\n",
       "      <th>Tratamiento</th>\n",
       "      <th>Barrio</th>\n",
       "      <th>Ciudad</th>\n",
       "      <th>CATEG</th>\n",
       "      <th>Ocupación1</th>\n",
       "      <th>Nivel Estudio1</th>\n",
       "      <th>Área de Estudio1</th>\n",
       "      <th>Edad</th>\n",
       "    </tr>\n",
       "  </thead>\n",
       "  <tbody>\n",
       "    <tr>\n",
       "      <th>0</th>\n",
       "      <td>BLAA</td>\n",
       "      <td>OTRO</td>\n",
       "      <td>chapinero</td>\n",
       "      <td>bogota</td>\n",
       "      <td>CIN</td>\n",
       "      <td>universidad</td>\n",
       "      <td>OTRO</td>\n",
       "      <td>OTRO</td>\n",
       "      <td>OTRO</td>\n",
       "    </tr>\n",
       "    <tr>\n",
       "      <th>1</th>\n",
       "      <td>BLAA</td>\n",
       "      <td>sra.</td>\n",
       "      <td>OTRO</td>\n",
       "      <td>bogota</td>\n",
       "      <td>CEM</td>\n",
       "      <td>pensionado</td>\n",
       "      <td>OTRO</td>\n",
       "      <td>OTRO</td>\n",
       "      <td>50-64</td>\n",
       "    </tr>\n",
       "    <tr>\n",
       "      <th>2</th>\n",
       "      <td>BLAA</td>\n",
       "      <td>sra.</td>\n",
       "      <td>icata</td>\n",
       "      <td>bogota</td>\n",
       "      <td>CEM</td>\n",
       "      <td>empleado</td>\n",
       "      <td>profesional</td>\n",
       "      <td>filosofía y letras</td>\n",
       "      <td>OTRO</td>\n",
       "    </tr>\n",
       "    <tr>\n",
       "      <th>3</th>\n",
       "      <td>ARM</td>\n",
       "      <td>sr.</td>\n",
       "      <td>OTRO</td>\n",
       "      <td>OTRO</td>\n",
       "      <td>CEM</td>\n",
       "      <td>empleado</td>\n",
       "      <td>profesional</td>\n",
       "      <td>economía</td>\n",
       "      <td>50-64</td>\n",
       "    </tr>\n",
       "    <tr>\n",
       "      <th>4</th>\n",
       "      <td>BLAA</td>\n",
       "      <td>sr.</td>\n",
       "      <td>soledad</td>\n",
       "      <td>bogota</td>\n",
       "      <td>CEM</td>\n",
       "      <td>OTRO</td>\n",
       "      <td>OTRO</td>\n",
       "      <td>OTRO</td>\n",
       "      <td>OTRO</td>\n",
       "    </tr>\n",
       "  </tbody>\n",
       "</table>\n",
       "</div>"
      ],
      "text/plain": [
       "  Sucursal Tratamiento     Barrio  Ciudad CATEG   Ocupación1 Nivel Estudio1  \\\n",
       "0     BLAA        OTRO  chapinero  bogota   CIN  universidad           OTRO   \n",
       "1     BLAA        sra.       OTRO  bogota   CEM   pensionado           OTRO   \n",
       "2     BLAA        sra.      icata  bogota   CEM     empleado    profesional   \n",
       "3      ARM         sr.       OTRO    OTRO   CEM     empleado    profesional   \n",
       "4     BLAA         sr.    soledad  bogota   CEM         OTRO           OTRO   \n",
       "\n",
       "     Área de Estudio1   Edad  \n",
       "0                OTRO   OTRO  \n",
       "1                OTRO  50-64  \n",
       "2  filosofía y letras   OTRO  \n",
       "3            economía  50-64  \n",
       "4                OTRO   OTRO  "
      ]
     },
     "execution_count": 7,
     "metadata": {},
     "output_type": "execute_result"
    }
   ],
   "source": [
    "perfiles_df.head()"
   ]
  },
  {
   "cell_type": "markdown",
   "metadata": {},
   "source": [
    "# Estratos"
   ]
  },
  {
   "cell_type": "markdown",
   "metadata": {},
   "source": [
    "From http://www.sdp.gov.co/portal/page/portal/PortalSDP/actualidad-SDP-home/Segregacion_Socioeconomica_Espacio_Urbano_Bogota_Junio_0.pdf"
   ]
  },
  {
   "cell_type": "code",
   "execution_count": 8,
   "metadata": {
    "collapsed": true
   },
   "outputs": [],
   "source": [
    "# estratos_dict_aux = defaultdict(list)\n",
    "\n",
    "# previous = ''\n",
    "# with open('estratos_UPZ.txt') as f:\n",
    "#     for line in f:\n",
    "#         line = line.strip().strip('-')\n",
    "#         if line.isupper():\n",
    "#             previous += line\n",
    "#         elif line.isdigit() and 1 <= int(line) <= 6 and previous.isupper():\n",
    "#             estratos_dict_aux[previous].append(int(line))\n",
    "#             previous = ''"
   ]
  },
  {
   "cell_type": "code",
   "execution_count": 9,
   "metadata": {
    "collapsed": false
   },
   "outputs": [],
   "source": [
    "# change_dict = {\n",
    "#     'ALFONSOLOPEZ': 'ALFONSO LOPEZ',\n",
    "#     'BOYACAREAL': 'BOYACA REAL',\n",
    "#     'CIUDADJARDIN': 'CIUDAD JARDIN',\n",
    "#     'CIUDADMONTES': 'CIUDAD MONTES',\n",
    "#     'CIUDAD SALITREOCCIDENTAL': 'CIUDAD SALITRE OCCIDENTAL',\n",
    "#     'CIUDAD SALITREORIENTAL': 'CIUDAD SALITRE ORIENTAL',\n",
    "#     'CIUDADSALITRE OCCIDENTAL': 'CIUDAD SALITRE OCCIDENTAL',\n",
    "#     'CIUDADSALITREORIENTAL': 'CIUDAD SALITRE ORIENTAL',\n",
    "#     'DOCE DEOCTUBRE': 'DOCE DE OCTUBRE',\n",
    "#     'GARCESNAVAS': 'GARCES NAVAS',\n",
    "#     'GRANJAS DETECHO': 'GRANJAS DE TECHO',\n",
    "#     'KENNEDYCENTRAL': 'KENNEDY CENTRAL',\n",
    "#     'MARCO FIDELSUAREZ': 'MARCO FIDEL SUAREZ',\n",
    "#     'MINUTO DEDIOS': 'MINUTO DE DIOS',\n",
    "#     'PARDORUBIO': 'PARDO RUBIO',\n",
    "#     'QUINTAPAREDES': 'QUINTA PAREDES',\n",
    "#     'SAGRADOCORAZON': 'SAGRADO CORAZON',\n",
    "# }\n",
    "\n",
    "# estratos_dict = {}\n",
    "\n",
    "# for e in estratos_dict_aux:\n",
    "#     if e in change_dict:\n",
    "#         r = change_dict[e]\n",
    "#     else:\n",
    "#         r = e\n",
    "#     r = r.lower()\n",
    "#     if r.startswith('el ') or r.startswith('la '):\n",
    "#         r = r[3:]\n",
    "#     elif r.startswith('los ') or r.startswith('las '):\n",
    "#         r = r[4:]\n",
    "    \n",
    "#     estratos_dict[r] = estratos_dict_aux[e][0]"
   ]
  },
  {
   "cell_type": "markdown",
   "metadata": {},
   "source": [
    "Corrected by Ana"
   ]
  },
  {
   "cell_type": "code",
   "execution_count": 10,
   "metadata": {
    "collapsed": true
   },
   "outputs": [],
   "source": [
    "barrios_df = pd.read_excel('tabla_barrios_estratos.xlsx')"
   ]
  },
  {
   "cell_type": "code",
   "execution_count": 11,
   "metadata": {
    "collapsed": true
   },
   "outputs": [],
   "source": [
    "localidades = [\n",
    "    'Usaquén', 'Chapinero', 'Santa Fe', 'San Cristóbal', 'Usme',\n",
    "    'Tunjuelito', 'Bosa', 'Kennedy', 'Fontibón', 'Engativá',\n",
    "    'Suba', 'Barrios Unidos', 'Teusaquillo', 'Los Mártires', 'Antonio Nariño',\n",
    "    'Puente Aranda', 'La Candelaria', 'Rafael Uribe Uribe', 'Ciudad Bolívar', 'Sumapaz'\n",
    "]"
   ]
  },
  {
   "cell_type": "code",
   "execution_count": 12,
   "metadata": {
    "collapsed": true
   },
   "outputs": [],
   "source": [
    "def format_1(s):\n",
    "    r = s.lower()\n",
    "    r = r.replace('á', 'a').replace('é', 'e').replace('í', 'i').replace('ó', 'o').replace('ú', 'u')\n",
    "    return r"
   ]
  },
  {
   "cell_type": "code",
   "execution_count": 13,
   "metadata": {
    "collapsed": true
   },
   "outputs": [],
   "source": [
    "def format_2(s):\n",
    "    r = s\n",
    "    if r.startswith('el ') or r.startswith('la '):\n",
    "        r = r[3:]\n",
    "    elif r.startswith('los ') or r.startswith('las '):\n",
    "        r = r[4:]\n",
    "    return r"
   ]
  },
  {
   "cell_type": "code",
   "execution_count": 14,
   "metadata": {
    "collapsed": true
   },
   "outputs": [],
   "source": [
    "formatted_localidades_1 = [format_1(x) for x in localidades]"
   ]
  },
  {
   "cell_type": "code",
   "execution_count": 15,
   "metadata": {
    "collapsed": true
   },
   "outputs": [],
   "source": [
    "formatted_localidades_2 = list(set([format_2(x) for x in formatted_localidades_1]).difference(formatted_localidades_1))"
   ]
  },
  {
   "cell_type": "code",
   "execution_count": 16,
   "metadata": {
    "collapsed": true
   },
   "outputs": [],
   "source": [
    "barrios_perfiles = list(perfiles_df['Barrio'].unique())"
   ]
  },
  {
   "cell_type": "code",
   "execution_count": 17,
   "metadata": {
    "collapsed": false
   },
   "outputs": [
    {
     "name": "stdout",
     "output_type": "stream",
     "text": [
      "CPU times: user 94.1 ms, sys: 0 ns, total: 94.1 ms\n",
      "Wall time: 92.8 ms\n"
     ]
    }
   ],
   "source": [
    "%%time\n",
    "\n",
    "def format_barrio(x):\n",
    "    b = x['Barrio']\n",
    "    b = b.strip().lower()\n",
    "    b = b.replace('á', 'a').replace('é', 'e').replace('í', 'i').replace('ó', 'o').replace('ú', 'u')\n",
    "    r = b\n",
    "    if b == 'juan rey (la paz)':\n",
    "        b = 'juan rey'\n",
    "    elif b == 'san diego-bosa':\n",
    "        b = 'san diego'\n",
    "    elif b.startswith('ciudad salitre'):\n",
    "        b = 'ciudad salitre'\n",
    "    if b in barrios_perfiles:\n",
    "        r = b\n",
    "    else: \n",
    "        if b.startswith('el ') or b.startswith('la '):\n",
    "            b = b[3:]\n",
    "        elif b.startswith('los ') or b.startswith('las '):\n",
    "            b = b[4:]\n",
    "        if b in barrios_perfiles:\n",
    "            r = b\n",
    "        else:\n",
    "            for loc in formatted_localidades_1:\n",
    "                if b.endswith(' ' + loc):\n",
    "                    b = b[:-(len(loc) + 1)]\n",
    "                    break\n",
    "            if b in barrios_perfiles:\n",
    "                r = b\n",
    "            else:\n",
    "                for loc in formatted_localidades_2:\n",
    "                    if b.endswith(' ' + loc):\n",
    "                        b = b[:-(len(loc) + 1)]\n",
    "                        break\n",
    "                if b in barrios_perfiles:\n",
    "                    r = b\n",
    "                else:\n",
    "                    b = ' '.join(b.split()[:-1])\n",
    "                    if b in barrios_perfiles:\n",
    "                        r = b\n",
    "    return r\n",
    "\n",
    "barrios_df['Barrio'] = barrios_df.apply(format_barrio, axis=1)"
   ]
  },
  {
   "cell_type": "code",
   "execution_count": 18,
   "metadata": {
    "collapsed": false
   },
   "outputs": [],
   "source": [
    "estratos_dict = {}\n",
    "\n",
    "for i, x in barrios_df.iterrows():\n",
    "    if not x.isnull()['ESTRATO']:\n",
    "        estratos_dict[x['Barrio']] = int(x['ESTRATO'])"
   ]
  },
  {
   "cell_type": "code",
   "execution_count": 19,
   "metadata": {
    "collapsed": false
   },
   "outputs": [
    {
     "data": {
      "text/plain": [
       "3.0    67\n",
       "2.0    51\n",
       "4.0    20\n",
       "1.0    20\n",
       "5.0    14\n",
       "6.0    11\n",
       "Name: ESTRATO, dtype: int64"
      ]
     },
     "execution_count": 19,
     "metadata": {},
     "output_type": "execute_result"
    }
   ],
   "source": [
    "barrios_df['ESTRATO'].value_counts()"
   ]
  },
  {
   "cell_type": "code",
   "execution_count": 20,
   "metadata": {
    "collapsed": true
   },
   "outputs": [],
   "source": [
    "estratos_dict_inv = defaultdict(list)\n",
    "for k in estratos_dict:\n",
    "    estratos_dict_inv[estratos_dict[k]].append(k)\n",
    "estratos_dict_inv = dict(estratos_dict_inv)"
   ]
  },
  {
   "cell_type": "markdown",
   "metadata": {},
   "source": [
    "## Media de iteraciones"
   ]
  },
  {
   "cell_type": "code",
   "execution_count": 21,
   "metadata": {
    "collapsed": true
   },
   "outputs": [],
   "source": [
    "def my_shuffle(ls):\n",
    "    rs = list(ls)\n",
    "    shuffle(rs, random)\n",
    "    return rs\n",
    "\n",
    "def my_sample(ls, k):\n",
    "    return my_shuffle(ls)[:k]\n",
    "\n",
    "# Example of use:\n",
    "# ls = [0, 1, 2, 3, 4, 5, 6, 7, 8, 9]\n",
    "# my_shuffle(ls, random=lambda: 0.5)\n",
    "# > [1, 6, 2, 8, 3, 7, 4, 9, 5]\n",
    "# my_sample([1, 6, 2, 8, 3, 7, 4, 9, 5], 2)\n",
    "# > [1, 7]\n",
    "# my_sample([1, 6, 2, 8, 3, 7, 4, 9, 5], 12)\n",
    "# > 1, 7, 6, 9, 2, 4, 8, 5, 3]"
   ]
  },
  {
   "cell_type": "code",
   "execution_count": 22,
   "metadata": {
    "collapsed": false
   },
   "outputs": [
    {
     "name": "stdout",
     "output_type": "stream",
     "text": [
      "1 ITERATION(S)\n",
      "=================\n",
      "\n",
      "1    271\n",
      "2    372\n",
      "3    406\n",
      "4    975\n",
      "5    367\n",
      "6    396\n",
      "dtype: int64\n",
      "\n",
      "10 ITERATION(S)\n",
      "=================\n",
      "\n",
      "1    255\n",
      "2    386\n",
      "3    441\n",
      "4    819\n",
      "5    342\n",
      "6    396\n",
      "dtype: int64\n",
      "\n",
      "100 ITERATION(S)\n",
      "=================\n",
      "\n",
      "1    241\n",
      "2    353\n",
      "3    517\n",
      "4    828\n",
      "5    341\n",
      "6    396\n",
      "dtype: int64\n",
      "\n",
      "1000 ITERATION(S)\n",
      "=================\n",
      "\n",
      "1    247\n",
      "2    355\n",
      "3    498\n",
      "4    814\n",
      "5    340\n",
      "6    396\n",
      "dtype: int64\n",
      "\n",
      "CPU times: user 1min 6s, sys: 49.4 ms, total: 1min 6s\n",
      "Wall time: 1min 6s\n"
     ]
    },
    {
     "data": {
      "image/png": "[encoded data removed]",
      "text/plain": [
       "<matplotlib.figure.Figure at 0x7f26c82c3908>"
      ]
     },
     "metadata": {},
     "output_type": "display_data"
    },
    {
     "data": {
      "image/png": "[encoded data removed]",
      "text/plain": [
       "<matplotlib.figure.Figure at 0x7f26c8316160>"
      ]
     },
     "metadata": {},
     "output_type": "display_data"
    },
    {
     "data": {
      "image/png": "[encoded data removed]",
      "text/plain": [
       "<matplotlib.figure.Figure at 0x7f26c82c3710>"
      ]
     },
     "metadata": {},
     "output_type": "display_data"
    },
    {
     "data": {
      "image/png": "[encoded data removed]",
      "text/plain": [
       "<matplotlib.figure.Figure at 0x7f26f6364748>"
      ]
     },
     "metadata": {},
     "output_type": "display_data"
    }
   ],
   "source": [
    "%%time\n",
    "\n",
    "N_BARRIOS = 11\n",
    "N_ITERS = [1, 10, 100, 1000]\n",
    "\n",
    "for N_ITER in N_ITERS:\n",
    "    plt.figure()\n",
    "    \n",
    "    print(N_ITER, 'ITERATION(S)')\n",
    "    print('=================')\n",
    "    \n",
    "    estratos_usuarios_dict = {\n",
    "        1: 0,\n",
    "        2: 0,\n",
    "        3: 0,\n",
    "        4: 0,\n",
    "        5: 0,\n",
    "        6: 0,\n",
    "    }\n",
    "\n",
    "    for i in range(N_ITER):\n",
    "    #     print('ITERATION #', i + 1)\n",
    "    #     print('==============')\n",
    "\n",
    "        selected_barrios_dict = {}\n",
    "        for k in estratos_dict_inv:\n",
    "            ls = my_sample(estratos_dict_inv[k], N_BARRIOS)\n",
    "            for b in ls:\n",
    "                selected_barrios_dict[b] = k\n",
    "\n",
    "        perfiles_bogota_estratos = perfiles_df[perfiles_df['Barrio'].isin(selected_barrios_dict)].copy()\n",
    "    #     print('Neighborhoods selected from map:', len(selected_barrios_dict))\n",
    "    #     print('Neighborhoods found on dataset:', perfiles_bogota_estratos['Barrio'].nunique())\n",
    "\n",
    "        perfiles_bogota_estratos['Estrato'] = perfiles_bogota_estratos.apply(lambda x: estratos_dict[x['Barrio']], axis=1)\n",
    "        perfiles_bogota_estratos_count = perfiles_bogota_estratos.groupby('Estrato')['Barrio'].count()\n",
    "\n",
    "        for k in range(1, 7):\n",
    "            estratos_usuarios_dict[k] += perfiles_bogota_estratos_count[k]\n",
    "\n",
    "    for k in range(1, 7):\n",
    "        estratos_usuarios_dict[k] //= N_ITER\n",
    "    \n",
    "    estratos_sr = pd.Series(estratos_usuarios_dict)\n",
    "    print(estratos_sr)\n",
    "    print()\n",
    "    \n",
    "    estratos_sr.plot(\n",
    "        kind='bar',\n",
    "        title='Número de usuarios por estrato (promedio ' + str(N_ITER) + (' iteración)' if N_ITER == 1 else ' iteraciones)'),\n",
    "        rot=0,\n",
    "    )"
   ]
  },
  {
   "cell_type": "code",
   "execution_count": null,
   "metadata": {
    "collapsed": true
   },
   "outputs": [],
   "source": []
  }
 ],
 "metadata": {
  "kernelspec": {
   "display_name": "Python 3",
   "language": "python",
   "name": "python3"
  },
  "language_info": {
   "codemirror_mode": {
    "name": "ipython",
    "version": 3
   },
   "file_extension": ".py",
   "mimetype": "text/x-python",
   "name": "python",
   "nbconvert_exporter": "python",
   "pygments_lexer": "ipython3",
   "version": "3.4.3"
  }
 },
 "nbformat": 4,
 "nbformat_minor": 1
}
