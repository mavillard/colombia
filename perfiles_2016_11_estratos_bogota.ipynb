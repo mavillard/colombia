{
 "cells": [
  {
   "cell_type": "code",
   "execution_count": 29,
   "metadata": {
    "collapsed": true
   },
   "outputs": [],
   "source": [
    "import csv\n",
    "import itertools\n",
    "import os\n",
    "import re\n",
    "from collections import Counter\n",
    "from collections import defaultdict\n",
    "from datetime import datetime\n",
    "from datetime import timedelta\n",
    "from random import shuffle\n",
    "from string import punctuation\n",
    "\n",
    "import matplotlib\n",
    "import networkx as nx\n",
    "import numpy as np\n",
    "import pandas as pd\n",
    "import seaborn as sns\n",
    "from matplotlib import pyplot as plt\n",
    "from pandas.tslib import Timestamp"
   ]
  },
  {
   "cell_type": "code",
   "execution_count": 2,
   "metadata": {
    "collapsed": true
   },
   "outputs": [],
   "source": [
    "%matplotlib inline\n",
    "matplotlib.rcParams['figure.max_open_warning'] = 100\n",
    "matplotlib.rcParams['lines.linewidth'] = 1.0"
   ]
  },
  {
   "cell_type": "code",
   "execution_count": 3,
   "metadata": {
    "collapsed": true
   },
   "outputs": [],
   "source": [
    "from IPython.display import display\n",
    "\n",
    "def print_full_df(df):\n",
    "    pd.set_option('display.max_rows', len(df))\n",
    "    display(df)\n",
    "    pd.reset_option('display.max_rows')"
   ]
  },
  {
   "cell_type": "markdown",
   "metadata": {},
   "source": [
    "# Grupos"
   ]
  },
  {
   "cell_type": "markdown",
   "metadata": {},
   "source": [
    "## Socios activos 2016"
   ]
  },
  {
   "cell_type": "code",
   "execution_count": 4,
   "metadata": {
    "collapsed": true
   },
   "outputs": [],
   "source": [
    "# 1.       CTA: categoría para niños y jóvenes hasta bachillerato\n",
    "# 2.       CTI: categoría infantil, hasta doce años y solo es para Bogotá (blaa –biblioteca Luis Ángel Arango)\n",
    "# 3.       CTB: público general (solo permite préstamo de libros)\n",
    "# 4.       CTC: público en general (permite préstamo de libros y material audiovisual)\n",
    "# 5.       CTF: categoría familiar, pueden acceder a los beneficios hasta tres personas del grupo familiar que se asocia\n",
    "# 6.       CE1, CE2, CE2: categorías empresariales (solo para instituciones)\n",
    "# 7.       CIS: categoría Inclusión Social\n",
    "# 8.       CTU: categoría Universitaria\n",
    "# 9.       VIP: Investigadores, préstamo de 30 materiales (libros y material audiovisual)\n",
    "\n",
    "#      Categoría de lector: CE1 Categoría empresarial                                   218\n",
    "#      Categoría de lector: CE2 Categoría empresarial 2                                   5\n",
    "#      Categoría de lector: CEM Categoría Empleado/Pensionado                          1593\n",
    "#      Categoría de lector: CIN Categoría Interbibliotecario                            128\n",
    "#      Categoría de lector: CIP Categoría Investigador                                  351\n",
    "#      Categoría de lector: CIS Categoría Inclusión Preferencial                      15974\n",
    "#      Categoría de lector: CIV Categoría Investigadores                                 72\n",
    "#      Categoría de lector: CML Categoría Mediador de Proyectos Culturales                2\n",
    "#      Categoría de lector: CSU Categoría Sucursal                                       91\n",
    "#      Categoría de lector: CTA Categoría Básica A                                    10610\n",
    "#      Categoría de lector: CTB Categoría B                                            1359\n",
    "#      Categoría de lector: CTC Categoría C                                             224\n",
    "#      Categoría de lector: CTF Categoría familiar                                     1105\n",
    "#      Categoría de lector: CTI Categoría Infantil                                     1004\n",
    "#      Categoría de lector: CTU Categoría General                                     17402\n",
    "#      Categoría de lector: PTE PROCESOS TÉCNICOS                                        95"
   ]
  },
  {
   "cell_type": "code",
   "execution_count": 5,
   "metadata": {
    "collapsed": false
   },
   "outputs": [
    {
     "name": "stdout",
     "output_type": "stream",
     "text": [
      "CPU times: user 69.5 ms, sys: 3.3 ms, total: 72.8 ms\n",
      "Wall time: 72.9 ms\n"
     ]
    }
   ],
   "source": [
    "%%time\n",
    "\n",
    "dtypes = {\n",
    "    'Sucursal': str,\n",
    "    'Tratamiento': str,\n",
    "    'Barrio': str,\n",
    "    'Ciudad': str,\n",
    "    'CATEG': str,\n",
    "    'Ocupación1': str,\n",
    "    'Nivel Estudio1': str,\n",
    "    'Área de Estudio1': str,\n",
    "    'Edad': 'category',\n",
    "}\n",
    "\n",
    "perfiles_df = pd.read_csv(\n",
    "    'valores_grupos_2016.csv', header=0, dtype=dtypes)\n",
    "# perfiles_df = perfiles_df.fillna('')"
   ]
  },
  {
   "cell_type": "code",
   "execution_count": 6,
   "metadata": {
    "collapsed": false
   },
   "outputs": [
    {
     "data": {
      "text/plain": [
       "(50272, 9)"
      ]
     },
     "execution_count": 6,
     "metadata": {},
     "output_type": "execute_result"
    }
   ],
   "source": [
    "perfiles_df.shape"
   ]
  },
  {
   "cell_type": "code",
   "execution_count": 7,
   "metadata": {
    "collapsed": false
   },
   "outputs": [
    {
     "data": {
      "text/html": [
       "<div>\n",
       "<table border=\"1\" class=\"dataframe\">\n",
       "  <thead>\n",
       "    <tr style=\"text-align: right;\">\n",
       "      <th></th>\n",
       "      <th>Sucursal</th>\n",
       "      <th>Tratamiento</th>\n",
       "      <th>Barrio</th>\n",
       "      <th>Ciudad</th>\n",
       "      <th>CATEG</th>\n",
       "      <th>Ocupación1</th>\n",
       "      <th>Nivel Estudio1</th>\n",
       "      <th>Área de Estudio1</th>\n",
       "      <th>Edad</th>\n",
       "    </tr>\n",
       "  </thead>\n",
       "  <tbody>\n",
       "    <tr>\n",
       "      <th>0</th>\n",
       "      <td>BLAA</td>\n",
       "      <td>OTRO</td>\n",
       "      <td>chapinero</td>\n",
       "      <td>bogota</td>\n",
       "      <td>CIN</td>\n",
       "      <td>universidad</td>\n",
       "      <td>OTRO</td>\n",
       "      <td>OTRO</td>\n",
       "      <td>OTRO</td>\n",
       "    </tr>\n",
       "    <tr>\n",
       "      <th>1</th>\n",
       "      <td>BLAA</td>\n",
       "      <td>sra.</td>\n",
       "      <td>OTRO</td>\n",
       "      <td>bogota</td>\n",
       "      <td>CEM</td>\n",
       "      <td>pensionado</td>\n",
       "      <td>OTRO</td>\n",
       "      <td>OTRO</td>\n",
       "      <td>50-64</td>\n",
       "    </tr>\n",
       "    <tr>\n",
       "      <th>2</th>\n",
       "      <td>BLAA</td>\n",
       "      <td>sra.</td>\n",
       "      <td>icata</td>\n",
       "      <td>bogota</td>\n",
       "      <td>CEM</td>\n",
       "      <td>empleado</td>\n",
       "      <td>profesional</td>\n",
       "      <td>filosofía y letras</td>\n",
       "      <td>OTRO</td>\n",
       "    </tr>\n",
       "    <tr>\n",
       "      <th>3</th>\n",
       "      <td>ARM</td>\n",
       "      <td>sr.</td>\n",
       "      <td>OTRO</td>\n",
       "      <td>OTRO</td>\n",
       "      <td>CEM</td>\n",
       "      <td>empleado</td>\n",
       "      <td>profesional</td>\n",
       "      <td>economía</td>\n",
       "      <td>50-64</td>\n",
       "    </tr>\n",
       "    <tr>\n",
       "      <th>4</th>\n",
       "      <td>BLAA</td>\n",
       "      <td>sr.</td>\n",
       "      <td>soledad</td>\n",
       "      <td>bogota</td>\n",
       "      <td>CEM</td>\n",
       "      <td>OTRO</td>\n",
       "      <td>OTRO</td>\n",
       "      <td>OTRO</td>\n",
       "      <td>OTRO</td>\n",
       "    </tr>\n",
       "  </tbody>\n",
       "</table>\n",
       "</div>"
      ],
      "text/plain": [
       "  Sucursal Tratamiento     Barrio  Ciudad CATEG   Ocupación1 Nivel Estudio1  \\\n",
       "0     BLAA        OTRO  chapinero  bogota   CIN  universidad           OTRO   \n",
       "1     BLAA        sra.       OTRO  bogota   CEM   pensionado           OTRO   \n",
       "2     BLAA        sra.      icata  bogota   CEM     empleado    profesional   \n",
       "3      ARM         sr.       OTRO    OTRO   CEM     empleado    profesional   \n",
       "4     BLAA         sr.    soledad  bogota   CEM         OTRO           OTRO   \n",
       "\n",
       "     Área de Estudio1   Edad  \n",
       "0                OTRO   OTRO  \n",
       "1                OTRO  50-64  \n",
       "2  filosofía y letras   OTRO  \n",
       "3            economía  50-64  \n",
       "4                OTRO   OTRO  "
      ]
     },
     "execution_count": 7,
     "metadata": {},
     "output_type": "execute_result"
    }
   ],
   "source": [
    "perfiles_df.head()"
   ]
  },
  {
   "cell_type": "markdown",
   "metadata": {},
   "source": [
    "# Estratos"
   ]
  },
  {
   "cell_type": "markdown",
   "metadata": {},
   "source": [
    "From http://www.sdp.gov.co/portal/page/portal/PortalSDP/actualidad-SDP-home/Segregacion_Socioeconomica_Espacio_Urbano_Bogota_Junio_0.pdf"
   ]
  },
  {
   "cell_type": "code",
   "execution_count": 8,
   "metadata": {
    "collapsed": true
   },
   "outputs": [],
   "source": [
    "estratos_dict_aux = defaultdict(list)\n",
    "\n",
    "previous = ''\n",
    "with open('estratos_UPZ.txt') as f:\n",
    "    for line in f:\n",
    "        line = line.strip().strip('-')\n",
    "        if line.isupper():\n",
    "            previous += line\n",
    "        elif line.isdigit() and 1 <= int(line) <= 6 and previous.isupper():\n",
    "            estratos_dict_aux[previous].append(int(line))\n",
    "            previous = ''"
   ]
  },
  {
   "cell_type": "code",
   "execution_count": 9,
   "metadata": {
    "collapsed": false
   },
   "outputs": [],
   "source": [
    "change_dict = {\n",
    "    'ALFONSOLOPEZ': 'ALFONSO LOPEZ',\n",
    "    'BOYACAREAL': 'BOYACA REAL',\n",
    "    'CIUDADJARDIN': 'CIUDAD JARDIN',\n",
    "    'CIUDADMONTES': 'CIUDAD MONTES',\n",
    "    'CIUDAD SALITREOCCIDENTAL': 'CIUDAD SALITRE OCCIDENTAL',\n",
    "    'CIUDAD SALITREORIENTAL': 'CIUDAD SALITRE ORIENTAL',\n",
    "    'CIUDADSALITRE OCCIDENTAL': 'CIUDAD SALITRE OCCIDENTAL',\n",
    "    'CIUDADSALITREORIENTAL': 'CIUDAD SALITRE ORIENTAL',\n",
    "    'DOCE DEOCTUBRE': 'DOCE DE OCTUBRE',\n",
    "    'GARCESNAVAS': 'GARCES NAVAS',\n",
    "    'GRANJAS DETECHO': 'GRANJAS DE TECHO',\n",
    "    'KENNEDYCENTRAL': 'KENNEDY CENTRAL',\n",
    "    'MARCO FIDELSUAREZ': 'MARCO FIDEL SUAREZ',\n",
    "    'MINUTO DEDIOS': 'MINUTO DE DIOS',\n",
    "    'PARDORUBIO': 'PARDO RUBIO',\n",
    "    'QUINTAPAREDES': 'QUINTA PAREDES',\n",
    "    'SAGRADOCORAZON': 'SAGRADO CORAZON',\n",
    "}\n",
    "\n",
    "estratos_dict = {}\n",
    "\n",
    "for e in estratos_dict_aux:\n",
    "    if e in change_dict:\n",
    "        r = change_dict[e]\n",
    "    else:\n",
    "        r = e\n",
    "    r = r.lower()\n",
    "    if r.startswith('el ') or r.startswith('la '):\n",
    "        r = r[3:]\n",
    "    elif r.startswith('los ') or r.startswith('las '):\n",
    "        r = r[4:]\n",
    "    \n",
    "    estratos_dict[r] = estratos_dict_aux[e][0]"
   ]
  },
  {
   "cell_type": "markdown",
   "metadata": {},
   "source": [
    "From Ana"
   ]
  },
  {
   "cell_type": "code",
   "execution_count": 26,
   "metadata": {
    "collapsed": true
   },
   "outputs": [],
   "source": [
    "# Add barrios de Ana a los míos en estratos_dict"
   ]
  },
  {
   "cell_type": "code",
   "execution_count": 110,
   "metadata": {
    "collapsed": true
   },
   "outputs": [],
   "source": [
    "estratos_dict_inv = defaultdict(list)\n",
    "for k in estratos_dict:\n",
    "    estratos_dict_inv[estratos_dict[k]].append(k)\n",
    "estratos_dict_inv = dict(estratos_dict_inv)\n",
    "\n",
    "N = 2\n",
    "\n",
    "def ran():\n",
    "    return 0.5\n",
    "\n",
    "def my_shuffle(ls, random=None):\n",
    "    rs = list(ls)\n",
    "    shuffle(rs, random)\n",
    "    return rs\n",
    "\n",
    "def my_sample(ls, k, random=None):\n",
    "    return my_shuffle(ls, random)[:k]\n",
    "\n",
    "# Example of use:\n",
    "# ls = [0, 1, 2, 3, 4, 5, 6, 7, 8, 9]\n",
    "# my_shuffle(ls, random=lambda: 0.5)\n",
    "# > [1, 6, 2, 8, 3, 7, 4, 9, 5]\n",
    "# my_sample([1, 6, 2, 8, 3, 7, 4, 9, 5], 2, random=lambda: 0.5)\n",
    "# > [1, 7]\n",
    "# my_sample([1, 6, 2, 8, 3, 7, 4, 9, 5], 12, random=lambda: 0.5)\n",
    "# > 1, 7, 6, 9, 2, 4, 8, 5, 3]\n",
    "\n",
    "selected_barrios_dict = {}\n",
    "for k in estratos_dict_inv:\n",
    "    ls = my_sample(estratos_dict_inv[k], N, random=lambda: 0.5)\n",
    "    for b in ls:\n",
    "        selected_barrios_dict[b] = k"
   ]
  },
  {
   "cell_type": "code",
   "execution_count": 111,
   "metadata": {
    "collapsed": false
   },
   "outputs": [
    {
     "data": {
      "text/plain": [
       "{'alcazares': 3,\n",
       " 'chico lago': 6,\n",
       " 'ciudad salitre occidental': 4,\n",
       " 'ciudad salitre oriental': 4,\n",
       " 'cruces': 2,\n",
       " 'fontibon sanpablo': 2,\n",
       " 'jerusalem': 1,\n",
       " 'refugio': 6,\n",
       " 'tesoro': 1,\n",
       " 'usaquen': 5,\n",
       " 'venecia': 3}"
      ]
     },
     "execution_count": 111,
     "metadata": {},
     "output_type": "execute_result"
    }
   ],
   "source": [
    "selected_barrios_dict"
   ]
  },
  {
   "cell_type": "code",
   "execution_count": 112,
   "metadata": {
    "collapsed": false
   },
   "outputs": [],
   "source": [
    "perfiles_bogota_estratos = perfiles_df[perfiles_df['Barrio'].isin(selected_barrios_dict)].copy()"
   ]
  },
  {
   "cell_type": "code",
   "execution_count": 113,
   "metadata": {
    "collapsed": false
   },
   "outputs": [],
   "source": [
    "perfiles_bogota_estratos['Estrato'] = perfiles_bogota_estratos.apply(lambda x: estratos_dict[x['Barrio']], axis=1)"
   ]
  },
  {
   "cell_type": "code",
   "execution_count": 115,
   "metadata": {
    "collapsed": false
   },
   "outputs": [
    {
     "data": {
      "text/html": [
       "<div>\n",
       "<table border=\"1\" class=\"dataframe\">\n",
       "  <thead>\n",
       "    <tr style=\"text-align: right;\">\n",
       "      <th></th>\n",
       "      <th>Sucursal</th>\n",
       "      <th>Tratamiento</th>\n",
       "      <th>Barrio</th>\n",
       "      <th>Ciudad</th>\n",
       "      <th>CATEG</th>\n",
       "      <th>Ocupación1</th>\n",
       "      <th>Nivel Estudio1</th>\n",
       "      <th>Área de Estudio1</th>\n",
       "      <th>Edad</th>\n",
       "      <th>Estrato</th>\n",
       "    </tr>\n",
       "  </thead>\n",
       "  <tbody>\n",
       "    <tr>\n",
       "      <th>147</th>\n",
       "      <td>BLAA</td>\n",
       "      <td>sra.</td>\n",
       "      <td>venecia</td>\n",
       "      <td>bogota</td>\n",
       "      <td>CEM</td>\n",
       "      <td>pensionado</td>\n",
       "      <td>OTRO</td>\n",
       "      <td>OTRO</td>\n",
       "      <td>OTRO</td>\n",
       "      <td>3</td>\n",
       "    </tr>\n",
       "    <tr>\n",
       "      <th>396</th>\n",
       "      <td>BLAA</td>\n",
       "      <td>sr.</td>\n",
       "      <td>venecia</td>\n",
       "      <td>bogota</td>\n",
       "      <td>CTF</td>\n",
       "      <td>docente</td>\n",
       "      <td>profesional</td>\n",
       "      <td>cine fotografía y televisión</td>\n",
       "      <td>40-49</td>\n",
       "      <td>3</td>\n",
       "    </tr>\n",
       "    <tr>\n",
       "      <th>635</th>\n",
       "      <td>BLAA</td>\n",
       "      <td>sr.</td>\n",
       "      <td>venecia</td>\n",
       "      <td>bogota</td>\n",
       "      <td>CTB</td>\n",
       "      <td>estudiante</td>\n",
       "      <td>maestría</td>\n",
       "      <td>geografía</td>\n",
       "      <td>40-49</td>\n",
       "      <td>3</td>\n",
       "    </tr>\n",
       "    <tr>\n",
       "      <th>709</th>\n",
       "      <td>BLAA</td>\n",
       "      <td>sr.</td>\n",
       "      <td>venecia</td>\n",
       "      <td>bogota</td>\n",
       "      <td>CTU</td>\n",
       "      <td>independiente</td>\n",
       "      <td>profesional</td>\n",
       "      <td>artes plásticas</td>\n",
       "      <td>50-64</td>\n",
       "      <td>3</td>\n",
       "    </tr>\n",
       "    <tr>\n",
       "      <th>716</th>\n",
       "      <td>BLAA</td>\n",
       "      <td>sr.</td>\n",
       "      <td>venecia</td>\n",
       "      <td>bogota</td>\n",
       "      <td>CTU</td>\n",
       "      <td>independiente</td>\n",
       "      <td>profesional</td>\n",
       "      <td>psicología</td>\n",
       "      <td>40-49</td>\n",
       "      <td>3</td>\n",
       "    </tr>\n",
       "  </tbody>\n",
       "</table>\n",
       "</div>"
      ],
      "text/plain": [
       "    Sucursal Tratamiento   Barrio  Ciudad CATEG     Ocupación1 Nivel Estudio1  \\\n",
       "147     BLAA        sra.  venecia  bogota   CEM     pensionado           OTRO   \n",
       "396     BLAA         sr.  venecia  bogota   CTF        docente    profesional   \n",
       "635     BLAA         sr.  venecia  bogota   CTB     estudiante       maestría   \n",
       "709     BLAA         sr.  venecia  bogota   CTU  independiente    profesional   \n",
       "716     BLAA         sr.  venecia  bogota   CTU  independiente    profesional   \n",
       "\n",
       "                 Área de Estudio1   Edad  Estrato  \n",
       "147                          OTRO   OTRO        3  \n",
       "396  cine fotografía y televisión  40-49        3  \n",
       "635                     geografía  40-49        3  \n",
       "709               artes plásticas  50-64        3  \n",
       "716                    psicología  40-49        3  "
      ]
     },
     "execution_count": 115,
     "metadata": {},
     "output_type": "execute_result"
    }
   ],
   "source": [
    "perfiles_bogota_estratos.head()"
   ]
  },
  {
   "cell_type": "code",
   "execution_count": 116,
   "metadata": {
    "collapsed": false
   },
   "outputs": [
    {
     "data": {
      "text/plain": [
       "Estrato\n",
       "1     17\n",
       "2     70\n",
       "3    128\n",
       "4      4\n",
       "5     22\n",
       "6     31\n",
       "Name: Barrio, dtype: int64"
      ]
     },
     "execution_count": 116,
     "metadata": {},
     "output_type": "execute_result"
    }
   ],
   "source": [
    "perfiles_bogota_estratos.groupby('Estrato')['Barrio'].count()"
   ]
  },
  {
   "cell_type": "code",
   "execution_count": 117,
   "metadata": {
    "collapsed": false
   },
   "outputs": [
    {
     "data": {
      "text/plain": [
       "<matplotlib.axes._subplots.AxesSubplot at 0x7f93d8726c18>"
      ]
     },
     "execution_count": 117,
     "metadata": {},
     "output_type": "execute_result"
    },
    {
     "data": {
      "image/png": "[encoded data removed]",
      "text/plain": [
       "<matplotlib.figure.Figure at 0x7f93d8872a20>"
      ]
     },
     "metadata": {},
     "output_type": "display_data"
    }
   ],
   "source": [
    "perfiles_bogota_estratos.groupby('Estrato')['Barrio'].count().plot()"
   ]
  },
  {
   "cell_type": "code",
   "execution_count": null,
   "metadata": {
    "collapsed": true
   },
   "outputs": [],
   "source": []
  }
 ],
 "metadata": {
  "kernelspec": {
   "display_name": "Python 3",
   "language": "python",
   "name": "python3"
  },
  "language_info": {
   "codemirror_mode": {
    "name": "ipython",
    "version": 3
   },
   "file_extension": ".py",
   "mimetype": "text/x-python",
   "name": "python",
   "nbconvert_exporter": "python",
   "pygments_lexer": "ipython3",
   "version": "3.4.3"
  }
 },
 "nbformat": 4,
 "nbformat_minor": 1
}
