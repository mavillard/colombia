{
 "cells": [
  {
   "cell_type": "markdown",
   "metadata": {},
   "source": [
    "# Usuarios y títulos"
   ]
  },
  {
   "cell_type": "code",
   "execution_count": 1,
   "metadata": {
    "collapsed": true
   },
   "outputs": [],
   "source": [
    "import csv\n",
    "import itertools\n",
    "import os\n",
    "import re\n",
    "from collections import Counter\n",
    "from collections import defaultdict\n",
    "from datetime import datetime\n",
    "from datetime import timedelta\n",
    "from string import punctuation\n",
    "\n",
    "import matplotlib\n",
    "import numpy as np\n",
    "import pandas as pd\n",
    "import seaborn as sns\n",
    "from matplotlib import pyplot as plt\n",
    "from pandas.tslib import Timestamp"
   ]
  },
  {
   "cell_type": "markdown",
   "metadata": {},
   "source": [
    "## Socios activos 2016"
   ]
  },
  {
   "cell_type": "code",
   "execution_count": 2,
   "metadata": {
    "collapsed": false
   },
   "outputs": [
    {
     "name": "stdout",
     "output_type": "stream",
     "text": [
      "CPU times: user 395 ms, sys: 11.9 ms, total: 407 ms\n",
      "Wall time: 406 ms\n"
     ]
    }
   ],
   "source": [
    "%%time\n",
    "\n",
    "dtypes = {\n",
    "    'CODBAR': str,\n",
    "    'Sucursal': str,\n",
    "    'Tratamiento': str,\n",
    "    'Barrio': str,\n",
    "    'Ciudad': str,\n",
    "    'CATEG': str,\n",
    "    'Ocupación1': str,\n",
    "    'Nivel Estudio1': str,\n",
    "    'Área de Estudio1': str,\n",
    "    'Fech. Nacim': pd.tslib.Timestamp,\n",
    "    'Edad': float,\n",
    "}\n",
    "\n",
    "perfiles_df = pd.read_csv(\n",
    "    'socios_activos_2016_ciudades_barrios.csv', header=0, dtype=dtypes, parse_dates=['Fech. Nacim'])\n",
    "perfiles_df = perfiles_df.fillna('')"
   ]
  },
  {
   "cell_type": "code",
   "execution_count": 3,
   "metadata": {
    "collapsed": false
   },
   "outputs": [
    {
     "data": {
      "text/plain": [
       "(50272, 11)"
      ]
     },
     "execution_count": 3,
     "metadata": {},
     "output_type": "execute_result"
    }
   ],
   "source": [
    "perfiles_df.shape"
   ]
  },
  {
   "cell_type": "code",
   "execution_count": 4,
   "metadata": {
    "collapsed": false
   },
   "outputs": [
    {
     "data": {
      "text/html": [
       "<div>\n",
       "<table border=\"1\" class=\"dataframe\">\n",
       "  <thead>\n",
       "    <tr style=\"text-align: right;\">\n",
       "      <th></th>\n",
       "      <th>CODBAR</th>\n",
       "      <th>Sucursal</th>\n",
       "      <th>Tratamiento</th>\n",
       "      <th>Barrio</th>\n",
       "      <th>Ciudad</th>\n",
       "      <th>CATEG</th>\n",
       "      <th>Ocupación1</th>\n",
       "      <th>Nivel Estudio1</th>\n",
       "      <th>Área de Estudio1</th>\n",
       "      <th>Fech. Nacim</th>\n",
       "      <th>Edad</th>\n",
       "    </tr>\n",
       "  </thead>\n",
       "  <tbody>\n",
       "    <tr>\n",
       "      <th>0</th>\n",
       "      <td>88180782</td>\n",
       "      <td>BLAA</td>\n",
       "      <td></td>\n",
       "      <td>chapinero</td>\n",
       "      <td>bogota</td>\n",
       "      <td>CIN</td>\n",
       "      <td>universidad</td>\n",
       "      <td></td>\n",
       "      <td></td>\n",
       "      <td></td>\n",
       "      <td></td>\n",
       "    </tr>\n",
       "    <tr>\n",
       "      <th>1</th>\n",
       "      <td>88183608</td>\n",
       "      <td>BLAA</td>\n",
       "      <td>sra.</td>\n",
       "      <td>ayacuyo ii</td>\n",
       "      <td>bogota</td>\n",
       "      <td>CEM</td>\n",
       "      <td>pensionado</td>\n",
       "      <td></td>\n",
       "      <td></td>\n",
       "      <td>1957-07-30 00:00:00</td>\n",
       "      <td>59</td>\n",
       "    </tr>\n",
       "    <tr>\n",
       "      <th>2</th>\n",
       "      <td>88181732</td>\n",
       "      <td>BLAA</td>\n",
       "      <td>sra.</td>\n",
       "      <td>icata</td>\n",
       "      <td>bogota</td>\n",
       "      <td>CEM</td>\n",
       "      <td>empleado</td>\n",
       "      <td>profesional</td>\n",
       "      <td>filosofía y letras</td>\n",
       "      <td></td>\n",
       "      <td></td>\n",
       "    </tr>\n",
       "    <tr>\n",
       "      <th>3</th>\n",
       "      <td>88182347</td>\n",
       "      <td>ARM</td>\n",
       "      <td>sr.</td>\n",
       "      <td>montenegro</td>\n",
       "      <td>montenegro</td>\n",
       "      <td>CEM</td>\n",
       "      <td>empleado</td>\n",
       "      <td>profesional</td>\n",
       "      <td>economía</td>\n",
       "      <td>1963-09-20 00:00:00</td>\n",
       "      <td>53</td>\n",
       "    </tr>\n",
       "    <tr>\n",
       "      <th>4</th>\n",
       "      <td>88181284</td>\n",
       "      <td>BLAA</td>\n",
       "      <td>sr.</td>\n",
       "      <td>soledad</td>\n",
       "      <td>bogota</td>\n",
       "      <td>CEM</td>\n",
       "      <td></td>\n",
       "      <td></td>\n",
       "      <td></td>\n",
       "      <td></td>\n",
       "      <td></td>\n",
       "    </tr>\n",
       "  </tbody>\n",
       "</table>\n",
       "</div>"
      ],
      "text/plain": [
       "     CODBAR Sucursal Tratamiento      Barrio      Ciudad CATEG   Ocupación1  \\\n",
       "0  88180782     BLAA               chapinero      bogota   CIN  universidad   \n",
       "1  88183608     BLAA        sra.  ayacuyo ii      bogota   CEM   pensionado   \n",
       "2  88181732     BLAA        sra.       icata      bogota   CEM     empleado   \n",
       "3  88182347      ARM         sr.  montenegro  montenegro   CEM     empleado   \n",
       "4  88181284     BLAA         sr.     soledad      bogota   CEM                \n",
       "\n",
       "  Nivel Estudio1    Área de Estudio1          Fech. Nacim Edad  \n",
       "0                                                               \n",
       "1                                     1957-07-30 00:00:00   59  \n",
       "2    profesional  filosofía y letras                            \n",
       "3    profesional            economía  1963-09-20 00:00:00   53  \n",
       "4                                                               "
      ]
     },
     "execution_count": 4,
     "metadata": {},
     "output_type": "execute_result"
    }
   ],
   "source": [
    "perfiles_df.head()"
   ]
  },
  {
   "cell_type": "markdown",
   "metadata": {},
   "source": [
    "## Columnas útiles"
   ]
  },
  {
   "cell_type": "code",
   "execution_count": 5,
   "metadata": {
    "collapsed": true
   },
   "outputs": [],
   "source": [
    "perfiles_cols = [\n",
    "    'CODBAR',\n",
    "    'Sucursal',\n",
    "    'Tratamiento',\n",
    "#     'Barrio',\n",
    "#     'Ciudad',\n",
    "#     'CATEG',\n",
    "#     'Ocupación1',\n",
    "#     'Nivel Estudio1',\n",
    "#     'Área de Estudio1',\n",
    "#     'Fech. Nacim',\n",
    "    'Edad',\n",
    "]"
   ]
  },
  {
   "cell_type": "code",
   "execution_count": 6,
   "metadata": {
    "collapsed": true
   },
   "outputs": [],
   "source": [
    "perfiles_df = perfiles_df[perfiles_cols]"
   ]
  },
  {
   "cell_type": "code",
   "execution_count": 7,
   "metadata": {
    "collapsed": false
   },
   "outputs": [
    {
     "data": {
      "text/plain": [
       "(50272, 4)"
      ]
     },
     "execution_count": 7,
     "metadata": {},
     "output_type": "execute_result"
    }
   ],
   "source": [
    "perfiles_df.shape"
   ]
  },
  {
   "cell_type": "markdown",
   "metadata": {},
   "source": [
    "## Valores en blanco"
   ]
  },
  {
   "cell_type": "markdown",
   "metadata": {},
   "source": [
    "#### Sucursal"
   ]
  },
  {
   "cell_type": "code",
   "execution_count": 8,
   "metadata": {
    "collapsed": false
   },
   "outputs": [
    {
     "data": {
      "text/plain": [
       "BLAA      24278\n",
       "TUN        3165\n",
       "IBA        2339\n",
       "PAS        2089\n",
       "POP        2078\n",
       "NEI        1978\n",
       "PER        1922\n",
       "MAN        1159\n",
       "GIR        1090\n",
       "IPI        1041\n",
       "CAR         758\n",
       "SAN         728\n",
       "CASAGO      686\n",
       "VAL         660\n",
       "FLO         611\n",
       "ARM         575\n",
       "HON         544\n",
       "LET         526\n",
       "BUC         511\n",
       "QUI         478\n",
       "STM         438\n",
       "SIN         438\n",
       "BUE         337\n",
       "BAR         328\n",
       "VIL         298\n",
       "CAL         287\n",
       "RIO         250\n",
       "CUC         236\n",
       "MED         219\n",
       "MON         209\n",
       "             16\n",
       "Name: Sucursal, dtype: int64"
      ]
     },
     "execution_count": 8,
     "metadata": {},
     "output_type": "execute_result"
    }
   ],
   "source": [
    "perfiles_df.Sucursal.value_counts()"
   ]
  },
  {
   "cell_type": "markdown",
   "metadata": {},
   "source": [
    "#### Tratamiento"
   ]
  },
  {
   "cell_type": "code",
   "execution_count": 9,
   "metadata": {
    "collapsed": false
   },
   "outputs": [
    {
     "data": {
      "text/plain": [
       "sr.          22505\n",
       "sra.         22341\n",
       "              4995\n",
       "otra inf.      392\n",
       "inst            39\n",
       "Name: Tratamiento, dtype: int64"
      ]
     },
     "execution_count": 9,
     "metadata": {},
     "output_type": "execute_result"
    }
   ],
   "source": [
    "perfiles_df.Tratamiento.value_counts()"
   ]
  },
  {
   "cell_type": "markdown",
   "metadata": {},
   "source": [
    "#### Edad"
   ]
  },
  {
   "cell_type": "code",
   "execution_count": 10,
   "metadata": {
    "collapsed": false
   },
   "outputs": [
    {
     "data": {
      "text/plain": [
       "        6626\n",
       "22.0    1928\n",
       "21.0    1860\n",
       "23.0    1819\n",
       "20.0    1770\n",
       "24.0    1653\n",
       "19.0    1539\n",
       "17.0    1539\n",
       "18.0    1463\n",
       "25.0    1459\n",
       "16.0    1320\n",
       "26.0    1235\n",
       "27.0    1124\n",
       "28.0    1068\n",
       "10.0    1001\n",
       "9.0      993\n",
       "15.0     989\n",
       "11.0     960\n",
       "30.0     934\n",
       "29.0     927\n",
       "8.0      887\n",
       "12.0     817\n",
       "32.0     794\n",
       "31.0     793\n",
       "13.0     766\n",
       "33.0     696\n",
       "7.0      694\n",
       "14.0     692\n",
       "35.0     677\n",
       "34.0     647\n",
       "        ... \n",
       "69.0      94\n",
       "71.0      86\n",
       "70.0      84\n",
       "72.0      79\n",
       "74.0      58\n",
       "73.0      53\n",
       "76.0      42\n",
       "75.0      40\n",
       "78.0      32\n",
       "77.0      29\n",
       "81.0      14\n",
       "80.0      11\n",
       "84.0      11\n",
       "79.0      10\n",
       "83.0       9\n",
       "82.0       8\n",
       "86.0       7\n",
       "89.0       5\n",
       "88.0       4\n",
       "87.0       3\n",
       "93.0       2\n",
       "85.0       2\n",
       "90.0       1\n",
       "91.0       1\n",
       "92.0       1\n",
       "94.0       1\n",
       "95.0       1\n",
       "97.0       1\n",
       "98.0       1\n",
       "99.0       1\n",
       "Name: Edad, dtype: int64"
      ]
     },
     "execution_count": 10,
     "metadata": {},
     "output_type": "execute_result"
    }
   ],
   "source": [
    "perfiles_df.Edad.value_counts()"
   ]
  },
  {
   "cell_type": "markdown",
   "metadata": {},
   "source": [
    "## Sucursales"
   ]
  },
  {
   "cell_type": "code",
   "execution_count": 11,
   "metadata": {
    "collapsed": true
   },
   "outputs": [],
   "source": [
    "sucursal_ciudad_dict = {\n",
    "    'ARM': 'Armenia',\n",
    "    'BAR': 'Barranquilla',\n",
    "    'BLAA': 'Bogotá',\n",
    "    'BUE': 'Buenaventura',\n",
    "    'BUC': 'Bucaramanga',\n",
    "    'CAL': 'Cali',\n",
    "    'CAR': 'Cartagena',\n",
    "    'CASAGO': 'Bogotá',\n",
    "    'CATMAN': 'Bogotá',\n",
    "    'CUC': 'Cúcuta',\n",
    "    'FLO': 'Florencia',\n",
    "    'GIR': 'Girardot',\n",
    "    'HON': 'Honda',\n",
    "    'IBA': 'Ibagué',\n",
    "    'IEC': 'Bogotá',\n",
    "    'IPI': 'Ipiales',\n",
    "    'LET': 'Leticia',\n",
    "    'MAN': 'Manizales',\n",
    "    'MED': 'Medellín',\n",
    "    'MON': 'Montería',\n",
    "    'NEI': 'Neiva',\n",
    "    'PAS': 'Pasto',\n",
    "    'PER': 'Pereira',\n",
    "    'POP': 'Popayán',\n",
    "    'QUI': 'Quibdó',\n",
    "    'RIO': 'Riohacha',\n",
    "    'SAN': 'San Andrés',\n",
    "    'SIN': 'Sincelejo',\n",
    "    'STM': 'Santa Marta',\n",
    "    'TUN': 'Tunja',\n",
    "    'VAL': 'Valledupar',\n",
    "    'VIL': 'Villavicencio',\n",
    "    '': '',\n",
    "}"
   ]
  },
  {
   "cell_type": "code",
   "execution_count": 12,
   "metadata": {
    "collapsed": false
   },
   "outputs": [
    {
     "name": "stdout",
     "output_type": "stream",
     "text": [
      "CPU times: user 1.44 s, sys: 6.49 ms, total: 1.45 s\n",
      "Wall time: 1.45 s\n"
     ]
    }
   ],
   "source": [
    "%%time\n",
    "\n",
    "def process_sucursal(x):\n",
    "    return sucursal_ciudad_dict[x['Sucursal']]\n",
    "\n",
    "perfiles_df['Ciudad'] = perfiles_df.apply(process_sucursal, axis=1)"
   ]
  },
  {
   "cell_type": "markdown",
   "metadata": {},
   "source": [
    "## Datos útiles"
   ]
  },
  {
   "cell_type": "code",
   "execution_count": 13,
   "metadata": {
    "collapsed": false
   },
   "outputs": [],
   "source": [
    "perfiles_df = perfiles_df[\n",
    "    (perfiles_df.Ciudad != '') &\n",
    "    ((perfiles_df.Tratamiento == 'sr.') | (perfiles_df.Tratamiento == 'sra.')) &\n",
    "    (perfiles_df.Edad != '')\n",
    "]"
   ]
  },
  {
   "cell_type": "code",
   "execution_count": 14,
   "metadata": {
    "collapsed": false
   },
   "outputs": [
    {
     "data": {
      "text/plain": [
       "(39172, 5)"
      ]
     },
     "execution_count": 14,
     "metadata": {},
     "output_type": "execute_result"
    }
   ],
   "source": [
    "perfiles_df.shape"
   ]
  },
  {
   "cell_type": "code",
   "execution_count": 15,
   "metadata": {
    "collapsed": false
   },
   "outputs": [
    {
     "data": {
      "text/html": [
       "<div>\n",
       "<table border=\"1\" class=\"dataframe\">\n",
       "  <thead>\n",
       "    <tr style=\"text-align: right;\">\n",
       "      <th></th>\n",
       "      <th>CODBAR</th>\n",
       "      <th>Sucursal</th>\n",
       "      <th>Tratamiento</th>\n",
       "      <th>Edad</th>\n",
       "      <th>Ciudad</th>\n",
       "    </tr>\n",
       "  </thead>\n",
       "  <tbody>\n",
       "    <tr>\n",
       "      <th>1</th>\n",
       "      <td>88183608</td>\n",
       "      <td>BLAA</td>\n",
       "      <td>sra.</td>\n",
       "      <td>59</td>\n",
       "      <td>Bogotá</td>\n",
       "    </tr>\n",
       "    <tr>\n",
       "      <th>3</th>\n",
       "      <td>88182347</td>\n",
       "      <td>ARM</td>\n",
       "      <td>sr.</td>\n",
       "      <td>53</td>\n",
       "      <td>Armenia</td>\n",
       "    </tr>\n",
       "    <tr>\n",
       "      <th>6</th>\n",
       "      <td>88183786</td>\n",
       "      <td>BLAA</td>\n",
       "      <td>sr.</td>\n",
       "      <td>49</td>\n",
       "      <td>Bogotá</td>\n",
       "    </tr>\n",
       "    <tr>\n",
       "      <th>8</th>\n",
       "      <td>88185891</td>\n",
       "      <td>BLAA</td>\n",
       "      <td>sr.</td>\n",
       "      <td>56</td>\n",
       "      <td>Bogotá</td>\n",
       "    </tr>\n",
       "    <tr>\n",
       "      <th>9</th>\n",
       "      <td>88009796</td>\n",
       "      <td>BLAA</td>\n",
       "      <td>sr.</td>\n",
       "      <td>62</td>\n",
       "      <td>Bogotá</td>\n",
       "    </tr>\n",
       "  </tbody>\n",
       "</table>\n",
       "</div>"
      ],
      "text/plain": [
       "     CODBAR Sucursal Tratamiento Edad   Ciudad\n",
       "1  88183608     BLAA        sra.   59   Bogotá\n",
       "3  88182347      ARM         sr.   53  Armenia\n",
       "6  88183786     BLAA         sr.   49   Bogotá\n",
       "8  88185891     BLAA         sr.   56   Bogotá\n",
       "9  88009796     BLAA         sr.   62   Bogotá"
      ]
     },
     "execution_count": 15,
     "metadata": {},
     "output_type": "execute_result"
    }
   ],
   "source": [
    "perfiles_df.head()"
   ]
  },
  {
   "cell_type": "markdown",
   "metadata": {},
   "source": [
    "## Grupos"
   ]
  },
  {
   "cell_type": "markdown",
   "metadata": {
    "collapsed": true
   },
   "source": [
    "#### Rango_edad"
   ]
  },
  {
   "cell_type": "code",
   "execution_count": 16,
   "metadata": {
    "collapsed": false
   },
   "outputs": [
    {
     "name": "stdout",
     "output_type": "stream",
     "text": [
      "CPU times: user 66.4 ms, sys: 0 ns, total: 66.4 ms\n",
      "Wall time: 65.4 ms\n"
     ]
    }
   ],
   "source": [
    "%%time\n",
    "\n",
    "def bins_to_labels(bins):\n",
    "    labels = []\n",
    "    labels.append('-{}'.format(bins[1]))\n",
    "    for i in range(1, len(bins) - 2):\n",
    "        labels.append('{}-{}'.format(bins[i]+1, bins[i+1]))\n",
    "    labels.append('+{}'.format(bins[-2]+1))\n",
    "    return labels\n",
    "\n",
    "bins = [-1, 17, 29, 39, 49, 64, 999]\n",
    "labels = bins_to_labels(bins)\n",
    "\n",
    "def calculate_rango(x):\n",
    "    pd.cut(pd.Series(x), bins=bins, labels=labels)\n",
    "\n",
    "perfiles_df['Rango_edad'] = pd.cut(perfiles_df['Edad'], bins=bins, labels=labels)"
   ]
  },
  {
   "cell_type": "code",
   "execution_count": 17,
   "metadata": {
    "collapsed": false
   },
   "outputs": [
    {
     "data": {
      "text/plain": [
       "18-29    16157\n",
       "-17      10780\n",
       "30-39     6240\n",
       "40-49     2473\n",
       "50-64     2398\n",
       "+65       1124\n",
       "Name: Rango_edad, dtype: int64"
      ]
     },
     "execution_count": 17,
     "metadata": {},
     "output_type": "execute_result"
    }
   ],
   "source": [
    "perfiles_df['Rango_edad'].value_counts()"
   ]
  },
  {
   "cell_type": "code",
   "execution_count": 18,
   "metadata": {
    "collapsed": false
   },
   "outputs": [
    {
     "data": {
      "text/plain": [
       "6"
      ]
     },
     "execution_count": 18,
     "metadata": {},
     "output_type": "execute_result"
    }
   ],
   "source": [
    "perfiles_df['Rango_edad'].nunique()"
   ]
  },
  {
   "cell_type": "markdown",
   "metadata": {
    "collapsed": true
   },
   "source": [
    "## Resultados finales"
   ]
  },
  {
   "cell_type": "code",
   "execution_count": 19,
   "metadata": {
    "collapsed": true
   },
   "outputs": [],
   "source": [
    "perfiles_df.to_csv('usuarios_2016.csv', index=False)"
   ]
  },
  {
   "cell_type": "code",
   "execution_count": null,
   "metadata": {
    "collapsed": true
   },
   "outputs": [],
   "source": []
  }
 ],
 "metadata": {
  "kernelspec": {
   "display_name": "Python 3",
   "language": "python",
   "name": "python3"
  },
  "language_info": {
   "codemirror_mode": {
    "name": "ipython",
    "version": 3
   },
   "file_extension": ".py",
   "mimetype": "text/x-python",
   "name": "python",
   "nbconvert_exporter": "python",
   "pygments_lexer": "ipython3",
   "version": "3.4.3"
  }
 },
 "nbformat": 4,
 "nbformat_minor": 1
}
