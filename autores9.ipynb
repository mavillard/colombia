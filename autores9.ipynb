{
 "cells": [
  {
   "cell_type": "markdown",
   "metadata": {},
   "source": [
    "# Maps"
   ]
  },
  {
   "cell_type": "code",
   "execution_count": 1,
   "metadata": {
    "collapsed": true
   },
   "outputs": [],
   "source": [
    "import ast\n",
    "import csv\n",
    "import os\n",
    "import re\n",
    "from collections import defaultdict\n",
    "from collections import Counter\n",
    "from datetime import datetime\n",
    "from datetime import timedelta\n",
    "from string import punctuation\n",
    "\n",
    "import matplotlib\n",
    "import numpy as np\n",
    "import networkx as nx\n",
    "import pandas as pd\n",
    "import requests\n",
    "import seaborn as sns\n",
    "from geolocation.main import GoogleMaps\n",
    "from matplotlib import pyplot as plt\n",
    "from SPARQLWrapper import SPARQLWrapper, JSON\n",
    "\n",
    "from googlemaps_key import KEY"
   ]
  },
  {
   "cell_type": "markdown",
   "metadata": {},
   "source": [
    "# Autores"
   ]
  },
  {
   "cell_type": "code",
   "execution_count": 2,
   "metadata": {
    "collapsed": false
   },
   "outputs": [
    {
     "name": "stdout",
     "output_type": "stream",
     "text": [
      "CPU times: user 2.13 s, sys: 21.9 ms, total: 2.15 s\n",
      "Wall time: 2.15 s\n"
     ]
    }
   ],
   "source": [
    "%%time\n",
    "\n",
    "autores_df = pd.read_csv(\n",
    "    'autores8.csv',\n",
    "    header=0,\n",
    "    converters={\n",
    "        'GEOLOC_CAPITAL_AUTOR': ast.literal_eval,\n",
    "        'GEOLOC_CAPITAL_EJEMPLAR': ast.literal_eval\n",
    "    }\n",
    ")\n",
    "autores_df = autores_df.fillna('')"
   ]
  },
  {
   "cell_type": "code",
   "execution_count": 3,
   "metadata": {
    "collapsed": false
   },
   "outputs": [
    {
     "data": {
      "text/plain": [
       "(61857, 10)"
      ]
     },
     "execution_count": 3,
     "metadata": {},
     "output_type": "execute_result"
    }
   ],
   "source": [
    "autores_df.shape"
   ]
  },
  {
   "cell_type": "code",
   "execution_count": 4,
   "metadata": {
    "collapsed": false
   },
   "outputs": [
    {
     "data": {
      "text/html": [
       "<div>\n",
       "<table border=\"1\" class=\"dataframe\">\n",
       "  <thead>\n",
       "    <tr style=\"text-align: right;\">\n",
       "      <th></th>\n",
       "      <th>TITULO</th>\n",
       "      <th>FECHA_PUB</th>\n",
       "      <th>PAIS_EJEMPLAR</th>\n",
       "      <th>AUTOR</th>\n",
       "      <th>PAIS_AUTOR</th>\n",
       "      <th>NOMBRE_LOCALIZADO</th>\n",
       "      <th>CAPITAL_AUTOR</th>\n",
       "      <th>CAPITAL_EJEMPLAR</th>\n",
       "      <th>GEOLOC_CAPITAL_AUTOR</th>\n",
       "      <th>GEOLOC_CAPITAL_EJEMPLAR</th>\n",
       "    </tr>\n",
       "  </thead>\n",
       "  <tbody>\n",
       "    <tr>\n",
       "      <th>0</th>\n",
       "      <td>Adivina en qué pais ...</td>\n",
       "      <td>2010</td>\n",
       "      <td>Spain</td>\n",
       "      <td>Martina Badstuber</td>\n",
       "      <td>Germany</td>\n",
       "      <td>Martina Badstuber</td>\n",
       "      <td>Berlin</td>\n",
       "      <td>Madrid</td>\n",
       "      <td>(52.52000659999999, 13.404954)</td>\n",
       "      <td>(40.4167754, -3.7037902)</td>\n",
       "    </tr>\n",
       "    <tr>\n",
       "      <th>1</th>\n",
       "      <td>Galleta para perros</td>\n",
       "      <td>2008</td>\n",
       "      <td>Spain</td>\n",
       "      <td>Helen Cooper</td>\n",
       "      <td>United Kingdom</td>\n",
       "      <td>Helen Cooper</td>\n",
       "      <td>London</td>\n",
       "      <td>Madrid</td>\n",
       "      <td>(51.5073509, -0.1277583)</td>\n",
       "      <td>(40.4167754, -3.7037902)</td>\n",
       "    </tr>\n",
       "    <tr>\n",
       "      <th>2</th>\n",
       "      <td>Codrilo</td>\n",
       "      <td>2009</td>\n",
       "      <td>Spain</td>\n",
       "      <td>Roberto Aliaga Sánchez</td>\n",
       "      <td>Spain</td>\n",
       "      <td>Roberto Aliaga</td>\n",
       "      <td>Madrid</td>\n",
       "      <td>Madrid</td>\n",
       "      <td>(40.4167754, -3.7037902)</td>\n",
       "      <td>(40.4167754, -3.7037902)</td>\n",
       "    </tr>\n",
       "    <tr>\n",
       "      <th>3</th>\n",
       "      <td>Félix, : el coleccionista de miedos</td>\n",
       "      <td>2009</td>\n",
       "      <td>Spain</td>\n",
       "      <td>Fina Casalderrey</td>\n",
       "      <td>Spain</td>\n",
       "      <td>Fina Casalderrey</td>\n",
       "      <td>Madrid</td>\n",
       "      <td>Madrid</td>\n",
       "      <td>(40.4167754, -3.7037902)</td>\n",
       "      <td>(40.4167754, -3.7037902)</td>\n",
       "    </tr>\n",
       "    <tr>\n",
       "      <th>4</th>\n",
       "      <td>En la laguna más profunda</td>\n",
       "      <td>2011</td>\n",
       "      <td>Colombia</td>\n",
       "      <td>Oscar Collazos</td>\n",
       "      <td>Colombia</td>\n",
       "      <td>Oscar Collazos</td>\n",
       "      <td>Bogotá</td>\n",
       "      <td>Bogotá</td>\n",
       "      <td>(4.710988599999999, -74.072092)</td>\n",
       "      <td>(4.710988599999999, -74.072092)</td>\n",
       "    </tr>\n",
       "  </tbody>\n",
       "</table>\n",
       "</div>"
      ],
      "text/plain": [
       "                                TITULO  FECHA_PUB PAIS_EJEMPLAR  \\\n",
       "0              Adivina en qué pais ...       2010         Spain   \n",
       "1                  Galleta para perros       2008         Spain   \n",
       "2                              Codrilo       2009         Spain   \n",
       "3  Félix, : el coleccionista de miedos       2009         Spain   \n",
       "4            En la laguna más profunda       2011      Colombia   \n",
       "\n",
       "                    AUTOR      PAIS_AUTOR  NOMBRE_LOCALIZADO CAPITAL_AUTOR  \\\n",
       "0       Martina Badstuber         Germany  Martina Badstuber        Berlin   \n",
       "1            Helen Cooper  United Kingdom       Helen Cooper        London   \n",
       "2  Roberto Aliaga Sánchez           Spain     Roberto Aliaga        Madrid   \n",
       "3        Fina Casalderrey           Spain   Fina Casalderrey        Madrid   \n",
       "4          Oscar Collazos        Colombia     Oscar Collazos        Bogotá   \n",
       "\n",
       "  CAPITAL_EJEMPLAR             GEOLOC_CAPITAL_AUTOR  \\\n",
       "0           Madrid   (52.52000659999999, 13.404954)   \n",
       "1           Madrid         (51.5073509, -0.1277583)   \n",
       "2           Madrid         (40.4167754, -3.7037902)   \n",
       "3           Madrid         (40.4167754, -3.7037902)   \n",
       "4           Bogotá  (4.710988599999999, -74.072092)   \n",
       "\n",
       "           GEOLOC_CAPITAL_EJEMPLAR  \n",
       "0         (40.4167754, -3.7037902)  \n",
       "1         (40.4167754, -3.7037902)  \n",
       "2         (40.4167754, -3.7037902)  \n",
       "3         (40.4167754, -3.7037902)  \n",
       "4  (4.710988599999999, -74.072092)  "
      ]
     },
     "execution_count": 4,
     "metadata": {},
     "output_type": "execute_result"
    }
   ],
   "source": [
    "autores_df.head()"
   ]
  },
  {
   "cell_type": "markdown",
   "metadata": {},
   "source": [
    "# Places and coordinates"
   ]
  },
  {
   "cell_type": "markdown",
   "metadata": {},
   "source": [
    "## Places and coordinates dictionary"
   ]
  },
  {
   "cell_type": "code",
   "execution_count": 5,
   "metadata": {
    "collapsed": false
   },
   "outputs": [
    {
     "name": "stdout",
     "output_type": "stream",
     "text": [
      "CPU times: user 10.4 s, sys: 7.06 ms, total: 10.4 s\n",
      "Wall time: 10.4 s\n"
     ]
    }
   ],
   "source": [
    "%%time\n",
    "\n",
    "place_coord_d = {}\n",
    "\n",
    "for i, x in autores_df.iterrows():\n",
    "    place_coord_d[x['PAIS_AUTOR']] = x['GEOLOC_CAPITAL_AUTOR']\n",
    "    place_coord_d[x['PAIS_EJEMPLAR']]= x['GEOLOC_CAPITAL_EJEMPLAR']"
   ]
  },
  {
   "cell_type": "markdown",
   "metadata": {},
   "source": [
    "## Coordinates and places dictionary 1"
   ]
  },
  {
   "cell_type": "code",
   "execution_count": 6,
   "metadata": {
    "collapsed": true
   },
   "outputs": [],
   "source": [
    "coord_places_d = defaultdict(list)\n",
    "\n",
    "for k in place_coord_d:\n",
    "    coord_places_d[place_coord_d[k]].append(k)\n",
    "\n",
    "coord_places_d = dict(coord_places_d)"
   ]
  },
  {
   "cell_type": "markdown",
   "metadata": {},
   "source": [
    "## Places dictionary"
   ]
  },
  {
   "cell_type": "code",
   "execution_count": 7,
   "metadata": {
    "collapsed": false
   },
   "outputs": [],
   "source": [
    "paises_autor_c = autores_df['PAIS_AUTOR'].value_counts()\n",
    "paises_ejemplar_c = autores_df['PAIS_EJEMPLAR'].value_counts()\n",
    "places_c = paises_autor_c.add(paises_ejemplar_c, fill_value=0).astype(int)"
   ]
  },
  {
   "cell_type": "code",
   "execution_count": 8,
   "metadata": {
    "collapsed": true
   },
   "outputs": [],
   "source": [
    "def sort_by_frequency(places):\n",
    "    places_freqs = [(p, places_c[p]) for p in places]\n",
    "    sorted_freqs = sorted(places_freqs, key=lambda x: x[1], reverse=True)\n",
    "    sorted_places = [p for p, f in sorted_freqs]\n",
    "    return sorted_places"
   ]
  },
  {
   "cell_type": "code",
   "execution_count": 9,
   "metadata": {
    "collapsed": false
   },
   "outputs": [],
   "source": [
    "place_place_d = {}\n",
    "\n",
    "for k in coord_places_d:\n",
    "    sorted_places = sort_by_frequency(coord_places_d[k])\n",
    "    for p in sorted_places:\n",
    "        place_place_d[p] = sorted_places[0]"
   ]
  },
  {
   "cell_type": "markdown",
   "metadata": {},
   "source": [
    "## Coordinates and places dictionary 2"
   ]
  },
  {
   "cell_type": "code",
   "execution_count": 10,
   "metadata": {
    "collapsed": true
   },
   "outputs": [],
   "source": [
    "coord_place_d = {}\n",
    "\n",
    "for k in coord_places_d:\n",
    "    coord_place_d[k] = place_place_d[coord_places_d[k][0]]"
   ]
  },
  {
   "cell_type": "markdown",
   "metadata": {},
   "source": [
    "## Cleaning"
   ]
  },
  {
   "cell_type": "code",
   "execution_count": 11,
   "metadata": {
    "collapsed": false
   },
   "outputs": [
    {
     "name": "stdout",
     "output_type": "stream",
     "text": [
      "CPU times: user 1.94 s, sys: 11.9 ms, total: 1.95 s\n",
      "Wall time: 1.95 s\n"
     ]
    }
   ],
   "source": [
    "%%time\n",
    "\n",
    "def process_pais_autor(x):\n",
    "    return place_place_d[x['PAIS_AUTOR']]\n",
    "\n",
    "autores_df['PAIS_AUTOR'] = autores_df.apply(process_pais_autor, axis=1)"
   ]
  },
  {
   "cell_type": "code",
   "execution_count": 12,
   "metadata": {
    "collapsed": false
   },
   "outputs": [
    {
     "name": "stdout",
     "output_type": "stream",
     "text": [
      "CPU times: user 1.71 s, sys: 4.03 ms, total: 1.71 s\n",
      "Wall time: 1.71 s\n"
     ]
    }
   ],
   "source": [
    "%%time\n",
    "\n",
    "def process_pais_ejemplar(x):\n",
    "    return place_place_d[x['PAIS_EJEMPLAR']]\n",
    "\n",
    "autores_df['PAIS_EJEMPLAR'] = autores_df.apply(process_pais_ejemplar, axis=1)"
   ]
  },
  {
   "cell_type": "markdown",
   "metadata": {},
   "source": [
    "# Resultados"
   ]
  },
  {
   "cell_type": "code",
   "execution_count": 13,
   "metadata": {
    "collapsed": false
   },
   "outputs": [
    {
     "data": {
      "text/plain": [
       "50872"
      ]
     },
     "execution_count": 13,
     "metadata": {},
     "output_type": "execute_result"
    }
   ],
   "source": [
    "autores_df['TITULO'].nunique()"
   ]
  },
  {
   "cell_type": "code",
   "execution_count": 14,
   "metadata": {
    "collapsed": false
   },
   "outputs": [
    {
     "data": {
      "text/plain": [
       "Obras completas                                                 146\n",
       "Antología poética                                               111\n",
       "Cuentos                                                          93\n",
       "Antología                                                        72\n",
       "Poemas                                                           69\n",
       "Cuentos completos                                                63\n",
       "Poesía                                                           57\n",
       "Poesía completa                                                  50\n",
       "Obras escogidas                                                  41\n",
       "Teatro                                                           41\n",
       "Obra poética                                                     37\n",
       "Obras                                                            37\n",
       "Poesías completas                                                36\n",
       "María                                                            34\n",
       "Poesías                                                          33\n",
       "Antología personal                                               29\n",
       "Martín Fierro                                                    28\n",
       "La isla del tesoro                                               27\n",
       "Fausto                                                           27\n",
       "Don Quijote de la Mancha                                         26\n",
       "La vorágine                                                      26\n",
       "Teatro completo                                                  26\n",
       "Cien años de soledad                                             26\n",
       "Madame Bovary                                                    26\n",
       "Hamlet                                                           24\n",
       "El proceso                                                       23\n",
       "Novelas ejemplares                                               23\n",
       "El principito                                                    22\n",
       "Ensayos                                                          22\n",
       "Alicia en el país de las maravillas                              21\n",
       "                                                               ... \n",
       "The gulag archipelago 1918-1956                                   1\n",
       "El gran desierto                                                  1\n",
       "El mundo está en el alma : yoga - Vasishtha, extractos de la      1\n",
       "Ivonne, princesa de Borgoña : teatro                              1\n",
       "La vida feliz de Francis Macomber                                 1\n",
       "La provocación del futuro : retos del desarrollo en el Urugu      1\n",
       "Novelas eróticas                                                  1\n",
       "La maleta del náufrago : (cuaderno de notas 1981-1990)            1\n",
       "Vida de Edison                                                    1\n",
       "La muerte : metáforas, mitologías, símbolos                       1\n",
       "Medio siglo de cine mexicano (1896-1947)                          1\n",
       "La abundancia = the bounty                                        1\n",
       "Braintrust : what neuroscience tells us about morality            1\n",
       "Obras : poesía                                                    1\n",
       "Los pasos perdidos : novela                                       1\n",
       "Trilogía africana                                                 1\n",
       "La jota de corazones                                              1\n",
       "El avaro : las preciosas ridículas                                1\n",
       "The return of the smurfette                                       1\n",
       "La voz a ti debida y razón de amor                                1\n",
       "John Silence : investigador de lo oculto                          1\n",
       "Fantasmas de América y maravillas del viejo mundo                 1\n",
       "Siembra : revista del taller de poesia                            1\n",
       "El Berlin demónico : relatos radiofónicos                         1\n",
       "El home cinema de los hermanos Dardenne                           1\n",
       "Multitud : guerra y democracia en la era del imperio              1\n",
       "Propios como ajenos : antología personal (poesía 1961-2005)       1\n",
       "Cuentos de inquietud                                              1\n",
       "Las intenciones del tío Sam                                       1\n",
       "Cuenta de los guías                                               1\n",
       "Name: TITULO, dtype: int64"
      ]
     },
     "execution_count": 14,
     "metadata": {},
     "output_type": "execute_result"
    }
   ],
   "source": [
    "autores_df['TITULO'].value_counts()"
   ]
  },
  {
   "cell_type": "code",
   "execution_count": 15,
   "metadata": {
    "collapsed": false
   },
   "outputs": [
    {
     "data": {
      "text/plain": [
       "107"
      ]
     },
     "execution_count": 15,
     "metadata": {},
     "output_type": "execute_result"
    }
   ],
   "source": [
    "autores_df['PAIS_EJEMPLAR'].nunique()"
   ]
  },
  {
   "cell_type": "code",
   "execution_count": 16,
   "metadata": {
    "collapsed": false
   },
   "outputs": [
    {
     "data": {
      "text/plain": [
       "Spain                32224\n",
       "Colombia              8009\n",
       "Argentina             6227\n",
       "Mexico                5390\n",
       "United States         2382\n",
       "United Kingdom        1497\n",
       "Francia               1336\n",
       "Venezuela              804\n",
       "Chile                  668\n",
       "New York (State)       537\n",
       "Cuba                   467\n",
       "Brazil                 366\n",
       "Peru                   286\n",
       "Italy                  255\n",
       "Ecuador                194\n",
       "Germany                146\n",
       "Uruguay                119\n",
       "Portugal                93\n",
       "Russia                  76\n",
       "Costa Rica              53\n",
       "Japan                   50\n",
       "California              50\n",
       "China                   48\n",
       "Massachusetts           40\n",
       "Puerto Rico             39\n",
       "Switzerland             35\n",
       "Canada                  34\n",
       "El Salvador             29\n",
       "Bolivia                 24\n",
       "Nicaragua               22\n",
       "                     ...  \n",
       "Poland                   2\n",
       "Honduras                 2\n",
       "Ireland                  2\n",
       "Minnesota                2\n",
       "Maine                    1\n",
       "Egypt                    1\n",
       "New Caledonia            1\n",
       "Uganda                   1\n",
       "Nevada                   1\n",
       "Virginia                 1\n",
       "Serbia                   1\n",
       "New Hampshire            1\n",
       "Utah                     1\n",
       "Ukraine                  1\n",
       "Croatia                  1\n",
       "Hong Kong                1\n",
       "Alabama                  1\n",
       "Turkey                   1\n",
       "Arizona                  1\n",
       "Kenya                    1\n",
       "Louisiana                1\n",
       "Kiribati                 1\n",
       "Colorado                 1\n",
       "Saint-Martin             1\n",
       "Cambodia                 1\n",
       "Nebraska                 1\n",
       "Kentucky                 1\n",
       "Equatorial Guinea        1\n",
       "Sierra Leone             1\n",
       "Ohio                     1\n",
       "Name: PAIS_EJEMPLAR, dtype: int64"
      ]
     },
     "execution_count": 16,
     "metadata": {},
     "output_type": "execute_result"
    }
   ],
   "source": [
    "autores_df['PAIS_EJEMPLAR'].value_counts()"
   ]
  },
  {
   "cell_type": "code",
   "execution_count": 17,
   "metadata": {
    "collapsed": false
   },
   "outputs": [
    {
     "data": {
      "text/plain": [
       "11440"
      ]
     },
     "execution_count": 17,
     "metadata": {},
     "output_type": "execute_result"
    }
   ],
   "source": [
    "autores_df['NOMBRE_LOCALIZADO'].nunique()"
   ]
  },
  {
   "cell_type": "code",
   "execution_count": 18,
   "metadata": {
    "collapsed": false
   },
   "outputs": [
    {
     "data": {
      "text/plain": [
       "William Shakespeare               381\n",
       "Gabriel García Márquez            367\n",
       "Jules Verne                       220\n",
       "Jorge Luis Borges                 216\n",
       "Miguel de Cervantes               213\n",
       "Isaac Asimov                      206\n",
       "Oscar Wilde                       194\n",
       "Agatha Christie                   178\n",
       "Julio Cortázar                    176\n",
       "Charles Dickens                   170\n",
       "Franz Kafka                       169\n",
       "Pablo Neruda                      167\n",
       "Mario Vargas Llosa                162\n",
       "Edgar Allan Poe                   154\n",
       "Friedrich Nietzsche               153\n",
       "Stefan Zweig                      149\n",
       "Octavio Paz                       147\n",
       "Robert Louis Stevenson            141\n",
       "Mario Benedetti                   134\n",
       "Federico García Lorca             133\n",
       "Leonard Huxley                    132\n",
       "Hans Christian Andersen           132\n",
       "Jean Paul                         131\n",
       "Honoré de Balzac                  129\n",
       "Hermann Hesse                     123\n",
       "Aristóteles                       122\n",
       "Arthur Conan Doyle                122\n",
       "Carlos Fuentes                    121\n",
       "Thomas Mann                       121\n",
       "Mark Twain                        121\n",
       "                                 ... \n",
       "Jean-Pierre Limosin                 1\n",
       "Ana Cristina Herreros Ferreira      1\n",
       "Walter Bagehot                      1\n",
       "Tudor Arghezi                       1\n",
       "Gregorio Morales Villena            1\n",
       "Carlos Nejar                        1\n",
       "Ken Bruen                           1\n",
       "Dan Lungu                           1\n",
       "John Bowen                          1\n",
       "Philippe Grimbert                   1\n",
       "Ingrid Strobl                       1\n",
       "Ben Lerner                          1\n",
       "Deniz Kandiyoti                     1\n",
       "Blake Snyder                        1\n",
       "Concha Espina                       1\n",
       "Alki Zei                            1\n",
       "Steve Berry                         1\n",
       "Vincent Cuvellier                   1\n",
       "Edmond Pilon                        1\n",
       "Theresa Breslin                     1\n",
       "Shani Mootoo                        1\n",
       "Thomas Kelly                        1\n",
       "Leopold Infeld                      1\n",
       "Olga Rodríguez                      1\n",
       "Pedro Bloch                         1\n",
       "Multatuli                           1\n",
       "Alice Kaplan                        1\n",
       "Roberto Mascaró                     1\n",
       "Fabian Grégoire                     1\n",
       "Harry Bernstein                     1\n",
       "Name: NOMBRE_LOCALIZADO, dtype: int64"
      ]
     },
     "execution_count": 18,
     "metadata": {},
     "output_type": "execute_result"
    }
   ],
   "source": [
    "autores_df['NOMBRE_LOCALIZADO'].value_counts()"
   ]
  },
  {
   "cell_type": "code",
   "execution_count": 19,
   "metadata": {
    "collapsed": false
   },
   "outputs": [
    {
     "data": {
      "text/plain": [
       "146"
      ]
     },
     "execution_count": 19,
     "metadata": {},
     "output_type": "execute_result"
    }
   ],
   "source": [
    "autores_df['PAIS_AUTOR'].nunique()"
   ]
  },
  {
   "cell_type": "code",
   "execution_count": 20,
   "metadata": {
    "collapsed": false
   },
   "outputs": [
    {
     "data": {
      "text/plain": [
       "United States            9525\n",
       "Spain                    7869\n",
       "United Kingdom           6818\n",
       "Francia                  5988\n",
       "Colombia                 3450\n",
       "Germany                  3327\n",
       "Italy                    2774\n",
       "Argentina                2707\n",
       "Mexico                   1943\n",
       "Cuba                     1027\n",
       "Chile                     923\n",
       "Austria                   910\n",
       "Belgium                   910\n",
       "Peru                      897\n",
       "Ireland                   839\n",
       "Russia                    777\n",
       "Brazil                    749\n",
       "Uruguay                   732\n",
       "India                     632\n",
       "Poland                    612\n",
       "Switzerland               516\n",
       "Canada                    511\n",
       "Venezuela                 475\n",
       "Ukraine                   437\n",
       "Czech Republic            399\n",
       "Japan                     362\n",
       "Portugal                  355\n",
       "Greece                    318\n",
       "Netherlands               299\n",
       "Algeria                   269\n",
       "                         ... \n",
       "Taiwan                      3\n",
       "Trinidad and Tobago         3\n",
       "Guyana                      3\n",
       "Uganda                      3\n",
       "Estonia                     3\n",
       "Cambodia                    2\n",
       "Benin                       2\n",
       "France                      2\n",
       "Sudan                       2\n",
       "Cyprus                      2\n",
       "Aruba                       2\n",
       "Republic of the Congo       2\n",
       "The Bahamas                 2\n",
       "Iraq                        2\n",
       "Moldova                     2\n",
       "Guinea                      2\n",
       "Monaco                      1\n",
       "Jordan                      1\n",
       "Belgian Congo               1\n",
       "Swaziland                   1\n",
       "Burkina Faso                1\n",
       "Kosovo                      1\n",
       "Ethiopia                    1\n",
       "Mali                        1\n",
       "Kuwait                      1\n",
       "Malaysia                    1\n",
       "Tajikistan                  1\n",
       "Sierra Leone                1\n",
       "Republic of Macedonia       1\n",
       "Equatorial Guinea           1\n",
       "Name: PAIS_AUTOR, dtype: int64"
      ]
     },
     "execution_count": 20,
     "metadata": {},
     "output_type": "execute_result"
    }
   ],
   "source": [
    "autores_df['PAIS_AUTOR'].value_counts()"
   ]
  },
  {
   "cell_type": "markdown",
   "metadata": {},
   "source": [
    "# Rutas"
   ]
  },
  {
   "cell_type": "code",
   "execution_count": 21,
   "metadata": {
    "collapsed": false
   },
   "outputs": [
    {
     "data": {
      "text/plain": [
       "146"
      ]
     },
     "execution_count": 21,
     "metadata": {},
     "output_type": "execute_result"
    }
   ],
   "source": [
    "autores_df['PAIS_AUTOR'].nunique()"
   ]
  },
  {
   "cell_type": "code",
   "execution_count": 22,
   "metadata": {
    "collapsed": false
   },
   "outputs": [
    {
     "data": {
      "text/plain": [
       "United States     9525\n",
       "Spain             7869\n",
       "United Kingdom    6818\n",
       "Francia           5988\n",
       "Colombia          3450\n",
       "Name: PAIS_AUTOR, dtype: int64"
      ]
     },
     "execution_count": 22,
     "metadata": {},
     "output_type": "execute_result"
    }
   ],
   "source": [
    "autores_df['PAIS_AUTOR'].value_counts().head()"
   ]
  },
  {
   "cell_type": "code",
   "execution_count": 23,
   "metadata": {
    "collapsed": false
   },
   "outputs": [
    {
     "data": {
      "text/plain": [
       "107"
      ]
     },
     "execution_count": 23,
     "metadata": {},
     "output_type": "execute_result"
    }
   ],
   "source": [
    "autores_df['PAIS_EJEMPLAR'].nunique()"
   ]
  },
  {
   "cell_type": "code",
   "execution_count": 24,
   "metadata": {
    "collapsed": false
   },
   "outputs": [
    {
     "data": {
      "text/plain": [
       "Spain            32224\n",
       "Colombia          8009\n",
       "Argentina         6227\n",
       "Mexico            5390\n",
       "United States     2382\n",
       "Name: PAIS_EJEMPLAR, dtype: int64"
      ]
     },
     "execution_count": 24,
     "metadata": {},
     "output_type": "execute_result"
    }
   ],
   "source": [
    "autores_df['PAIS_EJEMPLAR'].value_counts().head()"
   ]
  },
  {
   "cell_type": "code",
   "execution_count": 25,
   "metadata": {
    "collapsed": false
   },
   "outputs": [
    {
     "name": "stdout",
     "output_type": "stream",
     "text": [
      "CPU times: user 8.89 s, sys: 27.6 ms, total: 8.92 s\n",
      "Wall time: 8.91 s\n"
     ]
    }
   ],
   "source": [
    "%%time\n",
    "\n",
    "all_routes = []\n",
    "for i, x in autores_df.iterrows():\n",
    "    geoloc_autor = x['GEOLOC_CAPITAL_AUTOR']\n",
    "    geoloc_ejemplar = x['GEOLOC_CAPITAL_EJEMPLAR']\n",
    "    all_routes.append((coord_place_d[geoloc_autor], coord_place_d[geoloc_ejemplar]))"
   ]
  },
  {
   "cell_type": "code",
   "execution_count": 26,
   "metadata": {
    "collapsed": false
   },
   "outputs": [],
   "source": [
    "cycles = [r for r in all_routes if r[0] == r[1]]\n",
    "routes = [r for r in all_routes if r[0] != r[1]]"
   ]
  },
  {
   "cell_type": "code",
   "execution_count": 27,
   "metadata": {
    "collapsed": false
   },
   "outputs": [],
   "source": [
    "cycles_c = Counter(cycles)\n",
    "routes_c = Counter(routes)"
   ]
  },
  {
   "cell_type": "code",
   "execution_count": 28,
   "metadata": {
    "collapsed": false
   },
   "outputs": [
    {
     "data": {
      "text/plain": [
       "43"
      ]
     },
     "execution_count": 28,
     "metadata": {},
     "output_type": "execute_result"
    }
   ],
   "source": [
    "len(cycles_c)"
   ]
  },
  {
   "cell_type": "code",
   "execution_count": 29,
   "metadata": {
    "collapsed": false
   },
   "outputs": [
    {
     "data": {
      "text/plain": [
       "1208"
      ]
     },
     "execution_count": 29,
     "metadata": {},
     "output_type": "execute_result"
    }
   ],
   "source": [
    "len(routes_c)"
   ]
  },
  {
   "cell_type": "code",
   "execution_count": 30,
   "metadata": {
    "collapsed": true
   },
   "outputs": [],
   "source": [
    "top_cycles = cycles_c.most_common()\n",
    "top_routes = routes_c.most_common()"
   ]
  },
  {
   "cell_type": "code",
   "execution_count": 31,
   "metadata": {
    "collapsed": false
   },
   "outputs": [
    {
     "data": {
      "text/plain": [
       "[(('Spain', 'Spain'), 6420),\n",
       " (('Colombia', 'Colombia'), 2883),\n",
       " (('Mexico', 'Mexico'), 1364),\n",
       " (('Argentina', 'Argentina'), 1346),\n",
       " (('United States', 'United States'), 949),\n",
       " (('Francia', 'Francia'), 766),\n",
       " (('United Kingdom', 'United Kingdom'), 685),\n",
       " (('Venezuela', 'Venezuela'), 280),\n",
       " (('Chile', 'Chile'), 247),\n",
       " (('Brazil', 'Brazil'), 239),\n",
       " (('Cuba', 'Cuba'), 223),\n",
       " (('Peru', 'Peru'), 199),\n",
       " (('Italy', 'Italy'), 145),\n",
       " (('Ecuador', 'Ecuador'), 99),\n",
       " (('Uruguay', 'Uruguay'), 79),\n",
       " (('Russia', 'Russia'), 65),\n",
       " (('Portugal', 'Portugal'), 64),\n",
       " (('Germany', 'Germany'), 55),\n",
       " (('Japan', 'Japan'), 29),\n",
       " (('Costa Rica', 'Costa Rica'), 25),\n",
       " (('Bolivia', 'Bolivia'), 20),\n",
       " (('El Salvador', 'El Salvador'), 13),\n",
       " (('Dominican Republic', 'Dominican Republic'), 10),\n",
       " (('Nicaragua', 'Nicaragua'), 10),\n",
       " (('Panama', 'Panama'), 7),\n",
       " (('Switzerland', 'Switzerland'), 5),\n",
       " (('Guatemala', 'Guatemala'), 5),\n",
       " (('Paraguay', 'Paraguay'), 4),\n",
       " (('China', 'China'), 3),\n",
       " (('Canada', 'Canada'), 3),\n",
       " (('Czech Republic', 'Czech Republic'), 3),\n",
       " (('Iran', 'Iran'), 2),\n",
       " (('Belgium', 'Belgium'), 2),\n",
       " (('Austria', 'Austria'), 2),\n",
       " (('India', 'India'), 2),\n",
       " (('Jamaica', 'Jamaica'), 2),\n",
       " (('Netherlands', 'Netherlands'), 2),\n",
       " (('Denmark', 'Denmark'), 2),\n",
       " (('Norway', 'Norway'), 2),\n",
       " (('Honduras', 'Honduras'), 1),\n",
       " (('Ireland', 'Ireland'), 1),\n",
       " (('Hungary', 'Hungary'), 1),\n",
       " (('Sweden', 'Sweden'), 1)]"
      ]
     },
     "execution_count": 31,
     "metadata": {},
     "output_type": "execute_result"
    }
   ],
   "source": [
    "top_cycles"
   ]
  },
  {
   "cell_type": "code",
   "execution_count": 32,
   "metadata": {
    "collapsed": false
   },
   "outputs": [
    {
     "data": {
      "text/plain": [
       "[(('United States', 'Spain'), 5228),\n",
       " (('United Kingdom', 'Spain'), 3912),\n",
       " (('Francia', 'Spain'), 3166),\n",
       " (('Germany', 'Spain'), 2009),\n",
       " (('Italy', 'Spain'), 1723),\n",
       " (('United States', 'Colombia'), 900),\n",
       " (('United States', 'Argentina'), 829),\n",
       " (('Francia', 'Argentina'), 785),\n",
       " (('Argentina', 'Spain'), 701),\n",
       " (('United States', 'Mexico'), 639),\n",
       " (('Austria', 'Spain'), 563),\n",
       " (('Spain', 'Colombia'), 538),\n",
       " (('Belgium', 'Spain'), 516),\n",
       " (('United Kingdom', 'Colombia'), 496),\n",
       " (('United Kingdom', 'Argentina'), 491),\n",
       " (('Francia', 'Mexico'), 482),\n",
       " (('United Kingdom', 'Mexico'), 481),\n",
       " (('United Kingdom', 'United States'), 475),\n",
       " (('Russia', 'Spain'), 448),\n",
       " (('Ireland', 'Spain'), 439),\n",
       " (('Poland', 'Spain'), 406),\n",
       " (('Francia', 'Colombia'), 389),\n",
       " (('Germany', 'Argentina'), 388),\n",
       " (('Cuba', 'Spain'), 387),\n",
       " (('Spain', 'Argentina'), 347),\n",
       " (('Argentina', 'Colombia'), 342),\n",
       " (('Switzerland', 'Spain'), 338),\n",
       " (('India', 'Spain'), 336),\n",
       " (('Spain', 'Mexico'), 319),\n",
       " (('United States', 'New York (State)'), 314),\n",
       " (('Mexico', 'Spain'), 312),\n",
       " (('Peru', 'Spain'), 309),\n",
       " (('Italy', 'Argentina'), 293),\n",
       " (('Chile', 'Spain'), 289),\n",
       " (('Canada', 'Spain'), 279),\n",
       " (('United States', 'United Kingdom'), 272),\n",
       " (('Ukraine', 'Spain'), 266),\n",
       " (('Germany', 'Mexico'), 248),\n",
       " (('Netherlands', 'Spain'), 232),\n",
       " (('Colombia', 'Spain'), 224),\n",
       " (('Czech Republic', 'Spain'), 218),\n",
       " (('Japan', 'Spain'), 214),\n",
       " (('Uruguay', 'Spain'), 214),\n",
       " (('Italy', 'Mexico'), 211),\n",
       " (('Germany', 'Colombia'), 208),\n",
       " (('Italy', 'Colombia'), 206),\n",
       " (('Sweden', 'Spain'), 192),\n",
       " (('Argentina', 'Mexico'), 187),\n",
       " (('Mexico', 'Colombia'), 181),\n",
       " (('Portugal', 'Spain'), 170),\n",
       " (('Brazil', 'Spain'), 166),\n",
       " (('Greece', 'Spain'), 163),\n",
       " (('Romania', 'Spain'), 153),\n",
       " (('Peru', 'Colombia'), 150),\n",
       " (('Chile', 'Colombia'), 148),\n",
       " (('Cuba', 'Colombia'), 147),\n",
       " (('Uruguay', 'Argentina'), 147),\n",
       " (('Australia', 'Spain'), 146),\n",
       " (('Germany', 'United States'), 139),\n",
       " (('Denmark', 'Spain'), 136),\n",
       " (('Brazil', 'Colombia'), 128),\n",
       " (('Uruguay', 'Colombia'), 125),\n",
       " (('Belgium', 'Colombia'), 125),\n",
       " (('Egypt', 'Spain'), 118),\n",
       " (('Algeria', 'Spain'), 116),\n",
       " (('Israel', 'Spain'), 111),\n",
       " (('Cuba', 'Mexico'), 109),\n",
       " (('Francia', 'United States'), 106),\n",
       " (('Austria', 'Argentina'), 100),\n",
       " (('Norway', 'Spain'), 99),\n",
       " (('Morocco', 'Spain'), 99),\n",
       " (('Ireland', 'Argentina'), 90),\n",
       " (('Brazil', 'Argentina'), 90),\n",
       " (('Belgium', 'Argentina'), 90),\n",
       " (('Uruguay', 'Mexico'), 87),\n",
       " (('Colombia', 'Mexico'), 87),\n",
       " (('India', 'Argentina'), 86),\n",
       " (('Ireland', 'Colombia'), 85),\n",
       " (('Russia', 'Argentina'), 85),\n",
       " (('Hungary', 'Spain'), 84),\n",
       " (('Chile', 'Argentina'), 83),\n",
       " (('Peru', 'Argentina'), 81),\n",
       " (('Ireland', 'United Kingdom'), 81),\n",
       " (('Peru', 'Mexico'), 80),\n",
       " (('Austria', 'Mexico'), 80),\n",
       " (('Germany', 'Francia'), 79),\n",
       " (('Nicaragua', 'Spain'), 78),\n",
       " (('India', 'Colombia'), 74),\n",
       " (('Panama', 'Mexico'), 73),\n",
       " (('United Kingdom', 'New York (State)'), 73),\n",
       " (('Belgium', 'Francia'), 70),\n",
       " (('Chile', 'Mexico'), 69),\n",
       " (('Venezuela', 'Colombia'), 67),\n",
       " (('Iran', 'Spain'), 65),\n",
       " (('Turkey', 'Spain'), 65),\n",
       " (('Francia', 'United Kingdom'), 64),\n",
       " (('Poland', 'Argentina'), 64),\n",
       " (('Francia', 'Chile'), 64),\n",
       " (('South Africa', 'Spain'), 61),\n",
       " (('Prussia', 'Spain'), 61),\n",
       " (('Venezuela', 'Spain'), 60),\n",
       " (('Portugal', 'Colombia'), 59),\n",
       " (('Algeria', 'Argentina'), 59),\n",
       " (('Cuba', 'Argentina'), 59),\n",
       " (('Belgium', 'Mexico'), 59),\n",
       " (('Brazil', 'Mexico'), 59),\n",
       " (('China', 'Spain'), 59),\n",
       " (('Vietnam', 'Spain'), 57),\n",
       " (('Francia', 'Venezuela'), 57),\n",
       " (('Austria', 'Colombia'), 56),\n",
       " (('Switzerland', 'Argentina'), 55),\n",
       " (('Czech Republic', 'Argentina'), 55),\n",
       " (('Canada', 'Colombia'), 53),\n",
       " (('Germany', 'United Kingdom'), 53),\n",
       " (('Ireland', 'United States'), 52),\n",
       " (('Poland', 'Mexico'), 50),\n",
       " (('Denmark', 'Colombia'), 49),\n",
       " (('Colombia', 'Argentina'), 49),\n",
       " (('United States', 'Francia'), 48),\n",
       " (('United States', 'Venezuela'), 47),\n",
       " (('Canada', 'United States'), 46),\n",
       " (('Greece', 'Argentina'), 45),\n",
       " (('Finland', 'Spain'), 45),\n",
       " (('United States', 'Chile'), 45),\n",
       " (('Ukraine', 'Argentina'), 45),\n",
       " (('Russia', 'Colombia'), 44),\n",
       " (('Germany', 'Chile'), 44),\n",
       " (('Italy', 'United States'), 44),\n",
       " (('Italy', 'Francia'), 43),\n",
       " (('Czech Republic', 'Colombia'), 41),\n",
       " (('India', 'United States'), 41),\n",
       " (('Spain', 'Cuba'), 40),\n",
       " (('New Zealand', 'Spain'), 40),\n",
       " (('Algeria', 'Francia'), 40),\n",
       " (('Nicaragua', 'Colombia'), 39),\n",
       " (('Argentina', 'Venezuela'), 38),\n",
       " (('Spain', 'United States'), 38),\n",
       " (('Lithuania', 'Spain'), 37),\n",
       " (('Canada', 'Argentina'), 36),\n",
       " (('United Kingdom', 'Chile'), 36),\n",
       " (('Bulgaria', 'Spain'), 36),\n",
       " (('Colombia', 'Francia'), 35),\n",
       " (('Mexico', 'Argentina'), 35),\n",
       " (('Cuba', 'Venezuela'), 35),\n",
       " (('Russia', 'Mexico'), 34),\n",
       " (('India', 'United Kingdom'), 34),\n",
       " (('Russia', 'United States'), 34),\n",
       " (('United Kingdom', 'Francia'), 33),\n",
       " (('Nicaragua', 'Mexico'), 33),\n",
       " (('Ecuador', 'Colombia'), 32),\n",
       " (('Ireland', 'Mexico'), 32),\n",
       " (('Greece', 'Mexico'), 32),\n",
       " (('Ukraine', 'Colombia'), 31),\n",
       " (('Austria', 'United States'), 30),\n",
       " (('Ukraine', 'Mexico'), 30),\n",
       " (('Lebanon', 'Spain'), 30),\n",
       " (('India', 'Mexico'), 30),\n",
       " (('Italy', 'Venezuela'), 29),\n",
       " (('Spain', 'Venezuela'), 29),\n",
       " (('Panama', 'Spain'), 29),\n",
       " (('Spain', 'Chile'), 29),\n",
       " (('Canada', 'Mexico'), 29),\n",
       " (('Romania', 'Argentina'), 28),\n",
       " (('Sweden', 'Colombia'), 28),\n",
       " (('Venezuela', 'Mexico'), 28),\n",
       " (('Slovakia', 'Spain'), 28),\n",
       " (('Colombia', 'Venezuela'), 28),\n",
       " (('Australia', 'Mexico'), 28),\n",
       " (('Serbia', 'Spain'), 28),\n",
       " (('Austria', 'United Kingdom'), 27),\n",
       " (('Spain', 'Francia'), 27),\n",
       " (('United States', 'California'), 27),\n",
       " (('United Kingdom', 'Venezuela'), 27),\n",
       " (('Japan', 'United States'), 27),\n",
       " (('Angola', 'Colombia'), 27),\n",
       " (('Portugal', 'Mexico'), 26),\n",
       " (('Poland', 'United States'), 26),\n",
       " (('Uruguay', 'Venezuela'), 25),\n",
       " (('Nigeria', 'Spain'), 25),\n",
       " (('Colombia', 'United States'), 25),\n",
       " (('Switzerland', 'Mexico'), 25),\n",
       " (('United Kingdom', 'Italy'), 24),\n",
       " (('Czech Republic', 'Mexico'), 24),\n",
       " (('Honduras', 'Mexico'), 24),\n",
       " (('Italy', 'United Kingdom'), 24),\n",
       " (('United States', 'Puerto Rico'), 23),\n",
       " (('Canada', 'United Kingdom'), 23),\n",
       " (('Hungary', 'Argentina'), 23),\n",
       " (('Japan', 'Argentina'), 23),\n",
       " (('Algeria', 'Mexico'), 22),\n",
       " (('United States', 'Massachusetts'), 22),\n",
       " (('Australia', 'Argentina'), 22),\n",
       " (('Argentina', 'Cuba'), 22),\n",
       " (('United States', 'Cuba'), 21),\n",
       " (('Honduras', 'Spain'), 21),\n",
       " (('Peru', 'Venezuela'), 21),\n",
       " (('Ukraine', 'United States'), 21),\n",
       " (('Chile', 'Venezuela'), 20),\n",
       " (('Poland', 'Colombia'), 20),\n",
       " (('Panama', 'Colombia'), 20),\n",
       " (('Australia', 'United States'), 20),\n",
       " (('Uruguay', 'Cuba'), 20),\n",
       " (('Australia', 'Colombia'), 20),\n",
       " (('Japan', 'Colombia'), 19),\n",
       " (('Israel', 'Mexico'), 19),\n",
       " (('Argentina', 'United States'), 19),\n",
       " (('Iran', 'Colombia'), 19),\n",
       " (('Eritrea', 'Brazil'), 19),\n",
       " (('Morocco', 'Argentina'), 19),\n",
       " (('Switzerland', 'Colombia'), 19),\n",
       " (('United States', 'Germany'), 19),\n",
       " (('Italy', 'Brazil'), 19),\n",
       " (('Cuba', 'United States'), 19),\n",
       " (('Peru', 'Chile'), 19),\n",
       " (('Tunisia', 'Spain'), 18),\n",
       " (('Ottoman Empire', 'Spain'), 18),\n",
       " (('Egypt', 'Mexico'), 18),\n",
       " (('Spain', 'Peru'), 18),\n",
       " (('Argentina', 'Chile'), 18),\n",
       " (('Austria', 'Chile'), 18),\n",
       " (('Francia', 'Italy'), 18),\n",
       " (('Germany', 'Venezuela'), 18),\n",
       " (('Pakistan', 'Spain'), 18),\n",
       " (('Greece', 'United Kingdom'), 18),\n",
       " (('Syria', 'Spain'), 18),\n",
       " (('Russia', 'United Kingdom'), 17),\n",
       " (('Kenya', 'Spain'), 17),\n",
       " (('Hungary', 'Mexico'), 17),\n",
       " (('Russia', 'Francia'), 17),\n",
       " (('Greece', 'Francia'), 17),\n",
       " (('Switzerland', 'Francia'), 17),\n",
       " (('Dominican Republic', 'Spain'), 17),\n",
       " (('Greece', 'Colombia'), 17),\n",
       " (('Nicaragua', 'Argentina'), 16),\n",
       " (('Turkey', 'Argentina'), 16),\n",
       " (('Latvia', 'Spain'), 16),\n",
       " (('Czech Republic', 'United States'), 16),\n",
       " (('Colombia', 'Cuba'), 16),\n",
       " (('Denmark', 'Argentina'), 16),\n",
       " (('Dominican Republic', 'Colombia'), 16),\n",
       " (('Hungary', 'United States'), 16),\n",
       " (('Chile', 'Peru'), 16),\n",
       " (('Romania', 'Mexico'), 16),\n",
       " (('Colombia', 'Germany'), 16),\n",
       " (('Switzerland', 'United States'), 16),\n",
       " (('Netherlands', 'Colombia'), 15),\n",
       " (('Colombia', 'Portugal'), 15),\n",
       " (('Germany', 'Italy'), 15),\n",
       " (('Chile', 'Cuba'), 15),\n",
       " (('Germany', 'New York (State)'), 15),\n",
       " (('New Zealand', 'Argentina'), 15),\n",
       " (('Ukraine', 'United Kingdom'), 15),\n",
       " (('Belarus', 'Spain'), 14),\n",
       " (('Mexico', 'Venezuela'), 14),\n",
       " (('Iceland', 'Spain'), 14),\n",
       " (('Ireland', 'Francia'), 14),\n",
       " (('Switzerland', 'United Kingdom'), 14),\n",
       " (('Guatemala', 'Spain'), 14),\n",
       " (('Ecuador', 'Spain'), 14),\n",
       " (('United States', 'Washington (State)'), 14),\n",
       " (('Dominican Republic', 'Mexico'), 14),\n",
       " (('Sweden', 'Mexico'), 14),\n",
       " (('Sri Lanka', 'Spain'), 14),\n",
       " (('Japan', 'Mexico'), 14),\n",
       " (('Ecuador', 'Argentina'), 13),\n",
       " (('Algeria', 'United States'), 13),\n",
       " (('Algeria', 'Colombia'), 13),\n",
       " (('Egypt', 'Argentina'), 13),\n",
       " (('Myanmar', 'Spain'), 13),\n",
       " (('Denmark', 'Mexico'), 13),\n",
       " (('Netherlands', 'Venezuela'), 12),\n",
       " (('United States', 'Florida'), 12),\n",
       " (('Eritrea', 'Colombia'), 12),\n",
       " (('Bolivia', 'Spain'), 12),\n",
       " (('Australia', 'United Kingdom'), 12),\n",
       " (('Madagascar', 'Spain'), 12),\n",
       " (('Francia', 'Cuba'), 12),\n",
       " (('Ecuador', 'Mexico'), 12),\n",
       " (('Portugal', 'Argentina'), 12),\n",
       " (('Belgium', 'United States'), 12),\n",
       " (('Uruguay', 'Chile'), 12),\n",
       " (('Turkey', 'Colombia'), 12),\n",
       " (('Ireland', 'New York (State)'), 12),\n",
       " (('South Africa', 'Colombia'), 12),\n",
       " (('Peru', 'United States'), 12),\n",
       " (('Poland', 'United Kingdom'), 12),\n",
       " (('Canada', 'Venezuela'), 12),\n",
       " (('Japan', 'New York (State)'), 12),\n",
       " (('Peru', 'Cuba'), 11),\n",
       " (('Brazil', 'Ecuador'), 11),\n",
       " (('Canada', 'New York (State)'), 11),\n",
       " (('United Kingdom', 'Brazil'), 11),\n",
       " (('Romania', 'Francia'), 11),\n",
       " (('Prussia', 'Argentina'), 11),\n",
       " (('Czech Republic', 'United Kingdom'), 11),\n",
       " (('Venezuela', 'Cuba'), 11),\n",
       " (('Sweden', 'Chile'), 11),\n",
       " (('Venezuela', 'Argentina'), 11),\n",
       " (('Hungary', 'United Kingdom'), 11),\n",
       " (('Denmark', 'United States'), 11),\n",
       " (('Hungary', 'Colombia'), 11),\n",
       " (('Bulgaria', 'Mexico'), 11),\n",
       " (('United States', 'Brazil'), 11),\n",
       " (('Tunisia', 'Mexico'), 11),\n",
       " (('Afghanistan', 'Spain'), 10),\n",
       " (('Andorra', 'Spain'), 10),\n",
       " (('Czech Republic', 'Francia'), 10),\n",
       " (('Austria', 'Germany'), 10),\n",
       " (('Ghana', 'Spain'), 10),\n",
       " (('Honduras', 'Colombia'), 10),\n",
       " (('Bulgaria', 'Argentina'), 10),\n",
       " (('United States', 'Italy'), 10),\n",
       " (('Indonesia', 'Spain'), 10),\n",
       " (('India', 'Chile'), 10),\n",
       " (('South Africa', 'United States'), 10),\n",
       " (('Ecuador', 'Venezuela'), 10),\n",
       " (('Netherlands', 'Mexico'), 10),\n",
       " (('Saint Lucia', 'Spain'), 10),\n",
       " (('Poland', 'Germany'), 10),\n",
       " (('Morocco', 'Colombia'), 10),\n",
       " (('Spain', 'Ecuador'), 10),\n",
       " (('Norway', 'Argentina'), 10),\n",
       " (('Brazil', 'Venezuela'), 10),\n",
       " (('Israel', 'Argentina'), 9),\n",
       " (('Colombia', 'Peru'), 9),\n",
       " (('Lithuania', 'Francia'), 9),\n",
       " (('Sweden', 'United States'), 9),\n",
       " (('Vietnam', 'Argentina'), 9),\n",
       " (('Greece', 'United States'), 9),\n",
       " (('Netherlands', 'Argentina'), 9),\n",
       " (('Australia', 'Chile'), 9),\n",
       " (('New Zealand', 'United Kingdom'), 9),\n",
       " (('New Zealand', 'Mexico'), 9),\n",
       " (('Egypt', 'United States'), 9),\n",
       " (('Portugal', 'Venezuela'), 9),\n",
       " (('Thailand', 'Spain'), 9),\n",
       " (('Italy', 'Chile'), 9),\n",
       " (('Belgium', 'New York (State)'), 9),\n",
       " (('Bolivia', 'Mexico'), 8),\n",
       " (('United Kingdom', 'California'), 8),\n",
       " (('Romania', 'United States'), 8),\n",
       " (('Russia', 'China'), 8),\n",
       " (('Venezuela', 'Chile'), 8),\n",
       " (('Turkey', 'Mexico'), 8),\n",
       " (('Croatia', 'Spain'), 8),\n",
       " (('Francia', 'Germany'), 8),\n",
       " (('Francia', 'Switzerland'), 8),\n",
       " (('Belgium', 'Venezuela'), 8),\n",
       " (('Prussia', 'Colombia'), 8),\n",
       " (('Switzerland', 'Chile'), 8),\n",
       " (('Malta', 'Spain'), 8),\n",
       " (('Argentina', 'Francia'), 8),\n",
       " (('Paraguay', 'Spain'), 8),\n",
       " (('Francia', 'Canada'), 8),\n",
       " (('Iran', 'United Kingdom'), 8),\n",
       " (('Prussia', 'Mexico'), 8),\n",
       " (('Brazil', 'Cuba'), 8),\n",
       " (('Brazil', 'Myanmar'), 8),\n",
       " (('Chile', 'China'), 8),\n",
       " (('Germany', 'Cuba'), 8),\n",
       " (('Brazil', 'United States'), 8),\n",
       " (('United States', 'Ecuador'), 8),\n",
       " (('Germany', 'Switzerland'), 8),\n",
       " (('Bolivia', 'Colombia'), 8),\n",
       " (('Jersey', 'Spain'), 8),\n",
       " (('Latvia', 'Argentina'), 7),\n",
       " (('Angola', 'Spain'), 7),\n",
       " (('Lithuania', 'Argentina'), 7),\n",
       " (('Zambia', 'Argentina'), 7),\n",
       " (('Cuba', 'Ecuador'), 7),\n",
       " (('Iran', 'Francia'), 7),\n",
       " (('Iran', 'New York (State)'), 7),\n",
       " (('Costa Rica', 'Mexico'), 7),\n",
       " (('Norway', 'Mexico'), 7),\n",
       " (('Mozambique', 'Spain'), 7),\n",
       " (('Chile', 'United States'), 7),\n",
       " (('Mexico', 'United States'), 7),\n",
       " (('Syria', 'Colombia'), 7),\n",
       " (('Japan', 'United Kingdom'), 7),\n",
       " (('United States', 'China'), 7),\n",
       " (('Mozambique', 'Portugal'), 7),\n",
       " (('United States', 'Canada'), 7),\n",
       " (('Romania', 'Venezuela'), 7),\n",
       " (('Romania', 'United Kingdom'), 7),\n",
       " (('Bulgaria', 'Francia'), 7),\n",
       " (('Cuba', 'Chile'), 7),\n",
       " (('Philippines', 'Spain'), 7),\n",
       " (('Colombia', 'Brazil'), 7),\n",
       " (('Mexico', 'Chile'), 7),\n",
       " (('Egypt', 'United Kingdom'), 7),\n",
       " (('Chile', 'Ecuador'), 7),\n",
       " (('Colombia', 'New York (State)'), 7),\n",
       " (('Ireland', 'Chile'), 7),\n",
       " (('Brazil', 'Chile'), 7),\n",
       " (('Spain', 'United Kingdom'), 7),\n",
       " (('Guatemala', 'Mexico'), 7),\n",
       " (('South Africa', 'Mexico'), 7),\n",
       " (('South Africa', 'United Kingdom'), 7),\n",
       " (('Francia', 'New York (State)'), 6),\n",
       " (('Kenya', 'New York (State)'), 6),\n",
       " (('New Zealand', 'Colombia'), 6),\n",
       " (('Vietnam', 'Francia'), 6),\n",
       " (('Francia', 'Belgium'), 6),\n",
       " (('Nigeria', 'United States'), 6),\n",
       " (('Italy', 'Ecuador'), 6),\n",
       " (('Israel', 'United States'), 6),\n",
       " (('Haiti', 'Spain'), 6),\n",
       " (('Spain', 'Uruguay'), 6),\n",
       " (('Portugal', 'Brazil'), 6),\n",
       " (('Singapore', 'Spain'), 6),\n",
       " (('Germany', 'Brazil'), 6),\n",
       " (('Cuba', 'Puerto Rico'), 6),\n",
       " (('Jamaica', 'Spain'), 6),\n",
       " (('Russia', 'Chile'), 6),\n",
       " (('United Kingdom', 'Massachusetts'), 6),\n",
       " (('Bolivia', 'Brazil'), 6),\n",
       " (('United Kingdom', 'Peru'), 6),\n",
       " (('Ecuador', 'Cuba'), 6),\n",
       " (('Cuba', 'Costa Rica'), 6),\n",
       " (('Paraguay', 'Argentina'), 6),\n",
       " (('Kingdom of Galicia and Lodomeria', 'Spain'), 6),\n",
       " (('Paraguay', 'Mexico'), 6),\n",
       " (('Belgium', 'United Kingdom'), 6),\n",
       " (('Libya', 'Spain'), 6),\n",
       " (('United States', 'Peru'), 6),\n",
       " (('United States', 'New Jersey'), 6),\n",
       " (('Netherlands', 'United States'), 6),\n",
       " (('El Salvador', 'Spain'), 6),\n",
       " (('Angola', 'Ecuador'), 6),\n",
       " (('Serbia', 'Mexico'), 6),\n",
       " (('Sweden', 'Argentina'), 6),\n",
       " (('China', 'Argentina'), 6),\n",
       " (('Dominican Republic', 'Argentina'), 6),\n",
       " (('United States', 'Connecticut'), 6),\n",
       " (('Latvia', 'United States'), 6),\n",
       " (('Finland', 'Mexico'), 6),\n",
       " (('Eritrea', 'Spain'), 5),\n",
       " (('Zambia', 'Spain'), 5),\n",
       " (('Venezuela', 'Francia'), 5),\n",
       " (('Indonesia', 'Tennessee'), 5),\n",
       " (('Poland', 'Francia'), 5),\n",
       " (('Senegal', 'Spain'), 5),\n",
       " (('Egypt', 'Colombia'), 5),\n",
       " (('Saint Lucia', 'United States'), 5),\n",
       " (('China', 'New York (State)'), 5),\n",
       " (('United States', 'Illinois'), 5),\n",
       " (('Ukraine', 'Francia'), 5),\n",
       " (('United Kingdom', 'Cuba'), 5),\n",
       " (('New Zealand', 'United States'), 5),\n",
       " (('Spain', 'Italy'), 5),\n",
       " (('Philippines', 'Colombia'), 5),\n",
       " (('Bolivia', 'Argentina'), 5),\n",
       " (('Francia', 'Peru'), 5),\n",
       " (('Iran', 'United States'), 5),\n",
       " (('South Korea', 'Spain'), 5),\n",
       " (('Egypt', 'Brazil'), 5),\n",
       " (('Slovenia', 'Spain'), 5),\n",
       " (('Morocco', 'Francia'), 5),\n",
       " (('Austria', 'Francia'), 5),\n",
       " (('Somalia', 'Spain'), 5),\n",
       " (('Germany', 'Netherlands'), 5),\n",
       " (('Finland', 'Argentina'), 5),\n",
       " (('Haiti', 'Colombia'), 5),\n",
       " (('Colombia', 'United Kingdom'), 5),\n",
       " (('Canada', 'Francia'), 5),\n",
       " (('Colombia', 'Italy'), 5),\n",
       " (('Uruguay', 'Russia'), 5),\n",
       " (('Myanmar', 'Colombia'), 5),\n",
       " (('Ireland', 'Ecuador'), 5),\n",
       " (('Ireland', 'Venezuela'), 5),\n",
       " (('Zimbabwe', 'Spain'), 5),\n",
       " (('Norway', 'United States'), 5),\n",
       " (('Japan', 'Francia'), 5),\n",
       " (('Russia', 'Cuba'), 5),\n",
       " (('Romania', 'Colombia'), 5),\n",
       " (('Germany', 'Canada'), 5),\n",
       " (('Francia', 'Ecuador'), 5),\n",
       " (('Dominican Republic', 'Venezuela'), 5),\n",
       " (('United Kingdom', 'Indiana'), 5),\n",
       " (('Norway', 'Colombia'), 5),\n",
       " (('Latvia', 'Mexico'), 5),\n",
       " (('Argentina', 'Brazil'), 4),\n",
       " (('Argentina', 'United Kingdom'), 4),\n",
       " (('Lithuania', 'United Kingdom'), 4),\n",
       " (('Cuba', 'Uruguay'), 4),\n",
       " (('Poland', 'Chile'), 4),\n",
       " (('Puerto Rico', 'United States'), 4),\n",
       " (('Ukraine', 'Chile'), 4),\n",
       " (('Antigua and Barbuda', 'Spain'), 4),\n",
       " (('Nicaragua', 'Venezuela'), 4),\n",
       " (('Mexico', 'Cuba'), 4),\n",
       " (('Francia', 'Brazil'), 4),\n",
       " (('Tunisia', 'Argentina'), 4),\n",
       " (('Israel', 'Colombia'), 4),\n",
       " (('Ottoman Empire', 'Argentina'), 4),\n",
       " (('Germany', 'Peru'), 4),\n",
       " (('United Kingdom', 'Costa Rica'), 4),\n",
       " (('Ottoman Empire', 'Mexico'), 4),\n",
       " (('Francia', 'China'), 4),\n",
       " (('Ireland', 'Italy'), 4),\n",
       " (('India', 'New York (State)'), 4),\n",
       " (('Italy', 'Germany'), 4),\n",
       " (('Nicaragua', 'Chile'), 4),\n",
       " (('Lithuania', 'Mexico'), 4),\n",
       " (('United States', 'Japan'), 4),\n",
       " (('Georgia', 'Spain'), 4),\n",
       " (('Albania', 'Spain'), 4),\n",
       " (('Italy', 'New York (State)'), 4),\n",
       " (('Iran', 'Mexico'), 4),\n",
       " (('Paraguay', 'Colombia'), 4),\n",
       " (('India', 'Finland'), 4),\n",
       " (('Uruguay', 'Japan'), 4),\n",
       " (('Italy', 'Cuba'), 4),\n",
       " (('Denmark', 'United Kingdom'), 4),\n",
       " (('Ukraine', 'Germany'), 4),\n",
       " (('Ivory Coast', 'Spain'), 4),\n",
       " (('Syria', 'Mexico'), 4),\n",
       " (('Zambia', 'Colombia'), 4),\n",
       " (('Dominica', 'Spain'), 4),\n",
       " (('Luxembourg', 'Spain'), 4),\n",
       " (('Slovakia', 'Argentina'), 4),\n",
       " (('Antigua and Barbuda', 'New York (State)'), 4),\n",
       " (('Ukraine', 'Brazil'), 4),\n",
       " (('Sri Lanka', 'United States'), 4),\n",
       " (('Nicaragua', 'Cuba'), 4),\n",
       " (('Bulgaria', 'United States'), 4),\n",
       " (('South Africa', 'Venezuela'), 4),\n",
       " (('Czech Republic', 'Germany'), 4),\n",
       " (('Denmark', 'Brazil'), 4),\n",
       " (('Francia', 'Uruguay'), 4),\n",
       " (('Greece', 'Japan'), 4),\n",
       " (('Netherlands', 'United Kingdom'), 4),\n",
       " (('Bosnia and Herzegovina', 'Spain'), 4),\n",
       " (('Bulgaria', 'Venezuela'), 4),\n",
       " (('Colombia', 'Ecuador'), 4),\n",
       " (('Costa Rica', 'Colombia'), 4),\n",
       " (('United States', 'Austria'), 4),\n",
       " (('Indonesia', 'Mexico'), 3),\n",
       " (('Czech Republic', 'Italy'), 3),\n",
       " (('Costa Rica', 'Spain'), 3),\n",
       " (('Panama', 'Venezuela'), 3),\n",
       " (('Egypt', 'Venezuela'), 3),\n",
       " (('Iceland', 'Argentina'), 3),\n",
       " (('Mexico', 'Peru'), 3),\n",
       " (('Australia', 'New York (State)'), 3),\n",
       " (('Panama', 'Argentina'), 3),\n",
       " (('Switzerland', 'Venezuela'), 3),\n",
       " (('Guatemala', 'Colombia'), 3),\n",
       " (('Belarus', 'United States'), 3),\n",
       " (('Nigeria', 'Colombia'), 3),\n",
       " (('Hungary', 'Francia'), 3),\n",
       " (('Latvia', 'United Kingdom'), 3),\n",
       " (('United Kingdom', 'New Jersey'), 3),\n",
       " (('Vietnam', 'Venezuela'), 3),\n",
       " (('Panama', 'Costa Rica'), 3),\n",
       " (('Jamaica', 'United Kingdom'), 3),\n",
       " (('Poland', 'Venezuela'), 3),\n",
       " (('Belgium', 'Cuba'), 3),\n",
       " (('Ottoman Empire', 'Colombia'), 3),\n",
       " (('Vietnam', 'Colombia'), 3),\n",
       " (('Japan', 'China'), 3),\n",
       " (('United States', 'Uruguay'), 3),\n",
       " (('Angola', 'Portugal'), 3),\n",
       " (('Uzbekistan', 'Spain'), 3),\n",
       " (('Nigeria', 'United Kingdom'), 3),\n",
       " (('Trinidad and Tobago', 'Spain'), 3),\n",
       " (('Spain', 'El Salvador'), 3),\n",
       " (('Switzerland', 'Italy'), 3),\n",
       " (('Germany', 'California'), 3),\n",
       " (('United States', 'Montenegro'), 3),\n",
       " (('Spain', 'Costa Rica'), 3),\n",
       " (('Romania', 'Chile'), 3),\n",
       " (('United Kingdom', 'Canada'), 3),\n",
       " (('Estonia', 'Spain'), 3),\n",
       " (('El Salvador', 'Colombia'), 3),\n",
       " (('Nicaragua', 'United States'), 3),\n",
       " (('China', 'United States'), 3),\n",
       " (('India', 'Francia'), 3),\n",
       " (('Switzerland', 'Germany'), 3),\n",
       " (('Uruguay', 'Ecuador'), 3),\n",
       " (('Colombia', 'Uruguay'), 3),\n",
       " (('Austria', 'Sweden'), 3),\n",
       " (('Spain', 'New York (State)'), 3),\n",
       " (('Canada', 'California'), 3),\n",
       " (('Australia', 'China'), 3),\n",
       " (('Finland', 'United States'), 3),\n",
       " (('China', 'Venezuela'), 3),\n",
       " (('Tanzania', 'Spain'), 3),\n",
       " (('Lithuania', 'United States'), 3),\n",
       " (('Uruguay', 'Francia'), 3),\n",
       " (('Croatia', 'Mexico'), 3),\n",
       " (('Greece', 'Chile'), 3),\n",
       " (('United States', 'Tennessee'), 3),\n",
       " (('Germany', 'Japan'), 3),\n",
       " (('Argentina', 'Uruguay'), 3),\n",
       " (('Northern Ireland', 'Argentina'), 3),\n",
       " (('Switzerland', 'New York (State)'), 3),\n",
       " (('Argentina', 'Netherlands'), 3),\n",
       " (('Malawi', 'Spain'), 3),\n",
       " (('Ireland', 'Brazil'), 3),\n",
       " (('Northern Ireland', 'Spain'), 3),\n",
       " (('Belarus', 'Argentina'), 3),\n",
       " (('Uganda', 'Spain'), 3),\n",
       " (('Prussia', 'United States'), 3),\n",
       " (('Egypt', 'Francia'), 3),\n",
       " (('Haiti', 'Cuba'), 3),\n",
       " (('Brazil', 'Peru'), 3),\n",
       " (('Ukraine', 'Russia'), 3),\n",
       " (('Jamaica', 'United States'), 3),\n",
       " (('Cameroon', 'Spain'), 3),\n",
       " (('Canada', 'Massachusetts'), 3),\n",
       " (('Cuba', 'Peru'), 3),\n",
       " (('Ukraine', 'Italy'), 3),\n",
       " (('Spain', 'Panama'), 3),\n",
       " (('Germany', 'Austria'), 3),\n",
       " (('Bangladesh', 'Spain'), 3),\n",
       " (('United Kingdom', 'Germany'), 3),\n",
       " (('United Kingdom', 'South Korea'), 3),\n",
       " (('Morocco', 'Mexico'), 3),\n",
       " (('Cape Verde', 'Spain'), 3),\n",
       " (('Colombia', 'Chile'), 3),\n",
       " (('Australia', 'Venezuela'), 2),\n",
       " (('Honduras', 'El Salvador'), 2),\n",
       " (('Austria', 'New York (State)'), 2),\n",
       " (('Spain', 'Montenegro'), 2),\n",
       " (('Mexico', 'Uruguay'), 2),\n",
       " (('Kenya', 'Massachusetts'), 2),\n",
       " (('Netherlands', 'Cuba'), 2),\n",
       " (('China', 'Colombia'), 2),\n",
       " (('Lebanon', 'Francia'), 2),\n",
       " (('Belgium', 'Ecuador'), 2),\n",
       " (('Mexico', 'Ecuador'), 2),\n",
       " (('Haiti', 'New York (State)'), 2),\n",
       " (('Austria', 'Venezuela'), 2),\n",
       " (('Serbia', 'United States'), 2),\n",
       " (('Italy', 'Peru'), 2),\n",
       " (('Colombia', 'Austria'), 2),\n",
       " (('Romania', 'Italy'), 2),\n",
       " (('Ukraine', 'Venezuela'), 2),\n",
       " (('Peru', 'Puerto Rico'), 2),\n",
       " (('Colombia', 'Greece'), 2),\n",
       " (('Ghana', 'Mexico'), 2),\n",
       " (('Greece', 'Venezuela'), 2),\n",
       " (('Colombia', 'El Salvador'), 2),\n",
       " (('Argentina', 'El Salvador'), 2),\n",
       " (('Chile', 'Costa Rica'), 2),\n",
       " (('Portugal', 'Cuba'), 2),\n",
       " (('Switzerland', 'Cuba'), 2),\n",
       " (('Paraguay', 'Chile'), 2),\n",
       " (('Benin', 'New York (State)'), 2),\n",
       " (('Azerbaijan', 'Spain'), 2),\n",
       " (('Brazil', 'Francia'), 2),\n",
       " (('Finland', 'Colombia'), 2),\n",
       " (('Greece', 'New York (State)'), 2),\n",
       " (('Afghanistan', 'New York (State)'), 2),\n",
       " (('Japan', 'California'), 2),\n",
       " (('Argentina', 'Ecuador'), 2),\n",
       " (('Peru', 'Ecuador'), 2),\n",
       " (('Panama', 'United Kingdom'), 2),\n",
       " (('Myanmar', 'Mexico'), 2),\n",
       " (('Lithuania', 'Colombia'), 2),\n",
       " (('Chile', 'Puerto Rico'), 2),\n",
       " (('Peru', 'China'), 2),\n",
       " (('Hungary', 'Venezuela'), 2),\n",
       " (('Belgium', 'Italy'), 2),\n",
       " (('Belgium', 'Chile'), 2),\n",
       " (('United Kingdom', 'Connecticut'), 2),\n",
       " (('Iran', 'Argentina'), 2),\n",
       " (('Denmark', 'Chile'), 2),\n",
       " (('Colombia', 'Norway'), 2),\n",
       " (('Slovenia', 'Argentina'), 2),\n",
       " (('Canada', 'Chile'), 2),\n",
       " (('Switzerland', 'Ecuador'), 2),\n",
       " (('Spain', 'China'), 2),\n",
       " (('United States', 'South Korea'), 2),\n",
       " (('Austria', 'Australia'), 2),\n",
       " (('Czech Republic', 'Ecuador'), 2),\n",
       " (('Cuba', 'Florida'), 2),\n",
       " (('Bulgaria', 'Colombia'), 2),\n",
       " (('Ukraine', 'Uruguay'), 2),\n",
       " (('Turkey', 'New York (State)'), 2),\n",
       " (('Japan', 'Venezuela'), 2),\n",
       " (('Norway', 'Chile'), 2),\n",
       " (('Colombia', 'Curaçao'), 2),\n",
       " (('Russia', 'Brazil'), 2),\n",
       " (('Cuba', 'United Kingdom'), 2),\n",
       " (('Russia', 'Venezuela'), 2),\n",
       " (('Francia', 'Monaco'), 2),\n",
       " (('Chile', 'Nicaragua'), 2),\n",
       " (('Czech Republic', 'Cuba'), 2),\n",
       " (('Poland', 'Brazil'), 2),\n",
       " (('Portugal', 'Peru'), 2),\n",
       " (('Aruba', 'Mexico'), 2),\n",
       " (('Colombia', 'Poland'), 2),\n",
       " (('Cuba', 'Guatemala'), 2),\n",
       " (('Sri Lanka', 'Colombia'), 2),\n",
       " (('Barbados', 'Spain'), 2),\n",
       " (('Ottoman Empire', 'Venezuela'), 2),\n",
       " (('Peru', 'New York (State)'), 2),\n",
       " (('United States', 'Pennsylvania'), 2),\n",
       " (('Sri Lanka', 'Argentina'), 2),\n",
       " (('Spain', 'Greece'), 2),\n",
       " (('Spain', 'Paraguay'), 2),\n",
       " (('Brazil', 'Portugal'), 2),\n",
       " (('Japan', 'Cuba'), 2),\n",
       " (('Uruguay', 'United States'), 2),\n",
       " (('El Salvador', 'Mexico'), 2),\n",
       " (('Romania', 'New York (State)'), 2),\n",
       " (('United States', 'Jamaica'), 2),\n",
       " (('Czech Republic', 'Chile'), 2),\n",
       " (('Malawi', 'New York (State)'), 2),\n",
       " (('Singapore', 'Mexico'), 2),\n",
       " (('Poland', 'China'), 2),\n",
       " (('Francia', 'Costa Rica'), 2),\n",
       " (('Republic of the Congo', 'Spain'), 2),\n",
       " (('Bolivia', 'United States'), 2),\n",
       " (('United Kingdom', 'Switzerland'), 2),\n",
       " (('Luxembourg', 'Chile'), 2),\n",
       " (('Iraq', 'Spain'), 2),\n",
       " (('Peru', 'Francia'), 2),\n",
       " (('Sweden', 'Francia'), 2),\n",
       " (('Spain', 'Belgium'), 2),\n",
       " (('Belarus', 'United Kingdom'), 2),\n",
       " (('Barbados', 'Cuba'), 2),\n",
       " (('Thailand', 'Italy'), 2),\n",
       " (('Turkey', 'United States'), 2),\n",
       " (('Mexico', 'Puerto Rico'), 2),\n",
       " (('Lebanon', 'United Kingdom'), 2),\n",
       " (('Mexico', 'New York (State)'), 2),\n",
       " (('Greece', 'Italy'), 2),\n",
       " (('Mexico', 'Francia'), 2),\n",
       " (('Madagascar', 'Argentina'), 2),\n",
       " (('Italy', 'Switzerland'), 2),\n",
       " (('United States', 'Netherlands'), 2),\n",
       " (('Ecuador', 'Francia'), 2),\n",
       " (('Ecuador', 'Japan'), 2),\n",
       " (('Belarus', 'New York (State)'), 2),\n",
       " (('United Kingdom', 'Netherlands'), 2),\n",
       " (('Hungary', 'Germany'), 2),\n",
       " (('Mexico', 'Italy'), 2),\n",
       " (('Colombia', 'Sikkim'), 2),\n",
       " (('China', 'United Kingdom'), 2),\n",
       " (('Guatemala', 'Venezuela'), 2),\n",
       " (('Guyana', 'United Kingdom'), 2),\n",
       " (('Costa Rica', 'Argentina'), 2),\n",
       " (('Taiwan', 'Spain'), 2),\n",
       " (('United Kingdom', 'Uruguay'), 2),\n",
       " (('Vietnam', 'Mexico'), 2),\n",
       " (('Mexico', 'Costa Rica'), 2),\n",
       " (('Mauritius', 'Mexico'), 2),\n",
       " (('Philippines', 'Argentina'), 2),\n",
       " (('Chile', 'United Kingdom'), 2),\n",
       " (('Bolivia', 'Chile'), 2),\n",
       " (('Senegal', 'Francia'), 2),\n",
       " (('Ecuador', 'United States'), 2),\n",
       " (('Portugal', 'Myanmar'), 2),\n",
       " (('Cyprus', 'United States'), 2),\n",
       " (('United Kingdom', 'Ecuador'), 2),\n",
       " (('Guatemala', 'Nicaragua'), 2),\n",
       " (('Zambia', 'United States'), 2),\n",
       " (('Peru', 'United Kingdom'), 2),\n",
       " (('France', 'Spain'), 2),\n",
       " (('Spain', 'Tennessee'), 2),\n",
       " (('Mozambique', 'Colombia'), 2),\n",
       " (('Netherlands', 'Germany'), 2),\n",
       " (('Norway', 'New York (State)'), 2),\n",
       " (('Kenya', 'United States'), 2),\n",
       " (('Sri Lanka', 'Canada'), 2),\n",
       " (('Austria', 'Brazil'), 2),\n",
       " (('Peru', 'Uruguay'), 2),\n",
       " (('Algeria', 'United Kingdom'), 2),\n",
       " (('India', 'Venezuela'), 2),\n",
       " (('Nicaragua', 'Guatemala'), 2),\n",
       " (('United Kingdom', 'Washington (State)'), 2),\n",
       " (('Chile', 'El Salvador'), 2),\n",
       " (('United Kingdom', 'North Carolina'), 1),\n",
       " (('Burkina Faso', 'United States'), 1),\n",
       " (('Mauritius', 'Spain'), 1),\n",
       " (('Italy', 'Somalia'), 1),\n",
       " (('Sudan', 'United States'), 1),\n",
       " (('Spain', 'Germany'), 1),\n",
       " (('Guatemala', 'Cuba'), 1),\n",
       " (('Japan', 'Brazil'), 1),\n",
       " (('Belarus', 'China'), 1),\n",
       " (('Spain', 'Egypt'), 1),\n",
       " (('Finland', 'Chile'), 1),\n",
       " (('Moldova', 'Argentina'), 1),\n",
       " (('Costa Rica', 'Venezuela'), 1),\n",
       " (('Latvia', 'Canada'), 1),\n",
       " (('Mexico', 'Switzerland'), 1),\n",
       " (('Lebanon', 'Vermont'), 1),\n",
       " (('Moldova', 'Mexico'), 1),\n",
       " (('Bangladesh', 'Germany'), 1),\n",
       " (('Brazil', 'Switzerland'), 1),\n",
       " (('Cuba', 'Cambodia'), 1),\n",
       " (('Slovakia', 'Venezuela'), 1),\n",
       " (('Australia', 'Sierra Leone'), 1),\n",
       " (('Romania', 'Netherlands'), 1),\n",
       " (('United States', 'Nevada'), 1),\n",
       " (('United States', 'Minnesota'), 1),\n",
       " (('Brazil', 'Massachusetts'), 1),\n",
       " (('Singapore', 'Colombia'), 1),\n",
       " (('Pakistan', 'United Kingdom'), 1),\n",
       " (('Uruguay', 'California'), 1),\n",
       " (('El Salvador', 'United States'), 1),\n",
       " (('Mali', 'Spain'), 1),\n",
       " (('India', 'Ecuador'), 1),\n",
       " (('United Kingdom', 'Senegal'), 1),\n",
       " (('Turkey', 'United Kingdom'), 1),\n",
       " (('United States', 'Maryland'), 1),\n",
       " (('Serbia', 'Francia'), 1),\n",
       " (('Poland', 'New Jersey'), 1),\n",
       " (('Egypt', 'Bolivia'), 1),\n",
       " (('Russia', 'El Salvador'), 1),\n",
       " (('Ivory Coast', 'Mexico'), 1),\n",
       " (('Austria', 'Canal Zone'), 1),\n",
       " (('Myanmar', 'United Kingdom'), 1),\n",
       " (('Mexico', 'United Kingdom'), 1),\n",
       " (('Spain', 'Russia'), 1),\n",
       " (('Francia', 'Sikkim'), 1),\n",
       " (('Uruguay', 'Hong Kong'), 1),\n",
       " (('Iran', 'Switzerland'), 1),\n",
       " (('Colombia', 'Netherlands'), 1),\n",
       " (('Czech Republic', 'Peru'), 1),\n",
       " (('Romania', 'French Guiana'), 1),\n",
       " (('Ireland', 'Greece'), 1),\n",
       " (('Greece', 'Brazil'), 1),\n",
       " (('Zimbabwe', 'Colombia'), 1),\n",
       " (('Kingdom of Galicia and Lodomeria', 'Argentina'), 1),\n",
       " (('Slovakia', 'United States'), 1),\n",
       " (('United States', 'Scotland'), 1),\n",
       " (('Venezuela', 'Ecuador'), 1),\n",
       " (('Japan', 'Chile'), 1),\n",
       " (('Cuba', 'Washington (State)'), 1),\n",
       " (('Madagascar', 'Francia'), 1),\n",
       " (('Ireland', 'Canal Zone'), 1),\n",
       " (('Swaziland', 'Spain'), 1),\n",
       " (('Germany', 'Senegal'), 1),\n",
       " (('Dominican Republic', 'South Carolina'), 1),\n",
       " (('Vietnam', 'United States'), 1),\n",
       " (('Colombia', 'Florida'), 1),\n",
       " (('Honduras', 'Peru'), 1),\n",
       " (('Slovenia', 'Montenegro'), 1),\n",
       " (('Malaysia', 'Spain'), 1),\n",
       " (('United Kingdom', 'Kiribati'), 1),\n",
       " (('Norway', 'Peru'), 1),\n",
       " (('United Kingdom', 'Caribbean Netherlands'), 1),\n",
       " (('United States', 'Israel'), 1),\n",
       " (('Cuba', 'Australia'), 1),\n",
       " (('Belgium', 'Nicaragua'), 1),\n",
       " (('United States', 'Louisiana'), 1),\n",
       " (('Tunisia', 'Venezuela'), 1),\n",
       " (('Argentina', 'Paraguay'), 1),\n",
       " (('Lebanon', 'United States'), 1),\n",
       " (('Poland', 'Portugal'), 1),\n",
       " (('Romania', 'California'), 1),\n",
       " (('Brazil', 'Uruguay'), 1),\n",
       " (('Czech Republic', 'Canal Zone'), 1),\n",
       " (('Canada', 'Tennessee'), 1),\n",
       " (('Cameroon', 'California'), 1),\n",
       " (('Greece', 'Uruguay'), 1),\n",
       " (('Russia', 'Uruguay'), 1),\n",
       " (('Romania', 'Brazil'), 1),\n",
       " (('Denmark', 'Germany'), 1),\n",
       " (('Switzerland', 'Greece'), 1),\n",
       " (('Denmark', 'California'), 1),\n",
       " (('Latvia', 'Colombia'), 1),\n",
       " (('Zimbabwe', 'Mexico'), 1),\n",
       " (('Poland', 'Cuba'), 1),\n",
       " (('Russia', 'Ecuador'), 1),\n",
       " (('Luxembourg', 'Colombia'), 1),\n",
       " (('Brazil', 'Guatemala'), 1),\n",
       " (('Argentina', 'Russia'), 1),\n",
       " (('Austria', 'Montenegro'), 1),\n",
       " (('United States', 'Saint-Martin'), 1),\n",
       " (('Francia', 'Senegal'), 1),\n",
       " (('United Kingdom', 'Pennsylvania'), 1),\n",
       " (('Germany', 'Nicaragua'), 1),\n",
       " (('Brazil', 'Singapore'), 1),\n",
       " (('Kenya', 'United Kingdom'), 1),\n",
       " (('Bulgaria', 'Chile'), 1),\n",
       " (('Cuba', 'Nicaragua'), 1),\n",
       " (('United States', 'Australia'), 1),\n",
       " (('Kenya', 'Colombia'), 1),\n",
       " (('Guatemala', 'Argentina'), 1),\n",
       " (('Pakistan', 'Mexico'), 1),\n",
       " (('Cameroon', 'Francia'), 1),\n",
       " (('Czech Republic', 'Myanmar'), 1),\n",
       " (('Ethiopia', 'United States'), 1),\n",
       " (('Chile', 'Bolivia'), 1),\n",
       " (('Uruguay', 'Thailand'), 1),\n",
       " (('Guatemala', 'Chile'), 1),\n",
       " (('Portugal', 'Italy'), 1),\n",
       " (('United States', 'North Carolina'), 1),\n",
       " (('Ghana', 'Argentina'), 1),\n",
       " (('Equatorial Guinea', 'Spain'), 1),\n",
       " (('Colombia', 'Japan'), 1),\n",
       " (('Croatia', 'Francia'), 1),\n",
       " (('Poland', 'Uruguay'), 1),\n",
       " (('United States', 'Ohio'), 1),\n",
       " (('Austria', 'Illinois'), 1),\n",
       " (('Zimbabwe', 'United Kingdom'), 1),\n",
       " (('Bolivia', 'Italy'), 1),\n",
       " (('South Korea', 'United States'), 1),\n",
       " (('Australia', 'Cuba'), 1),\n",
       " (('Italy', 'Vermont'), 1),\n",
       " (('United States', 'Dominican Republic'), 1),\n",
       " (('Tanzania', 'United Kingdom'), 1),\n",
       " (('Uzbekistan', 'Massachusetts'), 1),\n",
       " (('Chile', 'Brazil'), 1),\n",
       " (('Switzerland', 'Equatorial Guinea'), 1),\n",
       " (('Serbia', 'Belgium'), 1),\n",
       " (('Finland', 'Ecuador'), 1),\n",
       " (('Germany', 'Virginia'), 1),\n",
       " (('Russia', 'Germany'), 1),\n",
       " (('Denmark', 'China'), 1),\n",
       " (('United States', 'Czech Republic'), 1),\n",
       " (('Canada', 'Montenegro'), 1),\n",
       " (('Paraguay', 'Venezuela'), 1),\n",
       " (('Honduras', 'Cuba'), 1),\n",
       " (('Cuba', 'Brazil'), 1),\n",
       " (('Algeria', 'Ecuador'), 1),\n",
       " (('United Kingdom', 'Illinois'), 1),\n",
       " (('Switzerland', 'Sweden'), 1),\n",
       " (('Francia', 'El Salvador'), 1),\n",
       " (('Colombia', 'New Caledonia'), 1),\n",
       " (('Dominican Republic', 'United States'), 1),\n",
       " (('Francia', 'French Guiana'), 1),\n",
       " (('Poland', 'Switzerland'), 1),\n",
       " (('United Kingdom', 'Austria'), 1),\n",
       " (('Denmark', 'Italy'), 1),\n",
       " (('Romania', 'Austria'), 1),\n",
       " (('Antigua and Barbuda', 'Mexico'), 1),\n",
       " (('Ireland', 'Australia'), 1),\n",
       " (('Germany', 'Montenegro'), 1),\n",
       " (('New Zealand', 'Massachusetts'), 1),\n",
       " (('Brazil', 'New Jersey'), 1),\n",
       " (('Italy', 'Uruguay'), 1),\n",
       " (('Nigeria', 'New York (State)'), 1),\n",
       " (('Algeria', 'New York (State)'), 1),\n",
       " (('Taiwan', 'United States'), 1),\n",
       " (('Uruguay', 'Italy'), 1),\n",
       " (('Ukraine', 'New York (State)'), 1),\n",
       " (('Guinea', 'Spain'), 1),\n",
       " (('Tajikistan', 'Spain'), 1),\n",
       " (('Dominica', 'New York (State)'), 1),\n",
       " (('Nicaragua', 'Peru'), 1),\n",
       " (('Myanmar', 'United States'), 1),\n",
       " (('Czech Republic', 'New York (State)'), 1),\n",
       " (('United Kingdom', 'Israel'), 1),\n",
       " (('Francia', 'Michigan'), 1),\n",
       " (('Bolivia', 'Cuba'), 1),\n",
       " (('Norway', 'United Kingdom'), 1),\n",
       " (('Morocco', 'United Kingdom'), 1),\n",
       " (('Sweden', 'United Kingdom'), 1),\n",
       " (('Francia', 'Austria'), 1),\n",
       " (('Malta', 'United Kingdom'), 1),\n",
       " (('China', 'Mexico'), 1),\n",
       " (('Monaco', 'Germany'), 1),\n",
       " (('United States', 'El Salvador'), 1),\n",
       " (('Italy', 'Denmark'), 1),\n",
       " (('Cuba', 'Francia'), 1),\n",
       " (('United States', 'Colorado'), 1),\n",
       " (('El Salvador', 'Costa Rica'), 1),\n",
       " (('Turkey', 'Francia'), 1),\n",
       " (('Turkey', 'Sikkim'), 1),\n",
       " (('Colombia', 'Belgium'), 1),\n",
       " (('Spain', 'Nicaragua'), 1),\n",
       " (('Russia', 'New York (State)'), 1),\n",
       " (('Greece', 'Indiana'), 1),\n",
       " (('Sweden', 'Caribbean Netherlands'), 1),\n",
       " (('Uruguay', 'Costa Rica'), 1),\n",
       " (('Ireland', 'Canada'), 1),\n",
       " (('Russia', 'Massachusetts'), 1),\n",
       " (('Prussia', 'United Kingdom'), 1),\n",
       " (('Colombia', 'Denmark'), 1),\n",
       " (('Prussia', 'Austria'), 1),\n",
       " (('Egypt', 'Chile'), 1),\n",
       " (('Indonesia', 'Argentina'), 1),\n",
       " (('Luxembourg', 'Argentina'), 1),\n",
       " (('Canada', 'Florida'), 1),\n",
       " (('Dominica', 'United Kingdom'), 1),\n",
       " (('Cuba', 'Canada'), 1),\n",
       " (('Ireland', 'Sweden'), 1),\n",
       " (('Ireland', 'Kentucky'), 1),\n",
       " (('Portugal', 'Francia'), 1),\n",
       " (('Romania', 'Hungary'), 1),\n",
       " (('Afghanistan', 'Brazil'), 1),\n",
       " (('Czech Republic', 'Brazil'), 1),\n",
       " (('United Kingdom', 'Sweden'), 1),\n",
       " (('Ghana', 'New York (State)'), 1),\n",
       " (('Francia', 'Australia'), 1),\n",
       " (('South Africa', 'New York (State)'), 1),\n",
       " (('Poland', 'California'), 1),\n",
       " (('United Kingdom', 'Panama'), 1),\n",
       " (('United States', 'Nicaragua'), 1),\n",
       " (('Francia', 'New Jersey'), 1),\n",
       " (('Romania', 'Germany'), 1),\n",
       " (('Venezuela', 'Costa Rica'), 1),\n",
       " (('Germany', 'India'), 1),\n",
       " ...]"
      ]
     },
     "execution_count": 32,
     "metadata": {},
     "output_type": "execute_result"
    }
   ],
   "source": [
    "top_routes"
   ]
  },
  {
   "cell_type": "markdown",
   "metadata": {},
   "source": [
    "# Maps"
   ]
  },
  {
   "cell_type": "code",
   "execution_count": 33,
   "metadata": {
    "collapsed": true
   },
   "outputs": [],
   "source": [
    "def get_coords(place):\n",
    "    place = place_place_d[place]\n",
    "    coord = place_coord_d[place]\n",
    "    return coord"
   ]
  },
  {
   "cell_type": "code",
   "execution_count": 34,
   "metadata": {
    "collapsed": true
   },
   "outputs": [],
   "source": [
    "cycles_graph = nx.DiGraph()\n",
    "routes_graph = nx.DiGraph()"
   ]
  },
  {
   "cell_type": "code",
   "execution_count": 35,
   "metadata": {
    "collapsed": false
   },
   "outputs": [],
   "source": [
    "for k in cycles_c:\n",
    "    if k[0] not in cycles_graph:\n",
    "        lat, lng = get_coords(k[0])\n",
    "        cycles_graph.add_node(k[0], latitude=lat, longitude=lng, weight=cycles_c[k])\n",
    "    cycles_graph.add_edge(k[0], k[0], weight=cycles_c[k])"
   ]
  },
  {
   "cell_type": "code",
   "execution_count": 36,
   "metadata": {
    "collapsed": false
   },
   "outputs": [],
   "source": [
    "for k in routes_c:\n",
    "    if k[0] not in routes_graph:\n",
    "        lat, lng = get_coords(k[0])\n",
    "        routes_graph.add_node(k[0], latitude=lat, longitude=lng, weight=0)\n",
    "    old_weight = routes_graph.node[k[0]]['weight']\n",
    "    new_weight = old_weight + routes_c[k]\n",
    "    routes_graph.node[k[0]]['weight'] = new_weight\n",
    "    if k[1] not in routes_graph:\n",
    "        lat, lng = get_coords(k[1])\n",
    "        routes_graph.add_node(k[1], latitude=lat, longitude=lng, weight=0)\n",
    "    old_weight = routes_graph.node[k[1]]['weight']\n",
    "    new_weight = old_weight + routes_c[k]\n",
    "    routes_graph.node[k[1]]['weight'] = new_weight\n",
    "    routes_graph.add_edge(k[0], k[1], weight=routes_c[k])"
   ]
  },
  {
   "cell_type": "markdown",
   "metadata": {},
   "source": [
    "# Filtering labels"
   ]
  },
  {
   "cell_type": "code",
   "execution_count": 37,
   "metadata": {
    "collapsed": true
   },
   "outputs": [],
   "source": [
    "def select_top_nodes(g, p):\n",
    "    ns = [(n, d['weight']) for n, d in g.nodes_iter(data=True)]\n",
    "    ns = sorted(ns, key=lambda x: x[1], reverse=True)\n",
    "    amount = round(len(ns) * p)\n",
    "    taken = ns[:amount]\n",
    "    labels = [n for n, w in taken]\n",
    "    return labels"
   ]
  },
  {
   "cell_type": "code",
   "execution_count": 38,
   "metadata": {
    "collapsed": false
   },
   "outputs": [],
   "source": [
    "for i in range(10, 100, 10):\n",
    "    p = i / 100\n",
    "    top_cycles_labels = select_top_nodes(cycles_graph, p)\n",
    "    for k in cycles_graph:\n",
    "        if k in top_cycles_labels:\n",
    "            cycles_graph.node[k]['show_label_' + str(i)] = k\n",
    "        else:\n",
    "            cycles_graph.node[k]['show_label_' + str(i)] = ''"
   ]
  },
  {
   "cell_type": "code",
   "execution_count": 39,
   "metadata": {
    "collapsed": false
   },
   "outputs": [],
   "source": [
    "for i in range(10, 100, 10):\n",
    "    p = i / 100\n",
    "    top_routes_labels = select_top_nodes(routes_graph, p)\n",
    "    for k in routes_graph:\n",
    "        if k in top_routes_labels:\n",
    "            routes_graph.node[k]['show_label_' + str(i)] = k\n",
    "        else:\n",
    "            routes_graph.node[k]['show_label_' + str(i)] = ''"
   ]
  },
  {
   "cell_type": "markdown",
   "metadata": {},
   "source": [
    "# Saving results"
   ]
  },
  {
   "cell_type": "code",
   "execution_count": 40,
   "metadata": {
    "collapsed": true
   },
   "outputs": [],
   "source": [
    "nx.write_gexf(cycles_graph, 'gephi/cycles_graph.gexf')\n",
    "nx.write_gexf(routes_graph, 'gephi/routes_graph.gexf')"
   ]
  },
  {
   "cell_type": "code",
   "execution_count": null,
   "metadata": {
    "collapsed": true
   },
   "outputs": [],
   "source": []
  }
 ],
 "metadata": {
  "kernelspec": {
   "display_name": "Python 3",
   "language": "python",
   "name": "python3"
  },
  "language_info": {
   "codemirror_mode": {
    "name": "ipython",
    "version": 3
   },
   "file_extension": ".py",
   "mimetype": "text/x-python",
   "name": "python",
   "nbconvert_exporter": "python",
   "pygments_lexer": "ipython3",
   "version": "3.4.3"
  }
 },
 "nbformat": 4,
 "nbformat_minor": 1
}
