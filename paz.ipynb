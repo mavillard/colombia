{
 "cells": [
  {
   "cell_type": "code",
   "execution_count": 1,
   "metadata": {
    "collapsed": false
   },
   "outputs": [],
   "source": [
    "import csv\n",
    "import os\n",
    "from collections import Counter\n",
    "from collections import defaultdict\n",
    "from string import punctuation\n",
    "\n",
    "import enchant\n",
    "from nltk import word_tokenize\n",
    "from nltk.corpus import stopwords\n",
    "from nltk.util import ngrams"
   ]
  },
  {
   "cell_type": "markdown",
   "metadata": {},
   "source": [
    "# Lexicon"
   ]
  },
  {
   "cell_type": "code",
   "execution_count": 2,
   "metadata": {
    "collapsed": true
   },
   "outputs": [],
   "source": [
    "def remove_accent_marks(w):\n",
    "    r = w\n",
    "    r = r.replace('á', 'a')\n",
    "    r = r.replace('é', 'e')\n",
    "    r = r.replace('í', 'i')\n",
    "    r = r.replace('ó', 'o')\n",
    "    r = r.replace('ú', 'u')\n",
    "    return r"
   ]
  },
  {
   "cell_type": "code",
   "execution_count": 3,
   "metadata": {
    "collapsed": false
   },
   "outputs": [],
   "source": [
    "lexicon = {}\n",
    "with open('lexicon/es_lexicon.csv') as f:\n",
    "    reader = csv.reader(\n",
    "        f,\n",
    "        delimiter=' ',\n",
    "    )\n",
    "    for row in reader:\n",
    "        w = remove_accent_marks(row[0])\n",
    "        lexicon[w] = []\n",
    "        for i in range(1, len(row[1:]), 2):\n",
    "            entry = {}\n",
    "            entry['lemma'] = remove_accent_marks(row[i].lower())\n",
    "            entry['eagle'] = remove_accent_marks(row[i+1].lower())\n",
    "            lexicon[w].append(entry)"
   ]
  },
  {
   "cell_type": "code",
   "execution_count": 4,
   "metadata": {
    "collapsed": false
   },
   "outputs": [
    {
     "data": {
      "text/plain": [
       "500949"
      ]
     },
     "execution_count": 4,
     "metadata": {},
     "output_type": "execute_result"
    }
   ],
   "source": [
    "len(lexicon)"
   ]
  },
  {
   "cell_type": "code",
   "execution_count": 5,
   "metadata": {
    "collapsed": false
   },
   "outputs": [],
   "source": [
    "def is_vowel(c):\n",
    "    return c in 'aeiouAEIOUáéíóúÁÉÍÓÚüÜ'\n",
    "\n",
    "def next_level(w):\n",
    "    result = [w]\n",
    "    if is_vowel(w[0]):\n",
    "        result.append('h' + w)\n",
    "    if \"q'\" in w:\n",
    "        result.append(w.replace(\"q'\", 'que'))\n",
    "    for i in range(len(w)):\n",
    "        if w[i] == 'v':\n",
    "            result.append(w[:i] + 'b' + w[i+1:])\n",
    "        elif w[i] == 'b':\n",
    "            result.append(w[:i] + 'v' + w[i+1:])\n",
    "            result.append(w[:i] + 'd' + w[i+1:])\n",
    "        elif w[i] == 'd':\n",
    "            result.append(w[:i] + 'b' + w[i+1:])\n",
    "        elif w[i] == 'c' and i < len(w) - 1 and w[i+1] in 'ei':\n",
    "            result.append(w[:i] + 's' + w[i+1:])\n",
    "        elif w[i] == 's' and i < len(w) - 1 and w[i+1] in 'ei':\n",
    "            result.append(w[:i] + 'c' + w[i+1:])\n",
    "    return result\n",
    "\n",
    "def combinations_aux(visited, result):\n",
    "    while visited:\n",
    "        w = visited[0]\n",
    "        visited = visited[1:]\n",
    "        if w not in result:\n",
    "            result.append(w)\n",
    "            combs = next_level(w)\n",
    "            visited.extend(combs)        \n",
    "    return result\n",
    "\n",
    "def combinations(w):\n",
    "    return combinations_aux([w], [])"
   ]
  },
  {
   "cell_type": "code",
   "execution_count": 6,
   "metadata": {
    "collapsed": true
   },
   "outputs": [],
   "source": [
    "es = enchant.Dict('es_ES')"
   ]
  },
  {
   "cell_type": "markdown",
   "metadata": {},
   "source": [
    "# Analysis"
   ]
  },
  {
   "cell_type": "code",
   "execution_count": 7,
   "metadata": {
    "collapsed": false
   },
   "outputs": [
    {
     "data": {
      "text/plain": [
       "['ana.csv', 'dago.csv', 'nandi.csv', 'rafa.csv', 'final.csv', 'yadira.csv']"
      ]
     },
     "execution_count": 7,
     "metadata": {},
     "output_type": "execute_result"
    }
   ],
   "source": [
    "os.listdir('data')"
   ]
  },
  {
   "cell_type": "code",
   "execution_count": 8,
   "metadata": {
    "collapsed": false
   },
   "outputs": [],
   "source": [
    "d = {}\n",
    "for filename in os.listdir('data'):\n",
    "    with open('data/' + filename) as f:\n",
    "        reader = csv.reader(\n",
    "            f,\n",
    "            delimiter=',',\n",
    "            quotechar='\"'\n",
    "        )\n",
    "        next(reader)\n",
    "        for row in reader:\n",
    "            d[row[0]] = {\n",
    "                'date': row[1],\n",
    "                'name': row[2],\n",
    "                'gender': row[3],\n",
    "                'age': row[4],\n",
    "                'city': row[5],\n",
    "                'drawings': row[6],\n",
    "                'title': row[7],\n",
    "                'description': row[8],\n",
    "            }"
   ]
  },
  {
   "cell_type": "code",
   "execution_count": 9,
   "metadata": {
    "collapsed": false
   },
   "outputs": [
    {
     "data": {
      "text/plain": [
       "883"
      ]
     },
     "execution_count": 9,
     "metadata": {},
     "output_type": "execute_result"
    }
   ],
   "source": [
    "len(d)"
   ]
  },
  {
   "cell_type": "markdown",
   "metadata": {},
   "source": [
    "## Gender"
   ]
  },
  {
   "cell_type": "code",
   "execution_count": 10,
   "metadata": {
    "collapsed": false
   },
   "outputs": [],
   "source": [
    "blank = 0\n",
    "male = 0\n",
    "female = 0\n",
    "for k in d:\n",
    "    gender = d[k]['gender']\n",
    "    if gender == 'M':\n",
    "        male += 1\n",
    "    elif gender == 'F':\n",
    "        female += 1\n",
    "    else:\n",
    "        blank += 1"
   ]
  },
  {
   "cell_type": "code",
   "execution_count": 11,
   "metadata": {
    "collapsed": false
   },
   "outputs": [
    {
     "data": {
      "text/plain": [
       "471"
      ]
     },
     "execution_count": 11,
     "metadata": {},
     "output_type": "execute_result"
    }
   ],
   "source": [
    "blank"
   ]
  },
  {
   "cell_type": "code",
   "execution_count": 12,
   "metadata": {
    "collapsed": false
   },
   "outputs": [
    {
     "data": {
      "text/plain": [
       "116"
      ]
     },
     "execution_count": 12,
     "metadata": {},
     "output_type": "execute_result"
    }
   ],
   "source": [
    "male"
   ]
  },
  {
   "cell_type": "code",
   "execution_count": 13,
   "metadata": {
    "collapsed": false
   },
   "outputs": [
    {
     "data": {
      "text/plain": [
       "296"
      ]
     },
     "execution_count": 13,
     "metadata": {},
     "output_type": "execute_result"
    }
   ],
   "source": [
    "female"
   ]
  },
  {
   "cell_type": "markdown",
   "metadata": {},
   "source": [
    "## Cities"
   ]
  },
  {
   "cell_type": "code",
   "execution_count": 14,
   "metadata": {
    "collapsed": true
   },
   "outputs": [],
   "source": [
    "cities = []\n",
    "for k in d:\n",
    "    city = d[k]['city']\n",
    "    cities.append(city)"
   ]
  },
  {
   "cell_type": "code",
   "execution_count": 15,
   "metadata": {
    "collapsed": false
   },
   "outputs": [],
   "source": [
    "c = Counter(cities)"
   ]
  },
  {
   "cell_type": "code",
   "execution_count": 16,
   "metadata": {
    "collapsed": false
   },
   "outputs": [],
   "source": [
    "# c"
   ]
  },
  {
   "cell_type": "code",
   "execution_count": 17,
   "metadata": {
    "collapsed": false
   },
   "outputs": [
    {
     "data": {
      "text/plain": [
       "[('', 607),\n",
       " ('Bogotá', 171),\n",
       " ('Neiva', 13),\n",
       " ('Bogotá D.C.', 9),\n",
       " ('Soacha', 7),\n",
       " ('Fusagasugá', 6),\n",
       " ('Bogotá D.C', 5),\n",
       " ('Bucaramanga', 4),\n",
       " ('Ibagué', 4),\n",
       " ('Cali', 3)]"
      ]
     },
     "execution_count": 17,
     "metadata": {},
     "output_type": "execute_result"
    }
   ],
   "source": [
    "c.most_common(10)"
   ]
  },
  {
   "cell_type": "markdown",
   "metadata": {},
   "source": [
    "## Ages"
   ]
  },
  {
   "cell_type": "code",
   "execution_count": 18,
   "metadata": {
    "collapsed": true
   },
   "outputs": [],
   "source": [
    "ages = []\n",
    "for k in d:\n",
    "    age = d[k]['age']\n",
    "    ages.append(age)"
   ]
  },
  {
   "cell_type": "code",
   "execution_count": 19,
   "metadata": {
    "collapsed": false
   },
   "outputs": [],
   "source": [
    "a = Counter(ages)"
   ]
  },
  {
   "cell_type": "code",
   "execution_count": 20,
   "metadata": {
    "collapsed": false
   },
   "outputs": [],
   "source": [
    "# a"
   ]
  },
  {
   "cell_type": "code",
   "execution_count": 21,
   "metadata": {
    "collapsed": false
   },
   "outputs": [
    {
     "data": {
      "text/plain": [
       "[('', 602),\n",
       " ('16', 21),\n",
       " ('14', 17),\n",
       " ('10', 13),\n",
       " ('12', 12),\n",
       " ('19', 12),\n",
       " ('13', 12),\n",
       " ('11', 12),\n",
       " ('21', 11),\n",
       " ('15', 11),\n",
       " ('20', 11)]"
      ]
     },
     "execution_count": 21,
     "metadata": {},
     "output_type": "execute_result"
    }
   ],
   "source": [
    "a.most_common(11)"
   ]
  },
  {
   "cell_type": "code",
   "execution_count": 22,
   "metadata": {
    "collapsed": false
   },
   "outputs": [],
   "source": [
    "children = 0\n",
    "teenagers = 0\n",
    "young_adults = 0\n",
    "adults = 0\n",
    "for k in d:\n",
    "    try:\n",
    "        if d[k]['age']:\n",
    "            age = int(d[k]['age'])\n",
    "            if 0 <= age <= 12:\n",
    "                children += 1\n",
    "            elif 13 <= age <= 18:\n",
    "                teenagers += 1\n",
    "            elif 19 <= age <= 25:\n",
    "                young_adults += 1\n",
    "            else:\n",
    "                adults += 1\n",
    "    except: # '16, 19'\n",
    "        teenagers += 1"
   ]
  },
  {
   "cell_type": "code",
   "execution_count": 23,
   "metadata": {
    "collapsed": false
   },
   "outputs": [
    {
     "data": {
      "text/plain": [
       "55"
      ]
     },
     "execution_count": 23,
     "metadata": {},
     "output_type": "execute_result"
    }
   ],
   "source": [
    "children"
   ]
  },
  {
   "cell_type": "code",
   "execution_count": 24,
   "metadata": {
    "collapsed": false
   },
   "outputs": [
    {
     "data": {
      "text/plain": [
       "81"
      ]
     },
     "execution_count": 24,
     "metadata": {},
     "output_type": "execute_result"
    }
   ],
   "source": [
    "teenagers"
   ]
  },
  {
   "cell_type": "code",
   "execution_count": 25,
   "metadata": {
    "collapsed": false
   },
   "outputs": [
    {
     "data": {
      "text/plain": [
       "58"
      ]
     },
     "execution_count": 25,
     "metadata": {},
     "output_type": "execute_result"
    }
   ],
   "source": [
    "young_adults"
   ]
  },
  {
   "cell_type": "code",
   "execution_count": 26,
   "metadata": {
    "collapsed": false
   },
   "outputs": [
    {
     "data": {
      "text/plain": [
       "87"
      ]
     },
     "execution_count": 26,
     "metadata": {},
     "output_type": "execute_result"
    }
   ],
   "source": [
    "adults"
   ]
  },
  {
   "cell_type": "markdown",
   "metadata": {},
   "source": [
    "## Drawings"
   ]
  },
  {
   "cell_type": "code",
   "execution_count": 27,
   "metadata": {
    "collapsed": false
   },
   "outputs": [],
   "source": [
    "drawing_words = []\n",
    "for k in d:\n",
    "    drawings = d[k]['drawings'].lower().replace(';', ',')\n",
    "    words = [x.strip() for x in drawings.split(',')]\n",
    "    drawing_words.extend(words)"
   ]
  },
  {
   "cell_type": "code",
   "execution_count": 28,
   "metadata": {
    "collapsed": false
   },
   "outputs": [],
   "source": [
    "dw = Counter(drawing_words)"
   ]
  },
  {
   "cell_type": "code",
   "execution_count": 29,
   "metadata": {
    "collapsed": false
   },
   "outputs": [],
   "source": [
    "# dw"
   ]
  },
  {
   "cell_type": "code",
   "execution_count": 30,
   "metadata": {
    "collapsed": false
   },
   "outputs": [
    {
     "data": {
      "text/plain": [
       "[('', 768),\n",
       " ('corazón', 84),\n",
       " ('cara feliz', 28),\n",
       " ('niño', 11),\n",
       " ('carita feliz', 11),\n",
       " ('nube', 7),\n",
       " ('cara sonriente', 5),\n",
       " ('perro', 4),\n",
       " ('flor', 4),\n",
       " ('sol', 3),\n",
       " ('cruz', 2)]"
      ]
     },
     "execution_count": 30,
     "metadata": {},
     "output_type": "execute_result"
    }
   ],
   "source": [
    "dw.most_common(11)"
   ]
  },
  {
   "cell_type": "markdown",
   "metadata": {},
   "source": [
    "## Words"
   ]
  },
  {
   "cell_type": "code",
   "execution_count": 31,
   "metadata": {
    "collapsed": false
   },
   "outputs": [
    {
     "data": {
      "text/plain": [
       "'!\"#$%&\\'()*+,-./:;<=>?@[\\\\]^_`{|}~'"
      ]
     },
     "execution_count": 31,
     "metadata": {},
     "output_type": "execute_result"
    }
   ],
   "source": [
    "punctuation"
   ]
  },
  {
   "cell_type": "code",
   "execution_count": 32,
   "metadata": {
    "collapsed": true
   },
   "outputs": [],
   "source": [
    "def normalize(text):\n",
    "    text = text.lower()\n",
    "    text = remove_accent_marks(text)\n",
    "    for p in punctuation:\n",
    "        text = text.replace(p, '')\n",
    "    return text"
   ]
  },
  {
   "cell_type": "code",
   "execution_count": 33,
   "metadata": {
    "collapsed": true
   },
   "outputs": [],
   "source": [
    "def total_text(r):\n",
    "    return normalize(r['title'] + ' ' + r['description'])"
   ]
  },
  {
   "cell_type": "code",
   "execution_count": 34,
   "metadata": {
    "collapsed": false
   },
   "outputs": [],
   "source": [
    "total_words = []\n",
    "for k in d:\n",
    "    text = total_text(d[k])\n",
    "    words = [w for w in word_tokenize(text) if w not in punctuation]\n",
    "    total_words.extend(words)"
   ]
  },
  {
   "cell_type": "code",
   "execution_count": 35,
   "metadata": {
    "collapsed": false
   },
   "outputs": [
    {
     "data": {
      "text/plain": [
       "48621"
      ]
     },
     "execution_count": 35,
     "metadata": {},
     "output_type": "execute_result"
    }
   ],
   "source": [
    "len(total_words)"
   ]
  },
  {
   "cell_type": "code",
   "execution_count": 36,
   "metadata": {
    "collapsed": true
   },
   "outputs": [],
   "source": [
    "total_words_freq = Counter(total_words)"
   ]
  },
  {
   "cell_type": "code",
   "execution_count": 37,
   "metadata": {
    "collapsed": false
   },
   "outputs": [
    {
     "data": {
      "text/plain": [
       "[('de', 2112),\n",
       " ('y', 2092),\n",
       " ('la', 1797),\n",
       " ('que', 1456),\n",
       " ('en', 1302),\n",
       " ('a', 1293),\n",
       " ('el', 1087),\n",
       " ('un', 871),\n",
       " ('con', 755),\n",
       " ('mi', 729)]"
      ]
     },
     "execution_count": 37,
     "metadata": {},
     "output_type": "execute_result"
    }
   ],
   "source": [
    "total_words_freq.most_common(10)"
   ]
  },
  {
   "cell_type": "code",
   "execution_count": 38,
   "metadata": {
    "collapsed": false
   },
   "outputs": [],
   "source": [
    "stop_words = [remove_accent_marks(w) for w in stopwords.words('spanish')]"
   ]
  },
  {
   "cell_type": "code",
   "execution_count": 39,
   "metadata": {
    "collapsed": false
   },
   "outputs": [],
   "source": [
    "total_nonstop_words = [w for w in total_words if w not in stop_words]"
   ]
  },
  {
   "cell_type": "code",
   "execution_count": 40,
   "metadata": {
    "collapsed": false
   },
   "outputs": [
    {
     "data": {
      "text/plain": [
       "23427"
      ]
     },
     "execution_count": 40,
     "metadata": {},
     "output_type": "execute_result"
    }
   ],
   "source": [
    "len(total_nonstop_words)"
   ]
  },
  {
   "cell_type": "code",
   "execution_count": 41,
   "metadata": {
    "collapsed": true
   },
   "outputs": [],
   "source": [
    "unique_nonstop_words = set(total_nonstop_words)"
   ]
  },
  {
   "cell_type": "code",
   "execution_count": 42,
   "metadata": {
    "collapsed": false
   },
   "outputs": [
    {
     "data": {
      "text/plain": [
       "6937"
      ]
     },
     "execution_count": 42,
     "metadata": {},
     "output_type": "execute_result"
    }
   ],
   "source": [
    "len(unique_nonstop_words)"
   ]
  },
  {
   "cell_type": "markdown",
   "metadata": {},
   "source": [
    "## Spelling"
   ]
  },
  {
   "cell_type": "code",
   "execution_count": 43,
   "metadata": {
    "collapsed": false
   },
   "outputs": [],
   "source": [
    "correct_spelling = {}\n",
    "\n",
    "for w in total_words_freq:\n",
    "    if w not in correct_spelling:\n",
    "        if w in lexicon:\n",
    "            correct_spelling[w] = w\n",
    "        else:\n",
    "            combs = combinations(w)\n",
    "            freqs = [(c, total_words_freq[c]) for c in combs if c in total_words_freq and c in lexicon]\n",
    "            if freqs:\n",
    "                freqs.sort(key=lambda x: x[1], reverse=True)\n",
    "                correct_spelling[w] = freqs[0][0]\n",
    "            else:\n",
    "                freqs = [(c, total_words_freq[c]) for c in es.suggest(w) if c in total_words_freq]\n",
    "                if freqs:\n",
    "                    freqs.sort(key=lambda x: x[1], reverse=True)\n",
    "                    correct_spelling[w] = freqs[0][0]\n",
    "                else:\n",
    "                    correct_spelling[w] = w"
   ]
  },
  {
   "cell_type": "code",
   "execution_count": 44,
   "metadata": {
    "collapsed": false
   },
   "outputs": [
    {
     "data": {
      "text/plain": [
       "7121"
      ]
     },
     "execution_count": 44,
     "metadata": {},
     "output_type": "execute_result"
    }
   ],
   "source": [
    "len(correct_spelling)"
   ]
  },
  {
   "cell_type": "code",
   "execution_count": 45,
   "metadata": {
    "collapsed": false
   },
   "outputs": [
    {
     "data": {
      "text/plain": [
       "7121"
      ]
     },
     "execution_count": 45,
     "metadata": {},
     "output_type": "execute_result"
    }
   ],
   "source": [
    "len(total_words_freq)"
   ]
  },
  {
   "cell_type": "code",
   "execution_count": 46,
   "metadata": {
    "collapsed": false
   },
   "outputs": [],
   "source": [
    "spelling_map = defaultdict(list)\n",
    "for key in correct_spelling:\n",
    "    v = correct_spelling[key]\n",
    "    spelling_map[v].append((key, total_words_freq[key]))\n",
    "spelling_map = dict(spelling_map)"
   ]
  },
  {
   "cell_type": "code",
   "execution_count": 47,
   "metadata": {
    "collapsed": false
   },
   "outputs": [
    {
     "data": {
      "text/plain": [
       "6513"
      ]
     },
     "execution_count": 47,
     "metadata": {},
     "output_type": "execute_result"
    }
   ],
   "source": [
    "len(spelling_map)"
   ]
  },
  {
   "cell_type": "code",
   "execution_count": 48,
   "metadata": {
    "collapsed": false
   },
   "outputs": [
    {
     "data": {
      "text/plain": [
       "'hacer'"
      ]
     },
     "execution_count": 48,
     "metadata": {},
     "output_type": "execute_result"
    }
   ],
   "source": [
    "correct_spelling['aser']"
   ]
  },
  {
   "cell_type": "code",
   "execution_count": 49,
   "metadata": {
    "collapsed": false
   },
   "outputs": [
    {
     "data": {
      "text/plain": [
       "[('haser', 1), ('acer', 1), ('hacer', 74), ('aser', 3)]"
      ]
     },
     "execution_count": 49,
     "metadata": {},
     "output_type": "execute_result"
    }
   ],
   "source": [
    "spelling_map['hacer']"
   ]
  },
  {
   "cell_type": "code",
   "execution_count": 50,
   "metadata": {
    "collapsed": false
   },
   "outputs": [],
   "source": [
    "mispellings = [w for w in spelling_map if w not in stop_words and len(spelling_map[w]) > 1]\n",
    "mispellings.sort()"
   ]
  },
  {
   "cell_type": "code",
   "execution_count": 51,
   "metadata": {
    "collapsed": false
   },
   "outputs": [
    {
     "data": {
      "text/plain": [
       "['abandonados',\n",
       " 'abrasamos',\n",
       " 'abuelas',\n",
       " 'abuelo',\n",
       " 'abuelos',\n",
       " 'abusar',\n",
       " 'acabo',\n",
       " 'aceptar',\n",
       " 'aceptaron',\n",
       " 'adoptar']"
      ]
     },
     "execution_count": 51,
     "metadata": {},
     "output_type": "execute_result"
    }
   ],
   "source": [
    "mispellings[:10]"
   ]
  },
  {
   "cell_type": "code",
   "execution_count": 52,
   "metadata": {
    "collapsed": false
   },
   "outputs": [
    {
     "data": {
      "text/plain": [
       "[('abandonados', 3), ('habandonados', 1)]"
      ]
     },
     "execution_count": 52,
     "metadata": {},
     "output_type": "execute_result"
    }
   ],
   "source": [
    "spelling_map['abandonados']"
   ]
  },
  {
   "cell_type": "markdown",
   "metadata": {},
   "source": [
    "## n-grams"
   ]
  },
  {
   "cell_type": "code",
   "execution_count": 53,
   "metadata": {
    "collapsed": true
   },
   "outputs": [],
   "source": [
    "def all_stopwords(ngrm):\n",
    "    return all(map(lambda x: x in stop_words, ngrm))"
   ]
  },
  {
   "cell_type": "code",
   "execution_count": 54,
   "metadata": {
    "collapsed": true
   },
   "outputs": [],
   "source": [
    "def my_ngrams(tokens):\n",
    "    ngrms = []\n",
    "    for i in range(1, 3 + 1):\n",
    "        ngrms_aux = [ngrm for ngrm in ngrams(tokens, i) if not all_stopwords(ngrm)]\n",
    "        ngrms.extend(ngrms_aux)\n",
    "    return ngrms"
   ]
  },
  {
   "cell_type": "code",
   "execution_count": 55,
   "metadata": {
    "collapsed": false
   },
   "outputs": [],
   "source": [
    "total_unigrams = []\n",
    "total_bigrams = []\n",
    "total_trigrams = []\n",
    "for k in d:\n",
    "    clean_title_words = [correct_spelling[w] for w in word_tokenize(normalize(d[k]['title']))]\n",
    "    clean_description_words = [correct_spelling[w] for w in word_tokenize(normalize(d[k]['description']))]\n",
    "    title_ngrams = my_ngrams(clean_title_words)\n",
    "    description_ngrams = my_ngrams(clean_description_words)\n",
    "    text_ngrams = title_ngrams + description_ngrams\n",
    "    total_unigrams.extend(ngrm for ngrm in text_ngrams if len(ngrm) == 1)\n",
    "    total_bigrams.extend(ngrm for ngrm in text_ngrams if len(ngrm) == 2)\n",
    "    total_trigrams.extend(ngrm for ngrm in text_ngrams if len(ngrm) == 3)"
   ]
  },
  {
   "cell_type": "code",
   "execution_count": 56,
   "metadata": {
    "collapsed": false
   },
   "outputs": [],
   "source": [
    "tuni = Counter(total_unigrams)"
   ]
  },
  {
   "cell_type": "code",
   "execution_count": 57,
   "metadata": {
    "collapsed": false
   },
   "outputs": [
    {
     "data": {
      "text/plain": [
       "[(('paz',), 707),\n",
       " (('dia',), 257),\n",
       " (('familia',), 162),\n",
       " (('personas',), 146),\n",
       " (('ser',), 140),\n",
       " (('vida',), 130),\n",
       " (('amor',), 114),\n",
       " (('hecho',), 95),\n",
       " (('mejor',), 93),\n",
       " (('cada',), 92),\n",
       " (('años',), 92),\n",
       " (('niños',), 89),\n",
       " (('despues',), 88),\n",
       " (('colegio',), 87),\n",
       " (('asi',), 85),\n",
       " (('perdon',), 84),\n",
       " (('solo',), 83),\n",
       " (('casa',), 82),\n",
       " (('hacer',), 79),\n",
       " (('tiempo',), 74),\n",
       " (('año',), 73),\n",
       " (('siempre',), 72),\n",
       " (('persona',), 67),\n",
       " (('hace',), 65),\n",
       " (('amigos',), 64),\n",
       " (('mama',), 62),\n",
       " (('hogar',), 57),\n",
       " (('cosas',), 56),\n",
       " (('dos',), 56),\n",
       " (('respeto',), 56),\n",
       " (('colombiano',), 55),\n",
       " (('trabajo',), 55),\n",
       " (('demas',), 55),\n",
       " (('violencia',), 53),\n",
       " (('mundo',), 53),\n",
       " (('mal',), 52),\n",
       " (('compañeros',), 52),\n",
       " (('pais',), 52),\n",
       " (('ayudar',), 52),\n",
       " (('ahora',), 52),\n",
       " (('hermano',), 51),\n",
       " (('social',), 50),\n",
       " (('hoy',), 50),\n",
       " (('dias',), 50),\n",
       " (('tener',), 48),\n",
       " (('corazon',), 48),\n",
       " (('bien',), 47),\n",
       " (('perdonar',), 46),\n",
       " (('calle',), 46),\n",
       " (('hablar',), 46),\n",
       " (('dije',), 46),\n",
       " (('ayuda',), 45),\n",
       " (('niño',), 45),\n",
       " (('padre',), 44),\n",
       " (('cuenta',), 44),\n",
       " (('parte',), 44),\n",
       " (('ver',), 44),\n",
       " (('conflicto',), 44),\n",
       " (('hacia',), 44),\n",
       " (('paso',), 44),\n",
       " (('pelea',), 43),\n",
       " (('momento',), 42),\n",
       " (('medio',), 42),\n",
       " (('grupo',), 42),\n",
       " (('reconciliacion',), 42),\n",
       " (('feliz',), 41),\n",
       " (('problemas',), 40),\n",
       " (('gente',), 40),\n",
       " (('luego',), 40),\n",
       " (('amiga',), 40),\n",
       " (('conflictos',), 39),\n",
       " (('manera',), 39),\n",
       " (('vivir',), 38),\n",
       " (('dijo',), 38),\n",
       " (('poder',), 38),\n",
       " (('vez',), 38),\n",
       " (('decidi',), 37),\n",
       " (('pues',), 37),\n",
       " (('entonces',), 36),\n",
       " (('comunidad',), 36),\n",
       " (('mismo',), 36),\n",
       " (('padres',), 36),\n",
       " (('situacion',), 35),\n",
       " (('pelear',), 35),\n",
       " (('forma',), 35),\n",
       " (('tolerancia',), 34),\n",
       " (('papa',), 33),\n",
       " (('diferencias',), 33),\n",
       " (('q',), 33),\n",
       " (('dios',), 33),\n",
       " (('convivencia',), 33),\n",
       " (('madre',), 33),\n",
       " (('di',), 33),\n",
       " (('cambio',), 33),\n",
       " (('hijo',), 32),\n",
       " (('conmigo',), 32),\n",
       " (('hermana',), 32),\n",
       " (('amigo',), 32),\n",
       " (('dio',), 31),\n",
       " (('hijos',), 31)]"
      ]
     },
     "execution_count": 57,
     "metadata": {},
     "output_type": "execute_result"
    }
   ],
   "source": [
    "tuni.most_common(100)"
   ]
  },
  {
   "cell_type": "code",
   "execution_count": 58,
   "metadata": {
    "collapsed": false
   },
   "outputs": [],
   "source": [
    "tbi = Counter(total_bigrams)"
   ]
  },
  {
   "cell_type": "code",
   "execution_count": 59,
   "metadata": {
    "collapsed": false
   },
   "outputs": [
    {
     "data": {
      "text/plain": [
       "[(('la', 'paz'), 378),\n",
       " (('de', 'paz'), 131),\n",
       " (('un', 'dia'), 117),\n",
       " (('paz', 'es'), 69),\n",
       " (('las', 'personas'), 67),\n",
       " (('mi', 'familia'), 60),\n",
       " (('hecho', 'de'), 56),\n",
       " (('paz', 'en'), 56),\n",
       " (('despues', 'de'), 53),\n",
       " (('la', 'vida'), 51),\n",
       " (('en', 'paz'), 50),\n",
       " (('paz', 'y'), 44),\n",
       " (('mi', 'mama'), 43),\n",
       " (('los', 'niños'), 42),\n",
       " (('la', 'calle'), 40),\n",
       " (('los', 'demas'), 40),\n",
       " (('la', 'familia'), 40),\n",
       " (('mi', 'hermano'), 40),\n",
       " (('personas', 'que'), 35),\n",
       " (('el', 'colegio'), 34),\n",
       " (('asi', 'que'), 33),\n",
       " (('grupo', 'de'), 33),\n",
       " (('un', 'grupo'), 32),\n",
       " (('el', 'amor'), 31),\n",
       " (('le', 'dije'), 31),\n",
       " (('la', 'violencia'), 30),\n",
       " (('parte', 'de'), 30),\n",
       " (('ayudar', 'a'), 30),\n",
       " (('el', 'año'), 30),\n",
       " (('mi', 'hermana'), 29),\n",
       " (('el', 'perdon'), 28),\n",
       " (('un', 'hecho'), 28),\n",
       " (('mi', 'padre'), 27),\n",
       " (('mis', 'compañeros'), 27),\n",
       " (('medio', 'de'), 25),\n",
       " (('paz', 'desde'), 25),\n",
       " (('ese', 'dia'), 24),\n",
       " (('el', 'dia'), 24),\n",
       " (('paz', 'con'), 24),\n",
       " (('familia', 'y'), 23),\n",
       " (('mi', 'papa'), 23),\n",
       " (('mi', 'casa'), 23),\n",
       " (('el', 'mundo'), 23),\n",
       " (('perdon', 'y'), 23),\n",
       " (('una', 'persona'), 23),\n",
       " (('ayuda', 'a'), 23),\n",
       " (('acto', 'de'), 23),\n",
       " (('el', 'respeto'), 22),\n",
       " (('mi', 'vida'), 22),\n",
       " (('paz', 'se'), 21),\n",
       " (('la', 'gente'), 21),\n",
       " (('amor', 'y'), 21),\n",
       " (('y', 'despues'), 20),\n",
       " (('a', 'ser'), 20),\n",
       " (('forma', 'de'), 20),\n",
       " (('las', 'cosas'), 20),\n",
       " (('dije', 'que'), 20),\n",
       " (('un', 'amigo'), 20),\n",
       " (('cuenta', 'que'), 20),\n",
       " (('del', 'colegio'), 19),\n",
       " (('mi', 'hecho'), 19),\n",
       " (('cada', 'uno'), 19),\n",
       " (('me', 'dijo'), 19),\n",
       " (('la', 'ciudad'), 19),\n",
       " (('y', 'años'), 19),\n",
       " (('la', 'oportunidad'), 19),\n",
       " (('llegar', 'a'), 19),\n",
       " (('el', 'corazon'), 19),\n",
       " (('un', 'niño'), 19),\n",
       " (('dijo', 'que'), 19),\n",
       " (('toda', 'la'), 18),\n",
       " (('la', 'casa'), 18),\n",
       " (('este', 'año'), 18),\n",
       " (('mis', 'padres'), 18),\n",
       " (('cada', 'dia'), 18),\n",
       " (('todas', 'las'), 18),\n",
       " (('de', 'vida'), 18),\n",
       " (('los', 'dias'), 18),\n",
       " (('mi', 'madre'), 17),\n",
       " (('a', 'traves'), 17),\n",
       " (('la', 'comunidad'), 17),\n",
       " (('por', 'medio'), 17),\n",
       " (('luego', 'de'), 17),\n",
       " (('dia', 'en'), 17),\n",
       " (('los', 'animales'), 17),\n",
       " (('paz', 'no'), 17),\n",
       " (('cosas', 'que'), 17),\n",
       " (('y', 'amor'), 16),\n",
       " (('el', 'tiempo'), 16),\n",
       " (('en', 'colombiano'), 16),\n",
       " (('oportunidad', 'de'), 16),\n",
       " (('sin', 'embargo'), 16),\n",
       " (('mi', 'hijo'), 16),\n",
       " (('la', 'guerra'), 15),\n",
       " (('mama', 'y'), 15),\n",
       " (('no', 'solo'), 15),\n",
       " (('le', 'di'), 15),\n",
       " (('y', 'ahora'), 15),\n",
       " (('casa', 'y'), 15),\n",
       " (('una', 'pelea'), 15)]"
      ]
     },
     "execution_count": 59,
     "metadata": {},
     "output_type": "execute_result"
    }
   ],
   "source": [
    "tbi.most_common(100)"
   ]
  },
  {
   "cell_type": "code",
   "execution_count": 60,
   "metadata": {
    "collapsed": false
   },
   "outputs": [],
   "source": [
    "ttri = Counter(total_trigrams)"
   ]
  },
  {
   "cell_type": "code",
   "execution_count": 61,
   "metadata": {
    "collapsed": false
   },
   "outputs": [
    {
     "data": {
      "text/plain": [
       "[(('la', 'paz', 'es'), 51),\n",
       " (('hecho', 'de', 'paz'), 45),\n",
       " (('a', 'la', 'paz'), 32),\n",
       " (('en', 'el', 'colegio'), 29),\n",
       " (('un', 'grupo', 'de'), 26),\n",
       " (('la', 'paz', 'en'), 26),\n",
       " (('a', 'los', 'demas'), 23),\n",
       " (('para', 'la', 'paz'), 21),\n",
       " (('las', 'personas', 'que'), 20),\n",
       " (('en', 'el', 'año'), 19),\n",
       " (('un', 'hecho', 'de'), 19),\n",
       " (('a', 'las', 'personas'), 19),\n",
       " (('en', 'la', 'calle'), 18),\n",
       " (('de', 'la', 'calle'), 18),\n",
       " (('con', 'mi', 'hermano'), 17),\n",
       " (('mi', 'hecho', 'de'), 17),\n",
       " (('de', 'la', 'paz'), 17),\n",
       " (('que', 'la', 'paz'), 17),\n",
       " (('la', 'paz', 'se'), 17),\n",
       " (('con', 'mi', 'familia'), 16),\n",
       " (('la', 'paz', 'desde'), 15),\n",
       " (('con', 'mi', 'mama'), 15),\n",
       " (('la', 'oportunidad', 'de'), 15),\n",
       " (('todos', 'los', 'dias'), 14),\n",
       " (('un', 'dia', 'en'), 14),\n",
       " (('con', 'mi', 'hermana'), 14),\n",
       " (('me', 'di', 'cuenta'), 14),\n",
       " (('la', 'paz', 'y'), 14),\n",
       " (('por', 'medio', 'de'), 14),\n",
       " (('a', 'traves', 'de'), 13),\n",
       " (('por', 'la', 'paz'), 13),\n",
       " (('la', 'paz', 'no'), 13),\n",
       " (('a', 'los', 'niños'), 12),\n",
       " (('a', 'pesar', 'de'), 12),\n",
       " (('mi', 'mama', 'y'), 12),\n",
       " (('de', 'paz', 'es'), 12),\n",
       " (('hoy', 'en', 'dia'), 12),\n",
       " (('de', 'paz', 'y'), 12),\n",
       " (('en', 'medio', 'de'), 11),\n",
       " (('de', 'la', 'vida'), 11),\n",
       " (('le', 'dije', 'que'), 11),\n",
       " (('la', 'paz', 'con'), 11),\n",
       " (('la', 'calle', 'y'), 11),\n",
       " (('yo', 'le', 'dije'), 11),\n",
       " (('mi', 'familia', 'y'), 11),\n",
       " (('a', 'mi', 'casa'), 10),\n",
       " (('con', 'la', 'paz'), 10),\n",
       " (('de', 'la', 'familia'), 10),\n",
       " (('la', 'paz', 'esta'), 10),\n",
       " (('en', 'la', 'familia'), 10),\n",
       " (('la', 'paz', 'la'), 10),\n",
       " (('paz', 'en', 'la'), 10),\n",
       " (('vivir', 'en', 'paz'), 10),\n",
       " (('mi', 'mejor', 'amiga'), 10),\n",
       " (('con', 'un', 'grupo'), 10),\n",
       " (('y', 'despues', 'de'), 9),\n",
       " (('paz', 'en', 'mi'), 9),\n",
       " (('dia', 'a', 'dia'), 9),\n",
       " (('en', 'mi', 'colegio'), 9),\n",
       " (('acto', 'de', 'paz'), 9),\n",
       " (('paz', 'esta', 'en'), 9),\n",
       " (('con', 'mis', 'compañeros'), 9),\n",
       " (('una', 'discusion', 'con'), 9),\n",
       " (('de', 'los', 'niños'), 9),\n",
       " (('y', 'la', 'paz'), 9),\n",
       " (('a', 'mi', 'mama'), 9),\n",
       " (('di', 'cuenta', 'que'), 9),\n",
       " (('paz', 'en', 'el'), 9),\n",
       " (('la', 'vida', 'y'), 9),\n",
       " (('pelee', 'con', 'mi'), 9),\n",
       " (('de', 'las', 'personas'), 9),\n",
       " (('que', 'un', 'dia'), 9),\n",
       " (('y', 'me', 'dio'), 8),\n",
       " (('lograr', 'la', 'paz'), 8),\n",
       " (('con', 'las', 'personas'), 8),\n",
       " (('la', 'paz', 'de'), 8),\n",
       " (('en', 'la', 'ciudad'), 8),\n",
       " (('el', 'amor', 'y'), 8),\n",
       " (('el', 'dia', 'que'), 8),\n",
       " (('por', 'parte', 'de'), 8),\n",
       " (('mi', 'hermana', 'y'), 8),\n",
       " (('a', 'partir', 'de'), 8),\n",
       " (('me', 'dijo', 'que'), 8),\n",
       " (('hacer', 'la', 'paz'), 8),\n",
       " (('los', 'niños', 'y'), 8),\n",
       " (('un', 'dia', 'estaba'), 8),\n",
       " (('la', 'paz', 'empieza'), 8),\n",
       " (('en', 'la', 'universidad'), 8),\n",
       " (('en', 'mi', 'familia'), 8),\n",
       " (('tuve', 'la', 'oportunidad'), 8),\n",
       " (('la', 'decision', 'de'), 8),\n",
       " (('a', 'un', 'amigo'), 8),\n",
       " (('un', 'acto', 'de'), 8),\n",
       " (('es', 'un', 'hecho'), 8),\n",
       " (('de', 'la', 'violencia'), 8),\n",
       " (('las', 'demas', 'personas'), 7),\n",
       " (('de', 'mi', 'familia'), 7),\n",
       " (('un', 'dia', 'me'), 7),\n",
       " (('paz', 'con', 'el'), 7),\n",
       " (('para', 'lograr', 'la'), 7)]"
      ]
     },
     "execution_count": 61,
     "metadata": {},
     "output_type": "execute_result"
    }
   ],
   "source": [
    "ttri.most_common(100)"
   ]
  },
  {
   "cell_type": "markdown",
   "metadata": {},
   "source": [
    "## Animales"
   ]
  },
  {
   "cell_type": "code",
   "execution_count": 62,
   "metadata": {
    "collapsed": true
   },
   "outputs": [],
   "source": [
    "animales = ['animal', 'animalito', 'animales', 'animalitos',\n",
    "            'perro', 'perra', 'perros', 'perras', 'perrito', 'perrita', 'perritos', 'perritas',\n",
    "            'gato', 'gata', 'gatos', 'gatas', 'gatito', 'gatita', 'gatitos', 'gatitas',\n",
    "            'mascota', 'ovejita', 'pez']"
   ]
  },
  {
   "cell_type": "code",
   "execution_count": 63,
   "metadata": {
    "collapsed": true
   },
   "outputs": [],
   "source": [
    "# animales = ['caballo', 'yegua', 'caballito', 'burro', 'burrito', 'oveja',\n",
    "#             'cabra', 'vaquita', 'ovejita', 'vaca', 'cordero', 'corderito',\n",
    "#             'pez', 'pececito', 'cerdo', 'cerdito', 'puerco', 'gallina', 'pollo', 'gallo',\n",
    "#             'pesesito', 'pes']"
   ]
  },
  {
   "cell_type": "code",
   "execution_count": 64,
   "metadata": {
    "collapsed": true
   },
   "outputs": [],
   "source": [
    "total_animales = []\n",
    "for k in d:\n",
    "    text = total_text(d[k])\n",
    "    words = [w for w in word_tokenize(text) if w not in punctuation]\n",
    "    for a in words:\n",
    "        if a in animales:\n",
    "            total_animales.append(a)"
   ]
  },
  {
   "cell_type": "code",
   "execution_count": 65,
   "metadata": {
    "collapsed": false
   },
   "outputs": [
    {
     "data": {
      "text/plain": [
       "149"
      ]
     },
     "execution_count": 65,
     "metadata": {},
     "output_type": "execute_result"
    }
   ],
   "source": [
    "len(total_animales)"
   ]
  },
  {
   "cell_type": "code",
   "execution_count": 66,
   "metadata": {
    "collapsed": false
   },
   "outputs": [],
   "source": [
    "ta = Counter(total_animales)"
   ]
  },
  {
   "cell_type": "code",
   "execution_count": 67,
   "metadata": {
    "collapsed": false
   },
   "outputs": [
    {
     "data": {
      "text/plain": [
       "Counter({'animal': 16,\n",
       "         'animales': 31,\n",
       "         'animalito': 2,\n",
       "         'animalitos': 1,\n",
       "         'gata': 3,\n",
       "         'gatito': 4,\n",
       "         'gatitos': 1,\n",
       "         'gato': 14,\n",
       "         'gatos': 6,\n",
       "         'mascota': 6,\n",
       "         'ovejita': 1,\n",
       "         'perra': 4,\n",
       "         'perrita': 7,\n",
       "         'perrito': 22,\n",
       "         'perritos': 5,\n",
       "         'perro': 13,\n",
       "         'perros': 11,\n",
       "         'pez': 2})"
      ]
     },
     "execution_count": 67,
     "metadata": {},
     "output_type": "execute_result"
    }
   ],
   "source": [
    "ta"
   ]
  },
  {
   "cell_type": "code",
   "execution_count": 68,
   "metadata": {
    "collapsed": false
   },
   "outputs": [],
   "source": [
    "total_animales_m = []\n",
    "total_animales_f = []\n",
    "for k in d:\n",
    "    text = total_text(d[k])\n",
    "    words = [w for w in word_tokenize(text) if w not in punctuation]\n",
    "    for a in words:\n",
    "        if a in animales:\n",
    "            if d[k]['gender'] == 'M':\n",
    "                total_animales_m.append(a)\n",
    "            elif d[k]['gender'] == 'F':\n",
    "                total_animales_f.append(a)"
   ]
  },
  {
   "cell_type": "code",
   "execution_count": 69,
   "metadata": {
    "collapsed": false
   },
   "outputs": [
    {
     "data": {
      "text/plain": [
       "20"
      ]
     },
     "execution_count": 69,
     "metadata": {},
     "output_type": "execute_result"
    }
   ],
   "source": [
    "len(total_animales_m)"
   ]
  },
  {
   "cell_type": "code",
   "execution_count": 70,
   "metadata": {
    "collapsed": false
   },
   "outputs": [
    {
     "data": {
      "text/plain": [
       "59"
      ]
     },
     "execution_count": 70,
     "metadata": {},
     "output_type": "execute_result"
    }
   ],
   "source": [
    "len(total_animales_f)"
   ]
  },
  {
   "cell_type": "code",
   "execution_count": 71,
   "metadata": {
    "collapsed": false,
    "scrolled": true
   },
   "outputs": [
    {
     "data": {
      "text/plain": [
       "[('perrito', 5),\n",
       " ('perro', 4),\n",
       " ('perritos', 3),\n",
       " ('gato', 3),\n",
       " ('mascota', 2),\n",
       " ('animales', 2),\n",
       " ('perros', 1)]"
      ]
     },
     "execution_count": 71,
     "metadata": {},
     "output_type": "execute_result"
    }
   ],
   "source": [
    "Counter(total_animales_m).most_common()"
   ]
  },
  {
   "cell_type": "code",
   "execution_count": 72,
   "metadata": {
    "collapsed": false,
    "scrolled": true
   },
   "outputs": [
    {
     "data": {
      "text/plain": [
       "[('animales', 17),\n",
       " ('animal', 9),\n",
       " ('gato', 8),\n",
       " ('perros', 6),\n",
       " ('perro', 3),\n",
       " ('perrito', 3),\n",
       " ('gatito', 2),\n",
       " ('perrita', 2),\n",
       " ('perra', 2),\n",
       " ('animalito', 2),\n",
       " ('animalitos', 1),\n",
       " ('mascota', 1),\n",
       " ('gatitos', 1),\n",
       " ('gata', 1),\n",
       " ('gatos', 1)]"
      ]
     },
     "execution_count": 72,
     "metadata": {},
     "output_type": "execute_result"
    }
   ],
   "source": [
    "Counter(total_animales_f).most_common()"
   ]
  },
  {
   "cell_type": "code",
   "execution_count": 73,
   "metadata": {
    "collapsed": false
   },
   "outputs": [],
   "source": [
    "total_animales_age = []\n",
    "total_animales_noage = []\n",
    "for k in d:\n",
    "    text = total_text(d[k])\n",
    "    words = [w for w in word_tokenize(text) if w not in punctuation]\n",
    "    for a in words:\n",
    "        if a in animales:\n",
    "            if d[k]['age']:\n",
    "                total_animales_age.append(a)\n",
    "            else:\n",
    "                total_animales_noage.append(a)"
   ]
  },
  {
   "cell_type": "code",
   "execution_count": 74,
   "metadata": {
    "collapsed": false
   },
   "outputs": [
    {
     "data": {
      "text/plain": [
       "59"
      ]
     },
     "execution_count": 74,
     "metadata": {},
     "output_type": "execute_result"
    }
   ],
   "source": [
    "len(total_animales_age)"
   ]
  },
  {
   "cell_type": "code",
   "execution_count": 75,
   "metadata": {
    "collapsed": false
   },
   "outputs": [
    {
     "data": {
      "text/plain": [
       "90"
      ]
     },
     "execution_count": 75,
     "metadata": {},
     "output_type": "execute_result"
    }
   ],
   "source": [
    "len(total_animales_noage)"
   ]
  },
  {
   "cell_type": "code",
   "execution_count": 76,
   "metadata": {
    "collapsed": false
   },
   "outputs": [],
   "source": [
    "total_animales_ch = []\n",
    "total_animales_te = []\n",
    "total_animales_ya = []\n",
    "total_animales_ad = []\n",
    "for k in d:\n",
    "    text = total_text(d[k])\n",
    "    words = [w for w in word_tokenize(text) if w not in punctuation]\n",
    "    for a in words:\n",
    "        if a in animales:\n",
    "            try:\n",
    "                if d[k]['age']:\n",
    "                    age = int(d[k]['age'])\n",
    "                    if 0 <= age <= 12:\n",
    "                        total_animales_ch.append(a)\n",
    "                    elif 13 <= age <= 18:\n",
    "                        total_animales_te.append(a)\n",
    "                    elif 19 <= age <= 25:\n",
    "                        total_animales_ya.append(a)\n",
    "                    else:\n",
    "                        total_animales_ad.append(a)\n",
    "            except: # '16, 19'\n",
    "                total_animales_te.append(a)"
   ]
  },
  {
   "cell_type": "code",
   "execution_count": 77,
   "metadata": {
    "collapsed": false
   },
   "outputs": [
    {
     "data": {
      "text/plain": [
       "27"
      ]
     },
     "execution_count": 77,
     "metadata": {},
     "output_type": "execute_result"
    }
   ],
   "source": [
    "len(total_animales_ch)"
   ]
  },
  {
   "cell_type": "code",
   "execution_count": 78,
   "metadata": {
    "collapsed": false
   },
   "outputs": [
    {
     "data": {
      "text/plain": [
       "[('gato', 8),\n",
       " ('perrito', 5),\n",
       " ('perro', 4),\n",
       " ('animales', 3),\n",
       " ('animal', 3),\n",
       " ('mascota', 2),\n",
       " ('perritos', 1),\n",
       " ('animalito', 1)]"
      ]
     },
     "execution_count": 78,
     "metadata": {},
     "output_type": "execute_result"
    }
   ],
   "source": [
    "Counter(total_animales_ch).most_common()"
   ]
  },
  {
   "cell_type": "code",
   "execution_count": 79,
   "metadata": {
    "collapsed": false
   },
   "outputs": [
    {
     "data": {
      "text/plain": [
       "16"
      ]
     },
     "execution_count": 79,
     "metadata": {},
     "output_type": "execute_result"
    }
   ],
   "source": [
    "len(total_animales_te)"
   ]
  },
  {
   "cell_type": "code",
   "execution_count": 80,
   "metadata": {
    "collapsed": false
   },
   "outputs": [
    {
     "data": {
      "text/plain": [
       "[('animales', 4),\n",
       " ('perrito', 3),\n",
       " ('animal', 3),\n",
       " ('perros', 1),\n",
       " ('gatito', 1),\n",
       " ('mascota', 1),\n",
       " ('gato', 1),\n",
       " ('animalito', 1),\n",
       " ('perrita', 1)]"
      ]
     },
     "execution_count": 80,
     "metadata": {},
     "output_type": "execute_result"
    }
   ],
   "source": [
    "Counter(total_animales_te).most_common()"
   ]
  },
  {
   "cell_type": "code",
   "execution_count": 81,
   "metadata": {
    "collapsed": false
   },
   "outputs": [
    {
     "data": {
      "text/plain": [
       "10"
      ]
     },
     "execution_count": 81,
     "metadata": {},
     "output_type": "execute_result"
    }
   ],
   "source": [
    "len(total_animales_ya)"
   ]
  },
  {
   "cell_type": "code",
   "execution_count": 82,
   "metadata": {
    "collapsed": false
   },
   "outputs": [
    {
     "data": {
      "text/plain": [
       "[('animales', 3),\n",
       " ('animal', 2),\n",
       " ('perra', 2),\n",
       " ('perrita', 1),\n",
       " ('gatitos', 1),\n",
       " ('gato', 1)]"
      ]
     },
     "execution_count": 82,
     "metadata": {},
     "output_type": "execute_result"
    }
   ],
   "source": [
    "Counter(total_animales_ya).most_common()"
   ]
  },
  {
   "cell_type": "code",
   "execution_count": 83,
   "metadata": {
    "collapsed": false
   },
   "outputs": [
    {
     "data": {
      "text/plain": [
       "6"
      ]
     },
     "execution_count": 83,
     "metadata": {},
     "output_type": "execute_result"
    }
   ],
   "source": [
    "len(total_animales_ad)"
   ]
  },
  {
   "cell_type": "code",
   "execution_count": 84,
   "metadata": {
    "collapsed": false
   },
   "outputs": [
    {
     "data": {
      "text/plain": [
       "[('animales', 4), ('gata', 1), ('perros', 1)]"
      ]
     },
     "execution_count": 84,
     "metadata": {},
     "output_type": "execute_result"
    }
   ],
   "source": [
    "Counter(total_animales_ad).most_common()"
   ]
  },
  {
   "cell_type": "code",
   "execution_count": 85,
   "metadata": {
    "collapsed": false
   },
   "outputs": [],
   "source": [
    "total_cards_with_animales = 0\n",
    "for k in d:\n",
    "    text = total_text(d[k])\n",
    "    words = [w for w in word_tokenize(text) if w not in punctuation]\n",
    "    for a in words:\n",
    "        if a in animales:\n",
    "            total_cards_with_animales += 1\n",
    "            break"
   ]
  },
  {
   "cell_type": "code",
   "execution_count": 86,
   "metadata": {
    "collapsed": false
   },
   "outputs": [
    {
     "data": {
      "text/plain": [
       "70"
      ]
     },
     "execution_count": 86,
     "metadata": {},
     "output_type": "execute_result"
    }
   ],
   "source": [
    "total_cards_with_animales"
   ]
  },
  {
   "cell_type": "code",
   "execution_count": null,
   "metadata": {
    "collapsed": true
   },
   "outputs": [],
   "source": []
  }
 ],
 "metadata": {
  "kernelspec": {
   "display_name": "Python 3",
   "language": "python",
   "name": "python3"
  },
  "language_info": {
   "codemirror_mode": {
    "name": "ipython",
    "version": 3
   },
   "file_extension": ".py",
   "mimetype": "text/x-python",
   "name": "python",
   "nbconvert_exporter": "python",
   "pygments_lexer": "ipython3",
   "version": "3.4.3"
  }
 },
 "nbformat": 4,
 "nbformat_minor": 0
}
