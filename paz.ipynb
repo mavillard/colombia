{
 "cells": [
  {
   "cell_type": "code",
   "execution_count": 1,
   "metadata": {
    "collapsed": false
   },
   "outputs": [],
   "source": [
    "import csv\n",
    "import os\n",
    "from collections import Counter\n",
    "from collections import defaultdict\n",
    "from string import punctuation\n",
    "\n",
    "import enchant\n",
    "from nltk import word_tokenize\n",
    "from nltk.corpus import stopwords\n",
    "from nltk.util import ngrams"
   ]
  },
  {
   "cell_type": "markdown",
   "metadata": {},
   "source": [
    "# Lexicon"
   ]
  },
  {
   "cell_type": "code",
   "execution_count": 2,
   "metadata": {
    "collapsed": true
   },
   "outputs": [],
   "source": [
    "def remove_accent_marks(w):\n",
    "    r = w\n",
    "    r = r.replace('á', 'a')\n",
    "    r = r.replace('é', 'e')\n",
    "    r = r.replace('í', 'i')\n",
    "    r = r.replace('ó', 'o')\n",
    "    r = r.replace('ú', 'u')\n",
    "    return r"
   ]
  },
  {
   "cell_type": "code",
   "execution_count": 3,
   "metadata": {
    "collapsed": false
   },
   "outputs": [],
   "source": [
    "lexicon = {}\n",
    "with open('lexicon/es_lexicon.csv') as f:\n",
    "    reader = csv.reader(\n",
    "        f,\n",
    "        delimiter=' ',\n",
    "    )\n",
    "    for row in reader:\n",
    "        w = remove_accent_marks(row[0])\n",
    "        lexicon[w] = []\n",
    "        for i in range(1, len(row[1:]), 2):\n",
    "            entry = {}\n",
    "            entry['lemma'] = remove_accent_marks(row[i].lower())\n",
    "            entry['eagle'] = remove_accent_marks(row[i+1].lower())\n",
    "            lexicon[w].append(entry)"
   ]
  },
  {
   "cell_type": "code",
   "execution_count": 4,
   "metadata": {
    "collapsed": false
   },
   "outputs": [
    {
     "data": {
      "text/plain": [
       "500949"
      ]
     },
     "execution_count": 4,
     "metadata": {},
     "output_type": "execute_result"
    }
   ],
   "source": [
    "len(lexicon)"
   ]
  },
  {
   "cell_type": "code",
   "execution_count": 5,
   "metadata": {
    "collapsed": false
   },
   "outputs": [],
   "source": [
    "def is_vowel(c):\n",
    "    return c in 'aeiouAEIOUáéíóúÁÉÍÓÚüÜ'\n",
    "\n",
    "def next_level(w):\n",
    "    result = [w]\n",
    "    if is_vowel(w[0]):\n",
    "        result.append('h' + w)\n",
    "    elif w.startswith('h'):\n",
    "        result.append(w[1:])\n",
    "    if \"q'\" in w:\n",
    "        result.append(w.replace(\"q'\", 'que'))\n",
    "    for i in range(len(w)):\n",
    "        if w[i] == 'v':\n",
    "            result.append(w[:i] + 'b' + w[i+1:])\n",
    "        elif w[i] == 'b':\n",
    "            result.append(w[:i] + 'v' + w[i+1:])\n",
    "            result.append(w[:i] + 'd' + w[i+1:])\n",
    "        elif w[i] == 'd':\n",
    "            result.append(w[:i] + 'b' + w[i+1:])\n",
    "        elif w[i] == 'c' and i < len(w) - 1 and w[i+1] in 'ei':\n",
    "            result.append(w[:i] + 's' + w[i+1:])\n",
    "        elif w[i] == 's' and i < len(w) - 1 and w[i+1] in 'ei':\n",
    "            result.append(w[:i] + 'c' + w[i+1:])\n",
    "    return result\n",
    "\n",
    "def combinations_aux(visited, result):\n",
    "    while visited:\n",
    "        w = visited[0]\n",
    "        visited = visited[1:]\n",
    "        if w not in result:\n",
    "            result.append(w)\n",
    "            combs = next_level(w)\n",
    "            visited.extend(combs)        \n",
    "    return result\n",
    "\n",
    "def combinations(w):\n",
    "    return combinations_aux([w], [])"
   ]
  },
  {
   "cell_type": "code",
   "execution_count": 6,
   "metadata": {
    "collapsed": true
   },
   "outputs": [],
   "source": [
    "es = enchant.Dict('es_ES')"
   ]
  },
  {
   "cell_type": "markdown",
   "metadata": {},
   "source": [
    "# Analysis"
   ]
  },
  {
   "cell_type": "code",
   "execution_count": 7,
   "metadata": {
    "collapsed": false
   },
   "outputs": [
    {
     "data": {
      "text/plain": [
       "['ana.csv', 'dago.csv', 'nandi.csv', 'rafa.csv', 'antonio.csv', 'yadira.csv']"
      ]
     },
     "execution_count": 7,
     "metadata": {},
     "output_type": "execute_result"
    }
   ],
   "source": [
    "os.listdir('data')"
   ]
  },
  {
   "cell_type": "code",
   "execution_count": 8,
   "metadata": {
    "collapsed": false
   },
   "outputs": [],
   "source": [
    "d = {}\n",
    "for filename in os.listdir('data'):\n",
    "    with open('data/' + filename) as f:\n",
    "        reader = csv.reader(\n",
    "            f,\n",
    "            delimiter=',',\n",
    "            quotechar='\"'\n",
    "        )\n",
    "        next(reader)\n",
    "        for row in reader:\n",
    "            d[row[0]] = {\n",
    "                'date': row[1],\n",
    "                'name': row[2],\n",
    "                'gender': row[3],\n",
    "                'age': row[4],\n",
    "                'city': row[5],\n",
    "                'drawings': row[6],\n",
    "                'title': row[7],\n",
    "                'description': row[8],\n",
    "            }"
   ]
  },
  {
   "cell_type": "code",
   "execution_count": 9,
   "metadata": {
    "collapsed": false
   },
   "outputs": [
    {
     "data": {
      "text/plain": [
       "1028"
      ]
     },
     "execution_count": 9,
     "metadata": {},
     "output_type": "execute_result"
    }
   ],
   "source": [
    "len(d)"
   ]
  },
  {
   "cell_type": "markdown",
   "metadata": {},
   "source": [
    "## Gender"
   ]
  },
  {
   "cell_type": "code",
   "execution_count": 10,
   "metadata": {
    "collapsed": false
   },
   "outputs": [],
   "source": [
    "blank = 0\n",
    "male = 0\n",
    "female = 0\n",
    "for k in d:\n",
    "    gender = d[k]['gender']\n",
    "    if gender == 'M':\n",
    "        male += 1\n",
    "    elif gender == 'F':\n",
    "        female += 1\n",
    "    else:\n",
    "        blank += 1"
   ]
  },
  {
   "cell_type": "code",
   "execution_count": 11,
   "metadata": {
    "collapsed": false
   },
   "outputs": [
    {
     "data": {
      "text/plain": [
       "534"
      ]
     },
     "execution_count": 11,
     "metadata": {},
     "output_type": "execute_result"
    }
   ],
   "source": [
    "blank"
   ]
  },
  {
   "cell_type": "code",
   "execution_count": 12,
   "metadata": {
    "collapsed": false
   },
   "outputs": [
    {
     "data": {
      "text/plain": [
       "146"
      ]
     },
     "execution_count": 12,
     "metadata": {},
     "output_type": "execute_result"
    }
   ],
   "source": [
    "male"
   ]
  },
  {
   "cell_type": "code",
   "execution_count": 13,
   "metadata": {
    "collapsed": false
   },
   "outputs": [
    {
     "data": {
      "text/plain": [
       "348"
      ]
     },
     "execution_count": 13,
     "metadata": {},
     "output_type": "execute_result"
    }
   ],
   "source": [
    "female"
   ]
  },
  {
   "cell_type": "markdown",
   "metadata": {},
   "source": [
    "## Date"
   ]
  },
  {
   "cell_type": "code",
   "execution_count": 14,
   "metadata": {
    "collapsed": true
   },
   "outputs": [],
   "source": [
    "dates = []\n",
    "for k in d:\n",
    "    date = d[k]['date']\n",
    "    if date == '2016/6/10':\n",
    "        date = '2016/06/10'\n",
    "    elif date == '2011-2014':\n",
    "        date = '2011/01/01'\n",
    "    elif date == '2013/01/01 – 2016/01/01':\n",
    "        date = '2013/01/01'\n",
    "    elif date == '2015/1017':\n",
    "        date = '2015/10/17'\n",
    "    elif date == '2016/4/28':\n",
    "        date = '2016/04/28'\n",
    "    elif date == '2016/04/27 – 2016/03/20':\n",
    "        date = '2016/03/20'\n",
    "    elif date == '2015-2016':\n",
    "        date = '2015/01/01'\n",
    "    elif date == '2016/4/27':\n",
    "        date = '2016/04/27'\n",
    "    elif date == '201210/21':\n",
    "        date = '2012/10/21'\n",
    "    elif date == '2015/05':\n",
    "        date = '2015/05/01'\n",
    "    dates.append(date.replace('/', '-'))"
   ]
  },
  {
   "cell_type": "code",
   "execution_count": 15,
   "metadata": {
    "collapsed": true
   },
   "outputs": [],
   "source": [
    "dates = [da for da in dates if da]"
   ]
  },
  {
   "cell_type": "code",
   "execution_count": 16,
   "metadata": {
    "collapsed": false
   },
   "outputs": [
    {
     "data": {
      "text/plain": [
       "950"
      ]
     },
     "execution_count": 16,
     "metadata": {},
     "output_type": "execute_result"
    }
   ],
   "source": [
    "len(dates)"
   ]
  },
  {
   "cell_type": "code",
   "execution_count": 17,
   "metadata": {
    "collapsed": false
   },
   "outputs": [],
   "source": [
    "workshop_dates = [da for da in dates if '2016-04-19' <= da <= '2016-05-02']"
   ]
  },
  {
   "cell_type": "code",
   "execution_count": 18,
   "metadata": {
    "collapsed": false
   },
   "outputs": [
    {
     "data": {
      "text/plain": [
       "234"
      ]
     },
     "execution_count": 18,
     "metadata": {},
     "output_type": "execute_result"
    }
   ],
   "source": [
    "len(workshop_dates)"
   ]
  },
  {
   "cell_type": "code",
   "execution_count": 19,
   "metadata": {
    "collapsed": true
   },
   "outputs": [],
   "source": [
    "workshop_dates_counter = Counter(workshop_dates)"
   ]
  },
  {
   "cell_type": "code",
   "execution_count": 20,
   "metadata": {
    "collapsed": false
   },
   "outputs": [
    {
     "data": {
      "text/plain": [
       "Counter({'2016-04-19': 1,\n",
       "         '2016-04-20': 3,\n",
       "         '2016-04-21': 5,\n",
       "         '2016-04-22': 1,\n",
       "         '2016-04-23': 6,\n",
       "         '2016-04-24': 10,\n",
       "         '2016-04-25': 11,\n",
       "         '2016-04-26': 22,\n",
       "         '2016-04-27': 34,\n",
       "         '2016-04-28': 27,\n",
       "         '2016-04-29': 24,\n",
       "         '2016-04-30': 54,\n",
       "         '2016-05-01': 35,\n",
       "         '2016-05-02': 1})"
      ]
     },
     "execution_count": 20,
     "metadata": {},
     "output_type": "execute_result"
    }
   ],
   "source": [
    "workshop_dates_counter"
   ]
  },
  {
   "cell_type": "code",
   "execution_count": 21,
   "metadata": {
    "collapsed": false
   },
   "outputs": [],
   "source": [
    "fact_dates = [da for da in dates if not '2016-04-19' <= da <= '2016-05-02']"
   ]
  },
  {
   "cell_type": "code",
   "execution_count": 22,
   "metadata": {
    "collapsed": false
   },
   "outputs": [
    {
     "data": {
      "text/plain": [
       "716"
      ]
     },
     "execution_count": 22,
     "metadata": {},
     "output_type": "execute_result"
    }
   ],
   "source": [
    "len(fact_dates)"
   ]
  },
  {
   "cell_type": "code",
   "execution_count": 23,
   "metadata": {
    "collapsed": true
   },
   "outputs": [],
   "source": [
    "fact_dates_counter = Counter(fact_dates)"
   ]
  },
  {
   "cell_type": "code",
   "execution_count": 24,
   "metadata": {
    "collapsed": false
   },
   "outputs": [
    {
     "data": {
      "text/plain": [
       "Counter({'1810-03-01': 1,\n",
       "         '1905-05-06': 1,\n",
       "         '1905-06-05': 1,\n",
       "         '1905-06-17': 1,\n",
       "         '1905-07-07': 1,\n",
       "         '1916-04-30': 1,\n",
       "         '1953-01-01': 1,\n",
       "         '1963-12-01': 1,\n",
       "         '1973-02-14': 1,\n",
       "         '1989-09-01': 1,\n",
       "         '1990-01-01': 2,\n",
       "         '1993-01-01': 2,\n",
       "         '1994-08-12': 1,\n",
       "         '1995-01-01': 2,\n",
       "         '1995-07-01': 1,\n",
       "         '1996-02-01': 1,\n",
       "         '1996-08-15': 1,\n",
       "         '1996-12-14': 1,\n",
       "         '1997-01-01': 1,\n",
       "         '1997-11-11': 1,\n",
       "         '1998-01-01': 1,\n",
       "         '1998-11-01': 1,\n",
       "         '1999-01-01': 3,\n",
       "         '1999-01-25': 1,\n",
       "         '2000-01-01': 5,\n",
       "         '2000-03-01': 1,\n",
       "         '2000-04-01': 1,\n",
       "         '2000-04-19': 1,\n",
       "         '2000-04-28': 1,\n",
       "         '2001-01-15': 1,\n",
       "         '2001-02-01': 1,\n",
       "         '2002-01-01': 2,\n",
       "         '2002-05-01': 1,\n",
       "         '2003-01-01': 2,\n",
       "         '2004-01-01': 4,\n",
       "         '2004-04-23': 1,\n",
       "         '2005-01-01': 5,\n",
       "         '2005-02-01': 1,\n",
       "         '2005-04-28': 1,\n",
       "         '2006-01-01': 5,\n",
       "         '2006-04-24': 1,\n",
       "         '2006-09-01': 2,\n",
       "         '2006-11-01': 1,\n",
       "         '2006-11-03': 1,\n",
       "         '2007-01-01': 4,\n",
       "         '2007-03-14': 1,\n",
       "         '2007-10-01': 1,\n",
       "         '2007-11-01': 1,\n",
       "         '2008-01-01': 8,\n",
       "         '2008-03-07': 1,\n",
       "         '2008-04-01': 1,\n",
       "         '2008-05-01': 1,\n",
       "         '2008-06-01': 1,\n",
       "         '2008-07-24': 1,\n",
       "         '2008-08-13': 1,\n",
       "         '2008-10-01': 2,\n",
       "         '2008-12-01': 1,\n",
       "         '2009-01-01': 6,\n",
       "         '2009-04-29': 1,\n",
       "         '2009-07-01': 1,\n",
       "         '2009-08-01': 1,\n",
       "         '2009-11-01': 1,\n",
       "         '2009-12-01': 2,\n",
       "         '2010-01-01': 17,\n",
       "         '2010-03-01': 1,\n",
       "         '2010-04-01': 1,\n",
       "         '2010-04-29': 1,\n",
       "         '2010-05-12': 1,\n",
       "         '2010-06-01': 2,\n",
       "         '2010-07-24': 1,\n",
       "         '2010-07-29': 1,\n",
       "         '2010-10-01': 1,\n",
       "         '2010-11-07': 1,\n",
       "         '2011-01-01': 9,\n",
       "         '2011-03-18': 1,\n",
       "         '2011-03-20': 1,\n",
       "         '2011-04-01': 1,\n",
       "         '2011-07-11': 1,\n",
       "         '2011-09-20': 1,\n",
       "         '2011-10-20': 1,\n",
       "         '2012-01-01': 21,\n",
       "         '2012-01-16': 1,\n",
       "         '2012-01-30': 1,\n",
       "         '2012-04-01': 2,\n",
       "         '2012-04-05': 1,\n",
       "         '2012-04-17': 1,\n",
       "         '2012-04-18': 1,\n",
       "         '2012-04-25': 1,\n",
       "         '2012-05-01': 1,\n",
       "         '2012-05-29': 1,\n",
       "         '2012-06-01': 1,\n",
       "         '2012-08-26': 1,\n",
       "         '2012-09-16': 1,\n",
       "         '2012-09-20': 1,\n",
       "         '2012-10-20': 1,\n",
       "         '2012-10-21': 1,\n",
       "         '2012-11-01': 1,\n",
       "         '2012-12-01': 1,\n",
       "         '2012-12-10': 1,\n",
       "         '2012-12-30': 1,\n",
       "         '2013-01-01': 20,\n",
       "         '2013-03-01': 2,\n",
       "         '2013-04-24': 1,\n",
       "         '2013-04-25': 1,\n",
       "         '2013-04-27': 1,\n",
       "         '2013-05-01': 1,\n",
       "         '2013-06-01': 4,\n",
       "         '2013-08-01': 2,\n",
       "         '2013-10-02': 1,\n",
       "         '2013-12-01': 3,\n",
       "         '2014-01-01': 39,\n",
       "         '2014-01-02': 1,\n",
       "         '2014-01-17': 1,\n",
       "         '2014-02-03': 1,\n",
       "         '2014-02-05': 1,\n",
       "         '2014-02-20': 1,\n",
       "         '2014-03-15': 1,\n",
       "         '2014-04-01': 1,\n",
       "         '2014-04-04': 1,\n",
       "         '2014-04-12': 1,\n",
       "         '2014-04-20': 2,\n",
       "         '2014-04-25': 1,\n",
       "         '2014-05-01': 1,\n",
       "         '2014-05-10': 1,\n",
       "         '2014-06-01': 1,\n",
       "         '2014-07-01': 3,\n",
       "         '2014-07-05': 1,\n",
       "         '2014-07-19': 1,\n",
       "         '2014-08-05': 1,\n",
       "         '2014-09-01': 2,\n",
       "         '2014-10-01': 2,\n",
       "         '2014-11-01': 1,\n",
       "         '2014-12-01': 1,\n",
       "         '2014-12-09': 1,\n",
       "         '2014-12-24': 1,\n",
       "         '2014-12-31': 1,\n",
       "         '2015-01-01': 93,\n",
       "         '2015-01-16': 1,\n",
       "         '2015-01-31': 1,\n",
       "         '2015-02-01': 3,\n",
       "         '2015-02-03': 1,\n",
       "         '2015-02-10': 1,\n",
       "         '2015-02-12': 1,\n",
       "         '2015-02-25': 1,\n",
       "         '2015-03-01': 4,\n",
       "         '2015-03-15': 2,\n",
       "         '2015-03-19': 1,\n",
       "         '2015-04-01': 4,\n",
       "         '2015-04-02': 1,\n",
       "         '2015-04-12': 1,\n",
       "         '2015-04-24': 1,\n",
       "         '2015-04-25': 1,\n",
       "         '2015-04-30': 2,\n",
       "         '2015-05-01': 2,\n",
       "         '2015-05-03': 1,\n",
       "         '2015-05-10': 1,\n",
       "         '2015-05-11': 1,\n",
       "         '2015-06-01': 3,\n",
       "         '2015-06-18': 1,\n",
       "         '2015-06-30': 1,\n",
       "         '2015-07-01': 3,\n",
       "         '2015-07-03': 1,\n",
       "         '2015-07-13': 1,\n",
       "         '2015-07-29': 1,\n",
       "         '2015-08-01': 2,\n",
       "         '2015-08-04': 1,\n",
       "         '2015-08-15': 1,\n",
       "         '2015-08-19': 1,\n",
       "         '2015-08-25': 1,\n",
       "         '2015-08-28': 1,\n",
       "         '2015-09-01': 4,\n",
       "         '2015-09-03': 2,\n",
       "         '2015-09-09': 1,\n",
       "         '2015-09-10': 1,\n",
       "         '2015-09-14': 1,\n",
       "         '2015-09-15': 1,\n",
       "         '2015-09-21': 1,\n",
       "         '2015-09-23': 1,\n",
       "         '2015-09-26': 1,\n",
       "         '2015-10-01': 3,\n",
       "         '2015-10-04': 1,\n",
       "         '2015-10-14': 1,\n",
       "         '2015-10-15': 2,\n",
       "         '2015-10-17': 1,\n",
       "         '2015-10-25': 1,\n",
       "         '2015-10-29': 1,\n",
       "         '2015-11-01': 1,\n",
       "         '2015-11-19': 1,\n",
       "         '2015-12-01': 8,\n",
       "         '2015-12-04': 1,\n",
       "         '2015-12-05': 2,\n",
       "         '2015-12-12': 2,\n",
       "         '2015-12-22': 1,\n",
       "         '2015-12-31': 1,\n",
       "         '2016-01-01': 118,\n",
       "         '2016-01-02': 1,\n",
       "         '2016-01-06': 1,\n",
       "         '2016-01-07': 1,\n",
       "         '2016-01-10': 2,\n",
       "         '2016-01-19': 1,\n",
       "         '2016-01-21': 1,\n",
       "         '2016-01-25': 1,\n",
       "         '2016-01-26': 4,\n",
       "         '2016-01-30': 1,\n",
       "         '2016-02-01': 9,\n",
       "         '2016-02-03': 2,\n",
       "         '2016-02-04': 1,\n",
       "         '2016-02-09': 1,\n",
       "         '2016-02-15': 1,\n",
       "         '2016-02-16': 1,\n",
       "         '2016-02-18': 1,\n",
       "         '2016-02-21': 1,\n",
       "         '2016-02-28': 1,\n",
       "         '2016-03-01': 14,\n",
       "         '2016-03-05': 1,\n",
       "         '2016-03-06': 1,\n",
       "         '2016-03-10': 1,\n",
       "         '2016-03-12': 1,\n",
       "         '2016-03-13': 1,\n",
       "         '2016-03-17': 1,\n",
       "         '2016-03-20': 1,\n",
       "         '2016-03-21': 1,\n",
       "         '2016-03-23': 1,\n",
       "         '2016-03-25': 1,\n",
       "         '2016-03-29': 2,\n",
       "         '2016-03-30': 1,\n",
       "         '2016-04-01': 29,\n",
       "         '2016-04-03': 1,\n",
       "         '2016-04-06': 2,\n",
       "         '2016-04-08': 2,\n",
       "         '2016-04-09': 1,\n",
       "         '2016-04-10': 1,\n",
       "         '2016-04-12': 2,\n",
       "         '2016-04-13': 2,\n",
       "         '2016-04-14': 2,\n",
       "         '2016-04-15': 1,\n",
       "         '2016-04-16': 5,\n",
       "         '2016-04-17': 1,\n",
       "         '2016-04-18': 1,\n",
       "         '2016-05-04': 2,\n",
       "         '2016-05-05': 1,\n",
       "         '2016-05-29': 2,\n",
       "         '2016-05-30': 1,\n",
       "         '2016-06-01': 1,\n",
       "         '2016-06-10': 1,\n",
       "         '2016-07-25': 1,\n",
       "         '2016-08-29': 1,\n",
       "         '2016-10-29': 1,\n",
       "         '2016-11-01': 1,\n",
       "         '2016-11-23': 1,\n",
       "         '2016-12-01': 1,\n",
       "         '2016-12-05': 1,\n",
       "         '2016-12-24': 1,\n",
       "         '2018-03-01': 1})"
      ]
     },
     "execution_count": 24,
     "metadata": {},
     "output_type": "execute_result"
    }
   ],
   "source": [
    "fact_dates_counter"
   ]
  },
  {
   "cell_type": "code",
   "execution_count": 25,
   "metadata": {
    "collapsed": true
   },
   "outputs": [],
   "source": [
    "fact_dates_year = [da.split('-')[0] for da in fact_dates]"
   ]
  },
  {
   "cell_type": "code",
   "execution_count": 26,
   "metadata": {
    "collapsed": false
   },
   "outputs": [
    {
     "data": {
      "text/plain": [
       "716"
      ]
     },
     "execution_count": 26,
     "metadata": {},
     "output_type": "execute_result"
    }
   ],
   "source": [
    "len(fact_dates_year)"
   ]
  },
  {
   "cell_type": "code",
   "execution_count": 27,
   "metadata": {
    "collapsed": true
   },
   "outputs": [],
   "source": [
    "fact_dates_year_counter = Counter(fact_dates_year)"
   ]
  },
  {
   "cell_type": "code",
   "execution_count": 28,
   "metadata": {
    "collapsed": false
   },
   "outputs": [
    {
     "data": {
      "text/plain": [
       "Counter({'1810': 1,\n",
       "         '1905': 4,\n",
       "         '1916': 1,\n",
       "         '1953': 1,\n",
       "         '1963': 1,\n",
       "         '1973': 1,\n",
       "         '1989': 1,\n",
       "         '1990': 2,\n",
       "         '1993': 2,\n",
       "         '1994': 1,\n",
       "         '1995': 3,\n",
       "         '1996': 3,\n",
       "         '1997': 2,\n",
       "         '1998': 2,\n",
       "         '1999': 4,\n",
       "         '2000': 9,\n",
       "         '2001': 2,\n",
       "         '2002': 3,\n",
       "         '2003': 2,\n",
       "         '2004': 5,\n",
       "         '2005': 7,\n",
       "         '2006': 10,\n",
       "         '2007': 7,\n",
       "         '2008': 17,\n",
       "         '2009': 12,\n",
       "         '2010': 27,\n",
       "         '2011': 15,\n",
       "         '2012': 41,\n",
       "         '2013': 36,\n",
       "         '2014': 69,\n",
       "         '2015': 182,\n",
       "         '2016': 242,\n",
       "         '2018': 1})"
      ]
     },
     "execution_count": 28,
     "metadata": {},
     "output_type": "execute_result"
    }
   ],
   "source": [
    "fact_dates_year_counter"
   ]
  },
  {
   "cell_type": "markdown",
   "metadata": {},
   "source": [
    "## Cities"
   ]
  },
  {
   "cell_type": "code",
   "execution_count": 29,
   "metadata": {
    "collapsed": true
   },
   "outputs": [],
   "source": [
    "cities = []\n",
    "for k in d:\n",
    "    city = d[k]['city']\n",
    "    cities.append(city)"
   ]
  },
  {
   "cell_type": "code",
   "execution_count": 30,
   "metadata": {
    "collapsed": false
   },
   "outputs": [],
   "source": [
    "c = Counter(cities)"
   ]
  },
  {
   "cell_type": "code",
   "execution_count": 31,
   "metadata": {
    "collapsed": false
   },
   "outputs": [],
   "source": [
    "# c"
   ]
  },
  {
   "cell_type": "code",
   "execution_count": 32,
   "metadata": {
    "collapsed": false
   },
   "outputs": [
    {
     "data": {
      "text/plain": [
       "[('', 668),\n",
       " ('Bogotá', 229),\n",
       " ('Neiva', 13),\n",
       " ('Bogotá D.C.', 9),\n",
       " ('Soacha', 7),\n",
       " ('Tunja', 6),\n",
       " ('Fusagasugá', 6),\n",
       " ('Medellín', 5),\n",
       " ('Bogotá D.C', 5),\n",
       " ('Villavicencio', 4)]"
      ]
     },
     "execution_count": 32,
     "metadata": {},
     "output_type": "execute_result"
    }
   ],
   "source": [
    "c.most_common(10)"
   ]
  },
  {
   "cell_type": "markdown",
   "metadata": {},
   "source": [
    "## Ages"
   ]
  },
  {
   "cell_type": "code",
   "execution_count": 33,
   "metadata": {
    "collapsed": true
   },
   "outputs": [],
   "source": [
    "ages = []\n",
    "for k in d:\n",
    "    age = d[k]['age']\n",
    "    ages.append(age)"
   ]
  },
  {
   "cell_type": "code",
   "execution_count": 34,
   "metadata": {
    "collapsed": false
   },
   "outputs": [],
   "source": [
    "a = Counter(ages)"
   ]
  },
  {
   "cell_type": "code",
   "execution_count": 35,
   "metadata": {
    "collapsed": false
   },
   "outputs": [],
   "source": [
    "# a"
   ]
  },
  {
   "cell_type": "code",
   "execution_count": 36,
   "metadata": {
    "collapsed": false
   },
   "outputs": [
    {
     "data": {
      "text/plain": [
       "[('', 671),\n",
       " ('16', 24),\n",
       " ('14', 22),\n",
       " ('12', 18),\n",
       " ('11', 17),\n",
       " ('15', 17),\n",
       " ('19', 14),\n",
       " ('10', 14),\n",
       " ('13', 14),\n",
       " ('20', 13),\n",
       " ('17', 13)]"
      ]
     },
     "execution_count": 36,
     "metadata": {},
     "output_type": "execute_result"
    }
   ],
   "source": [
    "a.most_common(11)"
   ]
  },
  {
   "cell_type": "code",
   "execution_count": 37,
   "metadata": {
    "collapsed": false
   },
   "outputs": [],
   "source": [
    "children = 0\n",
    "teenagers = 0\n",
    "young_adults = 0\n",
    "adults = 0\n",
    "for k in d:\n",
    "    try:\n",
    "        if d[k]['age']:\n",
    "            age = int(d[k]['age'])\n",
    "            if 0 <= age <= 12:\n",
    "                children += 1\n",
    "            elif 13 <= age <= 18:\n",
    "                teenagers += 1\n",
    "            elif 19 <= age <= 25:\n",
    "                young_adults += 1\n",
    "            else:\n",
    "                adults += 1\n",
    "    except: # '16, 19'\n",
    "        teenagers += 1"
   ]
  },
  {
   "cell_type": "code",
   "execution_count": 38,
   "metadata": {
    "collapsed": false
   },
   "outputs": [
    {
     "data": {
      "text/plain": [
       "67"
      ]
     },
     "execution_count": 38,
     "metadata": {},
     "output_type": "execute_result"
    }
   ],
   "source": [
    "children"
   ]
  },
  {
   "cell_type": "code",
   "execution_count": 39,
   "metadata": {
    "collapsed": false
   },
   "outputs": [
    {
     "data": {
      "text/plain": [
       "100"
      ]
     },
     "execution_count": 39,
     "metadata": {},
     "output_type": "execute_result"
    }
   ],
   "source": [
    "teenagers"
   ]
  },
  {
   "cell_type": "code",
   "execution_count": 40,
   "metadata": {
    "collapsed": false
   },
   "outputs": [
    {
     "data": {
      "text/plain": [
       "68"
      ]
     },
     "execution_count": 40,
     "metadata": {},
     "output_type": "execute_result"
    }
   ],
   "source": [
    "young_adults"
   ]
  },
  {
   "cell_type": "code",
   "execution_count": 41,
   "metadata": {
    "collapsed": false
   },
   "outputs": [
    {
     "data": {
      "text/plain": [
       "122"
      ]
     },
     "execution_count": 41,
     "metadata": {},
     "output_type": "execute_result"
    }
   ],
   "source": [
    "adults"
   ]
  },
  {
   "cell_type": "markdown",
   "metadata": {},
   "source": [
    "## Drawings"
   ]
  },
  {
   "cell_type": "code",
   "execution_count": 42,
   "metadata": {
    "collapsed": false
   },
   "outputs": [],
   "source": [
    "drawing_words = []\n",
    "for k in d:\n",
    "    drawings = d[k]['drawings'].lower().replace(';', ',')\n",
    "    words = [x.strip() for x in drawings.split(',')]\n",
    "    drawing_words.extend(words)"
   ]
  },
  {
   "cell_type": "code",
   "execution_count": 43,
   "metadata": {
    "collapsed": false
   },
   "outputs": [],
   "source": [
    "dw = Counter(drawing_words)"
   ]
  },
  {
   "cell_type": "code",
   "execution_count": 44,
   "metadata": {
    "collapsed": false
   },
   "outputs": [],
   "source": [
    "# dw"
   ]
  },
  {
   "cell_type": "code",
   "execution_count": 45,
   "metadata": {
    "collapsed": false
   },
   "outputs": [
    {
     "data": {
      "text/plain": [
       "[('', 906),\n",
       " ('corazón', 84),\n",
       " ('cara feliz', 28),\n",
       " ('carita feliz', 11),\n",
       " ('niño', 11),\n",
       " ('nube', 7),\n",
       " ('cara sonriente', 5),\n",
       " ('perro', 4),\n",
       " ('flor', 4),\n",
       " ('sol', 3),\n",
       " ('cruz', 2)]"
      ]
     },
     "execution_count": 45,
     "metadata": {},
     "output_type": "execute_result"
    }
   ],
   "source": [
    "dw.most_common(11)"
   ]
  },
  {
   "cell_type": "markdown",
   "metadata": {},
   "source": [
    "## Words"
   ]
  },
  {
   "cell_type": "code",
   "execution_count": 46,
   "metadata": {
    "collapsed": false
   },
   "outputs": [
    {
     "data": {
      "text/plain": [
       "'!\"#$%&\\'()*+,-./:;<=>?@[\\\\]^_`{|}~¡¿“…'"
      ]
     },
     "execution_count": 46,
     "metadata": {},
     "output_type": "execute_result"
    }
   ],
   "source": [
    "punctuation = punctuation + '¡¿“…'\n",
    "punctuation"
   ]
  },
  {
   "cell_type": "code",
   "execution_count": 47,
   "metadata": {
    "collapsed": true
   },
   "outputs": [],
   "source": [
    "def normalize(text):\n",
    "    text = text.lower()\n",
    "    text = remove_accent_marks(text)\n",
    "    for p in punctuation:\n",
    "        text = text.replace(p, '')\n",
    "    return text"
   ]
  },
  {
   "cell_type": "code",
   "execution_count": 48,
   "metadata": {
    "collapsed": true
   },
   "outputs": [],
   "source": [
    "def total_text(r):\n",
    "    return normalize(r['title'] + ' ' + r['description'])"
   ]
  },
  {
   "cell_type": "code",
   "execution_count": 49,
   "metadata": {
    "collapsed": false
   },
   "outputs": [],
   "source": [
    "total_words = []\n",
    "for k in d:\n",
    "    text = total_text(d[k])\n",
    "    words = [w for w in word_tokenize(text)]\n",
    "    total_words.extend(words)"
   ]
  },
  {
   "cell_type": "code",
   "execution_count": 50,
   "metadata": {
    "collapsed": false
   },
   "outputs": [
    {
     "data": {
      "text/plain": [
       "57051"
      ]
     },
     "execution_count": 50,
     "metadata": {},
     "output_type": "execute_result"
    }
   ],
   "source": [
    "len(total_words)"
   ]
  },
  {
   "cell_type": "code",
   "execution_count": 51,
   "metadata": {
    "collapsed": true
   },
   "outputs": [],
   "source": [
    "total_words_freq = Counter(total_words)"
   ]
  },
  {
   "cell_type": "code",
   "execution_count": 52,
   "metadata": {
    "collapsed": false
   },
   "outputs": [
    {
     "data": {
      "text/plain": [
       "[('y', 2477),\n",
       " ('de', 2460),\n",
       " ('la', 2089),\n",
       " ('que', 1738),\n",
       " ('a', 1514),\n",
       " ('en', 1502),\n",
       " ('el', 1282),\n",
       " ('un', 1004),\n",
       " ('con', 888),\n",
       " ('mi', 874)]"
      ]
     },
     "execution_count": 52,
     "metadata": {},
     "output_type": "execute_result"
    }
   ],
   "source": [
    "total_words_freq.most_common(10)"
   ]
  },
  {
   "cell_type": "code",
   "execution_count": 53,
   "metadata": {
    "collapsed": false
   },
   "outputs": [],
   "source": [
    "stop_words = [remove_accent_marks(w) for w in stopwords.words('spanish')] + ['xxx']"
   ]
  },
  {
   "cell_type": "code",
   "execution_count": 54,
   "metadata": {
    "collapsed": false
   },
   "outputs": [],
   "source": [
    "total_nonstop_words = [w for w in total_words if w not in stop_words]"
   ]
  },
  {
   "cell_type": "code",
   "execution_count": 55,
   "metadata": {
    "collapsed": false
   },
   "outputs": [
    {
     "data": {
      "text/plain": [
       "27314"
      ]
     },
     "execution_count": 55,
     "metadata": {},
     "output_type": "execute_result"
    }
   ],
   "source": [
    "len(total_nonstop_words)"
   ]
  },
  {
   "cell_type": "code",
   "execution_count": 56,
   "metadata": {
    "collapsed": true
   },
   "outputs": [],
   "source": [
    "unique_nonstop_words = set(total_nonstop_words)"
   ]
  },
  {
   "cell_type": "code",
   "execution_count": 57,
   "metadata": {
    "collapsed": false
   },
   "outputs": [
    {
     "data": {
      "text/plain": [
       "7619"
      ]
     },
     "execution_count": 57,
     "metadata": {},
     "output_type": "execute_result"
    }
   ],
   "source": [
    "len(unique_nonstop_words)"
   ]
  },
  {
   "cell_type": "markdown",
   "metadata": {},
   "source": [
    "## Spelling"
   ]
  },
  {
   "cell_type": "code",
   "execution_count": 58,
   "metadata": {
    "collapsed": false
   },
   "outputs": [],
   "source": [
    "correct_spelling = {}\n",
    "\n",
    "for w in total_words_freq:\n",
    "    if w not in correct_spelling:\n",
    "        if w in lexicon:\n",
    "            correct_spelling[w] = w\n",
    "        else:\n",
    "            combs = combinations(w)\n",
    "            freqs = [(c, total_words_freq[c]) for c in combs if c in total_words_freq and c in lexicon]\n",
    "            if freqs:\n",
    "                freqs.sort(key=lambda x: x[1], reverse=True)\n",
    "                correct_spelling[w] = freqs[0][0]\n",
    "            else:\n",
    "                freqs = [(c, total_words_freq[c]) for c in es.suggest(w) if c in total_words_freq]\n",
    "                if freqs:\n",
    "                    freqs.sort(key=lambda x: x[1], reverse=True)\n",
    "                    correct_spelling[w] = freqs[0][0]\n",
    "                else:\n",
    "                    correct_spelling[w] = w"
   ]
  },
  {
   "cell_type": "code",
   "execution_count": 59,
   "metadata": {
    "collapsed": false
   },
   "outputs": [
    {
     "data": {
      "text/plain": [
       "7805"
      ]
     },
     "execution_count": 59,
     "metadata": {},
     "output_type": "execute_result"
    }
   ],
   "source": [
    "len(correct_spelling)"
   ]
  },
  {
   "cell_type": "code",
   "execution_count": 60,
   "metadata": {
    "collapsed": false
   },
   "outputs": [
    {
     "data": {
      "text/plain": [
       "7805"
      ]
     },
     "execution_count": 60,
     "metadata": {},
     "output_type": "execute_result"
    }
   ],
   "source": [
    "len(total_words_freq)"
   ]
  },
  {
   "cell_type": "code",
   "execution_count": 61,
   "metadata": {
    "collapsed": false
   },
   "outputs": [
    {
     "data": {
      "text/plain": [
       "39"
      ]
     },
     "execution_count": 61,
     "metadata": {},
     "output_type": "execute_result"
    }
   ],
   "source": [
    "total_words_freq['papa']"
   ]
  },
  {
   "cell_type": "code",
   "execution_count": 62,
   "metadata": {
    "collapsed": false
   },
   "outputs": [
    {
     "data": {
      "text/plain": [
       "45"
      ]
     },
     "execution_count": 62,
     "metadata": {},
     "output_type": "execute_result"
    }
   ],
   "source": [
    "total_words_freq['padre']"
   ]
  },
  {
   "cell_type": "code",
   "execution_count": 63,
   "metadata": {
    "collapsed": false
   },
   "outputs": [
    {
     "data": {
      "text/plain": [
       "77"
      ]
     },
     "execution_count": 63,
     "metadata": {},
     "output_type": "execute_result"
    }
   ],
   "source": [
    "total_words_freq['mama']"
   ]
  },
  {
   "cell_type": "code",
   "execution_count": 64,
   "metadata": {
    "collapsed": false
   },
   "outputs": [
    {
     "data": {
      "text/plain": [
       "36"
      ]
     },
     "execution_count": 64,
     "metadata": {},
     "output_type": "execute_result"
    }
   ],
   "source": [
    "total_words_freq['madre']"
   ]
  },
  {
   "cell_type": "code",
   "execution_count": 65,
   "metadata": {
    "collapsed": false
   },
   "outputs": [
    {
     "data": {
      "text/plain": [
       "2"
      ]
     },
     "execution_count": 65,
     "metadata": {},
     "output_type": "execute_result"
    }
   ],
   "source": [
    "total_words_freq['madres']"
   ]
  },
  {
   "cell_type": "code",
   "execution_count": 66,
   "metadata": {
    "collapsed": false
   },
   "outputs": [],
   "source": [
    "spelling_map = defaultdict(list)\n",
    "for key in correct_spelling:\n",
    "    v = correct_spelling[key]\n",
    "    spelling_map[v].append((key, total_words_freq[key]))\n",
    "spelling_map = dict(spelling_map)"
   ]
  },
  {
   "cell_type": "code",
   "execution_count": 67,
   "metadata": {
    "collapsed": false
   },
   "outputs": [
    {
     "data": {
      "text/plain": [
       "7058"
      ]
     },
     "execution_count": 67,
     "metadata": {},
     "output_type": "execute_result"
    }
   ],
   "source": [
    "len(spelling_map)"
   ]
  },
  {
   "cell_type": "code",
   "execution_count": 68,
   "metadata": {
    "collapsed": false
   },
   "outputs": [
    {
     "data": {
      "text/plain": [
       "'hacer'"
      ]
     },
     "execution_count": 68,
     "metadata": {},
     "output_type": "execute_result"
    }
   ],
   "source": [
    "correct_spelling['aser']"
   ]
  },
  {
   "cell_type": "code",
   "execution_count": 69,
   "metadata": {
    "collapsed": false
   },
   "outputs": [
    {
     "data": {
      "text/plain": [
       "[('haser', 1), ('hacer', 90), ('aser', 3), ('acer', 1)]"
      ]
     },
     "execution_count": 69,
     "metadata": {},
     "output_type": "execute_result"
    }
   ],
   "source": [
    "spelling_map['hacer']"
   ]
  },
  {
   "cell_type": "code",
   "execution_count": 70,
   "metadata": {
    "collapsed": false
   },
   "outputs": [],
   "source": [
    "mispellings = [w for w in spelling_map if w not in stop_words and len(spelling_map[w]) > 1]\n",
    "mispellings.sort()"
   ]
  },
  {
   "cell_type": "code",
   "execution_count": 71,
   "metadata": {
    "collapsed": false
   },
   "outputs": [
    {
     "data": {
      "text/plain": [
       "['abandonados',\n",
       " 'abrasamos',\n",
       " 'abuelas',\n",
       " 'abuelo',\n",
       " 'abuelos',\n",
       " 'abusar',\n",
       " 'acabo',\n",
       " 'aceptacion',\n",
       " 'aceptar',\n",
       " 'aceptarnos']"
      ]
     },
     "execution_count": 71,
     "metadata": {},
     "output_type": "execute_result"
    }
   ],
   "source": [
    "mispellings[:10]"
   ]
  },
  {
   "cell_type": "code",
   "execution_count": 72,
   "metadata": {
    "collapsed": false
   },
   "outputs": [
    {
     "data": {
      "text/plain": [
       "[('abandonados', 3), ('habandonados', 1)]"
      ]
     },
     "execution_count": 72,
     "metadata": {},
     "output_type": "execute_result"
    }
   ],
   "source": [
    "spelling_map['abandonados']"
   ]
  },
  {
   "cell_type": "code",
   "execution_count": 73,
   "metadata": {
    "collapsed": false,
    "scrolled": false
   },
   "outputs": [
    {
     "name": "stdout",
     "output_type": "stream",
     "text": [
      "aunque [('aunque', 19), ('auqnue', 2)]\n",
      "necesita [('necesita', 14), ('nevesita', 1), ('nesecita', 1)]\n",
      "pelear [('pelear', 29), ('peliar', 11)]\n",
      "señor [('señor', 18), ('seño', 1), ('ceñor', 1), ('senor', 1), ('señir', 1)]\n",
      "habia [('habia', 63), ('havia', 5), ('abia', 1)]\n",
      "paciencia [('paciencia', 8), ('pasiencia', 3), ('pazciencia', 1)]\n",
      "respeto [('respeto', 63), ('irrespeto', 1), ('resoeto', 1), ('trespeto', 1)]\n",
      "eso [('eso', 70), ('etso', 1), ('heso', 1), ('edo', 1), ('iso', 1)]\n",
      "repente [('repente', 9), ('derrepente', 1), ('reoente', 1)]\n",
      "pelee [('pelee', 4), ('pelie', 13)]\n",
      "tuve [('tuve', 39), ('tube', 6)]\n",
      "consciente [('conciente', 2), ('consciente', 3)]\n",
      "otra [('ntra', 2), ('otra', 30)]\n",
      "guerra [('guerra', 36), ('gerra', 1), ('guerr', 1)]\n",
      "triste [('trizte', 1), ('triste', 18), ('tristesa', 1)]\n",
      "partir [('partir', 13), ('apartir', 2)]\n",
      "damos [('damos', 7), ('famos', 2)]\n",
      "viene [('biene', 2), ('viene', 3)]\n",
      "hice [('hice', 22), ('ise', 2), ('hise', 2)]\n",
      "mala [('mala', 5), ('amala', 1), ('mila', 1)]\n",
      "ser [('ser', 158), ('1er', 1), ('3er', 2)]\n",
      "empezamos [('empezamos', 7), ('empesamos', 2)]\n",
      "pero [('pero', 215), ('perso', 3), ('perdo', 2), ('peru', 1), ('petro', 1)]\n",
      "empezar [('empesar', 1), ('empeze', 1), ('empezar', 10)]\n",
      "con [('cons', 1), ('con', 888), ('co', 2)]\n",
      "algo [('algo', 49), ('also', 4)]\n",
      "iban [('iban', 6), ('hiban', 1), ('ivan', 2)]\n",
      "ceder [('seder', 1), ('ceder', 4), ('1ceder', 1)]\n",
      "pelearan [('pelearan', 3), ('peliaran', 2), ('peliabaran', 1)]\n",
      "reconciliacion [('reconciliacion', 49), ('reconsiliacion', 6)]\n",
      "valorar [('valorar', 4), ('alvaro', 2)]\n",
      "decidimos [('decidimos', 32), ('desidimos', 4)]\n",
      "ibamos [('ivamos', 2), ('ibamos', 7), ('hibamos', 2)]\n",
      "aveces [('aveces', 2), ('abeses', 3)]\n",
      "igual [('igual', 10), ('igualda', 1), ('igal', 1)]\n",
      "gran [('gran', 33), ('gram', 1), ('grn', 1)]\n",
      "nuestros [('nuestros', 31), ('nuetsros', 1), ('cuestros', 1)]\n",
      "humanos [('humanso', 1), ('umanos', 1), ('humanos', 17)]\n",
      "inconveniente [('inconveniente', 2), ('incoveniente', 1), ('inconciente', 1)]\n",
      "apto [('laptop', 2), ('apto', 1)]\n",
      "casi [('casi', 12), ('cali', 1), ('casasi', 1)]\n",
      "sanar [('sanarse', 2), ('sanar', 4)]\n",
      "iba [('iba', 26), ('hiba', 1), ('hiva', 2)]\n",
      "niña [('ninña', 1), ('nina', 1), ('niña', 30)]\n",
      "paz [('paz', 825), ('pau', 1), ('paiz', 1)]\n",
      "haber [('aver', 2), ('haver', 1), ('haber', 15)]\n",
      "perra [('pegra', 2), ('perra', 4)]\n",
      "cada [('cada', 96), ('cdad', 2)]\n",
      "mucho [('much', 2), ('mucho', 84), ('muchoas', 1), ('muchor', 1), ('muchso', 1)]\n",
      "bien [('bien', 52), ('vien', 1), ('biem', 1), ('boen', 1)]\n",
      "hacer [('haser', 1), ('hacer', 90), ('aser', 3), ('acer', 1)]\n",
      "oportunidad [('poprtunidades', 1), ('oportunidade', 1), ('oportunida', 1), ('oportunidad', 31)]\n",
      "fue [('fue', 172), ('fuel', 1), ('fur', 1), ('fuy', 2)]\n",
      "peleaba [('peleaba', 3), ('peliaba', 2)]\n",
      "haciendo [('baciendo', 1), ('haciendo', 17), ('haciedno', 1)]\n",
      "hermano [('hermanodi', 1), ('permano', 1), ('hermano', 48), ('hermanito', 2), ('hermanao', 1), ('ermano', 1), ('mermano', 1)]\n",
      "entonces [('entoses', 1), ('entonces', 41), ('entoces', 1)]\n",
      "mejores [('mejores', 25), ('amejores', 1), ('megores', 1)]\n",
      "hagan [('agan', 1), ('haygan', 1), ('hagan', 2), ('haigan', 1)]\n",
      "sientas [('sientas', 2), ('siertas', 2)]\n",
      "compañeros [('compañeros', 55), ('compañeritos', 1), ('companeros', 2)]\n",
      "necesitamos [('necesitamos', 6), ('nesesitamos', 1), ('nesecitamos', 1)]\n",
      "valer [('valer', 2), ('valeria', 2)]\n",
      "compañera [('companera', 1), ('campañero', 1), ('compañera', 24), ('comañera', 1)]\n",
      "gato [('gato', 17), ('gatito', 4)]\n",
      "persona [('pesona', 1), ('personita', 1), ('person', 2), ('persona', 73)]\n",
      "reconciliamos [('reconcialiamos', 1), ('reconsiliamos', 1), ('reconciliamos', 7)]\n",
      "que [('qu', 3), ('qye', 2), ('que', 1738), ('quñe', 1), ('aue', 1), ('qeu', 1), ('q´', 1)]\n",
      "discapacidad [('discap', 1), ('discapacidad', 4), ('discapasidades', 1)]\n",
      "todos [('todos', 187), ('tods', 1), ('todod', 1)]\n",
      "verlo [('vurlo', 1), ('verla', 6), ('verlos', 1)]\n",
      "estaba [('staba', 1), ('estaba', 111), ('estava', 5)]\n",
      "asi [('asi', 97), ('haci', 6)]\n",
      "nuestro [('nuesto', 1), ('nuestro', 45), ('nuetsro', 1)]\n",
      "sola [('sola', 10), ('lola', 3)]\n",
      "anciano [('ancianato', 7), ('anciano', 1)]\n",
      "salvado [('alvarado', 2), ('salvado', 1)]\n",
      "encontrar [('encontrat', 1), ('encontrar', 17), ('encontra', 1)]\n",
      "tolerar [('tolerarnos', 2), ('tolerar', 8)]\n",
      "demos [('demos', 2), ('bemos', 3)]\n",
      "comparte [('comparate', 2), ('comparte', 2), ('comprarte', 1)]\n",
      "decision [('decision', 19), ('desicion', 6)]\n",
      "peleado [('peliado', 2), ('peleado', 7)]\n",
      "hicieron [('hisieron', 1), ('isieron', 1), ('hicieron', 11)]\n",
      "ella [('eela', 1), ('ells', 1), ('ella', 124)]\n",
      "estuvimos [('estubimos', 2), ('estuvimos', 4)]\n",
      "colombiano [('colombbia', 1), ('colombiano', 7), ('colombia', 58)]\n",
      "violencia [('violence', 1), ('laviolencia', 1), ('violencia', 57)]\n",
      "comunidad [('comunidar', 1), ('cmunidad', 1), ('comunida', 1), ('comunidad', 36)]\n",
      "abuelos [('abuelos', 12), ('abuelitos', 6)]\n",
      "decirle [('decirles', 1), ('desirle', 3), ('decirme', 1), ('decirlo', 2), ('decirle', 5)]\n",
      "pego [('pege', 2), ('pego', 12)]\n",
      "pelea [('lapelea', 1), ('pelea', 51), ('pelia', 1)]\n",
      "ahora [('ahora', 52), ('ahoran', 1), ('haora', 4)]\n",
      "hizo [('hiso', 3), ('hize', 2), ('hizo', 33)]\n",
      "peleo [('pelio', 2), ('peleo', 4)]\n",
      "niños [('ninños', 1), ('niñes', 1), ('nigos', 1), ('niños', 99), ('ninos', 1)]\n",
      "mas [('mas', 233), ('maq', 1), ('mals', 1)]\n",
      "grupo [('grupo', 44), ('grypo', 1), ('gruto', 1)]\n",
      "historia [('histora', 1), ('historia', 24), ('hisporia', 1)]\n",
      "padre [('pradre', 2), ('padre', 45)]\n",
      "paso [('pas', 18), ('paso', 31)]\n",
      "los [('loq', 2), ('los', 687), ('alos', 3)]\n",
      "rugby [('rurby', 2), ('rugby', 1)]\n",
      "era [('tra', 1), ('dra', 1), ('hera', 1), ('sra', 2), ('era', 115)]\n",
      "hubo [('hugo', 2), ('huvo', 1), ('hubo', 14)]\n",
      "sed [('sed', 1), ('sedi', 2)]\n",
      "diferencias [('diferents', 1), ('difirencias', 1), ('diferencias', 33)]\n",
      "tome [('tomñe', 2), ('tome', 10)]\n",
      "problema [('prolema', 1), ('prodlema', 1), ('problema', 28)]\n",
      "nuestra [('nuestrar', 1), ('nuetsra', 1), ('nuestra', 63)]\n",
      "sera [('sara', 2), ('sera', 8)]\n",
      "honestidad [('honestidad', 3), ('autohonestidad', 1), ('onestidad', 1)]\n",
      "queremos [('quieremos', 1), ('queremos', 5), ('querñuamos', 1)]\n",
      "hermana [('ermana', 2), ('miermana', 1), ('hermana', 34)]\n",
      "hay [('hai', 1), ('cay', 2), ('hay', 74), ('hiy', 1), ('ahy', 1), ('hqy', 1)]\n",
      "brava [('braba', 4), ('brava', 2)]\n",
      "manera [('anera', 1), ('manera', 44), ('maera', 1)]\n",
      "esposo [('exesposo', 2), ('esposo', 8)]\n",
      "peleamos [('peliamos', 4), ('peleamos', 9)]\n",
      "campesinos [('campesinosas', 2), ('canpesinos', 1), ('campesinos', 1), ('compesinosas', 1)]\n",
      "vivencia [('vivenciado', 1), ('vivenciaban', 1), ('vivencia', 3)]\n",
      "errores [('herrores', 1), ('erroresñ', 1), ('errores', 15)]\n",
      "consientes [('concientes', 2), ('consientes', 1)]\n",
      "hecho [('decho', 1), ('hechoz', 1), ('hecho', 111)]\n",
      "amistad [('amisgyad', 1), ('amitad', 1), ('amistad', 27)]\n",
      "acabo [('boyaca', 3), ('acabo', 2)]\n",
      "once [('onces', 2), ('once', 3)]\n",
      "bicicleta [('bisicleta', 1), ('bicilecto', 1), ('bicicleta', 1)]\n",
      "ayudo [('ayudo', 16), ('alludo', 2)]\n",
      "unas [('hnas', 2), ('unas', 18)]\n",
      "diciendo [('disiendo', 2), ('diciendo', 2)]\n",
      "por [('port', 1), ('pore', 1), ('por', 607)]\n"
     ]
    }
   ],
   "source": [
    "def all_correct(spellings):\n",
    "    return all(map(lambda x: x in lexicon or es.check(x), [x for x, y in spellings]))\n",
    "\n",
    "for w in spelling_map:\n",
    "    if len(w) > 2 and len(spelling_map[w]) > 1 and not all_correct(spelling_map[w]):\n",
    "        incorrect_sum = sum(n for (p, n) in spelling_map[w] if p != w)\n",
    "#         correct_sum = sum(n for (p, n) in spelling_map[w] if p == w)\n",
    "#         total_sum = incorrect_sum + correct_sum\n",
    "        if incorrect_sum > 1:\n",
    "            print(w, spelling_map[w])"
   ]
  },
  {
   "cell_type": "markdown",
   "metadata": {},
   "source": [
    "### Common errors\n",
    "\n",
    "#### h\n",
    "ahora [('haora', 4), ('ahora', 52), ('ahoran', 1)]<br>\n",
    "asi [('asi', 97), ('haci', 6)]<br>\n",
    "era [('tra', 1), ('hera', 1), ('dra', 1), ('sra', 2), ('era', 115)]<br>\n",
    "errores [('herrores', 1), ('errores', 15), ('erroresñ', 1)]<br>\n",
    "eso [('etso', 1), ('iso', 1), ('heso', 1), ('edo', 1), ('eso', 70)]<br>\n",
    "haber [('haver', 1), ('aver', 2), ('haber', 15)]<br>\n",
    "habia [('habia', 63), ('abia', 1), ('havia', 5)]<br>\n",
    "hace [('haci', 6), ('face', 1), ('hace', 66)]<br>\n",
    "hacer [('hacer', 90), ('aser', 3), ('haser', 1), ('acer', 1)]<br>\n",
    "hagan [('haygan', 1), ('hagan', 2), ('agan', 1), ('haigan', 1)]<br>\n",
    "hermana [('hermana', 34), ('ermana', 2), ('miermana', 1)]<br>\n",
    "hermano [('hermanodi', 1), ('hermanito', 2), ('ermano', 1), ('hermano', 48), ('permano', 1), ('hermanao', 1), ('mermano', 1)]<br>\n",
    "hija [('hija', 30), ('hiba', 1), ('hiva', 2)] # iba<br>\n",
    "hice [('hice', 22), ('hise', 2), ('ise', 2)]<br>\n",
    "hicieron [('isieron', 1), ('hisieron', 1), ('hicieron', 11)]<br>\n",
    "honestidad [('onestidad', 1), ('honestidad', 3), ('autohonestidad', 1)]<br>\n",
    "humanos [('humanos', 17), ('umanos', 1), ('humanso', 1)]<br>\n",
    "iban [('hiban', 1), ('iban', 6), ('ivan', 2)]<br>\n",
    "\n",
    "#### s/c/z\n",
    "aveces [('abeses', 3), ('aveces', 2)]<br>\n",
    "bicicleta [('bicicleta', 1), ('bicilecto', 1), ('bisicleta', 1)]<br>\n",
    "ceder [('ceder', 4), ('seder', 1), ('1ceder', 1)]<br>\n",
    "consientes [('consientes', 1), ('concientes', 2)]<br>\n",
    "decidimos [('desidimos', 4), ('decidimos', 32)]<br>\n",
    "decirle [('decirles', 1), ('decirlo', 2), ('desirle', 3), ('decirle', 5), ('decirme', 1)]<br>\n",
    "decision [('desicion', 6), ('decision', 19)]<br>\n",
    "diciendo [('diciendo', 2), ('disiendo', 2)]<br>\n",
    "discapacidad [('discapasidades', 1), ('discap', 1), ('discapacidad', 4)]<br>\n",
    "empezamos [('empezamos', 7), ('empesamos', 2)]<br>\n",
    "empezar [('empezar', 10), ('empeze', 1), ('empesar', 1)]<br>\n",
    "entonces [('entoses', 1), ('entoces', 1), ('entonces', 41)]<br>\n",
    "hace [('haci', 6), ('face', 1), ('hace', 66)]<br>\n",
    "hacer [('hacer', 90), ('aser', 3), ('haser', 1), ('acer', 1)]<br>\n",
    "hecho [('hecho', 111), ('hechoz', 1), ('decho', 1)]<br>\n",
    "hice [('hice', 22), ('hise', 2), ('ise', 2)]<br>\n",
    "hicieron [('isieron', 1), ('hisieron', 1), ('hicieron', 11)]<br>\n",
    "hizo [('hize', 2), ('hiso', 3), ('hizo', 33)]<br>\n",
    "hubo [('hubo', 14), ('hugo', 2), ('huvo', 1)]<br>\n",
    "necesita [('necesita', 14), ('nevesita', 1), ('nesecita', 1)]<br>\n",
    "necesitamos [('necesitamos', 6), ('nesecitamos', 1), ('nesesitamos', 1)]<br>\n",
    "paciencia [('paciencia', 8), ('pasiencia', 3), ('pazciencia', 1)]<br>\n",
    "paz [('paz', 825), ('paiz', 1), ('pau', 1)]<br>\n",
    "reconciliacion [('reconsiliacion', 6), ('reconciliacion', 49)]<br>\n",
    "reconciliamos [('reconsiliamos', 1), ('reconcialiamos', 1), ('reconciliamos', 7)]<br>\n",
    "sed [('sed', 1), ('sedi', 2)] # cedí<br>\n",
    "señor [('senor', 1), ('señor', 18), ('seño', 1), ('señir', 1), ('ceñor', 1)]<br>\n",
    "sientas [('sientas', 2), ('siertas', 2)]<br>\n",
    "triste [('tristesa', 1), ('triste', 18), ('trizte', 1)]<br>\n",
    "\n",
    "#### b/v\n",
    "aveces [('abeses', 3), ('aveces', 2)]<br>\n",
    "bien [('bien', 52), ('biem', 1), ('boen', 1), ('vien', 1)]<br>\n",
    "brava [('braba', 4), ('brava', 2)]<br>\n",
    "estaba [('estaba', 111), ('estava', 5), ('staba', 1)]<br>\n",
    "estuvimos [('estuvimos', 4), ('estubimos', 2)]<br>\n",
    "haber [('haver', 1), ('aver', 2), ('haber', 15)]<br>\n",
    "habia [('habia', 63), ('abia', 1), ('havia', 5)]<br>\n",
    "hija [('hija', 30), ('hiba', 1), ('hiva', 2)] # iba<br>\n",
    "ibamos [('ibamos', 7), ('hibamos', 2), ('ivamos', 2)]<br>\n",
    "iban [('hiban', 1), ('iban', 6), ('ivan', 2)]<br>\n",
    "tuve [('tube', 6), ('tuve', 39)]<br>\n",
    "viene [('biene', 2), ('viene', 3)]<br>\n",
    "\n",
    "#### g/j\n",
    "mejores [('megores', 1), ('mejores', 25), ('amejores', 1)]<br>\n",
    "\n",
    "#### haber\n",
    "haber [('haver', 1), ('aver', 2), ('haber', 15)]<br>\n",
    "habia [('habia', 63), ('abia', 1), ('havia', 5)]<br>\n",
    "hagan [('haygan', 1), ('hagan', 2), ('agan', 1), ('haigan', 1)]<br>\n",
    "hay [('cay', 2), ('hay', 74), ('hqy', 1), ('hai', 1), ('ahy', 1), ('hiy', 1)]<br>\n",
    "hubo [('hubo', 14), ('hugo', 2), ('huvo', 1)]<br>\n",
    "\n",
    "#### joined words\n",
    "partir [('partir', 13), ('apartir', 2)]<br>\n",
    "aveces [('abeses', 3), ('aveces', 2)]<br>\n",
    "los [('los', 687), ('alos', 3), ('loq', 2)]<br>\n",
    "encontrar [('encontrat', 1), ('encontra', 1), ('encontrar', 17)] # en contra<br>\n",
    "hermana [('hermana', 34), ('ermana', 2), ('miermana', 1)]<br>\n",
    "hermano [('hermanodi', 1), ('hermanito', 2), ('ermano', 1), ('hermano', 48), ('permano', 1), ('hermanao', 1), ('mermano', 1)]<br>\n",
    "partir [('apartir', 2), ('partir', 13)]<br>\n",
    "pelea [('pelea', 51), ('pelia', 1), ('lapelea', 1)]<br>\n",
    "repente [('reoente', 1), ('derrepente', 1), ('repente', 9)]<br>\n",
    "violencia [('violence', 1), ('violencia', 57), ('laviolencia', 1)]<br>\n",
    "\n",
    "#### i/e\n",
    "diferencias [('diferencias', 33), ('diferents', 1), ('difirencias', 1)]<br>\n",
    "pelea [('pelea', 51), ('pelia', 1), ('lapelea', 1)]<br>\n",
    "peleaba [('peliaba', 2), ('peleaba', 3)]<br>\n",
    "peleado [('peleado', 7), ('peliado', 2)]<br>\n",
    "peleamos [('peleamos', 9), ('peliamos', 4)]<br>\n",
    "pelear [('peliar', 11), ('pelear', 29)]<br>\n",
    "pelearan [('pelearan', 3), ('peliabaran', 1), ('peliaran', 2)]<br>\n",
    "pelee [('pelie', 13), ('pelee', 4)]<br>\n",
    "peleo [('pelio', 2), ('peleo', 4)]<br>\n",
    "\n",
    "#### order\n",
    "aunque [('aunque', 19), ('auqnue', 2)]<br>\n",
    "haciendo [('haciendo', 17), ('haciedno', 1), ('baciendo', 1)]<br>\n",
    "humanos [('humanos', 17), ('umanos', 1), ('humanso', 1)]<br>\n",
    "nuestra [('nuestra', 63), ('nuetsra', 1), ('nuestrar', 1)]<br>\n",
    "nuestro [('nuesto', 1), ('nuetsro', 1), ('nuestro', 45)]<br>\n",
    "nuestros [('nuestros', 31), ('nuetsros', 1), ('cuestros', 1)]<br>\n",
    "que [('qeu', 1), ('aue', 1), ('qu', 3), ('qye', 2), ('q´', 1), ('que', 1738), ('quñe', 1)]<br>\n",
    "\n",
    "#### y/ll\n",
    "ayudo [('ayudo', 16), ('alludo', 2)]<br>\n",
    "\n",
    "#### ñ\n",
    "compañera [('comañera', 1), ('companera', 1), ('compañera', 24), ('campañero', 1)]<br>\n",
    "compañeros [('compañeros', 55), ('companeros', 2), ('compañeritos', 1)]<br>\n",
    "niña [('nina', 1), ('ninña', 1), ('niña', 30)]<br>\n",
    "niños [('ninños', 1), ('nigos', 1), ('niños', 99), ('niñes', 1), ('ninos', 1)]<br>\n",
    "señor [('senor', 1), ('señor', 18), ('seño', 1), ('señir', 1), ('ceñor', 1)]<br>\n",
    "\n",
    "#### d/b\n",
    "problema [('problema', 28), ('prolema', 1), ('prodlema', 1)]<br>\n",
    "\n",
    "#### others\n",
    "amistad [('amitad', 1), ('amistad', 27), ('amisgyad', 1)]<br>\n",
    "campesinos [('canpesinos', 1), ('compesinosas', 1), ('campesinosas', 2), ('campesinos', 1)]<br>\n",
    "colombiano [('colombiano', 7), ('colombbia', 1), ('colombia', 58)]<br>\n",
    "comunidad [('cmunidad', 1), ('comunida', 1), ('comunidad', 36), ('comunidar', 1)]<br>\n",
    "consciente [('conciente', 2), ('consciente', 3)]<br>\n",
    "demos [('demos', 2), ('bemos', 3)]<br>\n",
    "fue [('fuy', 2), ('fur', 1), ('fuel', 1), ('fue', 172)]<br>\n",
    "guerra [('guerr', 1), ('gerra', 1), ('guerra', 36)]<br>\n",
    "oportunidad [('oportunidad', 31), ('poprtunidades', 1), ('oportunidade', 1), ('oportunida', 1)]<br>\n",
    "padre [('pradre', 2), ('padre', 45)]<br>\n",
    "pego [('pego', 12), ('pege', 2)]<br>\n",
    "perra [('perra', 4), ('pegra', 2)]<br>\n",
    "persona [('person', 2), ('pesona', 1), ('personita', 1), ('persona', 73)]<br>\n",
    "queremos [('quieremos', 1), ('querñuamos', 1), ('queremos', 5)]<br>\n",
    "rugby [('rurby', 2), ('rugby', 1)]"
   ]
  },
  {
   "cell_type": "markdown",
   "metadata": {},
   "source": [
    "## n-grams"
   ]
  },
  {
   "cell_type": "code",
   "execution_count": 74,
   "metadata": {
    "collapsed": false
   },
   "outputs": [],
   "source": [
    "def all_stopwords(ngrm):\n",
    "    return all(map(lambda x: x in stop_words, ngrm))\n",
    "\n",
    "def all_meaningwords(ngrm):\n",
    "    return all(map(lambda x: x not in stop_words, ngrm))\n",
    "\n",
    "def any_familywords(ngrm):\n",
    "    return all_meaningwords(ngrm) and \\\n",
    "            any(map(lambda x: x in ['padre', 'padres', 'papa', 'madre', 'madres', 'mama'], ngrm))\n",
    "\n",
    "def any_xwords(ngrm):\n",
    "    return all_meaningwords(ngrm) and \\\n",
    "            any(map(lambda x: x in ['colombiano'], ngrm))"
   ]
  },
  {
   "cell_type": "code",
   "execution_count": 75,
   "metadata": {
    "collapsed": true
   },
   "outputs": [],
   "source": [
    "def my_ngrams(tokens):\n",
    "    ngrms = []\n",
    "    for i in range(1, 3 + 1):\n",
    "        ngrms_aux = [ngrm for ngrm in ngrams(tokens, i) if all_meaningwords(ngrm)]\n",
    "        ngrms.extend(ngrms_aux)\n",
    "    return ngrms"
   ]
  },
  {
   "cell_type": "code",
   "execution_count": 76,
   "metadata": {
    "collapsed": false
   },
   "outputs": [],
   "source": [
    "total_unigrams = []\n",
    "total_bigrams = []\n",
    "total_trigrams = []\n",
    "for k in d:\n",
    "    clean_title_words = [correct_spelling[w] for w in word_tokenize(normalize(d[k]['title']))]\n",
    "    clean_description_words = [correct_spelling[w] for w in word_tokenize(normalize(d[k]['description']))]\n",
    "    title_ngrams = my_ngrams(clean_title_words)\n",
    "    description_ngrams = my_ngrams(clean_description_words)\n",
    "    text_ngrams = title_ngrams + description_ngrams\n",
    "    total_unigrams.extend(ngrm for ngrm in text_ngrams if len(ngrm) == 1)\n",
    "    total_bigrams.extend(ngrm for ngrm in text_ngrams if len(ngrm) == 2)\n",
    "    total_trigrams.extend(ngrm for ngrm in text_ngrams if len(ngrm) == 3)"
   ]
  },
  {
   "cell_type": "code",
   "execution_count": 77,
   "metadata": {
    "collapsed": false
   },
   "outputs": [],
   "source": [
    "tuni = Counter(total_unigrams)"
   ]
  },
  {
   "cell_type": "code",
   "execution_count": 78,
   "metadata": {
    "collapsed": false
   },
   "outputs": [
    {
     "data": {
      "text/plain": [
       "[(('paz',), 827),\n",
       " (('dia',), 303),\n",
       " (('familia',), 183),\n",
       " (('vida',), 170),\n",
       " (('personas',), 165),\n",
       " (('ser',), 161),\n",
       " (('amor',), 128),\n",
       " (('mejor',), 123),\n",
       " (('hecho',), 113),\n",
       " (('niños',), 103),\n",
       " (('asi',), 103),\n",
       " (('solo',), 102),\n",
       " (('perdon',), 101),\n",
       " (('despues',), 101),\n",
       " (('años',), 100),\n",
       " (('cada',), 98),\n",
       " (('colegio',), 98),\n",
       " (('casa',), 96),\n",
       " (('hacer',), 95),\n",
       " (('siempre',), 88),\n",
       " (('tiempo',), 86),\n",
       " (('mama',), 78),\n",
       " (('año',), 78),\n",
       " (('persona',), 77),\n",
       " (('amigos',), 75),\n",
       " (('cosas',), 67),\n",
       " (('hace',), 67),\n",
       " (('demas',), 66),\n",
       " (('respeto',), 66),\n",
       " (('colombiano',), 66),\n",
       " (('hogar',), 64),\n",
       " (('perdonar',), 64),\n",
       " (('mal',), 63),\n",
       " (('tener',), 63),\n",
       " (('pais',), 61),\n",
       " (('dos',), 60),\n",
       " (('momento',), 60),\n",
       " (('violencia',), 59),\n",
       " (('compañeros',), 58),\n",
       " (('corazon',), 58),\n",
       " (('dias',), 58),\n",
       " (('ahora',), 57),\n",
       " (('trabajo',), 57),\n",
       " (('hoy',), 57),\n",
       " (('cuenta',), 56),\n",
       " (('dije',), 56),\n",
       " (('mundo',), 55),\n",
       " (('bien',), 55),\n",
       " (('ayudar',), 55),\n",
       " (('reconciliacion',), 55),\n",
       " (('amiga',), 55),\n",
       " (('hablar',), 55),\n",
       " (('hermano',), 55),\n",
       " (('ver',), 54),\n",
       " (('social',), 53),\n",
       " (('pelea',), 53),\n",
       " (('conflicto',), 52),\n",
       " (('vez',), 52),\n",
       " (('luego',), 52),\n",
       " (('hacia',), 50),\n",
       " (('medio',), 50),\n",
       " (('niño',), 49),\n",
       " (('calle',), 49),\n",
       " (('paso',), 49),\n",
       " (('ayuda',), 49),\n",
       " (('problemas',), 48),\n",
       " (('decidi',), 47),\n",
       " (('parte',), 47),\n",
       " (('padre',), 47),\n",
       " (('manera',), 46),\n",
       " (('gente',), 46),\n",
       " (('grupo',), 46),\n",
       " (('mismo',), 45),\n",
       " (('feliz',), 45),\n",
       " (('entonces',), 43),\n",
       " (('poder',), 43),\n",
       " (('tolerancia',), 43),\n",
       " (('padres',), 42),\n",
       " (('pues',), 42),\n",
       " (('dijo',), 42),\n",
       " (('conflictos',), 41),\n",
       " (('vivir',), 41),\n",
       " (('dios',), 40),\n",
       " (('papa',), 40),\n",
       " (('pelear',), 40),\n",
       " (('situacion',), 40),\n",
       " (('forma',), 40),\n",
       " (('comunidad',), 39),\n",
       " (('guerra',), 38),\n",
       " (('hizo',), 38),\n",
       " (('hijos',), 38),\n",
       " (('amigo',), 37),\n",
       " (('madre',), 37),\n",
       " (('animales',), 37),\n",
       " (('hermana',), 37),\n",
       " (('di',), 36),\n",
       " (('decidimos',), 36),\n",
       " (('importante',), 36),\n",
       " (('ciudad',), 35),\n",
       " (('dio',), 35),\n",
       " (('convivencia',), 35),\n",
       " (('dialogo',), 35),\n",
       " (('toda',), 35),\n",
       " (('diferencias',), 35),\n",
       " (('conmigo',), 35),\n",
       " (('gran',), 35),\n",
       " (('proceso',), 34),\n",
       " (('oportunidad',), 34),\n",
       " (('amigas',), 34),\n",
       " (('puede',), 34),\n",
       " (('sociedad',), 34),\n",
       " (('queria',), 34),\n",
       " (('cambio',), 34),\n",
       " (('acto',), 33),\n",
       " (('sino',), 33),\n",
       " (('q',), 33),\n",
       " (('lugar',), 32),\n",
       " (('niña',), 32),\n",
       " (('alguien',), 32),\n",
       " (('educacion',), 32),\n",
       " (('muchas',), 32),\n",
       " (('rencor',), 32),\n",
       " (('ambiente',), 31),\n",
       " (('hijo',), 31),\n",
       " (('diferentes',), 31),\n",
       " (('problema',), 30),\n",
       " (('quiero',), 30),\n",
       " (('entender',), 30),\n",
       " (('veces',), 30),\n",
       " (('hija',), 30),\n",
       " (('sido',), 30),\n",
       " (('gracias',), 29),\n",
       " (('decir',), 29),\n",
       " (('pasado',), 29),\n",
       " (('iba',), 29),\n",
       " (('darle',), 29),\n",
       " (('amistad',), 29),\n",
       " (('buena',), 29),\n",
       " (('dar',), 28),\n",
       " (('creo',), 28),\n",
       " (('senti',), 28),\n",
       " (('mejores',), 27),\n",
       " (('llego',), 27),\n",
       " (('misma',), 27),\n",
       " (('seres',), 27),\n",
       " (('llegar',), 27),\n",
       " (('compañera',), 27),\n",
       " (('todas',), 26),\n",
       " (('hechos',), 26),\n",
       " (('hice',), 26),\n",
       " (('compartir',), 26),\n",
       " (('historia',), 26),\n",
       " (('dimos',), 26),\n",
       " (('debe',), 26),\n",
       " (('estudiantes',), 26),\n",
       " (('tan',), 26),\n",
       " (('mayor',), 26),\n",
       " (('debemos',), 26),\n",
       " (('dejar',), 25),\n",
       " (('vi',), 25),\n",
       " (('decision',), 25),\n",
       " (('jovenes',), 25),\n",
       " (('aun',), 25),\n",
       " (('alegria',), 25),\n",
       " (('llevo',), 24),\n",
       " (('pensar',), 24),\n",
       " (('construir',), 24),\n",
       " (('barrio',), 24),\n",
       " (('fuerte',), 24),\n",
       " (('palabras',), 24),\n",
       " (('perrito',), 24),\n",
       " (('clase',), 24),\n",
       " (('familiar',), 24),\n",
       " (('interior',), 24),\n",
       " (('aprender',), 24),\n",
       " (('compañero',), 24),\n",
       " (('saber',), 24),\n",
       " (('sentir',), 24),\n",
       " (('armonia',), 23),\n",
       " (('solucion',), 23),\n",
       " (('mujer',), 23),\n",
       " (('tranquilidad',), 23),\n",
       " (('discusion',), 23),\n",
       " (('perdone',), 22),\n",
       " (('camino',), 22),\n",
       " (('pueblo',), 22),\n",
       " (('señor',), 22),\n",
       " (('agua',), 22),\n",
       " (('hombre',), 22),\n",
       " (('hablamos',), 21),\n",
       " (('bogota',), 21),\n",
       " (('2015',), 21),\n",
       " (('sonrisa',), 21),\n",
       " (('valores',), 21),\n",
       " (('compartimos',), 21),\n",
       " (('niñas',), 21),\n",
       " (('hacerlo',), 21),\n",
       " (('encontre',), 21),\n",
       " (('universidad',), 21),\n",
       " (('mucha',), 21)]"
      ]
     },
     "execution_count": 78,
     "metadata": {},
     "output_type": "execute_result"
    }
   ],
   "source": [
    "tuni.most_common(200)"
   ]
  },
  {
   "cell_type": "code",
   "execution_count": 79,
   "metadata": {
    "collapsed": false
   },
   "outputs": [],
   "source": [
    "tbi = Counter(total_bigrams)"
   ]
  },
  {
   "cell_type": "code",
   "execution_count": 80,
   "metadata": {
    "collapsed": false
   },
   "outputs": [
    {
     "data": {
      "text/plain": [
       "[(('cada', 'dia'), 18),\n",
       " (('di', 'cuenta'), 17),\n",
       " (('mejor', 'amiga'), 15),\n",
       " (('paz', 'empieza'), 14),\n",
       " (('cada', 'persona'), 11),\n",
       " (('seres', 'humanos'), 11),\n",
       " (('medio', 'ambiente'), 10),\n",
       " (('demas', 'personas'), 10),\n",
       " (('ser', 'humano'), 10),\n",
       " (('muchas', 'personas'), 10),\n",
       " (('conmigo', 'misma'), 9),\n",
       " (('dimos', 'cuenta'), 9),\n",
       " (('adultos', 'mayores'), 8),\n",
       " (('bajos', 'recursos'), 8),\n",
       " (('mejores', 'amigas'), 8),\n",
       " (('seres', 'vivos'), 8),\n",
       " (('pidio', 'perdon'), 8),\n",
       " (('paz', 'comienza'), 8),\n",
       " (('pedi', 'perdon'), 8),\n",
       " (('año', 'pasado'), 8),\n",
       " (('tal', 'vez'), 7),\n",
       " (('paz', 'interior'), 7),\n",
       " (('ser', 'feliz'), 7),\n",
       " (('muchas', 'veces'), 7),\n",
       " (('conflicto', 'armado'), 7),\n",
       " (('pedir', 'perdon'), 6),\n",
       " (('paz', 'conmigo'), 6),\n",
       " (('puede', 'ser'), 6),\n",
       " (('primera', 'vez'), 6),\n",
       " (('mejor', 'amigo'), 6),\n",
       " (('año', '2015'), 6),\n",
       " (('trabajo', 'social'), 6),\n",
       " (('construir', 'paz'), 6),\n",
       " (('ser', 'vivo'), 5),\n",
       " (('cada', 'ser'), 5),\n",
       " (('mejores', 'amigos'), 5),\n",
       " (('santa', 'fe'), 5),\n",
       " (('10', 'años'), 5),\n",
       " (('darle', 'cuenta'), 5),\n",
       " (('paz', 'debe'), 5),\n",
       " (('unas', 'niñas'), 5),\n",
       " (('vida', 'siempre'), 5),\n",
       " (('mejor', 'manera'), 5),\n",
       " (('seguimos', 'siendo'), 5),\n",
       " (('transporte', 'publico'), 5),\n",
       " (('pequeñas', 'cosas'), 5),\n",
       " (('debe', 'ser'), 5),\n",
       " (('ser', 'tolerantes'), 5),\n",
       " (('puedo', 'decir'), 5),\n",
       " (('cada', 'vez'), 5),\n",
       " (('cultura', 'ciudadana'), 4),\n",
       " (('tan', 'importante'), 4),\n",
       " (('hermana', 'mayor'), 4),\n",
       " (('paz', 'inicia'), 4),\n",
       " (('verdadera', 'paz'), 4),\n",
       " (('dio', 'cuenta'), 4),\n",
       " (('algun', 'dia'), 4),\n",
       " (('tiempo', 'despues'), 4),\n",
       " (('paz', 'solo'), 4),\n",
       " (('solo', 'hecho'), 4),\n",
       " (('pena', 'discutir'), 4),\n",
       " (('mundo', 'mejor'), 4),\n",
       " (('ser', 'tolerante'), 4),\n",
       " (('tan', 'solo'), 4),\n",
       " (('labor', 'social'), 4),\n",
       " (('aquellas', 'personas'), 4),\n",
       " (('dia', 'siguiente'), 4),\n",
       " (('adulto', 'mayor'), 4),\n",
       " (('buena', 'convivencia'), 4),\n",
       " (('varios', 'años'), 4),\n",
       " (('dia', 'cualquiera'), 4),\n",
       " (('mejor', 'forma'), 4),\n",
       " (('ultima', 'vez'), 4),\n",
       " (('aun', 'asi'), 4),\n",
       " (('buenos', 'amigos'), 4),\n",
       " (('ser', 'mejor'), 4),\n",
       " (('bien', 'comun'), 3),\n",
       " (('vida', 'cotidiana'), 3),\n",
       " (('seres', 'queridos'), 3),\n",
       " (('mejor', 'pais'), 3),\n",
       " (('gran', 'parte'), 3),\n",
       " (('hacia', 'sentir'), 3),\n",
       " (('pequeños', 'detalles'), 3),\n",
       " (('crear', 'conciencia'), 3),\n",
       " (('puede', 'decir'), 3),\n",
       " (('decir', 'palabras'), 3),\n",
       " (('situacion', 'economica'), 3),\n",
       " (('tratar', 'mal'), 3),\n",
       " (('año', '2011'), 3),\n",
       " (('mismo', 'año'), 3),\n",
       " (('justicia', 'social'), 3),\n",
       " (('tercera', 'edad'), 3),\n",
       " (('tiempo', 'libre'), 3),\n",
       " (('memoria', 'historica'), 3),\n",
       " (('utiles', 'escolares'), 3),\n",
       " (('nueva', 'vida'), 3),\n",
       " (('pidio', 'disculpas'), 3),\n",
       " (('convivencia', 'escolar'), 3),\n",
       " (('muchas', 'cosas'), 3),\n",
       " (('malas', 'palabras'), 3),\n",
       " (('mejor', 'calidad'), 3),\n",
       " (('sembrar', 'arboles'), 3),\n",
       " (('paz', 'familiar'), 3),\n",
       " (('dia', 'decidi'), 3),\n",
       " (('hacer', 'paz'), 3),\n",
       " (('dia', 'llego'), 3),\n",
       " (('algun', 'momento'), 3),\n",
       " (('tan', 'fuerte'), 3),\n",
       " (('ser', 'tan'), 3),\n",
       " (('hacer', 'cosas'), 3),\n",
       " (('asi', 'tener'), 3),\n",
       " (('sana', 'convivencia'), 3),\n",
       " (('derechos', 'humanos'), 3),\n",
       " (('buenos', 'terminos'), 3),\n",
       " (('niños', 'victimas'), 3),\n",
       " (('pedi', 'disculpas'), 3),\n",
       " (('espacio', 'publico'), 3),\n",
       " (('poder', 'ayudar'), 3),\n",
       " (('año', '2016'), 3),\n",
       " (('15', 'años'), 3),\n",
       " (('hacer', 'parte'), 3),\n",
       " (('queria', 'tener'), 3),\n",
       " (('hermosos', 'hijos'), 3),\n",
       " (('decidi', 'ayudarlo'), 3),\n",
       " (('debe', 'aprender'), 3),\n",
       " (('barras', 'bravas'), 3),\n",
       " (('paz', 'debemos'), 3),\n",
       " (('decidimos', 'hacer'), 3),\n",
       " (('ser', 'profesora'), 3),\n",
       " (('ahora', 'vivo'), 3),\n",
       " (('jugando', 'futbol'), 3),\n",
       " (('asi', 'mismo'), 3),\n",
       " (('hermano', 'menor'), 3),\n",
       " (('dia', 'normal'), 3),\n",
       " (('pedirle', 'perdon'), 3),\n",
       " (('amiga', 'llamada'), 3),\n",
       " (('pedir', 'disculpas'), 3),\n",
       " (('familia', 'feliz'), 3),\n",
       " (('dos', 'personas'), 3),\n",
       " (('hablar', 'actuar'), 3),\n",
       " (('entonces', 'decidi'), 3),\n",
       " (('ser', 'solidarios'), 3),\n",
       " (('mal', 'asi'), 3),\n",
       " (('varias', 'actividades'), 3),\n",
       " (('hace', 'años'), 3),\n",
       " (('cometemos', 'errores'), 3),\n",
       " (('ahora', 'volvio'), 3),\n",
       " (('nuevo', 'hogar'), 3),\n",
       " (('alcoholicos', 'anonimos'), 3),\n",
       " (('mejor', 'persona'), 3),\n",
       " (('dia', 'iba'), 3),\n",
       " (('dia', 'comun'), 3),\n",
       " (('universidad', 'distrital'), 2),\n",
       " (('paz', 'viene'), 2),\n",
       " (('institucion', 'educativa'), 2),\n",
       " (('paz', 'nace'), 2),\n",
       " (('puede', 'hacer'), 2),\n",
       " (('niños', 'niñas'), 2),\n",
       " (('tolerancia', 'respeto'), 2),\n",
       " (('joven', 'llamado'), 2),\n",
       " (('paz', 'primero'), 2),\n",
       " (('perrito', 'desorientado'), 2),\n",
       " (('tener', 'paciencia'), 2),\n",
       " (('mundo', 'entero'), 2),\n",
       " (('acoso', 'laboral'), 2),\n",
       " (('sentir', 'mal'), 2),\n",
       " (('libro', 'escrito'), 2),\n",
       " (('mucha', 'paz'), 2),\n",
       " (('mal', 'entendidos'), 2),\n",
       " (('dejando', 'atras'), 2),\n",
       " (('compañero', 'subio'), 2),\n",
       " (('nuevo', 'miembro'), 2),\n",
       " (('palabras', 'groseras'), 2),\n",
       " (('entender', 'razones'), 2),\n",
       " (('debemos', 'hacer'), 2),\n",
       " (('acciones', 'diferentes'), 2),\n",
       " (('personas', 'desconocidas'), 2),\n",
       " (('ultimos', 'años'), 2),\n",
       " (('ningun', 'problema'), 2),\n",
       " (('defensa', 'civil'), 2),\n",
       " (('sangre', 'derramada'), 2),\n",
       " (('debia', 'perdonar'), 2),\n",
       " (('mucha', 'envidia'), 2),\n",
       " (('ser', 'mejores'), 2),\n",
       " (('siempre', 'siempre'), 2),\n",
       " (('primato', 'azul'), 2),\n",
       " (('debe', 'empezar'), 2),\n",
       " (('buenos', 'momentos'), 2),\n",
       " (('puse', 'bravo'), 2),\n",
       " (('biblioteca', 'infantil'), 2),\n",
       " (('compartimos', 'juegos'), 2),\n",
       " (('dejando', 'huella'), 2),\n",
       " (('palabras', 'dolorosas'), 2),\n",
       " (('pequeño', 'gesto'), 2),\n",
       " (('paz', 'formalizando'), 2),\n",
       " (('decidimos', 'hablar'), 2),\n",
       " (('hablar', 'asi'), 2),\n",
       " (('mejores', 'ciudadanos'), 2),\n",
       " (('casa', 'luego'), 2),\n",
       " (('paz', 'puede'), 2)]"
      ]
     },
     "execution_count": 80,
     "metadata": {},
     "output_type": "execute_result"
    }
   ],
   "source": [
    "tbi.most_common(200)"
   ]
  },
  {
   "cell_type": "code",
   "execution_count": 81,
   "metadata": {
    "collapsed": false
   },
   "outputs": [],
   "source": [
    "ttri = Counter(total_trigrams)"
   ]
  },
  {
   "cell_type": "code",
   "execution_count": 82,
   "metadata": {
    "collapsed": false
   },
   "outputs": [
    {
     "data": {
      "text/plain": [
       "[(('quiero', 'pedir', 'perdon'), 2),\n",
       " (('seguimos', 'siendo', 'amigas'), 2),\n",
       " (('cada', 'ser', 'humano'), 2),\n",
       " (('realizo', 'dicho', 'proceso'), 2),\n",
       " (('puede', 'ser', 'posible'), 2),\n",
       " (('acepte', 'quedamos', 'bien'), 2),\n",
       " (('cada', 'ser', 'vivo'), 2),\n",
       " (('paz', 'conmigo', 'misma'), 2),\n",
       " (('ser', 'mejores', 'ciudadanos'), 2),\n",
       " (('paz', 'debe', 'ser'), 2),\n",
       " (('odios', 'sino', 'entender'), 2),\n",
       " (('segunda', 'guerra', 'mundial'), 2),\n",
       " (('quedamos', 'bien', 'ahora'), 2),\n",
       " (('bien', 'ahora', 'volvio'), 2),\n",
       " (('dos', 'hermosos', 'hijos'), 2),\n",
       " (('construyela”', 'hoy', 'trabajo'), 1),\n",
       " (('prada', 'caricien', 'fuerte'), 1),\n",
       " (('comunidad', 'tejer', 'confianza'), 1),\n",
       " (('gritan', 'cortez', 'miedo'), 1),\n",
       " (('esclavismo', 'politica', 'esclavista'), 1),\n",
       " (('consultorio', 'social', 'minuto'), 1),\n",
       " (('dia', 'andando', 'cada'), 1),\n",
       " (('epoca', 'pues', 'acordarnos'), 1),\n",
       " (('adulto', 'cada', 'lagrima'), 1),\n",
       " (('paz', 'debemos', 'respetar'), 1),\n",
       " (('dos', 'buenas', 'amigas'), 1),\n",
       " (('hecho', 'ofender', 'ojala'), 1),\n",
       " (('productos', 'pago', 'dos'), 1),\n",
       " (('mucha', 'moral', 'valor'), 1),\n",
       " (('poblacion', 'olvidada', 'llevamos'), 1),\n",
       " (('alegrias', 'logramos', 'hacer'), 1),\n",
       " (('fuego', 'reivindicaron', 'lideres'), 1),\n",
       " (('queda', 'ser', 'positivo'), 1),\n",
       " (('sacar', 'provecho', 'colocamos'), 1),\n",
       " (('portarme', 'bien', 'amar'), 1),\n",
       " (('cultura', 'puede', 'cambiar'), 1),\n",
       " (('transporte', 'publico', 'hago'), 1),\n",
       " (('tranquilo', 'bello', 'cultural'), 1),\n",
       " (('130', 'dia', 'mercados'), 1),\n",
       " (('lograr', 'metas', 'propuestas'), 1),\n",
       " (('niños', 'deberia', 'ser'), 1),\n",
       " (('lectura', 'manualidades', 'teatro'), 1),\n",
       " (('cabellos', 'color', 'plata'), 1),\n",
       " (('relaciones', 'sociales', 'comunales'), 1),\n",
       " (('perdono', 'puedo', 'perdonar'), 1),\n",
       " (('gran', 'comienzo', 'aclaramos'), 1),\n",
       " (('logrando', 'gracias', 'colombiano'), 1),\n",
       " (('olvidar', 'mantener', 'viva'), 1),\n",
       " (('hacia', 'acoso', 'laboral'), 1),\n",
       " (('niños', 'suban', 'primero'), 1),\n",
       " (('dia', 'reuni', 'ropa'), 1),\n",
       " (('sobra', 'oxigeno', 'aire'), 1),\n",
       " (('hacer', 'varios', 'apostolados'), 1),\n",
       " (('alta', 'complejidad', 'atender'), 1),\n",
       " (('enfermedad', 'sino', 'condicion'), 1),\n",
       " (('municipal', 'autoconstruccion', 'naturales'), 1),\n",
       " (('disculpara', 'tiempo', 'despues'), 1),\n",
       " (('siendo', 'buenos', 'amigos'), 1),\n",
       " (('solo', 'quiere', 'ser'), 1),\n",
       " (('siquiera', 'hablar', 'asi'), 1),\n",
       " (('siendo', 'hermana', 'mayor'), 1),\n",
       " (('vista', 'distinto', 'frente'), 1),\n",
       " (('muchas', 'personas', 'aseguran'), 1),\n",
       " (('vivir', 'cada', 'dia'), 1),\n",
       " (('puentes', 'peatonales', 'ayudo'), 1),\n",
       " (('primer', 'hermano', 'tubo'), 1),\n",
       " (('heidy', 'gonzalez', 'luisa'), 1),\n",
       " (('año', 'entregando', 'utiles'), 1),\n",
       " (('personas', 'perdonar', 'libera'), 1),\n",
       " (('colegio', 'aportamos', 'mercados'), 1),\n",
       " (('menos', 'adecuada', 'luego'), 1),\n",
       " (('apoyar', 'ayudar', 'amar'), 1),\n",
       " (('fundacion', 'lazos', 'afectivos'), 1),\n",
       " (('año', '2009', 'empece'), 1),\n",
       " (('puedes', 'hacer', 'paz'), 1),\n",
       " (('rodeando', 'cada', 'dia'), 1),\n",
       " (('alguna', 'manera', 'logre'), 1),\n",
       " (('encuentra', 'eventualmente', 'efectuando'), 1),\n",
       " (('ser', 'tan', 'feliz'), 1),\n",
       " (('sembrar', 'arboles', 'ayudar'), 1),\n",
       " (('clase', 'social', 'solo'), 1),\n",
       " (('cualquier', 'sitio', 'asi'), 1),\n",
       " (('tal', 'preferencia', 'asi'), 1),\n",
       " (('simple', 'animal', 'mientras'), 1),\n",
       " (('fomentar', 'paz', 'empezamos'), 1),\n",
       " (('conocer', 'gente', 'buena'), 1),\n",
       " (('sacerdote', 'bernardo', 'sanchez'), 1),\n",
       " (('bello', 'pais', 'llamado'), 1),\n",
       " (('tiempo', 'llamada', 'canela'), 1),\n",
       " (('gran', 'sonrisa', 'ansiosa'), 1),\n",
       " (('sorprendidame', 'agradecelo', 'mejor'), 1),\n",
       " (('comercio', 'llamo', 'hermes'), 1),\n",
       " (('podido', 'ser', 'diferente'), 1),\n",
       " (('futuro', 'espero', 'contribuir'), 1),\n",
       " (('asimismo', 'saber', 'perdonar'), 1),\n",
       " (('paz', 'solo', 'aceptandonos'), 1),\n",
       " (('hermana', 'mayor', 'dure'), 1),\n",
       " (('mutuamente', 'debemos', 'reflexionar'), 1),\n",
       " (('despierto', 'as', 'guia'), 1),\n",
       " (('ser', 'compasivo', 'desocupando'), 1),\n",
       " (('gobiernos', 'ajenos', 'cada'), 1),\n",
       " (('quiero', 'queme', 'deje'), 1),\n",
       " (('tiempo', 'libre', 'trabajo'), 1),\n",
       " (('empresa', 'organizaron', 'donacion'), 1),\n",
       " (('uso', 'podemos', 'regalarle'), 1),\n",
       " (('hoy', '11', 'años'), 1),\n",
       " (('opciones', 'laborales', 'educativas'), 1),\n",
       " (('casa', 'cada', 'dia'), 1),\n",
       " (('cumple', 'hoy', '50'), 1),\n",
       " (('pedir', 'permiso', 'entonces'), 1),\n",
       " (('manera', 'provisional', 'junto'), 1),\n",
       " (('hizo', 'caso', 'des'), 1),\n",
       " (('soñar', 'despierto', 'as'), 1),\n",
       " (('dialogar', 'solucionar', 'problemas'), 1),\n",
       " (('cuales', 'permitan', 'crear'), 1),\n",
       " (('solucionar', 'problemas', 'amarse'), 1),\n",
       " (('bus', 'tomaron', 'conciencia'), 1),\n",
       " (('posible', 'querido', 'pais'), 1),\n",
       " (('haber', 'tomado', 'tal'), 1),\n",
       " (('edad', 'iba', 'caminando'), 1),\n",
       " (('apoyo', 'positivo', 'ahora'), 1),\n",
       " (('celebracion', 'navidad', 'niños'), 1),\n",
       " (('sonrisa', 'd', 'sahq'), 1),\n",
       " (('boun', 'allubal', 'planeta'), 1),\n",
       " (('propio', 'entorno', 'unidos'), 1),\n",
       " (('centro', 'comercial', 'dio'), 1),\n",
       " (('ayudarlo', 'nunca', 'aplastar'), 1),\n",
       " (('demasiadas', 'risas', 'dice'), 1),\n",
       " (('hermoso', 'momento', 'mientras'), 1),\n",
       " (('año', '2015', 'celebramos'), 1),\n",
       " (('hacer', 'cosas', 'solo'), 1),\n",
       " (('quiere', 'perdonarme', 'llorar'), 1),\n",
       " (('compañeros', 'iban', 'alegraban'), 1),\n",
       " (('niña', 'llamada', 'tiana'), 1),\n",
       " (('pueblo', 'golpeado', 'x'), 1),\n",
       " (('perro', 'raza', 'bigol'), 1),\n",
       " (('años', 'pude', 'comprender'), 1),\n",
       " (('encuentro', 'tal', 'vez'), 1),\n",
       " (('hambre', 'llevaban', 'dias'), 1),\n",
       " (('broma', 'menos', 'adecuada'), 1),\n",
       " (('hace', 'falta', 'saltar'), 1),\n",
       " (('alguien', 'dijo', 'sabiamente'), 1),\n",
       " (('diciembre', 'llevamos', 'regalos'), 1),\n",
       " (('año', '2016', 'prefiero'), 1),\n",
       " (('genero', 'conflictos', 'causantes'), 1),\n",
       " (('calle', 'cada', 'dia'), 1),\n",
       " (('hacerle', 'sentir', 'mejor'), 1),\n",
       " (('paz', 'avanzar', 'hacia'), 1),\n",
       " (('seres', 'humanos', 'necesitamos'), 1),\n",
       " (('dos', 'quedaron', 'contentos'), 1),\n",
       " (('tejer', 'confianza', 'gracias'), 1),\n",
       " (('muchas', 'veces', 'involuntaria'), 1),\n",
       " (('rabia', 'odio', 'rencor'), 1),\n",
       " (('gran', 'banquete', 'mariela'), 1),\n",
       " (('escucho', 'tantas', 'anecdotas'), 1),\n",
       " (('guajira', 'territorio', 'ancestral'), 1),\n",
       " (('general', 'clase', 'seminario'), 1),\n",
       " (('medio', 'ambiente', 'sufrio'), 1),\n",
       " (('año', '1978', 'llegue'), 1),\n",
       " (('entorno', 'familiar', 'personal'), 1),\n",
       " (('principio', 'culturales', 'basicos'), 1),\n",
       " (('d', 'sahq', 'da'), 1),\n",
       " (('tolerancia', 'mutua', 'aceptando'), 1),\n",
       " (('entonces', 'decidi', 'adoptarlo'), 1),\n",
       " (('seguimos', 'siendo', 'buenos'), 1),\n",
       " (('acercamos', 'varios', 'sabados'), 1),\n",
       " (('propias', 'viviendas', 'colocar'), 1),\n",
       " (('dimos', 'alimentos', 'medicamentos'), 1),\n",
       " (('rojo', 'ademas', 'realzo'), 1),\n",
       " (('presto', 'mucha', 'atencion'), 1),\n",
       " (('hospital', 'lugar', 'hecho'), 1),\n",
       " (('buena', 'suerte', 'good'), 1),\n",
       " (('embargo', 'puedo', 'decir'), 1),\n",
       " (('alli', 'abandonado', 'toda'), 1),\n",
       " (('tiempo', 'dos', 'amigas'), 1),\n",
       " (('ahi', 'pudimos', 'escuchar'), 1),\n",
       " (('distintos', 'niños', 'necesitados'), 1),\n",
       " (('alcohol', 'mata', 'dejar'), 1),\n",
       " (('puede', 've', 'chao'), 1),\n",
       " (('imagenes', 'luces', 'cuerpos'), 1),\n",
       " (('trabajo', 'diario', 'honesto'), 1),\n",
       " (('hace', 'varios', 'dias'), 1),\n",
       " (('primera', 'comunion', 'decidimos'), 1),\n",
       " (('besos', 'estrechadas', 'mano'), 1),\n",
       " (('dia', 'decidi', 'hablarle'), 1),\n",
       " (('exito', 'ajeno', 'deseo'), 1),\n",
       " (('perro', 'llamado', 'bilinton'), 1),\n",
       " (('padres', 'senti', 'remordimiento'), 1),\n",
       " (('ido', 'logrando', 'gracias'), 1),\n",
       " (('demos', 'portarnos', 'bien'), 1),\n",
       " (('quiere', 'decir', 'pedirle'), 1),\n",
       " (('paz', 'mejia', 'redondo'), 1),\n",
       " (('compañeros', 'decidio', 'volver'), 1),\n",
       " (('hizo', 'coger', 'demasiado'), 1),\n",
       " (('puede', 'ser', 'tan'), 1),\n",
       " (('adultos', 'mayores', 'aveces'), 1),\n",
       " (('mismo', 'poder', 'ser'), 1),\n",
       " (('visitar', 'cartagena', 'amamos'), 1),\n",
       " (('cosas', 'asi', 'deberiamos'), 1),\n",
       " (('perros', 'solo', 'sirven'), 1)]"
      ]
     },
     "execution_count": 82,
     "metadata": {},
     "output_type": "execute_result"
    }
   ],
   "source": [
    "ttri.most_common(200)"
   ]
  },
  {
   "cell_type": "markdown",
   "metadata": {},
   "source": [
    "## Topics"
   ]
  },
  {
   "cell_type": "code",
   "execution_count": 83,
   "metadata": {
    "collapsed": false
   },
   "outputs": [],
   "source": [
    "topics = {\n",
    "    'ámbito_temporal': [(('dia',), 303), (('tiempo',), 86), (('año',), 78), (('momento',), 60), (('dias',), 58),\n",
    "                        (('hoy',), 57), (('ahora',), 57), (('vez',), 52), (('pasado',), 29), (('2015',), 21),],\n",
    "    'familia': [(('familia',), 183), (('mama',), 78), (('hermano',), 55), (('padre',), 47), (('padres',), 42),\n",
    "                (('papa',), 40), (('hijos',), 38), (('madre',), 37), (('hermana',), 37), (('hijo',), 31),\n",
    "                (('hija',), 30), (('familiar',), 24),],\n",
    "    'vida': [(('vida',), 170), (('vivir',), 41),],\n",
    "    'gente': [(('personas',), 165), (('persona',), 77), (('social',), 53), (('grupo',), 46), (('gente',), 46),\n",
    "              (('comunidad',), 39), (('sociedad',), 34), (('mujer',), 23), (('hombre',), 22), (('señor',), 22),],\n",
    "    'amor': [(('amor',), 128), (('corazon',), 58),],\n",
    "    'niños': [(('niños',), 103), (('niño',), 49), (('niña',), 32), (('niñas',), 21),],\n",
    "    'perdón': [(('perdon',), 101), (('perdonar',), 64), (('reconciliacion',), 55), (('perdone',), 22),],\n",
    "    'ámbito_espacial': [(('colegio',), 98),(('casa',), 96), (('hogar',), 64), (('pais',), 61), (('trabajo',), 57),\n",
    "                        (('mundo',), 55), (('calle',), 49), (('ciudad',), 35), (('lugar',), 32), (('barrio',), 24),\n",
    "                        (('clase',), 24), (('pueblo',), 22), (('bogota',), 21),],\n",
    "    'amistad': [(('amigos',), 75), (('amiga',), 55), (('amigo',), 37), (('amigas',), 34), (('amistad',), 29),],\n",
    "    'tolerancia': [(('respeto',), 66), (('tolerancia',), 43), (('convivencia',), 35), (('entender',), 30),],\n",
    "    'patriotismo': [(('colombiano',), 66),],\n",
    "    'violencia': [(('violencia',), 59), (('pelea',), 53), (('pelear',), 40), (('guerra',), 38),],\n",
    "    'compañeros': [(('compañeros',), 58), (('compañera',), 27), (('estudiantes',), 26), (('compañero',), 24),],\n",
    "    'solidaridad': [(('ayudar',), 55), (('ayuda',), 49), (('compartir',), 26),],\n",
    "    'comunicación': [(('hablar',), 55), (('dialogo',), 35), (('hablamos',), 21), (('palabras',), 24),],\n",
    "    'conflicto': [(('conflicto',), 52), (('problemas',), 48), (('conflictos',), 41), (('diferencias',), 35),\n",
    "                  (('problema',), 30), (('discusion',), 23),],\n",
    "    'solución': [(('paso',), 49), (('decidi',), 47), (('decidimos',), 36), (('cambio',), 34), (('oportunidad',), 34),\n",
    "                 (('decision',), 25), (('construir',), 24), (('aprender',), 24), (('solucion',), 23),],\n",
    "    'felicidad': [(('feliz',), 45), (('alegria',), 25), (('sonrisa',), 21),],\n",
    "    'religión': [(('dios',), 40),],\n",
    "    'animales': [(('animales',), 37), (('perrito',), 24), (('gato',), 21),],\n",
    "    'educación': [(('educacion',), 32),],\n",
    "    'rencor': [(('rencor',), 32),],\n",
    "    'agradecimiento': [(('gracias',), 29),],\n",
    "    'jóvenes': [(('jovenes',), 25),],\n",
    "    'paz_interior': [(('tranquilidad',), 23), (('armonia',), 23),],\n",
    "    'agua': [(('agua',), 22),],\n",
    "    'tristeza': [(('pesar',), 21),],\n",
    "}"
   ]
  },
  {
   "cell_type": "code",
   "execution_count": 84,
   "metadata": {
    "collapsed": false
   },
   "outputs": [],
   "source": [
    "tups = [(k, sum(map(lambda x: x[1], words)), words) for k, words in topics.items()]\n",
    "tups.sort(key=lambda x: x[1], reverse=True)"
   ]
  },
  {
   "cell_type": "code",
   "execution_count": 85,
   "metadata": {
    "collapsed": false,
    "scrolled": false
   },
   "outputs": [
    {
     "data": {
      "text/plain": [
       "[('ámbito_temporal',\n",
       "  801,\n",
       "  [(('dia',), 303),\n",
       "   (('tiempo',), 86),\n",
       "   (('año',), 78),\n",
       "   (('momento',), 60),\n",
       "   (('dias',), 58),\n",
       "   (('hoy',), 57),\n",
       "   (('ahora',), 57),\n",
       "   (('vez',), 52),\n",
       "   (('pasado',), 29),\n",
       "   (('2015',), 21)]),\n",
       " ('familia',\n",
       "  642,\n",
       "  [(('familia',), 183),\n",
       "   (('mama',), 78),\n",
       "   (('hermano',), 55),\n",
       "   (('padre',), 47),\n",
       "   (('padres',), 42),\n",
       "   (('papa',), 40),\n",
       "   (('hijos',), 38),\n",
       "   (('madre',), 37),\n",
       "   (('hermana',), 37),\n",
       "   (('hijo',), 31),\n",
       "   (('hija',), 30),\n",
       "   (('familiar',), 24)]),\n",
       " ('ámbito_espacial',\n",
       "  638,\n",
       "  [(('colegio',), 98),\n",
       "   (('casa',), 96),\n",
       "   (('hogar',), 64),\n",
       "   (('pais',), 61),\n",
       "   (('trabajo',), 57),\n",
       "   (('mundo',), 55),\n",
       "   (('calle',), 49),\n",
       "   (('ciudad',), 35),\n",
       "   (('lugar',), 32),\n",
       "   (('barrio',), 24),\n",
       "   (('clase',), 24),\n",
       "   (('pueblo',), 22),\n",
       "   (('bogota',), 21)]),\n",
       " ('gente',\n",
       "  527,\n",
       "  [(('personas',), 165),\n",
       "   (('persona',), 77),\n",
       "   (('social',), 53),\n",
       "   (('grupo',), 46),\n",
       "   (('gente',), 46),\n",
       "   (('comunidad',), 39),\n",
       "   (('sociedad',), 34),\n",
       "   (('mujer',), 23),\n",
       "   (('hombre',), 22),\n",
       "   (('señor',), 22)]),\n",
       " ('solución',\n",
       "  296,\n",
       "  [(('paso',), 49),\n",
       "   (('decidi',), 47),\n",
       "   (('decidimos',), 36),\n",
       "   (('cambio',), 34),\n",
       "   (('oportunidad',), 34),\n",
       "   (('decision',), 25),\n",
       "   (('construir',), 24),\n",
       "   (('aprender',), 24),\n",
       "   (('solucion',), 23)]),\n",
       " ('perdón',\n",
       "  242,\n",
       "  [(('perdon',), 101),\n",
       "   (('perdonar',), 64),\n",
       "   (('reconciliacion',), 55),\n",
       "   (('perdone',), 22)]),\n",
       " ('amistad',\n",
       "  230,\n",
       "  [(('amigos',), 75),\n",
       "   (('amiga',), 55),\n",
       "   (('amigo',), 37),\n",
       "   (('amigas',), 34),\n",
       "   (('amistad',), 29)]),\n",
       " ('conflicto',\n",
       "  229,\n",
       "  [(('conflicto',), 52),\n",
       "   (('problemas',), 48),\n",
       "   (('conflictos',), 41),\n",
       "   (('diferencias',), 35),\n",
       "   (('problema',), 30),\n",
       "   (('discusion',), 23)]),\n",
       " ('vida', 211, [(('vida',), 170), (('vivir',), 41)]),\n",
       " ('niños',\n",
       "  205,\n",
       "  [(('niños',), 103), (('niño',), 49), (('niña',), 32), (('niñas',), 21)]),\n",
       " ('violencia',\n",
       "  190,\n",
       "  [(('violencia',), 59),\n",
       "   (('pelea',), 53),\n",
       "   (('pelear',), 40),\n",
       "   (('guerra',), 38)]),\n",
       " ('amor', 186, [(('amor',), 128), (('corazon',), 58)]),\n",
       " ('tolerancia',\n",
       "  174,\n",
       "  [(('respeto',), 66),\n",
       "   (('tolerancia',), 43),\n",
       "   (('convivencia',), 35),\n",
       "   (('entender',), 30)]),\n",
       " ('comunicación',\n",
       "  135,\n",
       "  [(('hablar',), 55),\n",
       "   (('dialogo',), 35),\n",
       "   (('hablamos',), 21),\n",
       "   (('palabras',), 24)]),\n",
       " ('compañeros',\n",
       "  135,\n",
       "  [(('compañeros',), 58),\n",
       "   (('compañera',), 27),\n",
       "   (('estudiantes',), 26),\n",
       "   (('compañero',), 24)]),\n",
       " ('solidaridad',\n",
       "  130,\n",
       "  [(('ayudar',), 55), (('ayuda',), 49), (('compartir',), 26)]),\n",
       " ('felicidad', 91, [(('feliz',), 45), (('alegria',), 25), (('sonrisa',), 21)]),\n",
       " ('animales', 82, [(('animales',), 37), (('perrito',), 24), (('gato',), 21)]),\n",
       " ('patriotismo', 66, [(('colombiano',), 66)]),\n",
       " ('paz_interior', 46, [(('tranquilidad',), 23), (('armonia',), 23)]),\n",
       " ('religión', 40, [(('dios',), 40)]),\n",
       " ('educación', 32, [(('educacion',), 32)]),\n",
       " ('rencor', 32, [(('rencor',), 32)]),\n",
       " ('agradecimiento', 29, [(('gracias',), 29)]),\n",
       " ('jóvenes', 25, [(('jovenes',), 25)]),\n",
       " ('agua', 22, [(('agua',), 22)]),\n",
       " ('tristeza', 21, [(('pesar',), 21)])]"
      ]
     },
     "execution_count": 85,
     "metadata": {},
     "output_type": "execute_result"
    }
   ],
   "source": [
    "tups"
   ]
  },
  {
   "cell_type": "code",
   "execution_count": 86,
   "metadata": {
    "collapsed": true
   },
   "outputs": [],
   "source": [
    "def reset(d):\n",
    "    r = {}\n",
    "    for k in d:\n",
    "        r[k] = []\n",
    "        for t, f in d[k]:\n",
    "            r[k].append((t[0], 0))\n",
    "    return r\n",
    "\n",
    "def inc(d, x):\n",
    "    for k in d:\n",
    "        if x in [w for w, f in d[k]]:\n",
    "            l = []\n",
    "            for w, f in d[k]:\n",
    "                if x != w:\n",
    "                    l.append((w, f))\n",
    "                else:\n",
    "                    l.append((w, f + 1))\n",
    "            d[k] = l  "
   ]
  },
  {
   "cell_type": "code",
   "execution_count": 87,
   "metadata": {
    "collapsed": false
   },
   "outputs": [],
   "source": [
    "topics_m = reset(topics)\n",
    "topics_f = reset(topics)  "
   ]
  },
  {
   "cell_type": "code",
   "execution_count": 88,
   "metadata": {
    "collapsed": false
   },
   "outputs": [],
   "source": [
    "topic_words = [w[0] for k in topics for w, f in topics[k]]"
   ]
  },
  {
   "cell_type": "code",
   "execution_count": 89,
   "metadata": {
    "collapsed": false
   },
   "outputs": [],
   "source": [
    "for k in d:\n",
    "    text = total_text(d[k])\n",
    "    words = [w for w in word_tokenize(text)]\n",
    "    for a in words:\n",
    "        if a in topic_words:\n",
    "            if d[k]['gender'] == 'M':\n",
    "                inc(topics_m, a)\n",
    "            elif d[k]['gender'] == 'F':\n",
    "                inc(topics_f, a)"
   ]
  },
  {
   "cell_type": "code",
   "execution_count": 90,
   "metadata": {
    "collapsed": false
   },
   "outputs": [],
   "source": [
    "tups_m = [(k, sum(map(lambda x: x[1], words)), words) for k, words in topics_m.items()]\n",
    "tups_m.sort(key=lambda x: x[1], reverse=True)"
   ]
  },
  {
   "cell_type": "code",
   "execution_count": 91,
   "metadata": {
    "collapsed": false
   },
   "outputs": [
    {
     "data": {
      "text/plain": [
       "[('ámbito_temporal',\n",
       "  109,\n",
       "  [('dia', 51),\n",
       "   ('tiempo', 8),\n",
       "   ('año', 6),\n",
       "   ('momento', 8),\n",
       "   ('dias', 8),\n",
       "   ('hoy', 9),\n",
       "   ('ahora', 5),\n",
       "   ('vez', 7),\n",
       "   ('pasado', 6),\n",
       "   ('2015', 1)]),\n",
       " ('ámbito_espacial',\n",
       "  87,\n",
       "  [('colegio', 18),\n",
       "   ('casa', 8),\n",
       "   ('hogar', 7),\n",
       "   ('pais', 7),\n",
       "   ('trabajo', 5),\n",
       "   ('mundo', 12),\n",
       "   ('calle', 6),\n",
       "   ('ciudad', 7),\n",
       "   ('lugar', 2),\n",
       "   ('barrio', 4),\n",
       "   ('clase', 5),\n",
       "   ('pueblo', 3),\n",
       "   ('bogota', 3)]),\n",
       " ('familia',\n",
       "  60,\n",
       "  [('familia', 14),\n",
       "   ('mama', 12),\n",
       "   ('hermano', 7),\n",
       "   ('padre', 3),\n",
       "   ('padres', 5),\n",
       "   ('papa', 8),\n",
       "   ('hijos', 0),\n",
       "   ('madre', 5),\n",
       "   ('hermana', 3),\n",
       "   ('hijo', 0),\n",
       "   ('hija', 2),\n",
       "   ('familiar', 1)]),\n",
       " ('gente',\n",
       "  55,\n",
       "  [('personas', 15),\n",
       "   ('persona', 4),\n",
       "   ('social', 8),\n",
       "   ('grupo', 4),\n",
       "   ('gente', 7),\n",
       "   ('comunidad', 8),\n",
       "   ('sociedad', 5),\n",
       "   ('mujer', 4),\n",
       "   ('hombre', 0),\n",
       "   ('señor', 0)]),\n",
       " ('amistad',\n",
       "  34,\n",
       "  [('amigos', 19), ('amiga', 1), ('amigo', 6), ('amigas', 0), ('amistad', 8)]),\n",
       " ('conflicto',\n",
       "  34,\n",
       "  [('conflicto', 8),\n",
       "   ('problemas', 8),\n",
       "   ('conflictos', 7),\n",
       "   ('diferencias', 4),\n",
       "   ('problema', 5),\n",
       "   ('discusion', 2)]),\n",
       " ('violencia',\n",
       "  31,\n",
       "  [('violencia', 8), ('pelea', 10), ('pelear', 6), ('guerra', 7)]),\n",
       " ('solución',\n",
       "  26,\n",
       "  [('paso', 5),\n",
       "   ('decidi', 3),\n",
       "   ('decidimos', 3),\n",
       "   ('cambio', 0),\n",
       "   ('oportunidad', 6),\n",
       "   ('decision', 1),\n",
       "   ('construir', 1),\n",
       "   ('aprender', 1),\n",
       "   ('solucion', 6)]),\n",
       " ('tolerancia',\n",
       "  26,\n",
       "  [('respeto', 10), ('tolerancia', 7), ('convivencia', 6), ('entender', 3)]),\n",
       " ('niños', 25, [('niños', 12), ('niño', 11), ('niña', 1), ('niñas', 1)]),\n",
       " ('vida', 25, [('vida', 20), ('vivir', 5)]),\n",
       " ('perdón',\n",
       "  21,\n",
       "  [('perdon', 10), ('perdonar', 3), ('reconciliacion', 6), ('perdone', 2)]),\n",
       " ('comunicación',\n",
       "  16,\n",
       "  [('hablar', 7), ('dialogo', 2), ('hablamos', 3), ('palabras', 4)]),\n",
       " ('compañeros',\n",
       "  14,\n",
       "  [('compañeros', 9), ('compañera', 1), ('estudiantes', 1), ('compañero', 3)]),\n",
       " ('animales', 13, [('animales', 3), ('perrito', 5), ('gato', 5)]),\n",
       " ('amor', 13, [('amor', 10), ('corazon', 3)]),\n",
       " ('solidaridad', 11, [('ayudar', 3), ('ayuda', 6), ('compartir', 2)]),\n",
       " ('religión', 8, [('dios', 8)]),\n",
       " ('felicidad', 6, [('feliz', 4), ('alegria', 1), ('sonrisa', 1)]),\n",
       " ('tristeza', 5, [('pesar', 5)]),\n",
       " ('agua', 5, [('agua', 5)]),\n",
       " ('educación', 5, [('educacion', 5)]),\n",
       " ('jóvenes', 4, [('jovenes', 4)]),\n",
       " ('agradecimiento', 3, [('gracias', 3)]),\n",
       " ('paz_interior', 3, [('tranquilidad', 3), ('armonia', 0)]),\n",
       " ('rencor', 3, [('rencor', 3)]),\n",
       " ('patriotismo', 2, [('colombiano', 2)])]"
      ]
     },
     "execution_count": 91,
     "metadata": {},
     "output_type": "execute_result"
    }
   ],
   "source": [
    "tups_m"
   ]
  },
  {
   "cell_type": "code",
   "execution_count": 92,
   "metadata": {
    "collapsed": false
   },
   "outputs": [],
   "source": [
    "tups_f = [(k, sum(map(lambda x: x[1], words)), words) for k, words in topics_f.items()]\n",
    "tups_f.sort(key=lambda x: x[1], reverse=True)"
   ]
  },
  {
   "cell_type": "code",
   "execution_count": 93,
   "metadata": {
    "collapsed": false,
    "scrolled": true
   },
   "outputs": [
    {
     "data": {
      "text/plain": [
       "[('ámbito_temporal',\n",
       "  302,\n",
       "  [('dia', 101),\n",
       "   ('tiempo', 34),\n",
       "   ('año', 35),\n",
       "   ('momento', 20),\n",
       "   ('dias', 28),\n",
       "   ('hoy', 23),\n",
       "   ('ahora', 18),\n",
       "   ('vez', 22),\n",
       "   ('pasado', 12),\n",
       "   ('2015', 9)]),\n",
       " ('familia',\n",
       "  233,\n",
       "  [('familia', 60),\n",
       "   ('mama', 35),\n",
       "   ('hermano', 15),\n",
       "   ('padre', 13),\n",
       "   ('padres', 17),\n",
       "   ('papa', 17),\n",
       "   ('hijos', 18),\n",
       "   ('madre', 10),\n",
       "   ('hermana', 10),\n",
       "   ('hijo', 12),\n",
       "   ('hija', 13),\n",
       "   ('familiar', 13)]),\n",
       " ('ámbito_espacial',\n",
       "  223,\n",
       "  [('colegio', 32),\n",
       "   ('casa', 35),\n",
       "   ('hogar', 29),\n",
       "   ('pais', 20),\n",
       "   ('trabajo', 20),\n",
       "   ('mundo', 16),\n",
       "   ('calle', 24),\n",
       "   ('ciudad', 9),\n",
       "   ('lugar', 12),\n",
       "   ('barrio', 4),\n",
       "   ('clase', 5),\n",
       "   ('pueblo', 10),\n",
       "   ('bogota', 7)]),\n",
       " ('gente',\n",
       "  186,\n",
       "  [('personas', 60),\n",
       "   ('persona', 25),\n",
       "   ('social', 14),\n",
       "   ('grupo', 21),\n",
       "   ('gente', 12),\n",
       "   ('comunidad', 17),\n",
       "   ('sociedad', 9),\n",
       "   ('mujer', 8),\n",
       "   ('hombre', 10),\n",
       "   ('señor', 10)]),\n",
       " ('solución',\n",
       "  113,\n",
       "  [('paso', 9),\n",
       "   ('decidi', 26),\n",
       "   ('decidimos', 17),\n",
       "   ('cambio', 16),\n",
       "   ('oportunidad', 12),\n",
       "   ('decision', 9),\n",
       "   ('construir', 5),\n",
       "   ('aprender', 9),\n",
       "   ('solucion', 10)]),\n",
       " ('amor', 104, [('amor', 74), ('corazon', 30)]),\n",
       " ('amistad',\n",
       "  100,\n",
       "  [('amigos', 26),\n",
       "   ('amiga', 28),\n",
       "   ('amigo', 17),\n",
       "   ('amigas', 22),\n",
       "   ('amistad', 7)]),\n",
       " ('perdón',\n",
       "  87,\n",
       "  [('perdon', 34), ('perdonar', 20), ('reconciliacion', 25), ('perdone', 8)]),\n",
       " ('niños', 86, [('niños', 42), ('niño', 16), ('niña', 20), ('niñas', 8)]),\n",
       " ('vida', 80, [('vida', 65), ('vivir', 15)]),\n",
       " ('violencia',\n",
       "  61,\n",
       "  [('violencia', 21), ('pelea', 19), ('pelear', 13), ('guerra', 8)]),\n",
       " ('conflicto',\n",
       "  57,\n",
       "  [('conflicto', 11),\n",
       "   ('problemas', 10),\n",
       "   ('conflictos', 8),\n",
       "   ('diferencias', 11),\n",
       "   ('problema', 5),\n",
       "   ('discusion', 12)]),\n",
       " ('comunicación',\n",
       "  54,\n",
       "  [('hablar', 26), ('dialogo', 11), ('hablamos', 7), ('palabras', 10)]),\n",
       " ('tolerancia',\n",
       "  49,\n",
       "  [('respeto', 19), ('tolerancia', 9), ('convivencia', 9), ('entender', 12)]),\n",
       " ('solidaridad', 48, [('ayudar', 20), ('ayuda', 20), ('compartir', 8)]),\n",
       " ('compañeros',\n",
       "  46,\n",
       "  [('compañeros', 16),\n",
       "   ('compañera', 14),\n",
       "   ('estudiantes', 5),\n",
       "   ('compañero', 11)]),\n",
       " ('felicidad', 36, [('feliz', 16), ('alegria', 10), ('sonrisa', 10)]),\n",
       " ('animales', 32, [('animales', 18), ('perrito', 5), ('gato', 9)]),\n",
       " ('paz_interior', 23, [('tranquilidad', 8), ('armonia', 15)]),\n",
       " ('religión', 13, [('dios', 13)]),\n",
       " ('rencor', 13, [('rencor', 13)]),\n",
       " ('educación', 12, [('educacion', 12)]),\n",
       " ('agua', 11, [('agua', 11)]),\n",
       " ('agradecimiento', 9, [('gracias', 9)]),\n",
       " ('jóvenes', 6, [('jovenes', 6)]),\n",
       " ('tristeza', 4, [('pesar', 4)]),\n",
       " ('patriotismo', 2, [('colombiano', 2)])]"
      ]
     },
     "execution_count": 93,
     "metadata": {},
     "output_type": "execute_result"
    }
   ],
   "source": [
    "tups_f"
   ]
  },
  {
   "cell_type": "markdown",
   "metadata": {},
   "source": [
    "## Animales"
   ]
  },
  {
   "cell_type": "code",
   "execution_count": 94,
   "metadata": {
    "collapsed": true
   },
   "outputs": [],
   "source": [
    "animales = ['animal', 'animalito', 'animales', 'animalitos',\n",
    "            'perro', 'perra', 'perros', 'perras', 'perrito', 'perrita', 'perritos', 'perritas',\n",
    "            'gato', 'gata', 'gatos', 'gatas', 'gatito', 'gatita', 'gatitos', 'gatitas',\n",
    "            'mascota', 'ovejita', 'pez']"
   ]
  },
  {
   "cell_type": "code",
   "execution_count": 95,
   "metadata": {
    "collapsed": true
   },
   "outputs": [],
   "source": [
    "# animales = ['caballo', 'yegua', 'caballito', 'burro', 'burrito', 'oveja',\n",
    "#             'cabra', 'vaquita', 'ovejita', 'vaca', 'cordero', 'corderito',\n",
    "#             'pez', 'pececito', 'cerdo', 'cerdito', 'puerco', 'gallina', 'pollo', 'gallo',\n",
    "#             'pesesito', 'pes']"
   ]
  },
  {
   "cell_type": "code",
   "execution_count": 96,
   "metadata": {
    "collapsed": true
   },
   "outputs": [],
   "source": [
    "total_animales = []\n",
    "for k in d:\n",
    "    text = total_text(d[k])\n",
    "    words = [w for w in word_tokenize(text)]\n",
    "    for a in words:\n",
    "        if a in animales:\n",
    "            total_animales.append(a)"
   ]
  },
  {
   "cell_type": "code",
   "execution_count": 97,
   "metadata": {
    "collapsed": false
   },
   "outputs": [
    {
     "data": {
      "text/plain": [
       "169"
      ]
     },
     "execution_count": 97,
     "metadata": {},
     "output_type": "execute_result"
    }
   ],
   "source": [
    "len(total_animales)"
   ]
  },
  {
   "cell_type": "code",
   "execution_count": 98,
   "metadata": {
    "collapsed": false
   },
   "outputs": [],
   "source": [
    "ta = Counter(total_animales)"
   ]
  },
  {
   "cell_type": "code",
   "execution_count": 99,
   "metadata": {
    "collapsed": false
   },
   "outputs": [
    {
     "data": {
      "text/plain": [
       "Counter({'animal': 17,\n",
       "         'animales': 36,\n",
       "         'animalito': 2,\n",
       "         'animalitos': 1,\n",
       "         'gata': 4,\n",
       "         'gatita': 1,\n",
       "         'gatito': 4,\n",
       "         'gatitos': 1,\n",
       "         'gato': 17,\n",
       "         'gatos': 6,\n",
       "         'mascota': 7,\n",
       "         'ovejita': 1,\n",
       "         'perra': 4,\n",
       "         'perrita': 10,\n",
       "         'perrito': 24,\n",
       "         'perritos': 5,\n",
       "         'perro': 14,\n",
       "         'perros': 13,\n",
       "         'pez': 2})"
      ]
     },
     "execution_count": 99,
     "metadata": {},
     "output_type": "execute_result"
    }
   ],
   "source": [
    "ta"
   ]
  },
  {
   "cell_type": "code",
   "execution_count": 100,
   "metadata": {
    "collapsed": false
   },
   "outputs": [],
   "source": [
    "total_animales_m = []\n",
    "total_animales_f = []\n",
    "for k in d:\n",
    "    text = total_text(d[k])\n",
    "    words = [w for w in word_tokenize(text)]\n",
    "    for a in words:\n",
    "        if a in animales:\n",
    "            if d[k]['gender'] == 'M':\n",
    "                total_animales_m.append(a)\n",
    "            elif d[k]['gender'] == 'F':\n",
    "                total_animales_f.append(a)"
   ]
  },
  {
   "cell_type": "code",
   "execution_count": 101,
   "metadata": {
    "collapsed": false
   },
   "outputs": [
    {
     "data": {
      "text/plain": [
       "28"
      ]
     },
     "execution_count": 101,
     "metadata": {},
     "output_type": "execute_result"
    }
   ],
   "source": [
    "len(total_animales_m)"
   ]
  },
  {
   "cell_type": "code",
   "execution_count": 102,
   "metadata": {
    "collapsed": false
   },
   "outputs": [
    {
     "data": {
      "text/plain": [
       "66"
      ]
     },
     "execution_count": 102,
     "metadata": {},
     "output_type": "execute_result"
    }
   ],
   "source": [
    "len(total_animales_f)"
   ]
  },
  {
   "cell_type": "code",
   "execution_count": 103,
   "metadata": {
    "collapsed": false,
    "scrolled": true
   },
   "outputs": [
    {
     "data": {
      "text/plain": [
       "[('perrito', 5),\n",
       " ('perro', 5),\n",
       " ('gato', 5),\n",
       " ('animales', 3),\n",
       " ('perritos', 3),\n",
       " ('perrita', 3),\n",
       " ('mascota', 2),\n",
       " ('gata', 1),\n",
       " ('perros', 1)]"
      ]
     },
     "execution_count": 103,
     "metadata": {},
     "output_type": "execute_result"
    }
   ],
   "source": [
    "Counter(total_animales_m).most_common()"
   ]
  },
  {
   "cell_type": "code",
   "execution_count": 104,
   "metadata": {
    "collapsed": false,
    "scrolled": true
   },
   "outputs": [
    {
     "data": {
      "text/plain": [
       "[('animales', 18),\n",
       " ('animal', 10),\n",
       " ('gato', 9),\n",
       " ('perros', 6),\n",
       " ('perrito', 5),\n",
       " ('perro', 3),\n",
       " ('animalito', 2),\n",
       " ('perra', 2),\n",
       " ('gatito', 2),\n",
       " ('perrita', 2),\n",
       " ('mascota', 2),\n",
       " ('gatos', 1),\n",
       " ('gata', 1),\n",
       " ('gatitos', 1),\n",
       " ('gatita', 1),\n",
       " ('animalitos', 1)]"
      ]
     },
     "execution_count": 104,
     "metadata": {},
     "output_type": "execute_result"
    }
   ],
   "source": [
    "Counter(total_animales_f).most_common()"
   ]
  },
  {
   "cell_type": "code",
   "execution_count": 105,
   "metadata": {
    "collapsed": false
   },
   "outputs": [],
   "source": [
    "total_animales_age = []\n",
    "total_animales_noage = []\n",
    "for k in d:\n",
    "    text = total_text(d[k])\n",
    "    words = [w for w in word_tokenize(text)]\n",
    "    for a in words:\n",
    "        if a in animales:\n",
    "            if d[k]['age']:\n",
    "                total_animales_age.append(a)\n",
    "            else:\n",
    "                total_animales_noage.append(a)"
   ]
  },
  {
   "cell_type": "code",
   "execution_count": 106,
   "metadata": {
    "collapsed": false
   },
   "outputs": [
    {
     "data": {
      "text/plain": [
       "74"
      ]
     },
     "execution_count": 106,
     "metadata": {},
     "output_type": "execute_result"
    }
   ],
   "source": [
    "len(total_animales_age)"
   ]
  },
  {
   "cell_type": "code",
   "execution_count": 107,
   "metadata": {
    "collapsed": false
   },
   "outputs": [
    {
     "data": {
      "text/plain": [
       "95"
      ]
     },
     "execution_count": 107,
     "metadata": {},
     "output_type": "execute_result"
    }
   ],
   "source": [
    "len(total_animales_noage)"
   ]
  },
  {
   "cell_type": "code",
   "execution_count": 108,
   "metadata": {
    "collapsed": false
   },
   "outputs": [],
   "source": [
    "total_animales_ch = []\n",
    "total_animales_te = []\n",
    "total_animales_ya = []\n",
    "total_animales_ad = []\n",
    "for k in d:\n",
    "    text = total_text(d[k])\n",
    "    words = [w for w in word_tokenize(text)]\n",
    "    for a in words:\n",
    "        if a in animales:\n",
    "            try:\n",
    "                if d[k]['age']:\n",
    "                    age = int(d[k]['age'])\n",
    "                    if 0 <= age <= 12:\n",
    "                        total_animales_ch.append(a)\n",
    "                    elif 13 <= age <= 18:\n",
    "                        total_animales_te.append(a)\n",
    "                    elif 19 <= age <= 25:\n",
    "                        total_animales_ya.append(a)\n",
    "                    else:\n",
    "                        total_animales_ad.append(a)\n",
    "            except: # '16, 19'\n",
    "                total_animales_te.append(a)"
   ]
  },
  {
   "cell_type": "code",
   "execution_count": 109,
   "metadata": {
    "collapsed": false
   },
   "outputs": [
    {
     "data": {
      "text/plain": [
       "32"
      ]
     },
     "execution_count": 109,
     "metadata": {},
     "output_type": "execute_result"
    }
   ],
   "source": [
    "len(total_animales_ch)"
   ]
  },
  {
   "cell_type": "code",
   "execution_count": 110,
   "metadata": {
    "collapsed": false
   },
   "outputs": [
    {
     "data": {
      "text/plain": [
       "[('gato', 10),\n",
       " ('perrito', 5),\n",
       " ('perro', 4),\n",
       " ('animal', 3),\n",
       " ('animales', 3),\n",
       " ('perrita', 3),\n",
       " ('mascota', 2),\n",
       " ('animalito', 1),\n",
       " ('perritos', 1)]"
      ]
     },
     "execution_count": 110,
     "metadata": {},
     "output_type": "execute_result"
    }
   ],
   "source": [
    "Counter(total_animales_ch).most_common()"
   ]
  },
  {
   "cell_type": "code",
   "execution_count": 111,
   "metadata": {
    "collapsed": false
   },
   "outputs": [
    {
     "data": {
      "text/plain": [
       "17"
      ]
     },
     "execution_count": 111,
     "metadata": {},
     "output_type": "execute_result"
    }
   ],
   "source": [
    "len(total_animales_te)"
   ]
  },
  {
   "cell_type": "code",
   "execution_count": 112,
   "metadata": {
    "collapsed": false
   },
   "outputs": [
    {
     "data": {
      "text/plain": [
       "[('animales', 5),\n",
       " ('animal', 3),\n",
       " ('perrito', 3),\n",
       " ('animalito', 1),\n",
       " ('mascota', 1),\n",
       " ('perros', 1),\n",
       " ('gato', 1),\n",
       " ('gatito', 1),\n",
       " ('perrita', 1)]"
      ]
     },
     "execution_count": 112,
     "metadata": {},
     "output_type": "execute_result"
    }
   ],
   "source": [
    "Counter(total_animales_te).most_common()"
   ]
  },
  {
   "cell_type": "code",
   "execution_count": 113,
   "metadata": {
    "collapsed": false
   },
   "outputs": [
    {
     "data": {
      "text/plain": [
       "13"
      ]
     },
     "execution_count": 113,
     "metadata": {},
     "output_type": "execute_result"
    }
   ],
   "source": [
    "len(total_animales_ya)"
   ]
  },
  {
   "cell_type": "code",
   "execution_count": 114,
   "metadata": {
    "collapsed": false
   },
   "outputs": [
    {
     "data": {
      "text/plain": [
       "[('animales', 4),\n",
       " ('animal', 2),\n",
       " ('perrito', 2),\n",
       " ('perra', 2),\n",
       " ('gatitos', 1),\n",
       " ('gato', 1),\n",
       " ('perrita', 1)]"
      ]
     },
     "execution_count": 114,
     "metadata": {},
     "output_type": "execute_result"
    }
   ],
   "source": [
    "Counter(total_animales_ya).most_common()"
   ]
  },
  {
   "cell_type": "code",
   "execution_count": 115,
   "metadata": {
    "collapsed": false
   },
   "outputs": [
    {
     "data": {
      "text/plain": [
       "12"
      ]
     },
     "execution_count": 115,
     "metadata": {},
     "output_type": "execute_result"
    }
   ],
   "source": [
    "len(total_animales_ad)"
   ]
  },
  {
   "cell_type": "code",
   "execution_count": 116,
   "metadata": {
    "collapsed": false
   },
   "outputs": [
    {
     "data": {
      "text/plain": [
       "[('animales', 4),\n",
       " ('gata', 2),\n",
       " ('perros', 2),\n",
       " ('animal', 1),\n",
       " ('mascota', 1),\n",
       " ('gato', 1),\n",
       " ('gatita', 1)]"
      ]
     },
     "execution_count": 116,
     "metadata": {},
     "output_type": "execute_result"
    }
   ],
   "source": [
    "Counter(total_animales_ad).most_common()"
   ]
  },
  {
   "cell_type": "code",
   "execution_count": 117,
   "metadata": {
    "collapsed": false
   },
   "outputs": [],
   "source": [
    "total_cards_with_animales = 0\n",
    "for k in d:\n",
    "    text = total_text(d[k])\n",
    "    words = [w for w in word_tokenize(text)]\n",
    "    for a in words:\n",
    "        if a in animales:\n",
    "            total_cards_with_animales += 1\n",
    "            break"
   ]
  },
  {
   "cell_type": "code",
   "execution_count": 118,
   "metadata": {
    "collapsed": false
   },
   "outputs": [
    {
     "data": {
      "text/plain": [
       "83"
      ]
     },
     "execution_count": 118,
     "metadata": {},
     "output_type": "execute_result"
    }
   ],
   "source": [
    "total_cards_with_animales"
   ]
  },
  {
   "cell_type": "code",
   "execution_count": null,
   "metadata": {
    "collapsed": true
   },
   "outputs": [],
   "source": []
  }
 ],
 "metadata": {
  "kernelspec": {
   "display_name": "Python 3",
   "language": "python",
   "name": "python3"
  },
  "language_info": {
   "codemirror_mode": {
    "name": "ipython",
    "version": 3
   },
   "file_extension": ".py",
   "mimetype": "text/x-python",
   "name": "python",
   "nbconvert_exporter": "python",
   "pygments_lexer": "ipython3",
   "version": "3.4.3"
  }
 },
 "nbformat": 4,
 "nbformat_minor": 0
}
