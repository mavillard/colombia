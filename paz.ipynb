{
 "cells": [
  {
   "cell_type": "code",
   "execution_count": 1,
   "metadata": {
    "collapsed": false
   },
   "outputs": [],
   "source": [
    "import csv\n",
    "import os\n",
    "from collections import Counter\n",
    "from collections import defaultdict\n",
    "from string import punctuation\n",
    "\n",
    "import enchant\n",
    "from nltk import word_tokenize\n",
    "from nltk.corpus import stopwords\n",
    "from nltk.util import ngrams"
   ]
  },
  {
   "cell_type": "markdown",
   "metadata": {},
   "source": [
    "# Lexicon"
   ]
  },
  {
   "cell_type": "code",
   "execution_count": 2,
   "metadata": {
    "collapsed": true
   },
   "outputs": [],
   "source": [
    "def remove_accent_marks(w):\n",
    "    r = w\n",
    "    r = r.replace('á', 'a')\n",
    "    r = r.replace('é', 'e')\n",
    "    r = r.replace('í', 'i')\n",
    "    r = r.replace('ó', 'o')\n",
    "    r = r.replace('ú', 'u')\n",
    "    return r"
   ]
  },
  {
   "cell_type": "code",
   "execution_count": 3,
   "metadata": {
    "collapsed": false
   },
   "outputs": [],
   "source": [
    "lexicon = {}\n",
    "with open('lexicon/es_lexicon.csv') as f:\n",
    "    reader = csv.reader(\n",
    "        f,\n",
    "        delimiter=' ',\n",
    "    )\n",
    "    for row in reader:\n",
    "        w = remove_accent_marks(row[0])\n",
    "        lexicon[w] = []\n",
    "        for i in range(1, len(row[1:]), 2):\n",
    "            entry = {}\n",
    "            entry['lemma'] = remove_accent_marks(row[i].lower())\n",
    "            entry['eagle'] = remove_accent_marks(row[i+1].lower())\n",
    "            lexicon[w].append(entry)"
   ]
  },
  {
   "cell_type": "code",
   "execution_count": 4,
   "metadata": {
    "collapsed": false
   },
   "outputs": [
    {
     "data": {
      "text/plain": [
       "500949"
      ]
     },
     "execution_count": 4,
     "metadata": {},
     "output_type": "execute_result"
    }
   ],
   "source": [
    "len(lexicon)"
   ]
  },
  {
   "cell_type": "code",
   "execution_count": 5,
   "metadata": {
    "collapsed": false
   },
   "outputs": [],
   "source": [
    "def is_vowel(c):\n",
    "    return c in 'aeiouAEIOUáéíóúÁÉÍÓÚüÜ'\n",
    "\n",
    "def next_level(w):\n",
    "    result = [w]\n",
    "    if is_vowel(w[0]):\n",
    "        result.append('h' + w)\n",
    "    if \"q'\" in w:\n",
    "        result.append(w.replace(\"q'\", 'que'))\n",
    "    for i in range(len(w)):\n",
    "        if w[i] == 'v':\n",
    "            result.append(w[:i] + 'b' + w[i+1:])\n",
    "        elif w[i] == 'b':\n",
    "            result.append(w[:i] + 'v' + w[i+1:])\n",
    "            result.append(w[:i] + 'd' + w[i+1:])\n",
    "        elif w[i] == 'd':\n",
    "            result.append(w[:i] + 'b' + w[i+1:])\n",
    "        elif w[i] == 'c' and i < len(w) - 1 and w[i+1] in 'ei':\n",
    "            result.append(w[:i] + 's' + w[i+1:])\n",
    "        elif w[i] == 's' and i < len(w) - 1 and w[i+1] in 'ei':\n",
    "            result.append(w[:i] + 'c' + w[i+1:])\n",
    "    return result\n",
    "\n",
    "def combinations_aux(visited, result):\n",
    "    while visited:\n",
    "        w = visited[0]\n",
    "        visited = visited[1:]\n",
    "        if w not in result:\n",
    "            result.append(w)\n",
    "            combs = next_level(w)\n",
    "            visited.extend(combs)        \n",
    "    return result\n",
    "\n",
    "def combinations(w):\n",
    "    return combinations_aux([w], [])"
   ]
  },
  {
   "cell_type": "code",
   "execution_count": 6,
   "metadata": {
    "collapsed": true
   },
   "outputs": [],
   "source": [
    "es = enchant.Dict('es_ES')"
   ]
  },
  {
   "cell_type": "markdown",
   "metadata": {},
   "source": [
    "# Analysis"
   ]
  },
  {
   "cell_type": "code",
   "execution_count": 7,
   "metadata": {
    "collapsed": false
   },
   "outputs": [
    {
     "data": {
      "text/plain": [
       "['ana.csv', 'dago.csv', 'rafa.csv', 'final.csv', 'yadira.csv']"
      ]
     },
     "execution_count": 7,
     "metadata": {},
     "output_type": "execute_result"
    }
   ],
   "source": [
    "os.listdir('data')"
   ]
  },
  {
   "cell_type": "code",
   "execution_count": 8,
   "metadata": {
    "collapsed": false
   },
   "outputs": [],
   "source": [
    "d = {}\n",
    "for filename in os.listdir('data'):\n",
    "    with open('data/' + filename) as f:\n",
    "        reader = csv.reader(\n",
    "            f,\n",
    "            delimiter=',',\n",
    "            quotechar='\"'\n",
    "        )\n",
    "        next(reader)\n",
    "        for row in reader:\n",
    "            d[row[0]] = {\n",
    "                'date': row[1],\n",
    "                'name': row[2],\n",
    "                'gender': row[3],\n",
    "                'age': row[4],\n",
    "                'city': row[5],\n",
    "                'drawings': row[6],\n",
    "                'title': row[7],\n",
    "                'description': row[8],\n",
    "            }"
   ]
  },
  {
   "cell_type": "code",
   "execution_count": 9,
   "metadata": {
    "collapsed": false
   },
   "outputs": [
    {
     "data": {
      "text/plain": [
       "826"
      ]
     },
     "execution_count": 9,
     "metadata": {},
     "output_type": "execute_result"
    }
   ],
   "source": [
    "len(d)"
   ]
  },
  {
   "cell_type": "markdown",
   "metadata": {},
   "source": [
    "## Gender"
   ]
  },
  {
   "cell_type": "code",
   "execution_count": 10,
   "metadata": {
    "collapsed": false
   },
   "outputs": [],
   "source": [
    "blank = 0\n",
    "male = 0\n",
    "female = 0\n",
    "for k in d:\n",
    "    gender = d[k]['gender']\n",
    "    if gender == 'M':\n",
    "        male += 1\n",
    "    elif gender == 'F':\n",
    "        female += 1\n",
    "    else:\n",
    "        blank += 1"
   ]
  },
  {
   "cell_type": "code",
   "execution_count": 11,
   "metadata": {
    "collapsed": false
   },
   "outputs": [
    {
     "data": {
      "text/plain": [
       "449"
      ]
     },
     "execution_count": 11,
     "metadata": {},
     "output_type": "execute_result"
    }
   ],
   "source": [
    "blank"
   ]
  },
  {
   "cell_type": "code",
   "execution_count": 12,
   "metadata": {
    "collapsed": false
   },
   "outputs": [
    {
     "data": {
      "text/plain": [
       "108"
      ]
     },
     "execution_count": 12,
     "metadata": {},
     "output_type": "execute_result"
    }
   ],
   "source": [
    "male"
   ]
  },
  {
   "cell_type": "code",
   "execution_count": 13,
   "metadata": {
    "collapsed": false
   },
   "outputs": [
    {
     "data": {
      "text/plain": [
       "269"
      ]
     },
     "execution_count": 13,
     "metadata": {},
     "output_type": "execute_result"
    }
   ],
   "source": [
    "female"
   ]
  },
  {
   "cell_type": "markdown",
   "metadata": {},
   "source": [
    "## Cities"
   ]
  },
  {
   "cell_type": "code",
   "execution_count": 14,
   "metadata": {
    "collapsed": true
   },
   "outputs": [],
   "source": [
    "cities = []\n",
    "for k in d:\n",
    "    city = d[k]['city']\n",
    "    cities.append(city)"
   ]
  },
  {
   "cell_type": "code",
   "execution_count": 15,
   "metadata": {
    "collapsed": false
   },
   "outputs": [],
   "source": [
    "c = Counter(cities)"
   ]
  },
  {
   "cell_type": "code",
   "execution_count": 16,
   "metadata": {
    "collapsed": false
   },
   "outputs": [],
   "source": [
    "# c"
   ]
  },
  {
   "cell_type": "code",
   "execution_count": 17,
   "metadata": {
    "collapsed": false
   },
   "outputs": [
    {
     "data": {
      "text/plain": [
       "[('', 582),\n",
       " ('Bogotá', 155),\n",
       " ('Bogotá D.C.', 9),\n",
       " ('Neiva', 7),\n",
       " ('Fusagasugá', 6),\n",
       " ('Bogotá D.C', 5),\n",
       " ('Soacha', 5),\n",
       " ('Bucaramanga', 4),\n",
       " ('Cali', 3),\n",
       " ('Medellín', 3)]"
      ]
     },
     "execution_count": 17,
     "metadata": {},
     "output_type": "execute_result"
    }
   ],
   "source": [
    "c.most_common(10)"
   ]
  },
  {
   "cell_type": "markdown",
   "metadata": {},
   "source": [
    "## Ages"
   ]
  },
  {
   "cell_type": "code",
   "execution_count": 18,
   "metadata": {
    "collapsed": true
   },
   "outputs": [],
   "source": [
    "ages = []\n",
    "for k in d:\n",
    "    age = d[k]['age']\n",
    "    ages.append(age)"
   ]
  },
  {
   "cell_type": "code",
   "execution_count": 19,
   "metadata": {
    "collapsed": false
   },
   "outputs": [],
   "source": [
    "a = Counter(ages)"
   ]
  },
  {
   "cell_type": "code",
   "execution_count": 20,
   "metadata": {
    "collapsed": false
   },
   "outputs": [],
   "source": [
    "# a"
   ]
  },
  {
   "cell_type": "code",
   "execution_count": 21,
   "metadata": {
    "collapsed": false
   },
   "outputs": [
    {
     "data": {
      "text/plain": [
       "[('', 575),\n",
       " ('14', 16),\n",
       " ('16', 13),\n",
       " ('10', 12),\n",
       " ('19', 12),\n",
       " ('20', 11),\n",
       " ('11', 11),\n",
       " ('13', 11),\n",
       " ('12', 10),\n",
       " ('21', 9),\n",
       " ('17', 9)]"
      ]
     },
     "execution_count": 21,
     "metadata": {},
     "output_type": "execute_result"
    }
   ],
   "source": [
    "a.most_common(11)"
   ]
  },
  {
   "cell_type": "code",
   "execution_count": 22,
   "metadata": {
    "collapsed": false
   },
   "outputs": [],
   "source": [
    "children = 0\n",
    "teenagers = 0\n",
    "young_adults = 0\n",
    "adults = 0\n",
    "for k in d:\n",
    "    try:\n",
    "        if d[k]['age']:\n",
    "            age = int(d[k]['age'])\n",
    "            if 0 <= age <= 12:\n",
    "                children += 1\n",
    "            elif 13 <= age <= 18:\n",
    "                teenagers += 1\n",
    "            elif 19 <= age <= 25:\n",
    "                young_adults += 1\n",
    "            else:\n",
    "                adults += 1\n",
    "    except: # '16, 19'\n",
    "        teenagers += 1"
   ]
  },
  {
   "cell_type": "code",
   "execution_count": 23,
   "metadata": {
    "collapsed": false
   },
   "outputs": [
    {
     "data": {
      "text/plain": [
       "51"
      ]
     },
     "execution_count": 23,
     "metadata": {},
     "output_type": "execute_result"
    }
   ],
   "source": [
    "children"
   ]
  },
  {
   "cell_type": "code",
   "execution_count": 24,
   "metadata": {
    "collapsed": false
   },
   "outputs": [
    {
     "data": {
      "text/plain": [
       "65"
      ]
     },
     "execution_count": 24,
     "metadata": {},
     "output_type": "execute_result"
    }
   ],
   "source": [
    "teenagers"
   ]
  },
  {
   "cell_type": "code",
   "execution_count": 25,
   "metadata": {
    "collapsed": false
   },
   "outputs": [
    {
     "data": {
      "text/plain": [
       "54"
      ]
     },
     "execution_count": 25,
     "metadata": {},
     "output_type": "execute_result"
    }
   ],
   "source": [
    "young_adults"
   ]
  },
  {
   "cell_type": "code",
   "execution_count": 26,
   "metadata": {
    "collapsed": false
   },
   "outputs": [
    {
     "data": {
      "text/plain": [
       "81"
      ]
     },
     "execution_count": 26,
     "metadata": {},
     "output_type": "execute_result"
    }
   ],
   "source": [
    "adults"
   ]
  },
  {
   "cell_type": "markdown",
   "metadata": {},
   "source": [
    "## Drawings"
   ]
  },
  {
   "cell_type": "code",
   "execution_count": 27,
   "metadata": {
    "collapsed": false
   },
   "outputs": [],
   "source": [
    "drawing_words = []\n",
    "for k in d:\n",
    "    drawings = d[k]['drawings'].lower().replace(';', ',')\n",
    "    words = [x.strip() for x in drawings.split(',')]\n",
    "    drawing_words.extend(words)"
   ]
  },
  {
   "cell_type": "code",
   "execution_count": 28,
   "metadata": {
    "collapsed": false
   },
   "outputs": [],
   "source": [
    "dw = Counter(drawing_words)"
   ]
  },
  {
   "cell_type": "code",
   "execution_count": 29,
   "metadata": {
    "collapsed": false
   },
   "outputs": [],
   "source": [
    "# dw"
   ]
  },
  {
   "cell_type": "code",
   "execution_count": 30,
   "metadata": {
    "collapsed": false
   },
   "outputs": [
    {
     "data": {
      "text/plain": [
       "[('', 715),\n",
       " ('corazón', 84),\n",
       " ('cara feliz', 28),\n",
       " ('niño', 11),\n",
       " ('carita feliz', 11),\n",
       " ('nube', 7),\n",
       " ('cara sonriente', 5),\n",
       " ('perro', 4),\n",
       " ('sol', 3),\n",
       " ('ojos', 2),\n",
       " ('flor', 2)]"
      ]
     },
     "execution_count": 30,
     "metadata": {},
     "output_type": "execute_result"
    }
   ],
   "source": [
    "dw.most_common(11)"
   ]
  },
  {
   "cell_type": "markdown",
   "metadata": {},
   "source": [
    "## Words"
   ]
  },
  {
   "cell_type": "code",
   "execution_count": 31,
   "metadata": {
    "collapsed": false
   },
   "outputs": [
    {
     "data": {
      "text/plain": [
       "'!\"#$%&\\'()*+,-./:;<=>?@[\\\\]^_`{|}~'"
      ]
     },
     "execution_count": 31,
     "metadata": {},
     "output_type": "execute_result"
    }
   ],
   "source": [
    "punctuation"
   ]
  },
  {
   "cell_type": "code",
   "execution_count": 32,
   "metadata": {
    "collapsed": true
   },
   "outputs": [],
   "source": [
    "def normalize(text):\n",
    "    text = text.lower()\n",
    "    text = remove_accent_marks(text)\n",
    "    for p in punctuation:\n",
    "        text = text.replace(p, '')\n",
    "    return text"
   ]
  },
  {
   "cell_type": "code",
   "execution_count": 33,
   "metadata": {
    "collapsed": true
   },
   "outputs": [],
   "source": [
    "def total_text(r):\n",
    "    return normalize(r['title'] + ' ' + r['description'])"
   ]
  },
  {
   "cell_type": "code",
   "execution_count": 34,
   "metadata": {
    "collapsed": false
   },
   "outputs": [],
   "source": [
    "total_words = []\n",
    "for k in d:\n",
    "    text = total_text(d[k])\n",
    "    words = [w for w in word_tokenize(text) if w not in punctuation]\n",
    "    total_words.extend(words)"
   ]
  },
  {
   "cell_type": "code",
   "execution_count": 35,
   "metadata": {
    "collapsed": false
   },
   "outputs": [
    {
     "data": {
      "text/plain": [
       "45543"
      ]
     },
     "execution_count": 35,
     "metadata": {},
     "output_type": "execute_result"
    }
   ],
   "source": [
    "len(total_words)"
   ]
  },
  {
   "cell_type": "code",
   "execution_count": 36,
   "metadata": {
    "collapsed": true
   },
   "outputs": [],
   "source": [
    "total_words_freq = Counter(total_words)"
   ]
  },
  {
   "cell_type": "code",
   "execution_count": 37,
   "metadata": {
    "collapsed": false
   },
   "outputs": [
    {
     "data": {
      "text/plain": [
       "[('de', 1996),\n",
       " ('y', 1954),\n",
       " ('la', 1684),\n",
       " ('que', 1365),\n",
       " ('en', 1224),\n",
       " ('a', 1193),\n",
       " ('el', 1032),\n",
       " ('un', 812),\n",
       " ('con', 692),\n",
       " ('mi', 668)]"
      ]
     },
     "execution_count": 37,
     "metadata": {},
     "output_type": "execute_result"
    }
   ],
   "source": [
    "total_words_freq.most_common(10)"
   ]
  },
  {
   "cell_type": "code",
   "execution_count": 38,
   "metadata": {
    "collapsed": false
   },
   "outputs": [],
   "source": [
    "stop_words = [remove_accent_marks(w) for w in stopwords.words('spanish')]"
   ]
  },
  {
   "cell_type": "code",
   "execution_count": 39,
   "metadata": {
    "collapsed": false
   },
   "outputs": [],
   "source": [
    "total_nonstop_words = [w for w in total_words if w not in stop_words]"
   ]
  },
  {
   "cell_type": "code",
   "execution_count": 40,
   "metadata": {
    "collapsed": false
   },
   "outputs": [
    {
     "data": {
      "text/plain": [
       "21983"
      ]
     },
     "execution_count": 40,
     "metadata": {},
     "output_type": "execute_result"
    }
   ],
   "source": [
    "len(total_nonstop_words)"
   ]
  },
  {
   "cell_type": "code",
   "execution_count": 41,
   "metadata": {
    "collapsed": true
   },
   "outputs": [],
   "source": [
    "unique_nonstop_words = set(total_nonstop_words)"
   ]
  },
  {
   "cell_type": "code",
   "execution_count": 42,
   "metadata": {
    "collapsed": false
   },
   "outputs": [
    {
     "data": {
      "text/plain": [
       "6675"
      ]
     },
     "execution_count": 42,
     "metadata": {},
     "output_type": "execute_result"
    }
   ],
   "source": [
    "len(unique_nonstop_words)"
   ]
  },
  {
   "cell_type": "markdown",
   "metadata": {},
   "source": [
    "## Spelling"
   ]
  },
  {
   "cell_type": "code",
   "execution_count": 43,
   "metadata": {
    "collapsed": false
   },
   "outputs": [],
   "source": [
    "correct_spelling = {}\n",
    "\n",
    "for w in total_words_freq:\n",
    "    if w not in correct_spelling:\n",
    "        if w in lexicon:\n",
    "            correct_spelling[w] = w\n",
    "        else:\n",
    "            combs = combinations(w)\n",
    "            freqs = [(c, total_words_freq[c]) for c in combs if c in total_words_freq and c in lexicon]\n",
    "            if freqs:\n",
    "                freqs.sort(key=lambda x: x[1], reverse=True)\n",
    "                correct_spelling[w] = freqs[0][0]\n",
    "            else:\n",
    "                freqs = [(c, total_words_freq[c]) for c in es.suggest(w) if c in total_words_freq]\n",
    "                if freqs:\n",
    "                    freqs.sort(key=lambda x: x[1], reverse=True)\n",
    "                    correct_spelling[w] = freqs[0][0]\n",
    "                else:\n",
    "                    correct_spelling[w] = w"
   ]
  },
  {
   "cell_type": "code",
   "execution_count": 44,
   "metadata": {
    "collapsed": false
   },
   "outputs": [
    {
     "data": {
      "text/plain": [
       "6858"
      ]
     },
     "execution_count": 44,
     "metadata": {},
     "output_type": "execute_result"
    }
   ],
   "source": [
    "len(correct_spelling)"
   ]
  },
  {
   "cell_type": "code",
   "execution_count": 45,
   "metadata": {
    "collapsed": false
   },
   "outputs": [
    {
     "data": {
      "text/plain": [
       "6858"
      ]
     },
     "execution_count": 45,
     "metadata": {},
     "output_type": "execute_result"
    }
   ],
   "source": [
    "len(total_words_freq)"
   ]
  },
  {
   "cell_type": "code",
   "execution_count": 46,
   "metadata": {
    "collapsed": false
   },
   "outputs": [],
   "source": [
    "spelling_map = defaultdict(list)\n",
    "for key in correct_spelling:\n",
    "    v = correct_spelling[key]\n",
    "    spelling_map[v].append((key, total_words_freq[key]))\n",
    "spelling_map = dict(spelling_map)"
   ]
  },
  {
   "cell_type": "code",
   "execution_count": 47,
   "metadata": {
    "collapsed": false
   },
   "outputs": [
    {
     "data": {
      "text/plain": [
       "6306"
      ]
     },
     "execution_count": 47,
     "metadata": {},
     "output_type": "execute_result"
    }
   ],
   "source": [
    "len(spelling_map)"
   ]
  },
  {
   "cell_type": "code",
   "execution_count": 48,
   "metadata": {
    "collapsed": false
   },
   "outputs": [
    {
     "data": {
      "text/plain": [
       "'hacer'"
      ]
     },
     "execution_count": 48,
     "metadata": {},
     "output_type": "execute_result"
    }
   ],
   "source": [
    "correct_spelling['aser']"
   ]
  },
  {
   "cell_type": "code",
   "execution_count": 49,
   "metadata": {
    "collapsed": false
   },
   "outputs": [
    {
     "data": {
      "text/plain": [
       "[('aser', 3), ('acer', 1), ('hacer', 71), ('haser', 1)]"
      ]
     },
     "execution_count": 49,
     "metadata": {},
     "output_type": "execute_result"
    }
   ],
   "source": [
    "spelling_map['hacer']"
   ]
  },
  {
   "cell_type": "code",
   "execution_count": 50,
   "metadata": {
    "collapsed": false
   },
   "outputs": [],
   "source": [
    "mispellings = [w for w in spelling_map if w not in stop_words and len(spelling_map[w]) > 1]\n",
    "mispellings.sort()"
   ]
  },
  {
   "cell_type": "code",
   "execution_count": 51,
   "metadata": {
    "collapsed": false
   },
   "outputs": [
    {
     "data": {
      "text/plain": [
       "['abandonados',\n",
       " 'abrasamos',\n",
       " 'abuelas',\n",
       " 'abuelo',\n",
       " 'abuelos',\n",
       " 'abusar',\n",
       " 'acabo',\n",
       " 'aceptar',\n",
       " 'aceptaron',\n",
       " 'adoptar']"
      ]
     },
     "execution_count": 51,
     "metadata": {},
     "output_type": "execute_result"
    }
   ],
   "source": [
    "mispellings[:10]"
   ]
  },
  {
   "cell_type": "code",
   "execution_count": 52,
   "metadata": {
    "collapsed": false
   },
   "outputs": [
    {
     "data": {
      "text/plain": [
       "[('habandonados', 1), ('abandonados', 3)]"
      ]
     },
     "execution_count": 52,
     "metadata": {},
     "output_type": "execute_result"
    }
   ],
   "source": [
    "spelling_map['abandonados']"
   ]
  },
  {
   "cell_type": "markdown",
   "metadata": {},
   "source": [
    "## n-grams"
   ]
  },
  {
   "cell_type": "code",
   "execution_count": 53,
   "metadata": {
    "collapsed": true
   },
   "outputs": [],
   "source": [
    "def all_stopwords(ngrm):\n",
    "    return all(map(lambda x: x in stop_words, ngrm))"
   ]
  },
  {
   "cell_type": "code",
   "execution_count": 54,
   "metadata": {
    "collapsed": true
   },
   "outputs": [],
   "source": [
    "def my_ngrams(tokens):\n",
    "    ngrms = []\n",
    "    for i in range(1, 3 + 1):\n",
    "        ngrms_aux = [ngrm for ngrm in ngrams(tokens, i) if not all_stopwords(ngrm)]\n",
    "        ngrms.extend(ngrms_aux)\n",
    "    return ngrms"
   ]
  },
  {
   "cell_type": "code",
   "execution_count": 55,
   "metadata": {
    "collapsed": false
   },
   "outputs": [],
   "source": [
    "total_unigrams = []\n",
    "total_bigrams = []\n",
    "total_trigrams = []\n",
    "for k in d:\n",
    "    clean_title_words = [correct_spelling[w] for w in word_tokenize(normalize(d[k]['title']))]\n",
    "    clean_description_words = [correct_spelling[w] for w in word_tokenize(normalize(d[k]['description']))]\n",
    "    title_ngrams = my_ngrams(clean_title_words)\n",
    "    description_ngrams = my_ngrams(clean_description_words)\n",
    "    text_ngrams = title_ngrams + description_ngrams\n",
    "    total_unigrams.extend(ngrm for ngrm in text_ngrams if len(ngrm) == 1)\n",
    "    total_bigrams.extend(ngrm for ngrm in text_ngrams if len(ngrm) == 2)\n",
    "    total_trigrams.extend(ngrm for ngrm in text_ngrams if len(ngrm) == 3)"
   ]
  },
  {
   "cell_type": "code",
   "execution_count": 56,
   "metadata": {
    "collapsed": false
   },
   "outputs": [],
   "source": [
    "tuni = Counter(total_unigrams)"
   ]
  },
  {
   "cell_type": "code",
   "execution_count": 57,
   "metadata": {
    "collapsed": false
   },
   "outputs": [
    {
     "data": {
      "text/plain": [
       "[(('paz',), 668),\n",
       " (('dia',), 240),\n",
       " (('familia',), 153),\n",
       " (('ser',), 135),\n",
       " (('personas',), 132),\n",
       " (('vida',), 118),\n",
       " (('amor',), 102),\n",
       " (('cada',), 90),\n",
       " (('años',), 88),\n",
       " (('niños',), 88),\n",
       " (('hecho',), 88),\n",
       " (('mejor',), 87),\n",
       " (('despues',), 82),\n",
       " (('perdon',), 82),\n",
       " (('colegio',), 82),\n",
       " (('asi',), 79),\n",
       " (('solo',), 79),\n",
       " (('hacer',), 76),\n",
       " (('tiempo',), 73),\n",
       " (('siempre',), 70),\n",
       " (('casa',), 69),\n",
       " (('año',), 65),\n",
       " (('hace',), 65),\n",
       " (('persona',), 65),\n",
       " (('amigos',), 60),\n",
       " (('mama',), 58),\n",
       " (('demas',), 53),\n",
       " (('hogar',), 53),\n",
       " (('trabajo',), 52),\n",
       " (('colombiano',), 51),\n",
       " (('dos',), 50),\n",
       " (('compañeros',), 50),\n",
       " (('mundo',), 50),\n",
       " (('mal',), 49),\n",
       " (('hoy',), 49),\n",
       " (('dias',), 48),\n",
       " (('respeto',), 48),\n",
       " (('ahora',), 48),\n",
       " (('cosas',), 48),\n",
       " (('pais',), 48),\n",
       " (('violencia',), 48),\n",
       " (('perdonar',), 46),\n",
       " (('corazon',), 46),\n",
       " (('bien',), 45),\n",
       " (('niño',), 45),\n",
       " (('social',), 45),\n",
       " (('calle',), 44),\n",
       " (('parte',), 44),\n",
       " (('cuenta',), 44),\n",
       " (('ayuda',), 43),\n",
       " (('ayudar',), 43),\n",
       " (('tener',), 43),\n",
       " (('padre',), 42),\n",
       " (('hacia',), 42),\n",
       " (('hablar',), 41),\n",
       " (('dije',), 40),\n",
       " (('momento',), 40),\n",
       " (('grupo',), 40),\n",
       " (('feliz',), 40),\n",
       " (('ver',), 40),\n",
       " (('paso',), 40),\n",
       " (('conflicto',), 40),\n",
       " (('medio',), 39),\n",
       " (('hermano',), 39),\n",
       " (('gente',), 39),\n",
       " (('conflictos',), 38),\n",
       " (('pelea',), 38),\n",
       " (('amiga',), 38),\n",
       " (('manera',), 37),\n",
       " (('vivir',), 37),\n",
       " (('poder',), 37),\n",
       " (('reconciliacion',), 36),\n",
       " (('vez',), 36),\n",
       " (('decidi',), 36),\n",
       " (('dijo',), 36),\n",
       " (('forma',), 35),\n",
       " (('problemas',), 35),\n",
       " (('luego',), 35),\n",
       " (('entonces',), 35),\n",
       " (('comunidad',), 34),\n",
       " (('pelear',), 33),\n",
       " (('madre',), 33),\n",
       " (('pues',), 33),\n",
       " (('mismo',), 33),\n",
       " (('q',), 33),\n",
       " (('conmigo',), 32),\n",
       " (('tolerancia',), 32),\n",
       " (('situacion',), 32),\n",
       " (('dios',), 32),\n",
       " (('hijo',), 32),\n",
       " (('di',), 31),\n",
       " (('padres',), 31),\n",
       " (('papa',), 31),\n",
       " (('acto',), 31),\n",
       " (('rencor',), 31),\n",
       " (('toda',), 30),\n",
       " (('cambio',), 30),\n",
       " (('gran',), 30),\n",
       " (('hijos',), 30),\n",
       " (('diferencias',), 30)]"
      ]
     },
     "execution_count": 57,
     "metadata": {},
     "output_type": "execute_result"
    }
   ],
   "source": [
    "tuni.most_common(100)"
   ]
  },
  {
   "cell_type": "code",
   "execution_count": 58,
   "metadata": {
    "collapsed": false
   },
   "outputs": [],
   "source": [
    "tbi = Counter(total_bigrams)"
   ]
  },
  {
   "cell_type": "code",
   "execution_count": 59,
   "metadata": {
    "collapsed": false
   },
   "outputs": [
    {
     "data": {
      "text/plain": [
       "[(('la', 'paz'), 355),\n",
       " (('de', 'paz'), 125),\n",
       " (('un', 'dia'), 108),\n",
       " (('paz', 'es'), 68),\n",
       " (('las', 'personas'), 58),\n",
       " (('mi', 'familia'), 56),\n",
       " (('paz', 'en'), 52),\n",
       " (('hecho', 'de'), 52),\n",
       " (('en', 'paz'), 50),\n",
       " (('despues', 'de'), 48),\n",
       " (('la', 'vida'), 45),\n",
       " (('paz', 'y'), 44),\n",
       " (('los', 'niños'), 42),\n",
       " (('mi', 'mama'), 40),\n",
       " (('la', 'familia'), 38),\n",
       " (('los', 'demas'), 38),\n",
       " (('la', 'calle'), 38),\n",
       " (('personas', 'que'), 34),\n",
       " (('el', 'colegio'), 33),\n",
       " (('grupo', 'de'), 31),\n",
       " (('asi', 'que'), 31),\n",
       " (('un', 'grupo'), 31),\n",
       " (('mi', 'hermano'), 30),\n",
       " (('el', 'amor'), 30),\n",
       " (('parte', 'de'), 30),\n",
       " (('el', 'perdon'), 28),\n",
       " (('la', 'violencia'), 27),\n",
       " (('le', 'dije'), 27),\n",
       " (('mis', 'compañeros'), 26),\n",
       " (('el', 'año'), 26),\n",
       " (('mi', 'padre'), 25),\n",
       " (('mi', 'hermana'), 25),\n",
       " (('un', 'hecho'), 25),\n",
       " (('ayudar', 'a'), 24),\n",
       " (('ese', 'dia'), 24),\n",
       " (('el', 'dia'), 24),\n",
       " (('acto', 'de'), 23),\n",
       " (('paz', 'con'), 23),\n",
       " (('ayuda', 'a'), 23),\n",
       " (('medio', 'de'), 23),\n",
       " (('familia', 'y'), 22),\n",
       " (('mi', 'papa'), 22),\n",
       " (('perdon', 'y'), 21),\n",
       " (('una', 'persona'), 21),\n",
       " (('el', 'mundo'), 21),\n",
       " (('la', 'gente'), 21),\n",
       " (('paz', 'desde'), 20),\n",
       " (('a', 'ser'), 20),\n",
       " (('amor', 'y'), 20),\n",
       " (('forma', 'de'), 20),\n",
       " (('y', 'despues'), 20),\n",
       " (('cuenta', 'que'), 20),\n",
       " (('mi', 'vida'), 19),\n",
       " (('paz', 'se'), 19),\n",
       " (('llegar', 'a'), 19),\n",
       " (('cada', 'uno'), 19),\n",
       " (('el', 'corazon'), 19),\n",
       " (('un', 'niño'), 19),\n",
       " (('el', 'respeto'), 19),\n",
       " (('me', 'dijo'), 18),\n",
       " (('los', 'dias'), 18),\n",
       " (('las', 'cosas'), 18),\n",
       " (('todas', 'las'), 18),\n",
       " (('la', 'oportunidad'), 18),\n",
       " (('un', 'amigo'), 18),\n",
       " (('toda', 'la'), 18),\n",
       " (('de', 'vida'), 18),\n",
       " (('y', 'años'), 18),\n",
       " (('cada', 'dia'), 17),\n",
       " (('luego', 'de'), 17),\n",
       " (('mi', 'casa'), 17),\n",
       " (('a', 'traves'), 17),\n",
       " (('dijo', 'que'), 17),\n",
       " (('la', 'ciudad'), 17),\n",
       " (('mi', 'hecho'), 17),\n",
       " (('mi', 'madre'), 17),\n",
       " (('el', 'tiempo'), 16),\n",
       " (('sin', 'embargo'), 16),\n",
       " (('la', 'comunidad'), 16),\n",
       " (('mi', 'hijo'), 16),\n",
       " (('dije', 'que'), 16),\n",
       " (('este', 'año'), 16),\n",
       " (('la', 'casa'), 16),\n",
       " (('paz', 'no'), 16),\n",
       " (('del', 'colegio'), 16),\n",
       " (('mis', 'padres'), 15),\n",
       " (('una', 'amiga'), 15),\n",
       " (('cosas', 'que'), 15),\n",
       " (('la', 'universidad'), 15),\n",
       " (('por', 'medio'), 15),\n",
       " (('la', 'guerra'), 15),\n",
       " (('la', 'sociedad'), 15),\n",
       " (('oportunidad', 'de'), 15),\n",
       " (('dia', 'en'), 15),\n",
       " (('mama', 'y'), 14),\n",
       " (('el', 'niño'), 14),\n",
       " (('la', 'naturaleza'), 14),\n",
       " (('saber', 'que'), 14),\n",
       " (('pesar', 'de'), 14),\n",
       " (('di', 'cuenta'), 14)]"
      ]
     },
     "execution_count": 59,
     "metadata": {},
     "output_type": "execute_result"
    }
   ],
   "source": [
    "tbi.most_common(100)"
   ]
  },
  {
   "cell_type": "code",
   "execution_count": 60,
   "metadata": {
    "collapsed": false
   },
   "outputs": [],
   "source": [
    "ttri = Counter(total_trigrams)"
   ]
  },
  {
   "cell_type": "code",
   "execution_count": 61,
   "metadata": {
    "collapsed": false
   },
   "outputs": [
    {
     "data": {
      "text/plain": [
       "[(('la', 'paz', 'es'), 50),\n",
       " (('hecho', 'de', 'paz'), 41),\n",
       " (('a', 'la', 'paz'), 29),\n",
       " (('en', 'el', 'colegio'), 28),\n",
       " (('un', 'grupo', 'de'), 25),\n",
       " (('la', 'paz', 'en'), 23),\n",
       " (('a', 'los', 'demas'), 22),\n",
       " (('para', 'la', 'paz'), 21),\n",
       " (('las', 'personas', 'que'), 20),\n",
       " (('de', 'la', 'paz'), 17),\n",
       " (('un', 'hecho', 'de'), 17),\n",
       " (('de', 'la', 'calle'), 17),\n",
       " (('en', 'la', 'calle'), 17),\n",
       " (('que', 'la', 'paz'), 17),\n",
       " (('en', 'el', 'año'), 16),\n",
       " (('a', 'las', 'personas'), 16),\n",
       " (('mi', 'hecho', 'de'), 15),\n",
       " (('la', 'paz', 'se'), 15),\n",
       " (('me', 'di', 'cuenta'), 14),\n",
       " (('la', 'oportunidad', 'de'), 14),\n",
       " (('la', 'paz', 'y'), 14),\n",
       " (('todos', 'los', 'dias'), 14),\n",
       " (('un', 'dia', 'en'), 13),\n",
       " (('por', 'la', 'paz'), 13),\n",
       " (('con', 'mi', 'mama'), 13),\n",
       " (('con', 'mi', 'hermana'), 13),\n",
       " (('con', 'mi', 'hermano'), 13),\n",
       " (('a', 'traves', 'de'), 13),\n",
       " (('por', 'medio', 'de'), 13),\n",
       " (('de', 'paz', 'es'), 12),\n",
       " (('con', 'mi', 'familia'), 12),\n",
       " (('a', 'los', 'niños'), 12),\n",
       " (('a', 'pesar', 'de'), 12),\n",
       " (('de', 'paz', 'y'), 12),\n",
       " (('la', 'paz', 'no'), 12),\n",
       " (('hoy', 'en', 'dia'), 11),\n",
       " (('la', 'paz', 'con'), 11),\n",
       " (('la', 'calle', 'y'), 11),\n",
       " (('la', 'paz', 'desde'), 11),\n",
       " (('mi', 'familia', 'y'), 11),\n",
       " (('mi', 'mama', 'y'), 11),\n",
       " (('en', 'medio', 'de'), 10),\n",
       " (('de', 'la', 'vida'), 10),\n",
       " (('vivir', 'en', 'paz'), 10),\n",
       " (('la', 'paz', 'la'), 10),\n",
       " (('con', 'la', 'paz'), 10),\n",
       " (('acto', 'de', 'paz'), 9),\n",
       " (('mi', 'mejor', 'amiga'), 9),\n",
       " (('pelee', 'con', 'mi'), 9),\n",
       " (('de', 'la', 'familia'), 9),\n",
       " (('y', 'despues', 'de'), 9),\n",
       " (('yo', 'le', 'dije'), 9),\n",
       " (('y', 'la', 'paz'), 9),\n",
       " (('con', 'un', 'grupo'), 9),\n",
       " (('la', 'paz', 'esta'), 9),\n",
       " (('en', 'la', 'familia'), 9),\n",
       " (('paz', 'en', 'el'), 9),\n",
       " (('en', 'mi', 'colegio'), 9),\n",
       " (('di', 'cuenta', 'que'), 9),\n",
       " (('le', 'dije', 'que'), 9),\n",
       " (('de', 'los', 'niños'), 9),\n",
       " (('paz', 'en', 'mi'), 9),\n",
       " (('con', 'mis', 'compañeros'), 9),\n",
       " (('un', 'acto', 'de'), 8),\n",
       " (('la', 'decision', 'de'), 8),\n",
       " (('hacer', 'la', 'paz'), 8),\n",
       " (('en', 'la', 'universidad'), 8),\n",
       " (('un', 'dia', 'estaba'), 8),\n",
       " (('a', 'mi', 'mama'), 8),\n",
       " (('de', 'las', 'personas'), 8),\n",
       " (('los', 'niños', 'y'), 8),\n",
       " (('una', 'discusion', 'con'), 8),\n",
       " (('el', 'amor', 'y'), 8),\n",
       " (('paz', 'esta', 'en'), 8),\n",
       " (('dia', 'a', 'dia'), 8),\n",
       " (('en', 'mi', 'familia'), 8),\n",
       " (('que', 'un', 'dia'), 8),\n",
       " (('tuve', 'la', 'oportunidad'), 8),\n",
       " (('paz', 'en', 'la'), 8),\n",
       " (('a', 'un', 'amigo'), 8),\n",
       " (('por', 'parte', 'de'), 8),\n",
       " (('la', 'vida', 'y'), 8),\n",
       " (('a', 'mi', 'casa'), 8),\n",
       " (('lograr', 'la', 'paz'), 8),\n",
       " (('el', 'dia', 'que'), 8),\n",
       " (('con', 'una', 'amiga'), 7),\n",
       " (('de', 'la', 'violencia'), 7),\n",
       " (('a', 'partir', 'de'), 7),\n",
       " (('dia', 'en', 'el'), 7),\n",
       " (('las', 'demas', 'personas'), 7),\n",
       " (('la', 'paz', 'comienza'), 7),\n",
       " (('me', 'dijo', 'que'), 7),\n",
       " (('proceso', 'de', 'paz'), 7),\n",
       " (('mis', 'compañeros', 'y'), 7),\n",
       " (('paz', 'es', 'una'), 7),\n",
       " (('en', 'ese', 'momento'), 7),\n",
       " (('un', 'proceso', 'de'), 7),\n",
       " (('con', 'las', 'personas'), 7),\n",
       " (('nos', 'dimos', 'cuenta'), 7),\n",
       " (('la', 'paz', 'de'), 7)]"
      ]
     },
     "execution_count": 61,
     "metadata": {},
     "output_type": "execute_result"
    }
   ],
   "source": [
    "ttri.most_common(100)"
   ]
  },
  {
   "cell_type": "markdown",
   "metadata": {},
   "source": [
    "## Animales"
   ]
  },
  {
   "cell_type": "code",
   "execution_count": 62,
   "metadata": {
    "collapsed": true
   },
   "outputs": [],
   "source": [
    "animales = ['animal', 'animalito', 'animales', 'animalitos',\n",
    "            'perro', 'perra', 'perros', 'perras', 'perrito', 'perrita', 'perritos', 'perritas',\n",
    "            'gato', 'gata', 'gatos', 'gatas', 'gatito', 'gatita', 'gatitos', 'gatitas',\n",
    "            'mascota', 'ovejita', 'pez']"
   ]
  },
  {
   "cell_type": "code",
   "execution_count": 63,
   "metadata": {
    "collapsed": true
   },
   "outputs": [],
   "source": [
    "# animales = ['caballo', 'yegua', 'caballito', 'burro', 'burrito', 'oveja',\n",
    "#             'cabra', 'vaquita', 'ovejita', 'vaca', 'cordero', 'corderito',\n",
    "#             'pez', 'pececito', 'cerdo', 'cerdito', 'puerco', 'gallina', 'pollo', 'gallo',\n",
    "#             'pesesito', 'pes']"
   ]
  },
  {
   "cell_type": "code",
   "execution_count": 64,
   "metadata": {
    "collapsed": true
   },
   "outputs": [],
   "source": [
    "total_animales = []\n",
    "for k in d:\n",
    "    text = total_text(d[k])\n",
    "    words = [w for w in word_tokenize(text) if w not in punctuation]\n",
    "    for a in words:\n",
    "        if a in animales:\n",
    "            total_animales.append(a)"
   ]
  },
  {
   "cell_type": "code",
   "execution_count": 65,
   "metadata": {
    "collapsed": false
   },
   "outputs": [
    {
     "data": {
      "text/plain": [
       "136"
      ]
     },
     "execution_count": 65,
     "metadata": {},
     "output_type": "execute_result"
    }
   ],
   "source": [
    "len(total_animales)"
   ]
  },
  {
   "cell_type": "code",
   "execution_count": 66,
   "metadata": {
    "collapsed": false
   },
   "outputs": [],
   "source": [
    "ta = Counter(total_animales)"
   ]
  },
  {
   "cell_type": "code",
   "execution_count": 67,
   "metadata": {
    "collapsed": false
   },
   "outputs": [
    {
     "data": {
      "text/plain": [
       "Counter({'animal': 13,\n",
       "         'animales': 26,\n",
       "         'animalito': 1,\n",
       "         'animalitos': 1,\n",
       "         'gata': 3,\n",
       "         'gatito': 3,\n",
       "         'gato': 13,\n",
       "         'gatos': 6,\n",
       "         'mascota': 6,\n",
       "         'ovejita': 1,\n",
       "         'perra': 4,\n",
       "         'perrita': 6,\n",
       "         'perrito': 22,\n",
       "         'perritos': 5,\n",
       "         'perro': 13,\n",
       "         'perros': 11,\n",
       "         'pez': 2})"
      ]
     },
     "execution_count": 67,
     "metadata": {},
     "output_type": "execute_result"
    }
   ],
   "source": [
    "ta"
   ]
  },
  {
   "cell_type": "code",
   "execution_count": 68,
   "metadata": {
    "collapsed": false
   },
   "outputs": [],
   "source": [
    "total_animales_m = []\n",
    "total_animales_f = []\n",
    "for k in d:\n",
    "    text = total_text(d[k])\n",
    "    words = [w for w in word_tokenize(text) if w not in punctuation]\n",
    "    for a in words:\n",
    "        if a in animales:\n",
    "            if d[k]['gender'] == 'M':\n",
    "                total_animales_m.append(a)\n",
    "            elif d[k]['gender'] == 'F':\n",
    "                total_animales_f.append(a)"
   ]
  },
  {
   "cell_type": "code",
   "execution_count": 69,
   "metadata": {
    "collapsed": false
   },
   "outputs": [
    {
     "data": {
      "text/plain": [
       "20"
      ]
     },
     "execution_count": 69,
     "metadata": {},
     "output_type": "execute_result"
    }
   ],
   "source": [
    "len(total_animales_m)"
   ]
  },
  {
   "cell_type": "code",
   "execution_count": 70,
   "metadata": {
    "collapsed": false
   },
   "outputs": [
    {
     "data": {
      "text/plain": [
       "52"
      ]
     },
     "execution_count": 70,
     "metadata": {},
     "output_type": "execute_result"
    }
   ],
   "source": [
    "len(total_animales_f)"
   ]
  },
  {
   "cell_type": "code",
   "execution_count": 71,
   "metadata": {
    "collapsed": false,
    "scrolled": true
   },
   "outputs": [
    {
     "data": {
      "text/plain": [
       "[('perrito', 5),\n",
       " ('perro', 4),\n",
       " ('perritos', 3),\n",
       " ('gato', 3),\n",
       " ('animales', 2),\n",
       " ('mascota', 2),\n",
       " ('perros', 1)]"
      ]
     },
     "execution_count": 71,
     "metadata": {},
     "output_type": "execute_result"
    }
   ],
   "source": [
    "Counter(total_animales_m).most_common()"
   ]
  },
  {
   "cell_type": "code",
   "execution_count": 72,
   "metadata": {
    "collapsed": false,
    "scrolled": true
   },
   "outputs": [
    {
     "data": {
      "text/plain": [
       "[('animales', 15),\n",
       " ('animal', 8),\n",
       " ('gato', 7),\n",
       " ('perros', 6),\n",
       " ('perro', 3),\n",
       " ('perrito', 3),\n",
       " ('perra', 2),\n",
       " ('perrita', 2),\n",
       " ('animalitos', 1),\n",
       " ('gatos', 1),\n",
       " ('animalito', 1),\n",
       " ('gata', 1),\n",
       " ('gatito', 1),\n",
       " ('mascota', 1)]"
      ]
     },
     "execution_count": 72,
     "metadata": {},
     "output_type": "execute_result"
    }
   ],
   "source": [
    "Counter(total_animales_f).most_common()"
   ]
  },
  {
   "cell_type": "code",
   "execution_count": 73,
   "metadata": {
    "collapsed": false
   },
   "outputs": [],
   "source": [
    "total_animales_age = []\n",
    "total_animales_noage = []\n",
    "for k in d:\n",
    "    text = total_text(d[k])\n",
    "    words = [w for w in word_tokenize(text) if w not in punctuation]\n",
    "    for a in words:\n",
    "        if a in animales:\n",
    "            if d[k]['age']:\n",
    "                total_animales_age.append(a)\n",
    "            else:\n",
    "                total_animales_noage.append(a)"
   ]
  },
  {
   "cell_type": "code",
   "execution_count": 74,
   "metadata": {
    "collapsed": false
   },
   "outputs": [
    {
     "data": {
      "text/plain": [
       "51"
      ]
     },
     "execution_count": 74,
     "metadata": {},
     "output_type": "execute_result"
    }
   ],
   "source": [
    "len(total_animales_age)"
   ]
  },
  {
   "cell_type": "code",
   "execution_count": 75,
   "metadata": {
    "collapsed": false
   },
   "outputs": [
    {
     "data": {
      "text/plain": [
       "85"
      ]
     },
     "execution_count": 75,
     "metadata": {},
     "output_type": "execute_result"
    }
   ],
   "source": [
    "len(total_animales_noage)"
   ]
  },
  {
   "cell_type": "code",
   "execution_count": 76,
   "metadata": {
    "collapsed": false
   },
   "outputs": [],
   "source": [
    "total_animales_ch = []\n",
    "total_animales_te = []\n",
    "total_animales_ya = []\n",
    "total_animales_ad = []\n",
    "for k in d:\n",
    "    text = total_text(d[k])\n",
    "    words = [w for w in word_tokenize(text) if w not in punctuation]\n",
    "    for a in words:\n",
    "        if a in animales:\n",
    "            try:\n",
    "                if d[k]['age']:\n",
    "                    age = int(d[k]['age'])\n",
    "                    if 0 <= age <= 12:\n",
    "                        total_animales_ch.append(a)\n",
    "                    elif 13 <= age <= 18:\n",
    "                        total_animales_te.append(a)\n",
    "                    elif 19 <= age <= 25:\n",
    "                        total_animales_ya.append(a)\n",
    "                    else:\n",
    "                        total_animales_ad.append(a)\n",
    "            except: # '16, 19'\n",
    "                total_animales_te.append(a)"
   ]
  },
  {
   "cell_type": "code",
   "execution_count": 77,
   "metadata": {
    "collapsed": false
   },
   "outputs": [
    {
     "data": {
      "text/plain": [
       "27"
      ]
     },
     "execution_count": 77,
     "metadata": {},
     "output_type": "execute_result"
    }
   ],
   "source": [
    "len(total_animales_ch)"
   ]
  },
  {
   "cell_type": "code",
   "execution_count": 78,
   "metadata": {
    "collapsed": false
   },
   "outputs": [
    {
     "data": {
      "text/plain": [
       "[('gato', 8),\n",
       " ('perrito', 5),\n",
       " ('perro', 4),\n",
       " ('animal', 3),\n",
       " ('animales', 3),\n",
       " ('mascota', 2),\n",
       " ('animalito', 1),\n",
       " ('perritos', 1)]"
      ]
     },
     "execution_count": 78,
     "metadata": {},
     "output_type": "execute_result"
    }
   ],
   "source": [
    "Counter(total_animales_ch).most_common()"
   ]
  },
  {
   "cell_type": "code",
   "execution_count": 79,
   "metadata": {
    "collapsed": false
   },
   "outputs": [
    {
     "data": {
      "text/plain": [
       "12"
      ]
     },
     "execution_count": 79,
     "metadata": {},
     "output_type": "execute_result"
    }
   ],
   "source": [
    "len(total_animales_te)"
   ]
  },
  {
   "cell_type": "code",
   "execution_count": 80,
   "metadata": {
    "collapsed": false
   },
   "outputs": [
    {
     "data": {
      "text/plain": [
       "[('perrito', 3),\n",
       " ('animal', 3),\n",
       " ('animales', 3),\n",
       " ('perros', 1),\n",
       " ('mascota', 1),\n",
       " ('gato', 1)]"
      ]
     },
     "execution_count": 80,
     "metadata": {},
     "output_type": "execute_result"
    }
   ],
   "source": [
    "Counter(total_animales_te).most_common()"
   ]
  },
  {
   "cell_type": "code",
   "execution_count": 81,
   "metadata": {
    "collapsed": false
   },
   "outputs": [
    {
     "data": {
      "text/plain": [
       "6"
      ]
     },
     "execution_count": 81,
     "metadata": {},
     "output_type": "execute_result"
    }
   ],
   "source": [
    "len(total_animales_ya)"
   ]
  },
  {
   "cell_type": "code",
   "execution_count": 82,
   "metadata": {
    "collapsed": false
   },
   "outputs": [
    {
     "data": {
      "text/plain": [
       "[('perra', 2), ('animales', 2), ('perrita', 1), ('animal', 1)]"
      ]
     },
     "execution_count": 82,
     "metadata": {},
     "output_type": "execute_result"
    }
   ],
   "source": [
    "Counter(total_animales_ya).most_common()"
   ]
  },
  {
   "cell_type": "code",
   "execution_count": 83,
   "metadata": {
    "collapsed": false
   },
   "outputs": [
    {
     "data": {
      "text/plain": [
       "6"
      ]
     },
     "execution_count": 83,
     "metadata": {},
     "output_type": "execute_result"
    }
   ],
   "source": [
    "len(total_animales_ad)"
   ]
  },
  {
   "cell_type": "code",
   "execution_count": 84,
   "metadata": {
    "collapsed": false
   },
   "outputs": [
    {
     "data": {
      "text/plain": [
       "[('animales', 4), ('perros', 1), ('gata', 1)]"
      ]
     },
     "execution_count": 84,
     "metadata": {},
     "output_type": "execute_result"
    }
   ],
   "source": [
    "Counter(total_animales_ad).most_common()"
   ]
  },
  {
   "cell_type": "code",
   "execution_count": 85,
   "metadata": {
    "collapsed": false
   },
   "outputs": [],
   "source": [
    "total_cards_with_animales = 0\n",
    "for k in d:\n",
    "    text = total_text(d[k])\n",
    "    words = [w for w in word_tokenize(text) if w not in punctuation]\n",
    "    for a in words:\n",
    "        if a in animales:\n",
    "            total_cards_with_animales += 1\n",
    "            break"
   ]
  },
  {
   "cell_type": "code",
   "execution_count": 86,
   "metadata": {
    "collapsed": false
   },
   "outputs": [
    {
     "data": {
      "text/plain": [
       "63"
      ]
     },
     "execution_count": 86,
     "metadata": {},
     "output_type": "execute_result"
    }
   ],
   "source": [
    "total_cards_with_animales"
   ]
  },
  {
   "cell_type": "code",
   "execution_count": null,
   "metadata": {
    "collapsed": true
   },
   "outputs": [],
   "source": []
  }
 ],
 "metadata": {
  "kernelspec": {
   "display_name": "Python 3",
   "language": "python",
   "name": "python3"
  },
  "language_info": {
   "codemirror_mode": {
    "name": "ipython",
    "version": 3
   },
   "file_extension": ".py",
   "mimetype": "text/x-python",
   "name": "python",
   "nbconvert_exporter": "python",
   "pygments_lexer": "ipython3",
   "version": "3.4.3"
  }
 },
 "nbformat": 4,
 "nbformat_minor": 0
}
