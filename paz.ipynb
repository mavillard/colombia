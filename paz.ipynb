{
 "cells": [
  {
   "cell_type": "code",
   "execution_count": 61,
   "metadata": {
    "collapsed": false
   },
   "outputs": [],
   "source": [
    "import csv\n",
    "import os\n",
    "from collections import Counter\n",
    "from collections import defaultdict\n",
    "from string import punctuation\n",
    "\n",
    "import enchant\n",
    "from nltk import word_tokenize\n",
    "from nltk.corpus import stopwords\n",
    "from nltk.util import ngrams"
   ]
  },
  {
   "cell_type": "markdown",
   "metadata": {},
   "source": [
    "# Lexicon"
   ]
  },
  {
   "cell_type": "code",
   "execution_count": 139,
   "metadata": {
    "collapsed": true
   },
   "outputs": [],
   "source": [
    "def remove_accent_marks(w):\n",
    "    r = w\n",
    "    r = r.replace('á', 'a')\n",
    "    r = r.replace('é', 'e')\n",
    "    r = r.replace('í', 'i')\n",
    "    r = r.replace('ó', 'o')\n",
    "    r = r.replace('ú', 'u')\n",
    "    return r"
   ]
  },
  {
   "cell_type": "code",
   "execution_count": 140,
   "metadata": {
    "collapsed": false
   },
   "outputs": [],
   "source": [
    "lexicon = {}\n",
    "with open('lexicon/es_lexicon.csv') as f:\n",
    "    reader = csv.reader(\n",
    "        f,\n",
    "        delimiter=' ',\n",
    "    )\n",
    "    for row in reader:\n",
    "        w = remove_accent_marks(row[0])\n",
    "        lexicon[w] = []\n",
    "        for i in range(1, len(row[1:]), 2):\n",
    "            entry = {}\n",
    "            entry['lemma'] = remove_accent_marks(row[i].lower())\n",
    "            entry['eagle'] = remove_accent_marks(row[i+1].lower())\n",
    "            lexicon[w].append(entry)"
   ]
  },
  {
   "cell_type": "code",
   "execution_count": 3,
   "metadata": {
    "collapsed": false
   },
   "outputs": [
    {
     "data": {
      "text/plain": [
       "556210"
      ]
     },
     "execution_count": 3,
     "metadata": {},
     "output_type": "execute_result"
    }
   ],
   "source": [
    "len(lexicon)"
   ]
  },
  {
   "cell_type": "code",
   "execution_count": 4,
   "metadata": {
    "collapsed": false
   },
   "outputs": [],
   "source": [
    "def is_vowel(c):\n",
    "    return c in 'aeiouAEIOUáéíóúÁÉÍÓÚüÜ'\n",
    "\n",
    "def next_level(w):\n",
    "    result = [w]\n",
    "    if is_vowel(w[0]):\n",
    "        result.append('h' + w)\n",
    "    if \"q'\" in w:\n",
    "        result.append(w.replace(\"q'\", 'que'))\n",
    "    for i in range(len(w)):\n",
    "        if w[i] == 'v':\n",
    "            result.append(w[:i] + 'b' + w[i+1:])\n",
    "        elif w[i] == 'b':\n",
    "            result.append(w[:i] + 'v' + w[i+1:])\n",
    "            result.append(w[:i] + 'd' + w[i+1:])\n",
    "        elif w[i] == 'd':\n",
    "            result.append(w[:i] + 'b' + w[i+1:])\n",
    "        elif w[i] == 'c' and i < len(w) - 1 and w[i+1] in 'ei':\n",
    "            result.append(w[:i] + 's' + w[i+1:])\n",
    "        elif w[i] == 's' and i < len(w) - 1 and w[i+1] in 'ei':\n",
    "            result.append(w[:i] + 'c' + w[i+1:])\n",
    "    return result\n",
    "\n",
    "def combinations_aux(visited, result):\n",
    "    while visited:\n",
    "        w = visited[0]\n",
    "        visited = visited[1:]\n",
    "        if w not in result:\n",
    "            result.append(w)\n",
    "            combs = next_level(w)\n",
    "            visited.extend(combs)        \n",
    "    return result\n",
    "\n",
    "def combinations(w):\n",
    "    return combinations_aux([w], [])"
   ]
  },
  {
   "cell_type": "code",
   "execution_count": 75,
   "metadata": {
    "collapsed": true
   },
   "outputs": [],
   "source": [
    "es = enchant.Dict('es_ES')"
   ]
  },
  {
   "cell_type": "markdown",
   "metadata": {},
   "source": [
    "# Analysis"
   ]
  },
  {
   "cell_type": "code",
   "execution_count": 5,
   "metadata": {
    "collapsed": false
   },
   "outputs": [
    {
     "data": {
      "text/plain": [
       "['ana.csv', 'dago.csv', 'rafa.csv', 'final.csv', 'yadira.csv']"
      ]
     },
     "execution_count": 5,
     "metadata": {},
     "output_type": "execute_result"
    }
   ],
   "source": [
    "os.listdir('data')"
   ]
  },
  {
   "cell_type": "code",
   "execution_count": 6,
   "metadata": {
    "collapsed": false
   },
   "outputs": [],
   "source": [
    "d = {}\n",
    "for filename in os.listdir('data'):\n",
    "    with open('data/' + filename) as f:\n",
    "        reader = csv.reader(\n",
    "            f,\n",
    "            delimiter=',',\n",
    "            quotechar='\"'\n",
    "        )\n",
    "        next(reader)\n",
    "        for row in reader:\n",
    "            d[row[0]] = {\n",
    "                'date': row[1],\n",
    "                'name': row[2],\n",
    "                'gender': row[3],\n",
    "                'age': row[4],\n",
    "                'city': row[5],\n",
    "                'drawings': row[6],\n",
    "                'title': row[7],\n",
    "                'description': row[8],\n",
    "            }"
   ]
  },
  {
   "cell_type": "code",
   "execution_count": 7,
   "metadata": {
    "collapsed": false
   },
   "outputs": [
    {
     "data": {
      "text/plain": [
       "826"
      ]
     },
     "execution_count": 7,
     "metadata": {},
     "output_type": "execute_result"
    }
   ],
   "source": [
    "len(d)"
   ]
  },
  {
   "cell_type": "markdown",
   "metadata": {},
   "source": [
    "## Gender"
   ]
  },
  {
   "cell_type": "code",
   "execution_count": 8,
   "metadata": {
    "collapsed": false
   },
   "outputs": [],
   "source": [
    "blank = 0\n",
    "male = 0\n",
    "female = 0\n",
    "for k in d:\n",
    "    gender = d[k]['gender']\n",
    "    if gender == 'M':\n",
    "        male += 1\n",
    "    elif gender == 'F':\n",
    "        female += 1\n",
    "    else:\n",
    "        blank += 1"
   ]
  },
  {
   "cell_type": "code",
   "execution_count": 9,
   "metadata": {
    "collapsed": false
   },
   "outputs": [
    {
     "data": {
      "text/plain": [
       "449"
      ]
     },
     "execution_count": 9,
     "metadata": {},
     "output_type": "execute_result"
    }
   ],
   "source": [
    "blank"
   ]
  },
  {
   "cell_type": "code",
   "execution_count": 10,
   "metadata": {
    "collapsed": false
   },
   "outputs": [
    {
     "data": {
      "text/plain": [
       "108"
      ]
     },
     "execution_count": 10,
     "metadata": {},
     "output_type": "execute_result"
    }
   ],
   "source": [
    "male"
   ]
  },
  {
   "cell_type": "code",
   "execution_count": 11,
   "metadata": {
    "collapsed": false
   },
   "outputs": [
    {
     "data": {
      "text/plain": [
       "269"
      ]
     },
     "execution_count": 11,
     "metadata": {},
     "output_type": "execute_result"
    }
   ],
   "source": [
    "female"
   ]
  },
  {
   "cell_type": "markdown",
   "metadata": {},
   "source": [
    "## Cities"
   ]
  },
  {
   "cell_type": "code",
   "execution_count": 12,
   "metadata": {
    "collapsed": true
   },
   "outputs": [],
   "source": [
    "cities = []\n",
    "for k in d:\n",
    "    city = d[k]['city']\n",
    "    cities.append(city)"
   ]
  },
  {
   "cell_type": "code",
   "execution_count": 13,
   "metadata": {
    "collapsed": false
   },
   "outputs": [],
   "source": [
    "c = Counter(cities)"
   ]
  },
  {
   "cell_type": "code",
   "execution_count": 14,
   "metadata": {
    "collapsed": false
   },
   "outputs": [],
   "source": [
    "# c"
   ]
  },
  {
   "cell_type": "code",
   "execution_count": 15,
   "metadata": {
    "collapsed": false
   },
   "outputs": [
    {
     "data": {
      "text/plain": [
       "[('', 582),\n",
       " ('Bogotá', 155),\n",
       " ('Bogotá D.C.', 9),\n",
       " ('Neiva', 7),\n",
       " ('Fusagasugá', 6),\n",
       " ('Bogotá D.C', 5),\n",
       " ('Soacha', 5),\n",
       " ('Bucaramanga', 4),\n",
       " ('Medellín', 3),\n",
       " ('Cali', 3)]"
      ]
     },
     "execution_count": 15,
     "metadata": {},
     "output_type": "execute_result"
    }
   ],
   "source": [
    "c.most_common(10)"
   ]
  },
  {
   "cell_type": "markdown",
   "metadata": {},
   "source": [
    "## Ages"
   ]
  },
  {
   "cell_type": "code",
   "execution_count": 16,
   "metadata": {
    "collapsed": true
   },
   "outputs": [],
   "source": [
    "ages = []\n",
    "for k in d:\n",
    "    age = d[k]['age']\n",
    "    ages.append(age)"
   ]
  },
  {
   "cell_type": "code",
   "execution_count": 17,
   "metadata": {
    "collapsed": false
   },
   "outputs": [],
   "source": [
    "a = Counter(ages)"
   ]
  },
  {
   "cell_type": "code",
   "execution_count": 18,
   "metadata": {
    "collapsed": false
   },
   "outputs": [],
   "source": [
    "# a"
   ]
  },
  {
   "cell_type": "code",
   "execution_count": 19,
   "metadata": {
    "collapsed": false
   },
   "outputs": [
    {
     "data": {
      "text/plain": [
       "[('', 575),\n",
       " ('14', 16),\n",
       " ('16', 13),\n",
       " ('10', 12),\n",
       " ('19', 12),\n",
       " ('13', 11),\n",
       " ('11', 11),\n",
       " ('20', 11),\n",
       " ('12', 10),\n",
       " ('21', 9),\n",
       " ('17', 9)]"
      ]
     },
     "execution_count": 19,
     "metadata": {},
     "output_type": "execute_result"
    }
   ],
   "source": [
    "a.most_common(11)"
   ]
  },
  {
   "cell_type": "code",
   "execution_count": 20,
   "metadata": {
    "collapsed": false
   },
   "outputs": [],
   "source": [
    "children = 0\n",
    "teenagers = 0\n",
    "young_adults = 0\n",
    "adults = 0\n",
    "for k in d:\n",
    "    try:\n",
    "        if d[k]['age']:\n",
    "            age = int(d[k]['age'])\n",
    "            if 0 <= age <= 12:\n",
    "                children += 1\n",
    "            elif 13 <= age <= 18:\n",
    "                teenagers += 1\n",
    "            elif 19 <= age <= 25:\n",
    "                young_adults += 1\n",
    "            else:\n",
    "                adults += 1\n",
    "    except: # '16, 19'\n",
    "        teenagers += 1"
   ]
  },
  {
   "cell_type": "code",
   "execution_count": 21,
   "metadata": {
    "collapsed": false
   },
   "outputs": [
    {
     "data": {
      "text/plain": [
       "51"
      ]
     },
     "execution_count": 21,
     "metadata": {},
     "output_type": "execute_result"
    }
   ],
   "source": [
    "children"
   ]
  },
  {
   "cell_type": "code",
   "execution_count": 22,
   "metadata": {
    "collapsed": false
   },
   "outputs": [
    {
     "data": {
      "text/plain": [
       "65"
      ]
     },
     "execution_count": 22,
     "metadata": {},
     "output_type": "execute_result"
    }
   ],
   "source": [
    "teenagers"
   ]
  },
  {
   "cell_type": "code",
   "execution_count": 23,
   "metadata": {
    "collapsed": false
   },
   "outputs": [
    {
     "data": {
      "text/plain": [
       "54"
      ]
     },
     "execution_count": 23,
     "metadata": {},
     "output_type": "execute_result"
    }
   ],
   "source": [
    "young_adults"
   ]
  },
  {
   "cell_type": "code",
   "execution_count": 24,
   "metadata": {
    "collapsed": false
   },
   "outputs": [
    {
     "data": {
      "text/plain": [
       "81"
      ]
     },
     "execution_count": 24,
     "metadata": {},
     "output_type": "execute_result"
    }
   ],
   "source": [
    "adults"
   ]
  },
  {
   "cell_type": "markdown",
   "metadata": {},
   "source": [
    "## Drawings"
   ]
  },
  {
   "cell_type": "code",
   "execution_count": 25,
   "metadata": {
    "collapsed": false
   },
   "outputs": [],
   "source": [
    "drawing_words = []\n",
    "for k in d:\n",
    "    drawings = d[k]['drawings'].lower().replace(';', ',')\n",
    "    words = [x.strip() for x in drawings.split(',')]\n",
    "    drawing_words.extend(words)"
   ]
  },
  {
   "cell_type": "code",
   "execution_count": 26,
   "metadata": {
    "collapsed": false
   },
   "outputs": [],
   "source": [
    "dw = Counter(drawing_words)"
   ]
  },
  {
   "cell_type": "code",
   "execution_count": 27,
   "metadata": {
    "collapsed": false
   },
   "outputs": [],
   "source": [
    "# dw"
   ]
  },
  {
   "cell_type": "code",
   "execution_count": 28,
   "metadata": {
    "collapsed": false
   },
   "outputs": [
    {
     "data": {
      "text/plain": [
       "[('', 715),\n",
       " ('corazón', 84),\n",
       " ('cara feliz', 28),\n",
       " ('niño', 11),\n",
       " ('carita feliz', 11),\n",
       " ('nube', 7),\n",
       " ('cara sonriente', 5),\n",
       " ('perro', 4),\n",
       " ('sol', 3),\n",
       " ('ojos', 2),\n",
       " ('cruz', 2)]"
      ]
     },
     "execution_count": 28,
     "metadata": {},
     "output_type": "execute_result"
    }
   ],
   "source": [
    "dw.most_common(11)"
   ]
  },
  {
   "cell_type": "markdown",
   "metadata": {},
   "source": [
    "## Words"
   ]
  },
  {
   "cell_type": "code",
   "execution_count": 29,
   "metadata": {
    "collapsed": false
   },
   "outputs": [
    {
     "data": {
      "text/plain": [
       "'!\"#$%&\\'()*+,-./:;<=>?@[\\\\]^_`{|}~'"
      ]
     },
     "execution_count": 29,
     "metadata": {},
     "output_type": "execute_result"
    }
   ],
   "source": [
    "punctuation"
   ]
  },
  {
   "cell_type": "code",
   "execution_count": 141,
   "metadata": {
    "collapsed": true
   },
   "outputs": [],
   "source": [
    "def total_text(r):\n",
    "    return remove_accent_marks((r['title'] + ' ' + r['description']).lower())"
   ]
  },
  {
   "cell_type": "code",
   "execution_count": 223,
   "metadata": {
    "collapsed": false
   },
   "outputs": [],
   "source": [
    "total_words = []\n",
    "for k in d:\n",
    "    text = total_text(d[k])\n",
    "    words = [w for w in word_tokenize(text) if w not in punctuation]\n",
    "    total_words.extend(words)"
   ]
  },
  {
   "cell_type": "code",
   "execution_count": 224,
   "metadata": {
    "collapsed": false
   },
   "outputs": [
    {
     "data": {
      "text/plain": [
       "45801"
      ]
     },
     "execution_count": 224,
     "metadata": {},
     "output_type": "execute_result"
    }
   ],
   "source": [
    "len(total_words)"
   ]
  },
  {
   "cell_type": "code",
   "execution_count": 144,
   "metadata": {
    "collapsed": true
   },
   "outputs": [],
   "source": [
    "total_words_freq = Counter(total_words)"
   ]
  },
  {
   "cell_type": "code",
   "execution_count": 145,
   "metadata": {
    "collapsed": false
   },
   "outputs": [
    {
     "data": {
      "text/plain": [
       "[('de', 1996),\n",
       " ('y', 1953),\n",
       " ('la', 1684),\n",
       " ('que', 1365),\n",
       " ('en', 1224),\n",
       " ('a', 1193),\n",
       " ('el', 1032),\n",
       " ('un', 813),\n",
       " ('con', 692),\n",
       " ('mi', 668)]"
      ]
     },
     "execution_count": 145,
     "metadata": {},
     "output_type": "execute_result"
    }
   ],
   "source": [
    "total_words_freq.most_common(10)"
   ]
  },
  {
   "cell_type": "code",
   "execution_count": 146,
   "metadata": {
    "collapsed": false
   },
   "outputs": [],
   "source": [
    "stop_words = [remove_accent_marks(w) for w in stopwords.words('spanish')]"
   ]
  },
  {
   "cell_type": "code",
   "execution_count": 147,
   "metadata": {
    "collapsed": false
   },
   "outputs": [],
   "source": [
    "total_nonstop_words = [w for w in total_words if w not in stopwords_no_accents]"
   ]
  },
  {
   "cell_type": "code",
   "execution_count": 148,
   "metadata": {
    "collapsed": false
   },
   "outputs": [
    {
     "data": {
      "text/plain": [
       "22240"
      ]
     },
     "execution_count": 148,
     "metadata": {},
     "output_type": "execute_result"
    }
   ],
   "source": [
    "len(total_nonstop_words)"
   ]
  },
  {
   "cell_type": "code",
   "execution_count": 149,
   "metadata": {
    "collapsed": true
   },
   "outputs": [],
   "source": [
    "unique_nonstop_words = set(total_nonstop_words)"
   ]
  },
  {
   "cell_type": "code",
   "execution_count": 150,
   "metadata": {
    "collapsed": false
   },
   "outputs": [
    {
     "data": {
      "text/plain": [
       "6705"
      ]
     },
     "execution_count": 150,
     "metadata": {},
     "output_type": "execute_result"
    }
   ],
   "source": [
    "len(unique_nonstop_words)"
   ]
  },
  {
   "cell_type": "markdown",
   "metadata": {},
   "source": [
    "## Spelling"
   ]
  },
  {
   "cell_type": "code",
   "execution_count": 71,
   "metadata": {
    "collapsed": true
   },
   "outputs": [],
   "source": [
    "def correct(w):\n",
    "    if w in lexicon:\n",
    "        r = w\n",
    "    else:\n",
    "        combs = combinations(w)\n",
    "        freqs = [(w, total_words_freq[w]) for w in combs if w in lexicon]\n",
    "        freqs.sort(key=lambda x: x[1], reverse=True)\n",
    "        r = freqs[0][0]\n",
    "    return r"
   ]
  },
  {
   "cell_type": "code",
   "execution_count": 151,
   "metadata": {
    "collapsed": false
   },
   "outputs": [],
   "source": [
    "correct_spelling = {}\n",
    "\n",
    "for w in total_words_freq:\n",
    "    if w not in correct_spelling:\n",
    "        if w in lexicon:\n",
    "            correct_spelling[w] = w\n",
    "        else:\n",
    "            combs = combinations(w)\n",
    "            freqs = [(c, total_words_freq[c]) for c in combs if c in total_words_freq and c in lexicon]\n",
    "            if freqs:\n",
    "                freqs.sort(key=lambda x: x[1], reverse=True)\n",
    "                correct_spelling[w] = freqs[0][0]\n",
    "            else:\n",
    "                freqs = [(c, total_words_freq[c]) for c in es.suggest(w) if c in total_words_freq]\n",
    "                if freqs:\n",
    "                    freqs.sort(key=lambda x: x[1], reverse=True)\n",
    "                    correct_spelling[w] = freqs[0][0]\n",
    "                else:\n",
    "                    correct_spelling[w] = w"
   ]
  },
  {
   "cell_type": "code",
   "execution_count": 152,
   "metadata": {
    "collapsed": false
   },
   "outputs": [
    {
     "data": {
      "text/plain": [
       "6888"
      ]
     },
     "execution_count": 152,
     "metadata": {},
     "output_type": "execute_result"
    }
   ],
   "source": [
    "len(correct_spelling)"
   ]
  },
  {
   "cell_type": "code",
   "execution_count": 153,
   "metadata": {
    "collapsed": false
   },
   "outputs": [
    {
     "data": {
      "text/plain": [
       "6888"
      ]
     },
     "execution_count": 153,
     "metadata": {},
     "output_type": "execute_result"
    }
   ],
   "source": [
    "len(total_words_freq)"
   ]
  },
  {
   "cell_type": "code",
   "execution_count": 167,
   "metadata": {
    "collapsed": false
   },
   "outputs": [],
   "source": [
    "spelling_map = defaultdict(list)\n",
    "for key in correct_spelling:\n",
    "    v = correct_spelling[key]\n",
    "    spelling_map[v].append((key, total_words_freq[key]))\n",
    "spelling_map = dict(spelling_map)"
   ]
  },
  {
   "cell_type": "code",
   "execution_count": 173,
   "metadata": {
    "collapsed": false
   },
   "outputs": [
    {
     "data": {
      "text/plain": [
       "6327"
      ]
     },
     "execution_count": 173,
     "metadata": {},
     "output_type": "execute_result"
    }
   ],
   "source": [
    "len(spelling_map)"
   ]
  },
  {
   "cell_type": "code",
   "execution_count": 170,
   "metadata": {
    "collapsed": false
   },
   "outputs": [
    {
     "data": {
      "text/plain": [
       "'hacer'"
      ]
     },
     "execution_count": 170,
     "metadata": {},
     "output_type": "execute_result"
    }
   ],
   "source": [
    "correct_spelling['aser']"
   ]
  },
  {
   "cell_type": "code",
   "execution_count": 171,
   "metadata": {
    "collapsed": false
   },
   "outputs": [
    {
     "data": {
      "text/plain": [
       "[('hacer', 71), ('aser', 3), ('haser', 1), ('acer', 1)]"
      ]
     },
     "execution_count": 171,
     "metadata": {},
     "output_type": "execute_result"
    }
   ],
   "source": [
    "spelling_map['hacer']"
   ]
  },
  {
   "cell_type": "code",
   "execution_count": 184,
   "metadata": {
    "collapsed": false
   },
   "outputs": [],
   "source": [
    "mispellings = [w for w in spelling_map if w not in stop_words and len(spelling_map[w]) > 1]\n",
    "mispellings.sort()"
   ]
  },
  {
   "cell_type": "code",
   "execution_count": 186,
   "metadata": {
    "collapsed": false
   },
   "outputs": [
    {
     "data": {
      "text/plain": [
       "['abandonados',\n",
       " 'abrasamos',\n",
       " 'abuelas',\n",
       " 'abuelo',\n",
       " 'abuelos',\n",
       " 'abusar',\n",
       " 'acabo',\n",
       " 'aceptar',\n",
       " 'aceptaron',\n",
       " 'adoptar']"
      ]
     },
     "execution_count": 186,
     "metadata": {},
     "output_type": "execute_result"
    }
   ],
   "source": [
    "mispellings[:10]"
   ]
  },
  {
   "cell_type": "code",
   "execution_count": 195,
   "metadata": {
    "collapsed": false
   },
   "outputs": [
    {
     "data": {
      "text/plain": [
       "[('abandonados', 3), ('habandonados', 1)]"
      ]
     },
     "execution_count": 195,
     "metadata": {},
     "output_type": "execute_result"
    }
   ],
   "source": [
    "spelling_map['abandonados']"
   ]
  },
  {
   "cell_type": "markdown",
   "metadata": {},
   "source": [
    "## n-grams"
   ]
  },
  {
   "cell_type": "code",
   "execution_count": null,
   "metadata": {
    "collapsed": true
   },
   "outputs": [],
   "source": [
    "def my_ngrams(ingredient):\n",
    "    ngrms = []\n",
    "    tokens = nltk.word_tokenize(ingredient)\n",
    "    for i in range(1, len(tokens) + 1):\n",
    "        ngrms.extend(ngrams(tokens, i))\n",
    "    return list(map(lambda x: ' '.join(x), ngrms))"
   ]
  },
  {
   "cell_type": "code",
   "execution_count": null,
   "metadata": {
    "collapsed": true
   },
   "outputs": [],
   "source": []
  },
  {
   "cell_type": "code",
   "execution_count": null,
   "metadata": {
    "collapsed": true
   },
   "outputs": [],
   "source": []
  },
  {
   "cell_type": "code",
   "execution_count": null,
   "metadata": {
    "collapsed": true
   },
   "outputs": [],
   "source": []
  },
  {
   "cell_type": "code",
   "execution_count": null,
   "metadata": {
    "collapsed": true
   },
   "outputs": [],
   "source": []
  },
  {
   "cell_type": "code",
   "execution_count": null,
   "metadata": {
    "collapsed": true
   },
   "outputs": [],
   "source": []
  },
  {
   "cell_type": "markdown",
   "metadata": {},
   "source": [
    "## Animales"
   ]
  },
  {
   "cell_type": "code",
   "execution_count": 197,
   "metadata": {
    "collapsed": true
   },
   "outputs": [],
   "source": [
    "animales = ['animal', 'animalito', 'animales', 'animalitos',\n",
    "            'perro', 'perra', 'perros', 'perras', 'perrito', 'perrita', 'perritos', 'perritas',\n",
    "            'gato', 'gata', 'gatos', 'gatas', 'gatito', 'gatita', 'gatitos', 'gatitas',\n",
    "            'mascota', 'ovejita', 'pez']"
   ]
  },
  {
   "cell_type": "code",
   "execution_count": 198,
   "metadata": {
    "collapsed": true
   },
   "outputs": [],
   "source": [
    "# animales = ['caballo', 'yegua', 'caballito', 'burro', 'burrito', 'oveja',\n",
    "#             'cabra', 'vaquita', 'ovejita', 'vaca', 'cordero', 'corderito',\n",
    "#             'pez', 'pececito', 'cerdo', 'cerdito', 'puerco', 'gallina', 'pollo', 'gallo',\n",
    "#             'pesesito', 'pes']"
   ]
  },
  {
   "cell_type": "code",
   "execution_count": 248,
   "metadata": {
    "collapsed": true
   },
   "outputs": [],
   "source": [
    "total_animals = []\n",
    "for k in d:\n",
    "    text = total_text(d[k])\n",
    "    words = [w for w in word_tokenize(text) if w not in punctuation]\n",
    "    for a in words:\n",
    "        if a in animales:\n",
    "            total_animals.append(a)"
   ]
  },
  {
   "cell_type": "code",
   "execution_count": 249,
   "metadata": {
    "collapsed": false
   },
   "outputs": [
    {
     "data": {
      "text/plain": [
       "136"
      ]
     },
     "execution_count": 249,
     "metadata": {},
     "output_type": "execute_result"
    }
   ],
   "source": [
    "len(total_animals)"
   ]
  },
  {
   "cell_type": "code",
   "execution_count": 250,
   "metadata": {
    "collapsed": true
   },
   "outputs": [],
   "source": [
    "ta = Counter(total_animales)"
   ]
  },
  {
   "cell_type": "code",
   "execution_count": 251,
   "metadata": {
    "collapsed": false
   },
   "outputs": [
    {
     "data": {
      "text/plain": [
       "Counter({'animal': 13,\n",
       "         'animales': 26,\n",
       "         'animalito': 1,\n",
       "         'animalitos': 1,\n",
       "         'gata': 3,\n",
       "         'gatito': 3,\n",
       "         'gato': 13,\n",
       "         'gatos': 6,\n",
       "         'mascota': 6,\n",
       "         'ovejita': 1,\n",
       "         'perra': 4,\n",
       "         'perrita': 6,\n",
       "         'perrito': 22,\n",
       "         'perritos': 5,\n",
       "         'perro': 13,\n",
       "         'perros': 11,\n",
       "         'pez': 2})"
      ]
     },
     "execution_count": 251,
     "metadata": {},
     "output_type": "execute_result"
    }
   ],
   "source": [
    "ta"
   ]
  },
  {
   "cell_type": "code",
   "execution_count": 253,
   "metadata": {
    "collapsed": false
   },
   "outputs": [],
   "source": [
    "total_animales_m = []\n",
    "total_animales_f = []\n",
    "for k in d:\n",
    "    text = total_text(d[k])\n",
    "    words = [w for w in word_tokenize(text) if w not in punctuation]\n",
    "    for a in words:\n",
    "        if a in animales:\n",
    "            if d[k]['gender'] == 'M':\n",
    "                total_animales_m.append(a)\n",
    "            elif d[k]['gender'] == 'F':\n",
    "                total_animales_f.append(a)"
   ]
  },
  {
   "cell_type": "code",
   "execution_count": 254,
   "metadata": {
    "collapsed": false
   },
   "outputs": [
    {
     "data": {
      "text/plain": [
       "20"
      ]
     },
     "execution_count": 254,
     "metadata": {},
     "output_type": "execute_result"
    }
   ],
   "source": [
    "len(total_animales_m)"
   ]
  },
  {
   "cell_type": "code",
   "execution_count": 255,
   "metadata": {
    "collapsed": false
   },
   "outputs": [
    {
     "data": {
      "text/plain": [
       "52"
      ]
     },
     "execution_count": 255,
     "metadata": {},
     "output_type": "execute_result"
    }
   ],
   "source": [
    "len(total_animales_f)"
   ]
  },
  {
   "cell_type": "code",
   "execution_count": 256,
   "metadata": {
    "collapsed": false,
    "scrolled": true
   },
   "outputs": [
    {
     "data": {
      "text/plain": [
       "[('perrito', 5),\n",
       " ('perro', 4),\n",
       " ('gato', 3),\n",
       " ('perritos', 3),\n",
       " ('mascota', 2),\n",
       " ('animales', 2),\n",
       " ('perros', 1)]"
      ]
     },
     "execution_count": 256,
     "metadata": {},
     "output_type": "execute_result"
    }
   ],
   "source": [
    "Counter(total_animales_m).most_common()"
   ]
  },
  {
   "cell_type": "code",
   "execution_count": 257,
   "metadata": {
    "collapsed": false,
    "scrolled": true
   },
   "outputs": [
    {
     "data": {
      "text/plain": [
       "[('animales', 15),\n",
       " ('animal', 8),\n",
       " ('gato', 7),\n",
       " ('perros', 6),\n",
       " ('perrito', 3),\n",
       " ('perro', 3),\n",
       " ('perra', 2),\n",
       " ('perrita', 2),\n",
       " ('gata', 1),\n",
       " ('mascota', 1),\n",
       " ('gatos', 1),\n",
       " ('gatito', 1),\n",
       " ('animalito', 1),\n",
       " ('animalitos', 1)]"
      ]
     },
     "execution_count": 257,
     "metadata": {},
     "output_type": "execute_result"
    }
   ],
   "source": [
    "Counter(total_animales_f).most_common()"
   ]
  },
  {
   "cell_type": "code",
   "execution_count": 258,
   "metadata": {
    "collapsed": false
   },
   "outputs": [],
   "source": [
    "total_animales_age = []\n",
    "total_animales_noage = []\n",
    "for k in d:\n",
    "    text = total_text(d[k])\n",
    "    words = [w for w in word_tokenize(text) if w not in punctuation]\n",
    "    for a in words:\n",
    "        if a in animales:\n",
    "            if d[k]['age']:\n",
    "                total_animales_age.append(a)\n",
    "            else:\n",
    "                total_animales_noage.append(a)"
   ]
  },
  {
   "cell_type": "code",
   "execution_count": 259,
   "metadata": {
    "collapsed": false
   },
   "outputs": [
    {
     "data": {
      "text/plain": [
       "51"
      ]
     },
     "execution_count": 259,
     "metadata": {},
     "output_type": "execute_result"
    }
   ],
   "source": [
    "len(total_animales_age)"
   ]
  },
  {
   "cell_type": "code",
   "execution_count": 260,
   "metadata": {
    "collapsed": false
   },
   "outputs": [
    {
     "data": {
      "text/plain": [
       "85"
      ]
     },
     "execution_count": 260,
     "metadata": {},
     "output_type": "execute_result"
    }
   ],
   "source": [
    "len(total_animales_noage)"
   ]
  },
  {
   "cell_type": "code",
   "execution_count": 262,
   "metadata": {
    "collapsed": false
   },
   "outputs": [],
   "source": [
    "total_animales_ch = []\n",
    "total_animales_te = []\n",
    "total_animales_ya = []\n",
    "total_animales_ad = []\n",
    "for k in d:\n",
    "    text = total_text(d[k])\n",
    "    words = [w for w in word_tokenize(text) if w not in punctuation]\n",
    "    for a in words:\n",
    "        if a in animales:\n",
    "            try:\n",
    "                if d[k]['age']:\n",
    "                    age = int(d[k]['age'])\n",
    "                    if 0 <= age <= 12:\n",
    "                        total_animales_ch.append(a)\n",
    "                    elif 13 <= age <= 18:\n",
    "                        total_animales_te.append(a)\n",
    "                    elif 19 <= age <= 25:\n",
    "                        total_animales_ya.append(a)\n",
    "                    else:\n",
    "                        total_animales_ad.append(a)\n",
    "            except: # '16, 19'\n",
    "                total_animales_te.append(a)"
   ]
  },
  {
   "cell_type": "code",
   "execution_count": 263,
   "metadata": {
    "collapsed": false
   },
   "outputs": [
    {
     "data": {
      "text/plain": [
       "27"
      ]
     },
     "execution_count": 263,
     "metadata": {},
     "output_type": "execute_result"
    }
   ],
   "source": [
    "len(total_animales_ch)"
   ]
  },
  {
   "cell_type": "code",
   "execution_count": 264,
   "metadata": {
    "collapsed": false
   },
   "outputs": [
    {
     "data": {
      "text/plain": [
       "[('gato', 8),\n",
       " ('perrito', 5),\n",
       " ('perro', 4),\n",
       " ('animal', 3),\n",
       " ('animales', 3),\n",
       " ('mascota', 2),\n",
       " ('perritos', 1),\n",
       " ('animalito', 1)]"
      ]
     },
     "execution_count": 264,
     "metadata": {},
     "output_type": "execute_result"
    }
   ],
   "source": [
    "Counter(total_animales_ch).most_common()"
   ]
  },
  {
   "cell_type": "code",
   "execution_count": 265,
   "metadata": {
    "collapsed": false
   },
   "outputs": [
    {
     "data": {
      "text/plain": [
       "12"
      ]
     },
     "execution_count": 265,
     "metadata": {},
     "output_type": "execute_result"
    }
   ],
   "source": [
    "len(total_animales_te)"
   ]
  },
  {
   "cell_type": "code",
   "execution_count": 266,
   "metadata": {
    "collapsed": false
   },
   "outputs": [
    {
     "data": {
      "text/plain": [
       "[('animal', 3),\n",
       " ('animales', 3),\n",
       " ('perrito', 3),\n",
       " ('gato', 1),\n",
       " ('mascota', 1),\n",
       " ('perros', 1)]"
      ]
     },
     "execution_count": 266,
     "metadata": {},
     "output_type": "execute_result"
    }
   ],
   "source": [
    "Counter(total_animales_te).most_common()"
   ]
  },
  {
   "cell_type": "code",
   "execution_count": 267,
   "metadata": {
    "collapsed": false
   },
   "outputs": [
    {
     "data": {
      "text/plain": [
       "6"
      ]
     },
     "execution_count": 267,
     "metadata": {},
     "output_type": "execute_result"
    }
   ],
   "source": [
    "len(total_animales_ya)"
   ]
  },
  {
   "cell_type": "code",
   "execution_count": 268,
   "metadata": {
    "collapsed": false
   },
   "outputs": [
    {
     "data": {
      "text/plain": [
       "[('perra', 2), ('animales', 2), ('animal', 1), ('perrita', 1)]"
      ]
     },
     "execution_count": 268,
     "metadata": {},
     "output_type": "execute_result"
    }
   ],
   "source": [
    "Counter(total_animales_ya).most_common()"
   ]
  },
  {
   "cell_type": "code",
   "execution_count": 269,
   "metadata": {
    "collapsed": false
   },
   "outputs": [
    {
     "data": {
      "text/plain": [
       "6"
      ]
     },
     "execution_count": 269,
     "metadata": {},
     "output_type": "execute_result"
    }
   ],
   "source": [
    "len(total_animales_ad)"
   ]
  },
  {
   "cell_type": "code",
   "execution_count": 270,
   "metadata": {
    "collapsed": false
   },
   "outputs": [
    {
     "data": {
      "text/plain": [
       "[('animales', 4), ('gata', 1), ('perros', 1)]"
      ]
     },
     "execution_count": 270,
     "metadata": {},
     "output_type": "execute_result"
    }
   ],
   "source": [
    "Counter(total_animales_ad).most_common()"
   ]
  },
  {
   "cell_type": "code",
   "execution_count": 271,
   "metadata": {
    "collapsed": false
   },
   "outputs": [],
   "source": [
    "total_cards_with_animales = 0\n",
    "for k in d:\n",
    "    text = total_text(d[k])\n",
    "    words = [w for w in word_tokenize(text) if w not in punctuation]\n",
    "    for a in words:\n",
    "        if a in animales:\n",
    "            total_cards_with_animales += 1\n",
    "            break"
   ]
  },
  {
   "cell_type": "code",
   "execution_count": 272,
   "metadata": {
    "collapsed": false
   },
   "outputs": [
    {
     "data": {
      "text/plain": [
       "63"
      ]
     },
     "execution_count": 272,
     "metadata": {},
     "output_type": "execute_result"
    }
   ],
   "source": [
    "total_cards_with_animales"
   ]
  },
  {
   "cell_type": "code",
   "execution_count": null,
   "metadata": {
    "collapsed": true
   },
   "outputs": [],
   "source": []
  }
 ],
 "metadata": {
  "kernelspec": {
   "display_name": "Python 3",
   "language": "python",
   "name": "python3"
  },
  "language_info": {
   "codemirror_mode": {
    "name": "ipython",
    "version": 3
   },
   "file_extension": ".py",
   "mimetype": "text/x-python",
   "name": "python",
   "nbconvert_exporter": "python",
   "pygments_lexer": "ipython3",
   "version": "3.4.3"
  }
 },
 "nbformat": 4,
 "nbformat_minor": 0
}
