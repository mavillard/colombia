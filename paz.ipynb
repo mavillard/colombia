{
 "cells": [
  {
   "cell_type": "code",
   "execution_count": 1,
   "metadata": {
    "collapsed": false
   },
   "outputs": [],
   "source": [
    "import csv\n",
    "import os\n",
    "from collections import Counter\n",
    "from collections import defaultdict\n",
    "from string import punctuation\n",
    "\n",
    "import enchant\n",
    "from nltk import word_tokenize\n",
    "from nltk.corpus import stopwords\n",
    "from nltk.util import ngrams"
   ]
  },
  {
   "cell_type": "markdown",
   "metadata": {},
   "source": [
    "# Lexicon"
   ]
  },
  {
   "cell_type": "code",
   "execution_count": 2,
   "metadata": {
    "collapsed": true
   },
   "outputs": [],
   "source": [
    "def remove_accent_marks(w):\n",
    "    r = w\n",
    "    r = r.replace('á', 'a')\n",
    "    r = r.replace('é', 'e')\n",
    "    r = r.replace('í', 'i')\n",
    "    r = r.replace('ó', 'o')\n",
    "    r = r.replace('ú', 'u')\n",
    "    return r"
   ]
  },
  {
   "cell_type": "code",
   "execution_count": 3,
   "metadata": {
    "collapsed": false
   },
   "outputs": [],
   "source": [
    "lexicon = {}\n",
    "with open('lexicon/es_lexicon.csv') as f:\n",
    "    reader = csv.reader(\n",
    "        f,\n",
    "        delimiter=' ',\n",
    "    )\n",
    "    for row in reader:\n",
    "        w = remove_accent_marks(row[0])\n",
    "        lexicon[w] = []\n",
    "        for i in range(1, len(row[1:]), 2):\n",
    "            entry = {}\n",
    "            entry['lemma'] = remove_accent_marks(row[i].lower())\n",
    "            entry['eagle'] = remove_accent_marks(row[i+1].lower())\n",
    "            lexicon[w].append(entry)"
   ]
  },
  {
   "cell_type": "code",
   "execution_count": 4,
   "metadata": {
    "collapsed": false
   },
   "outputs": [
    {
     "data": {
      "text/plain": [
       "500949"
      ]
     },
     "execution_count": 4,
     "metadata": {},
     "output_type": "execute_result"
    }
   ],
   "source": [
    "len(lexicon)"
   ]
  },
  {
   "cell_type": "code",
   "execution_count": 5,
   "metadata": {
    "collapsed": false
   },
   "outputs": [],
   "source": [
    "def is_vowel(c):\n",
    "    return c in 'aeiouAEIOUáéíóúÁÉÍÓÚüÜ'\n",
    "\n",
    "def next_level(w):\n",
    "    result = [w]\n",
    "    if is_vowel(w[0]):\n",
    "        result.append('h' + w)\n",
    "    elif w.startswith('h'):\n",
    "        result.append(w[1:])\n",
    "    if \"q'\" in w:\n",
    "        result.append(w.replace(\"q'\", 'que'))\n",
    "    for i in range(len(w)):\n",
    "        if w[i] == 'v':\n",
    "            result.append(w[:i] + 'b' + w[i+1:])\n",
    "        elif w[i] == 'b':\n",
    "            result.append(w[:i] + 'v' + w[i+1:])\n",
    "            result.append(w[:i] + 'd' + w[i+1:])\n",
    "        elif w[i] == 'd':\n",
    "            result.append(w[:i] + 'b' + w[i+1:])\n",
    "        elif w[i] == 'c' and i < len(w) - 1 and w[i+1] in 'ei':\n",
    "            result.append(w[:i] + 's' + w[i+1:])\n",
    "        elif w[i] == 's' and i < len(w) - 1 and w[i+1] in 'ei':\n",
    "            result.append(w[:i] + 'c' + w[i+1:])\n",
    "    return result\n",
    "\n",
    "def combinations_aux(visited, result):\n",
    "    while visited:\n",
    "        w = visited[0]\n",
    "        visited = visited[1:]\n",
    "        if w not in result:\n",
    "            result.append(w)\n",
    "            combs = next_level(w)\n",
    "            visited.extend(combs)        \n",
    "    return result\n",
    "\n",
    "def combinations(w):\n",
    "    return combinations_aux([w], [])"
   ]
  },
  {
   "cell_type": "code",
   "execution_count": 6,
   "metadata": {
    "collapsed": true
   },
   "outputs": [],
   "source": [
    "es = enchant.Dict('es_ES')"
   ]
  },
  {
   "cell_type": "markdown",
   "metadata": {},
   "source": [
    "# Analysis"
   ]
  },
  {
   "cell_type": "code",
   "execution_count": 7,
   "metadata": {
    "collapsed": false
   },
   "outputs": [
    {
     "data": {
      "text/plain": [
       "['ana.csv', 'dago.csv', 'nandi.csv', 'rafa.csv', 'antonio.csv', 'yadira.csv']"
      ]
     },
     "execution_count": 7,
     "metadata": {},
     "output_type": "execute_result"
    }
   ],
   "source": [
    "os.listdir('data')"
   ]
  },
  {
   "cell_type": "code",
   "execution_count": 8,
   "metadata": {
    "collapsed": false
   },
   "outputs": [],
   "source": [
    "d = {}\n",
    "for filename in os.listdir('data'):\n",
    "    with open('data/' + filename) as f:\n",
    "        reader = csv.reader(\n",
    "            f,\n",
    "            delimiter=',',\n",
    "            quotechar='\"'\n",
    "        )\n",
    "        next(reader)\n",
    "        for row in reader:\n",
    "            d[row[0]] = {\n",
    "                'date': row[1],\n",
    "                'name': row[2],\n",
    "                'gender': row[3],\n",
    "                'age': row[4],\n",
    "                'city': row[5],\n",
    "                'drawings': row[6],\n",
    "                'title': row[7],\n",
    "                'description': row[8],\n",
    "            }"
   ]
  },
  {
   "cell_type": "code",
   "execution_count": 9,
   "metadata": {
    "collapsed": false
   },
   "outputs": [
    {
     "data": {
      "text/plain": [
       "1028"
      ]
     },
     "execution_count": 9,
     "metadata": {},
     "output_type": "execute_result"
    }
   ],
   "source": [
    "len(d)"
   ]
  },
  {
   "cell_type": "markdown",
   "metadata": {},
   "source": [
    "## Gender"
   ]
  },
  {
   "cell_type": "code",
   "execution_count": 10,
   "metadata": {
    "collapsed": false
   },
   "outputs": [],
   "source": [
    "blank = 0\n",
    "male = 0\n",
    "female = 0\n",
    "for k in d:\n",
    "    gender = d[k]['gender']\n",
    "    if gender == 'M':\n",
    "        male += 1\n",
    "    elif gender == 'F':\n",
    "        female += 1\n",
    "    else:\n",
    "        blank += 1"
   ]
  },
  {
   "cell_type": "code",
   "execution_count": 11,
   "metadata": {
    "collapsed": false
   },
   "outputs": [
    {
     "data": {
      "text/plain": [
       "534"
      ]
     },
     "execution_count": 11,
     "metadata": {},
     "output_type": "execute_result"
    }
   ],
   "source": [
    "blank"
   ]
  },
  {
   "cell_type": "code",
   "execution_count": 12,
   "metadata": {
    "collapsed": false
   },
   "outputs": [
    {
     "data": {
      "text/plain": [
       "146"
      ]
     },
     "execution_count": 12,
     "metadata": {},
     "output_type": "execute_result"
    }
   ],
   "source": [
    "male"
   ]
  },
  {
   "cell_type": "code",
   "execution_count": 13,
   "metadata": {
    "collapsed": false
   },
   "outputs": [
    {
     "data": {
      "text/plain": [
       "348"
      ]
     },
     "execution_count": 13,
     "metadata": {},
     "output_type": "execute_result"
    }
   ],
   "source": [
    "female"
   ]
  },
  {
   "cell_type": "markdown",
   "metadata": {},
   "source": [
    "## Date"
   ]
  },
  {
   "cell_type": "code",
   "execution_count": 14,
   "metadata": {
    "collapsed": true
   },
   "outputs": [],
   "source": [
    "dates = []\n",
    "for k in d:\n",
    "    date = d[k]['date']\n",
    "    if date == '2016/6/10':\n",
    "        date = '2016/06/10'\n",
    "    elif date == '2011-2014':\n",
    "        date = '2011/01/01'\n",
    "    elif date == '2013/01/01 – 2016/01/01':\n",
    "        date = '2013/01/01'\n",
    "    elif date == '2015/1017':\n",
    "        date = '2015/10/17'\n",
    "    elif date == '2016/4/28':\n",
    "        date = '2016/04/28'\n",
    "    elif date == '2016/04/27 – 2016/03/20':\n",
    "        date = '2016/03/20'\n",
    "    elif date == '2015-2016':\n",
    "        date = '2015/01/01'\n",
    "    elif date == '2016/4/27':\n",
    "        date = '2016/04/27'\n",
    "    elif date == '201210/21':\n",
    "        date = '2012/10/21'\n",
    "    elif date == '2015/05':\n",
    "        date = '2015/05/01'\n",
    "    dates.append(date.replace('/', '-'))"
   ]
  },
  {
   "cell_type": "code",
   "execution_count": 15,
   "metadata": {
    "collapsed": true
   },
   "outputs": [],
   "source": [
    "dates = [da for da in dates if da]"
   ]
  },
  {
   "cell_type": "code",
   "execution_count": 16,
   "metadata": {
    "collapsed": false
   },
   "outputs": [
    {
     "data": {
      "text/plain": [
       "950"
      ]
     },
     "execution_count": 16,
     "metadata": {},
     "output_type": "execute_result"
    }
   ],
   "source": [
    "len(dates)"
   ]
  },
  {
   "cell_type": "code",
   "execution_count": 17,
   "metadata": {
    "collapsed": false
   },
   "outputs": [],
   "source": [
    "workshop_dates = [da for da in dates if '2016-04-19' <= da <= '2016-05-02']"
   ]
  },
  {
   "cell_type": "code",
   "execution_count": 18,
   "metadata": {
    "collapsed": false
   },
   "outputs": [
    {
     "data": {
      "text/plain": [
       "234"
      ]
     },
     "execution_count": 18,
     "metadata": {},
     "output_type": "execute_result"
    }
   ],
   "source": [
    "len(workshop_dates)"
   ]
  },
  {
   "cell_type": "code",
   "execution_count": 19,
   "metadata": {
    "collapsed": true
   },
   "outputs": [],
   "source": [
    "workshop_dates_counter = Counter(workshop_dates)"
   ]
  },
  {
   "cell_type": "code",
   "execution_count": 20,
   "metadata": {
    "collapsed": false
   },
   "outputs": [
    {
     "data": {
      "text/plain": [
       "Counter({'2016-04-19': 1,\n",
       "         '2016-04-20': 3,\n",
       "         '2016-04-21': 5,\n",
       "         '2016-04-22': 1,\n",
       "         '2016-04-23': 6,\n",
       "         '2016-04-24': 10,\n",
       "         '2016-04-25': 11,\n",
       "         '2016-04-26': 22,\n",
       "         '2016-04-27': 34,\n",
       "         '2016-04-28': 27,\n",
       "         '2016-04-29': 24,\n",
       "         '2016-04-30': 54,\n",
       "         '2016-05-01': 35,\n",
       "         '2016-05-02': 1})"
      ]
     },
     "execution_count": 20,
     "metadata": {},
     "output_type": "execute_result"
    }
   ],
   "source": [
    "workshop_dates_counter"
   ]
  },
  {
   "cell_type": "code",
   "execution_count": 21,
   "metadata": {
    "collapsed": false
   },
   "outputs": [],
   "source": [
    "fact_dates = [da for da in dates if not '2016-04-19' <= da <= '2016-05-02']"
   ]
  },
  {
   "cell_type": "code",
   "execution_count": 22,
   "metadata": {
    "collapsed": false
   },
   "outputs": [
    {
     "data": {
      "text/plain": [
       "716"
      ]
     },
     "execution_count": 22,
     "metadata": {},
     "output_type": "execute_result"
    }
   ],
   "source": [
    "len(fact_dates)"
   ]
  },
  {
   "cell_type": "code",
   "execution_count": 23,
   "metadata": {
    "collapsed": true
   },
   "outputs": [],
   "source": [
    "fact_dates_counter = Counter(fact_dates)"
   ]
  },
  {
   "cell_type": "code",
   "execution_count": 24,
   "metadata": {
    "collapsed": false
   },
   "outputs": [
    {
     "data": {
      "text/plain": [
       "Counter({'1810-03-01': 1,\n",
       "         '1905-05-06': 1,\n",
       "         '1905-06-05': 1,\n",
       "         '1905-06-17': 1,\n",
       "         '1905-07-07': 1,\n",
       "         '1916-04-30': 1,\n",
       "         '1953-01-01': 1,\n",
       "         '1963-12-01': 1,\n",
       "         '1973-02-14': 1,\n",
       "         '1989-09-01': 1,\n",
       "         '1990-01-01': 2,\n",
       "         '1993-01-01': 2,\n",
       "         '1994-08-12': 1,\n",
       "         '1995-01-01': 2,\n",
       "         '1995-07-01': 1,\n",
       "         '1996-02-01': 1,\n",
       "         '1996-08-15': 1,\n",
       "         '1996-12-14': 1,\n",
       "         '1997-01-01': 1,\n",
       "         '1997-11-11': 1,\n",
       "         '1998-01-01': 1,\n",
       "         '1998-11-01': 1,\n",
       "         '1999-01-01': 3,\n",
       "         '1999-01-25': 1,\n",
       "         '2000-01-01': 5,\n",
       "         '2000-03-01': 1,\n",
       "         '2000-04-01': 1,\n",
       "         '2000-04-19': 1,\n",
       "         '2000-04-28': 1,\n",
       "         '2001-01-15': 1,\n",
       "         '2001-02-01': 1,\n",
       "         '2002-01-01': 2,\n",
       "         '2002-05-01': 1,\n",
       "         '2003-01-01': 2,\n",
       "         '2004-01-01': 4,\n",
       "         '2004-04-23': 1,\n",
       "         '2005-01-01': 5,\n",
       "         '2005-02-01': 1,\n",
       "         '2005-04-28': 1,\n",
       "         '2006-01-01': 5,\n",
       "         '2006-04-24': 1,\n",
       "         '2006-09-01': 2,\n",
       "         '2006-11-01': 1,\n",
       "         '2006-11-03': 1,\n",
       "         '2007-01-01': 4,\n",
       "         '2007-03-14': 1,\n",
       "         '2007-10-01': 1,\n",
       "         '2007-11-01': 1,\n",
       "         '2008-01-01': 8,\n",
       "         '2008-03-07': 1,\n",
       "         '2008-04-01': 1,\n",
       "         '2008-05-01': 1,\n",
       "         '2008-06-01': 1,\n",
       "         '2008-07-24': 1,\n",
       "         '2008-08-13': 1,\n",
       "         '2008-10-01': 2,\n",
       "         '2008-12-01': 1,\n",
       "         '2009-01-01': 6,\n",
       "         '2009-04-29': 1,\n",
       "         '2009-07-01': 1,\n",
       "         '2009-08-01': 1,\n",
       "         '2009-11-01': 1,\n",
       "         '2009-12-01': 2,\n",
       "         '2010-01-01': 17,\n",
       "         '2010-03-01': 1,\n",
       "         '2010-04-01': 1,\n",
       "         '2010-04-29': 1,\n",
       "         '2010-05-12': 1,\n",
       "         '2010-06-01': 2,\n",
       "         '2010-07-24': 1,\n",
       "         '2010-07-29': 1,\n",
       "         '2010-10-01': 1,\n",
       "         '2010-11-07': 1,\n",
       "         '2011-01-01': 9,\n",
       "         '2011-03-18': 1,\n",
       "         '2011-03-20': 1,\n",
       "         '2011-04-01': 1,\n",
       "         '2011-07-11': 1,\n",
       "         '2011-09-20': 1,\n",
       "         '2011-10-20': 1,\n",
       "         '2012-01-01': 21,\n",
       "         '2012-01-16': 1,\n",
       "         '2012-01-30': 1,\n",
       "         '2012-04-01': 2,\n",
       "         '2012-04-05': 1,\n",
       "         '2012-04-17': 1,\n",
       "         '2012-04-18': 1,\n",
       "         '2012-04-25': 1,\n",
       "         '2012-05-01': 1,\n",
       "         '2012-05-29': 1,\n",
       "         '2012-06-01': 1,\n",
       "         '2012-08-26': 1,\n",
       "         '2012-09-16': 1,\n",
       "         '2012-09-20': 1,\n",
       "         '2012-10-20': 1,\n",
       "         '2012-10-21': 1,\n",
       "         '2012-11-01': 1,\n",
       "         '2012-12-01': 1,\n",
       "         '2012-12-10': 1,\n",
       "         '2012-12-30': 1,\n",
       "         '2013-01-01': 20,\n",
       "         '2013-03-01': 2,\n",
       "         '2013-04-24': 1,\n",
       "         '2013-04-25': 1,\n",
       "         '2013-04-27': 1,\n",
       "         '2013-05-01': 1,\n",
       "         '2013-06-01': 4,\n",
       "         '2013-08-01': 2,\n",
       "         '2013-10-02': 1,\n",
       "         '2013-12-01': 3,\n",
       "         '2014-01-01': 39,\n",
       "         '2014-01-02': 1,\n",
       "         '2014-01-17': 1,\n",
       "         '2014-02-03': 1,\n",
       "         '2014-02-05': 1,\n",
       "         '2014-02-20': 1,\n",
       "         '2014-03-15': 1,\n",
       "         '2014-04-01': 1,\n",
       "         '2014-04-04': 1,\n",
       "         '2014-04-12': 1,\n",
       "         '2014-04-20': 2,\n",
       "         '2014-04-25': 1,\n",
       "         '2014-05-01': 1,\n",
       "         '2014-05-10': 1,\n",
       "         '2014-06-01': 1,\n",
       "         '2014-07-01': 3,\n",
       "         '2014-07-05': 1,\n",
       "         '2014-07-19': 1,\n",
       "         '2014-08-05': 1,\n",
       "         '2014-09-01': 2,\n",
       "         '2014-10-01': 2,\n",
       "         '2014-11-01': 1,\n",
       "         '2014-12-01': 1,\n",
       "         '2014-12-09': 1,\n",
       "         '2014-12-24': 1,\n",
       "         '2014-12-31': 1,\n",
       "         '2015-01-01': 93,\n",
       "         '2015-01-16': 1,\n",
       "         '2015-01-31': 1,\n",
       "         '2015-02-01': 3,\n",
       "         '2015-02-03': 1,\n",
       "         '2015-02-10': 1,\n",
       "         '2015-02-12': 1,\n",
       "         '2015-02-25': 1,\n",
       "         '2015-03-01': 4,\n",
       "         '2015-03-15': 2,\n",
       "         '2015-03-19': 1,\n",
       "         '2015-04-01': 4,\n",
       "         '2015-04-02': 1,\n",
       "         '2015-04-12': 1,\n",
       "         '2015-04-24': 1,\n",
       "         '2015-04-25': 1,\n",
       "         '2015-04-30': 2,\n",
       "         '2015-05-01': 2,\n",
       "         '2015-05-03': 1,\n",
       "         '2015-05-10': 1,\n",
       "         '2015-05-11': 1,\n",
       "         '2015-06-01': 3,\n",
       "         '2015-06-18': 1,\n",
       "         '2015-06-30': 1,\n",
       "         '2015-07-01': 3,\n",
       "         '2015-07-03': 1,\n",
       "         '2015-07-13': 1,\n",
       "         '2015-07-29': 1,\n",
       "         '2015-08-01': 2,\n",
       "         '2015-08-04': 1,\n",
       "         '2015-08-15': 1,\n",
       "         '2015-08-19': 1,\n",
       "         '2015-08-25': 1,\n",
       "         '2015-08-28': 1,\n",
       "         '2015-09-01': 4,\n",
       "         '2015-09-03': 2,\n",
       "         '2015-09-09': 1,\n",
       "         '2015-09-10': 1,\n",
       "         '2015-09-14': 1,\n",
       "         '2015-09-15': 1,\n",
       "         '2015-09-21': 1,\n",
       "         '2015-09-23': 1,\n",
       "         '2015-09-26': 1,\n",
       "         '2015-10-01': 3,\n",
       "         '2015-10-04': 1,\n",
       "         '2015-10-14': 1,\n",
       "         '2015-10-15': 2,\n",
       "         '2015-10-17': 1,\n",
       "         '2015-10-25': 1,\n",
       "         '2015-10-29': 1,\n",
       "         '2015-11-01': 1,\n",
       "         '2015-11-19': 1,\n",
       "         '2015-12-01': 8,\n",
       "         '2015-12-04': 1,\n",
       "         '2015-12-05': 2,\n",
       "         '2015-12-12': 2,\n",
       "         '2015-12-22': 1,\n",
       "         '2015-12-31': 1,\n",
       "         '2016-01-01': 118,\n",
       "         '2016-01-02': 1,\n",
       "         '2016-01-06': 1,\n",
       "         '2016-01-07': 1,\n",
       "         '2016-01-10': 2,\n",
       "         '2016-01-19': 1,\n",
       "         '2016-01-21': 1,\n",
       "         '2016-01-25': 1,\n",
       "         '2016-01-26': 4,\n",
       "         '2016-01-30': 1,\n",
       "         '2016-02-01': 9,\n",
       "         '2016-02-03': 2,\n",
       "         '2016-02-04': 1,\n",
       "         '2016-02-09': 1,\n",
       "         '2016-02-15': 1,\n",
       "         '2016-02-16': 1,\n",
       "         '2016-02-18': 1,\n",
       "         '2016-02-21': 1,\n",
       "         '2016-02-28': 1,\n",
       "         '2016-03-01': 14,\n",
       "         '2016-03-05': 1,\n",
       "         '2016-03-06': 1,\n",
       "         '2016-03-10': 1,\n",
       "         '2016-03-12': 1,\n",
       "         '2016-03-13': 1,\n",
       "         '2016-03-17': 1,\n",
       "         '2016-03-20': 1,\n",
       "         '2016-03-21': 1,\n",
       "         '2016-03-23': 1,\n",
       "         '2016-03-25': 1,\n",
       "         '2016-03-29': 2,\n",
       "         '2016-03-30': 1,\n",
       "         '2016-04-01': 29,\n",
       "         '2016-04-03': 1,\n",
       "         '2016-04-06': 2,\n",
       "         '2016-04-08': 2,\n",
       "         '2016-04-09': 1,\n",
       "         '2016-04-10': 1,\n",
       "         '2016-04-12': 2,\n",
       "         '2016-04-13': 2,\n",
       "         '2016-04-14': 2,\n",
       "         '2016-04-15': 1,\n",
       "         '2016-04-16': 5,\n",
       "         '2016-04-17': 1,\n",
       "         '2016-04-18': 1,\n",
       "         '2016-05-04': 2,\n",
       "         '2016-05-05': 1,\n",
       "         '2016-05-29': 2,\n",
       "         '2016-05-30': 1,\n",
       "         '2016-06-01': 1,\n",
       "         '2016-06-10': 1,\n",
       "         '2016-07-25': 1,\n",
       "         '2016-08-29': 1,\n",
       "         '2016-10-29': 1,\n",
       "         '2016-11-01': 1,\n",
       "         '2016-11-23': 1,\n",
       "         '2016-12-01': 1,\n",
       "         '2016-12-05': 1,\n",
       "         '2016-12-24': 1,\n",
       "         '2018-03-01': 1})"
      ]
     },
     "execution_count": 24,
     "metadata": {},
     "output_type": "execute_result"
    }
   ],
   "source": [
    "fact_dates_counter"
   ]
  },
  {
   "cell_type": "code",
   "execution_count": 25,
   "metadata": {
    "collapsed": true
   },
   "outputs": [],
   "source": [
    "fact_dates_year = [da.split('-')[0] for da in fact_dates]"
   ]
  },
  {
   "cell_type": "code",
   "execution_count": 26,
   "metadata": {
    "collapsed": false
   },
   "outputs": [
    {
     "data": {
      "text/plain": [
       "716"
      ]
     },
     "execution_count": 26,
     "metadata": {},
     "output_type": "execute_result"
    }
   ],
   "source": [
    "len(fact_dates_year)"
   ]
  },
  {
   "cell_type": "code",
   "execution_count": 27,
   "metadata": {
    "collapsed": true
   },
   "outputs": [],
   "source": [
    "fact_dates_year_counter = Counter(fact_dates_year)"
   ]
  },
  {
   "cell_type": "code",
   "execution_count": 28,
   "metadata": {
    "collapsed": false
   },
   "outputs": [
    {
     "data": {
      "text/plain": [
       "Counter({'1810': 1,\n",
       "         '1905': 4,\n",
       "         '1916': 1,\n",
       "         '1953': 1,\n",
       "         '1963': 1,\n",
       "         '1973': 1,\n",
       "         '1989': 1,\n",
       "         '1990': 2,\n",
       "         '1993': 2,\n",
       "         '1994': 1,\n",
       "         '1995': 3,\n",
       "         '1996': 3,\n",
       "         '1997': 2,\n",
       "         '1998': 2,\n",
       "         '1999': 4,\n",
       "         '2000': 9,\n",
       "         '2001': 2,\n",
       "         '2002': 3,\n",
       "         '2003': 2,\n",
       "         '2004': 5,\n",
       "         '2005': 7,\n",
       "         '2006': 10,\n",
       "         '2007': 7,\n",
       "         '2008': 17,\n",
       "         '2009': 12,\n",
       "         '2010': 27,\n",
       "         '2011': 15,\n",
       "         '2012': 41,\n",
       "         '2013': 36,\n",
       "         '2014': 69,\n",
       "         '2015': 182,\n",
       "         '2016': 242,\n",
       "         '2018': 1})"
      ]
     },
     "execution_count": 28,
     "metadata": {},
     "output_type": "execute_result"
    }
   ],
   "source": [
    "fact_dates_year_counter"
   ]
  },
  {
   "cell_type": "markdown",
   "metadata": {},
   "source": [
    "## Cities"
   ]
  },
  {
   "cell_type": "code",
   "execution_count": 29,
   "metadata": {
    "collapsed": true
   },
   "outputs": [],
   "source": [
    "cities = []\n",
    "for k in d:\n",
    "    city = d[k]['city']\n",
    "    cities.append(city)"
   ]
  },
  {
   "cell_type": "code",
   "execution_count": 30,
   "metadata": {
    "collapsed": false
   },
   "outputs": [],
   "source": [
    "c = Counter(cities)"
   ]
  },
  {
   "cell_type": "code",
   "execution_count": 31,
   "metadata": {
    "collapsed": false
   },
   "outputs": [],
   "source": [
    "# c"
   ]
  },
  {
   "cell_type": "code",
   "execution_count": 32,
   "metadata": {
    "collapsed": false
   },
   "outputs": [
    {
     "data": {
      "text/plain": [
       "[('', 668),\n",
       " ('Bogotá', 229),\n",
       " ('Neiva', 13),\n",
       " ('Bogotá D.C.', 9),\n",
       " ('Soacha', 7),\n",
       " ('Fusagasugá', 6),\n",
       " ('Tunja', 6),\n",
       " ('Medellín', 5),\n",
       " ('Bogotá D.C', 5),\n",
       " ('Cunday Tolima', 4)]"
      ]
     },
     "execution_count": 32,
     "metadata": {},
     "output_type": "execute_result"
    }
   ],
   "source": [
    "c.most_common(10)"
   ]
  },
  {
   "cell_type": "markdown",
   "metadata": {},
   "source": [
    "## Ages"
   ]
  },
  {
   "cell_type": "code",
   "execution_count": 33,
   "metadata": {
    "collapsed": true
   },
   "outputs": [],
   "source": [
    "ages = []\n",
    "for k in d:\n",
    "    age = d[k]['age']\n",
    "    ages.append(age)"
   ]
  },
  {
   "cell_type": "code",
   "execution_count": 34,
   "metadata": {
    "collapsed": false
   },
   "outputs": [],
   "source": [
    "a = Counter(ages)"
   ]
  },
  {
   "cell_type": "code",
   "execution_count": 35,
   "metadata": {
    "collapsed": false
   },
   "outputs": [],
   "source": [
    "# a"
   ]
  },
  {
   "cell_type": "code",
   "execution_count": 36,
   "metadata": {
    "collapsed": false
   },
   "outputs": [
    {
     "data": {
      "text/plain": [
       "[('', 671),\n",
       " ('16', 24),\n",
       " ('14', 22),\n",
       " ('12', 18),\n",
       " ('15', 17),\n",
       " ('11', 17),\n",
       " ('10', 14),\n",
       " ('19', 14),\n",
       " ('13', 14),\n",
       " ('17', 13),\n",
       " ('20', 13)]"
      ]
     },
     "execution_count": 36,
     "metadata": {},
     "output_type": "execute_result"
    }
   ],
   "source": [
    "a.most_common(11)"
   ]
  },
  {
   "cell_type": "code",
   "execution_count": 37,
   "metadata": {
    "collapsed": false
   },
   "outputs": [],
   "source": [
    "children = 0\n",
    "teenagers = 0\n",
    "young_adults = 0\n",
    "adults = 0\n",
    "for k in d:\n",
    "    try:\n",
    "        if d[k]['age']:\n",
    "            age = int(d[k]['age'])\n",
    "            if 0 <= age <= 12:\n",
    "                children += 1\n",
    "            elif 13 <= age <= 18:\n",
    "                teenagers += 1\n",
    "            elif 19 <= age <= 25:\n",
    "                young_adults += 1\n",
    "            else:\n",
    "                adults += 1\n",
    "    except: # '16, 19'\n",
    "        teenagers += 1"
   ]
  },
  {
   "cell_type": "code",
   "execution_count": 38,
   "metadata": {
    "collapsed": false
   },
   "outputs": [
    {
     "data": {
      "text/plain": [
       "67"
      ]
     },
     "execution_count": 38,
     "metadata": {},
     "output_type": "execute_result"
    }
   ],
   "source": [
    "children"
   ]
  },
  {
   "cell_type": "code",
   "execution_count": 39,
   "metadata": {
    "collapsed": false
   },
   "outputs": [
    {
     "data": {
      "text/plain": [
       "100"
      ]
     },
     "execution_count": 39,
     "metadata": {},
     "output_type": "execute_result"
    }
   ],
   "source": [
    "teenagers"
   ]
  },
  {
   "cell_type": "code",
   "execution_count": 40,
   "metadata": {
    "collapsed": false
   },
   "outputs": [
    {
     "data": {
      "text/plain": [
       "68"
      ]
     },
     "execution_count": 40,
     "metadata": {},
     "output_type": "execute_result"
    }
   ],
   "source": [
    "young_adults"
   ]
  },
  {
   "cell_type": "code",
   "execution_count": 41,
   "metadata": {
    "collapsed": false
   },
   "outputs": [
    {
     "data": {
      "text/plain": [
       "122"
      ]
     },
     "execution_count": 41,
     "metadata": {},
     "output_type": "execute_result"
    }
   ],
   "source": [
    "adults"
   ]
  },
  {
   "cell_type": "markdown",
   "metadata": {},
   "source": [
    "## Drawings"
   ]
  },
  {
   "cell_type": "code",
   "execution_count": 42,
   "metadata": {
    "collapsed": false
   },
   "outputs": [],
   "source": [
    "drawing_words = []\n",
    "for k in d:\n",
    "    drawings = d[k]['drawings'].lower().replace(';', ',')\n",
    "    words = [x.strip() for x in drawings.split(',')]\n",
    "    drawing_words.extend(words)"
   ]
  },
  {
   "cell_type": "code",
   "execution_count": 43,
   "metadata": {
    "collapsed": false
   },
   "outputs": [],
   "source": [
    "dw = Counter(drawing_words)"
   ]
  },
  {
   "cell_type": "code",
   "execution_count": 44,
   "metadata": {
    "collapsed": false
   },
   "outputs": [],
   "source": [
    "# dw"
   ]
  },
  {
   "cell_type": "code",
   "execution_count": 45,
   "metadata": {
    "collapsed": false
   },
   "outputs": [
    {
     "data": {
      "text/plain": [
       "[('', 906),\n",
       " ('corazón', 84),\n",
       " ('cara feliz', 28),\n",
       " ('carita feliz', 11),\n",
       " ('niño', 11),\n",
       " ('nube', 7),\n",
       " ('cara sonriente', 5),\n",
       " ('flor', 4),\n",
       " ('perro', 4),\n",
       " ('sol', 3),\n",
       " ('cruz', 2)]"
      ]
     },
     "execution_count": 45,
     "metadata": {},
     "output_type": "execute_result"
    }
   ],
   "source": [
    "dw.most_common(11)"
   ]
  },
  {
   "cell_type": "markdown",
   "metadata": {},
   "source": [
    "## Words"
   ]
  },
  {
   "cell_type": "code",
   "execution_count": 46,
   "metadata": {
    "collapsed": false
   },
   "outputs": [
    {
     "data": {
      "text/plain": [
       "'!\"#$%&\\'()*+,-./:;<=>?@[\\\\]^_`{|}~¡¿“…'"
      ]
     },
     "execution_count": 46,
     "metadata": {},
     "output_type": "execute_result"
    }
   ],
   "source": [
    "punctuation = punctuation + '¡¿“…'\n",
    "punctuation"
   ]
  },
  {
   "cell_type": "code",
   "execution_count": 47,
   "metadata": {
    "collapsed": true
   },
   "outputs": [],
   "source": [
    "def normalize(text):\n",
    "    text = text.lower()\n",
    "    text = remove_accent_marks(text)\n",
    "    for p in punctuation:\n",
    "        text = text.replace(p, '')\n",
    "    return text"
   ]
  },
  {
   "cell_type": "code",
   "execution_count": 48,
   "metadata": {
    "collapsed": true
   },
   "outputs": [],
   "source": [
    "def total_text(r):\n",
    "    return normalize(r['title'] + ' ' + r['description'])"
   ]
  },
  {
   "cell_type": "code",
   "execution_count": 49,
   "metadata": {
    "collapsed": false
   },
   "outputs": [],
   "source": [
    "total_words = []\n",
    "for k in d:\n",
    "    text = total_text(d[k])\n",
    "    words = [w for w in word_tokenize(text) if w not in punctuation]\n",
    "    total_words.extend(words)"
   ]
  },
  {
   "cell_type": "code",
   "execution_count": 50,
   "metadata": {
    "collapsed": false
   },
   "outputs": [
    {
     "data": {
      "text/plain": [
       "57051"
      ]
     },
     "execution_count": 50,
     "metadata": {},
     "output_type": "execute_result"
    }
   ],
   "source": [
    "len(total_words)"
   ]
  },
  {
   "cell_type": "code",
   "execution_count": 51,
   "metadata": {
    "collapsed": true
   },
   "outputs": [],
   "source": [
    "total_words_freq = Counter(total_words)"
   ]
  },
  {
   "cell_type": "code",
   "execution_count": 52,
   "metadata": {
    "collapsed": false
   },
   "outputs": [
    {
     "data": {
      "text/plain": [
       "[('y', 2477),\n",
       " ('de', 2460),\n",
       " ('la', 2089),\n",
       " ('que', 1738),\n",
       " ('a', 1514),\n",
       " ('en', 1502),\n",
       " ('el', 1282),\n",
       " ('un', 1004),\n",
       " ('con', 888),\n",
       " ('mi', 874)]"
      ]
     },
     "execution_count": 52,
     "metadata": {},
     "output_type": "execute_result"
    }
   ],
   "source": [
    "total_words_freq.most_common(10)"
   ]
  },
  {
   "cell_type": "code",
   "execution_count": 53,
   "metadata": {
    "collapsed": false
   },
   "outputs": [],
   "source": [
    "stop_words = [remove_accent_marks(w) for w in stopwords.words('spanish')] + ['xxx']"
   ]
  },
  {
   "cell_type": "code",
   "execution_count": 54,
   "metadata": {
    "collapsed": false
   },
   "outputs": [],
   "source": [
    "total_nonstop_words = [w for w in total_words if w not in stop_words]"
   ]
  },
  {
   "cell_type": "code",
   "execution_count": 55,
   "metadata": {
    "collapsed": false
   },
   "outputs": [
    {
     "data": {
      "text/plain": [
       "27314"
      ]
     },
     "execution_count": 55,
     "metadata": {},
     "output_type": "execute_result"
    }
   ],
   "source": [
    "len(total_nonstop_words)"
   ]
  },
  {
   "cell_type": "code",
   "execution_count": 56,
   "metadata": {
    "collapsed": true
   },
   "outputs": [],
   "source": [
    "unique_nonstop_words = set(total_nonstop_words)"
   ]
  },
  {
   "cell_type": "code",
   "execution_count": 57,
   "metadata": {
    "collapsed": false
   },
   "outputs": [
    {
     "data": {
      "text/plain": [
       "7619"
      ]
     },
     "execution_count": 57,
     "metadata": {},
     "output_type": "execute_result"
    }
   ],
   "source": [
    "len(unique_nonstop_words)"
   ]
  },
  {
   "cell_type": "markdown",
   "metadata": {},
   "source": [
    "## Spelling"
   ]
  },
  {
   "cell_type": "code",
   "execution_count": 58,
   "metadata": {
    "collapsed": false
   },
   "outputs": [],
   "source": [
    "correct_spelling = {}\n",
    "\n",
    "for w in total_words_freq:\n",
    "    if w not in correct_spelling:\n",
    "        if w in lexicon:\n",
    "            correct_spelling[w] = w\n",
    "        else:\n",
    "            combs = combinations(w)\n",
    "            freqs = [(c, total_words_freq[c]) for c in combs if c in total_words_freq and c in lexicon]\n",
    "            if freqs:\n",
    "                freqs.sort(key=lambda x: x[1], reverse=True)\n",
    "                correct_spelling[w] = freqs[0][0]\n",
    "            else:\n",
    "                freqs = [(c, total_words_freq[c]) for c in es.suggest(w) if c in total_words_freq]\n",
    "                if freqs:\n",
    "                    freqs.sort(key=lambda x: x[1], reverse=True)\n",
    "                    correct_spelling[w] = freqs[0][0]\n",
    "                else:\n",
    "                    correct_spelling[w] = w"
   ]
  },
  {
   "cell_type": "code",
   "execution_count": 59,
   "metadata": {
    "collapsed": false
   },
   "outputs": [
    {
     "data": {
      "text/plain": [
       "7805"
      ]
     },
     "execution_count": 59,
     "metadata": {},
     "output_type": "execute_result"
    }
   ],
   "source": [
    "len(correct_spelling)"
   ]
  },
  {
   "cell_type": "code",
   "execution_count": 60,
   "metadata": {
    "collapsed": false
   },
   "outputs": [
    {
     "data": {
      "text/plain": [
       "7805"
      ]
     },
     "execution_count": 60,
     "metadata": {},
     "output_type": "execute_result"
    }
   ],
   "source": [
    "len(total_words_freq)"
   ]
  },
  {
   "cell_type": "code",
   "execution_count": 61,
   "metadata": {
    "collapsed": false
   },
   "outputs": [],
   "source": [
    "spelling_map = defaultdict(list)\n",
    "for key in correct_spelling:\n",
    "    v = correct_spelling[key]\n",
    "    spelling_map[v].append((key, total_words_freq[key]))\n",
    "spelling_map = dict(spelling_map)"
   ]
  },
  {
   "cell_type": "code",
   "execution_count": 62,
   "metadata": {
    "collapsed": false
   },
   "outputs": [
    {
     "data": {
      "text/plain": [
       "7058"
      ]
     },
     "execution_count": 62,
     "metadata": {},
     "output_type": "execute_result"
    }
   ],
   "source": [
    "len(spelling_map)"
   ]
  },
  {
   "cell_type": "code",
   "execution_count": 63,
   "metadata": {
    "collapsed": false
   },
   "outputs": [
    {
     "data": {
      "text/plain": [
       "'hacer'"
      ]
     },
     "execution_count": 63,
     "metadata": {},
     "output_type": "execute_result"
    }
   ],
   "source": [
    "correct_spelling['aser']"
   ]
  },
  {
   "cell_type": "code",
   "execution_count": 64,
   "metadata": {
    "collapsed": false
   },
   "outputs": [
    {
     "data": {
      "text/plain": [
       "[('aser', 3), ('hacer', 90), ('acer', 1), ('haser', 1)]"
      ]
     },
     "execution_count": 64,
     "metadata": {},
     "output_type": "execute_result"
    }
   ],
   "source": [
    "spelling_map['hacer']"
   ]
  },
  {
   "cell_type": "code",
   "execution_count": 65,
   "metadata": {
    "collapsed": false
   },
   "outputs": [],
   "source": [
    "mispellings = [w for w in spelling_map if w not in stop_words and len(spelling_map[w]) > 1]\n",
    "mispellings.sort()"
   ]
  },
  {
   "cell_type": "code",
   "execution_count": 66,
   "metadata": {
    "collapsed": false
   },
   "outputs": [
    {
     "data": {
      "text/plain": [
       "['abandonados',\n",
       " 'abrasamos',\n",
       " 'abuelas',\n",
       " 'abuelo',\n",
       " 'abuelos',\n",
       " 'abusar',\n",
       " 'acabo',\n",
       " 'aceptacion',\n",
       " 'aceptar',\n",
       " 'aceptarnos']"
      ]
     },
     "execution_count": 66,
     "metadata": {},
     "output_type": "execute_result"
    }
   ],
   "source": [
    "mispellings[:10]"
   ]
  },
  {
   "cell_type": "code",
   "execution_count": 67,
   "metadata": {
    "collapsed": false
   },
   "outputs": [
    {
     "data": {
      "text/plain": [
       "[('abandonados', 3), ('habandonados', 1)]"
      ]
     },
     "execution_count": 67,
     "metadata": {},
     "output_type": "execute_result"
    }
   ],
   "source": [
    "spelling_map['abandonados']"
   ]
  },
  {
   "cell_type": "code",
   "execution_count": 68,
   "metadata": {
    "collapsed": false,
    "scrolled": false
   },
   "outputs": [
    {
     "name": "stdout",
     "output_type": "stream",
     "text": [
      "pelearan [('pelearan', 3), ('peliaran', 2), ('peliabaran', 1)]\n",
      "era [('era', 115), ('tra', 1), ('sra', 2), ('dra', 1), ('hera', 1)]\n",
      "violencia [('violencia', 57), ('laviolencia', 1), ('violence', 1)]\n",
      "peleado [('peleado', 7), ('peliado', 2)]\n",
      "igual [('igual', 10), ('igal', 1), ('igualda', 1)]\n",
      "acabo [('acabo', 2), ('boyaca', 3)]\n",
      "necesita [('necesita', 14), ('nesecita', 1), ('nevesita', 1)]\n",
      "niña [('niña', 30), ('ninña', 1), ('nina', 1)]\n",
      "respeto [('respeto', 63), ('irrespeto', 1), ('resoeto', 1), ('trespeto', 1)]\n",
      "viene [('viene', 3), ('biene', 2)]\n",
      "sed [('sed', 1), ('sedi', 2)]\n",
      "amistad [('amistad', 27), ('amitad', 1), ('amisgyad', 1)]\n",
      "once [('onces', 2), ('once', 3)]\n",
      "aveces [('aveces', 2), ('abeses', 3)]\n",
      "triste [('trizte', 1), ('triste', 18), ('tristesa', 1)]\n",
      "casi [('casi', 12), ('casasi', 1), ('cali', 1)]\n",
      "peleamos [('peleamos', 9), ('peliamos', 4)]\n",
      "habia [('abia', 1), ('havia', 5), ('habia', 63)]\n",
      "gato [('gato', 17), ('gatito', 4)]\n",
      "mucho [('muchor', 1), ('mucho', 84), ('muchso', 1), ('much', 2), ('muchoas', 1)]\n",
      "oportunidad [('oportunidad', 31), ('oportunida', 1), ('poprtunidades', 1), ('oportunidade', 1)]\n",
      "discapacidad [('discapacidad', 4), ('discap', 1), ('discapasidades', 1)]\n",
      "tuve [('tuve', 39), ('tube', 6)]\n",
      "valer [('valer', 2), ('valeria', 2)]\n",
      "valorar [('valorar', 4), ('alvaro', 2)]\n",
      "nuestros [('nuestros', 31), ('nuetsros', 1), ('cuestros', 1)]\n",
      "pelea [('lapelea', 1), ('pelia', 1), ('pelea', 51)]\n",
      "consciente [('consciente', 3), ('conciente', 2)]\n",
      "mas [('mas', 233), ('mals', 1), ('maq', 1)]\n",
      "algo [('algo', 49), ('also', 4)]\n",
      "estuvimos [('estubimos', 2), ('estuvimos', 4)]\n",
      "demos [('demos', 2), ('bemos', 3)]\n",
      "hacer [('aser', 3), ('hacer', 90), ('acer', 1), ('haser', 1)]\n",
      "reconciliacion [('reconciliacion', 49), ('reconsiliacion', 6)]\n",
      "abuelos [('abuelos', 12), ('abuelitos', 6)]\n",
      "hizo [('hiso', 3), ('hizo', 33), ('hize', 2)]\n",
      "unas [('unas', 18), ('hnas', 2)]\n",
      "ceder [('seder', 1), ('ceder', 4), ('1ceder', 1)]\n",
      "decidimos [('decidimos', 32), ('desidimos', 4)]\n",
      "vivencia [('vivencia', 3), ('vivenciaban', 1), ('vivenciado', 1)]\n",
      "niños [('ninños', 1), ('nigos', 1), ('niños', 99), ('ninos', 1), ('niñes', 1)]\n",
      "todos [('todos', 187), ('todod', 1), ('tods', 1)]\n",
      "iban [('iban', 6), ('ivan', 2), ('hiban', 1)]\n",
      "empezar [('empezar', 10), ('empeze', 1), ('empesar', 1)]\n",
      "ibamos [('ibamos', 7), ('ivamos', 2), ('hibamos', 2)]\n",
      "los [('los', 687), ('alos', 3), ('loq', 2)]\n",
      "esposo [('esposo', 8), ('exesposo', 2)]\n",
      "necesitamos [('nesesitamos', 1), ('necesitamos', 6), ('nesecitamos', 1)]\n",
      "salvado [('salvado', 1), ('alvarado', 2)]\n",
      "encontrar [('encontrat', 1), ('encontra', 1), ('encontrar', 17)]\n",
      "pego [('pege', 2), ('pego', 12)]\n",
      "ser [('3er', 2), ('ser', 158), ('1er', 1)]\n",
      "bicicleta [('bicicleta', 1), ('bisicleta', 1), ('bicilecto', 1)]\n",
      "anciano [('anciano', 1), ('ancianato', 7)]\n",
      "haciendo [('baciendo', 1), ('haciedno', 1), ('haciendo', 17)]\n",
      "hice [('hice', 22), ('ise', 2), ('hise', 2)]\n",
      "eso [('etso', 1), ('eso', 70), ('edo', 1), ('iso', 1), ('heso', 1)]\n",
      "queremos [('queremos', 5), ('querñuamos', 1), ('quieremos', 1)]\n",
      "pero [('pero', 215), ('peru', 1), ('petro', 1), ('perdo', 2), ('perso', 3)]\n",
      "ahora [('ahora', 52), ('haora', 4), ('ahoran', 1)]\n",
      "aunque [('aunque', 19), ('auqnue', 2)]\n",
      "otra [('otra', 30), ('ntra', 2)]\n",
      "cada [('cada', 96), ('cdad', 2)]\n",
      "damos [('famos', 2), ('damos', 7)]\n",
      "historia [('histora', 1), ('historia', 24), ('hisporia', 1)]\n",
      "apto [('laptop', 2), ('apto', 1)]\n",
      "tome [('tome', 10), ('tomñe', 2)]\n",
      "hecho [('decho', 1), ('hechoz', 1), ('hecho', 111)]\n",
      "hermano [('permano', 1), ('ermano', 1), ('hermanodi', 1), ('mermano', 1), ('hermano', 48), ('hermanao', 1), ('hermanito', 2)]\n",
      "paz [('paiz', 1), ('paz', 825), ('pau', 1)]\n",
      "hermana [('miermana', 1), ('hermana', 34), ('ermana', 2)]\n",
      "manera [('maera', 1), ('manera', 44), ('anera', 1)]\n",
      "humanos [('humanos', 17), ('umanos', 1), ('humanso', 1)]\n",
      "gran [('gran', 33), ('grn', 1), ('gram', 1)]\n",
      "decirle [('decirles', 1), ('decirlo', 2), ('decirle', 5), ('desirle', 3), ('decirme', 1)]\n",
      "entonces [('entonces', 41), ('entoses', 1), ('entoces', 1)]\n",
      "hagan [('haigan', 1), ('hagan', 2), ('haygan', 1), ('agan', 1)]\n",
      "problema [('prolema', 1), ('prodlema', 1), ('problema', 28)]\n",
      "nuestra [('nuetsra', 1), ('nuestra', 63), ('nuestrar', 1)]\n",
      "que [('quñe', 1), ('qeu', 1), ('q´', 1), ('qu', 3), ('qye', 2), ('que', 1738), ('aue', 1)]\n",
      "hicieron [('hisieron', 1), ('isieron', 1), ('hicieron', 11)]\n",
      "ayudo [('alludo', 2), ('ayudo', 16)]\n",
      "compañeros [('compañeritos', 1), ('compañeros', 55), ('companeros', 2)]\n",
      "hay [('hiy', 1), ('ahy', 1), ('hai', 1), ('hqy', 1), ('hay', 74), ('cay', 2)]\n",
      "sola [('sola', 10), ('lola', 3)]\n",
      "rugby [('rugby', 1), ('rurby', 2)]\n",
      "errores [('erroresñ', 1), ('errores', 15), ('herrores', 1)]\n",
      "colombiano [('colombbia', 1), ('colombiano', 7), ('colombia', 58)]\n",
      "empezamos [('empesamos', 2), ('empezamos', 7)]\n",
      "iba [('hiba', 1), ('hiva', 2), ('iba', 26)]\n",
      "paciencia [('pasiencia', 3), ('paciencia', 8), ('pazciencia', 1)]\n",
      "reconciliamos [('reconcialiamos', 1), ('reconsiliamos', 1), ('reconciliamos', 7)]\n",
      "peleo [('pelio', 2), ('peleo', 4)]\n",
      "paso [('pas', 18), ('paso', 31)]\n",
      "sientas [('siertas', 2), ('sientas', 2)]\n",
      "ella [('ella', 124), ('eela', 1), ('ells', 1)]\n",
      "inconveniente [('inconciente', 1), ('inconveniente', 2), ('incoveniente', 1)]\n",
      "decision [('desicion', 6), ('decision', 19)]\n",
      "honestidad [('onestidad', 1), ('honestidad', 3), ('autohonestidad', 1)]\n",
      "por [('por', 607), ('port', 1), ('pore', 1)]\n",
      "mejores [('amejores', 1), ('mejores', 25), ('megores', 1)]\n",
      "estaba [('estaba', 111), ('staba', 1), ('estava', 5)]\n",
      "comunidad [('cmunidad', 1), ('comunidad', 36), ('comunida', 1), ('comunidar', 1)]\n",
      "fue [('fur', 1), ('fuel', 1), ('fuy', 2), ('fue', 172)]\n",
      "nuestro [('nuetsro', 1), ('nuestro', 45), ('nuesto', 1)]\n",
      "peleaba [('peleaba', 3), ('peliaba', 2)]\n",
      "partir [('partir', 13), ('apartir', 2)]\n",
      "brava [('braba', 4), ('brava', 2)]\n",
      "consientes [('concientes', 2), ('consientes', 1)]\n",
      "campesinos [('campesinosas', 2), ('compesinosas', 1), ('campesinos', 1), ('canpesinos', 1)]\n",
      "padre [('padre', 45), ('pradre', 2)]\n",
      "señor [('ceñor', 1), ('senor', 1), ('señir', 1), ('señor', 18), ('seño', 1)]\n",
      "pelee [('pelie', 13), ('pelee', 4)]\n",
      "asi [('haci', 6), ('asi', 97)]\n",
      "diferencias [('diferents', 1), ('diferencias', 33), ('difirencias', 1)]\n",
      "mala [('amala', 1), ('mala', 5), ('mila', 1)]\n",
      "verlo [('verlos', 1), ('verla', 6), ('vurlo', 1)]\n",
      "guerra [('guerr', 1), ('guerra', 36), ('gerra', 1)]\n",
      "bien [('boen', 1), ('bien', 52), ('vien', 1), ('biem', 1)]\n",
      "hubo [('hugo', 2), ('huvo', 1), ('hubo', 14)]\n",
      "pelear [('peliar', 11), ('pelear', 29)]\n",
      "persona [('personita', 1), ('pesona', 1), ('person', 2), ('persona', 73)]\n",
      "sanar [('sanar', 4), ('sanarse', 2)]\n",
      "tolerar [('tolerarnos', 2), ('tolerar', 8)]\n",
      "comparte [('comparate', 2), ('comparte', 2), ('comprarte', 1)]\n",
      "haber [('haver', 1), ('aver', 2), ('haber', 15)]\n",
      "con [('co', 2), ('cons', 1), ('con', 888)]\n",
      "perra [('pegra', 2), ('perra', 4)]\n",
      "compañera [('campañero', 1), ('comañera', 1), ('companera', 1), ('compañera', 24)]\n",
      "sera [('sara', 2), ('sera', 8)]\n",
      "repente [('reoente', 1), ('derrepente', 1), ('repente', 9)]\n",
      "grupo [('grupo', 44), ('gruto', 1), ('grypo', 1)]\n",
      "diciendo [('disiendo', 2), ('diciendo', 2)]\n"
     ]
    }
   ],
   "source": [
    "def all_correct(spellings):\n",
    "    return all(map(lambda x: x in lexicon or es.check(x), [x for x, y in spellings]))\n",
    "\n",
    "for w in spelling_map:\n",
    "    if len(w) > 2 and len(spelling_map[w]) > 1 and not all_correct(spelling_map[w]):\n",
    "        incorrect_sum = sum(n for (p, n) in spelling_map[w] if p != w)\n",
    "#         correct_sum = sum(n for (p, n) in spelling_map[w] if p == w)\n",
    "#         total_sum = incorrect_sum + correct_sum\n",
    "        if incorrect_sum > 1:\n",
    "            print(w, spelling_map[w])"
   ]
  },
  {
   "cell_type": "markdown",
   "metadata": {},
   "source": [
    "### Common errors\n",
    "\n",
    "#### h\n",
    "ahora [('haora', 4), ('ahora', 52), ('ahoran', 1)]<br>\n",
    "asi [('asi', 97), ('haci', 6)]<br>\n",
    "era [('tra', 1), ('hera', 1), ('dra', 1), ('sra', 2), ('era', 115)]<br>\n",
    "errores [('herrores', 1), ('errores', 15), ('erroresñ', 1)]<br>\n",
    "eso [('etso', 1), ('iso', 1), ('heso', 1), ('edo', 1), ('eso', 70)]<br>\n",
    "haber [('haver', 1), ('aver', 2), ('haber', 15)]<br>\n",
    "habia [('habia', 63), ('abia', 1), ('havia', 5)]<br>\n",
    "hace [('haci', 6), ('face', 1), ('hace', 66)]<br>\n",
    "hacer [('hacer', 90), ('aser', 3), ('haser', 1), ('acer', 1)]<br>\n",
    "hagan [('haygan', 1), ('hagan', 2), ('agan', 1), ('haigan', 1)]<br>\n",
    "hermana [('hermana', 34), ('ermana', 2), ('miermana', 1)]<br>\n",
    "hermano [('hermanodi', 1), ('hermanito', 2), ('ermano', 1), ('hermano', 48), ('permano', 1), ('hermanao', 1), ('mermano', 1)]<br>\n",
    "hija [('hija', 30), ('hiba', 1), ('hiva', 2)] # iba<br>\n",
    "hice [('hice', 22), ('hise', 2), ('ise', 2)]<br>\n",
    "hicieron [('isieron', 1), ('hisieron', 1), ('hicieron', 11)]<br>\n",
    "honestidad [('onestidad', 1), ('honestidad', 3), ('autohonestidad', 1)]<br>\n",
    "humanos [('humanos', 17), ('umanos', 1), ('humanso', 1)]<br>\n",
    "iban [('hiban', 1), ('iban', 6), ('ivan', 2)]<br>\n",
    "\n",
    "#### s/c/z\n",
    "aveces [('abeses', 3), ('aveces', 2)]<br>\n",
    "bicicleta [('bicicleta', 1), ('bicilecto', 1), ('bisicleta', 1)]<br>\n",
    "ceder [('ceder', 4), ('seder', 1), ('1ceder', 1)]<br>\n",
    "consientes [('consientes', 1), ('concientes', 2)]<br>\n",
    "decidimos [('desidimos', 4), ('decidimos', 32)]<br>\n",
    "decirle [('decirles', 1), ('decirlo', 2), ('desirle', 3), ('decirle', 5), ('decirme', 1)]<br>\n",
    "decision [('desicion', 6), ('decision', 19)]<br>\n",
    "diciendo [('diciendo', 2), ('disiendo', 2)]<br>\n",
    "discapacidad [('discapasidades', 1), ('discap', 1), ('discapacidad', 4)]<br>\n",
    "empezamos [('empezamos', 7), ('empesamos', 2)]<br>\n",
    "empezar [('empezar', 10), ('empeze', 1), ('empesar', 1)]<br>\n",
    "entonces [('entoses', 1), ('entoces', 1), ('entonces', 41)]<br>\n",
    "hace [('haci', 6), ('face', 1), ('hace', 66)]<br>\n",
    "hacer [('hacer', 90), ('aser', 3), ('haser', 1), ('acer', 1)]<br>\n",
    "hecho [('hecho', 111), ('hechoz', 1), ('decho', 1)]<br>\n",
    "hice [('hice', 22), ('hise', 2), ('ise', 2)]<br>\n",
    "hicieron [('isieron', 1), ('hisieron', 1), ('hicieron', 11)]<br>\n",
    "hizo [('hize', 2), ('hiso', 3), ('hizo', 33)]<br>\n",
    "hubo [('hubo', 14), ('hugo', 2), ('huvo', 1)]<br>\n",
    "necesita [('necesita', 14), ('nevesita', 1), ('nesecita', 1)]<br>\n",
    "necesitamos [('necesitamos', 6), ('nesecitamos', 1), ('nesesitamos', 1)]<br>\n",
    "paciencia [('paciencia', 8), ('pasiencia', 3), ('pazciencia', 1)]<br>\n",
    "paz [('paz', 825), ('paiz', 1), ('pau', 1)]<br>\n",
    "reconciliacion [('reconsiliacion', 6), ('reconciliacion', 49)]<br>\n",
    "reconciliamos [('reconsiliamos', 1), ('reconcialiamos', 1), ('reconciliamos', 7)]<br>\n",
    "sed [('sed', 1), ('sedi', 2)] # cedí<br>\n",
    "señor [('senor', 1), ('señor', 18), ('seño', 1), ('señir', 1), ('ceñor', 1)]<br>\n",
    "sientas [('sientas', 2), ('siertas', 2)]<br>\n",
    "triste [('tristesa', 1), ('triste', 18), ('trizte', 1)]<br>\n",
    "\n",
    "#### b/v\n",
    "aveces [('abeses', 3), ('aveces', 2)]<br>\n",
    "bien [('bien', 52), ('biem', 1), ('boen', 1), ('vien', 1)]<br>\n",
    "brava [('braba', 4), ('brava', 2)]<br>\n",
    "estaba [('estaba', 111), ('estava', 5), ('staba', 1)]<br>\n",
    "estuvimos [('estuvimos', 4), ('estubimos', 2)]<br>\n",
    "haber [('haver', 1), ('aver', 2), ('haber', 15)]<br>\n",
    "habia [('habia', 63), ('abia', 1), ('havia', 5)]<br>\n",
    "hija [('hija', 30), ('hiba', 1), ('hiva', 2)] # iba<br>\n",
    "ibamos [('ibamos', 7), ('hibamos', 2), ('ivamos', 2)]<br>\n",
    "iban [('hiban', 1), ('iban', 6), ('ivan', 2)]<br>\n",
    "tuve [('tube', 6), ('tuve', 39)]<br>\n",
    "viene [('biene', 2), ('viene', 3)]<br>\n",
    "\n",
    "#### g/j\n",
    "mejores [('megores', 1), ('mejores', 25), ('amejores', 1)]<br>\n",
    "\n",
    "#### haber\n",
    "haber [('haver', 1), ('aver', 2), ('haber', 15)]<br>\n",
    "habia [('habia', 63), ('abia', 1), ('havia', 5)]<br>\n",
    "hagan [('haygan', 1), ('hagan', 2), ('agan', 1), ('haigan', 1)]<br>\n",
    "hay [('cay', 2), ('hay', 74), ('hqy', 1), ('hai', 1), ('ahy', 1), ('hiy', 1)]<br>\n",
    "hubo [('hubo', 14), ('hugo', 2), ('huvo', 1)]<br>\n",
    "\n",
    "#### joined words\n",
    "partir [('partir', 13), ('apartir', 2)]<br>\n",
    "aveces [('abeses', 3), ('aveces', 2)]<br>\n",
    "los [('los', 687), ('alos', 3), ('loq', 2)]<br>\n",
    "encontrar [('encontrat', 1), ('encontra', 1), ('encontrar', 17)] # en contra<br>\n",
    "hermana [('hermana', 34), ('ermana', 2), ('miermana', 1)]<br>\n",
    "hermano [('hermanodi', 1), ('hermanito', 2), ('ermano', 1), ('hermano', 48), ('permano', 1), ('hermanao', 1), ('mermano', 1)]<br>\n",
    "partir [('apartir', 2), ('partir', 13)]<br>\n",
    "pelea [('pelea', 51), ('pelia', 1), ('lapelea', 1)]<br>\n",
    "repente [('reoente', 1), ('derrepente', 1), ('repente', 9)]<br>\n",
    "violencia [('violence', 1), ('violencia', 57), ('laviolencia', 1)]<br>\n",
    "\n",
    "#### i/e\n",
    "diferencias [('diferencias', 33), ('diferents', 1), ('difirencias', 1)]<br>\n",
    "pelea [('pelea', 51), ('pelia', 1), ('lapelea', 1)]<br>\n",
    "peleaba [('peliaba', 2), ('peleaba', 3)]<br>\n",
    "peleado [('peleado', 7), ('peliado', 2)]<br>\n",
    "peleamos [('peleamos', 9), ('peliamos', 4)]<br>\n",
    "pelear [('peliar', 11), ('pelear', 29)]<br>\n",
    "pelearan [('pelearan', 3), ('peliabaran', 1), ('peliaran', 2)]<br>\n",
    "pelee [('pelie', 13), ('pelee', 4)]<br>\n",
    "peleo [('pelio', 2), ('peleo', 4)]<br>\n",
    "\n",
    "#### order\n",
    "aunque [('aunque', 19), ('auqnue', 2)]<br>\n",
    "haciendo [('haciendo', 17), ('haciedno', 1), ('baciendo', 1)]<br>\n",
    "humanos [('humanos', 17), ('umanos', 1), ('humanso', 1)]<br>\n",
    "nuestra [('nuestra', 63), ('nuetsra', 1), ('nuestrar', 1)]<br>\n",
    "nuestro [('nuesto', 1), ('nuetsro', 1), ('nuestro', 45)]<br>\n",
    "nuestros [('nuestros', 31), ('nuetsros', 1), ('cuestros', 1)]<br>\n",
    "que [('qeu', 1), ('aue', 1), ('qu', 3), ('qye', 2), ('q´', 1), ('que', 1738), ('quñe', 1)]<br>\n",
    "\n",
    "#### y/ll\n",
    "ayudo [('ayudo', 16), ('alludo', 2)]<br>\n",
    "\n",
    "#### ñ\n",
    "compañera [('comañera', 1), ('companera', 1), ('compañera', 24), ('campañero', 1)]<br>\n",
    "compañeros [('compañeros', 55), ('companeros', 2), ('compañeritos', 1)]<br>\n",
    "niña [('nina', 1), ('ninña', 1), ('niña', 30)]<br>\n",
    "niños [('ninños', 1), ('nigos', 1), ('niños', 99), ('niñes', 1), ('ninos', 1)]<br>\n",
    "señor [('senor', 1), ('señor', 18), ('seño', 1), ('señir', 1), ('ceñor', 1)]<br>\n",
    "\n",
    "#### d/b\n",
    "problema [('problema', 28), ('prolema', 1), ('prodlema', 1)]<br>\n",
    "\n",
    "#### others\n",
    "amistad [('amitad', 1), ('amistad', 27), ('amisgyad', 1)]<br>\n",
    "campesinos [('canpesinos', 1), ('compesinosas', 1), ('campesinosas', 2), ('campesinos', 1)]<br>\n",
    "colombiano [('colombiano', 7), ('colombbia', 1), ('colombia', 58)]<br>\n",
    "comunidad [('cmunidad', 1), ('comunida', 1), ('comunidad', 36), ('comunidar', 1)]<br>\n",
    "consciente [('conciente', 2), ('consciente', 3)]<br>\n",
    "demos [('demos', 2), ('bemos', 3)]<br>\n",
    "fue [('fuy', 2), ('fur', 1), ('fuel', 1), ('fue', 172)]<br>\n",
    "guerra [('guerr', 1), ('gerra', 1), ('guerra', 36)]<br>\n",
    "oportunidad [('oportunidad', 31), ('poprtunidades', 1), ('oportunidade', 1), ('oportunida', 1)]<br>\n",
    "padre [('pradre', 2), ('padre', 45)]<br>\n",
    "pego [('pego', 12), ('pege', 2)]<br>\n",
    "perra [('perra', 4), ('pegra', 2)]<br>\n",
    "persona [('person', 2), ('pesona', 1), ('personita', 1), ('persona', 73)]<br>\n",
    "queremos [('quieremos', 1), ('querñuamos', 1), ('queremos', 5)]<br>\n",
    "rugby [('rurby', 2), ('rugby', 1)]"
   ]
  },
  {
   "cell_type": "markdown",
   "metadata": {},
   "source": [
    "## n-grams"
   ]
  },
  {
   "cell_type": "code",
   "execution_count": 69,
   "metadata": {
    "collapsed": true
   },
   "outputs": [],
   "source": [
    "def all_stopwords(ngrm):\n",
    "    return all(map(lambda x: x in stop_words, ngrm))"
   ]
  },
  {
   "cell_type": "code",
   "execution_count": 70,
   "metadata": {
    "collapsed": true
   },
   "outputs": [],
   "source": [
    "def my_ngrams(tokens):\n",
    "    ngrms = []\n",
    "    for i in range(1, 3 + 1):\n",
    "        ngrms_aux = [ngrm for ngrm in ngrams(tokens, i) if not all_stopwords(ngrm)]\n",
    "        ngrms.extend(ngrms_aux)\n",
    "    return ngrms"
   ]
  },
  {
   "cell_type": "code",
   "execution_count": 71,
   "metadata": {
    "collapsed": false
   },
   "outputs": [],
   "source": [
    "total_unigrams = []\n",
    "total_bigrams = []\n",
    "total_trigrams = []\n",
    "for k in d:\n",
    "    clean_title_words = [correct_spelling[w] for w in word_tokenize(normalize(d[k]['title']))]\n",
    "    clean_description_words = [correct_spelling[w] for w in word_tokenize(normalize(d[k]['description']))]\n",
    "    title_ngrams = my_ngrams(clean_title_words)\n",
    "    description_ngrams = my_ngrams(clean_description_words)\n",
    "    text_ngrams = title_ngrams + description_ngrams\n",
    "    total_unigrams.extend(ngrm for ngrm in text_ngrams if len(ngrm) == 1)\n",
    "    total_bigrams.extend(ngrm for ngrm in text_ngrams if len(ngrm) == 2)\n",
    "    total_trigrams.extend(ngrm for ngrm in text_ngrams if len(ngrm) == 3)"
   ]
  },
  {
   "cell_type": "code",
   "execution_count": 72,
   "metadata": {
    "collapsed": false
   },
   "outputs": [],
   "source": [
    "tuni = Counter(total_unigrams)"
   ]
  },
  {
   "cell_type": "code",
   "execution_count": 73,
   "metadata": {
    "collapsed": false
   },
   "outputs": [
    {
     "data": {
      "text/plain": [
       "[(('paz',), 827),\n",
       " (('dia',), 303),\n",
       " (('familia',), 183),\n",
       " (('vida',), 170),\n",
       " (('personas',), 165),\n",
       " (('ser',), 161),\n",
       " (('amor',), 128),\n",
       " (('mejor',), 123),\n",
       " (('hecho',), 113),\n",
       " (('asi',), 103),\n",
       " (('niños',), 103),\n",
       " (('solo',), 102),\n",
       " (('perdon',), 101),\n",
       " (('despues',), 101),\n",
       " (('años',), 100),\n",
       " (('colegio',), 98),\n",
       " (('cada',), 98),\n",
       " (('casa',), 96),\n",
       " (('hacer',), 95),\n",
       " (('siempre',), 88),\n",
       " (('tiempo',), 86),\n",
       " (('mama',), 78),\n",
       " (('año',), 78),\n",
       " (('persona',), 77),\n",
       " (('amigos',), 75),\n",
       " (('cosas',), 67),\n",
       " (('hace',), 67),\n",
       " (('demas',), 66),\n",
       " (('respeto',), 66),\n",
       " (('colombiano',), 66),\n",
       " (('perdonar',), 64),\n",
       " (('hogar',), 64),\n",
       " (('tener',), 63),\n",
       " (('mal',), 63),\n",
       " (('pais',), 61),\n",
       " (('momento',), 60),\n",
       " (('dos',), 60),\n",
       " (('violencia',), 59),\n",
       " (('dias',), 58),\n",
       " (('corazon',), 58),\n",
       " (('compañeros',), 58),\n",
       " (('hoy',), 57),\n",
       " (('ahora',), 57),\n",
       " (('trabajo',), 57),\n",
       " (('dije',), 56),\n",
       " (('cuenta',), 56),\n",
       " (('reconciliacion',), 55),\n",
       " (('hablar',), 55),\n",
       " (('hermano',), 55),\n",
       " (('amiga',), 55),\n",
       " (('mundo',), 55),\n",
       " (('ayudar',), 55),\n",
       " (('bien',), 55),\n",
       " (('ver',), 54),\n",
       " (('pelea',), 53),\n",
       " (('social',), 53),\n",
       " (('conflicto',), 52),\n",
       " (('luego',), 52),\n",
       " (('vez',), 52),\n",
       " (('medio',), 50),\n",
       " (('hacia',), 50),\n",
       " (('ayuda',), 49),\n",
       " (('niño',), 49),\n",
       " (('calle',), 49),\n",
       " (('paso',), 49),\n",
       " (('problemas',), 48),\n",
       " (('decidi',), 47),\n",
       " (('padre',), 47),\n",
       " (('parte',), 47),\n",
       " (('grupo',), 46),\n",
       " (('gente',), 46),\n",
       " (('manera',), 46),\n",
       " (('mismo',), 45),\n",
       " (('feliz',), 45),\n",
       " (('entonces',), 43),\n",
       " (('tolerancia',), 43),\n",
       " (('poder',), 43),\n",
       " (('pues',), 42),\n",
       " (('dijo',), 42),\n",
       " (('padres',), 42),\n",
       " (('vivir',), 41),\n",
       " (('conflictos',), 41),\n",
       " (('situacion',), 40),\n",
       " (('pelear',), 40),\n",
       " (('forma',), 40),\n",
       " (('dios',), 40),\n",
       " (('papa',), 40),\n",
       " (('comunidad',), 39),\n",
       " (('hizo',), 38),\n",
       " (('hijos',), 38),\n",
       " (('guerra',), 38),\n",
       " (('animales',), 37),\n",
       " (('hermana',), 37),\n",
       " (('amigo',), 37),\n",
       " (('madre',), 37),\n",
       " (('decidimos',), 36),\n",
       " (('di',), 36),\n",
       " (('importante',), 36),\n",
       " (('dialogo',), 35),\n",
       " (('gran',), 35),\n",
       " (('toda',), 35),\n",
       " (('ciudad',), 35),\n",
       " (('conmigo',), 35),\n",
       " (('convivencia',), 35),\n",
       " (('dio',), 35),\n",
       " (('diferencias',), 35),\n",
       " (('puede',), 34),\n",
       " (('queria',), 34),\n",
       " (('proceso',), 34),\n",
       " (('sociedad',), 34),\n",
       " (('cambio',), 34),\n",
       " (('oportunidad',), 34),\n",
       " (('amigas',), 34),\n",
       " (('sino',), 33),\n",
       " (('acto',), 33),\n",
       " (('q',), 33),\n",
       " (('alguien',), 32),\n",
       " (('educacion',), 32),\n",
       " (('rencor',), 32),\n",
       " (('muchas',), 32),\n",
       " (('lugar',), 32),\n",
       " (('niña',), 32),\n",
       " (('diferentes',), 31),\n",
       " (('ambiente',), 31),\n",
       " (('hijo',), 31),\n",
       " (('quiero',), 30),\n",
       " (('veces',), 30),\n",
       " (('sido',), 30),\n",
       " (('entender',), 30),\n",
       " (('problema',), 30),\n",
       " (('hija',), 30),\n",
       " (('decir',), 29),\n",
       " (('buena',), 29),\n",
       " (('pasado',), 29),\n",
       " (('darle',), 29),\n",
       " (('amistad',), 29),\n",
       " (('iba',), 29),\n",
       " (('gracias',), 29),\n",
       " (('dar',), 28),\n",
       " (('creo',), 28),\n",
       " (('senti',), 28),\n",
       " (('llegar',), 27),\n",
       " (('llego',), 27),\n",
       " (('compañera',), 27),\n",
       " (('misma',), 27),\n",
       " (('mejores',), 27),\n",
       " (('seres',), 27),\n",
       " (('dimos',), 26),\n",
       " (('hice',), 26),\n",
       " (('historia',), 26),\n",
       " (('compartir',), 26),\n",
       " (('mayor',), 26),\n",
       " (('estudiantes',), 26),\n",
       " (('hechos',), 26),\n",
       " (('todas',), 26),\n",
       " (('debemos',), 26),\n",
       " (('tan',), 26),\n",
       " (('debe',), 26),\n",
       " (('decision',), 25),\n",
       " (('dejar',), 25),\n",
       " (('aun',), 25),\n",
       " (('alegria',), 25),\n",
       " (('jovenes',), 25),\n",
       " (('vi',), 25),\n",
       " (('interior',), 24),\n",
       " (('fuerte',), 24),\n",
       " (('saber',), 24),\n",
       " (('perrito',), 24),\n",
       " (('aprender',), 24),\n",
       " (('palabras',), 24),\n",
       " (('sentir',), 24),\n",
       " (('barrio',), 24),\n",
       " (('familiar',), 24),\n",
       " (('llevo',), 24),\n",
       " (('pensar',), 24),\n",
       " (('compañero',), 24),\n",
       " (('clase',), 24),\n",
       " (('construir',), 24),\n",
       " (('armonia',), 23),\n",
       " (('mujer',), 23),\n",
       " (('discusion',), 23),\n",
       " (('solucion',), 23),\n",
       " (('tranquilidad',), 23),\n",
       " (('pueblo',), 22),\n",
       " (('señor',), 22),\n",
       " (('agua',), 22),\n",
       " (('hombre',), 22),\n",
       " (('camino',), 22),\n",
       " (('perdone',), 22),\n",
       " (('mucha',), 21),\n",
       " (('bogota',), 21),\n",
       " (('gato',), 21),\n",
       " (('aunque',), 21),\n",
       " (('hablamos',), 21),\n",
       " (('pesar',), 21),\n",
       " (('hacerlo',), 21),\n",
       " (('encontre',), 21),\n",
       " (('valores',), 21),\n",
       " (('niñas',), 21),\n",
       " (('sonrisa',), 21)]"
      ]
     },
     "execution_count": 73,
     "metadata": {},
     "output_type": "execute_result"
    }
   ],
   "source": [
    "tuni.most_common(200)"
   ]
  },
  {
   "cell_type": "code",
   "execution_count": 74,
   "metadata": {
    "collapsed": false
   },
   "outputs": [],
   "source": [
    "tbi = Counter(total_bigrams)"
   ]
  },
  {
   "cell_type": "code",
   "execution_count": 75,
   "metadata": {
    "collapsed": false
   },
   "outputs": [
    {
     "data": {
      "text/plain": [
       "[(('la', 'paz'), 447),\n",
       " (('de', 'paz'), 158),\n",
       " (('un', 'dia'), 141),\n",
       " (('paz', 'es'), 81),\n",
       " (('las', 'personas'), 73),\n",
       " (('mi', 'familia'), 72),\n",
       " (('paz', 'en'), 64),\n",
       " (('hecho', 'de'), 64),\n",
       " (('la', 'vida'), 62),\n",
       " (('despues', 'de'), 59),\n",
       " (('en', 'paz'), 58),\n",
       " (('mi', 'mama'), 55),\n",
       " (('paz', 'y'), 52),\n",
       " (('los', 'demas'), 50),\n",
       " (('los', 'niños'), 49),\n",
       " (('personas', 'que'), 44),\n",
       " (('mi', 'hermano'), 44),\n",
       " (('la', 'familia'), 44),\n",
       " (('la', 'calle'), 43),\n",
       " (('asi', 'que'), 42),\n",
       " (('el', 'colegio'), 40),\n",
       " (('le', 'dije'), 39),\n",
       " (('mi', 'vida'), 36),\n",
       " (('un', 'grupo'), 36),\n",
       " (('grupo', 'de'), 35),\n",
       " (('el', 'amor'), 33),\n",
       " (('un', 'hecho'), 33),\n",
       " (('la', 'violencia'), 33),\n",
       " (('ayudar', 'a'), 33),\n",
       " (('el', 'perdon'), 32),\n",
       " (('medio', 'de'), 32),\n",
       " (('el', 'año'), 32),\n",
       " (('mis', 'compañeros'), 32),\n",
       " (('parte', 'de'), 31),\n",
       " (('paz', 'con'), 31),\n",
       " (('mi', 'hermana'), 31),\n",
       " (('el', 'dia'), 31),\n",
       " (('cuenta', 'que'), 29),\n",
       " (('ese', 'dia'), 29),\n",
       " (('mi', 'padre'), 28),\n",
       " (('mi', 'casa'), 28),\n",
       " (('mi', 'papa'), 28),\n",
       " (('una', 'persona'), 27),\n",
       " (('perdon', 'y'), 26),\n",
       " (('dije', 'que'), 25),\n",
       " (('el', 'respeto'), 25),\n",
       " (('la', 'gente'), 25),\n",
       " (('acto', 'de'), 25),\n",
       " (('paz', 'desde'), 25),\n",
       " (('una', 'amiga'), 24),\n",
       " (('las', 'cosas'), 24),\n",
       " (('ayuda', 'a'), 24),\n",
       " (('forma', 'de'), 24),\n",
       " (('familia', 'y'), 24),\n",
       " (('cada', 'uno'), 23),\n",
       " (('la', 'ciudad'), 23),\n",
       " (('la', 'oportunidad'), 23),\n",
       " (('el', 'corazon'), 23),\n",
       " (('mis', 'padres'), 23),\n",
       " (('dijo', 'que'), 22),\n",
       " (('el', 'mundo'), 22),\n",
       " (('proceso', 'de'), 22),\n",
       " (('a', 'ser'), 22),\n",
       " (('un', 'niño'), 22),\n",
       " (('amor', 'y'), 22),\n",
       " (('la', 'casa'), 21),\n",
       " (('mi', 'mejor'), 21),\n",
       " (('vida', 'y'), 21),\n",
       " (('mi', 'hecho'), 21),\n",
       " (('del', 'colegio'), 21),\n",
       " (('luego', 'de'), 21),\n",
       " (('y', 'despues'), 21),\n",
       " (('paz', 'se'), 21),\n",
       " (('ese', 'momento'), 21),\n",
       " (('los', 'dias'), 21),\n",
       " (('y', 'años'), 20),\n",
       " (('los', 'animales'), 20),\n",
       " (('a', 'traves'), 20),\n",
       " (('cosas', 'que'), 20),\n",
       " (('un', 'amigo'), 20),\n",
       " (('por', 'medio'), 20),\n",
       " (('de', 'vida'), 20),\n",
       " (('todas', 'las'), 20),\n",
       " (('me', 'dijo'), 20),\n",
       " (('llegar', 'a'), 19),\n",
       " (('este', 'año'), 19),\n",
       " (('toda', 'la'), 19),\n",
       " (('mi', 'madre'), 19),\n",
       " (('la', 'comunidad'), 19),\n",
       " (('la', 'mejor'), 19),\n",
       " (('cada', 'dia'), 18),\n",
       " (('la', 'guerra'), 18),\n",
       " (('para', 'poder'), 18),\n",
       " (('y', 'amor'), 18),\n",
       " (('paz', 'no'), 18),\n",
       " (('no', 'solo'), 18),\n",
       " (('el', 'tiempo'), 18),\n",
       " (('de', 'ser'), 18),\n",
       " (('pesar', 'de'), 17),\n",
       " (('mama', 'y'), 17),\n",
       " (('dia', 'a'), 17),\n",
       " (('di', 'cuenta'), 17),\n",
       " (('oportunidad', 'de'), 17),\n",
       " (('una', 'niña'), 17),\n",
       " (('y', 'ahora'), 17),\n",
       " (('pelea', 'con'), 17),\n",
       " (('dia', 'en'), 17),\n",
       " (('en', 'colombiano'), 17),\n",
       " (('me', 'di'), 17),\n",
       " (('casa', 'y'), 17),\n",
       " (('la', 'amistad'), 17),\n",
       " (('en', 'medio'), 16),\n",
       " (('niños', 'y'), 16),\n",
       " (('traves', 'de'), 16),\n",
       " (('reconciliacion', 'con'), 16),\n",
       " (('una', 'vez'), 16),\n",
       " (('paz', 'la'), 16),\n",
       " (('una', 'pelea'), 16),\n",
       " (('sin', 'embargo'), 16),\n",
       " (('mi', 'hijo'), 16),\n",
       " (('a', 'perdonar'), 16),\n",
       " (('saber', 'que'), 16),\n",
       " (('a', 'pesar'), 16),\n",
       " (('la', 'tolerancia'), 16),\n",
       " (('la', 'educacion'), 15),\n",
       " (('una', 'familia'), 15),\n",
       " (('el', 'conflicto'), 15),\n",
       " (('aprender', 'a'), 15),\n",
       " (('mis', 'hijos'), 15),\n",
       " (('persona', 'que'), 15),\n",
       " (('mis', 'amigos'), 15),\n",
       " (('me', 'dio'), 15),\n",
       " (('la', 'sociedad'), 15),\n",
       " (('hablar', 'con'), 15),\n",
       " (('volver', 'a'), 15),\n",
       " (('colegio', 'y'), 15),\n",
       " (('le', 'di'), 15),\n",
       " (('pelee', 'con'), 15),\n",
       " (('el', 'niño'), 15),\n",
       " (('mejor', 'amiga'), 15),\n",
       " (('dia', 'de'), 15),\n",
       " (('un', 'momento'), 15),\n",
       " (('un', 'hogar'), 15),\n",
       " (('amigos', 'y'), 15),\n",
       " (('la', 'universidad'), 15),\n",
       " (('en', 'dia'), 15),\n",
       " (('paz', 'empieza'), 14),\n",
       " (('mi', 'hija'), 14),\n",
       " (('dia', 'me'), 14),\n",
       " (('los', 'dos'), 14),\n",
       " (('un', 'problema'), 14),\n",
       " (('años', 'de'), 14),\n",
       " (('una', 'compañera'), 14),\n",
       " (('creo', 'que'), 14),\n",
       " (('nos', 'dimos'), 14),\n",
       " (('ha', 'sido'), 14),\n",
       " (('hoy', 'en'), 14),\n",
       " (('niños', 'de'), 14),\n",
       " (('un', 'perrito'), 14),\n",
       " (('y', 'asi'), 14),\n",
       " (('el', 'dialogo'), 14),\n",
       " (('la', 'reconciliacion'), 14),\n",
       " (('la', 'naturaleza'), 14),\n",
       " (('paz', 'para'), 14),\n",
       " (('vivir', 'en'), 13),\n",
       " (('entender', 'que'), 13),\n",
       " (('al', 'ver'), 13),\n",
       " (('mi', 'corazon'), 13),\n",
       " (('a', 'veces'), 13),\n",
       " (('su', 'vida'), 13),\n",
       " (('de', 'hablar'), 13),\n",
       " (('tener', 'un'), 13),\n",
       " (('a', 'partir'), 13),\n",
       " (('con', 'amor'), 13),\n",
       " (('dia', 'que'), 13),\n",
       " (('años', 'y'), 13),\n",
       " (('calle', 'y'), 13),\n",
       " (('de', 'colombiano'), 13),\n",
       " (('no', 'pelear'), 13),\n",
       " (('me', 'pidio'), 13),\n",
       " (('y', 'paz'), 13),\n",
       " (('de', 'cada'), 13),\n",
       " (('en', 'familia'), 13),\n",
       " (('mucho', 'tiempo'), 13),\n",
       " (('amor', 'a'), 13),\n",
       " (('ayudo', 'a'), 13),\n",
       " (('decision', 'de'), 13),\n",
       " (('una', 'discusion'), 13),\n",
       " (('un', 'pais'), 12),\n",
       " (('iba', 'a'), 12),\n",
       " (('un', 'gato'), 12),\n",
       " (('vida', 'de'), 12),\n",
       " (('un', 'proceso'), 12),\n",
       " (('volvimos', 'a'), 12),\n",
       " (('la', 'pelea'), 12),\n",
       " (('partir', 'de'), 12),\n",
       " (('paz', 'esta'), 12),\n",
       " (('en', 'casa'), 12),\n",
       " (('situacion', 'de'), 12),\n",
       " (('se', 'puede'), 12)]"
      ]
     },
     "execution_count": 75,
     "metadata": {},
     "output_type": "execute_result"
    }
   ],
   "source": [
    "tbi.most_common(200)"
   ]
  },
  {
   "cell_type": "code",
   "execution_count": 76,
   "metadata": {
    "collapsed": false
   },
   "outputs": [],
   "source": [
    "ttri = Counter(total_trigrams)"
   ]
  },
  {
   "cell_type": "code",
   "execution_count": 77,
   "metadata": {
    "collapsed": false
   },
   "outputs": [
    {
     "data": {
      "text/plain": [
       "[(('la', 'paz', 'es'), 59),\n",
       " (('hecho', 'de', 'paz'), 52),\n",
       " (('a', 'la', 'paz'), 36),\n",
       " (('en', 'el', 'colegio'), 33),\n",
       " (('la', 'paz', 'en'), 32),\n",
       " (('un', 'grupo', 'de'), 28),\n",
       " (('a', 'los', 'demas'), 26),\n",
       " (('de', 'la', 'paz'), 23),\n",
       " (('para', 'la', 'paz'), 23),\n",
       " (('que', 'la', 'paz'), 22),\n",
       " (('las', 'personas', 'que'), 22),\n",
       " (('en', 'la', 'calle'), 20),\n",
       " (('un', 'hecho', 'de'), 20),\n",
       " (('a', 'las', 'personas'), 20),\n",
       " (('en', 'el', 'año'), 19),\n",
       " (('con', 'mi', 'hermano'), 19),\n",
       " (('mi', 'hecho', 'de'), 19),\n",
       " (('de', 'la', 'calle'), 18),\n",
       " (('con', 'mi', 'mama'), 18),\n",
       " (('con', 'mi', 'familia'), 18),\n",
       " (('por', 'medio', 'de'), 17),\n",
       " (('a', 'los', 'niños'), 17),\n",
       " (('la', 'paz', 'se'), 17),\n",
       " (('me', 'di', 'cuenta'), 17),\n",
       " (('la', 'paz', 'y'), 16),\n",
       " (('le', 'dije', 'que'), 16),\n",
       " (('a', 'traves', 'de'), 16),\n",
       " (('de', 'paz', 'es'), 16),\n",
       " (('la', 'oportunidad', 'de'), 16),\n",
       " (('todos', 'los', 'dias'), 16),\n",
       " (('la', 'paz', 'desde'), 15),\n",
       " (('en', 'ese', 'momento'), 15),\n",
       " (('en', 'medio', 'de'), 15),\n",
       " (('con', 'mi', 'hermana'), 15),\n",
       " (('la', 'paz', 'con'), 15),\n",
       " (('por', 'la', 'paz'), 15),\n",
       " (('un', 'dia', 'en'), 14),\n",
       " (('la', 'paz', 'no'), 14),\n",
       " (('mi', 'mejor', 'amiga'), 14),\n",
       " (('mi', 'mama', 'y'), 14),\n",
       " (('a', 'pesar', 'de'), 14),\n",
       " (('de', 'paz', 'y'), 14),\n",
       " (('yo', 'le', 'dije'), 13),\n",
       " (('hoy', 'en', 'dia'), 13),\n",
       " (('proceso', 'de', 'paz'), 13),\n",
       " (('a', 'mi', 'mama'), 13),\n",
       " (('la', 'paz', 'la'), 13),\n",
       " (('de', 'la', 'vida'), 13),\n",
       " (('mi', 'familia', 'y'), 12),\n",
       " (('pelea', 'con', 'mi'), 12),\n",
       " (('en', 'mi', 'vida'), 12),\n",
       " (('di', 'cuenta', 'que'), 12),\n",
       " (('un', 'dia', 'me'), 12),\n",
       " (('la', 'paz', 'empieza'), 12),\n",
       " (('la', 'calle', 'y'), 12),\n",
       " (('paz', 'en', 'la'), 12),\n",
       " (('paz', 'en', 'el'), 11),\n",
       " (('dia', 'a', 'dia'), 11),\n",
       " (('de', 'mi', 'vida'), 11),\n",
       " (('a', 'mi', 'casa'), 11),\n",
       " (('con', 'mis', 'compañeros'), 11),\n",
       " (('con', 'mi', 'mejor'), 11),\n",
       " (('el', 'dia', 'que'), 11),\n",
       " (('con', 'la', 'paz'), 11),\n",
       " (('de', 'las', 'personas'), 11),\n",
       " (('en', 'la', 'familia'), 11),\n",
       " (('la', 'paz', 'esta'), 11),\n",
       " (('con', 'una', 'amiga'), 10),\n",
       " (('con', 'un', 'grupo'), 10),\n",
       " (('hacer', 'la', 'paz'), 10),\n",
       " (('en', 'la', 'vida'), 10),\n",
       " (('paz', 'en', 'mi'), 10),\n",
       " (('vivir', 'en', 'paz'), 10),\n",
       " (('es', 'un', 'hecho'), 10),\n",
       " (('la', 'vida', 'y'), 10),\n",
       " (('de', 'la', 'familia'), 10),\n",
       " (('la', 'paz', 'de'), 10),\n",
       " (('y', 'la', 'paz'), 10),\n",
       " (('a', 'partir', 'de'), 10),\n",
       " (('que', 'un', 'dia'), 10),\n",
       " (('pelee', 'con', 'mi'), 9),\n",
       " (('lograr', 'la', 'paz'), 9),\n",
       " (('para', 'ayudar', 'a'), 9),\n",
       " (('me', 'dijo', 'que'), 9),\n",
       " (('de', 'los', 'niños'), 9),\n",
       " (('por', 'parte', 'de'), 9),\n",
       " (('la', 'decision', 'de'), 9),\n",
       " (('reconciliacion', 'con', 'mi'), 9),\n",
       " (('tuve', 'la', 'oportunidad'), 9),\n",
       " (('y', 'despues', 'de'), 9),\n",
       " (('en', 'la', 'ciudad'), 9),\n",
       " (('paz', 'esta', 'en'), 9),\n",
       " (('nos', 'dimos', 'cuenta'), 9),\n",
       " (('un', 'dia', 'estaba'), 9),\n",
       " (('acto', 'de', 'paz'), 9),\n",
       " (('y', 'le', 'dije'), 9),\n",
       " (('en', 'mi', 'colegio'), 9),\n",
       " (('los', 'niños', 'y'), 9),\n",
       " (('en', 'mi', 'familia'), 9),\n",
       " (('una', 'discusion', 'con'), 9),\n",
       " (('un', 'acto', 'de'), 9),\n",
       " (('las', 'demas', 'personas'), 8),\n",
       " (('con', 'los', 'demas'), 8),\n",
       " (('en', 'la', 'universidad'), 8),\n",
       " (('mi', 'casa', 'y'), 8),\n",
       " (('a', 'mi', 'papa'), 8),\n",
       " (('en', 'este', 'año'), 8),\n",
       " (('el', 'amor', 'y'), 8),\n",
       " (('a', 'una', 'persona'), 8),\n",
       " (('y', 'me', 'dio'), 8),\n",
       " (('paz', 'empieza', 'por'), 8),\n",
       " (('el', 'hecho', 'de'), 8),\n",
       " (('para', 'lograr', 'la'), 8),\n",
       " (('el', 'dia', 'de'), 8),\n",
       " (('de', 'la', 'violencia'), 8),\n",
       " (('con', 'las', 'personas'), 8),\n",
       " (('paz', 'es', 'una'), 8),\n",
       " (('los', 'demas', 'y'), 8),\n",
       " (('de', 'la', 'ciudad'), 8),\n",
       " (('con', 'mi', 'padre'), 8),\n",
       " (('mi', 'hermana', 'y'), 8),\n",
       " (('de', 'paz', 'en'), 8),\n",
       " (('hechos', 'de', 'paz'), 8),\n",
       " (('paz', 'es', 'buena'), 7),\n",
       " (('de', 'bajos', 'recursos'), 7),\n",
       " (('parte', 'de', 'la'), 7),\n",
       " (('de', 'mi', 'familia'), 7),\n",
       " (('una', 'persona', 'que'), 7),\n",
       " (('un', 'momento', 'de'), 7),\n",
       " (('familia', 'y', 'yo'), 7),\n",
       " (('a', 'mis', 'padres'), 7),\n",
       " (('la', 'paz', 'comienza'), 7),\n",
       " (('el', 'corazon', 'de'), 7),\n",
       " (('y', 'un', 'dia'), 7),\n",
       " (('gesto', 'de', 'paz'), 7),\n",
       " (('que', 'la', 'gente'), 7),\n",
       " (('el', 'año', 'pasado'), 7),\n",
       " (('cuenta', 'que', 'no'), 7),\n",
       " (('dia', 'en', 'el'), 7),\n",
       " (('mis', 'compañeros', 'y'), 7),\n",
       " (('y', 'el', 'niño'), 7),\n",
       " (('en', 'mi', 'corazon'), 7),\n",
       " (('a', 'un', 'amigo'), 7),\n",
       " (('de', 'la', 'comunidad'), 7),\n",
       " (('paz', 'con', 'el'), 7),\n",
       " (('en', 'mi', 'hogar'), 7),\n",
       " (('en', 'el', 'corazon'), 7),\n",
       " (('todas', 'las', 'personas'), 7),\n",
       " (('mi', 'mama', 'me'), 7),\n",
       " (('a', 'la', 'gente'), 7),\n",
       " (('un', 'proceso', 'de'), 7),\n",
       " (('peleado', 'con', 'mi'), 6),\n",
       " (('mi', 'papa', 'y'), 6),\n",
       " (('mis', 'amigos', 'y'), 6),\n",
       " (('paz', 'es', 'el'), 6),\n",
       " (('con', 'el', 'fin'), 6),\n",
       " (('me', 'pelee', 'con'), 6),\n",
       " (('en', 'paz', 'y'), 6),\n",
       " (('las', 'personas', 'de'), 6),\n",
       " (('y', 'me', 'dijo'), 6),\n",
       " (('ayudar', 'a', 'los'), 6),\n",
       " (('el', 'proceso', 'de'), 6),\n",
       " (('mas', 'alla', 'de'), 6),\n",
       " (('de', 'paz', 'fue'), 6),\n",
       " (('con', 'mi', 'madre'), 6),\n",
       " (('en', 'los', 'zapatos'), 6),\n",
       " (('a', 'mi', 'familia'), 6),\n",
       " (('mi', 'forma', 'de'), 6),\n",
       " (('paz', 'se', 'construye'), 6),\n",
       " (('le', 'pedi', 'perdon'), 6),\n",
       " (('grupo', 'de', 'amigos'), 6),\n",
       " (('cuenta', 'que', 'la'), 6),\n",
       " (('amor', 'y', 'la'), 6),\n",
       " (('en', 'mi', 'casa'), 6),\n",
       " (('con', 'mis', 'padres'), 6),\n",
       " (('en', 'la', 'casa'), 6),\n",
       " (('la', 'construccion', 'de'), 6),\n",
       " (('estar', 'en', 'paz'), 6),\n",
       " (('a', 'perdonar', 'y'), 6),\n",
       " (('traves', 'de', 'la'), 6),\n",
       " (('hasta', 'el', 'dia'), 6),\n",
       " (('el', 'medio', 'ambiente'), 6),\n",
       " (('la', 'paz', 'para'), 6),\n",
       " (('de', 'paz', 'con'), 6),\n",
       " (('con', 'mi', 'papa'), 6),\n",
       " (('lo', 'mas', 'importante'), 6),\n",
       " (('dia', 'de', 'hoy'), 6),\n",
       " (('se', 'disculpo', 'y'), 6),\n",
       " (('el', 'fin', 'de'), 6),\n",
       " (('con', 'el', 'tiempo'), 6),\n",
       " (('a', 'un', 'acuerdo'), 6),\n",
       " (('a', 'los', 'animales'), 6),\n",
       " (('la', 'violencia', 'y'), 6),\n",
       " (('parte', 'de', 'mi'), 6),\n",
       " (('su', 'forma', 'de'), 6),\n",
       " (('la', 'paz', 'que'), 6),\n",
       " (('me', 'pidio', 'perdon'), 6),\n",
       " (('paz', 'desde', 'el'), 6),\n",
       " (('en', 'el', 'campo'), 6),\n",
       " (('mi', 'hermano', 'y'), 6)]"
      ]
     },
     "execution_count": 77,
     "metadata": {},
     "output_type": "execute_result"
    }
   ],
   "source": [
    "ttri.most_common(200)"
   ]
  },
  {
   "cell_type": "markdown",
   "metadata": {},
   "source": [
    "## Animales"
   ]
  },
  {
   "cell_type": "code",
   "execution_count": 78,
   "metadata": {
    "collapsed": true
   },
   "outputs": [],
   "source": [
    "animales = ['animal', 'animalito', 'animales', 'animalitos',\n",
    "            'perro', 'perra', 'perros', 'perras', 'perrito', 'perrita', 'perritos', 'perritas',\n",
    "            'gato', 'gata', 'gatos', 'gatas', 'gatito', 'gatita', 'gatitos', 'gatitas',\n",
    "            'mascota', 'ovejita', 'pez']"
   ]
  },
  {
   "cell_type": "code",
   "execution_count": 79,
   "metadata": {
    "collapsed": true
   },
   "outputs": [],
   "source": [
    "# animales = ['caballo', 'yegua', 'caballito', 'burro', 'burrito', 'oveja',\n",
    "#             'cabra', 'vaquita', 'ovejita', 'vaca', 'cordero', 'corderito',\n",
    "#             'pez', 'pececito', 'cerdo', 'cerdito', 'puerco', 'gallina', 'pollo', 'gallo',\n",
    "#             'pesesito', 'pes']"
   ]
  },
  {
   "cell_type": "code",
   "execution_count": 80,
   "metadata": {
    "collapsed": true
   },
   "outputs": [],
   "source": [
    "total_animales = []\n",
    "for k in d:\n",
    "    text = total_text(d[k])\n",
    "    words = [w for w in word_tokenize(text) if w not in punctuation]\n",
    "    for a in words:\n",
    "        if a in animales:\n",
    "            total_animales.append(a)"
   ]
  },
  {
   "cell_type": "code",
   "execution_count": 81,
   "metadata": {
    "collapsed": false
   },
   "outputs": [
    {
     "data": {
      "text/plain": [
       "169"
      ]
     },
     "execution_count": 81,
     "metadata": {},
     "output_type": "execute_result"
    }
   ],
   "source": [
    "len(total_animales)"
   ]
  },
  {
   "cell_type": "code",
   "execution_count": 82,
   "metadata": {
    "collapsed": false
   },
   "outputs": [],
   "source": [
    "ta = Counter(total_animales)"
   ]
  },
  {
   "cell_type": "code",
   "execution_count": 83,
   "metadata": {
    "collapsed": false
   },
   "outputs": [
    {
     "data": {
      "text/plain": [
       "Counter({'animal': 17,\n",
       "         'animales': 36,\n",
       "         'animalito': 2,\n",
       "         'animalitos': 1,\n",
       "         'gata': 4,\n",
       "         'gatita': 1,\n",
       "         'gatito': 4,\n",
       "         'gatitos': 1,\n",
       "         'gato': 17,\n",
       "         'gatos': 6,\n",
       "         'mascota': 7,\n",
       "         'ovejita': 1,\n",
       "         'perra': 4,\n",
       "         'perrita': 10,\n",
       "         'perrito': 24,\n",
       "         'perritos': 5,\n",
       "         'perro': 14,\n",
       "         'perros': 13,\n",
       "         'pez': 2})"
      ]
     },
     "execution_count": 83,
     "metadata": {},
     "output_type": "execute_result"
    }
   ],
   "source": [
    "ta"
   ]
  },
  {
   "cell_type": "code",
   "execution_count": 84,
   "metadata": {
    "collapsed": false
   },
   "outputs": [],
   "source": [
    "total_animales_m = []\n",
    "total_animales_f = []\n",
    "for k in d:\n",
    "    text = total_text(d[k])\n",
    "    words = [w for w in word_tokenize(text) if w not in punctuation]\n",
    "    for a in words:\n",
    "        if a in animales:\n",
    "            if d[k]['gender'] == 'M':\n",
    "                total_animales_m.append(a)\n",
    "            elif d[k]['gender'] == 'F':\n",
    "                total_animales_f.append(a)"
   ]
  },
  {
   "cell_type": "code",
   "execution_count": 85,
   "metadata": {
    "collapsed": false
   },
   "outputs": [
    {
     "data": {
      "text/plain": [
       "28"
      ]
     },
     "execution_count": 85,
     "metadata": {},
     "output_type": "execute_result"
    }
   ],
   "source": [
    "len(total_animales_m)"
   ]
  },
  {
   "cell_type": "code",
   "execution_count": 86,
   "metadata": {
    "collapsed": false
   },
   "outputs": [
    {
     "data": {
      "text/plain": [
       "66"
      ]
     },
     "execution_count": 86,
     "metadata": {},
     "output_type": "execute_result"
    }
   ],
   "source": [
    "len(total_animales_f)"
   ]
  },
  {
   "cell_type": "code",
   "execution_count": 87,
   "metadata": {
    "collapsed": false,
    "scrolled": true
   },
   "outputs": [
    {
     "data": {
      "text/plain": [
       "[('perrito', 5),\n",
       " ('perro', 5),\n",
       " ('gato', 5),\n",
       " ('perrita', 3),\n",
       " ('animales', 3),\n",
       " ('perritos', 3),\n",
       " ('mascota', 2),\n",
       " ('perros', 1),\n",
       " ('gata', 1)]"
      ]
     },
     "execution_count": 87,
     "metadata": {},
     "output_type": "execute_result"
    }
   ],
   "source": [
    "Counter(total_animales_m).most_common()"
   ]
  },
  {
   "cell_type": "code",
   "execution_count": 88,
   "metadata": {
    "collapsed": false,
    "scrolled": true
   },
   "outputs": [
    {
     "data": {
      "text/plain": [
       "[('animales', 18),\n",
       " ('animal', 10),\n",
       " ('gato', 9),\n",
       " ('perros', 6),\n",
       " ('perrito', 5),\n",
       " ('perro', 3),\n",
       " ('animalito', 2),\n",
       " ('perrita', 2),\n",
       " ('perra', 2),\n",
       " ('mascota', 2),\n",
       " ('gatito', 2),\n",
       " ('animalitos', 1),\n",
       " ('gatos', 1),\n",
       " ('gata', 1),\n",
       " ('gatitos', 1),\n",
       " ('gatita', 1)]"
      ]
     },
     "execution_count": 88,
     "metadata": {},
     "output_type": "execute_result"
    }
   ],
   "source": [
    "Counter(total_animales_f).most_common()"
   ]
  },
  {
   "cell_type": "code",
   "execution_count": 89,
   "metadata": {
    "collapsed": false
   },
   "outputs": [],
   "source": [
    "total_animales_age = []\n",
    "total_animales_noage = []\n",
    "for k in d:\n",
    "    text = total_text(d[k])\n",
    "    words = [w for w in word_tokenize(text) if w not in punctuation]\n",
    "    for a in words:\n",
    "        if a in animales:\n",
    "            if d[k]['age']:\n",
    "                total_animales_age.append(a)\n",
    "            else:\n",
    "                total_animales_noage.append(a)"
   ]
  },
  {
   "cell_type": "code",
   "execution_count": 90,
   "metadata": {
    "collapsed": false
   },
   "outputs": [
    {
     "data": {
      "text/plain": [
       "74"
      ]
     },
     "execution_count": 90,
     "metadata": {},
     "output_type": "execute_result"
    }
   ],
   "source": [
    "len(total_animales_age)"
   ]
  },
  {
   "cell_type": "code",
   "execution_count": 91,
   "metadata": {
    "collapsed": false
   },
   "outputs": [
    {
     "data": {
      "text/plain": [
       "95"
      ]
     },
     "execution_count": 91,
     "metadata": {},
     "output_type": "execute_result"
    }
   ],
   "source": [
    "len(total_animales_noage)"
   ]
  },
  {
   "cell_type": "code",
   "execution_count": 92,
   "metadata": {
    "collapsed": false
   },
   "outputs": [],
   "source": [
    "total_animales_ch = []\n",
    "total_animales_te = []\n",
    "total_animales_ya = []\n",
    "total_animales_ad = []\n",
    "for k in d:\n",
    "    text = total_text(d[k])\n",
    "    words = [w for w in word_tokenize(text) if w not in punctuation]\n",
    "    for a in words:\n",
    "        if a in animales:\n",
    "            try:\n",
    "                if d[k]['age']:\n",
    "                    age = int(d[k]['age'])\n",
    "                    if 0 <= age <= 12:\n",
    "                        total_animales_ch.append(a)\n",
    "                    elif 13 <= age <= 18:\n",
    "                        total_animales_te.append(a)\n",
    "                    elif 19 <= age <= 25:\n",
    "                        total_animales_ya.append(a)\n",
    "                    else:\n",
    "                        total_animales_ad.append(a)\n",
    "            except: # '16, 19'\n",
    "                total_animales_te.append(a)"
   ]
  },
  {
   "cell_type": "code",
   "execution_count": 93,
   "metadata": {
    "collapsed": false
   },
   "outputs": [
    {
     "data": {
      "text/plain": [
       "32"
      ]
     },
     "execution_count": 93,
     "metadata": {},
     "output_type": "execute_result"
    }
   ],
   "source": [
    "len(total_animales_ch)"
   ]
  },
  {
   "cell_type": "code",
   "execution_count": 94,
   "metadata": {
    "collapsed": false
   },
   "outputs": [
    {
     "data": {
      "text/plain": [
       "[('gato', 10),\n",
       " ('perrito', 5),\n",
       " ('perro', 4),\n",
       " ('animal', 3),\n",
       " ('animales', 3),\n",
       " ('perrita', 3),\n",
       " ('mascota', 2),\n",
       " ('animalito', 1),\n",
       " ('perritos', 1)]"
      ]
     },
     "execution_count": 94,
     "metadata": {},
     "output_type": "execute_result"
    }
   ],
   "source": [
    "Counter(total_animales_ch).most_common()"
   ]
  },
  {
   "cell_type": "code",
   "execution_count": 95,
   "metadata": {
    "collapsed": false
   },
   "outputs": [
    {
     "data": {
      "text/plain": [
       "17"
      ]
     },
     "execution_count": 95,
     "metadata": {},
     "output_type": "execute_result"
    }
   ],
   "source": [
    "len(total_animales_te)"
   ]
  },
  {
   "cell_type": "code",
   "execution_count": 96,
   "metadata": {
    "collapsed": false
   },
   "outputs": [
    {
     "data": {
      "text/plain": [
       "[('animales', 5),\n",
       " ('perrito', 3),\n",
       " ('animal', 3),\n",
       " ('perrita', 1),\n",
       " ('perros', 1),\n",
       " ('animalito', 1),\n",
       " ('gato', 1),\n",
       " ('mascota', 1),\n",
       " ('gatito', 1)]"
      ]
     },
     "execution_count": 96,
     "metadata": {},
     "output_type": "execute_result"
    }
   ],
   "source": [
    "Counter(total_animales_te).most_common()"
   ]
  },
  {
   "cell_type": "code",
   "execution_count": 97,
   "metadata": {
    "collapsed": false
   },
   "outputs": [
    {
     "data": {
      "text/plain": [
       "13"
      ]
     },
     "execution_count": 97,
     "metadata": {},
     "output_type": "execute_result"
    }
   ],
   "source": [
    "len(total_animales_ya)"
   ]
  },
  {
   "cell_type": "code",
   "execution_count": 98,
   "metadata": {
    "collapsed": false
   },
   "outputs": [
    {
     "data": {
      "text/plain": [
       "[('animales', 4),\n",
       " ('perrito', 2),\n",
       " ('animal', 2),\n",
       " ('perra', 2),\n",
       " ('gatitos', 1),\n",
       " ('gato', 1),\n",
       " ('perrita', 1)]"
      ]
     },
     "execution_count": 98,
     "metadata": {},
     "output_type": "execute_result"
    }
   ],
   "source": [
    "Counter(total_animales_ya).most_common()"
   ]
  },
  {
   "cell_type": "code",
   "execution_count": 99,
   "metadata": {
    "collapsed": false
   },
   "outputs": [
    {
     "data": {
      "text/plain": [
       "12"
      ]
     },
     "execution_count": 99,
     "metadata": {},
     "output_type": "execute_result"
    }
   ],
   "source": [
    "len(total_animales_ad)"
   ]
  },
  {
   "cell_type": "code",
   "execution_count": 100,
   "metadata": {
    "collapsed": false
   },
   "outputs": [
    {
     "data": {
      "text/plain": [
       "[('animales', 4),\n",
       " ('perros', 2),\n",
       " ('gata', 2),\n",
       " ('gato', 1),\n",
       " ('animal', 1),\n",
       " ('gatita', 1),\n",
       " ('mascota', 1)]"
      ]
     },
     "execution_count": 100,
     "metadata": {},
     "output_type": "execute_result"
    }
   ],
   "source": [
    "Counter(total_animales_ad).most_common()"
   ]
  },
  {
   "cell_type": "code",
   "execution_count": 101,
   "metadata": {
    "collapsed": false
   },
   "outputs": [],
   "source": [
    "total_cards_with_animales = 0\n",
    "for k in d:\n",
    "    text = total_text(d[k])\n",
    "    words = [w for w in word_tokenize(text) if w not in punctuation]\n",
    "    for a in words:\n",
    "        if a in animales:\n",
    "            total_cards_with_animales += 1\n",
    "            break"
   ]
  },
  {
   "cell_type": "code",
   "execution_count": 102,
   "metadata": {
    "collapsed": false
   },
   "outputs": [
    {
     "data": {
      "text/plain": [
       "83"
      ]
     },
     "execution_count": 102,
     "metadata": {},
     "output_type": "execute_result"
    }
   ],
   "source": [
    "total_cards_with_animales"
   ]
  },
  {
   "cell_type": "code",
   "execution_count": null,
   "metadata": {
    "collapsed": true
   },
   "outputs": [],
   "source": []
  }
 ],
 "metadata": {
  "kernelspec": {
   "display_name": "Python 3",
   "language": "python",
   "name": "python3"
  },
  "language_info": {
   "codemirror_mode": {
    "name": "ipython",
    "version": 3
   },
   "file_extension": ".py",
   "mimetype": "text/x-python",
   "name": "python",
   "nbconvert_exporter": "python",
   "pygments_lexer": "ipython3",
   "version": "3.4.3"
  }
 },
 "nbformat": 4,
 "nbformat_minor": 0
}
