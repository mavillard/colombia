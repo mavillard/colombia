{
 "cells": [
  {
   "cell_type": "code",
   "execution_count": 1,
   "metadata": {
    "collapsed": false
   },
   "outputs": [],
   "source": [
    "import csv\n",
    "import os\n",
    "from collections import Counter\n",
    "from string import punctuation\n",
    "\n",
    "import enchant\n",
    "from nltk import word_tokenize\n",
    "from nltk.corpus import stopwords"
   ]
  },
  {
   "cell_type": "markdown",
   "metadata": {},
   "source": [
    "# Lexicon"
   ]
  },
  {
   "cell_type": "code",
   "execution_count": 77,
   "metadata": {
    "collapsed": false
   },
   "outputs": [],
   "source": [
    "lexicon = {}\n",
    "with open('lexicon/es_lexicon.csv') as f:\n",
    "    reader = csv.reader(\n",
    "        f,\n",
    "        delimiter=' ',\n",
    "    )\n",
    "    for row in reader:\n",
    "        lexicon[row[0]] = []\n",
    "        for i in range(1, len(row[1:]), 2):\n",
    "            entry = {}\n",
    "            entry['lemma'] = row[i].lower()\n",
    "            entry['eagle'] = row[i+1].lower()\n",
    "            lexicon[row[0]].append(entry)"
   ]
  },
  {
   "cell_type": "code",
   "execution_count": 78,
   "metadata": {
    "collapsed": false
   },
   "outputs": [
    {
     "data": {
      "text/plain": [
       "556210"
      ]
     },
     "execution_count": 78,
     "metadata": {},
     "output_type": "execute_result"
    }
   ],
   "source": [
    "len(lexicon)"
   ]
  },
  {
   "cell_type": "code",
   "execution_count": 126,
   "metadata": {
    "collapsed": false
   },
   "outputs": [],
   "source": [
    "def is_vowel(c):\n",
    "    return c in 'aeiouAEIOUáéíóúÁÉÍÓÚüÜ'\n",
    "\n",
    "def next_level(w):\n",
    "    result = [w]\n",
    "    if is_vowel(w[0]):\n",
    "        result.append('h' + w)\n",
    "    if \"q'\" in w:\n",
    "        result.append(w.replace(\"q'\", 'que'))\n",
    "    for i in range(len(w)):\n",
    "        if w[i] == 'v':\n",
    "            result.append(w[:i] + 'b' + w[i+1:])\n",
    "        elif w[i] == 'b':\n",
    "            result.append(w[:i] + 'v' + w[i+1:])\n",
    "            result.append(w[:i] + 'd' + w[i+1:])\n",
    "        elif w[i] == 'd':\n",
    "            result.append(w[:i] + 'b' + w[i+1:])\n",
    "        elif w[i] == 'c' and i < len(w) - 1 and w[i+1] in 'ei':\n",
    "            result.append(w[:i] + 's' + w[i+1:])\n",
    "        elif w[i] == 's' and i < len(w) - 1 and w[i+1] in 'ei':\n",
    "            result.append(w[:i] + 'c' + w[i+1:])\n",
    "    return result\n",
    "\n",
    "def combinations_aux(visited, result):\n",
    "    while visited:\n",
    "        w = visited[0]\n",
    "        visited = visited[1:]\n",
    "        if w not in result:\n",
    "            result.append(w)\n",
    "            combs = next_level(w)\n",
    "            visited.extend(combs)        \n",
    "    return result\n",
    "\n",
    "def combinations(w):\n",
    "    return combinations_aux([w], [])"
   ]
  },
  {
   "cell_type": "markdown",
   "metadata": {},
   "source": [
    "# Analysis"
   ]
  },
  {
   "cell_type": "code",
   "execution_count": 2,
   "metadata": {
    "collapsed": false
   },
   "outputs": [
    {
     "data": {
      "text/plain": [
       "['ana.csv', 'final.csv', 'yadira.csv', 'rafa.csv', 'dago.csv']"
      ]
     },
     "execution_count": 2,
     "metadata": {},
     "output_type": "execute_result"
    }
   ],
   "source": [
    "os.listdir('data')"
   ]
  },
  {
   "cell_type": "code",
   "execution_count": 3,
   "metadata": {
    "collapsed": false
   },
   "outputs": [],
   "source": [
    "d = {}\n",
    "for filename in os.listdir('data'):\n",
    "    with open('data/' + filename) as f:\n",
    "        reader = csv.reader(\n",
    "            f,\n",
    "            delimiter=',',\n",
    "            quotechar='\"'\n",
    "        )\n",
    "        next(reader)\n",
    "        for row in reader:\n",
    "            d[row[0]] = {\n",
    "                'date': row[1],\n",
    "                'name': row[2],\n",
    "                'gender': row[3],\n",
    "                'age': row[4],\n",
    "                'city': row[5],\n",
    "                'drawings': row[6],\n",
    "                'title': row[7],\n",
    "                'description': row[8],\n",
    "            }"
   ]
  },
  {
   "cell_type": "code",
   "execution_count": 4,
   "metadata": {
    "collapsed": false
   },
   "outputs": [
    {
     "data": {
      "text/plain": [
       "826"
      ]
     },
     "execution_count": 4,
     "metadata": {},
     "output_type": "execute_result"
    }
   ],
   "source": [
    "len(d)"
   ]
  },
  {
   "cell_type": "markdown",
   "metadata": {},
   "source": [
    "## Gender"
   ]
  },
  {
   "cell_type": "code",
   "execution_count": 5,
   "metadata": {
    "collapsed": false
   },
   "outputs": [],
   "source": [
    "blank = 0\n",
    "male = 0\n",
    "female = 0\n",
    "for k in d:\n",
    "    gender = d[k]['gender']\n",
    "    if gender == 'M':\n",
    "        male += 1\n",
    "    elif gender == 'F':\n",
    "        female += 1\n",
    "    else:\n",
    "        blank += 1"
   ]
  },
  {
   "cell_type": "code",
   "execution_count": 6,
   "metadata": {
    "collapsed": false
   },
   "outputs": [
    {
     "data": {
      "text/plain": [
       "449"
      ]
     },
     "execution_count": 6,
     "metadata": {},
     "output_type": "execute_result"
    }
   ],
   "source": [
    "blank"
   ]
  },
  {
   "cell_type": "code",
   "execution_count": 7,
   "metadata": {
    "collapsed": false
   },
   "outputs": [
    {
     "data": {
      "text/plain": [
       "108"
      ]
     },
     "execution_count": 7,
     "metadata": {},
     "output_type": "execute_result"
    }
   ],
   "source": [
    "male"
   ]
  },
  {
   "cell_type": "code",
   "execution_count": 8,
   "metadata": {
    "collapsed": false
   },
   "outputs": [
    {
     "data": {
      "text/plain": [
       "269"
      ]
     },
     "execution_count": 8,
     "metadata": {},
     "output_type": "execute_result"
    }
   ],
   "source": [
    "female"
   ]
  },
  {
   "cell_type": "markdown",
   "metadata": {},
   "source": [
    "## Cities"
   ]
  },
  {
   "cell_type": "code",
   "execution_count": 9,
   "metadata": {
    "collapsed": true
   },
   "outputs": [],
   "source": [
    "cities = []\n",
    "for k in d:\n",
    "    city = d[k]['city']\n",
    "    cities.append(city)"
   ]
  },
  {
   "cell_type": "code",
   "execution_count": 10,
   "metadata": {
    "collapsed": false
   },
   "outputs": [],
   "source": [
    "c = Counter(cities)"
   ]
  },
  {
   "cell_type": "code",
   "execution_count": 11,
   "metadata": {
    "collapsed": false
   },
   "outputs": [],
   "source": [
    "# c"
   ]
  },
  {
   "cell_type": "code",
   "execution_count": 12,
   "metadata": {
    "collapsed": false
   },
   "outputs": [
    {
     "data": {
      "text/plain": [
       "[('', 582),\n",
       " ('Bogotá', 155),\n",
       " ('Bogotá D.C.', 9),\n",
       " ('Neiva', 7),\n",
       " ('Fusagasugá', 6),\n",
       " ('Soacha', 5),\n",
       " ('Bogotá D.C', 5),\n",
       " ('Bucaramanga', 4),\n",
       " ('Medellín', 3),\n",
       " ('Cali', 3)]"
      ]
     },
     "execution_count": 12,
     "metadata": {},
     "output_type": "execute_result"
    }
   ],
   "source": [
    "c.most_common(10)"
   ]
  },
  {
   "cell_type": "markdown",
   "metadata": {},
   "source": [
    "## Ages"
   ]
  },
  {
   "cell_type": "code",
   "execution_count": 13,
   "metadata": {
    "collapsed": true
   },
   "outputs": [],
   "source": [
    "ages = []\n",
    "for k in d:\n",
    "    age = d[k]['age']\n",
    "    ages.append(age)"
   ]
  },
  {
   "cell_type": "code",
   "execution_count": 14,
   "metadata": {
    "collapsed": false
   },
   "outputs": [],
   "source": [
    "a = Counter(ages)"
   ]
  },
  {
   "cell_type": "code",
   "execution_count": 15,
   "metadata": {
    "collapsed": false
   },
   "outputs": [],
   "source": [
    "# a"
   ]
  },
  {
   "cell_type": "code",
   "execution_count": 16,
   "metadata": {
    "collapsed": false
   },
   "outputs": [
    {
     "data": {
      "text/plain": [
       "[('', 575),\n",
       " ('14', 16),\n",
       " ('16', 13),\n",
       " ('19', 12),\n",
       " ('10', 12),\n",
       " ('13', 11),\n",
       " ('20', 11),\n",
       " ('11', 11),\n",
       " ('12', 10),\n",
       " ('21', 9),\n",
       " ('17', 9)]"
      ]
     },
     "execution_count": 16,
     "metadata": {},
     "output_type": "execute_result"
    }
   ],
   "source": [
    "a.most_common(11)"
   ]
  },
  {
   "cell_type": "code",
   "execution_count": 17,
   "metadata": {
    "collapsed": false
   },
   "outputs": [],
   "source": [
    "children = 0\n",
    "teenagers = 0\n",
    "young_adults = 0\n",
    "adults = 0\n",
    "for k in d:\n",
    "    try:\n",
    "        if d[k]['age']:\n",
    "            age = int(d[k]['age'])\n",
    "            if 0 <= age <= 12:\n",
    "                children += 1\n",
    "            elif 13 <= age <= 18:\n",
    "                teenagers += 1\n",
    "            elif 19 <= age <= 25:\n",
    "                young_adults += 1\n",
    "            else:\n",
    "                adults += 1\n",
    "    except: # '16, 19'\n",
    "        teenagers += 1"
   ]
  },
  {
   "cell_type": "code",
   "execution_count": 18,
   "metadata": {
    "collapsed": false
   },
   "outputs": [
    {
     "data": {
      "text/plain": [
       "51"
      ]
     },
     "execution_count": 18,
     "metadata": {},
     "output_type": "execute_result"
    }
   ],
   "source": [
    "children"
   ]
  },
  {
   "cell_type": "code",
   "execution_count": 19,
   "metadata": {
    "collapsed": false
   },
   "outputs": [
    {
     "data": {
      "text/plain": [
       "65"
      ]
     },
     "execution_count": 19,
     "metadata": {},
     "output_type": "execute_result"
    }
   ],
   "source": [
    "teenagers"
   ]
  },
  {
   "cell_type": "code",
   "execution_count": 20,
   "metadata": {
    "collapsed": false
   },
   "outputs": [
    {
     "data": {
      "text/plain": [
       "54"
      ]
     },
     "execution_count": 20,
     "metadata": {},
     "output_type": "execute_result"
    }
   ],
   "source": [
    "young_adults"
   ]
  },
  {
   "cell_type": "code",
   "execution_count": 21,
   "metadata": {
    "collapsed": false
   },
   "outputs": [
    {
     "data": {
      "text/plain": [
       "81"
      ]
     },
     "execution_count": 21,
     "metadata": {},
     "output_type": "execute_result"
    }
   ],
   "source": [
    "adults"
   ]
  },
  {
   "cell_type": "markdown",
   "metadata": {},
   "source": [
    "## Drawings"
   ]
  },
  {
   "cell_type": "code",
   "execution_count": 22,
   "metadata": {
    "collapsed": false
   },
   "outputs": [],
   "source": [
    "drawing_words = []\n",
    "for k in d:\n",
    "    drawings = d[k]['drawings'].lower().replace(';', ',')\n",
    "    words = [x.strip() for x in drawings.split(',')]\n",
    "    drawing_words.extend(words)"
   ]
  },
  {
   "cell_type": "code",
   "execution_count": 23,
   "metadata": {
    "collapsed": false
   },
   "outputs": [],
   "source": [
    "dw = Counter(drawing_words)"
   ]
  },
  {
   "cell_type": "code",
   "execution_count": 24,
   "metadata": {
    "collapsed": false
   },
   "outputs": [],
   "source": [
    "# dw"
   ]
  },
  {
   "cell_type": "code",
   "execution_count": 25,
   "metadata": {
    "collapsed": false
   },
   "outputs": [
    {
     "data": {
      "text/plain": [
       "[('', 715),\n",
       " ('corazón', 84),\n",
       " ('cara feliz', 28),\n",
       " ('niño', 11),\n",
       " ('carita feliz', 11),\n",
       " ('nube', 7),\n",
       " ('cara sonriente', 5),\n",
       " ('perro', 4),\n",
       " ('sol', 3),\n",
       " ('cruz', 2),\n",
       " ('flor', 2)]"
      ]
     },
     "execution_count": 25,
     "metadata": {},
     "output_type": "execute_result"
    }
   ],
   "source": [
    "dw.most_common(11)"
   ]
  },
  {
   "cell_type": "markdown",
   "metadata": {},
   "source": [
    "## Words"
   ]
  },
  {
   "cell_type": "code",
   "execution_count": 120,
   "metadata": {
    "collapsed": false
   },
   "outputs": [
    {
     "data": {
      "text/plain": [
       "'!\"#$%&\\'()*+,-./:;<=>?@[\\\\]^_`{|}~'"
      ]
     },
     "execution_count": 120,
     "metadata": {},
     "output_type": "execute_result"
    }
   ],
   "source": [
    "punctuation"
   ]
  },
  {
   "cell_type": "code",
   "execution_count": 121,
   "metadata": {
    "collapsed": true
   },
   "outputs": [],
   "source": [
    "def total_text(r):\n",
    "    text = (r['title'] + ' ' + r['description']).lower()\n",
    "    text = text.replace('á', 'a')\n",
    "    text = text.replace('é', 'e')\n",
    "    text = text.replace('í', 'i')\n",
    "    text = text.replace('ó', 'o')\n",
    "    text = text.replace('ú', 'u')\n",
    "    return text"
   ]
  },
  {
   "cell_type": "code",
   "execution_count": 122,
   "metadata": {
    "collapsed": false
   },
   "outputs": [],
   "source": [
    "total_words = []\n",
    "for k in d:\n",
    "    text = total_text(d[k])\n",
    "    no_stopwords = ' '.join([w for w in word_tokenize(text) if w not in punctuation])\n",
    "    words = word_tokenize(no_stopwords)\n",
    "    total_words.extend(words)"
   ]
  },
  {
   "cell_type": "code",
   "execution_count": 123,
   "metadata": {
    "collapsed": false
   },
   "outputs": [
    {
     "data": {
      "text/plain": [
       "45801"
      ]
     },
     "execution_count": 123,
     "metadata": {},
     "output_type": "execute_result"
    }
   ],
   "source": [
    "len(total_words)"
   ]
  },
  {
   "cell_type": "code",
   "execution_count": 124,
   "metadata": {
    "collapsed": true
   },
   "outputs": [],
   "source": [
    "total_words_freq = Counter(total_words)"
   ]
  },
  {
   "cell_type": "code",
   "execution_count": 125,
   "metadata": {
    "collapsed": false
   },
   "outputs": [
    {
     "data": {
      "text/plain": [
       "[('de', 1996),\n",
       " ('y', 1953),\n",
       " ('la', 1684),\n",
       " ('que', 1365),\n",
       " ('en', 1224),\n",
       " ('a', 1193),\n",
       " ('el', 1032),\n",
       " ('un', 813),\n",
       " ('con', 692),\n",
       " ('mi', 668)]"
      ]
     },
     "execution_count": 125,
     "metadata": {},
     "output_type": "execute_result"
    }
   ],
   "source": [
    "total_words_freq.most_common(10)"
   ]
  },
  {
   "cell_type": "code",
   "execution_count": 130,
   "metadata": {
    "collapsed": false
   },
   "outputs": [],
   "source": [
    "stopwords_no_accents = []\n",
    "for w in stopwords.words('spanish'):\n",
    "    w = w.replace('á', 'a')\n",
    "    w = w.replace('é', 'e')\n",
    "    w = w.replace('í', 'i')\n",
    "    w = w.replace('ó', 'o')\n",
    "    w = w.replace('ú', 'u')\n",
    "    stopwords_no_accents.append(w)\n",
    "stopwords_no_accents.extend(stopwords.words('spanish'))"
   ]
  },
  {
   "cell_type": "code",
   "execution_count": 131,
   "metadata": {
    "collapsed": false
   },
   "outputs": [],
   "source": [
    "total_nonstop_words = [w for w in total_words if w not in stopwords_no_accents]"
   ]
  },
  {
   "cell_type": "code",
   "execution_count": 132,
   "metadata": {
    "collapsed": false
   },
   "outputs": [
    {
     "data": {
      "text/plain": [
       "22240"
      ]
     },
     "execution_count": 132,
     "metadata": {},
     "output_type": "execute_result"
    }
   ],
   "source": [
    "len(total_nonstop_words)"
   ]
  },
  {
   "cell_type": "code",
   "execution_count": 133,
   "metadata": {
    "collapsed": true
   },
   "outputs": [],
   "source": [
    "unique_nonstop_words = set(total_nonstop_words)"
   ]
  },
  {
   "cell_type": "code",
   "execution_count": 134,
   "metadata": {
    "collapsed": false
   },
   "outputs": [
    {
     "data": {
      "text/plain": [
       "6705"
      ]
     },
     "execution_count": 134,
     "metadata": {},
     "output_type": "execute_result"
    }
   ],
   "source": [
    "len(unique_nonstop_words)"
   ]
  },
  {
   "cell_type": "code",
   "execution_count": 33,
   "metadata": {
    "collapsed": true
   },
   "outputs": [],
   "source": [
    "total_words2 = []\n",
    "for k2 in d:\n",
    "    text2 = total_text(d[k2])\n",
    "    no_stopwords2 = ' '.join([w for w in word_tokenize(text2) if True])\n",
    "    words2 = word_tokenize(no_stopwords2)\n",
    "    total_words2.extend(words2)"
   ]
  },
  {
   "cell_type": "code",
   "execution_count": 34,
   "metadata": {
    "collapsed": false
   },
   "outputs": [
    {
     "data": {
      "text/plain": [
       "49008"
      ]
     },
     "execution_count": 34,
     "metadata": {},
     "output_type": "execute_result"
    }
   ],
   "source": [
    "len(total_words2)"
   ]
  },
  {
   "cell_type": "code",
   "execution_count": 35,
   "metadata": {
    "collapsed": false
   },
   "outputs": [],
   "source": [
    "tw = Counter(total_words)"
   ]
  },
  {
   "cell_type": "code",
   "execution_count": 36,
   "metadata": {
    "collapsed": false
   },
   "outputs": [],
   "source": [
    "# tw"
   ]
  },
  {
   "cell_type": "code",
   "execution_count": 37,
   "metadata": {
    "collapsed": false
   },
   "outputs": [
    {
     "data": {
      "text/plain": [
       "[(',', 1596),\n",
       " ('.', 1223),\n",
       " ('paz', 664),\n",
       " ('dia', 240),\n",
       " ('familia', 152),\n",
       " ('ser', 133),\n",
       " ('personas', 132),\n",
       " ('vida', 117),\n",
       " ('amor', 102),\n",
       " ('años', 88),\n",
       " ('cada', 88),\n",
       " ('mejor', 87)]"
      ]
     },
     "execution_count": 37,
     "metadata": {},
     "output_type": "execute_result"
    }
   ],
   "source": [
    "tw.most_common(12)"
   ]
  },
  {
   "cell_type": "code",
   "execution_count": 38,
   "metadata": {
    "collapsed": false
   },
   "outputs": [],
   "source": [
    "undia = 0\n",
    "eldia = 0\n",
    "dedia = 0\n",
    "otros = 0\n",
    "otras = 0\n",
    "for k in d:\n",
    "    text = total_text(d[k])\n",
    "    if 'un dia' in text or 'unos dias' in text:\n",
    "        undia += 1\n",
    "    elif 'el dia' in text or 'los dias' in text:\n",
    "        eldia += 1\n",
    "    elif 'de dia' in text:\n",
    "        dedia += 1\n",
    "    else:\n",
    "        words = word_tokenize(text)\n",
    "        if 'dia' in words or 'dias' in words:\n",
    "            otros += 1\n",
    "#             print(text)\n",
    "#             print()"
   ]
  },
  {
   "cell_type": "code",
   "execution_count": 39,
   "metadata": {
    "collapsed": false
   },
   "outputs": [
    {
     "data": {
      "text/plain": [
       "113"
      ]
     },
     "execution_count": 39,
     "metadata": {},
     "output_type": "execute_result"
    }
   ],
   "source": [
    "undia"
   ]
  },
  {
   "cell_type": "code",
   "execution_count": 40,
   "metadata": {
    "collapsed": false
   },
   "outputs": [
    {
     "data": {
      "text/plain": [
       "49"
      ]
     },
     "execution_count": 40,
     "metadata": {},
     "output_type": "execute_result"
    }
   ],
   "source": [
    "eldia"
   ]
  },
  {
   "cell_type": "code",
   "execution_count": 41,
   "metadata": {
    "collapsed": false
   },
   "outputs": [
    {
     "data": {
      "text/plain": [
       "4"
      ]
     },
     "execution_count": 41,
     "metadata": {},
     "output_type": "execute_result"
    }
   ],
   "source": [
    "dedia"
   ]
  },
  {
   "cell_type": "code",
   "execution_count": 42,
   "metadata": {
    "collapsed": false
   },
   "outputs": [
    {
     "data": {
      "text/plain": [
       "69"
      ]
     },
     "execution_count": 42,
     "metadata": {},
     "output_type": "execute_result"
    }
   ],
   "source": [
    "otros"
   ]
  },
  {
   "cell_type": "code",
   "execution_count": 43,
   "metadata": {
    "collapsed": false
   },
   "outputs": [
    {
     "data": {
      "text/plain": [
       "240"
      ]
     },
     "execution_count": 43,
     "metadata": {},
     "output_type": "execute_result"
    }
   ],
   "source": [
    "tw['dia']"
   ]
  },
  {
   "cell_type": "code",
   "execution_count": 44,
   "metadata": {
    "collapsed": true
   },
   "outputs": [],
   "source": [
    "animales = ['animal', 'animalito', 'animales', 'animalitos',\n",
    "            'perro', 'perra', 'perros', 'perras', 'perrito', 'perrita', 'perritos', 'perritas',\n",
    "            'gato', 'gata', 'gatos', 'gatas', 'gatito', 'gatita', 'gatitos', 'gatitas',\n",
    "            'mascota', 'ovejita', 'pez']"
   ]
  },
  {
   "cell_type": "code",
   "execution_count": 45,
   "metadata": {
    "collapsed": true
   },
   "outputs": [],
   "source": [
    "# animales = ['caballo', 'yegua', 'caballito', 'burro', 'burrito', 'oveja',\n",
    "#             'cabra', 'vaquita', 'ovejita', 'vaca', 'cordero', 'corderito',\n",
    "#             'pez', 'pececito', 'cerdo', 'cerdito', 'puerco', 'gallina', 'pollo', 'gallo',\n",
    "#             'pesesito', 'pes']"
   ]
  },
  {
   "cell_type": "code",
   "execution_count": 46,
   "metadata": {
    "collapsed": false
   },
   "outputs": [],
   "source": [
    "total_animales = []\n",
    "for k in d:\n",
    "    text = total_text(d[k])\n",
    "    no_stopwords = ' '.join([w for w in word_tokenize(text) if w not in sw_no_accents])\n",
    "    words = word_tokenize(no_stopwords)\n",
    "    for a in animales:\n",
    "        if a in words:\n",
    "            total_animales.append(a)"
   ]
  },
  {
   "cell_type": "code",
   "execution_count": 47,
   "metadata": {
    "collapsed": false
   },
   "outputs": [
    {
     "data": {
      "text/plain": [
       "100"
      ]
     },
     "execution_count": 47,
     "metadata": {},
     "output_type": "execute_result"
    }
   ],
   "source": [
    "len(total_animales)"
   ]
  },
  {
   "cell_type": "code",
   "execution_count": 48,
   "metadata": {
    "collapsed": true
   },
   "outputs": [],
   "source": [
    "ta = Counter(total_animales)"
   ]
  },
  {
   "cell_type": "code",
   "execution_count": 49,
   "metadata": {
    "collapsed": false
   },
   "outputs": [
    {
     "data": {
      "text/plain": [
       "Counter({'animal': 10,\n",
       "         'animales': 21,\n",
       "         'animalito': 1,\n",
       "         'animalitos': 1,\n",
       "         'gata': 2,\n",
       "         'gatito': 3,\n",
       "         'gato': 8,\n",
       "         'gatos': 4,\n",
       "         'mascota': 5,\n",
       "         'ovejita': 1,\n",
       "         'perra': 3,\n",
       "         'perrita': 5,\n",
       "         'perrito': 13,\n",
       "         'perritos': 3,\n",
       "         'perro': 10,\n",
       "         'perros': 9,\n",
       "         'pez': 1})"
      ]
     },
     "execution_count": 49,
     "metadata": {},
     "output_type": "execute_result"
    }
   ],
   "source": [
    "ta"
   ]
  },
  {
   "cell_type": "code",
   "execution_count": 50,
   "metadata": {
    "collapsed": false
   },
   "outputs": [],
   "source": [
    "total_animales_m = []\n",
    "total_animales_f = []\n",
    "for k in d:\n",
    "    text = total_text(d[k])\n",
    "    no_stopwords = ' '.join([w for w in word_tokenize(text) if w not in sw_no_accents])\n",
    "    words = word_tokenize(no_stopwords)\n",
    "    for an in animales:\n",
    "        if an in words:\n",
    "            if d[k]['gender'] == 'M':\n",
    "                total_animales_m.append(an)\n",
    "            elif d[k]['gender'] == 'F':\n",
    "                total_animales_f.append(an)"
   ]
  },
  {
   "cell_type": "code",
   "execution_count": 51,
   "metadata": {
    "collapsed": false
   },
   "outputs": [
    {
     "data": {
      "text/plain": [
       "14"
      ]
     },
     "execution_count": 51,
     "metadata": {},
     "output_type": "execute_result"
    }
   ],
   "source": [
    "len(total_animales_m)"
   ]
  },
  {
   "cell_type": "code",
   "execution_count": 52,
   "metadata": {
    "collapsed": false
   },
   "outputs": [
    {
     "data": {
      "text/plain": [
       "41"
      ]
     },
     "execution_count": 52,
     "metadata": {},
     "output_type": "execute_result"
    }
   ],
   "source": [
    "len(total_animales_f)"
   ]
  },
  {
   "cell_type": "code",
   "execution_count": 53,
   "metadata": {
    "collapsed": false,
    "scrolled": true
   },
   "outputs": [
    {
     "data": {
      "text/plain": [
       "[('perrito', 3),\n",
       " ('perro', 3),\n",
       " ('animales', 2),\n",
       " ('mascota', 2),\n",
       " ('perritos', 2),\n",
       " ('perros', 1),\n",
       " ('gato', 1)]"
      ]
     },
     "execution_count": 53,
     "metadata": {},
     "output_type": "execute_result"
    }
   ],
   "source": [
    "Counter(total_animales_m).most_common()"
   ]
  },
  {
   "cell_type": "code",
   "execution_count": 54,
   "metadata": {
    "collapsed": false,
    "scrolled": true
   },
   "outputs": [
    {
     "data": {
      "text/plain": [
       "[('animales', 12),\n",
       " ('animal', 6),\n",
       " ('gato', 5),\n",
       " ('perros', 4),\n",
       " ('perro', 3),\n",
       " ('perrita', 2),\n",
       " ('perrito', 2),\n",
       " ('perra', 1),\n",
       " ('mascota', 1),\n",
       " ('animalito', 1),\n",
       " ('gata', 1),\n",
       " ('gatito', 1),\n",
       " ('gatos', 1),\n",
       " ('animalitos', 1)]"
      ]
     },
     "execution_count": 54,
     "metadata": {},
     "output_type": "execute_result"
    }
   ],
   "source": [
    "Counter(total_animales_f).most_common()"
   ]
  },
  {
   "cell_type": "code",
   "execution_count": 55,
   "metadata": {
    "collapsed": false
   },
   "outputs": [],
   "source": [
    "total_animales_a = []\n",
    "total_animales_na = []\n",
    "for k in d:\n",
    "    text = total_text(d[k])\n",
    "    no_stopwords = ' '.join([w for w in word_tokenize(text) if w not in sw_no_accents])\n",
    "    words = word_tokenize(no_stopwords)\n",
    "    for an in animales:\n",
    "        if an in words:\n",
    "            if d[k]['age']:\n",
    "                total_animales_a.append(an)\n",
    "            else:\n",
    "                total_animales_na.append(an)"
   ]
  },
  {
   "cell_type": "code",
   "execution_count": 56,
   "metadata": {
    "collapsed": false
   },
   "outputs": [
    {
     "data": {
      "text/plain": [
       "39"
      ]
     },
     "execution_count": 56,
     "metadata": {},
     "output_type": "execute_result"
    }
   ],
   "source": [
    "len(total_animales_a)"
   ]
  },
  {
   "cell_type": "code",
   "execution_count": 57,
   "metadata": {
    "collapsed": false
   },
   "outputs": [
    {
     "data": {
      "text/plain": [
       "61"
      ]
     },
     "execution_count": 57,
     "metadata": {},
     "output_type": "execute_result"
    }
   ],
   "source": [
    "len(total_animales_na)"
   ]
  },
  {
   "cell_type": "code",
   "execution_count": 58,
   "metadata": {
    "collapsed": false
   },
   "outputs": [],
   "source": [
    "total_animales_ch = []\n",
    "total_animales_te = []\n",
    "total_animales_ya = []\n",
    "total_animales_ad = []\n",
    "for k in d:\n",
    "    text = total_text(d[k])\n",
    "    no_stopwords = ' '.join([w for w in word_tokenize(text) if w not in sw_no_accents])\n",
    "    words = word_tokenize(no_stopwords)\n",
    "    for an in animales:\n",
    "        if an in words:\n",
    "            try:\n",
    "                if d[k]['age']:\n",
    "                    age = int(d[k]['age'])\n",
    "                    if 0 <= age <= 12:\n",
    "                        total_animales_ch.append(an)\n",
    "                    elif 13 <= age <= 18:\n",
    "                        total_animales_te.append(an)\n",
    "                    elif 19 <= age <= 25:\n",
    "                        total_animales_ya.append(an)\n",
    "                    else:\n",
    "                        total_animales_ad.append(an)\n",
    "            except: # '16, 19'\n",
    "                total_animales_te.append(an)"
   ]
  },
  {
   "cell_type": "code",
   "execution_count": 59,
   "metadata": {
    "collapsed": false
   },
   "outputs": [
    {
     "data": {
      "text/plain": [
       "19"
      ]
     },
     "execution_count": 59,
     "metadata": {},
     "output_type": "execute_result"
    }
   ],
   "source": [
    "len(total_animales_ch)"
   ]
  },
  {
   "cell_type": "code",
   "execution_count": 60,
   "metadata": {
    "collapsed": false
   },
   "outputs": [
    {
     "data": {
      "text/plain": [
       "[('gato', 4),\n",
       " ('animales', 3),\n",
       " ('perrito', 3),\n",
       " ('perro', 3),\n",
       " ('animal', 2),\n",
       " ('mascota', 2),\n",
       " ('animalito', 1),\n",
       " ('perritos', 1)]"
      ]
     },
     "execution_count": 60,
     "metadata": {},
     "output_type": "execute_result"
    }
   ],
   "source": [
    "Counter(total_animales_ch).most_common()"
   ]
  },
  {
   "cell_type": "code",
   "execution_count": 61,
   "metadata": {
    "collapsed": false
   },
   "outputs": [
    {
     "data": {
      "text/plain": [
       "10"
      ]
     },
     "execution_count": 61,
     "metadata": {},
     "output_type": "execute_result"
    }
   ],
   "source": [
    "len(total_animales_te)"
   ]
  },
  {
   "cell_type": "code",
   "execution_count": 62,
   "metadata": {
    "collapsed": false
   },
   "outputs": [
    {
     "data": {
      "text/plain": [
       "[('animales', 3),\n",
       " ('perrito', 2),\n",
       " ('animal', 2),\n",
       " ('mascota', 1),\n",
       " ('gato', 1),\n",
       " ('perros', 1)]"
      ]
     },
     "execution_count": 62,
     "metadata": {},
     "output_type": "execute_result"
    }
   ],
   "source": [
    "Counter(total_animales_te).most_common()"
   ]
  },
  {
   "cell_type": "code",
   "execution_count": 63,
   "metadata": {
    "collapsed": false
   },
   "outputs": [
    {
     "data": {
      "text/plain": [
       "5"
      ]
     },
     "execution_count": 63,
     "metadata": {},
     "output_type": "execute_result"
    }
   ],
   "source": [
    "len(total_animales_ya)"
   ]
  },
  {
   "cell_type": "code",
   "execution_count": 64,
   "metadata": {
    "collapsed": false
   },
   "outputs": [
    {
     "data": {
      "text/plain": [
       "[('animales', 2), ('perra', 1), ('animal', 1), ('perrita', 1)]"
      ]
     },
     "execution_count": 64,
     "metadata": {},
     "output_type": "execute_result"
    }
   ],
   "source": [
    "Counter(total_animales_ya).most_common()"
   ]
  },
  {
   "cell_type": "code",
   "execution_count": 65,
   "metadata": {
    "collapsed": false
   },
   "outputs": [
    {
     "data": {
      "text/plain": [
       "5"
      ]
     },
     "execution_count": 65,
     "metadata": {},
     "output_type": "execute_result"
    }
   ],
   "source": [
    "len(total_animales_ad)"
   ]
  },
  {
   "cell_type": "code",
   "execution_count": 66,
   "metadata": {
    "collapsed": false
   },
   "outputs": [
    {
     "data": {
      "text/plain": [
       "[('animales', 3), ('gata', 1), ('perros', 1)]"
      ]
     },
     "execution_count": 66,
     "metadata": {},
     "output_type": "execute_result"
    }
   ],
   "source": [
    "Counter(total_animales_ad).most_common()"
   ]
  },
  {
   "cell_type": "code",
   "execution_count": 67,
   "metadata": {
    "collapsed": false
   },
   "outputs": [],
   "source": [
    "total_cards_with_animales = 0\n",
    "for k in d:\n",
    "    text = total_text(d[k])\n",
    "    no_stopwords = ' '.join([w for w in word_tokenize(text) if w not in sw_no_accents])\n",
    "    words = word_tokenize(no_stopwords)\n",
    "    for a in animales:\n",
    "        if a in words:\n",
    "            total_cards_with_animales += 1\n",
    "            break"
   ]
  },
  {
   "cell_type": "code",
   "execution_count": 68,
   "metadata": {
    "collapsed": false
   },
   "outputs": [
    {
     "data": {
      "text/plain": [
       "63"
      ]
     },
     "execution_count": 68,
     "metadata": {},
     "output_type": "execute_result"
    }
   ],
   "source": [
    "total_cards_with_animales"
   ]
  },
  {
   "cell_type": "code",
   "execution_count": 79,
   "metadata": {
    "collapsed": false
   },
   "outputs": [
    {
     "data": {
      "text/plain": [
       "[{'eagle': 'ncfs000', 'lemma': 'a'}, {'eagle': 'sps00', 'lemma': 'a'}]"
      ]
     },
     "execution_count": 79,
     "metadata": {},
     "output_type": "execute_result"
    }
   ],
   "source": [
    "lexicon['a']"
   ]
  },
  {
   "cell_type": "code",
   "execution_count": 70,
   "metadata": {
    "collapsed": true
   },
   "outputs": [],
   "source": []
  },
  {
   "cell_type": "code",
   "execution_count": 71,
   "metadata": {
    "collapsed": true
   },
   "outputs": [],
   "source": [
    "q=enchant.Dict('es_ES')"
   ]
  },
  {
   "cell_type": "code",
   "execution_count": 72,
   "metadata": {
    "collapsed": false
   },
   "outputs": [
    {
     "data": {
      "text/plain": [
       "False"
      ]
     },
     "execution_count": 72,
     "metadata": {},
     "output_type": "execute_result"
    }
   ],
   "source": [
    "q.check('avuela')"
   ]
  },
  {
   "cell_type": "code",
   "execution_count": 73,
   "metadata": {
    "collapsed": false
   },
   "outputs": [
    {
     "data": {
      "text/plain": [
       "True"
      ]
     },
     "execution_count": 73,
     "metadata": {},
     "output_type": "execute_result"
    }
   ],
   "source": [
    "q.check('abuela')"
   ]
  },
  {
   "cell_type": "code",
   "execution_count": 76,
   "metadata": {
    "collapsed": false
   },
   "outputs": [
    {
     "data": {
      "text/plain": [
       "['había',\n",
       " 'haba',\n",
       " 'habita',\n",
       " 'habida',\n",
       " 'rabia',\n",
       " 'sabia',\n",
       " 'habla',\n",
       " 'labia',\n",
       " 'hacia',\n",
       " 'habiz',\n",
       " 'Babia']"
      ]
     },
     "execution_count": 76,
     "metadata": {},
     "output_type": "execute_result"
    }
   ],
   "source": [
    "q.suggest('habia')"
   ]
  },
  {
   "cell_type": "code",
   "execution_count": null,
   "metadata": {
    "collapsed": true
   },
   "outputs": [],
   "source": []
  }
 ],
 "metadata": {
  "kernelspec": {
   "display_name": "Python 3",
   "language": "python",
   "name": "python3"
  },
  "language_info": {
   "codemirror_mode": {
    "name": "ipython",
    "version": 3
   },
   "file_extension": ".py",
   "mimetype": "text/x-python",
   "name": "python",
   "nbconvert_exporter": "python",
   "pygments_lexer": "ipython3",
   "version": "3.4.3"
  }
 },
 "nbformat": 4,
 "nbformat_minor": 0
}
