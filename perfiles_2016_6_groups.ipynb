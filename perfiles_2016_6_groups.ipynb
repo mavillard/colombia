{
 "cells": [
  {
   "cell_type": "code",
   "execution_count": 1,
   "metadata": {
    "collapsed": true
   },
   "outputs": [],
   "source": [
    "import csv\n",
    "import itertools\n",
    "import os\n",
    "import re\n",
    "from collections import Counter\n",
    "from collections import defaultdict\n",
    "from datetime import datetime\n",
    "from datetime import timedelta\n",
    "from string import punctuation\n",
    "\n",
    "import matplotlib\n",
    "import numpy as np\n",
    "import pandas as pd\n",
    "import seaborn as sns\n",
    "from matplotlib import pyplot as plt\n",
    "from pandas.tslib import Timestamp"
   ]
  },
  {
   "cell_type": "markdown",
   "metadata": {},
   "source": [
    "# Grupos"
   ]
  },
  {
   "cell_type": "markdown",
   "metadata": {},
   "source": [
    "## Socios activos 2016"
   ]
  },
  {
   "cell_type": "code",
   "execution_count": 2,
   "metadata": {
    "collapsed": true
   },
   "outputs": [],
   "source": [
    "# 1.       CTA: categoría para niños y jóvenes hasta bachillerato\n",
    "# 2.       CTI: categoría infantil, hasta doce años y solo es para Bogotá (blaa –biblioteca Luis Ángel Arango)\n",
    "# 3.       CTB: público general (solo permite préstamo de libros)\n",
    "# 4.       CTC: público en general (permite préstamo de libros y material audiovisual)\n",
    "# 5.       CTF: categoría familiar, pueden acceder a los beneficios hasta tres personas del grupo familiar que se asocia\n",
    "# 6.       CE1, CE2, CE2: categorías empresariales (solo para instituciones)\n",
    "# 7.       CIS: categoría Inclusión Social\n",
    "# 8.       CTU: categoría Universitaria\n",
    "# 9.       VIP: Investigadores, préstamo de 30 materiales (libros y material audiovisual)\n",
    "\n",
    "#      Categoría de lector: CE1 Categoría empresarial                                   218\n",
    "#      Categoría de lector: CE2 Categoría empresarial 2                                   5\n",
    "#      Categoría de lector: CEM Categoría Empleado/Pensionado                          1593\n",
    "#      Categoría de lector: CIN Categoría Interbibliotecario                            128\n",
    "#      Categoría de lector: CIP Categoría Investigador                                  351\n",
    "#      Categoría de lector: CIS Categoría Inclusión Preferencial                      15974\n",
    "#      Categoría de lector: CIV Categoría Investigadores                                 72\n",
    "#      Categoría de lector: CML Categoría Mediador de Proyectos Culturales                2\n",
    "#      Categoría de lector: CSU Categoría Sucursal                                       91\n",
    "#      Categoría de lector: CTA Categoría Básica A                                    10610\n",
    "#      Categoría de lector: CTB Categoría B                                            1359\n",
    "#      Categoría de lector: CTC Categoría C                                             224\n",
    "#      Categoría de lector: CTF Categoría familiar                                     1105\n",
    "#      Categoría de lector: CTI Categoría Infantil                                     1004\n",
    "#      Categoría de lector: CTU Categoría General                                     17402\n",
    "#      Categoría de lector: PTE PROCESOS TÉCNICOS                                        95"
   ]
  },
  {
   "cell_type": "code",
   "execution_count": 3,
   "metadata": {
    "collapsed": false
   },
   "outputs": [
    {
     "name": "stdout",
     "output_type": "stream",
     "text": [
      "CPU times: user 64.1 ms, sys: 14.1 ms, total: 78.2 ms\n",
      "Wall time: 77.1 ms\n"
     ]
    }
   ],
   "source": [
    "%%time\n",
    "\n",
    "dtypes = {\n",
    "    'Sucursal': str,\n",
    "    'Tratamiento': str,\n",
    "    'Barrio': str,\n",
    "    'Ciudad': str,\n",
    "    'CATEG': str,\n",
    "    'Ocupación1': str,\n",
    "    'Nivel Estudio1': str,\n",
    "    'Área de Estudio1': str,\n",
    "    'Edad': 'category',\n",
    "}\n",
    "\n",
    "perfiles_df = pd.read_csv(\n",
    "    'valores_grupos_2016.csv', header=0, dtype=dtypes)\n",
    "# perfiles_df = perfiles_df.fillna('')"
   ]
  },
  {
   "cell_type": "code",
   "execution_count": 4,
   "metadata": {
    "collapsed": false
   },
   "outputs": [
    {
     "data": {
      "text/plain": [
       "(50272, 9)"
      ]
     },
     "execution_count": 4,
     "metadata": {},
     "output_type": "execute_result"
    }
   ],
   "source": [
    "perfiles_df.shape"
   ]
  },
  {
   "cell_type": "code",
   "execution_count": 5,
   "metadata": {
    "collapsed": false
   },
   "outputs": [
    {
     "data": {
      "text/html": [
       "<div>\n",
       "<table border=\"1\" class=\"dataframe\">\n",
       "  <thead>\n",
       "    <tr style=\"text-align: right;\">\n",
       "      <th></th>\n",
       "      <th>Sucursal</th>\n",
       "      <th>Tratamiento</th>\n",
       "      <th>Barrio</th>\n",
       "      <th>Ciudad</th>\n",
       "      <th>CATEG</th>\n",
       "      <th>Ocupación1</th>\n",
       "      <th>Nivel Estudio1</th>\n",
       "      <th>Área de Estudio1</th>\n",
       "      <th>Edad</th>\n",
       "    </tr>\n",
       "  </thead>\n",
       "  <tbody>\n",
       "    <tr>\n",
       "      <th>0</th>\n",
       "      <td>BLAA</td>\n",
       "      <td>OTRO</td>\n",
       "      <td>chapinero</td>\n",
       "      <td>bogota</td>\n",
       "      <td>CIN</td>\n",
       "      <td>universidad</td>\n",
       "      <td>OTRO</td>\n",
       "      <td>OTRO</td>\n",
       "      <td>OTRO</td>\n",
       "    </tr>\n",
       "    <tr>\n",
       "      <th>1</th>\n",
       "      <td>BLAA</td>\n",
       "      <td>sra.</td>\n",
       "      <td>OTRO</td>\n",
       "      <td>bogota</td>\n",
       "      <td>CEM</td>\n",
       "      <td>pensionado</td>\n",
       "      <td>OTRO</td>\n",
       "      <td>OTRO</td>\n",
       "      <td>51-64</td>\n",
       "    </tr>\n",
       "    <tr>\n",
       "      <th>2</th>\n",
       "      <td>BLAA</td>\n",
       "      <td>sra.</td>\n",
       "      <td>icata</td>\n",
       "      <td>bogota</td>\n",
       "      <td>CEM</td>\n",
       "      <td>empleado</td>\n",
       "      <td>profesional</td>\n",
       "      <td>filosofía y letras</td>\n",
       "      <td>OTRO</td>\n",
       "    </tr>\n",
       "    <tr>\n",
       "      <th>3</th>\n",
       "      <td>ARM</td>\n",
       "      <td>sr.</td>\n",
       "      <td>OTRO</td>\n",
       "      <td>OTRO</td>\n",
       "      <td>CEM</td>\n",
       "      <td>empleado</td>\n",
       "      <td>profesional</td>\n",
       "      <td>economía</td>\n",
       "      <td>51-64</td>\n",
       "    </tr>\n",
       "    <tr>\n",
       "      <th>4</th>\n",
       "      <td>BLAA</td>\n",
       "      <td>sr.</td>\n",
       "      <td>soledad</td>\n",
       "      <td>bogota</td>\n",
       "      <td>CEM</td>\n",
       "      <td>OTRO</td>\n",
       "      <td>OTRO</td>\n",
       "      <td>OTRO</td>\n",
       "      <td>OTRO</td>\n",
       "    </tr>\n",
       "  </tbody>\n",
       "</table>\n",
       "</div>"
      ],
      "text/plain": [
       "  Sucursal Tratamiento     Barrio  Ciudad CATEG   Ocupación1 Nivel Estudio1  \\\n",
       "0     BLAA        OTRO  chapinero  bogota   CIN  universidad           OTRO   \n",
       "1     BLAA        sra.       OTRO  bogota   CEM   pensionado           OTRO   \n",
       "2     BLAA        sra.      icata  bogota   CEM     empleado    profesional   \n",
       "3      ARM         sr.       OTRO    OTRO   CEM     empleado    profesional   \n",
       "4     BLAA         sr.    soledad  bogota   CEM         OTRO           OTRO   \n",
       "\n",
       "     Área de Estudio1   Edad  \n",
       "0                OTRO   OTRO  \n",
       "1                OTRO  51-64  \n",
       "2  filosofía y letras   OTRO  \n",
       "3            economía  51-64  \n",
       "4                OTRO   OTRO  "
      ]
     },
     "execution_count": 5,
     "metadata": {},
     "output_type": "execute_result"
    }
   ],
   "source": [
    "perfiles_df.head()"
   ]
  },
  {
   "cell_type": "markdown",
   "metadata": {},
   "source": [
    "# Agrupando valores frecuentes"
   ]
  },
  {
   "cell_type": "markdown",
   "metadata": {},
   "source": [
    "### Grupos (I)"
   ]
  },
  {
   "cell_type": "code",
   "execution_count": 6,
   "metadata": {
    "collapsed": false
   },
   "outputs": [],
   "source": [
    "groups = [tuple(x) for i, x in perfiles_df.iterrows()]\n",
    "counter = Counter(groups)"
   ]
  },
  {
   "cell_type": "code",
   "execution_count": 7,
   "metadata": {
    "collapsed": false
   },
   "outputs": [
    {
     "data": {
      "text/plain": [
       "42621"
      ]
     },
     "execution_count": 7,
     "metadata": {},
     "output_type": "execute_result"
    }
   ],
   "source": [
    "len(counter)"
   ]
  },
  {
   "cell_type": "code",
   "execution_count": 8,
   "metadata": {
    "collapsed": false
   },
   "outputs": [
    {
     "data": {
      "text/plain": [
       "[(('BUE',\n",
       "   'sr.',\n",
       "   'olimpico',\n",
       "   'buenaventura',\n",
       "   'CTA',\n",
       "   'estudiante',\n",
       "   'básica primaria',\n",
       "   'OTRO',\n",
       "   '15-'),\n",
       "  75)]"
      ]
     },
     "execution_count": 8,
     "metadata": {},
     "output_type": "execute_result"
    }
   ],
   "source": [
    "counter.most_common(1)"
   ]
  },
  {
   "cell_type": "markdown",
   "metadata": {},
   "source": [
    "##### => 50272 usuarios repartidos en 42621 grupos muy poco numerosos (sólo 75 usuarios el de mayor tamaño)"
   ]
  },
  {
   "cell_type": "markdown",
   "metadata": {},
   "source": [
    "### Porcentajes sin valores"
   ]
  },
  {
   "cell_type": "code",
   "execution_count": 11,
   "metadata": {
    "collapsed": false
   },
   "outputs": [
    {
     "name": "stdout",
     "output_type": "stream",
     "text": [
      "Barrio 12.10%\n",
      "CATEG 0.00%\n",
      "Ciudad 5.60%\n",
      "Edad 13.18%\n",
      "Nivel Estudio1 12.68%\n",
      "Ocupación1 3.64%\n",
      "Sucursal 0.02%\n",
      "Tratamiento 10.79%\n",
      "Área de Estudio1 46.69%\n"
     ]
    }
   ],
   "source": [
    "for c in sorted(dtypes):\n",
    "    cns = perfiles_df[c].value_counts()\n",
    "    total = cns.sum()\n",
    "    otros = 0\n",
    "    if 'OTRO' in cns:\n",
    "        otros = cns.ix['OTRO']\n",
    "    perc = '{:.2%}'.format(otros/total)\n",
    "    print(c, perc)"
   ]
  },
  {
   "cell_type": "markdown",
   "metadata": {},
   "source": [
    "##### => Eliminar columna Área de Estudio1 (46.69% sin valor)"
   ]
  },
  {
   "cell_type": "markdown",
   "metadata": {},
   "source": [
    "### Sucursales y ciudades"
   ]
  },
  {
   "cell_type": "code",
   "execution_count": 118,
   "metadata": {
    "collapsed": true
   },
   "outputs": [],
   "source": [
    "sucursales_ciudades = {\n",
    "    'ARM': 'armenia',\n",
    "    'BAR': 'barranquilla',\n",
    "    'BLAA': 'bogota',\n",
    "    'BUE': 'buenaventura',\n",
    "    'BUC': 'bucaramanga',\n",
    "    'CAL': 'cali',\n",
    "    'CAR': 'cartagena',\n",
    "    'CASAGO': 'bogota',\n",
    "    'CATMAN': 'bogota',\n",
    "    'CUC': 'cucuta',\n",
    "    'FLO': 'florencia',\n",
    "    'GIR': 'girardot',\n",
    "    'HON': 'honda',\n",
    "    'IBA': 'ibague',\n",
    "    'IEC': 'bogota',\n",
    "    'IPI': 'ipiales',\n",
    "    'LET': 'leticia',\n",
    "    'MAN': 'manizales',\n",
    "    'MED': 'medellin',\n",
    "    'MON': 'monteria',\n",
    "    'NEI': 'neiva',\n",
    "    'PAS': 'pasto',\n",
    "    'PER': 'pereira',\n",
    "    'POP': 'popayan',\n",
    "    'QUI': 'quibdo',\n",
    "    'RIO': 'riohacha',\n",
    "    'SAN': 'san andres',\n",
    "    'SIN': 'sincelejo',\n",
    "    'STM': 'santa marta',\n",
    "    'TUN': 'tunja',\n",
    "    'VAL': 'valledupar',\n",
    "    'VIL': 'villavicencio',\n",
    "}\n"
   ]
  },
  {
   "cell_type": "code",
   "execution_count": 133,
   "metadata": {
    "collapsed": false
   },
   "outputs": [
    {
     "name": "stdout",
     "output_type": "stream",
     "text": [
      "8 44290 5974\n",
      "88.12%\n"
     ]
    }
   ],
   "source": [
    "p = q = r = 0\n",
    "\n",
    "for i, x in perfiles_df.iterrows():\n",
    "    s = x['Sucursal']\n",
    "    cs = sucursales_ciudades.get(s, 'OTRO')\n",
    "    c = x['Ciudad']\n",
    "    if cs == c =='OTRO':\n",
    "        p += 1\n",
    "    elif cs == c:\n",
    "        q += 1\n",
    "    else:\n",
    "        r += 1\n",
    "\n",
    "print(p, q, r)\n",
    "print('{:.2%}'.format((p + q) / (p + q + r)))"
   ]
  },
  {
   "cell_type": "markdown",
   "metadata": {},
   "source": [
    "##### => Eliminar columna Ciudad (88.12% duplicados)"
   ]
  },
  {
   "cell_type": "markdown",
   "metadata": {},
   "source": [
    "### Grupos (II)"
   ]
  },
  {
   "cell_type": "code",
   "execution_count": 14,
   "metadata": {
    "collapsed": true
   },
   "outputs": [],
   "source": [
    "final_columns = ['Sucursal', 'Tratamiento', 'Barrio', 'CATEG', 'Ocupación1', 'Nivel Estudio1', 'Edad',]"
   ]
  },
  {
   "cell_type": "code",
   "execution_count": 16,
   "metadata": {
    "collapsed": true
   },
   "outputs": [],
   "source": [
    "perfiles_df = perfiles_df[final_columns].copy()"
   ]
  },
  {
   "cell_type": "code",
   "execution_count": 17,
   "metadata": {
    "collapsed": false
   },
   "outputs": [],
   "source": [
    "groups = [tuple(x) for i, x in perfiles_df.iterrows()]\n",
    "counter = Counter(groups)"
   ]
  },
  {
   "cell_type": "code",
   "execution_count": 18,
   "metadata": {
    "collapsed": false
   },
   "outputs": [
    {
     "data": {
      "text/plain": [
       "36382"
      ]
     },
     "execution_count": 18,
     "metadata": {},
     "output_type": "execute_result"
    }
   ],
   "source": [
    "len(counter)"
   ]
  },
  {
   "cell_type": "code",
   "execution_count": 19,
   "metadata": {
    "collapsed": false
   },
   "outputs": [
    {
     "data": {
      "text/plain": [
       "[(('BLAA',\n",
       "   'sr.',\n",
       "   'OTRO',\n",
       "   'CIS',\n",
       "   'estudiante',\n",
       "   'universitario 1 nivel',\n",
       "   '16-28'),\n",
       "  117)]"
      ]
     },
     "execution_count": 19,
     "metadata": {},
     "output_type": "execute_result"
    }
   ],
   "source": [
    "counter.most_common(1)"
   ]
  },
  {
   "cell_type": "markdown",
   "metadata": {},
   "source": [
    "##### => 50272 usuarios repartidos en 36382 grupos muy poco numerosos (sólo 117 usuarios el de mayor tamaño)"
   ]
  },
  {
   "cell_type": "markdown",
   "metadata": {},
   "source": [
    "### Combinaciones"
   ]
  },
  {
   "cell_type": "code",
   "execution_count": 70,
   "metadata": {
    "collapsed": false
   },
   "outputs": [],
   "source": [
    "def combinations(ls, ini=[], together=[]):\n",
    "    def basic_combinations(ls):\n",
    "        combs = []\n",
    "        for i in range(1, len(ls) + 1):\n",
    "            combs.append(itertools.combinations(ls, i))\n",
    "        combs = [c for comb in combs for c in comb]\n",
    "        return combs\n",
    "    \n",
    "    combs = basic_combinations(ls)\n",
    "    \n",
    "    aux = list(combs)\n",
    "    for e in ini:\n",
    "        for c in combs:\n",
    "            if e not in c:\n",
    "                if c in aux:\n",
    "                    aux.remove(c)\n",
    "    \n",
    "    result = list(aux)\n",
    "    for x, y in together:\n",
    "        for c in aux:\n",
    "            if x in c and y not in c or x not in c and y in c:\n",
    "                if c in aux:\n",
    "                    result.remove(c)\n",
    "    \n",
    "    return result"
   ]
  },
  {
   "cell_type": "code",
   "execution_count": 71,
   "metadata": {
    "collapsed": false
   },
   "outputs": [
    {
     "data": {
      "text/plain": [
       "['Sucursal',\n",
       " 'Tratamiento',\n",
       " 'Barrio',\n",
       " 'CATEG',\n",
       " 'Ocupación1',\n",
       " 'Nivel Estudio1',\n",
       " 'Edad']"
      ]
     },
     "execution_count": 71,
     "metadata": {},
     "output_type": "execute_result"
    }
   ],
   "source": [
    "final_columns"
   ]
  },
  {
   "cell_type": "code",
   "execution_count": 76,
   "metadata": {
    "collapsed": false
   },
   "outputs": [],
   "source": [
    "combs = combinations(final_columns, ini=['Tratamiento', 'Edad'], together=[('Sucursal', 'Barrio')])"
   ]
  },
  {
   "cell_type": "code",
   "execution_count": 77,
   "metadata": {
    "collapsed": false
   },
   "outputs": [
    {
     "data": {
      "text/plain": [
       "[('Tratamiento', 'Edad'),\n",
       " ('Tratamiento', 'CATEG', 'Edad'),\n",
       " ('Tratamiento', 'Ocupación1', 'Edad'),\n",
       " ('Tratamiento', 'Nivel Estudio1', 'Edad'),\n",
       " ('Sucursal', 'Tratamiento', 'Barrio', 'Edad'),\n",
       " ('Tratamiento', 'CATEG', 'Ocupación1', 'Edad'),\n",
       " ('Tratamiento', 'CATEG', 'Nivel Estudio1', 'Edad'),\n",
       " ('Tratamiento', 'Ocupación1', 'Nivel Estudio1', 'Edad'),\n",
       " ('Sucursal', 'Tratamiento', 'Barrio', 'CATEG', 'Edad'),\n",
       " ('Sucursal', 'Tratamiento', 'Barrio', 'Ocupación1', 'Edad'),\n",
       " ('Sucursal', 'Tratamiento', 'Barrio', 'Nivel Estudio1', 'Edad'),\n",
       " ('Tratamiento', 'CATEG', 'Ocupación1', 'Nivel Estudio1', 'Edad'),\n",
       " ('Sucursal', 'Tratamiento', 'Barrio', 'CATEG', 'Ocupación1', 'Edad'),\n",
       " ('Sucursal', 'Tratamiento', 'Barrio', 'CATEG', 'Nivel Estudio1', 'Edad'),\n",
       " ('Sucursal', 'Tratamiento', 'Barrio', 'Ocupación1', 'Nivel Estudio1', 'Edad'),\n",
       " ('Sucursal',\n",
       "  'Tratamiento',\n",
       "  'Barrio',\n",
       "  'CATEG',\n",
       "  'Ocupación1',\n",
       "  'Nivel Estudio1',\n",
       "  'Edad')]"
      ]
     },
     "execution_count": 77,
     "metadata": {},
     "output_type": "execute_result"
    }
   ],
   "source": [
    "combs"
   ]
  },
  {
   "cell_type": "code",
   "execution_count": null,
   "metadata": {
    "collapsed": true
   },
   "outputs": [],
   "source": []
  },
  {
   "cell_type": "code",
   "execution_count": null,
   "metadata": {
    "collapsed": true
   },
   "outputs": [],
   "source": []
  },
  {
   "cell_type": "code",
   "execution_count": null,
   "metadata": {
    "collapsed": true
   },
   "outputs": [],
   "source": []
  }
 ],
 "metadata": {
  "kernelspec": {
   "display_name": "Python 3",
   "language": "python",
   "name": "python3"
  },
  "language_info": {
   "codemirror_mode": {
    "name": "ipython",
    "version": 3
   },
   "file_extension": ".py",
   "mimetype": "text/x-python",
   "name": "python",
   "nbconvert_exporter": "python",
   "pygments_lexer": "ipython3",
   "version": "3.4.3"
  }
 },
 "nbformat": 4,
 "nbformat_minor": 1
}
