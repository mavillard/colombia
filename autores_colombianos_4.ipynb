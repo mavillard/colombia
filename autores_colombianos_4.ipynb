{
 "cells": [
  {
   "cell_type": "markdown",
   "metadata": {},
   "source": [
    "# Geolocalización"
   ]
  },
  {
   "cell_type": "code",
   "execution_count": 1,
   "metadata": {
    "collapsed": true
   },
   "outputs": [],
   "source": [
    "import ast\n",
    "import csv\n",
    "import os\n",
    "import re\n",
    "from collections import defaultdict\n",
    "from collections import Counter\n",
    "from datetime import datetime\n",
    "from datetime import timedelta\n",
    "from string import punctuation\n",
    "\n",
    "import matplotlib\n",
    "import numpy as np\n",
    "import networkx as nx\n",
    "import pandas as pd\n",
    "import requests\n",
    "import seaborn as sns\n",
    "from geolocation.main import GoogleMaps\n",
    "from matplotlib import pyplot as plt\n",
    "from SPARQLWrapper import SPARQLWrapper, JSON\n",
    "\n",
    "from googlemaps_key import KEY"
   ]
  },
  {
   "cell_type": "markdown",
   "metadata": {},
   "source": [
    "## Autores"
   ]
  },
  {
   "cell_type": "code",
   "execution_count": 2,
   "metadata": {
    "collapsed": false
   },
   "outputs": [
    {
     "name": "stdout",
     "output_type": "stream",
     "text": [
      "CPU times: user 237 ms, sys: 6.62 ms, total: 244 ms\n",
      "Wall time: 243 ms\n"
     ]
    }
   ],
   "source": [
    "%%time\n",
    "\n",
    "autores_df = pd.read_csv(\n",
    "    'autores_colombianos_3.csv',\n",
    "    header=0,\n",
    "    converters={\n",
    "        'GEOLOC_CAPITAL_AUTOR': ast.literal_eval,\n",
    "        'GEOLOC_CAPITAL_EJEMPLAR': ast.literal_eval\n",
    "    }\n",
    ")\n",
    "autores_df = autores_df.fillna('')"
   ]
  },
  {
   "cell_type": "code",
   "execution_count": 3,
   "metadata": {
    "collapsed": false
   },
   "outputs": [
    {
     "data": {
      "text/plain": [
       "(5551, 13)"
      ]
     },
     "execution_count": 3,
     "metadata": {},
     "output_type": "execute_result"
    }
   ],
   "source": [
    "autores_df.shape"
   ]
  },
  {
   "cell_type": "code",
   "execution_count": 4,
   "metadata": {
    "collapsed": false
   },
   "outputs": [
    {
     "data": {
      "text/html": [
       "<div>\n",
       "<table border=\"1\" class=\"dataframe\">\n",
       "  <thead>\n",
       "    <tr style=\"text-align: right;\">\n",
       "      <th></th>\n",
       "      <th>TITULO</th>\n",
       "      <th>PAIS_EJEMPLAR</th>\n",
       "      <th>AUTOR</th>\n",
       "      <th>PAIS_AUTOR</th>\n",
       "      <th>FECHA_PUB</th>\n",
       "      <th>CAPITAL_AUTOR</th>\n",
       "      <th>CAPITAL_EJEMPLAR</th>\n",
       "      <th>GEOLOC_CAPITAL_AUTOR</th>\n",
       "      <th>GEOLOC_CAPITAL_EJEMPLAR</th>\n",
       "      <th>CIUDAD_AUTOR</th>\n",
       "      <th>DEPARTAMENTO_AUTOR</th>\n",
       "      <th>ENCONTRADO</th>\n",
       "      <th>NOMBRE_ENCONTRADO</th>\n",
       "    </tr>\n",
       "  </thead>\n",
       "  <tbody>\n",
       "    <tr>\n",
       "      <th>0</th>\n",
       "      <td>En la laguna más profunda</td>\n",
       "      <td>Colombia</td>\n",
       "      <td>Oscar Collazos</td>\n",
       "      <td>Colombia</td>\n",
       "      <td>2011</td>\n",
       "      <td>Bogotá</td>\n",
       "      <td>Bogotá</td>\n",
       "      <td>(4.710988599999999, -74.072092)</td>\n",
       "      <td>(4.710988599999999, -74.072092)</td>\n",
       "      <td>Bahía Solano</td>\n",
       "      <td>Chocó</td>\n",
       "      <td>True</td>\n",
       "      <td>Oscar Collazos</td>\n",
       "    </tr>\n",
       "    <tr>\n",
       "      <th>1</th>\n",
       "      <td>El gato bandido y otros cuentos</td>\n",
       "      <td>Colombia</td>\n",
       "      <td>Rafael Pombo</td>\n",
       "      <td>Colombia</td>\n",
       "      <td>2007</td>\n",
       "      <td>Bogotá</td>\n",
       "      <td>Bogotá</td>\n",
       "      <td>(4.710988599999999, -74.072092)</td>\n",
       "      <td>(4.710988599999999, -74.072092)</td>\n",
       "      <td>Bogotá</td>\n",
       "      <td>Cundinamarca</td>\n",
       "      <td>True</td>\n",
       "      <td>Rafael Pombo</td>\n",
       "    </tr>\n",
       "    <tr>\n",
       "      <th>2</th>\n",
       "      <td>Cuentos pintados</td>\n",
       "      <td>Colombia</td>\n",
       "      <td>Rafael Pombo</td>\n",
       "      <td>Colombia</td>\n",
       "      <td>2011</td>\n",
       "      <td>Bogotá</td>\n",
       "      <td>Bogotá</td>\n",
       "      <td>(4.710988599999999, -74.072092)</td>\n",
       "      <td>(4.710988599999999, -74.072092)</td>\n",
       "      <td>Bogotá</td>\n",
       "      <td>Cundinamarca</td>\n",
       "      <td>True</td>\n",
       "      <td>Rafael Pombo</td>\n",
       "    </tr>\n",
       "    <tr>\n",
       "      <th>3</th>\n",
       "      <td>Aleida : 10 años</td>\n",
       "      <td>Colombia</td>\n",
       "      <td>Vladdo</td>\n",
       "      <td>Colombia</td>\n",
       "      <td>2007</td>\n",
       "      <td>Bogotá</td>\n",
       "      <td>Bogotá</td>\n",
       "      <td>(4.710988599999999, -74.072092)</td>\n",
       "      <td>(4.710988599999999, -74.072092)</td>\n",
       "      <td>Bogotá</td>\n",
       "      <td>Cundinamarca</td>\n",
       "      <td>True</td>\n",
       "      <td>Vladdo</td>\n",
       "    </tr>\n",
       "    <tr>\n",
       "      <th>4</th>\n",
       "      <td>Mitos y leyendas indígenas de Colombia</td>\n",
       "      <td>Colombia</td>\n",
       "      <td>Javier Ocampo López</td>\n",
       "      <td>Colombia</td>\n",
       "      <td>2013</td>\n",
       "      <td>Bogotá</td>\n",
       "      <td>Bogotá</td>\n",
       "      <td>(4.710988599999999, -74.072092)</td>\n",
       "      <td>(4.710988599999999, -74.072092)</td>\n",
       "      <td>Aguadas</td>\n",
       "      <td>Caldas</td>\n",
       "      <td>True</td>\n",
       "      <td>Javier Ocampo López</td>\n",
       "    </tr>\n",
       "  </tbody>\n",
       "</table>\n",
       "</div>"
      ],
      "text/plain": [
       "                                   TITULO PAIS_EJEMPLAR                AUTOR  \\\n",
       "0               En la laguna más profunda      Colombia       Oscar Collazos   \n",
       "1         El gato bandido y otros cuentos      Colombia         Rafael Pombo   \n",
       "2                        Cuentos pintados      Colombia         Rafael Pombo   \n",
       "3                        Aleida : 10 años      Colombia               Vladdo   \n",
       "4  Mitos y leyendas indígenas de Colombia      Colombia  Javier Ocampo López   \n",
       "\n",
       "  PAIS_AUTOR  FECHA_PUB CAPITAL_AUTOR CAPITAL_EJEMPLAR  \\\n",
       "0   Colombia       2011        Bogotá           Bogotá   \n",
       "1   Colombia       2007        Bogotá           Bogotá   \n",
       "2   Colombia       2011        Bogotá           Bogotá   \n",
       "3   Colombia       2007        Bogotá           Bogotá   \n",
       "4   Colombia       2013        Bogotá           Bogotá   \n",
       "\n",
       "              GEOLOC_CAPITAL_AUTOR          GEOLOC_CAPITAL_EJEMPLAR  \\\n",
       "0  (4.710988599999999, -74.072092)  (4.710988599999999, -74.072092)   \n",
       "1  (4.710988599999999, -74.072092)  (4.710988599999999, -74.072092)   \n",
       "2  (4.710988599999999, -74.072092)  (4.710988599999999, -74.072092)   \n",
       "3  (4.710988599999999, -74.072092)  (4.710988599999999, -74.072092)   \n",
       "4  (4.710988599999999, -74.072092)  (4.710988599999999, -74.072092)   \n",
       "\n",
       "   CIUDAD_AUTOR DEPARTAMENTO_AUTOR ENCONTRADO    NOMBRE_ENCONTRADO  \n",
       "0  Bahía Solano              Chocó       True       Oscar Collazos  \n",
       "1        Bogotá       Cundinamarca       True         Rafael Pombo  \n",
       "2        Bogotá       Cundinamarca       True         Rafael Pombo  \n",
       "3        Bogotá       Cundinamarca       True               Vladdo  \n",
       "4       Aguadas             Caldas       True  Javier Ocampo López  "
      ]
     },
     "execution_count": 4,
     "metadata": {},
     "output_type": "execute_result"
    }
   ],
   "source": [
    "autores_df.head()"
   ]
  },
  {
   "cell_type": "code",
   "execution_count": 5,
   "metadata": {
    "collapsed": true
   },
   "outputs": [],
   "source": [
    "autores_df = autores_df[\n",
    "    (autores_df['CIUDAD_AUTOR'] != 'DESCONOCIDO') &\n",
    "    (autores_df['DEPARTAMENTO_AUTOR'] != 'DESCONOCIDO')\n",
    "]\n",
    "autores_df = autores_df.copy()"
   ]
  },
  {
   "cell_type": "code",
   "execution_count": 6,
   "metadata": {
    "collapsed": false
   },
   "outputs": [
    {
     "data": {
      "text/plain": [
       "(5364, 13)"
      ]
     },
     "execution_count": 6,
     "metadata": {},
     "output_type": "execute_result"
    }
   ],
   "source": [
    "autores_df.shape"
   ]
  },
  {
   "cell_type": "markdown",
   "metadata": {},
   "source": [
    "## Geocoordinates"
   ]
  },
  {
   "cell_type": "code",
   "execution_count": 7,
   "metadata": {
    "collapsed": false
   },
   "outputs": [
    {
     "data": {
      "text/plain": [
       "148"
      ]
     },
     "execution_count": 7,
     "metadata": {},
     "output_type": "execute_result"
    }
   ],
   "source": [
    "autores_df['CIUDAD_AUTOR'].nunique()"
   ]
  },
  {
   "cell_type": "code",
   "execution_count": 8,
   "metadata": {
    "collapsed": false
   },
   "outputs": [
    {
     "name": "stdout",
     "output_type": "stream",
     "text": [
      "CPU times: user 697 ms, sys: 0 ns, total: 697 ms\n",
      "Wall time: 694 ms\n"
     ]
    }
   ],
   "source": [
    "%%time\n",
    "\n",
    "places = set()\n",
    "for i, x in autores_df.iterrows():\n",
    "    ciudad = x['CIUDAD_AUTOR']\n",
    "    departamento = x['DEPARTAMENTO_AUTOR']\n",
    "    pais = 'Colombia'\n",
    "    places.add((ciudad, departamento, pais))"
   ]
  },
  {
   "cell_type": "code",
   "execution_count": 9,
   "metadata": {
    "collapsed": false
   },
   "outputs": [
    {
     "data": {
      "text/plain": [
       "148"
      ]
     },
     "execution_count": 9,
     "metadata": {},
     "output_type": "execute_result"
    }
   ],
   "source": [
    "len(places)"
   ]
  },
  {
   "cell_type": "code",
   "execution_count": 10,
   "metadata": {
    "collapsed": false
   },
   "outputs": [],
   "source": [
    "google_maps = GoogleMaps(api_key=KEY)"
   ]
  },
  {
   "cell_type": "code",
   "execution_count": 11,
   "metadata": {
    "collapsed": false
   },
   "outputs": [
    {
     "name": "stdout",
     "output_type": "stream",
     "text": [
      "NOT FOUND: ('Aracataca', 'Magdalena', 'Colombia')\n",
      "NOT FOUND: ('Ibagué', 'Tolima', 'Colombia')\n",
      "NOT FOUND: ('Socorro', 'Santander', 'Colombia')\n",
      "NOT FOUND: ('La Paz', 'Cesar', 'Colombia')\n",
      "NOT FOUND: ('Amalfi', 'Antioquia', 'Colombia')\n",
      "NOT FOUND: ('Medellín', 'Antioquia', 'Colombia')\n",
      "NOT FOUND: ('Chía', 'Cundinamarca', 'Colombia')\n",
      "NOT FOUND: ('Santa Fe de Antioquia', 'Antioquia', 'Colombia')\n",
      "CPU times: user 3.52 s, sys: 141 ms, total: 3.66 s\n",
      "Wall time: 1min 51s\n"
     ]
    }
   ],
   "source": [
    "%%time\n",
    "\n",
    "locs = {} # (lat, lng)\n",
    "\n",
    "for p in places:\n",
    "    found = False\n",
    "    try:\n",
    "        locations = google_maps.search(location=', '.join(p))\n",
    "        if len(locations.list_data) == 1:\n",
    "            location = locations.list_data[0]\n",
    "            lc = location.country.decode('utf-8') \n",
    "            if lc == p[2]:\n",
    "                locs[p[0]] = (location.lat, location.lng)\n",
    "                found = True\n",
    "            else:\n",
    "                print('NOT FOUND:', p)\n",
    "    except ApiClientException as e:\n",
    "        pass\n",
    "    if not found:\n",
    "        print('NOT FOUND:', p)"
   ]
  },
  {
   "cell_type": "code",
   "execution_count": 12,
   "metadata": {
    "collapsed": false
   },
   "outputs": [],
   "source": [
    "locs['Aracataca'] = (10.593694, -74.192808)\n",
    "locs['Ibagué'] = (4.433333, -75.233333)\n",
    "locs['Socorro'] = (6.467778, -73.259722)\n",
    "locs['La Paz'] = (6.189809899999999, -73.57585)\n",
    "locs['Amalfi'] = (6.909167, -75.076667)\n",
    "locs['Medellín'] = (6.230833, -75.590556)\n",
    "locs['Chía'] = (4.864758, -74.05091800000001)\n",
    "locs['Santa Fe de Antioquia'] = (6.55, -75.816667)"
   ]
  },
  {
   "cell_type": "code",
   "execution_count": 13,
   "metadata": {
    "collapsed": false
   },
   "outputs": [
    {
     "name": "stdout",
     "output_type": "stream",
     "text": [
      "CPU times: user 168 ms, sys: 353 µs, total: 169 ms\n",
      "Wall time: 167 ms\n"
     ]
    }
   ],
   "source": [
    "%%time\n",
    "\n",
    "def process_geolocation_ciudad_autor(x):\n",
    "    c = x['CIUDAD_AUTOR']\n",
    "    return locs[c]\n",
    "\n",
    "autores_df['GEOLOC_CIUDAD_AUTOR'] = autores_df.apply(process_geolocation_ciudad_autor, axis=1)"
   ]
  },
  {
   "cell_type": "markdown",
   "metadata": {
    "collapsed": true
   },
   "source": [
    "# Saving results"
   ]
  },
  {
   "cell_type": "code",
   "execution_count": 14,
   "metadata": {
    "collapsed": true
   },
   "outputs": [],
   "source": [
    "autores_df.to_csv('autores_colombianos_4.csv', index=False)"
   ]
  },
  {
   "cell_type": "code",
   "execution_count": null,
   "metadata": {
    "collapsed": true
   },
   "outputs": [],
   "source": []
  }
 ],
 "metadata": {
  "kernelspec": {
   "display_name": "Python 3",
   "language": "python",
   "name": "python3"
  },
  "language_info": {
   "codemirror_mode": {
    "name": "ipython",
    "version": 3
   },
   "file_extension": ".py",
   "mimetype": "text/x-python",
   "name": "python",
   "nbconvert_exporter": "python",
   "pygments_lexer": "ipython3",
   "version": "3.4.3"
  }
 },
 "nbformat": 4,
 "nbformat_minor": 1
}
