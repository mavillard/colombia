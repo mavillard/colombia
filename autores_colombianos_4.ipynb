{
 "cells": [
  {
   "cell_type": "markdown",
   "metadata": {},
   "source": [
    "# Geolocalización"
   ]
  },
  {
   "cell_type": "code",
   "execution_count": 1,
   "metadata": {
    "collapsed": true
   },
   "outputs": [],
   "source": [
    "import ast\n",
    "import csv\n",
    "import os\n",
    "import re\n",
    "from collections import defaultdict\n",
    "from collections import Counter\n",
    "from datetime import datetime\n",
    "from datetime import timedelta\n",
    "from string import punctuation\n",
    "\n",
    "import matplotlib\n",
    "import numpy as np\n",
    "import networkx as nx\n",
    "import pandas as pd\n",
    "import requests\n",
    "import seaborn as sns\n",
    "from geolocation.main import GoogleMaps\n",
    "from matplotlib import pyplot as plt\n",
    "from SPARQLWrapper import SPARQLWrapper, JSON\n",
    "\n",
    "from googlemaps_key import KEY"
   ]
  },
  {
   "cell_type": "markdown",
   "metadata": {},
   "source": [
    "## Autores"
   ]
  },
  {
   "cell_type": "code",
   "execution_count": 2,
   "metadata": {
    "collapsed": false
   },
   "outputs": [
    {
     "name": "stdout",
     "output_type": "stream",
     "text": [
      "CPU times: user 168 ms, sys: 3.92 ms, total: 172 ms\n",
      "Wall time: 171 ms\n"
     ]
    }
   ],
   "source": [
    "%%time\n",
    "\n",
    "autores_df = pd.read_csv(\n",
    "    'autores_colombianos_3.csv',\n",
    "    header=0,\n",
    "    converters={\n",
    "        'GEOLOC_CAPITAL_AUTOR': ast.literal_eval,\n",
    "        'GEOLOC_CAPITAL_EJEMPLAR': ast.literal_eval\n",
    "    }\n",
    ")\n",
    "autores_df = autores_df.fillna('')"
   ]
  },
  {
   "cell_type": "code",
   "execution_count": 3,
   "metadata": {
    "collapsed": false
   },
   "outputs": [
    {
     "data": {
      "text/plain": [
       "(3369, 13)"
      ]
     },
     "execution_count": 3,
     "metadata": {},
     "output_type": "execute_result"
    }
   ],
   "source": [
    "autores_df.shape"
   ]
  },
  {
   "cell_type": "code",
   "execution_count": 4,
   "metadata": {
    "collapsed": false
   },
   "outputs": [
    {
     "data": {
      "text/html": [
       "<div>\n",
       "<table border=\"1\" class=\"dataframe\">\n",
       "  <thead>\n",
       "    <tr style=\"text-align: right;\">\n",
       "      <th></th>\n",
       "      <th>TITULO</th>\n",
       "      <th>PAIS_EJEMPLAR</th>\n",
       "      <th>AUTOR</th>\n",
       "      <th>PAIS_AUTOR</th>\n",
       "      <th>FECHA_PUB</th>\n",
       "      <th>CAPITAL_AUTOR</th>\n",
       "      <th>CAPITAL_EJEMPLAR</th>\n",
       "      <th>GEOLOC_CAPITAL_AUTOR</th>\n",
       "      <th>GEOLOC_CAPITAL_EJEMPLAR</th>\n",
       "      <th>CIUDAD_AUTOR</th>\n",
       "      <th>DEPARTAMENTO_AUTOR</th>\n",
       "      <th>ENCONTRADO</th>\n",
       "      <th>NOMBRE_ENCONTRADO</th>\n",
       "    </tr>\n",
       "  </thead>\n",
       "  <tbody>\n",
       "    <tr>\n",
       "      <th>0</th>\n",
       "      <td>En la laguna más profunda</td>\n",
       "      <td>Colombia</td>\n",
       "      <td>Oscar Collazos</td>\n",
       "      <td>Colombia</td>\n",
       "      <td>2011</td>\n",
       "      <td>Bogotá</td>\n",
       "      <td>Bogotá</td>\n",
       "      <td>(4.710988599999999, -74.072092)</td>\n",
       "      <td>(4.710988599999999, -74.072092)</td>\n",
       "      <td>Bahía Solano</td>\n",
       "      <td>Chocó</td>\n",
       "      <td>True</td>\n",
       "      <td>Oscar Collazos</td>\n",
       "    </tr>\n",
       "    <tr>\n",
       "      <th>1</th>\n",
       "      <td>Proyecto para un arca en medio de un diluvio d...</td>\n",
       "      <td>Colombia</td>\n",
       "      <td>Luis Carlos Restrepo</td>\n",
       "      <td>Colombia</td>\n",
       "      <td>1997</td>\n",
       "      <td>Bogotá</td>\n",
       "      <td>Bogotá</td>\n",
       "      <td>(4.710988599999999, -74.072092)</td>\n",
       "      <td>(4.710988599999999, -74.072092)</td>\n",
       "      <td>Filandia</td>\n",
       "      <td>Quindío</td>\n",
       "      <td>True</td>\n",
       "      <td>Luis Carlos Restrepo</td>\n",
       "    </tr>\n",
       "    <tr>\n",
       "      <th>2</th>\n",
       "      <td>Octubre, 1942-1952</td>\n",
       "      <td>Colombia</td>\n",
       "      <td>Carmelina Soto Valencia</td>\n",
       "      <td>Colombia</td>\n",
       "      <td>1953</td>\n",
       "      <td>Bogotá</td>\n",
       "      <td>Bogotá</td>\n",
       "      <td>(4.710988599999999, -74.072092)</td>\n",
       "      <td>(4.710988599999999, -74.072092)</td>\n",
       "      <td>Armenia</td>\n",
       "      <td>Quindío</td>\n",
       "      <td>True</td>\n",
       "      <td>Carmelina Soto Valencia</td>\n",
       "    </tr>\n",
       "    <tr>\n",
       "      <th>3</th>\n",
       "      <td>Origen y desarrollo del camino del quindio</td>\n",
       "      <td>Colombia</td>\n",
       "      <td>Jesús Arango Cano</td>\n",
       "      <td>Colombia</td>\n",
       "      <td>2002</td>\n",
       "      <td>Bogotá</td>\n",
       "      <td>Bogotá</td>\n",
       "      <td>(4.710988599999999, -74.072092)</td>\n",
       "      <td>(4.710988599999999, -74.072092)</td>\n",
       "      <td>La Tebaida</td>\n",
       "      <td>Quindío</td>\n",
       "      <td>True</td>\n",
       "      <td>Jesús Arango Cano</td>\n",
       "    </tr>\n",
       "    <tr>\n",
       "      <th>4</th>\n",
       "      <td>Mi gran aventura cósmica</td>\n",
       "      <td>Colombia</td>\n",
       "      <td>Jesús Arango Cano</td>\n",
       "      <td>Colombia</td>\n",
       "      <td>1976</td>\n",
       "      <td>Bogotá</td>\n",
       "      <td>Bogotá</td>\n",
       "      <td>(4.710988599999999, -74.072092)</td>\n",
       "      <td>(4.710988599999999, -74.072092)</td>\n",
       "      <td>La Tebaida</td>\n",
       "      <td>Quindío</td>\n",
       "      <td>True</td>\n",
       "      <td>Jesús Arango Cano</td>\n",
       "    </tr>\n",
       "  </tbody>\n",
       "</table>\n",
       "</div>"
      ],
      "text/plain": [
       "                                              TITULO PAIS_EJEMPLAR  \\\n",
       "0                          En la laguna más profunda      Colombia   \n",
       "1  Proyecto para un arca en medio de un diluvio d...      Colombia   \n",
       "2                                 Octubre, 1942-1952      Colombia   \n",
       "3         Origen y desarrollo del camino del quindio      Colombia   \n",
       "4                           Mi gran aventura cósmica      Colombia   \n",
       "\n",
       "                     AUTOR PAIS_AUTOR  FECHA_PUB CAPITAL_AUTOR  \\\n",
       "0           Oscar Collazos   Colombia       2011        Bogotá   \n",
       "1     Luis Carlos Restrepo   Colombia       1997        Bogotá   \n",
       "2  Carmelina Soto Valencia   Colombia       1953        Bogotá   \n",
       "3        Jesús Arango Cano   Colombia       2002        Bogotá   \n",
       "4        Jesús Arango Cano   Colombia       1976        Bogotá   \n",
       "\n",
       "  CAPITAL_EJEMPLAR             GEOLOC_CAPITAL_AUTOR  \\\n",
       "0           Bogotá  (4.710988599999999, -74.072092)   \n",
       "1           Bogotá  (4.710988599999999, -74.072092)   \n",
       "2           Bogotá  (4.710988599999999, -74.072092)   \n",
       "3           Bogotá  (4.710988599999999, -74.072092)   \n",
       "4           Bogotá  (4.710988599999999, -74.072092)   \n",
       "\n",
       "           GEOLOC_CAPITAL_EJEMPLAR  CIUDAD_AUTOR DEPARTAMENTO_AUTOR  \\\n",
       "0  (4.710988599999999, -74.072092)  Bahía Solano              Chocó   \n",
       "1  (4.710988599999999, -74.072092)      Filandia            Quindío   \n",
       "2  (4.710988599999999, -74.072092)       Armenia            Quindío   \n",
       "3  (4.710988599999999, -74.072092)    La Tebaida            Quindío   \n",
       "4  (4.710988599999999, -74.072092)    La Tebaida            Quindío   \n",
       "\n",
       "  ENCONTRADO        NOMBRE_ENCONTRADO  \n",
       "0       True           Oscar Collazos  \n",
       "1       True     Luis Carlos Restrepo  \n",
       "2       True  Carmelina Soto Valencia  \n",
       "3       True        Jesús Arango Cano  \n",
       "4       True        Jesús Arango Cano  "
      ]
     },
     "execution_count": 4,
     "metadata": {},
     "output_type": "execute_result"
    }
   ],
   "source": [
    "autores_df.head()"
   ]
  },
  {
   "cell_type": "code",
   "execution_count": null,
   "metadata": {
    "collapsed": true
   },
   "outputs": [],
   "source": [
    "autores_df = autores_df[\n",
    "    (autores_df['CIUDAD_AUTOR'] != 'DESCONOCIDO') &\n",
    "    (autores_df['DEPARTAMENTO_AUTOR'] != 'DESCONOCIDO')\n",
    "]\n",
    "autores_df = autores_df.copy()"
   ]
  },
  {
   "cell_type": "markdown",
   "metadata": {},
   "source": [
    "## Geocoordinates"
   ]
  },
  {
   "cell_type": "code",
   "execution_count": 5,
   "metadata": {
    "collapsed": false
   },
   "outputs": [
    {
     "data": {
      "text/plain": [
       "144"
      ]
     },
     "execution_count": 5,
     "metadata": {},
     "output_type": "execute_result"
    }
   ],
   "source": [
    "autores_df['CIUDAD_AUTOR'].nunique()"
   ]
  },
  {
   "cell_type": "code",
   "execution_count": 6,
   "metadata": {
    "collapsed": false
   },
   "outputs": [
    {
     "name": "stdout",
     "output_type": "stream",
     "text": [
      "CPU times: user 446 ms, sys: 0 ns, total: 446 ms\n",
      "Wall time: 445 ms\n"
     ]
    }
   ],
   "source": [
    "%%time\n",
    "\n",
    "places = set()\n",
    "for i, x in autores_df.iterrows():\n",
    "    ciudad = x['CIUDAD_AUTOR']\n",
    "    departamento = x['DEPARTAMENTO_AUTOR']\n",
    "    pais = 'Colombia'\n",
    "    places.add((ciudad, departamento, pais))"
   ]
  },
  {
   "cell_type": "code",
   "execution_count": 7,
   "metadata": {
    "collapsed": false
   },
   "outputs": [
    {
     "data": {
      "text/plain": [
       "144"
      ]
     },
     "execution_count": 7,
     "metadata": {},
     "output_type": "execute_result"
    }
   ],
   "source": [
    "len(places)"
   ]
  },
  {
   "cell_type": "code",
   "execution_count": 8,
   "metadata": {
    "collapsed": false
   },
   "outputs": [],
   "source": [
    "google_maps = GoogleMaps(api_key=KEY)"
   ]
  },
  {
   "cell_type": "code",
   "execution_count": 9,
   "metadata": {
    "collapsed": false
   },
   "outputs": [
    {
     "name": "stdout",
     "output_type": "stream",
     "text": [
      "NOT FOUND: ('El Socorro', 'Santander', 'Colombia')\n",
      "NOT FOUND: ('Ibagué', 'Tolima', 'Colombia')\n",
      "NOT FOUND: ('Amalfi', 'Antioquia', 'Colombia')\n",
      "NOT FOUND: ('Chía', 'Cundinamarca', 'Colombia')\n",
      "NOT FOUND: ('Aracataca', 'Magdalena', 'Colombia')\n",
      "NOT FOUND: ('Santa Fe de Antioquia', 'Antioquia', 'Colombia')\n",
      "NOT FOUND: ('Medellín', 'Antioquia', 'Colombia')\n",
      "NOT FOUND: ('La Paz', 'Cesar', 'Colombia')\n",
      "CPU times: user 1.96 s, sys: 98.5 ms, total: 2.06 s\n",
      "Wall time: 1min 19s\n"
     ]
    }
   ],
   "source": [
    "%%time\n",
    "\n",
    "locs = {} # (lat, lng)\n",
    "\n",
    "for p in places:\n",
    "    found = False\n",
    "    try:\n",
    "        locations = google_maps.search(location=', '.join(p))\n",
    "        if len(locations.list_data) == 1:\n",
    "            location = locations.list_data[0]\n",
    "            lc = location.country.decode('utf-8') \n",
    "            if lc == p[2]:\n",
    "                locs[p[0]] = (location.lat, location.lng)\n",
    "                found = True\n",
    "            else:\n",
    "                print('NOT FOUND:', p)\n",
    "    except ApiClientException as e:\n",
    "        pass\n",
    "    if not found:\n",
    "        print('NOT FOUND:', p)"
   ]
  },
  {
   "cell_type": "code",
   "execution_count": 24,
   "metadata": {
    "collapsed": false
   },
   "outputs": [],
   "source": [
    "locs['El Socorro'] = (6.467778, -73.259722)\n",
    "locs['Ibagué'] = (4.433333, -75.233333)\n",
    "locs['Amalfi'] = (6.909167, -75.076667)\n",
    "locs['Chía'] = (4.864758, -74.05091800000001)\n",
    "locs['Aracataca'] = (10.593694, -74.192808)\n",
    "locs['Santa Fe de Antioquia'] = (6.55, -75.816667)\n",
    "locs['Medellín'] = (6.230833, -75.590556)\n",
    "locs['La Paz'] = (6.189809899999999, -73.57585)"
   ]
  },
  {
   "cell_type": "code",
   "execution_count": 25,
   "metadata": {
    "collapsed": false
   },
   "outputs": [
    {
     "name": "stdout",
     "output_type": "stream",
     "text": [
      "CPU times: user 114 ms, sys: 0 ns, total: 114 ms\n",
      "Wall time: 116 ms\n"
     ]
    }
   ],
   "source": [
    "%%time\n",
    "\n",
    "def process_geolocation_ciudad_autor(x):\n",
    "    c = x['CIUDAD_AUTOR']\n",
    "    return locs[c]\n",
    "\n",
    "autores_df['GEOLOC_CIUDAD_AUTOR'] = autores_df.apply(process_geolocation_ciudad_autor, axis=1)"
   ]
  },
  {
   "cell_type": "markdown",
   "metadata": {
    "collapsed": true
   },
   "source": [
    "# Saving results"
   ]
  },
  {
   "cell_type": "code",
   "execution_count": 26,
   "metadata": {
    "collapsed": true
   },
   "outputs": [],
   "source": [
    "autores_df.to_csv('autores_colombianos_4.csv', index=False)"
   ]
  },
  {
   "cell_type": "code",
   "execution_count": null,
   "metadata": {
    "collapsed": true
   },
   "outputs": [],
   "source": []
  }
 ],
 "metadata": {
  "kernelspec": {
   "display_name": "Python 3",
   "language": "python",
   "name": "python3"
  },
  "language_info": {
   "codemirror_mode": {
    "name": "ipython",
    "version": 3
   },
   "file_extension": ".py",
   "mimetype": "text/x-python",
   "name": "python",
   "nbconvert_exporter": "python",
   "pygments_lexer": "ipython3",
   "version": "3.4.3"
  }
 },
 "nbformat": 4,
 "nbformat_minor": 1
}
