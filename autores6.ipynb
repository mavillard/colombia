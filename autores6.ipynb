{
 "cells": [
  {
   "cell_type": "markdown",
   "metadata": {},
   "source": [
    "# Country names"
   ]
  },
  {
   "cell_type": "code",
   "execution_count": 1,
   "metadata": {
    "collapsed": true
   },
   "outputs": [],
   "source": [
    "import csv\n",
    "import os\n",
    "import re\n",
    "from collections import defaultdict\n",
    "from collections import Counter\n",
    "from datetime import datetime\n",
    "from datetime import timedelta\n",
    "from string import punctuation\n",
    "\n",
    "import matplotlib\n",
    "import numpy as np\n",
    "import networkx as nx\n",
    "import pandas as pd\n",
    "import requests\n",
    "import seaborn as sns\n",
    "from matplotlib import pyplot as plt\n",
    "from SPARQLWrapper import SPARQLWrapper, JSON"
   ]
  },
  {
   "cell_type": "markdown",
   "metadata": {},
   "source": [
    "# Autores"
   ]
  },
  {
   "cell_type": "code",
   "execution_count": 2,
   "metadata": {
    "collapsed": false
   },
   "outputs": [
    {
     "name": "stdout",
     "output_type": "stream",
     "text": [
      "CPU times: user 6.33 s, sys: 254 ms, total: 6.58 s\n",
      "Wall time: 6.58 s\n"
     ]
    }
   ],
   "source": [
    "%%time\n",
    "\n",
    "autores_df = pd.read_csv('autores5.csv', header=0)\n",
    "autores_df = autores_df.fillna('')"
   ]
  },
  {
   "cell_type": "code",
   "execution_count": 3,
   "metadata": {
    "collapsed": false
   },
   "outputs": [
    {
     "data": {
      "text/plain": [
       "(3054360, 6)"
      ]
     },
     "execution_count": 3,
     "metadata": {},
     "output_type": "execute_result"
    }
   ],
   "source": [
    "autores_df.shape"
   ]
  },
  {
   "cell_type": "code",
   "execution_count": 4,
   "metadata": {
    "collapsed": false
   },
   "outputs": [
    {
     "data": {
      "text/html": [
       "<div>\n",
       "<table border=\"1\" class=\"dataframe\">\n",
       "  <thead>\n",
       "    <tr style=\"text-align: right;\">\n",
       "      <th></th>\n",
       "      <th>TITULO</th>\n",
       "      <th>FECHA_PUB</th>\n",
       "      <th>PAIS_EJEMPLAR</th>\n",
       "      <th>AUTOR</th>\n",
       "      <th>PAIS_AUTOR</th>\n",
       "      <th>NOMBRE_LOCALIZADO</th>\n",
       "    </tr>\n",
       "  </thead>\n",
       "  <tbody>\n",
       "    <tr>\n",
       "      <th>0</th>\n",
       "      <td>Un bicho extraño</td>\n",
       "      <td>2010</td>\n",
       "      <td>Spain</td>\n",
       "      <td>Mon Daporta</td>\n",
       "      <td>DESCONOCIDO</td>\n",
       "      <td>DESCONOCIDO</td>\n",
       "    </tr>\n",
       "    <tr>\n",
       "      <th>1</th>\n",
       "      <td>Un bicho extraño</td>\n",
       "      <td>2010</td>\n",
       "      <td>Spain</td>\n",
       "      <td>Mon Daporta</td>\n",
       "      <td>DESCONOCIDO</td>\n",
       "      <td>DESCONOCIDO</td>\n",
       "    </tr>\n",
       "    <tr>\n",
       "      <th>2</th>\n",
       "      <td>Quisiera tener ...</td>\n",
       "      <td>2010</td>\n",
       "      <td>Mexico</td>\n",
       "      <td>Giovanna Zoboli</td>\n",
       "      <td>DESCONOCIDO</td>\n",
       "      <td>DESCONOCIDO</td>\n",
       "    </tr>\n",
       "    <tr>\n",
       "      <th>3</th>\n",
       "      <td>Johannes Gutenberg</td>\n",
       "      <td>2010</td>\n",
       "      <td>Spain</td>\n",
       "      <td>Lluís Borràs Perelló</td>\n",
       "      <td>DESCONOCIDO</td>\n",
       "      <td>DESCONOCIDO</td>\n",
       "    </tr>\n",
       "    <tr>\n",
       "      <th>4</th>\n",
       "      <td>La fantástica leyenda de: la princesa y el dragón</td>\n",
       "      <td>2010</td>\n",
       "      <td>Spain</td>\n",
       "      <td>Sonia Alins</td>\n",
       "      <td>DESCONOCIDO</td>\n",
       "      <td>DESCONOCIDO</td>\n",
       "    </tr>\n",
       "  </tbody>\n",
       "</table>\n",
       "</div>"
      ],
      "text/plain": [
       "                                              TITULO  FECHA_PUB PAIS_EJEMPLAR  \\\n",
       "0                                   Un bicho extraño       2010         Spain   \n",
       "1                                   Un bicho extraño       2010         Spain   \n",
       "2                                 Quisiera tener ...       2010        Mexico   \n",
       "3                                 Johannes Gutenberg       2010         Spain   \n",
       "4  La fantástica leyenda de: la princesa y el dragón       2010         Spain   \n",
       "\n",
       "                  AUTOR   PAIS_AUTOR NOMBRE_LOCALIZADO  \n",
       "0           Mon Daporta  DESCONOCIDO       DESCONOCIDO  \n",
       "1           Mon Daporta  DESCONOCIDO       DESCONOCIDO  \n",
       "2       Giovanna Zoboli  DESCONOCIDO       DESCONOCIDO  \n",
       "3  Lluís Borràs Perelló  DESCONOCIDO       DESCONOCIDO  \n",
       "4           Sonia Alins  DESCONOCIDO       DESCONOCIDO  "
      ]
     },
     "execution_count": 4,
     "metadata": {},
     "output_type": "execute_result"
    }
   ],
   "source": [
    "autores_df.head()"
   ]
  },
  {
   "cell_type": "markdown",
   "metadata": {},
   "source": [
    "## Limpiando datos"
   ]
  },
  {
   "cell_type": "markdown",
   "metadata": {},
   "source": [
    "### Elimina desconocidos"
   ]
  },
  {
   "cell_type": "code",
   "execution_count": 5,
   "metadata": {
    "collapsed": false
   },
   "outputs": [],
   "source": [
    "autores_df = autores_df[\n",
    "    (autores_df['AUTOR'] != 'DESCONOCIDO') &\n",
    "    (autores_df['TITULO'] != 'DESCONOCIDO') &\n",
    "    (autores_df['PAIS_AUTOR'] != 'DESCONOCIDO') &\n",
    "    (autores_df['PAIS_EJEMPLAR'] != 'DESCONOCIDO') &\n",
    "    (autores_df['NOMBRE_LOCALIZADO'] != 'DESCONOCIDO')\n",
    "]"
   ]
  },
  {
   "cell_type": "code",
   "execution_count": 6,
   "metadata": {
    "collapsed": false
   },
   "outputs": [
    {
     "data": {
      "text/plain": [
       "(786709, 6)"
      ]
     },
     "execution_count": 6,
     "metadata": {},
     "output_type": "execute_result"
    }
   ],
   "source": [
    "autores_df.shape"
   ]
  },
  {
   "cell_type": "code",
   "execution_count": 7,
   "metadata": {
    "collapsed": false
   },
   "outputs": [
    {
     "data": {
      "text/html": [
       "<div>\n",
       "<table border=\"1\" class=\"dataframe\">\n",
       "  <thead>\n",
       "    <tr style=\"text-align: right;\">\n",
       "      <th></th>\n",
       "      <th>TITULO</th>\n",
       "      <th>FECHA_PUB</th>\n",
       "      <th>PAIS_EJEMPLAR</th>\n",
       "      <th>AUTOR</th>\n",
       "      <th>PAIS_AUTOR</th>\n",
       "      <th>NOMBRE_LOCALIZADO</th>\n",
       "    </tr>\n",
       "  </thead>\n",
       "  <tbody>\n",
       "    <tr>\n",
       "      <th>10</th>\n",
       "      <td>Adivina en qué pais ...</td>\n",
       "      <td>2010</td>\n",
       "      <td>Spain</td>\n",
       "      <td>Martina Badstuber</td>\n",
       "      <td>Germany</td>\n",
       "      <td>Martina Badstuber</td>\n",
       "    </tr>\n",
       "    <tr>\n",
       "      <th>11</th>\n",
       "      <td>Adivina en qué pais ...</td>\n",
       "      <td>2010</td>\n",
       "      <td>Spain</td>\n",
       "      <td>Martina Badstuber</td>\n",
       "      <td>Germany</td>\n",
       "      <td>Martina Badstuber</td>\n",
       "    </tr>\n",
       "    <tr>\n",
       "      <th>12</th>\n",
       "      <td>Adivina en qué pais ...</td>\n",
       "      <td>2010</td>\n",
       "      <td>Spain</td>\n",
       "      <td>Martina Badstuber</td>\n",
       "      <td>Germany</td>\n",
       "      <td>Martina Badstuber</td>\n",
       "    </tr>\n",
       "    <tr>\n",
       "      <th>21</th>\n",
       "      <td>Galleta para perros</td>\n",
       "      <td>2008</td>\n",
       "      <td>Spain</td>\n",
       "      <td>Helen Cooper</td>\n",
       "      <td>United Kingdom</td>\n",
       "      <td>Helen Cooper</td>\n",
       "    </tr>\n",
       "    <tr>\n",
       "      <th>22</th>\n",
       "      <td>Galleta para perros</td>\n",
       "      <td>2008</td>\n",
       "      <td>Spain</td>\n",
       "      <td>Helen Cooper</td>\n",
       "      <td>United Kingdom</td>\n",
       "      <td>Helen Cooper</td>\n",
       "    </tr>\n",
       "  </tbody>\n",
       "</table>\n",
       "</div>"
      ],
      "text/plain": [
       "                     TITULO  FECHA_PUB PAIS_EJEMPLAR              AUTOR  \\\n",
       "10  Adivina en qué pais ...       2010         Spain  Martina Badstuber   \n",
       "11  Adivina en qué pais ...       2010         Spain  Martina Badstuber   \n",
       "12  Adivina en qué pais ...       2010         Spain  Martina Badstuber   \n",
       "21      Galleta para perros       2008         Spain       Helen Cooper   \n",
       "22      Galleta para perros       2008         Spain       Helen Cooper   \n",
       "\n",
       "        PAIS_AUTOR  NOMBRE_LOCALIZADO  \n",
       "10         Germany  Martina Badstuber  \n",
       "11         Germany  Martina Badstuber  \n",
       "12         Germany  Martina Badstuber  \n",
       "21  United Kingdom       Helen Cooper  \n",
       "22  United Kingdom       Helen Cooper  "
      ]
     },
     "execution_count": 7,
     "metadata": {},
     "output_type": "execute_result"
    }
   ],
   "source": [
    "autores_df.head()"
   ]
  },
  {
   "cell_type": "markdown",
   "metadata": {},
   "source": [
    "### Elimina autores mapeados al mismo nombre, manteniendo el original y/o el más prestado"
   ]
  },
  {
   "cell_type": "code",
   "execution_count": 8,
   "metadata": {
    "collapsed": true
   },
   "outputs": [],
   "source": [
    "autores_count_sr = autores_df['AUTOR'].value_counts()"
   ]
  },
  {
   "cell_type": "code",
   "execution_count": 9,
   "metadata": {
    "collapsed": false
   },
   "outputs": [],
   "source": [
    "autor_nombre_localizado_df = autores_df[['AUTOR', 'NOMBRE_LOCALIZADO']].drop_duplicates().set_index('NOMBRE_LOCALIZADO')\n",
    "nombre_localizado_autor_sr = pd.Series(autor_nombre_localizado_df['AUTOR'], index=autor_nombre_localizado_df.index)   "
   ]
  },
  {
   "cell_type": "code",
   "execution_count": 10,
   "metadata": {
    "collapsed": false
   },
   "outputs": [
    {
     "name": "stdout",
     "output_type": "stream",
     "text": [
      "CPU times: user 18.9 s, sys: 213 µs, total: 18.9 s\n",
      "Wall time: 18.9 s\n"
     ]
    }
   ],
   "source": [
    "%%time\n",
    "\n",
    "autor_nombre_localizado_dict = {}\n",
    "\n",
    "for nl in nombre_localizado_autor_sr.index:\n",
    "    autor = nombre_localizado_autor_sr[nl]\n",
    "    if isinstance(autor, str):\n",
    "        autor_nombre_localizado_dict[autor] = nl\n",
    "    else:\n",
    "        candidatos = [(a, autores_count_sr[a]) for a in autor]\n",
    "        ganador = sorted(candidatos, key=lambda x: x[1], reverse=True)[0][0]\n",
    "        autor_nombre_localizado_dict[ganador] = nl\n",
    "        if nl in autor.values and nl != ganador:\n",
    "            autor_nombre_localizado_dict[nl] = nl"
   ]
  },
  {
   "cell_type": "code",
   "execution_count": 11,
   "metadata": {
    "collapsed": false
   },
   "outputs": [
    {
     "name": "stdout",
     "output_type": "stream",
     "text": [
      "CPU times: user 21.2 s, sys: 10.5 ms, total: 21.2 s\n",
      "Wall time: 21.2 s\n"
     ]
    }
   ],
   "source": [
    "%%time\n",
    "\n",
    "def process_nombre_localizado(x):\n",
    "    a = x['AUTOR']\n",
    "    return autor_nombre_localizado_dict.get(a, 'DESCONOCIDO')\n",
    "\n",
    "autores_df['NOMBRE_LOCALIZADO'] = autores_df.apply(process_nombre_localizado, axis=1)"
   ]
  },
  {
   "cell_type": "code",
   "execution_count": 12,
   "metadata": {
    "collapsed": false
   },
   "outputs": [],
   "source": [
    "autores_df = autores_df[autores_df['NOMBRE_LOCALIZADO'] != 'DESCONOCIDO']"
   ]
  },
  {
   "cell_type": "code",
   "execution_count": 13,
   "metadata": {
    "collapsed": false
   },
   "outputs": [
    {
     "data": {
      "text/plain": [
       "778165"
      ]
     },
     "execution_count": 13,
     "metadata": {},
     "output_type": "execute_result"
    }
   ],
   "source": [
    "len(autores_df)"
   ]
  },
  {
   "cell_type": "markdown",
   "metadata": {},
   "source": [
    "##### Seleccionamos ejemplares únicos de una misma obra. Un ejemplar se identifica por su título, país de edición, fecha de publicación y autor (el país de origen del autor no influye)."
   ]
  },
  {
   "cell_type": "code",
   "execution_count": 14,
   "metadata": {
    "collapsed": false
   },
   "outputs": [],
   "source": [
    "autores_df.drop_duplicates(['TITULO', 'PAIS_EJEMPLAR', 'FECHA_PUB', 'AUTOR'], inplace=True)"
   ]
  },
  {
   "cell_type": "code",
   "execution_count": 15,
   "metadata": {
    "collapsed": false
   },
   "outputs": [
    {
     "data": {
      "text/plain": [
       "(61864, 6)"
      ]
     },
     "execution_count": 15,
     "metadata": {},
     "output_type": "execute_result"
    }
   ],
   "source": [
    "autores_df.shape"
   ]
  },
  {
   "cell_type": "code",
   "execution_count": 16,
   "metadata": {
    "collapsed": false
   },
   "outputs": [
    {
     "data": {
      "text/html": [
       "<div>\n",
       "<table border=\"1\" class=\"dataframe\">\n",
       "  <thead>\n",
       "    <tr style=\"text-align: right;\">\n",
       "      <th></th>\n",
       "      <th>TITULO</th>\n",
       "      <th>FECHA_PUB</th>\n",
       "      <th>PAIS_EJEMPLAR</th>\n",
       "      <th>AUTOR</th>\n",
       "      <th>PAIS_AUTOR</th>\n",
       "      <th>NOMBRE_LOCALIZADO</th>\n",
       "    </tr>\n",
       "  </thead>\n",
       "  <tbody>\n",
       "    <tr>\n",
       "      <th>10</th>\n",
       "      <td>Adivina en qué pais ...</td>\n",
       "      <td>2010</td>\n",
       "      <td>Spain</td>\n",
       "      <td>Martina Badstuber</td>\n",
       "      <td>Germany</td>\n",
       "      <td>Martina Badstuber</td>\n",
       "    </tr>\n",
       "    <tr>\n",
       "      <th>21</th>\n",
       "      <td>Galleta para perros</td>\n",
       "      <td>2008</td>\n",
       "      <td>Spain</td>\n",
       "      <td>Helen Cooper</td>\n",
       "      <td>United Kingdom</td>\n",
       "      <td>Helen Cooper</td>\n",
       "    </tr>\n",
       "    <tr>\n",
       "      <th>56</th>\n",
       "      <td>Codrilo</td>\n",
       "      <td>2009</td>\n",
       "      <td>Spain</td>\n",
       "      <td>Roberto Aliaga Sánchez</td>\n",
       "      <td>Spain</td>\n",
       "      <td>Roberto Aliaga</td>\n",
       "    </tr>\n",
       "    <tr>\n",
       "      <th>58</th>\n",
       "      <td>Félix, : el coleccionista de miedos</td>\n",
       "      <td>2009</td>\n",
       "      <td>Spain</td>\n",
       "      <td>Fina Casalderrey</td>\n",
       "      <td>Spain</td>\n",
       "      <td>Fina Casalderrey</td>\n",
       "    </tr>\n",
       "    <tr>\n",
       "      <th>67</th>\n",
       "      <td>En la laguna más profunda</td>\n",
       "      <td>2011</td>\n",
       "      <td>Colombia</td>\n",
       "      <td>Oscar Collazos</td>\n",
       "      <td>Colombia</td>\n",
       "      <td>Oscar Collazos</td>\n",
       "    </tr>\n",
       "  </tbody>\n",
       "</table>\n",
       "</div>"
      ],
      "text/plain": [
       "                                 TITULO  FECHA_PUB PAIS_EJEMPLAR  \\\n",
       "10              Adivina en qué pais ...       2010         Spain   \n",
       "21                  Galleta para perros       2008         Spain   \n",
       "56                              Codrilo       2009         Spain   \n",
       "58  Félix, : el coleccionista de miedos       2009         Spain   \n",
       "67            En la laguna más profunda       2011      Colombia   \n",
       "\n",
       "                     AUTOR      PAIS_AUTOR  NOMBRE_LOCALIZADO  \n",
       "10       Martina Badstuber         Germany  Martina Badstuber  \n",
       "21            Helen Cooper  United Kingdom       Helen Cooper  \n",
       "56  Roberto Aliaga Sánchez           Spain     Roberto Aliaga  \n",
       "58        Fina Casalderrey           Spain   Fina Casalderrey  \n",
       "67          Oscar Collazos        Colombia     Oscar Collazos  "
      ]
     },
     "execution_count": 16,
     "metadata": {},
     "output_type": "execute_result"
    }
   ],
   "source": [
    "autores_df.head()"
   ]
  },
  {
   "cell_type": "markdown",
   "metadata": {},
   "source": [
    "## Resultados"
   ]
  },
  {
   "cell_type": "code",
   "execution_count": 17,
   "metadata": {
    "collapsed": false
   },
   "outputs": [
    {
     "data": {
      "text/plain": [
       "50877"
      ]
     },
     "execution_count": 17,
     "metadata": {},
     "output_type": "execute_result"
    }
   ],
   "source": [
    "autores_df['TITULO'].nunique()"
   ]
  },
  {
   "cell_type": "code",
   "execution_count": 18,
   "metadata": {
    "collapsed": false
   },
   "outputs": [
    {
     "data": {
      "text/plain": [
       "Obras completas                                                 146\n",
       "Antología poética                                               111\n",
       "Cuentos                                                          93\n",
       "Antología                                                        72\n",
       "Poemas                                                           69\n",
       "Cuentos completos                                                63\n",
       "Poesía                                                           57\n",
       "Poesía completa                                                  50\n",
       "Teatro                                                           41\n",
       "Obras escogidas                                                  41\n",
       "Obra poética                                                     37\n",
       "Obras                                                            37\n",
       "Poesías completas                                                36\n",
       "María                                                            34\n",
       "Poesías                                                          33\n",
       "Antología personal                                               29\n",
       "Martín Fierro                                                    28\n",
       "Fausto                                                           27\n",
       "La isla del tesoro                                               27\n",
       "Madame Bovary                                                    26\n",
       "Cien años de soledad                                             26\n",
       "La vorágine                                                      26\n",
       "Don Quijote de la Mancha                                         26\n",
       "Teatro completo                                                  26\n",
       "Hamlet                                                           24\n",
       "El proceso                                                       23\n",
       "Novelas ejemplares                                               23\n",
       "El principito                                                    22\n",
       "Ensayos                                                          22\n",
       "Obras selectas                                                   21\n",
       "                                                               ... \n",
       "El sueño europeo : cómo la visión europea del futuro está ec      1\n",
       "Los trabajos y los días : una antología                           1\n",
       "César y Ernestina en el museo                                     1\n",
       "Unidad                                                            1\n",
       "Viaje a través de la locura                                       1\n",
       "La civilización inconsciente                                      1\n",
       "Behaviorism                                                       1\n",
       "Madres en duelo                                                   1\n",
       "El coronel                                                        1\n",
       "Astrología para todos                                             1\n",
       "Huis clos suivi de Les mouches                                    1\n",
       "El golfista y el millonario                                       1\n",
       "Historias de nadas                                                1\n",
       "Literatura y fantasma : edición ampliada                          1\n",
       "Dos problemas y medio                                             1\n",
       "Happiness TM                                                      1\n",
       "Tributo necesario a Lydia Cabrera y sus egguns                    1\n",
       "Melric : el mago que perdió su magia                              1\n",
       "El doctor Zhivago : (Premio nobel 1958)                           1\n",
       "Gusanos de arena de dune                                          1\n",
       "La empresa moderna : organización, estrategia y resultados        1\n",
       "Los escritores salvajes                                           1\n",
       "Cuadernos de la guerra y otros textos                             1\n",
       "Ebrio del vino perdido                                            1\n",
       "Harry Potter: la filosofía : fenomenología de un mito pop         1\n",
       "The pigeon finds a hot dog!                                       1\n",
       "Un pueblecito : Riofrío de Avila                                  1\n",
       "Pintando la luna                                                  1\n",
       "Mañana de abril                                                   1\n",
       "The sense of beauty : being the outlines of aesthetic theory      1\n",
       "Name: TITULO, dtype: int64"
      ]
     },
     "execution_count": 18,
     "metadata": {},
     "output_type": "execute_result"
    }
   ],
   "source": [
    "autores_df['TITULO'].value_counts()"
   ]
  },
  {
   "cell_type": "code",
   "execution_count": 19,
   "metadata": {
    "collapsed": false
   },
   "outputs": [
    {
     "data": {
      "text/plain": [
       "117"
      ]
     },
     "execution_count": 19,
     "metadata": {},
     "output_type": "execute_result"
    }
   ],
   "source": [
    "autores_df['PAIS_EJEMPLAR'].nunique()"
   ]
  },
  {
   "cell_type": "code",
   "execution_count": 20,
   "metadata": {
    "collapsed": false
   },
   "outputs": [
    {
     "data": {
      "text/plain": [
       "Spain                              32224\n",
       "Colombia                            8009\n",
       "Argentina                           6227\n",
       "Mexico                              5390\n",
       "United States                       2371\n",
       "France                              1336\n",
       "England                             1273\n",
       "Venezuela                            804\n",
       "Chile                                668\n",
       "New York (State)                     537\n",
       "Cuba                                 467\n",
       "Brazil                               366\n",
       "Peru                                 286\n",
       "Italy                                255\n",
       "United Kingdom                       223\n",
       "Ecuador                              194\n",
       "Uruguay                              119\n",
       "Germany                              116\n",
       "Portugal                              93\n",
       "Soviet Union                          65\n",
       "Costa Rica                            53\n",
       "Japan                                 50\n",
       "California                            50\n",
       "Massachusetts                         40\n",
       "Puerto Rico                           39\n",
       "Switzerland                           35\n",
       "Canada                                34\n",
       "China (Republic : 1949- )             30\n",
       "Germany (East)                        30\n",
       "El Salvador                           29\n",
       "                                   ...  \n",
       "Poland                                 2\n",
       "Michigan                               2\n",
       "Nevada                                 1\n",
       "Louisiana                              1\n",
       "Nebraska                               1\n",
       "Maine                                  1\n",
       "New Hampshire                          1\n",
       "Croatia                                1\n",
       "Kentucky                               1\n",
       "Serbia                                 1\n",
       "United Kingdom Misc. Islands           1\n",
       "Alabama                                1\n",
       "Equatorial Guinea                      1\n",
       "Hong Kong                              1\n",
       "Utah                                   1\n",
       "Colorado                               1\n",
       "Virginia                               1\n",
       "Ukraine                                1\n",
       "Egypt                                  1\n",
       "Ohio                                   1\n",
       "Kenya                                  1\n",
       "New Caledonia                          1\n",
       "Turkey                                 1\n",
       "Arizona                                1\n",
       "Uganda                                 1\n",
       "Kiribati                               1\n",
       "Cambodia                               1\n",
       "Sierra Leone                           1\n",
       "Palestinian Territory, Occupied        1\n",
       "Saint-Martin                           1\n",
       "Name: PAIS_EJEMPLAR, dtype: int64"
      ]
     },
     "execution_count": 20,
     "metadata": {},
     "output_type": "execute_result"
    }
   ],
   "source": [
    "autores_df['PAIS_EJEMPLAR'].value_counts()"
   ]
  },
  {
   "cell_type": "code",
   "execution_count": 21,
   "metadata": {
    "collapsed": false
   },
   "outputs": [
    {
     "data": {
      "text/plain": [
       "11444"
      ]
     },
     "execution_count": 21,
     "metadata": {},
     "output_type": "execute_result"
    }
   ],
   "source": [
    "autores_df['NOMBRE_LOCALIZADO'].nunique()"
   ]
  },
  {
   "cell_type": "code",
   "execution_count": 22,
   "metadata": {
    "collapsed": false
   },
   "outputs": [
    {
     "data": {
      "text/plain": [
       "William Shakespeare         381\n",
       "Gabriel García Márquez      367\n",
       "Jules Verne                 220\n",
       "Jorge Luis Borges           216\n",
       "Miguel de Cervantes         213\n",
       "Isaac Asimov                206\n",
       "Oscar Wilde                 194\n",
       "Agatha Christie             178\n",
       "Julio Cortázar              176\n",
       "Charles Dickens             170\n",
       "Franz Kafka                 169\n",
       "Pablo Neruda                167\n",
       "Mario Vargas Llosa          162\n",
       "Edgar Allan Poe             154\n",
       "Friedrich Nietzsche         153\n",
       "Stefan Zweig                149\n",
       "Octavio Paz                 147\n",
       "Robert Louis Stevenson      141\n",
       "Mario Benedetti             134\n",
       "Federico García Lorca       133\n",
       "Leonard Huxley              132\n",
       "Hans Christian Andersen     132\n",
       "Jean Paul                   131\n",
       "Honoré de Balzac            129\n",
       "Hermann Hesse               123\n",
       "Aristóteles                 122\n",
       "Arthur Conan Doyle          122\n",
       "Carlos Fuentes              121\n",
       "Mark Twain                  121\n",
       "Thomas Mann                 121\n",
       "                           ... \n",
       "Gutierre de Cetina            1\n",
       "Johann Peter Hebel            1\n",
       "Michel Bataille               1\n",
       "Ian V. Hogg                   1\n",
       "Fred Marcellino               1\n",
       "Lee Hall                      1\n",
       "John Curran                   1\n",
       "Jules Feiffer                 1\n",
       "Walter Anderson               1\n",
       "Uzma Aslam Khan               1\n",
       "Susan Griffin                 1\n",
       "Félix J. Palma                1\n",
       "Clemencia Sánchez             1\n",
       "Içami Tiba                    1\n",
       "Maurice Denis                 1\n",
       "Fernando Jiménez del Oso      1\n",
       "Hernâni Donato                1\n",
       "Norbert Bolz                  1\n",
       "Richard Kostelanetz           1\n",
       "Jean-Clarence Lambert         1\n",
       "Jacques Ancet                 1\n",
       "Sally Warner                  1\n",
       "Josu Landa                    1\n",
       "Hugh Miller                   1\n",
       "Sayyid Qutb                   1\n",
       "Jeff VanderMeer               1\n",
       "Israel Shahak                 1\n",
       "Leonardo Oyola                1\n",
       "Margaret Drabble              1\n",
       "David Benedictus              1\n",
       "Name: NOMBRE_LOCALIZADO, dtype: int64"
      ]
     },
     "execution_count": 22,
     "metadata": {},
     "output_type": "execute_result"
    }
   ],
   "source": [
    "autores_df['NOMBRE_LOCALIZADO'].value_counts()"
   ]
  },
  {
   "cell_type": "code",
   "execution_count": 23,
   "metadata": {
    "collapsed": false
   },
   "outputs": [
    {
     "data": {
      "text/plain": [
       "211"
      ]
     },
     "execution_count": 23,
     "metadata": {},
     "output_type": "execute_result"
    }
   ],
   "source": [
    "autores_df['PAIS_AUTOR'].nunique()"
   ]
  },
  {
   "cell_type": "code",
   "execution_count": 24,
   "metadata": {
    "collapsed": false
   },
   "outputs": [
    {
     "data": {
      "text/plain": [
       "United States of America                9190\n",
       "Spain                                   7201\n",
       "United Kingdom                          6571\n",
       "France                                  5835\n",
       "Colombia                                3450\n",
       "Germany                                 3238\n",
       "Argentina                               2707\n",
       "Italy                                   2481\n",
       "Mexico                                  1843\n",
       "Cuba                                    1027\n",
       "Chile                                    923\n",
       "Austria                                  910\n",
       "Belgium                                  896\n",
       "Ireland                                  836\n",
       "Peru                                     740\n",
       "Uruguay                                  732\n",
       "Brazil                                   726\n",
       "España                                   669\n",
       "India                                    632\n",
       "Russia                                   619\n",
       "Poland                                   588\n",
       "Canada                                   506\n",
       "Venezuela                                475\n",
       "Switzerland                              426\n",
       "Ukraine                                  409\n",
       "Czech Republic                           385\n",
       "Japan                                    362\n",
       "Portugal                                 355\n",
       "Estados Unidos                           294\n",
       "Netherlands                              293\n",
       "                                        ... \n",
       "Moldova                                    2\n",
       "Aruba                                      2\n",
       "Uzbekistan                                 1\n",
       "Kingdom of Denmark                         1\n",
       "China                                      1\n",
       "Mali                                       1\n",
       "Japón                                      1\n",
       "Imperio Otomano                            1\n",
       "Sierra Leone                               1\n",
       "Monaco                                     1\n",
       "Swaziland                                  1\n",
       "Union of South Africa                      1\n",
       "Jordan                                     1\n",
       "Kingdom of the Netherlands                 1\n",
       "Soviet Union                               1\n",
       "Túnez                                      1\n",
       "Congo Belga                                1\n",
       "Ethiopia                                   1\n",
       "Captaincy General of the Philippines       1\n",
       "Tajikistan                                 1\n",
       "Burkina Faso                               1\n",
       "Luxemburgo                                 1\n",
       "Malaysia                                   1\n",
       "Equatorial Guinea                          1\n",
       "Kuwait                                     1\n",
       "Líbano                                     1\n",
       "Libya                                      1\n",
       "Kosovo                                     1\n",
       "Letonia                                    1\n",
       "Republic of Macedonia                      1\n",
       "Name: PAIS_AUTOR, dtype: int64"
      ]
     },
     "execution_count": 24,
     "metadata": {},
     "output_type": "execute_result"
    }
   ],
   "source": [
    "autores_df['PAIS_AUTOR'].value_counts()"
   ]
  },
  {
   "cell_type": "markdown",
   "metadata": {},
   "source": [
    "# Mapping countries"
   ]
  },
  {
   "cell_type": "code",
   "execution_count": 25,
   "metadata": {
    "collapsed": true
   },
   "outputs": [],
   "source": [
    "countries = set(autores_df['PAIS_EJEMPLAR']).union(autores_df['PAIS_AUTOR'])"
   ]
  },
  {
   "cell_type": "code",
   "execution_count": 26,
   "metadata": {
    "collapsed": false
   },
   "outputs": [],
   "source": [
    "inv_mappings = defaultdict(set)\n",
    "for a in countries:\n",
    "    for b in countries:\n",
    "        if a != b and a in b:\n",
    "            inv_mappings[a].add(b)\n",
    "inv_mappings = dict(inv_mappings)\n",
    "\n",
    "mapped = set()\n",
    "for s in inv_mappings.values():\n",
    "    mapped = mapped.union(s)\n",
    "\n",
    "unmapped = countries.difference(mapped)"
   ]
  },
  {
   "cell_type": "code",
   "execution_count": 27,
   "metadata": {
    "collapsed": false
   },
   "outputs": [
    {
     "data": {
      "text/plain": [
       "{'Brazil': {'Empire of Brazil'},\n",
       " 'China': {'China (Republic : 1949- )', \"People's Republic of China\"},\n",
       " 'Denmark': {'Kingdom of Denmark'},\n",
       " 'Dominica': {'Dominican Republic', 'República Dominicana'},\n",
       " 'Finland': {'Finlandia'},\n",
       " 'Francia': {'Antiguo Régimen en Francia'},\n",
       " 'Germany': {'Allied-occupied Germany',\n",
       "  'East Germany',\n",
       "  'Germany (East)',\n",
       "  'Nazi Germany'},\n",
       " 'Guinea': {'Equatorial Guinea'},\n",
       " 'India': {'Indiana'},\n",
       " 'Ireland': {'Northern Ireland',\n",
       "  'United Kingdom of Great Britain and Ireland'},\n",
       " 'Jersey': {'New Jersey'},\n",
       " 'Montenegro': {'Serbia and Montenegro'},\n",
       " 'Netherlands': {'Caribbean Netherlands', 'Kingdom of the Netherlands'},\n",
       " 'Philippines': {'Captaincy General of the Philippines'},\n",
       " 'Russia': {'Russia (Federation)', 'Russian Empire'},\n",
       " 'Serbia': {'Serbia and Montenegro'},\n",
       " 'South Africa': {'Union of South Africa'},\n",
       " 'United Kingdom': {'United Kingdom Misc. Islands',\n",
       "  'United Kingdom of Great Britain and Ireland'},\n",
       " 'United States': {'United States of America'},\n",
       " 'Vietnam': {'Vietnam, North'}}"
      ]
     },
     "execution_count": 27,
     "metadata": {},
     "output_type": "execute_result"
    }
   ],
   "source": [
    "inv_mappings"
   ]
  },
  {
   "cell_type": "code",
   "execution_count": 28,
   "metadata": {
    "collapsed": false
   },
   "outputs": [],
   "source": [
    "mappings = {}\n",
    "for c1 in inv_mappings:\n",
    "    for c2 in inv_mappings[c1]:\n",
    "        mappings[c2] = c1"
   ]
  },
  {
   "cell_type": "code",
   "execution_count": 29,
   "metadata": {
    "collapsed": false
   },
   "outputs": [
    {
     "data": {
      "text/plain": [
       "{'Allied-occupied Germany': 'Germany',\n",
       " 'Antiguo Régimen en Francia': 'Francia',\n",
       " 'Captaincy General of the Philippines': 'Philippines',\n",
       " 'Caribbean Netherlands': 'Netherlands',\n",
       " 'China (Republic : 1949- )': 'China',\n",
       " 'Dominican Republic': 'Dominica',\n",
       " 'East Germany': 'Germany',\n",
       " 'Empire of Brazil': 'Brazil',\n",
       " 'Equatorial Guinea': 'Guinea',\n",
       " 'Finlandia': 'Finland',\n",
       " 'Germany (East)': 'Germany',\n",
       " 'Indiana': 'India',\n",
       " 'Kingdom of Denmark': 'Denmark',\n",
       " 'Kingdom of the Netherlands': 'Netherlands',\n",
       " 'Nazi Germany': 'Germany',\n",
       " 'New Jersey': 'Jersey',\n",
       " 'Northern Ireland': 'Ireland',\n",
       " \"People's Republic of China\": 'China',\n",
       " 'República Dominicana': 'Dominica',\n",
       " 'Russia (Federation)': 'Russia',\n",
       " 'Russian Empire': 'Russia',\n",
       " 'Serbia and Montenegro': 'Montenegro',\n",
       " 'Union of South Africa': 'South Africa',\n",
       " 'United Kingdom Misc. Islands': 'United Kingdom',\n",
       " 'United Kingdom of Great Britain and Ireland': 'United Kingdom',\n",
       " 'United States of America': 'United States',\n",
       " 'Vietnam, North': 'Vietnam'}"
      ]
     },
     "execution_count": 29,
     "metadata": {},
     "output_type": "execute_result"
    }
   ],
   "source": [
    "mappings"
   ]
  },
  {
   "cell_type": "code",
   "execution_count": 30,
   "metadata": {
    "collapsed": true
   },
   "outputs": [],
   "source": [
    "# Correct wrong mappings\n",
    "\n",
    "# 'Allied-occupied Germany': 'Germany',\n",
    "# 'Antiguo Régimen en Francia': 'Francia',\n",
    "mappings['Antiguo Régimen en Francia'] = 'France'\n",
    "# 'Captaincy General of the Philippines': 'Philippines',\n",
    "# 'Caribbean Netherlands': 'Netherlands',\n",
    "del(mappings['Caribbean Netherlands'])\n",
    "# 'China (Republic : 1949- )': 'China',\n",
    "# 'Dominican Republic': 'Dominica',\n",
    "del(mappings['Dominican Republic'])\n",
    "# 'East Germany': 'Germany',\n",
    "# 'Empire of Brazil': 'Brazil',\n",
    "# 'Equatorial Guinea': 'Guinea',\n",
    "del(mappings['Equatorial Guinea'])\n",
    "# 'Finlandia': 'Finland',\n",
    "# 'Germany (East)': 'Germany',\n",
    "# 'Indiana': 'India',\n",
    "del(mappings['Indiana'])\n",
    "# 'Kingdom of Denmark': 'Denmark',\n",
    "# 'Kingdom of the Netherlands': 'Netherlands',\n",
    "# 'Nazi Germany': 'Germany',\n",
    "# 'New Jersey': 'Jersey',\n",
    "del(mappings['New Jersey'])\n",
    "# 'Northern Ireland': 'Ireland',\n",
    "del(mappings['Northern Ireland'])\n",
    "# \"People's Republic of China\": 'China',\n",
    "# 'República Dominicana': 'Dominica',\n",
    "mappings['República Dominicana'] = 'Dominican Republic'\n",
    "# 'Russia (Federation)': 'Russia',\n",
    "# 'Russian Empire': 'Russia',\n",
    "# 'Serbia and Montenegro': 'Serbia',\n",
    "# 'Union of South Africa': 'South Africa',\n",
    "# 'United Kingdom Misc. Islands': 'United Kingdom',\n",
    "# 'United Kingdom of Great Britain and Ireland': 'Ireland',\n",
    "mappings['United Kingdom of Great Britain and Ireland'] = 'United Kingdom'\n",
    "# 'United States of America': 'United States',\n",
    "# 'Vietnam, North': 'Vietnam',"
   ]
  },
  {
   "cell_type": "code",
   "execution_count": 31,
   "metadata": {
    "collapsed": false
   },
   "outputs": [
    {
     "data": {
      "text/plain": [
       "{'Afghanistan',\n",
       " 'Alabama',\n",
       " 'Albania',\n",
       " 'Alemania',\n",
       " 'Algeria',\n",
       " 'Andorra',\n",
       " 'Angola',\n",
       " 'Antigua Atenas',\n",
       " 'Antigua and Barbuda',\n",
       " 'Argentina',\n",
       " 'Arizona',\n",
       " 'Aruba',\n",
       " 'Australia',\n",
       " 'Austria',\n",
       " 'Azerbaijan',\n",
       " 'Bangladesh',\n",
       " 'Barbados',\n",
       " 'Belarus',\n",
       " 'Belgium',\n",
       " 'Benin',\n",
       " 'Bielorrusia',\n",
       " 'Bolivia',\n",
       " 'Bosnia and Herzegovina',\n",
       " 'Brasil',\n",
       " 'Brazil',\n",
       " 'Bulgaria',\n",
       " 'Burkina Faso',\n",
       " 'Burma',\n",
       " 'Bélgica',\n",
       " 'California',\n",
       " 'Cambodia',\n",
       " 'Cameroon',\n",
       " 'Canada',\n",
       " 'Canadá',\n",
       " 'Canal Zone',\n",
       " 'Cape Verde',\n",
       " 'Chile',\n",
       " 'China',\n",
       " 'Colombia',\n",
       " 'Colorado',\n",
       " 'Congo Belga',\n",
       " 'Connecticut',\n",
       " 'Costa Rica',\n",
       " 'Croatia',\n",
       " 'Cuba',\n",
       " 'Curaçao',\n",
       " 'Cyprus',\n",
       " 'Czech Republic',\n",
       " 'Czechoslovakia',\n",
       " \"Côte d'Ivoire\",\n",
       " 'Denmark',\n",
       " 'Dinamarca',\n",
       " 'District of Columbia',\n",
       " 'Dominica',\n",
       " 'Ecuador',\n",
       " 'Egipto',\n",
       " 'Egypt',\n",
       " 'El Salvador',\n",
       " 'England',\n",
       " 'Eritrea',\n",
       " 'España',\n",
       " 'Estados Unidos',\n",
       " 'Estonia',\n",
       " 'Ethiopia',\n",
       " 'Finland',\n",
       " 'Florida',\n",
       " 'France',\n",
       " 'Francia',\n",
       " 'French Guiana',\n",
       " 'Georgia',\n",
       " 'Germany',\n",
       " 'Ghana',\n",
       " 'Grecia',\n",
       " 'Greece',\n",
       " 'Guatemala',\n",
       " 'Guinea',\n",
       " 'Guyana',\n",
       " 'Haiti',\n",
       " 'Honduras',\n",
       " 'Hong Kong',\n",
       " 'Hungary',\n",
       " 'Hungría',\n",
       " 'Iceland',\n",
       " 'Illinois',\n",
       " 'Imperio Otomano',\n",
       " 'Imperio otomano',\n",
       " 'Imperio romano',\n",
       " 'India',\n",
       " 'Indonesia',\n",
       " 'Iran',\n",
       " 'Iraq',\n",
       " 'Ireland',\n",
       " 'Irlanda',\n",
       " 'Irán',\n",
       " 'Israel',\n",
       " 'Italia',\n",
       " 'Italy',\n",
       " 'Jamaica',\n",
       " 'Japan',\n",
       " 'Japón',\n",
       " 'Jersey',\n",
       " 'Jordan',\n",
       " 'Kentucky',\n",
       " 'Kenya',\n",
       " 'Kingdom of Galicia and Lodomeria',\n",
       " 'Kiribati',\n",
       " 'Korea (South)',\n",
       " 'Kosovo',\n",
       " 'Kuwait',\n",
       " 'Latvia',\n",
       " 'Lebanon',\n",
       " 'Letonia',\n",
       " 'Libia',\n",
       " 'Libya',\n",
       " 'Lithuania',\n",
       " 'Lituania',\n",
       " 'Louisiana',\n",
       " 'Luxembourg',\n",
       " 'Luxemburgo',\n",
       " 'Líbano',\n",
       " 'Madagascar',\n",
       " 'Maine',\n",
       " 'Malawi',\n",
       " 'Malaysia',\n",
       " 'Mali',\n",
       " 'Malta',\n",
       " 'Mandato británico de Palestina',\n",
       " 'Mandatory Palestine',\n",
       " 'Marruecos',\n",
       " 'Maryland',\n",
       " 'Massachusetts',\n",
       " 'Mauritius',\n",
       " 'Mexico',\n",
       " 'Michigan',\n",
       " 'Minnesota',\n",
       " 'Moldova',\n",
       " 'Monaco',\n",
       " 'Montenegro',\n",
       " 'Morocco',\n",
       " 'Mozambique',\n",
       " 'Myanmar',\n",
       " 'México',\n",
       " 'Nebraska',\n",
       " 'Netherlands',\n",
       " 'Nevada',\n",
       " 'New Caledonia',\n",
       " 'New Hampshire',\n",
       " 'New York (State)',\n",
       " 'New Zealand',\n",
       " 'Nicaragua',\n",
       " 'Nigeria',\n",
       " 'No place, unknown, or undetermined',\n",
       " 'North Carolina',\n",
       " 'Noruega',\n",
       " 'Norway',\n",
       " 'Ohio',\n",
       " 'Ottoman Empire',\n",
       " 'Pakistan',\n",
       " 'Palestinian Territory, Occupied',\n",
       " 'Palestinian territories',\n",
       " 'Panama',\n",
       " 'Panamá',\n",
       " 'Paraguay',\n",
       " 'Países Bajos',\n",
       " 'Pennsylvania',\n",
       " 'Peru',\n",
       " 'Perú',\n",
       " 'Philippines',\n",
       " 'Poland',\n",
       " 'Polonia',\n",
       " 'Portugal',\n",
       " 'Prussia',\n",
       " 'Puerto Rico',\n",
       " 'Reino Unido',\n",
       " 'Republic of Macedonia',\n",
       " 'Republic of the Congo',\n",
       " 'República Checa',\n",
       " 'República de Weimar',\n",
       " 'Romania',\n",
       " 'Rumania',\n",
       " 'Rusia',\n",
       " 'Russia',\n",
       " 'Saint Lucia',\n",
       " 'Saint-Martin',\n",
       " 'Scotland',\n",
       " 'Second Polish Republic',\n",
       " 'Senegal',\n",
       " 'Serbia',\n",
       " 'Sierra Leone',\n",
       " 'Sikkim',\n",
       " 'Singapore',\n",
       " 'Siria',\n",
       " 'Slovakia',\n",
       " 'Slovenia',\n",
       " 'Somalia',\n",
       " 'South Africa',\n",
       " 'South Carolina',\n",
       " 'South Korea',\n",
       " 'Soviet Union',\n",
       " 'Spain',\n",
       " 'Sri Lanka',\n",
       " 'Sudan',\n",
       " 'Suecia',\n",
       " 'Suiza',\n",
       " 'Swaziland',\n",
       " 'Sweden',\n",
       " 'Switzerland',\n",
       " 'Syria',\n",
       " 'Taiwan',\n",
       " 'Tajikistan',\n",
       " 'Tanzania',\n",
       " 'Tennessee',\n",
       " 'Thailand',\n",
       " 'The Bahamas',\n",
       " 'Trinidad and Tobago',\n",
       " 'Tunisia',\n",
       " 'Turkey',\n",
       " 'Turquía',\n",
       " 'Túnez',\n",
       " 'Ucrania',\n",
       " 'Uganda',\n",
       " 'Ukraine',\n",
       " 'United Kingdom',\n",
       " 'United States',\n",
       " 'Uruguay',\n",
       " 'Utah',\n",
       " 'Uzbekistan',\n",
       " 'Uzbekistán',\n",
       " 'Venezuela',\n",
       " 'Vermont',\n",
       " 'Vietnam',\n",
       " 'Virginia',\n",
       " 'Washington (State)',\n",
       " 'Zambia',\n",
       " 'Zimbabwe',\n",
       " 'África Occidental Portuguesa'}"
      ]
     },
     "execution_count": 31,
     "metadata": {},
     "output_type": "execute_result"
    }
   ],
   "source": [
    "unmapped"
   ]
  },
  {
   "cell_type": "code",
   "execution_count": 32,
   "metadata": {
    "collapsed": true
   },
   "outputs": [],
   "source": [
    "# Correct unmapped\n",
    "\n",
    "# 'Afghanistan',\n",
    "# 'Alabama',\n",
    "# 'Albania',\n",
    "# 'Alemania',\n",
    "mappings['Alemania'] = 'Germany'\n",
    "# 'Algeria',\n",
    "# 'Andorra',\n",
    "# 'Angola',\n",
    "# 'Antigua Atenas',\n",
    "mappings['Antigua Atenas'] = 'Greece'\n",
    "# 'Antigua and Barbuda',\n",
    "# 'Argentina',\n",
    "# 'Arizona',\n",
    "# 'Aruba',\n",
    "# 'Australia',\n",
    "# 'Austria',\n",
    "# 'Azerbaijan',\n",
    "# 'Bangladesh',\n",
    "# 'Barbados',\n",
    "# 'Belarus',\n",
    "# 'Belgium',\n",
    "# 'Benin',\n",
    "# 'Bielorrusia',\n",
    "mappings['Bielorrusia'] = 'Belarus'\n",
    "# 'Bolivia',\n",
    "# 'Bosnia and Herzegovina',\n",
    "# 'Brasil',\n",
    "mappings['Brasil'] = 'Brazil'\n",
    "# 'Brazil',\n",
    "# 'Bulgaria',\n",
    "# 'Burkina Faso',\n",
    "# 'Burma',\n",
    "# 'Bélgica',\n",
    "mappings['Bélgica'] = 'Belgium'\n",
    "# 'California',\n",
    "# 'Cambodia',\n",
    "# 'Cameroon',\n",
    "# 'Canada',\n",
    "# 'Canadá',\n",
    "mappings['Canadá'] = 'Canada'\n",
    "# 'Canal Zone',\n",
    "# 'Cape Verde',\n",
    "# 'Chile',\n",
    "# 'China',\n",
    "# 'Colombia',\n",
    "# 'Colorado',\n",
    "# 'Congo Belga',\n",
    "mappings['Congo Belga'] = 'Belgian Congo'\n",
    "# 'Connecticut',\n",
    "# 'Costa Rica',\n",
    "# 'Croatia',\n",
    "# 'Cuba',\n",
    "# 'Curaçao',\n",
    "# 'Cyprus',\n",
    "# 'Czech Republic',\n",
    "# 'Czechoslovakia',\n",
    "# \"Côte d'Ivoire\",\n",
    "mappings[\"Côte d'Ivoire\"] = 'Ivory Coast'\n",
    "# 'Denmark',\n",
    "# 'Dinamarca',\n",
    "mappings['Dinamarca'] = 'Denmark'\n",
    "# 'District of Columbia',\n",
    "# 'Dominica',\n",
    "# 'Ecuador',\n",
    "# 'Egipto',\n",
    "mappings['Egipto'] = 'Egypt'\n",
    "# 'Egypt',\n",
    "# 'El Salvador',\n",
    "# 'England',\n",
    "# 'Eritrea',\n",
    "# 'España',\n",
    "mappings['España'] = 'Spain'\n",
    "# 'Estados Unidos',\n",
    "mappings['Estados Unidos'] = 'United States'\n",
    "# 'Estonia',\n",
    "# 'Ethiopia',\n",
    "# 'Finland',\n",
    "# 'Florida',\n",
    "# 'France',\n",
    "# 'Francia',\n",
    "mappings['France'] = 'Francia'\n",
    "# 'French Guiana',\n",
    "# 'Georgia',\n",
    "# 'Germany',\n",
    "# 'Ghana',\n",
    "# 'Grecia',\n",
    "mappings['Grecia'] = 'Greece'\n",
    "# 'Greece',\n",
    "# 'Guatemala',\n",
    "# 'Guinea',\n",
    "# 'Guyana',\n",
    "# 'Haiti',\n",
    "# 'Honduras',\n",
    "# 'Hong Kong',\n",
    "# 'Hungary',\n",
    "# 'Hungría',\n",
    "mappings['Hungría'] = 'Hungary'\n",
    "# 'Iceland',\n",
    "# 'Illinois',\n",
    "# 'Imperio Otomano',\n",
    "mappings['Imperio Otomano'] = 'Ottoman Empire'\n",
    "# 'Imperio otomano',\n",
    "mappings['Imperio otomano'] = 'Ottoman Empire'\n",
    "# 'Imperio romano',\n",
    "mappings['Imperio romano'] = 'Italy'\n",
    "# 'India',\n",
    "# 'Indonesia',\n",
    "# 'Iran',\n",
    "# 'Iraq',\n",
    "# 'Ireland',\n",
    "# 'Irlanda',\n",
    "mappings['Irlanda'] = 'Ireland'\n",
    "# 'Irán',\n",
    "mappings['Irán'] = 'Iran'\n",
    "# 'Israel',\n",
    "# 'Italia',\n",
    "mappings['Italia'] = 'Italy'\n",
    "# 'Italy',\n",
    "# 'Jamaica',\n",
    "# 'Japan',\n",
    "# 'Japón',\n",
    "mappings['Japón'] = 'Japan'\n",
    "# 'Jersey',\n",
    "# 'Jordan',\n",
    "# 'Kentucky',\n",
    "# 'Kenya',\n",
    "# 'Kingdom of Galicia and Lodomeria',\n",
    "# 'Kiribati',\n",
    "# 'Korea (South)',\n",
    "mappings['Korea (South)'] = 'South Korea'\n",
    "# 'Kosovo',\n",
    "# 'Kuwait',\n",
    "# 'Latvia',\n",
    "# 'Lebanon',\n",
    "# 'Letonia',\n",
    "mappings['Letonia'] = 'Latvia'\n",
    "# 'Libia',\n",
    "mappings['Libia'] = 'Libya'\n",
    "# 'Libya',\n",
    "# 'Lithuania',\n",
    "# 'Lituania',\n",
    "mappings['Lituania'] = 'Lithuania'\n",
    "# 'Louisiana',\n",
    "# 'Luxembourg',\n",
    "# 'Luxemburgo',\n",
    "mappings['Luxemburgo'] = 'Luxembourg'\n",
    "# 'Líbano',\n",
    "mappings['Líbano'] = 'Lebanon'\n",
    "# 'Madagascar',\n",
    "# 'Maine',\n",
    "# 'Malawi',\n",
    "# 'Malaysia',\n",
    "# 'Mali',\n",
    "# 'Malta',\n",
    "# 'Mandato británico de Palestina',\n",
    "mappings['Mandato británico de Palestina'] = 'Palestine'\n",
    "# 'Mandatory Palestine',\n",
    "mappings['Mandatory Palestine'] = 'Palestine'\n",
    "# 'Marruecos',\n",
    "mappings['Marruecos'] = 'Morocco'\n",
    "# 'Maryland',\n",
    "# 'Massachusetts',\n",
    "# 'Mauritius',\n",
    "# 'Mexico',\n",
    "# 'Michigan',\n",
    "# 'Minnesota',\n",
    "# 'Moldova',\n",
    "# 'Monaco',\n",
    "# 'Montenegro',\n",
    "# 'Morocco',\n",
    "# 'Mozambique',\n",
    "# 'Myanmar',\n",
    "# 'México',\n",
    "mappings['México'] = 'Mexico'\n",
    "# 'Nebraska',\n",
    "# 'Netherlands',\n",
    "# 'Nevada',\n",
    "# 'New Caledonia',\n",
    "# 'New Hampshire',\n",
    "# 'New York (State)',\n",
    "# 'New Zealand',\n",
    "# 'Nicaragua',\n",
    "# 'Nigeria',\n",
    "# 'No place, unknown, or undetermined',\n",
    "# 'North Carolina',\n",
    "# 'Noruega',\n",
    "mappings['Noruega'] = 'Norway'\n",
    "# 'Norway',\n",
    "# 'Ohio',\n",
    "# 'Ottoman Empire',\n",
    "# 'Pakistan',\n",
    "# 'Palestinian Territory, Occupied',\n",
    "mappings['Palestinian Territory, Occupied'] = 'Palestine'\n",
    "# 'Palestinian territories',\n",
    "mappings['Palestinian territories'] = 'Palestine'\n",
    "# 'Panama',\n",
    "# 'Panamá',\n",
    "mappings['Panamá'] = 'Panama'\n",
    "# 'Paraguay',\n",
    "# 'Países Bajos',\n",
    "mappings['Países Bajos'] = 'Netherlands'\n",
    "# 'Pennsylvania',\n",
    "# 'Peru',\n",
    "# 'Perú',\n",
    "mappings['Perú'] = 'Peru'\n",
    "# 'Philippines',\n",
    "# 'Poland',\n",
    "# 'Polonia',\n",
    "mappings['Polonia'] = 'Poland'\n",
    "# 'Portugal',\n",
    "# 'Prussia',\n",
    "# 'Puerto Rico',\n",
    "# 'Reino Unido',\n",
    "mappings['Reino Unido'] = 'United Kingdom'\n",
    "# 'Republic of Macedonia',\n",
    "# 'Republic of the Congo',\n",
    "# 'República Checa',\n",
    "mappings['República Checa'] = 'Czech Republic'\n",
    "# 'República de Weimar',\n",
    "mappings['República de Weimar'] = 'Weimar Republic'\n",
    "# 'Romania',\n",
    "# 'Rumania',\n",
    "mappings['Rumania'] = 'Romania'\n",
    "# 'Rusia',\n",
    "mappings['Rusia'] = 'Russia'\n",
    "# 'Russia',\n",
    "# 'Saint Lucia',\n",
    "# 'Saint-Martin',\n",
    "# 'Scotland',\n",
    "# 'Second Polish Republic',\n",
    "mappings['Second Polish Republic'] = 'Poland'\n",
    "# 'Senegal',\n",
    "# 'Serbia',\n",
    "# 'Sierra Leone',\n",
    "# 'Sikkim',\n",
    "# 'Singapore',\n",
    "# 'Siria',\n",
    "mappings['Siria'] = 'Syria'\n",
    "# 'Slovakia',\n",
    "# 'Slovenia',\n",
    "# 'Somalia',\n",
    "# 'South Africa',\n",
    "# 'South Carolina',\n",
    "# 'South Korea',\n",
    "# 'Soviet Union',\n",
    "mappings['Soviet Union'] = 'Russia'\n",
    "# 'Spain',\n",
    "# 'Sri Lanka',\n",
    "# 'Sudan',\n",
    "# 'Suecia',\n",
    "mappings['Suecia'] = 'Sweden'\n",
    "# 'Suiza',\n",
    "mappings['Suiza'] = 'Switzerland'\n",
    "# 'Swaziland',\n",
    "# 'Sweden',\n",
    "# 'Switzerland',\n",
    "# 'Syria',\n",
    "# 'Taiwan',\n",
    "# 'Tajikistan',\n",
    "# 'Tanzania',\n",
    "# 'Tennessee',\n",
    "# 'Thailand',\n",
    "# 'The Bahamas',\n",
    "# 'Trinidad and Tobago',\n",
    "# 'Tunisia',\n",
    "# 'Turkey',\n",
    "# 'Turquía',\n",
    "mappings['Turquía'] = 'Turkey'\n",
    "# 'Túnez',\n",
    "mappings['Túnez'] = 'Tunisia'\n",
    "# 'Ucrania',\n",
    "mappings['Ucrania'] = 'Ukraine'\n",
    "# 'Uganda',\n",
    "# 'Ukraine',\n",
    "# 'United Kingdom',\n",
    "# 'United States',\n",
    "# 'Uruguay',\n",
    "# 'Utah',\n",
    "# 'Uzbekistan',\n",
    "# 'Uzbekistán',\n",
    "mappings['Uzbekistán'] = 'Uzbekistan'\n",
    "# 'Venezuela',\n",
    "# 'Vermont',\n",
    "# 'Vietnam',\n",
    "# 'Virginia',\n",
    "# 'Washington (State)',\n",
    "# 'Zambia',\n",
    "# 'Zimbabwe',\n",
    "# 'África Occidental Portuguesa'\n",
    "mappings['África Occidental Portuguesa'] = 'Portuguese Angola'"
   ]
  },
  {
   "cell_type": "markdown",
   "metadata": {},
   "source": [
    "## Correcting countries"
   ]
  },
  {
   "cell_type": "code",
   "execution_count": 33,
   "metadata": {
    "collapsed": false
   },
   "outputs": [
    {
     "name": "stdout",
     "output_type": "stream",
     "text": [
      "CPU times: user 1.68 s, sys: 8.03 ms, total: 1.69 s\n",
      "Wall time: 1.69 s\n"
     ]
    }
   ],
   "source": [
    "%%time\n",
    "\n",
    "def process_pais_ejemplar(x):\n",
    "    c = x['PAIS_EJEMPLAR']\n",
    "    return mappings.get(c, c)\n",
    "\n",
    "autores_df['PAIS_EJEMPLAR'] = autores_df.apply(process_pais_ejemplar, axis=1)"
   ]
  },
  {
   "cell_type": "code",
   "execution_count": 34,
   "metadata": {
    "collapsed": false
   },
   "outputs": [
    {
     "name": "stdout",
     "output_type": "stream",
     "text": [
      "CPU times: user 1.69 s, sys: 3.97 ms, total: 1.69 s\n",
      "Wall time: 1.69 s\n"
     ]
    }
   ],
   "source": [
    "%%time\n",
    "\n",
    "def process_pais_autor(x):\n",
    "    c = x['PAIS_AUTOR']\n",
    "    return mappings.get(c, c)\n",
    "\n",
    "autores_df['PAIS_AUTOR'] = autores_df.apply(process_pais_autor, axis=1)"
   ]
  },
  {
   "cell_type": "code",
   "execution_count": 35,
   "metadata": {
    "collapsed": false
   },
   "outputs": [
    {
     "data": {
      "text/plain": [
       "111"
      ]
     },
     "execution_count": 35,
     "metadata": {},
     "output_type": "execute_result"
    }
   ],
   "source": [
    "autores_df['PAIS_EJEMPLAR'].nunique()"
   ]
  },
  {
   "cell_type": "code",
   "execution_count": 36,
   "metadata": {
    "collapsed": false
   },
   "outputs": [
    {
     "data": {
      "text/plain": [
       "150"
      ]
     },
     "execution_count": 36,
     "metadata": {},
     "output_type": "execute_result"
    }
   ],
   "source": [
    "autores_df['PAIS_AUTOR'].nunique()"
   ]
  },
  {
   "cell_type": "markdown",
   "metadata": {},
   "source": [
    "# Saving results"
   ]
  },
  {
   "cell_type": "code",
   "execution_count": 37,
   "metadata": {
    "collapsed": true
   },
   "outputs": [],
   "source": [
    "autores_df.to_csv('autores6.csv', index=False)"
   ]
  },
  {
   "cell_type": "code",
   "execution_count": null,
   "metadata": {
    "collapsed": true
   },
   "outputs": [],
   "source": []
  }
 ],
 "metadata": {
  "kernelspec": {
   "display_name": "Python 3",
   "language": "python",
   "name": "python3"
  },
  "language_info": {
   "codemirror_mode": {
    "name": "ipython",
    "version": 3
   },
   "file_extension": ".py",
   "mimetype": "text/x-python",
   "name": "python",
   "nbconvert_exporter": "python",
   "pygments_lexer": "ipython3",
   "version": "3.4.3"
  }
 },
 "nbformat": 4,
 "nbformat_minor": 1
}
