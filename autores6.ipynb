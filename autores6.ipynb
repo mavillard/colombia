{
 "cells": [
  {
   "cell_type": "markdown",
   "metadata": {},
   "source": [
    "# Capitals"
   ]
  },
  {
   "cell_type": "code",
   "execution_count": 1,
   "metadata": {
    "collapsed": true
   },
   "outputs": [],
   "source": [
    "import csv\n",
    "import os\n",
    "import re\n",
    "from collections import defaultdict\n",
    "from collections import Counter\n",
    "from datetime import datetime\n",
    "from datetime import timedelta\n",
    "from string import punctuation\n",
    "\n",
    "import matplotlib\n",
    "import numpy as np\n",
    "import networkx as nx\n",
    "import pandas as pd\n",
    "import requests\n",
    "import seaborn as sns\n",
    "from geolocation.main import GoogleMaps\n",
    "from matplotlib import pyplot as plt\n",
    "from SPARQLWrapper import SPARQLWrapper, JSON\n",
    "\n",
    "from googlemaps_key import KEY"
   ]
  },
  {
   "cell_type": "markdown",
   "metadata": {},
   "source": [
    "# Autores"
   ]
  },
  {
   "cell_type": "code",
   "execution_count": 2,
   "metadata": {
    "collapsed": false
   },
   "outputs": [
    {
     "name": "stdout",
     "output_type": "stream",
     "text": [
      "CPU times: user 152 ms, sys: 4.42 ms, total: 157 ms\n",
      "Wall time: 156 ms\n"
     ]
    }
   ],
   "source": [
    "%%time\n",
    "\n",
    "dtypes = {\n",
    "    'TITULO': str,\n",
    "    'AUTOR': str,\n",
    "    'PAIS_EJEMPLAR': str,\n",
    "    'PAIS_AUTOR': str,\n",
    "}\n",
    "\n",
    "autores_df = pd.read_csv('autores5.csv', header=0, dtype=dtypes)\n",
    "autores_df = autores_df.fillna('')"
   ]
  },
  {
   "cell_type": "code",
   "execution_count": 3,
   "metadata": {
    "collapsed": false
   },
   "outputs": [
    {
     "data": {
      "text/plain": [
       "(76722, 4)"
      ]
     },
     "execution_count": 3,
     "metadata": {},
     "output_type": "execute_result"
    }
   ],
   "source": [
    "autores_df.shape"
   ]
  },
  {
   "cell_type": "code",
   "execution_count": 4,
   "metadata": {
    "collapsed": false
   },
   "outputs": [
    {
     "data": {
      "text/html": [
       "<div>\n",
       "<table border=\"1\" class=\"dataframe\">\n",
       "  <thead>\n",
       "    <tr style=\"text-align: right;\">\n",
       "      <th></th>\n",
       "      <th>TITULO</th>\n",
       "      <th>PAIS_EJEMPLAR</th>\n",
       "      <th>AUTOR</th>\n",
       "      <th>PAIS_AUTOR</th>\n",
       "    </tr>\n",
       "  </thead>\n",
       "  <tbody>\n",
       "    <tr>\n",
       "      <th>0</th>\n",
       "      <td>Adivina en qué pais ...</td>\n",
       "      <td>Spain</td>\n",
       "      <td>Martina Badstuber</td>\n",
       "      <td>Germany</td>\n",
       "    </tr>\n",
       "    <tr>\n",
       "      <th>1</th>\n",
       "      <td>¡No quiero hacer pipí en el orinal!</td>\n",
       "      <td>Spain</td>\n",
       "      <td>Roser Rius</td>\n",
       "      <td>Mexico</td>\n",
       "    </tr>\n",
       "    <tr>\n",
       "      <th>2</th>\n",
       "      <td>Humo</td>\n",
       "      <td>Spain</td>\n",
       "      <td>Antón Fortes Torres</td>\n",
       "      <td>Spain</td>\n",
       "    </tr>\n",
       "    <tr>\n",
       "      <th>3</th>\n",
       "      <td>Galleta para perros</td>\n",
       "      <td>Spain</td>\n",
       "      <td>Helen Cooper</td>\n",
       "      <td>United Kingdom</td>\n",
       "    </tr>\n",
       "    <tr>\n",
       "      <th>4</th>\n",
       "      <td>Autobio</td>\n",
       "      <td>Spain</td>\n",
       "      <td>Cyril Pedrosa</td>\n",
       "      <td>France</td>\n",
       "    </tr>\n",
       "  </tbody>\n",
       "</table>\n",
       "</div>"
      ],
      "text/plain": [
       "                                TITULO PAIS_EJEMPLAR                AUTOR  \\\n",
       "0              Adivina en qué pais ...         Spain    Martina Badstuber   \n",
       "1  ¡No quiero hacer pipí en el orinal!         Spain           Roser Rius   \n",
       "2                                 Humo         Spain  Antón Fortes Torres   \n",
       "3                  Galleta para perros         Spain         Helen Cooper   \n",
       "4                              Autobio         Spain        Cyril Pedrosa   \n",
       "\n",
       "       PAIS_AUTOR  \n",
       "0         Germany  \n",
       "1          Mexico  \n",
       "2           Spain  \n",
       "3  United Kingdom  \n",
       "4          France  "
      ]
     },
     "execution_count": 4,
     "metadata": {},
     "output_type": "execute_result"
    }
   ],
   "source": [
    "autores_df.head()"
   ]
  },
  {
   "cell_type": "markdown",
   "metadata": {},
   "source": [
    "# Countries"
   ]
  },
  {
   "cell_type": "code",
   "execution_count": 5,
   "metadata": {
    "collapsed": true
   },
   "outputs": [],
   "source": [
    "countries = [\n",
    "{'timezones': ['Europe/Andorra'], 'code': 'AD', 'continent': 'Europe', 'name': 'Andorra', 'capital': 'Andorra la Vella'},\n",
    "{'timezones': ['Asia/Kabul'], 'code': 'AF', 'continent': 'Asia', 'name': 'Afghanistan', 'capital': 'Kabul'},\n",
    "{'timezones': ['America/Antigua'], 'code': 'AG', 'continent': 'North America', 'name': 'Antigua and Barbuda', 'capital': \"St. John's\"},\n",
    "{'timezones': ['Europe/Tirane'], 'code': 'AL', 'continent': 'Europe', 'name': 'Albania', 'capital': 'Tirana'},\n",
    "{'timezones': ['Asia/Yerevan'], 'code': 'AM', 'continent': 'Asia', 'name': 'Armenia', 'capital': 'Yerevan'},\n",
    "{'timezones': ['Africa/Luanda'], 'code': 'AO', 'continent': 'Africa', 'name': 'Angola', 'capital': 'Luanda'},\n",
    "{'timezones': ['America/Argentina/Buenos_Aires', 'America/Argentina/Cordoba', 'America/Argentina/Jujuy', 'America/Argentina/Tucuman', 'America/Argentina/Catamarca', 'America/Argentina/La_Rioja', 'America/Argentina/San_Juan', 'America/Argentina/Mendoza', 'America/Argentina/Rio_Gallegos', 'America/Argentina/Ushuaia'], 'code': 'AR', 'continent': 'South America', 'name': 'Argentina', 'capital': 'Buenos Aires'},\n",
    "{'timezones': ['Europe/Vienna'], 'code': 'AT', 'continent': 'Europe', 'name': 'Austria', 'capital': 'Vienna'},\n",
    "{'timezones': ['Australia/Lord_Howe', 'Australia/Hobart', 'Australia/Currie', 'Australia/Melbourne', 'Australia/Sydney', 'Australia/Broken_Hill', 'Australia/Brisbane', 'Australia/Lindeman', 'Australia/Adelaide', 'Australia/Darwin', 'Australia/Perth'], 'code': 'AU', 'continent': 'Oceania', 'name': 'Australia', 'capital': 'Canberra'},\n",
    "{'timezones': ['Asia/Baku'], 'code': 'AZ', 'continent': 'Asia', 'name': 'Azerbaijan', 'capital': 'Baku'},\n",
    "{'timezones': ['America/Barbados'], 'code': 'BB', 'continent': 'North America', 'name': 'Barbados', 'capital': 'Bridgetown'},\n",
    "{'timezones': ['Asia/Dhaka'], 'code': 'BD', 'continent': 'Asia', 'name': 'Bangladesh', 'capital': 'Dhaka'},\n",
    "{'timezones': ['Europe/Brussels'], 'code': 'BE', 'continent': 'Europe', 'name': 'Belgium', 'capital': 'Brussels'},\n",
    "{'timezones': ['Africa/Ouagadougou'], 'code': 'BF', 'continent': 'Africa', 'name': 'Burkina Faso', 'capital': 'Ouagadougou'},\n",
    "{'timezones': ['Europe/Sofia'], 'code': 'BG', 'continent': 'Europe', 'name': 'Bulgaria', 'capital': 'Sofia'},\n",
    "{'timezones': ['Asia/Bahrain'], 'code': 'BH', 'continent': 'Asia', 'name': 'Bahrain', 'capital': 'Manama'},\n",
    "{'timezones': ['Africa/Bujumbura'], 'code': 'BI', 'continent': 'Africa', 'name': 'Burundi', 'capital': 'Bujumbura'},\n",
    "{'timezones': ['Africa/Porto-Novo'], 'code': 'BJ', 'continent': 'Africa', 'name': 'Benin', 'capital': 'Porto-Novo'},\n",
    "{'timezones': ['Asia/Brunei'], 'code': 'BN', 'continent': 'Asia', 'name': 'Brunei Darussalam', 'capital': 'Bandar Seri Begawan'},\n",
    "{'timezones': ['America/La_Paz'], 'code': 'BO', 'continent': 'South America', 'name': 'Bolivia', 'capital': 'Sucre'},\n",
    "{'timezones': ['America/Noronha', 'America/Belem', 'America/Fortaleza', 'America/Recife', 'America/Araguaina', 'America/Maceio', 'America/Bahia', 'America/Sao_Paulo', 'America/Campo_Grande', 'America/Cuiaba', 'America/Porto_Velho', 'America/Boa_Vista', 'America/Manaus', 'America/Eirunepe', 'America/Rio_Branco'], 'code': 'BR', 'continent': 'South America', 'name': 'Brazil', 'capital': 'Bras\\xc3\\xadlia'},\n",
    "{'timezones': ['America/Nassau'], 'code': 'BS', 'continent': 'North America', 'name': 'Bahamas', 'capital': 'Nassau'},\n",
    "{'timezones': ['Asia/Thimphu'], 'code': 'BT', 'continent': 'Asia', 'name': 'Bhutan', 'capital': 'Thimphu'},\n",
    "{'timezones': ['Africa/Gaborone'], 'code': 'BW', 'continent': 'Africa', 'name': 'Botswana', 'capital': 'Gaborone'},\n",
    "{'timezones': ['Europe/Minsk'], 'code': 'BY', 'continent': 'Europe', 'name': 'Belarus', 'capital': 'Minsk'},\n",
    "{'timezones': ['America/Belize'], 'code': 'BZ', 'continent': 'North America', 'name': 'Belize', 'capital': 'Belmopan'},\n",
    "{'timezones': ['America/St_Johns', 'America/Halifax', 'America/Glace_Bay', 'America/Moncton', 'America/Goose_Bay', 'America/Blanc-Sablon', 'America/Montreal', 'America/Toronto', 'America/Nipigon', 'America/Thunder_Bay', 'America/Pangnirtung', 'America/Iqaluit', 'America/Atikokan', 'America/Rankin_Inlet', 'America/Winnipeg', 'America/Rainy_River', 'America/Cambridge_Bay', 'America/Regina', 'America/Swift_Current', 'America/Edmonton', 'America/Yellowknife', 'America/Inuvik', 'America/Dawson_Creek', 'America/Vancouver', 'America/Whitehorse', 'America/Dawson'], 'code': 'CA', 'continent': 'North America', 'name': 'Canada', 'capital': 'Ottawa'},\n",
    "{'timezones': ['Africa/Kinshasa', 'Africa/Lubumbashi'], 'code': 'CD', 'continent': 'Africa', 'name': 'Democratic Republic of the Congo', 'capital': 'Kinshasa'},\n",
    "{'timezones': ['Africa/Brazzaville'], 'code': 'CG', 'continent': 'Africa', 'name': 'Republic of the Congo', 'capital': 'Brazzaville'},\n",
    "{'timezones': ['Africa/Abidjan'], 'code': 'CI', 'continent': 'Africa', 'name': \"C\\xc3\\xb4te d'Ivoire\", 'capital': 'Yamoussoukro'},\n",
    "{'timezones': ['America/Santiago', 'Pacific/Easter'], 'code': 'CL', 'continent': 'South America', 'name': 'Chile', 'capital': 'Santiago'},\n",
    "{'timezones': ['Africa/Douala'], 'code': 'CM', 'continent': 'Africa', 'name': 'Cameroon', 'capital': 'Yaound\\xc3\\xa9'},\n",
    "{'timezones': ['Asia/Shanghai', 'Asia/Harbin', 'Asia/Chongqing', 'Asia/Urumqi', 'Asia/Kashgar'], 'code': 'CN', 'continent': 'Asia', 'name': \"People's Republic of China\", 'capital': 'Beijing'},\n",
    "{'timezones': ['America/Bogota'], 'code': 'CO', 'continent': 'South America', 'name': 'Colombia', 'capital': 'Bogot\\xc3\\xa1'},\n",
    "{'timezones': ['America/Costa_Rica'], 'code': 'CR', 'continent': 'North America', 'name': 'Costa Rica', 'capital': 'San Jos\\xc3\\xa9'},\n",
    "{'timezones': ['America/Havana'], 'code': 'CU', 'continent': 'North America', 'name': 'Cuba', 'capital': 'Havana'},\n",
    "{'timezones': ['Atlantic/Cape_Verde'], 'code': 'CV', 'continent': 'Africa', 'name': 'Cape Verde', 'capital': 'Praia'},\n",
    "{'timezones': ['Asia/Nicosia'], 'code': 'CY', 'continent': 'Asia', 'name': 'Cyprus', 'capital': 'Nicosia'},\n",
    "{'timezones': ['Europe/Prague'], 'code': 'CZ', 'continent': 'Europe', 'name': 'Czech Republic', 'capital': 'Prague'},\n",
    "{'timezones': ['Europe/Berlin'], 'code': 'DE', 'continent': 'Europe', 'name': 'Germany', 'capital': 'Berlin'},\n",
    "{'timezones': ['Africa/Djibouti'], 'code': 'DJ', 'continent': 'Africa', 'name': 'Djibouti', 'capital': 'Djibouti City'},\n",
    "{'timezones': ['Europe/Copenhagen'], 'code': 'DK', 'continent': 'Europe', 'name': 'Denmark', 'capital': 'Copenhagen'},\n",
    "{'timezones': ['America/Dominica'], 'code': 'DM', 'continent': 'North America', 'name': 'Dominica', 'capital': 'Roseau'},\n",
    "{'timezones': ['America/Santo_Domingo'], 'code': 'DO', 'continent': 'North America', 'name': 'Dominican Republic', 'capital': 'Santo Domingo'},\n",
    "{'timezones': ['America/Guayaquil', 'Pacific/Galapagos'], 'code': 'EC', 'continent': 'South America', 'name': 'Ecuador', 'capital': 'Quito'},\n",
    "{'timezones': ['Europe/Tallinn'], 'code': 'EE', 'continent': 'Europe', 'name': 'Estonia', 'capital': 'Tallinn'},\n",
    "{'timezones': ['Africa/Cairo'], 'code': 'EG', 'continent': 'Africa', 'name': 'Egypt', 'capital': 'Cairo'},\n",
    "{'timezones': ['Africa/Asmera'], 'code': 'ER', 'continent': 'Africa', 'name': 'Eritrea', 'capital': 'Asmara'},\n",
    "{'timezones': ['Africa/Addis_Ababa'], 'code': 'ET', 'continent': 'Africa', 'name': 'Ethiopia', 'capital': 'Addis Ababa'},\n",
    "{'timezones': ['Europe/Helsinki'], 'code': 'FI', 'continent': 'Europe', 'name': 'Finland', 'capital': 'Helsinki'},\n",
    "{'timezones': ['Pacific/Fiji'], 'code': 'FJ', 'continent': 'Oceania', 'name': 'Fiji', 'capital': 'Suva'},\n",
    "{'timezones': ['Europe/Paris'], 'code': 'FR', 'continent': 'Europe', 'name': 'France', 'capital': 'Paris'},\n",
    "{'timezones': ['Africa/Libreville'], 'code': 'GA', 'continent': 'Africa', 'name': 'Gabon', 'capital': 'Libreville'},\n",
    "{'timezones': ['Asia/Tbilisi'], 'code': 'GE', 'continent': 'Asia', 'name': 'Georgia', 'capital': 'Tbilisi'},\n",
    "{'timezones': ['Africa/Accra'], 'code': 'GH', 'continent': 'Africa', 'name': 'Ghana', 'capital': 'Accra'},\n",
    "{'timezones': ['Africa/Banjul'], 'code': 'GM', 'continent': 'Africa', 'name': 'The Gambia', 'capital': 'Banjul'},\n",
    "{'timezones': ['Africa/Conakry'], 'code': 'GN', 'continent': 'Africa', 'name': 'Guinea', 'capital': 'Conakry'},\n",
    "{'timezones': ['Europe/Athens'], 'code': 'GR', 'continent': 'Europe', 'name': 'Greece', 'capital': 'Athens'},\n",
    "{'timezones': ['America/Guatemala'], 'code': 'GT', 'continent': 'North America', 'name': 'Guatemala', 'capital': 'Guatemala City'},\n",
    "{'timezones': ['America/Guatemala'], 'code': 'GT', 'continent': 'North America', 'name': 'Haiti', 'capital': 'Port-au-Prince'},\n",
    "{'timezones': ['Africa/Bissau'], 'code': 'GW', 'continent': 'Africa', 'name': 'Guinea-Bissau', 'capital': 'Bissau'},\n",
    "{'timezones': ['America/Guyana'], 'code': 'GY', 'continent': 'South America', 'name': 'Guyana', 'capital': 'Georgetown'},\n",
    "{'timezones': ['America/Tegucigalpa'], 'code': 'HN', 'continent': 'North America', 'name': 'Honduras', 'capital': 'Tegucigalpa'},\n",
    "{'timezones': ['Europe/Budapest'], 'code': 'HU', 'continent': 'Europe', 'name': 'Hungary', 'capital': 'Budapest'},\n",
    "{'timezones': ['Asia/Jakarta', 'Asia/Pontianak', 'Asia/Makassar', 'Asia/Jayapura'], 'code': 'ID', 'continent': 'Asia', 'name': 'Indonesia', 'capital': 'Jakarta'},\n",
    "{'timezones': ['Europe/Dublin'], 'code': 'IE', 'continent': 'Europe', 'name': 'Republic of Ireland', 'capital': 'Dublin'},\n",
    "{'timezones': ['Asia/Jerusalem'], 'code': 'IL', 'continent': 'Asia', 'name': 'Israel', 'capital': 'Jerusalem'},\n",
    "{'timezones': ['Asia/Calcutta'], 'code': 'IN', 'continent': 'Asia', 'name': 'India', 'capital': 'New Delhi'},\n",
    "{'timezones': ['Asia/Baghdad'], 'code': 'IQ', 'continent': 'Asia', 'name': 'Iraq', 'capital': 'Baghdad'},\n",
    "{'timezones': ['Asia/Tehran'], 'code': 'IR', 'continent': 'Asia', 'name': 'Iran', 'capital': 'Tehran'},\n",
    "{'timezones': ['Atlantic/Reykjavik'], 'code': 'IS', 'continent': 'Europe', 'name': 'Iceland', 'capital': 'Reykjav\\xc3\\xadk'},\n",
    "{'timezones': ['Europe/Rome'], 'code': 'IT', 'continent': 'Europe', 'name': 'Italy', 'capital': 'Rome'},\n",
    "{'timezones': ['America/Jamaica'], 'code': 'JM', 'continent': 'North America', 'name': 'Jamaica', 'capital': 'Kingston'},\n",
    "{'timezones': ['Asia/Amman'], 'code': 'JO', 'continent': 'Asia', 'name': 'Jordan', 'capital': 'Amman'},\n",
    "{'timezones': ['Asia/Tokyo'], 'code': 'JP', 'continent': 'Asia', 'name': 'Japan', 'capital': 'Tokyo'},\n",
    "{'timezones': ['Africa/Nairobi'], 'code': 'KE', 'continent': 'Africa', 'name': 'Kenya', 'capital': 'Nairobi'},\n",
    "{'timezones': ['Asia/Bishkek'], 'code': 'KG', 'continent': 'Asia', 'name': 'Kyrgyzstan', 'capital': 'Bishkek'},\n",
    "{'timezones': ['Pacific/Tarawa', 'Pacific/Enderbury', 'Pacific/Kiritimati'], 'code': 'KI', 'continent': 'Oceania', 'name': 'Kiribati', 'capital': 'Tarawa'},\n",
    "{'timezones': ['Asia/Pyongyang'], 'code': 'KP', 'continent': 'Asia', 'name': 'North Korea', 'capital': 'Pyongyang'},\n",
    "{'timezones': ['Asia/Seoul'], 'code': 'KR', 'continent': 'Asia', 'name': 'South Korea', 'capital': 'Seoul'},\n",
    "{'timezones': ['Asia/Kuwait'], 'code': 'KW', 'continent': 'Asia', 'name': 'Kuwait', 'capital': 'Kuwait City'},\n",
    "{'timezones': ['Asia/Beirut'], 'code': 'LB', 'continent': 'Asia', 'name': 'Lebanon', 'capital': 'Beirut'},\n",
    "{'timezones': ['Europe/Vaduz'], 'code': 'LI', 'continent': 'Europe', 'name': 'Liechtenstein', 'capital': 'Vaduz'},\n",
    "{'timezones': ['Africa/Monrovia'], 'code': 'LR', 'continent': 'Africa', 'name': 'Liberia', 'capital': 'Monrovia'},\n",
    "{'timezones': ['Africa/Maseru'], 'code': 'LS', 'continent': 'Africa', 'name': 'Lesotho', 'capital': 'Maseru'},\n",
    "{'timezones': ['Europe/Vilnius'], 'code': 'LT', 'continent': 'Europe', 'name': 'Lithuania', 'capital': 'Vilnius'},\n",
    "{'timezones': ['Europe/Luxembourg'], 'code': 'LU', 'continent': 'Europe', 'name': 'Luxembourg', 'capital': 'Luxembourg City'},\n",
    "{'timezones': ['Europe/Riga'], 'code': 'LV', 'continent': 'Europe', 'name': 'Latvia', 'capital': 'Riga'},\n",
    "{'timezones': ['Africa/Tripoli'], 'code': 'LY', 'continent': 'Africa', 'name': 'Libya', 'capital': 'Tripoli'},\n",
    "{'timezones': ['Indian/Antananarivo'], 'code': 'MG', 'continent': 'Africa', 'name': 'Madagascar', 'capital': 'Antananarivo'},\n",
    "{'timezones': ['Pacific/Majuro', 'Pacific/Kwajalein'], 'code': 'MH', 'continent': 'Oceania', 'name': 'Marshall Islands', 'capital': 'Majuro'},\n",
    "{'timezones': ['Europe/Skopje'], 'code': 'MK', 'continent': 'Europe', 'name': 'Macedonia', 'capital': 'Skopje'},\n",
    "{'timezones': ['Africa/Bamako'], 'code': 'ML', 'continent': 'Africa', 'name': 'Mali', 'capital': 'Bamako'},\n",
    "{'timezones': ['Asia/Rangoon'], 'code': 'MM', 'continent': 'Asia', 'name': 'Myanmar', 'capital': 'Naypyidaw'},\n",
    "{'timezones': ['Asia/Ulaanbaatar', 'Asia/Hovd', 'Asia/Choibalsan'], 'code': 'MN', 'continent': 'Asia', 'name': 'Mongolia', 'capital': 'Ulaanbaatar'},\n",
    "{'timezones': ['Africa/Nouakchott'], 'code': 'MR', 'continent': 'Africa', 'name': 'Mauritania', 'capital': 'Nouakchott'},\n",
    "{'timezones': ['Europe/Malta'], 'code': 'MT', 'continent': 'Europe', 'name': 'Malta', 'capital': 'Valletta'},\n",
    "{'timezones': ['Indian/Mauritius'], 'code': 'MU', 'continent': 'Africa', 'name': 'Mauritius', 'capital': 'Port Louis'},\n",
    "{'timezones': ['Indian/Maldives'], 'code': 'MV', 'continent': 'Asia', 'name': 'Maldives', 'capital': 'Mal\\xc3\\xa9'},\n",
    "{'timezones': ['Africa/Blantyre'], 'code': 'MW', 'continent': 'Africa', 'name': 'Malawi', 'capital': 'Lilongwe'},\n",
    "{'timezones': ['America/Mexico_City', 'America/Cancun', 'America/Merida', 'America/Monterrey', 'America/Mazatlan', 'America/Chihuahua', 'America/Hermosillo', 'America/Tijuana'], 'code': 'MX', 'continent': 'North America', 'name': 'Mexico', 'capital': 'Mexico City'},\n",
    "{'timezones': ['Asia/Kuala_Lumpur', 'Asia/Kuching'], 'code': 'MY', 'continent': 'Asia', 'name': 'Malaysia', 'capital': 'Kuala Lumpur'},\n",
    "{'timezones': ['Africa/Maputo'], 'code': 'MZ', 'continent': 'Africa', 'name': 'Mozambique', 'capital': 'Maputo'},\n",
    "{'timezones': ['Africa/Windhoek'], 'code': 'NA', 'continent': 'Africa', 'name': 'Namibia', 'capital': 'Windhoek'},\n",
    "{'timezones': ['Africa/Niamey'], 'code': 'NE', 'continent': 'Africa', 'name': 'Niger', 'capital': 'Niamey'},\n",
    "{'timezones': ['Africa/Lagos'], 'code': 'NG', 'continent': 'Africa', 'name': 'Nigeria', 'capital': 'Abuja'},\n",
    "{'timezones': ['America/Managua'], 'code': 'NI', 'continent': 'North America', 'name': 'Nicaragua', 'capital': 'Managua'},\n",
    "{'timezones': ['Europe/Amsterdam'], 'code': 'NL', 'continent': 'Europe', 'name': 'Kingdom of the Netherlands', 'capital': 'Amsterdam'},\n",
    "{'timezones': ['Europe/Oslo'], 'code': 'NO', 'continent': 'Europe', 'name': 'Norway', 'capital': 'Oslo'},\n",
    "{'timezones': ['Asia/Katmandu'], 'code': 'NP', 'continent': 'Asia', 'name': 'Nepal', 'capital': 'Kathmandu'},\n",
    "{'timezones': ['Pacific/Nauru'], 'code': 'NR', 'continent': 'Oceania', 'name': 'Nauru', 'capital': 'Yaren'},\n",
    "{'timezones': ['Pacific/Auckland', 'Pacific/Chatham'], 'code': 'NZ', 'continent': 'Oceania', 'name': 'New Zealand', 'capital': 'Wellington'},\n",
    "{'timezones': ['Asia/Muscat'], 'code': 'OM', 'continent': 'Asia', 'name': 'Oman', 'capital': 'Muscat'},\n",
    "{'timezones': ['America/Panama'], 'code': 'PA', 'continent': 'North America', 'name': 'Panama', 'capital': 'Panama City'},\n",
    "{'timezones': ['America/Lima'], 'code': 'PE', 'continent': 'South America', 'name': 'Peru', 'capital': 'Lima'},\n",
    "{'timezones': ['Pacific/Port_Moresby'], 'code': 'PG', 'continent': 'Oceania', 'name': 'Papua New Guinea', 'capital': 'Port Moresby'},\n",
    "{'timezones': ['Asia/Manila'], 'code': 'PH', 'continent': 'Asia', 'name': 'Philippines', 'capital': 'Manila'},\n",
    "{'timezones': ['Asia/Karachi'], 'code': 'PK', 'continent': 'Asia', 'name': 'Pakistan', 'capital': 'Islamabad'},\n",
    "{'timezones': ['Europe/Warsaw'], 'code': 'PL', 'continent': 'Europe', 'name': 'Poland', 'capital': 'Warsaw'},\n",
    "{'timezones': ['Europe/Lisbon', 'Atlantic/Madeira', 'Atlantic/Azores'], 'code': 'PT', 'continent': 'Europe', 'name': 'Portugal', 'capital': 'Lisbon'},\n",
    "{'timezones': ['Pacific/Palau'], 'code': 'PW', 'continent': 'Oceania', 'name': 'Palau', 'capital': 'Ngerulmud'},\n",
    "{'timezones': ['America/Asuncion'], 'code': 'PY', 'continent': 'South America', 'name': 'Paraguay', 'capital': 'Asunci\\xc3\\xb3n'},\n",
    "{'timezones': ['Asia/Qatar'], 'code': 'QA', 'continent': 'Asia', 'name': 'Qatar', 'capital': 'Doha'},\n",
    "{'timezones': ['Europe/Bucharest'], 'code': 'RO', 'continent': 'Europe', 'name': 'Romania', 'capital': 'Bucharest'},\n",
    "{'timezones': ['Europe/Kaliningrad', 'Europe/Moscow', 'Europe/Volgograd', 'Europe/Samara', 'Asia/Yekaterinburg', 'Asia/Omsk', 'Asia/Novosibirsk', 'Asia/Krasnoyarsk', 'Asia/Irkutsk', 'Asia/Yakutsk', 'Asia/Vladivostok', 'Asia/Sakhalin', 'Asia/Magadan', 'Asia/Kamchatka', 'Asia/Anadyr'], 'code': 'RU', 'continent': 'Europe', 'name': 'Russia', 'capital': 'Moscow'},\n",
    "{'timezones': ['Africa/Kigali'], 'code': 'RW', 'continent': 'Africa', 'name': 'Rwanda', 'capital': 'Kigali'},\n",
    "{'timezones': ['Asia/Riyadh'], 'code': 'SA', 'continent': 'Asia', 'name': 'Saudi Arabia', 'capital': 'Riyadh'},\n",
    "{'timezones': ['Pacific/Guadalcanal'], 'code': 'SB', 'continent': 'Oceania', 'name': 'Solomon Islands', 'capital': 'Honiara'},\n",
    "{'timezones': ['Indian/Mahe'], 'code': 'SC', 'continent': 'Africa', 'name': 'Seychelles', 'capital': 'Victoria'},\n",
    "{'timezones': ['Africa/Khartoum'], 'code': 'SD', 'continent': 'Africa', 'name': 'Sudan', 'capital': 'Khartoum'},\n",
    "{'timezones': ['Europe/Stockholm'], 'code': 'SE', 'continent': 'Europe', 'name': 'Sweden', 'capital': 'Stockholm'},\n",
    "{'timezones': ['Asia/Singapore'], 'code': 'SG', 'continent': 'Asia', 'name': 'Singapore', 'capital': 'Singapore'},\n",
    "{'timezones': ['Europe/Ljubljana'], 'code': 'SI', 'continent': 'Europe', 'name': 'Slovenia', 'capital': 'Ljubljana'},\n",
    "{'timezones': ['Europe/Bratislava'], 'code': 'SK', 'continent': 'Europe', 'name': 'Slovakia', 'capital': 'Bratislava'},\n",
    "{'timezones': ['Africa/Freetown'], 'code': 'SL', 'continent': 'Africa', 'name': 'Sierra Leone', 'capital': 'Freetown'},\n",
    "{'timezones': ['Europe/San_Marino'], 'code': 'SM', 'continent': 'Europe', 'name': 'San Marino', 'capital': 'San Marino'},\n",
    "{'timezones': ['Africa/Dakar'], 'code': 'SN', 'continent': 'Africa', 'name': 'Senegal', 'capital': 'Dakar'},\n",
    "{'timezones': ['Africa/Mogadishu'], 'code': 'SO', 'continent': 'Africa', 'name': 'Somalia', 'capital': 'Mogadishu'},\n",
    "{'timezones': ['America/Paramaribo'], 'code': 'SR', 'continent': 'South America', 'name': 'Suriname', 'capital': 'Paramaribo'},\n",
    "{'timezones': ['Africa/Sao_Tome'], 'code': 'ST', 'continent': 'Africa', 'name': 'S\\xc3\\xa3o Tom\\xc3\\xa9 and Pr\\xc3\\xadncipe', 'capital': 'S\\xc3\\xa3o Tom\\xc3\\xa9'},\n",
    "{'timezones': ['Asia/Damascus'], 'code': 'SY', 'continent': 'Asia', 'name': 'Syria', 'capital': 'Damascus'},\n",
    "{'timezones': ['Africa/Lome'], 'code': 'TG', 'continent': 'Africa', 'name': 'Togo', 'capital': 'Lom\\xc3\\xa9'},\n",
    "{'timezones': ['Asia/Bangkok'], 'code': 'TH', 'continent': 'Asia', 'name': 'Thailand', 'capital': 'Bangkok'},\n",
    "{'timezones': ['Asia/Dushanbe'], 'code': 'TJ', 'continent': 'Asia', 'name': 'Tajikistan', 'capital': 'Dushanbe'},\n",
    "{'timezones': ['Asia/Ashgabat'], 'code': 'TM', 'continent': 'Asia', 'name': 'Turkmenistan', 'capital': 'Ashgabat'},\n",
    "{'timezones': ['Africa/Tunis'], 'code': 'TN', 'continent': 'Africa', 'name': 'Tunisia', 'capital': 'Tunis'},\n",
    "{'timezones': ['Pacific/Tongatapu'], 'code': 'TO', 'continent': 'Oceania', 'name': 'Tonga', 'capital': 'Nuku\\xca\\xbbalofa'},\n",
    "{'timezones': ['Europe/Istanbul'], 'code': 'TR', 'continent': 'Asia', 'name': 'Turkey', 'capital': 'Ankara'},\n",
    "{'timezones': ['America/Port_of_Spain'], 'code': 'TT', 'continent': 'North America', 'name': 'Trinidad and Tobago', 'capital': 'Port of Spain'},\n",
    "{'timezones': ['Pacific/Funafuti'], 'code': 'TV', 'continent': 'Oceania', 'name': 'Tuvalu', 'capital': 'Funafuti'},\n",
    "{'timezones': ['Africa/Dar_es_Salaam'], 'code': 'TZ', 'continent': 'Africa', 'name': 'Tanzania', 'capital': 'Dodoma'},\n",
    "{'timezones': ['Europe/Kiev', 'Europe/Uzhgorod', 'Europe/Zaporozhye', 'Europe/Simferopol'], 'code': 'UA', 'continent': 'Europe', 'name': 'Ukraine', 'capital': 'Kiev'},\n",
    "{'timezones': ['Africa/Kampala'], 'code': 'UG', 'continent': 'Africa', 'name': 'Uganda', 'capital': 'Kampala'},\n",
    "{'timezones': ['America/New_York', 'America/Detroit', 'America/Kentucky/Louisville', 'America/Kentucky/Monticello', 'America/Indiana/Indianapolis', 'America/Indiana/Marengo', 'America/Indiana/Knox', 'America/Indiana/Vevay', 'America/Chicago', 'America/Indiana/Vincennes', 'America/Indiana/Petersburg', 'America/Menominee', 'America/North_Dakota/Center', 'America/North_Dakota/New_Salem', 'America/Denver', 'America/Boise', 'America/Shiprock', 'America/Phoenix', 'America/Los_Angeles', 'America/Anchorage', 'America/Juneau', 'America/Yakutat', 'America/Nome', 'America/Adak', 'Pacific/Honolulu'], 'code': 'US', 'continent': 'North America', 'name': 'United States', 'capital': 'Washington, D.C.'},\n",
    "{'timezones': ['America/Montevideo'], 'code': 'UY', 'continent': 'South America', 'name': 'Uruguay', 'capital': 'Montevideo'},\n",
    "{'timezones': ['Asia/Samarkand', 'Asia/Tashkent'], 'code': 'UZ', 'continent': 'Asia', 'name': 'Uzbekistan', 'capital': 'Tashkent'},\n",
    "{'timezones': ['Europe/Vatican'], 'code': 'VA', 'continent': 'Europe', 'name': 'Vatican City', 'capital': 'Vatican City'},\n",
    "{'timezones': ['America/Caracas'], 'code': 'VE', 'continent': 'South America', 'name': 'Venezuela', 'capital': 'Caracas'},\n",
    "{'timezones': ['Asia/Saigon'], 'code': 'VN', 'continent': 'Asia', 'name': 'Vietnam', 'capital': 'Hanoi'},\n",
    "{'timezones': ['Pacific/Efate'], 'code': 'VU', 'continent': 'Oceania', 'name': 'Vanuatu', 'capital': 'Port Vila'},\n",
    "{'timezones': ['Asia/Aden'], 'code': 'YE', 'continent': 'Asia', 'name': 'Yemen', 'capital': \"Sana'a\"},\n",
    "{'timezones': ['Africa/Lusaka'], 'code': 'ZM', 'continent': 'Africa', 'name': 'Zambia', 'capital': 'Lusaka'},\n",
    "{'timezones': ['Africa/Harare'], 'code': 'ZW', 'continent': 'Africa', 'name': 'Zimbabwe', 'capital': 'Harare'},\n",
    "{'timezones': ['Africa/Algiers'], 'code': 'DZ', 'continent': 'Africa', 'name': 'Algeria', 'capital': 'Algiers'},\n",
    "{'timezones': ['Europe/Sarajevo'], 'code': 'BA', 'continent': 'Europe', 'name': 'Bosnia and Herzegovina', 'capital': 'Sarajevo'},\n",
    "{'timezones': ['Asia/Phnom_Penh'], 'code': 'KH', 'continent': 'Asia', 'name': 'Cambodia', 'capital': 'Phnom Penh'},\n",
    "{'timezones': ['Africa/Bangui'], 'code': 'CF', 'continent': 'Africa', 'name': 'Central African Republic', 'capital': 'Bangui'},\n",
    "{'timezones': ['Africa/Ndjamena'], 'code': 'TD', 'continent': 'Africa', 'name': 'Chad', 'capital': \"N'Djamena\"},\n",
    "{'timezones': ['Indian/Comoro'], 'code': 'KM', 'continent': 'Africa', 'name': 'Comoros', 'capital': 'Moroni'},\n",
    "{'timezones': ['Europe/Zagreb'], 'code': 'HR', 'continent': 'Europe', 'name': 'Croatia', 'capital': 'Zagreb'},\n",
    "{'timezones': ['Asia/Dili'], 'code': 'TL', 'continent': 'Asia', 'name': 'East Timor', 'capital': 'Dili'},\n",
    "{'timezones': ['America/El_Salvador'], 'code': 'SV', 'continent': 'North America', 'name': 'El Salvador', 'capital': 'San Salvador'},\n",
    "{'timezones': ['Africa/Malabo'], 'code': 'GQ', 'continent': 'Africa', 'name': 'Equatorial Guinea', 'capital': 'Malabo'},\n",
    "{'timezones': ['America/Grenada'], 'code': 'GD', 'continent': 'North America', 'name': 'Grenada', 'capital': \"St. George's\"},\n",
    "{'timezones': ['Asia/Almaty', 'Asia/Qyzylorda', 'Asia/Aqtobe', 'Asia/Aqtau', 'Asia/Oral'], 'code': 'KZ', 'continent': 'Asia', 'name': 'Kazakhstan', 'capital': 'Astana'},\n",
    "{'timezones': ['Asia/Vientiane'], 'code': 'LA', 'continent': 'Asia', 'name': 'Laos', 'capital': 'Vientiane'},\n",
    "{'timezones': ['Pacific/Truk', 'Pacific/Ponape', 'Pacific/Kosrae'], 'code': 'FM', 'continent': 'Oceania', 'name': 'Federated States of Micronesia', 'capital': 'Palikir'},\n",
    "{'timezones': ['Europe/Chisinau'], 'code': 'MD', 'continent': 'Europe', 'name': 'Moldova', 'capital': 'Chi\\xc5\\x9fin\\xc4\\x83u'},\n",
    "{'timezones': ['Europe/Monaco'], 'code': 'MC', 'continent': 'Europe', 'name': 'Monaco', 'capital': 'Monaco'},\n",
    "{'timezones': ['Europe/Podgorica'], 'code': 'ME', 'continent': 'Europe', 'name': 'Montenegro', 'capital': 'Podgorica'},\n",
    "{'timezones': ['Africa/Casablanca'], 'code': 'MA', 'continent': 'Africa', 'name': 'Morocco', 'capital': 'Rabat'},\n",
    "{'timezones': ['America/St_Kitts'], 'code': 'KN', 'continent': 'North America', 'name': 'Saint Kitts and Nevis', 'capital': 'Basseterre'},\n",
    "{'timezones': ['America/St_Lucia'], 'code': 'LC', 'continent': 'North America', 'name': 'Saint Lucia', 'capital': 'Castries'},\n",
    "{'timezones': ['America/St_Vincent'], 'code': 'VC', 'continent': 'North America', 'name': 'Saint Vincent and the Grenadines', 'capital': 'Kingstown'},\n",
    "{'timezones': ['Pacific/Apia'], 'code': 'WS', 'continent': 'Oceania', 'name': 'Samoa', 'capital': 'Apia'},\n",
    "{'timezones': ['Europe/Belgrade'], 'code': 'RS', 'continent': 'Europe', 'name': 'Serbia', 'capital': 'Belgrade'},\n",
    "{'timezones': ['Africa/Johannesburg'], 'code': 'ZA', 'continent': 'Africa', 'name': 'South Africa', 'capital': 'Pretoria'},\n",
    "{'timezones': ['Europe/Madrid', 'Africa/Ceuta', 'Atlantic/Canary'], 'code': 'ES', 'continent': 'Europe', 'name': 'Spain', 'capital': 'Madrid'},\n",
    "{'timezones': ['Asia/Colombo'], 'code': 'LK', 'continent': 'Asia', 'name': 'Sri Lanka', 'capital': 'Sri Jayewardenepura Kotte'},\n",
    "{'timezones': ['Africa/Mbabane'], 'code': 'SZ', 'continent': 'Africa', 'name': 'Swaziland', 'capital': 'Mbabane'},\n",
    "{'timezones': ['Europe/Zurich'], 'code': 'CH', 'continent': 'Europe', 'name': 'Switzerland', 'capital': 'Bern'},\n",
    "{'timezones': ['Asia/Dubai'], 'code': 'AE', 'continent': 'Asia', 'name': 'United Arab Emirates', 'capital': 'Abu Dhabi'},\n",
    "{'timezones': ['Europe/London'], 'code': 'GB', 'continent': 'Europe', 'name': 'United Kingdom', 'capital': 'London'},\n",
    "]"
   ]
  },
  {
   "cell_type": "code",
   "execution_count": 6,
   "metadata": {
    "collapsed": true
   },
   "outputs": [],
   "source": [
    "country_list = [c['name'] for c in countries]"
   ]
  },
  {
   "cell_type": "code",
   "execution_count": 7,
   "metadata": {
    "collapsed": false
   },
   "outputs": [
    {
     "data": {
      "text/plain": [
       "193"
      ]
     },
     "execution_count": 7,
     "metadata": {},
     "output_type": "execute_result"
    }
   ],
   "source": [
    "len(country_list)"
   ]
  },
  {
   "cell_type": "code",
   "execution_count": 8,
   "metadata": {
    "collapsed": false
   },
   "outputs": [],
   "source": [
    "capitals = dict((c['name'], c['capital']) for c in countries)"
   ]
  },
  {
   "cell_type": "code",
   "execution_count": 9,
   "metadata": {
    "collapsed": false
   },
   "outputs": [
    {
     "data": {
      "text/plain": [
       "193"
      ]
     },
     "execution_count": 9,
     "metadata": {},
     "output_type": "execute_result"
    }
   ],
   "source": [
    "len(capitals)"
   ]
  },
  {
   "cell_type": "markdown",
   "metadata": {},
   "source": [
    "# Places"
   ]
  },
  {
   "cell_type": "code",
   "execution_count": 10,
   "metadata": {
    "collapsed": false
   },
   "outputs": [
    {
     "data": {
      "text/plain": [
       "236"
      ]
     },
     "execution_count": 10,
     "metadata": {},
     "output_type": "execute_result"
    }
   ],
   "source": [
    "autores_df['PAIS_AUTOR'].nunique()"
   ]
  },
  {
   "cell_type": "code",
   "execution_count": 11,
   "metadata": {
    "collapsed": false
   },
   "outputs": [
    {
     "data": {
      "text/plain": [
       "121"
      ]
     },
     "execution_count": 11,
     "metadata": {},
     "output_type": "execute_result"
    }
   ],
   "source": [
    "autores_df['PAIS_EJEMPLAR'].nunique()"
   ]
  },
  {
   "cell_type": "code",
   "execution_count": 12,
   "metadata": {
    "collapsed": false
   },
   "outputs": [],
   "source": [
    "places = set(autores_df['PAIS_AUTOR'].unique()).union(autores_df['PAIS_EJEMPLAR'].unique())"
   ]
  },
  {
   "cell_type": "code",
   "execution_count": 13,
   "metadata": {
    "collapsed": false
   },
   "outputs": [
    {
     "data": {
      "text/plain": [
       "284"
      ]
     },
     "execution_count": 13,
     "metadata": {},
     "output_type": "execute_result"
    }
   ],
   "source": [
    "len(places)"
   ]
  },
  {
   "cell_type": "code",
   "execution_count": 14,
   "metadata": {
    "collapsed": false
   },
   "outputs": [],
   "source": [
    "intersect = set(places).intersection(country_list)"
   ]
  },
  {
   "cell_type": "code",
   "execution_count": 15,
   "metadata": {
    "collapsed": false
   },
   "outputs": [
    {
     "data": {
      "text/plain": [
       "144"
      ]
     },
     "execution_count": 15,
     "metadata": {},
     "output_type": "execute_result"
    }
   ],
   "source": [
    "len(intersect)"
   ]
  },
  {
   "cell_type": "code",
   "execution_count": 16,
   "metadata": {
    "collapsed": false
   },
   "outputs": [],
   "source": [
    "diff = set(places).difference(country_list)"
   ]
  },
  {
   "cell_type": "code",
   "execution_count": 17,
   "metadata": {
    "collapsed": false
   },
   "outputs": [
    {
     "data": {
      "text/plain": [
       "140"
      ]
     },
     "execution_count": 17,
     "metadata": {},
     "output_type": "execute_result"
    }
   ],
   "source": [
    "len(diff)"
   ]
  },
  {
   "cell_type": "markdown",
   "metadata": {},
   "source": [
    "# Capital país"
   ]
  },
  {
   "cell_type": "code",
   "execution_count": 18,
   "metadata": {
    "collapsed": true
   },
   "outputs": [],
   "source": [
    "def get_capital_pais_data_wkd(name, lang):\n",
    "    template = \"\"\"\n",
    "        PREFIX wd: <http://www.wikidata.org/entity/>\n",
    "        PREFIX wdt: <http://www.wikidata.org/prop/direct/>\n",
    "        PREFIX rdfs: <http://www.w3.org/2000/01/rdf-schema#>\n",
    "\n",
    "        SELECT ?countryLabel ?capitalLabel\n",
    "        WHERE {{\n",
    "            BIND(\"{0}\"@{1} AS ?countryLabel) .\n",
    "            ?country rdfs:label ?countryLabel .\n",
    "            ?country wdt:P36 ?capital .\n",
    "            ?capital rdfs:label ?capitalLabel .\n",
    "            FILTER(lang(?capitalLabel)=\"{1}\")\n",
    "        }}\n",
    "    \"\"\"\n",
    "    query = template.format(name, lang)\n",
    "    url = 'https://query.wikidata.org/bigdata/namespace/wdq/sparql'\n",
    "    data = requests.get(url, params={'query': query, 'format': 'json'}).json()\n",
    "    return data"
   ]
  },
  {
   "cell_type": "code",
   "execution_count": 19,
   "metadata": {
    "collapsed": true
   },
   "outputs": [],
   "source": [
    "sparql_dbp = SPARQLWrapper(\"http://dbpedia.org/sparql\")\n",
    "\n",
    "def get_capital_pais_data_dbp(name, lang):\n",
    "    template = \"\"\"\n",
    "        PREFIX dbo: <http://dbpedia.org/ontology/>\n",
    "        PREFIX dbp: <http://dbpedia.org/property/>\n",
    "        PREFIX rdf: <http://www.w3.org/1999/02/22-rdf-syntax-ns#>\n",
    "        PREFIX rdfs: <http://www.w3.org/2000/01/rdf-schema#>\n",
    "\n",
    "        SELECT ?countryLabel ?capitalLabel\n",
    "        WHERE {{\n",
    "            BIND(\"{0}\"@{1} AS ?countryLabel) .\n",
    "            ?country rdfs:label ?countryLabel .\n",
    "            ?country dbo:capital ?capital .\n",
    "            ?capital rdfs:label ?capitalLabel .\n",
    "            FILTER(lang(?capitalLabel)=\"{1}\")\n",
    "        }}\n",
    "    \"\"\"\n",
    "    query = template.format(name, lang)\n",
    "    sparql_dbp.setQuery(query)\n",
    "    sparql_dbp.setReturnFormat(JSON)\n",
    "    data = sparql_dbp.query().convert()\n",
    "    return data"
   ]
  },
  {
   "cell_type": "code",
   "execution_count": 20,
   "metadata": {
    "collapsed": true
   },
   "outputs": [],
   "source": [
    "def get_capital_pais_data(db, name, lang):\n",
    "    try:\n",
    "        if db == 'wdt':\n",
    "            data = get_capital_pais_data_wkd(name, lang)\n",
    "        elif db == 'dbp':\n",
    "            data = get_capital_pais_data_dbp(name, lang)\n",
    "\n",
    "        results = set(d['capitalLabel']['value'] for d in data['results']['bindings'])\n",
    "        if len(results) == 0:\n",
    "            result = 'UNKOWN'\n",
    "        elif len(results) == 1:\n",
    "            result = results.pop()\n",
    "        else:\n",
    "            print('MáS DE UNA CAPITAL PARA', name, ':', results)\n",
    "            result = results.pop()\n",
    "    except:\n",
    "        print('ERROR EN SPARQL PARA', name)\n",
    "        result = 'UNKOWN'\n",
    "    return result"
   ]
  },
  {
   "cell_type": "code",
   "execution_count": 21,
   "metadata": {
    "collapsed": true
   },
   "outputs": [],
   "source": [
    "def choose(opt_list):\n",
    "    return Counter(opt_list).most_common(1)[0][0]"
   ]
  },
  {
   "cell_type": "code",
   "execution_count": 22,
   "metadata": {
    "collapsed": true
   },
   "outputs": [],
   "source": [
    "def get_capital_pais(name):\n",
    "    for lang in ['en', 'es']:\n",
    "        for db in ['dbp', 'wdt']:\n",
    "            r = get_capital_pais_data(db, name, lang)\n",
    "            if r != 'UNKOWN':\n",
    "                return r\n",
    "    return 'DESCONOCIDO'"
   ]
  },
  {
   "cell_type": "code",
   "execution_count": 23,
   "metadata": {
    "collapsed": false
   },
   "outputs": [
    {
     "name": "stdout",
     "output_type": "stream",
     "text": [
      "MáS DE UNA CAPITAL PARA Margraviate of Brandenburg : {'Brandenburg an der Havel', 'Berlin'}\n",
      "MáS DE UNA CAPITAL PARA Kingdom of the Two Sicilies : {'Palermo', 'Naples'}\n",
      "MáS DE UNA CAPITAL PARA Ottoman Empire : {'Söğüt', 'Bursa', 'Edirne', 'Istanbul', 'Constantinople'}\n",
      "MáS DE UNA CAPITAL PARA Habsburg Monarchy : {'Prague', 'Vienna'}\n",
      "MáS DE UNA CAPITAL PARA Electorate of Cologne : {'Bonn', 'Cologne'}\n",
      "MáS DE UNA CAPITAL PARA Moldavia : {'Suceava', 'Siret', 'Iași', 'Baia'}\n",
      "MáS DE UNA CAPITAL PARA Duchy of Schleswig : {'Copenhagen', 'Flensburg', 'Schleswig, Schleswig-Holstein'}\n",
      "MáS DE UNA CAPITAL PARA Electorate of Saxony : {'Wittenberg', 'Meissen', 'Dresden'}\n",
      "MáS DE UNA CAPITAL PARA French Indochina : {'Hanoi', 'Ho Chi Minh City', 'Da Lat'}\n",
      "MáS DE UNA CAPITAL PARA Dutch Republic : {'De facto', 'Amsterdam'}\n",
      "MáS DE UNA CAPITAL PARA Prussia : {'Königsberg', 'Berlin'}\n",
      "MáS DE UNA CAPITAL PARA Jorezmitas : {'Tabriz', 'Samarcanda', 'Kunya-Urgench', 'Gazni (ciudad)'}\n",
      "MáS DE UNA CAPITAL PARA Kingdom of Lombardy–Venetia : {'Venice', 'Milan'}\n",
      "MáS DE UNA CAPITAL PARA Republic of Venice : {'Eraclea', 'Venice', 'Malamocco'}\n",
      "MáS DE UNA CAPITAL PARA Palestine : {'Ramallah', 'East Jerusalem'}\n",
      "MáS DE UNA CAPITAL PARA East Africa Protectorate : {'Nairobi', 'Mombasa'}\n",
      "MáS DE UNA CAPITAL PARA Gold Coast (British colony) : {'Accra', 'Cape Coast'}\n",
      "MáS DE UNA CAPITAL PARA Montserrat : {'Little Bay (Montserrat)', 'Plymouth, Montserrat', 'Brades'}\n",
      "MáS DE UNA CAPITAL PARA Imperio aqueménida : {'Susa', 'Persépolis', 'Babilonia (ciudad)', 'Pasargada', 'Ecbatana'}\n",
      "MáS DE UNA CAPITAL PARA Spanish East Indies : {'Manila', 'Cebu', 'Iloilo City'}\n",
      "MáS DE UNA CAPITAL PARA Kingdom of Sardinia : {'Turin', 'Cagliari'}\n",
      "CPU times: user 1.61 s, sys: 95.3 ms, total: 1.71 s\n",
      "Wall time: 52.7 s\n"
     ]
    }
   ],
   "source": [
    "%%time\n",
    "\n",
    "for x in diff:\n",
    "    capitals[x] = get_capital_pais(x)"
   ]
  },
  {
   "cell_type": "code",
   "execution_count": 24,
   "metadata": {
    "collapsed": false
   },
   "outputs": [
    {
     "data": {
      "text/plain": [
       "{'Afghanistan': 'Kabul',\n",
       " 'Alabama': 'Montgomery, Alabama',\n",
       " 'Albania': 'Tirana',\n",
       " 'Algeria': 'Algiers',\n",
       " 'Andorra': 'Andorra la Vella',\n",
       " 'Angola': 'Luanda',\n",
       " 'Antigua and Barbuda': \"St. John's\",\n",
       " 'Argentina': 'Buenos Aires',\n",
       " 'Arizona': 'Phoenix, Arizona',\n",
       " 'Armenia': 'Yerevan',\n",
       " 'Australia': 'Canberra',\n",
       " 'Austria': 'Vienna',\n",
       " 'Azerbaijan': 'Baku',\n",
       " 'Bahamas': 'Nassau',\n",
       " 'Bahrain': 'Manama',\n",
       " 'Bangladesh': 'Dhaka',\n",
       " 'Barbados': 'Bridgetown',\n",
       " 'Belarus': 'Minsk',\n",
       " 'Belgian Congo': 'Kinshasa',\n",
       " 'Belgium': 'Brussels',\n",
       " 'Belize': 'Belmopan',\n",
       " 'Benin': 'Porto-Novo',\n",
       " 'Bhutan': 'Thimphu',\n",
       " 'Bielorrusia': 'Minsk',\n",
       " 'Bolivia': 'Sucre',\n",
       " 'Bosnia and Herzegovina': 'Sarajevo',\n",
       " 'Botswana': 'Gaborone',\n",
       " 'Bourbon Restoration': 'Paris',\n",
       " 'Brazil': 'BrasÃ\\xadlia',\n",
       " 'British America': 'Kingdom of England',\n",
       " 'British Ceylon': 'Colombo',\n",
       " 'British Raj': 'Kolkata',\n",
       " 'Brunei Darussalam': 'Bandar Seri Begawan',\n",
       " 'Bulgaria': 'Sofia',\n",
       " 'Burkina Faso': 'Ouagadougou',\n",
       " 'Burma': 'DESCONOCIDO',\n",
       " 'Burundi': 'Bujumbura',\n",
       " 'California': 'Sacramento, California',\n",
       " 'Cambodia': 'Phnom Penh',\n",
       " 'Cameroon': 'YaoundÃ©',\n",
       " 'Canada': 'Ottawa',\n",
       " 'Canal Zone': 'DESCONOCIDO',\n",
       " 'Cape Verde': 'Praia',\n",
       " 'Central African Republic': 'Bangui',\n",
       " 'Chad': \"N'Djamena\",\n",
       " 'Chile': 'Santiago',\n",
       " 'China': 'Beijing',\n",
       " 'Colombia': 'BogotÃ¡',\n",
       " 'Colorado': 'Denver',\n",
       " 'Comoros': 'Moroni',\n",
       " 'Connecticut': 'Hartford, Connecticut',\n",
       " 'Costa Rica': 'San JosÃ©',\n",
       " 'Croatia': 'Zagreb',\n",
       " 'Cuba': 'Havana',\n",
       " 'Curaçao': 'Willemstad',\n",
       " 'Cyprus': 'Nicosia',\n",
       " 'Czech Republic': 'Prague',\n",
       " 'Czechoslovakia': 'Prague',\n",
       " \"CÃ´te d'Ivoire\": 'Yamoussoukro',\n",
       " \"Côte d'Ivoire\": 'Yamoussoukro',\n",
       " 'Democratic Republic of the Congo': 'Kinshasa',\n",
       " 'Denmark': 'Copenhagen',\n",
       " 'District of Columbia': 'DESCONOCIDO',\n",
       " 'Djibouti': 'Djibouti City',\n",
       " 'Dominica': 'Roseau',\n",
       " 'Dominican Republic': 'Santo Domingo',\n",
       " 'Dominion of Newfoundland': \"St. John's, Newfoundland and Labrador\",\n",
       " 'Duchy of Brunswick': 'DESCONOCIDO',\n",
       " 'Duchy of Holstein': 'Glückstadt',\n",
       " 'Duchy of Milan': 'DESCONOCIDO',\n",
       " 'Duchy of Salzburg': 'Salzburg',\n",
       " 'Duchy of Saxe-Altenburg': 'Altenburg',\n",
       " 'Duchy of Schleswig': 'Copenhagen',\n",
       " 'Dutch East Indies': 'Batavia, Dutch East Indies',\n",
       " 'Dutch Republic': 'De facto',\n",
       " 'East Africa Protectorate': 'Nairobi',\n",
       " 'East Timor': 'Dili',\n",
       " 'Ecuador': 'Quito',\n",
       " 'Egypt': 'Cairo',\n",
       " 'El Salvador': 'San Salvador',\n",
       " 'Electorate of Bavaria': 'Munich',\n",
       " 'Electorate of Cologne': 'Bonn',\n",
       " 'Electorate of Saxony': 'Wittenberg',\n",
       " 'England': 'London',\n",
       " 'Equatorial Guinea': 'Malabo',\n",
       " 'Eritrea': 'Asmara',\n",
       " 'Estonia': 'Tallinn',\n",
       " 'Ethiopia': 'Addis Ababa',\n",
       " 'Falkland Islands': 'Stanley, Falkland Islands',\n",
       " 'Federated States of Micronesia': 'Palikir',\n",
       " 'Fiji': 'Suva',\n",
       " 'Filipinas': 'Manila',\n",
       " 'Finland': 'Helsinki',\n",
       " 'Florida': 'Tallahassee, Florida',\n",
       " 'Franc': 'DESCONOCIDO',\n",
       " 'France': 'Paris',\n",
       " 'Free City of Lübeck': 'Lübeck',\n",
       " 'Free and Independent State of Cundinamarca': 'Bogotá',\n",
       " 'French Guiana': 'Cayenne',\n",
       " 'French Indochina': 'Hanoi',\n",
       " 'Gabon': 'Libreville',\n",
       " 'Georgia': 'Tbilisi',\n",
       " 'Germany': 'Berlin',\n",
       " 'Ghana': 'Accra',\n",
       " 'Gibraltar': 'Gibraltar',\n",
       " 'Gold Coast (British colony)': 'Accra',\n",
       " 'Granadine Confederation': 'Bogotá',\n",
       " 'Grand Duchy of Baden': 'Karlsruhe',\n",
       " 'Grand Duchy of Mecklenburg-Schwerin': 'Schwerin',\n",
       " 'Grand Duchy of Tuscany': 'Florence',\n",
       " 'Greece': 'Athens',\n",
       " 'Greek': 'DESCONOCIDO',\n",
       " 'Grenada': \"St. George's\",\n",
       " 'Guatemala': 'Guatemala City',\n",
       " 'Guinea': 'Conakry',\n",
       " 'Guinea-Bissau': 'Bissau',\n",
       " 'Guyana': 'Georgetown',\n",
       " 'Habsburg Monarchy': 'Prague',\n",
       " 'Haiti': 'Port-au-Prince',\n",
       " 'Honduras': 'Tegucigalpa',\n",
       " 'Hong Kong': 'DESCONOCIDO',\n",
       " 'Hungary': 'Budapest',\n",
       " 'Iceland': 'ReykjavÃ\\xadk',\n",
       " 'Illinois': 'Springfield, Illinois',\n",
       " 'Imperio aqueménida': 'Susa',\n",
       " 'India': 'New Delhi',\n",
       " 'Indiana': 'Indianapolis',\n",
       " 'Indonesia': 'Jakarta',\n",
       " 'Iran': 'Tehran',\n",
       " 'Iraq': 'Baghdad',\n",
       " 'Ireland': 'Dublin',\n",
       " 'Irlanda': 'Dublín',\n",
       " 'Israel': 'Jerusalem',\n",
       " 'Italy': 'Rome',\n",
       " 'Jamaica': 'Kingston',\n",
       " 'Jan Mayen': 'Olonkinbyen',\n",
       " 'Japan': 'Tokyo',\n",
       " 'Jersey': 'Saint Helier',\n",
       " 'Jordan': 'Amman',\n",
       " 'Jorezmitas': 'Tabriz',\n",
       " 'July Monarchy': 'History of Paris',\n",
       " 'Kazakhstan': 'Astana',\n",
       " 'Kentucky': 'Frankfort, Kentucky',\n",
       " 'Kenya': 'Nairobi',\n",
       " 'Kingdom of Bavaria': 'Munich',\n",
       " 'Kingdom of Bohemia': 'Prague',\n",
       " 'Kingdom of Galicia and Lodomeria': 'Lviv',\n",
       " 'Kingdom of Hanover': 'Hanover',\n",
       " 'Kingdom of Lombardy–Venetia': 'Venice',\n",
       " 'Kingdom of Sardinia': 'Turin',\n",
       " 'Kingdom of Saxony': 'Dresden',\n",
       " 'Kingdom of the Netherlands': 'Amsterdam',\n",
       " 'Kingdom of the Two Sicilies': 'Palermo',\n",
       " 'Kiribati': 'Tarawa',\n",
       " 'Kuwait': 'Kuwait City',\n",
       " 'Kwantung Leased Territory': 'Dalian',\n",
       " 'Kyrgyzstan': 'Bishkek',\n",
       " 'Lands of the Crown of Saint Stephen': 'Budapest',\n",
       " 'Laos': 'Vientiane',\n",
       " 'Latvia': 'Riga',\n",
       " 'Lebanon': 'Beirut',\n",
       " 'Lesotho': 'Maseru',\n",
       " 'Letonia': 'Riga',\n",
       " 'Liberia': 'Monrovia',\n",
       " 'Libya': 'Tripoli',\n",
       " 'Liechtenstein': 'Vaduz',\n",
       " 'Lithuania': 'Vilnius',\n",
       " 'Louisiana': 'Baton Rouge, Louisiana',\n",
       " 'Luxembourg': 'Luxembourg City',\n",
       " 'Macedonia': 'Skopje',\n",
       " 'Madagascar': 'Antananarivo',\n",
       " 'Maine': 'Augusta, Maine',\n",
       " 'Malawi': 'Lilongwe',\n",
       " 'Malaysia': 'Kuala Lumpur',\n",
       " 'Maldives': 'MalÃ©',\n",
       " 'Mali': 'Bamako',\n",
       " 'Malta': 'Valletta',\n",
       " 'Margraviate of Brandenburg': 'Brandenburg an der Havel',\n",
       " 'Marshall Islands': 'Majuro',\n",
       " 'Maryland': 'Annapolis, Maryland',\n",
       " 'Massachusetts': 'Boston',\n",
       " 'Mauritania': 'Nouakchott',\n",
       " 'Mauritius': 'Port Louis',\n",
       " 'Mexico': 'Mexico City',\n",
       " 'Michigan': 'Lansing, Michigan',\n",
       " 'Minnesota': 'Saint Paul, Minnesota',\n",
       " 'Missouri': 'Jefferson City, Missouri',\n",
       " 'Moldavia': 'Suceava',\n",
       " 'Moldova': 'ChiÅ\\x9finÄ\\x83u',\n",
       " 'Monaco': 'Monaco',\n",
       " 'Mongolia': 'Ulaanbaatar',\n",
       " 'Montenegro': 'Podgorica',\n",
       " 'Montserrat': 'Little Bay (Montserrat)',\n",
       " 'Morocco': 'Rabat',\n",
       " 'Mozambique': 'Maputo',\n",
       " 'Myanmar': 'Naypyidaw',\n",
       " 'Namibia': 'Windhoek',\n",
       " 'Nauru': 'Yaren',\n",
       " 'Nebraska': 'Lincoln, Nebraska',\n",
       " 'Nepal': 'Kathmandu',\n",
       " 'Netherlands': 'Amsterdam',\n",
       " 'Nevada': 'Carson City, Nevada',\n",
       " 'Nevis': 'Charlestown, Saint Kitts and Nevis',\n",
       " 'New Caledonia': 'Nouméa',\n",
       " 'New Hampshire': 'Concord, New Hampshire',\n",
       " 'New Jersey': 'Trenton, New Jersey',\n",
       " 'New York (State)': 'DESCONOCIDO',\n",
       " 'New Zealand': 'Wellington',\n",
       " 'Nicaragua': 'Managua',\n",
       " 'Niger': 'Niamey',\n",
       " 'Nigeria': 'Abuja',\n",
       " 'No place, unknown, or undetermined': 'DESCONOCIDO',\n",
       " 'North Carolina': 'Raleigh, North Carolina',\n",
       " 'North Korea': 'Pyongyang',\n",
       " 'Northern Ireland': 'Belfast',\n",
       " 'Norway': 'Oslo',\n",
       " 'Ohio': 'Columbus, Ohio',\n",
       " 'Old Swiss Confederacy': 'Tagsatzung',\n",
       " 'Oman': 'Muscat',\n",
       " 'Ontario': 'Toronto',\n",
       " 'Oregon': 'Salem, Oregon',\n",
       " 'Ottoman Empire': 'Söğüt',\n",
       " 'Pahlavi dynasty': 'Tehran',\n",
       " 'Pakistan': 'Islamabad',\n",
       " 'Palau': 'Ngerulmud',\n",
       " 'Palestine': 'Ramallah',\n",
       " 'Panama': 'Panama City',\n",
       " 'Papal States': 'Rome',\n",
       " 'Papua New Guinea': 'Port Moresby',\n",
       " 'Paraguay': 'AsunciÃ³n',\n",
       " 'Pennsylvania': 'Harrisburg, Pennsylvania',\n",
       " \"People's Republic of China\": 'Beijing',\n",
       " 'Peru': 'Lima',\n",
       " 'Philippines': 'Manila',\n",
       " 'Poland': 'Warsaw',\n",
       " 'Polonia': 'Varsovia',\n",
       " 'Portugal': 'Lisbon',\n",
       " 'Portuguese Angola': 'Luanda',\n",
       " 'Principality of Anhalt': 'Dessau',\n",
       " 'Principality of Lippe': 'Detmold',\n",
       " 'Protectorate of Bohemia and Moravia': 'Prague',\n",
       " 'Prussia': 'Königsberg',\n",
       " 'Puebla': 'Puebla City',\n",
       " 'Puerto Rico': 'San Juan, Puerto Rico',\n",
       " 'Qajar dynasty': 'Tehran',\n",
       " 'Qatar': 'Doha',\n",
       " 'Republic of Florence': 'Florence',\n",
       " 'Republic of Genoa': 'Genoa',\n",
       " 'Republic of Ireland': 'Dublin',\n",
       " 'Republic of New Granada': 'Bogotá',\n",
       " 'Republic of Venice': 'Eraclea',\n",
       " 'Republic of the Congo': 'Brazzaville',\n",
       " 'Rhode Island': 'Providence, Rhode Island',\n",
       " 'Rhodesia': 'Harare',\n",
       " 'Romania': 'Bucharest',\n",
       " 'Russia': 'Moscow',\n",
       " 'Rwanda': 'Kigali',\n",
       " 'Ryukyu Kingdom': 'Shuri, Okinawa',\n",
       " 'Saint Kitts and Nevis': 'Basseterre',\n",
       " 'Saint Lucia': 'Castries',\n",
       " 'Saint Vincent and the Grenadines': 'Kingstown',\n",
       " 'Saint-Martin': 'DESCONOCIDO',\n",
       " 'Samoa': 'Apia',\n",
       " 'San Marino': 'San Marino',\n",
       " 'Saudi Arabia': 'Riyadh',\n",
       " 'Saxe-Weimar': 'Weimar',\n",
       " 'Schwarzburg-Sondershausen': 'Sondershausen',\n",
       " 'Scotland': 'Edinburgh',\n",
       " 'Senegal': 'Dakar',\n",
       " 'Serbia': 'Belgrade',\n",
       " 'Seychelles': 'Victoria',\n",
       " 'Sierra Leone': 'Freetown',\n",
       " 'Sikkim': 'Gangtok',\n",
       " 'Singapore': 'Singapore',\n",
       " 'Slovakia': 'Bratislava',\n",
       " 'Slovenia': 'Ljubljana',\n",
       " 'Solomon Islands': 'Honiara',\n",
       " 'Somalia': 'Mogadishu',\n",
       " 'South Africa': 'Pretoria',\n",
       " 'South Carolina': 'Columbia, South Carolina',\n",
       " 'South Korea': 'Seoul',\n",
       " 'Spain': 'Madrid',\n",
       " 'Spanish East Indies': 'Manila',\n",
       " 'Sri Lanka': 'Sri Jayewardenepura Kotte',\n",
       " 'Sudan': 'Khartoum',\n",
       " 'Sultanate of Zanzibar': 'Zanzibar City',\n",
       " 'Suriname': 'Paramaribo',\n",
       " 'Swaziland': 'Mbabane',\n",
       " 'Sweden': 'Stockholm',\n",
       " 'Switzerland': 'Bern',\n",
       " 'Syria': 'Damascus',\n",
       " 'SÃ£o TomÃ© and PrÃ\\xadncipe': 'SÃ£o TomÃ©',\n",
       " 'Taifa of Murcia': 'Murcia',\n",
       " 'Taiwan': 'Taipei',\n",
       " 'Tajikistan': 'Dushanbe',\n",
       " 'Tanzania': 'Dodoma',\n",
       " 'Tennessee': 'Nashville, Tennessee',\n",
       " 'Texas': 'Austin, Texas',\n",
       " 'Thailand': 'Bangkok',\n",
       " 'The Bahamas': 'Nassau, Bahamas',\n",
       " 'The Gambia': 'Banjul',\n",
       " 'Togo': 'LomÃ©',\n",
       " 'Tonga': 'NukuÊ»alofa',\n",
       " 'Trinidad and Tobago': 'Port of Spain',\n",
       " 'Tunisia': 'Tunis',\n",
       " 'Turkey': 'Ankara',\n",
       " 'Turkmenistan': 'Ashgabat',\n",
       " 'Turquía': 'Ankara',\n",
       " 'Tuvalu': 'Funafuti',\n",
       " 'Uganda': 'Kampala',\n",
       " 'Ukraine': 'Kiev',\n",
       " 'United Arab Emirates': 'Abu Dhabi',\n",
       " 'United Kingdom': 'London',\n",
       " 'United States': 'Washington, D.C.',\n",
       " 'United States of the Ionian Islands': 'Corfu (city)',\n",
       " 'Uruguay': 'Montevideo',\n",
       " 'Utah': 'Salt Lake City',\n",
       " 'Uzbekistan': 'Tashkent',\n",
       " 'Vanuatu': 'Port Vila',\n",
       " 'Vatican City': 'Vatican City',\n",
       " 'Venezuela': 'Caracas',\n",
       " 'Vermont': 'Montpelier, Vermont',\n",
       " 'Viceroyalty of New Granada': 'Bogotá',\n",
       " 'Vietnam': 'Hanoi',\n",
       " 'Virginia': 'Richmond, Virginia',\n",
       " 'Washington (State)': 'DESCONOCIDO',\n",
       " 'Weimar Republic': 'Berlin',\n",
       " 'Wisconsin': 'Madison, Wisconsin',\n",
       " 'Württemberg': 'Stuttgart',\n",
       " 'Yemen': \"Sana'a\",\n",
       " 'Yugoslavia': 'Belgrade',\n",
       " 'Zambia': 'Lusaka',\n",
       " 'Zimbabwe': 'Harare'}"
      ]
     },
     "execution_count": 24,
     "metadata": {},
     "output_type": "execute_result"
    }
   ],
   "source": [
    "capitals"
   ]
  },
  {
   "cell_type": "code",
   "execution_count": 25,
   "metadata": {
    "collapsed": false
   },
   "outputs": [
    {
     "name": "stdout",
     "output_type": "stream",
     "text": [
      "Hong Kong - DESCONOCIDO\n",
      "Cameroon - YaoundÃ©\n",
      "District of Columbia - DESCONOCIDO\n",
      "Burma - DESCONOCIDO\n",
      "Tonga - NukuÊ»alofa\n",
      "Washington (State) - DESCONOCIDO\n",
      "Duchy of Brunswick - DESCONOCIDO\n",
      "Costa Rica - San JosÃ©\n",
      "Saint-Martin - DESCONOCIDO\n",
      "Brazil - BrasÃ­lia\n",
      "Duchy of Milan - DESCONOCIDO\n",
      "Moldova - ChiÅinÄu\n",
      "Togo - LomÃ©\n",
      "Canal Zone - DESCONOCIDO\n",
      "SÃ£o TomÃ© and PrÃ­ncipe - SÃ£o TomÃ©\n",
      "Paraguay - AsunciÃ³n\n",
      "Maldives - MalÃ©\n",
      "Colombia - BogotÃ¡\n",
      "New York (State) - DESCONOCIDO\n",
      "Franc - DESCONOCIDO\n",
      "No place, unknown, or undetermined - DESCONOCIDO\n",
      "Iceland - ReykjavÃ­k\n",
      "Greek - DESCONOCIDO\n",
      "CÃ´te d'Ivoire - Yamoussoukro\n"
     ]
    }
   ],
   "source": [
    "def dumb_clean(x):\n",
    "    return x \\\n",
    "        .replace(' ', '') \\\n",
    "        .replace(',', '') \\\n",
    "        .replace('-', '') \\\n",
    "        .replace('.', '') \\\n",
    "        .replace(\"'\", '') \\\n",
    "        .replace('(', '') \\\n",
    "        .replace(')', '') \\\n",
    "        .replace('–', '')\n",
    "\n",
    "for k in capitals:\n",
    "    if not (dumb_clean(k).isalpha() and dumb_clean(capitals[k]).isalpha()) or capitals[k] == 'DESCONOCIDO':\n",
    "        print(k, '-', capitals[k])"
   ]
  },
  {
   "cell_type": "code",
   "execution_count": 26,
   "metadata": {
    "collapsed": true
   },
   "outputs": [],
   "source": [
    "capitals['Greek'] = 'Athens'\n",
    "capitals['Costa Rica'] = 'San José'\n",
    "capitals['New York (State)'] = 'Albany'\n",
    "capitals['Duchy of Brunswick'] = 'Brunswick'\n",
    "capitals['Brazil'] = 'Brasília'\n",
    "capitals['Iceland'] = 'Reykjavík'\n",
    "capitals['District of Columbia'] = 'Washington, D.C.'\n",
    "capitals['Maldives'] = 'Malé'\n",
    "capitals['Duchy of Milan'] = 'Milan'\n",
    "capitals['Hong Kong'] = 'Hong Kong'\n",
    "capitals['São Tomé and Príncipe'] = 'São Tomé'\n",
    "capitals['Franc'] = 'DESCONOCIDO'\n",
    "capitals[\"Côte d'Ivoire\"] = 'Athens'\n",
    "capitals['Colombia'] = 'Bogotá'\n",
    "capitals['Canal Zone'] = 'DESCONOCIDO'\n",
    "capitals['Paraguay'] = 'Asunción'\n",
    "capitals['Tonga'] = 'Nukuʻalofa'\n",
    "capitals['Saint-Martin'] = 'Marigot'\n",
    "capitals['Burma'] = 'Naypyidaw'\n",
    "capitals['Cameroon'] = 'Yaoundé'\n",
    "capitals['Washington (State)'] = 'Olympia'\n",
    "capitals['Togo'] = 'Lomé'\n",
    "capitals['Moldova'] = 'Chișinău'"
   ]
  },
  {
   "cell_type": "code",
   "execution_count": 27,
   "metadata": {
    "collapsed": false
   },
   "outputs": [
    {
     "name": "stdout",
     "output_type": "stream",
     "text": [
      "CPU times: user 2 s, sys: 0 ns, total: 2 s\n",
      "Wall time: 2 s\n"
     ]
    }
   ],
   "source": [
    "%%time\n",
    "\n",
    "def process_capital_pais_autor(x):\n",
    "    p = x['PAIS_AUTOR']\n",
    "    return capitals.get(p, p)\n",
    "\n",
    "autores_df['CAPITAL_AUTOR'] = autores_df.apply(process_capital_pais_autor, axis=1)"
   ]
  },
  {
   "cell_type": "code",
   "execution_count": 28,
   "metadata": {
    "collapsed": false
   },
   "outputs": [
    {
     "name": "stdout",
     "output_type": "stream",
     "text": [
      "CPU times: user 1.5 s, sys: 3.62 ms, total: 1.51 s\n",
      "Wall time: 1.51 s\n"
     ]
    }
   ],
   "source": [
    "%%time\n",
    "\n",
    "def process_capital_pais_ejemplar(x):\n",
    "    p = x['PAIS_EJEMPLAR']\n",
    "    return capitals.get(p, p)\n",
    "\n",
    "autores_df['CAPITAL_EJEMPLAR'] = autores_df.apply(process_capital_pais_ejemplar, axis=1)"
   ]
  },
  {
   "cell_type": "markdown",
   "metadata": {},
   "source": [
    "# Saving results"
   ]
  },
  {
   "cell_type": "code",
   "execution_count": 29,
   "metadata": {
    "collapsed": true
   },
   "outputs": [],
   "source": [
    "autores_df.to_csv('autores6.csv', index=False)"
   ]
  },
  {
   "cell_type": "code",
   "execution_count": null,
   "metadata": {
    "collapsed": true
   },
   "outputs": [],
   "source": []
  }
 ],
 "metadata": {
  "kernelspec": {
   "display_name": "Python 3",
   "language": "python",
   "name": "python3"
  },
  "language_info": {
   "codemirror_mode": {
    "name": "ipython",
    "version": 3
   },
   "file_extension": ".py",
   "mimetype": "text/x-python",
   "name": "python",
   "nbconvert_exporter": "python",
   "pygments_lexer": "ipython3",
   "version": "3.4.3"
  }
 },
 "nbformat": 4,
 "nbformat_minor": 1
}
