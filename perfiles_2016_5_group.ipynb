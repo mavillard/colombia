{
 "cells": [
  {
   "cell_type": "code",
   "execution_count": 1,
   "metadata": {
    "collapsed": true
   },
   "outputs": [],
   "source": [
    "import csv\n",
    "import os\n",
    "import re\n",
    "from collections import Counter\n",
    "from collections import defaultdict\n",
    "from datetime import datetime\n",
    "from datetime import timedelta\n",
    "from string import punctuation\n",
    "\n",
    "import matplotlib\n",
    "import numpy as np\n",
    "import pandas as pd\n",
    "import seaborn as sns\n",
    "from matplotlib import pyplot as plt\n",
    "from pandas.tslib import Timestamp"
   ]
  },
  {
   "cell_type": "markdown",
   "metadata": {},
   "source": [
    "# Spelling corrector (http://norvig.com/spell-correct.html)"
   ]
  },
  {
   "cell_type": "code",
   "execution_count": 2,
   "metadata": {
    "collapsed": false
   },
   "outputs": [],
   "source": [
    "def P(word): \n",
    "    \"Probability of `word`.\"\n",
    "    N = sum(WORDS.values())\n",
    "    return WORDS[word] / N\n",
    "\n",
    "def correction(word): \n",
    "    \"Most probable spelling correction for word.\"\n",
    "    return max(candidates(word), key=P)\n",
    "\n",
    "def candidates(word): \n",
    "    \"Generate possible spelling corrections for word.\"\n",
    "    return (known([word]) or known(edits1(word)) or known(edits2(word)) or [word])\n",
    "\n",
    "def known(words): \n",
    "    \"The subset of `words` that appear in the dictionary of WORDS.\"\n",
    "    return set(w for w in words if w in WORDS)\n",
    "\n",
    "def edits1(word):\n",
    "    \"All edits that are one edit away from `word`.\"\n",
    "    letters    = 'abcdefghijklmnñopqrstuvwxyz'\n",
    "    splits     = [(word[:i], word[i:])    for i in range(len(word) + 1)]\n",
    "    deletes    = [L + R[1:]               for L, R in splits if R]\n",
    "    transposes = [L + R[1] + R[0] + R[2:] for L, R in splits if len(R)>1]\n",
    "    replaces   = [L + c + R[1:]           for L, R in splits if R for c in letters]\n",
    "    inserts    = [L + c + R               for L, R in splits for c in letters]\n",
    "    return set(deletes + transposes + replaces + inserts)\n",
    "\n",
    "def edits2(word): \n",
    "    \"All edits that are two edits away from `word`.\"\n",
    "    return (e2 for e1 in edits1(word) for e2 in edits1(e1))"
   ]
  },
  {
   "cell_type": "markdown",
   "metadata": {},
   "source": [
    "# Grupos"
   ]
  },
  {
   "cell_type": "markdown",
   "metadata": {},
   "source": [
    "## Socios activos 2016"
   ]
  },
  {
   "cell_type": "code",
   "execution_count": 3,
   "metadata": {
    "collapsed": true
   },
   "outputs": [],
   "source": [
    "# 1.       CTA: categoría para niños y jóvenes hasta bachillerato\n",
    "# 2.       CTI: categoría infantil, hasta doce años y solo es para Bogotá (blaa –biblioteca Luis Ángel Arango)\n",
    "# 3.       CTB: público general (solo permite préstamo de libros)\n",
    "# 4.       CTC: público en general (permite préstamo de libros y material audiovisual)\n",
    "# 5.       CTF: categoría familiar, pueden acceder a los beneficios hasta tres personas del grupo familiar que se asocia\n",
    "# 6.       CE1, CE2, CE2: categorías empresariales (solo para instituciones)\n",
    "# 7.       CIS: categoría Inclusión Social\n",
    "# 8.       CTU: categoría Universitaria\n",
    "# 9.       VIP: Investigadores, préstamo de 30 materiales (libros y material audiovisual)\n",
    "\n",
    "#      Categoría de lector: CE1 Categoría empresarial                                   218\n",
    "#      Categoría de lector: CE2 Categoría empresarial 2                                   5\n",
    "#      Categoría de lector: CEM Categoría Empleado/Pensionado                          1593\n",
    "#      Categoría de lector: CIN Categoría Interbibliotecario                            128\n",
    "#      Categoría de lector: CIP Categoría Investigador                                  351\n",
    "#      Categoría de lector: CIS Categoría Inclusión Preferencial                      15974\n",
    "#      Categoría de lector: CIV Categoría Investigadores                                 72\n",
    "#      Categoría de lector: CML Categoría Mediador de Proyectos Culturales                2\n",
    "#      Categoría de lector: CSU Categoría Sucursal                                       91\n",
    "#      Categoría de lector: CTA Categoría Básica A                                    10610\n",
    "#      Categoría de lector: CTB Categoría B                                            1359\n",
    "#      Categoría de lector: CTC Categoría C                                             224\n",
    "#      Categoría de lector: CTF Categoría familiar                                     1105\n",
    "#      Categoría de lector: CTI Categoría Infantil                                     1004\n",
    "#      Categoría de lector: CTU Categoría General                                     17402\n",
    "#      Categoría de lector: PTE PROCESOS TÉCNICOS                                        95"
   ]
  },
  {
   "cell_type": "code",
   "execution_count": 4,
   "metadata": {
    "collapsed": false
   },
   "outputs": [
    {
     "name": "stdout",
     "output_type": "stream",
     "text": [
      "CPU times: user 359 ms, sys: 18.6 ms, total: 378 ms\n",
      "Wall time: 377 ms\n"
     ]
    }
   ],
   "source": [
    "%%time\n",
    "\n",
    "dtypes = {\n",
    "    'CODBAR': str,\n",
    "    'Sucursal': str,\n",
    "    'Tratamiento': str,\n",
    "    'Barrio': str,\n",
    "    'Ciudad': str,\n",
    "    'CATEG': str,\n",
    "    'Ocupación1': str,\n",
    "    'Nivel Estudio1': str,\n",
    "    'Área de Estudio1': str,\n",
    "    'Fech. Nacim': pd.tslib.Timestamp,\n",
    "    'Edad': float,\n",
    "}\n",
    "\n",
    "perfiles_df = pd.read_csv('socios_activos_2016.csv', header=0, dtype=dtypes, parse_dates=['Fech. Nacim'])\n",
    "perfiles_df = perfiles_df.fillna('')"
   ]
  },
  {
   "cell_type": "code",
   "execution_count": 5,
   "metadata": {
    "collapsed": false
   },
   "outputs": [
    {
     "data": {
      "text/plain": [
       "(50272, 11)"
      ]
     },
     "execution_count": 5,
     "metadata": {},
     "output_type": "execute_result"
    }
   ],
   "source": [
    "perfiles_df.shape"
   ]
  },
  {
   "cell_type": "code",
   "execution_count": 6,
   "metadata": {
    "collapsed": false
   },
   "outputs": [
    {
     "data": {
      "text/html": [
       "<div>\n",
       "<table border=\"1\" class=\"dataframe\">\n",
       "  <thead>\n",
       "    <tr style=\"text-align: right;\">\n",
       "      <th></th>\n",
       "      <th>CODBAR</th>\n",
       "      <th>Sucursal</th>\n",
       "      <th>Tratamiento</th>\n",
       "      <th>Barrio</th>\n",
       "      <th>Ciudad</th>\n",
       "      <th>CATEG</th>\n",
       "      <th>Ocupación1</th>\n",
       "      <th>Nivel Estudio1</th>\n",
       "      <th>Área de Estudio1</th>\n",
       "      <th>Fech. Nacim</th>\n",
       "      <th>Edad</th>\n",
       "    </tr>\n",
       "  </thead>\n",
       "  <tbody>\n",
       "    <tr>\n",
       "      <th>0</th>\n",
       "      <td>88180782</td>\n",
       "      <td>BLAA</td>\n",
       "      <td></td>\n",
       "      <td>chapinero</td>\n",
       "      <td>bogota</td>\n",
       "      <td>CIN</td>\n",
       "      <td>universidad</td>\n",
       "      <td></td>\n",
       "      <td></td>\n",
       "      <td></td>\n",
       "      <td></td>\n",
       "    </tr>\n",
       "    <tr>\n",
       "      <th>1</th>\n",
       "      <td>88183608</td>\n",
       "      <td>BLAA</td>\n",
       "      <td>sra.</td>\n",
       "      <td>ayacuyo ii</td>\n",
       "      <td>bogota</td>\n",
       "      <td>CEM</td>\n",
       "      <td>pensionado</td>\n",
       "      <td></td>\n",
       "      <td></td>\n",
       "      <td>1957-07-30 00:00:00</td>\n",
       "      <td>59</td>\n",
       "    </tr>\n",
       "    <tr>\n",
       "      <th>2</th>\n",
       "      <td>88181732</td>\n",
       "      <td>BLAA</td>\n",
       "      <td>sra.</td>\n",
       "      <td>icata</td>\n",
       "      <td>bogota</td>\n",
       "      <td>CEM</td>\n",
       "      <td>empleado</td>\n",
       "      <td>profesional</td>\n",
       "      <td>filosofía y letras</td>\n",
       "      <td></td>\n",
       "      <td></td>\n",
       "    </tr>\n",
       "    <tr>\n",
       "      <th>3</th>\n",
       "      <td>88182347</td>\n",
       "      <td>ARM</td>\n",
       "      <td>sr.</td>\n",
       "      <td>montenegro</td>\n",
       "      <td>montenegro</td>\n",
       "      <td>CEM</td>\n",
       "      <td>empleado</td>\n",
       "      <td>profesional</td>\n",
       "      <td>economía</td>\n",
       "      <td>1963-09-20 00:00:00</td>\n",
       "      <td>53</td>\n",
       "    </tr>\n",
       "    <tr>\n",
       "      <th>4</th>\n",
       "      <td>88181284</td>\n",
       "      <td>BLAA</td>\n",
       "      <td>sr.</td>\n",
       "      <td>la soledad</td>\n",
       "      <td>bogota</td>\n",
       "      <td>CEM</td>\n",
       "      <td></td>\n",
       "      <td></td>\n",
       "      <td></td>\n",
       "      <td></td>\n",
       "      <td></td>\n",
       "    </tr>\n",
       "  </tbody>\n",
       "</table>\n",
       "</div>"
      ],
      "text/plain": [
       "     CODBAR Sucursal Tratamiento      Barrio      Ciudad CATEG   Ocupación1  \\\n",
       "0  88180782     BLAA               chapinero      bogota   CIN  universidad   \n",
       "1  88183608     BLAA        sra.  ayacuyo ii      bogota   CEM   pensionado   \n",
       "2  88181732     BLAA        sra.       icata      bogota   CEM     empleado   \n",
       "3  88182347      ARM         sr.  montenegro  montenegro   CEM     empleado   \n",
       "4  88181284     BLAA         sr.  la soledad      bogota   CEM                \n",
       "\n",
       "  Nivel Estudio1    Área de Estudio1          Fech. Nacim Edad  \n",
       "0                                                               \n",
       "1                                     1957-07-30 00:00:00   59  \n",
       "2    profesional  filosofía y letras                            \n",
       "3    profesional            economía  1963-09-20 00:00:00   53  \n",
       "4                                                               "
      ]
     },
     "execution_count": 6,
     "metadata": {},
     "output_type": "execute_result"
    }
   ],
   "source": [
    "perfiles_df.head()"
   ]
  },
  {
   "cell_type": "markdown",
   "metadata": {},
   "source": [
    "# Agrupando valores frecuentes"
   ]
  },
  {
   "cell_type": "code",
   "execution_count": 7,
   "metadata": {
    "collapsed": true
   },
   "outputs": [],
   "source": [
    "final_columns = ['Sucursal', 'Tratamiento', 'Barrio', 'Ciudad', 'CATEG', 'Ocupación1',\n",
    "                 'Nivel Estudio1', 'Área de Estudio1', 'Edad',]"
   ]
  },
  {
   "cell_type": "code",
   "execution_count": 8,
   "metadata": {
    "collapsed": true
   },
   "outputs": [],
   "source": [
    "groups_df = perfiles_df[final_columns]"
   ]
  },
  {
   "cell_type": "code",
   "execution_count": 9,
   "metadata": {
    "collapsed": false
   },
   "outputs": [
    {
     "data": {
      "text/plain": [
       "(50272, 9)"
      ]
     },
     "execution_count": 9,
     "metadata": {},
     "output_type": "execute_result"
    }
   ],
   "source": [
    "groups_df.shape"
   ]
  },
  {
   "cell_type": "markdown",
   "metadata": {
    "collapsed": true
   },
   "source": [
    "#### Sucursal"
   ]
  },
  {
   "cell_type": "code",
   "execution_count": 10,
   "metadata": {
    "collapsed": false
   },
   "outputs": [
    {
     "data": {
      "text/plain": [
       "31"
      ]
     },
     "execution_count": 10,
     "metadata": {},
     "output_type": "execute_result"
    }
   ],
   "source": [
    "groups_df['Sucursal'].nunique()"
   ]
  },
  {
   "cell_type": "code",
   "execution_count": 11,
   "metadata": {
    "collapsed": false
   },
   "outputs": [
    {
     "data": {
      "text/plain": [
       "BLAA      24278\n",
       "TUN        3165\n",
       "IBA        2339\n",
       "PAS        2089\n",
       "POP        2078\n",
       "NEI        1978\n",
       "PER        1922\n",
       "MAN        1159\n",
       "GIR        1090\n",
       "IPI        1041\n",
       "CAR         758\n",
       "SAN         728\n",
       "CASAGO      686\n",
       "VAL         660\n",
       "FLO         611\n",
       "ARM         575\n",
       "HON         544\n",
       "LET         526\n",
       "BUC         511\n",
       "QUI         478\n",
       "STM         438\n",
       "SIN         438\n",
       "BUE         337\n",
       "BAR         328\n",
       "VIL         298\n",
       "CAL         287\n",
       "RIO         250\n",
       "CUC         236\n",
       "MED         219\n",
       "MON         209\n",
       "             16\n",
       "Name: Sucursal, dtype: int64"
      ]
     },
     "execution_count": 11,
     "metadata": {},
     "output_type": "execute_result"
    }
   ],
   "source": [
    "groups_df['Sucursal'].value_counts()"
   ]
  },
  {
   "cell_type": "code",
   "execution_count": 12,
   "metadata": {
    "collapsed": false
   },
   "outputs": [
    {
     "data": {
      "text/plain": [
       "16"
      ]
     },
     "execution_count": 12,
     "metadata": {},
     "output_type": "execute_result"
    }
   ],
   "source": [
    "groups_df[groups_df['Sucursal'] == '']['Sucursal'].count()"
   ]
  },
  {
   "cell_type": "code",
   "execution_count": 13,
   "metadata": {
    "collapsed": false
   },
   "outputs": [
    {
     "data": {
      "text/plain": [
       "50256"
      ]
     },
     "execution_count": 13,
     "metadata": {},
     "output_type": "execute_result"
    }
   ],
   "source": [
    "groups_df.shape[0] - groups_df[groups_df['Sucursal'] == '']['Sucursal'].count()"
   ]
  },
  {
   "cell_type": "code",
   "execution_count": 14,
   "metadata": {
    "collapsed": false
   },
   "outputs": [],
   "source": [
    "groups_df = groups_df[groups_df['Sucursal'] != '']"
   ]
  },
  {
   "cell_type": "code",
   "execution_count": 15,
   "metadata": {
    "collapsed": false
   },
   "outputs": [
    {
     "data": {
      "text/plain": [
       "(50256, 9)"
      ]
     },
     "execution_count": 15,
     "metadata": {},
     "output_type": "execute_result"
    }
   ],
   "source": [
    "groups_df.shape"
   ]
  },
  {
   "cell_type": "code",
   "execution_count": 18,
   "metadata": {
    "collapsed": false
   },
   "outputs": [
    {
     "name": "stdout",
     "output_type": "stream",
     "text": [
      "CPU times: user 1.93 s, sys: 0 ns, total: 1.93 s\n",
      "Wall time: 1.92 s\n"
     ]
    }
   ],
   "source": [
    "%%time\n",
    "\n",
    "c = perfiles_df['Sucursal'].value_counts()\n",
    "\n",
    "def group_sucursal(x):\n",
    "    e = x['Sucursal']\n",
    "    if c[e] >= 1000:\n",
    "        r = e\n",
    "    else:\n",
    "        r = 'Otro'\n",
    "    return r\n",
    "\n",
    "groups_df['Sucursal'] = groups_df.apply(group_sucursal, axis=1)"
   ]
  },
  {
   "cell_type": "code",
   "execution_count": 19,
   "metadata": {
    "collapsed": false
   },
   "outputs": [
    {
     "data": {
      "text/plain": [
       "BLAA    24278\n",
       "Otro     9117\n",
       "TUN      3165\n",
       "IBA      2339\n",
       "PAS      2089\n",
       "POP      2078\n",
       "NEI      1978\n",
       "PER      1922\n",
       "MAN      1159\n",
       "GIR      1090\n",
       "IPI      1041\n",
       "Name: Sucursal, dtype: int64"
      ]
     },
     "execution_count": 19,
     "metadata": {},
     "output_type": "execute_result"
    }
   ],
   "source": [
    "groups_df['Sucursal'].value_counts()"
   ]
  },
  {
   "cell_type": "markdown",
   "metadata": {
    "collapsed": true
   },
   "source": [
    "#### Ciudad"
   ]
  },
  {
   "cell_type": "code",
   "execution_count": 24,
   "metadata": {
    "collapsed": false
   },
   "outputs": [
    {
     "name": "stdout",
     "output_type": "stream",
     "text": [
      "CPU times: user 6.33 s, sys: 0 ns, total: 6.33 s\n",
      "Wall time: 6.33 s\n"
     ]
    }
   ],
   "source": [
    "%%time\n",
    "\n",
    "sucursal_ciudades = {}\n",
    "\n",
    "for index, row in perfiles_df.iterrows():\n",
    "    sucursal = row['Sucursal']\n",
    "    if sucursal:\n",
    "        ciudad = row['Ciudad']\n",
    "        sucursal_ciudades.setdefault(sucursal, defaultdict(int))\n",
    "        sucursal_ciudades[sucursal][ciudad] += 1"
   ]
  },
  {
   "cell_type": "code",
   "execution_count": 26,
   "metadata": {
    "collapsed": false
   },
   "outputs": [],
   "source": [
    "sucursal_ciudad_frecuencia = {}\n",
    "\n",
    "for k in sucursal_ciudades:\n",
    "    sucursal_ciudad_frecuencia[k] = Counter(sucursal_ciudades[k]).most_common(1)[0]"
   ]
  },
  {
   "cell_type": "code",
   "execution_count": 22,
   "metadata": {
    "collapsed": true
   },
   "outputs": [],
   "source": [
    "ciudades = Counter(dict(sucursal_ciudad_frecuencia.values()))"
   ]
  },
  {
   "cell_type": "code",
   "execution_count": 27,
   "metadata": {
    "collapsed": false
   },
   "outputs": [
    {
     "data": {
      "text/plain": [
       "Counter({'armenia': 454,\n",
       "         'barranquilla': 228,\n",
       "         'bogota': 22242,\n",
       "         'bucaramanga': 344,\n",
       "         'buenaventura': 317,\n",
       "         'cali': 247,\n",
       "         'cartagena': 707,\n",
       "         'cucuta': 199,\n",
       "         'florencia': 586,\n",
       "         'girardot': 899,\n",
       "         'honda': 334,\n",
       "         'ibague': 2220,\n",
       "         'ipiales': 983,\n",
       "         'leticia': 477,\n",
       "         'manizales': 788,\n",
       "         'medellin': 163,\n",
       "         'monteria': 177,\n",
       "         'neiva': 1742,\n",
       "         'pasto': 1674,\n",
       "         'pereira': 1443,\n",
       "         'popayan': 1841,\n",
       "         'quibdo': 445,\n",
       "         'riohacha': 237,\n",
       "         'san andres': 658,\n",
       "         'santa marta': 412,\n",
       "         'sincelejo': 396,\n",
       "         'tunja': 2930,\n",
       "         'valledupar': 628,\n",
       "         'villavicencio': 269})"
      ]
     },
     "execution_count": 27,
     "metadata": {},
     "output_type": "execute_result"
    }
   ],
   "source": [
    "ciudades"
   ]
  },
  {
   "cell_type": "code",
   "execution_count": 28,
   "metadata": {
    "collapsed": true
   },
   "outputs": [],
   "source": [
    "WORDS = ciudades"
   ]
  },
  {
   "cell_type": "code",
   "execution_count": 29,
   "metadata": {
    "collapsed": false
   },
   "outputs": [
    {
     "ename": "KeyboardInterrupt",
     "evalue": "",
     "output_type": "error",
     "traceback": [
      "\u001b[0;31m---------------------------------------------------------------------------\u001b[0m",
      "\u001b[0;31mKeyboardInterrupt\u001b[0m                         Traceback (most recent call last)",
      "\u001b[0;32m<ipython-input-29-afe1b3f139cb>\u001b[0m in \u001b[0;36m<module>\u001b[0;34m()\u001b[0m\n\u001b[0;32m----> 1\u001b[0;31m \u001b[0mget_ipython\u001b[0m\u001b[0;34m(\u001b[0m\u001b[0;34m)\u001b[0m\u001b[0;34m.\u001b[0m\u001b[0mrun_cell_magic\u001b[0m\u001b[0;34m(\u001b[0m\u001b[0;34m'time'\u001b[0m\u001b[0;34m,\u001b[0m \u001b[0;34m''\u001b[0m\u001b[0;34m,\u001b[0m \u001b[0;34m\"\\ndef spelling_corrector(x):\\n    ciudad = x['Ciudad']\\n    if ciudad:\\n        if ciudad in ciudades:\\n            r = ciudad\\n        else:\\n            words = re.findall(r'\\\\w+', ciudad)\\n            candidates = set(w for w in words if w in ciudades)\\n            if len(candidates) == 1:\\n                r = candidates.pop()\\n            else:\\n                # len(candidates) > 1 no se da\\n                corrections = [correction(w) for w in words]\\n                candidates = set(c for c in corrections if c in ciudades)\\n                if len(candidates) == 1:\\n                    r = candidates.pop()\\n                else:\\n                    # len(candidates) > 1 sólo se da una vez pero las correcciones son incorrectas\\n                    r = ciudad\\n    else:\\n        r = ciudad\\n    return r\\n\\nperfiles_df['Ciudad'] = perfiles_df.apply(spelling_corrector, axis=1)\"\u001b[0m\u001b[0;34m)\u001b[0m\u001b[0;34m\u001b[0m\u001b[0m\n\u001b[0m",
      "\u001b[0;32m/home/antonio/.virtualenvs/colombia/lib/python3.4/site-packages/IPython/core/interactiveshell.py\u001b[0m in \u001b[0;36mrun_cell_magic\u001b[0;34m(self, magic_name, line, cell)\u001b[0m\n\u001b[1;32m   2113\u001b[0m             \u001b[0mmagic_arg_s\u001b[0m \u001b[0;34m=\u001b[0m \u001b[0mself\u001b[0m\u001b[0;34m.\u001b[0m\u001b[0mvar_expand\u001b[0m\u001b[0;34m(\u001b[0m\u001b[0mline\u001b[0m\u001b[0;34m,\u001b[0m \u001b[0mstack_depth\u001b[0m\u001b[0;34m)\u001b[0m\u001b[0;34m\u001b[0m\u001b[0m\n\u001b[1;32m   2114\u001b[0m             \u001b[0;32mwith\u001b[0m \u001b[0mself\u001b[0m\u001b[0;34m.\u001b[0m\u001b[0mbuiltin_trap\u001b[0m\u001b[0;34m:\u001b[0m\u001b[0;34m\u001b[0m\u001b[0m\n\u001b[0;32m-> 2115\u001b[0;31m                 \u001b[0mresult\u001b[0m \u001b[0;34m=\u001b[0m \u001b[0mfn\u001b[0m\u001b[0;34m(\u001b[0m\u001b[0mmagic_arg_s\u001b[0m\u001b[0;34m,\u001b[0m \u001b[0mcell\u001b[0m\u001b[0;34m)\u001b[0m\u001b[0;34m\u001b[0m\u001b[0m\n\u001b[0m\u001b[1;32m   2116\u001b[0m             \u001b[0;32mreturn\u001b[0m \u001b[0mresult\u001b[0m\u001b[0;34m\u001b[0m\u001b[0m\n\u001b[1;32m   2117\u001b[0m \u001b[0;34m\u001b[0m\u001b[0m\n",
      "\u001b[0;32m<decorator-gen-59>\u001b[0m in \u001b[0;36mtime\u001b[0;34m(self, line, cell, local_ns)\u001b[0m\n",
      "\u001b[0;32m/home/antonio/.virtualenvs/colombia/lib/python3.4/site-packages/IPython/core/magic.py\u001b[0m in \u001b[0;36m<lambda>\u001b[0;34m(f, *a, **k)\u001b[0m\n\u001b[1;32m    186\u001b[0m     \u001b[0;31m# but it's overkill for just that one bit of state.\u001b[0m\u001b[0;34m\u001b[0m\u001b[0;34m\u001b[0m\u001b[0m\n\u001b[1;32m    187\u001b[0m     \u001b[0;32mdef\u001b[0m \u001b[0mmagic_deco\u001b[0m\u001b[0;34m(\u001b[0m\u001b[0marg\u001b[0m\u001b[0;34m)\u001b[0m\u001b[0;34m:\u001b[0m\u001b[0;34m\u001b[0m\u001b[0m\n\u001b[0;32m--> 188\u001b[0;31m         \u001b[0mcall\u001b[0m \u001b[0;34m=\u001b[0m \u001b[0;32mlambda\u001b[0m \u001b[0mf\u001b[0m\u001b[0;34m,\u001b[0m \u001b[0;34m*\u001b[0m\u001b[0ma\u001b[0m\u001b[0;34m,\u001b[0m \u001b[0;34m**\u001b[0m\u001b[0mk\u001b[0m\u001b[0;34m:\u001b[0m \u001b[0mf\u001b[0m\u001b[0;34m(\u001b[0m\u001b[0;34m*\u001b[0m\u001b[0ma\u001b[0m\u001b[0;34m,\u001b[0m \u001b[0;34m**\u001b[0m\u001b[0mk\u001b[0m\u001b[0;34m)\u001b[0m\u001b[0;34m\u001b[0m\u001b[0m\n\u001b[0m\u001b[1;32m    189\u001b[0m \u001b[0;34m\u001b[0m\u001b[0m\n\u001b[1;32m    190\u001b[0m         \u001b[0;32mif\u001b[0m \u001b[0mcallable\u001b[0m\u001b[0;34m(\u001b[0m\u001b[0marg\u001b[0m\u001b[0;34m)\u001b[0m\u001b[0;34m:\u001b[0m\u001b[0;34m\u001b[0m\u001b[0m\n",
      "\u001b[0;32m/home/antonio/.virtualenvs/colombia/lib/python3.4/site-packages/IPython/core/magics/execution.py\u001b[0m in \u001b[0;36mtime\u001b[0;34m(self, line, cell, local_ns)\u001b[0m\n\u001b[1;32m   1178\u001b[0m         \u001b[0;32melse\u001b[0m\u001b[0;34m:\u001b[0m\u001b[0;34m\u001b[0m\u001b[0m\n\u001b[1;32m   1179\u001b[0m             \u001b[0mst\u001b[0m \u001b[0;34m=\u001b[0m \u001b[0mclock2\u001b[0m\u001b[0;34m(\u001b[0m\u001b[0;34m)\u001b[0m\u001b[0;34m\u001b[0m\u001b[0m\n\u001b[0;32m-> 1180\u001b[0;31m             \u001b[0mexec\u001b[0m\u001b[0;34m(\u001b[0m\u001b[0mcode\u001b[0m\u001b[0;34m,\u001b[0m \u001b[0mglob\u001b[0m\u001b[0;34m,\u001b[0m \u001b[0mlocal_ns\u001b[0m\u001b[0;34m)\u001b[0m\u001b[0;34m\u001b[0m\u001b[0m\n\u001b[0m\u001b[1;32m   1181\u001b[0m             \u001b[0mend\u001b[0m \u001b[0;34m=\u001b[0m \u001b[0mclock2\u001b[0m\u001b[0;34m(\u001b[0m\u001b[0;34m)\u001b[0m\u001b[0;34m\u001b[0m\u001b[0m\n\u001b[1;32m   1182\u001b[0m             \u001b[0mout\u001b[0m \u001b[0;34m=\u001b[0m \u001b[0;32mNone\u001b[0m\u001b[0;34m\u001b[0m\u001b[0m\n",
      "\u001b[0;32m<timed exec>\u001b[0m in \u001b[0;36m<module>\u001b[0;34m()\u001b[0m\n",
      "\u001b[0;32m/home/antonio/.virtualenvs/colombia/lib/python3.4/site-packages/pandas/core/frame.py\u001b[0m in \u001b[0;36mapply\u001b[0;34m(self, func, axis, broadcast, raw, reduce, args, **kwds)\u001b[0m\n\u001b[1;32m   4161\u001b[0m                     \u001b[0;32mif\u001b[0m \u001b[0mreduce\u001b[0m \u001b[0;32mis\u001b[0m \u001b[0;32mNone\u001b[0m\u001b[0;34m:\u001b[0m\u001b[0;34m\u001b[0m\u001b[0m\n\u001b[1;32m   4162\u001b[0m                         \u001b[0mreduce\u001b[0m \u001b[0;34m=\u001b[0m \u001b[0;32mTrue\u001b[0m\u001b[0;34m\u001b[0m\u001b[0m\n\u001b[0;32m-> 4163\u001b[0;31m                     \u001b[0;32mreturn\u001b[0m \u001b[0mself\u001b[0m\u001b[0;34m.\u001b[0m\u001b[0m_apply_standard\u001b[0m\u001b[0;34m(\u001b[0m\u001b[0mf\u001b[0m\u001b[0;34m,\u001b[0m \u001b[0maxis\u001b[0m\u001b[0;34m,\u001b[0m \u001b[0mreduce\u001b[0m\u001b[0;34m=\u001b[0m\u001b[0mreduce\u001b[0m\u001b[0;34m)\u001b[0m\u001b[0;34m\u001b[0m\u001b[0m\n\u001b[0m\u001b[1;32m   4164\u001b[0m             \u001b[0;32melse\u001b[0m\u001b[0;34m:\u001b[0m\u001b[0;34m\u001b[0m\u001b[0m\n\u001b[1;32m   4165\u001b[0m                 \u001b[0;32mreturn\u001b[0m \u001b[0mself\u001b[0m\u001b[0;34m.\u001b[0m\u001b[0m_apply_broadcast\u001b[0m\u001b[0;34m(\u001b[0m\u001b[0mf\u001b[0m\u001b[0;34m,\u001b[0m \u001b[0maxis\u001b[0m\u001b[0;34m)\u001b[0m\u001b[0;34m\u001b[0m\u001b[0m\n",
      "\u001b[0;32m/home/antonio/.virtualenvs/colombia/lib/python3.4/site-packages/pandas/core/frame.py\u001b[0m in \u001b[0;36m_apply_standard\u001b[0;34m(self, func, axis, ignore_failures, reduce)\u001b[0m\n\u001b[1;32m   4217\u001b[0m                     \u001b[0mlabels\u001b[0m \u001b[0;34m=\u001b[0m \u001b[0mself\u001b[0m\u001b[0;34m.\u001b[0m\u001b[0m_get_agg_axis\u001b[0m\u001b[0;34m(\u001b[0m\u001b[0maxis\u001b[0m\u001b[0;34m)\u001b[0m\u001b[0;34m\u001b[0m\u001b[0m\n\u001b[1;32m   4218\u001b[0m                     result = lib.reduce(values, func, axis=axis, dummy=dummy,\n\u001b[0;32m-> 4219\u001b[0;31m                                         labels=labels)\n\u001b[0m\u001b[1;32m   4220\u001b[0m                     \u001b[0;32mreturn\u001b[0m \u001b[0mSeries\u001b[0m\u001b[0;34m(\u001b[0m\u001b[0mresult\u001b[0m\u001b[0;34m,\u001b[0m \u001b[0mindex\u001b[0m\u001b[0;34m=\u001b[0m\u001b[0mlabels\u001b[0m\u001b[0;34m)\u001b[0m\u001b[0;34m\u001b[0m\u001b[0m\n\u001b[1;32m   4221\u001b[0m                 \u001b[0;32mexcept\u001b[0m \u001b[0mException\u001b[0m\u001b[0;34m:\u001b[0m\u001b[0;34m\u001b[0m\u001b[0m\n",
      "\u001b[0;32mpandas/src/reduce.pyx\u001b[0m in \u001b[0;36mpandas.lib.reduce (pandas/lib.c:45022)\u001b[0;34m()\u001b[0m\n",
      "\u001b[0;32mpandas/src/reduce.pyx\u001b[0m in \u001b[0;36mpandas.lib.Reducer.get_result (pandas/lib.c:34665)\u001b[0;34m()\u001b[0m\n",
      "\u001b[0;32m<timed exec>\u001b[0m in \u001b[0;36mspelling_corrector\u001b[0;34m(x)\u001b[0m\n",
      "\u001b[0;32m<timed exec>\u001b[0m in \u001b[0;36m<listcomp>\u001b[0;34m(.0)\u001b[0m\n",
      "\u001b[0;32m<ipython-input-2-3a92928d5556>\u001b[0m in \u001b[0;36mcorrection\u001b[0;34m(word)\u001b[0m\n\u001b[1;32m      6\u001b[0m \u001b[0;32mdef\u001b[0m \u001b[0mcorrection\u001b[0m\u001b[0;34m(\u001b[0m\u001b[0mword\u001b[0m\u001b[0;34m)\u001b[0m\u001b[0;34m:\u001b[0m\u001b[0;34m\u001b[0m\u001b[0m\n\u001b[1;32m      7\u001b[0m     \u001b[0;34m\"Most probable spelling correction for word.\"\u001b[0m\u001b[0;34m\u001b[0m\u001b[0m\n\u001b[0;32m----> 8\u001b[0;31m     \u001b[0;32mreturn\u001b[0m \u001b[0mmax\u001b[0m\u001b[0;34m(\u001b[0m\u001b[0mcandidates\u001b[0m\u001b[0;34m(\u001b[0m\u001b[0mword\u001b[0m\u001b[0;34m)\u001b[0m\u001b[0;34m,\u001b[0m \u001b[0mkey\u001b[0m\u001b[0;34m=\u001b[0m\u001b[0mP\u001b[0m\u001b[0;34m)\u001b[0m\u001b[0;34m\u001b[0m\u001b[0m\n\u001b[0m\u001b[1;32m      9\u001b[0m \u001b[0;34m\u001b[0m\u001b[0m\n\u001b[1;32m     10\u001b[0m \u001b[0;32mdef\u001b[0m \u001b[0mcandidates\u001b[0m\u001b[0;34m(\u001b[0m\u001b[0mword\u001b[0m\u001b[0;34m)\u001b[0m\u001b[0;34m:\u001b[0m\u001b[0;34m\u001b[0m\u001b[0m\n",
      "\u001b[0;32m<ipython-input-2-3a92928d5556>\u001b[0m in \u001b[0;36mcandidates\u001b[0;34m(word)\u001b[0m\n\u001b[1;32m     10\u001b[0m \u001b[0;32mdef\u001b[0m \u001b[0mcandidates\u001b[0m\u001b[0;34m(\u001b[0m\u001b[0mword\u001b[0m\u001b[0;34m)\u001b[0m\u001b[0;34m:\u001b[0m\u001b[0;34m\u001b[0m\u001b[0m\n\u001b[1;32m     11\u001b[0m     \u001b[0;34m\"Generate possible spelling corrections for word.\"\u001b[0m\u001b[0;34m\u001b[0m\u001b[0m\n\u001b[0;32m---> 12\u001b[0;31m     \u001b[0;32mreturn\u001b[0m \u001b[0;34m(\u001b[0m\u001b[0mknown\u001b[0m\u001b[0;34m(\u001b[0m\u001b[0;34m[\u001b[0m\u001b[0mword\u001b[0m\u001b[0;34m]\u001b[0m\u001b[0;34m)\u001b[0m \u001b[0;32mor\u001b[0m \u001b[0mknown\u001b[0m\u001b[0;34m(\u001b[0m\u001b[0medits1\u001b[0m\u001b[0;34m(\u001b[0m\u001b[0mword\u001b[0m\u001b[0;34m)\u001b[0m\u001b[0;34m)\u001b[0m \u001b[0;32mor\u001b[0m \u001b[0mknown\u001b[0m\u001b[0;34m(\u001b[0m\u001b[0medits2\u001b[0m\u001b[0;34m(\u001b[0m\u001b[0mword\u001b[0m\u001b[0;34m)\u001b[0m\u001b[0;34m)\u001b[0m \u001b[0;32mor\u001b[0m \u001b[0;34m[\u001b[0m\u001b[0mword\u001b[0m\u001b[0;34m]\u001b[0m\u001b[0;34m)\u001b[0m\u001b[0;34m\u001b[0m\u001b[0m\n\u001b[0m\u001b[1;32m     13\u001b[0m \u001b[0;34m\u001b[0m\u001b[0m\n\u001b[1;32m     14\u001b[0m \u001b[0;32mdef\u001b[0m \u001b[0mknown\u001b[0m\u001b[0;34m(\u001b[0m\u001b[0mwords\u001b[0m\u001b[0;34m)\u001b[0m\u001b[0;34m:\u001b[0m\u001b[0;34m\u001b[0m\u001b[0m\n",
      "\u001b[0;32m<ipython-input-2-3a92928d5556>\u001b[0m in \u001b[0;36mknown\u001b[0;34m(words)\u001b[0m\n\u001b[1;32m     14\u001b[0m \u001b[0;32mdef\u001b[0m \u001b[0mknown\u001b[0m\u001b[0;34m(\u001b[0m\u001b[0mwords\u001b[0m\u001b[0;34m)\u001b[0m\u001b[0;34m:\u001b[0m\u001b[0;34m\u001b[0m\u001b[0m\n\u001b[1;32m     15\u001b[0m     \u001b[0;34m\"The subset of `words` that appear in the dictionary of WORDS.\"\u001b[0m\u001b[0;34m\u001b[0m\u001b[0m\n\u001b[0;32m---> 16\u001b[0;31m     \u001b[0;32mreturn\u001b[0m \u001b[0mset\u001b[0m\u001b[0;34m(\u001b[0m\u001b[0mw\u001b[0m \u001b[0;32mfor\u001b[0m \u001b[0mw\u001b[0m \u001b[0;32min\u001b[0m \u001b[0mwords\u001b[0m \u001b[0;32mif\u001b[0m \u001b[0mw\u001b[0m \u001b[0;32min\u001b[0m \u001b[0mWORDS\u001b[0m\u001b[0;34m)\u001b[0m\u001b[0;34m\u001b[0m\u001b[0m\n\u001b[0m\u001b[1;32m     17\u001b[0m \u001b[0;34m\u001b[0m\u001b[0m\n\u001b[1;32m     18\u001b[0m \u001b[0;32mdef\u001b[0m \u001b[0medits1\u001b[0m\u001b[0;34m(\u001b[0m\u001b[0mword\u001b[0m\u001b[0;34m)\u001b[0m\u001b[0;34m:\u001b[0m\u001b[0;34m\u001b[0m\u001b[0m\n",
      "\u001b[0;32m<ipython-input-2-3a92928d5556>\u001b[0m in \u001b[0;36m<genexpr>\u001b[0;34m(.0)\u001b[0m\n\u001b[1;32m     14\u001b[0m \u001b[0;32mdef\u001b[0m \u001b[0mknown\u001b[0m\u001b[0;34m(\u001b[0m\u001b[0mwords\u001b[0m\u001b[0;34m)\u001b[0m\u001b[0;34m:\u001b[0m\u001b[0;34m\u001b[0m\u001b[0m\n\u001b[1;32m     15\u001b[0m     \u001b[0;34m\"The subset of `words` that appear in the dictionary of WORDS.\"\u001b[0m\u001b[0;34m\u001b[0m\u001b[0m\n\u001b[0;32m---> 16\u001b[0;31m     \u001b[0;32mreturn\u001b[0m \u001b[0mset\u001b[0m\u001b[0;34m(\u001b[0m\u001b[0mw\u001b[0m \u001b[0;32mfor\u001b[0m \u001b[0mw\u001b[0m \u001b[0;32min\u001b[0m \u001b[0mwords\u001b[0m \u001b[0;32mif\u001b[0m \u001b[0mw\u001b[0m \u001b[0;32min\u001b[0m \u001b[0mWORDS\u001b[0m\u001b[0;34m)\u001b[0m\u001b[0;34m\u001b[0m\u001b[0m\n\u001b[0m\u001b[1;32m     17\u001b[0m \u001b[0;34m\u001b[0m\u001b[0m\n\u001b[1;32m     18\u001b[0m \u001b[0;32mdef\u001b[0m \u001b[0medits1\u001b[0m\u001b[0;34m(\u001b[0m\u001b[0mword\u001b[0m\u001b[0;34m)\u001b[0m\u001b[0;34m:\u001b[0m\u001b[0;34m\u001b[0m\u001b[0m\n",
      "\u001b[0;32m<ipython-input-2-3a92928d5556>\u001b[0m in \u001b[0;36m<genexpr>\u001b[0;34m(.0)\u001b[0m\n\u001b[1;32m     28\u001b[0m \u001b[0;32mdef\u001b[0m \u001b[0medits2\u001b[0m\u001b[0;34m(\u001b[0m\u001b[0mword\u001b[0m\u001b[0;34m)\u001b[0m\u001b[0;34m:\u001b[0m\u001b[0;34m\u001b[0m\u001b[0m\n\u001b[1;32m     29\u001b[0m     \u001b[0;34m\"All edits that are two edits away from `word`.\"\u001b[0m\u001b[0;34m\u001b[0m\u001b[0m\n\u001b[0;32m---> 30\u001b[0;31m     \u001b[0;32mreturn\u001b[0m \u001b[0;34m(\u001b[0m\u001b[0me2\u001b[0m \u001b[0;32mfor\u001b[0m \u001b[0me1\u001b[0m \u001b[0;32min\u001b[0m \u001b[0medits1\u001b[0m\u001b[0;34m(\u001b[0m\u001b[0mword\u001b[0m\u001b[0;34m)\u001b[0m \u001b[0;32mfor\u001b[0m \u001b[0me2\u001b[0m \u001b[0;32min\u001b[0m \u001b[0medits1\u001b[0m\u001b[0;34m(\u001b[0m\u001b[0me1\u001b[0m\u001b[0;34m)\u001b[0m\u001b[0;34m)\u001b[0m\u001b[0;34m\u001b[0m\u001b[0m\n\u001b[0m",
      "\u001b[0;32m<ipython-input-2-3a92928d5556>\u001b[0m in \u001b[0;36medits1\u001b[0;34m(word)\u001b[0m\n\u001b[1;32m     22\u001b[0m     \u001b[0mdeletes\u001b[0m    \u001b[0;34m=\u001b[0m \u001b[0;34m[\u001b[0m\u001b[0mL\u001b[0m \u001b[0;34m+\u001b[0m \u001b[0mR\u001b[0m\u001b[0;34m[\u001b[0m\u001b[0;36m1\u001b[0m\u001b[0;34m:\u001b[0m\u001b[0;34m]\u001b[0m               \u001b[0;32mfor\u001b[0m \u001b[0mL\u001b[0m\u001b[0;34m,\u001b[0m \u001b[0mR\u001b[0m \u001b[0;32min\u001b[0m \u001b[0msplits\u001b[0m \u001b[0;32mif\u001b[0m \u001b[0mR\u001b[0m\u001b[0;34m]\u001b[0m\u001b[0;34m\u001b[0m\u001b[0m\n\u001b[1;32m     23\u001b[0m     \u001b[0mtransposes\u001b[0m \u001b[0;34m=\u001b[0m \u001b[0;34m[\u001b[0m\u001b[0mL\u001b[0m \u001b[0;34m+\u001b[0m \u001b[0mR\u001b[0m\u001b[0;34m[\u001b[0m\u001b[0;36m1\u001b[0m\u001b[0;34m]\u001b[0m \u001b[0;34m+\u001b[0m \u001b[0mR\u001b[0m\u001b[0;34m[\u001b[0m\u001b[0;36m0\u001b[0m\u001b[0;34m]\u001b[0m \u001b[0;34m+\u001b[0m \u001b[0mR\u001b[0m\u001b[0;34m[\u001b[0m\u001b[0;36m2\u001b[0m\u001b[0;34m:\u001b[0m\u001b[0;34m]\u001b[0m \u001b[0;32mfor\u001b[0m \u001b[0mL\u001b[0m\u001b[0;34m,\u001b[0m \u001b[0mR\u001b[0m \u001b[0;32min\u001b[0m \u001b[0msplits\u001b[0m \u001b[0;32mif\u001b[0m \u001b[0mlen\u001b[0m\u001b[0;34m(\u001b[0m\u001b[0mR\u001b[0m\u001b[0;34m)\u001b[0m\u001b[0;34m>\u001b[0m\u001b[0;36m1\u001b[0m\u001b[0;34m]\u001b[0m\u001b[0;34m\u001b[0m\u001b[0m\n\u001b[0;32m---> 24\u001b[0;31m     \u001b[0mreplaces\u001b[0m   \u001b[0;34m=\u001b[0m \u001b[0;34m[\u001b[0m\u001b[0mL\u001b[0m \u001b[0;34m+\u001b[0m \u001b[0mc\u001b[0m \u001b[0;34m+\u001b[0m \u001b[0mR\u001b[0m\u001b[0;34m[\u001b[0m\u001b[0;36m1\u001b[0m\u001b[0;34m:\u001b[0m\u001b[0;34m]\u001b[0m           \u001b[0;32mfor\u001b[0m \u001b[0mL\u001b[0m\u001b[0;34m,\u001b[0m \u001b[0mR\u001b[0m \u001b[0;32min\u001b[0m \u001b[0msplits\u001b[0m \u001b[0;32mif\u001b[0m \u001b[0mR\u001b[0m \u001b[0;32mfor\u001b[0m \u001b[0mc\u001b[0m \u001b[0;32min\u001b[0m \u001b[0mletters\u001b[0m\u001b[0;34m]\u001b[0m\u001b[0;34m\u001b[0m\u001b[0m\n\u001b[0m\u001b[1;32m     25\u001b[0m     \u001b[0minserts\u001b[0m    \u001b[0;34m=\u001b[0m \u001b[0;34m[\u001b[0m\u001b[0mL\u001b[0m \u001b[0;34m+\u001b[0m \u001b[0mc\u001b[0m \u001b[0;34m+\u001b[0m \u001b[0mR\u001b[0m               \u001b[0;32mfor\u001b[0m \u001b[0mL\u001b[0m\u001b[0;34m,\u001b[0m \u001b[0mR\u001b[0m \u001b[0;32min\u001b[0m \u001b[0msplits\u001b[0m \u001b[0;32mfor\u001b[0m \u001b[0mc\u001b[0m \u001b[0;32min\u001b[0m \u001b[0mletters\u001b[0m\u001b[0;34m]\u001b[0m\u001b[0;34m\u001b[0m\u001b[0m\n\u001b[1;32m     26\u001b[0m     \u001b[0;32mreturn\u001b[0m \u001b[0mset\u001b[0m\u001b[0;34m(\u001b[0m\u001b[0mdeletes\u001b[0m \u001b[0;34m+\u001b[0m \u001b[0mtransposes\u001b[0m \u001b[0;34m+\u001b[0m \u001b[0mreplaces\u001b[0m \u001b[0;34m+\u001b[0m \u001b[0minserts\u001b[0m\u001b[0;34m)\u001b[0m\u001b[0;34m\u001b[0m\u001b[0m\n",
      "\u001b[0;32m<ipython-input-2-3a92928d5556>\u001b[0m in \u001b[0;36m<listcomp>\u001b[0;34m(.0)\u001b[0m\n\u001b[1;32m     22\u001b[0m     \u001b[0mdeletes\u001b[0m    \u001b[0;34m=\u001b[0m \u001b[0;34m[\u001b[0m\u001b[0mL\u001b[0m \u001b[0;34m+\u001b[0m \u001b[0mR\u001b[0m\u001b[0;34m[\u001b[0m\u001b[0;36m1\u001b[0m\u001b[0;34m:\u001b[0m\u001b[0;34m]\u001b[0m               \u001b[0;32mfor\u001b[0m \u001b[0mL\u001b[0m\u001b[0;34m,\u001b[0m \u001b[0mR\u001b[0m \u001b[0;32min\u001b[0m \u001b[0msplits\u001b[0m \u001b[0;32mif\u001b[0m \u001b[0mR\u001b[0m\u001b[0;34m]\u001b[0m\u001b[0;34m\u001b[0m\u001b[0m\n\u001b[1;32m     23\u001b[0m     \u001b[0mtransposes\u001b[0m \u001b[0;34m=\u001b[0m \u001b[0;34m[\u001b[0m\u001b[0mL\u001b[0m \u001b[0;34m+\u001b[0m \u001b[0mR\u001b[0m\u001b[0;34m[\u001b[0m\u001b[0;36m1\u001b[0m\u001b[0;34m]\u001b[0m \u001b[0;34m+\u001b[0m \u001b[0mR\u001b[0m\u001b[0;34m[\u001b[0m\u001b[0;36m0\u001b[0m\u001b[0;34m]\u001b[0m \u001b[0;34m+\u001b[0m \u001b[0mR\u001b[0m\u001b[0;34m[\u001b[0m\u001b[0;36m2\u001b[0m\u001b[0;34m:\u001b[0m\u001b[0;34m]\u001b[0m \u001b[0;32mfor\u001b[0m \u001b[0mL\u001b[0m\u001b[0;34m,\u001b[0m \u001b[0mR\u001b[0m \u001b[0;32min\u001b[0m \u001b[0msplits\u001b[0m \u001b[0;32mif\u001b[0m \u001b[0mlen\u001b[0m\u001b[0;34m(\u001b[0m\u001b[0mR\u001b[0m\u001b[0;34m)\u001b[0m\u001b[0;34m>\u001b[0m\u001b[0;36m1\u001b[0m\u001b[0;34m]\u001b[0m\u001b[0;34m\u001b[0m\u001b[0m\n\u001b[0;32m---> 24\u001b[0;31m     \u001b[0mreplaces\u001b[0m   \u001b[0;34m=\u001b[0m \u001b[0;34m[\u001b[0m\u001b[0mL\u001b[0m \u001b[0;34m+\u001b[0m \u001b[0mc\u001b[0m \u001b[0;34m+\u001b[0m \u001b[0mR\u001b[0m\u001b[0;34m[\u001b[0m\u001b[0;36m1\u001b[0m\u001b[0;34m:\u001b[0m\u001b[0;34m]\u001b[0m           \u001b[0;32mfor\u001b[0m \u001b[0mL\u001b[0m\u001b[0;34m,\u001b[0m \u001b[0mR\u001b[0m \u001b[0;32min\u001b[0m \u001b[0msplits\u001b[0m \u001b[0;32mif\u001b[0m \u001b[0mR\u001b[0m \u001b[0;32mfor\u001b[0m \u001b[0mc\u001b[0m \u001b[0;32min\u001b[0m \u001b[0mletters\u001b[0m\u001b[0;34m]\u001b[0m\u001b[0;34m\u001b[0m\u001b[0m\n\u001b[0m\u001b[1;32m     25\u001b[0m     \u001b[0minserts\u001b[0m    \u001b[0;34m=\u001b[0m \u001b[0;34m[\u001b[0m\u001b[0mL\u001b[0m \u001b[0;34m+\u001b[0m \u001b[0mc\u001b[0m \u001b[0;34m+\u001b[0m \u001b[0mR\u001b[0m               \u001b[0;32mfor\u001b[0m \u001b[0mL\u001b[0m\u001b[0;34m,\u001b[0m \u001b[0mR\u001b[0m \u001b[0;32min\u001b[0m \u001b[0msplits\u001b[0m \u001b[0;32mfor\u001b[0m \u001b[0mc\u001b[0m \u001b[0;32min\u001b[0m \u001b[0mletters\u001b[0m\u001b[0;34m]\u001b[0m\u001b[0;34m\u001b[0m\u001b[0m\n\u001b[1;32m     26\u001b[0m     \u001b[0;32mreturn\u001b[0m \u001b[0mset\u001b[0m\u001b[0;34m(\u001b[0m\u001b[0mdeletes\u001b[0m \u001b[0;34m+\u001b[0m \u001b[0mtransposes\u001b[0m \u001b[0;34m+\u001b[0m \u001b[0mreplaces\u001b[0m \u001b[0;34m+\u001b[0m \u001b[0minserts\u001b[0m\u001b[0;34m)\u001b[0m\u001b[0;34m\u001b[0m\u001b[0m\n",
      "\u001b[0;31mKeyboardInterrupt\u001b[0m: "
     ]
    }
   ],
   "source": [
    "%%time\n",
    "\n",
    "def spelling_corrector(x):\n",
    "    ciudad = x['Ciudad']\n",
    "    if ciudad:\n",
    "        if ciudad in ciudades:\n",
    "            r = ciudad\n",
    "        else:\n",
    "            words = re.findall(r'\\w+', ciudad)\n",
    "            candidates = set(w for w in words if w in ciudades)\n",
    "            if len(candidates) == 1:\n",
    "                r = candidates.pop()\n",
    "            else:\n",
    "                # len(candidates) > 1 no se da\n",
    "                corrections = [correction(w) for w in words]\n",
    "                candidates = set(c for c in corrections if c in ciudades)\n",
    "                if len(candidates) == 1:\n",
    "                    r = candidates.pop()\n",
    "                else:\n",
    "                    # len(candidates) > 1 sólo se da una vez pero las correcciones son incorrectas\n",
    "                    r = ciudad\n",
    "    else:\n",
    "        r = ciudad\n",
    "    return r\n",
    "\n",
    "perfiles_df['Ciudad'] = perfiles_df.apply(spelling_corrector, axis=1)"
   ]
  },
  {
   "cell_type": "code",
   "execution_count": null,
   "metadata": {
    "collapsed": true
   },
   "outputs": [],
   "source": []
  },
  {
   "cell_type": "code",
   "execution_count": null,
   "metadata": {
    "collapsed": true
   },
   "outputs": [],
   "source": []
  },
  {
   "cell_type": "code",
   "execution_count": 89,
   "metadata": {
    "collapsed": false
   },
   "outputs": [
    {
     "data": {
      "text/plain": [
       "bogota              23087\n",
       "tunja                2952\n",
       "ibague               2264\n",
       "popayan              1862\n",
       "neiva                1754\n",
       "pasto                1699\n",
       "pereira              1455\n",
       "ipiales               991\n",
       "girardot              905\n",
       "manizales             812\n",
       "cartagena             721\n",
       "san andres            664\n",
       "valledupar            635\n",
       "florencia             592\n",
       "leticia               481\n",
       "armenia               466\n",
       "quibdo                446\n",
       "santa marta           418\n",
       "sincelejo             403\n",
       "bucaramanga           371\n",
       "pas                   365\n",
       "dosquebradas          356\n",
       "honda                 337\n",
       "buenaventura          324\n",
       "soacha                311\n",
       "manizales caldas      309\n",
       "villavicencio         292\n",
       "cali                  269\n",
       "riohacha              239\n",
       "barranquilla          239\n",
       "medellin              210\n",
       "cucuta                207\n",
       "monteria              185\n",
       "pop                   145\n",
       "chia                  136\n",
       "                      108\n",
       "floridablanca          84\n",
       "bosa                   81\n",
       "flandes                81\n",
       "mosquera               76\n",
       "Name: Ciudad, dtype: int64"
      ]
     },
     "execution_count": 89,
     "metadata": {},
     "output_type": "execute_result"
    }
   ],
   "source": [
    "groups_df['Ciudad'].value_counts().head(40)"
   ]
  },
  {
   "cell_type": "code",
   "execution_count": 12,
   "metadata": {
    "collapsed": false
   },
   "outputs": [
    {
     "data": {
      "text/plain": [
       "16"
      ]
     },
     "execution_count": 12,
     "metadata": {},
     "output_type": "execute_result"
    }
   ],
   "source": [
    "groups_df[groups_df['Ciudad'] == '']['Ciudad'].count()"
   ]
  },
  {
   "cell_type": "code",
   "execution_count": 13,
   "metadata": {
    "collapsed": false
   },
   "outputs": [
    {
     "data": {
      "text/plain": [
       "50256"
      ]
     },
     "execution_count": 13,
     "metadata": {},
     "output_type": "execute_result"
    }
   ],
   "source": [
    "groups_df.shape[0] - groups_df[groups_df['Ciudad'] == '']['Ciudad'].count()"
   ]
  },
  {
   "cell_type": "code",
   "execution_count": 86,
   "metadata": {
    "collapsed": true
   },
   "outputs": [],
   "source": [
    "groups_df = groups_df[groups_df['Ciudad'] != '']"
   ]
  },
  {
   "cell_type": "code",
   "execution_count": 96,
   "metadata": {
    "collapsed": false
   },
   "outputs": [
    {
     "data": {
      "text/plain": [
       "(44966, 6)"
      ]
     },
     "execution_count": 96,
     "metadata": {},
     "output_type": "execute_result"
    }
   ],
   "source": [
    "groups_df.shape"
   ]
  },
  {
   "cell_type": "code",
   "execution_count": 94,
   "metadata": {
    "collapsed": false
   },
   "outputs": [
    {
     "name": "stdout",
     "output_type": "stream",
     "text": [
      "CPU times: user 1.89 s, sys: 0 ns, total: 1.89 s\n",
      "Wall time: 1.89 s\n"
     ]
    }
   ],
   "source": [
    "%%time\n",
    "\n",
    "c = perfiles_df['Ciudad'].value_counts()\n",
    "\n",
    "def group_ciudad(x):\n",
    "    e = x['Ciudad']\n",
    "    if c[e] >= 100: if ciudad in ciudades\n",
    "        r = e\n",
    "    else:\n",
    "        r = 'Otro'\n",
    "    return r\n",
    "\n",
    "groups_df['Ciudad'] = perfiles_df.apply(group_ciudad, axis=1)"
   ]
  },
  {
   "cell_type": "code",
   "execution_count": null,
   "metadata": {
    "collapsed": true
   },
   "outputs": [],
   "source": [
    "groups_df['Ciudad'].value_counts()"
   ]
  },
  {
   "cell_type": "code",
   "execution_count": null,
   "metadata": {
    "collapsed": true
   },
   "outputs": [],
   "source": []
  },
  {
   "cell_type": "code",
   "execution_count": null,
   "metadata": {
    "collapsed": true
   },
   "outputs": [],
   "source": []
  },
  {
   "cell_type": "code",
   "execution_count": null,
   "metadata": {
    "collapsed": true
   },
   "outputs": [],
   "source": []
  },
  {
   "cell_type": "code",
   "execution_count": null,
   "metadata": {
    "collapsed": true
   },
   "outputs": [],
   "source": []
  },
  {
   "cell_type": "code",
   "execution_count": null,
   "metadata": {
    "collapsed": true
   },
   "outputs": [],
   "source": []
  },
  {
   "cell_type": "code",
   "execution_count": null,
   "metadata": {
    "collapsed": true
   },
   "outputs": [],
   "source": []
  },
  {
   "cell_type": "markdown",
   "metadata": {
    "collapsed": true
   },
   "source": [
    "#### Tratamiento"
   ]
  },
  {
   "cell_type": "code",
   "execution_count": 17,
   "metadata": {
    "collapsed": false
   },
   "outputs": [
    {
     "data": {
      "text/plain": [
       "5"
      ]
     },
     "execution_count": 17,
     "metadata": {},
     "output_type": "execute_result"
    }
   ],
   "source": [
    "groups_df['Tratamiento'].nunique()"
   ]
  },
  {
   "cell_type": "code",
   "execution_count": 18,
   "metadata": {
    "collapsed": false
   },
   "outputs": [
    {
     "data": {
      "text/plain": [
       "sr.          22502\n",
       "sra.         22339\n",
       "              4984\n",
       "otra inf.      392\n",
       "inst            39\n",
       "Name: Tratamiento, dtype: int64"
      ]
     },
     "execution_count": 18,
     "metadata": {},
     "output_type": "execute_result"
    }
   ],
   "source": [
    "groups_df['Tratamiento'].value_counts()"
   ]
  },
  {
   "cell_type": "code",
   "execution_count": 19,
   "metadata": {
    "collapsed": false
   },
   "outputs": [
    {
     "data": {
      "text/plain": [
       "4984"
      ]
     },
     "execution_count": 19,
     "metadata": {},
     "output_type": "execute_result"
    }
   ],
   "source": [
    "groups_df[groups_df['Tratamiento'] == '']['Tratamiento'].count()"
   ]
  },
  {
   "cell_type": "code",
   "execution_count": 20,
   "metadata": {
    "collapsed": false
   },
   "outputs": [
    {
     "data": {
      "text/plain": [
       "45272"
      ]
     },
     "execution_count": 20,
     "metadata": {},
     "output_type": "execute_result"
    }
   ],
   "source": [
    "groups_df.shape[0] - groups_df[groups_df['Tratamiento'] == '']['Tratamiento'].count()"
   ]
  },
  {
   "cell_type": "code",
   "execution_count": 21,
   "metadata": {
    "collapsed": true
   },
   "outputs": [],
   "source": [
    "groups_df = groups_df[groups_df['Tratamiento'] != '']"
   ]
  },
  {
   "cell_type": "code",
   "execution_count": 22,
   "metadata": {
    "collapsed": false
   },
   "outputs": [
    {
     "data": {
      "text/plain": [
       "(45272, 9)"
      ]
     },
     "execution_count": 22,
     "metadata": {},
     "output_type": "execute_result"
    }
   ],
   "source": [
    "groups_df.shape"
   ]
  },
  {
   "cell_type": "code",
   "execution_count": 23,
   "metadata": {
    "collapsed": false
   },
   "outputs": [
    {
     "name": "stdout",
     "output_type": "stream",
     "text": [
      "CPU times: user 1.31 s, sys: 7.15 ms, total: 1.32 s\n",
      "Wall time: 1.31 s\n"
     ]
    }
   ],
   "source": [
    "%%time\n",
    "\n",
    "c = perfiles_df['Tratamiento'].value_counts()\n",
    "\n",
    "def group_tratamiento(x):\n",
    "    e = x['Tratamiento']\n",
    "    try:\n",
    "        if e == 'sr.' or e == 'sra.':\n",
    "            r = e\n",
    "        else:\n",
    "            r = 'Otro'\n",
    "    except:\n",
    "        r = 'Otro'\n",
    "    return r\n",
    "\n",
    "groups_df['Tratamiento'] = perfiles_df.apply(group_tratamiento, axis=1)"
   ]
  },
  {
   "cell_type": "code",
   "execution_count": 24,
   "metadata": {
    "collapsed": false
   },
   "outputs": [
    {
     "data": {
      "text/plain": [
       "sr.     22502\n",
       "sra.    22339\n",
       "Otro      431\n",
       "Name: Tratamiento, dtype: int64"
      ]
     },
     "execution_count": 24,
     "metadata": {},
     "output_type": "execute_result"
    }
   ],
   "source": [
    "groups_df['Tratamiento'].value_counts()"
   ]
  },
  {
   "cell_type": "markdown",
   "metadata": {
    "collapsed": true
   },
   "source": [
    "#### Barrio"
   ]
  },
  {
   "cell_type": "code",
   "execution_count": 25,
   "metadata": {
    "collapsed": false
   },
   "outputs": [
    {
     "data": {
      "text/plain": [
       "10387"
      ]
     },
     "execution_count": 25,
     "metadata": {},
     "output_type": "execute_result"
    }
   ],
   "source": [
    "groups_df['Barrio'].nunique()"
   ]
  },
  {
   "cell_type": "code",
   "execution_count": 35,
   "metadata": {
    "collapsed": false
   },
   "outputs": [
    {
     "data": {
      "text/plain": [
       "centro                             1034\n",
       "chapinero                           403\n",
       "                                    258\n",
       "castilla                            225\n",
       "cedritos                            220\n",
       "kennedy                             215\n",
       "fontibon                            214\n",
       "modelia                             200\n",
       "palermo                             199\n",
       "san luis                            192\n",
       "las nieves                          179\n",
       "la soledad                          177\n",
       "santa isabel                        175\n",
       "santa ines                          163\n",
       "el recuerdo                         162\n",
       "teusaquillo                         154\n",
       "san antonio                         151\n",
       "santa barbara                       148\n",
       "gaitan                              147\n",
       "obrero                              146\n",
       "ciudad salitre                      140\n",
       "candelaria                          138\n",
       "centenario                          131\n",
       "san francisco                       130\n",
       "suba                                128\n",
       "santa lucia                         127\n",
       "galerias                            126\n",
       "ciudad jardin                       124\n",
       "las americas                        124\n",
       "santa rita                          120\n",
       "                                   ... \n",
       "barrio la esmeralda                   1\n",
       "monttecarlo                           1\n",
       "el velodromo                          1\n",
       "inem                                  1\n",
       "ciudadela felicidad                   1\n",
       "km. 7 via tocaima                     1\n",
       "santa maria de la riviera             1\n",
       "barlavento                            1\n",
       "prado mar                             1\n",
       "villabolivar                          1\n",
       "la acampiña suba                      1\n",
       "barrio el dorado                      1\n",
       "mz 4 cs 11 la italia                  1\n",
       "juan xiii                             1\n",
       "glorieta cuba                         1\n",
       "suba  torres                          1\n",
       "sa5ta matilde                         1\n",
       "santa teresita teusaquillo            1\n",
       "villa de los rios /simana             1\n",
       "villa maria etapa iii                 1\n",
       "hipotecho occidentañ                  1\n",
       "torcorroma ii                         1\n",
       "centor internacional                  1\n",
       "finca el vergel                       1\n",
       "cesar gaviria                         1\n",
       "pastranita ii                         1\n",
       "u santa lucia                         1\n",
       "provenzq                              1\n",
       "campo real- barrio buenos aires       1\n",
       "pihajos                               1\n",
       "Name: Barrio, dtype: int64"
      ]
     },
     "execution_count": 35,
     "metadata": {},
     "output_type": "execute_result"
    }
   ],
   "source": [
    "groups_df['Barrio'].value_counts()"
   ]
  },
  {
   "cell_type": "code",
   "execution_count": 40,
   "metadata": {
    "collapsed": false
   },
   "outputs": [
    {
     "data": {
      "text/plain": [
       "False"
      ]
     },
     "execution_count": 40,
     "metadata": {},
     "output_type": "execute_result"
    }
   ],
   "source": [
    "'barrio de la esmeralda' in groups_df['Barrio'].unique()"
   ]
  },
  {
   "cell_type": "code",
   "execution_count": 43,
   "metadata": {
    "collapsed": false
   },
   "outputs": [
    {
     "name": "stdout",
     "output_type": "stream",
     "text": [
      "barrio villa mayor\n",
      "barrio palermo\n",
      "campo real- barrio buenos aires\n",
      "colombia/barrios unidos\n",
      "barrio san diego\n",
      "barrio espa a\n",
      "barrio pie de la popa\n",
      "san fernando/barrios unidos\n",
      "12 de octubre/barrios unidos\n",
      "los andes/barrios unidos\n",
      "barrio 7 de agosto\n",
      "los alcazares/barrios unidos\n",
      "barrio dangond\n",
      "barrio gaitan\n",
      "barrio portal de alcazares\n",
      "barrio chipre\n",
      "barrio abajo\n",
      "barrio ciudad valencia\n",
      "barrio jose maria hernandez\n",
      "barrio aurora\n",
      "barrio kennedy\n",
      "barrio laureles\n",
      "barrio galan\n",
      "barrio las acacias\n",
      "barrio back road\n",
      "barrio bight m17 c6\n",
      "barrio la castilla\n",
      "barrio alamos\n",
      "barrio el centenario\n",
      "barrio bitar\n",
      "barrio san andres\n",
      "san felipe/barrios unidos\n",
      "barrio florencia\n",
      "barrio nuevo\n",
      "barrio colombia\n",
      "barrio america\n",
      "barrio la esmeralda\n",
      "barrio champanag\n",
      "fontibon barrio santander\n",
      "barrio diana carolina\n",
      "barrio san benito\n",
      "barrio garupal etapa iii\n",
      "barrios unidos\n",
      "barrio 11 de noviembre\n",
      "barrio obapo via pacurita\n",
      "barrio la grecia\n",
      "barrio los amigos\n",
      "barrio mutis\n",
      "barrio bajo\n",
      "barrio obapo\n",
      "barrio manuela beltran\n",
      "barrio obrero\n",
      "santa sofía/barrios unidos\n",
      "chamon - barrio londres\n",
      "barrio la esperanza\n",
      "barrio costa rica\n",
      "barrio cordaba -cienaga\n",
      "barrio san vicente\n",
      "barrio la cascorba\n",
      "barrio niño jesus sector cabi\n",
      "barrio el libertador\n",
      "barrio centro\n",
      "mocarí, barrio 20 de julio\n",
      "barrio providencia\n",
      "barrio arriba\n",
      "barrio palenque\n",
      "barrio el jardin\n",
      "barrio el nogal\n",
      "barrio la yesquita\n",
      "barrio yescagrande\n",
      "barrio la playita\n",
      "barrio modelo\n",
      "barrio medrano\n",
      "barrio granada\n",
      "barrio cocal\n",
      "barrio atlantico\n",
      "barrio montevideo\n",
      "barrio el dorado\n",
      "barrio el paraiso\n",
      "barrio la sultana\n",
      "barrio santa\n",
      "barrio las palmas\n",
      "barrio estansuela\n",
      "barrio de las americas\n",
      "barrio bogota\n",
      "barrio / el jardin\n",
      "barrio primero de mayo\n",
      "barrio san jose\n",
      "barrio tomas perez\n",
      "barrio la candelaria\n",
      "barrio cañahuate\n",
      "barrio arkaluna\n",
      "barrio casa linda\n",
      "barrio porvenir\n",
      "barrio torcoroma\n",
      "barrio humarizal\n"
     ]
    }
   ],
   "source": [
    "for x in groups_df['Barrio'].unique():\n",
    "    if 'barrio' in x:\n",
    "        print(x)"
   ]
  },
  {
   "cell_type": "code",
   "execution_count": 29,
   "metadata": {
    "collapsed": false
   },
   "outputs": [],
   "source": [
    "from collections import Counter\n",
    "c = Counter(groups_df['Barrio'].value_counts())"
   ]
  },
  {
   "cell_type": "code",
   "execution_count": 34,
   "metadata": {
    "collapsed": false
   },
   "outputs": [
    {
     "name": "stdout",
     "output_type": "stream",
     "text": [
      "7842\n",
      "37430\n"
     ]
    },
    {
     "data": {
      "text/plain": [
       "45272"
      ]
     },
     "execution_count": 34,
     "metadata": {},
     "output_type": "execute_result"
    }
   ],
   "source": [
    "l=range(1,100)\n",
    "ss1 = ss2 = 0\n",
    "for k in c:\n",
    "    if k not in l:\n",
    "        ss1 += k * c[k]\n",
    "    else:\n",
    "        ss2 += k * c[k]\n",
    "        \n",
    "print(ss1)\n",
    "print(ss2)\n",
    "ss1+ss2"
   ]
  },
  {
   "cell_type": "code",
   "execution_count": 51,
   "metadata": {
    "collapsed": false
   },
   "outputs": [
    {
     "data": {
      "text/plain": [
       "Counter({1: 6818,\n",
       "         2: 1150,\n",
       "         3: 565,\n",
       "         4: 318,\n",
       "         5: 215,\n",
       "         6: 174,\n",
       "         7: 143,\n",
       "         8: 83,\n",
       "         9: 83,\n",
       "         10: 63,\n",
       "         11: 58,\n",
       "         12: 44,\n",
       "         13: 46,\n",
       "         14: 39,\n",
       "         15: 34,\n",
       "         16: 25,\n",
       "         17: 34,\n",
       "         18: 32,\n",
       "         19: 21,\n",
       "         20: 23,\n",
       "         21: 18,\n",
       "         22: 24,\n",
       "         23: 22,\n",
       "         24: 14,\n",
       "         25: 15,\n",
       "         26: 17,\n",
       "         27: 17,\n",
       "         28: 10,\n",
       "         29: 17,\n",
       "         30: 16,\n",
       "         31: 10,\n",
       "         32: 7,\n",
       "         33: 7,\n",
       "         34: 7,\n",
       "         35: 9,\n",
       "         36: 8,\n",
       "         37: 11,\n",
       "         38: 5,\n",
       "         39: 9,\n",
       "         40: 3,\n",
       "         41: 7,\n",
       "         42: 4,\n",
       "         43: 3,\n",
       "         44: 5,\n",
       "         45: 3,\n",
       "         46: 6,\n",
       "         47: 1,\n",
       "         48: 2,\n",
       "         49: 9,\n",
       "         50: 3,\n",
       "         51: 3,\n",
       "         52: 3,\n",
       "         53: 4,\n",
       "         54: 4,\n",
       "         55: 2,\n",
       "         56: 2,\n",
       "         57: 2,\n",
       "         58: 2,\n",
       "         59: 2,\n",
       "         60: 2,\n",
       "         62: 1,\n",
       "         63: 1,\n",
       "         64: 3,\n",
       "         65: 2,\n",
       "         66: 1,\n",
       "         67: 1,\n",
       "         69: 3,\n",
       "         70: 2,\n",
       "         71: 5,\n",
       "         72: 1,\n",
       "         73: 2,\n",
       "         74: 2,\n",
       "         75: 1,\n",
       "         76: 2,\n",
       "         77: 1,\n",
       "         78: 1,\n",
       "         79: 1,\n",
       "         81: 2,\n",
       "         82: 1,\n",
       "         83: 3,\n",
       "         84: 2,\n",
       "         85: 2,\n",
       "         86: 1,\n",
       "         87: 3,\n",
       "         89: 1,\n",
       "         90: 1,\n",
       "         94: 3,\n",
       "         95: 1,\n",
       "         96: 2,\n",
       "         97: 2,\n",
       "         98: 1,\n",
       "         99: 3,\n",
       "         102: 2,\n",
       "         105: 1,\n",
       "         108: 1,\n",
       "         109: 1,\n",
       "         110: 1,\n",
       "         111: 2,\n",
       "         112: 1,\n",
       "         113: 1,\n",
       "         115: 1,\n",
       "         117: 1,\n",
       "         118: 1,\n",
       "         119: 1,\n",
       "         120: 3,\n",
       "         124: 2,\n",
       "         126: 1,\n",
       "         127: 1,\n",
       "         128: 1,\n",
       "         130: 1,\n",
       "         131: 1,\n",
       "         138: 1,\n",
       "         140: 1,\n",
       "         146: 1,\n",
       "         147: 1,\n",
       "         148: 1,\n",
       "         151: 1,\n",
       "         154: 1,\n",
       "         162: 1,\n",
       "         163: 1,\n",
       "         175: 1,\n",
       "         177: 1,\n",
       "         179: 1,\n",
       "         192: 1,\n",
       "         199: 1,\n",
       "         200: 1,\n",
       "         214: 1,\n",
       "         215: 1,\n",
       "         220: 1,\n",
       "         225: 1,\n",
       "         258: 1,\n",
       "         403: 1,\n",
       "         1034: 1})"
      ]
     },
     "execution_count": 51,
     "metadata": {},
     "output_type": "execute_result"
    }
   ],
   "source": [
    "c"
   ]
  },
  {
   "cell_type": "code",
   "execution_count": 12,
   "metadata": {
    "collapsed": false
   },
   "outputs": [
    {
     "data": {
      "text/plain": [
       "16"
      ]
     },
     "execution_count": 12,
     "metadata": {},
     "output_type": "execute_result"
    }
   ],
   "source": [
    "groups_df[groups_df['Barrio'] == '']['Barrio'].count()"
   ]
  },
  {
   "cell_type": "code",
   "execution_count": 13,
   "metadata": {
    "collapsed": false
   },
   "outputs": [
    {
     "data": {
      "text/plain": [
       "50256"
      ]
     },
     "execution_count": 13,
     "metadata": {},
     "output_type": "execute_result"
    }
   ],
   "source": [
    "groups_df.shape[0] - groups_df[groups_df['Barrio'] == '']['Barrio'].count()"
   ]
  },
  {
   "cell_type": "code",
   "execution_count": 27,
   "metadata": {
    "collapsed": true
   },
   "outputs": [],
   "source": [
    "groups_df = groups_df[groups_df['Barrio'] != '']"
   ]
  },
  {
   "cell_type": "code",
   "execution_count": 28,
   "metadata": {
    "collapsed": false
   },
   "outputs": [
    {
     "data": {
      "text/plain": [
       "(45014, 9)"
      ]
     },
     "execution_count": 28,
     "metadata": {},
     "output_type": "execute_result"
    }
   ],
   "source": [
    "groups_df.shape"
   ]
  },
  {
   "cell_type": "code",
   "execution_count": 29,
   "metadata": {
    "collapsed": false
   },
   "outputs": [
    {
     "name": "stdout",
     "output_type": "stream",
     "text": [
      "CPU times: user 2.03 s, sys: 8 ms, total: 2.04 s\n",
      "Wall time: 2.03 s\n"
     ]
    }
   ],
   "source": [
    "%%time\n",
    "\n",
    "c = perfiles_df['Barrio'].value_counts()\n",
    "\n",
    "def group_barrio(x):\n",
    "    e = x['Barrio']\n",
    "    if c[e] >= 100:\n",
    "        r = e\n",
    "    else:\n",
    "        r = 'Otro'\n",
    "    return r\n",
    "\n",
    "groups_df['Barrio'] = perfiles_df.apply(group_barrio, axis=1)"
   ]
  },
  {
   "cell_type": "code",
   "execution_count": 30,
   "metadata": {
    "collapsed": false
   },
   "outputs": [
    {
     "data": {
      "text/plain": [
       "Otro                     35980\n",
       "centro                    1034\n",
       "chapinero                  403\n",
       "castilla                   225\n",
       "cedritos                   220\n",
       "kennedy                    215\n",
       "fontibon                   214\n",
       "modelia                    200\n",
       "palermo                    199\n",
       "san luis                   192\n",
       "las nieves                 179\n",
       "la soledad                 177\n",
       "santa isabel               175\n",
       "santa ines                 163\n",
       "el recuerdo                162\n",
       "teusaquillo                154\n",
       "san antonio                151\n",
       "santa barbara              148\n",
       "gaitan                     147\n",
       "obrero                     146\n",
       "ciudad salitre             140\n",
       "candelaria                 138\n",
       "centenario                 131\n",
       "san francisco              130\n",
       "suba                       128\n",
       "santa lucia                127\n",
       "galerias                   126\n",
       "las americas               124\n",
       "ciudad jardin              124\n",
       "san vicente                120\n",
       "                         ...  \n",
       "alfonso lopez              119\n",
       "chapinero alto             118\n",
       "belen                      117\n",
       "quinta paredes             115\n",
       "bosa                       113\n",
       "la candelaria              112\n",
       "libertador                 111\n",
       "belalcazar                 111\n",
       "galan                      110\n",
       "chico                      109\n",
       "olimpico                   108\n",
       "buenos aires               105\n",
       "20 de julio                102\n",
       "las aguas                  102\n",
       "porvenir                    99\n",
       "san fernando                99\n",
       "restrepo                    98\n",
       "san rafael                  97\n",
       "la paz                      97\n",
       "ciudadela colsubsidio       96\n",
       "san mateo                   96\n",
       "salitre                     95\n",
       "san carlos                  94\n",
       "san jose                    94\n",
       "jordan                      89\n",
       "la florida                  87\n",
       "el carmen                   85\n",
       "san jorge                   84\n",
       "fatima                      70\n",
       "ricaurte                    70\n",
       "Name: Barrio, dtype: int64"
      ]
     },
     "execution_count": 30,
     "metadata": {},
     "output_type": "execute_result"
    }
   ],
   "source": [
    "groups_df['Barrio'].value_counts()"
   ]
  },
  {
   "cell_type": "markdown",
   "metadata": {
    "collapsed": true
   },
   "source": [
    "#### CATEG"
   ]
  },
  {
   "cell_type": "code",
   "execution_count": 96,
   "metadata": {
    "collapsed": false
   },
   "outputs": [
    {
     "data": {
      "text/plain": [
       "16"
      ]
     },
     "execution_count": 96,
     "metadata": {},
     "output_type": "execute_result"
    }
   ],
   "source": [
    "groups_df['CATEG'].nunique()"
   ]
  },
  {
   "cell_type": "code",
   "execution_count": 101,
   "metadata": {
    "collapsed": false
   },
   "outputs": [
    {
     "data": {
      "text/plain": [
       "CTU    17098\n",
       "CIS    15759\n",
       "CTA    10666\n",
       "CTB     1853\n",
       "CEM     1602\n",
       "CTF     1121\n",
       "CTI     1018\n",
       "CIP      339\n",
       "CTC      302\n",
       "CE1      216\n",
       "CIN      130\n",
       "CSU       92\n",
       "CIV       68\n",
       "CE2        6\n",
       "CML        2\n",
       "           2\n",
       "Name: CATEG, dtype: int64"
      ]
     },
     "execution_count": 101,
     "metadata": {},
     "output_type": "execute_result"
    }
   ],
   "source": [
    "groups_df['CATEG'].value_counts()"
   ]
  },
  {
   "cell_type": "code",
   "execution_count": 12,
   "metadata": {
    "collapsed": false
   },
   "outputs": [
    {
     "data": {
      "text/plain": [
       "16"
      ]
     },
     "execution_count": 12,
     "metadata": {},
     "output_type": "execute_result"
    }
   ],
   "source": [
    "groups_df[groups_df['CATEG'] == '']['CATEG'].count()"
   ]
  },
  {
   "cell_type": "code",
   "execution_count": 13,
   "metadata": {
    "collapsed": false
   },
   "outputs": [
    {
     "data": {
      "text/plain": [
       "50256"
      ]
     },
     "execution_count": 13,
     "metadata": {},
     "output_type": "execute_result"
    }
   ],
   "source": [
    "groups_df.shape[0] - groups_df[groups_df['CATEG'] == '']['CATEG'].count()"
   ]
  },
  {
   "cell_type": "code",
   "execution_count": 97,
   "metadata": {
    "collapsed": true
   },
   "outputs": [],
   "source": [
    "groups_df = groups_df[groups_df['CATEG'] != '']"
   ]
  },
  {
   "cell_type": "code",
   "execution_count": 98,
   "metadata": {
    "collapsed": false
   },
   "outputs": [
    {
     "data": {
      "text/plain": [
       "(44966, 6)"
      ]
     },
     "execution_count": 98,
     "metadata": {},
     "output_type": "execute_result"
    }
   ],
   "source": [
    "groups_df.shape"
   ]
  },
  {
   "cell_type": "code",
   "execution_count": 99,
   "metadata": {
    "collapsed": false
   },
   "outputs": [
    {
     "name": "stdout",
     "output_type": "stream",
     "text": [
      "CPU times: user 1.91 s, sys: 4 ms, total: 1.92 s\n",
      "Wall time: 1.92 s\n"
     ]
    }
   ],
   "source": [
    "%%time\n",
    "\n",
    "c = perfiles_df['CATEG'].value_counts()\n",
    "\n",
    "def group_sucursal(x):\n",
    "    e = x['CATEG']\n",
    "    if c[e] >= 1000:\n",
    "        r = e\n",
    "    else:\n",
    "        r = 'Otro'\n",
    "    return r\n",
    "\n",
    "groups_df['CATEG'] = perfiles_df.apply(group_sucursal, axis=1)"
   ]
  },
  {
   "cell_type": "code",
   "execution_count": null,
   "metadata": {
    "collapsed": true
   },
   "outputs": [],
   "source": [
    "groups_df['CATEG'].value_counts()"
   ]
  },
  {
   "cell_type": "markdown",
   "metadata": {
    "collapsed": true
   },
   "source": [
    "#### Ocupación1"
   ]
  },
  {
   "cell_type": "code",
   "execution_count": 106,
   "metadata": {
    "collapsed": false
   },
   "outputs": [
    {
     "data": {
      "text/plain": [
       "30"
      ]
     },
     "execution_count": 106,
     "metadata": {},
     "output_type": "execute_result"
    }
   ],
   "source": [
    "groups_df['Ocupación1'].nunique()"
   ]
  },
  {
   "cell_type": "code",
   "execution_count": 107,
   "metadata": {
    "collapsed": false
   },
   "outputs": [
    {
     "data": {
      "text/plain": [
       "estudiante                 35805\n",
       "empleado                    3908\n",
       "docente                     2946\n",
       "independiente               2549\n",
       "                            1801\n",
       "trabajador y estudiante     1016\n",
       "pensionado                   920\n",
       "hogar                        507\n",
       "investigador                 258\n",
       "desempleado                  181\n",
       "universidad                  142\n",
       "colegios                      91\n",
       "cultural                      33\n",
       "salud                         30\n",
       "comercio                      28\n",
       "instuto técnico               15\n",
       "agropecuario                  12\n",
       "instuto tecnológico            5\n",
       "editorial                      5\n",
       "alimentos                      3\n",
       "financiero                     3\n",
       "congregación religiosa         3\n",
       "transporte                     2\n",
       "construcción                   2\n",
       "turismo                        2\n",
       "telecomunicaciones             2\n",
       "plástico                       2\n",
       "minero y energético            1\n",
       "bebidas                        1\n",
       "automotriz                     1\n",
       "Name: Ocupación1, dtype: int64"
      ]
     },
     "execution_count": 107,
     "metadata": {},
     "output_type": "execute_result"
    }
   ],
   "source": [
    "groups_df['Ocupación1'].value_counts()"
   ]
  },
  {
   "cell_type": "code",
   "execution_count": 12,
   "metadata": {
    "collapsed": false
   },
   "outputs": [
    {
     "data": {
      "text/plain": [
       "16"
      ]
     },
     "execution_count": 12,
     "metadata": {},
     "output_type": "execute_result"
    }
   ],
   "source": [
    "groups_df[groups_df['Ocupación1'] == '']['Ocupación1'].count()"
   ]
  },
  {
   "cell_type": "code",
   "execution_count": 13,
   "metadata": {
    "collapsed": false
   },
   "outputs": [
    {
     "data": {
      "text/plain": [
       "50256"
      ]
     },
     "execution_count": 13,
     "metadata": {},
     "output_type": "execute_result"
    }
   ],
   "source": [
    "groups_df.shape[0] - groups_df[groups_df['Ocupación1'] == '']['Ocupación1'].count()"
   ]
  },
  {
   "cell_type": "code",
   "execution_count": 97,
   "metadata": {
    "collapsed": true
   },
   "outputs": [],
   "source": [
    "groups_df = groups_df[groups_df['Ocupación1'] != '']"
   ]
  },
  {
   "cell_type": "code",
   "execution_count": 98,
   "metadata": {
    "collapsed": false
   },
   "outputs": [
    {
     "data": {
      "text/plain": [
       "(44966, 6)"
      ]
     },
     "execution_count": 98,
     "metadata": {},
     "output_type": "execute_result"
    }
   ],
   "source": [
    "groups_df.shape"
   ]
  },
  {
   "cell_type": "code",
   "execution_count": 99,
   "metadata": {
    "collapsed": false
   },
   "outputs": [
    {
     "name": "stdout",
     "output_type": "stream",
     "text": [
      "CPU times: user 1.91 s, sys: 4 ms, total: 1.92 s\n",
      "Wall time: 1.92 s\n"
     ]
    }
   ],
   "source": [
    "%%time\n",
    "\n",
    "c = perfiles_df['Ocupación1'].value_counts()\n",
    "\n",
    "def group_ocupacion(x):\n",
    "    e = x['Ocupación1']\n",
    "    try:\n",
    "        if e and c[e] >= 100:\n",
    "            r = e\n",
    "        else:\n",
    "            r = 'Otro'\n",
    "    except:\n",
    "        r = 'Otro'\n",
    "    return r\n",
    "\n",
    "groups_df['Ocupación1'] = perfiles_df.apply(group_ocupacion, axis=1)"
   ]
  },
  {
   "cell_type": "code",
   "execution_count": null,
   "metadata": {
    "collapsed": true
   },
   "outputs": [],
   "source": [
    "groups_df['Ocupación1'].value_counts()"
   ]
  },
  {
   "cell_type": "markdown",
   "metadata": {
    "collapsed": true
   },
   "source": [
    "#### Nivel Estudio1"
   ]
  },
  {
   "cell_type": "code",
   "execution_count": 105,
   "metadata": {
    "collapsed": false
   },
   "outputs": [
    {
     "data": {
      "text/plain": [
       "13"
      ]
     },
     "execution_count": 105,
     "metadata": {},
     "output_type": "execute_result"
    }
   ],
   "source": [
    "groups_df['Nivel Estudio1'].nunique()"
   ]
  },
  {
   "cell_type": "code",
   "execution_count": 106,
   "metadata": {
    "collapsed": false
   },
   "outputs": [
    {
     "data": {
      "text/plain": [
       "universitario 1 nivel    9657\n",
       "universitario 2 nivel    8121\n",
       "profesional              6882\n",
       "secundaria               6875\n",
       "básica primaria          6660\n",
       "                         6377\n",
       "maestría                 2180\n",
       "postgrado                1345\n",
       "técnico                   711\n",
       "graduado                  486\n",
       "doctorado                 437\n",
       "tecnológico               335\n",
       "ninguno                   208\n",
       "Name: Nivel Estudio1, dtype: int64"
      ]
     },
     "execution_count": 106,
     "metadata": {},
     "output_type": "execute_result"
    }
   ],
   "source": [
    "groups_df['Nivel Estudio1'].value_counts()"
   ]
  },
  {
   "cell_type": "code",
   "execution_count": 12,
   "metadata": {
    "collapsed": false
   },
   "outputs": [
    {
     "data": {
      "text/plain": [
       "16"
      ]
     },
     "execution_count": 12,
     "metadata": {},
     "output_type": "execute_result"
    }
   ],
   "source": [
    "groups_df[groups_df['Nivel Estudio1'] == '']['Nivel Estudio1'].count()"
   ]
  },
  {
   "cell_type": "code",
   "execution_count": 13,
   "metadata": {
    "collapsed": false
   },
   "outputs": [
    {
     "data": {
      "text/plain": [
       "50256"
      ]
     },
     "execution_count": 13,
     "metadata": {},
     "output_type": "execute_result"
    }
   ],
   "source": [
    "groups_df.shape[0] - groups_df[groups_df['Nivel Estudio1'] == '']['Nivel Estudio1'].count()"
   ]
  },
  {
   "cell_type": "code",
   "execution_count": 97,
   "metadata": {
    "collapsed": true
   },
   "outputs": [],
   "source": [
    "groups_df = groups_df[groups_df['Nivel Estudio1'] != '']"
   ]
  },
  {
   "cell_type": "code",
   "execution_count": 98,
   "metadata": {
    "collapsed": false
   },
   "outputs": [
    {
     "data": {
      "text/plain": [
       "(44966, 6)"
      ]
     },
     "execution_count": 98,
     "metadata": {},
     "output_type": "execute_result"
    }
   ],
   "source": [
    "groups_df.shape"
   ]
  },
  {
   "cell_type": "code",
   "execution_count": 99,
   "metadata": {
    "collapsed": false
   },
   "outputs": [
    {
     "name": "stdout",
     "output_type": "stream",
     "text": [
      "CPU times: user 1.91 s, sys: 4 ms, total: 1.92 s\n",
      "Wall time: 1.92 s\n"
     ]
    }
   ],
   "source": [
    "%%time\n",
    "\n",
    "c = perfiles_df['Nivel Estudio1'].value_counts()\n",
    "\n",
    "def group_nivel_estudio(x):\n",
    "    e = x['Nivel Estudio1']\n",
    "    try:\n",
    "        if c[e] >= 0:\n",
    "            r = e\n",
    "        else:\n",
    "            r = 'Otro'\n",
    "    except:\n",
    "        r = 'Otro'\n",
    "    return r\n",
    "\n",
    "groups_df['Nivel Estudio1'] = perfiles_df.apply(group_nivel_estudio, axis=1)"
   ]
  },
  {
   "cell_type": "code",
   "execution_count": null,
   "metadata": {
    "collapsed": true
   },
   "outputs": [],
   "source": [
    "groups_df['Nivel Estudio1'].value_counts()"
   ]
  },
  {
   "cell_type": "markdown",
   "metadata": {
    "collapsed": true
   },
   "source": [
    "#### Área de Estudio1"
   ]
  },
  {
   "cell_type": "code",
   "execution_count": 96,
   "metadata": {
    "collapsed": false
   },
   "outputs": [
    {
     "data": {
      "text/plain": [
       "16"
      ]
     },
     "execution_count": 96,
     "metadata": {},
     "output_type": "execute_result"
    }
   ],
   "source": [
    "groups_df['Área de Estudio1'].nunique()"
   ]
  },
  {
   "cell_type": "code",
   "execution_count": 98,
   "metadata": {
    "collapsed": false
   },
   "outputs": [
    {
     "data": {
      "text/plain": [
       "CTU    17098\n",
       "CIS    15759\n",
       "CTA    10666\n",
       "CTB     1853\n",
       "CEM     1602\n",
       "CTF     1121\n",
       "CTI     1018\n",
       "CIP      339\n",
       "CTC      302\n",
       "CE1      216\n",
       "CIN      130\n",
       "CSU       92\n",
       "CIV       68\n",
       "CE2        6\n",
       "CML        2\n",
       "           2\n",
       "Name: CATEG, dtype: int64"
      ]
     },
     "execution_count": 98,
     "metadata": {},
     "output_type": "execute_result"
    }
   ],
   "source": [
    "groups_df['Área de Estudio1'].value_counts()"
   ]
  },
  {
   "cell_type": "code",
   "execution_count": 12,
   "metadata": {
    "collapsed": false
   },
   "outputs": [
    {
     "data": {
      "text/plain": [
       "16"
      ]
     },
     "execution_count": 12,
     "metadata": {},
     "output_type": "execute_result"
    }
   ],
   "source": [
    "groups_df[groups_df['Área de Estudio1'] == '']['Área de Estudio1'].count()"
   ]
  },
  {
   "cell_type": "code",
   "execution_count": 13,
   "metadata": {
    "collapsed": false
   },
   "outputs": [
    {
     "data": {
      "text/plain": [
       "50256"
      ]
     },
     "execution_count": 13,
     "metadata": {},
     "output_type": "execute_result"
    }
   ],
   "source": [
    "groups_df.shape[0] - groups_df[groups_df['Área de Estudio1'] == '']['Área de Estudio1'].count()"
   ]
  },
  {
   "cell_type": "code",
   "execution_count": 97,
   "metadata": {
    "collapsed": true
   },
   "outputs": [],
   "source": [
    "groups_df = groups_df[groups_df['Área de Estudio1'] != '']"
   ]
  },
  {
   "cell_type": "code",
   "execution_count": 98,
   "metadata": {
    "collapsed": false
   },
   "outputs": [
    {
     "data": {
      "text/plain": [
       "(44966, 6)"
      ]
     },
     "execution_count": 98,
     "metadata": {},
     "output_type": "execute_result"
    }
   ],
   "source": [
    "groups_df.shape"
   ]
  },
  {
   "cell_type": "code",
   "execution_count": 99,
   "metadata": {
    "collapsed": false
   },
   "outputs": [
    {
     "name": "stdout",
     "output_type": "stream",
     "text": [
      "CPU times: user 1.91 s, sys: 4 ms, total: 1.92 s\n",
      "Wall time: 1.92 s\n"
     ]
    }
   ],
   "source": [
    "%%time\n",
    "\n",
    "c = perfiles_df['Área de Estudio1'].value_counts()\n",
    "\n",
    "def group_area_estudio(x):\n",
    "    e = x['Área de Estudio1']\n",
    "    try:\n",
    "        if c[e] >= 1000:\n",
    "            r = e\n",
    "        else:\n",
    "            r = 'Otro'\n",
    "    except:\n",
    "        r = 'Otro'\n",
    "    return r\n",
    "\n",
    "groups_df['Área de Estudio1'] = perfiles_df.apply(group_area_estudio, axis=1)"
   ]
  },
  {
   "cell_type": "code",
   "execution_count": 52,
   "metadata": {
    "collapsed": false
   },
   "outputs": [
    {
     "data": {
      "text/plain": [
       "50274"
      ]
     },
     "execution_count": 52,
     "metadata": {},
     "output_type": "execute_result"
    }
   ],
   "source": [
    "perfiles_df['Área de Estudio1'].value_counts()"
   ]
  },
  {
   "cell_type": "markdown",
   "metadata": {
    "collapsed": true
   },
   "source": [
    "#### Edad"
   ]
  },
  {
   "cell_type": "code",
   "execution_count": 10,
   "metadata": {
    "collapsed": false
   },
   "outputs": [
    {
     "ename": "TypeError",
     "evalue": "unorderable types: str() > float()",
     "output_type": "error",
     "traceback": [
      "\u001b[0;31m---------------------------------------------------------------------------\u001b[0m",
      "\u001b[0;31mTypeError\u001b[0m                                 Traceback (most recent call last)",
      "\u001b[0;32m<ipython-input-10-0574cb752fd8>\u001b[0m in \u001b[0;36m<module>\u001b[0;34m()\u001b[0m\n\u001b[0;32m----> 1\u001b[0;31m \u001b[0mget_ipython\u001b[0m\u001b[0;34m(\u001b[0m\u001b[0;34m)\u001b[0m\u001b[0;34m.\u001b[0m\u001b[0mrun_cell_magic\u001b[0m\u001b[0;34m(\u001b[0m\u001b[0;34m'time'\u001b[0m\u001b[0;34m,\u001b[0m \u001b[0;34m''\u001b[0m\u001b[0;34m,\u001b[0m \u001b[0;34m\"\\ndef bins_to_labels(bins):\\n    labels = []\\n    labels.append('{}-'.format(bins[1]))\\n    for i in range(1, len(bins) - 2):\\n        labels.append('{}-{}'.format(bins[i]+1, bins[i+1]))\\n    labels.append('{}+'.format(bins[-2]))\\n    return labels\\n\\nbins = [-1, 11, 17, 25, 65, 100]\\nbins = [-1, 15,28,40,50,65, 100]\\nlabels = bins_to_labels(bins)\\n\\ndef calculate_rango(x):\\n    pd.cut(pd.Series(range(101)), bins=bins, labels=labels)\\n\\nperfiles_df['Edad'] = pd.cut(perfiles_df['Edad'], bins=bins, labels=labels)\"\u001b[0m\u001b[0;34m)\u001b[0m\u001b[0;34m\u001b[0m\u001b[0m\n\u001b[0m",
      "\u001b[0;32m/home/antonio/virtualenvs/colombia/lib/python3.4/site-packages/IPython/core/interactiveshell.py\u001b[0m in \u001b[0;36mrun_cell_magic\u001b[0;34m(self, magic_name, line, cell)\u001b[0m\n\u001b[1;32m   2113\u001b[0m             \u001b[0mmagic_arg_s\u001b[0m \u001b[0;34m=\u001b[0m \u001b[0mself\u001b[0m\u001b[0;34m.\u001b[0m\u001b[0mvar_expand\u001b[0m\u001b[0;34m(\u001b[0m\u001b[0mline\u001b[0m\u001b[0;34m,\u001b[0m \u001b[0mstack_depth\u001b[0m\u001b[0;34m)\u001b[0m\u001b[0;34m\u001b[0m\u001b[0m\n\u001b[1;32m   2114\u001b[0m             \u001b[0;32mwith\u001b[0m \u001b[0mself\u001b[0m\u001b[0;34m.\u001b[0m\u001b[0mbuiltin_trap\u001b[0m\u001b[0;34m:\u001b[0m\u001b[0;34m\u001b[0m\u001b[0m\n\u001b[0;32m-> 2115\u001b[0;31m                 \u001b[0mresult\u001b[0m \u001b[0;34m=\u001b[0m \u001b[0mfn\u001b[0m\u001b[0;34m(\u001b[0m\u001b[0mmagic_arg_s\u001b[0m\u001b[0;34m,\u001b[0m \u001b[0mcell\u001b[0m\u001b[0;34m)\u001b[0m\u001b[0;34m\u001b[0m\u001b[0m\n\u001b[0m\u001b[1;32m   2116\u001b[0m             \u001b[0;32mreturn\u001b[0m \u001b[0mresult\u001b[0m\u001b[0;34m\u001b[0m\u001b[0m\n\u001b[1;32m   2117\u001b[0m \u001b[0;34m\u001b[0m\u001b[0m\n",
      "\u001b[0;32m<decorator-gen-59>\u001b[0m in \u001b[0;36mtime\u001b[0;34m(self, line, cell, local_ns)\u001b[0m\n",
      "\u001b[0;32m/home/antonio/virtualenvs/colombia/lib/python3.4/site-packages/IPython/core/magic.py\u001b[0m in \u001b[0;36m<lambda>\u001b[0;34m(f, *a, **k)\u001b[0m\n\u001b[1;32m    186\u001b[0m     \u001b[0;31m# but it's overkill for just that one bit of state.\u001b[0m\u001b[0;34m\u001b[0m\u001b[0;34m\u001b[0m\u001b[0m\n\u001b[1;32m    187\u001b[0m     \u001b[0;32mdef\u001b[0m \u001b[0mmagic_deco\u001b[0m\u001b[0;34m(\u001b[0m\u001b[0marg\u001b[0m\u001b[0;34m)\u001b[0m\u001b[0;34m:\u001b[0m\u001b[0;34m\u001b[0m\u001b[0m\n\u001b[0;32m--> 188\u001b[0;31m         \u001b[0mcall\u001b[0m \u001b[0;34m=\u001b[0m \u001b[0;32mlambda\u001b[0m \u001b[0mf\u001b[0m\u001b[0;34m,\u001b[0m \u001b[0;34m*\u001b[0m\u001b[0ma\u001b[0m\u001b[0;34m,\u001b[0m \u001b[0;34m**\u001b[0m\u001b[0mk\u001b[0m\u001b[0;34m:\u001b[0m \u001b[0mf\u001b[0m\u001b[0;34m(\u001b[0m\u001b[0;34m*\u001b[0m\u001b[0ma\u001b[0m\u001b[0;34m,\u001b[0m \u001b[0;34m**\u001b[0m\u001b[0mk\u001b[0m\u001b[0;34m)\u001b[0m\u001b[0;34m\u001b[0m\u001b[0m\n\u001b[0m\u001b[1;32m    189\u001b[0m \u001b[0;34m\u001b[0m\u001b[0m\n\u001b[1;32m    190\u001b[0m         \u001b[0;32mif\u001b[0m \u001b[0mcallable\u001b[0m\u001b[0;34m(\u001b[0m\u001b[0marg\u001b[0m\u001b[0;34m)\u001b[0m\u001b[0;34m:\u001b[0m\u001b[0;34m\u001b[0m\u001b[0m\n",
      "\u001b[0;32m/home/antonio/virtualenvs/colombia/lib/python3.4/site-packages/IPython/core/magics/execution.py\u001b[0m in \u001b[0;36mtime\u001b[0;34m(self, line, cell, local_ns)\u001b[0m\n\u001b[1;32m   1178\u001b[0m         \u001b[0;32melse\u001b[0m\u001b[0;34m:\u001b[0m\u001b[0;34m\u001b[0m\u001b[0m\n\u001b[1;32m   1179\u001b[0m             \u001b[0mst\u001b[0m \u001b[0;34m=\u001b[0m \u001b[0mclock2\u001b[0m\u001b[0;34m(\u001b[0m\u001b[0;34m)\u001b[0m\u001b[0;34m\u001b[0m\u001b[0m\n\u001b[0;32m-> 1180\u001b[0;31m             \u001b[0mexec\u001b[0m\u001b[0;34m(\u001b[0m\u001b[0mcode\u001b[0m\u001b[0;34m,\u001b[0m \u001b[0mglob\u001b[0m\u001b[0;34m,\u001b[0m \u001b[0mlocal_ns\u001b[0m\u001b[0;34m)\u001b[0m\u001b[0;34m\u001b[0m\u001b[0m\n\u001b[0m\u001b[1;32m   1181\u001b[0m             \u001b[0mend\u001b[0m \u001b[0;34m=\u001b[0m \u001b[0mclock2\u001b[0m\u001b[0;34m(\u001b[0m\u001b[0;34m)\u001b[0m\u001b[0;34m\u001b[0m\u001b[0m\n\u001b[1;32m   1182\u001b[0m             \u001b[0mout\u001b[0m \u001b[0;34m=\u001b[0m \u001b[0;32mNone\u001b[0m\u001b[0;34m\u001b[0m\u001b[0m\n",
      "\u001b[0;32m<timed exec>\u001b[0m in \u001b[0;36m<module>\u001b[0;34m()\u001b[0m\n",
      "\u001b[0;32m/home/antonio/virtualenvs/colombia/lib/python3.4/site-packages/pandas/tools/tile.py\u001b[0m in \u001b[0;36mcut\u001b[0;34m(x, bins, right, labels, retbins, precision, include_lowest)\u001b[0m\n\u001b[1;32m    117\u001b[0m     return _bins_to_cuts(x, bins, right=right, labels=labels,\n\u001b[1;32m    118\u001b[0m                          \u001b[0mretbins\u001b[0m\u001b[0;34m=\u001b[0m\u001b[0mretbins\u001b[0m\u001b[0;34m,\u001b[0m \u001b[0mprecision\u001b[0m\u001b[0;34m=\u001b[0m\u001b[0mprecision\u001b[0m\u001b[0;34m,\u001b[0m\u001b[0;34m\u001b[0m\u001b[0m\n\u001b[0;32m--> 119\u001b[0;31m                          include_lowest=include_lowest)\n\u001b[0m\u001b[1;32m    120\u001b[0m \u001b[0;34m\u001b[0m\u001b[0m\n\u001b[1;32m    121\u001b[0m \u001b[0;34m\u001b[0m\u001b[0m\n",
      "\u001b[0;32m/home/antonio/virtualenvs/colombia/lib/python3.4/site-packages/pandas/tools/tile.py\u001b[0m in \u001b[0;36m_bins_to_cuts\u001b[0;34m(x, bins, right, labels, retbins, precision, name, include_lowest)\u001b[0m\n\u001b[1;32m    189\u001b[0m \u001b[0;34m\u001b[0m\u001b[0m\n\u001b[1;32m    190\u001b[0m     \u001b[0mside\u001b[0m \u001b[0;34m=\u001b[0m \u001b[0;34m'left'\u001b[0m \u001b[0;32mif\u001b[0m \u001b[0mright\u001b[0m \u001b[0;32melse\u001b[0m \u001b[0;34m'right'\u001b[0m\u001b[0;34m\u001b[0m\u001b[0m\n\u001b[0;32m--> 191\u001b[0;31m     \u001b[0mids\u001b[0m \u001b[0;34m=\u001b[0m \u001b[0mbins\u001b[0m\u001b[0;34m.\u001b[0m\u001b[0msearchsorted\u001b[0m\u001b[0;34m(\u001b[0m\u001b[0mx\u001b[0m\u001b[0;34m,\u001b[0m \u001b[0mside\u001b[0m\u001b[0;34m=\u001b[0m\u001b[0mside\u001b[0m\u001b[0;34m)\u001b[0m\u001b[0;34m\u001b[0m\u001b[0m\n\u001b[0m\u001b[1;32m    192\u001b[0m \u001b[0;34m\u001b[0m\u001b[0m\n\u001b[1;32m    193\u001b[0m     \u001b[0;32mif\u001b[0m \u001b[0mlen\u001b[0m\u001b[0;34m(\u001b[0m\u001b[0malgos\u001b[0m\u001b[0;34m.\u001b[0m\u001b[0munique\u001b[0m\u001b[0;34m(\u001b[0m\u001b[0mbins\u001b[0m\u001b[0;34m)\u001b[0m\u001b[0;34m)\u001b[0m \u001b[0;34m<\u001b[0m \u001b[0mlen\u001b[0m\u001b[0;34m(\u001b[0m\u001b[0mbins\u001b[0m\u001b[0;34m)\u001b[0m\u001b[0;34m:\u001b[0m\u001b[0;34m\u001b[0m\u001b[0m\n",
      "\u001b[0;31mTypeError\u001b[0m: unorderable types: str() > float()"
     ]
    }
   ],
   "source": [
    "%%time\n",
    "\n",
    "def bins_to_labels(bins):\n",
    "    labels = []\n",
    "    labels.append('{}-'.format(bins[1]))\n",
    "    for i in range(1, len(bins) - 2):\n",
    "        labels.append('{}-{}'.format(bins[i]+1, bins[i+1]))\n",
    "    labels.append('{}+'.format(bins[-2]))\n",
    "    return labels\n",
    "\n",
    "bins = [-1, 11, 17, 25, 65, 100]\n",
    "bins = [-1, 15,28,40,50,65, 100]\n",
    "labels = bins_to_labels(bins)\n",
    "\n",
    "def calculate_rango(x):\n",
    "    pd.cut(pd.Series(range(101)), bins=bins, labels=labels)\n",
    "\n",
    "perfiles_df['Edad'] = pd.cut(perfiles_df['Edad'], bins=bins, labels=labels)"
   ]
  },
  {
   "cell_type": "code",
   "execution_count": 96,
   "metadata": {
    "collapsed": false
   },
   "outputs": [
    {
     "data": {
      "text/plain": [
       "16"
      ]
     },
     "execution_count": 96,
     "metadata": {},
     "output_type": "execute_result"
    }
   ],
   "source": [
    "perfiles_df['Edad'].nunique()"
   ]
  },
  {
   "cell_type": "code",
   "execution_count": 98,
   "metadata": {
    "collapsed": false
   },
   "outputs": [
    {
     "data": {
      "text/plain": [
       "CTU    17098\n",
       "CIS    15759\n",
       "CTA    10666\n",
       "CTB     1853\n",
       "CEM     1602\n",
       "CTF     1121\n",
       "CTI     1018\n",
       "CIP      339\n",
       "CTC      302\n",
       "CE1      216\n",
       "CIN      130\n",
       "CSU       92\n",
       "CIV       68\n",
       "CE2        6\n",
       "CML        2\n",
       "           2\n",
       "Name: CATEG, dtype: int64"
      ]
     },
     "execution_count": 98,
     "metadata": {},
     "output_type": "execute_result"
    }
   ],
   "source": [
    "perfiles_df['Edad'].value_counts()"
   ]
  },
  {
   "cell_type": "code",
   "execution_count": 97,
   "metadata": {
    "collapsed": true
   },
   "outputs": [],
   "source": [
    "groups_df['Edad'] = perfiles_df['Edad']\n",
    "groups_df = groups_df[groups_df['Edad'] != '']"
   ]
  },
  {
   "cell_type": "code",
   "execution_count": 98,
   "metadata": {
    "collapsed": false
   },
   "outputs": [
    {
     "data": {
      "text/plain": [
       "(44966, 6)"
      ]
     },
     "execution_count": 98,
     "metadata": {},
     "output_type": "execute_result"
    }
   ],
   "source": [
    "groups_df.shape"
   ]
  },
  {
   "cell_type": "code",
   "execution_count": 99,
   "metadata": {
    "collapsed": false
   },
   "outputs": [
    {
     "name": "stdout",
     "output_type": "stream",
     "text": [
      "CPU times: user 1.91 s, sys: 4 ms, total: 1.92 s\n",
      "Wall time: 1.92 s\n"
     ]
    }
   ],
   "source": [
    "%%time\n",
    "\n",
    "c = perfiles_df[Edad'].value_counts()\n",
    "\n",
    "def group_fecha_nacimiento(x):\n",
    "    e = x['Edad']\n",
    "    try:\n",
    "        if c[e] >= 1000:\n",
    "            r = e\n",
    "        else:\n",
    "            r = 'Otro'\n",
    "    except:\n",
    "        r = 'Otro'\n",
    "    return r\n",
    "\n",
    "groups_df['Edad'] = perfiles_df.apply(group_edad, axis=1)"
   ]
  },
  {
   "cell_type": "code",
   "execution_count": 52,
   "metadata": {
    "collapsed": false
   },
   "outputs": [
    {
     "data": {
      "text/plain": [
       "50274"
      ]
     },
     "execution_count": 52,
     "metadata": {},
     "output_type": "execute_result"
    }
   ],
   "source": [
    "perfiles_df['Edad'].count()"
   ]
  },
  {
   "cell_type": "code",
   "execution_count": null,
   "metadata": {
    "collapsed": true
   },
   "outputs": [],
   "source": []
  },
  {
   "cell_type": "code",
   "execution_count": null,
   "metadata": {
    "collapsed": true
   },
   "outputs": [],
   "source": []
  },
  {
   "cell_type": "code",
   "execution_count": 100,
   "metadata": {
    "collapsed": false
   },
   "outputs": [
    {
     "data": {
      "text/html": [
       "<div>\n",
       "<table border=\"1\" class=\"dataframe\">\n",
       "  <thead>\n",
       "    <tr style=\"text-align: right;\">\n",
       "      <th></th>\n",
       "      <th>CODBAR</th>\n",
       "      <th>Sucursal</th>\n",
       "      <th>Tratamiento</th>\n",
       "      <th>Ciudad</th>\n",
       "      <th>CATEG</th>\n",
       "    </tr>\n",
       "  </thead>\n",
       "  <tbody>\n",
       "    <tr>\n",
       "      <th>1</th>\n",
       "      <td>88183608</td>\n",
       "      <td>BLAA</td>\n",
       "      <td>sra.</td>\n",
       "      <td>bogota</td>\n",
       "      <td>CEM</td>\n",
       "    </tr>\n",
       "    <tr>\n",
       "      <th>2</th>\n",
       "      <td>88181732</td>\n",
       "      <td>BLAA</td>\n",
       "      <td>sra.</td>\n",
       "      <td>bogota</td>\n",
       "      <td>CEM</td>\n",
       "    </tr>\n",
       "    <tr>\n",
       "      <th>3</th>\n",
       "      <td>88182347</td>\n",
       "      <td>Otra</td>\n",
       "      <td>sr.</td>\n",
       "      <td>Otro</td>\n",
       "      <td>CEM</td>\n",
       "    </tr>\n",
       "    <tr>\n",
       "      <th>4</th>\n",
       "      <td>88181284</td>\n",
       "      <td>BLAA</td>\n",
       "      <td>sr.</td>\n",
       "      <td>bogota</td>\n",
       "      <td>CEM</td>\n",
       "    </tr>\n",
       "    <tr>\n",
       "      <th>6</th>\n",
       "      <td>88183786</td>\n",
       "      <td>BLAA</td>\n",
       "      <td>sr.</td>\n",
       "      <td>bogota</td>\n",
       "      <td>CEM</td>\n",
       "    </tr>\n",
       "  </tbody>\n",
       "</table>\n",
       "</div>"
      ],
      "text/plain": [
       "     CODBAR Sucursal Tratamiento  Ciudad CATEG\n",
       "1  88183608     BLAA        sra.  bogota   CEM\n",
       "2  88181732     BLAA        sra.  bogota   CEM\n",
       "3  88182347     Otra         sr.    Otro   CEM\n",
       "4  88181284     BLAA         sr.  bogota   CEM\n",
       "6  88183786     BLAA         sr.  bogota   CEM"
      ]
     },
     "execution_count": 100,
     "metadata": {},
     "output_type": "execute_result"
    }
   ],
   "source": [
    "groups_df.head()"
   ]
  },
  {
   "cell_type": "code",
   "execution_count": 50,
   "metadata": {
    "collapsed": false
   },
   "outputs": [
    {
     "name": "stdout",
     "output_type": "stream",
     "text": [
      "('BLAA  ', 24278)\n"
     ]
    }
   ],
   "source": [
    "for e, c in perfiles_df['Sucursal'].value_counts().iteritems():\n",
    "    if c >= 1000:\n",
    "        groups_df[]"
   ]
  },
  {
   "cell_type": "markdown",
   "metadata": {
    "collapsed": true
   },
   "source": [
    "#### Tratamiento"
   ]
  },
  {
   "cell_type": "code",
   "execution_count": 29,
   "metadata": {
    "collapsed": false
   },
   "outputs": [
    {
     "data": {
      "text/plain": [
       "5"
      ]
     },
     "execution_count": 29,
     "metadata": {},
     "output_type": "execute_result"
    }
   ],
   "source": [
    "perfiles_df['Tratamiento'].nunique()"
   ]
  },
  {
   "cell_type": "code",
   "execution_count": 30,
   "metadata": {
    "collapsed": false
   },
   "outputs": [
    {
     "data": {
      "text/plain": [
       "sr.          22505\n",
       "sra.         22341\n",
       "              4997\n",
       "otra inf.      392\n",
       "inst            39\n",
       "Name: Tratamiento, dtype: int64"
      ]
     },
     "execution_count": 30,
     "metadata": {},
     "output_type": "execute_result"
    }
   ],
   "source": [
    "perfiles_df['Tratamiento'].value_counts()"
   ]
  },
  {
   "cell_type": "code",
   "execution_count": null,
   "metadata": {
    "collapsed": true
   },
   "outputs": [],
   "source": []
  },
  {
   "cell_type": "code",
   "execution_count": null,
   "metadata": {
    "collapsed": true
   },
   "outputs": [],
   "source": []
  },
  {
   "cell_type": "code",
   "execution_count": null,
   "metadata": {
    "collapsed": true
   },
   "outputs": [],
   "source": [
    "%%time\n",
    "\n",
    "def bins_to_labels(bins):\n",
    "    labels = []\n",
    "    labels.append('{}-'.format(bins[1]))\n",
    "    for i in range(1, len(bins) - 2):\n",
    "        labels.append('{}-{}'.format(bins[i]+1, bins[i+1]))\n",
    "    labels.append('{}+'.format(bins[-2]))\n",
    "    return labels\n",
    "\n",
    "bins = [-1, 11, 17, 25, 65, 1000]\n",
    "bins = [-1, 15,28,40,50,65, 1000]\n",
    "labels = bins_to_labels(bins)\n",
    "\n",
    "def calculate_rango(x):\n",
    "    pd.cut(pd.Series(range(101)), bins=bins, labels=labels)\n",
    "\n",
    "perfiles_df['Rango'] = pd.cut(perfiles_df['Edad'], bins=bins, labels=labels)"
   ]
  },
  {
   "cell_type": "code",
   "execution_count": null,
   "metadata": {
    "collapsed": true
   },
   "outputs": [],
   "source": [
    "perfiles_df['Rango'].value_counts()"
   ]
  },
  {
   "cell_type": "code",
   "execution_count": null,
   "metadata": {
    "collapsed": true
   },
   "outputs": [],
   "source": [
    "perfiles_df['Edad'].value_counts()"
   ]
  },
  {
   "cell_type": "code",
   "execution_count": null,
   "metadata": {
    "collapsed": true
   },
   "outputs": [],
   "source": []
  },
  {
   "cell_type": "code",
   "execution_count": null,
   "metadata": {
    "collapsed": true
   },
   "outputs": [],
   "source": []
  },
  {
   "cell_type": "code",
   "execution_count": null,
   "metadata": {
    "collapsed": true
   },
   "outputs": [],
   "source": []
  }
 ],
 "metadata": {
  "kernelspec": {
   "display_name": "Python 3",
   "language": "python",
   "name": "python3"
  },
  "language_info": {
   "codemirror_mode": {
    "name": "ipython",
    "version": 3
   },
   "file_extension": ".py",
   "mimetype": "text/x-python",
   "name": "python",
   "nbconvert_exporter": "python",
   "pygments_lexer": "ipython3",
   "version": "3.4.3"
  }
 },
 "nbformat": 4,
 "nbformat_minor": 1
}
