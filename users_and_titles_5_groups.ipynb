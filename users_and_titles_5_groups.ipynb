{
 "cells": [
  {
   "cell_type": "markdown",
   "metadata": {},
   "source": [
    "# Usuarios y títulos"
   ]
  },
  {
   "cell_type": "code",
   "execution_count": 1,
   "metadata": {
    "collapsed": true
   },
   "outputs": [],
   "source": [
    "import ast\n",
    "import csv\n",
    "import itertools\n",
    "import os\n",
    "import re\n",
    "from collections import Counter\n",
    "from collections import defaultdict\n",
    "from datetime import datetime\n",
    "from datetime import timedelta\n",
    "from string import punctuation\n",
    "\n",
    "import matplotlib\n",
    "import numpy as np\n",
    "import pandas as pd\n",
    "import seaborn as sns\n",
    "from matplotlib import pyplot as plt\n",
    "from pandas.tslib import Timestamp"
   ]
  },
  {
   "cell_type": "markdown",
   "metadata": {},
   "source": [
    "## Préstamos"
   ]
  },
  {
   "cell_type": "code",
   "execution_count": 2,
   "metadata": {
    "collapsed": false
   },
   "outputs": [
    {
     "name": "stdout",
     "output_type": "stream",
     "text": [
      "CPU times: user 1.41 s, sys: 67.4 ms, total: 1.47 s\n",
      "Wall time: 1.47 s\n"
     ]
    }
   ],
   "source": [
    "%%time\n",
    "\n",
    "merge_df = pd.read_csv('merge.csv', header=0)\n",
    "merge_df = merge_df.fillna('')"
   ]
  },
  {
   "cell_type": "code",
   "execution_count": 3,
   "metadata": {
    "collapsed": false
   },
   "outputs": [
    {
     "data": {
      "text/plain": [
       "(516206, 12)"
      ]
     },
     "execution_count": 3,
     "metadata": {},
     "output_type": "execute_result"
    }
   ],
   "source": [
    "merge_df.shape"
   ]
  },
  {
   "cell_type": "code",
   "execution_count": 4,
   "metadata": {
    "collapsed": false
   },
   "outputs": [
    {
     "data": {
      "text/html": [
       "<div>\n",
       "<table border=\"1\" class=\"dataframe\">\n",
       "  <thead>\n",
       "    <tr style=\"text-align: right;\">\n",
       "      <th></th>\n",
       "      <th>TITULO</th>\n",
       "      <th>AUTOR</th>\n",
       "      <th>DEWEY</th>\n",
       "      <th>FECHA_PUB</th>\n",
       "      <th>PAIS_EJEMPLAR</th>\n",
       "      <th>COD_BARRAS_LECTOR</th>\n",
       "      <th>CODBAR</th>\n",
       "      <th>Sucursal</th>\n",
       "      <th>Tratamiento</th>\n",
       "      <th>Edad</th>\n",
       "      <th>Ciudad</th>\n",
       "      <th>Rango_edad</th>\n",
       "    </tr>\n",
       "  </thead>\n",
       "  <tbody>\n",
       "    <tr>\n",
       "      <th>0</th>\n",
       "      <td>Johannes Gutenberg</td>\n",
       "      <td>Borràs Perelló, Lluís.</td>\n",
       "      <td>925</td>\n",
       "      <td>2010</td>\n",
       "      <td>Spain</td>\n",
       "      <td>88007424</td>\n",
       "      <td>88007424</td>\n",
       "      <td>ARM</td>\n",
       "      <td>sr.</td>\n",
       "      <td>43</td>\n",
       "      <td>Armenia</td>\n",
       "      <td>40-49</td>\n",
       "    </tr>\n",
       "    <tr>\n",
       "      <th>1</th>\n",
       "      <td>Genealogía de una bruja</td>\n",
       "      <td>Lacombe, Benjamin, 1982-</td>\n",
       "      <td>843</td>\n",
       "      <td>2009</td>\n",
       "      <td>Spain</td>\n",
       "      <td>88007424</td>\n",
       "      <td>88007424</td>\n",
       "      <td>ARM</td>\n",
       "      <td>sr.</td>\n",
       "      <td>43</td>\n",
       "      <td>Armenia</td>\n",
       "      <td>40-49</td>\n",
       "    </tr>\n",
       "    <tr>\n",
       "      <th>2</th>\n",
       "      <td>La independencia de Colombia : así fue</td>\n",
       "      <td>Vasco, Irene, 1952-</td>\n",
       "      <td>986</td>\n",
       "      <td>2009</td>\n",
       "      <td>Colombia</td>\n",
       "      <td>88007424</td>\n",
       "      <td>88007424</td>\n",
       "      <td>ARM</td>\n",
       "      <td>sr.</td>\n",
       "      <td>43</td>\n",
       "      <td>Armenia</td>\n",
       "      <td>40-49</td>\n",
       "    </tr>\n",
       "    <tr>\n",
       "      <th>3</th>\n",
       "      <td>Maravillas del mundo</td>\n",
       "      <td>Steele, Philip.</td>\n",
       "      <td>910</td>\n",
       "      <td>2007</td>\n",
       "      <td>Mexico</td>\n",
       "      <td>88007424</td>\n",
       "      <td>88007424</td>\n",
       "      <td>ARM</td>\n",
       "      <td>sr.</td>\n",
       "      <td>43</td>\n",
       "      <td>Armenia</td>\n",
       "      <td>40-49</td>\n",
       "    </tr>\n",
       "    <tr>\n",
       "      <th>4</th>\n",
       "      <td>No te gustaría ser un adivino maya</td>\n",
       "      <td>Matthews, Rupert.</td>\n",
       "      <td>972</td>\n",
       "      <td>2008</td>\n",
       "      <td>Colombia</td>\n",
       "      <td>88007424</td>\n",
       "      <td>88007424</td>\n",
       "      <td>ARM</td>\n",
       "      <td>sr.</td>\n",
       "      <td>43</td>\n",
       "      <td>Armenia</td>\n",
       "      <td>40-49</td>\n",
       "    </tr>\n",
       "  </tbody>\n",
       "</table>\n",
       "</div>"
      ],
      "text/plain": [
       "                                   TITULO                     AUTOR DEWEY  \\\n",
       "0                      Johannes Gutenberg    Borràs Perelló, Lluís.   925   \n",
       "1                 Genealogía de una bruja  Lacombe, Benjamin, 1982-   843   \n",
       "2  La independencia de Colombia : así fue       Vasco, Irene, 1952-   986   \n",
       "3                    Maravillas del mundo           Steele, Philip.   910   \n",
       "4      No te gustaría ser un adivino maya         Matthews, Rupert.   972   \n",
       "\n",
       "   FECHA_PUB PAIS_EJEMPLAR  COD_BARRAS_LECTOR    CODBAR Sucursal Tratamiento  \\\n",
       "0       2010         Spain           88007424  88007424      ARM         sr.   \n",
       "1       2009         Spain           88007424  88007424      ARM         sr.   \n",
       "2       2009      Colombia           88007424  88007424      ARM         sr.   \n",
       "3       2007        Mexico           88007424  88007424      ARM         sr.   \n",
       "4       2008      Colombia           88007424  88007424      ARM         sr.   \n",
       "\n",
       "   Edad   Ciudad Rango_edad  \n",
       "0    43  Armenia      40-49  \n",
       "1    43  Armenia      40-49  \n",
       "2    43  Armenia      40-49  \n",
       "3    43  Armenia      40-49  \n",
       "4    43  Armenia      40-49  "
      ]
     },
     "execution_count": 4,
     "metadata": {},
     "output_type": "execute_result"
    }
   ],
   "source": [
    "merge_df.head()"
   ]
  },
  {
   "cell_type": "markdown",
   "metadata": {},
   "source": [
    "## Thresholds"
   ]
  },
  {
   "cell_type": "code",
   "execution_count": 5,
   "metadata": {
    "collapsed": true
   },
   "outputs": [],
   "source": [
    "THRESHOLD_GROUPS = 100"
   ]
  },
  {
   "cell_type": "code",
   "execution_count": 6,
   "metadata": {
    "collapsed": true
   },
   "outputs": [],
   "source": [
    "THRESHOLD_TITLES = 5"
   ]
  },
  {
   "cell_type": "code",
   "execution_count": 35,
   "metadata": {
    "collapsed": true
   },
   "outputs": [],
   "source": [
    "TOP = 10"
   ]
  },
  {
   "cell_type": "markdown",
   "metadata": {},
   "source": [
    "## Groups"
   ]
  },
  {
   "cell_type": "code",
   "execution_count": 8,
   "metadata": {
    "collapsed": true
   },
   "outputs": [],
   "source": [
    "group_count_sr = merge_df.groupby(['Ciudad', 'Tratamiento', 'Rango_edad']).CODBAR.count()"
   ]
  },
  {
   "cell_type": "code",
   "execution_count": 9,
   "metadata": {
    "collapsed": false
   },
   "outputs": [
    {
     "data": {
      "text/plain": [
       "333"
      ]
     },
     "execution_count": 9,
     "metadata": {},
     "output_type": "execute_result"
    }
   ],
   "source": [
    "len(group_count_sr)"
   ]
  },
  {
   "cell_type": "code",
   "execution_count": 10,
   "metadata": {
    "collapsed": false
   },
   "outputs": [],
   "source": [
    "filtered_group_count_sr = group_count_sr.sort_values(ascending=False)[lambda x: x >= THRESHOLD_GROUPS]"
   ]
  },
  {
   "cell_type": "code",
   "execution_count": 11,
   "metadata": {
    "collapsed": false
   },
   "outputs": [
    {
     "data": {
      "text/plain": [
       "245"
      ]
     },
     "execution_count": 11,
     "metadata": {},
     "output_type": "execute_result"
    }
   ],
   "source": [
    "len(filtered_group_count_sr)"
   ]
  },
  {
   "cell_type": "code",
   "execution_count": 12,
   "metadata": {
    "collapsed": false
   },
   "outputs": [
    {
     "data": {
      "text/plain": [
       "Ciudad  Tratamiento  Rango_edad\n",
       "Bogotá  sr.          18-29         46986\n",
       "        sra.         18-29         42716\n",
       "        sr.          30-39         31544\n",
       "Tunja   sra.         -17           26232\n",
       "Bogotá  sra.         30-39         22022\n",
       "Name: CODBAR, dtype: int64"
      ]
     },
     "execution_count": 12,
     "metadata": {},
     "output_type": "execute_result"
    }
   ],
   "source": [
    "filtered_group_count_sr.head()"
   ]
  },
  {
   "cell_type": "markdown",
   "metadata": {},
   "source": [
    "## Titles"
   ]
  },
  {
   "cell_type": "code",
   "execution_count": 13,
   "metadata": {
    "collapsed": true
   },
   "outputs": [],
   "source": [
    "title_count_sr = merge_df.groupby(['Ciudad', 'Tratamiento', 'Rango_edad', 'TITULO']).CODBAR.count()"
   ]
  },
  {
   "cell_type": "code",
   "execution_count": 14,
   "metadata": {
    "collapsed": false
   },
   "outputs": [
    {
     "data": {
      "text/plain": [
       "321402"
      ]
     },
     "execution_count": 14,
     "metadata": {},
     "output_type": "execute_result"
    }
   ],
   "source": [
    "len(title_count_sr)"
   ]
  },
  {
   "cell_type": "code",
   "execution_count": 15,
   "metadata": {
    "collapsed": false
   },
   "outputs": [],
   "source": [
    "filtered_title_count_sr = title_count_sr.sort_values(ascending=False)[lambda x: x >= THRESHOLD_TITLES]"
   ]
  },
  {
   "cell_type": "code",
   "execution_count": 16,
   "metadata": {
    "collapsed": false
   },
   "outputs": [
    {
     "data": {
      "text/plain": [
       "12853"
      ]
     },
     "execution_count": 16,
     "metadata": {},
     "output_type": "execute_result"
    }
   ],
   "source": [
    "len(filtered_title_count_sr)"
   ]
  },
  {
   "cell_type": "code",
   "execution_count": 17,
   "metadata": {
    "collapsed": false
   },
   "outputs": [
    {
     "data": {
      "text/plain": [
       "Ciudad  Tratamiento  Rango_edad  TITULO                             \n",
       "Bogotá  sr.          18-29       Obras completas                        118\n",
       "        sra.         18-29       Obras completas                         72\n",
       "        sr.          30-39       Obras completas                         67\n",
       "Neiva   sr.          18-29       Principios de anatomía y fisiología     60\n",
       "Tunja   sra.         -17         Orejitas                                54\n",
       "Name: CODBAR, dtype: int64"
      ]
     },
     "execution_count": 17,
     "metadata": {},
     "output_type": "execute_result"
    }
   ],
   "source": [
    "filtered_title_count_sr.head()"
   ]
  },
  {
   "cell_type": "markdown",
   "metadata": {},
   "source": [
    "## Count"
   ]
  },
  {
   "cell_type": "code",
   "execution_count": 18,
   "metadata": {
    "collapsed": true
   },
   "outputs": [],
   "source": [
    "ciudades = merge_df.Ciudad.unique()\n",
    "tratamientos = merge_df.Tratamiento.unique()\n",
    "rangos_edades = merge_df.Rango_edad.unique()"
   ]
  },
  {
   "cell_type": "code",
   "execution_count": 36,
   "metadata": {
    "collapsed": false
   },
   "outputs": [
    {
     "name": "stdout",
     "output_type": "stream",
     "text": [
      "CPU times: user 562 ms, sys: 0 ns, total: 562 ms\n",
      "Wall time: 562 ms\n"
     ]
    }
   ],
   "source": [
    "%%time\n",
    "\n",
    "indexes = []\n",
    "for ciudad in ciudades:\n",
    "    for tratamiento in tratamientos:\n",
    "        for rango_edad in rangos_edades:\n",
    "            try:\n",
    "                index = (ciudad, tratamiento, rango_edad)\n",
    "                if index in group_count_sr:\n",
    "                    sr = title_count_sr[index]\n",
    "                    sorted_sr = sr.sort_values(ascending=False).head(TOP)\n",
    "                    for title in sorted_sr.index:\n",
    "                        indexes.append(index + (title,))\n",
    "            except:\n",
    "                pass"
   ]
  },
  {
   "cell_type": "code",
   "execution_count": 37,
   "metadata": {
    "collapsed": true
   },
   "outputs": [],
   "source": [
    "selected_title_count_sr = title_count_sr[indexes]"
   ]
  },
  {
   "cell_type": "code",
   "execution_count": 39,
   "metadata": {
    "collapsed": true
   },
   "outputs": [],
   "source": [
    "selected_title_count_df = pd.DataFrame(selected_title_count_sr)"
   ]
  },
  {
   "cell_type": "code",
   "execution_count": 40,
   "metadata": {
    "collapsed": false
   },
   "outputs": [
    {
     "name": "stdout",
     "output_type": "stream",
     "text": [
      "CPU times: user 304 ms, sys: 31 µs, total: 304 ms\n",
      "Wall time: 302 ms\n"
     ]
    }
   ],
   "source": [
    "%%time\n",
    "\n",
    "def process_group_count(x):\n",
    "    index = x.name[:3]\n",
    "    count = group_count_sr[index]\n",
    "    return count\n",
    "\n",
    "selected_title_count_df['Cuenta_grupo'] = selected_title_count_df.apply(process_group_count, axis=1)\n",
    "selected_title_count_df = selected_title_count_df.rename(columns={'CODBAR': 'Cuenta_titulo'})"
   ]
  },
  {
   "cell_type": "code",
   "execution_count": 42,
   "metadata": {
    "collapsed": false
   },
   "outputs": [
    {
     "data": {
      "text/html": [
       "<div>\n",
       "<table border=\"1\" class=\"dataframe\">\n",
       "  <thead>\n",
       "    <tr style=\"text-align: right;\">\n",
       "      <th></th>\n",
       "      <th></th>\n",
       "      <th></th>\n",
       "      <th></th>\n",
       "      <th>Cuenta_titulo</th>\n",
       "      <th>Cuenta_grupo</th>\n",
       "    </tr>\n",
       "    <tr>\n",
       "      <th>Ciudad</th>\n",
       "      <th>Tratamiento</th>\n",
       "      <th>Rango_edad</th>\n",
       "      <th>TITULO</th>\n",
       "      <th></th>\n",
       "      <th></th>\n",
       "    </tr>\n",
       "  </thead>\n",
       "  <tbody>\n",
       "    <tr>\n",
       "      <th rowspan=\"30\" valign=\"top\">Armenia</th>\n",
       "      <th rowspan=\"30\" valign=\"top\">sr.</th>\n",
       "      <th rowspan=\"10\" valign=\"top\">40-49</th>\n",
       "      <th>Que nos tengan en cuenta : colonos, empresarios y aldeas Col</th>\n",
       "      <td>4</td>\n",
       "      <td>623</td>\n",
       "    </tr>\n",
       "    <tr>\n",
       "      <th>El hombre duplicado</th>\n",
       "      <td>4</td>\n",
       "      <td>623</td>\n",
       "    </tr>\n",
       "    <tr>\n",
       "      <th>Los secretos de las obras de arte</th>\n",
       "      <td>3</td>\n",
       "      <td>623</td>\n",
       "    </tr>\n",
       "    <tr>\n",
       "      <th>Colonización y protesta campesina en Colombia (1850-1950)</th>\n",
       "      <td>3</td>\n",
       "      <td>623</td>\n",
       "    </tr>\n",
       "    <tr>\n",
       "      <th>El Conde de Montecristo</th>\n",
       "      <td>3</td>\n",
       "      <td>623</td>\n",
       "    </tr>\n",
       "    <tr>\n",
       "      <th>Desvíos de lo real : el cine de no ficción</th>\n",
       "      <td>3</td>\n",
       "      <td>623</td>\n",
       "    </tr>\n",
       "    <tr>\n",
       "      <th>Luis Vidales y la crítica de arte en Colombia</th>\n",
       "      <td>3</td>\n",
       "      <td>623</td>\n",
       "    </tr>\n",
       "    <tr>\n",
       "      <th>El principito</th>\n",
       "      <td>3</td>\n",
       "      <td>623</td>\n",
       "    </tr>\n",
       "    <tr>\n",
       "      <th>Distribución en planta</th>\n",
       "      <td>2</td>\n",
       "      <td>623</td>\n",
       "    </tr>\n",
       "    <tr>\n",
       "      <th>El blog de Luis Sepúlveda</th>\n",
       "      <td>2</td>\n",
       "      <td>623</td>\n",
       "    </tr>\n",
       "    <tr>\n",
       "      <th rowspan=\"10\" valign=\"top\">-17</th>\n",
       "      <th>Calvin y hobbes</th>\n",
       "      <td>15</td>\n",
       "      <td>2793</td>\n",
       "    </tr>\n",
       "    <tr>\n",
       "      <th>Vuelo 714 para Sidney</th>\n",
       "      <td>13</td>\n",
       "      <td>2793</td>\n",
       "    </tr>\n",
       "    <tr>\n",
       "      <th>Tiranosaurio : lagarto tirano</th>\n",
       "      <td>11</td>\n",
       "      <td>2793</td>\n",
       "    </tr>\n",
       "    <tr>\n",
       "      <th>Los cigarros del faraón</th>\n",
       "      <td>11</td>\n",
       "      <td>2793</td>\n",
       "    </tr>\n",
       "    <tr>\n",
       "      <th>¿Dónde está Wally?</th>\n",
       "      <td>11</td>\n",
       "      <td>2793</td>\n",
       "    </tr>\n",
       "    <tr>\n",
       "      <th>El templo del sol</th>\n",
       "      <td>10</td>\n",
       "      <td>2793</td>\n",
       "    </tr>\n",
       "    <tr>\n",
       "      <th>Encuentra los animales.</th>\n",
       "      <td>10</td>\n",
       "      <td>2793</td>\n",
       "    </tr>\n",
       "    <tr>\n",
       "      <th>Gandhi</th>\n",
       "      <td>10</td>\n",
       "      <td>2793</td>\n",
       "    </tr>\n",
       "    <tr>\n",
       "      <th>Un cuento bilingüe para cada día = A bilingual story for eve</th>\n",
       "      <td>10</td>\n",
       "      <td>2793</td>\n",
       "    </tr>\n",
       "    <tr>\n",
       "      <th>Tintin en América</th>\n",
       "      <td>9</td>\n",
       "      <td>2793</td>\n",
       "    </tr>\n",
       "    <tr>\n",
       "      <th rowspan=\"10\" valign=\"top\">30-39</th>\n",
       "      <th>La magia de la plastilina</th>\n",
       "      <td>7</td>\n",
       "      <td>303</td>\n",
       "    </tr>\n",
       "    <tr>\n",
       "      <th>Pensar sistémico : una introducción al pensamiento sistémico</th>\n",
       "      <td>5</td>\n",
       "      <td>303</td>\n",
       "    </tr>\n",
       "    <tr>\n",
       "      <th>Mi PC : actualización, configuración, mantenimiento y repara</th>\n",
       "      <td>4</td>\n",
       "      <td>303</td>\n",
       "    </tr>\n",
       "    <tr>\n",
       "      <th>La gestión de la tecnología : elementos fundamentales y la t</th>\n",
       "      <td>3</td>\n",
       "      <td>303</td>\n",
       "    </tr>\n",
       "    <tr>\n",
       "      <th>El inventor de mamás</th>\n",
       "      <td>3</td>\n",
       "      <td>303</td>\n",
       "    </tr>\n",
       "    <tr>\n",
       "      <th>El río : exploraciones y descubrimientos en la selva amazóni</th>\n",
       "      <td>3</td>\n",
       "      <td>303</td>\n",
       "    </tr>\n",
       "    <tr>\n",
       "      <th>The avengers</th>\n",
       "      <td>3</td>\n",
       "      <td>303</td>\n",
       "    </tr>\n",
       "    <tr>\n",
       "      <th>Los increibles</th>\n",
       "      <td>3</td>\n",
       "      <td>303</td>\n",
       "    </tr>\n",
       "    <tr>\n",
       "      <th>Las mil y una noches</th>\n",
       "      <td>3</td>\n",
       "      <td>303</td>\n",
       "    </tr>\n",
       "    <tr>\n",
       "      <th>Actualización, mantenimiento y solución de problemas de PC's</th>\n",
       "      <td>3</td>\n",
       "      <td>303</td>\n",
       "    </tr>\n",
       "    <tr>\n",
       "      <th>...</th>\n",
       "      <th>...</th>\n",
       "      <th>...</th>\n",
       "      <th>...</th>\n",
       "      <td>...</td>\n",
       "      <td>...</td>\n",
       "    </tr>\n",
       "    <tr>\n",
       "      <th rowspan=\"30\" valign=\"top\">Honda</th>\n",
       "      <th rowspan=\"30\" valign=\"top\">sra.</th>\n",
       "      <th rowspan=\"10\" valign=\"top\">50-64</th>\n",
       "      <th>American english : Curso de inglés.</th>\n",
       "      <td>4</td>\n",
       "      <td>53</td>\n",
       "    </tr>\n",
       "    <tr>\n",
       "      <th>El cuerpo humano</th>\n",
       "      <td>4</td>\n",
       "      <td>53</td>\n",
       "    </tr>\n",
       "    <tr>\n",
       "      <th>Algebra : con gráficos y 6523 ejercicios y problemas con res</th>\n",
       "      <td>3</td>\n",
       "      <td>53</td>\n",
       "    </tr>\n",
       "    <tr>\n",
       "      <th>Breve historia de la educación</th>\n",
       "      <td>3</td>\n",
       "      <td>53</td>\n",
       "    </tr>\n",
       "    <tr>\n",
       "      <th>Los modelos pedagógicos</th>\n",
       "      <td>3</td>\n",
       "      <td>53</td>\n",
       "    </tr>\n",
       "    <tr>\n",
       "      <th>Lo máximo del vallenato joven Jorge Celedón, Silvestre Dango</th>\n",
       "      <td>3</td>\n",
       "      <td>53</td>\n",
       "    </tr>\n",
       "    <tr>\n",
       "      <th>Cuerpo humano</th>\n",
       "      <td>2</td>\n",
       "      <td>53</td>\n",
       "    </tr>\n",
       "    <tr>\n",
       "      <th>Bolt un perro fuera de serie</th>\n",
       "      <td>2</td>\n",
       "      <td>53</td>\n",
       "    </tr>\n",
       "    <tr>\n",
       "      <th>Derechos fundamentales</th>\n",
       "      <td>2</td>\n",
       "      <td>53</td>\n",
       "    </tr>\n",
       "    <tr>\n",
       "      <th>Forrest Gump</th>\n",
       "      <td>2</td>\n",
       "      <td>53</td>\n",
       "    </tr>\n",
       "    <tr>\n",
       "      <th rowspan=\"10\" valign=\"top\">+65</th>\n",
       "      <th>Historia del pensamiento filosófico y científico</th>\n",
       "      <td>12</td>\n",
       "      <td>65</td>\n",
       "    </tr>\n",
       "    <tr>\n",
       "      <th>Las zapatillas rojas</th>\n",
       "      <td>3</td>\n",
       "      <td>65</td>\n",
       "    </tr>\n",
       "    <tr>\n",
       "      <th>La flauta mágica</th>\n",
       "      <td>3</td>\n",
       "      <td>65</td>\n",
       "    </tr>\n",
       "    <tr>\n",
       "      <th>Leviatán</th>\n",
       "      <td>2</td>\n",
       "      <td>65</td>\n",
       "    </tr>\n",
       "    <tr>\n",
       "      <th>Romanticidio</th>\n",
       "      <td>2</td>\n",
       "      <td>65</td>\n",
       "    </tr>\n",
       "    <tr>\n",
       "      <th>La psicología de la inteligencia</th>\n",
       "      <td>2</td>\n",
       "      <td>65</td>\n",
       "    </tr>\n",
       "    <tr>\n",
       "      <th>Promoción de la lectura en la biblioteca y en el aula</th>\n",
       "      <td>2</td>\n",
       "      <td>65</td>\n",
       "    </tr>\n",
       "    <tr>\n",
       "      <th>Paranormal Colombia : (al filo de lo real)</th>\n",
       "      <td>2</td>\n",
       "      <td>65</td>\n",
       "    </tr>\n",
       "    <tr>\n",
       "      <th>Metodología común para explorar y medir el comportamiento le</th>\n",
       "      <td>2</td>\n",
       "      <td>65</td>\n",
       "    </tr>\n",
       "    <tr>\n",
       "      <th>Formación de lectores : escuela, biblioteca pública y biblio</th>\n",
       "      <td>2</td>\n",
       "      <td>65</td>\n",
       "    </tr>\n",
       "    <tr>\n",
       "      <th rowspan=\"10\" valign=\"top\">18-29</th>\n",
       "      <th>Taller y técnicas del pan : panes especiales y de fantasía,</th>\n",
       "      <td>4</td>\n",
       "      <td>143</td>\n",
       "    </tr>\n",
       "    <tr>\n",
       "      <th>Administración financiera : fundamentos y aplicaciones</th>\n",
       "      <td>3</td>\n",
       "      <td>143</td>\n",
       "    </tr>\n",
       "    <tr>\n",
       "      <th>El poder del ahora : un camino hacia la realización espiritu</th>\n",
       "      <td>3</td>\n",
       "      <td>143</td>\n",
       "    </tr>\n",
       "    <tr>\n",
       "      <th>Aprender jugando : propuestas didácticas para educación prim</th>\n",
       "      <td>3</td>\n",
       "      <td>143</td>\n",
       "    </tr>\n",
       "    <tr>\n",
       "      <th>El rincón del juego : 3 años</th>\n",
       "      <td>3</td>\n",
       "      <td>143</td>\n",
       "    </tr>\n",
       "    <tr>\n",
       "      <th>Pruebas psicotécnicas</th>\n",
       "      <td>3</td>\n",
       "      <td>143</td>\n",
       "    </tr>\n",
       "    <tr>\n",
       "      <th>La psicología de la inteligencia</th>\n",
       "      <td>2</td>\n",
       "      <td>143</td>\n",
       "    </tr>\n",
       "    <tr>\n",
       "      <th>Matemáticas básicas</th>\n",
       "      <td>2</td>\n",
       "      <td>143</td>\n",
       "    </tr>\n",
       "    <tr>\n",
       "      <th>El disfraz</th>\n",
       "      <td>2</td>\n",
       "      <td>143</td>\n",
       "    </tr>\n",
       "    <tr>\n",
       "      <th>El rey león</th>\n",
       "      <td>2</td>\n",
       "      <td>143</td>\n",
       "    </tr>\n",
       "  </tbody>\n",
       "</table>\n",
       "<p>3201 rows × 2 columns</p>\n",
       "</div>"
      ],
      "text/plain": [
       "                                                                                   Cuenta_titulo  \\\n",
       "Ciudad  Tratamiento Rango_edad TITULO                                                              \n",
       "Armenia sr.         40-49      Que nos tengan en cuenta : colonos, empresarios...              4   \n",
       "                               El hombre duplicado                                             4   \n",
       "                               Los secretos de las obras de arte                               3   \n",
       "                               Colonización y protesta campesina en Colombia (...              3   \n",
       "                               El Conde de Montecristo                                         3   \n",
       "                               Desvíos de lo real : el cine de no ficción                      3   \n",
       "                               Luis Vidales y la crítica de arte en Colombia                   3   \n",
       "                               El principito                                                   3   \n",
       "                               Distribución en planta                                          2   \n",
       "                               El blog de Luis Sepúlveda                                       2   \n",
       "                    -17        Calvin y hobbes                                                15   \n",
       "                               Vuelo 714 para Sidney                                          13   \n",
       "                               Tiranosaurio : lagarto tirano                                  11   \n",
       "                               Los cigarros del faraón                                        11   \n",
       "                               ¿Dónde está Wally?                                             11   \n",
       "                               El templo del sol                                              10   \n",
       "                               Encuentra los animales.                                        10   \n",
       "                               Gandhi                                                         10   \n",
       "                               Un cuento bilingüe para cada día = A bilingual ...             10   \n",
       "                               Tintin en América                                               9   \n",
       "                    30-39      La magia de la plastilina                                       7   \n",
       "                               Pensar sistémico : una introducción al pensamie...              5   \n",
       "                               Mi PC : actualización, configuración, mantenimi...              4   \n",
       "                               La gestión de la tecnología : elementos fundame...              3   \n",
       "                               El inventor de mamás                                            3   \n",
       "                               El río : exploraciones y descubrimientos en la ...              3   \n",
       "                               The avengers                                                    3   \n",
       "                               Los increibles                                                  3   \n",
       "                               Las mil y una noches                                            3   \n",
       "                               Actualización, mantenimiento y solución de prob...              3   \n",
       "...                                                                                          ...   \n",
       "Honda   sra.        50-64      American english : Curso de inglés.                             4   \n",
       "                               El cuerpo humano                                                4   \n",
       "                               Algebra : con gráficos y 6523 ejercicios y prob...              3   \n",
       "                               Breve historia de la educación                                  3   \n",
       "                               Los modelos pedagógicos                                         3   \n",
       "                               Lo máximo del vallenato joven Jorge Celedón, Si...              3   \n",
       "                               Cuerpo humano                                                   2   \n",
       "                               Bolt un perro fuera de serie                                    2   \n",
       "                               Derechos fundamentales                                          2   \n",
       "                               Forrest Gump                                                    2   \n",
       "                    +65        Historia del pensamiento filosófico y científico               12   \n",
       "                               Las zapatillas rojas                                            3   \n",
       "                               La flauta mágica                                                3   \n",
       "                               Leviatán                                                        2   \n",
       "                               Romanticidio                                                    2   \n",
       "                               La psicología de la inteligencia                                2   \n",
       "                               Promoción de la lectura en la biblioteca y en e...              2   \n",
       "                               Paranormal Colombia : (al filo de lo real)                      2   \n",
       "                               Metodología común para explorar y medir el comp...              2   \n",
       "                               Formación de lectores : escuela, biblioteca púb...              2   \n",
       "                    18-29      Taller y técnicas del pan : panes especiales y ...              4   \n",
       "                               Administración financiera : fundamentos y aplic...              3   \n",
       "                               El poder del ahora : un camino hacia la realiza...              3   \n",
       "                               Aprender jugando : propuestas didácticas para e...              3   \n",
       "                               El rincón del juego : 3 años                                    3   \n",
       "                               Pruebas psicotécnicas                                           3   \n",
       "                               La psicología de la inteligencia                                2   \n",
       "                               Matemáticas básicas                                             2   \n",
       "                               El disfraz                                                      2   \n",
       "                               El rey león                                                     2   \n",
       "\n",
       "                                                                                   Cuenta_grupo  \n",
       "Ciudad  Tratamiento Rango_edad TITULO                                                            \n",
       "Armenia sr.         40-49      Que nos tengan en cuenta : colonos, empresarios...           623  \n",
       "                               El hombre duplicado                                          623  \n",
       "                               Los secretos de las obras de arte                            623  \n",
       "                               Colonización y protesta campesina en Colombia (...           623  \n",
       "                               El Conde de Montecristo                                      623  \n",
       "                               Desvíos de lo real : el cine de no ficción                   623  \n",
       "                               Luis Vidales y la crítica de arte en Colombia                623  \n",
       "                               El principito                                                623  \n",
       "                               Distribución en planta                                       623  \n",
       "                               El blog de Luis Sepúlveda                                    623  \n",
       "                    -17        Calvin y hobbes                                             2793  \n",
       "                               Vuelo 714 para Sidney                                       2793  \n",
       "                               Tiranosaurio : lagarto tirano                               2793  \n",
       "                               Los cigarros del faraón                                     2793  \n",
       "                               ¿Dónde está Wally?                                          2793  \n",
       "                               El templo del sol                                           2793  \n",
       "                               Encuentra los animales.                                     2793  \n",
       "                               Gandhi                                                      2793  \n",
       "                               Un cuento bilingüe para cada día = A bilingual ...          2793  \n",
       "                               Tintin en América                                           2793  \n",
       "                    30-39      La magia de la plastilina                                    303  \n",
       "                               Pensar sistémico : una introducción al pensamie...           303  \n",
       "                               Mi PC : actualización, configuración, mantenimi...           303  \n",
       "                               La gestión de la tecnología : elementos fundame...           303  \n",
       "                               El inventor de mamás                                         303  \n",
       "                               El río : exploraciones y descubrimientos en la ...           303  \n",
       "                               The avengers                                                 303  \n",
       "                               Los increibles                                               303  \n",
       "                               Las mil y una noches                                         303  \n",
       "                               Actualización, mantenimiento y solución de prob...           303  \n",
       "...                                                                                         ...  \n",
       "Honda   sra.        50-64      American english : Curso de inglés.                           53  \n",
       "                               El cuerpo humano                                              53  \n",
       "                               Algebra : con gráficos y 6523 ejercicios y prob...            53  \n",
       "                               Breve historia de la educación                                53  \n",
       "                               Los modelos pedagógicos                                       53  \n",
       "                               Lo máximo del vallenato joven Jorge Celedón, Si...            53  \n",
       "                               Cuerpo humano                                                 53  \n",
       "                               Bolt un perro fuera de serie                                  53  \n",
       "                               Derechos fundamentales                                        53  \n",
       "                               Forrest Gump                                                  53  \n",
       "                    +65        Historia del pensamiento filosófico y científico              65  \n",
       "                               Las zapatillas rojas                                          65  \n",
       "                               La flauta mágica                                              65  \n",
       "                               Leviatán                                                      65  \n",
       "                               Romanticidio                                                  65  \n",
       "                               La psicología de la inteligencia                              65  \n",
       "                               Promoción de la lectura en la biblioteca y en e...            65  \n",
       "                               Paranormal Colombia : (al filo de lo real)                    65  \n",
       "                               Metodología común para explorar y medir el comp...            65  \n",
       "                               Formación de lectores : escuela, biblioteca púb...            65  \n",
       "                    18-29      Taller y técnicas del pan : panes especiales y ...           143  \n",
       "                               Administración financiera : fundamentos y aplic...           143  \n",
       "                               El poder del ahora : un camino hacia la realiza...           143  \n",
       "                               Aprender jugando : propuestas didácticas para e...           143  \n",
       "                               El rincón del juego : 3 años                                 143  \n",
       "                               Pruebas psicotécnicas                                        143  \n",
       "                               La psicología de la inteligencia                             143  \n",
       "                               Matemáticas básicas                                          143  \n",
       "                               El disfraz                                                   143  \n",
       "                               El rey león                                                  143  \n",
       "\n",
       "[3201 rows x 2 columns]"
      ]
     },
     "execution_count": 42,
     "metadata": {},
     "output_type": "execute_result"
    }
   ],
   "source": [
    "selected_title_count_df"
   ]
  },
  {
   "cell_type": "code",
   "execution_count": null,
   "metadata": {
    "collapsed": true
   },
   "outputs": [],
   "source": []
  },
  {
   "cell_type": "code",
   "execution_count": null,
   "metadata": {
    "collapsed": true
   },
   "outputs": [],
   "source": []
  },
  {
   "cell_type": "code",
   "execution_count": null,
   "metadata": {
    "collapsed": true
   },
   "outputs": [],
   "source": []
  },
  {
   "cell_type": "code",
   "execution_count": null,
   "metadata": {
    "collapsed": true
   },
   "outputs": [],
   "source": []
  },
  {
   "cell_type": "code",
   "execution_count": null,
   "metadata": {
    "collapsed": true
   },
   "outputs": [],
   "source": []
  },
  {
   "cell_type": "code",
   "execution_count": null,
   "metadata": {
    "collapsed": true
   },
   "outputs": [],
   "source": []
  },
  {
   "cell_type": "code",
   "execution_count": null,
   "metadata": {
    "collapsed": true
   },
   "outputs": [],
   "source": []
  },
  {
   "cell_type": "code",
   "execution_count": null,
   "metadata": {
    "collapsed": true
   },
   "outputs": [],
   "source": []
  },
  {
   "cell_type": "markdown",
   "metadata": {
    "collapsed": true
   },
   "source": [
    "## Resultados finales"
   ]
  },
  {
   "cell_type": "code",
   "execution_count": 15,
   "metadata": {
    "collapsed": false
   },
   "outputs": [],
   "source": [
    "# mezcla_df.to_csv('???.csv', index=False)"
   ]
  },
  {
   "cell_type": "code",
   "execution_count": null,
   "metadata": {
    "collapsed": true
   },
   "outputs": [],
   "source": []
  }
 ],
 "metadata": {
  "kernelspec": {
   "display_name": "Python 3",
   "language": "python",
   "name": "python3"
  },
  "language_info": {
   "codemirror_mode": {
    "name": "ipython",
    "version": 3
   },
   "file_extension": ".py",
   "mimetype": "text/x-python",
   "name": "python",
   "nbconvert_exporter": "python",
   "pygments_lexer": "ipython3",
   "version": "3.4.3"
  }
 },
 "nbformat": 4,
 "nbformat_minor": 1
}
