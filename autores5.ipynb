{
 "cells": [
  {
   "cell_type": "markdown",
   "metadata": {},
   "source": [
    "# Country names"
   ]
  },
  {
   "cell_type": "code",
   "execution_count": 1,
   "metadata": {
    "collapsed": true
   },
   "outputs": [],
   "source": [
    "import csv\n",
    "import os\n",
    "import re\n",
    "from collections import defaultdict\n",
    "from collections import Counter\n",
    "from datetime import datetime\n",
    "from datetime import timedelta\n",
    "from string import punctuation\n",
    "\n",
    "import matplotlib\n",
    "import numpy as np\n",
    "import networkx as nx\n",
    "import pandas as pd\n",
    "import requests\n",
    "import seaborn as sns\n",
    "from matplotlib import pyplot as plt\n",
    "from SPARQLWrapper import SPARQLWrapper, JSON"
   ]
  },
  {
   "cell_type": "markdown",
   "metadata": {},
   "source": [
    "# Autores"
   ]
  },
  {
   "cell_type": "code",
   "execution_count": 2,
   "metadata": {
    "collapsed": false
   },
   "outputs": [
    {
     "name": "stdout",
     "output_type": "stream",
     "text": [
      "CPU times: user 5.23 s, sys: 226 ms, total: 5.45 s\n",
      "Wall time: 5.45 s\n"
     ]
    }
   ],
   "source": [
    "%%time\n",
    "\n",
    "dtypes = {\n",
    "    'TITULO': str,\n",
    "    'AUTOR': str,\n",
    "    'PAIS_EJEMPLAR': str,\n",
    "    'PAIS_AUTOR': str,\n",
    "}\n",
    "\n",
    "autores_df = pd.read_csv('autores4.csv', header=0, dtype=dtypes)\n",
    "autores_df = autores_df.fillna('')"
   ]
  },
  {
   "cell_type": "code",
   "execution_count": 3,
   "metadata": {
    "collapsed": false
   },
   "outputs": [
    {
     "data": {
      "text/plain": [
       "(3054360, 4)"
      ]
     },
     "execution_count": 3,
     "metadata": {},
     "output_type": "execute_result"
    }
   ],
   "source": [
    "autores_df.shape"
   ]
  },
  {
   "cell_type": "code",
   "execution_count": 4,
   "metadata": {
    "collapsed": false
   },
   "outputs": [
    {
     "data": {
      "text/html": [
       "<div>\n",
       "<table border=\"1\" class=\"dataframe\">\n",
       "  <thead>\n",
       "    <tr style=\"text-align: right;\">\n",
       "      <th></th>\n",
       "      <th>TITULO</th>\n",
       "      <th>PAIS_EJEMPLAR</th>\n",
       "      <th>AUTOR</th>\n",
       "      <th>PAIS_AUTOR</th>\n",
       "    </tr>\n",
       "  </thead>\n",
       "  <tbody>\n",
       "    <tr>\n",
       "      <th>0</th>\n",
       "      <td>Un bicho extraño</td>\n",
       "      <td>Spain</td>\n",
       "      <td>Mon Daporta</td>\n",
       "      <td>DESCONOCIDO</td>\n",
       "    </tr>\n",
       "    <tr>\n",
       "      <th>1</th>\n",
       "      <td>Un bicho extraño</td>\n",
       "      <td>Spain</td>\n",
       "      <td>Mon Daporta</td>\n",
       "      <td>DESCONOCIDO</td>\n",
       "    </tr>\n",
       "    <tr>\n",
       "      <th>2</th>\n",
       "      <td>Quisiera tener ...</td>\n",
       "      <td>Mexico</td>\n",
       "      <td>Giovanna Zoboli</td>\n",
       "      <td>DESCONOCIDO</td>\n",
       "    </tr>\n",
       "    <tr>\n",
       "      <th>3</th>\n",
       "      <td>Johannes Gutenberg</td>\n",
       "      <td>Spain</td>\n",
       "      <td>Lluís Borràs Perelló</td>\n",
       "      <td>DESCONOCIDO</td>\n",
       "    </tr>\n",
       "    <tr>\n",
       "      <th>4</th>\n",
       "      <td>La fantástica leyenda de: la princesa y el dragón</td>\n",
       "      <td>Spain</td>\n",
       "      <td>Sonia Alins</td>\n",
       "      <td>DESCONOCIDO</td>\n",
       "    </tr>\n",
       "  </tbody>\n",
       "</table>\n",
       "</div>"
      ],
      "text/plain": [
       "                                              TITULO PAIS_EJEMPLAR  \\\n",
       "0                                   Un bicho extraño         Spain   \n",
       "1                                   Un bicho extraño         Spain   \n",
       "2                                 Quisiera tener ...        Mexico   \n",
       "3                                 Johannes Gutenberg         Spain   \n",
       "4  La fantástica leyenda de: la princesa y el dragón         Spain   \n",
       "\n",
       "                  AUTOR   PAIS_AUTOR  \n",
       "0           Mon Daporta  DESCONOCIDO  \n",
       "1           Mon Daporta  DESCONOCIDO  \n",
       "2       Giovanna Zoboli  DESCONOCIDO  \n",
       "3  Lluís Borràs Perelló  DESCONOCIDO  \n",
       "4           Sonia Alins  DESCONOCIDO  "
      ]
     },
     "execution_count": 4,
     "metadata": {},
     "output_type": "execute_result"
    }
   ],
   "source": [
    "autores_df.head()"
   ]
  },
  {
   "cell_type": "markdown",
   "metadata": {},
   "source": [
    "## Limpiando datos"
   ]
  },
  {
   "cell_type": "code",
   "execution_count": 5,
   "metadata": {
    "collapsed": false
   },
   "outputs": [],
   "source": [
    "autores_df = autores_df[\n",
    "    (autores_df['AUTOR'] != 'DESCONOCIDO') &\n",
    "    (autores_df['TITULO'] != 'DESCONOCIDO') &\n",
    "    (autores_df['PAIS_AUTOR'] != 'DESCONOCIDO') &\n",
    "    (autores_df['PAIS_EJEMPLAR'] != 'DESCONOCIDO')\n",
    "]"
   ]
  },
  {
   "cell_type": "code",
   "execution_count": 6,
   "metadata": {
    "collapsed": false
   },
   "outputs": [
    {
     "data": {
      "text/plain": [
       "(1065037, 4)"
      ]
     },
     "execution_count": 6,
     "metadata": {},
     "output_type": "execute_result"
    }
   ],
   "source": [
    "autores_df.shape"
   ]
  },
  {
   "cell_type": "code",
   "execution_count": 7,
   "metadata": {
    "collapsed": false
   },
   "outputs": [
    {
     "data": {
      "text/html": [
       "<div>\n",
       "<table border=\"1\" class=\"dataframe\">\n",
       "  <thead>\n",
       "    <tr style=\"text-align: right;\">\n",
       "      <th></th>\n",
       "      <th>TITULO</th>\n",
       "      <th>PAIS_EJEMPLAR</th>\n",
       "      <th>AUTOR</th>\n",
       "      <th>PAIS_AUTOR</th>\n",
       "    </tr>\n",
       "  </thead>\n",
       "  <tbody>\n",
       "    <tr>\n",
       "      <th>10</th>\n",
       "      <td>Adivina en qué pais ...</td>\n",
       "      <td>Spain</td>\n",
       "      <td>Martina Badstuber</td>\n",
       "      <td>Germany</td>\n",
       "    </tr>\n",
       "    <tr>\n",
       "      <th>11</th>\n",
       "      <td>Adivina en qué pais ...</td>\n",
       "      <td>Spain</td>\n",
       "      <td>Martina Badstuber</td>\n",
       "      <td>Germany</td>\n",
       "    </tr>\n",
       "    <tr>\n",
       "      <th>12</th>\n",
       "      <td>Adivina en qué pais ...</td>\n",
       "      <td>Spain</td>\n",
       "      <td>Martina Badstuber</td>\n",
       "      <td>Germany</td>\n",
       "    </tr>\n",
       "    <tr>\n",
       "      <th>14</th>\n",
       "      <td>¡No quiero hacer pipí en el orinal!</td>\n",
       "      <td>Spain</td>\n",
       "      <td>Roser Rius</td>\n",
       "      <td>Mexico</td>\n",
       "    </tr>\n",
       "    <tr>\n",
       "      <th>15</th>\n",
       "      <td>¡No quiero hacer pipí en el orinal!</td>\n",
       "      <td>Spain</td>\n",
       "      <td>Roser Rius</td>\n",
       "      <td>Mexico</td>\n",
       "    </tr>\n",
       "  </tbody>\n",
       "</table>\n",
       "</div>"
      ],
      "text/plain": [
       "                                 TITULO PAIS_EJEMPLAR              AUTOR  \\\n",
       "10              Adivina en qué pais ...         Spain  Martina Badstuber   \n",
       "11              Adivina en qué pais ...         Spain  Martina Badstuber   \n",
       "12              Adivina en qué pais ...         Spain  Martina Badstuber   \n",
       "14  ¡No quiero hacer pipí en el orinal!         Spain         Roser Rius   \n",
       "15  ¡No quiero hacer pipí en el orinal!         Spain         Roser Rius   \n",
       "\n",
       "   PAIS_AUTOR  \n",
       "10    Germany  \n",
       "11    Germany  \n",
       "12    Germany  \n",
       "14     Mexico  \n",
       "15     Mexico  "
      ]
     },
     "execution_count": 7,
     "metadata": {},
     "output_type": "execute_result"
    }
   ],
   "source": [
    "autores_df.head()"
   ]
  },
  {
   "cell_type": "code",
   "execution_count": 8,
   "metadata": {
    "collapsed": false
   },
   "outputs": [],
   "source": [
    "autores_df.drop_duplicates(['AUTOR', 'TITULO'], inplace=True)"
   ]
  },
  {
   "cell_type": "code",
   "execution_count": 9,
   "metadata": {
    "collapsed": false
   },
   "outputs": [
    {
     "data": {
      "text/plain": [
       "(76722, 4)"
      ]
     },
     "execution_count": 9,
     "metadata": {},
     "output_type": "execute_result"
    }
   ],
   "source": [
    "autores_df.shape"
   ]
  },
  {
   "cell_type": "code",
   "execution_count": 10,
   "metadata": {
    "collapsed": false
   },
   "outputs": [
    {
     "data": {
      "text/html": [
       "<div>\n",
       "<table border=\"1\" class=\"dataframe\">\n",
       "  <thead>\n",
       "    <tr style=\"text-align: right;\">\n",
       "      <th></th>\n",
       "      <th>TITULO</th>\n",
       "      <th>PAIS_EJEMPLAR</th>\n",
       "      <th>AUTOR</th>\n",
       "      <th>PAIS_AUTOR</th>\n",
       "    </tr>\n",
       "  </thead>\n",
       "  <tbody>\n",
       "    <tr>\n",
       "      <th>10</th>\n",
       "      <td>Adivina en qué pais ...</td>\n",
       "      <td>Spain</td>\n",
       "      <td>Martina Badstuber</td>\n",
       "      <td>Germany</td>\n",
       "    </tr>\n",
       "    <tr>\n",
       "      <th>14</th>\n",
       "      <td>¡No quiero hacer pipí en el orinal!</td>\n",
       "      <td>Spain</td>\n",
       "      <td>Roser Rius</td>\n",
       "      <td>Mexico</td>\n",
       "    </tr>\n",
       "    <tr>\n",
       "      <th>19</th>\n",
       "      <td>Humo</td>\n",
       "      <td>Spain</td>\n",
       "      <td>Antón Fortes Torres</td>\n",
       "      <td>Spain</td>\n",
       "    </tr>\n",
       "    <tr>\n",
       "      <th>21</th>\n",
       "      <td>Galleta para perros</td>\n",
       "      <td>Spain</td>\n",
       "      <td>Helen Cooper</td>\n",
       "      <td>United Kingdom</td>\n",
       "    </tr>\n",
       "    <tr>\n",
       "      <th>25</th>\n",
       "      <td>Autobio</td>\n",
       "      <td>Spain</td>\n",
       "      <td>Cyril Pedrosa</td>\n",
       "      <td>France</td>\n",
       "    </tr>\n",
       "  </tbody>\n",
       "</table>\n",
       "</div>"
      ],
      "text/plain": [
       "                                 TITULO PAIS_EJEMPLAR                AUTOR  \\\n",
       "10              Adivina en qué pais ...         Spain    Martina Badstuber   \n",
       "14  ¡No quiero hacer pipí en el orinal!         Spain           Roser Rius   \n",
       "19                                 Humo         Spain  Antón Fortes Torres   \n",
       "21                  Galleta para perros         Spain         Helen Cooper   \n",
       "25                              Autobio         Spain        Cyril Pedrosa   \n",
       "\n",
       "        PAIS_AUTOR  \n",
       "10         Germany  \n",
       "14          Mexico  \n",
       "19           Spain  \n",
       "21  United Kingdom  \n",
       "25          France  "
      ]
     },
     "execution_count": 10,
     "metadata": {},
     "output_type": "execute_result"
    }
   ],
   "source": [
    "autores_df.head()"
   ]
  },
  {
   "cell_type": "markdown",
   "metadata": {},
   "source": [
    "## Resultados"
   ]
  },
  {
   "cell_type": "code",
   "execution_count": 11,
   "metadata": {
    "collapsed": false
   },
   "outputs": [
    {
     "data": {
      "text/plain": [
       "73941"
      ]
     },
     "execution_count": 11,
     "metadata": {},
     "output_type": "execute_result"
    }
   ],
   "source": [
    "autores_df['TITULO'].nunique()"
   ]
  },
  {
   "cell_type": "code",
   "execution_count": 12,
   "metadata": {
    "collapsed": false
   },
   "outputs": [
    {
     "data": {
      "text/plain": [
       "Obras completas                                                 113\n",
       "Antología poética                                                79\n",
       "Antología                                                        71\n",
       "Poemas                                                           62\n",
       "Cuentos                                                          52\n",
       "Cuentos completos                                                49\n",
       "Poesía                                                           46\n",
       "Obras escogidas                                                  35\n",
       "Obras                                                            34\n",
       "Teatro                                                           33\n",
       "Obra poética                                                     33\n",
       "Obras selectas                                                   32\n",
       "Poesía completa                                                  31\n",
       "Antología personal                                               26\n",
       "Poesías completas                                                26\n",
       "Poesías                                                          24\n",
       "Memorias                                                         22\n",
       "Teatro completo                                                  20\n",
       "Poemas escogidos                                                 18\n",
       "Escritos políticos                                               17\n",
       "Ensayos                                                          16\n",
       "Autobiografía                                                    15\n",
       "Obra completa                                                    15\n",
       "Correspondencia                                                  14\n",
       "Selected poems                                                   13\n",
       "Relatos                                                          13\n",
       "Novelas escogidas                                                11\n",
       "Mi vida                                                          11\n",
       "Diarios                                                          10\n",
       "Diario                                                           10\n",
       "                                                               ... \n",
       "Affrontements mystiques                                           1\n",
       "Iniciación a la meteorología                                      1\n",
       "Noesis for orchestra                                              1\n",
       "La generación Beat : (obra de teatro en tres actos)               1\n",
       "Historia de los judíos en la España cristiana                     1\n",
       "La carne de René                                                  1\n",
       "La metamorfósis ; carta al padre                                  1\n",
       "Herman y Dorotea : poesías líricas                                1\n",
       "Diario de Nueva York                                              1\n",
       "La escuela del escándalo                                          1\n",
       "Daniela Astor y la caja negra                                     1\n",
       "Los encubridores                                                  1\n",
       "La corporación : la búsqueda patológica de lucro y poder          1\n",
       "La princesa y el pirata                                           1\n",
       "Musée Picasso Paris : catálogo de las colecciones                 1\n",
       "El Islam y el mito del enfrentamiento                             1\n",
       "Tapir                                                             1\n",
       "Living new world monkeys (Platyrrhini) : with an introductio      1\n",
       "Adiós a la virgen : nouvelle                                      1\n",
       "Las claves del imperio romano : 754 a.C.-476                      1\n",
       "Como un bolero                                                    1\n",
       "El hueco : la entrada ilegal de colombianos a Estados Unidos      1\n",
       "Los muertos también hablan : memorias de un antropólogo fore      1\n",
       "Alfabeto sobre la literatura infantil                             1\n",
       "Nuevo ideal de la humanidad                                       1\n",
       "La cuestión campesina y el capitalismo                            1\n",
       "Las historias de Marta y Fernando                                 1\n",
       "Endorfinas : la droga de la felicidad                             1\n",
       "La isla que se repite : el Caribe y la perspectiva posmodern      1\n",
       "Ambiente, energía y sociedad                                      1\n",
       "Name: TITULO, dtype: int64"
      ]
     },
     "execution_count": 12,
     "metadata": {},
     "output_type": "execute_result"
    }
   ],
   "source": [
    "autores_df['TITULO'].value_counts()"
   ]
  },
  {
   "cell_type": "code",
   "execution_count": 13,
   "metadata": {
    "collapsed": false
   },
   "outputs": [
    {
     "data": {
      "text/plain": [
       "130"
      ]
     },
     "execution_count": 13,
     "metadata": {},
     "output_type": "execute_result"
    }
   ],
   "source": [
    "autores_df['PAIS_EJEMPLAR'].nunique()"
   ]
  },
  {
   "cell_type": "code",
   "execution_count": 14,
   "metadata": {
    "collapsed": false
   },
   "outputs": [
    {
     "data": {
      "text/plain": [
       "Spain                                 37466\n",
       "Colombia                               9891\n",
       "Argentina                              7289\n",
       "Mexico                                 6787\n",
       "United States                          3905\n",
       "France                                 1974\n",
       "England                                1791\n",
       "Venezuela                              1136\n",
       "New York (State)                        855\n",
       "Chile                                   800\n",
       "Cuba                                    488\n",
       "Brazil                                  445\n",
       "United Kingdom                          438\n",
       "Peru                                    420\n",
       "Italy                                   382\n",
       "Germany                                 294\n",
       "Ecuador                                 279\n",
       "California                              156\n",
       "Uruguay                                 142\n",
       "Canada                                  138\n",
       "Switzerland                             114\n",
       "Austria                                 108\n",
       "Japan                                   108\n",
       "Portugal                                104\n",
       "Costa Rica                               81\n",
       "Netherlands                              79\n",
       "Soviet Union                             70\n",
       "Massachusetts                            68\n",
       "Germany (East)                           59\n",
       "Puerto Rico                              53\n",
       "                                      ...  \n",
       "Macedonia                                 2\n",
       "Ireland                                   2\n",
       "Thailand                                  2\n",
       "Czech Republic                            2\n",
       "Ontario                                   1\n",
       "Virginia                                  1\n",
       "Palestinian Territory, Occupied           1\n",
       "Albania                                   1\n",
       "Texas                                     1\n",
       "Serbia                                    1\n",
       "Kiribati                                  1\n",
       "Oregon                                    1\n",
       "Louisiana                                 1\n",
       "Rhode Island                              1\n",
       "New Hampshire                             1\n",
       "Turkey                                    1\n",
       "Georgia (Republic)                        1\n",
       "Korea, Republic of                        1\n",
       "Saint-Martin                              1\n",
       "Malaysia                                  1\n",
       "Maine                                     1\n",
       "Uganda                                    1\n",
       "Utah                                      1\n",
       "Colorado                                  1\n",
       "Alabama                                   1\n",
       "Vatican City                              1\n",
       "Venezuela (Bolivarian Republic of)        1\n",
       "Nevada                                    1\n",
       "Haiti                                     1\n",
       "Nebraska                                  1\n",
       "Name: PAIS_EJEMPLAR, dtype: int64"
      ]
     },
     "execution_count": 14,
     "metadata": {},
     "output_type": "execute_result"
    }
   ],
   "source": [
    "autores_df['PAIS_EJEMPLAR'].value_counts()"
   ]
  },
  {
   "cell_type": "code",
   "execution_count": 15,
   "metadata": {
    "collapsed": false
   },
   "outputs": [
    {
     "data": {
      "text/plain": [
       "22009"
      ]
     },
     "execution_count": 15,
     "metadata": {},
     "output_type": "execute_result"
    }
   ],
   "source": [
    "autores_df['AUTOR'].nunique()"
   ]
  },
  {
   "cell_type": "code",
   "execution_count": 16,
   "metadata": {
    "collapsed": false
   },
   "outputs": [
    {
     "data": {
      "text/plain": [
       "William Shakespeare             230\n",
       "Gabriel García Márquez          177\n",
       "Diana Uribe                     169\n",
       "Isaac Asimov                    164\n",
       "Karl Marx                       160\n",
       "Jorge Luis Borges               144\n",
       "Oscar Wilde                     130\n",
       "Agatha Christie                 129\n",
       "Friedrich Wilhelm Nietzsche     120\n",
       "Johann Sebastian Bach           117\n",
       "Edgar Allan Poe                 116\n",
       "Octavio Paz                     111\n",
       "Ludwig van Beethoven            110\n",
       "Noam Chomsky                    110\n",
       "Jordi Sierra i Fabra            108\n",
       "Georges Simenon                 106\n",
       "Charles Dickens                 105\n",
       "Stefan Zweig                    105\n",
       "Pablo Neruda                    103\n",
       "Jules Verne                     102\n",
       "Mario Benedetti                 101\n",
       "Miguel de Cervantes Saavedra     96\n",
       "Jean Paul Sartre                 96\n",
       "Federico García Lorca            95\n",
       "Arthur Conan Doyle               95\n",
       "Fernando Pessoa                  93\n",
       "Honoré de Balzac                 93\n",
       "Sigmund Freud                    92\n",
       "Bertrand Russell                 89\n",
       "Aristóteles                      89\n",
       "                               ... \n",
       "Tom Lambert                       1\n",
       "Antonio Palau                     1\n",
       "Ferréz                            1\n",
       "Jaime García Terrés               1\n",
       "Fyodor Dostoyevsky                1\n",
       "Thomas Hunt Morgan                1\n",
       "Andrew Sullivan                   1\n",
       "Eilís Dillon                      1\n",
       "Fabrice Colin                     1\n",
       "Dan Wells                         1\n",
       "Eloy Alfaro                       1\n",
       "James Hunter                      1\n",
       "Richard Hammer                    1\n",
       "Miguel Manrique                   1\n",
       "James Street                      1\n",
       "Enrique Agudo                     1\n",
       "Guy Tarade                        1\n",
       "Pere Pons i Clar                  1\n",
       "Giovanni Falcone                  1\n",
       "Emily Rayfield                    1\n",
       "Eugenio Carmi                     1\n",
       "Marc Saporta                      1\n",
       "Rogelio Riverón                   1\n",
       "Alejandro Acosta                  1\n",
       "Barry Cox                         1\n",
       "Luis Pérez Gutiérrez              1\n",
       "Paul Gilbert                      1\n",
       "Carmen Blanco                     1\n",
       "Mario Battaglini                  1\n",
       "Alfred Rosenberg                  1\n",
       "Name: AUTOR, dtype: int64"
      ]
     },
     "execution_count": 16,
     "metadata": {},
     "output_type": "execute_result"
    }
   ],
   "source": [
    "autores_df['AUTOR'].value_counts()"
   ]
  },
  {
   "cell_type": "code",
   "execution_count": 17,
   "metadata": {
    "collapsed": false
   },
   "outputs": [
    {
     "data": {
      "text/plain": [
       "409"
      ]
     },
     "execution_count": 17,
     "metadata": {},
     "output_type": "execute_result"
    }
   ],
   "source": [
    "autores_df['PAIS_AUTOR'].nunique()"
   ]
  },
  {
   "cell_type": "code",
   "execution_count": 18,
   "metadata": {
    "collapsed": false
   },
   "outputs": [
    {
     "data": {
      "text/plain": [
       "United States of America                  10983\n",
       "Spain                                      8202\n",
       "France                                     7174\n",
       "United Kingdom                             6143\n",
       "Colombia                                   4422\n",
       "Germany                                    3626\n",
       "Argentina                                  3358\n",
       "Italy                                      3215\n",
       "Mexico                                     2103\n",
       "Chile                                      1064\n",
       "Brazil                                     1046\n",
       "Belgium                                     966\n",
       "Canada                                      947\n",
       "United States                               893\n",
       "Ireland                                     892\n",
       "Venezuela                                   867\n",
       "España                                      857\n",
       "Cuba                                        813\n",
       "Switzerland                                 791\n",
       "Peru                                        694\n",
       "Austria                                     647\n",
       "German Empire                               602\n",
       "Uruguay                                     572\n",
       "Austria-Hungary                             506\n",
       "Japan                                       491\n",
       "Netherlands                                 468\n",
       "Poland                                      465\n",
       "India                                       380\n",
       "Australia                                   355\n",
       "Estados Unidos                              347\n",
       "                                          ...  \n",
       "Montserrat                                    1\n",
       "Saint Vincent and the Grenadines              1\n",
       "Unión entre Suecia y Noruega                  1\n",
       "Azerbaiyán                                    1\n",
       "Moldavia                                      1\n",
       "First Hungarian Republic                      1\n",
       "Kingdom of Iraq                               1\n",
       "Principality of Anhalt                        1\n",
       "East Africa Protectorate                      1\n",
       "People's Socialist Republic of Albania        1\n",
       "First French Empire                           1\n",
       "Croacia                                       1\n",
       "British America                               1\n",
       "Imperio austrohúngaro                         1\n",
       "Socialist Republic of Croatia                 1\n",
       "Sudáfrica                                     1\n",
       "Kingdom of Sardinia                           1\n",
       "Electorate of Bavaria                         1\n",
       "Bahrain                                       1\n",
       "Dominion of New Zealand                       1\n",
       "Pahlavi dynasty                               1\n",
       "Dominion of Pakistan                          1\n",
       "Spanish East Indies                           1\n",
       "Kuwait                                        1\n",
       "Falkland Islands                              1\n",
       "Duchy of Saxe-Altenburg                       1\n",
       "Reino de Prusia                               1\n",
       "Arabia Saudita                                1\n",
       "Habsburg Netherlands                          1\n",
       "Belgian Congo                                 1\n",
       "Name: PAIS_AUTOR, dtype: int64"
      ]
     },
     "execution_count": 18,
     "metadata": {},
     "output_type": "execute_result"
    }
   ],
   "source": [
    "autores_df['PAIS_AUTOR'].value_counts()"
   ]
  },
  {
   "cell_type": "markdown",
   "metadata": {},
   "source": [
    "# Mapping countries"
   ]
  },
  {
   "cell_type": "code",
   "execution_count": 19,
   "metadata": {
    "collapsed": true
   },
   "outputs": [],
   "source": [
    "countries = set(autores_df['PAIS_EJEMPLAR']).union(autores_df['PAIS_AUTOR'])"
   ]
  },
  {
   "cell_type": "code",
   "execution_count": 20,
   "metadata": {
    "collapsed": false
   },
   "outputs": [],
   "source": [
    "inv_mappings = defaultdict(set)\n",
    "for a in countries:\n",
    "    for b in countries:\n",
    "        if a != b and a in b:\n",
    "            inv_mappings[a].add(b)\n",
    "inv_mappings = dict(inv_mappings)\n",
    "\n",
    "mapped = set()\n",
    "for s in inv_mappings.values():\n",
    "    mapped = mapped.union(s)\n",
    "\n",
    "unmapped = countries.difference(mapped)"
   ]
  },
  {
   "cell_type": "code",
   "execution_count": 21,
   "metadata": {
    "collapsed": false
   },
   "outputs": [
    {
     "data": {
      "text/plain": [
       "{'Afghanistan': {'Kingdom of Afghanistan'},\n",
       " 'Albania': {\"People's Socialist Republic of Albania\"},\n",
       " 'Austria': {'Austria-Hungary',\n",
       "  'Austrian Empire',\n",
       "  'First Austrian Republic',\n",
       "  'Republic of German-Austria'},\n",
       " 'Azerbaijan': {'Azerbaijan Soviet Socialist Republic'},\n",
       " 'Brazil': {'Empire of Brazil'},\n",
       " 'Bulgaria': {'Kingdom of Bulgaria', \"People's Republic of Bulgaria\"},\n",
       " 'Burma': {'British rule in Burma'},\n",
       " 'China': {'China (Republic : 1949- )',\n",
       "  \"People's Republic of China\",\n",
       "  'Republic of China (1912–49)',\n",
       "  'República Popular China'},\n",
       " 'Colombia': {'Estados Unidos de Colombia',\n",
       "  'Gran Colombia',\n",
       "  'United States of Colombia'},\n",
       " 'Croatia': {'Kingdom of Croatia-Slavonia', 'Socialist Republic of Croatia'},\n",
       " 'Cuba': {'Captaincy General of Cuba', 'Republic of Cuba (1902–59)'},\n",
       " 'Denmark': {'Kingdom of Denmark'},\n",
       " 'Dominica': {'Dominican Republic', 'República Dominicana'},\n",
       " 'Egipto': {'Jedivato de Egipto'},\n",
       " 'Egypt': {'Khedivate of Egypt', 'Kingdom of Egypt', 'Sultanate of Egypt'},\n",
       " 'England': {'Kingdom of England'},\n",
       " 'Estados Unidos': {'Estados Unidos de Colombia'},\n",
       " 'Finland': {'Finlandia', 'Grand Duchy of Finland'},\n",
       " 'Franc': {'France',\n",
       "  'Francia',\n",
       "  'Francoist Spain',\n",
       "  'German military administration in occupied France during World War II',\n",
       "  'Kingdom of France',\n",
       "  'Vichy France'},\n",
       " 'France': {'German military administration in occupied France during World War II',\n",
       "  'Kingdom of France',\n",
       "  'Vichy France'},\n",
       " 'Georgia': {'Georgia (Republic)'},\n",
       " 'German Confederation': {'North German Confederation'},\n",
       " 'Germany': {'Allied-occupied Germany',\n",
       "  'East Germany',\n",
       "  'Germany (East)',\n",
       "  'Nazi Germany',\n",
       "  'West Germany'},\n",
       " 'Greece': {'Kingdom of Greece'},\n",
       " 'Guinea': {'Equatorial Guinea'},\n",
       " 'Hungary': {'Austria-Hungary',\n",
       "  'Kingdom of Hungary',\n",
       "  'Kingdom of Hungary (1920–46)'},\n",
       " 'India': {'Dominion of India', 'Indiana'},\n",
       " 'Iraq': {'Kingdom of Iraq'},\n",
       " 'Ireland': {'Kingdom of Ireland',\n",
       "  'Northern Ireland',\n",
       "  'Republic of Ireland',\n",
       "  'United Kingdom of Great Britain and Ireland'},\n",
       " 'Irlanda': {'Reino Unido de Gran Bretaña e Irlanda', 'Reino de Irlanda'},\n",
       " 'Italy': {'Kingdom of Italy'},\n",
       " 'Japan': {'Empire of Japan'},\n",
       " 'Jersey': {'New Jersey'},\n",
       " 'Kenya': {'British Kenya'},\n",
       " 'Kingdom of Great Britain': {'United Kingdom of Great Britain and Ireland'},\n",
       " 'Kingdom of Hungary': {'Kingdom of Hungary (1920–46)'},\n",
       " 'Latvia': {'Latvian Soviet Socialist Republic'},\n",
       " 'Malta': {'Crown Colony of Malta'},\n",
       " 'Montenegro': {'Serbia and Montenegro'},\n",
       " 'Morocco': {'French protectorate in Morocco',\n",
       "  'Spanish protectorate in Morocco'},\n",
       " 'Mozambique': {'Portuguese Mozambique'},\n",
       " 'Netherlands': {'Caribbean Netherlands', 'Habsburg Netherlands'},\n",
       " 'Nevis': {'Saint Kitts and Nevis'},\n",
       " 'New Zealand': {'Dominion of New Zealand'},\n",
       " 'Nigeria': {'Colonial Nigeria'},\n",
       " 'Noruega': {'Unión entre Suecia y Noruega'},\n",
       " 'Pakistan': {'Dominion of Pakistan', 'East Pakistan'},\n",
       " 'Palestine': {'Mandatory Palestine'},\n",
       " 'Países Bajos': {'Provincias Unidas de los Países Bajos'},\n",
       " 'Peru': {'Viceroyalty of Peru'},\n",
       " 'Poland': {'Congress Poland', 'Kingdom of Poland (1916–18)'},\n",
       " 'Polonia': {'Reino de Polonia (1385-1569)'},\n",
       " 'Portugal': {'Kingdom of Portugal'},\n",
       " 'Prussia': {'Kingdom of Prussia'},\n",
       " 'Reino Unido': {'Reino Unido de Gran Bretaña e Irlanda'},\n",
       " 'Republic of the Congo': {'Democratic Republic of the Congo'},\n",
       " 'Rhodesia': {'Northern Rhodesia', 'Southern Rhodesia'},\n",
       " 'Romania': {'Kingdom of Romania', 'Socialist Republic of Romania'},\n",
       " 'Rusia': {'República Socialista Federativa Soviética de Rusia'},\n",
       " 'Russia': {'Russia (Federation)',\n",
       "  'Russian Empire',\n",
       "  'Russian Republic',\n",
       "  'Russian Soviet Federative Socialist Republic'},\n",
       " 'Scotland': {'Kingdom of Scotland'},\n",
       " 'Serbia': {'Reino de Serbia', 'Serbia and Montenegro'},\n",
       " 'South Africa': {'Union of South Africa'},\n",
       " 'Spain': {'Francoist Spain', 'New Spain', 'Restoration (Spain)'},\n",
       " 'Suecia': {'Unión entre Suecia y Noruega'},\n",
       " 'Switzerland': {'Restoration and Regeneration in Switzerland'},\n",
       " 'Tunisia': {'French protectorate of Tunisia'},\n",
       " 'United Kingdom': {'United Kingdom of Great Britain and Ireland'},\n",
       " 'United States': {'United States of America',\n",
       "  'United States of Colombia',\n",
       "  'United States of the Ionian Islands'},\n",
       " 'Venezuela': {'Captaincy General of Venezuela',\n",
       "  'Venezuela (Bolivarian Republic of)',\n",
       "  'Venezuela Province'},\n",
       " 'Vietnam': {'Vietnam, North'},\n",
       " 'Virginia': {'Colony of Virginia'},\n",
       " 'Württemberg': {'Duchy of Württemberg',\n",
       "  'Electorate of Württemberg',\n",
       "  'Kingdom of Württemberg'}}"
      ]
     },
     "execution_count": 21,
     "metadata": {},
     "output_type": "execute_result"
    }
   ],
   "source": [
    "inv_mappings"
   ]
  },
  {
   "cell_type": "code",
   "execution_count": 22,
   "metadata": {
    "collapsed": false
   },
   "outputs": [],
   "source": [
    "mappings = {}\n",
    "for c1 in inv_mappings:\n",
    "    for c2 in inv_mappings[c1]:\n",
    "        mappings[c2] = c1"
   ]
  },
  {
   "cell_type": "code",
   "execution_count": 23,
   "metadata": {
    "collapsed": false
   },
   "outputs": [
    {
     "data": {
      "text/plain": [
       "{'Allied-occupied Germany': 'Germany',\n",
       " 'Austria-Hungary': 'Austria',\n",
       " 'Austrian Empire': 'Austria',\n",
       " 'Azerbaijan Soviet Socialist Republic': 'Azerbaijan',\n",
       " 'British Kenya': 'Kenya',\n",
       " 'British rule in Burma': 'Burma',\n",
       " 'Captaincy General of Cuba': 'Cuba',\n",
       " 'Captaincy General of Venezuela': 'Venezuela',\n",
       " 'Caribbean Netherlands': 'Netherlands',\n",
       " 'China (Republic : 1949- )': 'China',\n",
       " 'Colonial Nigeria': 'Nigeria',\n",
       " 'Colony of Virginia': 'Virginia',\n",
       " 'Congress Poland': 'Poland',\n",
       " 'Crown Colony of Malta': 'Malta',\n",
       " 'Democratic Republic of the Congo': 'Republic of the Congo',\n",
       " 'Dominican Republic': 'Dominica',\n",
       " 'Dominion of India': 'India',\n",
       " 'Dominion of New Zealand': 'New Zealand',\n",
       " 'Dominion of Pakistan': 'Pakistan',\n",
       " 'Duchy of Württemberg': 'Württemberg',\n",
       " 'East Germany': 'Germany',\n",
       " 'East Pakistan': 'Pakistan',\n",
       " 'Electorate of Württemberg': 'Württemberg',\n",
       " 'Empire of Brazil': 'Brazil',\n",
       " 'Empire of Japan': 'Japan',\n",
       " 'Equatorial Guinea': 'Guinea',\n",
       " 'Estados Unidos de Colombia': 'Colombia',\n",
       " 'Finlandia': 'Finland',\n",
       " 'First Austrian Republic': 'Austria',\n",
       " 'France': 'Franc',\n",
       " 'Francia': 'Franc',\n",
       " 'Francoist Spain': 'Franc',\n",
       " 'French protectorate in Morocco': 'Morocco',\n",
       " 'French protectorate of Tunisia': 'Tunisia',\n",
       " 'Georgia (Republic)': 'Georgia',\n",
       " 'German military administration in occupied France during World War II': 'France',\n",
       " 'Germany (East)': 'Germany',\n",
       " 'Gran Colombia': 'Colombia',\n",
       " 'Grand Duchy of Finland': 'Finland',\n",
       " 'Habsburg Netherlands': 'Netherlands',\n",
       " 'Indiana': 'India',\n",
       " 'Jedivato de Egipto': 'Egipto',\n",
       " 'Khedivate of Egypt': 'Egypt',\n",
       " 'Kingdom of Afghanistan': 'Afghanistan',\n",
       " 'Kingdom of Bulgaria': 'Bulgaria',\n",
       " 'Kingdom of Croatia-Slavonia': 'Croatia',\n",
       " 'Kingdom of Denmark': 'Denmark',\n",
       " 'Kingdom of Egypt': 'Egypt',\n",
       " 'Kingdom of England': 'England',\n",
       " 'Kingdom of France': 'France',\n",
       " 'Kingdom of Greece': 'Greece',\n",
       " 'Kingdom of Hungary': 'Hungary',\n",
       " 'Kingdom of Hungary (1920–46)': 'Hungary',\n",
       " 'Kingdom of Iraq': 'Iraq',\n",
       " 'Kingdom of Ireland': 'Ireland',\n",
       " 'Kingdom of Italy': 'Italy',\n",
       " 'Kingdom of Poland (1916–18)': 'Poland',\n",
       " 'Kingdom of Portugal': 'Portugal',\n",
       " 'Kingdom of Prussia': 'Prussia',\n",
       " 'Kingdom of Romania': 'Romania',\n",
       " 'Kingdom of Scotland': 'Scotland',\n",
       " 'Kingdom of Württemberg': 'Württemberg',\n",
       " 'Latvian Soviet Socialist Republic': 'Latvia',\n",
       " 'Mandatory Palestine': 'Palestine',\n",
       " 'Nazi Germany': 'Germany',\n",
       " 'New Jersey': 'Jersey',\n",
       " 'New Spain': 'Spain',\n",
       " 'North German Confederation': 'German Confederation',\n",
       " 'Northern Ireland': 'Ireland',\n",
       " 'Northern Rhodesia': 'Rhodesia',\n",
       " \"People's Republic of Bulgaria\": 'Bulgaria',\n",
       " \"People's Republic of China\": 'China',\n",
       " \"People's Socialist Republic of Albania\": 'Albania',\n",
       " 'Portuguese Mozambique': 'Mozambique',\n",
       " 'Provincias Unidas de los Países Bajos': 'Países Bajos',\n",
       " 'Reino Unido de Gran Bretaña e Irlanda': 'Irlanda',\n",
       " 'Reino de Irlanda': 'Irlanda',\n",
       " 'Reino de Polonia (1385-1569)': 'Polonia',\n",
       " 'Reino de Serbia': 'Serbia',\n",
       " 'Republic of China (1912–49)': 'China',\n",
       " 'Republic of Cuba (1902–59)': 'Cuba',\n",
       " 'Republic of German-Austria': 'Austria',\n",
       " 'Republic of Ireland': 'Ireland',\n",
       " 'República Dominicana': 'Dominica',\n",
       " 'República Popular China': 'China',\n",
       " 'República Socialista Federativa Soviética de Rusia': 'Rusia',\n",
       " 'Restoration (Spain)': 'Spain',\n",
       " 'Restoration and Regeneration in Switzerland': 'Switzerland',\n",
       " 'Russia (Federation)': 'Russia',\n",
       " 'Russian Empire': 'Russia',\n",
       " 'Russian Republic': 'Russia',\n",
       " 'Russian Soviet Federative Socialist Republic': 'Russia',\n",
       " 'Saint Kitts and Nevis': 'Nevis',\n",
       " 'Serbia and Montenegro': 'Serbia',\n",
       " 'Socialist Republic of Croatia': 'Croatia',\n",
       " 'Socialist Republic of Romania': 'Romania',\n",
       " 'Southern Rhodesia': 'Rhodesia',\n",
       " 'Spanish protectorate in Morocco': 'Morocco',\n",
       " 'Sultanate of Egypt': 'Egypt',\n",
       " 'Union of South Africa': 'South Africa',\n",
       " 'United Kingdom of Great Britain and Ireland': 'United Kingdom',\n",
       " 'United States of America': 'United States',\n",
       " 'United States of Colombia': 'United States',\n",
       " 'United States of the Ionian Islands': 'United States',\n",
       " 'Unión entre Suecia y Noruega': 'Noruega',\n",
       " 'Venezuela (Bolivarian Republic of)': 'Venezuela',\n",
       " 'Venezuela Province': 'Venezuela',\n",
       " 'Viceroyalty of Peru': 'Peru',\n",
       " 'Vichy France': 'France',\n",
       " 'Vietnam, North': 'Vietnam',\n",
       " 'West Germany': 'Germany'}"
      ]
     },
     "execution_count": 23,
     "metadata": {},
     "output_type": "execute_result"
    }
   ],
   "source": [
    "mappings"
   ]
  },
  {
   "cell_type": "code",
   "execution_count": 24,
   "metadata": {
    "collapsed": true
   },
   "outputs": [],
   "source": [
    "# Correct wrong mappings\n",
    "\n",
    "del(mappings['Dominican Republic'])\n",
    "mappings['Estados Unidos de Colombia'] = 'Colombia'\n",
    "del(mappings['France'])\n",
    "mappings['Francia'] = 'France'\n",
    "mappings['Francoist Spain'] = 'Spain'\n",
    "mappings['German military administration in occupied France during World War II'] = 'France'\n",
    "del(mappings['Indiana'])\n",
    "mappings['Jedivato de Egipto'] = 'Egypt'\n",
    "mappings['Kingdom of France'] = 'France'\n",
    "del(mappings['New Jersey'])\n",
    "mappings['New Spain'] = 'Mexico'\n",
    "mappings['North German Confederation'] = 'Germany'\n",
    "del(mappings['Northern Ireland'])\n",
    "mappings['Provincias Unidas de los Países Bajos'] = 'Netherlands'\n",
    "mappings['Reino Unido de Gran Bretaña e Irlanda'] = 'United Kingdom'\n",
    "mappings['República Dominicana'] = 'Dominican Republic'\n",
    "mappings['República Socialista Federativa Soviética de Rusia'] = 'Russia'\n",
    "del(mappings['Saint Kitts and Nevis'])\n",
    "mappings['United Kingdom of Great Britain and Ireland'] = 'United Kingdom'\n",
    "mappings['United States of America'] = 'United States'\n",
    "mappings['United States of Colombia'] = 'Colombia'\n",
    "del(mappings['United States of the Ionian Islands'])\n",
    "mappings['Unión entre Suecia y Noruega'] = 'Sweden'\n",
    "mappings['Vichy France'] = 'France'"
   ]
  },
  {
   "cell_type": "code",
   "execution_count": 25,
   "metadata": {
    "collapsed": false
   },
   "outputs": [
    {
     "data": {
      "text/plain": [
       "{'Afghanistan',\n",
       " 'Alabama',\n",
       " 'Albania',\n",
       " 'Alemania',\n",
       " 'Algeria',\n",
       " 'Andorra',\n",
       " 'Angola',\n",
       " 'Antigua Atenas',\n",
       " 'Antigua Roma',\n",
       " 'Antigua and Barbuda',\n",
       " 'Arabia Saudita',\n",
       " 'Argentina',\n",
       " 'Arizona',\n",
       " 'Australia',\n",
       " 'Austria',\n",
       " 'Azerbaijan',\n",
       " 'Azerbaiyán',\n",
       " 'Bahrain',\n",
       " 'Bangladesh',\n",
       " 'Barbados',\n",
       " 'Basque Country (greater region)',\n",
       " 'Belarus',\n",
       " 'Belgian Congo',\n",
       " 'Belgium',\n",
       " 'Benin',\n",
       " 'Bielorrusia',\n",
       " 'Bolivia',\n",
       " 'Bourbon Restoration',\n",
       " 'Brasil',\n",
       " 'Brazil',\n",
       " 'British America',\n",
       " 'British Ceylon',\n",
       " 'British Empire',\n",
       " 'British Raj',\n",
       " 'Bulgaria',\n",
       " 'Burkina Faso',\n",
       " 'Burma',\n",
       " 'Bélgica',\n",
       " 'California',\n",
       " 'Cambodia',\n",
       " 'Cameroon',\n",
       " 'Canada',\n",
       " 'Canadá',\n",
       " 'Canal Zone',\n",
       " 'Cape Verde',\n",
       " 'Chile',\n",
       " 'China',\n",
       " 'Colombia',\n",
       " 'Colorado',\n",
       " 'Congo Belga',\n",
       " 'Connecticut',\n",
       " 'Costa Rica',\n",
       " 'Croacia',\n",
       " 'Croatia',\n",
       " 'Crown of Aragon',\n",
       " 'Crown of Castile',\n",
       " 'Cuba',\n",
       " 'Curaçao',\n",
       " 'Cyprus',\n",
       " 'Czech Republic',\n",
       " 'Czechoslovakia',\n",
       " \"Côte d'Ivoire\",\n",
       " 'Denmark',\n",
       " 'Dinamarca',\n",
       " 'District of Columbia',\n",
       " 'Dominica',\n",
       " 'Dominion of Newfoundland',\n",
       " 'Duchy of Brunswick',\n",
       " 'Duchy of Holstein',\n",
       " 'Duchy of Milan',\n",
       " 'Duchy of Salzburg',\n",
       " 'Duchy of Saxe-Altenburg',\n",
       " 'Duchy of Schleswig',\n",
       " 'Dutch East Indies',\n",
       " 'Dutch Republic',\n",
       " 'East Africa Protectorate',\n",
       " 'Ecuador',\n",
       " 'Egipto',\n",
       " 'Egypt',\n",
       " 'El Salvador',\n",
       " 'Electorate of Bavaria',\n",
       " 'Electorate of Cologne',\n",
       " 'Electorate of Saxony',\n",
       " 'England',\n",
       " 'Eritrea',\n",
       " 'España',\n",
       " 'Estados Unidos',\n",
       " 'Estonia',\n",
       " 'Ethiopia',\n",
       " 'Falkland Islands',\n",
       " 'Fiji',\n",
       " 'Filipinas',\n",
       " 'Finland',\n",
       " 'First Czechoslovak Republic',\n",
       " 'First French Empire',\n",
       " 'First Hungarian Republic',\n",
       " 'First Portuguese Republic',\n",
       " 'Florida',\n",
       " 'Franc',\n",
       " 'Free City of Lübeck',\n",
       " 'Free and Independent State of Cundinamarca',\n",
       " 'French First Republic',\n",
       " 'French Guiana',\n",
       " 'French Indochina',\n",
       " 'French Third Republic',\n",
       " 'French colonial empire',\n",
       " 'Georgia',\n",
       " 'German Confederation',\n",
       " 'German Empire',\n",
       " 'Germany',\n",
       " 'Ghana',\n",
       " 'Gibraltar',\n",
       " 'Gold Coast (British colony)',\n",
       " 'Granadine Confederation',\n",
       " 'Grand Duchy of Baden',\n",
       " 'Grand Duchy of Mecklenburg-Schwerin',\n",
       " 'Grand Duchy of Tuscany',\n",
       " 'Grecia',\n",
       " 'Greece',\n",
       " 'Guatemala',\n",
       " 'Guinea',\n",
       " 'Guyana',\n",
       " 'Habsburg Monarchy',\n",
       " 'Haiti',\n",
       " 'Haití',\n",
       " 'Holy Roman Empire',\n",
       " 'Honduras',\n",
       " 'Hong Kong',\n",
       " 'Hungary',\n",
       " 'Hungría',\n",
       " 'Iceland',\n",
       " 'Illinois',\n",
       " 'Imperio Otomano',\n",
       " 'Imperio alemán',\n",
       " 'Imperio aqueménida',\n",
       " 'Imperio austrohúngaro',\n",
       " 'Imperio español',\n",
       " 'Imperio otomano',\n",
       " 'Imperio romano',\n",
       " 'Imperio ruso',\n",
       " 'India',\n",
       " 'Indonesia',\n",
       " 'Irak',\n",
       " 'Iran',\n",
       " 'Iraq',\n",
       " 'Ireland',\n",
       " 'Irlanda',\n",
       " 'Irán',\n",
       " 'Israel',\n",
       " 'Italia',\n",
       " 'Italy',\n",
       " 'Jamaica',\n",
       " 'Jan Mayen',\n",
       " 'Japan',\n",
       " 'Japón',\n",
       " 'Jersey',\n",
       " 'Jordan',\n",
       " 'Jorezmitas',\n",
       " 'July Monarchy',\n",
       " 'Kazakhstan',\n",
       " 'Kentucky',\n",
       " 'Kenya',\n",
       " 'Kingdom of Bavaria',\n",
       " 'Kingdom of Bohemia',\n",
       " 'Kingdom of Galicia and Lodomeria',\n",
       " 'Kingdom of Great Britain',\n",
       " 'Kingdom of Hanover',\n",
       " 'Kingdom of Lombardy–Venetia',\n",
       " 'Kingdom of Sardinia',\n",
       " 'Kingdom of Saxony',\n",
       " 'Kingdom of Yugoslavia',\n",
       " 'Kingdom of the Two Sicilies',\n",
       " 'Kiribati',\n",
       " 'Korea (South)',\n",
       " 'Korea, Republic of',\n",
       " 'Kuwait',\n",
       " 'Kwantung Leased Territory',\n",
       " 'Kyrgyzstan',\n",
       " 'Lands of the Crown of Saint Stephen',\n",
       " 'Latvia',\n",
       " 'Lebanon',\n",
       " 'Letonia',\n",
       " 'Liberia',\n",
       " 'Libia',\n",
       " 'Libya',\n",
       " 'Lithuania',\n",
       " 'Lituania',\n",
       " 'Louisiana',\n",
       " 'Luxembourg',\n",
       " 'Líbano',\n",
       " 'Macedonia',\n",
       " 'Madagascar',\n",
       " 'Maine',\n",
       " 'Malawi',\n",
       " 'Malaysia',\n",
       " 'Mali',\n",
       " 'Malta',\n",
       " 'Mandato británico de Palestina',\n",
       " 'Margraviate of Brandenburg',\n",
       " 'Marruecos',\n",
       " 'Maryland',\n",
       " 'Massachusetts',\n",
       " 'Mauritania',\n",
       " 'Mauritius',\n",
       " 'Mexico',\n",
       " 'Michigan',\n",
       " 'Minnesota',\n",
       " 'Missouri',\n",
       " 'Moldavia',\n",
       " 'Moldova',\n",
       " 'Monaco',\n",
       " 'Mongolia',\n",
       " 'Montenegro',\n",
       " 'Montserrat',\n",
       " 'Morocco',\n",
       " 'Mozambique',\n",
       " 'Myanmar',\n",
       " 'México',\n",
       " 'Namibia',\n",
       " 'Nebraska',\n",
       " 'Netherlands',\n",
       " 'Nevada',\n",
       " 'Nevis',\n",
       " 'New Caledonia',\n",
       " 'New Hampshire',\n",
       " 'New York (State)',\n",
       " 'New Zealand',\n",
       " 'Nicaragua',\n",
       " 'Nigeria',\n",
       " 'No place, unknown, or undetermined',\n",
       " 'North Carolina',\n",
       " 'Noruega',\n",
       " 'Norway',\n",
       " 'Ohio',\n",
       " 'Old Swiss Confederacy',\n",
       " 'Ontario',\n",
       " 'Oregon',\n",
       " 'Ottoman Empire',\n",
       " 'Pahlavi dynasty',\n",
       " 'Pakistan',\n",
       " 'Palestine',\n",
       " 'Palestinian Territory, Occupied',\n",
       " 'Panama',\n",
       " 'Panamá',\n",
       " 'Papal States',\n",
       " 'Paraguay',\n",
       " 'Países Bajos',\n",
       " 'Pennsylvania',\n",
       " 'Peru',\n",
       " 'Perú',\n",
       " 'Philippines',\n",
       " 'Poland',\n",
       " 'Polonia',\n",
       " 'Portugal',\n",
       " 'Principality of Anhalt',\n",
       " 'Principality of Lippe',\n",
       " 'Protectorate of Bohemia and Moravia',\n",
       " 'Prussia',\n",
       " 'Puebla',\n",
       " 'Puerto Rico',\n",
       " 'Qajar dynasty',\n",
       " 'Reino Unido',\n",
       " 'Reino de Inglaterra',\n",
       " 'Reino de Prusia',\n",
       " 'Reino de Yugoslavia',\n",
       " 'Republic of Florence',\n",
       " 'Republic of New Granada',\n",
       " 'Republic of Venice',\n",
       " 'Republic of the Congo',\n",
       " 'República Checa',\n",
       " 'República de Génova',\n",
       " 'República de Weimar',\n",
       " 'República romana',\n",
       " 'Rhode Island',\n",
       " 'Rhodesia',\n",
       " 'Romania',\n",
       " 'Rumania',\n",
       " 'Rusia',\n",
       " 'Russia',\n",
       " 'Rwanda',\n",
       " 'Ryukyu Kingdom',\n",
       " 'Sacro Imperio Romano Germánico',\n",
       " 'Saint Lucia',\n",
       " 'Saint Vincent and the Grenadines',\n",
       " 'Saint-Martin',\n",
       " 'Saudi Arabia',\n",
       " 'Saxe-Weimar',\n",
       " 'Schwarzburg-Sondershausen',\n",
       " 'Scotland',\n",
       " 'Second French Empire',\n",
       " 'Second Hellenic Republic',\n",
       " 'Second Polish Republic',\n",
       " 'Senegal',\n",
       " 'Serbia',\n",
       " 'Sierra Leone',\n",
       " 'Sikkim',\n",
       " 'Singapore',\n",
       " 'Slovakia',\n",
       " 'Slovenia',\n",
       " 'Socialist Federal Republic of Yugoslavia',\n",
       " 'Solomon Islands',\n",
       " 'Somalia',\n",
       " 'South Africa',\n",
       " 'South Carolina',\n",
       " 'South Korea',\n",
       " 'Soviet Union',\n",
       " 'Spain',\n",
       " 'Spanish East Indies',\n",
       " 'Spanish Empire',\n",
       " 'Sri Lanka',\n",
       " 'Sudan',\n",
       " 'Sudáfrica',\n",
       " 'Suecia',\n",
       " 'Suiza',\n",
       " 'Sultanate of Zanzibar',\n",
       " 'Swaziland',\n",
       " 'Sweden',\n",
       " 'Switzerland',\n",
       " 'Syria',\n",
       " 'Taifa of Murcia',\n",
       " 'Taiwan',\n",
       " 'Tajik Soviet Socialist Republic',\n",
       " 'Tajikistan',\n",
       " 'Tanzania',\n",
       " 'Tennessee',\n",
       " 'Territorios Palestinos',\n",
       " 'Texas',\n",
       " 'Thailand',\n",
       " 'The Bahamas',\n",
       " 'Trinidad and Tobago',\n",
       " 'Trinidad y Tobago',\n",
       " 'Tunisia',\n",
       " 'Turkey',\n",
       " 'Turquía',\n",
       " 'Túnez',\n",
       " 'Ucrania',\n",
       " 'Uganda',\n",
       " 'Ukraine',\n",
       " \"Ukrainian People's Republic\",\n",
       " 'Ukrainian Soviet Socialist Republic',\n",
       " 'United Kingdom',\n",
       " 'United States',\n",
       " 'Unión Soviética',\n",
       " 'Uruguay',\n",
       " 'Utah',\n",
       " 'Uzbekistan',\n",
       " 'Uzbekistán',\n",
       " 'Vatican City',\n",
       " 'Venezuela',\n",
       " 'Vermont',\n",
       " 'Viceroyalty of New Granada',\n",
       " 'Vietnam',\n",
       " 'Virginia',\n",
       " 'Virreinato de Nueva Granada',\n",
       " 'Washington (State)',\n",
       " 'Weimar Republic',\n",
       " 'Wisconsin',\n",
       " 'Württemberg',\n",
       " 'Zambia',\n",
       " 'Zimbabwe',\n",
       " 'África Occidental Portuguesa'}"
      ]
     },
     "execution_count": 25,
     "metadata": {},
     "output_type": "execute_result"
    }
   ],
   "source": [
    "unmapped"
   ]
  },
  {
   "cell_type": "code",
   "execution_count": 26,
   "metadata": {
    "collapsed": true
   },
   "outputs": [],
   "source": [
    "# Correct unmapped\n",
    "\n",
    "mappings['Alemania'] = 'Germany'\n",
    "mappings['Antigua Atenas'] = 'Greek'\n",
    "mappings['Antigua Roma'] = 'Italy'\n",
    "mappings['Arabia Saudita'] = 'Saudi Arabia'\n",
    "mappings['Azerbaiyán'] = 'Azerbaijan'\n",
    "mappings['Basque Country (greater region)'] = 'Spain'\n",
    "mappings['Brasil'] = 'Brazil'\n",
    "mappings['British Empire'] = 'United Kingdom'\n",
    "mappings['Bélgica'] = 'Belgium'\n",
    "mappings['Canadá'] = 'Canada'\n",
    "mappings['Congo Belga'] = 'Belgian Congo'\n",
    "mappings['Croacia'] = 'Croatia'\n",
    "mappings['Crown of Aragon'] = 'Spain'\n",
    "mappings['Crown of Castile'] = 'Spain'\n",
    "mappings['Dinamarca'] = 'Denmark'\n",
    "mappings['First Czechoslovak Republic'] = 'Czechoslovakia'\n",
    "mappings['First French Empire'] = 'France'\n",
    "mappings['First Hungarian Republic'] = 'Hungary'\n",
    "mappings['First Portuguese Republic'] = 'Portugal'\n",
    "mappings['Free and Independent State of Cundinamarca'] = 'Colombia'\n",
    "mappings['French First Republic'] = 'France'\n",
    "mappings['French Third Republic'] = 'France'\n",
    "mappings['French colonial empire'] = 'France'\n",
    "mappings['German Confederation'] = 'Germany'\n",
    "mappings['German Empire'] = 'Germany'\n",
    "mappings['Grecia'] = 'Greece'\n",
    "mappings['Haití'] = 'Haiti'\n",
    "mappings['Holy Roman Empire'] = 'Italy'\n",
    "mappings['Hungría'] = 'Hungary'\n",
    "mappings['Imperio Otomano'] = 'Ottoman Empire'\n",
    "mappings['Imperio alemán'] = 'Germany'\n",
    "mappings['Imperio austrohúngaro'] = 'Austria'\n",
    "mappings['Imperio otomano'] = 'Ottoman Empire'\n",
    "mappings['Imperio romano'] = 'Italy'\n",
    "mappings['Imperio ruso'] = 'Russia'\n",
    "mappings['Irak'] = 'Iraq'\n",
    "mappings['Irlanda'] = 'Ireland'\n",
    "mappings['Irán'] = 'Iran'\n",
    "mappings['Japón'] = 'Japan'\n",
    "mappings['Kingdom of Great Britain'] = 'United Kingdom'\n",
    "mappings['Kingdom of Yugoslavia'] = 'Yugoslavia'\n",
    "mappings['Korea (South)'] = 'South Korea'\n",
    "mappings['Korea, Republic of'] = 'South Korea'\n",
    "mappings['Libia'] = 'Libya'\n",
    "mappings['Lituania'] = 'Lithuania'\n",
    "mappings['Líbano'] = 'Lebanon'\n",
    "mappings['Mandato británico de Palestina'] = 'Palestine'\n",
    "mappings['Mandatory Palestine'] = 'Palestine'\n",
    "mappings['Marruecos'] = 'Morocco'\n",
    "mappings['México'] = 'Mexico'\n",
    "mappings['Noruega'] = 'Norway'\n",
    "mappings['Palestinian National Authority'] = 'Palestine'\n",
    "mappings['Palestinian Territory, Occupied'] = 'Palestine'\n",
    "mappings['Panamá'] = 'Panama'\n",
    "mappings['Países Bajos'] = 'Netherlands'\n",
    "mappings['Perú'] = 'Peru'\n",
    "mappings['Polonia'] = 'Poland'\n",
    "mappings['Reino Unido'] = 'United Kingdom'\n",
    "mappings['Reino de Inglaterra'] = 'England'\n",
    "mappings['Reino de Prusia'] = 'Prussia'\n",
    "mappings['Reino de Yugoslavia'] = 'Yugoslavia'\n",
    "mappings['República Checa'] = 'Czech Republic'\n",
    "mappings['República romana'] = 'Italy'\n",
    "mappings['Rumania'] = 'Romania'\n",
    "mappings['Rusia'] = 'Russia'\n",
    "mappings['Sacro Imperio Romano Germánico'] = 'Germany'\n",
    "mappings['Second French Empire'] = 'France'\n",
    "mappings['Second Hellenic Republic'] = 'Greece'\n",
    "mappings['Second Polish Republic'] = 'Poland'\n",
    "mappings['Socialist Federal Republic of Yugoslavia'] = 'Yugoslavia'\n",
    "mappings['Soviet Union'] = 'Russia'\n",
    "mappings['Spanish Empire'] = 'Spain'\n",
    "mappings['Sudáfrica'] = 'South Africa'\n",
    "mappings['Suecia'] = 'Sweden'\n",
    "mappings['Suiza'] = 'Switzerland'\n",
    "mappings['Tajik Soviet Socialist Republic'] = 'Tajikistan'\n",
    "mappings['Territorios Palestinos'] = 'Palestine'\n",
    "mappings[\"Ukrainian People's Republic\"] = 'Ukraine'\n",
    "mappings['Ukrainian Soviet Socialist Republic'] = 'Ukraine'\n",
    "mappings['Unión Soviética'] = 'Russia'\n",
    "mappings['Uzbekistán'] = 'Uzbekistan'\n",
    "mappings['Virreinato de Nueva Granada'] = 'Viceroyalty of New Granada'"
   ]
  },
  {
   "cell_type": "markdown",
   "metadata": {},
   "source": [
    "## Correcting countries"
   ]
  },
  {
   "cell_type": "code",
   "execution_count": 27,
   "metadata": {
    "collapsed": false
   },
   "outputs": [
    {
     "name": "stdout",
     "output_type": "stream",
     "text": [
      "CPU times: user 2.34 s, sys: 7.94 ms, total: 2.34 s\n",
      "Wall time: 2.34 s\n"
     ]
    }
   ],
   "source": [
    "%%time\n",
    "\n",
    "def process_pais_ejemplar(x):\n",
    "    c = x['PAIS_EJEMPLAR']\n",
    "    return mappings.get(c, c)\n",
    "\n",
    "autores_df['PAIS_EJEMPLAR'] = autores_df.apply(process_pais_ejemplar, axis=1)"
   ]
  },
  {
   "cell_type": "code",
   "execution_count": 28,
   "metadata": {
    "collapsed": false
   },
   "outputs": [
    {
     "name": "stdout",
     "output_type": "stream",
     "text": [
      "CPU times: user 2.26 s, sys: 16 µs, total: 2.26 s\n",
      "Wall time: 2.26 s\n"
     ]
    }
   ],
   "source": [
    "%%time\n",
    "\n",
    "def process_pais_autor(x):\n",
    "    c = x['PAIS_AUTOR']\n",
    "    return mappings.get(c, c)\n",
    "\n",
    "autores_df['PAIS_AUTOR'] = autores_df.apply(process_pais_autor, axis=1)"
   ]
  },
  {
   "cell_type": "code",
   "execution_count": 29,
   "metadata": {
    "collapsed": false
   },
   "outputs": [
    {
     "data": {
      "text/plain": [
       "121"
      ]
     },
     "execution_count": 29,
     "metadata": {},
     "output_type": "execute_result"
    }
   ],
   "source": [
    "autores_df['PAIS_EJEMPLAR'].nunique()"
   ]
  },
  {
   "cell_type": "code",
   "execution_count": 30,
   "metadata": {
    "collapsed": false
   },
   "outputs": [
    {
     "data": {
      "text/plain": [
       "244"
      ]
     },
     "execution_count": 30,
     "metadata": {},
     "output_type": "execute_result"
    }
   ],
   "source": [
    "autores_df['PAIS_AUTOR'].nunique()"
   ]
  },
  {
   "cell_type": "markdown",
   "metadata": {},
   "source": [
    "# Saving results"
   ]
  },
  {
   "cell_type": "code",
   "execution_count": 31,
   "metadata": {
    "collapsed": true
   },
   "outputs": [],
   "source": [
    "autores_df.to_csv('autores5.csv', index=False)"
   ]
  },
  {
   "cell_type": "code",
   "execution_count": null,
   "metadata": {
    "collapsed": true
   },
   "outputs": [],
   "source": []
  }
 ],
 "metadata": {
  "kernelspec": {
   "display_name": "Python 3",
   "language": "python",
   "name": "python3"
  },
  "language_info": {
   "codemirror_mode": {
    "name": "ipython",
    "version": 3
   },
   "file_extension": ".py",
   "mimetype": "text/x-python",
   "name": "python",
   "nbconvert_exporter": "python",
   "pygments_lexer": "ipython3",
   "version": "3.4.3"
  }
 },
 "nbformat": 4,
 "nbformat_minor": 1
}
