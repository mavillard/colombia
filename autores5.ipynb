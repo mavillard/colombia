{
 "cells": [
  {
   "cell_type": "markdown",
   "metadata": {},
   "source": [
    "# Located names"
   ]
  },
  {
   "cell_type": "code",
   "execution_count": 1,
   "metadata": {
    "collapsed": true
   },
   "outputs": [],
   "source": [
    "import csv\n",
    "import os\n",
    "import re\n",
    "from collections import defaultdict\n",
    "from collections import Counter\n",
    "from datetime import datetime\n",
    "from datetime import timedelta\n",
    "from string import punctuation\n",
    "\n",
    "import matplotlib\n",
    "import numpy as np\n",
    "import networkx as nx\n",
    "import pandas as pd\n",
    "import requests\n",
    "import seaborn as sns\n",
    "from matplotlib import pyplot as plt\n",
    "from SPARQLWrapper import SPARQLWrapper, JSON"
   ]
  },
  {
   "cell_type": "markdown",
   "metadata": {},
   "source": [
    "# Autores"
   ]
  },
  {
   "cell_type": "code",
   "execution_count": 2,
   "metadata": {
    "collapsed": false
   },
   "outputs": [
    {
     "name": "stdout",
     "output_type": "stream",
     "text": [
      "CPU times: user 5.15 s, sys: 201 ms, total: 5.35 s\n",
      "Wall time: 5.35 s\n"
     ]
    }
   ],
   "source": [
    "%%time\n",
    "\n",
    "autores_df = pd.read_csv('autores4.csv', header=0)\n",
    "autores_df = autores_df.fillna('')"
   ]
  },
  {
   "cell_type": "code",
   "execution_count": 3,
   "metadata": {
    "collapsed": false
   },
   "outputs": [
    {
     "data": {
      "text/plain": [
       "(3054360, 5)"
      ]
     },
     "execution_count": 3,
     "metadata": {},
     "output_type": "execute_result"
    }
   ],
   "source": [
    "autores_df.shape"
   ]
  },
  {
   "cell_type": "code",
   "execution_count": 4,
   "metadata": {
    "collapsed": false
   },
   "outputs": [
    {
     "data": {
      "text/html": [
       "<div>\n",
       "<table border=\"1\" class=\"dataframe\">\n",
       "  <thead>\n",
       "    <tr style=\"text-align: right;\">\n",
       "      <th></th>\n",
       "      <th>TITULO</th>\n",
       "      <th>FECHA_PUB</th>\n",
       "      <th>PAIS_EJEMPLAR</th>\n",
       "      <th>AUTOR</th>\n",
       "      <th>PAIS_AUTOR</th>\n",
       "    </tr>\n",
       "  </thead>\n",
       "  <tbody>\n",
       "    <tr>\n",
       "      <th>0</th>\n",
       "      <td>Un bicho extraño</td>\n",
       "      <td>2010</td>\n",
       "      <td>Spain</td>\n",
       "      <td>Mon Daporta</td>\n",
       "      <td>DESCONOCIDO</td>\n",
       "    </tr>\n",
       "    <tr>\n",
       "      <th>1</th>\n",
       "      <td>Un bicho extraño</td>\n",
       "      <td>2010</td>\n",
       "      <td>Spain</td>\n",
       "      <td>Mon Daporta</td>\n",
       "      <td>DESCONOCIDO</td>\n",
       "    </tr>\n",
       "    <tr>\n",
       "      <th>2</th>\n",
       "      <td>Quisiera tener ...</td>\n",
       "      <td>2010</td>\n",
       "      <td>Mexico</td>\n",
       "      <td>Giovanna Zoboli</td>\n",
       "      <td>DESCONOCIDO</td>\n",
       "    </tr>\n",
       "    <tr>\n",
       "      <th>3</th>\n",
       "      <td>Johannes Gutenberg</td>\n",
       "      <td>2010</td>\n",
       "      <td>Spain</td>\n",
       "      <td>Lluís Borràs Perelló</td>\n",
       "      <td>DESCONOCIDO</td>\n",
       "    </tr>\n",
       "    <tr>\n",
       "      <th>4</th>\n",
       "      <td>La fantástica leyenda de: la princesa y el dragón</td>\n",
       "      <td>2010</td>\n",
       "      <td>Spain</td>\n",
       "      <td>Sonia Alins</td>\n",
       "      <td>DESCONOCIDO</td>\n",
       "    </tr>\n",
       "  </tbody>\n",
       "</table>\n",
       "</div>"
      ],
      "text/plain": [
       "                                              TITULO  FECHA_PUB PAIS_EJEMPLAR  \\\n",
       "0                                   Un bicho extraño       2010         Spain   \n",
       "1                                   Un bicho extraño       2010         Spain   \n",
       "2                                 Quisiera tener ...       2010        Mexico   \n",
       "3                                 Johannes Gutenberg       2010         Spain   \n",
       "4  La fantástica leyenda de: la princesa y el dragón       2010         Spain   \n",
       "\n",
       "                  AUTOR   PAIS_AUTOR  \n",
       "0           Mon Daporta  DESCONOCIDO  \n",
       "1           Mon Daporta  DESCONOCIDO  \n",
       "2       Giovanna Zoboli  DESCONOCIDO  \n",
       "3  Lluís Borràs Perelló  DESCONOCIDO  \n",
       "4           Sonia Alins  DESCONOCIDO  "
      ]
     },
     "execution_count": 4,
     "metadata": {},
     "output_type": "execute_result"
    }
   ],
   "source": [
    "autores_df.head()"
   ]
  },
  {
   "cell_type": "markdown",
   "metadata": {},
   "source": [
    "# Autores con país conocido"
   ]
  },
  {
   "cell_type": "code",
   "execution_count": 5,
   "metadata": {
    "collapsed": false
   },
   "outputs": [],
   "source": [
    "autores_pais_conocido_df = autores_df[\n",
    "    (autores_df['AUTOR'] != 'DESCONOCIDO') &\n",
    "    (autores_df['PAIS_AUTOR'] != 'DESCONOCIDO')\n",
    "]"
   ]
  },
  {
   "cell_type": "code",
   "execution_count": 6,
   "metadata": {
    "collapsed": false
   },
   "outputs": [
    {
     "data": {
      "text/plain": [
       "(811460, 5)"
      ]
     },
     "execution_count": 6,
     "metadata": {},
     "output_type": "execute_result"
    }
   ],
   "source": [
    "autores_pais_conocido_df.shape"
   ]
  },
  {
   "cell_type": "code",
   "execution_count": 7,
   "metadata": {
    "collapsed": false
   },
   "outputs": [
    {
     "data": {
      "text/html": [
       "<div>\n",
       "<table border=\"1\" class=\"dataframe\">\n",
       "  <thead>\n",
       "    <tr style=\"text-align: right;\">\n",
       "      <th></th>\n",
       "      <th>TITULO</th>\n",
       "      <th>FECHA_PUB</th>\n",
       "      <th>PAIS_EJEMPLAR</th>\n",
       "      <th>AUTOR</th>\n",
       "      <th>PAIS_AUTOR</th>\n",
       "    </tr>\n",
       "  </thead>\n",
       "  <tbody>\n",
       "    <tr>\n",
       "      <th>10</th>\n",
       "      <td>Adivina en qué pais ...</td>\n",
       "      <td>2010</td>\n",
       "      <td>Spain</td>\n",
       "      <td>Martina Badstuber</td>\n",
       "      <td>Germany</td>\n",
       "    </tr>\n",
       "    <tr>\n",
       "      <th>11</th>\n",
       "      <td>Adivina en qué pais ...</td>\n",
       "      <td>2010</td>\n",
       "      <td>Spain</td>\n",
       "      <td>Martina Badstuber</td>\n",
       "      <td>Germany</td>\n",
       "    </tr>\n",
       "    <tr>\n",
       "      <th>12</th>\n",
       "      <td>Adivina en qué pais ...</td>\n",
       "      <td>2010</td>\n",
       "      <td>Spain</td>\n",
       "      <td>Martina Badstuber</td>\n",
       "      <td>Germany</td>\n",
       "    </tr>\n",
       "    <tr>\n",
       "      <th>21</th>\n",
       "      <td>Galleta para perros</td>\n",
       "      <td>2008</td>\n",
       "      <td>Spain</td>\n",
       "      <td>Helen Cooper</td>\n",
       "      <td>United Kingdom</td>\n",
       "    </tr>\n",
       "    <tr>\n",
       "      <th>22</th>\n",
       "      <td>Galleta para perros</td>\n",
       "      <td>2008</td>\n",
       "      <td>Spain</td>\n",
       "      <td>Helen Cooper</td>\n",
       "      <td>United Kingdom</td>\n",
       "    </tr>\n",
       "  </tbody>\n",
       "</table>\n",
       "</div>"
      ],
      "text/plain": [
       "                     TITULO  FECHA_PUB PAIS_EJEMPLAR              AUTOR  \\\n",
       "10  Adivina en qué pais ...       2010         Spain  Martina Badstuber   \n",
       "11  Adivina en qué pais ...       2010         Spain  Martina Badstuber   \n",
       "12  Adivina en qué pais ...       2010         Spain  Martina Badstuber   \n",
       "21      Galleta para perros       2008         Spain       Helen Cooper   \n",
       "22      Galleta para perros       2008         Spain       Helen Cooper   \n",
       "\n",
       "        PAIS_AUTOR  \n",
       "10         Germany  \n",
       "11         Germany  \n",
       "12         Germany  \n",
       "21  United Kingdom  \n",
       "22  United Kingdom  "
      ]
     },
     "execution_count": 7,
     "metadata": {},
     "output_type": "execute_result"
    }
   ],
   "source": [
    "autores_pais_conocido_df.head()"
   ]
  },
  {
   "cell_type": "code",
   "execution_count": 8,
   "metadata": {
    "collapsed": false
   },
   "outputs": [
    {
     "data": {
      "text/plain": [
       "13366"
      ]
     },
     "execution_count": 8,
     "metadata": {},
     "output_type": "execute_result"
    }
   ],
   "source": [
    "autores_pais_conocido_df['AUTOR'].nunique()"
   ]
  },
  {
   "cell_type": "markdown",
   "metadata": {},
   "source": [
    "## País autor"
   ]
  },
  {
   "cell_type": "code",
   "execution_count": 9,
   "metadata": {
    "collapsed": true
   },
   "outputs": [],
   "source": [
    "def get_pais_autor_data_wkd(name, lang):\n",
    "    template = \"\"\"\n",
    "        PREFIX wd: <http://www.wikidata.org/entity/>\n",
    "        PREFIX wdt: <http://www.wikidata.org/prop/direct/>\n",
    "        PREFIX rdfs: <http://www.w3.org/2000/01/rdf-schema#>\n",
    "\n",
    "        SELECT DISTINCT ?authorLabel ?countryLabel\n",
    "        WHERE {{\n",
    "            BIND(\"{0}\"@{1} AS ?authorLabel) .\n",
    "            ?author rdfs:label ?authorLabel .\n",
    "            ?author wdt:P31 wd:Q5 .\n",
    "            {{\n",
    "                {{\n",
    "                    ?author wdt:P106 wd:Q36180 .\n",
    "                }}\n",
    "                UNION\n",
    "                {{ \n",
    "                    ?author wdt:P106 ?prof .\n",
    "                    ?prof wdt:P279 wd:Q36180 .\n",
    "                }}\n",
    "            }}\n",
    "            ?author wdt:P19 ?pob .\n",
    "            ?pob wdt:P17 ?country .\n",
    "            ?country rdfs:label ?countryLabel .\n",
    "            FILTER(lang(?countryLabel)=\"{1}\")\n",
    "        }}\n",
    "    \"\"\"\n",
    "    query = template.format(name, lang)\n",
    "    url = 'https://query.wikidata.org/bigdata/namespace/wdq/sparql'\n",
    "    data = requests.get(url, params={'query': query, 'format': 'json'}).json()\n",
    "    return data"
   ]
  },
  {
   "cell_type": "code",
   "execution_count": 10,
   "metadata": {
    "collapsed": true
   },
   "outputs": [],
   "source": [
    "sparql_dbp = SPARQLWrapper(\"http://dbpedia.org/sparql\")\n",
    "\n",
    "def get_pais_autor_data_dbp(name, lang):\n",
    "    template = \"\"\"\n",
    "        PREFIX dbo: <http://dbpedia.org/ontology/>\n",
    "        PREFIX dbp: <http://dbpedia.org/property/>\n",
    "        PREFIX rdf: <http://www.w3.org/1999/02/22-rdf-syntax-ns#>\n",
    "        PREFIX rdfs: <http://www.w3.org/2000/01/rdf-schema#>\n",
    "\n",
    "        SELECT DISTINCT ?authorLabel ?countryLabel\n",
    "        WHERE {{\n",
    "            BIND(\"{0}\"@{1} AS ?authorLabel) .\n",
    "            ?author rdfs:label ?authorLabel .\n",
    "            ?author rdf:type dbo:Person .\n",
    "            {{\n",
    "                {{\n",
    "                    ?author rdf:type dbo:Writer .\n",
    "                }}\n",
    "                UNION\n",
    "                {{\n",
    "                    ?author rdf:type ?prof .\n",
    "                    ?prof rdfs:subClassOf dbo:Writer .\n",
    "                }}\n",
    "            }}\n",
    "            ?author dbp:birthPlace ?pob .\n",
    "            ?pob rdf:type dbo:Country .\n",
    "            ?pob rdfs:label ?countryLabel .\n",
    "            FILTER(lang(?countryLabel)=\"{1}\")\n",
    "        }}\n",
    "    \"\"\"\n",
    "    query = template.format(name, lang)\n",
    "    sparql_dbp.setQuery(query)\n",
    "    sparql_dbp.setReturnFormat(JSON)\n",
    "    data = sparql_dbp.query().convert()\n",
    "    return data"
   ]
  },
  {
   "cell_type": "code",
   "execution_count": 11,
   "metadata": {
    "collapsed": true
   },
   "outputs": [],
   "source": [
    "def get_pais_autor_data(db, name, lang):\n",
    "    try:\n",
    "        if db == 'wdt':\n",
    "            data = get_pais_autor_data_wkd(name, lang)\n",
    "        elif db == 'dbp':\n",
    "            data = get_pais_autor_data_dbp(name, lang)\n",
    "\n",
    "        results = set(d['countryLabel']['value'] for d in data['results']['bindings'])\n",
    "        if len(results) == 0:\n",
    "            result = 'UNKOWN'\n",
    "        elif len(results) == 1:\n",
    "            result = results.pop()\n",
    "        else:\n",
    "            print('MáS DE UN PAíS PARA', name, ':', results)\n",
    "            result = results.pop()\n",
    "    except:\n",
    "        print('ERROR EN SPARQL PARA', name)\n",
    "        result = 'UNKOWN'\n",
    "    return result"
   ]
  },
  {
   "cell_type": "code",
   "execution_count": 12,
   "metadata": {
    "collapsed": true
   },
   "outputs": [],
   "source": [
    "def get_pais_autor(name):\n",
    "    for lang in ['en', 'es']:\n",
    "        for db in ['wdt', 'dbp']:\n",
    "            r = get_pais_autor_data(db, name, lang)\n",
    "            if r != 'UNKOWN':\n",
    "                return r\n",
    "    return 'DESCONOCIDO'"
   ]
  },
  {
   "cell_type": "code",
   "execution_count": 13,
   "metadata": {
    "collapsed": false
   },
   "outputs": [
    {
     "name": "stdout",
     "output_type": "stream",
     "text": [
      "CPU times: user 19.2 s, sys: 16.1 ms, total: 19.2 s\n",
      "Wall time: 19.2 s\n"
     ]
    }
   ],
   "source": [
    "%%time\n",
    "\n",
    "autores_paises_dict = {}\n",
    "\n",
    "for i, x in autores_df.drop_duplicates(['AUTOR']).iterrows():\n",
    "    autores_paises_dict[x['AUTOR']] = x['PAIS_AUTOR']"
   ]
  },
  {
   "cell_type": "code",
   "execution_count": 14,
   "metadata": {
    "collapsed": true
   },
   "outputs": [],
   "source": [
    "def combinaciones(ls):\n",
    "    r = []\n",
    "    for x in ls:\n",
    "        aux = list(ls)\n",
    "        aux.remove(x)\n",
    "        r.append(aux)\n",
    "    return r"
   ]
  },
  {
   "cell_type": "code",
   "execution_count": 15,
   "metadata": {
    "collapsed": false
   },
   "outputs": [
    {
     "name": "stdout",
     "output_type": "stream",
     "text": [
      "MáS DE UN PAíS PARA Ludmila Zeman : {'Czech Republic', 'Czechoslovakia'}\n",
      "MáS DE UN PAíS PARA David Shannon : {'United Kingdom', 'United States of America'}\n",
      "MáS DE UN PAíS PARA Mario Ramos : {'Spain', 'Belgium'}\n",
      "MáS DE UN PAíS PARA Mario Benedetti : {'Uruguay', 'Italy'}\n",
      "MáS DE UN PAíS PARA Antonin Artaud : {'Spain', 'Monaco', 'Italy', 'France'}\n",
      "MáS DE UN PAíS PARA Yotam Ottolenghi : {'Mandatory Palestine', 'Jordan', 'Palestine', 'Ottoman Empire', 'Israel'}\n",
      "MáS DE UN PAíS PARA Richard Wagner : {'Romania', 'Germany'}\n",
      "MáS DE UN PAíS PARA Robert Taylor : {'United Kingdom', 'United States of America'}\n",
      "MáS DE UN PAíS PARA James Morrison : {'Australia', 'United States of America'}\n",
      "MáS DE UN PAíS PARA James Martin : {'United Kingdom', 'United States of America'}\n",
      "MáS DE UN PAíS PARA David Grossman : {'Mandatory Palestine', 'Jordan', 'Palestine', 'Ottoman Empire', 'Israel'}\n",
      "MáS DE UN PAíS PARA John Rogers : {'United Kingdom', 'United States of America'}\n",
      "MáS DE UN PAíS PARA Joseph Campbell : {'United Kingdom', 'United States of America'}\n",
      "MáS DE UN PAíS PARA Michael Grant : {'United Kingdom', 'United States of America'}\n",
      "MáS DE UN PAíS PARA Nurit Zarchi : {'Mandatory Palestine', 'Jordan', 'Palestine', 'Ottoman Empire', 'Israel'}\n",
      "MáS DE UN PAíS PARA Oscar Niemeyer : {'Brazil', 'Spain'}\n",
      "MáS DE UN PAíS PARA Peter Jones : {'Canada', 'United Kingdom'}\n",
      "MáS DE UN PAíS PARA Robert Greene : {'United Kingdom', 'United States of America'}\n",
      "MáS DE UN PAíS PARA Rodrigo García : {'Argentina', 'Colombia'}\n",
      "MáS DE UN PAíS PARA Amos Oz : {'Mandatory Palestine', 'Jordan', 'Palestine', 'Ottoman Empire', 'Israel'}\n",
      "MáS DE UN PAíS PARA John Miller : {'Canada', 'United States of America'}\n",
      "MáS DE UN PAíS PARA John Hopkins : {'United Kingdom', 'United States of America'}\n",
      "MáS DE UN PAíS PARA John Gardner : {'United Kingdom', 'United States of America'}\n",
      "MáS DE UN PAíS PARA John Gray : {'United Kingdom', 'United States of America'}\n",
      "MáS DE UN PAíS PARA Robert Herrick : {'United Kingdom', 'United States of America'}\n",
      "MáS DE UN PAíS PARA David Butler : {'Ireland', 'United Kingdom', 'United States of America'}\n",
      "MáS DE UN PAíS PARA Nir Baram : {'Mandatory Palestine', 'Jordan', 'Palestine', 'Ottoman Empire', 'Israel'}\n",
      "MáS DE UN PAíS PARA John Locke : {'United Kingdom', 'United States of America'}\n",
      "MáS DE UN PAíS PARA Robert Hughes : {'United Kingdom', 'Australia'}\n",
      "MáS DE UN PAíS PARA Hans Schwarz : {'Germany', 'Switzerland'}\n",
      "MáS DE UN PAíS PARA John Lynch : {'United Kingdom', 'United States of America'}\n",
      "MáS DE UN PAíS PARA John Toland : {'Ireland', 'United States of America'}\n",
      "MáS DE UN PAíS PARA Robert Burton : {'Germany', 'United Kingdom'}\n",
      "MáS DE UN PAíS PARA Flavio Josefo : {'Mandato británico de Palestina', 'Jordania', 'Imperio Otomano', 'Israel', 'Palestina'}\n",
      "MáS DE UN PAíS PARA John Taylor : {'Ireland', 'United Kingdom'}\n",
      "MáS DE UN PAíS PARA Rodrigo García : {'Argentina', 'Colombia'}\n",
      "MáS DE UN PAíS PARA Alejo Carpentier : {'Cuba', 'Switzerland'}\n",
      "MáS DE UN PAíS PARA Albert Caraco : {'Byzantine Empire', 'Ottoman Empire', 'Latin Empire'}\n",
      "MáS DE UN PAíS PARA Juan Bosch : {'Spain', 'Dominican Republic'}\n",
      "MáS DE UN PAíS PARA David Lloyd : {'United Kingdom', 'United States of America'}\n",
      "MáS DE UN PAíS PARA Pierre Lévy : {'Tunisia', 'Hafsid dynasty'}\n",
      "MáS DE UN PAíS PARA John Taylor : {'Ireland', 'United Kingdom'}\n",
      "MáS DE UN PAíS PARA Edward Said : {'Mandatory Palestine', 'Jordan', 'Palestine', 'Ottoman Empire', 'Israel'}\n",
      "MáS DE UN PAíS PARA Richard Ford : {'United Kingdom', 'United States of America'}\n",
      "MáS DE UN PAíS PARA Lucien Sfez : {'Tunisia', 'Hafsid dynasty'}\n",
      "MáS DE UN PAíS PARA Henry Koster : {'Germany', 'Portugal'}\n",
      "MáS DE UN PAíS PARA Margaret Wilson : {'United Kingdom', 'United States of America'}\n",
      "MáS DE UN PAíS PARA Michael Jackson : {'United Kingdom', 'United States of America'}\n",
      "MáS DE UN PAíS PARA Michael Jacobs : {'Italy', 'United States of America'}\n",
      "MáS DE UN PAíS PARA John Richardson : {'Canada', 'United Kingdom'}\n",
      "MáS DE UN PAíS PARA Robert Gordon : {'United Kingdom', 'United States of America'}\n",
      "MáS DE UN PAíS PARA Robin Williams : {'United Kingdom', 'United States of America'}\n",
      "MáS DE UN PAíS PARA Andrew Miller : {'Canada', 'United Kingdom'}\n",
      "MáS DE UN PAíS PARA Albert Memmi : {'Tunisia', 'Hafsid dynasty'}\n",
      "MáS DE UN PAíS PARA José Hernández : {'Argentina', 'Peru'}\n",
      "MáS DE UN PAíS PARA Ulrich Beck : {'Poland', 'Germany'}\n",
      "MáS DE UN PAíS PARA José Hernández : {'Argentina', 'Peru'}\n",
      "MáS DE UN PAíS PARA William Hamilton : {'United Kingdom', 'United States of America'}\n",
      "MáS DE UN PAíS PARA Irving Berlin : {'Russia', 'Belarus'}\n",
      "MáS DE UN PAíS PARA Trevanian : {'Japan', 'United States of America'}\n",
      "MáS DE UN PAíS PARA William Taylor : {'United Kingdom', 'New Zealand'}\n",
      "MáS DE UN PAíS PARA David Martin : {'Hungary', 'France'}\n",
      "MáS DE UN PAíS PARA Rodolfo Usigli : {'Mexico', 'Colombia'}\n",
      "MáS DE UN PAíS PARA Yves Charles Zarka : {'Tunisia', 'Hafsid dynasty'}\n",
      "MáS DE UN PAíS PARA Garcilaso de la Vega : {'Spain', 'Peru'}\n",
      "MáS DE UN PAíS PARA George Martin : {'Spain', 'United Kingdom'}\n",
      "ERROR EN SPARQL PARA David N Gilbert\n",
      "ERROR EN SPARQL PARA N Gilbert\n",
      "MáS DE UN PAíS PARA John Taylor : {'Ireland', 'United Kingdom'}\n",
      "MáS DE UN PAíS PARA Roberto Blanco : {'Tunisia', 'Hafsid dynasty'}\n",
      "MáS DE UN PAíS PARA Rodrigo García : {'Argentina', 'Colombia'}\n",
      "MáS DE UN PAíS PARA Michael Collins : {'Ireland', 'United States of America'}\n",
      "MáS DE UN PAíS PARA William Cooper : {'United Kingdom', 'Australia'}\n",
      "MáS DE UN PAíS PARA Eduardo Gutiérrez : {'Bolivia', 'Argentina'}\n",
      "MáS DE UN PAíS PARA Abdelwahab Meddeb : {'Tunisia', 'Hafsid dynasty'}\n",
      "MáS DE UN PAíS PARA David Irving : {'United Kingdom', 'United States of America'}\n",
      "MáS DE UN PAíS PARA Paul Martin : {'Romania', 'Austria', 'United States of America'}\n",
      "MáS DE UN PAíS PARA Michael Howard : {'United Kingdom', 'United States of America'}\n",
      "MáS DE UN PAíS PARA Denis Langlois : {'Canada', 'France'}\n",
      "MáS DE UN PAíS PARA José Hernández : {'Argentina', 'Peru'}\n",
      "MáS DE UN PAíS PARA Jorge Urrutia : {'Spain', 'Chile'}\n",
      "MáS DE UN PAíS PARA John Ford : {'United Kingdom', 'United States of America'}\n",
      "MáS DE UN PAíS PARA Serge Bramly : {'Tunisia', 'Hafsid dynasty'}\n",
      "MáS DE UN PAíS PARA Richard Koch : {'Germany', 'United Kingdom'}\n",
      "MáS DE UN PAíS PARA Miguel Gomes : {'Venezuela', 'Portugal'}\n",
      "MáS DE UN PAíS PARA John Taylor : {'Ireland', 'United Kingdom'}\n",
      "MáS DE UN PAíS PARA María de Francia : {'Francia', 'Antiguo Régimen en Francia'}\n",
      "MáS DE UN PAíS PARA José Hernández : {'Argentina', 'Peru'}\n",
      "MáS DE UN PAíS PARA John Gray : {'United Kingdom', 'United States of America'}\n",
      "MáS DE UN PAíS PARA John Russell : {'United Kingdom', 'United States of America'}\n",
      "MáS DE UN PAíS PARA Alfred Schmidt : {'Slovenia', 'Germany'}\n",
      "MáS DE UN PAíS PARA David Thomas : {'United Kingdom', 'France'}\n",
      "MáS DE UN PAíS PARA Enrique Piñeyro : {'Cuba', 'Italy'}\n",
      "MáS DE UN PAíS PARA Daniel Cohen : {'Tunisia', 'Hafsid dynasty'}\n",
      "MáS DE UN PAíS PARA José Hernández : {'Argentina', 'Peru'}\n",
      "MáS DE UN PAíS PARA Thomas Berger : {'Germany', 'United States of America'}\n",
      "MáS DE UN PAíS PARA John Gardner : {'United Kingdom', 'United States of America'}\n",
      "MáS DE UN PAíS PARA John Moore : {'Ireland', 'United Kingdom', 'United States of America'}\n",
      "MáS DE UN PAíS PARA John Russell : {'United Kingdom', 'United States of America'}\n",
      "MáS DE UN PAíS PARA Daniel James : {'United Kingdom', 'New Zealand'}\n",
      "MáS DE UN PAíS PARA Robert Anderson : {'Ireland', 'United Kingdom', 'United States of America'}\n",
      "MáS DE UN PAíS PARA John Brown : {'United Kingdom', 'United States of America'}\n",
      "MáS DE UN PAíS PARA David Thomas : {'United Kingdom', 'France'}\n",
      "MáS DE UN PAíS PARA Marcel Hanoun : {'Tunisia', 'Hafsid dynasty'}\n",
      "MáS DE UN PAíS PARA George Davis : {'United Kingdom', 'United States of America'}\n",
      "MáS DE UN PAíS PARA Eduardo Gutiérrez : {'Bolivia', 'Argentina'}\n",
      "MáS DE UN PAíS PARA Pierre Berton : {'Canada', 'France'}\n",
      "MáS DE UN PAíS PARA William Hamilton : {'United Kingdom', 'United States of America'}\n",
      "MáS DE UN PAíS PARA George Martin : {'Spain', 'United Kingdom'}\n",
      "MáS DE UN PAíS PARA Meindert DeJong : {'Germany', 'Netherlands'}\n",
      "MáS DE UN PAíS PARA David Cook : {'United Kingdom', 'United States of America'}\n",
      "MáS DE UN PAíS PARA William Nicholson : {'United Kingdom', 'Mexico'}\n",
      "MáS DE UN PAíS PARA Robert Maxwell : {'Ukraine', 'United States of America'}\n",
      "MáS DE UN PAíS PARA Alan Brown : {'United Kingdom', 'United States of America'}\n",
      "MáS DE UN PAíS PARA Robert Burton : {'Germany', 'United Kingdom'}\n",
      "MáS DE UN PAíS PARA Leonid Tsypkin : {'Principality of Minsk', 'Second Polish Republic', 'Reichskommissariat Ostland', \"Belarusian People's Republic\", 'Byelorussian Soviet Socialist Republic', 'Lithuanian–Belorussian Soviet Socialist Republic', 'Belarus', 'Grand Duchy of Lithuania', 'Russian Empire', 'Socialist Soviet Republic of Byelorussia'}\n",
      "MáS DE UN PAíS PARA José Hernández : {'Argentina', 'Peru'}\n",
      "MáS DE UN PAíS PARA Chris Stewart : {'United Kingdom', 'United States of America'}\n",
      "MáS DE UN PAíS PARA Tom Holland : {'United Kingdom', 'United States of America'}\n",
      "MáS DE UN PAíS PARA Roger Smith : {'South Africa', 'United States of America'}\n",
      "MáS DE UN PAíS PARA Thomas Moore : {'Ireland', 'United Kingdom'}\n",
      "MáS DE UN PAíS PARA John Ireland : {'Canada', 'United Kingdom'}\n",
      "MáS DE UN PAíS PARA Marc Sautet : {'Guernsey', 'France', 'Jersey'}\n",
      "MáS DE UN PAíS PARA Carlos Romero : {'Spain', 'Bolivia'}\n",
      "MáS DE UN PAíS PARA John Edwards : {'United Kingdom', 'United States of America'}\n",
      "MáS DE UN PAíS PARA Amira Hass : {'Mandatory Palestine', 'Jordan', 'Palestine', 'Ottoman Empire', 'Israel'}\n",
      "MáS DE UN PAíS PARA János Székely : {'Romania', 'Hungary'}\n",
      "MáS DE UN PAíS PARA Leah Goldberg : {'Russia', 'Prussia'}\n",
      "MáS DE UN PAíS PARA Robert Schneider : {'Austria', 'Germany'}\n",
      "MáS DE UN PAíS PARA Wolfgang Bauer : {'Austria', 'Germany'}\n",
      "MáS DE UN PAíS PARA Richard Williams : {'Canada', 'United Kingdom', 'Australia'}\n",
      "MáS DE UN PAíS PARA David Ellis : {'United Kingdom', 'United States of America'}\n",
      "MáS DE UN PAíS PARA James Morrison : {'Australia', 'United States of America'}\n",
      "MáS DE UN PAíS PARA John Grant : {'United Kingdom', 'United States of America'}\n",
      "MáS DE UN PAíS PARA Richard Ford : {'United Kingdom', 'United States of America'}\n",
      "MáS DE UN PAíS PARA Mirra Ginsburg : {'Principality of Minsk', 'Second Polish Republic', 'Reichskommissariat Ostland', \"Belarusian People's Republic\", 'Byelorussian Soviet Socialist Republic', 'Lithuanian–Belorussian Soviet Socialist Republic', 'Belarus', 'Grand Duchy of Lithuania', 'Russian Empire', 'Socialist Soviet Republic of Byelorussia'}\n",
      "MáS DE UN PAíS PARA Robert Schneider : {'Austria', 'Germany'}\n",
      "MáS DE UN PAíS PARA Paul Moor : {'Switzerland', 'United States of America'}\n",
      "MáS DE UN PAíS PARA Christian Lehmann : {'Germany', 'France'}\n",
      "MáS DE UN PAíS PARA Jan Mark : {'Sweden', 'United Kingdom'}\n",
      "MáS DE UN PAíS PARA Jomi García Ascot : {'Túnez', 'Háfsidas'}\n",
      "MáS DE UN PAíS PARA David Lloyd : {'United Kingdom', 'United States of America'}\n",
      "MáS DE UN PAíS PARA Eduardo Gutiérrez : {'Bolivia', 'Argentina'}\n",
      "MáS DE UN PAíS PARA Thomas Moore : {'Ireland', 'United Kingdom'}\n",
      "MáS DE UN PAíS PARA Paul West : {'United Kingdom', 'United States of America'}\n",
      "MáS DE UN PAíS PARA Royall Tyler : {'United Kingdom', 'United States of America'}\n",
      "MáS DE UN PAíS PARA Henry Roth : {'Kingdom of Galicia and Lodomeria', 'Austria-Hungary'}\n",
      "MáS DE UN PAíS PARA Robert Nelson : {'United Kingdom', 'United States of America'}\n",
      "MáS DE UN PAíS PARA Hermann Schreiber : {'Austria', 'Germany'}\n",
      "MáS DE UN PAíS PARA Richard Harris : {'Ireland', 'United Kingdom'}\n",
      "MáS DE UN PAíS PARA Nicholas Evans : {'United Kingdom', 'United States of America'}\n",
      "MáS DE UN PAíS PARA Peter Abrahams : {'South Africa', 'United States of America'}\n",
      "MáS DE UN PAíS PARA William Wright : {'United Kingdom', 'United States of America'}\n",
      "MáS DE UN PAíS PARA Robert Cohen : {'Canada', 'Switzerland'}\n",
      "MáS DE UN PAíS PARA Robert Anderson : {'Ireland', 'United Kingdom', 'United States of America'}\n",
      "MáS DE UN PAíS PARA John Locke : {'United Kingdom', 'United States of America'}\n",
      "MáS DE UN PAíS PARA Nicole de Buron : {'Tunisia', 'Hafsid dynasty'}\n",
      "MáS DE UN PAíS PARA Peter Baumgartner : {'Austria', 'Switzerland'}\n",
      "MáS DE UN PAíS PARA William Taylor : {'United Kingdom', 'New Zealand'}\n",
      "MáS DE UN PAíS PARA William Taylor : {'United Kingdom', 'New Zealand'}\n",
      "MáS DE UN PAíS PARA José Hernández : {'Argentina', 'Peru'}\n",
      "MáS DE UN PAíS PARA James Cowan : {'New Zealand', 'Australia'}\n",
      "MáS DE UN PAíS PARA Alan Guth : {'Canada', 'United States of America'}\n",
      "MáS DE UN PAíS PARA José Hernández : {'Argentina', 'Peru'}\n",
      "MáS DE UN PAíS PARA Mark Fisher : {'Canada', 'United Kingdom'}\n",
      "MáS DE UN PAíS PARA Michael Jackson : {'United Kingdom', 'United States of America'}\n",
      "MáS DE UN PAíS PARA Dieter Schlesak : {'Kingdom of Hungary', 'Eastern Hungarian Kingdom', 'Austria-Hungary', 'Romania', 'Principality of Transylvania', 'Habsburg Empire', 'Austrian Empire'}\n",
      "MáS DE UN PAíS PARA Thomas Burke : {'United Kingdom', 'United States of America'}\n",
      "MáS DE UN PAíS PARA Alain Bosquet : {'Belgium', 'Ukraine'}\n",
      "MáS DE UN PAíS PARA Alan Brown : {'United Kingdom', 'United States of America'}\n",
      "MáS DE UN PAíS PARA William Boyle : {'Ireland', 'United States of America'}\n",
      "MáS DE UN PAíS PARA Andrew Brown : {'South Africa', 'United Kingdom'}\n",
      "MáS DE UN PAíS PARA Eduardo Gutiérrez : {'Bolivia', 'Argentina'}\n",
      "MáS DE UN PAíS PARA John Taylor : {'Ireland', 'United Kingdom'}\n",
      "MáS DE UN PAíS PARA William Green : {'United Kingdom', 'United States of America'}\n",
      "MáS DE UN PAíS PARA John Lynch : {'United Kingdom', 'United States of America'}\n",
      "MáS DE UN PAíS PARA John Taylor : {'Ireland', 'United Kingdom'}\n",
      "MáS DE UN PAíS PARA John Moore : {'Ireland', 'United Kingdom', 'United States of America'}\n",
      "MáS DE UN PAíS PARA Carlos Montenegro : {'Spain', 'Bolivia'}\n",
      "MáS DE UN PAíS PARA David Cook : {'United Kingdom', 'United States of America'}\n",
      "MáS DE UN PAíS PARA David Martin : {'Hungary', 'France'}\n",
      "MáS DE UN PAíS PARA John Miller : {'Canada', 'United States of America'}\n",
      "MáS DE UN PAíS PARA David Martin : {'Hungary', 'France'}\n",
      "MáS DE UN PAíS PARA Cecil Taylor : {'United Kingdom', 'United States of America'}\n",
      "MáS DE UN PAíS PARA José Hernández : {'Argentina', 'Peru'}\n",
      "MáS DE UN PAíS PARA John Brown : {'United Kingdom', 'United States of America'}\n",
      "MáS DE UN PAíS PARA Andrew White : {'United Kingdom', 'United States of America'}\n",
      "MáS DE UN PAíS PARA Robert Gordon : {'United Kingdom', 'United States of America'}\n",
      "MáS DE UN PAíS PARA James Lee : {'Australia', 'United States of America'}\n",
      "MáS DE UN PAíS PARA José Hernández : {'Argentina', 'Peru'}\n",
      "MáS DE UN PAíS PARA James Martin : {'United Kingdom', 'United States of America'}\n",
      "MáS DE UN PAíS PARA Mario Ramos : {'Spain', 'Belgium'}\n",
      "MáS DE UN PAíS PARA Robert Muller : {'Germany', 'Belgium'}\n",
      "MáS DE UN PAíS PARA Martine Cadieu : {'Tunisia', 'Hafsid dynasty'}\n",
      "MáS DE UN PAíS PARA Herbert Baker : {'United Kingdom', 'United States of America'}\n",
      "MáS DE UN PAíS PARA John Leonard : {'United Kingdom', 'United States of America'}\n",
      "MáS DE UN PAíS PARA Robert Taylor : {'United Kingdom', 'United States of America'}\n",
      "MáS DE UN PAíS PARA Pat Mills : {'Canada', 'United Kingdom'}\n",
      "MáS DE UN PAíS PARA Mark Frost : {'United Kingdom', 'United States of America'}\n",
      "MáS DE UN PAíS PARA Thomas Day : {'United Kingdom', 'France'}\n",
      "MáS DE UN PAíS PARA Tom McCarthy : {'United Kingdom', 'United States of America'}\n",
      "MáS DE UN PAíS PARA Carlos Romero : {'Spain', 'Bolivia'}\n",
      "MáS DE UN PAíS PARA Daniel Cohen : {'Tunisia', 'Hafsid dynasty'}\n",
      "MáS DE UN PAíS PARA John Lewis : {'Canada', 'United Kingdom'}\n",
      "MáS DE UN PAíS PARA Robert Neumann : {'Austria', 'Czechoslovakia'}\n",
      "MáS DE UN PAíS PARA Robert Wilson : {'United Kingdom', 'United States of America'}\n",
      "MáS DE UN PAíS PARA Richard Williams : {'Canada', 'United Kingdom', 'Australia'}\n",
      "MáS DE UN PAíS PARA James White : {'Ireland', 'United Kingdom'}\n",
      "MáS DE UN PAíS PARA Walter Anderson : {'Principality of Minsk', 'Second Polish Republic', 'Reichskommissariat Ostland', \"Belarusian People's Republic\", 'Byelorussian Soviet Socialist Republic', 'Lithuanian–Belorussian Soviet Socialist Republic', 'Belarus', 'Grand Duchy of Lithuania', 'Russian Empire', 'Socialist Soviet Republic of Byelorussia'}\n",
      "MáS DE UN PAíS PARA John Murray : {'United Kingdom', 'United States of America'}\n",
      "MáS DE UN PAíS PARA Carlos Romero : {'Spain', 'Bolivia'}\n",
      "MáS DE UN PAíS PARA John Lewis : {'Canada', 'United Kingdom'}\n",
      "MáS DE UN PAíS PARA William Watson : {'Canada', 'United Kingdom'}\n",
      "MáS DE UN PAíS PARA Joseph von Eichendorff : {'Alemania', 'Polonia'}\n",
      "MáS DE UN PAíS PARA José Hernández : {'Argentina', 'Peru'}\n",
      "MáS DE UN PAíS PARA José Hernández : {'Argentina', 'Peru'}\n",
      "MáS DE UN PAíS PARA José Hernández : {'Argentina', 'Peru'}\n",
      "MáS DE UN PAíS PARA David Walker : {'United Kingdom', 'United States of America'}\n",
      "MáS DE UN PAíS PARA Eduardo Gutiérrez : {'Bolivia', 'Argentina'}\n",
      "MáS DE UN PAíS PARA Richard Weiner : {'Czech Republic', 'United States of America'}\n",
      "MáS DE UN PAíS PARA Paul Green : {'United Kingdom', 'United States of America'}\n",
      "MáS DE UN PAíS PARA José Hernández : {'Argentina', 'Peru'}\n",
      "MáS DE UN PAíS PARA Robert Gaillard : {'France', 'United States of America'}\n",
      "MáS DE UN PAíS PARA Nina Wolmark : {'Principality of Minsk', 'Second Polish Republic', 'Reichskommissariat Ostland', \"Belarusian People's Republic\", 'Byelorussian Soviet Socialist Republic', 'Lithuanian–Belorussian Soviet Socialist Republic', 'Belarus', 'Grand Duchy of Lithuania', 'Russian Empire', 'Socialist Soviet Republic of Byelorussia'}\n",
      "MáS DE UN PAíS PARA Sorj Chalandon : {'Tunisia', 'Hafsid dynasty'}\n",
      "MáS DE UN PAíS PARA John Moore : {'Ireland', 'United Kingdom', 'United States of America'}\n",
      "MáS DE UN PAíS PARA José Hernández : {'Argentina', 'Peru'}\n",
      "MáS DE UN PAíS PARA Robert Muller : {'Germany', 'Belgium'}\n",
      "MáS DE UN PAíS PARA John Leonard : {'United Kingdom', 'United States of America'}\n",
      "MáS DE UN PAíS PARA José Hernández : {'Argentina', 'Peru'}\n",
      "MáS DE UN PAíS PARA James Martin : {'United Kingdom', 'United States of America'}\n",
      "MáS DE UN PAíS PARA John Evans : {'United Kingdom', 'United States of America'}\n",
      "MáS DE UN PAíS PARA John Gay : {'United Kingdom', 'United States of America'}\n",
      "MáS DE UN PAíS PARA Bob Young : {'United Kingdom', 'United States of America'}\n",
      "MáS DE UN PAíS PARA Josef Hofmann : {'Czech Republic', 'Poland'}\n",
      "MáS DE UN PAíS PARA Robert Wilson : {'United Kingdom', 'United States of America'}\n",
      "MáS DE UN PAíS PARA Peter Jones : {'Canada', 'United Kingdom'}\n",
      "MáS DE UN PAíS PARA Hubert Jaoui : {'Tunisia', 'Hafsid dynasty'}\n",
      "MáS DE UN PAíS PARA Robert Anderson : {'Ireland', 'United Kingdom', 'United States of America'}\n",
      "MáS DE UN PAíS PARA Andrew White : {'United Kingdom', 'United States of America'}\n",
      "MáS DE UN PAíS PARA Robert Wilson : {'United Kingdom', 'United States of America'}\n",
      "MáS DE UN PAíS PARA Josef Winkler : {'Austria', 'Germany'}\n",
      "MáS DE UN PAíS PARA Carlos Romero : {'Spain', 'Bolivia'}\n",
      "MáS DE UN PAíS PARA John Gardner : {'United Kingdom', 'United States of America'}\n",
      "MáS DE UN PAíS PARA Harry Brown : {'Austria', 'United States of America'}\n",
      "MáS DE UN PAíS PARA José Hernández : {'Argentina', 'Peru'}\n",
      "MáS DE UN PAíS PARA John Gardner : {'United Kingdom', 'United States of America'}\n",
      "MáS DE UN PAíS PARA Viktoria Tókareva : {'Unión Soviética', 'Rusia'}\n",
      "MáS DE UN PAíS PARA John Rogers : {'United Kingdom', 'United States of America'}\n",
      "MáS DE UN PAíS PARA Carlos Romero : {'Spain', 'Bolivia'}\n",
      "MáS DE UN PAíS PARA Adin Steinsaltz : {'Mandatory Palestine', 'Jordan', 'Palestine', 'Ottoman Empire', 'Israel'}\n",
      "MáS DE UN PAíS PARA David Cook : {'United Kingdom', 'United States of America'}\n",
      "MáS DE UN PAíS PARA José Hernández : {'Argentina', 'Peru'}\n",
      "MáS DE UN PAíS PARA Adèle Geras : {'Mandatory Palestine', 'Jordan', 'Palestine', 'Ottoman Empire', 'Israel'}\n",
      "MáS DE UN PAíS PARA John Grant : {'United Kingdom', 'United States of America'}\n",
      "MáS DE UN PAíS PARA John Nichols : {'United Kingdom', 'United States of America'}\n",
      "MáS DE UN PAíS PARA Rodrigo García : {'Argentina', 'Colombia'}\n",
      "MáS DE UN PAíS PARA Amina Said : {'Tunisia', 'Hafsid dynasty'}\n",
      "MáS DE UN PAíS PARA Joy Adamson : {'Czech Republic', 'Austria-Hungary'}\n",
      "MáS DE UN PAíS PARA Peter Robinson : {'United Kingdom', 'United States of America'}\n",
      "MáS DE UN PAíS PARA Robert Weber : {'Russia', 'Switzerland'}\n",
      "MáS DE UN PAíS PARA James Smith : {'Ireland', 'United Kingdom'}\n",
      "MáS DE UN PAíS PARA Manuel de Castro : {'Portugal', 'Argentina'}\n",
      "MáS DE UN PAíS PARA David Butler : {'Ireland', 'United Kingdom', 'United States of America'}\n",
      "MáS DE UN PAíS PARA Juan Bautista Aguirre : {'Spain', 'Ecuador'}\n",
      "MáS DE UN PAíS PARA Dieter Hildebrandt : {'Poland', 'Germany'}\n",
      "MáS DE UN PAíS PARA Manuel Veiga : {'Spain', 'Cape Verde'}\n",
      "MáS DE UN PAíS PARA Robert Taylor : {'United Kingdom', 'United States of America'}\n",
      "MáS DE UN PAíS PARA John Moore : {'Ireland', 'United Kingdom', 'United States of America'}\n",
      "MáS DE UN PAíS PARA Michael Cohen : {'Australia', 'France'}\n",
      "MáS DE UN PAíS PARA James Morrison : {'Australia', 'United States of America'}\n",
      "MáS DE UN PAíS PARA Proclo : {'Imperio latino', 'Imperio Otomano', 'Imperio bizantino'}\n",
      "MáS DE UN PAíS PARA John Taylor : {'Ireland', 'United Kingdom'}\n",
      "CPU times: user 12min 8s, sys: 20.9 s, total: 12min 29s\n",
      "Wall time: 5h 3min 31s\n"
     ]
    }
   ],
   "source": [
    "%%time\n",
    "\n",
    "nombre_localizado_dict = {}\n",
    "\n",
    "for autor in autores_pais_conocido_df['AUTOR'].unique():\n",
    "    pais = get_pais_autor(autor)\n",
    "    if pais != 'DESCONOCIDO':\n",
    "        nombre_localizado_dict[autor] = autor\n",
    "    else:\n",
    "        nombres = autor.split()\n",
    "        if len(nombres) > 2:\n",
    "            for c in combinaciones(nombres):\n",
    "                aux = ' '.join(c)\n",
    "                pais = get_pais_autor(aux)\n",
    "                if pais != 'DESCONOCIDO':\n",
    "                    nombre_localizado_dict[autor] = aux\n",
    "                    break"
   ]
  },
  {
   "cell_type": "code",
   "execution_count": 16,
   "metadata": {
    "collapsed": false
   },
   "outputs": [
    {
     "name": "stdout",
     "output_type": "stream",
     "text": [
      "CPU times: user 1min 19s, sys: 62.3 ms, total: 1min 19s\n",
      "Wall time: 1min 19s\n"
     ]
    }
   ],
   "source": [
    "%%time\n",
    "\n",
    "def process_nombre_localizado(x):\n",
    "    return nombre_localizado_dict.get(x['AUTOR'], 'DESCONOCIDO')\n",
    "\n",
    "autores_df['NOMBRE_LOCALIZADO'] = autores_df.apply(process_nombre_localizado, axis=1)"
   ]
  },
  {
   "cell_type": "markdown",
   "metadata": {},
   "source": [
    "# Saving results"
   ]
  },
  {
   "cell_type": "code",
   "execution_count": 17,
   "metadata": {
    "collapsed": false
   },
   "outputs": [],
   "source": [
    "autores_df.to_csv('autores5.csv', index=False)"
   ]
  },
  {
   "cell_type": "code",
   "execution_count": null,
   "metadata": {
    "collapsed": true
   },
   "outputs": [],
   "source": []
  }
 ],
 "metadata": {
  "kernelspec": {
   "display_name": "Python 3",
   "language": "python",
   "name": "python3"
  },
  "language_info": {
   "codemirror_mode": {
    "name": "ipython",
    "version": 3
   },
   "file_extension": ".py",
   "mimetype": "text/x-python",
   "name": "python",
   "nbconvert_exporter": "python",
   "pygments_lexer": "ipython3",
   "version": "3.4.3"
  }
 },
 "nbformat": 4,
 "nbformat_minor": 1
}
