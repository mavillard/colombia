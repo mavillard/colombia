{
 "cells": [
  {
   "cell_type": "markdown",
   "metadata": {},
   "source": [
    "# Map"
   ]
  },
  {
   "cell_type": "code",
   "execution_count": 1,
   "metadata": {
    "collapsed": true
   },
   "outputs": [],
   "source": [
    "import ast\n",
    "import csv\n",
    "import os\n",
    "import re\n",
    "from collections import defaultdict\n",
    "from collections import Counter\n",
    "from datetime import datetime\n",
    "from datetime import timedelta\n",
    "from string import punctuation\n",
    "\n",
    "import matplotlib\n",
    "import numpy as np\n",
    "import networkx as nx\n",
    "import pandas as pd\n",
    "import requests\n",
    "import seaborn as sns\n",
    "from geolocation.main import GoogleMaps\n",
    "from matplotlib import pyplot as plt\n",
    "from SPARQLWrapper import SPARQLWrapper, JSON\n",
    "\n",
    "from googlemaps_key import KEY"
   ]
  },
  {
   "cell_type": "markdown",
   "metadata": {},
   "source": [
    "## Autores"
   ]
  },
  {
   "cell_type": "code",
   "execution_count": 2,
   "metadata": {
    "collapsed": false
   },
   "outputs": [
    {
     "name": "stdout",
     "output_type": "stream",
     "text": [
      "CPU times: user 321 ms, sys: 7.96 ms, total: 329 ms\n",
      "Wall time: 328 ms\n"
     ]
    }
   ],
   "source": [
    "%%time\n",
    "\n",
    "autores_df = pd.read_csv(\n",
    "    'autores_colombianos_4.csv',\n",
    "    header=0,\n",
    "    converters={\n",
    "        'GEOLOC_CAPITAL_AUTOR': ast.literal_eval,\n",
    "        'GEOLOC_CAPITAL_EJEMPLAR': ast.literal_eval,\n",
    "        'GEOLOC_CIUDAD_AUTOR': ast.literal_eval\n",
    "    }\n",
    ")\n",
    "autores_df = autores_df.fillna('')"
   ]
  },
  {
   "cell_type": "code",
   "execution_count": 3,
   "metadata": {
    "collapsed": false
   },
   "outputs": [
    {
     "data": {
      "text/plain": [
       "(5364, 14)"
      ]
     },
     "execution_count": 3,
     "metadata": {},
     "output_type": "execute_result"
    }
   ],
   "source": [
    "autores_df.shape"
   ]
  },
  {
   "cell_type": "code",
   "execution_count": 4,
   "metadata": {
    "collapsed": false
   },
   "outputs": [
    {
     "data": {
      "text/html": [
       "<div>\n",
       "<table border=\"1\" class=\"dataframe\">\n",
       "  <thead>\n",
       "    <tr style=\"text-align: right;\">\n",
       "      <th></th>\n",
       "      <th>TITULO</th>\n",
       "      <th>PAIS_EJEMPLAR</th>\n",
       "      <th>AUTOR</th>\n",
       "      <th>PAIS_AUTOR</th>\n",
       "      <th>FECHA_PUB</th>\n",
       "      <th>CAPITAL_AUTOR</th>\n",
       "      <th>CAPITAL_EJEMPLAR</th>\n",
       "      <th>GEOLOC_CAPITAL_AUTOR</th>\n",
       "      <th>GEOLOC_CAPITAL_EJEMPLAR</th>\n",
       "      <th>CIUDAD_AUTOR</th>\n",
       "      <th>DEPARTAMENTO_AUTOR</th>\n",
       "      <th>ENCONTRADO</th>\n",
       "      <th>NOMBRE_ENCONTRADO</th>\n",
       "      <th>GEOLOC_CIUDAD_AUTOR</th>\n",
       "    </tr>\n",
       "  </thead>\n",
       "  <tbody>\n",
       "    <tr>\n",
       "      <th>0</th>\n",
       "      <td>En la laguna más profunda</td>\n",
       "      <td>Colombia</td>\n",
       "      <td>Oscar Collazos</td>\n",
       "      <td>Colombia</td>\n",
       "      <td>2011</td>\n",
       "      <td>Bogotá</td>\n",
       "      <td>Bogotá</td>\n",
       "      <td>(4.710988599999999, -74.072092)</td>\n",
       "      <td>(4.710988599999999, -74.072092)</td>\n",
       "      <td>Bahía Solano</td>\n",
       "      <td>Chocó</td>\n",
       "      <td>True</td>\n",
       "      <td>Oscar Collazos</td>\n",
       "      <td>(6.222551999999999, -77.40115399999999)</td>\n",
       "    </tr>\n",
       "    <tr>\n",
       "      <th>1</th>\n",
       "      <td>El gato bandido y otros cuentos</td>\n",
       "      <td>Colombia</td>\n",
       "      <td>Rafael Pombo</td>\n",
       "      <td>Colombia</td>\n",
       "      <td>2007</td>\n",
       "      <td>Bogotá</td>\n",
       "      <td>Bogotá</td>\n",
       "      <td>(4.710988599999999, -74.072092)</td>\n",
       "      <td>(4.710988599999999, -74.072092)</td>\n",
       "      <td>Bogotá</td>\n",
       "      <td>Cundinamarca</td>\n",
       "      <td>True</td>\n",
       "      <td>Rafael Pombo</td>\n",
       "      <td>(4.710988599999999, -74.072092)</td>\n",
       "    </tr>\n",
       "    <tr>\n",
       "      <th>2</th>\n",
       "      <td>Cuentos pintados</td>\n",
       "      <td>Colombia</td>\n",
       "      <td>Rafael Pombo</td>\n",
       "      <td>Colombia</td>\n",
       "      <td>2011</td>\n",
       "      <td>Bogotá</td>\n",
       "      <td>Bogotá</td>\n",
       "      <td>(4.710988599999999, -74.072092)</td>\n",
       "      <td>(4.710988599999999, -74.072092)</td>\n",
       "      <td>Bogotá</td>\n",
       "      <td>Cundinamarca</td>\n",
       "      <td>True</td>\n",
       "      <td>Rafael Pombo</td>\n",
       "      <td>(4.710988599999999, -74.072092)</td>\n",
       "    </tr>\n",
       "    <tr>\n",
       "      <th>3</th>\n",
       "      <td>Aleida : 10 años</td>\n",
       "      <td>Colombia</td>\n",
       "      <td>Vladdo</td>\n",
       "      <td>Colombia</td>\n",
       "      <td>2007</td>\n",
       "      <td>Bogotá</td>\n",
       "      <td>Bogotá</td>\n",
       "      <td>(4.710988599999999, -74.072092)</td>\n",
       "      <td>(4.710988599999999, -74.072092)</td>\n",
       "      <td>Bogotá</td>\n",
       "      <td>Cundinamarca</td>\n",
       "      <td>True</td>\n",
       "      <td>Vladdo</td>\n",
       "      <td>(4.710988599999999, -74.072092)</td>\n",
       "    </tr>\n",
       "    <tr>\n",
       "      <th>4</th>\n",
       "      <td>Mitos y leyendas indígenas de Colombia</td>\n",
       "      <td>Colombia</td>\n",
       "      <td>Javier Ocampo López</td>\n",
       "      <td>Colombia</td>\n",
       "      <td>2013</td>\n",
       "      <td>Bogotá</td>\n",
       "      <td>Bogotá</td>\n",
       "      <td>(4.710988599999999, -74.072092)</td>\n",
       "      <td>(4.710988599999999, -74.072092)</td>\n",
       "      <td>Aguadas</td>\n",
       "      <td>Caldas</td>\n",
       "      <td>True</td>\n",
       "      <td>Javier Ocampo López</td>\n",
       "      <td>(5.608334, -75.453135)</td>\n",
       "    </tr>\n",
       "  </tbody>\n",
       "</table>\n",
       "</div>"
      ],
      "text/plain": [
       "                                   TITULO PAIS_EJEMPLAR                AUTOR  \\\n",
       "0               En la laguna más profunda      Colombia       Oscar Collazos   \n",
       "1         El gato bandido y otros cuentos      Colombia         Rafael Pombo   \n",
       "2                        Cuentos pintados      Colombia         Rafael Pombo   \n",
       "3                        Aleida : 10 años      Colombia               Vladdo   \n",
       "4  Mitos y leyendas indígenas de Colombia      Colombia  Javier Ocampo López   \n",
       "\n",
       "  PAIS_AUTOR  FECHA_PUB CAPITAL_AUTOR CAPITAL_EJEMPLAR  \\\n",
       "0   Colombia       2011        Bogotá           Bogotá   \n",
       "1   Colombia       2007        Bogotá           Bogotá   \n",
       "2   Colombia       2011        Bogotá           Bogotá   \n",
       "3   Colombia       2007        Bogotá           Bogotá   \n",
       "4   Colombia       2013        Bogotá           Bogotá   \n",
       "\n",
       "              GEOLOC_CAPITAL_AUTOR          GEOLOC_CAPITAL_EJEMPLAR  \\\n",
       "0  (4.710988599999999, -74.072092)  (4.710988599999999, -74.072092)   \n",
       "1  (4.710988599999999, -74.072092)  (4.710988599999999, -74.072092)   \n",
       "2  (4.710988599999999, -74.072092)  (4.710988599999999, -74.072092)   \n",
       "3  (4.710988599999999, -74.072092)  (4.710988599999999, -74.072092)   \n",
       "4  (4.710988599999999, -74.072092)  (4.710988599999999, -74.072092)   \n",
       "\n",
       "   CIUDAD_AUTOR DEPARTAMENTO_AUTOR ENCONTRADO    NOMBRE_ENCONTRADO  \\\n",
       "0  Bahía Solano              Chocó       True       Oscar Collazos   \n",
       "1        Bogotá       Cundinamarca       True         Rafael Pombo   \n",
       "2        Bogotá       Cundinamarca       True         Rafael Pombo   \n",
       "3        Bogotá       Cundinamarca       True               Vladdo   \n",
       "4       Aguadas             Caldas       True  Javier Ocampo López   \n",
       "\n",
       "                       GEOLOC_CIUDAD_AUTOR  \n",
       "0  (6.222551999999999, -77.40115399999999)  \n",
       "1          (4.710988599999999, -74.072092)  \n",
       "2          (4.710988599999999, -74.072092)  \n",
       "3          (4.710988599999999, -74.072092)  \n",
       "4                   (5.608334, -75.453135)  "
      ]
     },
     "execution_count": 4,
     "metadata": {},
     "output_type": "execute_result"
    }
   ],
   "source": [
    "autores_df.head()"
   ]
  },
  {
   "cell_type": "markdown",
   "metadata": {},
   "source": [
    "## Graph"
   ]
  },
  {
   "cell_type": "markdown",
   "metadata": {},
   "source": [
    "### Rutas"
   ]
  },
  {
   "cell_type": "code",
   "execution_count": 5,
   "metadata": {
    "collapsed": true
   },
   "outputs": [],
   "source": [
    "rutas_df = autores_df[autores_df['PAIS_EJEMPLAR'] != 'Colombia']"
   ]
  },
  {
   "cell_type": "code",
   "execution_count": 6,
   "metadata": {
    "collapsed": false
   },
   "outputs": [
    {
     "data": {
      "text/plain": [
       "760"
      ]
     },
     "execution_count": 6,
     "metadata": {},
     "output_type": "execute_result"
    }
   ],
   "source": [
    "len(rutas_df)"
   ]
  },
  {
   "cell_type": "code",
   "execution_count": 7,
   "metadata": {
    "collapsed": false
   },
   "outputs": [],
   "source": [
    "rutas_graph = nx.Graph()\n",
    "\n",
    "for i, x in rutas_df.iterrows():\n",
    "    ciudad = x['CIUDAD_AUTOR']\n",
    "    if not rutas_graph.has_node(ciudad):\n",
    "        departamento = x['DEPARTAMENTO_AUTOR']\n",
    "        geoloc = x['GEOLOC_CIUDAD_AUTOR']\n",
    "        rutas_graph.add_node(\n",
    "            ciudad,\n",
    "            departamento=departamento,\n",
    "            latitude=geoloc[0],\n",
    "            longitude=geoloc[1],\n",
    "            weight=1\n",
    "        )\n",
    "    else:\n",
    "        rutas_graph.node[ciudad]['weight'] += 1"
   ]
  },
  {
   "cell_type": "code",
   "execution_count": 8,
   "metadata": {
    "collapsed": false
   },
   "outputs": [
    {
     "data": {
      "text/plain": [
       "64"
      ]
     },
     "execution_count": 8,
     "metadata": {},
     "output_type": "execute_result"
    }
   ],
   "source": [
    "rutas_graph.number_of_nodes()"
   ]
  },
  {
   "cell_type": "markdown",
   "metadata": {},
   "source": [
    "### Ciclos"
   ]
  },
  {
   "cell_type": "code",
   "execution_count": 9,
   "metadata": {
    "collapsed": true
   },
   "outputs": [],
   "source": [
    "ciclos_df = autores_df[autores_df['PAIS_EJEMPLAR'] == 'Colombia']"
   ]
  },
  {
   "cell_type": "code",
   "execution_count": 10,
   "metadata": {
    "collapsed": false
   },
   "outputs": [
    {
     "data": {
      "text/plain": [
       "4604"
      ]
     },
     "execution_count": 10,
     "metadata": {},
     "output_type": "execute_result"
    }
   ],
   "source": [
    "len(ciclos_df)"
   ]
  },
  {
   "cell_type": "code",
   "execution_count": 11,
   "metadata": {
    "collapsed": true
   },
   "outputs": [],
   "source": [
    "ciclos_graph = nx.Graph()\n",
    "\n",
    "for i, x in ciclos_df.iterrows():\n",
    "    ciudad = x['CIUDAD_AUTOR']\n",
    "    if not ciclos_graph.has_node(ciudad):\n",
    "        departamento = x['DEPARTAMENTO_AUTOR']\n",
    "        geoloc = x['GEOLOC_CIUDAD_AUTOR']\n",
    "        ciclos_graph.add_node(\n",
    "            ciudad,\n",
    "            departamento=departamento,\n",
    "            latitude=geoloc[0],\n",
    "            longitude=geoloc[1],\n",
    "            weight=1\n",
    "        )\n",
    "    else:\n",
    "        ciclos_graph.node[ciudad]['weight'] += 1"
   ]
  },
  {
   "cell_type": "code",
   "execution_count": 12,
   "metadata": {
    "collapsed": false
   },
   "outputs": [
    {
     "data": {
      "text/plain": [
       "142"
      ]
     },
     "execution_count": 12,
     "metadata": {},
     "output_type": "execute_result"
    }
   ],
   "source": [
    "ciclos_graph.number_of_nodes()"
   ]
  },
  {
   "cell_type": "markdown",
   "metadata": {
    "collapsed": true
   },
   "source": [
    "# Saving results"
   ]
  },
  {
   "cell_type": "code",
   "execution_count": 13,
   "metadata": {
    "collapsed": true
   },
   "outputs": [],
   "source": [
    "nx.write_gexf(ciclos_graph, 'colombianos_ciclos_graph.gexf')\n",
    "nx.write_gexf(rutas_graph, 'colombianos_rutas_graph.gexf')"
   ]
  },
  {
   "cell_type": "code",
   "execution_count": null,
   "metadata": {
    "collapsed": true
   },
   "outputs": [],
   "source": []
  }
 ],
 "metadata": {
  "kernelspec": {
   "display_name": "Python 3",
   "language": "python",
   "name": "python3"
  },
  "language_info": {
   "codemirror_mode": {
    "name": "ipython",
    "version": 3
   },
   "file_extension": ".py",
   "mimetype": "text/x-python",
   "name": "python",
   "nbconvert_exporter": "python",
   "pygments_lexer": "ipython3",
   "version": "3.4.3"
  }
 },
 "nbformat": 4,
 "nbformat_minor": 1
}
