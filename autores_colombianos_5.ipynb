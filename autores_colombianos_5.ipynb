{
 "cells": [
  {
   "cell_type": "markdown",
   "metadata": {},
   "source": [
    "# Map"
   ]
  },
  {
   "cell_type": "code",
   "execution_count": 1,
   "metadata": {
    "collapsed": true
   },
   "outputs": [],
   "source": [
    "import ast\n",
    "import csv\n",
    "import os\n",
    "import re\n",
    "from collections import defaultdict\n",
    "from collections import Counter\n",
    "from datetime import datetime\n",
    "from datetime import timedelta\n",
    "from string import punctuation\n",
    "\n",
    "import matplotlib\n",
    "import numpy as np\n",
    "import networkx as nx\n",
    "import pandas as pd\n",
    "import requests\n",
    "import seaborn as sns\n",
    "from geolocation.main import GoogleMaps\n",
    "from matplotlib import pyplot as plt\n",
    "from SPARQLWrapper import SPARQLWrapper, JSON\n",
    "\n",
    "from googlemaps_key import KEY"
   ]
  },
  {
   "cell_type": "markdown",
   "metadata": {},
   "source": [
    "## Autores"
   ]
  },
  {
   "cell_type": "code",
   "execution_count": 2,
   "metadata": {
    "collapsed": false
   },
   "outputs": [
    {
     "name": "stdout",
     "output_type": "stream",
     "text": [
      "CPU times: user 224 ms, sys: 4.02 ms, total: 228 ms\n",
      "Wall time: 227 ms\n"
     ]
    }
   ],
   "source": [
    "%%time\n",
    "\n",
    "autores_df = pd.read_csv(\n",
    "    'autores_colombianos_4.csv',\n",
    "    header=0,\n",
    "    converters={\n",
    "        'GEOLOC_CAPITAL_AUTOR': ast.literal_eval,\n",
    "        'GEOLOC_CAPITAL_EJEMPLAR': ast.literal_eval,\n",
    "        'GEOLOC_CIUDAD_AUTOR': ast.literal_eval\n",
    "    }\n",
    ")\n",
    "autores_df = autores_df.fillna('')"
   ]
  },
  {
   "cell_type": "code",
   "execution_count": 3,
   "metadata": {
    "collapsed": false
   },
   "outputs": [
    {
     "data": {
      "text/plain": [
       "(3369, 14)"
      ]
     },
     "execution_count": 3,
     "metadata": {},
     "output_type": "execute_result"
    }
   ],
   "source": [
    "autores_df.shape"
   ]
  },
  {
   "cell_type": "code",
   "execution_count": 4,
   "metadata": {
    "collapsed": false
   },
   "outputs": [
    {
     "data": {
      "text/html": [
       "<div>\n",
       "<table border=\"1\" class=\"dataframe\">\n",
       "  <thead>\n",
       "    <tr style=\"text-align: right;\">\n",
       "      <th></th>\n",
       "      <th>TITULO</th>\n",
       "      <th>PAIS_EJEMPLAR</th>\n",
       "      <th>AUTOR</th>\n",
       "      <th>PAIS_AUTOR</th>\n",
       "      <th>FECHA_PUB</th>\n",
       "      <th>CAPITAL_AUTOR</th>\n",
       "      <th>CAPITAL_EJEMPLAR</th>\n",
       "      <th>GEOLOC_CAPITAL_AUTOR</th>\n",
       "      <th>GEOLOC_CAPITAL_EJEMPLAR</th>\n",
       "      <th>CIUDAD_AUTOR</th>\n",
       "      <th>DEPARTAMENTO_AUTOR</th>\n",
       "      <th>ENCONTRADO</th>\n",
       "      <th>NOMBRE_ENCONTRADO</th>\n",
       "      <th>GEOLOC_CIUDAD_AUTOR</th>\n",
       "    </tr>\n",
       "  </thead>\n",
       "  <tbody>\n",
       "    <tr>\n",
       "      <th>0</th>\n",
       "      <td>En la laguna más profunda</td>\n",
       "      <td>Colombia</td>\n",
       "      <td>Oscar Collazos</td>\n",
       "      <td>Colombia</td>\n",
       "      <td>2011</td>\n",
       "      <td>Bogotá</td>\n",
       "      <td>Bogotá</td>\n",
       "      <td>(4.710988599999999, -74.072092)</td>\n",
       "      <td>(4.710988599999999, -74.072092)</td>\n",
       "      <td>Bahía Solano</td>\n",
       "      <td>Chocó</td>\n",
       "      <td>True</td>\n",
       "      <td>Oscar Collazos</td>\n",
       "      <td>(6.222551999999999, -77.40115399999999)</td>\n",
       "    </tr>\n",
       "    <tr>\n",
       "      <th>1</th>\n",
       "      <td>Proyecto para un arca en medio de un diluvio d...</td>\n",
       "      <td>Colombia</td>\n",
       "      <td>Luis Carlos Restrepo</td>\n",
       "      <td>Colombia</td>\n",
       "      <td>1997</td>\n",
       "      <td>Bogotá</td>\n",
       "      <td>Bogotá</td>\n",
       "      <td>(4.710988599999999, -74.072092)</td>\n",
       "      <td>(4.710988599999999, -74.072092)</td>\n",
       "      <td>Filandia</td>\n",
       "      <td>Quindío</td>\n",
       "      <td>True</td>\n",
       "      <td>Luis Carlos Restrepo</td>\n",
       "      <td>(4.675762, -75.659359)</td>\n",
       "    </tr>\n",
       "    <tr>\n",
       "      <th>2</th>\n",
       "      <td>Octubre, 1942-1952</td>\n",
       "      <td>Colombia</td>\n",
       "      <td>Carmelina Soto Valencia</td>\n",
       "      <td>Colombia</td>\n",
       "      <td>1953</td>\n",
       "      <td>Bogotá</td>\n",
       "      <td>Bogotá</td>\n",
       "      <td>(4.710988599999999, -74.072092)</td>\n",
       "      <td>(4.710988599999999, -74.072092)</td>\n",
       "      <td>Armenia</td>\n",
       "      <td>Quindío</td>\n",
       "      <td>True</td>\n",
       "      <td>Carmelina Soto Valencia</td>\n",
       "      <td>(4.535000399999999, -75.6756888)</td>\n",
       "    </tr>\n",
       "    <tr>\n",
       "      <th>3</th>\n",
       "      <td>Origen y desarrollo del camino del quindio</td>\n",
       "      <td>Colombia</td>\n",
       "      <td>Jesús Arango Cano</td>\n",
       "      <td>Colombia</td>\n",
       "      <td>2002</td>\n",
       "      <td>Bogotá</td>\n",
       "      <td>Bogotá</td>\n",
       "      <td>(4.710988599999999, -74.072092)</td>\n",
       "      <td>(4.710988599999999, -74.072092)</td>\n",
       "      <td>La Tebaida</td>\n",
       "      <td>Quindío</td>\n",
       "      <td>True</td>\n",
       "      <td>Jesús Arango Cano</td>\n",
       "      <td>(4.453588, -75.79153)</td>\n",
       "    </tr>\n",
       "    <tr>\n",
       "      <th>4</th>\n",
       "      <td>Mi gran aventura cósmica</td>\n",
       "      <td>Colombia</td>\n",
       "      <td>Jesús Arango Cano</td>\n",
       "      <td>Colombia</td>\n",
       "      <td>1976</td>\n",
       "      <td>Bogotá</td>\n",
       "      <td>Bogotá</td>\n",
       "      <td>(4.710988599999999, -74.072092)</td>\n",
       "      <td>(4.710988599999999, -74.072092)</td>\n",
       "      <td>La Tebaida</td>\n",
       "      <td>Quindío</td>\n",
       "      <td>True</td>\n",
       "      <td>Jesús Arango Cano</td>\n",
       "      <td>(4.453588, -75.79153)</td>\n",
       "    </tr>\n",
       "  </tbody>\n",
       "</table>\n",
       "</div>"
      ],
      "text/plain": [
       "                                              TITULO PAIS_EJEMPLAR  \\\n",
       "0                          En la laguna más profunda      Colombia   \n",
       "1  Proyecto para un arca en medio de un diluvio d...      Colombia   \n",
       "2                                 Octubre, 1942-1952      Colombia   \n",
       "3         Origen y desarrollo del camino del quindio      Colombia   \n",
       "4                           Mi gran aventura cósmica      Colombia   \n",
       "\n",
       "                     AUTOR PAIS_AUTOR  FECHA_PUB CAPITAL_AUTOR  \\\n",
       "0           Oscar Collazos   Colombia       2011        Bogotá   \n",
       "1     Luis Carlos Restrepo   Colombia       1997        Bogotá   \n",
       "2  Carmelina Soto Valencia   Colombia       1953        Bogotá   \n",
       "3        Jesús Arango Cano   Colombia       2002        Bogotá   \n",
       "4        Jesús Arango Cano   Colombia       1976        Bogotá   \n",
       "\n",
       "  CAPITAL_EJEMPLAR             GEOLOC_CAPITAL_AUTOR  \\\n",
       "0           Bogotá  (4.710988599999999, -74.072092)   \n",
       "1           Bogotá  (4.710988599999999, -74.072092)   \n",
       "2           Bogotá  (4.710988599999999, -74.072092)   \n",
       "3           Bogotá  (4.710988599999999, -74.072092)   \n",
       "4           Bogotá  (4.710988599999999, -74.072092)   \n",
       "\n",
       "           GEOLOC_CAPITAL_EJEMPLAR  CIUDAD_AUTOR DEPARTAMENTO_AUTOR  \\\n",
       "0  (4.710988599999999, -74.072092)  Bahía Solano              Chocó   \n",
       "1  (4.710988599999999, -74.072092)      Filandia            Quindío   \n",
       "2  (4.710988599999999, -74.072092)       Armenia            Quindío   \n",
       "3  (4.710988599999999, -74.072092)    La Tebaida            Quindío   \n",
       "4  (4.710988599999999, -74.072092)    La Tebaida            Quindío   \n",
       "\n",
       "  ENCONTRADO        NOMBRE_ENCONTRADO                      GEOLOC_CIUDAD_AUTOR  \n",
       "0       True           Oscar Collazos  (6.222551999999999, -77.40115399999999)  \n",
       "1       True     Luis Carlos Restrepo                   (4.675762, -75.659359)  \n",
       "2       True  Carmelina Soto Valencia         (4.535000399999999, -75.6756888)  \n",
       "3       True        Jesús Arango Cano                    (4.453588, -75.79153)  \n",
       "4       True        Jesús Arango Cano                    (4.453588, -75.79153)  "
      ]
     },
     "execution_count": 4,
     "metadata": {},
     "output_type": "execute_result"
    }
   ],
   "source": [
    "autores_df.head()"
   ]
  },
  {
   "cell_type": "markdown",
   "metadata": {},
   "source": [
    "## Graph"
   ]
  },
  {
   "cell_type": "markdown",
   "metadata": {},
   "source": [
    "### Rutas"
   ]
  },
  {
   "cell_type": "code",
   "execution_count": 5,
   "metadata": {
    "collapsed": true
   },
   "outputs": [],
   "source": [
    "rutas_df = autores_df[autores_df['PAIS_EJEMPLAR'] != 'Colombia']"
   ]
  },
  {
   "cell_type": "code",
   "execution_count": 6,
   "metadata": {
    "collapsed": false
   },
   "outputs": [
    {
     "data": {
      "text/plain": [
       "489"
      ]
     },
     "execution_count": 6,
     "metadata": {},
     "output_type": "execute_result"
    }
   ],
   "source": [
    "len(rutas_df)"
   ]
  },
  {
   "cell_type": "code",
   "execution_count": 7,
   "metadata": {
    "collapsed": false
   },
   "outputs": [],
   "source": [
    "rutas_graph = nx.Graph()\n",
    "\n",
    "for i, x in rutas_df.iterrows():\n",
    "    ciudad = x['CIUDAD_AUTOR']\n",
    "    if not rutas_graph.has_node(ciudad):\n",
    "        departamento = x['DEPARTAMENTO_AUTOR']\n",
    "        geoloc = x['GEOLOC_CIUDAD_AUTOR']\n",
    "        rutas_graph.add_node(\n",
    "            ciudad,\n",
    "            departamento=departamento,\n",
    "            latitude=geoloc[0],\n",
    "            longitude=geoloc[1],\n",
    "            weight=1\n",
    "        )\n",
    "    else:\n",
    "        rutas_graph.node[ciudad]['weight'] += 1"
   ]
  },
  {
   "cell_type": "code",
   "execution_count": 12,
   "metadata": {
    "collapsed": false
   },
   "outputs": [
    {
     "data": {
      "text/plain": [
       "61"
      ]
     },
     "execution_count": 12,
     "metadata": {},
     "output_type": "execute_result"
    }
   ],
   "source": [
    "rutas_graph.number_of_nodes()"
   ]
  },
  {
   "cell_type": "markdown",
   "metadata": {},
   "source": [
    "### Ciclos"
   ]
  },
  {
   "cell_type": "code",
   "execution_count": 8,
   "metadata": {
    "collapsed": true
   },
   "outputs": [],
   "source": [
    "ciclos_df = autores_df[autores_df['PAIS_EJEMPLAR'] == 'Colombia']"
   ]
  },
  {
   "cell_type": "code",
   "execution_count": 9,
   "metadata": {
    "collapsed": false
   },
   "outputs": [
    {
     "data": {
      "text/plain": [
       "2880"
      ]
     },
     "execution_count": 9,
     "metadata": {},
     "output_type": "execute_result"
    }
   ],
   "source": [
    "len(ciclos_df)"
   ]
  },
  {
   "cell_type": "code",
   "execution_count": 10,
   "metadata": {
    "collapsed": true
   },
   "outputs": [],
   "source": [
    "ciclos_graph = nx.Graph()\n",
    "\n",
    "for i, x in ciclos_df.iterrows():\n",
    "    ciudad = x['CIUDAD_AUTOR']\n",
    "    if not ciclos_graph.has_node(ciudad):\n",
    "        departamento = x['DEPARTAMENTO_AUTOR']\n",
    "        geoloc = x['GEOLOC_CIUDAD_AUTOR']\n",
    "        ciclos_graph.add_node(\n",
    "            ciudad,\n",
    "            departamento=departamento,\n",
    "            latitude=geoloc[0],\n",
    "            longitude=geoloc[1],\n",
    "            weight=1\n",
    "        )\n",
    "    else:\n",
    "        ciclos_graph.node[ciudad]['weight'] += 1"
   ]
  },
  {
   "cell_type": "code",
   "execution_count": 13,
   "metadata": {
    "collapsed": false
   },
   "outputs": [
    {
     "data": {
      "text/plain": [
       "138"
      ]
     },
     "execution_count": 13,
     "metadata": {},
     "output_type": "execute_result"
    }
   ],
   "source": [
    "ciclos_graph.number_of_nodes()"
   ]
  },
  {
   "cell_type": "markdown",
   "metadata": {
    "collapsed": true
   },
   "source": [
    "# Saving results"
   ]
  },
  {
   "cell_type": "code",
   "execution_count": 11,
   "metadata": {
    "collapsed": true
   },
   "outputs": [],
   "source": [
    "nx.write_gexf(ciclos_graph, 'colombianos_ciclos_graph.gexf')\n",
    "nx.write_gexf(rutas_graph, 'colombianos_rutas_graph.gexf')"
   ]
  },
  {
   "cell_type": "code",
   "execution_count": null,
   "metadata": {
    "collapsed": true
   },
   "outputs": [],
   "source": []
  }
 ],
 "metadata": {
  "kernelspec": {
   "display_name": "Python 3",
   "language": "python",
   "name": "python3"
  },
  "language_info": {
   "codemirror_mode": {
    "name": "ipython",
    "version": 3
   },
   "file_extension": ".py",
   "mimetype": "text/x-python",
   "name": "python",
   "nbconvert_exporter": "python",
   "pygments_lexer": "ipython3",
   "version": "3.4.3"
  }
 },
 "nbformat": 4,
 "nbformat_minor": 1
}
