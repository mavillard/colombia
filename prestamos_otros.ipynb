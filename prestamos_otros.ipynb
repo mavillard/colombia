{
 "cells": [
  {
   "cell_type": "code",
   "execution_count": 1,
   "metadata": {
    "collapsed": true
   },
   "outputs": [],
   "source": [
    "import csv\n",
    "import os\n",
    "from collections import defaultdict\n",
    "from datetime import datetime\n",
    "from datetime import timedelta\n",
    "\n",
    "import matplotlib\n",
    "import numpy as np\n",
    "import pandas as pd\n",
    "import seaborn as sns\n",
    "from matplotlib import pyplot as plt"
   ]
  },
  {
   "cell_type": "code",
   "execution_count": 2,
   "metadata": {
    "collapsed": true
   },
   "outputs": [],
   "source": [
    "total_colums = [\n",
    "    # Ejemplar\n",
    "    'TITULO', 'AUTOR', 'EDITORIAL', 'SUCURSAL', 'DESC_SUCURSAL', 'COD_BARRAS_LIBRO', 'NUM_TITULO', 'SIG_TOPOGRAFICA',\n",
    "    'DEWEY', 'II_SUMARIO', 'I_SUMARIO', 'EDICION', 'LOCALIZACION_EJEMPLAR', 'DESC_LOCALIZACION_EJEMPLAR', 'POLITICA',\n",
    "    'DESC_POLITICA_EJEMPLAR', 'ISBN', 'FECHA_REGISTRO_EJEMPLAR', 'FECHA_ADICION_EJEMPLAR', 'FECHA_PUB',\n",
    "    'ESTADO_EJEMPLAR', 'PAIS_EJEMPLAR',\n",
    "    # Usuario (I)\n",
    "    'OCUPACION', 'NIVEL_EDUCACION', 'AREA_ESTUDIO',\n",
    "    # Prestamo (I)\n",
    "    'SUCURSAL_PRESTAMO', 'SUCURSAL_DEVOLUCION',\n",
    "    # Usuario (II)\n",
    "    'SUCURSAL_DEL_LECTOR', 'COD_BARRAS_LECTOR', 'CATEGORÍA',\n",
    "    # Prestamo (II)\n",
    "    'FECHA_PRESTAMO', 'FECHA_REAL_DEVOLUCION',\n",
    "]"
   ]
  },
  {
   "cell_type": "code",
   "execution_count": 3,
   "metadata": {
    "collapsed": true
   },
   "outputs": [],
   "source": [
    "used_colums = [\n",
    "    # Ejemplar\n",
    "    'TITULO', 'AUTOR', 'SUCURSAL', 'COD_BARRAS_LIBRO', 'DEWEY', 'DESC_LOCALIZACION_EJEMPLAR',\n",
    "    'FECHA_PUB','PAIS_EJEMPLAR',\n",
    "    # Usuario (I)\n",
    "    'OCUPACION','NIVEL_EDUCACION','AREA_ESTUDIO',\n",
    "    # Prestamo (I)\n",
    "    'SUCURSAL_PRESTAMO','SUCURSAL_DEVOLUCION',\n",
    "    # Usuario (II)\n",
    "    'SUCURSAL_DEL_LECTOR', 'COD_BARRAS_LECTOR', 'CATEGORÍA',\n",
    "    # Prestamo (II)\n",
    "    'FECHA_PRESTAMO','FECHA_REAL_DEVOLUCION'\n",
    "]"
   ]
  },
  {
   "cell_type": "markdown",
   "metadata": {},
   "source": [
    "# Datos limpios"
   ]
  },
  {
   "cell_type": "code",
   "execution_count": 4,
   "metadata": {
    "collapsed": false
   },
   "outputs": [
    {
     "name": "stdout",
     "output_type": "stream",
     "text": [
      "CPU times: user 22.9 s, sys: 1.19 s, total: 24.1 s\n",
      "Wall time: 25.5 s\n"
     ]
    }
   ],
   "source": [
    "%%time\n",
    "\n",
    "dtypes = {\n",
    "    'TITULO': str,\n",
    "    'AUTOR': str,\n",
    "    'SUCURSAL': str,\n",
    "    'COD_BARRAS_LIBRO': str,\n",
    "    'DEWEY': str,\n",
    "    'DESC_LOCALIZACION_EJEMPLAR': str,\n",
    "    'FECHA_PUB': str,\n",
    "    'PAIS_EJEMPLAR': str,\n",
    "    'OCUPACION': str,\n",
    "    'NIVEL_EDUCACION': str,\n",
    "    'AREA_ESTUDIO': str,\n",
    "    'SUCURSAL_PRESTAMO': str,\n",
    "    'SUCURSAL_DEVOLUCION': str,\n",
    "    'SUCURSAL_DEL_LECTOR': str,\n",
    "    'COD_BARRAS_LECTOR': str,\n",
    "    'CATEGORÍA': str,\n",
    "    'FECHA_PRESTAMO': str,\n",
    "    'FECHA_REAL_DEVOLUCION': str,\n",
    "    'DATE_PRESTAMO': pd.tslib.Timestamp,\n",
    "    'DATE_DEVOLUCION': pd.tslib.Timestamp,\n",
    "}\n",
    "\n",
    "prestamos_df = pd.read_csv('prestamos_totales.csv', header=0, dtype=dtypes, parse_dates=['DATE_PRESTAMO', 'DATE_DEVOLUCION'])\n",
    "prestamos_df = prestamos_df.fillna('')"
   ]
  },
  {
   "cell_type": "code",
   "execution_count": 5,
   "metadata": {
    "collapsed": false
   },
   "outputs": [
    {
     "data": {
      "text/plain": [
       "(3054360, 20)"
      ]
     },
     "execution_count": 5,
     "metadata": {},
     "output_type": "execute_result"
    }
   ],
   "source": [
    "prestamos_df.shape"
   ]
  },
  {
   "cell_type": "code",
   "execution_count": 6,
   "metadata": {
    "collapsed": false
   },
   "outputs": [
    {
     "data": {
      "text/html": [
       "<div>\n",
       "<table border=\"1\" class=\"dataframe\">\n",
       "  <thead>\n",
       "    <tr style=\"text-align: right;\">\n",
       "      <th></th>\n",
       "      <th>TITULO</th>\n",
       "      <th>AUTOR</th>\n",
       "      <th>SUCURSAL</th>\n",
       "      <th>COD_BARRAS_LIBRO</th>\n",
       "      <th>DEWEY</th>\n",
       "      <th>DESC_LOCALIZACION_EJEMPLAR</th>\n",
       "      <th>FECHA_PUB</th>\n",
       "      <th>PAIS_EJEMPLAR</th>\n",
       "      <th>OCUPACION</th>\n",
       "      <th>NIVEL_EDUCACION</th>\n",
       "      <th>AREA_ESTUDIO</th>\n",
       "      <th>SUCURSAL_PRESTAMO</th>\n",
       "      <th>SUCURSAL_DEVOLUCION</th>\n",
       "      <th>SUCURSAL_DEL_LECTOR</th>\n",
       "      <th>COD_BARRAS_LECTOR</th>\n",
       "      <th>CATEGORÍA</th>\n",
       "      <th>FECHA_PRESTAMO</th>\n",
       "      <th>FECHA_REAL_DEVOLUCION</th>\n",
       "      <th>DATE_PRESTAMO</th>\n",
       "      <th>DATE_DEVOLUCION</th>\n",
       "    </tr>\n",
       "  </thead>\n",
       "  <tbody>\n",
       "    <tr>\n",
       "      <th>0</th>\n",
       "      <td>Un bicho extraño</td>\n",
       "      <td>Daporta, Mon.</td>\n",
       "      <td>ARM</td>\n",
       "      <td>2298061</td>\n",
       "      <td>863</td>\n",
       "      <td>Infantil</td>\n",
       "      <td>2010</td>\n",
       "      <td>sp</td>\n",
       "      <td></td>\n",
       "      <td></td>\n",
       "      <td></td>\n",
       "      <td>ARM</td>\n",
       "      <td>ARM</td>\n",
       "      <td>ARM</td>\n",
       "      <td>88429527</td>\n",
       "      <td>CTA</td>\n",
       "      <td>22/01/2015</td>\n",
       "      <td>04/02/2015</td>\n",
       "      <td>2015-01-22</td>\n",
       "      <td>2015-02-04</td>\n",
       "    </tr>\n",
       "    <tr>\n",
       "      <th>1</th>\n",
       "      <td>Un bicho extraño</td>\n",
       "      <td>Daporta, Mon.</td>\n",
       "      <td>ARM</td>\n",
       "      <td>2298061</td>\n",
       "      <td>863</td>\n",
       "      <td>Infantil</td>\n",
       "      <td>2010</td>\n",
       "      <td>sp</td>\n",
       "      <td></td>\n",
       "      <td></td>\n",
       "      <td></td>\n",
       "      <td>ARM</td>\n",
       "      <td>ARM</td>\n",
       "      <td>ARM</td>\n",
       "      <td>88416381</td>\n",
       "      <td>CTA</td>\n",
       "      <td>31/03/2015</td>\n",
       "      <td>07/04/2015</td>\n",
       "      <td>2015-03-31</td>\n",
       "      <td>2015-04-07</td>\n",
       "    </tr>\n",
       "    <tr>\n",
       "      <th>2</th>\n",
       "      <td>Quisiera tener ...</td>\n",
       "      <td>Zoboli, Giovanna.</td>\n",
       "      <td>ARM</td>\n",
       "      <td>2284458</td>\n",
       "      <td>853</td>\n",
       "      <td>Infantil</td>\n",
       "      <td>2010</td>\n",
       "      <td>mx</td>\n",
       "      <td></td>\n",
       "      <td></td>\n",
       "      <td></td>\n",
       "      <td>ARM</td>\n",
       "      <td>ARM</td>\n",
       "      <td>ARM</td>\n",
       "      <td>88381353</td>\n",
       "      <td>CTA</td>\n",
       "      <td>07/11/2015</td>\n",
       "      <td>17/11/2015</td>\n",
       "      <td>2015-11-07</td>\n",
       "      <td>2015-11-17</td>\n",
       "    </tr>\n",
       "    <tr>\n",
       "      <th>3</th>\n",
       "      <td>Johannes Gutenberg</td>\n",
       "      <td>Borràs Perelló, Lluís.</td>\n",
       "      <td>ARM</td>\n",
       "      <td>2288922</td>\n",
       "      <td>925</td>\n",
       "      <td>Infantil</td>\n",
       "      <td>2010</td>\n",
       "      <td>sp</td>\n",
       "      <td>Empleado</td>\n",
       "      <td>Técnico</td>\n",
       "      <td>Adm. de empresas</td>\n",
       "      <td>ARM</td>\n",
       "      <td>ARM</td>\n",
       "      <td>ARM</td>\n",
       "      <td>88007424</td>\n",
       "      <td>CEM</td>\n",
       "      <td>16/01/2015</td>\n",
       "      <td>16/01/2015</td>\n",
       "      <td>2015-01-16</td>\n",
       "      <td>2015-01-16</td>\n",
       "    </tr>\n",
       "    <tr>\n",
       "      <th>4</th>\n",
       "      <td>La fantástica leyenda de: la princesa y el dragón</td>\n",
       "      <td>Alins, Sonia.</td>\n",
       "      <td>ARM</td>\n",
       "      <td>2288896</td>\n",
       "      <td>863</td>\n",
       "      <td>Infantil</td>\n",
       "      <td>2010</td>\n",
       "      <td>sp</td>\n",
       "      <td></td>\n",
       "      <td></td>\n",
       "      <td></td>\n",
       "      <td>ARM</td>\n",
       "      <td>ARM</td>\n",
       "      <td>ARM</td>\n",
       "      <td>88429529</td>\n",
       "      <td>CTA</td>\n",
       "      <td>21/01/2015</td>\n",
       "      <td>28/01/2015</td>\n",
       "      <td>2015-01-21</td>\n",
       "      <td>2015-01-28</td>\n",
       "    </tr>\n",
       "  </tbody>\n",
       "</table>\n",
       "</div>"
      ],
      "text/plain": [
       "                                              TITULO                   AUTOR  \\\n",
       "0                                   Un bicho extraño           Daporta, Mon.   \n",
       "1                                   Un bicho extraño           Daporta, Mon.   \n",
       "2                                 Quisiera tener ...       Zoboli, Giovanna.   \n",
       "3                                 Johannes Gutenberg  Borràs Perelló, Lluís.   \n",
       "4  La fantástica leyenda de: la princesa y el dragón           Alins, Sonia.   \n",
       "\n",
       "  SUCURSAL COD_BARRAS_LIBRO DEWEY DESC_LOCALIZACION_EJEMPLAR FECHA_PUB  \\\n",
       "0      ARM          2298061   863                   Infantil      2010   \n",
       "1      ARM          2298061   863                   Infantil      2010   \n",
       "2      ARM          2284458   853                   Infantil      2010   \n",
       "3      ARM          2288922   925                   Infantil      2010   \n",
       "4      ARM          2288896   863                   Infantil      2010   \n",
       "\n",
       "  PAIS_EJEMPLAR OCUPACION NIVEL_EDUCACION      AREA_ESTUDIO SUCURSAL_PRESTAMO  \\\n",
       "0            sp                                                           ARM   \n",
       "1            sp                                                           ARM   \n",
       "2            mx                                                           ARM   \n",
       "3            sp  Empleado         Técnico  Adm. de empresas               ARM   \n",
       "4            sp                                                           ARM   \n",
       "\n",
       "  SUCURSAL_DEVOLUCION SUCURSAL_DEL_LECTOR COD_BARRAS_LECTOR CATEGORÍA  \\\n",
       "0                 ARM                 ARM          88429527       CTA   \n",
       "1                 ARM                 ARM          88416381       CTA   \n",
       "2                 ARM                 ARM          88381353       CTA   \n",
       "3                 ARM                 ARM          88007424       CEM   \n",
       "4                 ARM                 ARM          88429529       CTA   \n",
       "\n",
       "  FECHA_PRESTAMO FECHA_REAL_DEVOLUCION DATE_PRESTAMO DATE_DEVOLUCION  \n",
       "0     22/01/2015            04/02/2015    2015-01-22      2015-02-04  \n",
       "1     31/03/2015            07/04/2015    2015-03-31      2015-04-07  \n",
       "2     07/11/2015            17/11/2015    2015-11-07      2015-11-17  \n",
       "3     16/01/2015            16/01/2015    2015-01-16      2015-01-16  \n",
       "4     21/01/2015            28/01/2015    2015-01-21      2015-01-28  "
      ]
     },
     "execution_count": 6,
     "metadata": {},
     "output_type": "execute_result"
    }
   ],
   "source": [
    "prestamos_df.head()"
   ]
  },
  {
   "cell_type": "markdown",
   "metadata": {},
   "source": [
    "## Engagement"
   ]
  },
  {
   "cell_type": "markdown",
   "metadata": {},
   "source": [
    "#### Número total de préstamos"
   ]
  },
  {
   "cell_type": "code",
   "execution_count": 7,
   "metadata": {
    "collapsed": false
   },
   "outputs": [
    {
     "data": {
      "text/plain": [
       "3054360"
      ]
     },
     "execution_count": 7,
     "metadata": {},
     "output_type": "execute_result"
    }
   ],
   "source": [
    "total_prestamos = prestamos_df.shape[0]\n",
    "total_prestamos"
   ]
  },
  {
   "cell_type": "markdown",
   "metadata": {},
   "source": [
    "#### Número total de lectores"
   ]
  },
  {
   "cell_type": "code",
   "execution_count": 8,
   "metadata": {
    "collapsed": false
   },
   "outputs": [
    {
     "data": {
      "text/plain": [
       "156392"
      ]
     },
     "execution_count": 8,
     "metadata": {},
     "output_type": "execute_result"
    }
   ],
   "source": [
    "total_lectores = len(prestamos_df.groupby('COD_BARRAS_LECTOR'))\n",
    "total_lectores"
   ]
  },
  {
   "cell_type": "markdown",
   "metadata": {},
   "source": [
    "#### Media de préstamos por lector"
   ]
  },
  {
   "cell_type": "code",
   "execution_count": 9,
   "metadata": {
    "collapsed": false
   },
   "outputs": [
    {
     "data": {
      "text/plain": [
       "19.530154995140418"
      ]
     },
     "execution_count": 9,
     "metadata": {},
     "output_type": "execute_result"
    }
   ],
   "source": [
    "media_prestamos_lector = total_prestamos / total_lectores\n",
    "media_prestamos_lector"
   ]
  },
  {
   "cell_type": "markdown",
   "metadata": {},
   "source": [
    "#### Duración total de todos los préstamos (en días)"
   ]
  },
  {
   "cell_type": "code",
   "execution_count": 10,
   "metadata": {
    "collapsed": false
   },
   "outputs": [],
   "source": [
    "# %%time\n",
    "\n",
    "# total_dias = 0\n",
    "# for i, p in prestamos_df.iterrows():\n",
    "#     delta = p['DATE_DEVOLUCION'] - p['DATE_PRESTAMO']\n",
    "#     total_dias += delta.days\n",
    "\n",
    "# CPU times: user 9min 1s, sys: 710 ms, total: 9min 2s\n",
    "# Wall time: 9min 1s\n",
    "\n",
    "total_dias = 39277158"
   ]
  },
  {
   "cell_type": "code",
   "execution_count": 11,
   "metadata": {
    "collapsed": false
   },
   "outputs": [
    {
     "data": {
      "text/plain": [
       "39277158"
      ]
     },
     "execution_count": 11,
     "metadata": {},
     "output_type": "execute_result"
    }
   ],
   "source": [
    "total_dias"
   ]
  },
  {
   "cell_type": "markdown",
   "metadata": {},
   "source": [
    "#### Duración media de cada préstamos (en días)"
   ]
  },
  {
   "cell_type": "code",
   "execution_count": 12,
   "metadata": {
    "collapsed": false
   },
   "outputs": [
    {
     "data": {
      "text/plain": [
       "12.85937414057282"
      ]
     },
     "execution_count": 12,
     "metadata": {},
     "output_type": "execute_result"
    }
   ],
   "source": [
    "media_dias = total_dias / prestamos_df.shape[0]\n",
    "media_dias"
   ]
  },
  {
   "cell_type": "markdown",
   "metadata": {},
   "source": [
    "#### Tiempo total medio de préstamos por lector"
   ]
  },
  {
   "cell_type": "code",
   "execution_count": 13,
   "metadata": {
    "collapsed": false
   },
   "outputs": [
    {
     "data": {
      "text/plain": [
       "251.14557010588777"
      ]
     },
     "execution_count": 13,
     "metadata": {},
     "output_type": "execute_result"
    }
   ],
   "source": [
    "total_media_tiempo_con_libro = media_prestamos_lector * media_dias\n",
    "total_media_tiempo_con_libro"
   ]
  },
  {
   "cell_type": "markdown",
   "metadata": {},
   "source": [
    "#### Tasa de tiempo con libros en préstamos por lector"
   ]
  },
  {
   "cell_type": "code",
   "execution_count": 14,
   "metadata": {
    "collapsed": false
   },
   "outputs": [
    {
     "data": {
      "text/plain": [
       "0.13746336623201302"
      ]
     },
     "execution_count": 14,
     "metadata": {},
     "output_type": "execute_result"
    }
   ],
   "source": [
    "tasa = total_media_tiempo_con_libro / (366 + 365 + 365 + 365 + 366)\n",
    "tasa"
   ]
  },
  {
   "cell_type": "markdown",
   "metadata": {},
   "source": [
    "# Visualizaciones"
   ]
  },
  {
   "cell_type": "code",
   "execution_count": 30,
   "metadata": {
    "collapsed": true
   },
   "outputs": [],
   "source": [
    "%matplotlib inline\n",
    "matplotlib.rcParams['figure.max_open_warning'] = 1000\n",
    "matplotlib.rcParams['lines.linewidth'] = 1.0"
   ]
  },
  {
   "cell_type": "markdown",
   "metadata": {},
   "source": [
    "### Número de préstamos por mes"
   ]
  },
  {
   "cell_type": "code",
   "execution_count": 46,
   "metadata": {
    "collapsed": false
   },
   "outputs": [
    {
     "name": "stdout",
     "output_type": "stream",
     "text": [
      "CPU times: user 8min 46s, sys: 1.6 s, total: 8min 48s\n",
      "Wall time: 8min 47s\n"
     ]
    }
   ],
   "source": [
    "# %%time\n",
    "\n",
    "# def month_year(x):\n",
    "#     return pd.tslib.Timestamp(day=1, month=x['DATE_PRESTAMO'].month, year=x['DATE_PRESTAMO'].year)\n",
    "\n",
    "# prestamos_mensuales_df = pd.DataFrame()\n",
    "# prestamos_mensuales_df['MES'] = prestamos_df.apply(month_year, axis=1)\n",
    "# prestamos_mensuales_df['TITULO'] = prestamos_df['TITULO']\n",
    "\n",
    "# CPU times: user 9min, sys: 1.83 s, total: 9min 1s\n",
    "# Wall time: 9min 1s"
   ]
  },
  {
   "cell_type": "code",
   "execution_count": 47,
   "metadata": {
    "collapsed": false
   },
   "outputs": [],
   "source": [
    "# prestamos_mensuales_df.to_csv('prestamos_mensuales.csv', index=False)"
   ]
  },
  {
   "cell_type": "code",
   "execution_count": 49,
   "metadata": {
    "collapsed": false
   },
   "outputs": [
    {
     "name": "stdout",
     "output_type": "stream",
     "text": [
      "CPU times: user 4.51 s, sys: 92 ms, total: 4.6 s\n",
      "Wall time: 4.6 s\n"
     ]
    }
   ],
   "source": [
    "%%time\n",
    "\n",
    "dtypes = {\n",
    "    'TITULO': str,\n",
    "    'MES': pd.tslib.Timestamp,\n",
    "}\n",
    "\n",
    "prestamos_mensuales_df = pd.read_csv('prestamos_mensuales.csv', header=0, dtype=dtypes, parse_dates=['MES'])\n",
    "prestamos_mensuales_df = prestamos_mensuales_df.fillna('')"
   ]
  },
  {
   "cell_type": "code",
   "execution_count": 50,
   "metadata": {
    "collapsed": false
   },
   "outputs": [
    {
     "data": {
      "text/html": [
       "<div>\n",
       "<table border=\"1\" class=\"dataframe\">\n",
       "  <thead>\n",
       "    <tr style=\"text-align: right;\">\n",
       "      <th></th>\n",
       "      <th>MES</th>\n",
       "      <th>TITULO</th>\n",
       "    </tr>\n",
       "  </thead>\n",
       "  <tbody>\n",
       "    <tr>\n",
       "      <th>0</th>\n",
       "      <td>2015-01-01</td>\n",
       "      <td>Un bicho extraño</td>\n",
       "    </tr>\n",
       "    <tr>\n",
       "      <th>1</th>\n",
       "      <td>2015-03-01</td>\n",
       "      <td>Un bicho extraño</td>\n",
       "    </tr>\n",
       "    <tr>\n",
       "      <th>2</th>\n",
       "      <td>2015-11-01</td>\n",
       "      <td>Quisiera tener ...</td>\n",
       "    </tr>\n",
       "    <tr>\n",
       "      <th>3</th>\n",
       "      <td>2015-01-01</td>\n",
       "      <td>Johannes Gutenberg</td>\n",
       "    </tr>\n",
       "    <tr>\n",
       "      <th>4</th>\n",
       "      <td>2015-01-01</td>\n",
       "      <td>La fantástica leyenda de: la princesa y el dragón</td>\n",
       "    </tr>\n",
       "  </tbody>\n",
       "</table>\n",
       "</div>"
      ],
      "text/plain": [
       "         MES                                             TITULO\n",
       "0 2015-01-01                                   Un bicho extraño\n",
       "1 2015-03-01                                   Un bicho extraño\n",
       "2 2015-11-01                                 Quisiera tener ...\n",
       "3 2015-01-01                                 Johannes Gutenberg\n",
       "4 2015-01-01  La fantástica leyenda de: la princesa y el dragón"
      ]
     },
     "execution_count": 50,
     "metadata": {},
     "output_type": "execute_result"
    }
   ],
   "source": [
    "prestamos_mensuales_df.head()"
   ]
  },
  {
   "cell_type": "code",
   "execution_count": 51,
   "metadata": {
    "collapsed": false
   },
   "outputs": [],
   "source": [
    "prestamos_mes = prestamos_mensuales_df.groupby('MES').count()"
   ]
  },
  {
   "cell_type": "code",
   "execution_count": 207,
   "metadata": {
    "collapsed": false
   },
   "outputs": [
    {
     "data": {
      "text/plain": [
       "<matplotlib.axes._subplots.AxesSubplot at 0x7fbdb0c69668>"
      ]
     },
     "execution_count": 207,
     "metadata": {},
     "output_type": "execute_result"
    },
    {
     "data": {
      "image/png": "[encoded data removed]",
      "text/plain": [
       "<matplotlib.figure.Figure at 0x7fbdb0c603c8>"
      ]
     },
     "metadata": {},
     "output_type": "display_data"
    }
   ],
   "source": [
    "prestamos_mes.plot(figsize=(10,5), xlim=('2012-01-01', '2016-12-31'))"
   ]
  },
  {
   "cell_type": "markdown",
   "metadata": {},
   "source": [
    "### Títulos populares por topic"
   ]
  },
  {
   "cell_type": "code",
   "execution_count": 101,
   "metadata": {
    "collapsed": true
   },
   "outputs": [],
   "source": [
    "prestamos_topic_ok_df = prestamos_df[('000' <= prestamos_df['DEWEY']) & (prestamos_df['DEWEY'] <= '999')]"
   ]
  },
  {
   "cell_type": "code",
   "execution_count": 184,
   "metadata": {
    "collapsed": true
   },
   "outputs": [],
   "source": [
    "prestamos_por_topic_y_titulo = prestamos_topic_ok_df.groupby(['DEWEY', 'TITULO'])['AUTOR'].count()"
   ]
  },
  {
   "cell_type": "code",
   "execution_count": 185,
   "metadata": {
    "collapsed": false
   },
   "outputs": [],
   "source": [
    "top_10 = prestamos_por_topic_y_titulo.groupby(level=0).nlargest(10)"
   ]
  },
  {
   "cell_type": "code",
   "execution_count": 201,
   "metadata": {
    "collapsed": false
   },
   "outputs": [
    {
     "data": {
      "text/plain": [
       "DEWEY  TITULO                                                      \n",
       "303    La violencia en Colombia                                        368\n",
       "       La era de la información : economía, sociedad y cultura         313\n",
       "       De la mano de Alicia : lo social y lo político en la postmod    215\n",
       "       Las 48 leyes del poder                                          190\n",
       "       Movimientos sociales, Estado y democracia en Colombia           189\n",
       "       Política cultural [y] cultura política : una nueva mirada so    186\n",
       "       Violencia política en Colombia : de la nación fragmentada a     178\n",
       "       Paramilitares y autodefensas : 1982-2003                        177\n",
       "       Modernidad líquida                                              164\n",
       "       Más allá de la noche : una historia de amor y de guerra         163\n",
       "Name: AUTOR, dtype: int64"
      ]
     },
     "execution_count": 201,
     "metadata": {},
     "output_type": "execute_result"
    }
   ],
   "source": [
    "top_10['303']"
   ]
  },
  {
   "cell_type": "code",
   "execution_count": 202,
   "metadata": {
    "collapsed": false
   },
   "outputs": [
    {
     "data": {
      "text/plain": [
       "DEWEY  TITULO                                                      \n",
       "320    El príncipe                                                     557\n",
       "       El pensamiento colombiano en el siglo XIX                       375\n",
       "       Microfísica del poder                                           294\n",
       "       Historia de las ideas políticas                                 219\n",
       "       El contrato social : o, principios del derecho político J. J    204\n",
       "       Seguridad, territorio, población : curso en el collège de Fr    204\n",
       "       El nacionalismo cosmopolita : la referencia europea en la co    202\n",
       "       La modernización en Colombia : los años de Laureano Gómez 18    195\n",
       "       El contrato social                                              190\n",
       "       Cuadernos de la cárcel                                          180\n",
       "Name: AUTOR, dtype: int64"
      ]
     },
     "execution_count": 202,
     "metadata": {},
     "output_type": "execute_result"
    }
   ],
   "source": [
    "top_10['320']"
   ]
  },
  {
   "cell_type": "code",
   "execution_count": 203,
   "metadata": {
    "collapsed": false
   },
   "outputs": [
    {
     "data": {
      "text/plain": [
       "DEWEY  TITULO                                                      \n",
       "616    Principios de medicina interna                                  640\n",
       "       Patología estructural y funcional                               529\n",
       "       Harrison principios de medicina interna                         441\n",
       "       Semiología médica : fisiopatología, semiotecnia y propedéuti    298\n",
       "       Neuroanatomía clínica                                           278\n",
       "       Microbiología médica                                            261\n",
       "       Microbiología médica : Jawetz, Melnick y Adelberg               185\n",
       "       Microbiología médica de Jawetz, Melnick y Adelberg              181\n",
       "       Inmunología                                                     178\n",
       "       Los anormales : curso en el College de France (1974-1975)       171\n",
       "Name: AUTOR, dtype: int64"
      ]
     },
     "execution_count": 203,
     "metadata": {},
     "output_type": "execute_result"
    }
   ],
   "source": [
    "top_10['616']"
   ]
  },
  {
   "cell_type": "code",
   "execution_count": 204,
   "metadata": {
    "collapsed": false
   },
   "outputs": [
    {
     "data": {
      "text/plain": [
       "DEWEY  TITULO                                                      \n",
       "986    Historia doble de la Costa                                      663\n",
       "       Manual de historia de Colombia                                  437\n",
       "       Historia de Bogotá                                              388\n",
       "       Historia de Colombia                                            381\n",
       "       Colombia : país fragmentado, sociedad dividida, su historia     352\n",
       "       Colombia una nación a pesar de sí misma : de los tiempos pre    344\n",
       "       Entre la legitimidad y la violencia : Colombia 1875-1994        216\n",
       "       Historia de Colombia : todo lo que hay que saber                213\n",
       "       El carnero                                                      200\n",
       "       La hybris del punto cero : ciencia, raza e ilustración en la    186\n",
       "Name: AUTOR, dtype: int64"
      ]
     },
     "execution_count": 204,
     "metadata": {},
     "output_type": "execute_result"
    }
   ],
   "source": [
    "top_10['986']"
   ]
  },
  {
   "cell_type": "markdown",
   "metadata": {},
   "source": [
    "### Títulos populares por topic"
   ]
  },
  {
   "cell_type": "code",
   "execution_count": null,
   "metadata": {
    "collapsed": true
   },
   "outputs": [],
   "source": []
  },
  {
   "cell_type": "code",
   "execution_count": null,
   "metadata": {
    "collapsed": true
   },
   "outputs": [],
   "source": []
  },
  {
   "cell_type": "code",
   "execution_count": null,
   "metadata": {
    "collapsed": true
   },
   "outputs": [],
   "source": []
  },
  {
   "cell_type": "code",
   "execution_count": null,
   "metadata": {
    "collapsed": true
   },
   "outputs": [],
   "source": []
  }
 ],
 "metadata": {
  "kernelspec": {
   "display_name": "Python 3",
   "language": "python",
   "name": "python3"
  },
  "language_info": {
   "codemirror_mode": {
    "name": "ipython",
    "version": 3
   },
   "file_extension": ".py",
   "mimetype": "text/x-python",
   "name": "python",
   "nbconvert_exporter": "python",
   "pygments_lexer": "ipython3",
   "version": "3.4.3"
  }
 },
 "nbformat": 4,
 "nbformat_minor": 1
}
