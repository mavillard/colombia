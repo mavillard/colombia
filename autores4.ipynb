{
 "cells": [
  {
   "cell_type": "markdown",
   "metadata": {},
   "source": [
    "# Alternative names (combinations) for top authors"
   ]
  },
  {
   "cell_type": "code",
   "execution_count": 1,
   "metadata": {
    "collapsed": true
   },
   "outputs": [],
   "source": [
    "import csv\n",
    "import os\n",
    "import re\n",
    "from collections import defaultdict\n",
    "from collections import Counter\n",
    "from datetime import datetime\n",
    "from datetime import timedelta\n",
    "from string import punctuation\n",
    "\n",
    "import matplotlib\n",
    "import numpy as np\n",
    "import networkx as nx\n",
    "import pandas as pd\n",
    "import requests\n",
    "import seaborn as sns\n",
    "from matplotlib import pyplot as plt\n",
    "from SPARQLWrapper import SPARQLWrapper, JSON"
   ]
  },
  {
   "cell_type": "markdown",
   "metadata": {},
   "source": [
    "# Autores"
   ]
  },
  {
   "cell_type": "code",
   "execution_count": 2,
   "metadata": {
    "collapsed": false
   },
   "outputs": [
    {
     "name": "stdout",
     "output_type": "stream",
     "text": [
      "CPU times: user 4.69 s, sys: 272 ms, total: 4.97 s\n",
      "Wall time: 4.96 s\n"
     ]
    }
   ],
   "source": [
    "%%time\n",
    "\n",
    "dtypes = {\n",
    "    'TITULO': str,\n",
    "    'AUTOR': str,\n",
    "    'PAIS_EJEMPLAR': str,\n",
    "    'PAIS_AUTOR': str,\n",
    "}\n",
    "\n",
    "autores_df = pd.read_csv('autores3.csv', header=0, dtype=dtypes)\n",
    "autores_df = autores_df.fillna('')"
   ]
  },
  {
   "cell_type": "code",
   "execution_count": 3,
   "metadata": {
    "collapsed": false
   },
   "outputs": [
    {
     "data": {
      "text/plain": [
       "(3054360, 4)"
      ]
     },
     "execution_count": 3,
     "metadata": {},
     "output_type": "execute_result"
    }
   ],
   "source": [
    "autores_df.shape"
   ]
  },
  {
   "cell_type": "code",
   "execution_count": 4,
   "metadata": {
    "collapsed": false
   },
   "outputs": [
    {
     "data": {
      "text/html": [
       "<div>\n",
       "<table border=\"1\" class=\"dataframe\">\n",
       "  <thead>\n",
       "    <tr style=\"text-align: right;\">\n",
       "      <th></th>\n",
       "      <th>TITULO</th>\n",
       "      <th>PAIS_EJEMPLAR</th>\n",
       "      <th>AUTOR</th>\n",
       "      <th>PAIS_AUTOR</th>\n",
       "    </tr>\n",
       "  </thead>\n",
       "  <tbody>\n",
       "    <tr>\n",
       "      <th>0</th>\n",
       "      <td>Un bicho extraño</td>\n",
       "      <td>Spain</td>\n",
       "      <td>Mon Daporta</td>\n",
       "      <td>DESCONOCIDO</td>\n",
       "    </tr>\n",
       "    <tr>\n",
       "      <th>1</th>\n",
       "      <td>Un bicho extraño</td>\n",
       "      <td>Spain</td>\n",
       "      <td>Mon Daporta</td>\n",
       "      <td>DESCONOCIDO</td>\n",
       "    </tr>\n",
       "    <tr>\n",
       "      <th>2</th>\n",
       "      <td>Quisiera tener ...</td>\n",
       "      <td>Mexico</td>\n",
       "      <td>Giovanna Zoboli</td>\n",
       "      <td>DESCONOCIDO</td>\n",
       "    </tr>\n",
       "    <tr>\n",
       "      <th>3</th>\n",
       "      <td>Johannes Gutenberg</td>\n",
       "      <td>Spain</td>\n",
       "      <td>Lluís Borràs Perelló</td>\n",
       "      <td>DESCONOCIDO</td>\n",
       "    </tr>\n",
       "    <tr>\n",
       "      <th>4</th>\n",
       "      <td>La fantástica leyenda de: la princesa y el dragón</td>\n",
       "      <td>Spain</td>\n",
       "      <td>Sonia Alins</td>\n",
       "      <td>DESCONOCIDO</td>\n",
       "    </tr>\n",
       "  </tbody>\n",
       "</table>\n",
       "</div>"
      ],
      "text/plain": [
       "                                              TITULO PAIS_EJEMPLAR  \\\n",
       "0                                   Un bicho extraño         Spain   \n",
       "1                                   Un bicho extraño         Spain   \n",
       "2                                 Quisiera tener ...        Mexico   \n",
       "3                                 Johannes Gutenberg         Spain   \n",
       "4  La fantástica leyenda de: la princesa y el dragón         Spain   \n",
       "\n",
       "                  AUTOR   PAIS_AUTOR  \n",
       "0           Mon Daporta  DESCONOCIDO  \n",
       "1           Mon Daporta  DESCONOCIDO  \n",
       "2       Giovanna Zoboli  DESCONOCIDO  \n",
       "3  Lluís Borràs Perelló  DESCONOCIDO  \n",
       "4           Sonia Alins  DESCONOCIDO  "
      ]
     },
     "execution_count": 4,
     "metadata": {},
     "output_type": "execute_result"
    }
   ],
   "source": [
    "autores_df.head()"
   ]
  },
  {
   "cell_type": "markdown",
   "metadata": {},
   "source": [
    "# Autores con país desconocido"
   ]
  },
  {
   "cell_type": "code",
   "execution_count": 5,
   "metadata": {
    "collapsed": false
   },
   "outputs": [],
   "source": [
    "autores_pais_desconocido_df = autores_df[\n",
    "    (autores_df['AUTOR'] != 'DESCONOCIDO') &\n",
    "    (autores_df['PAIS_AUTOR'] == 'DESCONOCIDO')\n",
    "]"
   ]
  },
  {
   "cell_type": "code",
   "execution_count": 6,
   "metadata": {
    "collapsed": false
   },
   "outputs": [
    {
     "data": {
      "text/plain": [
       "(1643766, 4)"
      ]
     },
     "execution_count": 6,
     "metadata": {},
     "output_type": "execute_result"
    }
   ],
   "source": [
    "autores_pais_desconocido_df.shape"
   ]
  },
  {
   "cell_type": "code",
   "execution_count": 7,
   "metadata": {
    "collapsed": false
   },
   "outputs": [
    {
     "data": {
      "text/html": [
       "<div>\n",
       "<table border=\"1\" class=\"dataframe\">\n",
       "  <thead>\n",
       "    <tr style=\"text-align: right;\">\n",
       "      <th></th>\n",
       "      <th>TITULO</th>\n",
       "      <th>PAIS_EJEMPLAR</th>\n",
       "      <th>AUTOR</th>\n",
       "      <th>PAIS_AUTOR</th>\n",
       "    </tr>\n",
       "  </thead>\n",
       "  <tbody>\n",
       "    <tr>\n",
       "      <th>0</th>\n",
       "      <td>Un bicho extraño</td>\n",
       "      <td>Spain</td>\n",
       "      <td>Mon Daporta</td>\n",
       "      <td>DESCONOCIDO</td>\n",
       "    </tr>\n",
       "    <tr>\n",
       "      <th>1</th>\n",
       "      <td>Un bicho extraño</td>\n",
       "      <td>Spain</td>\n",
       "      <td>Mon Daporta</td>\n",
       "      <td>DESCONOCIDO</td>\n",
       "    </tr>\n",
       "    <tr>\n",
       "      <th>2</th>\n",
       "      <td>Quisiera tener ...</td>\n",
       "      <td>Mexico</td>\n",
       "      <td>Giovanna Zoboli</td>\n",
       "      <td>DESCONOCIDO</td>\n",
       "    </tr>\n",
       "    <tr>\n",
       "      <th>3</th>\n",
       "      <td>Johannes Gutenberg</td>\n",
       "      <td>Spain</td>\n",
       "      <td>Lluís Borràs Perelló</td>\n",
       "      <td>DESCONOCIDO</td>\n",
       "    </tr>\n",
       "    <tr>\n",
       "      <th>4</th>\n",
       "      <td>La fantástica leyenda de: la princesa y el dragón</td>\n",
       "      <td>Spain</td>\n",
       "      <td>Sonia Alins</td>\n",
       "      <td>DESCONOCIDO</td>\n",
       "    </tr>\n",
       "  </tbody>\n",
       "</table>\n",
       "</div>"
      ],
      "text/plain": [
       "                                              TITULO PAIS_EJEMPLAR  \\\n",
       "0                                   Un bicho extraño         Spain   \n",
       "1                                   Un bicho extraño         Spain   \n",
       "2                                 Quisiera tener ...        Mexico   \n",
       "3                                 Johannes Gutenberg         Spain   \n",
       "4  La fantástica leyenda de: la princesa y el dragón         Spain   \n",
       "\n",
       "                  AUTOR   PAIS_AUTOR  \n",
       "0           Mon Daporta  DESCONOCIDO  \n",
       "1           Mon Daporta  DESCONOCIDO  \n",
       "2       Giovanna Zoboli  DESCONOCIDO  \n",
       "3  Lluís Borràs Perelló  DESCONOCIDO  \n",
       "4           Sonia Alins  DESCONOCIDO  "
      ]
     },
     "execution_count": 7,
     "metadata": {},
     "output_type": "execute_result"
    }
   ],
   "source": [
    "autores_pais_desconocido_df.head()"
   ]
  },
  {
   "cell_type": "code",
   "execution_count": 8,
   "metadata": {
    "collapsed": false
   },
   "outputs": [],
   "source": [
    "count_autores_desconocidos_sr = \\\n",
    "    autores_pais_desconocido_df.groupby(['AUTOR'])['TITULO'].count().sort_values(ascending=False)"
   ]
  },
  {
   "cell_type": "code",
   "execution_count": 9,
   "metadata": {
    "collapsed": false
   },
   "outputs": [
    {
     "data": {
      "text/plain": [
       "AUTOR\n",
       "Colombia                                                   11526\n",
       "Friedrich Wilhelm Nietzsche                                 5876\n",
       "Ivar Da Coll                                                5350\n",
       "Keiko Kasza                                                 5336\n",
       "Instituto Colombiano de Normas Técnicas y Certificación     4333\n",
       "Name: TITULO, dtype: int64"
      ]
     },
     "execution_count": 9,
     "metadata": {},
     "output_type": "execute_result"
    }
   ],
   "source": [
    "count_autores_desconocidos_sr.head()"
   ]
  },
  {
   "cell_type": "code",
   "execution_count": 10,
   "metadata": {
    "collapsed": true
   },
   "outputs": [],
   "source": [
    "THRESHOLD = 500"
   ]
  },
  {
   "cell_type": "code",
   "execution_count": 11,
   "metadata": {
    "collapsed": false
   },
   "outputs": [],
   "source": [
    "top_autores_desconocidos_sr = count_autores_desconocidos_sr[lambda x: x >= THRESHOLD]"
   ]
  },
  {
   "cell_type": "code",
   "execution_count": 12,
   "metadata": {
    "collapsed": false
   },
   "outputs": [
    {
     "data": {
      "text/plain": [
       "(277,)"
      ]
     },
     "execution_count": 12,
     "metadata": {},
     "output_type": "execute_result"
    }
   ],
   "source": [
    "top_autores_desconocidos_sr.shape"
   ]
  },
  {
   "cell_type": "code",
   "execution_count": 13,
   "metadata": {
    "collapsed": false
   },
   "outputs": [
    {
     "data": {
      "text/plain": [
       "AUTOR\n",
       "Colombia                                                   11526\n",
       "Friedrich Wilhelm Nietzsche                                 5876\n",
       "Ivar Da Coll                                                5350\n",
       "Keiko Kasza                                                 5336\n",
       "Instituto Colombiano de Normas Técnicas y Certificación     4333\n",
       "Fedor Mijailovich Dostoievski                               4296\n",
       "Graciela Montes                                             3686\n",
       "Miguel de Cervantes Saavedra                                2746\n",
       "James Preller                                               2516\n",
       "Dennis G Zill                                               2497\n",
       "Jacob Ludwig Karl Grimm                                     2386\n",
       "Xavier Deneux                                               2332\n",
       "Andrés Caicedo Estela                                       2326\n",
       "Jean Paul Sartre                                            2326\n",
       "Lev Nikolaevich Tolstoi                                     2293\n",
       "Ernesto Sábato                                              2223\n",
       "Clive Staples Lewis                                         2165\n",
       "Ana María Machado                                           2162\n",
       "fl. siglo IX? a.C Homero                                    2113\n",
       "Evelio José Rosero Diago                                    2095\n",
       "Luz Orihuela                                                1978\n",
       "Raymond A Serway                                            1977\n",
       "Taro Gomi                                                   1917\n",
       "Eric J. Hobsbawm                                            1815\n",
       "Jurgen Habermas                                             1806\n",
       "Triunfo Arciniegas                                          1784\n",
       "Alfredo Molano                                              1759\n",
       "Rocío Antón                                                 1752\n",
       "Stephen William Hawking                                     1734\n",
       "Osho                                                        1703\n",
       "                                                           ...  \n",
       "Alice Twine                                                  531\n",
       "Joan de Déu Prats                                            530\n",
       "Antonio Ventura                                              528\n",
       "Fernando Canosa Torrado                                      527\n",
       "Alejandro Magallanes                                         525\n",
       "Armando Jaramillo Castañeda                                  525\n",
       "Héctor Ortíz Anaya                                           525\n",
       "Jeanne Willis                                                525\n",
       "Mary Wollstonecraft Shelley                                  524\n",
       "Fernando Avila                                               523\n",
       "Manuela Monari                                               523\n",
       "Stéphane Frattini                                            522\n",
       "Guillermo Briones                                            521\n",
       "Sally Hewitt                                                 518\n",
       "Marc Léopold Benjamin Bloch                                  517\n",
       "Jean-Francois Lyotard                                        516\n",
       "Marie Aude Murail                                            515\n",
       "Pilar Lozano                                                 514\n",
       "Felipe Durán Ramírez                                         513\n",
       "Lucía Serrano                                                509\n",
       "Amélie Graux                                                 509\n",
       "Thomas S. Kuhn                                               508\n",
       "Juan Carlos Mora Barrera                                     507\n",
       "Stuart Trotter                                               507\n",
       "Edward W. Said                                               505\n",
       "Jairo Parra Quijano                                          504\n",
       "Janet Halfmann                                               502\n",
       "Emilia Ferreiro                                              501\n",
       "Johann Christian Friedrich Hölderlin                         500\n",
       "Florence Thomas                                              500\n",
       "Name: TITULO, dtype: int64"
      ]
     },
     "execution_count": 13,
     "metadata": {},
     "output_type": "execute_result"
    }
   ],
   "source": [
    "top_autores_desconocidos_sr"
   ]
  },
  {
   "cell_type": "markdown",
   "metadata": {},
   "source": [
    "## País autor"
   ]
  },
  {
   "cell_type": "code",
   "execution_count": 14,
   "metadata": {
    "collapsed": true
   },
   "outputs": [],
   "source": [
    "def get_pais_autor_data_wkd(name, lang):\n",
    "    template = \"\"\"\n",
    "        PREFIX wd: <http://www.wikidata.org/entity/>\n",
    "        PREFIX wdt: <http://www.wikidata.org/prop/direct/>\n",
    "        PREFIX rdfs: <http://www.w3.org/2000/01/rdf-schema#>\n",
    "\n",
    "        SELECT ?authorLabel ?countryLabel\n",
    "        WHERE {{\n",
    "            BIND(\"{0}\"@{1} AS ?authorLabel) .\n",
    "            ?author rdfs:label ?authorLabel .\n",
    "            ?author wdt:P31 wd:Q5 .\n",
    "            OPTIONAL {{ ?author wdt:P106 wd:Q36180 . }}\n",
    "            ?author wdt:P19 ?pob .\n",
    "            ?pob wdt:P17 ?country .\n",
    "            ?country rdfs:label ?countryLabel .\n",
    "            FILTER(lang(?countryLabel)=\"{1}\")\n",
    "        }}\n",
    "    \"\"\"\n",
    "    query = template.format(name, lang)\n",
    "    url = 'https://query.wikidata.org/bigdata/namespace/wdq/sparql'\n",
    "    data = requests.get(url, params={'query': query, 'format': 'json'}).json()\n",
    "    return data"
   ]
  },
  {
   "cell_type": "code",
   "execution_count": 15,
   "metadata": {
    "collapsed": true
   },
   "outputs": [],
   "source": [
    "sparql_dbp = SPARQLWrapper(\"http://dbpedia.org/sparql\")\n",
    "\n",
    "def get_pais_autor_data_dbp(name, lang):\n",
    "    template = \"\"\"\n",
    "        PREFIX dbo: <http://dbpedia.org/ontology/>\n",
    "        PREFIX dbp: <http://dbpedia.org/property/>\n",
    "        PREFIX rdf: <http://www.w3.org/1999/02/22-rdf-syntax-ns#>\n",
    "        PREFIX rdfs: <http://www.w3.org/2000/01/rdf-schema#>\n",
    "\n",
    "        SELECT ?authorLabel ?countryLabel\n",
    "        WHERE {{\n",
    "            BIND(\"{0}\"@{1} AS ?authorLabel) .\n",
    "            ?author rdfs:label ?authorLabel .\n",
    "            ?author rdf:type dbo:Person .\n",
    "            OPTIONAL {{ ?author rdf:type dbo:Writer . }}\n",
    "            ?author dbp:birthPlace ?pob .\n",
    "            ?pob rdf:type dbo:Country .\n",
    "            ?pob rdfs:label ?countryLabel .\n",
    "            FILTER(lang(?countryLabel)=\"{1}\")\n",
    "        }}\n",
    "    \"\"\"\n",
    "    query = template.format(name, lang)\n",
    "    sparql_dbp.setQuery(query)\n",
    "    sparql_dbp.setReturnFormat(JSON)\n",
    "    data = sparql_dbp.query().convert()\n",
    "    return data"
   ]
  },
  {
   "cell_type": "code",
   "execution_count": 16,
   "metadata": {
    "collapsed": true
   },
   "outputs": [],
   "source": [
    "def get_pais_autor_data(db, name, lang):\n",
    "    try:\n",
    "        if db == 'wdt':\n",
    "            data = get_pais_autor_data_wkd(name, lang)\n",
    "        elif db == 'dbp':\n",
    "            data = get_pais_autor_data_dbp(name, lang)\n",
    "\n",
    "        results = set(d['countryLabel']['value'] for d in data['results']['bindings'])\n",
    "        if len(results) == 0:\n",
    "            result = 'UNKOWN'\n",
    "        elif len(results) == 1:\n",
    "            result = results.pop()\n",
    "        else:\n",
    "            print('MáS DE UN PAíS PARA', name, ':', results)\n",
    "            result = results.pop()\n",
    "    except:\n",
    "        print('ERROR EN SPARQL PARA', name)\n",
    "        result = 'UNKOWN'\n",
    "    return result"
   ]
  },
  {
   "cell_type": "code",
   "execution_count": 17,
   "metadata": {
    "collapsed": true
   },
   "outputs": [],
   "source": [
    "def choose(opt_list):\n",
    "    return Counter(opt_list).most_common(1)[0][0]"
   ]
  },
  {
   "cell_type": "code",
   "execution_count": 18,
   "metadata": {
    "collapsed": true
   },
   "outputs": [],
   "source": [
    "# def get_pais_autor(name):\n",
    "#     r = 'DESCONOCIDO'\n",
    "#     opt_dict = {}\n",
    "#     for lang in ['en', 'es']:\n",
    "#         opt_dict[lang] = {}\n",
    "#         for db in ['dbp', 'wdt']:\n",
    "#             opt_dict[lang][db] = get_pais_autor_data(db, name, lang)\n",
    "#         opts = opt_dict[lang].values()\n",
    "#         if all(map(lambda x: x != 'UNKOWN', opts)):\n",
    "#             r = choose(opts)\n",
    "#             break\n",
    "#     if r == 'DESCONOCIDO':\n",
    "#         for lang in ['en', 'es']:\n",
    "#             opts = opt_dict[lang].values()\n",
    "#             if any(map(lambda x: x != 'UNKOWN', opts)):\n",
    "#                 opts = [opt for opt in opts if opt != 'UNKOWN']\n",
    "#                 r = choose(opts)\n",
    "#                 break\n",
    "#     return r\n",
    "\n",
    "def get_pais_autor(name):\n",
    "    for lang in ['en', 'es']:\n",
    "        for db in ['dbp', 'wdt']:\n",
    "            r = get_pais_autor_data(db, name, lang)\n",
    "            if r != 'UNKOWN':\n",
    "                return r\n",
    "    return 'DESCONOCIDO'"
   ]
  },
  {
   "cell_type": "code",
   "execution_count": 19,
   "metadata": {
    "collapsed": false
   },
   "outputs": [
    {
     "name": "stdout",
     "output_type": "stream",
     "text": [
      "CPU times: user 19 s, sys: 12.1 ms, total: 19 s\n",
      "Wall time: 19 s\n"
     ]
    }
   ],
   "source": [
    "%%time\n",
    "\n",
    "autores_paises_dict = {}\n",
    "\n",
    "for i, x in autores_df.drop_duplicates(['AUTOR']).iterrows():\n",
    "    autores_paises_dict[x['AUTOR']] = x['PAIS_AUTOR']"
   ]
  },
  {
   "cell_type": "code",
   "execution_count": 20,
   "metadata": {
    "collapsed": true
   },
   "outputs": [],
   "source": [
    "def combinaciones(ls):\n",
    "    r = []\n",
    "    for x in ls:\n",
    "        aux = list(ls)\n",
    "        aux.remove(x)\n",
    "        r.append(aux)\n",
    "    return r"
   ]
  },
  {
   "cell_type": "code",
   "execution_count": 21,
   "metadata": {
    "collapsed": false
   },
   "outputs": [
    {
     "name": "stdout",
     "output_type": "stream",
     "text": [
      "MáS DE UN PAíS PARA James : {'Bangladesh', 'United States of America', 'India', 'Israel'}\n",
      "MáS DE UN PAíS PARA Roberto Hernández : {'Dominican Republic', 'United States of America', 'Cuba', 'Chile', 'Mexico'}\n",
      "MáS DE UN PAíS PARA Ricardo : {'Spain', 'Portugal', 'Brazil', 'Chile'}\n",
      "MáS DE UN PAíS PARA Jacques Rousseau : {'France', 'South Africa'}\n",
      "MáS DE UN PAíS PARA Diana : {'Brazil', 'Netherlands'}\n",
      "MáS DE UN PAíS PARA Daniel : {'Brazil', 'Montenegro', 'Russia'}\n",
      "MáS DE UN PAíS PARA Hugo Gutiérrez : {'Argentina', 'Chile'}\n",
      "MáS DE UN PAíS PARA Freeman : {'Finland', 'France'}\n",
      "MáS DE UN PAíS PARA José Silva : {'United States of America', 'Portugal', 'Mexico'}\n",
      "MáS DE UN PAíS PARA Amber : {'Malta', 'Netherlands'}\n",
      "MáS DE UN PAíS PARA George Thomas : {'United States of America', 'United Kingdom', 'India', 'Ireland'}\n",
      "MáS DE UN PAíS PARA Luis Aguilar : {'United States of America', 'Mexico'}\n",
      "MáS DE UN PAíS PARA Wayne Dyer : {'United States of America', 'United Kingdom'}\n",
      "MáS DE UN PAíS PARA Bruno : {'Italy', 'Germany'}\n",
      "MáS DE UN PAíS PARA Silvia : {'Bulgaria', 'Japan'}\n",
      "MáS DE UN PAíS PARA Luciano : {'Jamaica', 'Switzerland'}\n",
      "MáS DE UN PAíS PARA Silvia : {'Bulgaria', 'Japan'}\n",
      "MáS DE UN PAíS PARA Alice : {'Italy', 'Japan'}\n",
      "CPU times: user 31.2 s, sys: 1.21 s, total: 32.4 s\n",
      "Wall time: 10min 27s\n"
     ]
    }
   ],
   "source": [
    "%%time\n",
    "\n",
    "for autor in top_autores_desconocidos_sr.index:\n",
    "    nombres = autor.split()\n",
    "    if len(nombres) > 1:\n",
    "        for c in combinaciones(nombres):\n",
    "            aux = ' '.join(c)\n",
    "            pais = get_pais_autor(aux)\n",
    "            if pais != 'DESCONOCIDO':\n",
    "                autores_paises_dict[autor] = pais\n",
    "                break"
   ]
  },
  {
   "cell_type": "code",
   "execution_count": 22,
   "metadata": {
    "collapsed": false
   },
   "outputs": [
    {
     "name": "stdout",
     "output_type": "stream",
     "text": [
      "CPU times: user 1min 31s, sys: 59.2 ms, total: 1min 31s\n",
      "Wall time: 1min 31s\n"
     ]
    }
   ],
   "source": [
    "%%time\n",
    "\n",
    "def process_pais(x):\n",
    "    return autores_paises_dict[x['AUTOR']]\n",
    "\n",
    "autores_df['PAIS_AUTOR'] = autores_df.apply(process_pais, axis=1)"
   ]
  },
  {
   "cell_type": "markdown",
   "metadata": {},
   "source": [
    "# Saving results"
   ]
  },
  {
   "cell_type": "code",
   "execution_count": 23,
   "metadata": {
    "collapsed": false
   },
   "outputs": [],
   "source": [
    "autores_df.to_csv('autores4.csv', index=False)"
   ]
  },
  {
   "cell_type": "code",
   "execution_count": null,
   "metadata": {
    "collapsed": true
   },
   "outputs": [],
   "source": []
  }
 ],
 "metadata": {
  "kernelspec": {
   "display_name": "Python 3",
   "language": "python",
   "name": "python3"
  },
  "language_info": {
   "codemirror_mode": {
    "name": "ipython",
    "version": 3
   },
   "file_extension": ".py",
   "mimetype": "text/x-python",
   "name": "python",
   "nbconvert_exporter": "python",
   "pygments_lexer": "ipython3",
   "version": "3.4.3"
  }
 },
 "nbformat": 4,
 "nbformat_minor": 1
}
