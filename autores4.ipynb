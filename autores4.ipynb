{
 "cells": [
  {
   "cell_type": "code",
   "execution_count": 2,
   "metadata": {
    "collapsed": false
   },
   "outputs": [],
   "source": [
    "# Contar los pares PAIS_AUTOR, PAIS_EJEMPLAR y ver cuales son las \"rutas\" (pares, siempre q ambos paises sean diferentes) mas frecuentes"
   ]
  },
  {
   "cell_type": "code",
   "execution_count": 3,
   "metadata": {
    "collapsed": true
   },
   "outputs": [],
   "source": [
    "import csv\n",
    "import os\n",
    "import re\n",
    "from collections import defaultdict\n",
    "from collections import Counter\n",
    "from datetime import datetime\n",
    "from datetime import timedelta\n",
    "from string import punctuation\n",
    "\n",
    "import matplotlib\n",
    "import numpy as np\n",
    "import networkx as nx\n",
    "import pandas as pd\n",
    "import requests\n",
    "import seaborn as sns\n",
    "from matplotlib import pyplot as plt\n",
    "from SPARQLWrapper import SPARQLWrapper, JSON"
   ]
  },
  {
   "cell_type": "markdown",
   "metadata": {},
   "source": [
    "# Préstamos"
   ]
  },
  {
   "cell_type": "code",
   "execution_count": 4,
   "metadata": {
    "collapsed": false
   },
   "outputs": [
    {
     "name": "stdout",
     "output_type": "stream",
     "text": [
      "CPU times: user 19.1 s, sys: 1.2 s, total: 20.3 s\n",
      "Wall time: 20.3 s\n"
     ]
    }
   ],
   "source": [
    "%%time\n",
    "\n",
    "dtypes = {\n",
    "    'TITULO': str,\n",
    "    'AUTOR': str,\n",
    "    'SUCURSAL': str,\n",
    "    'COD_BARRAS_LIBRO': str,\n",
    "    'DEWEY': str,\n",
    "    'DESC_LOCALIZACION_EJEMPLAR': str,\n",
    "    'FECHA_PUB': str,\n",
    "    'PAIS_EJEMPLAR': str,\n",
    "    'OCUPACION': str,\n",
    "    'NIVEL_EDUCACION': str,\n",
    "    'AREA_ESTUDIO': str,\n",
    "    'SUCURSAL_PRESTAMO': str,\n",
    "    'SUCURSAL_DEVOLUCION': str,\n",
    "    'SUCURSAL_DEL_LECTOR': str,\n",
    "    'COD_BARRAS_LECTOR': str,\n",
    "    'CATEGORÍA': str,\n",
    "    'FECHA_PRESTAMO': str,\n",
    "    'FECHA_REAL_DEVOLUCION': str,\n",
    "    'DATE_PRESTAMO': pd.tslib.Timestamp,\n",
    "    'DATE_DEVOLUCION': pd.tslib.Timestamp,\n",
    "}\n",
    "\n",
    "prestamos_df = pd.read_csv('prestamos_totales.csv', header=0, dtype=dtypes, parse_dates=['DATE_PRESTAMO', 'DATE_DEVOLUCION'])\n",
    "prestamos_df = prestamos_df.fillna('')"
   ]
  },
  {
   "cell_type": "markdown",
   "metadata": {},
   "source": [
    "# Autores"
   ]
  },
  {
   "cell_type": "code",
   "execution_count": 5,
   "metadata": {
    "collapsed": false
   },
   "outputs": [
    {
     "name": "stdout",
     "output_type": "stream",
     "text": [
      "CPU times: user 5.07 s, sys: 120 ms, total: 5.19 s\n",
      "Wall time: 5.19 s\n"
     ]
    }
   ],
   "source": [
    "%%time\n",
    "\n",
    "dtypes = {\n",
    "    'TITULO': str,\n",
    "    'AUTOR': str,\n",
    "    'PAIS_EJEMPLAR': str,\n",
    "    'PAIS_AUTOR': str,\n",
    "}\n",
    "\n",
    "# autores_df = pd.read_csv('autores3.csv', header=0, dtype=dtypes)\n",
    "autores_df = pd.read_csv('autores.csv', header=0, dtype=dtypes)\n",
    "autores_df = autores_df.fillna('')"
   ]
  },
  {
   "cell_type": "code",
   "execution_count": 6,
   "metadata": {
    "collapsed": false
   },
   "outputs": [
    {
     "data": {
      "text/plain": [
       "(3054360, 4)"
      ]
     },
     "execution_count": 6,
     "metadata": {},
     "output_type": "execute_result"
    }
   ],
   "source": [
    "autores_df.shape"
   ]
  },
  {
   "cell_type": "code",
   "execution_count": 7,
   "metadata": {
    "collapsed": false
   },
   "outputs": [
    {
     "data": {
      "text/html": [
       "<div>\n",
       "<table border=\"1\" class=\"dataframe\">\n",
       "  <thead>\n",
       "    <tr style=\"text-align: right;\">\n",
       "      <th></th>\n",
       "      <th>TITULO</th>\n",
       "      <th>PAIS_EJEMPLAR</th>\n",
       "      <th>AUTOR</th>\n",
       "      <th>PAIS_AUTOR</th>\n",
       "    </tr>\n",
       "  </thead>\n",
       "  <tbody>\n",
       "    <tr>\n",
       "      <th>0</th>\n",
       "      <td>Un bicho extraño</td>\n",
       "      <td>Spain</td>\n",
       "      <td>Mon Daporta</td>\n",
       "      <td>DESCONOCIDO</td>\n",
       "    </tr>\n",
       "    <tr>\n",
       "      <th>1</th>\n",
       "      <td>Un bicho extraño</td>\n",
       "      <td>Spain</td>\n",
       "      <td>Mon Daporta</td>\n",
       "      <td>DESCONOCIDO</td>\n",
       "    </tr>\n",
       "    <tr>\n",
       "      <th>2</th>\n",
       "      <td>Quisiera tener ...</td>\n",
       "      <td>Mexico</td>\n",
       "      <td>Giovanna Zoboli</td>\n",
       "      <td>DESCONOCIDO</td>\n",
       "    </tr>\n",
       "    <tr>\n",
       "      <th>3</th>\n",
       "      <td>Johannes Gutenberg</td>\n",
       "      <td>Spain</td>\n",
       "      <td>Lluís Borràs Perelló</td>\n",
       "      <td>DESCONOCIDO</td>\n",
       "    </tr>\n",
       "    <tr>\n",
       "      <th>4</th>\n",
       "      <td>La fantástica leyenda de: la princesa y el dragón</td>\n",
       "      <td>Spain</td>\n",
       "      <td>Sonia Alins</td>\n",
       "      <td>DESCONOCIDO</td>\n",
       "    </tr>\n",
       "  </tbody>\n",
       "</table>\n",
       "</div>"
      ],
      "text/plain": [
       "                                              TITULO PAIS_EJEMPLAR  \\\n",
       "0                                   Un bicho extraño         Spain   \n",
       "1                                   Un bicho extraño         Spain   \n",
       "2                                 Quisiera tener ...        Mexico   \n",
       "3                                 Johannes Gutenberg         Spain   \n",
       "4  La fantástica leyenda de: la princesa y el dragón         Spain   \n",
       "\n",
       "                  AUTOR   PAIS_AUTOR  \n",
       "0           Mon Daporta  DESCONOCIDO  \n",
       "1           Mon Daporta  DESCONOCIDO  \n",
       "2       Giovanna Zoboli  DESCONOCIDO  \n",
       "3  Lluís Borràs Perelló  DESCONOCIDO  \n",
       "4           Sonia Alins  DESCONOCIDO  "
      ]
     },
     "execution_count": 7,
     "metadata": {},
     "output_type": "execute_result"
    }
   ],
   "source": [
    "autores_df.head()"
   ]
  },
  {
   "cell_type": "markdown",
   "metadata": {},
   "source": [
    "## Limpiando datos"
   ]
  },
  {
   "cell_type": "code",
   "execution_count": 8,
   "metadata": {
    "collapsed": false
   },
   "outputs": [],
   "source": [
    "autores_df = autores_df[\n",
    "    (autores_df['AUTOR'] != 'DESCONOCIDO') &\n",
    "    (autores_df['TITULO'] != 'DESCONOCIDO') &\n",
    "    (autores_df['PAIS_AUTOR'] != 'DESCONOCIDO') &\n",
    "    (autores_df['PAIS_EJEMPLAR'] != 'DESCONOCIDO')\n",
    "]"
   ]
  },
  {
   "cell_type": "code",
   "execution_count": 9,
   "metadata": {
    "collapsed": false
   },
   "outputs": [
    {
     "data": {
      "text/plain": [
       "(931392, 4)"
      ]
     },
     "execution_count": 9,
     "metadata": {},
     "output_type": "execute_result"
    }
   ],
   "source": [
    "autores_df.shape"
   ]
  },
  {
   "cell_type": "code",
   "execution_count": 10,
   "metadata": {
    "collapsed": false
   },
   "outputs": [
    {
     "data": {
      "text/html": [
       "<div>\n",
       "<table border=\"1\" class=\"dataframe\">\n",
       "  <thead>\n",
       "    <tr style=\"text-align: right;\">\n",
       "      <th></th>\n",
       "      <th>TITULO</th>\n",
       "      <th>PAIS_EJEMPLAR</th>\n",
       "      <th>AUTOR</th>\n",
       "      <th>PAIS_AUTOR</th>\n",
       "    </tr>\n",
       "  </thead>\n",
       "  <tbody>\n",
       "    <tr>\n",
       "      <th>10</th>\n",
       "      <td>Adivina en qué pais ...</td>\n",
       "      <td>Spain</td>\n",
       "      <td>Martina Badstuber</td>\n",
       "      <td>Germany</td>\n",
       "    </tr>\n",
       "    <tr>\n",
       "      <th>11</th>\n",
       "      <td>Adivina en qué pais ...</td>\n",
       "      <td>Spain</td>\n",
       "      <td>Martina Badstuber</td>\n",
       "      <td>Germany</td>\n",
       "    </tr>\n",
       "    <tr>\n",
       "      <th>12</th>\n",
       "      <td>Adivina en qué pais ...</td>\n",
       "      <td>Spain</td>\n",
       "      <td>Martina Badstuber</td>\n",
       "      <td>Germany</td>\n",
       "    </tr>\n",
       "    <tr>\n",
       "      <th>19</th>\n",
       "      <td>Humo</td>\n",
       "      <td>Spain</td>\n",
       "      <td>Antón Fortes Torres</td>\n",
       "      <td>Spain</td>\n",
       "    </tr>\n",
       "    <tr>\n",
       "      <th>20</th>\n",
       "      <td>Humo</td>\n",
       "      <td>Spain</td>\n",
       "      <td>Antón Fortes Torres</td>\n",
       "      <td>Spain</td>\n",
       "    </tr>\n",
       "  </tbody>\n",
       "</table>\n",
       "</div>"
      ],
      "text/plain": [
       "                     TITULO PAIS_EJEMPLAR                AUTOR PAIS_AUTOR\n",
       "10  Adivina en qué pais ...         Spain    Martina Badstuber    Germany\n",
       "11  Adivina en qué pais ...         Spain    Martina Badstuber    Germany\n",
       "12  Adivina en qué pais ...         Spain    Martina Badstuber    Germany\n",
       "19                     Humo         Spain  Antón Fortes Torres      Spain\n",
       "20                     Humo         Spain  Antón Fortes Torres      Spain"
      ]
     },
     "execution_count": 10,
     "metadata": {},
     "output_type": "execute_result"
    }
   ],
   "source": [
    "autores_df.head()"
   ]
  },
  {
   "cell_type": "code",
   "execution_count": 11,
   "metadata": {
    "collapsed": false
   },
   "outputs": [],
   "source": [
    "autores_df.drop_duplicates(['AUTOR', 'TITULO'], inplace=True)"
   ]
  },
  {
   "cell_type": "code",
   "execution_count": 12,
   "metadata": {
    "collapsed": false
   },
   "outputs": [
    {
     "data": {
      "text/plain": [
       "(70687, 4)"
      ]
     },
     "execution_count": 12,
     "metadata": {},
     "output_type": "execute_result"
    }
   ],
   "source": [
    "autores_df.shape"
   ]
  },
  {
   "cell_type": "code",
   "execution_count": 13,
   "metadata": {
    "collapsed": false
   },
   "outputs": [
    {
     "data": {
      "text/html": [
       "<div>\n",
       "<table border=\"1\" class=\"dataframe\">\n",
       "  <thead>\n",
       "    <tr style=\"text-align: right;\">\n",
       "      <th></th>\n",
       "      <th>TITULO</th>\n",
       "      <th>PAIS_EJEMPLAR</th>\n",
       "      <th>AUTOR</th>\n",
       "      <th>PAIS_AUTOR</th>\n",
       "    </tr>\n",
       "  </thead>\n",
       "  <tbody>\n",
       "    <tr>\n",
       "      <th>10</th>\n",
       "      <td>Adivina en qué pais ...</td>\n",
       "      <td>Spain</td>\n",
       "      <td>Martina Badstuber</td>\n",
       "      <td>Germany</td>\n",
       "    </tr>\n",
       "    <tr>\n",
       "      <th>19</th>\n",
       "      <td>Humo</td>\n",
       "      <td>Spain</td>\n",
       "      <td>Antón Fortes Torres</td>\n",
       "      <td>Spain</td>\n",
       "    </tr>\n",
       "    <tr>\n",
       "      <th>21</th>\n",
       "      <td>Galleta para perros</td>\n",
       "      <td>Spain</td>\n",
       "      <td>Helen Cooper</td>\n",
       "      <td>United Kingdom</td>\n",
       "    </tr>\n",
       "    <tr>\n",
       "      <th>25</th>\n",
       "      <td>Autobio</td>\n",
       "      <td>Spain</td>\n",
       "      <td>Cyril Pedrosa</td>\n",
       "      <td>France</td>\n",
       "    </tr>\n",
       "    <tr>\n",
       "      <th>58</th>\n",
       "      <td>Félix, : el coleccionista de miedos</td>\n",
       "      <td>Spain</td>\n",
       "      <td>Fina Casalderrey</td>\n",
       "      <td>Spain</td>\n",
       "    </tr>\n",
       "  </tbody>\n",
       "</table>\n",
       "</div>"
      ],
      "text/plain": [
       "                                 TITULO PAIS_EJEMPLAR                AUTOR  \\\n",
       "10              Adivina en qué pais ...         Spain    Martina Badstuber   \n",
       "19                                 Humo         Spain  Antón Fortes Torres   \n",
       "21                  Galleta para perros         Spain         Helen Cooper   \n",
       "25                              Autobio         Spain        Cyril Pedrosa   \n",
       "58  Félix, : el coleccionista de miedos         Spain     Fina Casalderrey   \n",
       "\n",
       "        PAIS_AUTOR  \n",
       "10         Germany  \n",
       "19           Spain  \n",
       "21  United Kingdom  \n",
       "25          France  \n",
       "58           Spain  "
      ]
     },
     "execution_count": 13,
     "metadata": {},
     "output_type": "execute_result"
    }
   ],
   "source": [
    "autores_df.head()"
   ]
  },
  {
   "cell_type": "markdown",
   "metadata": {},
   "source": [
    "## Resultados"
   ]
  },
  {
   "cell_type": "code",
   "execution_count": 14,
   "metadata": {
    "collapsed": false
   },
   "outputs": [
    {
     "data": {
      "text/plain": [
       "68248"
      ]
     },
     "execution_count": 14,
     "metadata": {},
     "output_type": "execute_result"
    }
   ],
   "source": [
    "autores_df['TITULO'].nunique()"
   ]
  },
  {
   "cell_type": "code",
   "execution_count": 15,
   "metadata": {
    "collapsed": false
   },
   "outputs": [
    {
     "data": {
      "text/plain": [
       "Obras completas                                                 95\n",
       "Antología poética                                               73\n",
       "Antología                                                       66\n",
       "Poemas                                                          58\n",
       "Cuentos                                                         48\n",
       "Cuentos completos                                               43\n",
       "Poesía                                                          43\n",
       "Obras escogidas                                                 33\n",
       "Obras selectas                                                  30\n",
       "Obras                                                           30\n",
       "Obra poética                                                    28\n",
       "Teatro                                                          28\n",
       "Poesía completa                                                 27\n",
       "Antología personal                                              23\n",
       "Poesías                                                         22\n",
       "Poesías completas                                               22\n",
       "Memorias                                                        20\n",
       "Teatro completo                                                 17\n",
       "Ensayos                                                         15\n",
       "Poemas escogidos                                                15\n",
       "Escritos políticos                                              15\n",
       "Obra completa                                                   14\n",
       "Correspondencia                                                 13\n",
       "Relatos                                                         13\n",
       "Mi vida                                                         11\n",
       "Novelas escogidas                                               11\n",
       "Autobiografía                                                   11\n",
       "Selected poems                                                  11\n",
       "Filosofía del derecho                                           10\n",
       "Diarios                                                         10\n",
       "                                                                ..\n",
       "Principios del proceso penal europeo : análisis de la Conven     1\n",
       "Vademecum del humor                                              1\n",
       "Lenin : los años de formación                                    1\n",
       "Carmen : doble error                                             1\n",
       "La muerte en Lima 1780-1990 : un ensayo de historia de las m     1\n",
       "Angelus Novus                                                    1\n",
       "El obrero de la alegría = the happiness Maker                    1\n",
       "Las reglas del verano                                            1\n",
       "The waves                                                        1\n",
       "País secreto                                                     1\n",
       "Vida de María Sabina : la sabia de los hongos                    1\n",
       "El concepto de estabilidad de los sistemas políticos             1\n",
       "Budismo : principios, práctica, rituales y escritura sagrada     1\n",
       "El lenguaje del cuerpo : dinámica física de la estructura de     1\n",
       "Antología nueva                                                  1\n",
       "Nouvelles orientales                                             1\n",
       "Histoire du Tango cinco piezas para guitarra                     1\n",
       "Mi cuerpo es mi camino                                           1\n",
       "Aventuras de Alicia en el país de las maravillas ; A través      1\n",
       "Discurso de metafísica : Sistema de la naturaleza ; Nuevo t      1\n",
       "La sociedad como materia novelable : discurso leído ante la      1\n",
       "Perspectivas sobre la conducta anormal                           1\n",
       "Rafael Uribe Uribe : obras selectas                              1\n",
       "El libro de Manuel y Camila : diálogos sobre ética               1\n",
       "Aladdin sane                                                     1\n",
       "Guía completa de caligrafía : técnicas y materiales              1\n",
       "The mysteries of Pittsburgh                                      1\n",
       "Los esclavos cristianos : desde los primeros tiempos de la i     1\n",
       "Escenarios : estética y teoría literaria                         1\n",
       "Los brasileños                                                   1\n",
       "Name: TITULO, dtype: int64"
      ]
     },
     "execution_count": 15,
     "metadata": {},
     "output_type": "execute_result"
    }
   ],
   "source": [
    "autores_df['TITULO'].value_counts()"
   ]
  },
  {
   "cell_type": "code",
   "execution_count": 16,
   "metadata": {
    "collapsed": false
   },
   "outputs": [
    {
     "data": {
      "text/plain": [
       "127"
      ]
     },
     "execution_count": 16,
     "metadata": {},
     "output_type": "execute_result"
    }
   ],
   "source": [
    "autores_df['PAIS_EJEMPLAR'].nunique()"
   ]
  },
  {
   "cell_type": "code",
   "execution_count": 17,
   "metadata": {
    "collapsed": false
   },
   "outputs": [
    {
     "data": {
      "text/plain": [
       "Spain                                 34706\n",
       "Colombia                               8751\n",
       "Argentina                              6760\n",
       "Mexico                                 6208\n",
       "United States                          3700\n",
       "France                                 1850\n",
       "England                                1641\n",
       "Venezuela                              1036\n",
       "New York (State)                        829\n",
       "Chile                                   727\n",
       "Cuba                                    427\n",
       "Brazil                                  425\n",
       "United Kingdom                          414\n",
       "Italy                                   372\n",
       "Peru                                    359\n",
       "Germany                                 283\n",
       "Ecuador                                 266\n",
       "California                              150\n",
       "Canada                                  137\n",
       "Uruguay                                 130\n",
       "Switzerland                             113\n",
       "Austria                                 108\n",
       "Japan                                   107\n",
       "Portugal                                101\n",
       "Netherlands                              78\n",
       "Costa Rica                               75\n",
       "Massachusetts                            67\n",
       "Germany (East)                           56\n",
       "Puerto Rico                              49\n",
       "El Salvador                              48\n",
       "                                      ...  \n",
       "Kentucky                                  2\n",
       "Thailand                                  2\n",
       "Iran                                      2\n",
       "Scotland                                  2\n",
       "South Carolina                            2\n",
       "Jan Mayen                                 2\n",
       "Palestinian Territory, Occupied           1\n",
       "Vatican City                              1\n",
       "Malaysia                                  1\n",
       "Albania                                   1\n",
       "Saint-Martin                              1\n",
       "Venezuela (Bolivarian Republic of)        1\n",
       "Korea, Republic of                        1\n",
       "Nebraska                                  1\n",
       "Kiribati                                  1\n",
       "Nevada                                    1\n",
       "Turkey                                    1\n",
       "Haiti                                     1\n",
       "Rhode Island                              1\n",
       "Georgia (Republic)                        1\n",
       "Virginia                                  1\n",
       "Colorado                                  1\n",
       "Texas                                     1\n",
       "Ontario                                   1\n",
       "Oregon                                    1\n",
       "Maine                                     1\n",
       "Uganda                                    1\n",
       "Louisiana                                 1\n",
       "Montserrat                                1\n",
       "Utah                                      1\n",
       "Name: PAIS_EJEMPLAR, dtype: int64"
      ]
     },
     "execution_count": 17,
     "metadata": {},
     "output_type": "execute_result"
    }
   ],
   "source": [
    "autores_df['PAIS_EJEMPLAR'].value_counts()"
   ]
  },
  {
   "cell_type": "code",
   "execution_count": 18,
   "metadata": {
    "collapsed": false
   },
   "outputs": [
    {
     "data": {
      "text/plain": [
       "21055"
      ]
     },
     "execution_count": 18,
     "metadata": {},
     "output_type": "execute_result"
    }
   ],
   "source": [
    "autores_df['AUTOR'].nunique()"
   ]
  },
  {
   "cell_type": "code",
   "execution_count": 19,
   "metadata": {
    "collapsed": false
   },
   "outputs": [
    {
     "data": {
      "text/plain": [
       "William Shakespeare        230\n",
       "Gabriel García Márquez     177\n",
       "Isaac Asimov               164\n",
       "Karl Marx                  160\n",
       "Jorge Luis Borges          144\n",
       "Oscar Wilde                130\n",
       "Agatha Christie            129\n",
       "Johann Sebastian Bach      117\n",
       "Edgar Allan Poe            116\n",
       "Ludwig van Beethoven       110\n",
       "Noam Chomsky               110\n",
       "Jordi Sierra i Fabra       108\n",
       "Georges Simenon            106\n",
       "Charles Dickens            105\n",
       "Stefan Zweig               105\n",
       "Pablo Neruda               103\n",
       "Jules Verne                102\n",
       "Mario Benedetti            101\n",
       "Federico García Lorca       95\n",
       "Arthur Conan Doyle          95\n",
       "Fernando Pessoa             93\n",
       "Honoré de Balzac            93\n",
       "Sigmund Freud               92\n",
       "Bertrand Russell            89\n",
       "Julio Cortázar              88\n",
       "Hans Christian Andersen     88\n",
       "Franz Kafka                 86\n",
       "Mario Vargas Llosa          86\n",
       "José Martí                  85\n",
       "Martin Heidegger            84\n",
       "                          ... \n",
       "Paul Goldstein               1\n",
       "Johnny Ball                  1\n",
       "Xosé Carlos Caneiro          1\n",
       "Tom Lampert                  1\n",
       "William J. Duiker            1\n",
       "Sven Delblanc                1\n",
       "Stefan M. Gergely            1\n",
       "George Connell               1\n",
       "Hugo Mayer                   1\n",
       "Pernilla Stalfelt            1\n",
       "Manuel Barroso               1\n",
       "Toquinho                     1\n",
       "Keith Gessen                 1\n",
       "Ludger Mees                  1\n",
       "Ger Groot                    1\n",
       "Peter Novick                 1\n",
       "Jean Humbert                 1\n",
       "Evelio Ramírez Martínez      1\n",
       "Alberto Asor Rosa            1\n",
       "Thiago Rodrigues             1\n",
       "Vicente Rojo Lluch           1\n",
       "Sergei Kourdakov             1\n",
       "Fernando Acevedo             1\n",
       "Sandy                        1\n",
       "Raymond Cohen                1\n",
       "Francisco de Osuna           1\n",
       "Gérard Debreu                1\n",
       "Barry Mazur                  1\n",
       "Rodrigo Arocena              1\n",
       "Juan de Betanzos             1\n",
       "Name: AUTOR, dtype: int64"
      ]
     },
     "execution_count": 19,
     "metadata": {},
     "output_type": "execute_result"
    }
   ],
   "source": [
    "autores_df['AUTOR'].value_counts()"
   ]
  },
  {
   "cell_type": "code",
   "execution_count": 20,
   "metadata": {
    "collapsed": false
   },
   "outputs": [
    {
     "data": {
      "text/plain": [
       "315"
      ]
     },
     "execution_count": 20,
     "metadata": {},
     "output_type": "execute_result"
    }
   ],
   "source": [
    "autores_df['PAIS_AUTOR'].nunique()"
   ]
  },
  {
   "cell_type": "code",
   "execution_count": 21,
   "metadata": {
    "collapsed": false
   },
   "outputs": [
    {
     "data": {
      "text/plain": [
       "United States of America                       8758\n",
       "United Kingdom                                 8197\n",
       "Spain                                          8094\n",
       "France                                         7272\n",
       "Colombia                                       4412\n",
       "Italy                                          3423\n",
       "Germany                                        3143\n",
       "Argentina                                      3071\n",
       "Mexico                                         2119\n",
       "Chile                                          1102\n",
       "Austria                                         995\n",
       "Belgium                                         889\n",
       "Brazil                                          838\n",
       "Switzerland                                     803\n",
       "Cuba                                            798\n",
       "Canada                                          797\n",
       "United States                                   749\n",
       "Venezuela                                       734\n",
       "Ireland                                         702\n",
       "Uruguay                                         698\n",
       "Poland                                          630\n",
       "Peru                                            630\n",
       "German Empire                                   589\n",
       "Japan                                           476\n",
       "Australia                                       474\n",
       "Netherlands                                     426\n",
       "Czech Republic                                  372\n",
       "India                                           343\n",
       "Algeria                                         342\n",
       "Portugal                                        339\n",
       "                                               ... \n",
       "Saint Vincent and the Grenadines                  1\n",
       "Rwanda                                            1\n",
       "Mongolia                                          1\n",
       "Kiautschou Bay concession                         1\n",
       "Gran Ducado de Baden                              1\n",
       "Sierra Leone                                      1\n",
       "Canadá                                            1\n",
       "Kingdom of Croatia-Slavonia                       1\n",
       "Dominion of New Zealand                           1\n",
       "Malí                                              1\n",
       "People's Republic of Bulgaria                     1\n",
       "Principality of Lippe                             1\n",
       "Azerbaijan Soviet Socialist Republic              1\n",
       "Empire of Brazil                                  1\n",
       "Restoration and Regeneration in Switzerland       1\n",
       "Mauritania                                        1\n",
       "Kingdom of Iraq                                   1\n",
       "Principality of Anhalt                            1\n",
       "Belgian Congo                                     1\n",
       "New Spain                                         1\n",
       "Kwantung Leased Territory                         1\n",
       "Gran Colombia                                     1\n",
       "Luxemburgo                                        1\n",
       "Hungría                                           1\n",
       "Noruega                                           1\n",
       "Falkland Islands                                  1\n",
       "Kuwait                                            1\n",
       "Sultanate of Zanzibar                             1\n",
       "Saudi Arabia                                      1\n",
       "Reino de Prusia                                   1\n",
       "Name: PAIS_AUTOR, dtype: int64"
      ]
     },
     "execution_count": 21,
     "metadata": {},
     "output_type": "execute_result"
    }
   ],
   "source": [
    "autores_df['PAIS_AUTOR'].value_counts()"
   ]
  },
  {
   "cell_type": "code",
   "execution_count": 34,
   "metadata": {
    "collapsed": false
   },
   "outputs": [
    {
     "data": {
      "text/plain": [
       "315"
      ]
     },
     "execution_count": 34,
     "metadata": {},
     "output_type": "execute_result"
    }
   ],
   "source": [
    "len(autores_df['PAIS_AUTOR'].value_counts())"
   ]
  },
  {
   "cell_type": "code",
   "execution_count": 33,
   "metadata": {
    "collapsed": false
   },
   "outputs": [
    {
     "data": {
      "text/plain": [
       "263"
      ]
     },
     "execution_count": 33,
     "metadata": {},
     "output_type": "execute_result"
    }
   ],
   "source": [
    "len(autores_df['PAIS_AUTOR'].value_counts()[lambda x: x > 1])"
   ]
  },
  {
   "cell_type": "code",
   "execution_count": 35,
   "metadata": {
    "collapsed": false
   },
   "outputs": [
    {
     "data": {
      "text/plain": [
       "127"
      ]
     },
     "execution_count": 35,
     "metadata": {},
     "output_type": "execute_result"
    }
   ],
   "source": [
    "len(autores_df['PAIS_EJEMPLAR'].value_counts())"
   ]
  },
  {
   "cell_type": "code",
   "execution_count": 36,
   "metadata": {
    "collapsed": false
   },
   "outputs": [
    {
     "data": {
      "text/plain": [
       "103"
      ]
     },
     "execution_count": 36,
     "metadata": {},
     "output_type": "execute_result"
    }
   ],
   "source": [
    "len(autores_df['PAIS_EJEMPLAR'].value_counts()[lambda x: x > 1])"
   ]
  },
  {
   "cell_type": "markdown",
   "metadata": {},
   "source": [
    "# Mapping countries"
   ]
  },
  {
   "cell_type": "code",
   "execution_count": 26,
   "metadata": {
    "collapsed": true
   },
   "outputs": [],
   "source": [
    "countries = set(autores_df['PAIS_EJEMPLAR']).union(autores_df['PAIS_AUTOR'])"
   ]
  },
  {
   "cell_type": "code",
   "execution_count": 30,
   "metadata": {
    "collapsed": false
   },
   "outputs": [],
   "source": [
    "mappings = defaultdict(set)\n",
    "for a in countries:\n",
    "    for b in countries:\n",
    "        if a != b:\n",
    "            if a in b:\n",
    "                mappings[a].add(b)\n",
    "mappings = dict(mappings)"
   ]
  },
  {
   "cell_type": "code",
   "execution_count": 31,
   "metadata": {
    "collapsed": false
   },
   "outputs": [
    {
     "data": {
      "text/plain": [
       "{'Austria': {'Austria-Hungary', 'Austrian Empire', 'First Austrian Republic'},\n",
       " 'Azerbaijan': {'Azerbaijan Soviet Socialist Republic'},\n",
       " 'Brazil': {'Empire of Brazil'},\n",
       " 'Bulgaria': {'Kingdom of Bulgaria', \"People's Republic of Bulgaria\"},\n",
       " 'China': {'China (Republic : 1949- )',\n",
       "  \"People's Republic of China\",\n",
       "  'Republic of China (1912–49)'},\n",
       " 'Colombia': {'Gran Colombia'},\n",
       " 'Croatia': {'Kingdom of Croatia-Slavonia'},\n",
       " 'Cuba': {'Republic of Cuba (1902–59)'},\n",
       " 'Denmark': {'Kingdom of Denmark'},\n",
       " 'Dominica': {'Dominican Republic'},\n",
       " 'Egipto': {'Jedivato de Egipto'},\n",
       " 'Finland': {'Grand Duchy of Finland'},\n",
       " 'France': {'Primera República Francesa'},\n",
       " 'Georgia': {'Georgia (Republic)'},\n",
       " 'German Confederation': {'North German Confederation'},\n",
       " 'Germany': {'Allied-occupied Germany',\n",
       "  'East Germany',\n",
       "  'Germany (East)',\n",
       "  'Nazi Germany',\n",
       "  'West Germany'},\n",
       " 'Greece': {'Kingdom of Greece'},\n",
       " 'Guinea': {'Equatorial Guinea', 'Papua New Guinea'},\n",
       " 'Hungary': {'Austria-Hungary',\n",
       "  'Kingdom of Hungary',\n",
       "  'Kingdom of Hungary (1920–46)'},\n",
       " 'India': {'Dominion of India', 'Indiana'},\n",
       " 'Iraq': {'Kingdom of Iraq'},\n",
       " 'Ireland': {'Northern Ireland', 'Republic of Ireland'},\n",
       " 'Japan': {'Empire of Japan'},\n",
       " 'Jersey': {'New Jersey'},\n",
       " 'Kingdom of Hungary': {'Kingdom of Hungary (1920–46)'},\n",
       " 'Macedonia': {'Republic of Macedonia'},\n",
       " 'Malta': {'Crown Colony of Malta'},\n",
       " 'Massachusetts': {'Province of Massachusetts Bay'},\n",
       " 'Montenegro': {'Serbia and Montenegro'},\n",
       " 'Morocco': {'French protectorate in Morocco',\n",
       "  'Spanish protectorate in Morocco'},\n",
       " 'Netherlands': {'Caribbean Netherlands', 'Habsburg Netherlands'},\n",
       " 'New Zealand': {'Dominion of New Zealand'},\n",
       " 'Pakistan': {'Dominion of Pakistan', 'East Pakistan'},\n",
       " 'Poland': {'Congress Poland', 'Kingdom of Poland (1916–18)'},\n",
       " 'Polonia': {'Reino de Polonia (1385-1569)'},\n",
       " 'Portugal': {'Kingdom of Portugal'},\n",
       " 'Prussia': {'Kingdom of Prussia'},\n",
       " 'Reino Unido': {'Reino Unido de Gran Bretaña e Irlanda'},\n",
       " 'Republic of the Congo': {'Democratic Republic of the Congo'},\n",
       " 'Romania': {'Kingdom of Romania'},\n",
       " 'Russia': {'Russia (Federation)',\n",
       "  'Russian Empire',\n",
       "  'Russian Soviet Federative Socialist Republic'},\n",
       " 'Serbia': {'Serbia and Montenegro'},\n",
       " 'Spain': {'Francoist Spain', 'New Spain'},\n",
       " 'Switzerland': {'Restoration and Regeneration in Switzerland'},\n",
       " 'Tunisia': {'French protectorate of Tunisia'},\n",
       " 'United States': {'United States of America',\n",
       "  'United States of the Ionian Islands'},\n",
       " 'Venezuela': {'Venezuela (Bolivarian Republic of)', 'Venezuela Province'},\n",
       " 'Vietnam': {'Vietnam, North'},\n",
       " 'Virginia': {'Colony of Virginia'},\n",
       " 'Württemberg': {'Duchy of Württemberg',\n",
       "  'Electorate of Württemberg',\n",
       "  'Kingdom of Württemberg'}}"
      ]
     },
     "execution_count": 31,
     "metadata": {},
     "output_type": "execute_result"
    }
   ],
   "source": [
    "mappings"
   ]
  },
  {
   "cell_type": "code",
   "execution_count": 41,
   "metadata": {
    "collapsed": false
   },
   "outputs": [],
   "source": [
    "mappings_inv = {}\n",
    "for c1 in mappings:\n",
    "    for c2 in mappings[c1]:\n",
    "        mappings_inv[c2] = c1"
   ]
  },
  {
   "cell_type": "code",
   "execution_count": 42,
   "metadata": {
    "collapsed": false
   },
   "outputs": [
    {
     "data": {
      "text/plain": [
       "{'Allied-occupied Germany': 'Germany',\n",
       " 'Austria-Hungary': 'Hungary',\n",
       " 'Austrian Empire': 'Austria',\n",
       " 'Azerbaijan Soviet Socialist Republic': 'Azerbaijan',\n",
       " 'Caribbean Netherlands': 'Netherlands',\n",
       " 'China (Republic : 1949- )': 'China',\n",
       " 'Colony of Virginia': 'Virginia',\n",
       " 'Congress Poland': 'Poland',\n",
       " 'Crown Colony of Malta': 'Malta',\n",
       " 'Democratic Republic of the Congo': 'Republic of the Congo',\n",
       " 'Dominican Republic': 'Dominica',\n",
       " 'Dominion of India': 'India',\n",
       " 'Dominion of New Zealand': 'New Zealand',\n",
       " 'Dominion of Pakistan': 'Pakistan',\n",
       " 'Duchy of Württemberg': 'Württemberg',\n",
       " 'East Germany': 'Germany',\n",
       " 'East Pakistan': 'Pakistan',\n",
       " 'Electorate of Württemberg': 'Württemberg',\n",
       " 'Empire of Brazil': 'Brazil',\n",
       " 'Empire of Japan': 'Japan',\n",
       " 'Equatorial Guinea': 'Guinea',\n",
       " 'First Austrian Republic': 'Austria',\n",
       " 'Francoist Spain': 'Spain',\n",
       " 'French protectorate in Morocco': 'Morocco',\n",
       " 'French protectorate of Tunisia': 'Tunisia',\n",
       " 'Georgia (Republic)': 'Georgia',\n",
       " 'Germany (East)': 'Germany',\n",
       " 'Gran Colombia': 'Colombia',\n",
       " 'Grand Duchy of Finland': 'Finland',\n",
       " 'Habsburg Netherlands': 'Netherlands',\n",
       " 'Indiana': 'India',\n",
       " 'Jedivato de Egipto': 'Egipto',\n",
       " 'Kingdom of Bulgaria': 'Bulgaria',\n",
       " 'Kingdom of Croatia-Slavonia': 'Croatia',\n",
       " 'Kingdom of Denmark': 'Denmark',\n",
       " 'Kingdom of Greece': 'Greece',\n",
       " 'Kingdom of Hungary': 'Hungary',\n",
       " 'Kingdom of Hungary (1920–46)': 'Hungary',\n",
       " 'Kingdom of Iraq': 'Iraq',\n",
       " 'Kingdom of Poland (1916–18)': 'Poland',\n",
       " 'Kingdom of Portugal': 'Portugal',\n",
       " 'Kingdom of Prussia': 'Prussia',\n",
       " 'Kingdom of Romania': 'Romania',\n",
       " 'Kingdom of Württemberg': 'Württemberg',\n",
       " 'Nazi Germany': 'Germany',\n",
       " 'New Jersey': 'Jersey',\n",
       " 'New Spain': 'Spain',\n",
       " 'North German Confederation': 'German Confederation',\n",
       " 'Northern Ireland': 'Ireland',\n",
       " 'Papua New Guinea': 'Guinea',\n",
       " \"People's Republic of Bulgaria\": 'Bulgaria',\n",
       " \"People's Republic of China\": 'China',\n",
       " 'Primera República Francesa': 'France',\n",
       " 'Province of Massachusetts Bay': 'Massachusetts',\n",
       " 'Reino Unido de Gran Bretaña e Irlanda': 'Reino Unido',\n",
       " 'Reino de Polonia (1385-1569)': 'Polonia',\n",
       " 'Republic of China (1912–49)': 'China',\n",
       " 'Republic of Cuba (1902–59)': 'Cuba',\n",
       " 'Republic of Ireland': 'Ireland',\n",
       " 'Republic of Macedonia': 'Macedonia',\n",
       " 'Restoration and Regeneration in Switzerland': 'Switzerland',\n",
       " 'Russia (Federation)': 'Russia',\n",
       " 'Russian Empire': 'Russia',\n",
       " 'Russian Soviet Federative Socialist Republic': 'Russia',\n",
       " 'Serbia and Montenegro': 'Serbia',\n",
       " 'Spanish protectorate in Morocco': 'Morocco',\n",
       " 'United States of America': 'United States',\n",
       " 'United States of the Ionian Islands': 'United States',\n",
       " 'Venezuela (Bolivarian Republic of)': 'Venezuela',\n",
       " 'Venezuela Province': 'Venezuela',\n",
       " 'Vietnam, North': 'Vietnam',\n",
       " 'West Germany': 'Germany'}"
      ]
     },
     "execution_count": 42,
     "metadata": {},
     "output_type": "execute_result"
    }
   ],
   "source": [
    "mappings_inv"
   ]
  },
  {
   "cell_type": "code",
   "execution_count": null,
   "metadata": {
    "collapsed": true
   },
   "outputs": [],
   "source": [
    "# Remove wrong mappings\n",
    "del(mappings_inv['United States of the Ionian Islands'])\n",
    "# ..."
   ]
  },
  {
   "cell_type": "markdown",
   "metadata": {},
   "source": [
    "# Obras por autor"
   ]
  },
  {
   "cell_type": "code",
   "execution_count": null,
   "metadata": {
    "collapsed": true
   },
   "outputs": [],
   "source": [
    "autores_df"
   ]
  },
  {
   "cell_type": "code",
   "execution_count": 15,
   "metadata": {
    "collapsed": false
   },
   "outputs": [
    {
     "data": {
      "text/plain": [
       "21055"
      ]
     },
     "execution_count": 15,
     "metadata": {},
     "output_type": "execute_result"
    }
   ],
   "source": [
    "autores_df.groupby('AUTOR')['TITULO'].count().size"
   ]
  },
  {
   "cell_type": "code",
   "execution_count": 66,
   "metadata": {
    "collapsed": true
   },
   "outputs": [],
   "source": [
    "obras_por_autor_df = autores_df.set_index('AUTOR')"
   ]
  },
  {
   "cell_type": "code",
   "execution_count": 67,
   "metadata": {
    "collapsed": false
   },
   "outputs": [
    {
     "data": {
      "text/plain": [
       "(70687, 3)"
      ]
     },
     "execution_count": 67,
     "metadata": {},
     "output_type": "execute_result"
    }
   ],
   "source": [
    "obras_por_autor_df.shape"
   ]
  },
  {
   "cell_type": "code",
   "execution_count": 68,
   "metadata": {
    "collapsed": false
   },
   "outputs": [
    {
     "data": {
      "text/html": [
       "<div>\n",
       "<table border=\"1\" class=\"dataframe\">\n",
       "  <thead>\n",
       "    <tr style=\"text-align: right;\">\n",
       "      <th></th>\n",
       "      <th>TITULO</th>\n",
       "      <th>PAIS_EJEMPLAR</th>\n",
       "      <th>PAIS_AUTOR</th>\n",
       "    </tr>\n",
       "    <tr>\n",
       "      <th>AUTOR</th>\n",
       "      <th></th>\n",
       "      <th></th>\n",
       "      <th></th>\n",
       "    </tr>\n",
       "  </thead>\n",
       "  <tbody>\n",
       "    <tr>\n",
       "      <th>Martina Badstuber</th>\n",
       "      <td>Adivina en qué pais ...</td>\n",
       "      <td>Spain</td>\n",
       "      <td>Germany</td>\n",
       "    </tr>\n",
       "    <tr>\n",
       "      <th>Antón Fortes Torres</th>\n",
       "      <td>Humo</td>\n",
       "      <td>Spain</td>\n",
       "      <td>Spain</td>\n",
       "    </tr>\n",
       "    <tr>\n",
       "      <th>Helen Cooper</th>\n",
       "      <td>Galleta para perros</td>\n",
       "      <td>Spain</td>\n",
       "      <td>United Kingdom</td>\n",
       "    </tr>\n",
       "    <tr>\n",
       "      <th>Cyril Pedrosa</th>\n",
       "      <td>Autobio</td>\n",
       "      <td>Spain</td>\n",
       "      <td>France</td>\n",
       "    </tr>\n",
       "    <tr>\n",
       "      <th>Fina Casalderrey</th>\n",
       "      <td>Félix, : el coleccionista de miedos</td>\n",
       "      <td>Spain</td>\n",
       "      <td>Spain</td>\n",
       "    </tr>\n",
       "  </tbody>\n",
       "</table>\n",
       "</div>"
      ],
      "text/plain": [
       "                                                  TITULO PAIS_EJEMPLAR  \\\n",
       "AUTOR                                                                    \n",
       "Martina Badstuber                Adivina en qué pais ...         Spain   \n",
       "Antón Fortes Torres                                 Humo         Spain   \n",
       "Helen Cooper                         Galleta para perros         Spain   \n",
       "Cyril Pedrosa                                    Autobio         Spain   \n",
       "Fina Casalderrey     Félix, : el coleccionista de miedos         Spain   \n",
       "\n",
       "                         PAIS_AUTOR  \n",
       "AUTOR                                \n",
       "Martina Badstuber           Germany  \n",
       "Antón Fortes Torres           Spain  \n",
       "Helen Cooper         United Kingdom  \n",
       "Cyril Pedrosa                France  \n",
       "Fina Casalderrey              Spain  "
      ]
     },
     "execution_count": 68,
     "metadata": {},
     "output_type": "execute_result"
    }
   ],
   "source": [
    "obras_por_autor_df.head()"
   ]
  },
  {
   "cell_type": "code",
   "execution_count": 69,
   "metadata": {
    "collapsed": false
   },
   "outputs": [
    {
     "data": {
      "text/html": [
       "<div>\n",
       "<table border=\"1\" class=\"dataframe\">\n",
       "  <thead>\n",
       "    <tr style=\"text-align: right;\">\n",
       "      <th></th>\n",
       "      <th>TITULO</th>\n",
       "      <th>PAIS_EJEMPLAR</th>\n",
       "      <th>PAIS_AUTOR</th>\n",
       "    </tr>\n",
       "    <tr>\n",
       "      <th>AUTOR</th>\n",
       "      <th></th>\n",
       "      <th></th>\n",
       "      <th></th>\n",
       "    </tr>\n",
       "  </thead>\n",
       "  <tbody>\n",
       "    <tr>\n",
       "      <th>Aaron Copland</th>\n",
       "      <td>Cómo escuchar la música</td>\n",
       "      <td>Colombia</td>\n",
       "      <td>United States of America</td>\n",
       "    </tr>\n",
       "    <tr>\n",
       "      <th>Aaron Copland</th>\n",
       "      <td>A Copland celebration chamber music and rariti...</td>\n",
       "      <td>United States</td>\n",
       "      <td>United States of America</td>\n",
       "    </tr>\n",
       "    <tr>\n",
       "      <th>Aaron Copland</th>\n",
       "      <td>A Copland celebration famous orchestral and ch...</td>\n",
       "      <td>United States</td>\n",
       "      <td>United States of America</td>\n",
       "    </tr>\n",
       "    <tr>\n",
       "      <th>Aaron Copland</th>\n",
       "      <td>A Copland celebration vocal and choral works v...</td>\n",
       "      <td>United States</td>\n",
       "      <td>United States of America</td>\n",
       "    </tr>\n",
       "    <tr>\n",
       "      <th>Aaron Copland</th>\n",
       "      <td>Appalachian spring (suite)</td>\n",
       "      <td>United Kingdom</td>\n",
       "      <td>United States of America</td>\n",
       "    </tr>\n",
       "    <tr>\n",
       "      <th>Aaron Copland</th>\n",
       "      <td>Symphony no.3 (1944-46)</td>\n",
       "      <td>United States</td>\n",
       "      <td>United States of America</td>\n",
       "    </tr>\n",
       "    <tr>\n",
       "      <th>Aaron Copland</th>\n",
       "      <td>Clarinet Concerto</td>\n",
       "      <td>United States</td>\n",
       "      <td>United States of America</td>\n",
       "    </tr>\n",
       "    <tr>\n",
       "      <th>Aaron Copland</th>\n",
       "      <td>Rodeo</td>\n",
       "      <td>United States</td>\n",
       "      <td>United States of America</td>\n",
       "    </tr>\n",
       "    <tr>\n",
       "      <th>Aaron Copland</th>\n",
       "      <td>John Henry a railroad ballad for Orchestra</td>\n",
       "      <td>United States</td>\n",
       "      <td>United States of America</td>\n",
       "    </tr>\n",
       "    <tr>\n",
       "      <th>Aaron Copland</th>\n",
       "      <td>The tender land</td>\n",
       "      <td>United Kingdom</td>\n",
       "      <td>United States of America</td>\n",
       "    </tr>\n",
       "  </tbody>\n",
       "</table>\n",
       "</div>"
      ],
      "text/plain": [
       "                                                          TITULO  \\\n",
       "AUTOR                                                              \n",
       "Aaron Copland                            Cómo escuchar la música   \n",
       "Aaron Copland  A Copland celebration chamber music and rariti...   \n",
       "Aaron Copland  A Copland celebration famous orchestral and ch...   \n",
       "Aaron Copland  A Copland celebration vocal and choral works v...   \n",
       "Aaron Copland                         Appalachian spring (suite)   \n",
       "Aaron Copland                            Symphony no.3 (1944-46)   \n",
       "Aaron Copland                                  Clarinet Concerto   \n",
       "Aaron Copland                                              Rodeo   \n",
       "Aaron Copland         John Henry a railroad ballad for Orchestra   \n",
       "Aaron Copland                                    The tender land   \n",
       "\n",
       "                PAIS_EJEMPLAR                PAIS_AUTOR  \n",
       "AUTOR                                                    \n",
       "Aaron Copland        Colombia  United States of America  \n",
       "Aaron Copland   United States  United States of America  \n",
       "Aaron Copland   United States  United States of America  \n",
       "Aaron Copland   United States  United States of America  \n",
       "Aaron Copland  United Kingdom  United States of America  \n",
       "Aaron Copland   United States  United States of America  \n",
       "Aaron Copland   United States  United States of America  \n",
       "Aaron Copland   United States  United States of America  \n",
       "Aaron Copland   United States  United States of America  \n",
       "Aaron Copland  United Kingdom  United States of America  "
      ]
     },
     "execution_count": 69,
     "metadata": {},
     "output_type": "execute_result"
    }
   ],
   "source": [
    "obras_por_autor_df.ix['Aaron Copland']"
   ]
  },
  {
   "cell_type": "code",
   "execution_count": 70,
   "metadata": {
    "collapsed": false
   },
   "outputs": [
    {
     "data": {
      "text/plain": [
       "TITULO                El lobo y la corona\n",
       "PAIS_EJEMPLAR                       Spain\n",
       "PAIS_AUTOR       United States of America\n",
       "Name: A. A. Attanasio, dtype: object"
      ]
     },
     "execution_count": 70,
     "metadata": {},
     "output_type": "execute_result"
    }
   ],
   "source": [
    "obras_por_autor_df.ix['A. A. Attanasio']"
   ]
  },
  {
   "cell_type": "code",
   "execution_count": null,
   "metadata": {
    "collapsed": true
   },
   "outputs": [],
   "source": []
  },
  {
   "cell_type": "code",
   "execution_count": 2,
   "metadata": {
    "collapsed": true
   },
   "outputs": [],
   "source": [
    "def get_pais_autor_data_wkd(name, lang):\n",
    "    template = \"\"\"\n",
    "        PREFIX wd: <http://www.wikidata.org/entity/>\n",
    "        PREFIX wdt: <http://www.wikidata.org/prop/direct/>\n",
    "        PREFIX rdfs: <http://www.w3.org/2000/01/rdf-schema#>\n",
    "\n",
    "        SELECT ?authorLabel ?countryLabel\n",
    "        WHERE {{\n",
    "            BIND(\"{0}\"@{1} AS ?authorLabel) .\n",
    "            ?author rdfs:label ?authorLabel .\n",
    "            ?author wdt:P31 wd:Q5 .\n",
    "            OPTIONAL {{ ?author wdt:P106 wd:Q36180 . }}\n",
    "            ?author wdt:P19 ?pob .\n",
    "            ?pob wdt:P17 ?country .\n",
    "            ?country rdfs:label ?countryLabel .\n",
    "            FILTER(lang(?countryLabel)=\"{1}\")\n",
    "        }}\n",
    "    \"\"\"\n",
    "    query = template.format(name, lang)\n",
    "    url = 'https://query.wikidata.org/bigdata/namespace/wdq/sparql'\n",
    "    data = requests.get(url, params={'query': query, 'format': 'json'}).json()\n",
    "    return data\n",
    "\n",
    "sparql_dbp = SPARQLWrapper(\"http://dbpedia.org/sparql\")\n",
    "\n",
    "def get_pais_autor_data_dbp(name, lang):\n",
    "    template = \"\"\"\n",
    "        PREFIX dbo: <http://dbpedia.org/ontology/>\n",
    "        PREFIX dbp: <http://dbpedia.org/property/>\n",
    "        PREFIX rdf: <http://www.w3.org/1999/02/22-rdf-syntax-ns#>\n",
    "        PREFIX rdfs: <http://www.w3.org/2000/01/rdf-schema#>\n",
    "\n",
    "        SELECT ?authorLabel ?countryLabel\n",
    "        WHERE {{\n",
    "            BIND(\"{0}\"@{1} AS ?authorLabel) .\n",
    "            ?author rdfs:label ?authorLabel .\n",
    "            ?author rdf:type dbo:Person .\n",
    "            OPTIONAL {{ ?author rdf:type dbo:Writer . }}\n",
    "            ?author dbp:birthPlace ?pob .\n",
    "            ?pob rdf:type dbo:Country .\n",
    "            ?pob rdfs:label ?countryLabel .\n",
    "            FILTER(lang(?countryLabel)=\"{1}\")\n",
    "        }}\n",
    "    \"\"\"\n",
    "    query = template.format(name, lang)\n",
    "    sparql_dbp.setQuery(query)\n",
    "    sparql_dbp.setReturnFormat(JSON)\n",
    "    data = sparql_dbp.query().convert()\n",
    "    return data\n",
    "\n",
    "def get_pais_autor_data(db, name, lang):\n",
    "    try:\n",
    "        if db == 'wdt':\n",
    "            data = get_pais_autor_data_wkd(name, lang)\n",
    "        elif db == 'dbp':\n",
    "            data = get_pais_autor_data_dbp(name, lang)\n",
    "\n",
    "        results = set(d['countryLabel']['value'] for d in data['results']['bindings'])\n",
    "        if len(results) == 0:\n",
    "            result = 'UNKOWN'\n",
    "        elif len(results) == 1:\n",
    "            result = results.pop()\n",
    "        else:\n",
    "            print('MáS DE UN PAíS PARA', name, ':', results)\n",
    "            result = results.pop()\n",
    "    except:\n",
    "        print('ERROR EN SPARQL PARA', name)\n",
    "        result = 'UNKOWN'\n",
    "    return result\n",
    "\n",
    "def choose(opt_list):\n",
    "    return Counter(opt_list).most_common(1)[0][0]\n",
    "\n",
    "# def get_pais_autor(name):\n",
    "#     r = 'DESCONOCIDO'\n",
    "#     opt_dict = {}\n",
    "#     for lang in ['en', 'es']:\n",
    "#         opt_dict[lang] = {}\n",
    "#         for db in ['dbp', 'wdt']:\n",
    "#             opt_dict[lang][db] = get_pais_autor_data(db, name, lang)\n",
    "#         opts = opt_dict[lang].values()\n",
    "#         if all(map(lambda x: x != 'UNKOWN', opts)):\n",
    "#             r = choose(opts)\n",
    "#             break\n",
    "#     if r == 'DESCONOCIDO':\n",
    "#         for lang in ['en', 'es']:\n",
    "#             opts = opt_dict[lang].values()\n",
    "#             if any(map(lambda x: x != 'UNKOWN', opts)):\n",
    "#                 opts = [opt for opt in opts if opt != 'UNKOWN']\n",
    "#                 r = choose(opts)\n",
    "#                 break\n",
    "#     return opt_dict, r\n",
    "\n",
    "def get_pais_autor(name):\n",
    "    for lang in ['en', 'es']:\n",
    "        for db in ['dbp', 'wdt']:\n",
    "            r = get_pais_autor_data(db, name, lang)\n",
    "            if r != 'UNKOWN':\n",
    "                return r\n",
    "    return 'DESCONOCIDO'"
   ]
  },
  {
   "cell_type": "code",
   "execution_count": 3,
   "metadata": {
    "collapsed": false
   },
   "outputs": [
    {
     "data": {
      "text/plain": [
       "'DESCONOCIDO'"
      ]
     },
     "execution_count": 3,
     "metadata": {},
     "output_type": "execute_result"
    }
   ],
   "source": [
    "get_pais_autor('Mario Gómez Torrente')"
   ]
  },
  {
   "cell_type": "code",
   "execution_count": 83,
   "metadata": {
    "collapsed": false
   },
   "outputs": [
    {
     "data": {
      "text/plain": [
       "'Grecia'"
      ]
     },
     "execution_count": 83,
     "metadata": {},
     "output_type": "execute_result"
    }
   ],
   "source": [
    "get_pais_autor('Aristóteles')"
   ]
  },
  {
   "cell_type": "code",
   "execution_count": 84,
   "metadata": {
    "collapsed": false
   },
   "outputs": [
    {
     "data": {
      "text/plain": [
       "'Spain'"
      ]
     },
     "execution_count": 84,
     "metadata": {},
     "output_type": "execute_result"
    }
   ],
   "source": [
    "get_pais_autor('Miguel de Cervantes')"
   ]
  },
  {
   "cell_type": "code",
   "execution_count": 85,
   "metadata": {
    "collapsed": false
   },
   "outputs": [
    {
     "data": {
      "text/plain": [
       "'Grecia'"
      ]
     },
     "execution_count": 85,
     "metadata": {},
     "output_type": "execute_result"
    }
   ],
   "source": [
    "get_pais_autor('Aristóteles')"
   ]
  },
  {
   "cell_type": "code",
   "execution_count": 54,
   "metadata": {
    "collapsed": false
   },
   "outputs": [
    {
     "data": {
      "text/plain": [
       "122892"
      ]
     },
     "execution_count": 54,
     "metadata": {},
     "output_type": "execute_result"
    }
   ],
   "source": [
    "autores_df[autores_df['PAIS_AUTOR'] == 'DESCONOCIDO']['AUTOR'].nunique()"
   ]
  },
  {
   "cell_type": "code",
   "execution_count": 55,
   "metadata": {
    "collapsed": false
   },
   "outputs": [
    {
     "data": {
      "text/plain": [
       "148860"
      ]
     },
     "execution_count": 55,
     "metadata": {},
     "output_type": "execute_result"
    }
   ],
   "source": [
    "prestamos_df['AUTOR'].nunique()"
   ]
  },
  {
   "cell_type": "code",
   "execution_count": 57,
   "metadata": {
    "collapsed": false
   },
   "outputs": [
    {
     "data": {
      "text/plain": [
       "25968"
      ]
     },
     "execution_count": 57,
     "metadata": {},
     "output_type": "execute_result"
    }
   ],
   "source": [
    "148860 - 122892"
   ]
  },
  {
   "cell_type": "code",
   "execution_count": null,
   "metadata": {
    "collapsed": true
   },
   "outputs": [],
   "source": []
  }
 ],
 "metadata": {
  "kernelspec": {
   "display_name": "Python 3",
   "language": "python",
   "name": "python3"
  },
  "language_info": {
   "codemirror_mode": {
    "name": "ipython",
    "version": 3
   },
   "file_extension": ".py",
   "mimetype": "text/x-python",
   "name": "python",
   "nbconvert_exporter": "python",
   "pygments_lexer": "ipython3",
   "version": "3.4.3"
  }
 },
 "nbformat": 4,
 "nbformat_minor": 1
}
