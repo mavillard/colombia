{
 "cells": [
  {
   "cell_type": "code",
   "execution_count": 1,
   "metadata": {
    "collapsed": false
   },
   "outputs": [],
   "source": [
    "# Contar los pares PAIS_AUTOR, PAIS_EJEMPLAR y ver cuales son las \"rutas\" (pares, siempre q ambos paises sean diferentes) mas frecuentes"
   ]
  },
  {
   "cell_type": "code",
   "execution_count": 2,
   "metadata": {
    "collapsed": true
   },
   "outputs": [],
   "source": [
    "import csv\n",
    "import os\n",
    "import re\n",
    "from collections import defaultdict\n",
    "from collections import Counter\n",
    "from datetime import datetime\n",
    "from datetime import timedelta\n",
    "from string import punctuation\n",
    "\n",
    "import matplotlib\n",
    "import numpy as np\n",
    "import networkx as nx\n",
    "import pandas as pd\n",
    "import requests\n",
    "import seaborn as sns\n",
    "from matplotlib import pyplot as plt\n",
    "from SPARQLWrapper import SPARQLWrapper, JSON"
   ]
  },
  {
   "cell_type": "markdown",
   "metadata": {},
   "source": [
    "# Préstamos"
   ]
  },
  {
   "cell_type": "code",
   "execution_count": 3,
   "metadata": {
    "collapsed": false
   },
   "outputs": [
    {
     "name": "stdout",
     "output_type": "stream",
     "text": [
      "CPU times: user 19.1 s, sys: 1.26 s, total: 20.3 s\n",
      "Wall time: 20.3 s\n"
     ]
    }
   ],
   "source": [
    "%%time\n",
    "\n",
    "dtypes = {\n",
    "    'TITULO': str,\n",
    "    'AUTOR': str,\n",
    "    'SUCURSAL': str,\n",
    "    'COD_BARRAS_LIBRO': str,\n",
    "    'DEWEY': str,\n",
    "    'DESC_LOCALIZACION_EJEMPLAR': str,\n",
    "    'FECHA_PUB': str,\n",
    "    'PAIS_EJEMPLAR': str,\n",
    "    'OCUPACION': str,\n",
    "    'NIVEL_EDUCACION': str,\n",
    "    'AREA_ESTUDIO': str,\n",
    "    'SUCURSAL_PRESTAMO': str,\n",
    "    'SUCURSAL_DEVOLUCION': str,\n",
    "    'SUCURSAL_DEL_LECTOR': str,\n",
    "    'COD_BARRAS_LECTOR': str,\n",
    "    'CATEGORÍA': str,\n",
    "    'FECHA_PRESTAMO': str,\n",
    "    'FECHA_REAL_DEVOLUCION': str,\n",
    "    'DATE_PRESTAMO': pd.tslib.Timestamp,\n",
    "    'DATE_DEVOLUCION': pd.tslib.Timestamp,\n",
    "}\n",
    "\n",
    "prestamos_df = pd.read_csv('prestamos_totales.csv', header=0, dtype=dtypes, parse_dates=['DATE_PRESTAMO', 'DATE_DEVOLUCION'])\n",
    "prestamos_df = prestamos_df.fillna('')"
   ]
  },
  {
   "cell_type": "markdown",
   "metadata": {},
   "source": [
    "# Autores"
   ]
  },
  {
   "cell_type": "code",
   "execution_count": 4,
   "metadata": {
    "collapsed": false
   },
   "outputs": [
    {
     "name": "stdout",
     "output_type": "stream",
     "text": [
      "CPU times: user 4.76 s, sys: 124 ms, total: 4.88 s\n",
      "Wall time: 4.88 s\n"
     ]
    }
   ],
   "source": [
    "%%time\n",
    "\n",
    "dtypes = {\n",
    "    'TITULO': str,\n",
    "    'AUTOR': str,\n",
    "    'PAIS_EJEMPLAR': str,\n",
    "    'PAIS_AUTOR': str,\n",
    "}\n",
    "\n",
    "autores_df = pd.read_csv('autores3.csv', header=0, dtype=dtypes)\n",
    "autores_df = autores_df.fillna('')"
   ]
  },
  {
   "cell_type": "code",
   "execution_count": 5,
   "metadata": {
    "collapsed": false
   },
   "outputs": [
    {
     "data": {
      "text/plain": [
       "(3054360, 4)"
      ]
     },
     "execution_count": 5,
     "metadata": {},
     "output_type": "execute_result"
    }
   ],
   "source": [
    "autores_df.shape"
   ]
  },
  {
   "cell_type": "code",
   "execution_count": 6,
   "metadata": {
    "collapsed": false
   },
   "outputs": [
    {
     "data": {
      "text/html": [
       "<div>\n",
       "<table border=\"1\" class=\"dataframe\">\n",
       "  <thead>\n",
       "    <tr style=\"text-align: right;\">\n",
       "      <th></th>\n",
       "      <th>TITULO</th>\n",
       "      <th>PAIS_EJEMPLAR</th>\n",
       "      <th>AUTOR</th>\n",
       "      <th>PAIS_AUTOR</th>\n",
       "    </tr>\n",
       "  </thead>\n",
       "  <tbody>\n",
       "    <tr>\n",
       "      <th>0</th>\n",
       "      <td>Un bicho extraño</td>\n",
       "      <td>Spain</td>\n",
       "      <td>Mon Daporta</td>\n",
       "      <td>DESCONOCIDO</td>\n",
       "    </tr>\n",
       "    <tr>\n",
       "      <th>1</th>\n",
       "      <td>Un bicho extraño</td>\n",
       "      <td>Spain</td>\n",
       "      <td>Mon Daporta</td>\n",
       "      <td>DESCONOCIDO</td>\n",
       "    </tr>\n",
       "    <tr>\n",
       "      <th>2</th>\n",
       "      <td>Quisiera tener ...</td>\n",
       "      <td>Mexico</td>\n",
       "      <td>Giovanna Zoboli</td>\n",
       "      <td>DESCONOCIDO</td>\n",
       "    </tr>\n",
       "    <tr>\n",
       "      <th>3</th>\n",
       "      <td>Johannes Gutenberg</td>\n",
       "      <td>Spain</td>\n",
       "      <td>Lluís Borràs Perelló</td>\n",
       "      <td>DESCONOCIDO</td>\n",
       "    </tr>\n",
       "    <tr>\n",
       "      <th>4</th>\n",
       "      <td>La fantástica leyenda de: la princesa y el dragón</td>\n",
       "      <td>Spain</td>\n",
       "      <td>Sonia Alins</td>\n",
       "      <td>DESCONOCIDO</td>\n",
       "    </tr>\n",
       "  </tbody>\n",
       "</table>\n",
       "</div>"
      ],
      "text/plain": [
       "                                              TITULO PAIS_EJEMPLAR  \\\n",
       "0                                   Un bicho extraño         Spain   \n",
       "1                                   Un bicho extraño         Spain   \n",
       "2                                 Quisiera tener ...        Mexico   \n",
       "3                                 Johannes Gutenberg         Spain   \n",
       "4  La fantástica leyenda de: la princesa y el dragón         Spain   \n",
       "\n",
       "                  AUTOR   PAIS_AUTOR  \n",
       "0           Mon Daporta  DESCONOCIDO  \n",
       "1           Mon Daporta  DESCONOCIDO  \n",
       "2       Giovanna Zoboli  DESCONOCIDO  \n",
       "3  Lluís Borràs Perelló  DESCONOCIDO  \n",
       "4           Sonia Alins  DESCONOCIDO  "
      ]
     },
     "execution_count": 6,
     "metadata": {},
     "output_type": "execute_result"
    }
   ],
   "source": [
    "autores_df.head()"
   ]
  },
  {
   "cell_type": "markdown",
   "metadata": {},
   "source": [
    "## Limpiando datos"
   ]
  },
  {
   "cell_type": "code",
   "execution_count": 7,
   "metadata": {
    "collapsed": false
   },
   "outputs": [],
   "source": [
    "autores_df = autores_df[\n",
    "    (autores_df['AUTOR'] != 'DESCONOCIDO') &\n",
    "    (autores_df['TITULO'] != 'DESCONOCIDO') &\n",
    "    (autores_df['PAIS_AUTOR'] != 'DESCONOCIDO') &\n",
    "    (autores_df['PAIS_EJEMPLAR'] != 'DESCONOCIDO')\n",
    "]"
   ]
  },
  {
   "cell_type": "code",
   "execution_count": 8,
   "metadata": {
    "collapsed": false
   },
   "outputs": [
    {
     "data": {
      "text/plain": [
       "(1064910, 4)"
      ]
     },
     "execution_count": 8,
     "metadata": {},
     "output_type": "execute_result"
    }
   ],
   "source": [
    "autores_df.shape"
   ]
  },
  {
   "cell_type": "code",
   "execution_count": 9,
   "metadata": {
    "collapsed": false
   },
   "outputs": [
    {
     "data": {
      "text/html": [
       "<div>\n",
       "<table border=\"1\" class=\"dataframe\">\n",
       "  <thead>\n",
       "    <tr style=\"text-align: right;\">\n",
       "      <th></th>\n",
       "      <th>TITULO</th>\n",
       "      <th>PAIS_EJEMPLAR</th>\n",
       "      <th>AUTOR</th>\n",
       "      <th>PAIS_AUTOR</th>\n",
       "    </tr>\n",
       "  </thead>\n",
       "  <tbody>\n",
       "    <tr>\n",
       "      <th>10</th>\n",
       "      <td>Adivina en qué pais ...</td>\n",
       "      <td>Spain</td>\n",
       "      <td>Martina Badstuber</td>\n",
       "      <td>Germany</td>\n",
       "    </tr>\n",
       "    <tr>\n",
       "      <th>11</th>\n",
       "      <td>Adivina en qué pais ...</td>\n",
       "      <td>Spain</td>\n",
       "      <td>Martina Badstuber</td>\n",
       "      <td>Germany</td>\n",
       "    </tr>\n",
       "    <tr>\n",
       "      <th>12</th>\n",
       "      <td>Adivina en qué pais ...</td>\n",
       "      <td>Spain</td>\n",
       "      <td>Martina Badstuber</td>\n",
       "      <td>Germany</td>\n",
       "    </tr>\n",
       "    <tr>\n",
       "      <th>14</th>\n",
       "      <td>¡No quiero hacer pipí en el orinal!</td>\n",
       "      <td>Spain</td>\n",
       "      <td>Roser Rius</td>\n",
       "      <td>Mexico</td>\n",
       "    </tr>\n",
       "    <tr>\n",
       "      <th>15</th>\n",
       "      <td>¡No quiero hacer pipí en el orinal!</td>\n",
       "      <td>Spain</td>\n",
       "      <td>Roser Rius</td>\n",
       "      <td>Mexico</td>\n",
       "    </tr>\n",
       "  </tbody>\n",
       "</table>\n",
       "</div>"
      ],
      "text/plain": [
       "                                 TITULO PAIS_EJEMPLAR              AUTOR  \\\n",
       "10              Adivina en qué pais ...         Spain  Martina Badstuber   \n",
       "11              Adivina en qué pais ...         Spain  Martina Badstuber   \n",
       "12              Adivina en qué pais ...         Spain  Martina Badstuber   \n",
       "14  ¡No quiero hacer pipí en el orinal!         Spain         Roser Rius   \n",
       "15  ¡No quiero hacer pipí en el orinal!         Spain         Roser Rius   \n",
       "\n",
       "   PAIS_AUTOR  \n",
       "10    Germany  \n",
       "11    Germany  \n",
       "12    Germany  \n",
       "14     Mexico  \n",
       "15     Mexico  "
      ]
     },
     "execution_count": 9,
     "metadata": {},
     "output_type": "execute_result"
    }
   ],
   "source": [
    "autores_df.head()"
   ]
  },
  {
   "cell_type": "code",
   "execution_count": 10,
   "metadata": {
    "collapsed": false
   },
   "outputs": [],
   "source": [
    "autores_df.drop_duplicates(['AUTOR', 'TITULO'], inplace=True)"
   ]
  },
  {
   "cell_type": "code",
   "execution_count": 11,
   "metadata": {
    "collapsed": false
   },
   "outputs": [
    {
     "data": {
      "text/plain": [
       "(76697, 4)"
      ]
     },
     "execution_count": 11,
     "metadata": {},
     "output_type": "execute_result"
    }
   ],
   "source": [
    "autores_df.shape"
   ]
  },
  {
   "cell_type": "code",
   "execution_count": 12,
   "metadata": {
    "collapsed": false
   },
   "outputs": [
    {
     "data": {
      "text/html": [
       "<div>\n",
       "<table border=\"1\" class=\"dataframe\">\n",
       "  <thead>\n",
       "    <tr style=\"text-align: right;\">\n",
       "      <th></th>\n",
       "      <th>TITULO</th>\n",
       "      <th>PAIS_EJEMPLAR</th>\n",
       "      <th>AUTOR</th>\n",
       "      <th>PAIS_AUTOR</th>\n",
       "    </tr>\n",
       "  </thead>\n",
       "  <tbody>\n",
       "    <tr>\n",
       "      <th>10</th>\n",
       "      <td>Adivina en qué pais ...</td>\n",
       "      <td>Spain</td>\n",
       "      <td>Martina Badstuber</td>\n",
       "      <td>Germany</td>\n",
       "    </tr>\n",
       "    <tr>\n",
       "      <th>14</th>\n",
       "      <td>¡No quiero hacer pipí en el orinal!</td>\n",
       "      <td>Spain</td>\n",
       "      <td>Roser Rius</td>\n",
       "      <td>Mexico</td>\n",
       "    </tr>\n",
       "    <tr>\n",
       "      <th>19</th>\n",
       "      <td>Humo</td>\n",
       "      <td>Spain</td>\n",
       "      <td>Antón Fortes Torres</td>\n",
       "      <td>Spain</td>\n",
       "    </tr>\n",
       "    <tr>\n",
       "      <th>21</th>\n",
       "      <td>Galleta para perros</td>\n",
       "      <td>Spain</td>\n",
       "      <td>Helen Cooper</td>\n",
       "      <td>United Kingdom</td>\n",
       "    </tr>\n",
       "    <tr>\n",
       "      <th>25</th>\n",
       "      <td>Autobio</td>\n",
       "      <td>Spain</td>\n",
       "      <td>Cyril Pedrosa</td>\n",
       "      <td>France</td>\n",
       "    </tr>\n",
       "  </tbody>\n",
       "</table>\n",
       "</div>"
      ],
      "text/plain": [
       "                                 TITULO PAIS_EJEMPLAR                AUTOR  \\\n",
       "10              Adivina en qué pais ...         Spain    Martina Badstuber   \n",
       "14  ¡No quiero hacer pipí en el orinal!         Spain           Roser Rius   \n",
       "19                                 Humo         Spain  Antón Fortes Torres   \n",
       "21                  Galleta para perros         Spain         Helen Cooper   \n",
       "25                              Autobio         Spain        Cyril Pedrosa   \n",
       "\n",
       "        PAIS_AUTOR  \n",
       "10         Germany  \n",
       "14          Mexico  \n",
       "19           Spain  \n",
       "21  United Kingdom  \n",
       "25          France  "
      ]
     },
     "execution_count": 12,
     "metadata": {},
     "output_type": "execute_result"
    }
   ],
   "source": [
    "autores_df.head()"
   ]
  },
  {
   "cell_type": "markdown",
   "metadata": {},
   "source": [
    "## Resultados"
   ]
  },
  {
   "cell_type": "code",
   "execution_count": 13,
   "metadata": {
    "collapsed": false
   },
   "outputs": [
    {
     "data": {
      "text/plain": [
       "73916"
      ]
     },
     "execution_count": 13,
     "metadata": {},
     "output_type": "execute_result"
    }
   ],
   "source": [
    "autores_df['TITULO'].nunique()"
   ]
  },
  {
   "cell_type": "code",
   "execution_count": 14,
   "metadata": {
    "collapsed": false
   },
   "outputs": [
    {
     "data": {
      "text/plain": [
       "Obras completas                                                 113\n",
       "Antología poética                                                79\n",
       "Antología                                                        71\n",
       "Poemas                                                           61\n",
       "Cuentos                                                          52\n",
       "Cuentos completos                                                49\n",
       "Poesía                                                           46\n",
       "Obras escogidas                                                  35\n",
       "Obras                                                            34\n",
       "Teatro                                                           33\n",
       "Obra poética                                                     33\n",
       "Obras selectas                                                   32\n",
       "Poesía completa                                                  31\n",
       "Poesías completas                                                26\n",
       "Antología personal                                               26\n",
       "Poesías                                                          24\n",
       "Memorias                                                         22\n",
       "Teatro completo                                                  20\n",
       "Poemas escogidos                                                 18\n",
       "Escritos políticos                                               17\n",
       "Ensayos                                                          16\n",
       "Obra completa                                                    15\n",
       "Autobiografía                                                    15\n",
       "Correspondencia                                                  14\n",
       "Selected poems                                                   13\n",
       "Relatos                                                          13\n",
       "Mi vida                                                          11\n",
       "Novelas escogidas                                                11\n",
       "Filosofía del derecho                                            10\n",
       "Diarios                                                          10\n",
       "                                                               ... \n",
       "Ramón Menéndez Pidal y Rufino José Cuervo : correspondencia       1\n",
       "Astérix : el golpe de menhir                                      1\n",
       "Humor negro & hombres de blanco : cincuenta y seis dibujos d      1\n",
       "El quinteto de Avignon                                            1\n",
       "Paraíso privado                                                   1\n",
       "23 histórias de um viajante                                       1\n",
       "Faltan 10 minutos para dormir                                     1\n",
       "W. Benjamin, Th. W. Adorno : el ensayo como filosofía             1\n",
       "La vida y poesía de Federico García Lorca contada a los niño      1\n",
       "Oposición, insurgencia y amnistía : estudio jurídico y polít      1\n",
       "El vuelo de la libélula                                           1\n",
       "Economía de las organizaciones                                    1\n",
       "La operación Masotta : cuando la muerte también fracasa           1\n",
       "Palabras del caudillo : 19 Abril 1937 - 19 Abril 1938             1\n",
       "El baile del conde de Orgel : novela                              1\n",
       "Etica o El sistema de la doctrina de las costumbres según lo      1\n",
       "La filosofía de Henri Bergson                                     1\n",
       "Cuentos de terror del barco negro                                 1\n",
       "Wind Quintets op.67 nos.1-3                                       1\n",
       "La palabra frente al vacío filosofía de nagarjuna                 1\n",
       "Sobre la esencia del sabio y sus manifestaciones en el domin      1\n",
       "Capitán de altura                                                 1\n",
       "Always in my heart the song of Ernesto Lecuona.                   1\n",
       "La pedagogía familiar hoy                                         1\n",
       "El último mundo burgués                                           1\n",
       "Semana de poesía - 5 grandes poetas lectura de poemas de Cla      1\n",
       "Maximiliano y Carlota: (tragedia romántica)                       1\n",
       "The technological society                                         1\n",
       "Los etruscos                                                      1\n",
       "Fundamentos de la meta-técnica                                    1\n",
       "Name: TITULO, dtype: int64"
      ]
     },
     "execution_count": 14,
     "metadata": {},
     "output_type": "execute_result"
    }
   ],
   "source": [
    "autores_df['TITULO'].value_counts()"
   ]
  },
  {
   "cell_type": "code",
   "execution_count": 15,
   "metadata": {
    "collapsed": false
   },
   "outputs": [
    {
     "data": {
      "text/plain": [
       "130"
      ]
     },
     "execution_count": 15,
     "metadata": {},
     "output_type": "execute_result"
    }
   ],
   "source": [
    "autores_df['PAIS_EJEMPLAR'].nunique()"
   ]
  },
  {
   "cell_type": "code",
   "execution_count": 16,
   "metadata": {
    "collapsed": false
   },
   "outputs": [
    {
     "data": {
      "text/plain": [
       "Spain                                 37448\n",
       "Colombia                               9876\n",
       "Argentina                              7286\n",
       "Mexico                                 6792\n",
       "United States                          3908\n",
       "France                                 1977\n",
       "England                                1791\n",
       "Venezuela                              1134\n",
       "New York (State)                        855\n",
       "Chile                                   799\n",
       "Cuba                                    487\n",
       "Brazil                                  447\n",
       "United Kingdom                          439\n",
       "Peru                                    420\n",
       "Italy                                   383\n",
       "Germany                                 294\n",
       "Ecuador                                 280\n",
       "California                              156\n",
       "Uruguay                                 142\n",
       "Canada                                  138\n",
       "Switzerland                             114\n",
       "Austria                                 108\n",
       "Japan                                   108\n",
       "Portugal                                103\n",
       "Costa Rica                               81\n",
       "Netherlands                              79\n",
       "Soviet Union                             70\n",
       "Massachusetts                            68\n",
       "Germany (East)                           59\n",
       "Puerto Rico                              53\n",
       "                                      ...  \n",
       "South Carolina                            2\n",
       "Scotland                                  2\n",
       "Jan Mayen                                 2\n",
       "Thailand                                  2\n",
       "Rhode Island                              1\n",
       "Haiti                                     1\n",
       "Venezuela (Bolivarian Republic of)        1\n",
       "Malaysia                                  1\n",
       "Saint-Martin                              1\n",
       "Serbia                                    1\n",
       "Albania                                   1\n",
       "Vatican City                              1\n",
       "Turkey                                    1\n",
       "Louisiana                                 1\n",
       "Kiribati                                  1\n",
       "Oregon                                    1\n",
       "Nevada                                    1\n",
       "Virginia                                  1\n",
       "Colorado                                  1\n",
       "New Hampshire                             1\n",
       "Alabama                                   1\n",
       "Maine                                     1\n",
       "Korea, Republic of                        1\n",
       "Georgia (Republic)                        1\n",
       "Texas                                     1\n",
       "Uganda                                    1\n",
       "Ontario                                   1\n",
       "Utah                                      1\n",
       "Palestinian Territory, Occupied           1\n",
       "Nebraska                                  1\n",
       "Name: PAIS_EJEMPLAR, dtype: int64"
      ]
     },
     "execution_count": 16,
     "metadata": {},
     "output_type": "execute_result"
    }
   ],
   "source": [
    "autores_df['PAIS_EJEMPLAR'].value_counts()"
   ]
  },
  {
   "cell_type": "code",
   "execution_count": 17,
   "metadata": {
    "collapsed": false
   },
   "outputs": [
    {
     "data": {
      "text/plain": [
       "22060"
      ]
     },
     "execution_count": 17,
     "metadata": {},
     "output_type": "execute_result"
    }
   ],
   "source": [
    "autores_df['AUTOR'].nunique()"
   ]
  },
  {
   "cell_type": "code",
   "execution_count": 18,
   "metadata": {
    "collapsed": false
   },
   "outputs": [
    {
     "data": {
      "text/plain": [
       "William Shakespeare             230\n",
       "Gabriel García Márquez          177\n",
       "Diana Uribe                     169\n",
       "Isaac Asimov                    164\n",
       "Karl Marx                       160\n",
       "Jorge Luis Borges               144\n",
       "Oscar Wilde                     130\n",
       "Agatha Christie                 129\n",
       "Friedrich Wilhelm Nietzsche     120\n",
       "Johann Sebastian Bach           117\n",
       "Edgar Allan Poe                 116\n",
       "Octavio Paz                     111\n",
       "Ludwig van Beethoven            110\n",
       "Noam Chomsky                    110\n",
       "Jordi Sierra i Fabra            108\n",
       "Georges Simenon                 106\n",
       "Stefan Zweig                    105\n",
       "Charles Dickens                 105\n",
       "Pablo Neruda                    103\n",
       "Jules Verne                     102\n",
       "Mario Benedetti                 101\n",
       "Jean Paul Sartre                 96\n",
       "Miguel de Cervantes Saavedra     96\n",
       "Federico García Lorca            95\n",
       "Arthur Conan Doyle               95\n",
       "Honoré de Balzac                 93\n",
       "Fernando Pessoa                  93\n",
       "Sigmund Freud                    92\n",
       "Aristóteles                      89\n",
       "Bertrand Russell                 89\n",
       "                               ... \n",
       "Aldo Zargani                      1\n",
       "Raymond Boisdé                    1\n",
       "Thomas Verny                      1\n",
       "Madeleine L'Engle                 1\n",
       "Carl Hiaasen                      1\n",
       "Leonardo Sanhueza                 1\n",
       "Michael Watts                     1\n",
       "Helene Holzman                    1\n",
       "Helen Epstein                     1\n",
       "Enrique García Velloso            1\n",
       "Brian Reffin Smith                1\n",
       "Robert Etienne                    1\n",
       "William Fielding Ogburn           1\n",
       "Costantino Mortati                1\n",
       "Colin Thiele                      1\n",
       "Susan Bergman                     1\n",
       "Aleksander Wat                    1\n",
       "Fyodor Dostoyevsky                1\n",
       "James Friskin                     1\n",
       "Andy Phillips                     1\n",
       "Richard Ashton                    1\n",
       "Eden Phillpotts                   1\n",
       "Chano Domínguez                   1\n",
       "Jean Noblot                       1\n",
       "Fritz Eichenberg                  1\n",
       "Kurt Sontheimer                   1\n",
       "Georg von Krogh                   1\n",
       "Birger Sellin                     1\n",
       "Mark Platts                       1\n",
       "Marsden Hartley                   1\n",
       "Name: AUTOR, dtype: int64"
      ]
     },
     "execution_count": 18,
     "metadata": {},
     "output_type": "execute_result"
    }
   ],
   "source": [
    "autores_df['AUTOR'].value_counts()"
   ]
  },
  {
   "cell_type": "code",
   "execution_count": 19,
   "metadata": {
    "collapsed": false
   },
   "outputs": [
    {
     "data": {
      "text/plain": [
       "410"
      ]
     },
     "execution_count": 19,
     "metadata": {},
     "output_type": "execute_result"
    }
   ],
   "source": [
    "autores_df['PAIS_AUTOR'].nunique()"
   ]
  },
  {
   "cell_type": "code",
   "execution_count": 20,
   "metadata": {
    "collapsed": false
   },
   "outputs": [
    {
     "data": {
      "text/plain": [
       "United States of America                       10910\n",
       "Spain                                           8153\n",
       "France                                          7154\n",
       "United Kingdom                                  6141\n",
       "Colombia                                        4414\n",
       "Germany                                         3635\n",
       "Argentina                                       3354\n",
       "Italy                                           3207\n",
       "Mexico                                          2132\n",
       "Chile                                           1064\n",
       "Brazil                                          1033\n",
       "Belgium                                          962\n",
       "Canada                                           947\n",
       "United States                                    893\n",
       "Ireland                                          892\n",
       "Venezuela                                        867\n",
       "España                                           856\n",
       "Cuba                                             810\n",
       "Switzerland                                      806\n",
       "Peru                                             694\n",
       "Austria                                          647\n",
       "German Empire                                    602\n",
       "Uruguay                                          572\n",
       "Austria-Hungary                                  507\n",
       "Japan                                            496\n",
       "Netherlands                                      468\n",
       "Poland                                           465\n",
       "Portugal                                         434\n",
       "India                                            391\n",
       "Australia                                        355\n",
       "                                               ...  \n",
       "República Popular China                            1\n",
       "Mauritania                                         1\n",
       "Arabia Saudita                                     1\n",
       "Latvian Soviet Socialist Republic                  1\n",
       "Restoration and Regeneration in Switzerland        1\n",
       "Duchy of Holstein                                  1\n",
       "Principality of Lippe                              1\n",
       "Pahlavi dynasty                                    1\n",
       "Empire of Japan                                    1\n",
       "Líbano                                             1\n",
       "Azerbaiyán                                         1\n",
       "Saudi Arabia                                       1\n",
       "Duchy of Saxe-Altenburg                            1\n",
       "Belgian Congo                                      1\n",
       "Moldavia                                           1\n",
       "Dominion of Pakistan                               1\n",
       "Estados Unidos de Colombia                         1\n",
       "Tajik Soviet Socialist Republic                    1\n",
       "Basque Country (greater region)                    1\n",
       "Reino de Irlanda                                   1\n",
       "Spanish East Indies                                1\n",
       "Bahrain                                            1\n",
       "Kuwait                                             1\n",
       "Azerbaijan                                         1\n",
       "Uzbekistan                                         1\n",
       "Unión entre Suecia y Noruega                       1\n",
       "French protectorate of Tunisia                     1\n",
       "Kingdom of Croatia-Slavonia                        1\n",
       "Saint Kitts and Nevis                              1\n",
       "Solomon Islands                                    1\n",
       "Name: PAIS_AUTOR, dtype: int64"
      ]
     },
     "execution_count": 20,
     "metadata": {},
     "output_type": "execute_result"
    }
   ],
   "source": [
    "autores_df['PAIS_AUTOR'].value_counts()"
   ]
  },
  {
   "cell_type": "markdown",
   "metadata": {},
   "source": [
    "# Mapping countries"
   ]
  },
  {
   "cell_type": "code",
   "execution_count": 21,
   "metadata": {
    "collapsed": true
   },
   "outputs": [],
   "source": [
    "countries = set(autores_df['PAIS_EJEMPLAR']).union(autores_df['PAIS_AUTOR'])"
   ]
  },
  {
   "cell_type": "code",
   "execution_count": 51,
   "metadata": {
    "collapsed": false
   },
   "outputs": [],
   "source": [
    "inv_mappings = defaultdict(set)\n",
    "for a in countries:\n",
    "    for b in countries:\n",
    "        if a != b and a in b:\n",
    "            inv_mappings[a].add(b)\n",
    "inv_mappings = dict(inv_mappings)\n",
    "\n",
    "mapped = set()\n",
    "for s in inv_mappings.values():\n",
    "    mapped = mapped.union(s)\n",
    "\n",
    "unmapped = countries.difference(mapped)"
   ]
  },
  {
   "cell_type": "code",
   "execution_count": 52,
   "metadata": {
    "collapsed": false
   },
   "outputs": [
    {
     "data": {
      "text/plain": [
       "{'Afghanistan': {'Kingdom of Afghanistan'},\n",
       " 'Albania': {\"People's Socialist Republic of Albania\"},\n",
       " 'Austria': {'Austria-Hungary',\n",
       "  'Austrian Empire',\n",
       "  'First Austrian Republic',\n",
       "  'Republic of German-Austria'},\n",
       " 'Azerbaijan': {'Azerbaijan Soviet Socialist Republic'},\n",
       " 'Brazil': {'Empire of Brazil'},\n",
       " 'Bulgaria': {'Kingdom of Bulgaria', \"People's Republic of Bulgaria\"},\n",
       " 'Burma': {'British rule in Burma'},\n",
       " 'China': {'China (Republic : 1949- )',\n",
       "  \"People's Republic of China\",\n",
       "  'Republic of China (1912–49)',\n",
       "  'República Popular China'},\n",
       " 'Colombia': {'Estados Unidos de Colombia',\n",
       "  'Gran Colombia',\n",
       "  'United States of Colombia'},\n",
       " 'Croatia': {'Kingdom of Croatia-Slavonia', 'Socialist Republic of Croatia'},\n",
       " 'Cuba': {'Captaincy General of Cuba', 'Republic of Cuba (1902–59)'},\n",
       " 'Denmark': {'Kingdom of Denmark'},\n",
       " 'Dominica': {'Dominican Republic', 'República Dominicana'},\n",
       " 'Egipto': {'Jedivato de Egipto'},\n",
       " 'Egypt': {'Khedivate of Egypt', 'Kingdom of Egypt', 'Sultanate of Egypt'},\n",
       " 'England': {'Kingdom of England'},\n",
       " 'Estados Unidos': {'Estados Unidos de Colombia'},\n",
       " 'Finland': {'Finlandia', 'Grand Duchy of Finland'},\n",
       " 'Franc': {'France',\n",
       "  'Francia',\n",
       "  'Francoist Spain',\n",
       "  'German military administration in occupied France during World War II',\n",
       "  'Kingdom of France',\n",
       "  'Vichy France'},\n",
       " 'France': {'German military administration in occupied France during World War II',\n",
       "  'Kingdom of France',\n",
       "  'Vichy France'},\n",
       " 'Georgia': {'Georgia (Republic)'},\n",
       " 'German Confederation': {'North German Confederation'},\n",
       " 'Germany': {'Allied-occupied Germany',\n",
       "  'East Germany',\n",
       "  'Germany (East)',\n",
       "  'Nazi Germany',\n",
       "  'West Germany'},\n",
       " 'Greece': {'Kingdom of Greece'},\n",
       " 'Guinea': {'Equatorial Guinea'},\n",
       " 'Hungary': {'Austria-Hungary',\n",
       "  'Kingdom of Hungary',\n",
       "  'Kingdom of Hungary (1920–46)'},\n",
       " 'India': {'Dominion of India', 'Indiana'},\n",
       " 'Iraq': {'Kingdom of Iraq'},\n",
       " 'Ireland': {'Kingdom of Ireland',\n",
       "  'Northern Ireland',\n",
       "  'Republic of Ireland',\n",
       "  'United Kingdom of Great Britain and Ireland'},\n",
       " 'Irlanda': {'Reino Unido de Gran Bretaña e Irlanda', 'Reino de Irlanda'},\n",
       " 'Italy': {'Kingdom of Italy'},\n",
       " 'Japan': {'Empire of Japan'},\n",
       " 'Jersey': {'New Jersey'},\n",
       " 'Kenya': {'British Kenya'},\n",
       " 'Kingdom of Great Britain': {'United Kingdom of Great Britain and Ireland'},\n",
       " 'Kingdom of Hungary': {'Kingdom of Hungary (1920–46)'},\n",
       " 'Latvia': {'Latvian Soviet Socialist Republic'},\n",
       " 'Malta': {'Crown Colony of Malta'},\n",
       " 'Montenegro': {'Serbia and Montenegro'},\n",
       " 'Morocco': {'French protectorate in Morocco',\n",
       "  'Spanish protectorate in Morocco'},\n",
       " 'Mozambique': {'Portuguese Mozambique'},\n",
       " 'Netherlands': {'Caribbean Netherlands', 'Habsburg Netherlands'},\n",
       " 'Nevis': {'Saint Kitts and Nevis'},\n",
       " 'New Zealand': {'Dominion of New Zealand'},\n",
       " 'Nigeria': {'Colonial Nigeria'},\n",
       " 'Noruega': {'Unión entre Suecia y Noruega'},\n",
       " 'Pakistan': {'Dominion of Pakistan', 'East Pakistan'},\n",
       " 'Países Bajos': {'Provincias Unidas de los Países Bajos'},\n",
       " 'Peru': {'Viceroyalty of Peru'},\n",
       " 'Poland': {'Congress Poland', 'Kingdom of Poland (1916–18)'},\n",
       " 'Polonia': {'Reino de Polonia (1385-1569)'},\n",
       " 'Portugal': {'Kingdom of Portugal'},\n",
       " 'Prussia': {'Kingdom of Prussia'},\n",
       " 'Reino Unido': {'Reino Unido de Gran Bretaña e Irlanda'},\n",
       " 'Republic of the Congo': {'Democratic Republic of the Congo'},\n",
       " 'Rhodesia': {'Northern Rhodesia', 'Southern Rhodesia'},\n",
       " 'Romania': {'Kingdom of Romania', 'Socialist Republic of Romania'},\n",
       " 'Rusia': {'República Socialista Federativa Soviética de Rusia'},\n",
       " 'Russia': {'Russia (Federation)',\n",
       "  'Russian Empire',\n",
       "  'Russian Republic',\n",
       "  'Russian Soviet Federative Socialist Republic'},\n",
       " 'Scotland': {'Kingdom of Scotland'},\n",
       " 'Serbia': {'Reino de Serbia', 'Serbia and Montenegro'},\n",
       " 'South Africa': {'Union of South Africa'},\n",
       " 'Spain': {'Francoist Spain', 'New Spain', 'Restoration (Spain)'},\n",
       " 'Suecia': {'Unión entre Suecia y Noruega'},\n",
       " 'Switzerland': {'Restoration and Regeneration in Switzerland'},\n",
       " 'Tunisia': {'French protectorate of Tunisia'},\n",
       " 'United Kingdom': {'United Kingdom of Great Britain and Ireland'},\n",
       " 'United States': {'United States of America',\n",
       "  'United States of Colombia',\n",
       "  'United States of the Ionian Islands'},\n",
       " 'Venezuela': {'Captaincy General of Venezuela',\n",
       "  'Venezuela (Bolivarian Republic of)',\n",
       "  'Venezuela Province'},\n",
       " 'Vietnam': {'Vietnam, North'},\n",
       " 'Virginia': {'Colony of Virginia'},\n",
       " 'Württemberg': {'Duchy of Württemberg',\n",
       "  'Electorate of Württemberg',\n",
       "  'Kingdom of Württemberg'}}"
      ]
     },
     "execution_count": 52,
     "metadata": {},
     "output_type": "execute_result"
    }
   ],
   "source": [
    "inv_mappings"
   ]
  },
  {
   "cell_type": "code",
   "execution_count": 53,
   "metadata": {
    "collapsed": false
   },
   "outputs": [],
   "source": [
    "mappings = {}\n",
    "for c1 in inv_mappings:\n",
    "    for c2 in inv_mappings[c1]:\n",
    "        mappings[c2] = c1"
   ]
  },
  {
   "cell_type": "code",
   "execution_count": 54,
   "metadata": {
    "collapsed": false
   },
   "outputs": [
    {
     "data": {
      "text/plain": [
       "{'Allied-occupied Germany': 'Germany',\n",
       " 'Austria-Hungary': 'Austria',\n",
       " 'Austrian Empire': 'Austria',\n",
       " 'Azerbaijan Soviet Socialist Republic': 'Azerbaijan',\n",
       " 'British Kenya': 'Kenya',\n",
       " 'British rule in Burma': 'Burma',\n",
       " 'Captaincy General of Cuba': 'Cuba',\n",
       " 'Captaincy General of Venezuela': 'Venezuela',\n",
       " 'Caribbean Netherlands': 'Netherlands',\n",
       " 'China (Republic : 1949- )': 'China',\n",
       " 'Colonial Nigeria': 'Nigeria',\n",
       " 'Colony of Virginia': 'Virginia',\n",
       " 'Congress Poland': 'Poland',\n",
       " 'Crown Colony of Malta': 'Malta',\n",
       " 'Democratic Republic of the Congo': 'Republic of the Congo',\n",
       " 'Dominican Republic': 'Dominica',\n",
       " 'Dominion of India': 'India',\n",
       " 'Dominion of New Zealand': 'New Zealand',\n",
       " 'Dominion of Pakistan': 'Pakistan',\n",
       " 'Duchy of Württemberg': 'Württemberg',\n",
       " 'East Germany': 'Germany',\n",
       " 'East Pakistan': 'Pakistan',\n",
       " 'Electorate of Württemberg': 'Württemberg',\n",
       " 'Empire of Brazil': 'Brazil',\n",
       " 'Empire of Japan': 'Japan',\n",
       " 'Equatorial Guinea': 'Guinea',\n",
       " 'Estados Unidos de Colombia': 'Estados Unidos',\n",
       " 'Finlandia': 'Finland',\n",
       " 'First Austrian Republic': 'Austria',\n",
       " 'France': 'Franc',\n",
       " 'Francia': 'Franc',\n",
       " 'Francoist Spain': 'Franc',\n",
       " 'French protectorate in Morocco': 'Morocco',\n",
       " 'French protectorate of Tunisia': 'Tunisia',\n",
       " 'Georgia (Republic)': 'Georgia',\n",
       " 'German military administration in occupied France during World War II': 'Franc',\n",
       " 'Germany (East)': 'Germany',\n",
       " 'Gran Colombia': 'Colombia',\n",
       " 'Grand Duchy of Finland': 'Finland',\n",
       " 'Habsburg Netherlands': 'Netherlands',\n",
       " 'Indiana': 'India',\n",
       " 'Jedivato de Egipto': 'Egipto',\n",
       " 'Khedivate of Egypt': 'Egypt',\n",
       " 'Kingdom of Afghanistan': 'Afghanistan',\n",
       " 'Kingdom of Bulgaria': 'Bulgaria',\n",
       " 'Kingdom of Croatia-Slavonia': 'Croatia',\n",
       " 'Kingdom of Denmark': 'Denmark',\n",
       " 'Kingdom of Egypt': 'Egypt',\n",
       " 'Kingdom of England': 'England',\n",
       " 'Kingdom of France': 'Franc',\n",
       " 'Kingdom of Greece': 'Greece',\n",
       " 'Kingdom of Hungary': 'Hungary',\n",
       " 'Kingdom of Hungary (1920–46)': 'Hungary',\n",
       " 'Kingdom of Iraq': 'Iraq',\n",
       " 'Kingdom of Ireland': 'Ireland',\n",
       " 'Kingdom of Italy': 'Italy',\n",
       " 'Kingdom of Poland (1916–18)': 'Poland',\n",
       " 'Kingdom of Portugal': 'Portugal',\n",
       " 'Kingdom of Prussia': 'Prussia',\n",
       " 'Kingdom of Romania': 'Romania',\n",
       " 'Kingdom of Scotland': 'Scotland',\n",
       " 'Kingdom of Württemberg': 'Württemberg',\n",
       " 'Latvian Soviet Socialist Republic': 'Latvia',\n",
       " 'Nazi Germany': 'Germany',\n",
       " 'New Jersey': 'Jersey',\n",
       " 'New Spain': 'Spain',\n",
       " 'North German Confederation': 'German Confederation',\n",
       " 'Northern Ireland': 'Ireland',\n",
       " 'Northern Rhodesia': 'Rhodesia',\n",
       " \"People's Republic of Bulgaria\": 'Bulgaria',\n",
       " \"People's Republic of China\": 'China',\n",
       " \"People's Socialist Republic of Albania\": 'Albania',\n",
       " 'Portuguese Mozambique': 'Mozambique',\n",
       " 'Provincias Unidas de los Países Bajos': 'Países Bajos',\n",
       " 'Reino Unido de Gran Bretaña e Irlanda': 'Irlanda',\n",
       " 'Reino de Irlanda': 'Irlanda',\n",
       " 'Reino de Polonia (1385-1569)': 'Polonia',\n",
       " 'Reino de Serbia': 'Serbia',\n",
       " 'Republic of China (1912–49)': 'China',\n",
       " 'Republic of Cuba (1902–59)': 'Cuba',\n",
       " 'Republic of German-Austria': 'Austria',\n",
       " 'Republic of Ireland': 'Ireland',\n",
       " 'República Dominicana': 'Dominica',\n",
       " 'República Popular China': 'China',\n",
       " 'República Socialista Federativa Soviética de Rusia': 'Rusia',\n",
       " 'Restoration (Spain)': 'Spain',\n",
       " 'Restoration and Regeneration in Switzerland': 'Switzerland',\n",
       " 'Russia (Federation)': 'Russia',\n",
       " 'Russian Empire': 'Russia',\n",
       " 'Russian Republic': 'Russia',\n",
       " 'Russian Soviet Federative Socialist Republic': 'Russia',\n",
       " 'Saint Kitts and Nevis': 'Nevis',\n",
       " 'Serbia and Montenegro': 'Serbia',\n",
       " 'Socialist Republic of Croatia': 'Croatia',\n",
       " 'Socialist Republic of Romania': 'Romania',\n",
       " 'Southern Rhodesia': 'Rhodesia',\n",
       " 'Spanish protectorate in Morocco': 'Morocco',\n",
       " 'Sultanate of Egypt': 'Egypt',\n",
       " 'Union of South Africa': 'South Africa',\n",
       " 'United Kingdom of Great Britain and Ireland': 'Kingdom of Great Britain',\n",
       " 'United States of America': 'United States',\n",
       " 'United States of Colombia': 'United States',\n",
       " 'United States of the Ionian Islands': 'United States',\n",
       " 'Unión entre Suecia y Noruega': 'Suecia',\n",
       " 'Venezuela (Bolivarian Republic of)': 'Venezuela',\n",
       " 'Venezuela Province': 'Venezuela',\n",
       " 'Viceroyalty of Peru': 'Peru',\n",
       " 'Vichy France': 'Franc',\n",
       " 'Vietnam, North': 'Vietnam',\n",
       " 'West Germany': 'Germany'}"
      ]
     },
     "execution_count": 54,
     "metadata": {},
     "output_type": "execute_result"
    }
   ],
   "source": [
    "mappings"
   ]
  },
  {
   "cell_type": "code",
   "execution_count": 50,
   "metadata": {
    "collapsed": true
   },
   "outputs": [],
   "source": [
    "# Correct wrong mappings\n",
    "\n",
    "# del(mappings['Dominican Republic'])\n",
    "# mappings['Estados Unidos de Colombia'] = 'Colombia'\n",
    "# del(mappings['France'])\n",
    "# mappings['Francia'] = 'France'\n",
    "# mappings['Francoist Spain'] = 'Spain'\n",
    "# mappings['German military administration in occupied France during World War II'] = 'France'\n",
    "# del(mappings['Indiana'])\n",
    "# mappings['Jedivato de Egipto'] = 'Egypt'\n",
    "# mappings['Kingdom of France'] = 'France'\n",
    "# del(mappings['New Jersey'])\n",
    "# mappings['New Spain'] = 'Mexico'\n",
    "# mappings['North German Confederation'] = 'Germany'\n",
    "# del(mappings['Northern Ireland'])\n",
    "# mappings['Provincias Unidas de los Países Bajos'] = 'Netherlands'\n",
    "# mappings['Reino Unido de Gran Bretaña e Irlanda'] = 'United Kingdom'\n",
    "# mappings['República Dominicana'] = 'Dominican Republic'\n",
    "# mappings['República Socialista Federativa Soviética de Rusia'] = 'Russia'\n",
    "# del(mappings['Saint Kitts and Nevis'])\n",
    "# mappings['United Kingdom of Great Britain and Ireland'] = 'United Kingdom'\n",
    "# mappings['United States of America'] = 'United States'\n",
    "# mappings['United States of Colombia'] = 'Colombia'\n",
    "# del(mappings['United States of the Ionian Islands'])\n",
    "# mappings['Unión entre Suecia y Noruega'] = 'Sweden'\n",
    "# mappings['Vichy France'] = 'France'"
   ]
  },
  {
   "cell_type": "code",
   "execution_count": 55,
   "metadata": {
    "collapsed": false
   },
   "outputs": [
    {
     "data": {
      "text/plain": [
       "{'Afghanistan',\n",
       " 'Alabama',\n",
       " 'Albania',\n",
       " 'Alemania',\n",
       " 'Algeria',\n",
       " 'Andorra',\n",
       " 'Angola',\n",
       " 'Antigua Atenas',\n",
       " 'Antigua Roma',\n",
       " 'Antigua and Barbuda',\n",
       " 'Arabia Saudita',\n",
       " 'Argentina',\n",
       " 'Arizona',\n",
       " 'Australia',\n",
       " 'Austria',\n",
       " 'Azerbaijan',\n",
       " 'Azerbaiyán',\n",
       " 'Bahrain',\n",
       " 'Bangladesh',\n",
       " 'Barbados',\n",
       " 'Basque Country (greater region)',\n",
       " 'Belarus',\n",
       " 'Belgian Congo',\n",
       " 'Belgium',\n",
       " 'Benin',\n",
       " 'Bielorrusia',\n",
       " 'Bolivia',\n",
       " 'Bourbon Restoration',\n",
       " 'Brasil',\n",
       " 'Brazil',\n",
       " 'British America',\n",
       " 'British Ceylon',\n",
       " 'British Empire',\n",
       " 'British Raj',\n",
       " 'Bulgaria',\n",
       " 'Burkina Faso',\n",
       " 'Burma',\n",
       " 'Bélgica',\n",
       " 'California',\n",
       " 'Cambodia',\n",
       " 'Cameroon',\n",
       " 'Canada',\n",
       " 'Canadá',\n",
       " 'Canal Zone',\n",
       " 'Cape Verde',\n",
       " 'Chile',\n",
       " 'China',\n",
       " 'Colombia',\n",
       " 'Colorado',\n",
       " 'Congo Belga',\n",
       " 'Connecticut',\n",
       " 'Costa Rica',\n",
       " 'Croacia',\n",
       " 'Croatia',\n",
       " 'Crown of Aragon',\n",
       " 'Crown of Castile',\n",
       " 'Cuba',\n",
       " 'Curaçao',\n",
       " 'Cyprus',\n",
       " 'Czech Republic',\n",
       " 'Czechoslovakia',\n",
       " \"Côte d'Ivoire\",\n",
       " 'Denmark',\n",
       " 'Dinamarca',\n",
       " 'District of Columbia',\n",
       " 'Dominica',\n",
       " 'Dominion of Newfoundland',\n",
       " 'Duchy of Brunswick',\n",
       " 'Duchy of Holstein',\n",
       " 'Duchy of Milan',\n",
       " 'Duchy of Salzburg',\n",
       " 'Duchy of Saxe-Altenburg',\n",
       " 'Duchy of Schleswig',\n",
       " 'Dutch East Indies',\n",
       " 'Dutch Republic',\n",
       " 'East Africa Protectorate',\n",
       " 'Ecuador',\n",
       " 'Egipto',\n",
       " 'Egypt',\n",
       " 'El Salvador',\n",
       " 'Electorate of Bavaria',\n",
       " 'Electorate of Cologne',\n",
       " 'Electorate of Saxony',\n",
       " 'England',\n",
       " 'Eritrea',\n",
       " 'España',\n",
       " 'Estados Unidos',\n",
       " 'Estonia',\n",
       " 'Ethiopia',\n",
       " 'Falkland Islands',\n",
       " 'Fiji',\n",
       " 'Filipinas',\n",
       " 'Finland',\n",
       " 'First Czechoslovak Republic',\n",
       " 'First French Empire',\n",
       " 'First Hungarian Republic',\n",
       " 'First Portuguese Republic',\n",
       " 'Florida',\n",
       " 'Franc',\n",
       " 'Free City of Lübeck',\n",
       " 'Free and Independent State of Cundinamarca',\n",
       " 'French First Republic',\n",
       " 'French Guiana',\n",
       " 'French Indochina',\n",
       " 'French Third Republic',\n",
       " 'French colonial empire',\n",
       " 'Georgia',\n",
       " 'German Confederation',\n",
       " 'German Empire',\n",
       " 'Germany',\n",
       " 'Ghana',\n",
       " 'Gibraltar',\n",
       " 'Gold Coast (British colony)',\n",
       " 'Granadine Confederation',\n",
       " 'Grand Duchy of Baden',\n",
       " 'Grand Duchy of Mecklenburg-Schwerin',\n",
       " 'Grand Duchy of Tuscany',\n",
       " 'Grecia',\n",
       " 'Greece',\n",
       " 'Guatemala',\n",
       " 'Guinea',\n",
       " 'Guyana',\n",
       " 'Habsburg Monarchy',\n",
       " 'Haiti',\n",
       " 'Haití',\n",
       " 'Holy Roman Empire',\n",
       " 'Honduras',\n",
       " 'Hong Kong',\n",
       " 'Hungary',\n",
       " 'Hungría',\n",
       " 'Iceland',\n",
       " 'Illinois',\n",
       " 'Imperio Otomano',\n",
       " 'Imperio alemán',\n",
       " 'Imperio aqueménida',\n",
       " 'Imperio austrohúngaro',\n",
       " 'Imperio español',\n",
       " 'Imperio otomano',\n",
       " 'Imperio romano',\n",
       " 'Imperio ruso',\n",
       " 'India',\n",
       " 'Indonesia',\n",
       " 'Irak',\n",
       " 'Iran',\n",
       " 'Iraq',\n",
       " 'Ireland',\n",
       " 'Irlanda',\n",
       " 'Irán',\n",
       " 'Israel',\n",
       " 'Italia',\n",
       " 'Italy',\n",
       " 'Jamaica',\n",
       " 'Jan Mayen',\n",
       " 'Japan',\n",
       " 'Japón',\n",
       " 'Jersey',\n",
       " 'Jordan',\n",
       " 'Jorezmitas',\n",
       " 'July Monarchy',\n",
       " 'Kazakhstan',\n",
       " 'Kentucky',\n",
       " 'Kenya',\n",
       " 'Kingdom of Bavaria',\n",
       " 'Kingdom of Bohemia',\n",
       " 'Kingdom of Galicia and Lodomeria',\n",
       " 'Kingdom of Great Britain',\n",
       " 'Kingdom of Hanover',\n",
       " 'Kingdom of Lombardy–Venetia',\n",
       " 'Kingdom of Sardinia',\n",
       " 'Kingdom of Saxony',\n",
       " 'Kingdom of Yugoslavia',\n",
       " 'Kingdom of the Two Sicilies',\n",
       " 'Kiribati',\n",
       " 'Korea (South)',\n",
       " 'Korea, Republic of',\n",
       " 'Kuwait',\n",
       " 'Kwantung Leased Territory',\n",
       " 'Kyrgyzstan',\n",
       " 'Lands of the Crown of Saint Stephen',\n",
       " 'Latvia',\n",
       " 'Lebanon',\n",
       " 'Letonia',\n",
       " 'Liberia',\n",
       " 'Libia',\n",
       " 'Libya',\n",
       " 'Lithuania',\n",
       " 'Lituania',\n",
       " 'Louisiana',\n",
       " 'Luxembourg',\n",
       " 'Líbano',\n",
       " 'Macedonia',\n",
       " 'Madagascar',\n",
       " 'Maine',\n",
       " 'Malawi',\n",
       " 'Malaysia',\n",
       " 'Mali',\n",
       " 'Malta',\n",
       " 'Mandato británico de Palestina',\n",
       " 'Mandatory Palestine',\n",
       " 'Margraviate of Brandenburg',\n",
       " 'Marruecos',\n",
       " 'Maryland',\n",
       " 'Massachusetts',\n",
       " 'Mauritania',\n",
       " 'Mauritius',\n",
       " 'Mexico',\n",
       " 'Michigan',\n",
       " 'Minnesota',\n",
       " 'Missouri',\n",
       " 'Moldavia',\n",
       " 'Moldova',\n",
       " 'Monaco',\n",
       " 'Mongolia',\n",
       " 'Montenegro',\n",
       " 'Montserrat',\n",
       " 'Morocco',\n",
       " 'Mozambique',\n",
       " 'Myanmar',\n",
       " 'México',\n",
       " 'Namibia',\n",
       " 'Nebraska',\n",
       " 'Netherlands',\n",
       " 'Nevada',\n",
       " 'Nevis',\n",
       " 'New Caledonia',\n",
       " 'New Hampshire',\n",
       " 'New York (State)',\n",
       " 'New Zealand',\n",
       " 'Nicaragua',\n",
       " 'Nigeria',\n",
       " 'No place, unknown, or undetermined',\n",
       " 'North Carolina',\n",
       " 'Noruega',\n",
       " 'Norway',\n",
       " 'Ohio',\n",
       " 'Old Swiss Confederacy',\n",
       " 'Ontario',\n",
       " 'Oregon',\n",
       " 'Ottoman Empire',\n",
       " 'Pahlavi dynasty',\n",
       " 'Pakistan',\n",
       " 'Palestinian National Authority',\n",
       " 'Palestinian Territory, Occupied',\n",
       " 'Panama',\n",
       " 'Panamá',\n",
       " 'Papal States',\n",
       " 'Paraguay',\n",
       " 'Países Bajos',\n",
       " 'Pennsylvania',\n",
       " 'Peru',\n",
       " 'Perú',\n",
       " 'Philippines',\n",
       " 'Poland',\n",
       " 'Polonia',\n",
       " 'Portugal',\n",
       " 'Principality of Anhalt',\n",
       " 'Principality of Lippe',\n",
       " 'Protectorate of Bohemia and Moravia',\n",
       " 'Prussia',\n",
       " 'Puebla',\n",
       " 'Puerto Rico',\n",
       " 'Qajar dynasty',\n",
       " 'Reino Unido',\n",
       " 'Reino de Inglaterra',\n",
       " 'Reino de Prusia',\n",
       " 'Reino de Yugoslavia',\n",
       " 'Republic of Florence',\n",
       " 'Republic of New Granada',\n",
       " 'Republic of Venice',\n",
       " 'Republic of the Congo',\n",
       " 'República Checa',\n",
       " 'República de Génova',\n",
       " 'República de Weimar',\n",
       " 'República romana',\n",
       " 'Rhode Island',\n",
       " 'Rhodesia',\n",
       " 'Romania',\n",
       " 'Rumania',\n",
       " 'Rusia',\n",
       " 'Russia',\n",
       " 'Rwanda',\n",
       " 'Ryukyu Kingdom',\n",
       " 'Sacro Imperio Romano Germánico',\n",
       " 'Saint Lucia',\n",
       " 'Saint Vincent and the Grenadines',\n",
       " 'Saint-Martin',\n",
       " 'Saudi Arabia',\n",
       " 'Saxe-Weimar',\n",
       " 'Schwarzburg-Sondershausen',\n",
       " 'Scotland',\n",
       " 'Second French Empire',\n",
       " 'Second Hellenic Republic',\n",
       " 'Second Polish Republic',\n",
       " 'Senegal',\n",
       " 'Serbia',\n",
       " 'Sierra Leone',\n",
       " 'Sikkim',\n",
       " 'Singapore',\n",
       " 'Slovakia',\n",
       " 'Slovenia',\n",
       " 'Socialist Federal Republic of Yugoslavia',\n",
       " 'Solomon Islands',\n",
       " 'Somalia',\n",
       " 'South Africa',\n",
       " 'South Carolina',\n",
       " 'South Korea',\n",
       " 'Soviet Union',\n",
       " 'Spain',\n",
       " 'Spanish East Indies',\n",
       " 'Spanish Empire',\n",
       " 'Sri Lanka',\n",
       " 'Sudan',\n",
       " 'Sudáfrica',\n",
       " 'Suecia',\n",
       " 'Suiza',\n",
       " 'Sultanate of Zanzibar',\n",
       " 'Swaziland',\n",
       " 'Sweden',\n",
       " 'Switzerland',\n",
       " 'Syria',\n",
       " 'Taifa of Murcia',\n",
       " 'Taiwan',\n",
       " 'Tajik Soviet Socialist Republic',\n",
       " 'Tajikistan',\n",
       " 'Tanzania',\n",
       " 'Tennessee',\n",
       " 'Territorios Palestinos',\n",
       " 'Texas',\n",
       " 'Thailand',\n",
       " 'The Bahamas',\n",
       " 'Trinidad and Tobago',\n",
       " 'Trinidad y Tobago',\n",
       " 'Tunisia',\n",
       " 'Turkey',\n",
       " 'Turquía',\n",
       " 'Túnez',\n",
       " 'Ucrania',\n",
       " 'Uganda',\n",
       " 'Ukraine',\n",
       " \"Ukrainian People's Republic\",\n",
       " 'Ukrainian Soviet Socialist Republic',\n",
       " 'United Kingdom',\n",
       " 'United States',\n",
       " 'Unión Soviética',\n",
       " 'Uruguay',\n",
       " 'Utah',\n",
       " 'Uzbekistan',\n",
       " 'Uzbekistán',\n",
       " 'Vatican City',\n",
       " 'Venezuela',\n",
       " 'Vermont',\n",
       " 'Viceroyalty of New Granada',\n",
       " 'Vietnam',\n",
       " 'Virginia',\n",
       " 'Virreinato de Nueva Granada',\n",
       " 'Washington (State)',\n",
       " 'Weimar Republic',\n",
       " 'Wisconsin',\n",
       " 'Württemberg',\n",
       " 'Zambia',\n",
       " 'Zimbabwe',\n",
       " 'África Occidental Portuguesa'}"
      ]
     },
     "execution_count": 55,
     "metadata": {},
     "output_type": "execute_result"
    }
   ],
   "source": [
    "unmapped"
   ]
  },
  {
   "cell_type": "code",
   "execution_count": null,
   "metadata": {
    "collapsed": true
   },
   "outputs": [],
   "source": [
    "# Correct unmapped\n",
    "\n",
    "mappings['Alemania'] = 'Germany'\n",
    "mappings['Antigua Atenas'] = 'Greek'\n",
    "mappings['Antigua Roma'] = 'Italy'\n",
    "mappings['Arabia Saudita'] = 'Saudi Arabia'\n",
    "mappings['Azerbaiyán'] = 'Azerbaijan'\n",
    "mappings['Basque Country (greater region)'] = 'Spain'\n",
    "mappings['Brasil'] = 'Brazil'\n",
    "mappings['British Empire'] = 'United Kingdom'\n",
    "mappings['Bélgica'] = 'Belgium'\n",
    "mappings['Canadá'] = 'Canada'\n",
    "mappings['Congo Belga'] = 'Belgian Congo'\n",
    "mappings['Croacia'] = 'Croatia'\n",
    "mappings['Crown of Aragon'] = 'Spain'\n",
    "mappings['Crown of Castile'] = 'Spain'\n",
    "mappings['Dinamarca'] = 'Denmark'\n",
    "mappings['First Czechoslovak Republic'] = 'Czechoslovakia'\n",
    "mappings['First French Empire'] = 'France'\n",
    "mappings['First Hungarian Republic'] = 'Hungary'\n",
    "mappings['First Portuguese Republic'] = 'Portugal'\n",
    "mappings['Free and Independent State of Cundinamarca'] = 'Colombia'\n",
    "mappings['French First Republic'] = 'France'\n",
    "mappings['French Third Republic'] = 'France'\n",
    "mappings['French colonial empire'] = 'France'\n",
    "mappings['German Confederation'] = 'Germany'\n",
    "mappings['German Empire'] = 'Germany'\n",
    "mappings['Grecia'] = 'Greece'\n",
    "mappings['Haití'] = 'Haiti'\n",
    "mappings['Holy Roman Empire'] = 'Italy'\n",
    "mappings['Hungría'] = 'Hungary'\n",
    "mappings['Imperio Otomano'] = 'Ottoman Empire'\n",
    "mappings['Imperio alemán'] = 'Germany'\n",
    "mappings['Imperio austrohúngaro'] = 'Austria'\n",
    "mappings['Imperio otomano'] = 'Ottoman Empire'\n",
    "mappings['Imperio romano'] = 'Italy'\n",
    "mappings['Imperio ruso'] = 'Russia'\n",
    "mappings['Irak'] = 'Iraq'\n",
    "mappings['Irlanda'] = 'Ireland'\n",
    "mappings['Irán'] = 'Iran'\n",
    "mappings['Japón'] = 'Japan'\n",
    "mappings['Kingdom of Great Britain'] = 'United Kingdom'\n",
    "mappings['Kingdom of Yugoslavia'] = 'Yugoslavia'\n",
    "mappings['Korea (South)'] = 'South Korea'\n",
    "mappings['Korea, Republic of'] = 'South Korea'\n",
    "mappings['Libia'] = 'Libya'\n",
    "mappings['Lituania'] = 'Lithuania'\n",
    "mappings['Líbano'] = 'Lebanon'\n",
    "mappings['Mandato británico de Palestina'] = 'Palestine'\n",
    "mappings['Mandatory Palestine'] = 'Palestine'\n",
    "mappings['Marruecos'] = 'Morocco'\n",
    "mappings['México'] = 'Mexico'\n",
    "mappings['Noruega'] = 'Norway'\n",
    "mappings['Palestinian National Authority'] = 'Palestine'\n",
    "mappings['Palestinian Territory, Occupied'] = 'Palestine'\n",
    "mappings['Panamá'] = 'Panama'\n",
    "mappings['Países Bajos'] = 'Netherlands'\n",
    "mappings['Perú'] = 'Peru'\n",
    "mappings['Polonia'] = 'Poland'\n",
    "mappings['Reino Unido'] = 'United Kingdom'\n",
    "mappings['Reino de Inglaterra'] = 'England'\n",
    "mappings['Reino de Prusia'] = 'Prussia'\n",
    "mappings['Reino de Yugoslavia'] = 'Yugoslavia'\n",
    "mappings['República Checa'] = 'Czech Republic'\n",
    "mappings['República romana'] = 'Italy'\n",
    "mappings['Rumania'] = 'Romania'\n",
    "mappings['Rusia'] = 'Russia'\n",
    "mappings['Sacro Imperio Romano Germánico'] = 'Germany'\n",
    "mappings['Second French Empire'] = 'France'\n",
    "mappings['Second Hellenic Republic'] = 'Greece'\n",
    "mappings['Second Polish Republic'] = 'Poland'\n",
    "mappings['Socialist Federal Republic of Yugoslavia'] = 'Yugoslavia'\n",
    "mappings['Soviet Union'] = 'Russia'\n",
    "mappings['Spanish Empire'] = 'Spain'\n",
    "mappings['Sudáfrica'] = 'South Africa'\n",
    "mappings['Suecia'] = 'Sweden'\n",
    "mappings['Suiza'] = 'Switzerland'\n",
    "mappings['Tajik Soviet Socialist Republic'] = 'Tajikistan'\n",
    "mappings['Territorios Palestinos'] = 'Palestine'\n",
    "mappings[\"Ukrainian People's Republic\"] = 'Ukraine'\n",
    "mappings['Ukrainian Soviet Socialist Republic'] = 'Ukraine'\n",
    "mappings['Unión Soviética'] = 'Russia'\n",
    "mappings['Uzbekistán'] = 'Uzbekistan'\n",
    "mappings['Virreinato de Nueva Granada'] = 'Viceroyalty of New Granada'"
   ]
  },
  {
   "cell_type": "markdown",
   "metadata": {},
   "source": [
    "# Obras por autor"
   ]
  },
  {
   "cell_type": "code",
   "execution_count": null,
   "metadata": {
    "collapsed": true
   },
   "outputs": [],
   "source": [
    "autores_df"
   ]
  },
  {
   "cell_type": "code",
   "execution_count": 15,
   "metadata": {
    "collapsed": false
   },
   "outputs": [
    {
     "data": {
      "text/plain": [
       "21055"
      ]
     },
     "execution_count": 15,
     "metadata": {},
     "output_type": "execute_result"
    }
   ],
   "source": [
    "autores_df.groupby('AUTOR')['TITULO'].count().size"
   ]
  },
  {
   "cell_type": "code",
   "execution_count": 66,
   "metadata": {
    "collapsed": true
   },
   "outputs": [],
   "source": [
    "obras_por_autor_df = autores_df.set_index('AUTOR')"
   ]
  },
  {
   "cell_type": "code",
   "execution_count": 67,
   "metadata": {
    "collapsed": false
   },
   "outputs": [
    {
     "data": {
      "text/plain": [
       "(70687, 3)"
      ]
     },
     "execution_count": 67,
     "metadata": {},
     "output_type": "execute_result"
    }
   ],
   "source": [
    "obras_por_autor_df.shape"
   ]
  },
  {
   "cell_type": "code",
   "execution_count": 68,
   "metadata": {
    "collapsed": false
   },
   "outputs": [
    {
     "data": {
      "text/html": [
       "<div>\n",
       "<table border=\"1\" class=\"dataframe\">\n",
       "  <thead>\n",
       "    <tr style=\"text-align: right;\">\n",
       "      <th></th>\n",
       "      <th>TITULO</th>\n",
       "      <th>PAIS_EJEMPLAR</th>\n",
       "      <th>PAIS_AUTOR</th>\n",
       "    </tr>\n",
       "    <tr>\n",
       "      <th>AUTOR</th>\n",
       "      <th></th>\n",
       "      <th></th>\n",
       "      <th></th>\n",
       "    </tr>\n",
       "  </thead>\n",
       "  <tbody>\n",
       "    <tr>\n",
       "      <th>Martina Badstuber</th>\n",
       "      <td>Adivina en qué pais ...</td>\n",
       "      <td>Spain</td>\n",
       "      <td>Germany</td>\n",
       "    </tr>\n",
       "    <tr>\n",
       "      <th>Antón Fortes Torres</th>\n",
       "      <td>Humo</td>\n",
       "      <td>Spain</td>\n",
       "      <td>Spain</td>\n",
       "    </tr>\n",
       "    <tr>\n",
       "      <th>Helen Cooper</th>\n",
       "      <td>Galleta para perros</td>\n",
       "      <td>Spain</td>\n",
       "      <td>United Kingdom</td>\n",
       "    </tr>\n",
       "    <tr>\n",
       "      <th>Cyril Pedrosa</th>\n",
       "      <td>Autobio</td>\n",
       "      <td>Spain</td>\n",
       "      <td>France</td>\n",
       "    </tr>\n",
       "    <tr>\n",
       "      <th>Fina Casalderrey</th>\n",
       "      <td>Félix, : el coleccionista de miedos</td>\n",
       "      <td>Spain</td>\n",
       "      <td>Spain</td>\n",
       "    </tr>\n",
       "  </tbody>\n",
       "</table>\n",
       "</div>"
      ],
      "text/plain": [
       "                                                  TITULO PAIS_EJEMPLAR  \\\n",
       "AUTOR                                                                    \n",
       "Martina Badstuber                Adivina en qué pais ...         Spain   \n",
       "Antón Fortes Torres                                 Humo         Spain   \n",
       "Helen Cooper                         Galleta para perros         Spain   \n",
       "Cyril Pedrosa                                    Autobio         Spain   \n",
       "Fina Casalderrey     Félix, : el coleccionista de miedos         Spain   \n",
       "\n",
       "                         PAIS_AUTOR  \n",
       "AUTOR                                \n",
       "Martina Badstuber           Germany  \n",
       "Antón Fortes Torres           Spain  \n",
       "Helen Cooper         United Kingdom  \n",
       "Cyril Pedrosa                France  \n",
       "Fina Casalderrey              Spain  "
      ]
     },
     "execution_count": 68,
     "metadata": {},
     "output_type": "execute_result"
    }
   ],
   "source": [
    "obras_por_autor_df.head()"
   ]
  },
  {
   "cell_type": "code",
   "execution_count": 69,
   "metadata": {
    "collapsed": false
   },
   "outputs": [
    {
     "data": {
      "text/html": [
       "<div>\n",
       "<table border=\"1\" class=\"dataframe\">\n",
       "  <thead>\n",
       "    <tr style=\"text-align: right;\">\n",
       "      <th></th>\n",
       "      <th>TITULO</th>\n",
       "      <th>PAIS_EJEMPLAR</th>\n",
       "      <th>PAIS_AUTOR</th>\n",
       "    </tr>\n",
       "    <tr>\n",
       "      <th>AUTOR</th>\n",
       "      <th></th>\n",
       "      <th></th>\n",
       "      <th></th>\n",
       "    </tr>\n",
       "  </thead>\n",
       "  <tbody>\n",
       "    <tr>\n",
       "      <th>Aaron Copland</th>\n",
       "      <td>Cómo escuchar la música</td>\n",
       "      <td>Colombia</td>\n",
       "      <td>United States of America</td>\n",
       "    </tr>\n",
       "    <tr>\n",
       "      <th>Aaron Copland</th>\n",
       "      <td>A Copland celebration chamber music and rariti...</td>\n",
       "      <td>United States</td>\n",
       "      <td>United States of America</td>\n",
       "    </tr>\n",
       "    <tr>\n",
       "      <th>Aaron Copland</th>\n",
       "      <td>A Copland celebration famous orchestral and ch...</td>\n",
       "      <td>United States</td>\n",
       "      <td>United States of America</td>\n",
       "    </tr>\n",
       "    <tr>\n",
       "      <th>Aaron Copland</th>\n",
       "      <td>A Copland celebration vocal and choral works v...</td>\n",
       "      <td>United States</td>\n",
       "      <td>United States of America</td>\n",
       "    </tr>\n",
       "    <tr>\n",
       "      <th>Aaron Copland</th>\n",
       "      <td>Appalachian spring (suite)</td>\n",
       "      <td>United Kingdom</td>\n",
       "      <td>United States of America</td>\n",
       "    </tr>\n",
       "    <tr>\n",
       "      <th>Aaron Copland</th>\n",
       "      <td>Symphony no.3 (1944-46)</td>\n",
       "      <td>United States</td>\n",
       "      <td>United States of America</td>\n",
       "    </tr>\n",
       "    <tr>\n",
       "      <th>Aaron Copland</th>\n",
       "      <td>Clarinet Concerto</td>\n",
       "      <td>United States</td>\n",
       "      <td>United States of America</td>\n",
       "    </tr>\n",
       "    <tr>\n",
       "      <th>Aaron Copland</th>\n",
       "      <td>Rodeo</td>\n",
       "      <td>United States</td>\n",
       "      <td>United States of America</td>\n",
       "    </tr>\n",
       "    <tr>\n",
       "      <th>Aaron Copland</th>\n",
       "      <td>John Henry a railroad ballad for Orchestra</td>\n",
       "      <td>United States</td>\n",
       "      <td>United States of America</td>\n",
       "    </tr>\n",
       "    <tr>\n",
       "      <th>Aaron Copland</th>\n",
       "      <td>The tender land</td>\n",
       "      <td>United Kingdom</td>\n",
       "      <td>United States of America</td>\n",
       "    </tr>\n",
       "  </tbody>\n",
       "</table>\n",
       "</div>"
      ],
      "text/plain": [
       "                                                          TITULO  \\\n",
       "AUTOR                                                              \n",
       "Aaron Copland                            Cómo escuchar la música   \n",
       "Aaron Copland  A Copland celebration chamber music and rariti...   \n",
       "Aaron Copland  A Copland celebration famous orchestral and ch...   \n",
       "Aaron Copland  A Copland celebration vocal and choral works v...   \n",
       "Aaron Copland                         Appalachian spring (suite)   \n",
       "Aaron Copland                            Symphony no.3 (1944-46)   \n",
       "Aaron Copland                                  Clarinet Concerto   \n",
       "Aaron Copland                                              Rodeo   \n",
       "Aaron Copland         John Henry a railroad ballad for Orchestra   \n",
       "Aaron Copland                                    The tender land   \n",
       "\n",
       "                PAIS_EJEMPLAR                PAIS_AUTOR  \n",
       "AUTOR                                                    \n",
       "Aaron Copland        Colombia  United States of America  \n",
       "Aaron Copland   United States  United States of America  \n",
       "Aaron Copland   United States  United States of America  \n",
       "Aaron Copland   United States  United States of America  \n",
       "Aaron Copland  United Kingdom  United States of America  \n",
       "Aaron Copland   United States  United States of America  \n",
       "Aaron Copland   United States  United States of America  \n",
       "Aaron Copland   United States  United States of America  \n",
       "Aaron Copland   United States  United States of America  \n",
       "Aaron Copland  United Kingdom  United States of America  "
      ]
     },
     "execution_count": 69,
     "metadata": {},
     "output_type": "execute_result"
    }
   ],
   "source": [
    "obras_por_autor_df.ix['Aaron Copland']"
   ]
  },
  {
   "cell_type": "code",
   "execution_count": 70,
   "metadata": {
    "collapsed": false
   },
   "outputs": [
    {
     "data": {
      "text/plain": [
       "TITULO                El lobo y la corona\n",
       "PAIS_EJEMPLAR                       Spain\n",
       "PAIS_AUTOR       United States of America\n",
       "Name: A. A. Attanasio, dtype: object"
      ]
     },
     "execution_count": 70,
     "metadata": {},
     "output_type": "execute_result"
    }
   ],
   "source": [
    "obras_por_autor_df.ix['A. A. Attanasio']"
   ]
  },
  {
   "cell_type": "code",
   "execution_count": null,
   "metadata": {
    "collapsed": true
   },
   "outputs": [],
   "source": []
  },
  {
   "cell_type": "code",
   "execution_count": 2,
   "metadata": {
    "collapsed": true
   },
   "outputs": [],
   "source": [
    "def get_pais_autor_data_wkd(name, lang):\n",
    "    template = \"\"\"\n",
    "        PREFIX wd: <http://www.wikidata.org/entity/>\n",
    "        PREFIX wdt: <http://www.wikidata.org/prop/direct/>\n",
    "        PREFIX rdfs: <http://www.w3.org/2000/01/rdf-schema#>\n",
    "\n",
    "        SELECT ?authorLabel ?countryLabel\n",
    "        WHERE {{\n",
    "            BIND(\"{0}\"@{1} AS ?authorLabel) .\n",
    "            ?author rdfs:label ?authorLabel .\n",
    "            ?author wdt:P31 wd:Q5 .\n",
    "            OPTIONAL {{ ?author wdt:P106 wd:Q36180 . }}\n",
    "            ?author wdt:P19 ?pob .\n",
    "            ?pob wdt:P17 ?country .\n",
    "            ?country rdfs:label ?countryLabel .\n",
    "            FILTER(lang(?countryLabel)=\"{1}\")\n",
    "        }}\n",
    "    \"\"\"\n",
    "    query = template.format(name, lang)\n",
    "    url = 'https://query.wikidata.org/bigdata/namespace/wdq/sparql'\n",
    "    data = requests.get(url, params={'query': query, 'format': 'json'}).json()\n",
    "    return data\n",
    "\n",
    "sparql_dbp = SPARQLWrapper(\"http://dbpedia.org/sparql\")\n",
    "\n",
    "def get_pais_autor_data_dbp(name, lang):\n",
    "    template = \"\"\"\n",
    "        PREFIX dbo: <http://dbpedia.org/ontology/>\n",
    "        PREFIX dbp: <http://dbpedia.org/property/>\n",
    "        PREFIX rdf: <http://www.w3.org/1999/02/22-rdf-syntax-ns#>\n",
    "        PREFIX rdfs: <http://www.w3.org/2000/01/rdf-schema#>\n",
    "\n",
    "        SELECT ?authorLabel ?countryLabel\n",
    "        WHERE {{\n",
    "            BIND(\"{0}\"@{1} AS ?authorLabel) .\n",
    "            ?author rdfs:label ?authorLabel .\n",
    "            ?author rdf:type dbo:Person .\n",
    "            OPTIONAL {{ ?author rdf:type dbo:Writer . }}\n",
    "            ?author dbp:birthPlace ?pob .\n",
    "            ?pob rdf:type dbo:Country .\n",
    "            ?pob rdfs:label ?countryLabel .\n",
    "            FILTER(lang(?countryLabel)=\"{1}\")\n",
    "        }}\n",
    "    \"\"\"\n",
    "    query = template.format(name, lang)\n",
    "    sparql_dbp.setQuery(query)\n",
    "    sparql_dbp.setReturnFormat(JSON)\n",
    "    data = sparql_dbp.query().convert()\n",
    "    return data\n",
    "\n",
    "def get_pais_autor_data(db, name, lang):\n",
    "    try:\n",
    "        if db == 'wdt':\n",
    "            data = get_pais_autor_data_wkd(name, lang)\n",
    "        elif db == 'dbp':\n",
    "            data = get_pais_autor_data_dbp(name, lang)\n",
    "\n",
    "        results = set(d['countryLabel']['value'] for d in data['results']['bindings'])\n",
    "        if len(results) == 0:\n",
    "            result = 'UNKOWN'\n",
    "        elif len(results) == 1:\n",
    "            result = results.pop()\n",
    "        else:\n",
    "            print('MáS DE UN PAíS PARA', name, ':', results)\n",
    "            result = results.pop()\n",
    "    except:\n",
    "        print('ERROR EN SPARQL PARA', name)\n",
    "        result = 'UNKOWN'\n",
    "    return result\n",
    "\n",
    "def choose(opt_list):\n",
    "    return Counter(opt_list).most_common(1)[0][0]\n",
    "\n",
    "# def get_pais_autor(name):\n",
    "#     r = 'DESCONOCIDO'\n",
    "#     opt_dict = {}\n",
    "#     for lang in ['en', 'es']:\n",
    "#         opt_dict[lang] = {}\n",
    "#         for db in ['dbp', 'wdt']:\n",
    "#             opt_dict[lang][db] = get_pais_autor_data(db, name, lang)\n",
    "#         opts = opt_dict[lang].values()\n",
    "#         if all(map(lambda x: x != 'UNKOWN', opts)):\n",
    "#             r = choose(opts)\n",
    "#             break\n",
    "#     if r == 'DESCONOCIDO':\n",
    "#         for lang in ['en', 'es']:\n",
    "#             opts = opt_dict[lang].values()\n",
    "#             if any(map(lambda x: x != 'UNKOWN', opts)):\n",
    "#                 opts = [opt for opt in opts if opt != 'UNKOWN']\n",
    "#                 r = choose(opts)\n",
    "#                 break\n",
    "#     return opt_dict, r\n",
    "\n",
    "def get_pais_autor(name):\n",
    "    for lang in ['en', 'es']:\n",
    "        for db in ['dbp', 'wdt']:\n",
    "            r = get_pais_autor_data(db, name, lang)\n",
    "            if r != 'UNKOWN':\n",
    "                return r\n",
    "    return 'DESCONOCIDO'"
   ]
  },
  {
   "cell_type": "code",
   "execution_count": 3,
   "metadata": {
    "collapsed": false
   },
   "outputs": [
    {
     "data": {
      "text/plain": [
       "'DESCONOCIDO'"
      ]
     },
     "execution_count": 3,
     "metadata": {},
     "output_type": "execute_result"
    }
   ],
   "source": [
    "get_pais_autor('Mario Gómez Torrente')"
   ]
  },
  {
   "cell_type": "code",
   "execution_count": 83,
   "metadata": {
    "collapsed": false
   },
   "outputs": [
    {
     "data": {
      "text/plain": [
       "'Grecia'"
      ]
     },
     "execution_count": 83,
     "metadata": {},
     "output_type": "execute_result"
    }
   ],
   "source": [
    "get_pais_autor('Aristóteles')"
   ]
  },
  {
   "cell_type": "code",
   "execution_count": 84,
   "metadata": {
    "collapsed": false
   },
   "outputs": [
    {
     "data": {
      "text/plain": [
       "'Spain'"
      ]
     },
     "execution_count": 84,
     "metadata": {},
     "output_type": "execute_result"
    }
   ],
   "source": [
    "get_pais_autor('Miguel de Cervantes')"
   ]
  },
  {
   "cell_type": "code",
   "execution_count": 85,
   "metadata": {
    "collapsed": false
   },
   "outputs": [
    {
     "data": {
      "text/plain": [
       "'Grecia'"
      ]
     },
     "execution_count": 85,
     "metadata": {},
     "output_type": "execute_result"
    }
   ],
   "source": [
    "get_pais_autor('Aristóteles')"
   ]
  },
  {
   "cell_type": "code",
   "execution_count": 54,
   "metadata": {
    "collapsed": false
   },
   "outputs": [
    {
     "data": {
      "text/plain": [
       "122892"
      ]
     },
     "execution_count": 54,
     "metadata": {},
     "output_type": "execute_result"
    }
   ],
   "source": [
    "autores_df[autores_df['PAIS_AUTOR'] == 'DESCONOCIDO']['AUTOR'].nunique()"
   ]
  },
  {
   "cell_type": "code",
   "execution_count": 55,
   "metadata": {
    "collapsed": false
   },
   "outputs": [
    {
     "data": {
      "text/plain": [
       "148860"
      ]
     },
     "execution_count": 55,
     "metadata": {},
     "output_type": "execute_result"
    }
   ],
   "source": [
    "prestamos_df['AUTOR'].nunique()"
   ]
  },
  {
   "cell_type": "code",
   "execution_count": 57,
   "metadata": {
    "collapsed": false
   },
   "outputs": [
    {
     "data": {
      "text/plain": [
       "25968"
      ]
     },
     "execution_count": 57,
     "metadata": {},
     "output_type": "execute_result"
    }
   ],
   "source": [
    "148860 - 122892"
   ]
  },
  {
   "cell_type": "code",
   "execution_count": null,
   "metadata": {
    "collapsed": true
   },
   "outputs": [],
   "source": []
  }
 ],
 "metadata": {
  "kernelspec": {
   "display_name": "Python 3",
   "language": "python",
   "name": "python3"
  },
  "language_info": {
   "codemirror_mode": {
    "name": "ipython",
    "version": 3
   },
   "file_extension": ".py",
   "mimetype": "text/x-python",
   "name": "python",
   "nbconvert_exporter": "python",
   "pygments_lexer": "ipython3",
   "version": "3.4.3"
  }
 },
 "nbformat": 4,
 "nbformat_minor": 1
}
