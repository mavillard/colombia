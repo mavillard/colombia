{
 "cells": [
  {
   "cell_type": "code",
   "execution_count": 1,
   "metadata": {
    "collapsed": true
   },
   "outputs": [],
   "source": [
    "import csv\n",
    "import os\n",
    "from collections import defaultdict\n",
    "from datetime import datetime\n",
    "from datetime import timedelta\n",
    "\n",
    "import matplotlib\n",
    "import numpy as np\n",
    "import networkx as nx\n",
    "import pandas as pd\n",
    "import seaborn as sns\n",
    "from matplotlib import pyplot as plt"
   ]
  },
  {
   "cell_type": "code",
   "execution_count": 2,
   "metadata": {
    "collapsed": true
   },
   "outputs": [],
   "source": [
    "total_colums = [\n",
    "    # Ejemplar\n",
    "    'TITULO', 'AUTOR', 'EDITORIAL', 'SUCURSAL', 'DESC_SUCURSAL', 'COD_BARRAS_LIBRO', 'NUM_TITULO', 'SIG_TOPOGRAFICA',\n",
    "    'DEWEY', 'II_SUMARIO', 'I_SUMARIO', 'EDICION', 'LOCALIZACION_EJEMPLAR', 'DESC_LOCALIZACION_EJEMPLAR', 'POLITICA',\n",
    "    'DESC_POLITICA_EJEMPLAR', 'ISBN', 'FECHA_REGISTRO_EJEMPLAR', 'FECHA_ADICION_EJEMPLAR', 'FECHA_PUB',\n",
    "    'ESTADO_EJEMPLAR', 'PAIS_EJEMPLAR',\n",
    "    # Usuario (I)\n",
    "    'OCUPACION', 'NIVEL_EDUCACION', 'AREA_ESTUDIO',\n",
    "    # Prestamo (I)\n",
    "    'SUCURSAL_PRESTAMO', 'SUCURSAL_DEVOLUCION',\n",
    "    # Usuario (II)\n",
    "    'SUCURSAL_DEL_LECTOR', 'COD_BARRAS_LECTOR', 'CATEGORÍA',\n",
    "    # Prestamo (II)\n",
    "    'FECHA_PRESTAMO', 'FECHA_REAL_DEVOLUCION',\n",
    "]"
   ]
  },
  {
   "cell_type": "code",
   "execution_count": 3,
   "metadata": {
    "collapsed": true
   },
   "outputs": [],
   "source": [
    "used_colums = [\n",
    "    # Ejemplar\n",
    "    'TITULO', 'AUTOR', 'SUCURSAL', 'COD_BARRAS_LIBRO', 'DEWEY', 'DESC_LOCALIZACION_EJEMPLAR',\n",
    "    'FECHA_PUB','PAIS_EJEMPLAR',\n",
    "    # Usuario (I)\n",
    "    'OCUPACION','NIVEL_EDUCACION','AREA_ESTUDIO',\n",
    "    # Prestamo (I)\n",
    "    'SUCURSAL_PRESTAMO','SUCURSAL_DEVOLUCION',\n",
    "    # Usuario (II)\n",
    "    'SUCURSAL_DEL_LECTOR', 'COD_BARRAS_LECTOR', 'CATEGORÍA',\n",
    "    # Prestamo (II)\n",
    "    'FECHA_PRESTAMO','FECHA_REAL_DEVOLUCION'\n",
    "]"
   ]
  },
  {
   "cell_type": "markdown",
   "metadata": {},
   "source": [
    "# Datos limpios"
   ]
  },
  {
   "cell_type": "code",
   "execution_count": 4,
   "metadata": {
    "collapsed": false
   },
   "outputs": [
    {
     "name": "stdout",
     "output_type": "stream",
     "text": [
      "CPU times: user 25.9 s, sys: 1.42 s, total: 27.3 s\n",
      "Wall time: 27.4 s\n"
     ]
    }
   ],
   "source": [
    "%%time\n",
    "\n",
    "dtypes = {\n",
    "    'TITULO': str,\n",
    "    'AUTOR': str,\n",
    "    'SUCURSAL': str,\n",
    "    'COD_BARRAS_LIBRO': str,\n",
    "    'DEWEY': str,\n",
    "    'DESC_LOCALIZACION_EJEMPLAR': str,\n",
    "    'FECHA_PUB': str,\n",
    "    'PAIS_EJEMPLAR': str,\n",
    "    'OCUPACION': str,\n",
    "    'NIVEL_EDUCACION': str,\n",
    "    'AREA_ESTUDIO': str,\n",
    "    'SUCURSAL_PRESTAMO': str,\n",
    "    'SUCURSAL_DEVOLUCION': str,\n",
    "    'SUCURSAL_DEL_LECTOR': str,\n",
    "    'COD_BARRAS_LECTOR': str,\n",
    "    'CATEGORÍA': str,\n",
    "    'FECHA_PRESTAMO': str,\n",
    "    'FECHA_REAL_DEVOLUCION': str,\n",
    "    'DATE_PRESTAMO': pd.tslib.Timestamp,\n",
    "    'DATE_DEVOLUCION': pd.tslib.Timestamp,\n",
    "}\n",
    "\n",
    "prestamos_df = pd.read_csv('prestamos_totales.csv', header=0, dtype=dtypes, parse_dates=['DATE_PRESTAMO', 'DATE_DEVOLUCION'])\n",
    "prestamos_df = prestamos_df.fillna('')"
   ]
  },
  {
   "cell_type": "code",
   "execution_count": 5,
   "metadata": {
    "collapsed": false
   },
   "outputs": [
    {
     "data": {
      "text/plain": [
       "(3054360, 20)"
      ]
     },
     "execution_count": 5,
     "metadata": {},
     "output_type": "execute_result"
    }
   ],
   "source": [
    "prestamos_df.shape"
   ]
  },
  {
   "cell_type": "code",
   "execution_count": 6,
   "metadata": {
    "collapsed": false
   },
   "outputs": [
    {
     "data": {
      "text/html": [
       "<div>\n",
       "<table border=\"1\" class=\"dataframe\">\n",
       "  <thead>\n",
       "    <tr style=\"text-align: right;\">\n",
       "      <th></th>\n",
       "      <th>TITULO</th>\n",
       "      <th>AUTOR</th>\n",
       "      <th>SUCURSAL</th>\n",
       "      <th>COD_BARRAS_LIBRO</th>\n",
       "      <th>DEWEY</th>\n",
       "      <th>DESC_LOCALIZACION_EJEMPLAR</th>\n",
       "      <th>FECHA_PUB</th>\n",
       "      <th>PAIS_EJEMPLAR</th>\n",
       "      <th>OCUPACION</th>\n",
       "      <th>NIVEL_EDUCACION</th>\n",
       "      <th>AREA_ESTUDIO</th>\n",
       "      <th>SUCURSAL_PRESTAMO</th>\n",
       "      <th>SUCURSAL_DEVOLUCION</th>\n",
       "      <th>SUCURSAL_DEL_LECTOR</th>\n",
       "      <th>COD_BARRAS_LECTOR</th>\n",
       "      <th>CATEGORÍA</th>\n",
       "      <th>FECHA_PRESTAMO</th>\n",
       "      <th>FECHA_REAL_DEVOLUCION</th>\n",
       "      <th>DATE_PRESTAMO</th>\n",
       "      <th>DATE_DEVOLUCION</th>\n",
       "    </tr>\n",
       "  </thead>\n",
       "  <tbody>\n",
       "    <tr>\n",
       "      <th>0</th>\n",
       "      <td>Un bicho extraño</td>\n",
       "      <td>Daporta, Mon.</td>\n",
       "      <td>ARM</td>\n",
       "      <td>2298061</td>\n",
       "      <td>863</td>\n",
       "      <td>Infantil</td>\n",
       "      <td>2010</td>\n",
       "      <td>sp</td>\n",
       "      <td></td>\n",
       "      <td></td>\n",
       "      <td></td>\n",
       "      <td>ARM</td>\n",
       "      <td>ARM</td>\n",
       "      <td>ARM</td>\n",
       "      <td>88429527</td>\n",
       "      <td>CTA</td>\n",
       "      <td>22/01/2015</td>\n",
       "      <td>04/02/2015</td>\n",
       "      <td>2015-01-22</td>\n",
       "      <td>2015-02-04</td>\n",
       "    </tr>\n",
       "    <tr>\n",
       "      <th>1</th>\n",
       "      <td>Un bicho extraño</td>\n",
       "      <td>Daporta, Mon.</td>\n",
       "      <td>ARM</td>\n",
       "      <td>2298061</td>\n",
       "      <td>863</td>\n",
       "      <td>Infantil</td>\n",
       "      <td>2010</td>\n",
       "      <td>sp</td>\n",
       "      <td></td>\n",
       "      <td></td>\n",
       "      <td></td>\n",
       "      <td>ARM</td>\n",
       "      <td>ARM</td>\n",
       "      <td>ARM</td>\n",
       "      <td>88416381</td>\n",
       "      <td>CTA</td>\n",
       "      <td>31/03/2015</td>\n",
       "      <td>07/04/2015</td>\n",
       "      <td>2015-03-31</td>\n",
       "      <td>2015-04-07</td>\n",
       "    </tr>\n",
       "    <tr>\n",
       "      <th>2</th>\n",
       "      <td>Quisiera tener ...</td>\n",
       "      <td>Zoboli, Giovanna.</td>\n",
       "      <td>ARM</td>\n",
       "      <td>2284458</td>\n",
       "      <td>853</td>\n",
       "      <td>Infantil</td>\n",
       "      <td>2010</td>\n",
       "      <td>mx</td>\n",
       "      <td></td>\n",
       "      <td></td>\n",
       "      <td></td>\n",
       "      <td>ARM</td>\n",
       "      <td>ARM</td>\n",
       "      <td>ARM</td>\n",
       "      <td>88381353</td>\n",
       "      <td>CTA</td>\n",
       "      <td>07/11/2015</td>\n",
       "      <td>17/11/2015</td>\n",
       "      <td>2015-11-07</td>\n",
       "      <td>2015-11-17</td>\n",
       "    </tr>\n",
       "    <tr>\n",
       "      <th>3</th>\n",
       "      <td>Johannes Gutenberg</td>\n",
       "      <td>Borràs Perelló, Lluís.</td>\n",
       "      <td>ARM</td>\n",
       "      <td>2288922</td>\n",
       "      <td>925</td>\n",
       "      <td>Infantil</td>\n",
       "      <td>2010</td>\n",
       "      <td>sp</td>\n",
       "      <td>Empleado</td>\n",
       "      <td>Técnico</td>\n",
       "      <td>Adm. de empresas</td>\n",
       "      <td>ARM</td>\n",
       "      <td>ARM</td>\n",
       "      <td>ARM</td>\n",
       "      <td>88007424</td>\n",
       "      <td>CEM</td>\n",
       "      <td>16/01/2015</td>\n",
       "      <td>16/01/2015</td>\n",
       "      <td>2015-01-16</td>\n",
       "      <td>2015-01-16</td>\n",
       "    </tr>\n",
       "    <tr>\n",
       "      <th>4</th>\n",
       "      <td>La fantástica leyenda de: la princesa y el dragón</td>\n",
       "      <td>Alins, Sonia.</td>\n",
       "      <td>ARM</td>\n",
       "      <td>2288896</td>\n",
       "      <td>863</td>\n",
       "      <td>Infantil</td>\n",
       "      <td>2010</td>\n",
       "      <td>sp</td>\n",
       "      <td></td>\n",
       "      <td></td>\n",
       "      <td></td>\n",
       "      <td>ARM</td>\n",
       "      <td>ARM</td>\n",
       "      <td>ARM</td>\n",
       "      <td>88429529</td>\n",
       "      <td>CTA</td>\n",
       "      <td>21/01/2015</td>\n",
       "      <td>28/01/2015</td>\n",
       "      <td>2015-01-21</td>\n",
       "      <td>2015-01-28</td>\n",
       "    </tr>\n",
       "  </tbody>\n",
       "</table>\n",
       "</div>"
      ],
      "text/plain": [
       "                                              TITULO                   AUTOR  \\\n",
       "0                                   Un bicho extraño           Daporta, Mon.   \n",
       "1                                   Un bicho extraño           Daporta, Mon.   \n",
       "2                                 Quisiera tener ...       Zoboli, Giovanna.   \n",
       "3                                 Johannes Gutenberg  Borràs Perelló, Lluís.   \n",
       "4  La fantástica leyenda de: la princesa y el dragón           Alins, Sonia.   \n",
       "\n",
       "  SUCURSAL COD_BARRAS_LIBRO DEWEY DESC_LOCALIZACION_EJEMPLAR FECHA_PUB  \\\n",
       "0      ARM          2298061   863                   Infantil      2010   \n",
       "1      ARM          2298061   863                   Infantil      2010   \n",
       "2      ARM          2284458   853                   Infantil      2010   \n",
       "3      ARM          2288922   925                   Infantil      2010   \n",
       "4      ARM          2288896   863                   Infantil      2010   \n",
       "\n",
       "  PAIS_EJEMPLAR OCUPACION NIVEL_EDUCACION      AREA_ESTUDIO SUCURSAL_PRESTAMO  \\\n",
       "0            sp                                                           ARM   \n",
       "1            sp                                                           ARM   \n",
       "2            mx                                                           ARM   \n",
       "3            sp  Empleado         Técnico  Adm. de empresas               ARM   \n",
       "4            sp                                                           ARM   \n",
       "\n",
       "  SUCURSAL_DEVOLUCION SUCURSAL_DEL_LECTOR COD_BARRAS_LECTOR CATEGORÍA  \\\n",
       "0                 ARM                 ARM          88429527       CTA   \n",
       "1                 ARM                 ARM          88416381       CTA   \n",
       "2                 ARM                 ARM          88381353       CTA   \n",
       "3                 ARM                 ARM          88007424       CEM   \n",
       "4                 ARM                 ARM          88429529       CTA   \n",
       "\n",
       "  FECHA_PRESTAMO FECHA_REAL_DEVOLUCION DATE_PRESTAMO DATE_DEVOLUCION  \n",
       "0     22/01/2015            04/02/2015    2015-01-22      2015-02-04  \n",
       "1     31/03/2015            07/04/2015    2015-03-31      2015-04-07  \n",
       "2     07/11/2015            17/11/2015    2015-11-07      2015-11-17  \n",
       "3     16/01/2015            16/01/2015    2015-01-16      2015-01-16  \n",
       "4     21/01/2015            28/01/2015    2015-01-21      2015-01-28  "
      ]
     },
     "execution_count": 6,
     "metadata": {},
     "output_type": "execute_result"
    }
   ],
   "source": [
    "prestamos_df.head()"
   ]
  },
  {
   "cell_type": "markdown",
   "metadata": {},
   "source": [
    "# Libros viajeros"
   ]
  },
  {
   "cell_type": "code",
   "execution_count": 7,
   "metadata": {
    "collapsed": true
   },
   "outputs": [],
   "source": [
    "sucursales = {\n",
    "    'ARM': {'name': 'Armenia', 'latitude': 4.53, 'longitude': -75.68},\n",
    "    'BAR': {'name': 'Barranquilla', 'latitude': 10.963889, 'longitude': -74.796389},\n",
    "    'BLAA': {'name': 'Luis Angel Arango', 'latitude': 4.59677, 'longitude': -74.072848},\n",
    "    'BUC': {'name': 'Bucaramanga', 'latitude': 7.133333, 'longitude': -73},\n",
    "    'BUE': {'name': 'Buenaventura', 'latitude': 3.877222, 'longitude': -77.026667},\n",
    "    'CAL': {'name': 'Cali', 'latitude': 3.420556, 'longitude': -76.522222},\n",
    "    'CAR': {'name': 'Cartagena', 'latitude': 10.4, 'longitude': -75.5},\n",
    "    'CASAGO': {'name': 'Casa Gómez Campuzano', 'latitude': 4.6628468, 'longitude': -74.0512116},\n",
    "    'CATMAN': {'name': 'Catalogación y Mantenimiento de Colecciones', 'latitude': 4.5769749, 'longitude': -74.0880581},\n",
    "    'CUC': {'name': 'Cúcuta', 'latitude': 7.894167, 'longitude': -72.503889},\n",
    "    'ESPE': {'name': 'Especial material audiovisual', 'latitude': 4.59677, 'longitude': -74.072848},\n",
    "    'FLO': {'name': 'Florencia', 'latitude': 1.614167, 'longitude': -75.611667},\n",
    "    'GIR': {'name': 'Girardot', 'latitude': 4.305, 'longitude': -74.801667},\n",
    "    'HON': {'name': 'Honda', 'latitude': 5.204167, 'longitude': -74.741667},\n",
    "    'IBA': {'name': 'Ibagué', 'latitude': 4.433333, 'longitude': -75.233333},\n",
    "    'IEC': {'name': 'Investigaciones Económicas', 'latitude': 4.5769749, 'longitude': -74.0880581},\n",
    "    'IPI': {'name': 'Ipiales', 'latitude': 0.830278, 'longitude': -77.644444},\n",
    "    'LET': {'name': 'Leticia', 'latitude': -4.205278, 'longitude': -69.932778},\n",
    "    'MAN': {'name': 'Manizales', 'latitude': 5.1, 'longitude': -75.55},\n",
    "    'MED': {'name': 'Medellín', 'latitude': 6.230833, 'longitude': -75.590556},\n",
    "    'MON': {'name': 'Montería', 'latitude': 8.75, 'longitude': -75.883333},\n",
    "    'NEI': {'name': 'Neiva', 'latitude': 2.998611, 'longitude': -75.304444},\n",
    "    'PAS': {'name': 'Pasto', 'latitude': 1.207778, 'longitude': -77.277222},\n",
    "    'PER': {'name': 'Pereira', 'latitude': 4.814278, 'longitude': -75.694558},\n",
    "    'POP': {'name': 'Popayán', 'latitude': 2.454167, 'longitude': -76.609167},\n",
    "    'QUI': {'name': 'Quibdó', 'latitude': 5.692222, 'longitude': -76.658056},\n",
    "    'RIO': {'name': 'Riohacha', 'latitude': 11.544167, 'longitude': -72.906944},\n",
    "    'SAN': {'name': 'San Andrés', 'latitude': 12.583333, 'longitude': -81.7},\n",
    "    'SIN': {'name': 'Sincelejo', 'latitude': 9.295, 'longitude': -75.396111},\n",
    "    'STM': {'name': 'Santa Marta', 'latitude': 11.241944, 'longitude': -74.205278},\n",
    "    'TUN': {'name': 'Tunja', 'latitude': 5.533333, 'longitude': -73.366667},\n",
    "    'VAL': {'name': 'Valledupar', 'latitude': 10.483333, 'longitude': -73.25},\n",
    "    'VIL': {'name': 'Villavicencio', 'latitude': 4.15, 'longitude': -73.633333},\n",
    "}"
   ]
  },
  {
   "cell_type": "code",
   "execution_count": 8,
   "metadata": {
    "collapsed": true
   },
   "outputs": [],
   "source": [
    "sucursales_bogota_no_blaa = ['CASAGO', 'IEC', 'ESPE', 'CATMAN']"
   ]
  },
  {
   "cell_type": "code",
   "execution_count": 9,
   "metadata": {
    "collapsed": true
   },
   "outputs": [],
   "source": [
    "sucursales_bogota = sucursales_bogota_no_blaa + ['BLAA']"
   ]
  },
  {
   "cell_type": "markdown",
   "metadata": {},
   "source": [
    "## Modelos de viaje"
   ]
  },
  {
   "cell_type": "code",
   "execution_count": 10,
   "metadata": {
    "collapsed": true
   },
   "outputs": [],
   "source": [
    "# MODEL  SUC_LIBRO  SUC_PRéST  SUC_DEVOLUCIóN    %\n",
    "#  m1       A          B          C             0.23%\n",
    "#  m2       B          B          C             2.05%\n",
    "#  m3       A          B          B            13.61%\n",
    "#  m4       A          B          A             2.20%\n",
    "#  m5       B          B          B            81.91%"
   ]
  },
  {
   "cell_type": "markdown",
   "metadata": {},
   "source": [
    "#### Modelo 1"
   ]
  },
  {
   "cell_type": "code",
   "execution_count": 11,
   "metadata": {
    "collapsed": true
   },
   "outputs": [],
   "source": [
    "prestamos_m1_df = prestamos_df[\n",
    "    (prestamos_df['SUCURSAL'] != prestamos_df['SUCURSAL_PRESTAMO']) &\n",
    "    (prestamos_df['SUCURSAL_PRESTAMO'] != prestamos_df['SUCURSAL_DEVOLUCION']) &\n",
    "    (prestamos_df['SUCURSAL_DEVOLUCION'] != prestamos_df['SUCURSAL'])\n",
    "]"
   ]
  },
  {
   "cell_type": "code",
   "execution_count": 12,
   "metadata": {
    "collapsed": false
   },
   "outputs": [
    {
     "data": {
      "text/plain": [
       "7063"
      ]
     },
     "execution_count": 12,
     "metadata": {},
     "output_type": "execute_result"
    }
   ],
   "source": [
    "len(prestamos_m1_df)"
   ]
  },
  {
   "cell_type": "code",
   "execution_count": 13,
   "metadata": {
    "collapsed": false
   },
   "outputs": [
    {
     "data": {
      "text/plain": [
       "'0.23%'"
      ]
     },
     "execution_count": 13,
     "metadata": {},
     "output_type": "execute_result"
    }
   ],
   "source": [
    "per = 100 * len(prestamos_m1_df) / len(prestamos_df)\n",
    "'%.2f%%' % per"
   ]
  },
  {
   "cell_type": "markdown",
   "metadata": {},
   "source": [
    "#### Modelo 2"
   ]
  },
  {
   "cell_type": "code",
   "execution_count": 14,
   "metadata": {
    "collapsed": true
   },
   "outputs": [],
   "source": [
    "prestamos_m2_df = prestamos_df[\n",
    "    (prestamos_df['SUCURSAL'] == prestamos_df['SUCURSAL_PRESTAMO']) &\n",
    "    (prestamos_df['SUCURSAL_PRESTAMO'] != prestamos_df['SUCURSAL_DEVOLUCION']) &\n",
    "    (prestamos_df['SUCURSAL_DEVOLUCION'] != prestamos_df['SUCURSAL'])\n",
    "]"
   ]
  },
  {
   "cell_type": "code",
   "execution_count": 15,
   "metadata": {
    "collapsed": false
   },
   "outputs": [
    {
     "data": {
      "text/plain": [
       "62598"
      ]
     },
     "execution_count": 15,
     "metadata": {},
     "output_type": "execute_result"
    }
   ],
   "source": [
    "len(prestamos_m2_df)"
   ]
  },
  {
   "cell_type": "code",
   "execution_count": 16,
   "metadata": {
    "collapsed": false
   },
   "outputs": [
    {
     "data": {
      "text/plain": [
       "'2.05%'"
      ]
     },
     "execution_count": 16,
     "metadata": {},
     "output_type": "execute_result"
    }
   ],
   "source": [
    "per = 100 * len(prestamos_m2_df) / len(prestamos_df)\n",
    "'%.2f%%' % per"
   ]
  },
  {
   "cell_type": "markdown",
   "metadata": {},
   "source": [
    "#### Modelo 3"
   ]
  },
  {
   "cell_type": "code",
   "execution_count": 17,
   "metadata": {
    "collapsed": true
   },
   "outputs": [],
   "source": [
    "prestamos_m3_df = prestamos_df[\n",
    "    (prestamos_df['SUCURSAL'] != prestamos_df['SUCURSAL_PRESTAMO']) &\n",
    "    (prestamos_df['SUCURSAL_PRESTAMO'] == prestamos_df['SUCURSAL_DEVOLUCION']) &\n",
    "    (prestamos_df['SUCURSAL_DEVOLUCION'] != prestamos_df['SUCURSAL'])\n",
    "]"
   ]
  },
  {
   "cell_type": "code",
   "execution_count": 18,
   "metadata": {
    "collapsed": false
   },
   "outputs": [
    {
     "data": {
      "text/plain": [
       "415679"
      ]
     },
     "execution_count": 18,
     "metadata": {},
     "output_type": "execute_result"
    }
   ],
   "source": [
    "len(prestamos_m3_df)"
   ]
  },
  {
   "cell_type": "code",
   "execution_count": 19,
   "metadata": {
    "collapsed": false
   },
   "outputs": [
    {
     "data": {
      "text/plain": [
       "'13.61%'"
      ]
     },
     "execution_count": 19,
     "metadata": {},
     "output_type": "execute_result"
    }
   ],
   "source": [
    "per = 100 * len(prestamos_m3_df) / len(prestamos_df)\n",
    "'%.2f%%' % per"
   ]
  },
  {
   "cell_type": "markdown",
   "metadata": {},
   "source": [
    "#### Modelo 4"
   ]
  },
  {
   "cell_type": "code",
   "execution_count": 20,
   "metadata": {
    "collapsed": true
   },
   "outputs": [],
   "source": [
    "prestamos_m4_df = prestamos_df[\n",
    "    (prestamos_df['SUCURSAL'] != prestamos_df['SUCURSAL_PRESTAMO']) &\n",
    "    (prestamos_df['SUCURSAL_PRESTAMO'] != prestamos_df['SUCURSAL_DEVOLUCION']) &\n",
    "    (prestamos_df['SUCURSAL_DEVOLUCION'] == prestamos_df['SUCURSAL'])\n",
    "]"
   ]
  },
  {
   "cell_type": "code",
   "execution_count": 21,
   "metadata": {
    "collapsed": false
   },
   "outputs": [
    {
     "data": {
      "text/plain": [
       "67289"
      ]
     },
     "execution_count": 21,
     "metadata": {},
     "output_type": "execute_result"
    }
   ],
   "source": [
    "len(prestamos_m4_df)"
   ]
  },
  {
   "cell_type": "code",
   "execution_count": 22,
   "metadata": {
    "collapsed": false
   },
   "outputs": [
    {
     "data": {
      "text/plain": [
       "'2.20%'"
      ]
     },
     "execution_count": 22,
     "metadata": {},
     "output_type": "execute_result"
    }
   ],
   "source": [
    "per = 100 * len(prestamos_m4_df) / len(prestamos_df)\n",
    "'%.2f%%' % per"
   ]
  },
  {
   "cell_type": "markdown",
   "metadata": {},
   "source": [
    "#### Modelo 5"
   ]
  },
  {
   "cell_type": "code",
   "execution_count": 23,
   "metadata": {
    "collapsed": true
   },
   "outputs": [],
   "source": [
    "prestamos_m5_df = prestamos_df[\n",
    "    (prestamos_df['SUCURSAL'] == prestamos_df['SUCURSAL_PRESTAMO']) &\n",
    "    (prestamos_df['SUCURSAL_PRESTAMO'] == prestamos_df['SUCURSAL_DEVOLUCION']) &\n",
    "    (prestamos_df['SUCURSAL_DEVOLUCION'] == prestamos_df['SUCURSAL'])\n",
    "]"
   ]
  },
  {
   "cell_type": "code",
   "execution_count": 24,
   "metadata": {
    "collapsed": false
   },
   "outputs": [
    {
     "data": {
      "text/plain": [
       "2501731"
      ]
     },
     "execution_count": 24,
     "metadata": {},
     "output_type": "execute_result"
    }
   ],
   "source": [
    "len(prestamos_m5_df)"
   ]
  },
  {
   "cell_type": "code",
   "execution_count": 25,
   "metadata": {
    "collapsed": false
   },
   "outputs": [
    {
     "data": {
      "text/plain": [
       "'81.91%'"
      ]
     },
     "execution_count": 25,
     "metadata": {},
     "output_type": "execute_result"
    }
   ],
   "source": [
    "per = 100 * len(prestamos_m5_df) / len(prestamos_df)\n",
    "'%.2f%%' % per"
   ]
  },
  {
   "cell_type": "markdown",
   "metadata": {},
   "source": [
    "#### Total"
   ]
  },
  {
   "cell_type": "code",
   "execution_count": 26,
   "metadata": {
    "collapsed": false
   },
   "outputs": [
    {
     "data": {
      "text/plain": [
       "3054360"
      ]
     },
     "execution_count": 26,
     "metadata": {},
     "output_type": "execute_result"
    }
   ],
   "source": [
    "len(prestamos_m1_df) + len(prestamos_m2_df) + len(prestamos_m3_df) + len(prestamos_m4_df) + len(prestamos_m5_df)"
   ]
  },
  {
   "cell_type": "code",
   "execution_count": 27,
   "metadata": {
    "collapsed": false
   },
   "outputs": [
    {
     "data": {
      "text/plain": [
       "3054360"
      ]
     },
     "execution_count": 27,
     "metadata": {},
     "output_type": "execute_result"
    }
   ],
   "source": [
    "len(prestamos_df)"
   ]
  },
  {
   "cell_type": "markdown",
   "metadata": {},
   "source": [
    "#### % préstamos sin viaje"
   ]
  },
  {
   "cell_type": "code",
   "execution_count": 28,
   "metadata": {
    "collapsed": false
   },
   "outputs": [
    {
     "data": {
      "text/plain": [
       "'81.91%'"
      ]
     },
     "execution_count": 28,
     "metadata": {},
     "output_type": "execute_result"
    }
   ],
   "source": [
    "per = 100 * len(prestamos_m5_df) / len(prestamos_df)\n",
    "'%.2f%%' % per"
   ]
  },
  {
   "cell_type": "markdown",
   "metadata": {},
   "source": [
    "#### % préstamos con viaje"
   ]
  },
  {
   "cell_type": "code",
   "execution_count": 29,
   "metadata": {
    "collapsed": false
   },
   "outputs": [
    {
     "data": {
      "text/plain": [
       "'18.09%'"
      ]
     },
     "execution_count": 29,
     "metadata": {},
     "output_type": "execute_result"
    }
   ],
   "source": [
    "per = 100 * (len(prestamos_m1_df) + len(prestamos_m2_df) + len(prestamos_m3_df) + len(prestamos_m4_df)) / len(prestamos_df)\n",
    "'%.2f%%' % per"
   ]
  },
  {
   "cell_type": "markdown",
   "metadata": {},
   "source": [
    "### Modelo 1"
   ]
  },
  {
   "cell_type": "code",
   "execution_count": 30,
   "metadata": {
    "collapsed": false
   },
   "outputs": [
    {
     "name": "stdout",
     "output_type": "stream",
     "text": [
      "CPU times: user 1.9 s, sys: 0 ns, total: 1.9 s\n",
      "Wall time: 1.9 s\n"
     ]
    }
   ],
   "source": [
    "%%time\n",
    "\n",
    "g1 = nx.MultiDiGraph()\n",
    "\n",
    "for p in prestamos_m1_df.iterrows():\n",
    "    s_libro = p[1]['SUCURSAL']\n",
    "    s_prest = p[1]['SUCURSAL_PRESTAMO']\n",
    "    s_devol = p[1]['SUCURSAL_DEVOLUCION']\n",
    "    \n",
    "    if not g1.has_node(s_libro):\n",
    "        g1.add_node(\n",
    "            s_libro,\n",
    "            weight=0,\n",
    "            nombre=sucursales[s_libro]['name'],\n",
    "            latitude=sucursales[s_libro]['latitude'],\n",
    "            longitude=sucursales[s_libro]['longitude']\n",
    "        )\n",
    "    g1.node[s_libro]['weight'] += 1\n",
    "    if not g1.has_node(s_prest):\n",
    "        g1.add_node(\n",
    "            s_prest,\n",
    "            weight=0,\n",
    "            nombre=sucursales[s_prest]['name'],\n",
    "            latitude=sucursales[s_prest]['latitude'],\n",
    "            longitude=sucursales[s_prest]['longitude']\n",
    "        )\n",
    "    g1.node[s_prest]['weight'] += 1\n",
    "    if not g1.has_node(s_devol):\n",
    "        g1.add_node(\n",
    "            s_devol,\n",
    "            weight=0,\n",
    "            nombre=sucursales[s_devol]['name'],\n",
    "            latitude=sucursales[s_devol]['latitude'],\n",
    "            longitude=sucursales[s_devol]['longitude']\n",
    "        )\n",
    "    g1.node[s_devol]['weight'] += 1\n",
    "    \n",
    "    if s_libro != s_prest:\n",
    "        key = s_libro + '_' + s_prest + '_solicitud'\n",
    "        if not g1.has_edge(s_libro, s_prest, key):\n",
    "            g1.add_edge(s_libro, s_prest, key=key, label='solicitud', weight=0)\n",
    "        g1[s_libro][s_prest][key]['weight'] += 1\n",
    "    if s_prest != s_devol:\n",
    "        key = s_prest + '_' + s_devol + '_viaje'\n",
    "        if not g1.has_edge(s_prest, s_devol, key):\n",
    "            g1.add_edge(s_prest, s_devol, key=key, label='viaje', weight=0)\n",
    "        g1[s_prest][s_devol][key]['weight'] += 1\n",
    "#     if s_devol != s_libro:\n",
    "#         key = s_devol + '_' + s_libro + '_retorno'\n",
    "#         if not graph.has_edge(s_devol, s_libro, key):\n",
    "#             graph.add_edge(s_devol, s_libro, key=key, label='retorno', weight=0)\n",
    "#         graph[s_devol][s_libro][key]['weight'] += 1"
   ]
  },
  {
   "cell_type": "code",
   "execution_count": 31,
   "metadata": {
    "collapsed": false
   },
   "outputs": [
    {
     "data": {
      "text/plain": [
       "32"
      ]
     },
     "execution_count": 31,
     "metadata": {},
     "output_type": "execute_result"
    }
   ],
   "source": [
    "g1.number_of_nodes()"
   ]
  },
  {
   "cell_type": "code",
   "execution_count": 32,
   "metadata": {
    "collapsed": false
   },
   "outputs": [
    {
     "data": {
      "text/plain": [
       "680"
      ]
     },
     "execution_count": 32,
     "metadata": {},
     "output_type": "execute_result"
    }
   ],
   "source": [
    "g1.number_of_edges()"
   ]
  },
  {
   "cell_type": "code",
   "execution_count": 33,
   "metadata": {
    "collapsed": false
   },
   "outputs": [],
   "source": [
    "for s in sucursales_bogota_no_blaa:\n",
    "    if s in g1:\n",
    "        g1.remove_node(s)"
   ]
  },
  {
   "cell_type": "code",
   "execution_count": 34,
   "metadata": {
    "collapsed": false
   },
   "outputs": [
    {
     "data": {
      "text/plain": [
       "29"
      ]
     },
     "execution_count": 34,
     "metadata": {},
     "output_type": "execute_result"
    }
   ],
   "source": [
    "g1.number_of_nodes()"
   ]
  },
  {
   "cell_type": "code",
   "execution_count": 35,
   "metadata": {
    "collapsed": false
   },
   "outputs": [
    {
     "data": {
      "text/plain": [
       "535"
      ]
     },
     "execution_count": 35,
     "metadata": {},
     "output_type": "execute_result"
    }
   ],
   "source": [
    "g1.number_of_edges()"
   ]
  },
  {
   "cell_type": "code",
   "execution_count": 36,
   "metadata": {
    "collapsed": false
   },
   "outputs": [],
   "source": [
    "nx.write_gexf(g1, 'modelo1.gexf')"
   ]
  },
  {
   "cell_type": "markdown",
   "metadata": {},
   "source": [
    "### Modelo 2"
   ]
  },
  {
   "cell_type": "code",
   "execution_count": 37,
   "metadata": {
    "collapsed": false
   },
   "outputs": [
    {
     "name": "stdout",
     "output_type": "stream",
     "text": [
      "CPU times: user 11min 14s, sys: 1.22 s, total: 11min 15s\n",
      "Wall time: 11min 17s\n"
     ]
    }
   ],
   "source": [
    "%%time\n",
    "\n",
    "g2 = nx.MultiDiGraph()\n",
    "\n",
    "for p in prestamos_df.iterrows():\n",
    "    s_libro = p[1]['SUCURSAL']\n",
    "    s_prest = p[1]['SUCURSAL_PRESTAMO']\n",
    "    s_devol = p[1]['SUCURSAL_DEVOLUCION']\n",
    "    \n",
    "    if not g2.has_node(s_libro):\n",
    "        g2.add_node(\n",
    "            s_libro,\n",
    "            weight=0,\n",
    "            nombre=sucursales[s_libro]['name'],\n",
    "            latitude=sucursales[s_libro]['latitude'],\n",
    "            longitude=sucursales[s_libro]['longitude']\n",
    "        )\n",
    "    g2.node[s_libro]['weight'] += 1\n",
    "    if not g2.has_node(s_prest):\n",
    "        g2.add_node(\n",
    "            s_prest,\n",
    "            weight=0,\n",
    "            nombre=sucursales[s_prest]['name'],\n",
    "            latitude=sucursales[s_prest]['latitude'],\n",
    "            longitude=sucursales[s_prest]['longitude']\n",
    "        )\n",
    "    g2.node[s_prest]['weight'] += 1\n",
    "    if not g2.has_node(s_devol):\n",
    "        g2.add_node(\n",
    "            s_devol,\n",
    "            weight=0,\n",
    "            nombre=sucursales[s_devol]['name'],\n",
    "            latitude=sucursales[s_devol]['latitude'],\n",
    "            longitude=sucursales[s_devol]['longitude']\n",
    "        )\n",
    "    g2.node[s_devol]['weight'] += 1\n",
    "    \n",
    "    if s_libro != s_prest:\n",
    "        key = s_libro + '_' + s_prest + '_solicitud'\n",
    "        if not g2.has_edge(s_libro, s_prest, key):\n",
    "            g2.add_edge(s_libro, s_prest, key=key, label='solicitud', weight=0)\n",
    "        g2[s_libro][s_prest][key]['weight'] += 1\n",
    "    if s_prest != s_devol:\n",
    "        key = s_prest + '_' + s_devol + '_viaje'\n",
    "        if not g2.has_edge(s_prest, s_devol, key):\n",
    "            g2.add_edge(s_prest, s_devol, key=key, label='viaje', weight=0)\n",
    "        g2[s_prest][s_devol][key]['weight'] += 1\n",
    "#     if s_devol != s_libro:\n",
    "#         key = s_devol + '_' + s_libro + '_retorno'\n",
    "#         if not graph.has_edge(s_devol, s_libro, key):\n",
    "#             graph.add_edge(s_devol, s_libro, key=key, label='retorno', weight=0)\n",
    "#         graph[s_devol][s_libro][key]['weight'] += 1"
   ]
  },
  {
   "cell_type": "code",
   "execution_count": 38,
   "metadata": {
    "collapsed": false
   },
   "outputs": [
    {
     "data": {
      "text/plain": [
       "33"
      ]
     },
     "execution_count": 38,
     "metadata": {},
     "output_type": "execute_result"
    }
   ],
   "source": [
    "g2.number_of_nodes()"
   ]
  },
  {
   "cell_type": "code",
   "execution_count": 39,
   "metadata": {
    "collapsed": false
   },
   "outputs": [
    {
     "data": {
      "text/plain": [
       "1388"
      ]
     },
     "execution_count": 39,
     "metadata": {},
     "output_type": "execute_result"
    }
   ],
   "source": [
    "g2.number_of_edges()"
   ]
  },
  {
   "cell_type": "code",
   "execution_count": 40,
   "metadata": {
    "collapsed": true
   },
   "outputs": [],
   "source": [
    "for s in sucursales_bogota_no_blaa:\n",
    "    if s in g2:\n",
    "        g2.remove_node(s)"
   ]
  },
  {
   "cell_type": "code",
   "execution_count": 41,
   "metadata": {
    "collapsed": false
   },
   "outputs": [
    {
     "data": {
      "text/plain": [
       "29"
      ]
     },
     "execution_count": 41,
     "metadata": {},
     "output_type": "execute_result"
    }
   ],
   "source": [
    "g2.number_of_nodes()"
   ]
  },
  {
   "cell_type": "code",
   "execution_count": 42,
   "metadata": {
    "collapsed": false
   },
   "outputs": [
    {
     "data": {
      "text/plain": [
       "1188"
      ]
     },
     "execution_count": 42,
     "metadata": {},
     "output_type": "execute_result"
    }
   ],
   "source": [
    "g2.number_of_edges()"
   ]
  },
  {
   "cell_type": "code",
   "execution_count": 43,
   "metadata": {
    "collapsed": false
   },
   "outputs": [],
   "source": [
    "nx.write_gexf(g2, 'modelo2.gexf')"
   ]
  },
  {
   "cell_type": "markdown",
   "metadata": {},
   "source": [
    "### Modelo 3"
   ]
  },
  {
   "cell_type": "code",
   "execution_count": 44,
   "metadata": {
    "collapsed": false
   },
   "outputs": [
    {
     "name": "stdout",
     "output_type": "stream",
     "text": [
      "CPU times: user 8min 27s, sys: 938 ms, total: 8min 27s\n",
      "Wall time: 8min 28s\n"
     ]
    }
   ],
   "source": [
    "%%time\n",
    "\n",
    "g3 = nx.MultiDiGraph()\n",
    "\n",
    "for p in prestamos_df.iterrows():\n",
    "    s_libro = p[1]['SUCURSAL']\n",
    "    s_prest = p[1]['SUCURSAL_PRESTAMO']\n",
    "    s_devol = p[1]['SUCURSAL_DEVOLUCION']\n",
    "    \n",
    "    if not g3.has_node(s_libro):\n",
    "        g3.add_node(\n",
    "            s_libro,\n",
    "            weight=0,\n",
    "            nombre=sucursales[s_libro]['name'],\n",
    "            latitude=sucursales[s_libro]['latitude'],\n",
    "            longitude=sucursales[s_libro]['longitude']\n",
    "        )\n",
    "    g3.node[s_libro]['weight'] += 1\n",
    "    if not g3.has_node(s_prest):\n",
    "        g3.add_node(\n",
    "            s_prest,\n",
    "            weight=0,\n",
    "            nombre=sucursales[s_prest]['name'],\n",
    "            latitude=sucursales[s_prest]['latitude'],\n",
    "            longitude=sucursales[s_prest]['longitude']\n",
    "        )\n",
    "    g3.node[s_prest]['weight'] += 1\n",
    "    if not g3.has_node(s_devol):\n",
    "        g3.add_node(\n",
    "            s_devol,\n",
    "            weight=0,\n",
    "            nombre=sucursales[s_devol]['name'],\n",
    "            latitude=sucursales[s_devol]['latitude'],\n",
    "            longitude=sucursales[s_devol]['longitude']\n",
    "        )\n",
    "    g3.node[s_devol]['weight'] += 1\n",
    "    \n",
    "    if s_libro != s_prest:\n",
    "        key = s_libro + '_' + s_prest + '_solicitud'\n",
    "        if not g3.has_edge(s_libro, s_prest, key):\n",
    "            g3.add_edge(s_libro, s_prest, key=key, label='solicitud', weight=0)\n",
    "        g3[s_libro][s_prest][key]['weight'] += 1\n",
    "    if s_prest != s_devol:\n",
    "        key = s_prest + '_' + s_devol + '_viaje'\n",
    "        if not g3.has_edge(s_prest, s_devol, key):\n",
    "            g3.add_edge(s_prest, s_devol, key=key, label='viaje', weight=0)\n",
    "        g3[s_prest][s_devol][key]['weight'] += 1\n",
    "#     if s_devol != s_libro:\n",
    "#         key = s_devol + '_' + s_libro + '_retorno'\n",
    "#         if not graph.has_edge(s_devol, s_libro, key):\n",
    "#             graph.add_edge(s_devol, s_libro, key=key, label='retorno', weight=0)\n",
    "#         graph[s_devol][s_libro][key]['weight'] += 1"
   ]
  },
  {
   "cell_type": "code",
   "execution_count": 45,
   "metadata": {
    "collapsed": false
   },
   "outputs": [
    {
     "data": {
      "text/plain": [
       "33"
      ]
     },
     "execution_count": 45,
     "metadata": {},
     "output_type": "execute_result"
    }
   ],
   "source": [
    "g3.number_of_nodes()"
   ]
  },
  {
   "cell_type": "code",
   "execution_count": 46,
   "metadata": {
    "collapsed": false
   },
   "outputs": [
    {
     "data": {
      "text/plain": [
       "1388"
      ]
     },
     "execution_count": 46,
     "metadata": {},
     "output_type": "execute_result"
    }
   ],
   "source": [
    "g3.number_of_edges()"
   ]
  },
  {
   "cell_type": "code",
   "execution_count": 47,
   "metadata": {
    "collapsed": true
   },
   "outputs": [],
   "source": [
    "for s in sucursales_bogota_no_blaa:\n",
    "    if s in g3:\n",
    "        g3.remove_node(s)"
   ]
  },
  {
   "cell_type": "code",
   "execution_count": 48,
   "metadata": {
    "collapsed": false
   },
   "outputs": [
    {
     "data": {
      "text/plain": [
       "29"
      ]
     },
     "execution_count": 48,
     "metadata": {},
     "output_type": "execute_result"
    }
   ],
   "source": [
    "g3.number_of_nodes()"
   ]
  },
  {
   "cell_type": "code",
   "execution_count": 49,
   "metadata": {
    "collapsed": false
   },
   "outputs": [
    {
     "data": {
      "text/plain": [
       "1188"
      ]
     },
     "execution_count": 49,
     "metadata": {},
     "output_type": "execute_result"
    }
   ],
   "source": [
    "g3.number_of_edges()"
   ]
  },
  {
   "cell_type": "code",
   "execution_count": 50,
   "metadata": {
    "collapsed": false
   },
   "outputs": [],
   "source": [
    "nx.write_gexf(g3, 'modelo3.gexf')"
   ]
  },
  {
   "cell_type": "markdown",
   "metadata": {},
   "source": [
    "### Modelo 4"
   ]
  },
  {
   "cell_type": "code",
   "execution_count": 51,
   "metadata": {
    "collapsed": false
   },
   "outputs": [
    {
     "name": "stdout",
     "output_type": "stream",
     "text": [
      "CPU times: user 8min 18s, sys: 717 ms, total: 8min 19s\n",
      "Wall time: 8min 18s\n"
     ]
    }
   ],
   "source": [
    "%%time\n",
    "\n",
    "g4 = nx.MultiDiGraph()\n",
    "\n",
    "for p in prestamos_df.iterrows():\n",
    "    s_libro = p[1]['SUCURSAL']\n",
    "    s_prest = p[1]['SUCURSAL_PRESTAMO']\n",
    "    s_devol = p[1]['SUCURSAL_DEVOLUCION']\n",
    "    \n",
    "    if not g4.has_node(s_libro):\n",
    "        g4.add_node(\n",
    "            s_libro,\n",
    "            weight=0,\n",
    "            nombre=sucursales[s_libro]['name'],\n",
    "            latitude=sucursales[s_libro]['latitude'],\n",
    "            longitude=sucursales[s_libro]['longitude']\n",
    "        )\n",
    "    g4.node[s_libro]['weight'] += 1\n",
    "    if not g4.has_node(s_prest):\n",
    "        g4.add_node(\n",
    "            s_prest,\n",
    "            weight=0,\n",
    "            nombre=sucursales[s_prest]['name'],\n",
    "            latitude=sucursales[s_prest]['latitude'],\n",
    "            longitude=sucursales[s_prest]['longitude']\n",
    "        )\n",
    "    g4.node[s_prest]['weight'] += 1\n",
    "    if not g4.has_node(s_devol):\n",
    "        g4.add_node(\n",
    "            s_devol,\n",
    "            weight=0,\n",
    "            nombre=sucursales[s_devol]['name'],\n",
    "            latitude=sucursales[s_devol]['latitude'],\n",
    "            longitude=sucursales[s_devol]['longitude']\n",
    "        )\n",
    "    g4.node[s_devol]['weight'] += 1\n",
    "    \n",
    "    if s_libro != s_prest:\n",
    "        key = s_libro + '_' + s_prest + '_solicitud'\n",
    "        if not g4.has_edge(s_libro, s_prest, key):\n",
    "            g4.add_edge(s_libro, s_prest, key=key, label='solicitud', weight=0)\n",
    "        g4[s_libro][s_prest][key]['weight'] += 1\n",
    "    if s_prest != s_devol:\n",
    "        key = s_prest + '_' + s_devol + '_viaje'\n",
    "        if not g4.has_edge(s_prest, s_devol, key):\n",
    "            g4.add_edge(s_prest, s_devol, key=key, label='viaje', weight=0)\n",
    "        g4[s_prest][s_devol][key]['weight'] += 1\n",
    "#     if s_devol != s_libro:\n",
    "#         key = s_devol + '_' + s_libro + '_retorno'\n",
    "#         if not graph.has_edge(s_devol, s_libro, key):\n",
    "#             graph.add_edge(s_devol, s_libro, key=key, label='retorno', weight=0)\n",
    "#         graph[s_devol][s_libro][key]['weight'] += 1"
   ]
  },
  {
   "cell_type": "code",
   "execution_count": 52,
   "metadata": {
    "collapsed": false
   },
   "outputs": [
    {
     "data": {
      "text/plain": [
       "33"
      ]
     },
     "execution_count": 52,
     "metadata": {},
     "output_type": "execute_result"
    }
   ],
   "source": [
    "g4.number_of_nodes()"
   ]
  },
  {
   "cell_type": "code",
   "execution_count": 53,
   "metadata": {
    "collapsed": false
   },
   "outputs": [
    {
     "data": {
      "text/plain": [
       "1388"
      ]
     },
     "execution_count": 53,
     "metadata": {},
     "output_type": "execute_result"
    }
   ],
   "source": [
    "g4.number_of_edges()"
   ]
  },
  {
   "cell_type": "code",
   "execution_count": 54,
   "metadata": {
    "collapsed": true
   },
   "outputs": [],
   "source": [
    "for s in sucursales_bogota_no_blaa:\n",
    "    if s in g4:\n",
    "        g4.remove_node(s)"
   ]
  },
  {
   "cell_type": "code",
   "execution_count": 55,
   "metadata": {
    "collapsed": false
   },
   "outputs": [
    {
     "data": {
      "text/plain": [
       "29"
      ]
     },
     "execution_count": 55,
     "metadata": {},
     "output_type": "execute_result"
    }
   ],
   "source": [
    "g4.number_of_nodes()"
   ]
  },
  {
   "cell_type": "code",
   "execution_count": 56,
   "metadata": {
    "collapsed": false
   },
   "outputs": [
    {
     "data": {
      "text/plain": [
       "1188"
      ]
     },
     "execution_count": 56,
     "metadata": {},
     "output_type": "execute_result"
    }
   ],
   "source": [
    "g4.number_of_edges()"
   ]
  },
  {
   "cell_type": "code",
   "execution_count": 57,
   "metadata": {
    "collapsed": false
   },
   "outputs": [],
   "source": [
    "nx.write_gexf(g4, 'modelo4.gexf')"
   ]
  },
  {
   "cell_type": "code",
   "execution_count": null,
   "metadata": {
    "collapsed": true
   },
   "outputs": [],
   "source": []
  }
 ],
 "metadata": {
  "kernelspec": {
   "display_name": "Python 3",
   "language": "python",
   "name": "python3"
  },
  "language_info": {
   "codemirror_mode": {
    "name": "ipython",
    "version": 3
   },
   "file_extension": ".py",
   "mimetype": "text/x-python",
   "name": "python",
   "nbconvert_exporter": "python",
   "pygments_lexer": "ipython3",
   "version": "3.4.3"
  }
 },
 "nbformat": 4,
 "nbformat_minor": 1
}
