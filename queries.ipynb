{
 "cells": [
  {
   "cell_type": "code",
   "execution_count": 1,
   "metadata": {
    "collapsed": true
   },
   "outputs": [],
   "source": [
    "import csv\n",
    "import os\n",
    "from collections import defaultdict\n",
    "from datetime import datetime\n",
    "from datetime import timedelta\n",
    "\n",
    "import matplotlib\n",
    "import networkx as nx\n",
    "import numpy as np\n",
    "import pandas as pd\n",
    "import seaborn as sns\n",
    "from matplotlib import pyplot as plt"
   ]
  },
  {
   "cell_type": "code",
   "execution_count": 2,
   "metadata": {
    "collapsed": true
   },
   "outputs": [],
   "source": [
    "sns.set()"
   ]
  },
  {
   "cell_type": "code",
   "execution_count": 3,
   "metadata": {
    "collapsed": true
   },
   "outputs": [],
   "source": [
    "%matplotlib inline"
   ]
  },
  {
   "cell_type": "markdown",
   "metadata": {},
   "source": [
    "## Loading data"
   ]
  },
  {
   "cell_type": "markdown",
   "metadata": {},
   "source": [
    "### Prestamos"
   ]
  },
  {
   "cell_type": "code",
   "execution_count": 4,
   "metadata": {},
   "outputs": [
    {
     "name": "stdout",
     "output_type": "stream",
     "text": [
      "CPU times: user 12.5 s, sys: 1.19 s, total: 13.7 s\n",
      "Wall time: 13.9 s\n"
     ]
    }
   ],
   "source": [
    "%%time\n",
    "\n",
    "\n",
    "dtypes = {\n",
    "    'TITULO': str,\n",
    "    'AUTOR': str,\n",
    "    'SUCURSAL': str,\n",
    "    'COD_BARRAS_LIBRO': str,\n",
    "    'DEWEY': str,\n",
    "    'DESC_LOCALIZACION_EJEMPLAR': str,\n",
    "    'FECHA_PUB': str,\n",
    "    'PAIS_EJEMPLAR': str,\n",
    "    'OCUPACION': str,\n",
    "    'NIVEL_EDUCACION': str,\n",
    "    'AREA_ESTUDIO': str,\n",
    "    'SUCURSAL_PRESTAMO': str,\n",
    "    'SUCURSAL_DEVOLUCION': str,\n",
    "    'SUCURSAL_DEL_LECTOR': str,\n",
    "    'COD_BARRAS_LECTOR': str,\n",
    "    'CATEGORÍA': str,\n",
    "    'FECHA_PRESTAMO': str,\n",
    "    'FECHA_REAL_DEVOLUCION': str,\n",
    "    'DATE_PRESTAMO': str,\n",
    "    'DATE_DEVOLUCION': str,\n",
    "}\n",
    "\n",
    "prestamos_df = pd.read_csv('prestamos_totales.csv', header=0, dtype=dtypes)\n",
    "prestamos_df = prestamos_df.fillna('')"
   ]
  },
  {
   "cell_type": "code",
   "execution_count": 5,
   "metadata": {},
   "outputs": [
    {
     "data": {
      "text/plain": [
       "(3054360, 20)"
      ]
     },
     "execution_count": 5,
     "metadata": {},
     "output_type": "execute_result"
    }
   ],
   "source": [
    "prestamos_df.shape"
   ]
  },
  {
   "cell_type": "code",
   "execution_count": 6,
   "metadata": {},
   "outputs": [
    {
     "data": {
      "text/html": [
       "<div>\n",
       "<style scoped>\n",
       "    .dataframe tbody tr th:only-of-type {\n",
       "        vertical-align: middle;\n",
       "    }\n",
       "\n",
       "    .dataframe tbody tr th {\n",
       "        vertical-align: top;\n",
       "    }\n",
       "\n",
       "    .dataframe thead th {\n",
       "        text-align: right;\n",
       "    }\n",
       "</style>\n",
       "<table border=\"1\" class=\"dataframe\">\n",
       "  <thead>\n",
       "    <tr style=\"text-align: right;\">\n",
       "      <th></th>\n",
       "      <th>TITULO</th>\n",
       "      <th>AUTOR</th>\n",
       "      <th>SUCURSAL</th>\n",
       "      <th>COD_BARRAS_LIBRO</th>\n",
       "      <th>DEWEY</th>\n",
       "      <th>DESC_LOCALIZACION_EJEMPLAR</th>\n",
       "      <th>FECHA_PUB</th>\n",
       "      <th>PAIS_EJEMPLAR</th>\n",
       "      <th>OCUPACION</th>\n",
       "      <th>NIVEL_EDUCACION</th>\n",
       "      <th>AREA_ESTUDIO</th>\n",
       "      <th>SUCURSAL_PRESTAMO</th>\n",
       "      <th>SUCURSAL_DEVOLUCION</th>\n",
       "      <th>SUCURSAL_DEL_LECTOR</th>\n",
       "      <th>COD_BARRAS_LECTOR</th>\n",
       "      <th>CATEGORÍA</th>\n",
       "      <th>FECHA_PRESTAMO</th>\n",
       "      <th>FECHA_REAL_DEVOLUCION</th>\n",
       "      <th>DATE_PRESTAMO</th>\n",
       "      <th>DATE_DEVOLUCION</th>\n",
       "    </tr>\n",
       "  </thead>\n",
       "  <tbody>\n",
       "    <tr>\n",
       "      <th>0</th>\n",
       "      <td>Un bicho extraño</td>\n",
       "      <td>Daporta, Mon.</td>\n",
       "      <td>ARM</td>\n",
       "      <td>2298061</td>\n",
       "      <td>863</td>\n",
       "      <td>Infantil</td>\n",
       "      <td>2010</td>\n",
       "      <td>sp</td>\n",
       "      <td></td>\n",
       "      <td></td>\n",
       "      <td></td>\n",
       "      <td>ARM</td>\n",
       "      <td>ARM</td>\n",
       "      <td>ARM</td>\n",
       "      <td>88429527</td>\n",
       "      <td>CTA</td>\n",
       "      <td>22/01/2015</td>\n",
       "      <td>04/02/2015</td>\n",
       "      <td>2015-01-22</td>\n",
       "      <td>2015-02-04</td>\n",
       "    </tr>\n",
       "    <tr>\n",
       "      <th>1</th>\n",
       "      <td>Un bicho extraño</td>\n",
       "      <td>Daporta, Mon.</td>\n",
       "      <td>ARM</td>\n",
       "      <td>2298061</td>\n",
       "      <td>863</td>\n",
       "      <td>Infantil</td>\n",
       "      <td>2010</td>\n",
       "      <td>sp</td>\n",
       "      <td></td>\n",
       "      <td></td>\n",
       "      <td></td>\n",
       "      <td>ARM</td>\n",
       "      <td>ARM</td>\n",
       "      <td>ARM</td>\n",
       "      <td>88416381</td>\n",
       "      <td>CTA</td>\n",
       "      <td>31/03/2015</td>\n",
       "      <td>07/04/2015</td>\n",
       "      <td>2015-03-31</td>\n",
       "      <td>2015-04-07</td>\n",
       "    </tr>\n",
       "    <tr>\n",
       "      <th>2</th>\n",
       "      <td>Quisiera tener ...</td>\n",
       "      <td>Zoboli, Giovanna.</td>\n",
       "      <td>ARM</td>\n",
       "      <td>2284458</td>\n",
       "      <td>853</td>\n",
       "      <td>Infantil</td>\n",
       "      <td>2010</td>\n",
       "      <td>mx</td>\n",
       "      <td></td>\n",
       "      <td></td>\n",
       "      <td></td>\n",
       "      <td>ARM</td>\n",
       "      <td>ARM</td>\n",
       "      <td>ARM</td>\n",
       "      <td>88381353</td>\n",
       "      <td>CTA</td>\n",
       "      <td>07/11/2015</td>\n",
       "      <td>17/11/2015</td>\n",
       "      <td>2015-11-07</td>\n",
       "      <td>2015-11-17</td>\n",
       "    </tr>\n",
       "    <tr>\n",
       "      <th>3</th>\n",
       "      <td>Johannes Gutenberg</td>\n",
       "      <td>Borràs Perelló, Lluís.</td>\n",
       "      <td>ARM</td>\n",
       "      <td>2288922</td>\n",
       "      <td>925</td>\n",
       "      <td>Infantil</td>\n",
       "      <td>2010</td>\n",
       "      <td>sp</td>\n",
       "      <td>Empleado</td>\n",
       "      <td>Técnico</td>\n",
       "      <td>Adm. de empresas</td>\n",
       "      <td>ARM</td>\n",
       "      <td>ARM</td>\n",
       "      <td>ARM</td>\n",
       "      <td>88007424</td>\n",
       "      <td>CEM</td>\n",
       "      <td>16/01/2015</td>\n",
       "      <td>16/01/2015</td>\n",
       "      <td>2015-01-16</td>\n",
       "      <td>2015-01-16</td>\n",
       "    </tr>\n",
       "    <tr>\n",
       "      <th>4</th>\n",
       "      <td>La fantástica leyenda de: la princesa y el dragón</td>\n",
       "      <td>Alins, Sonia.</td>\n",
       "      <td>ARM</td>\n",
       "      <td>2288896</td>\n",
       "      <td>863</td>\n",
       "      <td>Infantil</td>\n",
       "      <td>2010</td>\n",
       "      <td>sp</td>\n",
       "      <td></td>\n",
       "      <td></td>\n",
       "      <td></td>\n",
       "      <td>ARM</td>\n",
       "      <td>ARM</td>\n",
       "      <td>ARM</td>\n",
       "      <td>88429529</td>\n",
       "      <td>CTA</td>\n",
       "      <td>21/01/2015</td>\n",
       "      <td>28/01/2015</td>\n",
       "      <td>2015-01-21</td>\n",
       "      <td>2015-01-28</td>\n",
       "    </tr>\n",
       "  </tbody>\n",
       "</table>\n",
       "</div>"
      ],
      "text/plain": [
       "                                              TITULO                   AUTOR  \\\n",
       "0                                   Un bicho extraño           Daporta, Mon.   \n",
       "1                                   Un bicho extraño           Daporta, Mon.   \n",
       "2                                 Quisiera tener ...       Zoboli, Giovanna.   \n",
       "3                                 Johannes Gutenberg  Borràs Perelló, Lluís.   \n",
       "4  La fantástica leyenda de: la princesa y el dragón           Alins, Sonia.   \n",
       "\n",
       "  SUCURSAL COD_BARRAS_LIBRO DEWEY DESC_LOCALIZACION_EJEMPLAR FECHA_PUB  \\\n",
       "0      ARM          2298061   863                   Infantil      2010   \n",
       "1      ARM          2298061   863                   Infantil      2010   \n",
       "2      ARM          2284458   853                   Infantil      2010   \n",
       "3      ARM          2288922   925                   Infantil      2010   \n",
       "4      ARM          2288896   863                   Infantil      2010   \n",
       "\n",
       "  PAIS_EJEMPLAR OCUPACION NIVEL_EDUCACION      AREA_ESTUDIO SUCURSAL_PRESTAMO  \\\n",
       "0            sp                                                           ARM   \n",
       "1            sp                                                           ARM   \n",
       "2            mx                                                           ARM   \n",
       "3            sp  Empleado         Técnico  Adm. de empresas               ARM   \n",
       "4            sp                                                           ARM   \n",
       "\n",
       "  SUCURSAL_DEVOLUCION SUCURSAL_DEL_LECTOR COD_BARRAS_LECTOR CATEGORÍA  \\\n",
       "0                 ARM                 ARM          88429527       CTA   \n",
       "1                 ARM                 ARM          88416381       CTA   \n",
       "2                 ARM                 ARM          88381353       CTA   \n",
       "3                 ARM                 ARM          88007424       CEM   \n",
       "4                 ARM                 ARM          88429529       CTA   \n",
       "\n",
       "  FECHA_PRESTAMO FECHA_REAL_DEVOLUCION DATE_PRESTAMO DATE_DEVOLUCION  \n",
       "0     22/01/2015            04/02/2015    2015-01-22      2015-02-04  \n",
       "1     31/03/2015            07/04/2015    2015-03-31      2015-04-07  \n",
       "2     07/11/2015            17/11/2015    2015-11-07      2015-11-17  \n",
       "3     16/01/2015            16/01/2015    2015-01-16      2015-01-16  \n",
       "4     21/01/2015            28/01/2015    2015-01-21      2015-01-28  "
      ]
     },
     "execution_count": 6,
     "metadata": {},
     "output_type": "execute_result"
    }
   ],
   "source": [
    "prestamos_df.head()"
   ]
  },
  {
   "cell_type": "markdown",
   "metadata": {},
   "source": [
    "### Sucursales"
   ]
  },
  {
   "cell_type": "code",
   "execution_count": 7,
   "metadata": {
    "collapsed": true
   },
   "outputs": [],
   "source": [
    "sucursales = {\n",
    "    'ARM': 'Armenia',\n",
    "    'BLAA': 'Luis Angel Arango',\n",
    "    'BUE': 'Buenaventura',\n",
    "    'CAL': 'Cali',\n",
    "    'CAR': 'Cartagena',\n",
    "    'CASAGO': 'Casa Gómez Campuzano',\n",
    "    'CATMAN': 'Catalogación y Mantenimiento de Colecciones',\n",
    "    'CUC': 'Cúcuta',\n",
    "    'FLO': 'Florencia',\n",
    "    'GIR': 'Girardot',\n",
    "    'HON': 'Honda',\n",
    "    'IBA': 'Ibagué',\n",
    "    'IEC': 'Investigaciones Económicas',\n",
    "    'IPI': 'Ipiales',\n",
    "    'LET': 'Leticia',\n",
    "    'MAN': 'Manizales',\n",
    "    'MED': 'Medellín',\n",
    "    'MON': 'Montería',\n",
    "    'NEI': 'Neiva',\n",
    "    'PAS': 'Pasto',\n",
    "    'PER': 'Pereira',\n",
    "    'POP': 'Popayán',\n",
    "    'QUI': 'Quibdó',\n",
    "    'RIO': 'Riohacha',\n",
    "    'SAN': 'San Andrés',\n",
    "    'SIN': 'Sincelejo',\n",
    "    'STM': 'Santa Marta',\n",
    "    'TUN': 'Tunja',\n",
    "    'VAL': 'Valledupar',\n",
    "}"
   ]
  },
  {
   "cell_type": "markdown",
   "metadata": {},
   "source": [
    "### Topics"
   ]
  },
  {
   "cell_type": "markdown",
   "metadata": {},
   "source": [
    "0. Class 000 - Computer science, information & general works\n",
    "1. Class 100 - Philosophy & psychology\n",
    "2. Class 200 - Religion\n",
    "3. Class 300 - Social sciences\n",
    "4. Class 400 - Language\n",
    "5. Class 500 - Science\n",
    "6. Class 600 - Technology\n",
    "7. Class 700 - Arts & recreation\n",
    "8. Class 800 - Literature\n",
    "9. Class 900 - History & geography"
   ]
  },
  {
   "cell_type": "code",
   "execution_count": 8,
   "metadata": {
    "collapsed": true
   },
   "outputs": [],
   "source": [
    "gdewey_dct = {\n",
    "    '0': 'Computer science,\\ninformation,\\n& general works',\n",
    "    '1': 'Philosophy & psychology',\n",
    "    '2': 'Religion',\n",
    "    '3': 'Social sciences',\n",
    "    '4': 'Language',\n",
    "    '5': 'Science',\n",
    "    '6': 'Technology',\n",
    "    '7': 'Arts & recreation',\n",
    "    '8': 'Literature',\n",
    "    '9': 'History & geography',\n",
    "}"
   ]
  },
  {
   "cell_type": "code",
   "execution_count": 9,
   "metadata": {
    "collapsed": true
   },
   "outputs": [],
   "source": [
    "def keys(d):\n",
    "    return sorted(d)\n",
    "\n",
    "def values(d):\n",
    "    return [d[k] for k in keys(d)]"
   ]
  },
  {
   "cell_type": "code",
   "execution_count": 10,
   "metadata": {
    "collapsed": true
   },
   "outputs": [],
   "source": [
    "topics = {}\n",
    "with open('dewey.txt') as f:\n",
    "    for line in f:\n",
    "        chunks = line.strip().split()\n",
    "        dewey = chunks[0]\n",
    "        topic = ' '.join(chunks[1:])\n",
    "        topics[dewey] = topic"
   ]
  },
  {
   "cell_type": "markdown",
   "metadata": {},
   "source": [
    "### Usuarios"
   ]
  },
  {
   "cell_type": "markdown",
   "metadata": {},
   "source": [
    "1.       CTA: categoría para niños y jóvenes hasta bachillerato\n",
    "2.       CTI: categoría infantil, hasta doce años y solo es para Bogotá (blaa –biblioteca Luis Ángel Arango)\n",
    "3.       CTB: público general (solo permite préstamo de libros)\n",
    "4.       CTC: público en general (permite préstamo de libros y material audiovisual)\n",
    "5.       CTF: categoría familiar, pueden acceder a los beneficios hasta tres personas del grupo familiar que se asocia\n",
    "6.       CE1, CE2, CE2: categorías empresariales (solo para instituciones)\n",
    "7.       CIS: categoría Inclusión Social\n",
    "8.       CTU: categoría Universitaria\n",
    "9.       VIP: Investigadores, préstamo de 30 materiales (libros y material audiovisual)\n",
    "\n",
    "0.     Categoría de lector: CE1 Categoría empresarial                                   218\n",
    "1.     Categoría de lector: CE2 Categoría empresarial 2                                   5\n",
    "2.     Categoría de lector: CEM Categoría Empleado/Pensionado                          1593\n",
    "3.     Categoría de lector: CIN Categoría Interbibliotecario                            128\n",
    "4.     Categoría de lector: CIP Categoría Investigador                                  351\n",
    "5.     Categoría de lector: CIS Categoría Inclusión Preferencial                      15974\n",
    "6.     Categoría de lector: CIV Categoría Investigadores                                 72\n",
    "7.     Categoría de lector: CML Categoría Mediador de Proyectos Culturales                2\n",
    "8.     Categoría de lector: CSU Categoría Sucursal                                       91\n",
    "9.     Categoría de lector: CTA Categoría Básica A                                    10610\n",
    "0.     Categoría de lector: CTB Categoría B                                            1359\n",
    "1.     Categoría de lector: CTC Categoría C                                             224\n",
    "2.     Categoría de lector: CTF Categoría familiar                                     1105\n",
    "3.     Categoría de lector: CTI Categoría Infantil                                     1004\n",
    "4.     Categoría de lector: CTU Categoría General                                     17402\n",
    "5.     Categoría de lector: PTE PROCESOS TÉCNICOS                                       95"
   ]
  },
  {
   "cell_type": "markdown",
   "metadata": {},
   "source": [
    "## Pre-processing data"
   ]
  },
  {
   "cell_type": "code",
   "execution_count": 11,
   "metadata": {},
   "outputs": [
    {
     "data": {
      "text/html": [
       "<div>\n",
       "<style scoped>\n",
       "    .dataframe tbody tr th:only-of-type {\n",
       "        vertical-align: middle;\n",
       "    }\n",
       "\n",
       "    .dataframe tbody tr th {\n",
       "        vertical-align: top;\n",
       "    }\n",
       "\n",
       "    .dataframe thead th {\n",
       "        text-align: right;\n",
       "    }\n",
       "</style>\n",
       "<table border=\"1\" class=\"dataframe\">\n",
       "  <thead>\n",
       "    <tr style=\"text-align: right;\">\n",
       "      <th></th>\n",
       "      <th>TITULO</th>\n",
       "      <th>AUTOR</th>\n",
       "      <th>SUCURSAL</th>\n",
       "      <th>COD_BARRAS_LIBRO</th>\n",
       "      <th>DEWEY</th>\n",
       "      <th>DESC_LOCALIZACION_EJEMPLAR</th>\n",
       "      <th>FECHA_PUB</th>\n",
       "      <th>PAIS_EJEMPLAR</th>\n",
       "      <th>OCUPACION</th>\n",
       "      <th>NIVEL_EDUCACION</th>\n",
       "      <th>AREA_ESTUDIO</th>\n",
       "      <th>SUCURSAL_PRESTAMO</th>\n",
       "      <th>SUCURSAL_DEVOLUCION</th>\n",
       "      <th>SUCURSAL_DEL_LECTOR</th>\n",
       "      <th>COD_BARRAS_LECTOR</th>\n",
       "      <th>CATEGORÍA</th>\n",
       "      <th>FECHA_PRESTAMO</th>\n",
       "      <th>FECHA_REAL_DEVOLUCION</th>\n",
       "      <th>DATE_PRESTAMO</th>\n",
       "      <th>DATE_DEVOLUCION</th>\n",
       "    </tr>\n",
       "  </thead>\n",
       "  <tbody>\n",
       "    <tr>\n",
       "      <th>0</th>\n",
       "      <td>Un bicho extraño</td>\n",
       "      <td>Daporta, Mon.</td>\n",
       "      <td>ARM</td>\n",
       "      <td>2298061</td>\n",
       "      <td>863</td>\n",
       "      <td>Infantil</td>\n",
       "      <td>2010</td>\n",
       "      <td>sp</td>\n",
       "      <td></td>\n",
       "      <td></td>\n",
       "      <td></td>\n",
       "      <td>ARM</td>\n",
       "      <td>ARM</td>\n",
       "      <td>ARM</td>\n",
       "      <td>88429527</td>\n",
       "      <td>CTA</td>\n",
       "      <td>22/01/2015</td>\n",
       "      <td>04/02/2015</td>\n",
       "      <td>2015-01-22</td>\n",
       "      <td>2015-02-04</td>\n",
       "    </tr>\n",
       "    <tr>\n",
       "      <th>1</th>\n",
       "      <td>Un bicho extraño</td>\n",
       "      <td>Daporta, Mon.</td>\n",
       "      <td>ARM</td>\n",
       "      <td>2298061</td>\n",
       "      <td>863</td>\n",
       "      <td>Infantil</td>\n",
       "      <td>2010</td>\n",
       "      <td>sp</td>\n",
       "      <td></td>\n",
       "      <td></td>\n",
       "      <td></td>\n",
       "      <td>ARM</td>\n",
       "      <td>ARM</td>\n",
       "      <td>ARM</td>\n",
       "      <td>88416381</td>\n",
       "      <td>CTA</td>\n",
       "      <td>31/03/2015</td>\n",
       "      <td>07/04/2015</td>\n",
       "      <td>2015-03-31</td>\n",
       "      <td>2015-04-07</td>\n",
       "    </tr>\n",
       "    <tr>\n",
       "      <th>2</th>\n",
       "      <td>Quisiera tener ...</td>\n",
       "      <td>Zoboli, Giovanna.</td>\n",
       "      <td>ARM</td>\n",
       "      <td>2284458</td>\n",
       "      <td>853</td>\n",
       "      <td>Infantil</td>\n",
       "      <td>2010</td>\n",
       "      <td>mx</td>\n",
       "      <td></td>\n",
       "      <td></td>\n",
       "      <td></td>\n",
       "      <td>ARM</td>\n",
       "      <td>ARM</td>\n",
       "      <td>ARM</td>\n",
       "      <td>88381353</td>\n",
       "      <td>CTA</td>\n",
       "      <td>07/11/2015</td>\n",
       "      <td>17/11/2015</td>\n",
       "      <td>2015-11-07</td>\n",
       "      <td>2015-11-17</td>\n",
       "    </tr>\n",
       "    <tr>\n",
       "      <th>3</th>\n",
       "      <td>Johannes Gutenberg</td>\n",
       "      <td>Borràs Perelló, Lluís.</td>\n",
       "      <td>ARM</td>\n",
       "      <td>2288922</td>\n",
       "      <td>925</td>\n",
       "      <td>Infantil</td>\n",
       "      <td>2010</td>\n",
       "      <td>sp</td>\n",
       "      <td>Empleado</td>\n",
       "      <td>Técnico</td>\n",
       "      <td>Adm. de empresas</td>\n",
       "      <td>ARM</td>\n",
       "      <td>ARM</td>\n",
       "      <td>ARM</td>\n",
       "      <td>88007424</td>\n",
       "      <td>CEM</td>\n",
       "      <td>16/01/2015</td>\n",
       "      <td>16/01/2015</td>\n",
       "      <td>2015-01-16</td>\n",
       "      <td>2015-01-16</td>\n",
       "    </tr>\n",
       "    <tr>\n",
       "      <th>4</th>\n",
       "      <td>La fantástica leyenda de: la princesa y el dragón</td>\n",
       "      <td>Alins, Sonia.</td>\n",
       "      <td>ARM</td>\n",
       "      <td>2288896</td>\n",
       "      <td>863</td>\n",
       "      <td>Infantil</td>\n",
       "      <td>2010</td>\n",
       "      <td>sp</td>\n",
       "      <td></td>\n",
       "      <td></td>\n",
       "      <td></td>\n",
       "      <td>ARM</td>\n",
       "      <td>ARM</td>\n",
       "      <td>ARM</td>\n",
       "      <td>88429529</td>\n",
       "      <td>CTA</td>\n",
       "      <td>21/01/2015</td>\n",
       "      <td>28/01/2015</td>\n",
       "      <td>2015-01-21</td>\n",
       "      <td>2015-01-28</td>\n",
       "    </tr>\n",
       "  </tbody>\n",
       "</table>\n",
       "</div>"
      ],
      "text/plain": [
       "                                              TITULO                   AUTOR  \\\n",
       "0                                   Un bicho extraño           Daporta, Mon.   \n",
       "1                                   Un bicho extraño           Daporta, Mon.   \n",
       "2                                 Quisiera tener ...       Zoboli, Giovanna.   \n",
       "3                                 Johannes Gutenberg  Borràs Perelló, Lluís.   \n",
       "4  La fantástica leyenda de: la princesa y el dragón           Alins, Sonia.   \n",
       "\n",
       "  SUCURSAL COD_BARRAS_LIBRO DEWEY DESC_LOCALIZACION_EJEMPLAR FECHA_PUB  \\\n",
       "0      ARM          2298061   863                   Infantil      2010   \n",
       "1      ARM          2298061   863                   Infantil      2010   \n",
       "2      ARM          2284458   853                   Infantil      2010   \n",
       "3      ARM          2288922   925                   Infantil      2010   \n",
       "4      ARM          2288896   863                   Infantil      2010   \n",
       "\n",
       "  PAIS_EJEMPLAR OCUPACION NIVEL_EDUCACION      AREA_ESTUDIO SUCURSAL_PRESTAMO  \\\n",
       "0            sp                                                           ARM   \n",
       "1            sp                                                           ARM   \n",
       "2            mx                                                           ARM   \n",
       "3            sp  Empleado         Técnico  Adm. de empresas               ARM   \n",
       "4            sp                                                           ARM   \n",
       "\n",
       "  SUCURSAL_DEVOLUCION SUCURSAL_DEL_LECTOR COD_BARRAS_LECTOR CATEGORÍA  \\\n",
       "0                 ARM                 ARM          88429527       CTA   \n",
       "1                 ARM                 ARM          88416381       CTA   \n",
       "2                 ARM                 ARM          88381353       CTA   \n",
       "3                 ARM                 ARM          88007424       CEM   \n",
       "4                 ARM                 ARM          88429529       CTA   \n",
       "\n",
       "  FECHA_PRESTAMO FECHA_REAL_DEVOLUCION DATE_PRESTAMO DATE_DEVOLUCION  \n",
       "0     22/01/2015            04/02/2015    2015-01-22      2015-02-04  \n",
       "1     31/03/2015            07/04/2015    2015-03-31      2015-04-07  \n",
       "2     07/11/2015            17/11/2015    2015-11-07      2015-11-17  \n",
       "3     16/01/2015            16/01/2015    2015-01-16      2015-01-16  \n",
       "4     21/01/2015            28/01/2015    2015-01-21      2015-01-28  "
      ]
     },
     "execution_count": 11,
     "metadata": {},
     "output_type": "execute_result"
    }
   ],
   "source": [
    "prestamos_df.head()"
   ]
  },
  {
   "cell_type": "code",
   "execution_count": 12,
   "metadata": {
    "collapsed": true
   },
   "outputs": [],
   "source": [
    "def group_dewey(x):\n",
    "    try:\n",
    "        int(x)\n",
    "        r = x[0]\n",
    "    except:\n",
    "        r = ''\n",
    "    return r\n",
    "\n",
    "prestamos_df['GDEWEY'] = prestamos_df['DEWEY'].apply(group_dewey)"
   ]
  },
  {
   "cell_type": "code",
   "execution_count": 13,
   "metadata": {},
   "outputs": [
    {
     "data": {
      "text/plain": [
       "CTB    1241305\n",
       "CTA     464123\n",
       "CTC     412350\n",
       "CTF     333510\n",
       "CTU     151930\n",
       "CEM     106300\n",
       "CE1      80702\n",
       "CSU      77940\n",
       "CIS      64114\n",
       "CIN      53376\n",
       "CTI      36276\n",
       "CE2      17398\n",
       "CIV      11069\n",
       "CIP       3958\n",
       "CAN          8\n",
       "CE3          1\n",
       "Name: CATEGORÍA, dtype: int64"
      ]
     },
     "execution_count": 13,
     "metadata": {},
     "output_type": "execute_result"
    }
   ],
   "source": [
    "prestamos_df.CATEGORÍA.value_counts()"
   ]
  },
  {
   "cell_type": "code",
   "execution_count": 14,
   "metadata": {
    "collapsed": true
   },
   "outputs": [],
   "source": [
    "def get_year(x):\n",
    "    return x.split('/')[-1]\n",
    "\n",
    "prestamos_df['YEAR'] = prestamos_df['FECHA_PRESTAMO'].apply(get_year)"
   ]
  },
  {
   "cell_type": "code",
   "execution_count": 15,
   "metadata": {},
   "outputs": [
    {
     "data": {
      "text/plain": [
       "2012    677551\n",
       "2013    658150\n",
       "2014    607554\n",
       "2015    548997\n",
       "2016    562108\n",
       "Name: YEAR, dtype: int64"
      ]
     },
     "execution_count": 15,
     "metadata": {},
     "output_type": "execute_result"
    }
   ],
   "source": [
    "prestamos_df.YEAR.value_counts().sort_index()"
   ]
  },
  {
   "cell_type": "code",
   "execution_count": 16,
   "metadata": {
    "collapsed": true
   },
   "outputs": [],
   "source": [
    "p_df = prestamos_df[prestamos_df['GDEWEY'] != '']"
   ]
  },
  {
   "cell_type": "code",
   "execution_count": 17,
   "metadata": {},
   "outputs": [
    {
     "data": {
      "text/plain": [
       "8    923712\n",
       "3    701250\n",
       "6    257117\n",
       "7    239411\n",
       "1    210738\n",
       "9    207929\n",
       "5    198839\n",
       "0     82294\n",
       "2     55328\n",
       "4     46178\n",
       "Name: GDEWEY, dtype: int64"
      ]
     },
     "execution_count": 17,
     "metadata": {},
     "output_type": "execute_result"
    }
   ],
   "source": [
    "p_df.GDEWEY.value_counts()"
   ]
  },
  {
   "cell_type": "code",
   "execution_count": 18,
   "metadata": {},
   "outputs": [
    {
     "data": {
      "text/plain": [
       "(2922796, 22)"
      ]
     },
     "execution_count": 18,
     "metadata": {},
     "output_type": "execute_result"
    }
   ],
   "source": [
    "p_df.shape"
   ]
  },
  {
   "cell_type": "markdown",
   "metadata": {},
   "source": [
    "## Processing data"
   ]
  },
  {
   "cell_type": "markdown",
   "metadata": {},
   "source": [
    "### Query #1"
   ]
  },
  {
   "cell_type": "code",
   "execution_count": 19,
   "metadata": {
    "collapsed": true
   },
   "outputs": [],
   "source": [
    "query1a_sr = p_df.groupby(['CATEGORÍA', 'GDEWEY']).TITULO.count()\n",
    "query1b_sr = p_df.groupby(['GDEWEY', 'CATEGORÍA']).TITULO.count()"
   ]
  },
  {
   "cell_type": "code",
   "execution_count": 20,
   "metadata": {},
   "outputs": [
    {
     "data": {
      "text/plain": [
       "CATEGORÍA  GDEWEY\n",
       "CAN        3             4\n",
       "CE1        0          2947\n",
       "           1          5263\n",
       "           2          1299\n",
       "           3         18307\n",
       "Name: TITULO, dtype: int64"
      ]
     },
     "execution_count": 20,
     "metadata": {},
     "output_type": "execute_result"
    }
   ],
   "source": [
    "query1a_sr.head()"
   ]
  },
  {
   "cell_type": "code",
   "execution_count": 21,
   "metadata": {},
   "outputs": [
    {
     "data": {
      "text/plain": [
       "GDEWEY  CATEGORÍA\n",
       "0       CE1          2947\n",
       "        CE2           569\n",
       "        CEM          3958\n",
       "        CIN          2588\n",
       "        CIP            76\n",
       "Name: TITULO, dtype: int64"
      ]
     },
     "execution_count": 21,
     "metadata": {},
     "output_type": "execute_result"
    }
   ],
   "source": [
    "query1b_sr.head()"
   ]
  },
  {
   "cell_type": "code",
   "execution_count": 22,
   "metadata": {
    "collapsed": true
   },
   "outputs": [],
   "source": [
    "# q1_g = nx.DiGraph()\n",
    "# for (category, gdewey), n in query1a_sr.iteritems():\n",
    "#     if category not in q1_g:\n",
    "#         a = query1a_sr[category].sum()\n",
    "#         q1_g.add_node(category, type='User category', weight=int(a))\n",
    "#     if gdewey not in q1_g:\n",
    "#         b = query1b_sr[gdewey].sum()\n",
    "#         q1_g.add_node(gdewey_dct[gdewey], type='Dewey class', weight=int(b))\n",
    "#     q1_g.add_edge(category, gdewey_dct[gdewey], weight=int(n))"
   ]
  },
  {
   "cell_type": "code",
   "execution_count": 41,
   "metadata": {
    "collapsed": true
   },
   "outputs": [],
   "source": [
    "q1_g = nx.Graph()\n",
    "for (category, gdewey), n in query1a_sr.iteritems():\n",
    "    if category not in q1_g:\n",
    "        a = query1a_sr[category].sum()\n",
    "        q1_g.add_node(category, type='User category', weight=int(a))\n",
    "    if gdewey not in q1_g:\n",
    "        b = query1b_sr[gdewey].sum()\n",
    "        q1_g.add_node(gdewey_dct[gdewey], type='Dewey class', weight=int(b))\n",
    "    q1_g.add_edge(category, gdewey_dct[gdewey], weight=int(n))"
   ]
  },
  {
   "cell_type": "code",
   "execution_count": 42,
   "metadata": {},
   "outputs": [
    {
     "data": {
      "text/plain": [
       "26"
      ]
     },
     "execution_count": 42,
     "metadata": {},
     "output_type": "execute_result"
    }
   ],
   "source": [
    "q1_g.number_of_nodes()"
   ]
  },
  {
   "cell_type": "code",
   "execution_count": 43,
   "metadata": {},
   "outputs": [
    {
     "data": {
      "text/plain": [
       "142"
      ]
     },
     "execution_count": 43,
     "metadata": {},
     "output_type": "execute_result"
    }
   ],
   "source": [
    "q1_g.number_of_edges()"
   ]
  },
  {
   "cell_type": "code",
   "execution_count": 44,
   "metadata": {},
   "outputs": [
    {
     "data": {
      "text/plain": [
       "0"
      ]
     },
     "execution_count": 44,
     "metadata": {},
     "output_type": "execute_result"
    }
   ],
   "source": [
    "q1_g.number_of_selfloops()"
   ]
  },
  {
   "cell_type": "code",
   "execution_count": 45,
   "metadata": {
    "collapsed": true
   },
   "outputs": [],
   "source": [
    "# nx.write_gexf(q1_g, 'queries/q1.gexf')"
   ]
  },
  {
   "cell_type": "code",
   "execution_count": 47,
   "metadata": {},
   "outputs": [
    {
     "data": {
      "text/plain": [
       "[('CE3', 'Religion'), ('Social sciences', 'CAN')]"
      ]
     },
     "execution_count": 47,
     "metadata": {},
     "output_type": "execute_result"
    }
   ],
   "source": [
    "list(nx.bridges(q1_g))"
   ]
  },
  {
   "cell_type": "markdown",
   "metadata": {},
   "source": [
    "### Query #2"
   ]
  },
  {
   "cell_type": "code",
   "execution_count": 27,
   "metadata": {
    "collapsed": true
   },
   "outputs": [],
   "source": [
    "query2a_sr = p_df.groupby(['SUCURSAL', 'GDEWEY']).TITULO.count()\n",
    "query2b_sr = p_df.groupby(['GDEWEY', 'SUCURSAL']).TITULO.count()"
   ]
  },
  {
   "cell_type": "code",
   "execution_count": 28,
   "metadata": {},
   "outputs": [
    {
     "data": {
      "text/plain": [
       "SUCURSAL  GDEWEY\n",
       "ARM       0          609\n",
       "          1          258\n",
       "          2          124\n",
       "          3         1249\n",
       "          4           39\n",
       "Name: TITULO, dtype: int64"
      ]
     },
     "execution_count": 28,
     "metadata": {},
     "output_type": "execute_result"
    }
   ],
   "source": [
    "query2a_sr.head()"
   ]
  },
  {
   "cell_type": "code",
   "execution_count": 29,
   "metadata": {},
   "outputs": [
    {
     "data": {
      "text/plain": [
       "GDEWEY  SUCURSAL\n",
       "0       ARM           609\n",
       "        BLAA        50338\n",
       "        BUE           116\n",
       "        CAL           101\n",
       "        CAR           977\n",
       "Name: TITULO, dtype: int64"
      ]
     },
     "execution_count": 29,
     "metadata": {},
     "output_type": "execute_result"
    }
   ],
   "source": [
    "query2b_sr.head()"
   ]
  },
  {
   "cell_type": "code",
   "execution_count": 30,
   "metadata": {
    "collapsed": true
   },
   "outputs": [],
   "source": [
    "# q2_g = nx.DiGraph()\n",
    "# for (branch, gdewey), n in query2a_sr.iteritems():\n",
    "#     if branch not in q2_g:\n",
    "#         a = query2a_sr[branch].sum()\n",
    "#         q2_g.add_node(branch, type='Library branch', weight=int(a))\n",
    "#     if gdewey not in q2_g:\n",
    "#         b = query2b_sr[gdewey].sum()\n",
    "#         q2_g.add_node(gdewey_dct[gdewey], type='Dewey class', weight=int(b))\n",
    "#     q2_g.add_edge(branch, gdewey_dct[gdewey], weight=int(n))"
   ]
  },
  {
   "cell_type": "code",
   "execution_count": 48,
   "metadata": {
    "collapsed": true
   },
   "outputs": [],
   "source": [
    "q2_g = nx.Graph()\n",
    "for (branch, gdewey), n in query2a_sr.iteritems():\n",
    "    if branch not in q2_g:\n",
    "        a = query2a_sr[branch].sum()\n",
    "        q2_g.add_node(branch, type='Library branch', weight=int(a))\n",
    "    if gdewey not in q2_g:\n",
    "        b = query2b_sr[gdewey].sum()\n",
    "        q2_g.add_node(gdewey_dct[gdewey], type='Dewey class', weight=int(b))\n",
    "    q2_g.add_edge(branch, gdewey_dct[gdewey], weight=int(n))"
   ]
  },
  {
   "cell_type": "code",
   "execution_count": 49,
   "metadata": {},
   "outputs": [
    {
     "data": {
      "text/plain": [
       "39"
      ]
     },
     "execution_count": 49,
     "metadata": {},
     "output_type": "execute_result"
    }
   ],
   "source": [
    "q2_g.number_of_nodes()"
   ]
  },
  {
   "cell_type": "code",
   "execution_count": 50,
   "metadata": {},
   "outputs": [
    {
     "data": {
      "text/plain": [
       "279"
      ]
     },
     "execution_count": 50,
     "metadata": {},
     "output_type": "execute_result"
    }
   ],
   "source": [
    "q2_g.number_of_edges()"
   ]
  },
  {
   "cell_type": "code",
   "execution_count": 51,
   "metadata": {},
   "outputs": [
    {
     "data": {
      "text/plain": [
       "0"
      ]
     },
     "execution_count": 51,
     "metadata": {},
     "output_type": "execute_result"
    }
   ],
   "source": [
    "q2_g.number_of_selfloops()"
   ]
  },
  {
   "cell_type": "code",
   "execution_count": 34,
   "metadata": {
    "collapsed": true
   },
   "outputs": [],
   "source": [
    "# nx.write_gexf(q2_g, 'queries/q2.gexf')"
   ]
  },
  {
   "cell_type": "code",
   "execution_count": 52,
   "metadata": {},
   "outputs": [
    {
     "data": {
      "text/plain": [
       "[('IEC', 'Social sciences')]"
      ]
     },
     "execution_count": 52,
     "metadata": {},
     "output_type": "execute_result"
    }
   ],
   "source": [
    "list(nx.bridges(q2_g))"
   ]
  },
  {
   "cell_type": "markdown",
   "metadata": {},
   "source": [
    "### Query #4"
   ]
  },
  {
   "cell_type": "code",
   "execution_count": 35,
   "metadata": {
    "collapsed": true
   },
   "outputs": [],
   "source": [
    "query4_sr = p_df.groupby(['YEAR', 'GDEWEY']).TITULO.count()\n",
    "query4_df = query4_sr.unstack('GDEWEY')"
   ]
  },
  {
   "cell_type": "code",
   "execution_count": 36,
   "metadata": {},
   "outputs": [
    {
     "data": {
      "text/html": [
       "<div>\n",
       "<style scoped>\n",
       "    .dataframe tbody tr th:only-of-type {\n",
       "        vertical-align: middle;\n",
       "    }\n",
       "\n",
       "    .dataframe tbody tr th {\n",
       "        vertical-align: top;\n",
       "    }\n",
       "\n",
       "    .dataframe thead th {\n",
       "        text-align: right;\n",
       "    }\n",
       "</style>\n",
       "<table border=\"1\" class=\"dataframe\">\n",
       "  <thead>\n",
       "    <tr style=\"text-align: right;\">\n",
       "      <th>GDEWEY</th>\n",
       "      <th>0</th>\n",
       "      <th>1</th>\n",
       "      <th>2</th>\n",
       "      <th>3</th>\n",
       "      <th>4</th>\n",
       "      <th>5</th>\n",
       "      <th>6</th>\n",
       "      <th>7</th>\n",
       "      <th>8</th>\n",
       "      <th>9</th>\n",
       "    </tr>\n",
       "    <tr>\n",
       "      <th>YEAR</th>\n",
       "      <th></th>\n",
       "      <th></th>\n",
       "      <th></th>\n",
       "      <th></th>\n",
       "      <th></th>\n",
       "      <th></th>\n",
       "      <th></th>\n",
       "      <th></th>\n",
       "      <th></th>\n",
       "      <th></th>\n",
       "    </tr>\n",
       "  </thead>\n",
       "  <tbody>\n",
       "    <tr>\n",
       "      <th>2012</th>\n",
       "      <td>18249</td>\n",
       "      <td>49104</td>\n",
       "      <td>13029</td>\n",
       "      <td>158962</td>\n",
       "      <td>10008</td>\n",
       "      <td>50940</td>\n",
       "      <td>67045</td>\n",
       "      <td>56487</td>\n",
       "      <td>173241</td>\n",
       "      <td>45393</td>\n",
       "    </tr>\n",
       "    <tr>\n",
       "      <th>2013</th>\n",
       "      <td>16755</td>\n",
       "      <td>46765</td>\n",
       "      <td>12484</td>\n",
       "      <td>153684</td>\n",
       "      <td>9689</td>\n",
       "      <td>44408</td>\n",
       "      <td>59110</td>\n",
       "      <td>52986</td>\n",
       "      <td>186139</td>\n",
       "      <td>45448</td>\n",
       "    </tr>\n",
       "    <tr>\n",
       "      <th>2014</th>\n",
       "      <td>16067</td>\n",
       "      <td>43143</td>\n",
       "      <td>11171</td>\n",
       "      <td>141896</td>\n",
       "      <td>9739</td>\n",
       "      <td>38843</td>\n",
       "      <td>51125</td>\n",
       "      <td>48033</td>\n",
       "      <td>182096</td>\n",
       "      <td>42628</td>\n",
       "    </tr>\n",
       "    <tr>\n",
       "      <th>2015</th>\n",
       "      <td>15243</td>\n",
       "      <td>36974</td>\n",
       "      <td>9578</td>\n",
       "      <td>125755</td>\n",
       "      <td>8309</td>\n",
       "      <td>32325</td>\n",
       "      <td>40963</td>\n",
       "      <td>41588</td>\n",
       "      <td>181592</td>\n",
       "      <td>37330</td>\n",
       "    </tr>\n",
       "    <tr>\n",
       "      <th>2016</th>\n",
       "      <td>15980</td>\n",
       "      <td>34752</td>\n",
       "      <td>9066</td>\n",
       "      <td>120953</td>\n",
       "      <td>8433</td>\n",
       "      <td>32323</td>\n",
       "      <td>38874</td>\n",
       "      <td>40317</td>\n",
       "      <td>200644</td>\n",
       "      <td>37130</td>\n",
       "    </tr>\n",
       "  </tbody>\n",
       "</table>\n",
       "</div>"
      ],
      "text/plain": [
       "GDEWEY      0      1      2       3      4      5      6      7       8      9\n",
       "YEAR                                                                          \n",
       "2012    18249  49104  13029  158962  10008  50940  67045  56487  173241  45393\n",
       "2013    16755  46765  12484  153684   9689  44408  59110  52986  186139  45448\n",
       "2014    16067  43143  11171  141896   9739  38843  51125  48033  182096  42628\n",
       "2015    15243  36974   9578  125755   8309  32325  40963  41588  181592  37330\n",
       "2016    15980  34752   9066  120953   8433  32323  38874  40317  200644  37130"
      ]
     },
     "execution_count": 36,
     "metadata": {},
     "output_type": "execute_result"
    }
   ],
   "source": [
    "query4_df"
   ]
  },
  {
   "cell_type": "code",
   "execution_count": 37,
   "metadata": {},
   "outputs": [
    {
     "data": {
      "image/png": "[encoded data removed]",
      "text/plain": [
       "<Figure size 1440x432 with 1 Axes>"
      ]
     },
     "metadata": {},
     "output_type": "display_data"
    }
   ],
   "source": [
    "ax = query4_df.plot(\n",
    "    kind='bar',\n",
    "    figsize=(20, 6),\n",
    "    rot=0,\n",
    ")\n",
    "handles, labels = ax.get_legend_handles_labels()\n",
    "ax.legend(handles, values(gdewey_dct), loc=(1.01, 0))#, prop={'size': 10})\n",
    "ax.set(xlabel='Año de préstamo', ylabel='Número de ejemplares prestados')\n",
    "ax.set_title('Ejemplares prestados por año', fontsize=20);"
   ]
  },
  {
   "cell_type": "code",
   "execution_count": 38,
   "metadata": {},
   "outputs": [
    {
     "data": {
      "image/png": "[encoded data removed]",
      "text/plain": [
       "<Figure size 1440x432 with 1 Axes>"
      ]
     },
     "metadata": {},
     "output_type": "display_data"
    }
   ],
   "source": [
    "bx = query4_df.T.plot(\n",
    "    kind='bar',\n",
    "    figsize=(20, 6),\n",
    "    rot=-10,\n",
    ")\n",
    "handles, labels = bx.get_legend_handles_labels()\n",
    "bx.legend(handles, labels, loc=(1.01, 0))#, prop={'size': 10})\n",
    "bx.set(xlabel='Clase Dewey', ylabel='Número de ejemplares prestados')\n",
    "bx.set_xticklabels(values(gdewey_dct))\n",
    "bx.set_title('Ejemplares préstados por clase Dewey', fontsize=20);"
   ]
  },
  {
   "cell_type": "code",
   "execution_count": null,
   "metadata": {
    "collapsed": true
   },
   "outputs": [],
   "source": []
  }
 ],
 "metadata": {
  "kernelspec": {
   "display_name": "Python 3",
   "language": "python",
   "name": "python3"
  },
  "language_info": {
   "codemirror_mode": {
    "name": "ipython",
    "version": 3
   },
   "file_extension": ".py",
   "mimetype": "text/x-python",
   "name": "python",
   "nbconvert_exporter": "python",
   "pygments_lexer": "ipython3",
   "version": "3.5.2"
  }
 },
 "nbformat": 4,
 "nbformat_minor": 1
}
