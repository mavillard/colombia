{
 "cells": [
  {
   "cell_type": "code",
   "execution_count": 1,
   "metadata": {
    "collapsed": true
   },
   "outputs": [],
   "source": [
    "import csv\n",
    "import os\n",
    "from collections import defaultdict\n",
    "from datetime import datetime\n",
    "from datetime import timedelta\n",
    "\n",
    "import matplotlib\n",
    "import networkx as nx\n",
    "import numpy as np\n",
    "import pandas as pd\n",
    "import seaborn as sns\n",
    "from matplotlib import pyplot as plt"
   ]
  },
  {
   "cell_type": "code",
   "execution_count": 2,
   "metadata": {
    "collapsed": true
   },
   "outputs": [],
   "source": [
    "pd.options.display.max_rows = 999"
   ]
  },
  {
   "cell_type": "code",
   "execution_count": 3,
   "metadata": {
    "collapsed": true
   },
   "outputs": [],
   "source": [
    "sns.set()"
   ]
  },
  {
   "cell_type": "code",
   "execution_count": 4,
   "metadata": {
    "collapsed": true
   },
   "outputs": [],
   "source": [
    "%matplotlib inline"
   ]
  },
  {
   "cell_type": "markdown",
   "metadata": {},
   "source": [
    "## Loading data"
   ]
  },
  {
   "cell_type": "markdown",
   "metadata": {},
   "source": [
    "### Prestamos"
   ]
  },
  {
   "cell_type": "code",
   "execution_count": 5,
   "metadata": {},
   "outputs": [
    {
     "name": "stdout",
     "output_type": "stream",
     "text": [
      "CPU times: user 12.4 s, sys: 1.16 s, total: 13.6 s\n",
      "Wall time: 13.6 s\n"
     ]
    }
   ],
   "source": [
    "%%time\n",
    "\n",
    "\n",
    "dtypes = {\n",
    "    'TITULO': str,\n",
    "    'AUTOR': str,\n",
    "    'SUCURSAL': str,\n",
    "    'COD_BARRAS_LIBRO': str,\n",
    "    'DEWEY': str,\n",
    "    'DESC_LOCALIZACION_EJEMPLAR': str,\n",
    "    'FECHA_PUB': str,\n",
    "    'PAIS_EJEMPLAR': str,\n",
    "    'OCUPACION': str,\n",
    "    'NIVEL_EDUCACION': str,\n",
    "    'AREA_ESTUDIO': str,\n",
    "    'SUCURSAL_PRESTAMO': str,\n",
    "    'SUCURSAL_DEVOLUCION': str,\n",
    "    'SUCURSAL_DEL_LECTOR': str,\n",
    "    'COD_BARRAS_LECTOR': str,\n",
    "    'CATEGORÍA': str,\n",
    "    'FECHA_PRESTAMO': str,\n",
    "    'FECHA_REAL_DEVOLUCION': str,\n",
    "    'DATE_PRESTAMO': str,\n",
    "    'DATE_DEVOLUCION': str,\n",
    "}\n",
    "\n",
    "prestamos_df = pd.read_csv('prestamos_totales.csv', header=0, dtype=dtypes)\n",
    "prestamos_df = prestamos_df.fillna('')"
   ]
  },
  {
   "cell_type": "code",
   "execution_count": 6,
   "metadata": {},
   "outputs": [
    {
     "data": {
      "text/plain": [
       "(3054360, 20)"
      ]
     },
     "execution_count": 6,
     "metadata": {},
     "output_type": "execute_result"
    }
   ],
   "source": [
    "prestamos_df.shape"
   ]
  },
  {
   "cell_type": "code",
   "execution_count": 7,
   "metadata": {},
   "outputs": [
    {
     "data": {
      "text/html": [
       "<div>\n",
       "<style scoped>\n",
       "    .dataframe tbody tr th:only-of-type {\n",
       "        vertical-align: middle;\n",
       "    }\n",
       "\n",
       "    .dataframe tbody tr th {\n",
       "        vertical-align: top;\n",
       "    }\n",
       "\n",
       "    .dataframe thead th {\n",
       "        text-align: right;\n",
       "    }\n",
       "</style>\n",
       "<table border=\"1\" class=\"dataframe\">\n",
       "  <thead>\n",
       "    <tr style=\"text-align: right;\">\n",
       "      <th></th>\n",
       "      <th>TITULO</th>\n",
       "      <th>AUTOR</th>\n",
       "      <th>SUCURSAL</th>\n",
       "      <th>COD_BARRAS_LIBRO</th>\n",
       "      <th>DEWEY</th>\n",
       "      <th>DESC_LOCALIZACION_EJEMPLAR</th>\n",
       "      <th>FECHA_PUB</th>\n",
       "      <th>PAIS_EJEMPLAR</th>\n",
       "      <th>OCUPACION</th>\n",
       "      <th>NIVEL_EDUCACION</th>\n",
       "      <th>AREA_ESTUDIO</th>\n",
       "      <th>SUCURSAL_PRESTAMO</th>\n",
       "      <th>SUCURSAL_DEVOLUCION</th>\n",
       "      <th>SUCURSAL_DEL_LECTOR</th>\n",
       "      <th>COD_BARRAS_LECTOR</th>\n",
       "      <th>CATEGORÍA</th>\n",
       "      <th>FECHA_PRESTAMO</th>\n",
       "      <th>FECHA_REAL_DEVOLUCION</th>\n",
       "      <th>DATE_PRESTAMO</th>\n",
       "      <th>DATE_DEVOLUCION</th>\n",
       "    </tr>\n",
       "  </thead>\n",
       "  <tbody>\n",
       "    <tr>\n",
       "      <th>0</th>\n",
       "      <td>Un bicho extraño</td>\n",
       "      <td>Daporta, Mon.</td>\n",
       "      <td>ARM</td>\n",
       "      <td>2298061</td>\n",
       "      <td>863</td>\n",
       "      <td>Infantil</td>\n",
       "      <td>2010</td>\n",
       "      <td>sp</td>\n",
       "      <td></td>\n",
       "      <td></td>\n",
       "      <td></td>\n",
       "      <td>ARM</td>\n",
       "      <td>ARM</td>\n",
       "      <td>ARM</td>\n",
       "      <td>88429527</td>\n",
       "      <td>CTA</td>\n",
       "      <td>22/01/2015</td>\n",
       "      <td>04/02/2015</td>\n",
       "      <td>2015-01-22</td>\n",
       "      <td>2015-02-04</td>\n",
       "    </tr>\n",
       "    <tr>\n",
       "      <th>1</th>\n",
       "      <td>Un bicho extraño</td>\n",
       "      <td>Daporta, Mon.</td>\n",
       "      <td>ARM</td>\n",
       "      <td>2298061</td>\n",
       "      <td>863</td>\n",
       "      <td>Infantil</td>\n",
       "      <td>2010</td>\n",
       "      <td>sp</td>\n",
       "      <td></td>\n",
       "      <td></td>\n",
       "      <td></td>\n",
       "      <td>ARM</td>\n",
       "      <td>ARM</td>\n",
       "      <td>ARM</td>\n",
       "      <td>88416381</td>\n",
       "      <td>CTA</td>\n",
       "      <td>31/03/2015</td>\n",
       "      <td>07/04/2015</td>\n",
       "      <td>2015-03-31</td>\n",
       "      <td>2015-04-07</td>\n",
       "    </tr>\n",
       "    <tr>\n",
       "      <th>2</th>\n",
       "      <td>Quisiera tener ...</td>\n",
       "      <td>Zoboli, Giovanna.</td>\n",
       "      <td>ARM</td>\n",
       "      <td>2284458</td>\n",
       "      <td>853</td>\n",
       "      <td>Infantil</td>\n",
       "      <td>2010</td>\n",
       "      <td>mx</td>\n",
       "      <td></td>\n",
       "      <td></td>\n",
       "      <td></td>\n",
       "      <td>ARM</td>\n",
       "      <td>ARM</td>\n",
       "      <td>ARM</td>\n",
       "      <td>88381353</td>\n",
       "      <td>CTA</td>\n",
       "      <td>07/11/2015</td>\n",
       "      <td>17/11/2015</td>\n",
       "      <td>2015-11-07</td>\n",
       "      <td>2015-11-17</td>\n",
       "    </tr>\n",
       "    <tr>\n",
       "      <th>3</th>\n",
       "      <td>Johannes Gutenberg</td>\n",
       "      <td>Borràs Perelló, Lluís.</td>\n",
       "      <td>ARM</td>\n",
       "      <td>2288922</td>\n",
       "      <td>925</td>\n",
       "      <td>Infantil</td>\n",
       "      <td>2010</td>\n",
       "      <td>sp</td>\n",
       "      <td>Empleado</td>\n",
       "      <td>Técnico</td>\n",
       "      <td>Adm. de empresas</td>\n",
       "      <td>ARM</td>\n",
       "      <td>ARM</td>\n",
       "      <td>ARM</td>\n",
       "      <td>88007424</td>\n",
       "      <td>CEM</td>\n",
       "      <td>16/01/2015</td>\n",
       "      <td>16/01/2015</td>\n",
       "      <td>2015-01-16</td>\n",
       "      <td>2015-01-16</td>\n",
       "    </tr>\n",
       "    <tr>\n",
       "      <th>4</th>\n",
       "      <td>La fantástica leyenda de: la princesa y el dragón</td>\n",
       "      <td>Alins, Sonia.</td>\n",
       "      <td>ARM</td>\n",
       "      <td>2288896</td>\n",
       "      <td>863</td>\n",
       "      <td>Infantil</td>\n",
       "      <td>2010</td>\n",
       "      <td>sp</td>\n",
       "      <td></td>\n",
       "      <td></td>\n",
       "      <td></td>\n",
       "      <td>ARM</td>\n",
       "      <td>ARM</td>\n",
       "      <td>ARM</td>\n",
       "      <td>88429529</td>\n",
       "      <td>CTA</td>\n",
       "      <td>21/01/2015</td>\n",
       "      <td>28/01/2015</td>\n",
       "      <td>2015-01-21</td>\n",
       "      <td>2015-01-28</td>\n",
       "    </tr>\n",
       "  </tbody>\n",
       "</table>\n",
       "</div>"
      ],
      "text/plain": [
       "                                              TITULO                   AUTOR  \\\n",
       "0                                   Un bicho extraño           Daporta, Mon.   \n",
       "1                                   Un bicho extraño           Daporta, Mon.   \n",
       "2                                 Quisiera tener ...       Zoboli, Giovanna.   \n",
       "3                                 Johannes Gutenberg  Borràs Perelló, Lluís.   \n",
       "4  La fantástica leyenda de: la princesa y el dragón           Alins, Sonia.   \n",
       "\n",
       "  SUCURSAL COD_BARRAS_LIBRO DEWEY DESC_LOCALIZACION_EJEMPLAR FECHA_PUB  \\\n",
       "0      ARM          2298061   863                   Infantil      2010   \n",
       "1      ARM          2298061   863                   Infantil      2010   \n",
       "2      ARM          2284458   853                   Infantil      2010   \n",
       "3      ARM          2288922   925                   Infantil      2010   \n",
       "4      ARM          2288896   863                   Infantil      2010   \n",
       "\n",
       "  PAIS_EJEMPLAR OCUPACION NIVEL_EDUCACION      AREA_ESTUDIO SUCURSAL_PRESTAMO  \\\n",
       "0            sp                                                           ARM   \n",
       "1            sp                                                           ARM   \n",
       "2            mx                                                           ARM   \n",
       "3            sp  Empleado         Técnico  Adm. de empresas               ARM   \n",
       "4            sp                                                           ARM   \n",
       "\n",
       "  SUCURSAL_DEVOLUCION SUCURSAL_DEL_LECTOR COD_BARRAS_LECTOR CATEGORÍA  \\\n",
       "0                 ARM                 ARM          88429527       CTA   \n",
       "1                 ARM                 ARM          88416381       CTA   \n",
       "2                 ARM                 ARM          88381353       CTA   \n",
       "3                 ARM                 ARM          88007424       CEM   \n",
       "4                 ARM                 ARM          88429529       CTA   \n",
       "\n",
       "  FECHA_PRESTAMO FECHA_REAL_DEVOLUCION DATE_PRESTAMO DATE_DEVOLUCION  \n",
       "0     22/01/2015            04/02/2015    2015-01-22      2015-02-04  \n",
       "1     31/03/2015            07/04/2015    2015-03-31      2015-04-07  \n",
       "2     07/11/2015            17/11/2015    2015-11-07      2015-11-17  \n",
       "3     16/01/2015            16/01/2015    2015-01-16      2015-01-16  \n",
       "4     21/01/2015            28/01/2015    2015-01-21      2015-01-28  "
      ]
     },
     "execution_count": 7,
     "metadata": {},
     "output_type": "execute_result"
    }
   ],
   "source": [
    "prestamos_df.head()"
   ]
  },
  {
   "cell_type": "markdown",
   "metadata": {},
   "source": [
    "### Sucursales"
   ]
  },
  {
   "cell_type": "code",
   "execution_count": 8,
   "metadata": {
    "collapsed": true
   },
   "outputs": [],
   "source": [
    "sucursales = {\n",
    "    'ARM': 'Armenia',\n",
    "    'BLAA': 'Luis Angel Arango',\n",
    "    'BUE': 'Buenaventura',\n",
    "    'CAL': 'Cali',\n",
    "    'CAR': 'Cartagena',\n",
    "    'CASAGO': 'Casa Gómez Campuzano',\n",
    "    'CATMAN': 'Catalogación y Mantenimiento de Colecciones',\n",
    "    'CUC': 'Cúcuta',\n",
    "    'FLO': 'Florencia',\n",
    "    'GIR': 'Girardot',\n",
    "    'HON': 'Honda',\n",
    "    'IBA': 'Ibagué',\n",
    "    'IEC': 'Investigaciones Económicas',\n",
    "    'IPI': 'Ipiales',\n",
    "    'LET': 'Leticia',\n",
    "    'MAN': 'Manizales',\n",
    "    'MED': 'Medellín',\n",
    "    'MON': 'Montería',\n",
    "    'NEI': 'Neiva',\n",
    "    'PAS': 'Pasto',\n",
    "    'PER': 'Pereira',\n",
    "    'POP': 'Popayán',\n",
    "    'QUI': 'Quibdó',\n",
    "    'RIO': 'Riohacha',\n",
    "    'SAN': 'San Andrés',\n",
    "    'SIN': 'Sincelejo',\n",
    "    'STM': 'Santa Marta',\n",
    "    'TUN': 'Tunja',\n",
    "    'VAL': 'Valledupar',\n",
    "}"
   ]
  },
  {
   "cell_type": "markdown",
   "metadata": {},
   "source": [
    "### Topics"
   ]
  },
  {
   "cell_type": "markdown",
   "metadata": {},
   "source": [
    "0. Class 000 - Computer science, information & general works\n",
    "1. Class 100 - Philosophy & psychology\n",
    "2. Class 200 - Religion\n",
    "3. Class 300 - Social sciences\n",
    "4. Class 400 - Language\n",
    "5. Class 500 - Science\n",
    "6. Class 600 - Technology\n",
    "7. Class 700 - Arts & recreation\n",
    "8. Class 800 - Literature\n",
    "9. Class 900 - History & geography"
   ]
  },
  {
   "cell_type": "code",
   "execution_count": 9,
   "metadata": {
    "collapsed": true
   },
   "outputs": [],
   "source": [
    "gdewey_dct = {\n",
    "    '0': 'Computer science,\\ninformation,\\n& general works',\n",
    "    '1': 'Philosophy & psychology',\n",
    "    '2': 'Religion',\n",
    "    '3': 'Social sciences',\n",
    "    '4': 'Language',\n",
    "    '5': 'Science',\n",
    "    '6': 'Technology',\n",
    "    '7': 'Arts & recreation',\n",
    "    '8': 'Literature',\n",
    "    '9': 'History & geography',\n",
    "}"
   ]
  },
  {
   "cell_type": "code",
   "execution_count": 10,
   "metadata": {
    "collapsed": true
   },
   "outputs": [],
   "source": [
    "def keys(d):\n",
    "    return sorted(d)\n",
    "\n",
    "def values(d):\n",
    "    return [d[k] for k in keys(d)]"
   ]
  },
  {
   "cell_type": "code",
   "execution_count": 11,
   "metadata": {
    "collapsed": true
   },
   "outputs": [],
   "source": [
    "topics = {}\n",
    "with open('dewey.txt') as f:\n",
    "    for line in f:\n",
    "        chunks = line.strip().split()\n",
    "        dewey = chunks[0]\n",
    "        topic = ' '.join(chunks[1:])\n",
    "        topics[dewey] = topic"
   ]
  },
  {
   "cell_type": "markdown",
   "metadata": {},
   "source": [
    "### Usuarios"
   ]
  },
  {
   "cell_type": "markdown",
   "metadata": {},
   "source": [
    "1.       CTA: categoría para niños y jóvenes hasta bachillerato\n",
    "2.       CTI: categoría infantil, hasta doce años y solo es para Bogotá (blaa –biblioteca Luis Ángel Arango)\n",
    "3.       CTB: público general (solo permite préstamo de libros)\n",
    "4.       CTC: público en general (permite préstamo de libros y material audiovisual)\n",
    "5.       CTF: categoría familiar, pueden acceder a los beneficios hasta tres personas del grupo familiar que se asocia\n",
    "6.       CE1, CE2, CE2: categorías empresariales (solo para instituciones)\n",
    "7.       CIS: categoría Inclusión Social\n",
    "8.       CTU: categoría Universitaria\n",
    "9.       VIP: Investigadores, préstamo de 30 materiales (libros y material audiovisual)\n",
    "\n",
    "0.     Categoría de lector: CE1 Categoría empresarial                                   218\n",
    "1.     Categoría de lector: CE2 Categoría empresarial 2                                   5\n",
    "2.     Categoría de lector: CEM Categoría Empleado/Pensionado                          1593\n",
    "3.     Categoría de lector: CIN Categoría Interbibliotecario                            128\n",
    "4.     Categoría de lector: CIP Categoría Investigador                                  351\n",
    "5.     Categoría de lector: CIS Categoría Inclusión Preferencial                      15974\n",
    "6.     Categoría de lector: CIV Categoría Investigadores                                 72\n",
    "7.     Categoría de lector: CML Categoría Mediador de Proyectos Culturales                2\n",
    "8.     Categoría de lector: CSU Categoría Sucursal                                       91\n",
    "9.     Categoría de lector: CTA Categoría Básica A                                    10610\n",
    "0.     Categoría de lector: CTB Categoría B                                            1359\n",
    "1.     Categoría de lector: CTC Categoría C                                             224\n",
    "2.     Categoría de lector: CTF Categoría familiar                                     1105\n",
    "3.     Categoría de lector: CTI Categoría Infantil                                     1004\n",
    "4.     Categoría de lector: CTU Categoría General                                     17402\n",
    "5.     Categoría de lector: PTE PROCESOS TÉCNICOS                                       95"
   ]
  },
  {
   "cell_type": "markdown",
   "metadata": {},
   "source": [
    "## Pre-processing data"
   ]
  },
  {
   "cell_type": "code",
   "execution_count": 12,
   "metadata": {},
   "outputs": [
    {
     "data": {
      "text/html": [
       "<div>\n",
       "<style scoped>\n",
       "    .dataframe tbody tr th:only-of-type {\n",
       "        vertical-align: middle;\n",
       "    }\n",
       "\n",
       "    .dataframe tbody tr th {\n",
       "        vertical-align: top;\n",
       "    }\n",
       "\n",
       "    .dataframe thead th {\n",
       "        text-align: right;\n",
       "    }\n",
       "</style>\n",
       "<table border=\"1\" class=\"dataframe\">\n",
       "  <thead>\n",
       "    <tr style=\"text-align: right;\">\n",
       "      <th></th>\n",
       "      <th>TITULO</th>\n",
       "      <th>AUTOR</th>\n",
       "      <th>SUCURSAL</th>\n",
       "      <th>COD_BARRAS_LIBRO</th>\n",
       "      <th>DEWEY</th>\n",
       "      <th>DESC_LOCALIZACION_EJEMPLAR</th>\n",
       "      <th>FECHA_PUB</th>\n",
       "      <th>PAIS_EJEMPLAR</th>\n",
       "      <th>OCUPACION</th>\n",
       "      <th>NIVEL_EDUCACION</th>\n",
       "      <th>AREA_ESTUDIO</th>\n",
       "      <th>SUCURSAL_PRESTAMO</th>\n",
       "      <th>SUCURSAL_DEVOLUCION</th>\n",
       "      <th>SUCURSAL_DEL_LECTOR</th>\n",
       "      <th>COD_BARRAS_LECTOR</th>\n",
       "      <th>CATEGORÍA</th>\n",
       "      <th>FECHA_PRESTAMO</th>\n",
       "      <th>FECHA_REAL_DEVOLUCION</th>\n",
       "      <th>DATE_PRESTAMO</th>\n",
       "      <th>DATE_DEVOLUCION</th>\n",
       "    </tr>\n",
       "  </thead>\n",
       "  <tbody>\n",
       "    <tr>\n",
       "      <th>0</th>\n",
       "      <td>Un bicho extraño</td>\n",
       "      <td>Daporta, Mon.</td>\n",
       "      <td>ARM</td>\n",
       "      <td>2298061</td>\n",
       "      <td>863</td>\n",
       "      <td>Infantil</td>\n",
       "      <td>2010</td>\n",
       "      <td>sp</td>\n",
       "      <td></td>\n",
       "      <td></td>\n",
       "      <td></td>\n",
       "      <td>ARM</td>\n",
       "      <td>ARM</td>\n",
       "      <td>ARM</td>\n",
       "      <td>88429527</td>\n",
       "      <td>CTA</td>\n",
       "      <td>22/01/2015</td>\n",
       "      <td>04/02/2015</td>\n",
       "      <td>2015-01-22</td>\n",
       "      <td>2015-02-04</td>\n",
       "    </tr>\n",
       "    <tr>\n",
       "      <th>1</th>\n",
       "      <td>Un bicho extraño</td>\n",
       "      <td>Daporta, Mon.</td>\n",
       "      <td>ARM</td>\n",
       "      <td>2298061</td>\n",
       "      <td>863</td>\n",
       "      <td>Infantil</td>\n",
       "      <td>2010</td>\n",
       "      <td>sp</td>\n",
       "      <td></td>\n",
       "      <td></td>\n",
       "      <td></td>\n",
       "      <td>ARM</td>\n",
       "      <td>ARM</td>\n",
       "      <td>ARM</td>\n",
       "      <td>88416381</td>\n",
       "      <td>CTA</td>\n",
       "      <td>31/03/2015</td>\n",
       "      <td>07/04/2015</td>\n",
       "      <td>2015-03-31</td>\n",
       "      <td>2015-04-07</td>\n",
       "    </tr>\n",
       "    <tr>\n",
       "      <th>2</th>\n",
       "      <td>Quisiera tener ...</td>\n",
       "      <td>Zoboli, Giovanna.</td>\n",
       "      <td>ARM</td>\n",
       "      <td>2284458</td>\n",
       "      <td>853</td>\n",
       "      <td>Infantil</td>\n",
       "      <td>2010</td>\n",
       "      <td>mx</td>\n",
       "      <td></td>\n",
       "      <td></td>\n",
       "      <td></td>\n",
       "      <td>ARM</td>\n",
       "      <td>ARM</td>\n",
       "      <td>ARM</td>\n",
       "      <td>88381353</td>\n",
       "      <td>CTA</td>\n",
       "      <td>07/11/2015</td>\n",
       "      <td>17/11/2015</td>\n",
       "      <td>2015-11-07</td>\n",
       "      <td>2015-11-17</td>\n",
       "    </tr>\n",
       "    <tr>\n",
       "      <th>3</th>\n",
       "      <td>Johannes Gutenberg</td>\n",
       "      <td>Borràs Perelló, Lluís.</td>\n",
       "      <td>ARM</td>\n",
       "      <td>2288922</td>\n",
       "      <td>925</td>\n",
       "      <td>Infantil</td>\n",
       "      <td>2010</td>\n",
       "      <td>sp</td>\n",
       "      <td>Empleado</td>\n",
       "      <td>Técnico</td>\n",
       "      <td>Adm. de empresas</td>\n",
       "      <td>ARM</td>\n",
       "      <td>ARM</td>\n",
       "      <td>ARM</td>\n",
       "      <td>88007424</td>\n",
       "      <td>CEM</td>\n",
       "      <td>16/01/2015</td>\n",
       "      <td>16/01/2015</td>\n",
       "      <td>2015-01-16</td>\n",
       "      <td>2015-01-16</td>\n",
       "    </tr>\n",
       "    <tr>\n",
       "      <th>4</th>\n",
       "      <td>La fantástica leyenda de: la princesa y el dragón</td>\n",
       "      <td>Alins, Sonia.</td>\n",
       "      <td>ARM</td>\n",
       "      <td>2288896</td>\n",
       "      <td>863</td>\n",
       "      <td>Infantil</td>\n",
       "      <td>2010</td>\n",
       "      <td>sp</td>\n",
       "      <td></td>\n",
       "      <td></td>\n",
       "      <td></td>\n",
       "      <td>ARM</td>\n",
       "      <td>ARM</td>\n",
       "      <td>ARM</td>\n",
       "      <td>88429529</td>\n",
       "      <td>CTA</td>\n",
       "      <td>21/01/2015</td>\n",
       "      <td>28/01/2015</td>\n",
       "      <td>2015-01-21</td>\n",
       "      <td>2015-01-28</td>\n",
       "    </tr>\n",
       "  </tbody>\n",
       "</table>\n",
       "</div>"
      ],
      "text/plain": [
       "                                              TITULO                   AUTOR  \\\n",
       "0                                   Un bicho extraño           Daporta, Mon.   \n",
       "1                                   Un bicho extraño           Daporta, Mon.   \n",
       "2                                 Quisiera tener ...       Zoboli, Giovanna.   \n",
       "3                                 Johannes Gutenberg  Borràs Perelló, Lluís.   \n",
       "4  La fantástica leyenda de: la princesa y el dragón           Alins, Sonia.   \n",
       "\n",
       "  SUCURSAL COD_BARRAS_LIBRO DEWEY DESC_LOCALIZACION_EJEMPLAR FECHA_PUB  \\\n",
       "0      ARM          2298061   863                   Infantil      2010   \n",
       "1      ARM          2298061   863                   Infantil      2010   \n",
       "2      ARM          2284458   853                   Infantil      2010   \n",
       "3      ARM          2288922   925                   Infantil      2010   \n",
       "4      ARM          2288896   863                   Infantil      2010   \n",
       "\n",
       "  PAIS_EJEMPLAR OCUPACION NIVEL_EDUCACION      AREA_ESTUDIO SUCURSAL_PRESTAMO  \\\n",
       "0            sp                                                           ARM   \n",
       "1            sp                                                           ARM   \n",
       "2            mx                                                           ARM   \n",
       "3            sp  Empleado         Técnico  Adm. de empresas               ARM   \n",
       "4            sp                                                           ARM   \n",
       "\n",
       "  SUCURSAL_DEVOLUCION SUCURSAL_DEL_LECTOR COD_BARRAS_LECTOR CATEGORÍA  \\\n",
       "0                 ARM                 ARM          88429527       CTA   \n",
       "1                 ARM                 ARM          88416381       CTA   \n",
       "2                 ARM                 ARM          88381353       CTA   \n",
       "3                 ARM                 ARM          88007424       CEM   \n",
       "4                 ARM                 ARM          88429529       CTA   \n",
       "\n",
       "  FECHA_PRESTAMO FECHA_REAL_DEVOLUCION DATE_PRESTAMO DATE_DEVOLUCION  \n",
       "0     22/01/2015            04/02/2015    2015-01-22      2015-02-04  \n",
       "1     31/03/2015            07/04/2015    2015-03-31      2015-04-07  \n",
       "2     07/11/2015            17/11/2015    2015-11-07      2015-11-17  \n",
       "3     16/01/2015            16/01/2015    2015-01-16      2015-01-16  \n",
       "4     21/01/2015            28/01/2015    2015-01-21      2015-01-28  "
      ]
     },
     "execution_count": 12,
     "metadata": {},
     "output_type": "execute_result"
    }
   ],
   "source": [
    "prestamos_df.head()"
   ]
  },
  {
   "cell_type": "code",
   "execution_count": 13,
   "metadata": {
    "collapsed": true
   },
   "outputs": [],
   "source": [
    "def group_dewey(x):\n",
    "    try:\n",
    "        int(x)\n",
    "        r = x[0]\n",
    "    except:\n",
    "        r = ''\n",
    "    return r\n",
    "\n",
    "prestamos_df['GDEWEY'] = prestamos_df['DEWEY'].apply(group_dewey)"
   ]
  },
  {
   "cell_type": "code",
   "execution_count": 14,
   "metadata": {},
   "outputs": [
    {
     "data": {
      "text/plain": [
       "CTB    1241305\n",
       "CTA     464123\n",
       "CTC     412350\n",
       "CTF     333510\n",
       "CTU     151930\n",
       "CEM     106300\n",
       "CE1      80702\n",
       "CSU      77940\n",
       "CIS      64114\n",
       "CIN      53376\n",
       "CTI      36276\n",
       "CE2      17398\n",
       "CIV      11069\n",
       "CIP       3958\n",
       "CAN          8\n",
       "CE3          1\n",
       "Name: CATEGORÍA, dtype: int64"
      ]
     },
     "execution_count": 14,
     "metadata": {},
     "output_type": "execute_result"
    }
   ],
   "source": [
    "prestamos_df.CATEGORÍA.value_counts()"
   ]
  },
  {
   "cell_type": "code",
   "execution_count": 15,
   "metadata": {
    "collapsed": true
   },
   "outputs": [],
   "source": [
    "def get_year(x):\n",
    "    return x.split('/')[-1]\n",
    "\n",
    "prestamos_df['YEAR'] = prestamos_df['FECHA_PRESTAMO'].apply(get_year)"
   ]
  },
  {
   "cell_type": "code",
   "execution_count": 16,
   "metadata": {},
   "outputs": [
    {
     "data": {
      "text/plain": [
       "2012    677551\n",
       "2013    658150\n",
       "2014    607554\n",
       "2015    548997\n",
       "2016    562108\n",
       "Name: YEAR, dtype: int64"
      ]
     },
     "execution_count": 16,
     "metadata": {},
     "output_type": "execute_result"
    }
   ],
   "source": [
    "prestamos_df.YEAR.value_counts().sort_index()"
   ]
  },
  {
   "cell_type": "code",
   "execution_count": 17,
   "metadata": {
    "collapsed": true
   },
   "outputs": [],
   "source": [
    "p_df = prestamos_df[prestamos_df['GDEWEY'] != '']"
   ]
  },
  {
   "cell_type": "code",
   "execution_count": 18,
   "metadata": {},
   "outputs": [
    {
     "data": {
      "text/plain": [
       "8    923712\n",
       "3    701250\n",
       "6    257117\n",
       "7    239411\n",
       "1    210738\n",
       "9    207929\n",
       "5    198839\n",
       "0     82294\n",
       "2     55328\n",
       "4     46178\n",
       "Name: GDEWEY, dtype: int64"
      ]
     },
     "execution_count": 18,
     "metadata": {},
     "output_type": "execute_result"
    }
   ],
   "source": [
    "p_df.GDEWEY.value_counts()"
   ]
  },
  {
   "cell_type": "code",
   "execution_count": 19,
   "metadata": {},
   "outputs": [
    {
     "data": {
      "text/plain": [
       "(2922796, 22)"
      ]
     },
     "execution_count": 19,
     "metadata": {},
     "output_type": "execute_result"
    }
   ],
   "source": [
    "p_df.shape"
   ]
  },
  {
   "cell_type": "markdown",
   "metadata": {},
   "source": [
    "## Processing data"
   ]
  },
  {
   "cell_type": "markdown",
   "metadata": {},
   "source": [
    "### Query #1"
   ]
  },
  {
   "cell_type": "code",
   "execution_count": 20,
   "metadata": {
    "collapsed": true
   },
   "outputs": [],
   "source": [
    "query1a_sr = p_df.groupby(['CATEGORÍA', 'GDEWEY']).TITULO.count()\n",
    "query1b_sr = p_df.groupby(['GDEWEY', 'CATEGORÍA']).TITULO.count()"
   ]
  },
  {
   "cell_type": "code",
   "execution_count": 21,
   "metadata": {},
   "outputs": [
    {
     "data": {
      "text/plain": [
       "CATEGORÍA  GDEWEY\n",
       "CAN        3             4\n",
       "CE1        0          2947\n",
       "           1          5263\n",
       "           2          1299\n",
       "           3         18307\n",
       "Name: TITULO, dtype: int64"
      ]
     },
     "execution_count": 21,
     "metadata": {},
     "output_type": "execute_result"
    }
   ],
   "source": [
    "query1a_sr.head()"
   ]
  },
  {
   "cell_type": "code",
   "execution_count": 22,
   "metadata": {},
   "outputs": [
    {
     "data": {
      "text/plain": [
       "GDEWEY  CATEGORÍA\n",
       "0       CE1          2947\n",
       "        CE2           569\n",
       "        CEM          3958\n",
       "        CIN          2588\n",
       "        CIP            76\n",
       "Name: TITULO, dtype: int64"
      ]
     },
     "execution_count": 22,
     "metadata": {},
     "output_type": "execute_result"
    }
   ],
   "source": [
    "query1b_sr.head()"
   ]
  },
  {
   "cell_type": "code",
   "execution_count": 23,
   "metadata": {
    "collapsed": true
   },
   "outputs": [],
   "source": [
    "q1_g = nx.Graph()\n",
    "for (category, gdewey), n in query1a_sr.iteritems():\n",
    "    if category not in q1_g:\n",
    "        a = query1a_sr[category].sum()\n",
    "        q1_g.add_node(category, type='User category', weight=int(a))\n",
    "    if gdewey not in q1_g:\n",
    "        b = query1b_sr[gdewey].sum()\n",
    "        q1_g.add_node(gdewey_dct[gdewey], type='Dewey class', weight=int(b))\n",
    "    q1_g.add_edge(category, gdewey_dct[gdewey], weight=int(n))"
   ]
  },
  {
   "cell_type": "code",
   "execution_count": 24,
   "metadata": {},
   "outputs": [
    {
     "data": {
      "text/plain": [
       "26"
      ]
     },
     "execution_count": 24,
     "metadata": {},
     "output_type": "execute_result"
    }
   ],
   "source": [
    "q1_g.number_of_nodes()"
   ]
  },
  {
   "cell_type": "code",
   "execution_count": 25,
   "metadata": {},
   "outputs": [
    {
     "data": {
      "text/plain": [
       "142"
      ]
     },
     "execution_count": 25,
     "metadata": {},
     "output_type": "execute_result"
    }
   ],
   "source": [
    "q1_g.number_of_edges()"
   ]
  },
  {
   "cell_type": "code",
   "execution_count": 26,
   "metadata": {},
   "outputs": [
    {
     "data": {
      "text/plain": [
       "0"
      ]
     },
     "execution_count": 26,
     "metadata": {},
     "output_type": "execute_result"
    }
   ],
   "source": [
    "q1_g.number_of_selfloops()"
   ]
  },
  {
   "cell_type": "code",
   "execution_count": 27,
   "metadata": {
    "collapsed": true
   },
   "outputs": [],
   "source": [
    "# nx.write_gexf(q1_g, 'queries/q1.gexf')"
   ]
  },
  {
   "cell_type": "markdown",
   "metadata": {},
   "source": [
    "#### Metrics"
   ]
  },
  {
   "cell_type": "markdown",
   "metadata": {},
   "source": [
    "##### Minimum degree"
   ]
  },
  {
   "cell_type": "code",
   "execution_count": 28,
   "metadata": {
    "collapsed": true
   },
   "outputs": [],
   "source": [
    "min_deg1 = min((q1_g.degree(n), n) for n in q1_g.nodes)"
   ]
  },
  {
   "cell_type": "code",
   "execution_count": 29,
   "metadata": {},
   "outputs": [
    {
     "data": {
      "text/plain": [
       "(1, 'CAN')"
      ]
     },
     "execution_count": 29,
     "metadata": {},
     "output_type": "execute_result"
    }
   ],
   "source": [
    "min_deg1"
   ]
  },
  {
   "cell_type": "markdown",
   "metadata": {},
   "source": [
    "##### Maximum degree"
   ]
  },
  {
   "cell_type": "code",
   "execution_count": 30,
   "metadata": {
    "collapsed": true
   },
   "outputs": [],
   "source": [
    "max_deg1 = max((q1_g.degree(n), n) for n in q1_g.nodes)"
   ]
  },
  {
   "cell_type": "code",
   "execution_count": 31,
   "metadata": {},
   "outputs": [
    {
     "data": {
      "text/plain": [
       "(15, 'Social sciences')"
      ]
     },
     "execution_count": 31,
     "metadata": {},
     "output_type": "execute_result"
    }
   ],
   "source": [
    "max_deg1"
   ]
  },
  {
   "cell_type": "markdown",
   "metadata": {},
   "source": [
    "##### Betweenness centrality"
   ]
  },
  {
   "cell_type": "code",
   "execution_count": 32,
   "metadata": {
    "collapsed": true
   },
   "outputs": [],
   "source": [
    "bc1 = nx.betweenness_centrality(q1_g)"
   ]
  },
  {
   "cell_type": "code",
   "execution_count": 33,
   "metadata": {
    "collapsed": true
   },
   "outputs": [],
   "source": [
    "bc1_df = pd.DataFrame(\n",
    "    pd.Series(bc1),\n",
    "    columns=['Betweenness Centrality'],\n",
    ").sort_values('Betweenness Centrality', ascending=False)"
   ]
  },
  {
   "cell_type": "code",
   "execution_count": 34,
   "metadata": {
    "scrolled": true
   },
   "outputs": [
    {
     "data": {
      "text/html": [
       "<div>\n",
       "<style scoped>\n",
       "    .dataframe tbody tr th:only-of-type {\n",
       "        vertical-align: middle;\n",
       "    }\n",
       "\n",
       "    .dataframe tbody tr th {\n",
       "        vertical-align: top;\n",
       "    }\n",
       "\n",
       "    .dataframe thead th {\n",
       "        text-align: right;\n",
       "    }\n",
       "</style>\n",
       "<table border=\"1\" class=\"dataframe\">\n",
       "  <thead>\n",
       "    <tr style=\"text-align: right;\">\n",
       "      <th></th>\n",
       "      <th>Betweenness Centrality</th>\n",
       "    </tr>\n",
       "  </thead>\n",
       "  <tbody>\n",
       "    <tr>\n",
       "      <th>Social sciences</th>\n",
       "      <td>0.110333</td>\n",
       "    </tr>\n",
       "    <tr>\n",
       "      <th>Religion</th>\n",
       "      <td>0.110333</td>\n",
       "    </tr>\n",
       "    <tr>\n",
       "      <th>Arts &amp; recreation</th>\n",
       "      <td>0.030333</td>\n",
       "    </tr>\n",
       "    <tr>\n",
       "      <th>Computer science,\\ninformation,\\n&amp; general works</th>\n",
       "      <td>0.030333</td>\n",
       "    </tr>\n",
       "    <tr>\n",
       "      <th>Science</th>\n",
       "      <td>0.030333</td>\n",
       "    </tr>\n",
       "    <tr>\n",
       "      <th>Philosophy &amp; psychology</th>\n",
       "      <td>0.030333</td>\n",
       "    </tr>\n",
       "    <tr>\n",
       "      <th>Literature</th>\n",
       "      <td>0.030333</td>\n",
       "    </tr>\n",
       "    <tr>\n",
       "      <th>Language</th>\n",
       "      <td>0.030333</td>\n",
       "    </tr>\n",
       "    <tr>\n",
       "      <th>History &amp; geography</th>\n",
       "      <td>0.030333</td>\n",
       "    </tr>\n",
       "    <tr>\n",
       "      <th>Technology</th>\n",
       "      <td>0.030333</td>\n",
       "    </tr>\n",
       "    <tr>\n",
       "      <th>CSU</th>\n",
       "      <td>0.015238</td>\n",
       "    </tr>\n",
       "    <tr>\n",
       "      <th>CTA</th>\n",
       "      <td>0.015238</td>\n",
       "    </tr>\n",
       "    <tr>\n",
       "      <th>CTB</th>\n",
       "      <td>0.015238</td>\n",
       "    </tr>\n",
       "    <tr>\n",
       "      <th>CTF</th>\n",
       "      <td>0.015238</td>\n",
       "    </tr>\n",
       "    <tr>\n",
       "      <th>CTI</th>\n",
       "      <td>0.015238</td>\n",
       "    </tr>\n",
       "    <tr>\n",
       "      <th>CTU</th>\n",
       "      <td>0.015238</td>\n",
       "    </tr>\n",
       "    <tr>\n",
       "      <th>CIV</th>\n",
       "      <td>0.015238</td>\n",
       "    </tr>\n",
       "    <tr>\n",
       "      <th>CIS</th>\n",
       "      <td>0.015238</td>\n",
       "    </tr>\n",
       "    <tr>\n",
       "      <th>CIP</th>\n",
       "      <td>0.015238</td>\n",
       "    </tr>\n",
       "    <tr>\n",
       "      <th>CIN</th>\n",
       "      <td>0.015238</td>\n",
       "    </tr>\n",
       "    <tr>\n",
       "      <th>CEM</th>\n",
       "      <td>0.015238</td>\n",
       "    </tr>\n",
       "    <tr>\n",
       "      <th>CE2</th>\n",
       "      <td>0.015238</td>\n",
       "    </tr>\n",
       "    <tr>\n",
       "      <th>CE1</th>\n",
       "      <td>0.015238</td>\n",
       "    </tr>\n",
       "    <tr>\n",
       "      <th>CTC</th>\n",
       "      <td>0.015238</td>\n",
       "    </tr>\n",
       "    <tr>\n",
       "      <th>CAN</th>\n",
       "      <td>0.000000</td>\n",
       "    </tr>\n",
       "    <tr>\n",
       "      <th>CE3</th>\n",
       "      <td>0.000000</td>\n",
       "    </tr>\n",
       "  </tbody>\n",
       "</table>\n",
       "</div>"
      ],
      "text/plain": [
       "                                                  Betweenness Centrality\n",
       "Social sciences                                                 0.110333\n",
       "Religion                                                        0.110333\n",
       "Arts & recreation                                               0.030333\n",
       "Computer science,\\ninformation,\\n& general works                0.030333\n",
       "Science                                                         0.030333\n",
       "Philosophy & psychology                                         0.030333\n",
       "Literature                                                      0.030333\n",
       "Language                                                        0.030333\n",
       "History & geography                                             0.030333\n",
       "Technology                                                      0.030333\n",
       "CSU                                                             0.015238\n",
       "CTA                                                             0.015238\n",
       "CTB                                                             0.015238\n",
       "CTF                                                             0.015238\n",
       "CTI                                                             0.015238\n",
       "CTU                                                             0.015238\n",
       "CIV                                                             0.015238\n",
       "CIS                                                             0.015238\n",
       "CIP                                                             0.015238\n",
       "CIN                                                             0.015238\n",
       "CEM                                                             0.015238\n",
       "CE2                                                             0.015238\n",
       "CE1                                                             0.015238\n",
       "CTC                                                             0.015238\n",
       "CAN                                                             0.000000\n",
       "CE3                                                             0.000000"
      ]
     },
     "execution_count": 34,
     "metadata": {},
     "output_type": "execute_result"
    }
   ],
   "source": [
    "bc1_df"
   ]
  },
  {
   "cell_type": "markdown",
   "metadata": {},
   "source": [
    "### Query #2"
   ]
  },
  {
   "cell_type": "code",
   "execution_count": 35,
   "metadata": {
    "collapsed": true
   },
   "outputs": [],
   "source": [
    "query2a_sr = p_df.groupby(['SUCURSAL_PRESTAMO', 'GDEWEY']).TITULO.count()\n",
    "query2b_sr = p_df.groupby(['GDEWEY', 'SUCURSAL_PRESTAMO']).TITULO.count()"
   ]
  },
  {
   "cell_type": "code",
   "execution_count": 36,
   "metadata": {},
   "outputs": [
    {
     "data": {
      "text/plain": [
       "SUCURSAL_PRESTAMO  GDEWEY\n",
       "ARM                0          945\n",
       "                   1         1542\n",
       "                   2          288\n",
       "                   3         3458\n",
       "                   4          216\n",
       "Name: TITULO, dtype: int64"
      ]
     },
     "execution_count": 36,
     "metadata": {},
     "output_type": "execute_result"
    }
   ],
   "source": [
    "query2a_sr.head()"
   ]
  },
  {
   "cell_type": "code",
   "execution_count": 37,
   "metadata": {},
   "outputs": [
    {
     "data": {
      "text/plain": [
       "GDEWEY  SUCURSAL_PRESTAMO\n",
       "0       ARM                    945\n",
       "        BAR                    268\n",
       "        BLAA                 42745\n",
       "        BUC                   1101\n",
       "        BUE                    156\n",
       "Name: TITULO, dtype: int64"
      ]
     },
     "execution_count": 37,
     "metadata": {},
     "output_type": "execute_result"
    }
   ],
   "source": [
    "query2b_sr.head()"
   ]
  },
  {
   "cell_type": "code",
   "execution_count": 38,
   "metadata": {
    "collapsed": true
   },
   "outputs": [],
   "source": [
    "q2_g = nx.Graph()\n",
    "for (branch, gdewey), n in query2a_sr.iteritems():\n",
    "    if branch not in q2_g:\n",
    "        a = query2a_sr[branch].sum()\n",
    "        q2_g.add_node(branch, type='Library branch', weight=int(a))\n",
    "    if gdewey not in q2_g:\n",
    "        b = query2b_sr[gdewey].sum()\n",
    "        q2_g.add_node(gdewey_dct[gdewey], type='Dewey class', weight=int(b))\n",
    "    q2_g.add_edge(branch, gdewey_dct[gdewey], weight=int(n))"
   ]
  },
  {
   "cell_type": "code",
   "execution_count": 39,
   "metadata": {},
   "outputs": [
    {
     "data": {
      "text/plain": [
       "43"
      ]
     },
     "execution_count": 39,
     "metadata": {},
     "output_type": "execute_result"
    }
   ],
   "source": [
    "q2_g.number_of_nodes()"
   ]
  },
  {
   "cell_type": "code",
   "execution_count": 40,
   "metadata": {},
   "outputs": [
    {
     "data": {
      "text/plain": [
       "321"
      ]
     },
     "execution_count": 40,
     "metadata": {},
     "output_type": "execute_result"
    }
   ],
   "source": [
    "q2_g.number_of_edges()"
   ]
  },
  {
   "cell_type": "code",
   "execution_count": 41,
   "metadata": {},
   "outputs": [
    {
     "data": {
      "text/plain": [
       "0"
      ]
     },
     "execution_count": 41,
     "metadata": {},
     "output_type": "execute_result"
    }
   ],
   "source": [
    "q2_g.number_of_selfloops()"
   ]
  },
  {
   "cell_type": "code",
   "execution_count": 42,
   "metadata": {
    "collapsed": true
   },
   "outputs": [],
   "source": [
    "nx.write_gexf(q2_g, 'queries/q2.gexf')"
   ]
  },
  {
   "cell_type": "markdown",
   "metadata": {},
   "source": [
    "#### Metrics"
   ]
  },
  {
   "cell_type": "markdown",
   "metadata": {},
   "source": [
    "##### Minimum degree"
   ]
  },
  {
   "cell_type": "code",
   "execution_count": 43,
   "metadata": {
    "collapsed": true
   },
   "outputs": [],
   "source": [
    "min_deg2 = min((q2_g.degree(n), n) for n in q2_g.nodes)"
   ]
  },
  {
   "cell_type": "code",
   "execution_count": 44,
   "metadata": {},
   "outputs": [
    {
     "data": {
      "text/plain": [
       "(1, 'IEC')"
      ]
     },
     "execution_count": 44,
     "metadata": {},
     "output_type": "execute_result"
    }
   ],
   "source": [
    "min_deg2"
   ]
  },
  {
   "cell_type": "markdown",
   "metadata": {},
   "source": [
    "##### Maximum degree"
   ]
  },
  {
   "cell_type": "code",
   "execution_count": 45,
   "metadata": {
    "collapsed": true
   },
   "outputs": [],
   "source": [
    "max_deg2 = max((q2_g.degree(n), n) for n in q2_g.nodes)"
   ]
  },
  {
   "cell_type": "code",
   "execution_count": 46,
   "metadata": {},
   "outputs": [
    {
     "data": {
      "text/plain": [
       "(33, 'Social sciences')"
      ]
     },
     "execution_count": 46,
     "metadata": {},
     "output_type": "execute_result"
    }
   ],
   "source": [
    "max_deg2"
   ]
  },
  {
   "cell_type": "markdown",
   "metadata": {},
   "source": [
    "##### Betweenness centrality"
   ]
  },
  {
   "cell_type": "code",
   "execution_count": 47,
   "metadata": {
    "collapsed": true
   },
   "outputs": [],
   "source": [
    "bc2 = nx.betweenness_centrality(q2_g)"
   ]
  },
  {
   "cell_type": "code",
   "execution_count": 48,
   "metadata": {
    "collapsed": true
   },
   "outputs": [],
   "source": [
    "bc2_df = pd.DataFrame(\n",
    "    pd.Series(bc2),\n",
    "    columns=['Betweenness Centrality'],\n",
    ").sort_values('Betweenness Centrality', ascending=False)"
   ]
  },
  {
   "cell_type": "code",
   "execution_count": 49,
   "metadata": {},
   "outputs": [
    {
     "data": {
      "text/html": [
       "<div>\n",
       "<style scoped>\n",
       "    .dataframe tbody tr th:only-of-type {\n",
       "        vertical-align: middle;\n",
       "    }\n",
       "\n",
       "    .dataframe tbody tr th {\n",
       "        vertical-align: top;\n",
       "    }\n",
       "\n",
       "    .dataframe thead th {\n",
       "        text-align: right;\n",
       "    }\n",
       "</style>\n",
       "<table border=\"1\" class=\"dataframe\">\n",
       "  <thead>\n",
       "    <tr style=\"text-align: right;\">\n",
       "      <th></th>\n",
       "      <th>Betweenness Centrality</th>\n",
       "    </tr>\n",
       "  </thead>\n",
       "  <tbody>\n",
       "    <tr>\n",
       "      <th>Social sciences</th>\n",
       "      <td>0.105226</td>\n",
       "    </tr>\n",
       "    <tr>\n",
       "      <th>Language</th>\n",
       "      <td>0.057607</td>\n",
       "    </tr>\n",
       "    <tr>\n",
       "      <th>Religion</th>\n",
       "      <td>0.057607</td>\n",
       "    </tr>\n",
       "    <tr>\n",
       "      <th>Arts &amp; recreation</th>\n",
       "      <td>0.057607</td>\n",
       "    </tr>\n",
       "    <tr>\n",
       "      <th>History &amp; geography</th>\n",
       "      <td>0.057607</td>\n",
       "    </tr>\n",
       "    <tr>\n",
       "      <th>Philosophy &amp; psychology</th>\n",
       "      <td>0.057607</td>\n",
       "    </tr>\n",
       "    <tr>\n",
       "      <th>Computer science,\\ninformation,\\n&amp; general works</th>\n",
       "      <td>0.057607</td>\n",
       "    </tr>\n",
       "    <tr>\n",
       "      <th>Science</th>\n",
       "      <td>0.057607</td>\n",
       "    </tr>\n",
       "    <tr>\n",
       "      <th>Technology</th>\n",
       "      <td>0.057607</td>\n",
       "    </tr>\n",
       "    <tr>\n",
       "      <th>Literature</th>\n",
       "      <td>0.057607</td>\n",
       "    </tr>\n",
       "    <tr>\n",
       "      <th>STM</th>\n",
       "      <td>0.001960</td>\n",
       "    </tr>\n",
       "    <tr>\n",
       "      <th>SIN</th>\n",
       "      <td>0.001960</td>\n",
       "    </tr>\n",
       "    <tr>\n",
       "      <th>SAN</th>\n",
       "      <td>0.001960</td>\n",
       "    </tr>\n",
       "    <tr>\n",
       "      <th>MED</th>\n",
       "      <td>0.001960</td>\n",
       "    </tr>\n",
       "    <tr>\n",
       "      <th>RIO</th>\n",
       "      <td>0.001960</td>\n",
       "    </tr>\n",
       "    <tr>\n",
       "      <th>QUI</th>\n",
       "      <td>0.001960</td>\n",
       "    </tr>\n",
       "    <tr>\n",
       "      <th>TUN</th>\n",
       "      <td>0.001960</td>\n",
       "    </tr>\n",
       "    <tr>\n",
       "      <th>POP</th>\n",
       "      <td>0.001960</td>\n",
       "    </tr>\n",
       "    <tr>\n",
       "      <th>PER</th>\n",
       "      <td>0.001960</td>\n",
       "    </tr>\n",
       "    <tr>\n",
       "      <th>PAS</th>\n",
       "      <td>0.001960</td>\n",
       "    </tr>\n",
       "    <tr>\n",
       "      <th>NEI</th>\n",
       "      <td>0.001960</td>\n",
       "    </tr>\n",
       "    <tr>\n",
       "      <th>MON</th>\n",
       "      <td>0.001960</td>\n",
       "    </tr>\n",
       "    <tr>\n",
       "      <th>VAL</th>\n",
       "      <td>0.001960</td>\n",
       "    </tr>\n",
       "    <tr>\n",
       "      <th>ARM</th>\n",
       "      <td>0.001960</td>\n",
       "    </tr>\n",
       "    <tr>\n",
       "      <th>MAN</th>\n",
       "      <td>0.001960</td>\n",
       "    </tr>\n",
       "    <tr>\n",
       "      <th>CATMAN</th>\n",
       "      <td>0.001960</td>\n",
       "    </tr>\n",
       "    <tr>\n",
       "      <th>BAR</th>\n",
       "      <td>0.001960</td>\n",
       "    </tr>\n",
       "    <tr>\n",
       "      <th>BLAA</th>\n",
       "      <td>0.001960</td>\n",
       "    </tr>\n",
       "    <tr>\n",
       "      <th>BUC</th>\n",
       "      <td>0.001960</td>\n",
       "    </tr>\n",
       "    <tr>\n",
       "      <th>BUE</th>\n",
       "      <td>0.001960</td>\n",
       "    </tr>\n",
       "    <tr>\n",
       "      <th>CAL</th>\n",
       "      <td>0.001960</td>\n",
       "    </tr>\n",
       "    <tr>\n",
       "      <th>CAR</th>\n",
       "      <td>0.001960</td>\n",
       "    </tr>\n",
       "    <tr>\n",
       "      <th>CASAGO</th>\n",
       "      <td>0.001960</td>\n",
       "    </tr>\n",
       "    <tr>\n",
       "      <th>CUC</th>\n",
       "      <td>0.001960</td>\n",
       "    </tr>\n",
       "    <tr>\n",
       "      <th>LET</th>\n",
       "      <td>0.001960</td>\n",
       "    </tr>\n",
       "    <tr>\n",
       "      <th>ESPE</th>\n",
       "      <td>0.001960</td>\n",
       "    </tr>\n",
       "    <tr>\n",
       "      <th>FLO</th>\n",
       "      <td>0.001960</td>\n",
       "    </tr>\n",
       "    <tr>\n",
       "      <th>GIR</th>\n",
       "      <td>0.001960</td>\n",
       "    </tr>\n",
       "    <tr>\n",
       "      <th>HON</th>\n",
       "      <td>0.001960</td>\n",
       "    </tr>\n",
       "    <tr>\n",
       "      <th>IBA</th>\n",
       "      <td>0.001960</td>\n",
       "    </tr>\n",
       "    <tr>\n",
       "      <th>IPI</th>\n",
       "      <td>0.001960</td>\n",
       "    </tr>\n",
       "    <tr>\n",
       "      <th>VIL</th>\n",
       "      <td>0.001960</td>\n",
       "    </tr>\n",
       "    <tr>\n",
       "      <th>IEC</th>\n",
       "      <td>0.000000</td>\n",
       "    </tr>\n",
       "  </tbody>\n",
       "</table>\n",
       "</div>"
      ],
      "text/plain": [
       "                                                  Betweenness Centrality\n",
       "Social sciences                                                 0.105226\n",
       "Language                                                        0.057607\n",
       "Religion                                                        0.057607\n",
       "Arts & recreation                                               0.057607\n",
       "History & geography                                             0.057607\n",
       "Philosophy & psychology                                         0.057607\n",
       "Computer science,\\ninformation,\\n& general works                0.057607\n",
       "Science                                                         0.057607\n",
       "Technology                                                      0.057607\n",
       "Literature                                                      0.057607\n",
       "STM                                                             0.001960\n",
       "SIN                                                             0.001960\n",
       "SAN                                                             0.001960\n",
       "MED                                                             0.001960\n",
       "RIO                                                             0.001960\n",
       "QUI                                                             0.001960\n",
       "TUN                                                             0.001960\n",
       "POP                                                             0.001960\n",
       "PER                                                             0.001960\n",
       "PAS                                                             0.001960\n",
       "NEI                                                             0.001960\n",
       "MON                                                             0.001960\n",
       "VAL                                                             0.001960\n",
       "ARM                                                             0.001960\n",
       "MAN                                                             0.001960\n",
       "CATMAN                                                          0.001960\n",
       "BAR                                                             0.001960\n",
       "BLAA                                                            0.001960\n",
       "BUC                                                             0.001960\n",
       "BUE                                                             0.001960\n",
       "CAL                                                             0.001960\n",
       "CAR                                                             0.001960\n",
       "CASAGO                                                          0.001960\n",
       "CUC                                                             0.001960\n",
       "LET                                                             0.001960\n",
       "ESPE                                                            0.001960\n",
       "FLO                                                             0.001960\n",
       "GIR                                                             0.001960\n",
       "HON                                                             0.001960\n",
       "IBA                                                             0.001960\n",
       "IPI                                                             0.001960\n",
       "VIL                                                             0.001960\n",
       "IEC                                                             0.000000"
      ]
     },
     "execution_count": 49,
     "metadata": {},
     "output_type": "execute_result"
    }
   ],
   "source": [
    "bc2_df"
   ]
  },
  {
   "cell_type": "markdown",
   "metadata": {},
   "source": [
    "### Query #3"
   ]
  },
  {
   "cell_type": "code",
   "execution_count": 50,
   "metadata": {
    "collapsed": true
   },
   "outputs": [],
   "source": [
    "top_titles_df = pd.read_csv('queries/15_titulos.csv')"
   ]
  },
  {
   "cell_type": "code",
   "execution_count": 51,
   "metadata": {
    "collapsed": true
   },
   "outputs": [],
   "source": [
    "top_titles_sr = top_titles_df.set_index('TÍTULO')['VOLUMEN']"
   ]
  },
  {
   "cell_type": "code",
   "execution_count": 52,
   "metadata": {},
   "outputs": [
    {
     "data": {
      "text/plain": [
       "TÍTULO\n",
       "Obras completas                                                 4060\n",
       "Física                                                          2013\n",
       "Cien años de soledad                                            1997\n",
       "Cuentos completos                                               1950\n",
       "Biología                                                        1777\n",
       "Química                                                         1745\n",
       "Metodología de la investigación                                 1605\n",
       "Algebra lineal                                                  1549\n",
       "Cuentos                                                         1539\n",
       "Rayuela                                                         1501\n",
       "Antología poética                                               1485\n",
       "Cálculo                                                         1457\n",
       "El amor en los tiempos del cólera                               1451\n",
       "Física universitaria                                            1368\n",
       "Química orgánica                                                1361\n",
       "El principito                                                   1330\n",
       "En el trayecto ... aprende escuchando dónde quieras y cuándo    1294\n",
       "El retrato de Dorian Gray                                       1283\n",
       "Opio en las nubes                                               1272\n",
       "Diálogos                                                        1219\n",
       "El túnel                                                        1213\n",
       "Jugando con la plastilina                                       1181\n",
       "Alicia en el país de las maravillas                             1179\n",
       "Historia de la filosofía                                        1154\n",
       "Crimen y castigo                                                1131\n",
       "Name: VOLUMEN, dtype: int64"
      ]
     },
     "execution_count": 52,
     "metadata": {},
     "output_type": "execute_result"
    }
   ],
   "source": [
    "top_titles_sr"
   ]
  },
  {
   "cell_type": "code",
   "execution_count": 53,
   "metadata": {
    "collapsed": true
   },
   "outputs": [],
   "source": [
    "top_titles_lst = top_titles_df['TÍTULO'].tolist()"
   ]
  },
  {
   "cell_type": "code",
   "execution_count": 54,
   "metadata": {
    "collapsed": true
   },
   "outputs": [],
   "source": [
    "p_df2 = p_df[p_df.TITULO.isin(top_titles_lst)]"
   ]
  },
  {
   "cell_type": "code",
   "execution_count": 55,
   "metadata": {},
   "outputs": [
    {
     "data": {
      "text/plain": [
       "(37084, 22)"
      ]
     },
     "execution_count": 55,
     "metadata": {},
     "output_type": "execute_result"
    }
   ],
   "source": [
    "p_df2.shape"
   ]
  },
  {
   "cell_type": "code",
   "execution_count": 56,
   "metadata": {
    "collapsed": true
   },
   "outputs": [],
   "source": [
    "query3a_sr = p_df2.groupby(['SUCURSAL_PRESTAMO', 'TITULO']).COD_BARRAS_LIBRO.count()\n",
    "query3b_sr = p_df2.groupby(['SUCURSAL_PRESTAMO', 'CATEGORÍA']).COD_BARRAS_LIBRO.count()\n",
    "query3c_sr = p_df2.groupby(['CATEGORÍA', 'TITULO']).COD_BARRAS_LIBRO.count()"
   ]
  },
  {
   "cell_type": "code",
   "execution_count": 57,
   "metadata": {},
   "outputs": [
    {
     "data": {
      "text/plain": [
       "SUCURSAL_PRESTAMO  TITULO                             \n",
       "ARM                Alicia en el país de las maravillas    46\n",
       "                   Antología poética                       8\n",
       "                   Biología                                4\n",
       "                   Cien años de soledad                    8\n",
       "                   Crimen y castigo                        2\n",
       "Name: COD_BARRAS_LIBRO, dtype: int64"
      ]
     },
     "execution_count": 57,
     "metadata": {},
     "output_type": "execute_result"
    }
   ],
   "source": [
    "query3a_sr.head()"
   ]
  },
  {
   "cell_type": "code",
   "execution_count": 58,
   "metadata": {},
   "outputs": [
    {
     "data": {
      "text/plain": [
       "SUCURSAL_PRESTAMO  CATEGORÍA\n",
       "ARM                CE1          14\n",
       "                   CEM          16\n",
       "                   CIS           6\n",
       "                   CSU           9\n",
       "                   CTA          74\n",
       "Name: COD_BARRAS_LIBRO, dtype: int64"
      ]
     },
     "execution_count": 58,
     "metadata": {},
     "output_type": "execute_result"
    }
   ],
   "source": [
    "query3b_sr.head()"
   ]
  },
  {
   "cell_type": "code",
   "execution_count": 59,
   "metadata": {},
   "outputs": [
    {
     "data": {
      "text/plain": [
       "CATEGORÍA  TITULO                             \n",
       "CE1        Algebra lineal                         14\n",
       "           Alicia en el país de las maravillas    32\n",
       "           Antología poética                      22\n",
       "           Biología                                8\n",
       "           Cien años de soledad                   29\n",
       "Name: COD_BARRAS_LIBRO, dtype: int64"
      ]
     },
     "execution_count": 59,
     "metadata": {},
     "output_type": "execute_result"
    }
   ],
   "source": [
    "query3c_sr.head()"
   ]
  },
  {
   "cell_type": "code",
   "execution_count": 60,
   "metadata": {},
   "outputs": [
    {
     "name": "stdout",
     "output_type": "stream",
     "text": [
      "CPU times: user 34.2 s, sys: 36 ms, total: 34.3 s\n",
      "Wall time: 34.2 s\n"
     ]
    }
   ],
   "source": [
    "%%time\n",
    "\n",
    "q3_g = nx.Graph()\n",
    "for i, row in p_df2.iterrows():\n",
    "    title = row['TITULO']\n",
    "    branch = row['SUCURSAL_PRESTAMO']\n",
    "    category = row['CATEGORÍA']\n",
    "    if title not in q3_g:\n",
    "        m = top_titles_sr[title]\n",
    "        q3_g.add_node(title, type='Title', weight=int(m))\n",
    "    if branch not in q3_g:\n",
    "        b = query3b_sr[branch].sum()\n",
    "        q3_g.add_node(branch, type='Library branch', weight=int(b))\n",
    "    if category not in q3_g:\n",
    "        c = query3c_sr[category].sum()\n",
    "        q3_g.add_node(category, type='User category', weight=int(c))\n",
    "    x = query3a_sr[branch][title]\n",
    "    y = query3b_sr[branch][category]\n",
    "    z = query3c_sr[category][title]\n",
    "    q3_g.add_edge(branch, title, weight=int(x))\n",
    "    q3_g.add_edge(branch, category, weight=int(y))\n",
    "    q3_g.add_edge(category, title, weight=int(z))"
   ]
  },
  {
   "cell_type": "code",
   "execution_count": 61,
   "metadata": {},
   "outputs": [
    {
     "data": {
      "text/plain": [
       "70"
      ]
     },
     "execution_count": 61,
     "metadata": {},
     "output_type": "execute_result"
    }
   ],
   "source": [
    "q3_g.number_of_nodes()"
   ]
  },
  {
   "cell_type": "code",
   "execution_count": 62,
   "metadata": {},
   "outputs": [
    {
     "data": {
      "text/plain": [
       "1227"
      ]
     },
     "execution_count": 62,
     "metadata": {},
     "output_type": "execute_result"
    }
   ],
   "source": [
    "q3_g.number_of_edges()"
   ]
  },
  {
   "cell_type": "code",
   "execution_count": 63,
   "metadata": {},
   "outputs": [
    {
     "data": {
      "text/plain": [
       "0"
      ]
     },
     "execution_count": 63,
     "metadata": {},
     "output_type": "execute_result"
    }
   ],
   "source": [
    "q3_g.number_of_selfloops()"
   ]
  },
  {
   "cell_type": "code",
   "execution_count": 64,
   "metadata": {
    "collapsed": true
   },
   "outputs": [],
   "source": [
    "nx.write_gexf(q3_g, 'queries/q3.gexf')"
   ]
  },
  {
   "cell_type": "markdown",
   "metadata": {},
   "source": [
    "#### Metrics"
   ]
  },
  {
   "cell_type": "markdown",
   "metadata": {},
   "source": [
    "##### Minimum degree"
   ]
  },
  {
   "cell_type": "code",
   "execution_count": 65,
   "metadata": {
    "collapsed": true
   },
   "outputs": [],
   "source": [
    "min_deg3 = min((q3_g.degree(n), n) for n in q3_g.nodes)"
   ]
  },
  {
   "cell_type": "code",
   "execution_count": 66,
   "metadata": {},
   "outputs": [
    {
     "data": {
      "text/plain": [
       "(4, 'CATMAN')"
      ]
     },
     "execution_count": 66,
     "metadata": {},
     "output_type": "execute_result"
    }
   ],
   "source": [
    "min_deg3"
   ]
  },
  {
   "cell_type": "markdown",
   "metadata": {},
   "source": [
    "##### Maximum degree"
   ]
  },
  {
   "cell_type": "code",
   "execution_count": 67,
   "metadata": {
    "collapsed": true
   },
   "outputs": [],
   "source": [
    "max_deg3 = max((q3_g.degree(n), n) for n in q3_g.nodes)"
   ]
  },
  {
   "cell_type": "code",
   "execution_count": 68,
   "metadata": {},
   "outputs": [
    {
     "data": {
      "text/plain": [
       "(55, 'CTB')"
      ]
     },
     "execution_count": 68,
     "metadata": {},
     "output_type": "execute_result"
    }
   ],
   "source": [
    "max_deg3"
   ]
  },
  {
   "cell_type": "markdown",
   "metadata": {},
   "source": [
    "##### Betweenness centrality"
   ]
  },
  {
   "cell_type": "code",
   "execution_count": 69,
   "metadata": {
    "collapsed": true
   },
   "outputs": [],
   "source": [
    "bc3 = nx.betweenness_centrality(q3_g)"
   ]
  },
  {
   "cell_type": "code",
   "execution_count": 70,
   "metadata": {
    "collapsed": true
   },
   "outputs": [],
   "source": [
    "bc3_df = pd.DataFrame(\n",
    "    pd.Series(bc3),\n",
    "    columns=['Betweenness Centrality'],\n",
    ").sort_values('Betweenness Centrality', ascending=False)"
   ]
  },
  {
   "cell_type": "code",
   "execution_count": 71,
   "metadata": {
    "scrolled": false
   },
   "outputs": [
    {
     "data": {
      "text/html": [
       "<div>\n",
       "<style scoped>\n",
       "    .dataframe tbody tr th:only-of-type {\n",
       "        vertical-align: middle;\n",
       "    }\n",
       "\n",
       "    .dataframe tbody tr th {\n",
       "        vertical-align: top;\n",
       "    }\n",
       "\n",
       "    .dataframe thead th {\n",
       "        text-align: right;\n",
       "    }\n",
       "</style>\n",
       "<table border=\"1\" class=\"dataframe\">\n",
       "  <thead>\n",
       "    <tr style=\"text-align: right;\">\n",
       "      <th></th>\n",
       "      <th>Betweenness Centrality</th>\n",
       "    </tr>\n",
       "  </thead>\n",
       "  <tbody>\n",
       "    <tr>\n",
       "      <th>CSU</th>\n",
       "      <td>0.022309</td>\n",
       "    </tr>\n",
       "    <tr>\n",
       "      <th>Antología poética</th>\n",
       "      <td>0.021688</td>\n",
       "    </tr>\n",
       "    <tr>\n",
       "      <th>CTB</th>\n",
       "      <td>0.017929</td>\n",
       "    </tr>\n",
       "    <tr>\n",
       "      <th>CTF</th>\n",
       "      <td>0.015959</td>\n",
       "    </tr>\n",
       "    <tr>\n",
       "      <th>Química</th>\n",
       "      <td>0.015840</td>\n",
       "    </tr>\n",
       "    <tr>\n",
       "      <th>El amor en los tiempos del cólera</th>\n",
       "      <td>0.014942</td>\n",
       "    </tr>\n",
       "    <tr>\n",
       "      <th>Cien años de soledad</th>\n",
       "      <td>0.014106</td>\n",
       "    </tr>\n",
       "    <tr>\n",
       "      <th>Cuentos</th>\n",
       "      <td>0.013862</td>\n",
       "    </tr>\n",
       "    <tr>\n",
       "      <th>CEM</th>\n",
       "      <td>0.013841</td>\n",
       "    </tr>\n",
       "    <tr>\n",
       "      <th>Cuentos completos</th>\n",
       "      <td>0.013316</td>\n",
       "    </tr>\n",
       "    <tr>\n",
       "      <th>CE1</th>\n",
       "      <td>0.013272</td>\n",
       "    </tr>\n",
       "    <tr>\n",
       "      <th>Obras completas</th>\n",
       "      <td>0.013246</td>\n",
       "    </tr>\n",
       "    <tr>\n",
       "      <th>CTU</th>\n",
       "      <td>0.012834</td>\n",
       "    </tr>\n",
       "    <tr>\n",
       "      <th>CIS</th>\n",
       "      <td>0.012659</td>\n",
       "    </tr>\n",
       "    <tr>\n",
       "      <th>Metodología de la investigación</th>\n",
       "      <td>0.012599</td>\n",
       "    </tr>\n",
       "    <tr>\n",
       "      <th>Rayuela</th>\n",
       "      <td>0.011142</td>\n",
       "    </tr>\n",
       "    <tr>\n",
       "      <th>El principito</th>\n",
       "      <td>0.011081</td>\n",
       "    </tr>\n",
       "    <tr>\n",
       "      <th>BLAA</th>\n",
       "      <td>0.010998</td>\n",
       "    </tr>\n",
       "    <tr>\n",
       "      <th>CTC</th>\n",
       "      <td>0.010684</td>\n",
       "    </tr>\n",
       "    <tr>\n",
       "      <th>Cálculo</th>\n",
       "      <td>0.010634</td>\n",
       "    </tr>\n",
       "    <tr>\n",
       "      <th>Alicia en el país de las maravillas</th>\n",
       "      <td>0.009721</td>\n",
       "    </tr>\n",
       "    <tr>\n",
       "      <th>El túnel</th>\n",
       "      <td>0.009692</td>\n",
       "    </tr>\n",
       "    <tr>\n",
       "      <th>Física</th>\n",
       "      <td>0.009263</td>\n",
       "    </tr>\n",
       "    <tr>\n",
       "      <th>Diálogos</th>\n",
       "      <td>0.008960</td>\n",
       "    </tr>\n",
       "    <tr>\n",
       "      <th>CTA</th>\n",
       "      <td>0.008616</td>\n",
       "    </tr>\n",
       "    <tr>\n",
       "      <th>El retrato de Dorian Gray</th>\n",
       "      <td>0.008447</td>\n",
       "    </tr>\n",
       "    <tr>\n",
       "      <th>Opio en las nubes</th>\n",
       "      <td>0.007922</td>\n",
       "    </tr>\n",
       "    <tr>\n",
       "      <th>Historia de la filosofía</th>\n",
       "      <td>0.007849</td>\n",
       "    </tr>\n",
       "    <tr>\n",
       "      <th>Biología</th>\n",
       "      <td>0.007090</td>\n",
       "    </tr>\n",
       "    <tr>\n",
       "      <th>MAN</th>\n",
       "      <td>0.007082</td>\n",
       "    </tr>\n",
       "    <tr>\n",
       "      <th>CASAGO</th>\n",
       "      <td>0.006923</td>\n",
       "    </tr>\n",
       "    <tr>\n",
       "      <th>Química orgánica</th>\n",
       "      <td>0.006665</td>\n",
       "    </tr>\n",
       "    <tr>\n",
       "      <th>Crimen y castigo</th>\n",
       "      <td>0.006484</td>\n",
       "    </tr>\n",
       "    <tr>\n",
       "      <th>Física universitaria</th>\n",
       "      <td>0.006232</td>\n",
       "    </tr>\n",
       "    <tr>\n",
       "      <th>Algebra lineal</th>\n",
       "      <td>0.006125</td>\n",
       "    </tr>\n",
       "    <tr>\n",
       "      <th>PER</th>\n",
       "      <td>0.005692</td>\n",
       "    </tr>\n",
       "    <tr>\n",
       "      <th>IBA</th>\n",
       "      <td>0.005282</td>\n",
       "    </tr>\n",
       "    <tr>\n",
       "      <th>Jugando con la plastilina</th>\n",
       "      <td>0.005172</td>\n",
       "    </tr>\n",
       "    <tr>\n",
       "      <th>STM</th>\n",
       "      <td>0.005019</td>\n",
       "    </tr>\n",
       "    <tr>\n",
       "      <th>POP</th>\n",
       "      <td>0.005012</td>\n",
       "    </tr>\n",
       "    <tr>\n",
       "      <th>FLO</th>\n",
       "      <td>0.004905</td>\n",
       "    </tr>\n",
       "    <tr>\n",
       "      <th>CIN</th>\n",
       "      <td>0.004642</td>\n",
       "    </tr>\n",
       "    <tr>\n",
       "      <th>BAR</th>\n",
       "      <td>0.004352</td>\n",
       "    </tr>\n",
       "    <tr>\n",
       "      <th>NEI</th>\n",
       "      <td>0.003852</td>\n",
       "    </tr>\n",
       "    <tr>\n",
       "      <th>PAS</th>\n",
       "      <td>0.003852</td>\n",
       "    </tr>\n",
       "    <tr>\n",
       "      <th>CE2</th>\n",
       "      <td>0.003730</td>\n",
       "    </tr>\n",
       "    <tr>\n",
       "      <th>TUN</th>\n",
       "      <td>0.003625</td>\n",
       "    </tr>\n",
       "    <tr>\n",
       "      <th>IPI</th>\n",
       "      <td>0.003625</td>\n",
       "    </tr>\n",
       "    <tr>\n",
       "      <th>SIN</th>\n",
       "      <td>0.003582</td>\n",
       "    </tr>\n",
       "    <tr>\n",
       "      <th>VAL</th>\n",
       "      <td>0.003549</td>\n",
       "    </tr>\n",
       "    <tr>\n",
       "      <th>CAR</th>\n",
       "      <td>0.003527</td>\n",
       "    </tr>\n",
       "    <tr>\n",
       "      <th>GIR</th>\n",
       "      <td>0.003386</td>\n",
       "    </tr>\n",
       "    <tr>\n",
       "      <th>MED</th>\n",
       "      <td>0.003372</td>\n",
       "    </tr>\n",
       "    <tr>\n",
       "      <th>VIL</th>\n",
       "      <td>0.003360</td>\n",
       "    </tr>\n",
       "    <tr>\n",
       "      <th>HON</th>\n",
       "      <td>0.003306</td>\n",
       "    </tr>\n",
       "    <tr>\n",
       "      <th>CAL</th>\n",
       "      <td>0.003194</td>\n",
       "    </tr>\n",
       "    <tr>\n",
       "      <th>BUC</th>\n",
       "      <td>0.003026</td>\n",
       "    </tr>\n",
       "    <tr>\n",
       "      <th>LET</th>\n",
       "      <td>0.002692</td>\n",
       "    </tr>\n",
       "    <tr>\n",
       "      <th>QUI</th>\n",
       "      <td>0.002393</td>\n",
       "    </tr>\n",
       "    <tr>\n",
       "      <th>BUE</th>\n",
       "      <td>0.002191</td>\n",
       "    </tr>\n",
       "    <tr>\n",
       "      <th>RIO</th>\n",
       "      <td>0.002024</td>\n",
       "    </tr>\n",
       "    <tr>\n",
       "      <th>CUC</th>\n",
       "      <td>0.001785</td>\n",
       "    </tr>\n",
       "    <tr>\n",
       "      <th>ARM</th>\n",
       "      <td>0.001687</td>\n",
       "    </tr>\n",
       "    <tr>\n",
       "      <th>SAN</th>\n",
       "      <td>0.001630</td>\n",
       "    </tr>\n",
       "    <tr>\n",
       "      <th>MON</th>\n",
       "      <td>0.001559</td>\n",
       "    </tr>\n",
       "    <tr>\n",
       "      <th>CIV</th>\n",
       "      <td>0.000572</td>\n",
       "    </tr>\n",
       "    <tr>\n",
       "      <th>CIP</th>\n",
       "      <td>0.000516</td>\n",
       "    </tr>\n",
       "    <tr>\n",
       "      <th>CTI</th>\n",
       "      <td>0.000474</td>\n",
       "    </tr>\n",
       "    <tr>\n",
       "      <th>ESPE</th>\n",
       "      <td>0.000183</td>\n",
       "    </tr>\n",
       "    <tr>\n",
       "      <th>CATMAN</th>\n",
       "      <td>0.000035</td>\n",
       "    </tr>\n",
       "  </tbody>\n",
       "</table>\n",
       "</div>"
      ],
      "text/plain": [
       "                                     Betweenness Centrality\n",
       "CSU                                                0.022309\n",
       "Antología poética                                  0.021688\n",
       "CTB                                                0.017929\n",
       "CTF                                                0.015959\n",
       "Química                                            0.015840\n",
       "El amor en los tiempos del cólera                  0.014942\n",
       "Cien años de soledad                               0.014106\n",
       "Cuentos                                            0.013862\n",
       "CEM                                                0.013841\n",
       "Cuentos completos                                  0.013316\n",
       "CE1                                                0.013272\n",
       "Obras completas                                    0.013246\n",
       "CTU                                                0.012834\n",
       "CIS                                                0.012659\n",
       "Metodología de la investigación                    0.012599\n",
       "Rayuela                                            0.011142\n",
       "El principito                                      0.011081\n",
       "BLAA                                               0.010998\n",
       "CTC                                                0.010684\n",
       "Cálculo                                            0.010634\n",
       "Alicia en el país de las maravillas                0.009721\n",
       "El túnel                                           0.009692\n",
       "Física                                             0.009263\n",
       "Diálogos                                           0.008960\n",
       "CTA                                                0.008616\n",
       "El retrato de Dorian Gray                          0.008447\n",
       "Opio en las nubes                                  0.007922\n",
       "Historia de la filosofía                           0.007849\n",
       "Biología                                           0.007090\n",
       "MAN                                                0.007082\n",
       "CASAGO                                             0.006923\n",
       "Química orgánica                                   0.006665\n",
       "Crimen y castigo                                   0.006484\n",
       "Física universitaria                               0.006232\n",
       "Algebra lineal                                     0.006125\n",
       "PER                                                0.005692\n",
       "IBA                                                0.005282\n",
       "Jugando con la plastilina                          0.005172\n",
       "STM                                                0.005019\n",
       "POP                                                0.005012\n",
       "FLO                                                0.004905\n",
       "CIN                                                0.004642\n",
       "BAR                                                0.004352\n",
       "NEI                                                0.003852\n",
       "PAS                                                0.003852\n",
       "CE2                                                0.003730\n",
       "TUN                                                0.003625\n",
       "IPI                                                0.003625\n",
       "SIN                                                0.003582\n",
       "VAL                                                0.003549\n",
       "CAR                                                0.003527\n",
       "GIR                                                0.003386\n",
       "MED                                                0.003372\n",
       "VIL                                                0.003360\n",
       "HON                                                0.003306\n",
       "CAL                                                0.003194\n",
       "BUC                                                0.003026\n",
       "LET                                                0.002692\n",
       "QUI                                                0.002393\n",
       "BUE                                                0.002191\n",
       "RIO                                                0.002024\n",
       "CUC                                                0.001785\n",
       "ARM                                                0.001687\n",
       "SAN                                                0.001630\n",
       "MON                                                0.001559\n",
       "CIV                                                0.000572\n",
       "CIP                                                0.000516\n",
       "CTI                                                0.000474\n",
       "ESPE                                               0.000183\n",
       "CATMAN                                             0.000035"
      ]
     },
     "execution_count": 71,
     "metadata": {},
     "output_type": "execute_result"
    }
   ],
   "source": [
    "bc3_df"
   ]
  },
  {
   "cell_type": "markdown",
   "metadata": {},
   "source": [
    "### Query #4"
   ]
  },
  {
   "cell_type": "code",
   "execution_count": 72,
   "metadata": {
    "collapsed": true
   },
   "outputs": [],
   "source": [
    "query4_sr = p_df.groupby(['YEAR', 'GDEWEY']).TITULO.count()\n",
    "query4_df = query4_sr.unstack('GDEWEY')"
   ]
  },
  {
   "cell_type": "code",
   "execution_count": 73,
   "metadata": {},
   "outputs": [
    {
     "data": {
      "text/html": [
       "<div>\n",
       "<style scoped>\n",
       "    .dataframe tbody tr th:only-of-type {\n",
       "        vertical-align: middle;\n",
       "    }\n",
       "\n",
       "    .dataframe tbody tr th {\n",
       "        vertical-align: top;\n",
       "    }\n",
       "\n",
       "    .dataframe thead th {\n",
       "        text-align: right;\n",
       "    }\n",
       "</style>\n",
       "<table border=\"1\" class=\"dataframe\">\n",
       "  <thead>\n",
       "    <tr style=\"text-align: right;\">\n",
       "      <th>GDEWEY</th>\n",
       "      <th>0</th>\n",
       "      <th>1</th>\n",
       "      <th>2</th>\n",
       "      <th>3</th>\n",
       "      <th>4</th>\n",
       "      <th>5</th>\n",
       "      <th>6</th>\n",
       "      <th>7</th>\n",
       "      <th>8</th>\n",
       "      <th>9</th>\n",
       "    </tr>\n",
       "    <tr>\n",
       "      <th>YEAR</th>\n",
       "      <th></th>\n",
       "      <th></th>\n",
       "      <th></th>\n",
       "      <th></th>\n",
       "      <th></th>\n",
       "      <th></th>\n",
       "      <th></th>\n",
       "      <th></th>\n",
       "      <th></th>\n",
       "      <th></th>\n",
       "    </tr>\n",
       "  </thead>\n",
       "  <tbody>\n",
       "    <tr>\n",
       "      <th>2012</th>\n",
       "      <td>18249</td>\n",
       "      <td>49104</td>\n",
       "      <td>13029</td>\n",
       "      <td>158962</td>\n",
       "      <td>10008</td>\n",
       "      <td>50940</td>\n",
       "      <td>67045</td>\n",
       "      <td>56487</td>\n",
       "      <td>173241</td>\n",
       "      <td>45393</td>\n",
       "    </tr>\n",
       "    <tr>\n",
       "      <th>2013</th>\n",
       "      <td>16755</td>\n",
       "      <td>46765</td>\n",
       "      <td>12484</td>\n",
       "      <td>153684</td>\n",
       "      <td>9689</td>\n",
       "      <td>44408</td>\n",
       "      <td>59110</td>\n",
       "      <td>52986</td>\n",
       "      <td>186139</td>\n",
       "      <td>45448</td>\n",
       "    </tr>\n",
       "    <tr>\n",
       "      <th>2014</th>\n",
       "      <td>16067</td>\n",
       "      <td>43143</td>\n",
       "      <td>11171</td>\n",
       "      <td>141896</td>\n",
       "      <td>9739</td>\n",
       "      <td>38843</td>\n",
       "      <td>51125</td>\n",
       "      <td>48033</td>\n",
       "      <td>182096</td>\n",
       "      <td>42628</td>\n",
       "    </tr>\n",
       "    <tr>\n",
       "      <th>2015</th>\n",
       "      <td>15243</td>\n",
       "      <td>36974</td>\n",
       "      <td>9578</td>\n",
       "      <td>125755</td>\n",
       "      <td>8309</td>\n",
       "      <td>32325</td>\n",
       "      <td>40963</td>\n",
       "      <td>41588</td>\n",
       "      <td>181592</td>\n",
       "      <td>37330</td>\n",
       "    </tr>\n",
       "    <tr>\n",
       "      <th>2016</th>\n",
       "      <td>15980</td>\n",
       "      <td>34752</td>\n",
       "      <td>9066</td>\n",
       "      <td>120953</td>\n",
       "      <td>8433</td>\n",
       "      <td>32323</td>\n",
       "      <td>38874</td>\n",
       "      <td>40317</td>\n",
       "      <td>200644</td>\n",
       "      <td>37130</td>\n",
       "    </tr>\n",
       "  </tbody>\n",
       "</table>\n",
       "</div>"
      ],
      "text/plain": [
       "GDEWEY      0      1      2       3      4      5      6      7       8      9\n",
       "YEAR                                                                          \n",
       "2012    18249  49104  13029  158962  10008  50940  67045  56487  173241  45393\n",
       "2013    16755  46765  12484  153684   9689  44408  59110  52986  186139  45448\n",
       "2014    16067  43143  11171  141896   9739  38843  51125  48033  182096  42628\n",
       "2015    15243  36974   9578  125755   8309  32325  40963  41588  181592  37330\n",
       "2016    15980  34752   9066  120953   8433  32323  38874  40317  200644  37130"
      ]
     },
     "execution_count": 73,
     "metadata": {},
     "output_type": "execute_result"
    }
   ],
   "source": [
    "query4_df"
   ]
  },
  {
   "cell_type": "code",
   "execution_count": 74,
   "metadata": {},
   "outputs": [
    {
     "data": {
      "image/png": "[encoded data removed]",
      "text/plain": [
       "<Figure size 1440x432 with 1 Axes>"
      ]
     },
     "metadata": {},
     "output_type": "display_data"
    }
   ],
   "source": [
    "ax = query4_df.plot(\n",
    "    kind='bar',\n",
    "    figsize=(20, 6),\n",
    "    rot=0,\n",
    ")\n",
    "handles, labels = ax.get_legend_handles_labels()\n",
    "ax.legend(handles, values(gdewey_dct), loc=(1.01, 0))#, prop={'size': 10})\n",
    "ax.set(xlabel='Año de préstamo', ylabel='Número de ejemplares prestados')\n",
    "ax.set_title('Ejemplares prestados por año', fontsize=20);"
   ]
  },
  {
   "cell_type": "code",
   "execution_count": 75,
   "metadata": {},
   "outputs": [
    {
     "data": {
      "image/png": "[encoded data removed]",
      "text/plain": [
       "<Figure size 1440x432 with 1 Axes>"
      ]
     },
     "metadata": {},
     "output_type": "display_data"
    }
   ],
   "source": [
    "bx = query4_df.T.plot(\n",
    "    kind='bar',\n",
    "    figsize=(20, 6),\n",
    "    rot=-10,\n",
    ")\n",
    "handles, labels = bx.get_legend_handles_labels()\n",
    "bx.legend(handles, labels, loc=(1.01, 0))#, prop={'size': 10})\n",
    "bx.set(xlabel='Clase Dewey', ylabel='Número de ejemplares prestados')\n",
    "bx.set_xticklabels(values(gdewey_dct))\n",
    "bx.set_title('Ejemplares préstados por clase Dewey', fontsize=20);"
   ]
  },
  {
   "cell_type": "markdown",
   "metadata": {},
   "source": [
    "### Frequency distributions of Literature and Social Sciences"
   ]
  },
  {
   "cell_type": "code",
   "execution_count": 76,
   "metadata": {
    "collapsed": true
   },
   "outputs": [],
   "source": [
    "pdf2 = prestamos_df[(prestamos_df['GDEWEY'] == '8') | (prestamos_df['GDEWEY'] == '3')]"
   ]
  },
  {
   "cell_type": "markdown",
   "metadata": {},
   "source": [
    "#### By user category"
   ]
  },
  {
   "cell_type": "code",
   "execution_count": 77,
   "metadata": {
    "collapsed": true
   },
   "outputs": [],
   "source": [
    "sr8a = pdf2[pdf2.GDEWEY == '8']['CATEGORÍA'].value_counts()\n",
    "sr3a = pdf2[pdf2.GDEWEY == '3']['CATEGORÍA'].value_counts()"
   ]
  },
  {
   "cell_type": "code",
   "execution_count": 78,
   "metadata": {
    "collapsed": true
   },
   "outputs": [],
   "source": [
    "pdf83a = pd.DataFrame(\n",
    "    {\n",
    "        'Literature': sr8a,\n",
    "        'Social Sciences': sr3a,\n",
    "    },\n",
    ")"
   ]
  },
  {
   "cell_type": "code",
   "execution_count": 79,
   "metadata": {},
   "outputs": [
    {
     "data": {
      "image/png": "[encoded data removed]",
      "text/plain": [
       "<Figure size 864x288 with 1 Axes>"
      ]
     },
     "metadata": {},
     "output_type": "display_data"
    }
   ],
   "source": [
    "pdf83a.plot(kind='bar', rot=0, figsize=(12,4), title='Number of loans by user category');"
   ]
  },
  {
   "cell_type": "code",
   "execution_count": 80,
   "metadata": {},
   "outputs": [
    {
     "data": {
      "image/png": "[encoded data removed]",
      "text/plain": [
       "<Figure size 864x288 with 1 Axes>"
      ]
     },
     "metadata": {},
     "output_type": "display_data"
    }
   ],
   "source": [
    "pdf83a.plot(kind='bar', rot=0, figsize=(12,4), title='Number of loans by user category', logy=True);"
   ]
  },
  {
   "cell_type": "markdown",
   "metadata": {},
   "source": [
    "#### By sucursal"
   ]
  },
  {
   "cell_type": "code",
   "execution_count": 81,
   "metadata": {
    "collapsed": true
   },
   "outputs": [],
   "source": [
    "sr8b = pdf2[pdf2.GDEWEY == '8']['SUCURSAL_PRESTAMO'].value_counts()\n",
    "sr3b = pdf2[pdf2.GDEWEY == '3']['SUCURSAL_PRESTAMO'].value_counts()"
   ]
  },
  {
   "cell_type": "code",
   "execution_count": 82,
   "metadata": {
    "collapsed": true
   },
   "outputs": [],
   "source": [
    "pdf83b = pd.DataFrame(\n",
    "    {\n",
    "        'Literature': sr8b,\n",
    "        'Social Sciences': sr3b,\n",
    "    },\n",
    ")"
   ]
  },
  {
   "cell_type": "code",
   "execution_count": 83,
   "metadata": {},
   "outputs": [
    {
     "data": {
      "image/png": "[encoded data removed]",
      "text/plain": [
       "<Figure size 1152x288 with 1 Axes>"
      ]
     },
     "metadata": {},
     "output_type": "display_data"
    }
   ],
   "source": [
    "pdf83b.plot(kind='bar', rot=30, figsize=(16,4), title='Number of loans by branch');"
   ]
  },
  {
   "cell_type": "code",
   "execution_count": 100,
   "metadata": {},
   "outputs": [
    {
     "data": {
      "image/png": "[encoded data removed]",
      "text/plain": [
       "<Figure size 1152x288 with 1 Axes>"
      ]
     },
     "metadata": {},
     "output_type": "display_data"
    }
   ],
   "source": [
    "pdf83b.plot(kind='bar', rot=30, figsize=(16,4), title='Number of loans by branch', logy=True);"
   ]
  },
  {
   "cell_type": "markdown",
   "metadata": {},
   "source": [
    "### Degree of Literature and Social Sciences"
   ]
  },
  {
   "cell_type": "markdown",
   "metadata": {},
   "source": [
    "#### Dewey and user category"
   ]
  },
  {
   "cell_type": "code",
   "execution_count": 84,
   "metadata": {},
   "outputs": [
    {
     "data": {
      "text/plain": [
       "14"
      ]
     },
     "execution_count": 84,
     "metadata": {},
     "output_type": "execute_result"
    }
   ],
   "source": [
    "q1_g.degree('Literature')"
   ]
  },
  {
   "cell_type": "code",
   "execution_count": 85,
   "metadata": {
    "collapsed": true
   },
   "outputs": [],
   "source": [
    "neighbors1a = list(q1_g.neighbors('Literature'))"
   ]
  },
  {
   "cell_type": "code",
   "execution_count": 86,
   "metadata": {},
   "outputs": [
    {
     "data": {
      "text/plain": [
       "['CTI',\n",
       " 'CE1',\n",
       " 'CTA',\n",
       " 'CIP',\n",
       " 'CE2',\n",
       " 'CEM',\n",
       " 'CTF',\n",
       " 'CIV',\n",
       " 'CTU',\n",
       " 'CTC',\n",
       " 'CSU',\n",
       " 'CIS',\n",
       " 'CTB',\n",
       " 'CIN']"
      ]
     },
     "execution_count": 86,
     "metadata": {},
     "output_type": "execute_result"
    }
   ],
   "source": [
    "neighbors1a"
   ]
  },
  {
   "cell_type": "code",
   "execution_count": 87,
   "metadata": {},
   "outputs": [
    {
     "data": {
      "text/plain": [
       "15"
      ]
     },
     "execution_count": 87,
     "metadata": {},
     "output_type": "execute_result"
    }
   ],
   "source": [
    "q1_g.degree('Social sciences')"
   ]
  },
  {
   "cell_type": "code",
   "execution_count": 88,
   "metadata": {
    "collapsed": true
   },
   "outputs": [],
   "source": [
    "neighbors1b = list(q1_g.neighbors('Social sciences'))"
   ]
  },
  {
   "cell_type": "code",
   "execution_count": 89,
   "metadata": {},
   "outputs": [
    {
     "data": {
      "text/plain": [
       "['CTI',\n",
       " 'CAN',\n",
       " 'CE1',\n",
       " 'CTA',\n",
       " 'CIP',\n",
       " 'CE2',\n",
       " 'CEM',\n",
       " 'CTF',\n",
       " 'CIV',\n",
       " 'CTU',\n",
       " 'CTC',\n",
       " 'CSU',\n",
       " 'CIS',\n",
       " 'CTB',\n",
       " 'CIN']"
      ]
     },
     "execution_count": 89,
     "metadata": {},
     "output_type": "execute_result"
    }
   ],
   "source": [
    "neighbors1b"
   ]
  },
  {
   "cell_type": "code",
   "execution_count": 90,
   "metadata": {},
   "outputs": [
    {
     "data": {
      "text/plain": [
       "set()"
      ]
     },
     "execution_count": 90,
     "metadata": {},
     "output_type": "execute_result"
    }
   ],
   "source": [
    "set(neighbors1a) - set(neighbors1b)"
   ]
  },
  {
   "cell_type": "code",
   "execution_count": 91,
   "metadata": {},
   "outputs": [
    {
     "data": {
      "text/plain": [
       "{'CAN'}"
      ]
     },
     "execution_count": 91,
     "metadata": {},
     "output_type": "execute_result"
    }
   ],
   "source": [
    "set(neighbors1b) - set(neighbors1a)"
   ]
  },
  {
   "cell_type": "markdown",
   "metadata": {},
   "source": [
    "#### Dewey and branch"
   ]
  },
  {
   "cell_type": "code",
   "execution_count": 92,
   "metadata": {},
   "outputs": [
    {
     "data": {
      "text/plain": [
       "32"
      ]
     },
     "execution_count": 92,
     "metadata": {},
     "output_type": "execute_result"
    }
   ],
   "source": [
    "q2_g.degree('Literature')"
   ]
  },
  {
   "cell_type": "code",
   "execution_count": 93,
   "metadata": {
    "collapsed": true
   },
   "outputs": [],
   "source": [
    "neighbors2a = list(q2_g.neighbors('Literature'))"
   ]
  },
  {
   "cell_type": "code",
   "execution_count": 94,
   "metadata": {},
   "outputs": [
    {
     "data": {
      "text/plain": [
       "['GIR',\n",
       " 'RIO',\n",
       " 'ARM',\n",
       " 'MAN',\n",
       " 'IBA',\n",
       " 'HON',\n",
       " 'QUI',\n",
       " 'MON',\n",
       " 'MED',\n",
       " 'TUN',\n",
       " 'BUC',\n",
       " 'CATMAN',\n",
       " 'SIN',\n",
       " 'LET',\n",
       " 'BAR',\n",
       " 'IPI',\n",
       " 'CAR',\n",
       " 'VAL',\n",
       " 'FLO',\n",
       " 'CASAGO',\n",
       " 'SAN',\n",
       " 'PAS',\n",
       " 'STM',\n",
       " 'PER',\n",
       " 'NEI',\n",
       " 'BLAA',\n",
       " 'BUE',\n",
       " 'POP',\n",
       " 'VIL',\n",
       " 'CAL',\n",
       " 'ESPE',\n",
       " 'CUC']"
      ]
     },
     "execution_count": 94,
     "metadata": {},
     "output_type": "execute_result"
    }
   ],
   "source": [
    "neighbors2a"
   ]
  },
  {
   "cell_type": "code",
   "execution_count": 95,
   "metadata": {},
   "outputs": [
    {
     "data": {
      "text/plain": [
       "33"
      ]
     },
     "execution_count": 95,
     "metadata": {},
     "output_type": "execute_result"
    }
   ],
   "source": [
    "q2_g.degree('Social sciences')"
   ]
  },
  {
   "cell_type": "code",
   "execution_count": 96,
   "metadata": {
    "collapsed": true
   },
   "outputs": [],
   "source": [
    "neighbors2b = list(q2_g.neighbors('Social sciences'))"
   ]
  },
  {
   "cell_type": "code",
   "execution_count": 97,
   "metadata": {},
   "outputs": [
    {
     "data": {
      "text/plain": [
       "['GIR',\n",
       " 'RIO',\n",
       " 'ARM',\n",
       " 'MAN',\n",
       " 'IBA',\n",
       " 'HON',\n",
       " 'QUI',\n",
       " 'MON',\n",
       " 'MED',\n",
       " 'TUN',\n",
       " 'BUC',\n",
       " 'CATMAN',\n",
       " 'SIN',\n",
       " 'LET',\n",
       " 'BAR',\n",
       " 'IPI',\n",
       " 'CAR',\n",
       " 'VAL',\n",
       " 'FLO',\n",
       " 'CASAGO',\n",
       " 'SAN',\n",
       " 'PAS',\n",
       " 'STM',\n",
       " 'PER',\n",
       " 'NEI',\n",
       " 'BLAA',\n",
       " 'IEC',\n",
       " 'BUE',\n",
       " 'POP',\n",
       " 'VIL',\n",
       " 'CAL',\n",
       " 'ESPE',\n",
       " 'CUC']"
      ]
     },
     "execution_count": 97,
     "metadata": {},
     "output_type": "execute_result"
    }
   ],
   "source": [
    "neighbors2b"
   ]
  },
  {
   "cell_type": "code",
   "execution_count": 98,
   "metadata": {},
   "outputs": [
    {
     "data": {
      "text/plain": [
       "set()"
      ]
     },
     "execution_count": 98,
     "metadata": {},
     "output_type": "execute_result"
    }
   ],
   "source": [
    "set(neighbors2a) - set(neighbors2b)"
   ]
  },
  {
   "cell_type": "code",
   "execution_count": 99,
   "metadata": {},
   "outputs": [
    {
     "data": {
      "text/plain": [
       "{'IEC'}"
      ]
     },
     "execution_count": 99,
     "metadata": {},
     "output_type": "execute_result"
    }
   ],
   "source": [
    "set(neighbors2b) - set(neighbors2a)"
   ]
  },
  {
   "cell_type": "markdown",
   "metadata": {},
   "source": [
    "### Viajes libros"
   ]
  },
  {
   "cell_type": "code",
   "execution_count": 107,
   "metadata": {
    "collapsed": true
   },
   "outputs": [],
   "source": [
    "viajes_df = prestamos_df[prestamos_df['SUCURSAL'] != prestamos_df['SUCURSAL_PRESTAMO']]"
   ]
  },
  {
   "cell_type": "code",
   "execution_count": 108,
   "metadata": {},
   "outputs": [
    {
     "data": {
      "text/plain": [
       "(490031, 22)"
      ]
     },
     "execution_count": 108,
     "metadata": {},
     "output_type": "execute_result"
    }
   ],
   "source": [
    "viajes_df.shape"
   ]
  },
  {
   "cell_type": "code",
   "execution_count": 109,
   "metadata": {},
   "outputs": [
    {
     "data": {
      "text/html": [
       "<div>\n",
       "<style scoped>\n",
       "    .dataframe tbody tr th:only-of-type {\n",
       "        vertical-align: middle;\n",
       "    }\n",
       "\n",
       "    .dataframe tbody tr th {\n",
       "        vertical-align: top;\n",
       "    }\n",
       "\n",
       "    .dataframe thead th {\n",
       "        text-align: right;\n",
       "    }\n",
       "</style>\n",
       "<table border=\"1\" class=\"dataframe\">\n",
       "  <thead>\n",
       "    <tr style=\"text-align: right;\">\n",
       "      <th></th>\n",
       "      <th>TITULO</th>\n",
       "      <th>AUTOR</th>\n",
       "      <th>SUCURSAL</th>\n",
       "      <th>COD_BARRAS_LIBRO</th>\n",
       "      <th>DEWEY</th>\n",
       "      <th>DESC_LOCALIZACION_EJEMPLAR</th>\n",
       "      <th>FECHA_PUB</th>\n",
       "      <th>PAIS_EJEMPLAR</th>\n",
       "      <th>OCUPACION</th>\n",
       "      <th>NIVEL_EDUCACION</th>\n",
       "      <th>...</th>\n",
       "      <th>SUCURSAL_DEVOLUCION</th>\n",
       "      <th>SUCURSAL_DEL_LECTOR</th>\n",
       "      <th>COD_BARRAS_LECTOR</th>\n",
       "      <th>CATEGORÍA</th>\n",
       "      <th>FECHA_PRESTAMO</th>\n",
       "      <th>FECHA_REAL_DEVOLUCION</th>\n",
       "      <th>DATE_PRESTAMO</th>\n",
       "      <th>DATE_DEVOLUCION</th>\n",
       "      <th>GDEWEY</th>\n",
       "      <th>YEAR</th>\n",
       "    </tr>\n",
       "  </thead>\n",
       "  <tbody>\n",
       "    <tr>\n",
       "      <th>20</th>\n",
       "      <td>Humo</td>\n",
       "      <td>Fortes Torres, Antón, 1957-</td>\n",
       "      <td>ARM</td>\n",
       "      <td>2346909</td>\n",
       "      <td>863</td>\n",
       "      <td>Infantil</td>\n",
       "      <td>2008</td>\n",
       "      <td>sp</td>\n",
       "      <td>Estudiante</td>\n",
       "      <td>Profesional</td>\n",
       "      <td>...</td>\n",
       "      <td>BUC</td>\n",
       "      <td>BUC</td>\n",
       "      <td>88413167</td>\n",
       "      <td>CTC</td>\n",
       "      <td>16/04/2015</td>\n",
       "      <td>21/04/2015</td>\n",
       "      <td>2015-04-16</td>\n",
       "      <td>2015-04-21</td>\n",
       "      <td>8</td>\n",
       "      <td>2015</td>\n",
       "    </tr>\n",
       "    <tr>\n",
       "      <th>67</th>\n",
       "      <td>En la laguna más profunda</td>\n",
       "      <td>Collazos, Oscar, 1942-2015.</td>\n",
       "      <td>ARM</td>\n",
       "      <td>2316575</td>\n",
       "      <td>863</td>\n",
       "      <td>Centro Documentación Regional</td>\n",
       "      <td>2011</td>\n",
       "      <td>ck</td>\n",
       "      <td>Cultural</td>\n",
       "      <td></td>\n",
       "      <td>...</td>\n",
       "      <td>VIL</td>\n",
       "      <td>VIL</td>\n",
       "      <td>88208571</td>\n",
       "      <td>CIN</td>\n",
       "      <td>10/06/2015</td>\n",
       "      <td>12/06/2015</td>\n",
       "      <td>2015-06-10</td>\n",
       "      <td>2015-06-12</td>\n",
       "      <td>8</td>\n",
       "      <td>2015</td>\n",
       "    </tr>\n",
       "    <tr>\n",
       "      <th>102</th>\n",
       "      <td>The X-men: volumen 1</td>\n",
       "      <td>Lee, Stan, 1922-.</td>\n",
       "      <td>ARM</td>\n",
       "      <td>2251968</td>\n",
       "      <td>741</td>\n",
       "      <td>Centro Documentación Regional</td>\n",
       "      <td>2007</td>\n",
       "      <td>sp</td>\n",
       "      <td>Empleado</td>\n",
       "      <td>Profesional</td>\n",
       "      <td>...</td>\n",
       "      <td>CASAGO</td>\n",
       "      <td>CASAGO</td>\n",
       "      <td>88449906</td>\n",
       "      <td>CTC</td>\n",
       "      <td>14/10/2015</td>\n",
       "      <td>20/10/2015</td>\n",
       "      <td>2015-10-14</td>\n",
       "      <td>2015-10-20</td>\n",
       "      <td>7</td>\n",
       "      <td>2015</td>\n",
       "    </tr>\n",
       "    <tr>\n",
       "      <th>118</th>\n",
       "      <td>El templo del sol</td>\n",
       "      <td>Hergé, 1907-1983.</td>\n",
       "      <td>ARM</td>\n",
       "      <td>2255539</td>\n",
       "      <td>843</td>\n",
       "      <td>Infantil</td>\n",
       "      <td>2006</td>\n",
       "      <td>fr</td>\n",
       "      <td>Estudiante</td>\n",
       "      <td>Universitario 1 nivel</td>\n",
       "      <td>...</td>\n",
       "      <td>PER</td>\n",
       "      <td>PER</td>\n",
       "      <td>88438916</td>\n",
       "      <td>CTB</td>\n",
       "      <td>18/07/2015</td>\n",
       "      <td>25/07/2015</td>\n",
       "      <td>2015-07-18</td>\n",
       "      <td>2015-07-25</td>\n",
       "      <td>8</td>\n",
       "      <td>2015</td>\n",
       "    </tr>\n",
       "    <tr>\n",
       "      <th>141</th>\n",
       "      <td>Borracho en parranda santa</td>\n",
       "      <td>Vallejo Betancur, Alejandro.</td>\n",
       "      <td>ARM</td>\n",
       "      <td>1486502</td>\n",
       "      <td>863</td>\n",
       "      <td>Centro Documentación Regional</td>\n",
       "      <td>2009</td>\n",
       "      <td>ck</td>\n",
       "      <td>Estudiante</td>\n",
       "      <td>Maestría</td>\n",
       "      <td>...</td>\n",
       "      <td>PER</td>\n",
       "      <td>PER</td>\n",
       "      <td>88455036</td>\n",
       "      <td>CTB</td>\n",
       "      <td>01/06/2015</td>\n",
       "      <td>16/06/2015</td>\n",
       "      <td>2015-06-01</td>\n",
       "      <td>2015-06-16</td>\n",
       "      <td>8</td>\n",
       "      <td>2015</td>\n",
       "    </tr>\n",
       "  </tbody>\n",
       "</table>\n",
       "<p>5 rows × 22 columns</p>\n",
       "</div>"
      ],
      "text/plain": [
       "                         TITULO                         AUTOR SUCURSAL  \\\n",
       "20                         Humo   Fortes Torres, Antón, 1957-      ARM   \n",
       "67    En la laguna más profunda   Collazos, Oscar, 1942-2015.      ARM   \n",
       "102        The X-men: volumen 1             Lee, Stan, 1922-.      ARM   \n",
       "118           El templo del sol             Hergé, 1907-1983.      ARM   \n",
       "141  Borracho en parranda santa  Vallejo Betancur, Alejandro.      ARM   \n",
       "\n",
       "    COD_BARRAS_LIBRO DEWEY     DESC_LOCALIZACION_EJEMPLAR FECHA_PUB  \\\n",
       "20           2346909   863                       Infantil      2008   \n",
       "67           2316575   863  Centro Documentación Regional      2011   \n",
       "102          2251968   741  Centro Documentación Regional      2007   \n",
       "118          2255539   843                       Infantil      2006   \n",
       "141          1486502   863  Centro Documentación Regional      2009   \n",
       "\n",
       "    PAIS_EJEMPLAR   OCUPACION        NIVEL_EDUCACION  ...   \\\n",
       "20             sp  Estudiante            Profesional  ...    \n",
       "67             ck    Cultural                         ...    \n",
       "102            sp    Empleado            Profesional  ...    \n",
       "118            fr  Estudiante  Universitario 1 nivel  ...    \n",
       "141            ck  Estudiante               Maestría  ...    \n",
       "\n",
       "    SUCURSAL_DEVOLUCION SUCURSAL_DEL_LECTOR COD_BARRAS_LECTOR CATEGORÍA  \\\n",
       "20                  BUC                 BUC          88413167       CTC   \n",
       "67                  VIL                 VIL          88208571       CIN   \n",
       "102              CASAGO              CASAGO          88449906       CTC   \n",
       "118                 PER                 PER          88438916       CTB   \n",
       "141                 PER                 PER          88455036       CTB   \n",
       "\n",
       "    FECHA_PRESTAMO FECHA_REAL_DEVOLUCION DATE_PRESTAMO DATE_DEVOLUCION GDEWEY  \\\n",
       "20      16/04/2015            21/04/2015    2015-04-16      2015-04-21      8   \n",
       "67      10/06/2015            12/06/2015    2015-06-10      2015-06-12      8   \n",
       "102     14/10/2015            20/10/2015    2015-10-14      2015-10-20      7   \n",
       "118     18/07/2015            25/07/2015    2015-07-18      2015-07-25      8   \n",
       "141     01/06/2015            16/06/2015    2015-06-01      2015-06-16      8   \n",
       "\n",
       "     YEAR  \n",
       "20   2015  \n",
       "67   2015  \n",
       "102  2015  \n",
       "118  2015  \n",
       "141  2015  \n",
       "\n",
       "[5 rows x 22 columns]"
      ]
     },
     "execution_count": 109,
     "metadata": {},
     "output_type": "execute_result"
    }
   ],
   "source": [
    "viajes_df.head()"
   ]
  },
  {
   "cell_type": "code",
   "execution_count": 111,
   "metadata": {
    "collapsed": true
   },
   "outputs": [],
   "source": [
    "%%time\n",
    "\n",
    "\n",
    "viajes_g = nx.DiGraph()\n",
    "for i, row in viajes_df.iterrows():\n",
    "    suc_ejemplar = row['SUCURSAL']\n",
    "    suc_prestamo = row['SUCURSAL_PRESTAMO']\n",
    "    if suc_ejemplar not in viajes_g:\n",
    "        viajes_g.add_node(suc_ejemplar, type='Library branch', weight=1)\n",
    "    else:\n",
    "        viajes_g.node[suc_ejemplar]['weight'] += 1\n",
    "    if suc_prestamo not in viajes_g:\n",
    "        viajes_g.add_node(suc_prestamo, type='Library branch', weight=1)\n",
    "    else:\n",
    "        viajes_g.node[suc_prestamo]['weight'] += 1\n",
    "    if not viajes_g.has_edge(suc_ejemplar, suc_prestamo):\n",
    "        viajes_g.add_edge(suc_ejemplar, suc_prestamo, weight=1)\n",
    "    else:\n",
    "        viajes_g[suc_ejemplar][suc_prestamo]['weight'] += 1"
   ]
  },
  {
   "cell_type": "markdown",
   "metadata": {},
   "source": [
    "### Query Viajes"
   ]
  },
  {
   "cell_type": "code",
   "execution_count": 133,
   "metadata": {},
   "outputs": [
    {
     "data": {
      "text/html": [
       "<div>\n",
       "<style scoped>\n",
       "    .dataframe tbody tr th:only-of-type {\n",
       "        vertical-align: middle;\n",
       "    }\n",
       "\n",
       "    .dataframe tbody tr th {\n",
       "        vertical-align: top;\n",
       "    }\n",
       "\n",
       "    .dataframe thead th {\n",
       "        text-align: right;\n",
       "    }\n",
       "</style>\n",
       "<table border=\"1\" class=\"dataframe\">\n",
       "  <thead>\n",
       "    <tr style=\"text-align: right;\">\n",
       "      <th></th>\n",
       "      <th>TITULO</th>\n",
       "      <th>AUTOR</th>\n",
       "      <th>SUCURSAL</th>\n",
       "      <th>COD_BARRAS_LIBRO</th>\n",
       "      <th>DEWEY</th>\n",
       "      <th>DESC_LOCALIZACION_EJEMPLAR</th>\n",
       "      <th>FECHA_PUB</th>\n",
       "      <th>PAIS_EJEMPLAR</th>\n",
       "      <th>OCUPACION</th>\n",
       "      <th>NIVEL_EDUCACION</th>\n",
       "      <th>...</th>\n",
       "      <th>SUCURSAL_DEVOLUCION</th>\n",
       "      <th>SUCURSAL_DEL_LECTOR</th>\n",
       "      <th>COD_BARRAS_LECTOR</th>\n",
       "      <th>CATEGORÍA</th>\n",
       "      <th>FECHA_PRESTAMO</th>\n",
       "      <th>FECHA_REAL_DEVOLUCION</th>\n",
       "      <th>DATE_PRESTAMO</th>\n",
       "      <th>DATE_DEVOLUCION</th>\n",
       "      <th>GDEWEY</th>\n",
       "      <th>YEAR</th>\n",
       "    </tr>\n",
       "  </thead>\n",
       "  <tbody>\n",
       "    <tr>\n",
       "      <th>20</th>\n",
       "      <td>Humo</td>\n",
       "      <td>Fortes Torres, Antón, 1957-</td>\n",
       "      <td>ARM</td>\n",
       "      <td>2346909</td>\n",
       "      <td>863</td>\n",
       "      <td>Infantil</td>\n",
       "      <td>2008</td>\n",
       "      <td>sp</td>\n",
       "      <td>Estudiante</td>\n",
       "      <td>Profesional</td>\n",
       "      <td>...</td>\n",
       "      <td>BUC</td>\n",
       "      <td>BUC</td>\n",
       "      <td>88413167</td>\n",
       "      <td>CTC</td>\n",
       "      <td>16/04/2015</td>\n",
       "      <td>21/04/2015</td>\n",
       "      <td>2015-04-16</td>\n",
       "      <td>2015-04-21</td>\n",
       "      <td>8</td>\n",
       "      <td>2015</td>\n",
       "    </tr>\n",
       "    <tr>\n",
       "      <th>67</th>\n",
       "      <td>En la laguna más profunda</td>\n",
       "      <td>Collazos, Oscar, 1942-2015.</td>\n",
       "      <td>ARM</td>\n",
       "      <td>2316575</td>\n",
       "      <td>863</td>\n",
       "      <td>Centro Documentación Regional</td>\n",
       "      <td>2011</td>\n",
       "      <td>ck</td>\n",
       "      <td>Cultural</td>\n",
       "      <td></td>\n",
       "      <td>...</td>\n",
       "      <td>VIL</td>\n",
       "      <td>VIL</td>\n",
       "      <td>88208571</td>\n",
       "      <td>CIN</td>\n",
       "      <td>10/06/2015</td>\n",
       "      <td>12/06/2015</td>\n",
       "      <td>2015-06-10</td>\n",
       "      <td>2015-06-12</td>\n",
       "      <td>8</td>\n",
       "      <td>2015</td>\n",
       "    </tr>\n",
       "    <tr>\n",
       "      <th>102</th>\n",
       "      <td>The X-men: volumen 1</td>\n",
       "      <td>Lee, Stan, 1922-.</td>\n",
       "      <td>ARM</td>\n",
       "      <td>2251968</td>\n",
       "      <td>741</td>\n",
       "      <td>Centro Documentación Regional</td>\n",
       "      <td>2007</td>\n",
       "      <td>sp</td>\n",
       "      <td>Empleado</td>\n",
       "      <td>Profesional</td>\n",
       "      <td>...</td>\n",
       "      <td>CASAGO</td>\n",
       "      <td>CASAGO</td>\n",
       "      <td>88449906</td>\n",
       "      <td>CTC</td>\n",
       "      <td>14/10/2015</td>\n",
       "      <td>20/10/2015</td>\n",
       "      <td>2015-10-14</td>\n",
       "      <td>2015-10-20</td>\n",
       "      <td>7</td>\n",
       "      <td>2015</td>\n",
       "    </tr>\n",
       "    <tr>\n",
       "      <th>118</th>\n",
       "      <td>El templo del sol</td>\n",
       "      <td>Hergé, 1907-1983.</td>\n",
       "      <td>ARM</td>\n",
       "      <td>2255539</td>\n",
       "      <td>843</td>\n",
       "      <td>Infantil</td>\n",
       "      <td>2006</td>\n",
       "      <td>fr</td>\n",
       "      <td>Estudiante</td>\n",
       "      <td>Universitario 1 nivel</td>\n",
       "      <td>...</td>\n",
       "      <td>PER</td>\n",
       "      <td>PER</td>\n",
       "      <td>88438916</td>\n",
       "      <td>CTB</td>\n",
       "      <td>18/07/2015</td>\n",
       "      <td>25/07/2015</td>\n",
       "      <td>2015-07-18</td>\n",
       "      <td>2015-07-25</td>\n",
       "      <td>8</td>\n",
       "      <td>2015</td>\n",
       "    </tr>\n",
       "    <tr>\n",
       "      <th>141</th>\n",
       "      <td>Borracho en parranda santa</td>\n",
       "      <td>Vallejo Betancur, Alejandro.</td>\n",
       "      <td>ARM</td>\n",
       "      <td>1486502</td>\n",
       "      <td>863</td>\n",
       "      <td>Centro Documentación Regional</td>\n",
       "      <td>2009</td>\n",
       "      <td>ck</td>\n",
       "      <td>Estudiante</td>\n",
       "      <td>Maestría</td>\n",
       "      <td>...</td>\n",
       "      <td>PER</td>\n",
       "      <td>PER</td>\n",
       "      <td>88455036</td>\n",
       "      <td>CTB</td>\n",
       "      <td>01/06/2015</td>\n",
       "      <td>16/06/2015</td>\n",
       "      <td>2015-06-01</td>\n",
       "      <td>2015-06-16</td>\n",
       "      <td>8</td>\n",
       "      <td>2015</td>\n",
       "    </tr>\n",
       "  </tbody>\n",
       "</table>\n",
       "<p>5 rows × 22 columns</p>\n",
       "</div>"
      ],
      "text/plain": [
       "                         TITULO                         AUTOR SUCURSAL  \\\n",
       "20                         Humo   Fortes Torres, Antón, 1957-      ARM   \n",
       "67    En la laguna más profunda   Collazos, Oscar, 1942-2015.      ARM   \n",
       "102        The X-men: volumen 1             Lee, Stan, 1922-.      ARM   \n",
       "118           El templo del sol             Hergé, 1907-1983.      ARM   \n",
       "141  Borracho en parranda santa  Vallejo Betancur, Alejandro.      ARM   \n",
       "\n",
       "    COD_BARRAS_LIBRO DEWEY     DESC_LOCALIZACION_EJEMPLAR FECHA_PUB  \\\n",
       "20           2346909   863                       Infantil      2008   \n",
       "67           2316575   863  Centro Documentación Regional      2011   \n",
       "102          2251968   741  Centro Documentación Regional      2007   \n",
       "118          2255539   843                       Infantil      2006   \n",
       "141          1486502   863  Centro Documentación Regional      2009   \n",
       "\n",
       "    PAIS_EJEMPLAR   OCUPACION        NIVEL_EDUCACION  ...   \\\n",
       "20             sp  Estudiante            Profesional  ...    \n",
       "67             ck    Cultural                         ...    \n",
       "102            sp    Empleado            Profesional  ...    \n",
       "118            fr  Estudiante  Universitario 1 nivel  ...    \n",
       "141            ck  Estudiante               Maestría  ...    \n",
       "\n",
       "    SUCURSAL_DEVOLUCION SUCURSAL_DEL_LECTOR COD_BARRAS_LECTOR CATEGORÍA  \\\n",
       "20                  BUC                 BUC          88413167       CTC   \n",
       "67                  VIL                 VIL          88208571       CIN   \n",
       "102              CASAGO              CASAGO          88449906       CTC   \n",
       "118                 PER                 PER          88438916       CTB   \n",
       "141                 PER                 PER          88455036       CTB   \n",
       "\n",
       "    FECHA_PRESTAMO FECHA_REAL_DEVOLUCION DATE_PRESTAMO DATE_DEVOLUCION GDEWEY  \\\n",
       "20      16/04/2015            21/04/2015    2015-04-16      2015-04-21      8   \n",
       "67      10/06/2015            12/06/2015    2015-06-10      2015-06-12      8   \n",
       "102     14/10/2015            20/10/2015    2015-10-14      2015-10-20      7   \n",
       "118     18/07/2015            25/07/2015    2015-07-18      2015-07-25      8   \n",
       "141     01/06/2015            16/06/2015    2015-06-01      2015-06-16      8   \n",
       "\n",
       "     YEAR  \n",
       "20   2015  \n",
       "67   2015  \n",
       "102  2015  \n",
       "118  2015  \n",
       "141  2015  \n",
       "\n",
       "[5 rows x 22 columns]"
      ]
     },
     "execution_count": 133,
     "metadata": {},
     "output_type": "execute_result"
    }
   ],
   "source": [
    "viajes_df.head()"
   ]
  },
  {
   "cell_type": "code",
   "execution_count": 132,
   "metadata": {
    "collapsed": true
   },
   "outputs": [],
   "source": [
    "queryA_sr = viajes_df.groupby(['SUCURSAL', 'SUCURSAL_PRESTAMO']).TITULO.count()\n",
    "queryB_sr = viajes_df.groupby(['SUCURSAL_PRESTAMO', 'SUCURSAL']).TITULO.count()"
   ]
  },
  {
   "cell_type": "code",
   "execution_count": 136,
   "metadata": {},
   "outputs": [
    {
     "data": {
      "text/plain": [
       "SUCURSAL  SUCURSAL_PRESTAMO\n",
       "ARM       BAR                     32\n",
       "          BLAA                   185\n",
       "          BUC                    259\n",
       "          BUE                      7\n",
       "          CAL                    206\n",
       "          CAR                      3\n",
       "          CASAGO                 119\n",
       "          CUC                     38\n",
       "          ESPE                     1\n",
       "          FLO                     13\n",
       "          GIR                     12\n",
       "          HON                      1\n",
       "          IBA                     21\n",
       "          IPI                      2\n",
       "          LET                      4\n",
       "          MAN                     49\n",
       "          MED                     23\n",
       "          MON                     27\n",
       "          NEI                     36\n",
       "          PAS                     29\n",
       "          PER                     85\n",
       "          POP                     30\n",
       "          QUI                      2\n",
       "          RIO                      6\n",
       "          SAN                      2\n",
       "          SIN                      1\n",
       "          STM                      8\n",
       "          TUN                     22\n",
       "          VAL                     16\n",
       "          VIL                    107\n",
       "BLAA      ARM                   9416\n",
       "          BAR                  11328\n",
       "          BUC                  36279\n",
       "          BUE                   1321\n",
       "          CAL                  23128\n",
       "          CAR                   6818\n",
       "          CASAGO               85768\n",
       "          CATMAN                1872\n",
       "          CUC                   5158\n",
       "          ESPE                 53062\n",
       "          FLO                   5614\n",
       "          GIR                   2311\n",
       "          HON                    560\n",
       "          IBA                  10688\n",
       "          IPI                   3364\n",
       "          LET                   1168\n",
       "          MAN                  18203\n",
       "          MED                  13782\n",
       "          MON                   4885\n",
       "          NEI                  11476\n",
       "          PAS                  14791\n",
       "          PER                  16177\n",
       "          POP                  16527\n",
       "          QUI                    374\n",
       "          RIO                    811\n",
       "          SAN                    598\n",
       "          SIN                   2544\n",
       "          STM                   4079\n",
       "          TUN                  18076\n",
       "          VAL                   5493\n",
       "          VIL                  14734\n",
       "BUE       ARM                     73\n",
       "          BAR                     55\n",
       "          BLAA                   609\n",
       "          BUC                    140\n",
       "          CAL                    222\n",
       "          CAR                     25\n",
       "          CASAGO                 160\n",
       "          CATMAN                   1\n",
       "          CUC                     29\n",
       "          ESPE                    28\n",
       "          FLO                     33\n",
       "          GIR                     18\n",
       "          HON                      4\n",
       "          IBA                     34\n",
       "          IPI                     12\n",
       "          LET                      8\n",
       "          MAN                     45\n",
       "          MED                     40\n",
       "          MON                     19\n",
       "          NEI                     50\n",
       "          PAS                     32\n",
       "          PER                     54\n",
       "          POP                     85\n",
       "          QUI                      8\n",
       "          RIO                      2\n",
       "          SAN                      2\n",
       "          SIN                      9\n",
       "          STM                     19\n",
       "          TUN                     49\n",
       "          VAL                     14\n",
       "          VIL                    117\n",
       "CAL       ARM                     50\n",
       "          BAR                     21\n",
       "          BLAA                   269\n",
       "          BUC                     81\n",
       "          BUE                     35\n",
       "          CAR                     16\n",
       "          CASAGO                  71\n",
       "          CUC                     10\n",
       "          ESPE                    15\n",
       "          FLO                     13\n",
       "          GIR                     11\n",
       "          HON                      8\n",
       "          IBA                     27\n",
       "          IPI                      8\n",
       "          LET                      2\n",
       "          MAN                     35\n",
       "          MED                     28\n",
       "          MON                     14\n",
       "          NEI                     26\n",
       "          PAS                     57\n",
       "          PER                     49\n",
       "          POP                    136\n",
       "          QUI                      1\n",
       "          RIO                      3\n",
       "          SAN                      3\n",
       "          SIN                      5\n",
       "          STM                      9\n",
       "          TUN                     28\n",
       "          VAL                      8\n",
       "          VIL                     26\n",
       "CAR       ARM                    218\n",
       "          BAR                   1220\n",
       "          BLAA                  2218\n",
       "          BUC                    945\n",
       "          BUE                     42\n",
       "          CAL                    529\n",
       "          CASAGO                 772\n",
       "          CATMAN                   1\n",
       "          CUC                    144\n",
       "          ESPE                    12\n",
       "          FLO                     95\n",
       "          GIR                     96\n",
       "          HON                     10\n",
       "          IBA                    130\n",
       "          IPI                     45\n",
       "          LET                     27\n",
       "          MAN                    257\n",
       "          MED                    275\n",
       "          MON                    359\n",
       "          NEI                    251\n",
       "          PAS                    162\n",
       "          PER                    221\n",
       "          POP                    339\n",
       "          QUI                      7\n",
       "          RIO                     50\n",
       "          SAN                     26\n",
       "          SIN                    171\n",
       "          STM                    251\n",
       "          TUN                    291\n",
       "          VAL                    231\n",
       "          VIL                    426\n",
       "CASAGO    ARM                     84\n",
       "          BAR                    164\n",
       "          BLAA                  1610\n",
       "          BUC                    375\n",
       "          BUE                     16\n",
       "          CAL                    242\n",
       "          CAR                    114\n",
       "          CUC                     48\n",
       "          ESPE                     6\n",
       "          FLO                     46\n",
       "          GIR                     38\n",
       "          HON                      6\n",
       "          IBA                    112\n",
       "          IPI                     29\n",
       "          LET                      4\n",
       "          MAN                    201\n",
       "          MED                    194\n",
       "          MON                     62\n",
       "          NEI                    163\n",
       "          PAS                    171\n",
       "          PER                    192\n",
       "          POP                    170\n",
       "          QUI                      6\n",
       "          RIO                      7\n",
       "          SAN                      8\n",
       "          SIN                     32\n",
       "          STM                     36\n",
       "          TUN                    243\n",
       "          VAL                     59\n",
       "          VIL                    107\n",
       "CATMAN    ARM                     59\n",
       "          BAR                     55\n",
       "          BLAA                  5695\n",
       "          BUC                    188\n",
       "          BUE                      4\n",
       "          CAL                     81\n",
       "          CAR                     29\n",
       "          CASAGO                 343\n",
       "          CUC                     28\n",
       "          ESPE                  1109\n",
       "          FLO                     23\n",
       "          GIR                     15\n",
       "          HON                      5\n",
       "          IBA                     49\n",
       "          IPI                     36\n",
       "          LET                     12\n",
       "          MAN                     94\n",
       "          MED                     54\n",
       "          MON                     16\n",
       "          NEI                     58\n",
       "          PAS                     80\n",
       "          PER                     90\n",
       "          POP                     61\n",
       "          QUI                      1\n",
       "          RIO                      4\n",
       "          SAN                    175\n",
       "          SIN                      7\n",
       "          STM                     19\n",
       "          TUN                     82\n",
       "          VAL                     27\n",
       "          VIL                     73\n",
       "CUC       ARM                      6\n",
       "          BAR                      6\n",
       "          BLAA                   127\n",
       "          BUC                     83\n",
       "          BUE                      1\n",
       "          CAL                     11\n",
       "          CAR                      2\n",
       "          CASAGO                  37\n",
       "          CATMAN                   1\n",
       "          ESPE                     5\n",
       "          FLO                      3\n",
       "          GIR                      1\n",
       "          IBA                      7\n",
       "          MAN                      8\n",
       "          MED                      9\n",
       "          MON                      1\n",
       "          NEI                      3\n",
       "          PAS                      7\n",
       "          PER                      6\n",
       "          POP                     12\n",
       "          SAN                      1\n",
       "          STM                      3\n",
       "          TUN                      8\n",
       "          VAL                      2\n",
       "          VIL                      9\n",
       "FLO       ARM                     83\n",
       "          BAR                     71\n",
       "          BLAA                   630\n",
       "          BUC                    224\n",
       "          BUE                     21\n",
       "          CAL                    142\n",
       "          CAR                     30\n",
       "          CASAGO                 254\n",
       "          CUC                     48\n",
       "          ESPE                     2\n",
       "          GIR                     63\n",
       "          HON                      3\n",
       "          IBA                     59\n",
       "          IPI                     16\n",
       "          LET                     22\n",
       "          MAN                     74\n",
       "          MED                     49\n",
       "          MON                     46\n",
       "          NEI                    414\n",
       "          PAS                     68\n",
       "          PER                     63\n",
       "          POP                    121\n",
       "          QUI                      1\n",
       "          RIO                      2\n",
       "          SAN                      8\n",
       "          SIN                     15\n",
       "          STM                     17\n",
       "          TUN                     70\n",
       "          VAL                     24\n",
       "          VIL                    183\n",
       "GIR       ARM                     62\n",
       "          BAR                     93\n",
       "          BLAA                  1394\n",
       "          BUC                    335\n",
       "          BUE                     34\n",
       "          CAL                    141\n",
       "          CAR                     47\n",
       "          CASAGO                 393\n",
       "          CUC                     93\n",
       "          ESPE                     9\n",
       "          FLO                     80\n",
       "          HON                     22\n",
       "          IBA                    179\n",
       "          IPI                     18\n",
       "          LET                     20\n",
       "          MAN                     96\n",
       "          MED                     78\n",
       "          MON                     35\n",
       "          NEI                    282\n",
       "          PAS                     83\n",
       "          PER                    108\n",
       "          POP                     92\n",
       "          RIO                      5\n",
       "          SAN                     11\n",
       "          SIN                     27\n",
       "          STM                     32\n",
       "          TUN                    151\n",
       "          VAL                     23\n",
       "          VIL                    252\n",
       "HON       ARM                     48\n",
       "          BAR                     37\n",
       "          BLAA                   368\n",
       "          BUC                    144\n",
       "          BUE                      5\n",
       "          CAL                     75\n",
       "          CAR                     12\n",
       "          CASAGO                 133\n",
       "          CUC                     22\n",
       "          ESPE                     2\n",
       "          FLO                     48\n",
       "          GIR                     48\n",
       "          IBA                     88\n",
       "          IPI                      8\n",
       "          LET                      8\n",
       "          MAN                     59\n",
       "          MED                     30\n",
       "          MON                     19\n",
       "          NEI                     83\n",
       "          PAS                     33\n",
       "          PER                     36\n",
       "          POP                     51\n",
       "          QUI                      1\n",
       "          RIO                      1\n",
       "          SAN                      6\n",
       "          SIN                     12\n",
       "          STM                      5\n",
       "          TUN                     55\n",
       "          VAL                     15\n",
       "          VIL                    113\n",
       "IBA       ARM                    250\n",
       "          BAR                    225\n",
       "          BLAA                  1765\n",
       "          BUC                    580\n",
       "          BUE                     50\n",
       "          CAL                    361\n",
       "          CAR                    125\n",
       "          CASAGO                 531\n",
       "          CATMAN                   2\n",
       "          CUC                    151\n",
       "          ESPE                    16\n",
       "          FLO                    172\n",
       "          GIR                    168\n",
       "          HON                     94\n",
       "          IPI                     59\n",
       "          LET                     26\n",
       "          MAN                    340\n",
       "          MED                    171\n",
       "          MON                     97\n",
       "          NEI                    704\n",
       "          PAS                    260\n",
       "          PER                    341\n",
       "          POP                    324\n",
       "          QUI                      6\n",
       "          RIO                      8\n",
       "          SAN                      8\n",
       "          SIN                     56\n",
       "          STM                    103\n",
       "          TUN                    296\n",
       "          VAL                     55\n",
       "          VIL                    411\n",
       "IEC       BLAA                     7\n",
       "IPI       ARM                     40\n",
       "          BAR                     30\n",
       "          BLAA                   288\n",
       "          BUC                     79\n",
       "          BUE                      4\n",
       "          CAL                     95\n",
       "          CAR                     36\n",
       "          CASAGO                  89\n",
       "          CATMAN                   1\n",
       "          CUC                     19\n",
       "          ESPE                     1\n",
       "          FLO                     37\n",
       "          GIR                     41\n",
       "          HON                      4\n",
       "          IBA                     35\n",
       "          LET                     10\n",
       "          MAN                     57\n",
       "          MED                     32\n",
       "          MON                     25\n",
       "          NEI                     52\n",
       "          PAS                    359\n",
       "          PER                     47\n",
       "          POP                    126\n",
       "          QUI                      1\n",
       "          RIO                      7\n",
       "          SAN                      8\n",
       "          SIN                      3\n",
       "          STM                     17\n",
       "          TUN                     54\n",
       "          VAL                     14\n",
       "          VIL                     80\n",
       "LET       ARM                     29\n",
       "          BAR                     25\n",
       "          BLAA                   225\n",
       "          BUC                     89\n",
       "          BUE                      6\n",
       "          CAL                     61\n",
       "          CAR                     16\n",
       "          CASAGO                  67\n",
       "          CATMAN                   1\n",
       "          CUC                     12\n",
       "          ESPE                     1\n",
       "          FLO                     21\n",
       "          GIR                     31\n",
       "          HON                      4\n",
       "          IBA                     14\n",
       "          IPI                     10\n",
       "          MAN                     22\n",
       "          MED                     20\n",
       "          MON                     15\n",
       "          NEI                     24\n",
       "          PAS                     36\n",
       "          PER                     25\n",
       "          POP                     32\n",
       "          QUI                      1\n",
       "          RIO                      1\n",
       "          SAN                      4\n",
       "          SIN                     23\n",
       "          STM                     14\n",
       "          TUN                     33\n",
       "          VAL                     15\n",
       "          VIL                     43\n",
       "MAN       ARM                    380\n",
       "          BAR                    259\n",
       "          BLAA                  1679\n",
       "          BUC                    714\n",
       "          BUE                     47\n",
       "          CAL                    564\n",
       "          CAR                    130\n",
       "          CASAGO                 496\n",
       "          CATMAN                   5\n",
       "          CUC                    172\n",
       "          ESPE                    30\n",
       "          FLO                    161\n",
       "          GIR                    104\n",
       "          HON                     38\n",
       "          IBA                    275\n",
       "          IPI                     68\n",
       "          LET                     34\n",
       "          MED                    492\n",
       "          MON                    119\n",
       "          NEI                    339\n",
       "          PAS                    321\n",
       "          PER                   1046\n",
       "          POP                    510\n",
       "          QUI                     10\n",
       "          RIO                     14\n",
       "          SAN                     17\n",
       "          SIN                     73\n",
       "          STM                    125\n",
       "          TUN                    342\n",
       "          VAL                    104\n",
       "          VIL                    366\n",
       "MED       ARM                     18\n",
       "          BAR                     13\n",
       "          BLAA                    73\n",
       "          BUC                     24\n",
       "          BUE                      4\n",
       "          CAL                     16\n",
       "          CAR                     10\n",
       "          CASAGO                  20\n",
       "          CUC                      2\n",
       "          FLO                      5\n",
       "          IBA                     22\n",
       "          IPI                      5\n",
       "          MAN                     26\n",
       "          MON                      3\n",
       "          NEI                     57\n",
       "          PAS                     19\n",
       "          PER                     19\n",
       "          POP                     29\n",
       "          QUI                      3\n",
       "          RIO                      1\n",
       "          SIN                      5\n",
       "          STM                     11\n",
       "          TUN                      8\n",
       "          VAL                      2\n",
       "          VIL                     49\n",
       "MON       ARM                      4\n",
       "          BAR                     11\n",
       "          BLAA                    64\n",
       "          BUC                      7\n",
       "          CAL                     12\n",
       "          CAR                     15\n",
       "          CASAGO                  22\n",
       "          CUC                      2\n",
       "          IBA                      1\n",
       "          IPI                      1\n",
       "          MED                      7\n",
       "          NEI                      6\n",
       "          PAS                      5\n",
       "          PER                      2\n",
       "          POP                      5\n",
       "          SIN                     16\n",
       "          STM                      4\n",
       "          TUN                      4\n",
       "          VAL                      7\n",
       "          VIL                      7\n",
       "NEI       ARM                     28\n",
       "          BAR                     45\n",
       "          BLAA                   298\n",
       "          BUC                    330\n",
       "          BUE                     13\n",
       "          CAL                     42\n",
       "          CAR                     19\n",
       "          CASAGO                  75\n",
       "          CATMAN                   1\n",
       "          CUC                     26\n",
       "          ESPE                     3\n",
       "          FLO                     66\n",
       "          GIR                     19\n",
       "          HON                      4\n",
       "          IBA                     62\n",
       "          IPI                     20\n",
       "          LET                      6\n",
       "          MAN                     56\n",
       "          MED                     28\n",
       "          MON                     15\n",
       "          PAS                     50\n",
       "          PER                     64\n",
       "          POP                     48\n",
       "          QUI                      2\n",
       "          RIO                      1\n",
       "          SAN                      3\n",
       "          SIN                      5\n",
       "          STM                      7\n",
       "          TUN                     60\n",
       "          VAL                      9\n",
       "          VIL                     61\n",
       "PAS       ARM                    105\n",
       "          BAR                    116\n",
       "          BLAA                  1021\n",
       "          BUC                    285\n",
       "          BUE                     47\n",
       "          CAL                    287\n",
       "          CAR                     63\n",
       "          CASAGO                 292\n",
       "          CATMAN                   2\n",
       "          CUC                     57\n",
       "          ESPE                    13\n",
       "          FLO                     80\n",
       "          GIR                     52\n",
       "          HON                     10\n",
       "          IBA                     92\n",
       "          IPI                    290\n",
       "          LET                     16\n",
       "          MAN                    152\n",
       "          MED                    108\n",
       "          MON                     39\n",
       "          NEI                    181\n",
       "          PER                    206\n",
       "          POP                    580\n",
       "          QUI                      2\n",
       "          RIO                      6\n",
       "          SAN                      6\n",
       "          SIN                     24\n",
       "          STM                     50\n",
       "          TUN                    143\n",
       "          VAL                     50\n",
       "          VIL                    165\n",
       "PER       ARM                    390\n",
       "          BAR                    183\n",
       "          BLAA                  1487\n",
       "          BUC                    555\n",
       "          BUE                     67\n",
       "          CAL                    527\n",
       "          CAR                    123\n",
       "          CASAGO                 476\n",
       "          CATMAN                   1\n",
       "          CUC                     61\n",
       "          ESPE                    51\n",
       "          FLO                    108\n",
       "          GIR                     88\n",
       "          HON                     18\n",
       "          IBA                    236\n",
       "          IPI                     81\n",
       "          LET                     23\n",
       "          MAN                    782\n",
       "          MED                    293\n",
       "          MON                     79\n",
       "          NEI                    175\n",
       "          PAS                    303\n",
       "          POP                    442\n",
       "          QUI                     18\n",
       "          RIO                     12\n",
       "          SAN                     19\n",
       "          SIN                     46\n",
       "          STM                    129\n",
       "          TUN                    322\n",
       "          VAL                     72\n",
       "          VIL                    208\n",
       "POP       ARM                     85\n",
       "          BAR                     72\n",
       "          BLAA                   533\n",
       "          BUC                    163\n",
       "          BUE                     63\n",
       "          CAL                    564\n",
       "          CAR                     30\n",
       "          CASAGO                 163\n",
       "          CATMAN                   2\n",
       "          CUC                    197\n",
       "          ESPE                     9\n",
       "          FLO                     41\n",
       "          GIR                     53\n",
       "          HON                      7\n",
       "          IBA                     75\n",
       "          IPI                     83\n",
       "          LET                     10\n",
       "          MAN                    154\n",
       "          MED                     94\n",
       "          MON                     25\n",
       "          NEI                    108\n",
       "          PAS                    378\n",
       "          PER                    196\n",
       "          QUI                      4\n",
       "          RIO                      8\n",
       "          SAN                      8\n",
       "          SIN                     12\n",
       "          STM                     46\n",
       "          TUN                     93\n",
       "          VAL                     31\n",
       "          VIL                    117\n",
       "QUI       ARM                     23\n",
       "          BAR                     16\n",
       "          BLAA                   233\n",
       "          BUC                     45\n",
       "          BUE                      9\n",
       "          CAL                     20\n",
       "          CAR                      6\n",
       "          CASAGO                  23\n",
       "          ESPE                     1\n",
       "          FLO                      9\n",
       "          GIR                     17\n",
       "          HON                      2\n",
       "          IBA                      8\n",
       "          IPI                      2\n",
       "          LET                      3\n",
       "          MAN                     17\n",
       "          MED                     14\n",
       "          MON                      7\n",
       "          NEI                     22\n",
       "          PAS                     16\n",
       "          PER                     15\n",
       "          POP                     15\n",
       "          SAN                      2\n",
       "          SIN                     11\n",
       "          STM                      3\n",
       "          TUN                     15\n",
       "          VAL                      5\n",
       "          VIL                     23\n",
       "RIO       ARM                      1\n",
       "          BAR                     47\n",
       "          BLAA                   128\n",
       "          BUC                     32\n",
       "          BUE                      2\n",
       "          CAL                     36\n",
       "          CAR                     17\n",
       "          CASAGO                  20\n",
       "          CUC                      7\n",
       "          FLO                      5\n",
       "          GIR                     10\n",
       "          HON                      2\n",
       "          IBA                     10\n",
       "          IPI                      1\n",
       "          LET                      5\n",
       "          MAN                     26\n",
       "          MED                      8\n",
       "          MON                      7\n",
       "          NEI                      9\n",
       "          PAS                      6\n",
       "          PER                     18\n",
       "          POP                      7\n",
       "          SAN                      2\n",
       "          SIN                      2\n",
       "          STM                     27\n",
       "          TUN                      3\n",
       "          VAL                     43\n",
       "          VIL                     14\n",
       "SAN       ARM                     14\n",
       "          BAR                     30\n",
       "          BLAA                   173\n",
       "          BUC                     46\n",
       "          BUE                      5\n",
       "          CAL                     22\n",
       "          CAR                     23\n",
       "          CASAGO                  34\n",
       "          CATMAN                   1\n",
       "          CUC                      8\n",
       "          ESPE                     1\n",
       "          FLO                      6\n",
       "          GIR                     15\n",
       "          HON                      9\n",
       "          IBA                     21\n",
       "          IPI                      3\n",
       "          LET                      3\n",
       "          MAN                     11\n",
       "          MED                     19\n",
       "          MON                     11\n",
       "          NEI                     13\n",
       "          PAS                     19\n",
       "          PER                     17\n",
       "          POP                     11\n",
       "          QUI                      1\n",
       "          RIO                      3\n",
       "          SIN                      4\n",
       "          STM                      6\n",
       "          TUN                     21\n",
       "          VAL                      6\n",
       "          VIL                     25\n",
       "SIN       ARM                     13\n",
       "          BAR                     76\n",
       "          BLAA                   141\n",
       "          BUC                     68\n",
       "          BUE                      6\n",
       "          CAL                     17\n",
       "          CAR                     54\n",
       "          CASAGO                  34\n",
       "          CUC                     22\n",
       "          ESPE                    10\n",
       "          FLO                     15\n",
       "          GIR                     29\n",
       "          HON                      3\n",
       "          IBA                     10\n",
       "          IPI                      9\n",
       "          LET                      6\n",
       "          MAN                     26\n",
       "          MED                      9\n",
       "          MON                     98\n",
       "          NEI                     27\n",
       "          PAS                     23\n",
       "          PER                     22\n",
       "          POP                     13\n",
       "          QUI                      3\n",
       "          RIO                     11\n",
       "          SAN                      3\n",
       "          STM                     20\n",
       "          TUN                     34\n",
       "          VAL                      8\n",
       "          VIL                     25\n",
       "STM       ARM                     27\n",
       "          BAR                    441\n",
       "          BLAA                   252\n",
       "          BUC                    162\n",
       "          BUE                      4\n",
       "          CAL                     44\n",
       "          CAR                    164\n",
       "          CASAGO                  67\n",
       "          CUC                     19\n",
       "          ESPE                     1\n",
       "          FLO                     11\n",
       "          GIR                     33\n",
       "          HON                      9\n",
       "          IBA                     29\n",
       "          IPI                      8\n",
       "          LET                     14\n",
       "          MAN                     31\n",
       "          MED                     18\n",
       "          MON                     49\n",
       "          NEI                     36\n",
       "          PAS                     38\n",
       "          PER                     46\n",
       "          POP                     38\n",
       "          QUI                      1\n",
       "          RIO                     74\n",
       "          SAN                     17\n",
       "          SIN                     29\n",
       "          TUN                     41\n",
       "          VAL                     78\n",
       "          VIL                     38\n",
       "TUN       ARM                    126\n",
       "          BAR                    265\n",
       "          BLAA                  3366\n",
       "          BUC                   2768\n",
       "          BUE                     34\n",
       "          CAL                    262\n",
       "          CAR                    170\n",
       "          CASAGO                 882\n",
       "          CATMAN                   2\n",
       "          CUC                    130\n",
       "          ESPE                    13\n",
       "          FLO                    133\n",
       "          GIR                     96\n",
       "          HON                     23\n",
       "          IBA                    219\n",
       "          IPI                     69\n",
       "          LET                     29\n",
       "          MAN                    360\n",
       "          MED                    233\n",
       "          MON                     80\n",
       "          NEI                    255\n",
       "          PAS                    271\n",
       "          PER                    273\n",
       "          POP                    339\n",
       "          QUI                      8\n",
       "          RIO                     16\n",
       "          SAN                      8\n",
       "          SIN                     58\n",
       "          STM                    112\n",
       "          VAL                     97\n",
       "          VIL                    607\n",
       "VAL       ARM                     14\n",
       "          BAR                     99\n",
       "          BLAA                   111\n",
       "          BUC                    170\n",
       "          BUE                      2\n",
       "          CAL                     11\n",
       "          CAR                     49\n",
       "          CASAGO                  25\n",
       "          CUC                     20\n",
       "          FLO                      8\n",
       "          GIR                     27\n",
       "          HON                      4\n",
       "          IBA                      9\n",
       "          IPI                      2\n",
       "          LET                      6\n",
       "          MAN                      8\n",
       "          MED                      7\n",
       "          MON                     29\n",
       "          NEI                     27\n",
       "          PAS                     15\n",
       "          PER                     31\n",
       "          POP                     40\n",
       "          QUI                      1\n",
       "          RIO                     62\n",
       "          SAN                      1\n",
       "          SIN                     12\n",
       "          STM                     33\n",
       "          TUN                     25\n",
       "          VIL                     17\n",
       "Name: TITULO, dtype: int64"
      ]
     },
     "execution_count": 136,
     "metadata": {},
     "output_type": "execute_result"
    }
   ],
   "source": [
    "queryA_sr"
   ]
  },
  {
   "cell_type": "code",
   "execution_count": 135,
   "metadata": {},
   "outputs": [
    {
     "data": {
      "text/plain": [
       "SUCURSAL_PRESTAMO  SUCURSAL\n",
       "ARM                BLAA        9416\n",
       "                   BUE           73\n",
       "                   CAL           50\n",
       "                   CAR          218\n",
       "                   CASAGO        84\n",
       "Name: TITULO, dtype: int64"
      ]
     },
     "execution_count": 135,
     "metadata": {},
     "output_type": "execute_result"
    }
   ],
   "source": [
    "queryB_sr.head()"
   ]
  },
  {
   "cell_type": "code",
   "execution_count": 137,
   "metadata": {
    "collapsed": true
   },
   "outputs": [],
   "source": [
    "viajes2_g = nx.DiGraph()\n",
    "for (suc_ejemplar, suc_prestamo), n in queryA_sr.iteritems():\n",
    "    if suc_ejemplar not in viajes2_g:\n",
    "#         a = queryA_sr[suc_ejemplar].sum()\n",
    "        viajes2_g.add_node(suc_ejemplar, type='Library branch', weight=int(a))\n",
    "#     if suc_prestamo not in viajes2_g:\n",
    "#         b = queryB_sr[suc_prestamo].sum()\n",
    "#         viajes2_g.add_node(suc_prestamo, type='Library branch', weight=int(b))\n",
    "    viajes2_g.add_edge(suc_ejemplar, suc_prestamo, weight=int(n))"
   ]
  },
  {
   "cell_type": "code",
   "execution_count": 117,
   "metadata": {},
   "outputs": [
    {
     "data": {
      "text/plain": [
       "33"
      ]
     },
     "execution_count": 117,
     "metadata": {},
     "output_type": "execute_result"
    }
   ],
   "source": [
    "viajes_g.number_of_nodes()"
   ]
  },
  {
   "cell_type": "code",
   "execution_count": 116,
   "metadata": {},
   "outputs": [
    {
     "data": {
      "text/plain": [
       "33"
      ]
     },
     "execution_count": 116,
     "metadata": {},
     "output_type": "execute_result"
    }
   ],
   "source": [
    "viajes2_g.number_of_nodes()"
   ]
  },
  {
   "cell_type": "code",
   "execution_count": 119,
   "metadata": {},
   "outputs": [
    {
     "data": {
      "text/plain": [
       "829"
      ]
     },
     "execution_count": 119,
     "metadata": {},
     "output_type": "execute_result"
    }
   ],
   "source": [
    "viajes_g.number_of_edges()"
   ]
  },
  {
   "cell_type": "code",
   "execution_count": 118,
   "metadata": {},
   "outputs": [
    {
     "data": {
      "text/plain": [
       "829"
      ]
     },
     "execution_count": 118,
     "metadata": {},
     "output_type": "execute_result"
    }
   ],
   "source": [
    "viajes2_g.number_of_edges()"
   ]
  },
  {
   "cell_type": "code",
   "execution_count": 121,
   "metadata": {},
   "outputs": [
    {
     "data": {
      "text/plain": [
       "0"
      ]
     },
     "execution_count": 121,
     "metadata": {},
     "output_type": "execute_result"
    }
   ],
   "source": [
    "viajes_g.number_of_selfloops()"
   ]
  },
  {
   "cell_type": "code",
   "execution_count": 120,
   "metadata": {},
   "outputs": [
    {
     "data": {
      "text/plain": [
       "0"
      ]
     },
     "execution_count": 120,
     "metadata": {},
     "output_type": "execute_result"
    }
   ],
   "source": [
    "viajes2_g.number_of_selfloops()"
   ]
  },
  {
   "cell_type": "code",
   "execution_count": 123,
   "metadata": {},
   "outputs": [
    {
     "data": {
      "text/plain": [
       "59"
      ]
     },
     "execution_count": 123,
     "metadata": {},
     "output_type": "execute_result"
    }
   ],
   "source": [
    "viajes_g.degree('BLAA')"
   ]
  },
  {
   "cell_type": "code",
   "execution_count": 122,
   "metadata": {},
   "outputs": [
    {
     "data": {
      "text/plain": [
       "59"
      ]
     },
     "execution_count": 122,
     "metadata": {},
     "output_type": "execute_result"
    }
   ],
   "source": [
    "viajes2_g.degree('BLAA')"
   ]
  },
  {
   "cell_type": "code",
   "execution_count": 138,
   "metadata": {
    "collapsed": true
   },
   "outputs": [],
   "source": [
    "nx.write_gexf(viajes2_g, 'queries/viajes.gexf')"
   ]
  },
  {
   "cell_type": "markdown",
   "metadata": {},
   "source": [
    "#### Metrics"
   ]
  },
  {
   "cell_type": "markdown",
   "metadata": {},
   "source": [
    "##### Minimum degree"
   ]
  },
  {
   "cell_type": "code",
   "execution_count": 139,
   "metadata": {
    "collapsed": true
   },
   "outputs": [],
   "source": [
    "min_deg1 = min((viajes2_g.degree(n), n) for n in viajes2_g.nodes)"
   ]
  },
  {
   "cell_type": "code",
   "execution_count": 140,
   "metadata": {},
   "outputs": [
    {
     "data": {
      "text/plain": [
       "(1, 'IEC')"
      ]
     },
     "execution_count": 140,
     "metadata": {},
     "output_type": "execute_result"
    }
   ],
   "source": [
    "min_deg1"
   ]
  },
  {
   "cell_type": "markdown",
   "metadata": {},
   "source": [
    "##### Maximum degree"
   ]
  },
  {
   "cell_type": "code",
   "execution_count": 141,
   "metadata": {
    "collapsed": true
   },
   "outputs": [],
   "source": [
    "max_deg1 = max((viajes2_g.degree(n), n) for n in viajes2_g.nodes)"
   ]
  },
  {
   "cell_type": "code",
   "execution_count": 142,
   "metadata": {},
   "outputs": [
    {
     "data": {
      "text/plain": [
       "(59, 'BLAA')"
      ]
     },
     "execution_count": 142,
     "metadata": {},
     "output_type": "execute_result"
    }
   ],
   "source": [
    "max_deg1"
   ]
  },
  {
   "cell_type": "markdown",
   "metadata": {},
   "source": [
    "##### Betweenness centrality"
   ]
  },
  {
   "cell_type": "code",
   "execution_count": 143,
   "metadata": {
    "collapsed": true
   },
   "outputs": [],
   "source": [
    "bc1 = nx.betweenness_centrality(viajes2_g)"
   ]
  },
  {
   "cell_type": "code",
   "execution_count": 144,
   "metadata": {
    "collapsed": true
   },
   "outputs": [],
   "source": [
    "bc1_df = pd.DataFrame(\n",
    "    pd.Series(bc1),\n",
    "    columns=['Betweenness Centrality'],\n",
    ").sort_values('Betweenness Centrality', ascending=False)"
   ]
  },
  {
   "cell_type": "code",
   "execution_count": 145,
   "metadata": {
    "scrolled": false
   },
   "outputs": [
    {
     "data": {
      "text/html": [
       "<div>\n",
       "<style scoped>\n",
       "    .dataframe tbody tr th:only-of-type {\n",
       "        vertical-align: middle;\n",
       "    }\n",
       "\n",
       "    .dataframe tbody tr th {\n",
       "        vertical-align: top;\n",
       "    }\n",
       "\n",
       "    .dataframe thead th {\n",
       "        text-align: right;\n",
       "    }\n",
       "</style>\n",
       "<table border=\"1\" class=\"dataframe\">\n",
       "  <thead>\n",
       "    <tr style=\"text-align: right;\">\n",
       "      <th></th>\n",
       "      <th>Betweenness Centrality</th>\n",
       "    </tr>\n",
       "  </thead>\n",
       "  <tbody>\n",
       "    <tr>\n",
       "      <th>BLAA</th>\n",
       "      <td>0.033686</td>\n",
       "    </tr>\n",
       "    <tr>\n",
       "      <th>IBA</th>\n",
       "      <td>0.002436</td>\n",
       "    </tr>\n",
       "    <tr>\n",
       "      <th>TUN</th>\n",
       "      <td>0.002436</td>\n",
       "    </tr>\n",
       "    <tr>\n",
       "      <th>CAR</th>\n",
       "      <td>0.002436</td>\n",
       "    </tr>\n",
       "    <tr>\n",
       "      <th>POP</th>\n",
       "      <td>0.002436</td>\n",
       "    </tr>\n",
       "    <tr>\n",
       "      <th>PER</th>\n",
       "      <td>0.002436</td>\n",
       "    </tr>\n",
       "    <tr>\n",
       "      <th>PAS</th>\n",
       "      <td>0.002436</td>\n",
       "    </tr>\n",
       "    <tr>\n",
       "      <th>NEI</th>\n",
       "      <td>0.002436</td>\n",
       "    </tr>\n",
       "    <tr>\n",
       "      <th>IPI</th>\n",
       "      <td>0.002131</td>\n",
       "    </tr>\n",
       "    <tr>\n",
       "      <th>BUE</th>\n",
       "      <td>0.001704</td>\n",
       "    </tr>\n",
       "    <tr>\n",
       "      <th>MAN</th>\n",
       "      <td>0.001704</td>\n",
       "    </tr>\n",
       "    <tr>\n",
       "      <th>CUC</th>\n",
       "      <td>0.001515</td>\n",
       "    </tr>\n",
       "    <tr>\n",
       "      <th>STM</th>\n",
       "      <td>0.001454</td>\n",
       "    </tr>\n",
       "    <tr>\n",
       "      <th>ARM</th>\n",
       "      <td>0.001454</td>\n",
       "    </tr>\n",
       "    <tr>\n",
       "      <th>CAL</th>\n",
       "      <td>0.001454</td>\n",
       "    </tr>\n",
       "    <tr>\n",
       "      <th>CASAGO</th>\n",
       "      <td>0.001454</td>\n",
       "    </tr>\n",
       "    <tr>\n",
       "      <th>SAN</th>\n",
       "      <td>0.001370</td>\n",
       "    </tr>\n",
       "    <tr>\n",
       "      <th>VAL</th>\n",
       "      <td>0.001244</td>\n",
       "    </tr>\n",
       "    <tr>\n",
       "      <th>SIN</th>\n",
       "      <td>0.001149</td>\n",
       "    </tr>\n",
       "    <tr>\n",
       "      <th>LET</th>\n",
       "      <td>0.001065</td>\n",
       "    </tr>\n",
       "    <tr>\n",
       "      <th>FLO</th>\n",
       "      <td>0.000823</td>\n",
       "    </tr>\n",
       "    <tr>\n",
       "      <th>MED</th>\n",
       "      <td>0.000681</td>\n",
       "    </tr>\n",
       "    <tr>\n",
       "      <th>GIR</th>\n",
       "      <td>0.000428</td>\n",
       "    </tr>\n",
       "    <tr>\n",
       "      <th>CATMAN</th>\n",
       "      <td>0.000306</td>\n",
       "    </tr>\n",
       "    <tr>\n",
       "      <th>QUI</th>\n",
       "      <td>0.000294</td>\n",
       "    </tr>\n",
       "    <tr>\n",
       "      <th>HON</th>\n",
       "      <td>0.000267</td>\n",
       "    </tr>\n",
       "    <tr>\n",
       "      <th>RIO</th>\n",
       "      <td>0.000197</td>\n",
       "    </tr>\n",
       "    <tr>\n",
       "      <th>MON</th>\n",
       "      <td>0.000138</td>\n",
       "    </tr>\n",
       "    <tr>\n",
       "      <th>IEC</th>\n",
       "      <td>0.000000</td>\n",
       "    </tr>\n",
       "    <tr>\n",
       "      <th>ESPE</th>\n",
       "      <td>0.000000</td>\n",
       "    </tr>\n",
       "    <tr>\n",
       "      <th>BUC</th>\n",
       "      <td>0.000000</td>\n",
       "    </tr>\n",
       "    <tr>\n",
       "      <th>BAR</th>\n",
       "      <td>0.000000</td>\n",
       "    </tr>\n",
       "    <tr>\n",
       "      <th>VIL</th>\n",
       "      <td>0.000000</td>\n",
       "    </tr>\n",
       "  </tbody>\n",
       "</table>\n",
       "</div>"
      ],
      "text/plain": [
       "        Betweenness Centrality\n",
       "BLAA                  0.033686\n",
       "IBA                   0.002436\n",
       "TUN                   0.002436\n",
       "CAR                   0.002436\n",
       "POP                   0.002436\n",
       "PER                   0.002436\n",
       "PAS                   0.002436\n",
       "NEI                   0.002436\n",
       "IPI                   0.002131\n",
       "BUE                   0.001704\n",
       "MAN                   0.001704\n",
       "CUC                   0.001515\n",
       "STM                   0.001454\n",
       "ARM                   0.001454\n",
       "CAL                   0.001454\n",
       "CASAGO                0.001454\n",
       "SAN                   0.001370\n",
       "VAL                   0.001244\n",
       "SIN                   0.001149\n",
       "LET                   0.001065\n",
       "FLO                   0.000823\n",
       "MED                   0.000681\n",
       "GIR                   0.000428\n",
       "CATMAN                0.000306\n",
       "QUI                   0.000294\n",
       "HON                   0.000267\n",
       "RIO                   0.000197\n",
       "MON                   0.000138\n",
       "IEC                   0.000000\n",
       "ESPE                  0.000000\n",
       "BUC                   0.000000\n",
       "BAR                   0.000000\n",
       "VIL                   0.000000"
      ]
     },
     "execution_count": 145,
     "metadata": {},
     "output_type": "execute_result"
    }
   ],
   "source": [
    "bc1_df"
   ]
  },
  {
   "cell_type": "code",
   "execution_count": null,
   "metadata": {
    "collapsed": true
   },
   "outputs": [],
   "source": []
  },
  {
   "cell_type": "code",
   "execution_count": null,
   "metadata": {
    "collapsed": true
   },
   "outputs": [],
   "source": []
  }
 ],
 "metadata": {
  "kernelspec": {
   "display_name": "Python 3",
   "language": "python",
   "name": "python3"
  },
  "language_info": {
   "codemirror_mode": {
    "name": "ipython",
    "version": 3
   },
   "file_extension": ".py",
   "mimetype": "text/x-python",
   "name": "python",
   "nbconvert_exporter": "python",
   "pygments_lexer": "ipython3",
   "version": "3.5.2"
  }
 },
 "nbformat": 4,
 "nbformat_minor": 1
}
