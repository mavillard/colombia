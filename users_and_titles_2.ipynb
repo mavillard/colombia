{
 "cells": [
  {
   "cell_type": "markdown",
   "metadata": {},
   "source": [
    "# Usuarios y títulos"
   ]
  },
  {
   "cell_type": "code",
   "execution_count": 1,
   "metadata": {
    "collapsed": true
   },
   "outputs": [],
   "source": [
    "import ast\n",
    "import csv\n",
    "import itertools\n",
    "import os\n",
    "import re\n",
    "from collections import Counter\n",
    "from collections import defaultdict\n",
    "from datetime import datetime\n",
    "from datetime import timedelta\n",
    "from string import punctuation\n",
    "\n",
    "import matplotlib\n",
    "import numpy as np\n",
    "import pandas as pd\n",
    "import seaborn as sns\n",
    "from matplotlib import pyplot as plt\n",
    "from pandas.tslib import Timestamp"
   ]
  },
  {
   "cell_type": "markdown",
   "metadata": {},
   "source": [
    "## Préstamos"
   ]
  },
  {
   "cell_type": "code",
   "execution_count": 2,
   "metadata": {
    "collapsed": false
   },
   "outputs": [
    {
     "name": "stdout",
     "output_type": "stream",
     "text": [
      "CPU times: user 20.1 s, sys: 845 ms, total: 20.9 s\n",
      "Wall time: 20.9 s\n"
     ]
    }
   ],
   "source": [
    "%%time\n",
    "\n",
    "dtypes = {\n",
    "    'TITULO': str,\n",
    "    'AUTOR': str,\n",
    "    'SUCURSAL': str,\n",
    "    'COD_BARRAS_LIBRO': str,\n",
    "    'DEWEY': str,\n",
    "    'DESC_LOCALIZACION_EJEMPLAR': str,\n",
    "    'FECHA_PUB': str,\n",
    "    'PAIS_EJEMPLAR': str,\n",
    "    'OCUPACION': str,\n",
    "    'NIVEL_EDUCACION': str,\n",
    "    'AREA_ESTUDIO': str,\n",
    "    'SUCURSAL_PRESTAMO': str,\n",
    "    'SUCURSAL_DEVOLUCION': str,\n",
    "    'SUCURSAL_DEL_LECTOR': str,\n",
    "    'COD_BARRAS_LECTOR': str,\n",
    "    'CATEGORÍA': str,\n",
    "    'FECHA_PRESTAMO': str,\n",
    "    'FECHA_REAL_DEVOLUCION': str,\n",
    "    'DATE_PRESTAMO': pd.tslib.Timestamp,\n",
    "    'DATE_DEVOLUCION': pd.tslib.Timestamp,\n",
    "}\n",
    "\n",
    "prestamos_df = pd.read_csv('prestamos_totales.csv', header=0, dtype=dtypes, parse_dates=['DATE_PRESTAMO', 'DATE_DEVOLUCION'])\n",
    "prestamos_df = prestamos_df.fillna('')"
   ]
  },
  {
   "cell_type": "code",
   "execution_count": 3,
   "metadata": {
    "collapsed": false
   },
   "outputs": [
    {
     "data": {
      "text/plain": [
       "(3054360, 20)"
      ]
     },
     "execution_count": 3,
     "metadata": {},
     "output_type": "execute_result"
    }
   ],
   "source": [
    "prestamos_df.shape"
   ]
  },
  {
   "cell_type": "code",
   "execution_count": 4,
   "metadata": {
    "collapsed": false
   },
   "outputs": [
    {
     "data": {
      "text/html": [
       "<div>\n",
       "<table border=\"1\" class=\"dataframe\">\n",
       "  <thead>\n",
       "    <tr style=\"text-align: right;\">\n",
       "      <th></th>\n",
       "      <th>TITULO</th>\n",
       "      <th>AUTOR</th>\n",
       "      <th>SUCURSAL</th>\n",
       "      <th>COD_BARRAS_LIBRO</th>\n",
       "      <th>DEWEY</th>\n",
       "      <th>DESC_LOCALIZACION_EJEMPLAR</th>\n",
       "      <th>FECHA_PUB</th>\n",
       "      <th>PAIS_EJEMPLAR</th>\n",
       "      <th>OCUPACION</th>\n",
       "      <th>NIVEL_EDUCACION</th>\n",
       "      <th>AREA_ESTUDIO</th>\n",
       "      <th>SUCURSAL_PRESTAMO</th>\n",
       "      <th>SUCURSAL_DEVOLUCION</th>\n",
       "      <th>SUCURSAL_DEL_LECTOR</th>\n",
       "      <th>COD_BARRAS_LECTOR</th>\n",
       "      <th>CATEGORÍA</th>\n",
       "      <th>FECHA_PRESTAMO</th>\n",
       "      <th>FECHA_REAL_DEVOLUCION</th>\n",
       "      <th>DATE_PRESTAMO</th>\n",
       "      <th>DATE_DEVOLUCION</th>\n",
       "    </tr>\n",
       "  </thead>\n",
       "  <tbody>\n",
       "    <tr>\n",
       "      <th>0</th>\n",
       "      <td>Un bicho extraño</td>\n",
       "      <td>Daporta, Mon.</td>\n",
       "      <td>ARM</td>\n",
       "      <td>2298061</td>\n",
       "      <td>863</td>\n",
       "      <td>Infantil</td>\n",
       "      <td>2010</td>\n",
       "      <td>sp</td>\n",
       "      <td></td>\n",
       "      <td></td>\n",
       "      <td></td>\n",
       "      <td>ARM</td>\n",
       "      <td>ARM</td>\n",
       "      <td>ARM</td>\n",
       "      <td>88429527</td>\n",
       "      <td>CTA</td>\n",
       "      <td>22/01/2015</td>\n",
       "      <td>04/02/2015</td>\n",
       "      <td>2015-01-22</td>\n",
       "      <td>2015-02-04</td>\n",
       "    </tr>\n",
       "    <tr>\n",
       "      <th>1</th>\n",
       "      <td>Un bicho extraño</td>\n",
       "      <td>Daporta, Mon.</td>\n",
       "      <td>ARM</td>\n",
       "      <td>2298061</td>\n",
       "      <td>863</td>\n",
       "      <td>Infantil</td>\n",
       "      <td>2010</td>\n",
       "      <td>sp</td>\n",
       "      <td></td>\n",
       "      <td></td>\n",
       "      <td></td>\n",
       "      <td>ARM</td>\n",
       "      <td>ARM</td>\n",
       "      <td>ARM</td>\n",
       "      <td>88416381</td>\n",
       "      <td>CTA</td>\n",
       "      <td>31/03/2015</td>\n",
       "      <td>07/04/2015</td>\n",
       "      <td>2015-03-31</td>\n",
       "      <td>2015-04-07</td>\n",
       "    </tr>\n",
       "    <tr>\n",
       "      <th>2</th>\n",
       "      <td>Quisiera tener ...</td>\n",
       "      <td>Zoboli, Giovanna.</td>\n",
       "      <td>ARM</td>\n",
       "      <td>2284458</td>\n",
       "      <td>853</td>\n",
       "      <td>Infantil</td>\n",
       "      <td>2010</td>\n",
       "      <td>mx</td>\n",
       "      <td></td>\n",
       "      <td></td>\n",
       "      <td></td>\n",
       "      <td>ARM</td>\n",
       "      <td>ARM</td>\n",
       "      <td>ARM</td>\n",
       "      <td>88381353</td>\n",
       "      <td>CTA</td>\n",
       "      <td>07/11/2015</td>\n",
       "      <td>17/11/2015</td>\n",
       "      <td>2015-11-07</td>\n",
       "      <td>2015-11-17</td>\n",
       "    </tr>\n",
       "    <tr>\n",
       "      <th>3</th>\n",
       "      <td>Johannes Gutenberg</td>\n",
       "      <td>Borràs Perelló, Lluís.</td>\n",
       "      <td>ARM</td>\n",
       "      <td>2288922</td>\n",
       "      <td>925</td>\n",
       "      <td>Infantil</td>\n",
       "      <td>2010</td>\n",
       "      <td>sp</td>\n",
       "      <td>Empleado</td>\n",
       "      <td>Técnico</td>\n",
       "      <td>Adm. de empresas</td>\n",
       "      <td>ARM</td>\n",
       "      <td>ARM</td>\n",
       "      <td>ARM</td>\n",
       "      <td>88007424</td>\n",
       "      <td>CEM</td>\n",
       "      <td>16/01/2015</td>\n",
       "      <td>16/01/2015</td>\n",
       "      <td>2015-01-16</td>\n",
       "      <td>2015-01-16</td>\n",
       "    </tr>\n",
       "    <tr>\n",
       "      <th>4</th>\n",
       "      <td>La fantástica leyenda de: la princesa y el dragón</td>\n",
       "      <td>Alins, Sonia.</td>\n",
       "      <td>ARM</td>\n",
       "      <td>2288896</td>\n",
       "      <td>863</td>\n",
       "      <td>Infantil</td>\n",
       "      <td>2010</td>\n",
       "      <td>sp</td>\n",
       "      <td></td>\n",
       "      <td></td>\n",
       "      <td></td>\n",
       "      <td>ARM</td>\n",
       "      <td>ARM</td>\n",
       "      <td>ARM</td>\n",
       "      <td>88429529</td>\n",
       "      <td>CTA</td>\n",
       "      <td>21/01/2015</td>\n",
       "      <td>28/01/2015</td>\n",
       "      <td>2015-01-21</td>\n",
       "      <td>2015-01-28</td>\n",
       "    </tr>\n",
       "  </tbody>\n",
       "</table>\n",
       "</div>"
      ],
      "text/plain": [
       "                                              TITULO                   AUTOR  \\\n",
       "0                                   Un bicho extraño           Daporta, Mon.   \n",
       "1                                   Un bicho extraño           Daporta, Mon.   \n",
       "2                                 Quisiera tener ...       Zoboli, Giovanna.   \n",
       "3                                 Johannes Gutenberg  Borràs Perelló, Lluís.   \n",
       "4  La fantástica leyenda de: la princesa y el dragón           Alins, Sonia.   \n",
       "\n",
       "  SUCURSAL COD_BARRAS_LIBRO DEWEY DESC_LOCALIZACION_EJEMPLAR FECHA_PUB  \\\n",
       "0      ARM          2298061   863                   Infantil      2010   \n",
       "1      ARM          2298061   863                   Infantil      2010   \n",
       "2      ARM          2284458   853                   Infantil      2010   \n",
       "3      ARM          2288922   925                   Infantil      2010   \n",
       "4      ARM          2288896   863                   Infantil      2010   \n",
       "\n",
       "  PAIS_EJEMPLAR OCUPACION NIVEL_EDUCACION      AREA_ESTUDIO SUCURSAL_PRESTAMO  \\\n",
       "0            sp                                                           ARM   \n",
       "1            sp                                                           ARM   \n",
       "2            mx                                                           ARM   \n",
       "3            sp  Empleado         Técnico  Adm. de empresas               ARM   \n",
       "4            sp                                                           ARM   \n",
       "\n",
       "  SUCURSAL_DEVOLUCION SUCURSAL_DEL_LECTOR COD_BARRAS_LECTOR CATEGORÍA  \\\n",
       "0                 ARM                 ARM          88429527       CTA   \n",
       "1                 ARM                 ARM          88416381       CTA   \n",
       "2                 ARM                 ARM          88381353       CTA   \n",
       "3                 ARM                 ARM          88007424       CEM   \n",
       "4                 ARM                 ARM          88429529       CTA   \n",
       "\n",
       "  FECHA_PRESTAMO FECHA_REAL_DEVOLUCION DATE_PRESTAMO DATE_DEVOLUCION  \n",
       "0     22/01/2015            04/02/2015    2015-01-22      2015-02-04  \n",
       "1     31/03/2015            07/04/2015    2015-03-31      2015-04-07  \n",
       "2     07/11/2015            17/11/2015    2015-11-07      2015-11-17  \n",
       "3     16/01/2015            16/01/2015    2015-01-16      2015-01-16  \n",
       "4     21/01/2015            28/01/2015    2015-01-21      2015-01-28  "
      ]
     },
     "execution_count": 4,
     "metadata": {},
     "output_type": "execute_result"
    }
   ],
   "source": [
    "prestamos_df.head()"
   ]
  },
  {
   "cell_type": "markdown",
   "metadata": {},
   "source": [
    "## Perfiles 2016"
   ]
  },
  {
   "cell_type": "code",
   "execution_count": 5,
   "metadata": {
    "collapsed": false
   },
   "outputs": [
    {
     "name": "stdout",
     "output_type": "stream",
     "text": [
      "CPU times: user 136 ms, sys: 0 ns, total: 136 ms\n",
      "Wall time: 135 ms\n"
     ]
    }
   ],
   "source": [
    "%%time\n",
    "\n",
    "dtypes = {\n",
    "    'CODBAR': str,\n",
    "    'Sucursal': str,\n",
    "    'Tratamiento': str,\n",
    "    'Barrio': str,\n",
    "    'Ciudad': str,\n",
    "    'CATEG': str,\n",
    "    'Ocupación1': str,\n",
    "    'Nivel Estudio1': str,\n",
    "    'Área de Estudio1': str,\n",
    "    'Fech. Nacim': pd.tslib.Timestamp,\n",
    "    'Edad': float,\n",
    "    'Rango_edad': 'category',\n",
    "}\n",
    "\n",
    "perfiles_df = pd.read_csv(\n",
    "    'usuarios_2016.csv', header=0, dtype=dtypes)\n",
    "# perfiles_df = perfiles_df.fillna('')"
   ]
  },
  {
   "cell_type": "code",
   "execution_count": 6,
   "metadata": {
    "collapsed": false
   },
   "outputs": [
    {
     "data": {
      "text/plain": [
       "(50272, 12)"
      ]
     },
     "execution_count": 6,
     "metadata": {},
     "output_type": "execute_result"
    }
   ],
   "source": [
    "perfiles_df.shape"
   ]
  },
  {
   "cell_type": "code",
   "execution_count": 7,
   "metadata": {
    "collapsed": false
   },
   "outputs": [
    {
     "data": {
      "text/html": [
       "<div>\n",
       "<table border=\"1\" class=\"dataframe\">\n",
       "  <thead>\n",
       "    <tr style=\"text-align: right;\">\n",
       "      <th></th>\n",
       "      <th>CODBAR</th>\n",
       "      <th>Sucursal</th>\n",
       "      <th>Tratamiento</th>\n",
       "      <th>Barrio</th>\n",
       "      <th>Ciudad</th>\n",
       "      <th>CATEG</th>\n",
       "      <th>Ocupación1</th>\n",
       "      <th>Nivel Estudio1</th>\n",
       "      <th>Área de Estudio1</th>\n",
       "      <th>Fech. Nacim</th>\n",
       "      <th>Edad</th>\n",
       "      <th>Rango_edad</th>\n",
       "    </tr>\n",
       "  </thead>\n",
       "  <tbody>\n",
       "    <tr>\n",
       "      <th>0</th>\n",
       "      <td>88180782</td>\n",
       "      <td>BLAA</td>\n",
       "      <td>OTRO</td>\n",
       "      <td>chapinero</td>\n",
       "      <td>bogota</td>\n",
       "      <td>CIN</td>\n",
       "      <td>universidad</td>\n",
       "      <td>OTRO</td>\n",
       "      <td>OTRO</td>\n",
       "      <td>NaN</td>\n",
       "      <td>-1.0</td>\n",
       "      <td>OTRO</td>\n",
       "    </tr>\n",
       "    <tr>\n",
       "      <th>1</th>\n",
       "      <td>88183608</td>\n",
       "      <td>BLAA</td>\n",
       "      <td>sra.</td>\n",
       "      <td>OTRO</td>\n",
       "      <td>bogota</td>\n",
       "      <td>CEM</td>\n",
       "      <td>pensionado</td>\n",
       "      <td>OTRO</td>\n",
       "      <td>OTRO</td>\n",
       "      <td>1957-07-30 00:00:00</td>\n",
       "      <td>59.0</td>\n",
       "      <td>50-64</td>\n",
       "    </tr>\n",
       "    <tr>\n",
       "      <th>2</th>\n",
       "      <td>88181732</td>\n",
       "      <td>BLAA</td>\n",
       "      <td>sra.</td>\n",
       "      <td>icata</td>\n",
       "      <td>bogota</td>\n",
       "      <td>CEM</td>\n",
       "      <td>empleado</td>\n",
       "      <td>profesional</td>\n",
       "      <td>filosofía y letras</td>\n",
       "      <td>NaN</td>\n",
       "      <td>-1.0</td>\n",
       "      <td>OTRO</td>\n",
       "    </tr>\n",
       "    <tr>\n",
       "      <th>3</th>\n",
       "      <td>88182347</td>\n",
       "      <td>ARM</td>\n",
       "      <td>sr.</td>\n",
       "      <td>OTRO</td>\n",
       "      <td>OTRO</td>\n",
       "      <td>CEM</td>\n",
       "      <td>empleado</td>\n",
       "      <td>profesional</td>\n",
       "      <td>economía</td>\n",
       "      <td>1963-09-20 00:00:00</td>\n",
       "      <td>53.0</td>\n",
       "      <td>50-64</td>\n",
       "    </tr>\n",
       "    <tr>\n",
       "      <th>4</th>\n",
       "      <td>88181284</td>\n",
       "      <td>BLAA</td>\n",
       "      <td>sr.</td>\n",
       "      <td>soledad</td>\n",
       "      <td>bogota</td>\n",
       "      <td>CEM</td>\n",
       "      <td>OTRO</td>\n",
       "      <td>OTRO</td>\n",
       "      <td>OTRO</td>\n",
       "      <td>NaN</td>\n",
       "      <td>-1.0</td>\n",
       "      <td>OTRO</td>\n",
       "    </tr>\n",
       "  </tbody>\n",
       "</table>\n",
       "</div>"
      ],
      "text/plain": [
       "     CODBAR Sucursal Tratamiento     Barrio  Ciudad CATEG   Ocupación1  \\\n",
       "0  88180782     BLAA        OTRO  chapinero  bogota   CIN  universidad   \n",
       "1  88183608     BLAA        sra.       OTRO  bogota   CEM   pensionado   \n",
       "2  88181732     BLAA        sra.      icata  bogota   CEM     empleado   \n",
       "3  88182347      ARM         sr.       OTRO    OTRO   CEM     empleado   \n",
       "4  88181284     BLAA         sr.    soledad  bogota   CEM         OTRO   \n",
       "\n",
       "  Nivel Estudio1    Área de Estudio1          Fech. Nacim  Edad Rango_edad  \n",
       "0           OTRO                OTRO                  NaN  -1.0       OTRO  \n",
       "1           OTRO                OTRO  1957-07-30 00:00:00  59.0      50-64  \n",
       "2    profesional  filosofía y letras                  NaN  -1.0       OTRO  \n",
       "3    profesional            economía  1963-09-20 00:00:00  53.0      50-64  \n",
       "4           OTRO                OTRO                  NaN  -1.0       OTRO  "
      ]
     },
     "execution_count": 7,
     "metadata": {},
     "output_type": "execute_result"
    }
   ],
   "source": [
    "perfiles_df.head()"
   ]
  },
  {
   "cell_type": "markdown",
   "metadata": {},
   "source": [
    "## Mezcla"
   ]
  },
  {
   "cell_type": "markdown",
   "metadata": {},
   "source": [
    "### Merge"
   ]
  },
  {
   "cell_type": "code",
   "execution_count": 8,
   "metadata": {
    "collapsed": true
   },
   "outputs": [],
   "source": [
    "mezcla_df = pd.merge(\n",
    "    prestamos_df,\n",
    "    perfiles_df,\n",
    "    left_on='COD_BARRAS_LECTOR',\n",
    "    right_on='CODBAR',\n",
    ")"
   ]
  },
  {
   "cell_type": "code",
   "execution_count": 9,
   "metadata": {
    "collapsed": false
   },
   "outputs": [
    {
     "data": {
      "text/plain": [
       "773509"
      ]
     },
     "execution_count": 9,
     "metadata": {},
     "output_type": "execute_result"
    }
   ],
   "source": [
    "len(mezcla_df)"
   ]
  },
  {
   "cell_type": "code",
   "execution_count": 10,
   "metadata": {
    "collapsed": false
   },
   "outputs": [
    {
     "data": {
      "text/html": [
       "<div>\n",
       "<table border=\"1\" class=\"dataframe\">\n",
       "  <thead>\n",
       "    <tr style=\"text-align: right;\">\n",
       "      <th></th>\n",
       "      <th>TITULO</th>\n",
       "      <th>AUTOR</th>\n",
       "      <th>SUCURSAL</th>\n",
       "      <th>COD_BARRAS_LIBRO</th>\n",
       "      <th>DEWEY</th>\n",
       "      <th>DESC_LOCALIZACION_EJEMPLAR</th>\n",
       "      <th>FECHA_PUB</th>\n",
       "      <th>PAIS_EJEMPLAR</th>\n",
       "      <th>OCUPACION</th>\n",
       "      <th>NIVEL_EDUCACION</th>\n",
       "      <th>...</th>\n",
       "      <th>Tratamiento</th>\n",
       "      <th>Barrio</th>\n",
       "      <th>Ciudad</th>\n",
       "      <th>CATEG</th>\n",
       "      <th>Ocupación1</th>\n",
       "      <th>Nivel Estudio1</th>\n",
       "      <th>Área de Estudio1</th>\n",
       "      <th>Fech. Nacim</th>\n",
       "      <th>Edad</th>\n",
       "      <th>Rango_edad</th>\n",
       "    </tr>\n",
       "  </thead>\n",
       "  <tbody>\n",
       "    <tr>\n",
       "      <th>0</th>\n",
       "      <td>Johannes Gutenberg</td>\n",
       "      <td>Borràs Perelló, Lluís.</td>\n",
       "      <td>ARM</td>\n",
       "      <td>2288922</td>\n",
       "      <td>925</td>\n",
       "      <td>Infantil</td>\n",
       "      <td>2010</td>\n",
       "      <td>sp</td>\n",
       "      <td>Empleado</td>\n",
       "      <td>Técnico</td>\n",
       "      <td>...</td>\n",
       "      <td>sr.</td>\n",
       "      <td>OTRO</td>\n",
       "      <td>armenia</td>\n",
       "      <td>CEM</td>\n",
       "      <td>empleado</td>\n",
       "      <td>técnico</td>\n",
       "      <td>adm. de empresas</td>\n",
       "      <td>1973-09-11 00:00:00</td>\n",
       "      <td>43.0</td>\n",
       "      <td>40-49</td>\n",
       "    </tr>\n",
       "    <tr>\n",
       "      <th>1</th>\n",
       "      <td>Genealogía de una bruja</td>\n",
       "      <td>Lacombe, Benjamin, 1982-</td>\n",
       "      <td>ARM</td>\n",
       "      <td>2266448</td>\n",
       "      <td>843</td>\n",
       "      <td>Infantil</td>\n",
       "      <td>2009</td>\n",
       "      <td>sp</td>\n",
       "      <td>Empleado</td>\n",
       "      <td>Técnico</td>\n",
       "      <td>...</td>\n",
       "      <td>sr.</td>\n",
       "      <td>OTRO</td>\n",
       "      <td>armenia</td>\n",
       "      <td>CEM</td>\n",
       "      <td>empleado</td>\n",
       "      <td>técnico</td>\n",
       "      <td>adm. de empresas</td>\n",
       "      <td>1973-09-11 00:00:00</td>\n",
       "      <td>43.0</td>\n",
       "      <td>40-49</td>\n",
       "    </tr>\n",
       "    <tr>\n",
       "      <th>2</th>\n",
       "      <td>La independencia de Colombia : así fue</td>\n",
       "      <td>Vasco, Irene, 1952-</td>\n",
       "      <td>ARM</td>\n",
       "      <td>2199410</td>\n",
       "      <td>986</td>\n",
       "      <td>Infantil</td>\n",
       "      <td>2009</td>\n",
       "      <td>ck</td>\n",
       "      <td>Empleado</td>\n",
       "      <td>Técnico</td>\n",
       "      <td>...</td>\n",
       "      <td>sr.</td>\n",
       "      <td>OTRO</td>\n",
       "      <td>armenia</td>\n",
       "      <td>CEM</td>\n",
       "      <td>empleado</td>\n",
       "      <td>técnico</td>\n",
       "      <td>adm. de empresas</td>\n",
       "      <td>1973-09-11 00:00:00</td>\n",
       "      <td>43.0</td>\n",
       "      <td>40-49</td>\n",
       "    </tr>\n",
       "    <tr>\n",
       "      <th>3</th>\n",
       "      <td>Maravillas del mundo</td>\n",
       "      <td>Steele, Philip.</td>\n",
       "      <td>ARM</td>\n",
       "      <td>2091333</td>\n",
       "      <td>910</td>\n",
       "      <td>Infantil</td>\n",
       "      <td>2007</td>\n",
       "      <td>mx</td>\n",
       "      <td>Empleado</td>\n",
       "      <td>Técnico</td>\n",
       "      <td>...</td>\n",
       "      <td>sr.</td>\n",
       "      <td>OTRO</td>\n",
       "      <td>armenia</td>\n",
       "      <td>CEM</td>\n",
       "      <td>empleado</td>\n",
       "      <td>técnico</td>\n",
       "      <td>adm. de empresas</td>\n",
       "      <td>1973-09-11 00:00:00</td>\n",
       "      <td>43.0</td>\n",
       "      <td>40-49</td>\n",
       "    </tr>\n",
       "    <tr>\n",
       "      <th>4</th>\n",
       "      <td>No te gustaría ser un adivino maya</td>\n",
       "      <td>Matthews, Rupert.</td>\n",
       "      <td>ARM</td>\n",
       "      <td>2097624</td>\n",
       "      <td>972</td>\n",
       "      <td>Infantil</td>\n",
       "      <td>2008</td>\n",
       "      <td>ck</td>\n",
       "      <td>Empleado</td>\n",
       "      <td>Técnico</td>\n",
       "      <td>...</td>\n",
       "      <td>sr.</td>\n",
       "      <td>OTRO</td>\n",
       "      <td>armenia</td>\n",
       "      <td>CEM</td>\n",
       "      <td>empleado</td>\n",
       "      <td>técnico</td>\n",
       "      <td>adm. de empresas</td>\n",
       "      <td>1973-09-11 00:00:00</td>\n",
       "      <td>43.0</td>\n",
       "      <td>40-49</td>\n",
       "    </tr>\n",
       "  </tbody>\n",
       "</table>\n",
       "<p>5 rows × 32 columns</p>\n",
       "</div>"
      ],
      "text/plain": [
       "                                   TITULO                     AUTOR SUCURSAL  \\\n",
       "0                      Johannes Gutenberg    Borràs Perelló, Lluís.      ARM   \n",
       "1                 Genealogía de una bruja  Lacombe, Benjamin, 1982-      ARM   \n",
       "2  La independencia de Colombia : así fue       Vasco, Irene, 1952-      ARM   \n",
       "3                    Maravillas del mundo           Steele, Philip.      ARM   \n",
       "4      No te gustaría ser un adivino maya         Matthews, Rupert.      ARM   \n",
       "\n",
       "  COD_BARRAS_LIBRO DEWEY DESC_LOCALIZACION_EJEMPLAR FECHA_PUB PAIS_EJEMPLAR  \\\n",
       "0          2288922   925                   Infantil      2010            sp   \n",
       "1          2266448   843                   Infantil      2009            sp   \n",
       "2          2199410   986                   Infantil      2009            ck   \n",
       "3          2091333   910                   Infantil      2007            mx   \n",
       "4          2097624   972                   Infantil      2008            ck   \n",
       "\n",
       "  OCUPACION NIVEL_EDUCACION    ...     Tratamiento Barrio   Ciudad CATEG  \\\n",
       "0  Empleado         Técnico    ...             sr.   OTRO  armenia   CEM   \n",
       "1  Empleado         Técnico    ...             sr.   OTRO  armenia   CEM   \n",
       "2  Empleado         Técnico    ...             sr.   OTRO  armenia   CEM   \n",
       "3  Empleado         Técnico    ...             sr.   OTRO  armenia   CEM   \n",
       "4  Empleado         Técnico    ...             sr.   OTRO  armenia   CEM   \n",
       "\n",
       "  Ocupación1 Nivel Estudio1  Área de Estudio1          Fech. Nacim  Edad  \\\n",
       "0   empleado        técnico  adm. de empresas  1973-09-11 00:00:00  43.0   \n",
       "1   empleado        técnico  adm. de empresas  1973-09-11 00:00:00  43.0   \n",
       "2   empleado        técnico  adm. de empresas  1973-09-11 00:00:00  43.0   \n",
       "3   empleado        técnico  adm. de empresas  1973-09-11 00:00:00  43.0   \n",
       "4   empleado        técnico  adm. de empresas  1973-09-11 00:00:00  43.0   \n",
       "\n",
       "  Rango_edad  \n",
       "0      40-49  \n",
       "1      40-49  \n",
       "2      40-49  \n",
       "3      40-49  \n",
       "4      40-49  \n",
       "\n",
       "[5 rows x 32 columns]"
      ]
     },
     "execution_count": 10,
     "metadata": {},
     "output_type": "execute_result"
    }
   ],
   "source": [
    "mezcla_df.head()"
   ]
  },
  {
   "cell_type": "markdown",
   "metadata": {},
   "source": [
    "### Ciudades y departamentos"
   ]
  },
  {
   "cell_type": "markdown",
   "metadata": {},
   "source": [
    "#### Ciudades"
   ]
  },
  {
   "cell_type": "code",
   "execution_count": 11,
   "metadata": {
    "collapsed": false
   },
   "outputs": [
    {
     "data": {
      "text/plain": [
       "80"
      ]
     },
     "execution_count": 11,
     "metadata": {},
     "output_type": "execute_result"
    }
   ],
   "source": [
    "mezcla_df.Ciudad.nunique()"
   ]
  },
  {
   "cell_type": "code",
   "execution_count": 12,
   "metadata": {
    "collapsed": false
   },
   "outputs": [
    {
     "data": {
      "text/plain": [
       "array(['armenia', 'pereira', 'circasia', 'bogota', 'cali', 'bucaramanga',\n",
       "       'OTRO', 'cucuta', 'manizales', 'medellin', 'calarca', 'neiva',\n",
       "       'dosquebradas', 'buenaventura', 'monteria', 'villavicencio',\n",
       "       'tunja', 'floridablanca', 'valledupar', 'riohacha', 'ibague',\n",
       "       'popayan', 'soledad', 'girardot', 'leticia', 'mosquera',\n",
       "       'santa marta', 'envigado', 'soacha', 'cartagena', 'zipaquira',\n",
       "       'sincelejo', 'cajica', 'florencia', 'barranquilla', 'facatativa',\n",
       "       'sibate', 'chia', 'villamaria', 'funza', 'san andres', 'madrid',\n",
       "       'piedecuesta', 'sopo', 'ipiales', 'pasca', 'tabio', 'cartago',\n",
       "       'honda', 'acacias', 'paipa', 'bello', 'cota', 'mariquita',\n",
       "       'flandes', 'quibdo', 'chiquinquira', 'la calera', 'rivera', 'tenjo',\n",
       "       'duitama', 'santa rosa', 'fusagasuga', 'palermo', 'sogamoso',\n",
       "       'ricaurte', 'espinal', 'chinchina', 'timbio', 'motavita', 'oicata',\n",
       "       'combita', 'turbaco', 'guaduas', 'tocancipa', 'piendamo', 'tello',\n",
       "       'salento', 'yaguara', 'tocaima'], dtype=object)"
      ]
     },
     "execution_count": 12,
     "metadata": {},
     "output_type": "execute_result"
    }
   ],
   "source": [
    "mezcla_df.Ciudad.unique()"
   ]
  },
  {
   "cell_type": "code",
   "execution_count": 32,
   "metadata": {
    "collapsed": false
   },
   "outputs": [],
   "source": [
    "ciudad_ciudad_dict = {\n",
    "    'OTRO': 'OTRO',\n",
    "    'acacias': 'Acacías',\n",
    "#     'aipe': 'Aipe',\n",
    "    'armenia': 'Armenia',\n",
    "    'barranquilla': 'Barranquilla',\n",
    "#     'baraya': 'Baraya',\n",
    "    'bello': 'Bello',\n",
    "    'bogota': 'Bogotá',\n",
    "    'bucaramanga': 'Bucaramanga',\n",
    "    'buenaventura': 'Buenaventura',\n",
    "    'cajica': 'Cajicá',\n",
    "    'calarca': 'Calarcá',\n",
    "    'cali': 'Cali',\n",
    "    'cartagena': 'Cartagena',\n",
    "    'cartago': 'Cartago',\n",
    "    'chia': 'Chía',\n",
    "    'chinchina': 'Chinchiná',\n",
    "    'chiquinquira': 'Chiquinquirá',\n",
    "    'circasia': 'Circasia',\n",
    "    'combita': 'Cómbita',\n",
    "    'cota': 'Cota',\n",
    "    'cucuta': 'Cúcuta',\n",
    "    'dosquebradas': 'Dosquebradas',\n",
    "    'duitama': 'Duitama',\n",
    "    'envigado': 'Envigado',\n",
    "    'espinal': 'Espinal',\n",
    "    'facatativa': 'Facatativá',\n",
    "    'flandes': 'Flandes',\n",
    "    'florencia': 'Florencia',\n",
    "    'floridablanca': 'Floridablanca',\n",
    "    'funza': 'Funza',\n",
    "    'fusagasuga': 'Fusagasugá',\n",
    "    'girardot': 'Girardot',\n",
    "    'guaduas': 'Guaduas',\n",
    "    'honda': 'Honda',\n",
    "    'ibague': 'Ibagué',\n",
    "    'ipiales': 'Ipiales',\n",
    "    'la calera': 'La Calera',\n",
    "    'leticia': 'Leticia',\n",
    "    'madrid': 'Madrid',\n",
    "    'manizales': 'Manizales',\n",
    "    'mariquita': 'Mariquita',\n",
    "    'medellin': 'Medellín',\n",
    "    'monteria': 'Montería',\n",
    "    'mosquera': 'Mosquera',\n",
    "    'motavita': 'Motavita',\n",
    "    'neiva': 'Neiva',\n",
    "    'oicata': 'Oicatá',\n",
    "    'paipa': 'Paipa',\n",
    "    'palermo': 'Palermo',\n",
    "    'pasca': 'Pasca',\n",
    "    'pasto': 'San Juan de Pasto', #\n",
    "    'pereira': 'Pereira',\n",
    "    'piedecuesta': 'Piedecuesta',\n",
    "    'piendamo': 'Piendamó',\n",
    "    'popayan': 'Popayán',\n",
    "    'quibdo': 'Quibdó',\n",
    "    'ricaurte': 'Ricaurte',\n",
    "    'riohacha': 'Riohacha',\n",
    "    'rivera': 'Rivera',\n",
    "    'salento': 'Salento',\n",
    "    'san andres': 'San Andrés',\n",
    "    'santa marta': 'Santa Marta',\n",
    "    'santa rosa': 'Santa Rosa',\n",
    "    'sibate': 'Sibaté',\n",
    "    'sincelejo': 'Sincelejo',\n",
    "    'soacha': 'Soacha',\n",
    "    'sogamoso': 'Sogamoso',\n",
    "    'soledad': 'Soledad',\n",
    "    'sopo': 'Sopó',\n",
    "    'tabio': 'Tabio',\n",
    "    'tello': 'Tello',\n",
    "    'tenjo': 'Tenjo',\n",
    "    'timbio': 'Timbío',\n",
    "    'tocaima': 'Tocaima',\n",
    "    'tocancipa': 'Tocancipá',\n",
    "    'tunja': 'Tunja',\n",
    "    'turbaco': 'Turbaco',\n",
    "    'valledupar': 'Valledupar',\n",
    "    'villamaria': 'Villamaría',\n",
    "    'villavicencio': 'Villavicencio',\n",
    "#     'villavieja': 'Villavieja',\n",
    "    'yaguara': 'Yaguará',\n",
    "    'zipaquira': 'Zipaquirá',\n",
    "}"
   ]
  },
  {
   "cell_type": "code",
   "execution_count": 14,
   "metadata": {
    "collapsed": false
   },
   "outputs": [
    {
     "name": "stdout",
     "output_type": "stream",
     "text": [
      "CPU times: user 1min 46s, sys: 155 ms, total: 1min 46s\n",
      "Wall time: 1min 46s\n"
     ]
    }
   ],
   "source": [
    "%%time\n",
    "\n",
    "def process_ciudad(x):\n",
    "    return ciudad_ciudad_dict[x['Ciudad']]\n",
    "\n",
    "mezcla_df['Ciudad'] = mezcla_df.apply(process_ciudad, axis=1)"
   ]
  },
  {
   "cell_type": "code",
   "execution_count": 15,
   "metadata": {
    "collapsed": false
   },
   "outputs": [
    {
     "data": {
      "text/html": [
       "<div>\n",
       "<table border=\"1\" class=\"dataframe\">\n",
       "  <thead>\n",
       "    <tr style=\"text-align: right;\">\n",
       "      <th></th>\n",
       "      <th>TITULO</th>\n",
       "      <th>AUTOR</th>\n",
       "      <th>SUCURSAL</th>\n",
       "      <th>COD_BARRAS_LIBRO</th>\n",
       "      <th>DEWEY</th>\n",
       "      <th>DESC_LOCALIZACION_EJEMPLAR</th>\n",
       "      <th>FECHA_PUB</th>\n",
       "      <th>PAIS_EJEMPLAR</th>\n",
       "      <th>OCUPACION</th>\n",
       "      <th>NIVEL_EDUCACION</th>\n",
       "      <th>...</th>\n",
       "      <th>Tratamiento</th>\n",
       "      <th>Barrio</th>\n",
       "      <th>Ciudad</th>\n",
       "      <th>CATEG</th>\n",
       "      <th>Ocupación1</th>\n",
       "      <th>Nivel Estudio1</th>\n",
       "      <th>Área de Estudio1</th>\n",
       "      <th>Fech. Nacim</th>\n",
       "      <th>Edad</th>\n",
       "      <th>Rango_edad</th>\n",
       "    </tr>\n",
       "  </thead>\n",
       "  <tbody>\n",
       "    <tr>\n",
       "      <th>0</th>\n",
       "      <td>Johannes Gutenberg</td>\n",
       "      <td>Borràs Perelló, Lluís.</td>\n",
       "      <td>ARM</td>\n",
       "      <td>2288922</td>\n",
       "      <td>925</td>\n",
       "      <td>Infantil</td>\n",
       "      <td>2010</td>\n",
       "      <td>sp</td>\n",
       "      <td>Empleado</td>\n",
       "      <td>Técnico</td>\n",
       "      <td>...</td>\n",
       "      <td>sr.</td>\n",
       "      <td>OTRO</td>\n",
       "      <td>Armenia</td>\n",
       "      <td>CEM</td>\n",
       "      <td>empleado</td>\n",
       "      <td>técnico</td>\n",
       "      <td>adm. de empresas</td>\n",
       "      <td>1973-09-11 00:00:00</td>\n",
       "      <td>43.0</td>\n",
       "      <td>40-49</td>\n",
       "    </tr>\n",
       "    <tr>\n",
       "      <th>1</th>\n",
       "      <td>Genealogía de una bruja</td>\n",
       "      <td>Lacombe, Benjamin, 1982-</td>\n",
       "      <td>ARM</td>\n",
       "      <td>2266448</td>\n",
       "      <td>843</td>\n",
       "      <td>Infantil</td>\n",
       "      <td>2009</td>\n",
       "      <td>sp</td>\n",
       "      <td>Empleado</td>\n",
       "      <td>Técnico</td>\n",
       "      <td>...</td>\n",
       "      <td>sr.</td>\n",
       "      <td>OTRO</td>\n",
       "      <td>Armenia</td>\n",
       "      <td>CEM</td>\n",
       "      <td>empleado</td>\n",
       "      <td>técnico</td>\n",
       "      <td>adm. de empresas</td>\n",
       "      <td>1973-09-11 00:00:00</td>\n",
       "      <td>43.0</td>\n",
       "      <td>40-49</td>\n",
       "    </tr>\n",
       "    <tr>\n",
       "      <th>2</th>\n",
       "      <td>La independencia de Colombia : así fue</td>\n",
       "      <td>Vasco, Irene, 1952-</td>\n",
       "      <td>ARM</td>\n",
       "      <td>2199410</td>\n",
       "      <td>986</td>\n",
       "      <td>Infantil</td>\n",
       "      <td>2009</td>\n",
       "      <td>ck</td>\n",
       "      <td>Empleado</td>\n",
       "      <td>Técnico</td>\n",
       "      <td>...</td>\n",
       "      <td>sr.</td>\n",
       "      <td>OTRO</td>\n",
       "      <td>Armenia</td>\n",
       "      <td>CEM</td>\n",
       "      <td>empleado</td>\n",
       "      <td>técnico</td>\n",
       "      <td>adm. de empresas</td>\n",
       "      <td>1973-09-11 00:00:00</td>\n",
       "      <td>43.0</td>\n",
       "      <td>40-49</td>\n",
       "    </tr>\n",
       "    <tr>\n",
       "      <th>3</th>\n",
       "      <td>Maravillas del mundo</td>\n",
       "      <td>Steele, Philip.</td>\n",
       "      <td>ARM</td>\n",
       "      <td>2091333</td>\n",
       "      <td>910</td>\n",
       "      <td>Infantil</td>\n",
       "      <td>2007</td>\n",
       "      <td>mx</td>\n",
       "      <td>Empleado</td>\n",
       "      <td>Técnico</td>\n",
       "      <td>...</td>\n",
       "      <td>sr.</td>\n",
       "      <td>OTRO</td>\n",
       "      <td>Armenia</td>\n",
       "      <td>CEM</td>\n",
       "      <td>empleado</td>\n",
       "      <td>técnico</td>\n",
       "      <td>adm. de empresas</td>\n",
       "      <td>1973-09-11 00:00:00</td>\n",
       "      <td>43.0</td>\n",
       "      <td>40-49</td>\n",
       "    </tr>\n",
       "    <tr>\n",
       "      <th>4</th>\n",
       "      <td>No te gustaría ser un adivino maya</td>\n",
       "      <td>Matthews, Rupert.</td>\n",
       "      <td>ARM</td>\n",
       "      <td>2097624</td>\n",
       "      <td>972</td>\n",
       "      <td>Infantil</td>\n",
       "      <td>2008</td>\n",
       "      <td>ck</td>\n",
       "      <td>Empleado</td>\n",
       "      <td>Técnico</td>\n",
       "      <td>...</td>\n",
       "      <td>sr.</td>\n",
       "      <td>OTRO</td>\n",
       "      <td>Armenia</td>\n",
       "      <td>CEM</td>\n",
       "      <td>empleado</td>\n",
       "      <td>técnico</td>\n",
       "      <td>adm. de empresas</td>\n",
       "      <td>1973-09-11 00:00:00</td>\n",
       "      <td>43.0</td>\n",
       "      <td>40-49</td>\n",
       "    </tr>\n",
       "  </tbody>\n",
       "</table>\n",
       "<p>5 rows × 32 columns</p>\n",
       "</div>"
      ],
      "text/plain": [
       "                                   TITULO                     AUTOR SUCURSAL  \\\n",
       "0                      Johannes Gutenberg    Borràs Perelló, Lluís.      ARM   \n",
       "1                 Genealogía de una bruja  Lacombe, Benjamin, 1982-      ARM   \n",
       "2  La independencia de Colombia : así fue       Vasco, Irene, 1952-      ARM   \n",
       "3                    Maravillas del mundo           Steele, Philip.      ARM   \n",
       "4      No te gustaría ser un adivino maya         Matthews, Rupert.      ARM   \n",
       "\n",
       "  COD_BARRAS_LIBRO DEWEY DESC_LOCALIZACION_EJEMPLAR FECHA_PUB PAIS_EJEMPLAR  \\\n",
       "0          2288922   925                   Infantil      2010            sp   \n",
       "1          2266448   843                   Infantil      2009            sp   \n",
       "2          2199410   986                   Infantil      2009            ck   \n",
       "3          2091333   910                   Infantil      2007            mx   \n",
       "4          2097624   972                   Infantil      2008            ck   \n",
       "\n",
       "  OCUPACION NIVEL_EDUCACION    ...     Tratamiento Barrio   Ciudad CATEG  \\\n",
       "0  Empleado         Técnico    ...             sr.   OTRO  Armenia   CEM   \n",
       "1  Empleado         Técnico    ...             sr.   OTRO  Armenia   CEM   \n",
       "2  Empleado         Técnico    ...             sr.   OTRO  Armenia   CEM   \n",
       "3  Empleado         Técnico    ...             sr.   OTRO  Armenia   CEM   \n",
       "4  Empleado         Técnico    ...             sr.   OTRO  Armenia   CEM   \n",
       "\n",
       "  Ocupación1 Nivel Estudio1  Área de Estudio1          Fech. Nacim  Edad  \\\n",
       "0   empleado        técnico  adm. de empresas  1973-09-11 00:00:00  43.0   \n",
       "1   empleado        técnico  adm. de empresas  1973-09-11 00:00:00  43.0   \n",
       "2   empleado        técnico  adm. de empresas  1973-09-11 00:00:00  43.0   \n",
       "3   empleado        técnico  adm. de empresas  1973-09-11 00:00:00  43.0   \n",
       "4   empleado        técnico  adm. de empresas  1973-09-11 00:00:00  43.0   \n",
       "\n",
       "  Rango_edad  \n",
       "0      40-49  \n",
       "1      40-49  \n",
       "2      40-49  \n",
       "3      40-49  \n",
       "4      40-49  \n",
       "\n",
       "[5 rows x 32 columns]"
      ]
     },
     "execution_count": 15,
     "metadata": {},
     "output_type": "execute_result"
    }
   ],
   "source": [
    "mezcla_df.head()"
   ]
  },
  {
   "cell_type": "markdown",
   "metadata": {},
   "source": [
    "#### Departamentos"
   ]
  },
  {
   "cell_type": "code",
   "execution_count": 42,
   "metadata": {
    "collapsed": true
   },
   "outputs": [],
   "source": [
    "dtypes = {\n",
    "    'Ciudad': str,\n",
    "    'Población': np.int32,\n",
    "    'Departamento': str,\n",
    "}\n",
    "\n",
    "ciudades_df = pd.read_csv(\n",
    "    'ciudades_colombia.csv',\n",
    "    sep='\\t',\n",
    "    header=-1,\n",
    "    names=['Wiki index', 'Ciudad', 'Población', 'Departamento'],\n",
    "    usecols=['Ciudad', 'Población', 'Departamento'],\n",
    "    dtype=dtypes,\n",
    "    thousands='.',\n",
    ")\n",
    "\n",
    "ciudades_departamentos_sr = pd.Series(list(ciudades_df['Departamento']), index=ciudades_df['Ciudad'])\n",
    "ciudades_departamentos_sr['OTRO'] = 'OTRO'"
   ]
  },
  {
   "cell_type": "code",
   "execution_count": 43,
   "metadata": {
    "collapsed": false
   },
   "outputs": [
    {
     "data": {
      "text/plain": [
       "Ciudad\n",
       "Bogotá             Cundinamarca\n",
       "Medellín              Antioquia\n",
       "Cali            Valle del Cauca\n",
       "Barranquilla          Atlántico\n",
       "Cartagena               Bolívar\n",
       "dtype: object"
      ]
     },
     "execution_count": 43,
     "metadata": {},
     "output_type": "execute_result"
    }
   ],
   "source": [
    "ciudades_departamentos_sr.head()"
   ]
  },
  {
   "cell_type": "code",
   "execution_count": 49,
   "metadata": {
    "collapsed": true
   },
   "outputs": [],
   "source": [
    "sucursal_ciudad_dict = {\n",
    "    'ARM': 'armenia',\n",
    "    'BAR': 'barranquilla',\n",
    "    'BLAA': 'bogota',\n",
    "    'BUE': 'buenaventura',\n",
    "    'BUC': 'bucaramanga',\n",
    "    'CAL': 'cali',\n",
    "    'CAR': 'cartagena',\n",
    "    'CASAGO': 'bogota',\n",
    "    'CATMAN': 'bogota',\n",
    "    'CUC': 'cucuta',\n",
    "    'FLO': 'florencia',\n",
    "    'GIR': 'girardot',\n",
    "    'HON': 'honda',\n",
    "    'IBA': 'ibague',\n",
    "    'IEC': 'bogota',\n",
    "    'IPI': 'ipiales',\n",
    "    'LET': 'leticia',\n",
    "    'MAN': 'manizales',\n",
    "    'MED': 'medellin',\n",
    "    'MON': 'monteria',\n",
    "    'NEI': 'neiva',\n",
    "    'PAS': 'pasto',\n",
    "    'PER': 'pereira',\n",
    "    'POP': 'popayan',\n",
    "    'QUI': 'quibdo',\n",
    "    'RIO': 'riohacha',\n",
    "    'SAN': 'san andres',\n",
    "    'SIN': 'sincelejo',\n",
    "    'STM': 'santa marta',\n",
    "    'TUN': 'tunja',\n",
    "    'VAL': 'valledupar',\n",
    "    'VIL': 'villavicencio',\n",
    "}"
   ]
  },
  {
   "cell_type": "code",
   "execution_count": 50,
   "metadata": {
    "collapsed": false
   },
   "outputs": [
    {
     "name": "stdout",
     "output_type": "stream",
     "text": [
      "Florencia    Caquetá\n",
      "Florencia      Cauca\n",
      "dtype: object\n",
      "Armenia      Quindío\n",
      "Armenia    Antioquia\n",
      "dtype: object\n",
      "San Andrés    Archipiélago de San Andrés\n",
      "San Andrés                     Santander\n",
      "dtype: object\n"
     ]
    }
   ],
   "source": [
    "sucursal_departamento_dict = {}\n",
    "for s, c in sucursal_ciudad_dict.items():\n",
    "    c = ciudad_ciudad_dict[c]\n",
    "    dept = ciudades_departamentos_sr[c]\n",
    "    if isinstance(dept, str):\n",
    "        sucursal_departamento_dict[s] = dept\n",
    "    else:\n",
    "        print(dept)"
   ]
  },
  {
   "cell_type": "code",
   "execution_count": 51,
   "metadata": {
    "collapsed": true
   },
   "outputs": [],
   "source": [
    "sucursal_departamento_dict['FLO'] = 'Caquetá'\n",
    "sucursal_departamento_dict['ARM'] = 'Quindío'\n",
    "sucursal_departamento_dict['SAN'] = 'Archipiélago de San Andrés'"
   ]
  },
  {
   "cell_type": "code",
   "execution_count": 59,
   "metadata": {
    "collapsed": false
   },
   "outputs": [
    {
     "name": "stdout",
     "output_type": "stream",
     "text": [
      "CPU times: user 3min 28s, sys: 200 ms, total: 3min 28s\n",
      "Wall time: 3min 27s\n"
     ]
    }
   ],
   "source": [
    "%%time\n",
    "\n",
    "a = b = c = 0\n",
    "\n",
    "def process_departamento(x):\n",
    "    ciudad = x['Ciudad']\n",
    "    dept = ciudades_departamentos_sr[ciudad]\n",
    "    if isinstance(dept, str):\n",
    "        r = dept\n",
    "    else:\n",
    "        r = sucursal_departamento_dict[x['SUCURSAL_DEL_LECTOR']]\n",
    "        if r not in dept.values:\n",
    "            qqq.add((ciudad, tuple(dept.values), r))\n",
    "    return \n",
    "\n",
    "mezcla_df['Departamento'] = mezcla_df.apply(process_departamento, axis=1)"
   ]
  },
  {
   "cell_type": "code",
   "execution_count": 68,
   "metadata": {
    "collapsed": false
   },
   "outputs": [
    {
     "ename": "KeyError",
     "evalue": "('', 'occurred at index 245127')",
     "output_type": "error",
     "traceback": [
      "\u001b[0;31m---------------------------------------------------------------------------\u001b[0m",
      "\u001b[0;31mKeyError\u001b[0m                                  Traceback (most recent call last)",
      "\u001b[0;32m<ipython-input-68-9af21e5ba505>\u001b[0m in \u001b[0;36m<module>\u001b[0;34m()\u001b[0m\n\u001b[1;32m     26\u001b[0m     \u001b[0;32mreturn\u001b[0m\u001b[0;34m\u001b[0m\u001b[0m\n\u001b[1;32m     27\u001b[0m \u001b[0;34m\u001b[0m\u001b[0m\n\u001b[0;32m---> 28\u001b[0;31m \u001b[0mmezcla_df\u001b[0m\u001b[0;34m[\u001b[0m\u001b[0;34m'Departamento'\u001b[0m\u001b[0;34m]\u001b[0m \u001b[0;34m=\u001b[0m \u001b[0mmezcla_df\u001b[0m\u001b[0;34m.\u001b[0m\u001b[0mapply\u001b[0m\u001b[0;34m(\u001b[0m\u001b[0mprocess_departamento\u001b[0m\u001b[0;34m,\u001b[0m \u001b[0maxis\u001b[0m\u001b[0;34m=\u001b[0m\u001b[0;36m1\u001b[0m\u001b[0;34m)\u001b[0m\u001b[0;34m\u001b[0m\u001b[0m\n\u001b[0m",
      "\u001b[0;32m/home/antonio/.virtualenvs/colombia/lib/python3.4/site-packages/pandas/core/frame.py\u001b[0m in \u001b[0;36mapply\u001b[0;34m(self, func, axis, broadcast, raw, reduce, args, **kwds)\u001b[0m\n\u001b[1;32m   4161\u001b[0m                     \u001b[0;32mif\u001b[0m \u001b[0mreduce\u001b[0m \u001b[0;32mis\u001b[0m \u001b[0;32mNone\u001b[0m\u001b[0;34m:\u001b[0m\u001b[0;34m\u001b[0m\u001b[0m\n\u001b[1;32m   4162\u001b[0m                         \u001b[0mreduce\u001b[0m \u001b[0;34m=\u001b[0m \u001b[0;32mTrue\u001b[0m\u001b[0;34m\u001b[0m\u001b[0m\n\u001b[0;32m-> 4163\u001b[0;31m                     \u001b[0;32mreturn\u001b[0m \u001b[0mself\u001b[0m\u001b[0;34m.\u001b[0m\u001b[0m_apply_standard\u001b[0m\u001b[0;34m(\u001b[0m\u001b[0mf\u001b[0m\u001b[0;34m,\u001b[0m \u001b[0maxis\u001b[0m\u001b[0;34m,\u001b[0m \u001b[0mreduce\u001b[0m\u001b[0;34m=\u001b[0m\u001b[0mreduce\u001b[0m\u001b[0;34m)\u001b[0m\u001b[0;34m\u001b[0m\u001b[0m\n\u001b[0m\u001b[1;32m   4164\u001b[0m             \u001b[0;32melse\u001b[0m\u001b[0;34m:\u001b[0m\u001b[0;34m\u001b[0m\u001b[0m\n\u001b[1;32m   4165\u001b[0m                 \u001b[0;32mreturn\u001b[0m \u001b[0mself\u001b[0m\u001b[0;34m.\u001b[0m\u001b[0m_apply_broadcast\u001b[0m\u001b[0;34m(\u001b[0m\u001b[0mf\u001b[0m\u001b[0;34m,\u001b[0m \u001b[0maxis\u001b[0m\u001b[0;34m)\u001b[0m\u001b[0;34m\u001b[0m\u001b[0m\n",
      "\u001b[0;32m/home/antonio/.virtualenvs/colombia/lib/python3.4/site-packages/pandas/core/frame.py\u001b[0m in \u001b[0;36m_apply_standard\u001b[0;34m(self, func, axis, ignore_failures, reduce)\u001b[0m\n\u001b[1;32m   4257\u001b[0m             \u001b[0;32mtry\u001b[0m\u001b[0;34m:\u001b[0m\u001b[0;34m\u001b[0m\u001b[0m\n\u001b[1;32m   4258\u001b[0m                 \u001b[0;32mfor\u001b[0m \u001b[0mi\u001b[0m\u001b[0;34m,\u001b[0m \u001b[0mv\u001b[0m \u001b[0;32min\u001b[0m \u001b[0menumerate\u001b[0m\u001b[0;34m(\u001b[0m\u001b[0mseries_gen\u001b[0m\u001b[0;34m)\u001b[0m\u001b[0;34m:\u001b[0m\u001b[0;34m\u001b[0m\u001b[0m\n\u001b[0;32m-> 4259\u001b[0;31m                     \u001b[0mresults\u001b[0m\u001b[0;34m[\u001b[0m\u001b[0mi\u001b[0m\u001b[0;34m]\u001b[0m \u001b[0;34m=\u001b[0m \u001b[0mfunc\u001b[0m\u001b[0;34m(\u001b[0m\u001b[0mv\u001b[0m\u001b[0;34m)\u001b[0m\u001b[0;34m\u001b[0m\u001b[0m\n\u001b[0m\u001b[1;32m   4260\u001b[0m                     \u001b[0mkeys\u001b[0m\u001b[0;34m.\u001b[0m\u001b[0mappend\u001b[0m\u001b[0;34m(\u001b[0m\u001b[0mv\u001b[0m\u001b[0;34m.\u001b[0m\u001b[0mname\u001b[0m\u001b[0;34m)\u001b[0m\u001b[0;34m\u001b[0m\u001b[0m\n\u001b[1;32m   4261\u001b[0m             \u001b[0;32mexcept\u001b[0m \u001b[0mException\u001b[0m \u001b[0;32mas\u001b[0m \u001b[0me\u001b[0m\u001b[0;34m:\u001b[0m\u001b[0;34m\u001b[0m\u001b[0m\n",
      "\u001b[0;32m<ipython-input-68-9af21e5ba505>\u001b[0m in \u001b[0;36mprocess_departamento\u001b[0;34m(x)\u001b[0m\n\u001b[1;32m     11\u001b[0m         \u001b[0;32mglobal\u001b[0m \u001b[0ma\u001b[0m\u001b[0;34m\u001b[0m\u001b[0m\n\u001b[1;32m     12\u001b[0m         \u001b[0ma\u001b[0m\u001b[0;34m+=\u001b[0m\u001b[0;36m1\u001b[0m\u001b[0;34m\u001b[0m\u001b[0m\n\u001b[0;32m---> 13\u001b[0;31m         \u001b[0;32mif\u001b[0m \u001b[0mr\u001b[0m \u001b[0;34m!=\u001b[0m \u001b[0msucursal_departamento_dict\u001b[0m\u001b[0;34m[\u001b[0m\u001b[0mx\u001b[0m\u001b[0;34m[\u001b[0m\u001b[0;34m'SUCURSAL_DEL_LECTOR'\u001b[0m\u001b[0;34m]\u001b[0m\u001b[0;34m]\u001b[0m\u001b[0;34m:\u001b[0m\u001b[0;34m\u001b[0m\u001b[0m\n\u001b[0m\u001b[1;32m     14\u001b[0m             \u001b[0;32mglobal\u001b[0m \u001b[0mb\u001b[0m\u001b[0;34m\u001b[0m\u001b[0m\n\u001b[1;32m     15\u001b[0m             \u001b[0mb\u001b[0m\u001b[0;34m+=\u001b[0m\u001b[0;36m1\u001b[0m\u001b[0;34m\u001b[0m\u001b[0m\n",
      "\u001b[0;31mKeyError\u001b[0m: ('', 'occurred at index 245127')"
     ]
    }
   ],
   "source": [
    "# %%time\n",
    "\n",
    "qqq=set()\n",
    "a=b=c=d=e=0\n",
    "\n",
    "def process_departamento(x):\n",
    "    ciudad = x['Ciudad']\n",
    "    dept = ciudades_departamentos_sr[ciudad]\n",
    "    if isinstance(dept, str):\n",
    "        r = dept\n",
    "        global a\n",
    "        a+=1\n",
    "        if r != sucursal_departamento_dict[x['SUCURSAL_DEL_LECTOR']]:\n",
    "            global b\n",
    "            b+=1\n",
    "    else:\n",
    "        r = sucursal_departamento_dict[x['SUCURSAL_DEL_LECTOR']]\n",
    "        global c\n",
    "        c+=1\n",
    "        if r not in dept.values:\n",
    "            qqq.add((ciudad, tuple(dept.values), r))\n",
    "            global d\n",
    "            d+=1\n",
    "    global e\n",
    "    e+=1\n",
    "    return \n",
    "\n",
    "mezcla_df['Departamento'] = mezcla_df.apply(process_departamento, axis=1)"
   ]
  },
  {
   "cell_type": "code",
   "execution_count": null,
   "metadata": {
    "collapsed": true
   },
   "outputs": [],
   "source": [
    "print(a)\n",
    "print(b)\n",
    "print(c)\n",
    "print(d)\n",
    "print(e)"
   ]
  },
  {
   "cell_type": "code",
   "execution_count": 63,
   "metadata": {
    "collapsed": false
   },
   "outputs": [
    {
     "data": {
      "text/plain": [
       "1006"
      ]
     },
     "execution_count": 63,
     "metadata": {},
     "output_type": "execute_result"
    }
   ],
   "source": [
    "ccc # / 773509"
   ]
  },
  {
   "cell_type": "code",
   "execution_count": 64,
   "metadata": {
    "collapsed": false
   },
   "outputs": [
    {
     "data": {
      "text/plain": [
       "{('Armenia', ('Quindío', 'Antioquia'), 'Amazonas'),\n",
       " ('Armenia', ('Quindío', 'Antioquia'), 'Caldas'),\n",
       " ('Armenia', ('Quindío', 'Antioquia'), 'Cundinamarca'),\n",
       " ('Armenia', ('Quindío', 'Antioquia'), 'Córdoba'),\n",
       " ('Armenia', ('Quindío', 'Antioquia'), 'Nariño'),\n",
       " ('Armenia', ('Quindío', 'Antioquia'), 'Risaralda'),\n",
       " ('Armenia', ('Quindío', 'Antioquia'), 'Tolima'),\n",
       " ('Florencia', ('Caquetá', 'Cauca'), 'Cundinamarca'),\n",
       " ('Florencia', ('Caquetá', 'Cauca'), 'Huila'),\n",
       " ('Florencia', ('Caquetá', 'Cauca'), 'Risaralda'),\n",
       " ('Mosquera', ('Cundinamarca', 'Nariño'), 'Santander'),\n",
       " ('San Andrés', ('Archipiélago de San Andrés', 'Santander'), 'Antioquia'),\n",
       " ('San Andrés', ('Archipiélago de San Andrés', 'Santander'), 'Bolívar'),\n",
       " ('San Andrés', ('Archipiélago de San Andrés', 'Santander'), 'Cundinamarca'),\n",
       " ('Santa Rosa', ('Bolívar', 'Cauca'), 'Caldas'),\n",
       " ('Santa Rosa', ('Bolívar', 'Cauca'), 'Risaralda')}"
      ]
     },
     "execution_count": 64,
     "metadata": {},
     "output_type": "execute_result"
    }
   ],
   "source": [
    "qqq"
   ]
  },
  {
   "cell_type": "code",
   "execution_count": null,
   "metadata": {
    "collapsed": true
   },
   "outputs": [],
   "source": []
  },
  {
   "cell_type": "code",
   "execution_count": null,
   "metadata": {
    "collapsed": true
   },
   "outputs": [],
   "source": []
  },
  {
   "cell_type": "code",
   "execution_count": null,
   "metadata": {
    "collapsed": true
   },
   "outputs": [],
   "source": []
  },
  {
   "cell_type": "code",
   "execution_count": null,
   "metadata": {
    "collapsed": true
   },
   "outputs": [],
   "source": []
  },
  {
   "cell_type": "code",
   "execution_count": 8,
   "metadata": {
    "collapsed": false
   },
   "outputs": [],
   "source": [
    "prestamos_cols = [\n",
    "    'TITULO',\n",
    "    'AUTOR',\n",
    "#     'SUCURSAL',\n",
    "#     'COD_BARRAS_LIBRO',\n",
    "#     'DEWEY',\n",
    "#     'DESC_LOCALIZACION_EJEMPLAR',\n",
    "    'FECHA_PUB',\n",
    "    'PAIS_EJEMPLAR',\n",
    "#     'OCUPACION',\n",
    "#     'NIVEL_EDUCACION',\n",
    "#     'AREA_ESTUDIO',\n",
    "#     'SUCURSAL_PRESTAMO',\n",
    "#     'SUCURSAL_DEVOLUCION',\n",
    "#     'SUCURSAL_DEL_LECTOR',\n",
    "    'COD_BARRAS_LECTOR',\n",
    "#     'CATEGORÍA',\n",
    "#     'FECHA_PRESTAMO',\n",
    "#     'FECHA_REAL_DEVOLUCION',\n",
    "#     'DATE_PRESTAMO',\n",
    "#     'DATE_DEVOLUCION',\n",
    "]"
   ]
  },
  {
   "cell_type": "code",
   "execution_count": 9,
   "metadata": {
    "collapsed": true
   },
   "outputs": [],
   "source": [
    "perfiles_cols = [\n",
    "    'CODBAR',\n",
    "#     'Sucursal',\n",
    "    'Tratamiento',\n",
    "#     'Barrio',\n",
    "    'Ciudad',\n",
    "#     'CATEG',\n",
    "#     'Ocupación1',\n",
    "#     'Nivel Estudio1',\n",
    "#     'Área de Estudio1',\n",
    "#     'Fech. Nacim',\n",
    "#     'Edad',\n",
    "    'Rango_edad',\n",
    "]"
   ]
  },
  {
   "cell_type": "markdown",
   "metadata": {},
   "source": [
    "### Ciudades y departamentos"
   ]
  },
  {
   "cell_type": "code",
   "execution_count": 19,
   "metadata": {
    "collapsed": false
   },
   "outputs": [
    {
     "data": {
      "text/html": [
       "<div>\n",
       "<table border=\"1\" class=\"dataframe\">\n",
       "  <thead>\n",
       "    <tr style=\"text-align: right;\">\n",
       "      <th></th>\n",
       "      <th>TITULO</th>\n",
       "      <th>AUTOR</th>\n",
       "      <th>FECHA_PUB</th>\n",
       "      <th>PAIS_EJEMPLAR</th>\n",
       "      <th>CODBAR</th>\n",
       "      <th>Tratamiento</th>\n",
       "      <th>Ciudad</th>\n",
       "      <th>Rango_edad</th>\n",
       "    </tr>\n",
       "  </thead>\n",
       "  <tbody>\n",
       "    <tr>\n",
       "      <th>0</th>\n",
       "      <td>Johannes Gutenberg</td>\n",
       "      <td>Borràs Perelló, Lluís.</td>\n",
       "      <td>2010</td>\n",
       "      <td>sp</td>\n",
       "      <td>88007424</td>\n",
       "      <td>sr.</td>\n",
       "      <td>armenia</td>\n",
       "      <td>40-49</td>\n",
       "    </tr>\n",
       "    <tr>\n",
       "      <th>1</th>\n",
       "      <td>Genealogía de una bruja</td>\n",
       "      <td>Lacombe, Benjamin, 1982-</td>\n",
       "      <td>2009</td>\n",
       "      <td>sp</td>\n",
       "      <td>88007424</td>\n",
       "      <td>sr.</td>\n",
       "      <td>armenia</td>\n",
       "      <td>40-49</td>\n",
       "    </tr>\n",
       "    <tr>\n",
       "      <th>2</th>\n",
       "      <td>La independencia de Colombia : así fue</td>\n",
       "      <td>Vasco, Irene, 1952-</td>\n",
       "      <td>2009</td>\n",
       "      <td>ck</td>\n",
       "      <td>88007424</td>\n",
       "      <td>sr.</td>\n",
       "      <td>armenia</td>\n",
       "      <td>40-49</td>\n",
       "    </tr>\n",
       "    <tr>\n",
       "      <th>3</th>\n",
       "      <td>Maravillas del mundo</td>\n",
       "      <td>Steele, Philip.</td>\n",
       "      <td>2007</td>\n",
       "      <td>mx</td>\n",
       "      <td>88007424</td>\n",
       "      <td>sr.</td>\n",
       "      <td>armenia</td>\n",
       "      <td>40-49</td>\n",
       "    </tr>\n",
       "    <tr>\n",
       "      <th>4</th>\n",
       "      <td>No te gustaría ser un adivino maya</td>\n",
       "      <td>Matthews, Rupert.</td>\n",
       "      <td>2008</td>\n",
       "      <td>ck</td>\n",
       "      <td>88007424</td>\n",
       "      <td>sr.</td>\n",
       "      <td>armenia</td>\n",
       "      <td>40-49</td>\n",
       "    </tr>\n",
       "  </tbody>\n",
       "</table>\n",
       "</div>"
      ],
      "text/plain": [
       "                                   TITULO                     AUTOR FECHA_PUB  \\\n",
       "0                      Johannes Gutenberg    Borràs Perelló, Lluís.      2010   \n",
       "1                 Genealogía de una bruja  Lacombe, Benjamin, 1982-      2009   \n",
       "2  La independencia de Colombia : así fue       Vasco, Irene, 1952-      2009   \n",
       "3                    Maravillas del mundo           Steele, Philip.      2007   \n",
       "4      No te gustaría ser un adivino maya         Matthews, Rupert.      2008   \n",
       "\n",
       "  PAIS_EJEMPLAR    CODBAR Tratamiento   Ciudad Rango_edad  \n",
       "0            sp  88007424         sr.  armenia      40-49  \n",
       "1            sp  88007424         sr.  armenia      40-49  \n",
       "2            ck  88007424         sr.  armenia      40-49  \n",
       "3            mx  88007424         sr.  armenia      40-49  \n",
       "4            ck  88007424         sr.  armenia      40-49  "
      ]
     },
     "execution_count": 19,
     "metadata": {},
     "output_type": "execute_result"
    }
   ],
   "source": [
    "mezcla_df.head()"
   ]
  },
  {
   "cell_type": "code",
   "execution_count": null,
   "metadata": {
    "collapsed": true
   },
   "outputs": [],
   "source": [
    "\n",
    "mezcla_df.drop('COD_BARRAS_LECTOR', axis=1, inplace=True)"
   ]
  },
  {
   "cell_type": "markdown",
   "metadata": {},
   "source": [
    "### Valores"
   ]
  },
  {
   "cell_type": "code",
   "execution_count": null,
   "metadata": {
    "collapsed": true
   },
   "outputs": [],
   "source": [
    "mezcla_df.Tratamiento.value_counts()"
   ]
  },
  {
   "cell_type": "code",
   "execution_count": null,
   "metadata": {
    "collapsed": true
   },
   "outputs": [],
   "source": [
    "mezcla_df.Rango_edad.value_counts()"
   ]
  },
  {
   "cell_type": "code",
   "execution_count": null,
   "metadata": {
    "collapsed": true
   },
   "outputs": [],
   "source": [
    "mezcla_df.Departamento.value_counts()"
   ]
  },
  {
   "cell_type": "code",
   "execution_count": null,
   "metadata": {
    "collapsed": true
   },
   "outputs": [],
   "source": []
  },
  {
   "cell_type": "code",
   "execution_count": 18,
   "metadata": {
    "collapsed": false
   },
   "outputs": [],
   "source": [
    "In [38]: left = pd.DataFrame({'keyl': ['K0', 'K1', 'K2', 'K3'],\n",
    "   ....:                      'A': ['A0', 'A1', 'A2', 'A3'],\n",
    "   ....:                      'B': ['B0', 'B1', 'B2', 'B3']})\n",
    "   ....: \n",
    "\n",
    "In [39]: right = pd.DataFrame({'keyr': ['K4', 'K1', 'K2', 'K5'],\n",
    "   ....:                       'C': ['C0', 'C1', 'C2', 'C3'],\n",
    "   ....:                       'D': ['D0', 'D1', 'D2', 'D3']})\n",
    "   ....: \n",
    "\n",
    "In [40]: result = pd.merge(left, right, left_on='keyl', right_on='keyr')"
   ]
  },
  {
   "cell_type": "code",
   "execution_count": 19,
   "metadata": {
    "collapsed": false
   },
   "outputs": [
    {
     "data": {
      "text/html": [
       "<div>\n",
       "<table border=\"1\" class=\"dataframe\">\n",
       "  <thead>\n",
       "    <tr style=\"text-align: right;\">\n",
       "      <th></th>\n",
       "      <th>A</th>\n",
       "      <th>B</th>\n",
       "      <th>keyl</th>\n",
       "    </tr>\n",
       "  </thead>\n",
       "  <tbody>\n",
       "    <tr>\n",
       "      <th>0</th>\n",
       "      <td>A0</td>\n",
       "      <td>B0</td>\n",
       "      <td>K0</td>\n",
       "    </tr>\n",
       "    <tr>\n",
       "      <th>1</th>\n",
       "      <td>A1</td>\n",
       "      <td>B1</td>\n",
       "      <td>K1</td>\n",
       "    </tr>\n",
       "    <tr>\n",
       "      <th>2</th>\n",
       "      <td>A2</td>\n",
       "      <td>B2</td>\n",
       "      <td>K2</td>\n",
       "    </tr>\n",
       "    <tr>\n",
       "      <th>3</th>\n",
       "      <td>A3</td>\n",
       "      <td>B3</td>\n",
       "      <td>K3</td>\n",
       "    </tr>\n",
       "  </tbody>\n",
       "</table>\n",
       "</div>"
      ],
      "text/plain": [
       "    A   B keyl\n",
       "0  A0  B0   K0\n",
       "1  A1  B1   K1\n",
       "2  A2  B2   K2\n",
       "3  A3  B3   K3"
      ]
     },
     "execution_count": 19,
     "metadata": {},
     "output_type": "execute_result"
    }
   ],
   "source": [
    "left"
   ]
  },
  {
   "cell_type": "code",
   "execution_count": 20,
   "metadata": {
    "collapsed": false
   },
   "outputs": [
    {
     "data": {
      "text/html": [
       "<div>\n",
       "<table border=\"1\" class=\"dataframe\">\n",
       "  <thead>\n",
       "    <tr style=\"text-align: right;\">\n",
       "      <th></th>\n",
       "      <th>C</th>\n",
       "      <th>D</th>\n",
       "      <th>keyr</th>\n",
       "    </tr>\n",
       "  </thead>\n",
       "  <tbody>\n",
       "    <tr>\n",
       "      <th>0</th>\n",
       "      <td>C0</td>\n",
       "      <td>D0</td>\n",
       "      <td>K4</td>\n",
       "    </tr>\n",
       "    <tr>\n",
       "      <th>1</th>\n",
       "      <td>C1</td>\n",
       "      <td>D1</td>\n",
       "      <td>K1</td>\n",
       "    </tr>\n",
       "    <tr>\n",
       "      <th>2</th>\n",
       "      <td>C2</td>\n",
       "      <td>D2</td>\n",
       "      <td>K2</td>\n",
       "    </tr>\n",
       "    <tr>\n",
       "      <th>3</th>\n",
       "      <td>C3</td>\n",
       "      <td>D3</td>\n",
       "      <td>K5</td>\n",
       "    </tr>\n",
       "  </tbody>\n",
       "</table>\n",
       "</div>"
      ],
      "text/plain": [
       "    C   D keyr\n",
       "0  C0  D0   K4\n",
       "1  C1  D1   K1\n",
       "2  C2  D2   K2\n",
       "3  C3  D3   K5"
      ]
     },
     "execution_count": 20,
     "metadata": {},
     "output_type": "execute_result"
    }
   ],
   "source": [
    "right"
   ]
  },
  {
   "cell_type": "code",
   "execution_count": 21,
   "metadata": {
    "collapsed": false
   },
   "outputs": [
    {
     "data": {
      "text/html": [
       "<div>\n",
       "<table border=\"1\" class=\"dataframe\">\n",
       "  <thead>\n",
       "    <tr style=\"text-align: right;\">\n",
       "      <th></th>\n",
       "      <th>A</th>\n",
       "      <th>B</th>\n",
       "      <th>keyl</th>\n",
       "      <th>C</th>\n",
       "      <th>D</th>\n",
       "      <th>keyr</th>\n",
       "    </tr>\n",
       "  </thead>\n",
       "  <tbody>\n",
       "    <tr>\n",
       "      <th>0</th>\n",
       "      <td>A1</td>\n",
       "      <td>B1</td>\n",
       "      <td>K1</td>\n",
       "      <td>C1</td>\n",
       "      <td>D1</td>\n",
       "      <td>K1</td>\n",
       "    </tr>\n",
       "    <tr>\n",
       "      <th>1</th>\n",
       "      <td>A2</td>\n",
       "      <td>B2</td>\n",
       "      <td>K2</td>\n",
       "      <td>C2</td>\n",
       "      <td>D2</td>\n",
       "      <td>K2</td>\n",
       "    </tr>\n",
       "  </tbody>\n",
       "</table>\n",
       "</div>"
      ],
      "text/plain": [
       "    A   B keyl   C   D keyr\n",
       "0  A1  B1   K1  C1  D1   K1\n",
       "1  A2  B2   K2  C2  D2   K2"
      ]
     },
     "execution_count": 21,
     "metadata": {},
     "output_type": "execute_result"
    }
   ],
   "source": [
    "result"
   ]
  },
  {
   "cell_type": "code",
   "execution_count": null,
   "metadata": {
    "collapsed": true
   },
   "outputs": [],
   "source": []
  },
  {
   "cell_type": "code",
   "execution_count": null,
   "metadata": {
    "collapsed": true
   },
   "outputs": [],
   "source": []
  },
  {
   "cell_type": "code",
   "execution_count": null,
   "metadata": {
    "collapsed": true
   },
   "outputs": [],
   "source": []
  },
  {
   "cell_type": "code",
   "execution_count": null,
   "metadata": {
    "collapsed": true
   },
   "outputs": [],
   "source": []
  },
  {
   "cell_type": "code",
   "execution_count": null,
   "metadata": {
    "collapsed": true
   },
   "outputs": [],
   "source": []
  },
  {
   "cell_type": "code",
   "execution_count": null,
   "metadata": {
    "collapsed": true
   },
   "outputs": [],
   "source": []
  },
  {
   "cell_type": "code",
   "execution_count": null,
   "metadata": {
    "collapsed": true
   },
   "outputs": [],
   "source": []
  },
  {
   "cell_type": "code",
   "execution_count": null,
   "metadata": {
    "collapsed": true
   },
   "outputs": [],
   "source": []
  }
 ],
 "metadata": {
  "kernelspec": {
   "display_name": "Python 3",
   "language": "python",
   "name": "python3"
  },
  "language_info": {
   "codemirror_mode": {
    "name": "ipython",
    "version": 3
   },
   "file_extension": ".py",
   "mimetype": "text/x-python",
   "name": "python",
   "nbconvert_exporter": "python",
   "pygments_lexer": "ipython3",
   "version": "3.4.3"
  }
 },
 "nbformat": 4,
 "nbformat_minor": 1
}
