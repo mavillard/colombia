{
 "cells": [
  {
   "cell_type": "markdown",
   "metadata": {},
   "source": [
    "# Usuarios y títulos"
   ]
  },
  {
   "cell_type": "code",
   "execution_count": 1,
   "metadata": {
    "collapsed": true
   },
   "outputs": [],
   "source": [
    "import ast\n",
    "import csv\n",
    "import itertools\n",
    "import os\n",
    "import re\n",
    "from collections import Counter\n",
    "from collections import defaultdict\n",
    "from datetime import datetime\n",
    "from datetime import timedelta\n",
    "from string import punctuation\n",
    "\n",
    "import matplotlib\n",
    "import numpy as np\n",
    "import pandas as pd\n",
    "import seaborn as sns\n",
    "from matplotlib import pyplot as plt\n",
    "from pandas.tslib import Timestamp"
   ]
  },
  {
   "cell_type": "markdown",
   "metadata": {},
   "source": [
    "## Préstamos"
   ]
  },
  {
   "cell_type": "code",
   "execution_count": 2,
   "metadata": {
    "collapsed": false
   },
   "outputs": [
    {
     "name": "stdout",
     "output_type": "stream",
     "text": [
      "CPU times: user 1.5 s, sys: 71.3 ms, total: 1.57 s\n",
      "Wall time: 1.57 s\n"
     ]
    }
   ],
   "source": [
    "%%time\n",
    "\n",
    "merge_df = pd.read_csv('merge.csv', header=0)\n",
    "merge_df = merge_df.fillna('')"
   ]
  },
  {
   "cell_type": "code",
   "execution_count": 3,
   "metadata": {
    "collapsed": false
   },
   "outputs": [
    {
     "data": {
      "text/plain": [
       "(516206, 12)"
      ]
     },
     "execution_count": 3,
     "metadata": {},
     "output_type": "execute_result"
    }
   ],
   "source": [
    "merge_df.shape"
   ]
  },
  {
   "cell_type": "code",
   "execution_count": 4,
   "metadata": {
    "collapsed": false
   },
   "outputs": [
    {
     "data": {
      "text/html": [
       "<div>\n",
       "<table border=\"1\" class=\"dataframe\">\n",
       "  <thead>\n",
       "    <tr style=\"text-align: right;\">\n",
       "      <th></th>\n",
       "      <th>TITULO</th>\n",
       "      <th>AUTOR</th>\n",
       "      <th>DEWEY</th>\n",
       "      <th>FECHA_PUB</th>\n",
       "      <th>PAIS_EJEMPLAR</th>\n",
       "      <th>COD_BARRAS_LECTOR</th>\n",
       "      <th>CODBAR</th>\n",
       "      <th>Sucursal</th>\n",
       "      <th>Tratamiento</th>\n",
       "      <th>Edad</th>\n",
       "      <th>Ciudad</th>\n",
       "      <th>Rango_edad</th>\n",
       "    </tr>\n",
       "  </thead>\n",
       "  <tbody>\n",
       "    <tr>\n",
       "      <th>0</th>\n",
       "      <td>Johannes Gutenberg</td>\n",
       "      <td>Borràs Perelló, Lluís.</td>\n",
       "      <td>925</td>\n",
       "      <td>2010</td>\n",
       "      <td>Spain</td>\n",
       "      <td>88007424</td>\n",
       "      <td>88007424</td>\n",
       "      <td>ARM</td>\n",
       "      <td>sr.</td>\n",
       "      <td>43</td>\n",
       "      <td>Armenia</td>\n",
       "      <td>40-49</td>\n",
       "    </tr>\n",
       "    <tr>\n",
       "      <th>1</th>\n",
       "      <td>Genealogía de una bruja</td>\n",
       "      <td>Lacombe, Benjamin, 1982-</td>\n",
       "      <td>843</td>\n",
       "      <td>2009</td>\n",
       "      <td>Spain</td>\n",
       "      <td>88007424</td>\n",
       "      <td>88007424</td>\n",
       "      <td>ARM</td>\n",
       "      <td>sr.</td>\n",
       "      <td>43</td>\n",
       "      <td>Armenia</td>\n",
       "      <td>40-49</td>\n",
       "    </tr>\n",
       "    <tr>\n",
       "      <th>2</th>\n",
       "      <td>La independencia de Colombia : así fue</td>\n",
       "      <td>Vasco, Irene, 1952-</td>\n",
       "      <td>986</td>\n",
       "      <td>2009</td>\n",
       "      <td>Colombia</td>\n",
       "      <td>88007424</td>\n",
       "      <td>88007424</td>\n",
       "      <td>ARM</td>\n",
       "      <td>sr.</td>\n",
       "      <td>43</td>\n",
       "      <td>Armenia</td>\n",
       "      <td>40-49</td>\n",
       "    </tr>\n",
       "    <tr>\n",
       "      <th>3</th>\n",
       "      <td>Maravillas del mundo</td>\n",
       "      <td>Steele, Philip.</td>\n",
       "      <td>910</td>\n",
       "      <td>2007</td>\n",
       "      <td>Mexico</td>\n",
       "      <td>88007424</td>\n",
       "      <td>88007424</td>\n",
       "      <td>ARM</td>\n",
       "      <td>sr.</td>\n",
       "      <td>43</td>\n",
       "      <td>Armenia</td>\n",
       "      <td>40-49</td>\n",
       "    </tr>\n",
       "    <tr>\n",
       "      <th>4</th>\n",
       "      <td>No te gustaría ser un adivino maya</td>\n",
       "      <td>Matthews, Rupert.</td>\n",
       "      <td>972</td>\n",
       "      <td>2008</td>\n",
       "      <td>Colombia</td>\n",
       "      <td>88007424</td>\n",
       "      <td>88007424</td>\n",
       "      <td>ARM</td>\n",
       "      <td>sr.</td>\n",
       "      <td>43</td>\n",
       "      <td>Armenia</td>\n",
       "      <td>40-49</td>\n",
       "    </tr>\n",
       "  </tbody>\n",
       "</table>\n",
       "</div>"
      ],
      "text/plain": [
       "                                   TITULO                     AUTOR DEWEY  \\\n",
       "0                      Johannes Gutenberg    Borràs Perelló, Lluís.   925   \n",
       "1                 Genealogía de una bruja  Lacombe, Benjamin, 1982-   843   \n",
       "2  La independencia de Colombia : así fue       Vasco, Irene, 1952-   986   \n",
       "3                    Maravillas del mundo           Steele, Philip.   910   \n",
       "4      No te gustaría ser un adivino maya         Matthews, Rupert.   972   \n",
       "\n",
       "   FECHA_PUB PAIS_EJEMPLAR  COD_BARRAS_LECTOR    CODBAR Sucursal Tratamiento  \\\n",
       "0       2010         Spain           88007424  88007424      ARM         sr.   \n",
       "1       2009         Spain           88007424  88007424      ARM         sr.   \n",
       "2       2009      Colombia           88007424  88007424      ARM         sr.   \n",
       "3       2007        Mexico           88007424  88007424      ARM         sr.   \n",
       "4       2008      Colombia           88007424  88007424      ARM         sr.   \n",
       "\n",
       "   Edad   Ciudad Rango_edad  \n",
       "0    43  Armenia      40-49  \n",
       "1    43  Armenia      40-49  \n",
       "2    43  Armenia      40-49  \n",
       "3    43  Armenia      40-49  \n",
       "4    43  Armenia      40-49  "
      ]
     },
     "execution_count": 4,
     "metadata": {},
     "output_type": "execute_result"
    }
   ],
   "source": [
    "merge_df.head()"
   ]
  },
  {
   "cell_type": "markdown",
   "metadata": {},
   "source": [
    "## Counts"
   ]
  },
  {
   "cell_type": "markdown",
   "metadata": {},
   "source": [
    "#### Número de préstamos a socios activos"
   ]
  },
  {
   "cell_type": "code",
   "execution_count": 5,
   "metadata": {
    "collapsed": false
   },
   "outputs": [
    {
     "data": {
      "text/plain": [
       "516206"
      ]
     },
     "execution_count": 5,
     "metadata": {},
     "output_type": "execute_result"
    }
   ],
   "source": [
    "len(merge_df)"
   ]
  },
  {
   "cell_type": "markdown",
   "metadata": {},
   "source": [
    "#### Número de socios activos que tuvieron préstamos"
   ]
  },
  {
   "cell_type": "code",
   "execution_count": 6,
   "metadata": {
    "collapsed": false
   },
   "outputs": [
    {
     "data": {
      "text/plain": [
       "29445"
      ]
     },
     "execution_count": 6,
     "metadata": {},
     "output_type": "execute_result"
    }
   ],
   "source": [
    "merge_df.CODBAR.nunique()"
   ]
  },
  {
   "cell_type": "markdown",
   "metadata": {},
   "source": [
    "#### Número de préstamos y socios activos por ciudad"
   ]
  },
  {
   "cell_type": "code",
   "execution_count": 7,
   "metadata": {
    "collapsed": false
   },
   "outputs": [
    {
     "data": {
      "text/html": [
       "<div>\n",
       "<table border=\"1\" class=\"dataframe\">\n",
       "  <thead>\n",
       "    <tr style=\"text-align: right;\">\n",
       "      <th></th>\n",
       "      <th>Préstamos</th>\n",
       "      <th>Usuarios</th>\n",
       "      <th>Préstamos / Usuarios</th>\n",
       "    </tr>\n",
       "  </thead>\n",
       "  <tbody>\n",
       "    <tr>\n",
       "      <th>Armenia</th>\n",
       "      <td>8749</td>\n",
       "      <td>311</td>\n",
       "      <td>28.131833</td>\n",
       "    </tr>\n",
       "    <tr>\n",
       "      <th>Barranquilla</th>\n",
       "      <td>3745</td>\n",
       "      <td>222</td>\n",
       "      <td>16.869369</td>\n",
       "    </tr>\n",
       "    <tr>\n",
       "      <th>Bogotá</th>\n",
       "      <td>201558</td>\n",
       "      <td>13688</td>\n",
       "      <td>14.725161</td>\n",
       "    </tr>\n",
       "    <tr>\n",
       "      <th>Bucaramanga</th>\n",
       "      <td>10643</td>\n",
       "      <td>319</td>\n",
       "      <td>33.363636</td>\n",
       "    </tr>\n",
       "    <tr>\n",
       "      <th>Buenaventura</th>\n",
       "      <td>1849</td>\n",
       "      <td>122</td>\n",
       "      <td>15.155738</td>\n",
       "    </tr>\n",
       "    <tr>\n",
       "      <th>Cali</th>\n",
       "      <td>2266</td>\n",
       "      <td>62</td>\n",
       "      <td>36.548387</td>\n",
       "    </tr>\n",
       "    <tr>\n",
       "      <th>Cartagena</th>\n",
       "      <td>8741</td>\n",
       "      <td>565</td>\n",
       "      <td>15.470796</td>\n",
       "    </tr>\n",
       "    <tr>\n",
       "      <th>Cúcuta</th>\n",
       "      <td>648</td>\n",
       "      <td>18</td>\n",
       "      <td>36.000000</td>\n",
       "    </tr>\n",
       "    <tr>\n",
       "      <th>Florencia</th>\n",
       "      <td>9179</td>\n",
       "      <td>492</td>\n",
       "      <td>18.656504</td>\n",
       "    </tr>\n",
       "    <tr>\n",
       "      <th>Girardot</th>\n",
       "      <td>6980</td>\n",
       "      <td>685</td>\n",
       "      <td>10.189781</td>\n",
       "    </tr>\n",
       "    <tr>\n",
       "      <th>Honda</th>\n",
       "      <td>4263</td>\n",
       "      <td>307</td>\n",
       "      <td>13.885993</td>\n",
       "    </tr>\n",
       "    <tr>\n",
       "      <th>Ibagué</th>\n",
       "      <td>14456</td>\n",
       "      <td>670</td>\n",
       "      <td>21.576119</td>\n",
       "    </tr>\n",
       "    <tr>\n",
       "      <th>Ipiales</th>\n",
       "      <td>13156</td>\n",
       "      <td>865</td>\n",
       "      <td>15.209249</td>\n",
       "    </tr>\n",
       "    <tr>\n",
       "      <th>Leticia</th>\n",
       "      <td>4340</td>\n",
       "      <td>229</td>\n",
       "      <td>18.951965</td>\n",
       "    </tr>\n",
       "    <tr>\n",
       "      <th>Manizales</th>\n",
       "      <td>3359</td>\n",
       "      <td>75</td>\n",
       "      <td>44.786667</td>\n",
       "    </tr>\n",
       "    <tr>\n",
       "      <th>Medellín</th>\n",
       "      <td>5384</td>\n",
       "      <td>143</td>\n",
       "      <td>37.650350</td>\n",
       "    </tr>\n",
       "    <tr>\n",
       "      <th>Montería</th>\n",
       "      <td>934</td>\n",
       "      <td>54</td>\n",
       "      <td>17.296296</td>\n",
       "    </tr>\n",
       "    <tr>\n",
       "      <th>Neiva</th>\n",
       "      <td>19008</td>\n",
       "      <td>1036</td>\n",
       "      <td>18.347490</td>\n",
       "    </tr>\n",
       "    <tr>\n",
       "      <th>Pasto</th>\n",
       "      <td>38011</td>\n",
       "      <td>1762</td>\n",
       "      <td>21.572645</td>\n",
       "    </tr>\n",
       "    <tr>\n",
       "      <th>Pereira</th>\n",
       "      <td>24129</td>\n",
       "      <td>1397</td>\n",
       "      <td>17.272011</td>\n",
       "    </tr>\n",
       "    <tr>\n",
       "      <th>Popayán</th>\n",
       "      <td>38816</td>\n",
       "      <td>1699</td>\n",
       "      <td>22.846380</td>\n",
       "    </tr>\n",
       "    <tr>\n",
       "      <th>Quibdó</th>\n",
       "      <td>1261</td>\n",
       "      <td>167</td>\n",
       "      <td>7.550898</td>\n",
       "    </tr>\n",
       "    <tr>\n",
       "      <th>Riohacha</th>\n",
       "      <td>1994</td>\n",
       "      <td>192</td>\n",
       "      <td>10.385417</td>\n",
       "    </tr>\n",
       "    <tr>\n",
       "      <th>San Andrés</th>\n",
       "      <td>4502</td>\n",
       "      <td>477</td>\n",
       "      <td>9.438155</td>\n",
       "    </tr>\n",
       "    <tr>\n",
       "      <th>Santa Marta</th>\n",
       "      <td>4581</td>\n",
       "      <td>144</td>\n",
       "      <td>31.812500</td>\n",
       "    </tr>\n",
       "    <tr>\n",
       "      <th>Sincelejo</th>\n",
       "      <td>6298</td>\n",
       "      <td>331</td>\n",
       "      <td>19.027190</td>\n",
       "    </tr>\n",
       "    <tr>\n",
       "      <th>Tunja</th>\n",
       "      <td>70583</td>\n",
       "      <td>2906</td>\n",
       "      <td>24.288713</td>\n",
       "    </tr>\n",
       "    <tr>\n",
       "      <th>Valledupar</th>\n",
       "      <td>6113</td>\n",
       "      <td>494</td>\n",
       "      <td>12.374494</td>\n",
       "    </tr>\n",
       "    <tr>\n",
       "      <th>Villavicencio</th>\n",
       "      <td>660</td>\n",
       "      <td>13</td>\n",
       "      <td>50.769231</td>\n",
       "    </tr>\n",
       "  </tbody>\n",
       "</table>\n",
       "</div>"
      ],
      "text/plain": [
       "               Préstamos  Usuarios  Préstamos / Usuarios\n",
       "Armenia             8749       311             28.131833\n",
       "Barranquilla        3745       222             16.869369\n",
       "Bogotá            201558     13688             14.725161\n",
       "Bucaramanga        10643       319             33.363636\n",
       "Buenaventura        1849       122             15.155738\n",
       "Cali                2266        62             36.548387\n",
       "Cartagena           8741       565             15.470796\n",
       "Cúcuta               648        18             36.000000\n",
       "Florencia           9179       492             18.656504\n",
       "Girardot            6980       685             10.189781\n",
       "Honda               4263       307             13.885993\n",
       "Ibagué             14456       670             21.576119\n",
       "Ipiales            13156       865             15.209249\n",
       "Leticia             4340       229             18.951965\n",
       "Manizales           3359        75             44.786667\n",
       "Medellín            5384       143             37.650350\n",
       "Montería             934        54             17.296296\n",
       "Neiva              19008      1036             18.347490\n",
       "Pasto              38011      1762             21.572645\n",
       "Pereira            24129      1397             17.272011\n",
       "Popayán            38816      1699             22.846380\n",
       "Quibdó              1261       167              7.550898\n",
       "Riohacha            1994       192             10.385417\n",
       "San Andrés          4502       477              9.438155\n",
       "Santa Marta         4581       144             31.812500\n",
       "Sincelejo           6298       331             19.027190\n",
       "Tunja              70583      2906             24.288713\n",
       "Valledupar          6113       494             12.374494\n",
       "Villavicencio        660        13             50.769231"
      ]
     },
     "execution_count": 7,
     "metadata": {},
     "output_type": "execute_result"
    }
   ],
   "source": [
    "ciudades_df = pd.DataFrame({\n",
    "        'Préstamos': merge_df.Ciudad.value_counts(),\n",
    "        'Usuarios': merge_df.drop_duplicates('CODBAR').Ciudad.value_counts()\n",
    "    })\n",
    "ciudades_df['Préstamos / Usuarios'] = ciudades_df.apply(lambda x: x['Préstamos'] / x['Usuarios'], axis=1)\n",
    "ciudades_df"
   ]
  },
  {
   "cell_type": "code",
   "execution_count": 8,
   "metadata": {
    "collapsed": false
   },
   "outputs": [
    {
     "data": {
      "text/plain": [
       "516206"
      ]
     },
     "execution_count": 8,
     "metadata": {},
     "output_type": "execute_result"
    }
   ],
   "source": [
    "ciudades_df['Préstamos'].sum()"
   ]
  },
  {
   "cell_type": "code",
   "execution_count": 9,
   "metadata": {
    "collapsed": false
   },
   "outputs": [
    {
     "data": {
      "text/plain": [
       "29445"
      ]
     },
     "execution_count": 9,
     "metadata": {},
     "output_type": "execute_result"
    }
   ],
   "source": [
    "ciudades_df['Usuarios'].sum()"
   ]
  },
  {
   "cell_type": "code",
   "execution_count": 10,
   "metadata": {
    "collapsed": false
   },
   "outputs": [
    {
     "data": {
      "text/html": [
       "<div>\n",
       "<table border=\"1\" class=\"dataframe\">\n",
       "  <thead>\n",
       "    <tr style=\"text-align: right;\">\n",
       "      <th></th>\n",
       "      <th>Préstamos</th>\n",
       "      <th>Usuarios</th>\n",
       "      <th>Préstamos / Usuarios</th>\n",
       "    </tr>\n",
       "  </thead>\n",
       "  <tbody>\n",
       "    <tr>\n",
       "      <th>Bogotá</th>\n",
       "      <td>201558</td>\n",
       "      <td>13688</td>\n",
       "      <td>14.725161</td>\n",
       "    </tr>\n",
       "    <tr>\n",
       "      <th>Tunja</th>\n",
       "      <td>70583</td>\n",
       "      <td>2906</td>\n",
       "      <td>24.288713</td>\n",
       "    </tr>\n",
       "    <tr>\n",
       "      <th>Popayán</th>\n",
       "      <td>38816</td>\n",
       "      <td>1699</td>\n",
       "      <td>22.846380</td>\n",
       "    </tr>\n",
       "    <tr>\n",
       "      <th>Pasto</th>\n",
       "      <td>38011</td>\n",
       "      <td>1762</td>\n",
       "      <td>21.572645</td>\n",
       "    </tr>\n",
       "    <tr>\n",
       "      <th>Pereira</th>\n",
       "      <td>24129</td>\n",
       "      <td>1397</td>\n",
       "      <td>17.272011</td>\n",
       "    </tr>\n",
       "    <tr>\n",
       "      <th>Neiva</th>\n",
       "      <td>19008</td>\n",
       "      <td>1036</td>\n",
       "      <td>18.347490</td>\n",
       "    </tr>\n",
       "    <tr>\n",
       "      <th>Ibagué</th>\n",
       "      <td>14456</td>\n",
       "      <td>670</td>\n",
       "      <td>21.576119</td>\n",
       "    </tr>\n",
       "    <tr>\n",
       "      <th>Ipiales</th>\n",
       "      <td>13156</td>\n",
       "      <td>865</td>\n",
       "      <td>15.209249</td>\n",
       "    </tr>\n",
       "    <tr>\n",
       "      <th>Bucaramanga</th>\n",
       "      <td>10643</td>\n",
       "      <td>319</td>\n",
       "      <td>33.363636</td>\n",
       "    </tr>\n",
       "    <tr>\n",
       "      <th>Florencia</th>\n",
       "      <td>9179</td>\n",
       "      <td>492</td>\n",
       "      <td>18.656504</td>\n",
       "    </tr>\n",
       "    <tr>\n",
       "      <th>Armenia</th>\n",
       "      <td>8749</td>\n",
       "      <td>311</td>\n",
       "      <td>28.131833</td>\n",
       "    </tr>\n",
       "    <tr>\n",
       "      <th>Cartagena</th>\n",
       "      <td>8741</td>\n",
       "      <td>565</td>\n",
       "      <td>15.470796</td>\n",
       "    </tr>\n",
       "    <tr>\n",
       "      <th>Girardot</th>\n",
       "      <td>6980</td>\n",
       "      <td>685</td>\n",
       "      <td>10.189781</td>\n",
       "    </tr>\n",
       "    <tr>\n",
       "      <th>Sincelejo</th>\n",
       "      <td>6298</td>\n",
       "      <td>331</td>\n",
       "      <td>19.027190</td>\n",
       "    </tr>\n",
       "    <tr>\n",
       "      <th>Valledupar</th>\n",
       "      <td>6113</td>\n",
       "      <td>494</td>\n",
       "      <td>12.374494</td>\n",
       "    </tr>\n",
       "    <tr>\n",
       "      <th>Medellín</th>\n",
       "      <td>5384</td>\n",
       "      <td>143</td>\n",
       "      <td>37.650350</td>\n",
       "    </tr>\n",
       "    <tr>\n",
       "      <th>Santa Marta</th>\n",
       "      <td>4581</td>\n",
       "      <td>144</td>\n",
       "      <td>31.812500</td>\n",
       "    </tr>\n",
       "    <tr>\n",
       "      <th>San Andrés</th>\n",
       "      <td>4502</td>\n",
       "      <td>477</td>\n",
       "      <td>9.438155</td>\n",
       "    </tr>\n",
       "    <tr>\n",
       "      <th>Leticia</th>\n",
       "      <td>4340</td>\n",
       "      <td>229</td>\n",
       "      <td>18.951965</td>\n",
       "    </tr>\n",
       "    <tr>\n",
       "      <th>Honda</th>\n",
       "      <td>4263</td>\n",
       "      <td>307</td>\n",
       "      <td>13.885993</td>\n",
       "    </tr>\n",
       "    <tr>\n",
       "      <th>Barranquilla</th>\n",
       "      <td>3745</td>\n",
       "      <td>222</td>\n",
       "      <td>16.869369</td>\n",
       "    </tr>\n",
       "    <tr>\n",
       "      <th>Manizales</th>\n",
       "      <td>3359</td>\n",
       "      <td>75</td>\n",
       "      <td>44.786667</td>\n",
       "    </tr>\n",
       "    <tr>\n",
       "      <th>Cali</th>\n",
       "      <td>2266</td>\n",
       "      <td>62</td>\n",
       "      <td>36.548387</td>\n",
       "    </tr>\n",
       "    <tr>\n",
       "      <th>Riohacha</th>\n",
       "      <td>1994</td>\n",
       "      <td>192</td>\n",
       "      <td>10.385417</td>\n",
       "    </tr>\n",
       "    <tr>\n",
       "      <th>Buenaventura</th>\n",
       "      <td>1849</td>\n",
       "      <td>122</td>\n",
       "      <td>15.155738</td>\n",
       "    </tr>\n",
       "    <tr>\n",
       "      <th>Quibdó</th>\n",
       "      <td>1261</td>\n",
       "      <td>167</td>\n",
       "      <td>7.550898</td>\n",
       "    </tr>\n",
       "    <tr>\n",
       "      <th>Montería</th>\n",
       "      <td>934</td>\n",
       "      <td>54</td>\n",
       "      <td>17.296296</td>\n",
       "    </tr>\n",
       "    <tr>\n",
       "      <th>Villavicencio</th>\n",
       "      <td>660</td>\n",
       "      <td>13</td>\n",
       "      <td>50.769231</td>\n",
       "    </tr>\n",
       "    <tr>\n",
       "      <th>Cúcuta</th>\n",
       "      <td>648</td>\n",
       "      <td>18</td>\n",
       "      <td>36.000000</td>\n",
       "    </tr>\n",
       "  </tbody>\n",
       "</table>\n",
       "</div>"
      ],
      "text/plain": [
       "               Préstamos  Usuarios  Préstamos / Usuarios\n",
       "Bogotá            201558     13688             14.725161\n",
       "Tunja              70583      2906             24.288713\n",
       "Popayán            38816      1699             22.846380\n",
       "Pasto              38011      1762             21.572645\n",
       "Pereira            24129      1397             17.272011\n",
       "Neiva              19008      1036             18.347490\n",
       "Ibagué             14456       670             21.576119\n",
       "Ipiales            13156       865             15.209249\n",
       "Bucaramanga        10643       319             33.363636\n",
       "Florencia           9179       492             18.656504\n",
       "Armenia             8749       311             28.131833\n",
       "Cartagena           8741       565             15.470796\n",
       "Girardot            6980       685             10.189781\n",
       "Sincelejo           6298       331             19.027190\n",
       "Valledupar          6113       494             12.374494\n",
       "Medellín            5384       143             37.650350\n",
       "Santa Marta         4581       144             31.812500\n",
       "San Andrés          4502       477              9.438155\n",
       "Leticia             4340       229             18.951965\n",
       "Honda               4263       307             13.885993\n",
       "Barranquilla        3745       222             16.869369\n",
       "Manizales           3359        75             44.786667\n",
       "Cali                2266        62             36.548387\n",
       "Riohacha            1994       192             10.385417\n",
       "Buenaventura        1849       122             15.155738\n",
       "Quibdó              1261       167              7.550898\n",
       "Montería             934        54             17.296296\n",
       "Villavicencio        660        13             50.769231\n",
       "Cúcuta               648        18             36.000000"
      ]
     },
     "execution_count": 10,
     "metadata": {},
     "output_type": "execute_result"
    }
   ],
   "source": [
    "ciudades_df.sort_values('Préstamos', ascending=False)"
   ]
  },
  {
   "cell_type": "code",
   "execution_count": 11,
   "metadata": {
    "collapsed": false
   },
   "outputs": [
    {
     "data": {
      "text/html": [
       "<div>\n",
       "<table border=\"1\" class=\"dataframe\">\n",
       "  <thead>\n",
       "    <tr style=\"text-align: right;\">\n",
       "      <th></th>\n",
       "      <th>Préstamos</th>\n",
       "      <th>Usuarios</th>\n",
       "      <th>Préstamos / Usuarios</th>\n",
       "    </tr>\n",
       "  </thead>\n",
       "  <tbody>\n",
       "    <tr>\n",
       "      <th>Bogotá</th>\n",
       "      <td>201558</td>\n",
       "      <td>13688</td>\n",
       "      <td>14.725161</td>\n",
       "    </tr>\n",
       "    <tr>\n",
       "      <th>Tunja</th>\n",
       "      <td>70583</td>\n",
       "      <td>2906</td>\n",
       "      <td>24.288713</td>\n",
       "    </tr>\n",
       "    <tr>\n",
       "      <th>Pasto</th>\n",
       "      <td>38011</td>\n",
       "      <td>1762</td>\n",
       "      <td>21.572645</td>\n",
       "    </tr>\n",
       "    <tr>\n",
       "      <th>Popayán</th>\n",
       "      <td>38816</td>\n",
       "      <td>1699</td>\n",
       "      <td>22.846380</td>\n",
       "    </tr>\n",
       "    <tr>\n",
       "      <th>Pereira</th>\n",
       "      <td>24129</td>\n",
       "      <td>1397</td>\n",
       "      <td>17.272011</td>\n",
       "    </tr>\n",
       "    <tr>\n",
       "      <th>Neiva</th>\n",
       "      <td>19008</td>\n",
       "      <td>1036</td>\n",
       "      <td>18.347490</td>\n",
       "    </tr>\n",
       "    <tr>\n",
       "      <th>Ipiales</th>\n",
       "      <td>13156</td>\n",
       "      <td>865</td>\n",
       "      <td>15.209249</td>\n",
       "    </tr>\n",
       "    <tr>\n",
       "      <th>Girardot</th>\n",
       "      <td>6980</td>\n",
       "      <td>685</td>\n",
       "      <td>10.189781</td>\n",
       "    </tr>\n",
       "    <tr>\n",
       "      <th>Ibagué</th>\n",
       "      <td>14456</td>\n",
       "      <td>670</td>\n",
       "      <td>21.576119</td>\n",
       "    </tr>\n",
       "    <tr>\n",
       "      <th>Cartagena</th>\n",
       "      <td>8741</td>\n",
       "      <td>565</td>\n",
       "      <td>15.470796</td>\n",
       "    </tr>\n",
       "    <tr>\n",
       "      <th>Valledupar</th>\n",
       "      <td>6113</td>\n",
       "      <td>494</td>\n",
       "      <td>12.374494</td>\n",
       "    </tr>\n",
       "    <tr>\n",
       "      <th>Florencia</th>\n",
       "      <td>9179</td>\n",
       "      <td>492</td>\n",
       "      <td>18.656504</td>\n",
       "    </tr>\n",
       "    <tr>\n",
       "      <th>San Andrés</th>\n",
       "      <td>4502</td>\n",
       "      <td>477</td>\n",
       "      <td>9.438155</td>\n",
       "    </tr>\n",
       "    <tr>\n",
       "      <th>Sincelejo</th>\n",
       "      <td>6298</td>\n",
       "      <td>331</td>\n",
       "      <td>19.027190</td>\n",
       "    </tr>\n",
       "    <tr>\n",
       "      <th>Bucaramanga</th>\n",
       "      <td>10643</td>\n",
       "      <td>319</td>\n",
       "      <td>33.363636</td>\n",
       "    </tr>\n",
       "    <tr>\n",
       "      <th>Armenia</th>\n",
       "      <td>8749</td>\n",
       "      <td>311</td>\n",
       "      <td>28.131833</td>\n",
       "    </tr>\n",
       "    <tr>\n",
       "      <th>Honda</th>\n",
       "      <td>4263</td>\n",
       "      <td>307</td>\n",
       "      <td>13.885993</td>\n",
       "    </tr>\n",
       "    <tr>\n",
       "      <th>Leticia</th>\n",
       "      <td>4340</td>\n",
       "      <td>229</td>\n",
       "      <td>18.951965</td>\n",
       "    </tr>\n",
       "    <tr>\n",
       "      <th>Barranquilla</th>\n",
       "      <td>3745</td>\n",
       "      <td>222</td>\n",
       "      <td>16.869369</td>\n",
       "    </tr>\n",
       "    <tr>\n",
       "      <th>Riohacha</th>\n",
       "      <td>1994</td>\n",
       "      <td>192</td>\n",
       "      <td>10.385417</td>\n",
       "    </tr>\n",
       "    <tr>\n",
       "      <th>Quibdó</th>\n",
       "      <td>1261</td>\n",
       "      <td>167</td>\n",
       "      <td>7.550898</td>\n",
       "    </tr>\n",
       "    <tr>\n",
       "      <th>Santa Marta</th>\n",
       "      <td>4581</td>\n",
       "      <td>144</td>\n",
       "      <td>31.812500</td>\n",
       "    </tr>\n",
       "    <tr>\n",
       "      <th>Medellín</th>\n",
       "      <td>5384</td>\n",
       "      <td>143</td>\n",
       "      <td>37.650350</td>\n",
       "    </tr>\n",
       "    <tr>\n",
       "      <th>Buenaventura</th>\n",
       "      <td>1849</td>\n",
       "      <td>122</td>\n",
       "      <td>15.155738</td>\n",
       "    </tr>\n",
       "    <tr>\n",
       "      <th>Manizales</th>\n",
       "      <td>3359</td>\n",
       "      <td>75</td>\n",
       "      <td>44.786667</td>\n",
       "    </tr>\n",
       "    <tr>\n",
       "      <th>Cali</th>\n",
       "      <td>2266</td>\n",
       "      <td>62</td>\n",
       "      <td>36.548387</td>\n",
       "    </tr>\n",
       "    <tr>\n",
       "      <th>Montería</th>\n",
       "      <td>934</td>\n",
       "      <td>54</td>\n",
       "      <td>17.296296</td>\n",
       "    </tr>\n",
       "    <tr>\n",
       "      <th>Cúcuta</th>\n",
       "      <td>648</td>\n",
       "      <td>18</td>\n",
       "      <td>36.000000</td>\n",
       "    </tr>\n",
       "    <tr>\n",
       "      <th>Villavicencio</th>\n",
       "      <td>660</td>\n",
       "      <td>13</td>\n",
       "      <td>50.769231</td>\n",
       "    </tr>\n",
       "  </tbody>\n",
       "</table>\n",
       "</div>"
      ],
      "text/plain": [
       "               Préstamos  Usuarios  Préstamos / Usuarios\n",
       "Bogotá            201558     13688             14.725161\n",
       "Tunja              70583      2906             24.288713\n",
       "Pasto              38011      1762             21.572645\n",
       "Popayán            38816      1699             22.846380\n",
       "Pereira            24129      1397             17.272011\n",
       "Neiva              19008      1036             18.347490\n",
       "Ipiales            13156       865             15.209249\n",
       "Girardot            6980       685             10.189781\n",
       "Ibagué             14456       670             21.576119\n",
       "Cartagena           8741       565             15.470796\n",
       "Valledupar          6113       494             12.374494\n",
       "Florencia           9179       492             18.656504\n",
       "San Andrés          4502       477              9.438155\n",
       "Sincelejo           6298       331             19.027190\n",
       "Bucaramanga        10643       319             33.363636\n",
       "Armenia             8749       311             28.131833\n",
       "Honda               4263       307             13.885993\n",
       "Leticia             4340       229             18.951965\n",
       "Barranquilla        3745       222             16.869369\n",
       "Riohacha            1994       192             10.385417\n",
       "Quibdó              1261       167              7.550898\n",
       "Santa Marta         4581       144             31.812500\n",
       "Medellín            5384       143             37.650350\n",
       "Buenaventura        1849       122             15.155738\n",
       "Manizales           3359        75             44.786667\n",
       "Cali                2266        62             36.548387\n",
       "Montería             934        54             17.296296\n",
       "Cúcuta               648        18             36.000000\n",
       "Villavicencio        660        13             50.769231"
      ]
     },
     "execution_count": 11,
     "metadata": {},
     "output_type": "execute_result"
    }
   ],
   "source": [
    "ciudades_df.sort_values('Usuarios', ascending=False)"
   ]
  },
  {
   "cell_type": "code",
   "execution_count": 12,
   "metadata": {
    "collapsed": false
   },
   "outputs": [
    {
     "data": {
      "text/html": [
       "<div>\n",
       "<table border=\"1\" class=\"dataframe\">\n",
       "  <thead>\n",
       "    <tr style=\"text-align: right;\">\n",
       "      <th></th>\n",
       "      <th>Préstamos</th>\n",
       "      <th>Usuarios</th>\n",
       "      <th>Préstamos / Usuarios</th>\n",
       "    </tr>\n",
       "  </thead>\n",
       "  <tbody>\n",
       "    <tr>\n",
       "      <th>Villavicencio</th>\n",
       "      <td>660</td>\n",
       "      <td>13</td>\n",
       "      <td>50.769231</td>\n",
       "    </tr>\n",
       "    <tr>\n",
       "      <th>Manizales</th>\n",
       "      <td>3359</td>\n",
       "      <td>75</td>\n",
       "      <td>44.786667</td>\n",
       "    </tr>\n",
       "    <tr>\n",
       "      <th>Medellín</th>\n",
       "      <td>5384</td>\n",
       "      <td>143</td>\n",
       "      <td>37.650350</td>\n",
       "    </tr>\n",
       "    <tr>\n",
       "      <th>Cali</th>\n",
       "      <td>2266</td>\n",
       "      <td>62</td>\n",
       "      <td>36.548387</td>\n",
       "    </tr>\n",
       "    <tr>\n",
       "      <th>Cúcuta</th>\n",
       "      <td>648</td>\n",
       "      <td>18</td>\n",
       "      <td>36.000000</td>\n",
       "    </tr>\n",
       "    <tr>\n",
       "      <th>Bucaramanga</th>\n",
       "      <td>10643</td>\n",
       "      <td>319</td>\n",
       "      <td>33.363636</td>\n",
       "    </tr>\n",
       "    <tr>\n",
       "      <th>Santa Marta</th>\n",
       "      <td>4581</td>\n",
       "      <td>144</td>\n",
       "      <td>31.812500</td>\n",
       "    </tr>\n",
       "    <tr>\n",
       "      <th>Armenia</th>\n",
       "      <td>8749</td>\n",
       "      <td>311</td>\n",
       "      <td>28.131833</td>\n",
       "    </tr>\n",
       "    <tr>\n",
       "      <th>Tunja</th>\n",
       "      <td>70583</td>\n",
       "      <td>2906</td>\n",
       "      <td>24.288713</td>\n",
       "    </tr>\n",
       "    <tr>\n",
       "      <th>Popayán</th>\n",
       "      <td>38816</td>\n",
       "      <td>1699</td>\n",
       "      <td>22.846380</td>\n",
       "    </tr>\n",
       "    <tr>\n",
       "      <th>Ibagué</th>\n",
       "      <td>14456</td>\n",
       "      <td>670</td>\n",
       "      <td>21.576119</td>\n",
       "    </tr>\n",
       "    <tr>\n",
       "      <th>Pasto</th>\n",
       "      <td>38011</td>\n",
       "      <td>1762</td>\n",
       "      <td>21.572645</td>\n",
       "    </tr>\n",
       "    <tr>\n",
       "      <th>Sincelejo</th>\n",
       "      <td>6298</td>\n",
       "      <td>331</td>\n",
       "      <td>19.027190</td>\n",
       "    </tr>\n",
       "    <tr>\n",
       "      <th>Leticia</th>\n",
       "      <td>4340</td>\n",
       "      <td>229</td>\n",
       "      <td>18.951965</td>\n",
       "    </tr>\n",
       "    <tr>\n",
       "      <th>Florencia</th>\n",
       "      <td>9179</td>\n",
       "      <td>492</td>\n",
       "      <td>18.656504</td>\n",
       "    </tr>\n",
       "    <tr>\n",
       "      <th>Neiva</th>\n",
       "      <td>19008</td>\n",
       "      <td>1036</td>\n",
       "      <td>18.347490</td>\n",
       "    </tr>\n",
       "    <tr>\n",
       "      <th>Montería</th>\n",
       "      <td>934</td>\n",
       "      <td>54</td>\n",
       "      <td>17.296296</td>\n",
       "    </tr>\n",
       "    <tr>\n",
       "      <th>Pereira</th>\n",
       "      <td>24129</td>\n",
       "      <td>1397</td>\n",
       "      <td>17.272011</td>\n",
       "    </tr>\n",
       "    <tr>\n",
       "      <th>Barranquilla</th>\n",
       "      <td>3745</td>\n",
       "      <td>222</td>\n",
       "      <td>16.869369</td>\n",
       "    </tr>\n",
       "    <tr>\n",
       "      <th>Cartagena</th>\n",
       "      <td>8741</td>\n",
       "      <td>565</td>\n",
       "      <td>15.470796</td>\n",
       "    </tr>\n",
       "    <tr>\n",
       "      <th>Ipiales</th>\n",
       "      <td>13156</td>\n",
       "      <td>865</td>\n",
       "      <td>15.209249</td>\n",
       "    </tr>\n",
       "    <tr>\n",
       "      <th>Buenaventura</th>\n",
       "      <td>1849</td>\n",
       "      <td>122</td>\n",
       "      <td>15.155738</td>\n",
       "    </tr>\n",
       "    <tr>\n",
       "      <th>Bogotá</th>\n",
       "      <td>201558</td>\n",
       "      <td>13688</td>\n",
       "      <td>14.725161</td>\n",
       "    </tr>\n",
       "    <tr>\n",
       "      <th>Honda</th>\n",
       "      <td>4263</td>\n",
       "      <td>307</td>\n",
       "      <td>13.885993</td>\n",
       "    </tr>\n",
       "    <tr>\n",
       "      <th>Valledupar</th>\n",
       "      <td>6113</td>\n",
       "      <td>494</td>\n",
       "      <td>12.374494</td>\n",
       "    </tr>\n",
       "    <tr>\n",
       "      <th>Riohacha</th>\n",
       "      <td>1994</td>\n",
       "      <td>192</td>\n",
       "      <td>10.385417</td>\n",
       "    </tr>\n",
       "    <tr>\n",
       "      <th>Girardot</th>\n",
       "      <td>6980</td>\n",
       "      <td>685</td>\n",
       "      <td>10.189781</td>\n",
       "    </tr>\n",
       "    <tr>\n",
       "      <th>San Andrés</th>\n",
       "      <td>4502</td>\n",
       "      <td>477</td>\n",
       "      <td>9.438155</td>\n",
       "    </tr>\n",
       "    <tr>\n",
       "      <th>Quibdó</th>\n",
       "      <td>1261</td>\n",
       "      <td>167</td>\n",
       "      <td>7.550898</td>\n",
       "    </tr>\n",
       "  </tbody>\n",
       "</table>\n",
       "</div>"
      ],
      "text/plain": [
       "               Préstamos  Usuarios  Préstamos / Usuarios\n",
       "Villavicencio        660        13             50.769231\n",
       "Manizales           3359        75             44.786667\n",
       "Medellín            5384       143             37.650350\n",
       "Cali                2266        62             36.548387\n",
       "Cúcuta               648        18             36.000000\n",
       "Bucaramanga        10643       319             33.363636\n",
       "Santa Marta         4581       144             31.812500\n",
       "Armenia             8749       311             28.131833\n",
       "Tunja              70583      2906             24.288713\n",
       "Popayán            38816      1699             22.846380\n",
       "Ibagué             14456       670             21.576119\n",
       "Pasto              38011      1762             21.572645\n",
       "Sincelejo           6298       331             19.027190\n",
       "Leticia             4340       229             18.951965\n",
       "Florencia           9179       492             18.656504\n",
       "Neiva              19008      1036             18.347490\n",
       "Montería             934        54             17.296296\n",
       "Pereira            24129      1397             17.272011\n",
       "Barranquilla        3745       222             16.869369\n",
       "Cartagena           8741       565             15.470796\n",
       "Ipiales            13156       865             15.209249\n",
       "Buenaventura        1849       122             15.155738\n",
       "Bogotá            201558     13688             14.725161\n",
       "Honda               4263       307             13.885993\n",
       "Valledupar          6113       494             12.374494\n",
       "Riohacha            1994       192             10.385417\n",
       "Girardot            6980       685             10.189781\n",
       "San Andrés          4502       477              9.438155\n",
       "Quibdó              1261       167              7.550898"
      ]
     },
     "execution_count": 12,
     "metadata": {},
     "output_type": "execute_result"
    }
   ],
   "source": [
    "ciudades_df.sort_values('Préstamos / Usuarios', ascending=False)"
   ]
  },
  {
   "cell_type": "markdown",
   "metadata": {},
   "source": [
    "#### Número de préstamos y socios activos por rango de edad"
   ]
  },
  {
   "cell_type": "code",
   "execution_count": 13,
   "metadata": {
    "collapsed": false
   },
   "outputs": [
    {
     "data": {
      "text/html": [
       "<div>\n",
       "<table border=\"1\" class=\"dataframe\">\n",
       "  <thead>\n",
       "    <tr style=\"text-align: right;\">\n",
       "      <th></th>\n",
       "      <th>Préstamos</th>\n",
       "      <th>Usuarios</th>\n",
       "      <th>Préstamos / Usuarios</th>\n",
       "    </tr>\n",
       "  </thead>\n",
       "  <tbody>\n",
       "    <tr>\n",
       "      <th>+65</th>\n",
       "      <td>16798</td>\n",
       "      <td>825</td>\n",
       "      <td>20.361212</td>\n",
       "    </tr>\n",
       "    <tr>\n",
       "      <th>-17</th>\n",
       "      <td>140648</td>\n",
       "      <td>8128</td>\n",
       "      <td>17.304134</td>\n",
       "    </tr>\n",
       "    <tr>\n",
       "      <th>18-29</th>\n",
       "      <td>166938</td>\n",
       "      <td>11558</td>\n",
       "      <td>14.443502</td>\n",
       "    </tr>\n",
       "    <tr>\n",
       "      <th>30-39</th>\n",
       "      <td>96479</td>\n",
       "      <td>5090</td>\n",
       "      <td>18.954617</td>\n",
       "    </tr>\n",
       "    <tr>\n",
       "      <th>40-49</th>\n",
       "      <td>46757</td>\n",
       "      <td>2015</td>\n",
       "      <td>23.204467</td>\n",
       "    </tr>\n",
       "    <tr>\n",
       "      <th>50-64</th>\n",
       "      <td>48586</td>\n",
       "      <td>1829</td>\n",
       "      <td>26.564243</td>\n",
       "    </tr>\n",
       "  </tbody>\n",
       "</table>\n",
       "</div>"
      ],
      "text/plain": [
       "       Préstamos  Usuarios  Préstamos / Usuarios\n",
       "+65        16798       825             20.361212\n",
       "-17       140648      8128             17.304134\n",
       "18-29     166938     11558             14.443502\n",
       "30-39      96479      5090             18.954617\n",
       "40-49      46757      2015             23.204467\n",
       "50-64      48586      1829             26.564243"
      ]
     },
     "execution_count": 13,
     "metadata": {},
     "output_type": "execute_result"
    }
   ],
   "source": [
    "edades_df = pd.DataFrame({\n",
    "        'Préstamos': merge_df.Rango_edad.value_counts(),\n",
    "        'Usuarios': merge_df.drop_duplicates('CODBAR').Rango_edad.value_counts()\n",
    "    })\n",
    "edades_df['Préstamos / Usuarios'] = edades_df.apply(lambda x: x['Préstamos'] / x['Usuarios'], axis=1)\n",
    "edades_df"
   ]
  },
  {
   "cell_type": "code",
   "execution_count": 14,
   "metadata": {
    "collapsed": false
   },
   "outputs": [
    {
     "data": {
      "text/plain": [
       "516206"
      ]
     },
     "execution_count": 14,
     "metadata": {},
     "output_type": "execute_result"
    }
   ],
   "source": [
    "edades_df['Préstamos'].sum()"
   ]
  },
  {
   "cell_type": "code",
   "execution_count": 15,
   "metadata": {
    "collapsed": false
   },
   "outputs": [
    {
     "data": {
      "text/plain": [
       "29445"
      ]
     },
     "execution_count": 15,
     "metadata": {},
     "output_type": "execute_result"
    }
   ],
   "source": [
    "edades_df['Usuarios'].sum()"
   ]
  },
  {
   "cell_type": "code",
   "execution_count": 16,
   "metadata": {
    "collapsed": false
   },
   "outputs": [
    {
     "data": {
      "text/html": [
       "<div>\n",
       "<table border=\"1\" class=\"dataframe\">\n",
       "  <thead>\n",
       "    <tr style=\"text-align: right;\">\n",
       "      <th></th>\n",
       "      <th>Préstamos</th>\n",
       "      <th>Usuarios</th>\n",
       "      <th>Préstamos / Usuarios</th>\n",
       "    </tr>\n",
       "  </thead>\n",
       "  <tbody>\n",
       "    <tr>\n",
       "      <th>18-29</th>\n",
       "      <td>166938</td>\n",
       "      <td>11558</td>\n",
       "      <td>14.443502</td>\n",
       "    </tr>\n",
       "    <tr>\n",
       "      <th>-17</th>\n",
       "      <td>140648</td>\n",
       "      <td>8128</td>\n",
       "      <td>17.304134</td>\n",
       "    </tr>\n",
       "    <tr>\n",
       "      <th>30-39</th>\n",
       "      <td>96479</td>\n",
       "      <td>5090</td>\n",
       "      <td>18.954617</td>\n",
       "    </tr>\n",
       "    <tr>\n",
       "      <th>50-64</th>\n",
       "      <td>48586</td>\n",
       "      <td>1829</td>\n",
       "      <td>26.564243</td>\n",
       "    </tr>\n",
       "    <tr>\n",
       "      <th>40-49</th>\n",
       "      <td>46757</td>\n",
       "      <td>2015</td>\n",
       "      <td>23.204467</td>\n",
       "    </tr>\n",
       "    <tr>\n",
       "      <th>+65</th>\n",
       "      <td>16798</td>\n",
       "      <td>825</td>\n",
       "      <td>20.361212</td>\n",
       "    </tr>\n",
       "  </tbody>\n",
       "</table>\n",
       "</div>"
      ],
      "text/plain": [
       "       Préstamos  Usuarios  Préstamos / Usuarios\n",
       "18-29     166938     11558             14.443502\n",
       "-17       140648      8128             17.304134\n",
       "30-39      96479      5090             18.954617\n",
       "50-64      48586      1829             26.564243\n",
       "40-49      46757      2015             23.204467\n",
       "+65        16798       825             20.361212"
      ]
     },
     "execution_count": 16,
     "metadata": {},
     "output_type": "execute_result"
    }
   ],
   "source": [
    "edades_df.sort_values('Préstamos', ascending=False)"
   ]
  },
  {
   "cell_type": "code",
   "execution_count": 17,
   "metadata": {
    "collapsed": false
   },
   "outputs": [
    {
     "data": {
      "text/html": [
       "<div>\n",
       "<table border=\"1\" class=\"dataframe\">\n",
       "  <thead>\n",
       "    <tr style=\"text-align: right;\">\n",
       "      <th></th>\n",
       "      <th>Préstamos</th>\n",
       "      <th>Usuarios</th>\n",
       "      <th>Préstamos / Usuarios</th>\n",
       "    </tr>\n",
       "  </thead>\n",
       "  <tbody>\n",
       "    <tr>\n",
       "      <th>18-29</th>\n",
       "      <td>166938</td>\n",
       "      <td>11558</td>\n",
       "      <td>14.443502</td>\n",
       "    </tr>\n",
       "    <tr>\n",
       "      <th>-17</th>\n",
       "      <td>140648</td>\n",
       "      <td>8128</td>\n",
       "      <td>17.304134</td>\n",
       "    </tr>\n",
       "    <tr>\n",
       "      <th>30-39</th>\n",
       "      <td>96479</td>\n",
       "      <td>5090</td>\n",
       "      <td>18.954617</td>\n",
       "    </tr>\n",
       "    <tr>\n",
       "      <th>40-49</th>\n",
       "      <td>46757</td>\n",
       "      <td>2015</td>\n",
       "      <td>23.204467</td>\n",
       "    </tr>\n",
       "    <tr>\n",
       "      <th>50-64</th>\n",
       "      <td>48586</td>\n",
       "      <td>1829</td>\n",
       "      <td>26.564243</td>\n",
       "    </tr>\n",
       "    <tr>\n",
       "      <th>+65</th>\n",
       "      <td>16798</td>\n",
       "      <td>825</td>\n",
       "      <td>20.361212</td>\n",
       "    </tr>\n",
       "  </tbody>\n",
       "</table>\n",
       "</div>"
      ],
      "text/plain": [
       "       Préstamos  Usuarios  Préstamos / Usuarios\n",
       "18-29     166938     11558             14.443502\n",
       "-17       140648      8128             17.304134\n",
       "30-39      96479      5090             18.954617\n",
       "40-49      46757      2015             23.204467\n",
       "50-64      48586      1829             26.564243\n",
       "+65        16798       825             20.361212"
      ]
     },
     "execution_count": 17,
     "metadata": {},
     "output_type": "execute_result"
    }
   ],
   "source": [
    "edades_df.sort_values('Usuarios', ascending=False)"
   ]
  },
  {
   "cell_type": "code",
   "execution_count": 18,
   "metadata": {
    "collapsed": false
   },
   "outputs": [
    {
     "data": {
      "text/html": [
       "<div>\n",
       "<table border=\"1\" class=\"dataframe\">\n",
       "  <thead>\n",
       "    <tr style=\"text-align: right;\">\n",
       "      <th></th>\n",
       "      <th>Préstamos</th>\n",
       "      <th>Usuarios</th>\n",
       "      <th>Préstamos / Usuarios</th>\n",
       "    </tr>\n",
       "  </thead>\n",
       "  <tbody>\n",
       "    <tr>\n",
       "      <th>50-64</th>\n",
       "      <td>48586</td>\n",
       "      <td>1829</td>\n",
       "      <td>26.564243</td>\n",
       "    </tr>\n",
       "    <tr>\n",
       "      <th>40-49</th>\n",
       "      <td>46757</td>\n",
       "      <td>2015</td>\n",
       "      <td>23.204467</td>\n",
       "    </tr>\n",
       "    <tr>\n",
       "      <th>+65</th>\n",
       "      <td>16798</td>\n",
       "      <td>825</td>\n",
       "      <td>20.361212</td>\n",
       "    </tr>\n",
       "    <tr>\n",
       "      <th>30-39</th>\n",
       "      <td>96479</td>\n",
       "      <td>5090</td>\n",
       "      <td>18.954617</td>\n",
       "    </tr>\n",
       "    <tr>\n",
       "      <th>-17</th>\n",
       "      <td>140648</td>\n",
       "      <td>8128</td>\n",
       "      <td>17.304134</td>\n",
       "    </tr>\n",
       "    <tr>\n",
       "      <th>18-29</th>\n",
       "      <td>166938</td>\n",
       "      <td>11558</td>\n",
       "      <td>14.443502</td>\n",
       "    </tr>\n",
       "  </tbody>\n",
       "</table>\n",
       "</div>"
      ],
      "text/plain": [
       "       Préstamos  Usuarios  Préstamos / Usuarios\n",
       "50-64      48586      1829             26.564243\n",
       "40-49      46757      2015             23.204467\n",
       "+65        16798       825             20.361212\n",
       "30-39      96479      5090             18.954617\n",
       "-17       140648      8128             17.304134\n",
       "18-29     166938     11558             14.443502"
      ]
     },
     "execution_count": 18,
     "metadata": {},
     "output_type": "execute_result"
    }
   ],
   "source": [
    "edades_df.sort_values('Préstamos / Usuarios', ascending=False)"
   ]
  },
  {
   "cell_type": "markdown",
   "metadata": {},
   "source": [
    "#### Número de préstamos y socios activos por tratamiento"
   ]
  },
  {
   "cell_type": "code",
   "execution_count": 19,
   "metadata": {
    "collapsed": false
   },
   "outputs": [
    {
     "data": {
      "text/html": [
       "<div>\n",
       "<table border=\"1\" class=\"dataframe\">\n",
       "  <thead>\n",
       "    <tr style=\"text-align: right;\">\n",
       "      <th></th>\n",
       "      <th>Préstamos</th>\n",
       "      <th>Usuarios</th>\n",
       "      <th>Préstamos / Usuarios</th>\n",
       "    </tr>\n",
       "  </thead>\n",
       "  <tbody>\n",
       "    <tr>\n",
       "      <th>sr.</th>\n",
       "      <td>283048</td>\n",
       "      <td>14539</td>\n",
       "      <td>19.468189</td>\n",
       "    </tr>\n",
       "    <tr>\n",
       "      <th>sra.</th>\n",
       "      <td>233158</td>\n",
       "      <td>14906</td>\n",
       "      <td>15.641889</td>\n",
       "    </tr>\n",
       "  </tbody>\n",
       "</table>\n",
       "</div>"
      ],
      "text/plain": [
       "      Préstamos  Usuarios  Préstamos / Usuarios\n",
       "sr.      283048     14539             19.468189\n",
       "sra.     233158     14906             15.641889"
      ]
     },
     "execution_count": 19,
     "metadata": {},
     "output_type": "execute_result"
    }
   ],
   "source": [
    "tratamientos_df = pd.DataFrame({\n",
    "        'Préstamos': merge_df.Tratamiento.value_counts(),\n",
    "        'Usuarios': merge_df.drop_duplicates('CODBAR').Tratamiento.value_counts()\n",
    "    })\n",
    "tratamientos_df['Préstamos / Usuarios'] = tratamientos_df.apply(lambda x: x['Préstamos'] / x['Usuarios'], axis=1)\n",
    "tratamientos_df"
   ]
  },
  {
   "cell_type": "code",
   "execution_count": 20,
   "metadata": {
    "collapsed": false
   },
   "outputs": [
    {
     "data": {
      "text/plain": [
       "516206"
      ]
     },
     "execution_count": 20,
     "metadata": {},
     "output_type": "execute_result"
    }
   ],
   "source": [
    "tratamientos_df['Préstamos'].sum()"
   ]
  },
  {
   "cell_type": "code",
   "execution_count": 21,
   "metadata": {
    "collapsed": false
   },
   "outputs": [
    {
     "data": {
      "text/plain": [
       "29445"
      ]
     },
     "execution_count": 21,
     "metadata": {},
     "output_type": "execute_result"
    }
   ],
   "source": [
    "tratamientos_df['Usuarios'].sum()"
   ]
  },
  {
   "cell_type": "code",
   "execution_count": 22,
   "metadata": {
    "collapsed": false
   },
   "outputs": [
    {
     "data": {
      "text/html": [
       "<div>\n",
       "<table border=\"1\" class=\"dataframe\">\n",
       "  <thead>\n",
       "    <tr style=\"text-align: right;\">\n",
       "      <th></th>\n",
       "      <th>Préstamos</th>\n",
       "      <th>Usuarios</th>\n",
       "      <th>Préstamos / Usuarios</th>\n",
       "    </tr>\n",
       "  </thead>\n",
       "  <tbody>\n",
       "    <tr>\n",
       "      <th>sr.</th>\n",
       "      <td>283048</td>\n",
       "      <td>14539</td>\n",
       "      <td>19.468189</td>\n",
       "    </tr>\n",
       "    <tr>\n",
       "      <th>sra.</th>\n",
       "      <td>233158</td>\n",
       "      <td>14906</td>\n",
       "      <td>15.641889</td>\n",
       "    </tr>\n",
       "  </tbody>\n",
       "</table>\n",
       "</div>"
      ],
      "text/plain": [
       "      Préstamos  Usuarios  Préstamos / Usuarios\n",
       "sr.      283048     14539             19.468189\n",
       "sra.     233158     14906             15.641889"
      ]
     },
     "execution_count": 22,
     "metadata": {},
     "output_type": "execute_result"
    }
   ],
   "source": [
    "tratamientos_df.sort_values('Préstamos', ascending=False)"
   ]
  },
  {
   "cell_type": "code",
   "execution_count": 23,
   "metadata": {
    "collapsed": false
   },
   "outputs": [
    {
     "data": {
      "text/html": [
       "<div>\n",
       "<table border=\"1\" class=\"dataframe\">\n",
       "  <thead>\n",
       "    <tr style=\"text-align: right;\">\n",
       "      <th></th>\n",
       "      <th>Préstamos</th>\n",
       "      <th>Usuarios</th>\n",
       "      <th>Préstamos / Usuarios</th>\n",
       "    </tr>\n",
       "  </thead>\n",
       "  <tbody>\n",
       "    <tr>\n",
       "      <th>sra.</th>\n",
       "      <td>233158</td>\n",
       "      <td>14906</td>\n",
       "      <td>15.641889</td>\n",
       "    </tr>\n",
       "    <tr>\n",
       "      <th>sr.</th>\n",
       "      <td>283048</td>\n",
       "      <td>14539</td>\n",
       "      <td>19.468189</td>\n",
       "    </tr>\n",
       "  </tbody>\n",
       "</table>\n",
       "</div>"
      ],
      "text/plain": [
       "      Préstamos  Usuarios  Préstamos / Usuarios\n",
       "sra.     233158     14906             15.641889\n",
       "sr.      283048     14539             19.468189"
      ]
     },
     "execution_count": 23,
     "metadata": {},
     "output_type": "execute_result"
    }
   ],
   "source": [
    "tratamientos_df.sort_values('Usuarios', ascending=False)"
   ]
  },
  {
   "cell_type": "code",
   "execution_count": 24,
   "metadata": {
    "collapsed": false
   },
   "outputs": [
    {
     "data": {
      "text/html": [
       "<div>\n",
       "<table border=\"1\" class=\"dataframe\">\n",
       "  <thead>\n",
       "    <tr style=\"text-align: right;\">\n",
       "      <th></th>\n",
       "      <th>Préstamos</th>\n",
       "      <th>Usuarios</th>\n",
       "      <th>Préstamos / Usuarios</th>\n",
       "    </tr>\n",
       "  </thead>\n",
       "  <tbody>\n",
       "    <tr>\n",
       "      <th>sr.</th>\n",
       "      <td>283048</td>\n",
       "      <td>14539</td>\n",
       "      <td>19.468189</td>\n",
       "    </tr>\n",
       "    <tr>\n",
       "      <th>sra.</th>\n",
       "      <td>233158</td>\n",
       "      <td>14906</td>\n",
       "      <td>15.641889</td>\n",
       "    </tr>\n",
       "  </tbody>\n",
       "</table>\n",
       "</div>"
      ],
      "text/plain": [
       "      Préstamos  Usuarios  Préstamos / Usuarios\n",
       "sr.      283048     14539             19.468189\n",
       "sra.     233158     14906             15.641889"
      ]
     },
     "execution_count": 24,
     "metadata": {},
     "output_type": "execute_result"
    }
   ],
   "source": [
    "tratamientos_df.sort_values('Préstamos / Usuarios', ascending=False)"
   ]
  },
  {
   "cell_type": "code",
   "execution_count": null,
   "metadata": {
    "collapsed": true
   },
   "outputs": [],
   "source": []
  }
 ],
 "metadata": {
  "kernelspec": {
   "display_name": "Python 3",
   "language": "python",
   "name": "python3"
  },
  "language_info": {
   "codemirror_mode": {
    "name": "ipython",
    "version": 3
   },
   "file_extension": ".py",
   "mimetype": "text/x-python",
   "name": "python",
   "nbconvert_exporter": "python",
   "pygments_lexer": "ipython3",
   "version": "3.4.3"
  }
 },
 "nbformat": 4,
 "nbformat_minor": 1
}
