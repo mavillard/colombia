{
 "cells": [
  {
   "cell_type": "markdown",
   "metadata": {},
   "source": [
    "# Geolocation"
   ]
  },
  {
   "cell_type": "code",
   "execution_count": 1,
   "metadata": {
    "collapsed": true
   },
   "outputs": [],
   "source": [
    "import csv\n",
    "import os\n",
    "import re\n",
    "from collections import defaultdict\n",
    "from collections import Counter\n",
    "from datetime import datetime\n",
    "from datetime import timedelta\n",
    "from string import punctuation\n",
    "\n",
    "import matplotlib\n",
    "import numpy as np\n",
    "import networkx as nx\n",
    "import pandas as pd\n",
    "import requests\n",
    "import seaborn as sns\n",
    "from geolocation.main import GoogleMaps\n",
    "from matplotlib import pyplot as plt\n",
    "from SPARQLWrapper import SPARQLWrapper, JSON\n",
    "\n",
    "from googlemaps_key import KEY"
   ]
  },
  {
   "cell_type": "markdown",
   "metadata": {},
   "source": [
    "# Autores"
   ]
  },
  {
   "cell_type": "code",
   "execution_count": 2,
   "metadata": {
    "collapsed": false
   },
   "outputs": [
    {
     "name": "stdout",
     "output_type": "stream",
     "text": [
      "CPU times: user 202 ms, sys: 4.49 ms, total: 206 ms\n",
      "Wall time: 205 ms\n"
     ]
    }
   ],
   "source": [
    "%%time\n",
    "\n",
    "autores_df = pd.read_csv('autores6.csv', header=0)\n",
    "autores_df = autores_df.fillna('')"
   ]
  },
  {
   "cell_type": "code",
   "execution_count": 3,
   "metadata": {
    "collapsed": false
   },
   "outputs": [
    {
     "data": {
      "text/plain": [
       "(76722, 7)"
      ]
     },
     "execution_count": 3,
     "metadata": {},
     "output_type": "execute_result"
    }
   ],
   "source": [
    "autores_df.shape"
   ]
  },
  {
   "cell_type": "code",
   "execution_count": 4,
   "metadata": {
    "collapsed": false
   },
   "outputs": [
    {
     "data": {
      "text/html": [
       "<div>\n",
       "<table border=\"1\" class=\"dataframe\">\n",
       "  <thead>\n",
       "    <tr style=\"text-align: right;\">\n",
       "      <th></th>\n",
       "      <th>TITULO</th>\n",
       "      <th>PAIS_EJEMPLAR</th>\n",
       "      <th>AUTOR</th>\n",
       "      <th>PAIS_AUTOR</th>\n",
       "      <th>FECHA_PUB</th>\n",
       "      <th>CAPITAL_AUTOR</th>\n",
       "      <th>CAPITAL_EJEMPLAR</th>\n",
       "    </tr>\n",
       "  </thead>\n",
       "  <tbody>\n",
       "    <tr>\n",
       "      <th>0</th>\n",
       "      <td>Adivina en qué pais ...</td>\n",
       "      <td>Spain</td>\n",
       "      <td>Martina Badstuber</td>\n",
       "      <td>Germany</td>\n",
       "      <td>2010</td>\n",
       "      <td>Berlin</td>\n",
       "      <td>Madrid</td>\n",
       "    </tr>\n",
       "    <tr>\n",
       "      <th>1</th>\n",
       "      <td>¡No quiero hacer pipí en el orinal!</td>\n",
       "      <td>Spain</td>\n",
       "      <td>Roser Rius</td>\n",
       "      <td>Mexico</td>\n",
       "      <td>2009</td>\n",
       "      <td>Mexico City</td>\n",
       "      <td>Madrid</td>\n",
       "    </tr>\n",
       "    <tr>\n",
       "      <th>2</th>\n",
       "      <td>Humo</td>\n",
       "      <td>Spain</td>\n",
       "      <td>Antón Fortes Torres</td>\n",
       "      <td>Spain</td>\n",
       "      <td>2008</td>\n",
       "      <td>Madrid</td>\n",
       "      <td>Madrid</td>\n",
       "    </tr>\n",
       "    <tr>\n",
       "      <th>3</th>\n",
       "      <td>Galleta para perros</td>\n",
       "      <td>Spain</td>\n",
       "      <td>Helen Cooper</td>\n",
       "      <td>United Kingdom</td>\n",
       "      <td>2008</td>\n",
       "      <td>London</td>\n",
       "      <td>Madrid</td>\n",
       "    </tr>\n",
       "    <tr>\n",
       "      <th>4</th>\n",
       "      <td>Autobio</td>\n",
       "      <td>Spain</td>\n",
       "      <td>Cyril Pedrosa</td>\n",
       "      <td>France</td>\n",
       "      <td>2009</td>\n",
       "      <td>Paris</td>\n",
       "      <td>Madrid</td>\n",
       "    </tr>\n",
       "  </tbody>\n",
       "</table>\n",
       "</div>"
      ],
      "text/plain": [
       "                                TITULO PAIS_EJEMPLAR                AUTOR  \\\n",
       "0              Adivina en qué pais ...         Spain    Martina Badstuber   \n",
       "1  ¡No quiero hacer pipí en el orinal!         Spain           Roser Rius   \n",
       "2                                 Humo         Spain  Antón Fortes Torres   \n",
       "3                  Galleta para perros         Spain         Helen Cooper   \n",
       "4                              Autobio         Spain        Cyril Pedrosa   \n",
       "\n",
       "       PAIS_AUTOR  FECHA_PUB CAPITAL_AUTOR CAPITAL_EJEMPLAR  \n",
       "0         Germany       2010        Berlin           Madrid  \n",
       "1          Mexico       2009   Mexico City           Madrid  \n",
       "2           Spain       2008        Madrid           Madrid  \n",
       "3  United Kingdom       2008        London           Madrid  \n",
       "4          France       2009         Paris           Madrid  "
      ]
     },
     "execution_count": 4,
     "metadata": {},
     "output_type": "execute_result"
    }
   ],
   "source": [
    "autores_df.head()"
   ]
  },
  {
   "cell_type": "markdown",
   "metadata": {},
   "source": [
    "# Geocoordinates"
   ]
  },
  {
   "cell_type": "code",
   "execution_count": 5,
   "metadata": {
    "collapsed": false
   },
   "outputs": [
    {
     "data": {
      "text/plain": [
       "117"
      ]
     },
     "execution_count": 5,
     "metadata": {},
     "output_type": "execute_result"
    }
   ],
   "source": [
    "autores_df['CAPITAL_EJEMPLAR'].nunique()"
   ]
  },
  {
   "cell_type": "code",
   "execution_count": 6,
   "metadata": {
    "collapsed": false
   },
   "outputs": [
    {
     "data": {
      "text/plain": [
       "204"
      ]
     },
     "execution_count": 6,
     "metadata": {},
     "output_type": "execute_result"
    }
   ],
   "source": [
    "autores_df['CAPITAL_AUTOR'].nunique()"
   ]
  },
  {
   "cell_type": "code",
   "execution_count": 7,
   "metadata": {
    "collapsed": false
   },
   "outputs": [],
   "source": [
    "places = set(autores_df['CAPITAL_AUTOR'].unique()).union(autores_df['CAPITAL_EJEMPLAR'].unique())"
   ]
  },
  {
   "cell_type": "code",
   "execution_count": 8,
   "metadata": {
    "collapsed": false
   },
   "outputs": [
    {
     "data": {
      "text/plain": [
       "249"
      ]
     },
     "execution_count": 8,
     "metadata": {},
     "output_type": "execute_result"
    }
   ],
   "source": [
    "len(places)"
   ]
  },
  {
   "cell_type": "code",
   "execution_count": 9,
   "metadata": {
    "collapsed": true
   },
   "outputs": [],
   "source": [
    "google_maps = GoogleMaps(api_key=KEY)"
   ]
  },
  {
   "cell_type": "code",
   "execution_count": 10,
   "metadata": {
    "collapsed": false,
    "scrolled": false
   },
   "outputs": [
    {
     "name": "stdout",
     "output_type": "stream",
     "text": [
      "NOT LOCATED: Jakarta\n",
      "NOT LOCATED: Batavia, Dutch East Indies\n",
      "NOT LOCATED: St. John's\n",
      "NOT LOCATED: Singapore\n",
      "NOT LOCATED: Kingdom of England\n",
      "NOT LOCATED: Gibraltar\n",
      "NOT LOCATED: Brussels\n",
      "NOT LOCATED: Hong Kong\n",
      "NOT LOCATED: Vatican City\n",
      "NOT LOCATED: Tokyo\n",
      "NOT LOCATED: Tagsatzung\n",
      "MORE THAN ONE LOCATION: DESCONOCIDO\n",
      "MORE THAN ONE LOCATION: Lima\n",
      "NOT LOCATED: Monaco\n",
      "NOT LOCATED: Persépolis\n",
      "MORE THAN ONE LOCATION: Brunswick\n",
      "MORE THAN ONE LOCATION: Kingston\n",
      "NOT LOCATED: Brasília\n",
      "CPU times: user 5.85 s, sys: 169 ms, total: 6.02 s\n",
      "Wall time: 1min 44s\n"
     ]
    }
   ],
   "source": [
    "%%time\n",
    "\n",
    "locs = {} # (lat, lng)\n",
    "\n",
    "for x in places:\n",
    "    try:\n",
    "        locations = google_maps.search(location=x)\n",
    "        if len(locations.list_data) > 1:\n",
    "            print('MORE THAN ONE LOCATION:', x)\n",
    "        location = locations.first()\n",
    "        locs[x] = (location.lat, location.lng)\n",
    "    except:\n",
    "        print('NOT LOCATED:', x)"
   ]
  },
  {
   "cell_type": "code",
   "execution_count": 11,
   "metadata": {
    "collapsed": false
   },
   "outputs": [],
   "source": [
    "locs['Kingdom of England'] = (51.5073509, -0.1277583)\n",
    "locs['Monaco'] = (43.7308084, 7.4225881)\n",
    "locs[\"St. John's\"] = (47.5615096, -52.7125768)\n",
    "locs['Batavia, Dutch East Indies'] = (-8.792258, 99.0179762)\n",
    "locs['Hong Kong'] = (22.3595965, 114.0004413)\n",
    "locs['Tagsatzung'] = (47.3774336, 8.466504)\n",
    "locs['Gibraltar'] = (36.1319755, -5.3704699)\n",
    "locs['Singapore'] = (1.3147268, 103.7065911)\n",
    "locs['Jakarta'] = (-8.792258, 99.0179762)\n",
    "locs['Brasília'] = (-15.7217509, -48.0084478)\n",
    "locs['Vatican City'] = (41.9038163, 12.4476731)\n",
    "locs['Tokyo'] = (35.6732615, 139.5699618)\n",
    "locs['Brussels'] = (50.854954, 4.3051791)\n",
    "locs['Persépolis'] = (31.1625176, -49.7526341)"
   ]
  },
  {
   "cell_type": "code",
   "execution_count": 12,
   "metadata": {
    "collapsed": false
   },
   "outputs": [
    {
     "name": "stdout",
     "output_type": "stream",
     "text": [
      "CPU times: user 2.15 s, sys: 9.93 ms, total: 2.16 s\n",
      "Wall time: 2.16 s\n"
     ]
    }
   ],
   "source": [
    "%%time\n",
    "\n",
    "def process_geolocation_capital_autor(x):\n",
    "    c = x['CAPITAL_AUTOR']\n",
    "    return locs.get(c, (0, 0))\n",
    "\n",
    "autores_df['GEOLOC_CAPITAL_AUTOR'] = autores_df.apply(process_geolocation_capital_autor, axis=1)"
   ]
  },
  {
   "cell_type": "code",
   "execution_count": 13,
   "metadata": {
    "collapsed": false
   },
   "outputs": [
    {
     "name": "stdout",
     "output_type": "stream",
     "text": [
      "CPU times: user 1.57 s, sys: 15.4 ms, total: 1.59 s\n",
      "Wall time: 1.58 s\n"
     ]
    }
   ],
   "source": [
    "%%time\n",
    "\n",
    "def process_geolocation_capital_ejemplar(x):\n",
    "    c = x['CAPITAL_EJEMPLAR']\n",
    "    return locs.get(c, (0, 0))\n",
    "\n",
    "autores_df['GEOLOC_CAPITAL_EJEMPLAR'] = autores_df.apply(process_geolocation_capital_ejemplar, axis=1)"
   ]
  },
  {
   "cell_type": "markdown",
   "metadata": {},
   "source": [
    "# Saving results"
   ]
  },
  {
   "cell_type": "code",
   "execution_count": 14,
   "metadata": {
    "collapsed": true
   },
   "outputs": [],
   "source": [
    "autores_df.to_csv('autores7.csv', index=False)"
   ]
  },
  {
   "cell_type": "code",
   "execution_count": null,
   "metadata": {
    "collapsed": true
   },
   "outputs": [],
   "source": []
  }
 ],
 "metadata": {
  "kernelspec": {
   "display_name": "Python 3",
   "language": "python",
   "name": "python3"
  },
  "language_info": {
   "codemirror_mode": {
    "name": "ipython",
    "version": 3
   },
   "file_extension": ".py",
   "mimetype": "text/x-python",
   "name": "python",
   "nbconvert_exporter": "python",
   "pygments_lexer": "ipython3",
   "version": "3.4.3"
  }
 },
 "nbformat": 4,
 "nbformat_minor": 1
}
