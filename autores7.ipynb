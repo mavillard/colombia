{
 "cells": [
  {
   "cell_type": "markdown",
   "metadata": {},
   "source": [
    "# Geolocation"
   ]
  },
  {
   "cell_type": "code",
   "execution_count": null,
   "metadata": {
    "collapsed": true
   },
   "outputs": [],
   "source": [
    "import csv\n",
    "import os\n",
    "import re\n",
    "from collections import defaultdict\n",
    "from collections import Counter\n",
    "from datetime import datetime\n",
    "from datetime import timedelta\n",
    "from string import punctuation\n",
    "\n",
    "import matplotlib\n",
    "import numpy as np\n",
    "import networkx as nx\n",
    "import pandas as pd\n",
    "import requests\n",
    "import seaborn as sns\n",
    "from geolocation.exceptions import ApiClientException\n",
    "from geolocation.main import GoogleMaps\n",
    "from matplotlib import pyplot as plt\n",
    "from SPARQLWrapper import SPARQLWrapper, JSON\n",
    "\n",
    "from googlemaps_key import KEY"
   ]
  },
  {
   "cell_type": "markdown",
   "metadata": {},
   "source": [
    "# Autores"
   ]
  },
  {
   "cell_type": "code",
   "execution_count": null,
   "metadata": {
    "collapsed": false
   },
   "outputs": [],
   "source": [
    "%%time\n",
    "\n",
    "autores_df = pd.read_csv('autores6.csv', header=0)\n",
    "autores_df = autores_df.fillna('')"
   ]
  },
  {
   "cell_type": "code",
   "execution_count": null,
   "metadata": {
    "collapsed": false
   },
   "outputs": [],
   "source": [
    "autores_df.shape"
   ]
  },
  {
   "cell_type": "code",
   "execution_count": null,
   "metadata": {
    "collapsed": false
   },
   "outputs": [],
   "source": [
    "autores_df.head()"
   ]
  },
  {
   "cell_type": "markdown",
   "metadata": {},
   "source": [
    "## Limpiando datos"
   ]
  },
  {
   "cell_type": "code",
   "execution_count": null,
   "metadata": {
    "collapsed": true
   },
   "outputs": [],
   "source": [
    "autores_df = autores_df[\n",
    "    (autores_df['CAPITAL_AUTOR'] != 'DESCONOCIDO') &\n",
    "    (autores_df['CAPITAL_EJEMPLAR'] != 'DESCONOCIDO')\n",
    "]"
   ]
  },
  {
   "cell_type": "code",
   "execution_count": null,
   "metadata": {
    "collapsed": false
   },
   "outputs": [],
   "source": [
    "autores_df.shape"
   ]
  },
  {
   "cell_type": "code",
   "execution_count": null,
   "metadata": {
    "collapsed": false
   },
   "outputs": [],
   "source": [
    "autores_df.head()"
   ]
  },
  {
   "cell_type": "markdown",
   "metadata": {},
   "source": [
    "# Geocoordinates"
   ]
  },
  {
   "cell_type": "code",
   "execution_count": null,
   "metadata": {
    "collapsed": false
   },
   "outputs": [],
   "source": [
    "autores_df['CAPITAL_EJEMPLAR'].nunique()"
   ]
  },
  {
   "cell_type": "code",
   "execution_count": null,
   "metadata": {
    "collapsed": false
   },
   "outputs": [],
   "source": [
    "autores_df['CAPITAL_AUTOR'].nunique()"
   ]
  },
  {
   "cell_type": "code",
   "execution_count": null,
   "metadata": {
    "collapsed": false
   },
   "outputs": [],
   "source": [
    "%%time\n",
    "\n",
    "places = set()\n",
    "for i, x in autores_df.iterrows():\n",
    "    pais_ejemplar = x['PAIS_EJEMPLAR']\n",
    "    capital_ejemplar = x['CAPITAL_EJEMPLAR']\n",
    "    places.add((capital_ejemplar, pais_ejemplar))\n",
    "    pais_autor = x['PAIS_AUTOR']\n",
    "    capital_autor = x['CAPITAL_AUTOR']\n",
    "    places.add((capital_autor, pais_autor))"
   ]
  },
  {
   "cell_type": "code",
   "execution_count": null,
   "metadata": {
    "collapsed": false
   },
   "outputs": [],
   "source": [
    "len(places)"
   ]
  },
  {
   "cell_type": "code",
   "execution_count": null,
   "metadata": {
    "collapsed": true
   },
   "outputs": [],
   "source": [
    "capital_countries_d = defaultdict(set)\n",
    "for a, b in places:\n",
    "    capital_countries_d[a].add(b)"
   ]
  },
  {
   "cell_type": "code",
   "execution_count": null,
   "metadata": {
    "collapsed": false
   },
   "outputs": [],
   "source": [
    "for k in capital_countries_d:\n",
    "    if len(capital_countries_d[k]) > 1:\n",
    "        print(k, '-', capital_countries_d[k])"
   ]
  },
  {
   "cell_type": "markdown",
   "metadata": {},
   "source": [
    "##### ==> No duplicated capital's names for two different countries"
   ]
  },
  {
   "cell_type": "code",
   "execution_count": null,
   "metadata": {
    "collapsed": true
   },
   "outputs": [],
   "source": [
    "google_maps = GoogleMaps(api_key=KEY)"
   ]
  },
  {
   "cell_type": "code",
   "execution_count": null,
   "metadata": {
    "collapsed": false,
    "scrolled": true
   },
   "outputs": [],
   "source": [
    "%%time\n",
    "\n",
    "locs = {} # (lat, lng)\n",
    "\n",
    "for capital, country in places:\n",
    "    if capital not in locs:\n",
    "        found = False\n",
    "        try:\n",
    "            locations = google_maps.search(location=capital + ', ' + country)\n",
    "            print(locations.list_data)\n",
    "            if len(locations.list_data) == 1:\n",
    "                location = locations.list_data[0]\n",
    "                locs[capital] = (location.lat, location.lng)\n",
    "                found = True\n",
    "            if not found:\n",
    "                for location in locations.list_data:\n",
    "                    if location.country is None or str(location.country, 'utf-8') in capital_countries_d[capital]:\n",
    "                        locs[capital] = (location.lat, location.lng)\n",
    "                        found = True\n",
    "                        break\n",
    "        except ApiClientException as e:\n",
    "            pass\n",
    "        if not found:\n",
    "            try:\n",
    "                locations = google_maps.search(location=capital)\n",
    "                if len(locations.list_data) == 1:\n",
    "                    location = locations.list_data[0]\n",
    "                    locs[capital] = (location.lat, location.lng)\n",
    "                    found = True\n",
    "                if not found:\n",
    "                    for location in locations.list_data:\n",
    "                        if str(location.country, 'utf-8') in capital_countries_d[capital]:\n",
    "                            locs[capital] = (location.lat, location.lng)\n",
    "                            found = True\n",
    "                            break\n",
    "            except ApiClientException as e:\n",
    "                pass\n",
    "        if not found:\n",
    "            print('NOT FOUND:', capital, '-', country)"
   ]
  },
  {
   "cell_type": "code",
   "execution_count": null,
   "metadata": {
    "collapsed": false
   },
   "outputs": [],
   "source": [
    "locs['Tokyo'] = (35.6732615, 139.5699618)\n",
    "locs['Jakarta'] = (-8.792258, 99.0179762)\n",
    "locs['Gibraltar'] = (36.1407734, -5.353599399999999)\n",
    "locs['Singapore'] = (1.3147268, 103.7065911)\n",
    "locs['Vatican City'] = (41.9021788, 12.4536007)\n",
    "locs['Batavia, Dutch East Indies'] = (-8.792258, 99.0179762)\n",
    "locs['Brasília'] = (-15.7942287, -47.8821658)\n",
    "locs['Monaco'] = (43.7400718, 7.426643599999999)\n",
    "locs['Persépolis'] = (29.934444, 52.891389)\n",
    "locs['Kingdom of England'] = (51.5073509, -0.1277583)\n",
    "locs['Tagsatzung'] = (47.3774336, 8.466504)\n",
    "locs['Brunswick'] = (52.266667, 10.516667)\n",
    "locs['Hong Kong'] = (22.3, 114.2)"
   ]
  },
  {
   "cell_type": "code",
   "execution_count": null,
   "metadata": {
    "collapsed": false
   },
   "outputs": [],
   "source": [
    "%%time\n",
    "\n",
    "def process_geolocation_capital_autor(x):\n",
    "    c = x['CAPITAL_AUTOR']\n",
    "    return locs.get(c, (0, 0))\n",
    "\n",
    "autores_df['GEOLOC_CAPITAL_AUTOR'] = autores_df.apply(process_geolocation_capital_autor, axis=1)"
   ]
  },
  {
   "cell_type": "code",
   "execution_count": null,
   "metadata": {
    "collapsed": false
   },
   "outputs": [],
   "source": [
    "%%time\n",
    "\n",
    "def process_geolocation_capital_ejemplar(x):\n",
    "    c = x['CAPITAL_EJEMPLAR']\n",
    "    return locs.get(c, (0, 0))\n",
    "\n",
    "autores_df['GEOLOC_CAPITAL_EJEMPLAR'] = autores_df.apply(process_geolocation_capital_ejemplar, axis=1)"
   ]
  },
  {
   "cell_type": "markdown",
   "metadata": {},
   "source": [
    "# Saving results"
   ]
  },
  {
   "cell_type": "code",
   "execution_count": null,
   "metadata": {
    "collapsed": false
   },
   "outputs": [],
   "source": [
    "autores_df.to_csv('autores7.csv', index=False)"
   ]
  },
  {
   "cell_type": "code",
   "execution_count": null,
   "metadata": {
    "collapsed": true
   },
   "outputs": [],
   "source": []
  }
 ],
 "metadata": {
  "kernelspec": {
   "display_name": "Python 3",
   "language": "python",
   "name": "python3"
  },
  "language_info": {
   "codemirror_mode": {
    "name": "ipython",
    "version": 3
   },
   "file_extension": ".py",
   "mimetype": "text/x-python",
   "name": "python",
   "nbconvert_exporter": "python",
   "pygments_lexer": "ipython3",
   "version": "3.4.3"
  }
 },
 "nbformat": 4,
 "nbformat_minor": 1
}
