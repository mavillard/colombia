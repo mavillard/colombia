{
 "cells": [
  {
   "cell_type": "markdown",
   "metadata": {},
   "source": [
    "# Geolocation"
   ]
  },
  {
   "cell_type": "code",
   "execution_count": 1,
   "metadata": {
    "collapsed": false
   },
   "outputs": [],
   "source": [
    "import csv\n",
    "import os\n",
    "import re\n",
    "from collections import defaultdict\n",
    "from collections import Counter\n",
    "from datetime import datetime\n",
    "from datetime import timedelta\n",
    "from string import punctuation\n",
    "\n",
    "import matplotlib\n",
    "import numpy as np\n",
    "import networkx as nx\n",
    "import pandas as pd\n",
    "import requests\n",
    "import seaborn as sns\n",
    "from geolocation.exceptions import ApiClientException\n",
    "from geolocation.main import GoogleMaps\n",
    "from matplotlib import pyplot as plt\n",
    "from SPARQLWrapper import SPARQLWrapper, JSON\n",
    "\n",
    "from googlemaps_key import KEY"
   ]
  },
  {
   "cell_type": "markdown",
   "metadata": {},
   "source": [
    "# Autores"
   ]
  },
  {
   "cell_type": "code",
   "execution_count": 2,
   "metadata": {
    "collapsed": false
   },
   "outputs": [
    {
     "name": "stdout",
     "output_type": "stream",
     "text": [
      "CPU times: user 208 ms, sys: 12 ms, total: 220 ms\n",
      "Wall time: 219 ms\n"
     ]
    }
   ],
   "source": [
    "%%time\n",
    "\n",
    "autores_df = pd.read_csv('autores6.csv', header=0)\n",
    "autores_df = autores_df.fillna('')"
   ]
  },
  {
   "cell_type": "code",
   "execution_count": 3,
   "metadata": {
    "collapsed": false
   },
   "outputs": [
    {
     "data": {
      "text/plain": [
       "(76722, 7)"
      ]
     },
     "execution_count": 3,
     "metadata": {},
     "output_type": "execute_result"
    }
   ],
   "source": [
    "autores_df.shape"
   ]
  },
  {
   "cell_type": "code",
   "execution_count": 4,
   "metadata": {
    "collapsed": false
   },
   "outputs": [
    {
     "data": {
      "text/html": [
       "<div>\n",
       "<table border=\"1\" class=\"dataframe\">\n",
       "  <thead>\n",
       "    <tr style=\"text-align: right;\">\n",
       "      <th></th>\n",
       "      <th>TITULO</th>\n",
       "      <th>PAIS_EJEMPLAR</th>\n",
       "      <th>AUTOR</th>\n",
       "      <th>PAIS_AUTOR</th>\n",
       "      <th>FECHA_PUB</th>\n",
       "      <th>CAPITAL_AUTOR</th>\n",
       "      <th>CAPITAL_EJEMPLAR</th>\n",
       "    </tr>\n",
       "  </thead>\n",
       "  <tbody>\n",
       "    <tr>\n",
       "      <th>0</th>\n",
       "      <td>Adivina en qué pais ...</td>\n",
       "      <td>Spain</td>\n",
       "      <td>Martina Badstuber</td>\n",
       "      <td>Germany</td>\n",
       "      <td>2010</td>\n",
       "      <td>Berlin</td>\n",
       "      <td>Madrid</td>\n",
       "    </tr>\n",
       "    <tr>\n",
       "      <th>1</th>\n",
       "      <td>¡No quiero hacer pipí en el orinal!</td>\n",
       "      <td>Spain</td>\n",
       "      <td>Roser Rius</td>\n",
       "      <td>Mexico</td>\n",
       "      <td>2009</td>\n",
       "      <td>Mexico City</td>\n",
       "      <td>Madrid</td>\n",
       "    </tr>\n",
       "    <tr>\n",
       "      <th>2</th>\n",
       "      <td>Humo</td>\n",
       "      <td>Spain</td>\n",
       "      <td>Antón Fortes Torres</td>\n",
       "      <td>Spain</td>\n",
       "      <td>2008</td>\n",
       "      <td>Madrid</td>\n",
       "      <td>Madrid</td>\n",
       "    </tr>\n",
       "    <tr>\n",
       "      <th>3</th>\n",
       "      <td>Galleta para perros</td>\n",
       "      <td>Spain</td>\n",
       "      <td>Helen Cooper</td>\n",
       "      <td>United Kingdom</td>\n",
       "      <td>2008</td>\n",
       "      <td>London</td>\n",
       "      <td>Madrid</td>\n",
       "    </tr>\n",
       "    <tr>\n",
       "      <th>4</th>\n",
       "      <td>Autobio</td>\n",
       "      <td>Spain</td>\n",
       "      <td>Cyril Pedrosa</td>\n",
       "      <td>France</td>\n",
       "      <td>2009</td>\n",
       "      <td>Paris</td>\n",
       "      <td>Madrid</td>\n",
       "    </tr>\n",
       "  </tbody>\n",
       "</table>\n",
       "</div>"
      ],
      "text/plain": [
       "                                TITULO PAIS_EJEMPLAR                AUTOR  \\\n",
       "0              Adivina en qué pais ...         Spain    Martina Badstuber   \n",
       "1  ¡No quiero hacer pipí en el orinal!         Spain           Roser Rius   \n",
       "2                                 Humo         Spain  Antón Fortes Torres   \n",
       "3                  Galleta para perros         Spain         Helen Cooper   \n",
       "4                              Autobio         Spain        Cyril Pedrosa   \n",
       "\n",
       "       PAIS_AUTOR  FECHA_PUB CAPITAL_AUTOR CAPITAL_EJEMPLAR  \n",
       "0         Germany       2010        Berlin           Madrid  \n",
       "1          Mexico       2009   Mexico City           Madrid  \n",
       "2           Spain       2008        Madrid           Madrid  \n",
       "3  United Kingdom       2008        London           Madrid  \n",
       "4          France       2009         Paris           Madrid  "
      ]
     },
     "execution_count": 4,
     "metadata": {},
     "output_type": "execute_result"
    }
   ],
   "source": [
    "autores_df.head()"
   ]
  },
  {
   "cell_type": "markdown",
   "metadata": {},
   "source": [
    "## Limpiando datos"
   ]
  },
  {
   "cell_type": "code",
   "execution_count": 5,
   "metadata": {
    "collapsed": true
   },
   "outputs": [],
   "source": [
    "autores_df = autores_df[\n",
    "    (autores_df['CAPITAL_AUTOR'] != 'DESCONOCIDO') &\n",
    "    (autores_df['CAPITAL_EJEMPLAR'] != 'DESCONOCIDO')\n",
    "]"
   ]
  },
  {
   "cell_type": "code",
   "execution_count": 6,
   "metadata": {
    "collapsed": false
   },
   "outputs": [
    {
     "data": {
      "text/plain": [
       "(76698, 7)"
      ]
     },
     "execution_count": 6,
     "metadata": {},
     "output_type": "execute_result"
    }
   ],
   "source": [
    "autores_df.shape"
   ]
  },
  {
   "cell_type": "code",
   "execution_count": 7,
   "metadata": {
    "collapsed": false
   },
   "outputs": [
    {
     "data": {
      "text/html": [
       "<div>\n",
       "<table border=\"1\" class=\"dataframe\">\n",
       "  <thead>\n",
       "    <tr style=\"text-align: right;\">\n",
       "      <th></th>\n",
       "      <th>TITULO</th>\n",
       "      <th>PAIS_EJEMPLAR</th>\n",
       "      <th>AUTOR</th>\n",
       "      <th>PAIS_AUTOR</th>\n",
       "      <th>FECHA_PUB</th>\n",
       "      <th>CAPITAL_AUTOR</th>\n",
       "      <th>CAPITAL_EJEMPLAR</th>\n",
       "    </tr>\n",
       "  </thead>\n",
       "  <tbody>\n",
       "    <tr>\n",
       "      <th>0</th>\n",
       "      <td>Adivina en qué pais ...</td>\n",
       "      <td>Spain</td>\n",
       "      <td>Martina Badstuber</td>\n",
       "      <td>Germany</td>\n",
       "      <td>2010</td>\n",
       "      <td>Berlin</td>\n",
       "      <td>Madrid</td>\n",
       "    </tr>\n",
       "    <tr>\n",
       "      <th>1</th>\n",
       "      <td>¡No quiero hacer pipí en el orinal!</td>\n",
       "      <td>Spain</td>\n",
       "      <td>Roser Rius</td>\n",
       "      <td>Mexico</td>\n",
       "      <td>2009</td>\n",
       "      <td>Mexico City</td>\n",
       "      <td>Madrid</td>\n",
       "    </tr>\n",
       "    <tr>\n",
       "      <th>2</th>\n",
       "      <td>Humo</td>\n",
       "      <td>Spain</td>\n",
       "      <td>Antón Fortes Torres</td>\n",
       "      <td>Spain</td>\n",
       "      <td>2008</td>\n",
       "      <td>Madrid</td>\n",
       "      <td>Madrid</td>\n",
       "    </tr>\n",
       "    <tr>\n",
       "      <th>3</th>\n",
       "      <td>Galleta para perros</td>\n",
       "      <td>Spain</td>\n",
       "      <td>Helen Cooper</td>\n",
       "      <td>United Kingdom</td>\n",
       "      <td>2008</td>\n",
       "      <td>London</td>\n",
       "      <td>Madrid</td>\n",
       "    </tr>\n",
       "    <tr>\n",
       "      <th>4</th>\n",
       "      <td>Autobio</td>\n",
       "      <td>Spain</td>\n",
       "      <td>Cyril Pedrosa</td>\n",
       "      <td>France</td>\n",
       "      <td>2009</td>\n",
       "      <td>Paris</td>\n",
       "      <td>Madrid</td>\n",
       "    </tr>\n",
       "  </tbody>\n",
       "</table>\n",
       "</div>"
      ],
      "text/plain": [
       "                                TITULO PAIS_EJEMPLAR                AUTOR  \\\n",
       "0              Adivina en qué pais ...         Spain    Martina Badstuber   \n",
       "1  ¡No quiero hacer pipí en el orinal!         Spain           Roser Rius   \n",
       "2                                 Humo         Spain  Antón Fortes Torres   \n",
       "3                  Galleta para perros         Spain         Helen Cooper   \n",
       "4                              Autobio         Spain        Cyril Pedrosa   \n",
       "\n",
       "       PAIS_AUTOR  FECHA_PUB CAPITAL_AUTOR CAPITAL_EJEMPLAR  \n",
       "0         Germany       2010        Berlin           Madrid  \n",
       "1          Mexico       2009   Mexico City           Madrid  \n",
       "2           Spain       2008        Madrid           Madrid  \n",
       "3  United Kingdom       2008        London           Madrid  \n",
       "4          France       2009         Paris           Madrid  "
      ]
     },
     "execution_count": 7,
     "metadata": {},
     "output_type": "execute_result"
    }
   ],
   "source": [
    "autores_df.head()"
   ]
  },
  {
   "cell_type": "markdown",
   "metadata": {},
   "source": [
    "# Geocoordinates"
   ]
  },
  {
   "cell_type": "code",
   "execution_count": 8,
   "metadata": {
    "collapsed": false
   },
   "outputs": [
    {
     "data": {
      "text/plain": [
       "116"
      ]
     },
     "execution_count": 8,
     "metadata": {},
     "output_type": "execute_result"
    }
   ],
   "source": [
    "autores_df['CAPITAL_EJEMPLAR'].nunique()"
   ]
  },
  {
   "cell_type": "code",
   "execution_count": 9,
   "metadata": {
    "collapsed": false
   },
   "outputs": [
    {
     "data": {
      "text/plain": [
       "203"
      ]
     },
     "execution_count": 9,
     "metadata": {},
     "output_type": "execute_result"
    }
   ],
   "source": [
    "autores_df['CAPITAL_AUTOR'].nunique()"
   ]
  },
  {
   "cell_type": "code",
   "execution_count": 10,
   "metadata": {
    "collapsed": false
   },
   "outputs": [
    {
     "name": "stdout",
     "output_type": "stream",
     "text": [
      "CPU times: user 10.9 s, sys: 4 ms, total: 10.9 s\n",
      "Wall time: 10.9 s\n"
     ]
    }
   ],
   "source": [
    "%%time\n",
    "\n",
    "places = set()\n",
    "for i, x in autores_df.iterrows():\n",
    "    pais_ejemplar = x['PAIS_EJEMPLAR']\n",
    "    capital_ejemplar = x['CAPITAL_EJEMPLAR']\n",
    "    places.add((capital_ejemplar, pais_ejemplar))\n",
    "    pais_autor = x['PAIS_AUTOR']\n",
    "    capital_autor = x['CAPITAL_AUTOR']\n",
    "    places.add((capital_autor, pais_autor))"
   ]
  },
  {
   "cell_type": "code",
   "execution_count": 11,
   "metadata": {
    "collapsed": false
   },
   "outputs": [
    {
     "data": {
      "text/plain": [
       "281"
      ]
     },
     "execution_count": 11,
     "metadata": {},
     "output_type": "execute_result"
    }
   ],
   "source": [
    "len(places)"
   ]
  },
  {
   "cell_type": "code",
   "execution_count": 12,
   "metadata": {
    "collapsed": true
   },
   "outputs": [],
   "source": [
    "capital_countries_d = defaultdict(set)\n",
    "for a, b in places:\n",
    "    capital_countries_d[a].add(b)"
   ]
  },
  {
   "cell_type": "code",
   "execution_count": 13,
   "metadata": {
    "collapsed": false
   },
   "outputs": [
    {
     "name": "stdout",
     "output_type": "stream",
     "text": [
      "Washington, D.C. - {'District of Columbia', 'United States'}\n",
      "Minsk - {'Bielorrusia', 'Belarus'}\n",
      "Athens - {\"Côte d'Ivoire\", 'Greek', 'Greece'}\n",
      "Prague - {'Czech Republic', 'Kingdom of Bohemia', 'Czechoslovakia', 'Protectorate of Bohemia and Moravia'}\n",
      "Harare - {'Zimbabwe', 'Rhodesia'}\n",
      "Budapest - {'Lands of the Crown of Saint Stephen', 'Hungary'}\n",
      "Tehran - {'Pahlavi dynasty', 'Qajar dynasty', 'Iran'}\n",
      "Ankara - {'Turquía', 'Turkey'}\n",
      "Accra - {'Ghana', 'Gold Coast (British colony)'}\n",
      "Belgrade - {'Yugoslavia', 'Serbia'}\n",
      "Munich - {'Electorate of Bavaria', 'Kingdom of Bavaria'}\n",
      "Rome - {'Italy', 'Papal States'}\n",
      "Milan - {'Duchy of Milan', 'Kingdom of Lombardy–Venetia'}\n",
      "Dresden - {'Electorate of Saxony', 'Kingdom of Saxony'}\n",
      "Vienna - {'Austria', 'Habsburg Monarchy'}\n",
      "Berlin - {'Weimar Republic', 'Germany'}\n",
      "Florence - {'Grand Duchy of Tuscany', 'Republic of Florence'}\n",
      "Naypyidaw - {'Myanmar', 'Burma'}\n",
      "Paris - {'France', 'Bourbon Restoration'}\n",
      "Manila - {'Philippines', 'Filipinas'}\n",
      "Luanda - {'Portuguese Angola', 'Angola'}\n",
      "London - {'England', 'United Kingdom'}\n",
      "Riga - {'Latvia', 'Letonia'}\n",
      "Nairobi - {'East Africa Protectorate', 'Kenya'}\n",
      "Amsterdam - {'Dutch Republic', 'Netherlands'}\n",
      "Bogotá - {'Colombia', 'Free and Independent State of Cundinamarca', 'Republic of New Granada', 'Granadine Confederation', 'Viceroyalty of New Granada'}\n"
     ]
    }
   ],
   "source": [
    "for k in capital_countries_d:\n",
    "    if len(capital_countries_d[k]) > 1:\n",
    "        print(k, '-', capital_countries_d[k])"
   ]
  },
  {
   "cell_type": "markdown",
   "metadata": {},
   "source": [
    "##### ==> No duplicated capital's names for two different countries"
   ]
  },
  {
   "cell_type": "code",
   "execution_count": 14,
   "metadata": {
    "collapsed": true
   },
   "outputs": [],
   "source": [
    "google_maps = GoogleMaps(api_key=KEY)"
   ]
  },
  {
   "cell_type": "code",
   "execution_count": 15,
   "metadata": {
    "collapsed": false,
    "scrolled": true
   },
   "outputs": [
    {
     "name": "stdout",
     "output_type": "stream",
     "text": [
      "NOT FOUND: Vatican City - Vatican City\n",
      "NOT FOUND: Jakarta - Indonesia\n",
      "NOT FOUND: Singapore - Singapore\n",
      "NOT FOUND: Kingdom of England - British America\n",
      "NOT FOUND: Persépolis - Imperio aqueménida\n",
      "NOT FOUND: Hong Kong - Hong Kong\n",
      "NOT FOUND: Tagsatzung - Old Swiss Confederacy\n",
      "NOT FOUND: Brasília - Brazil\n",
      "NOT FOUND: Brunswick - Duchy of Brunswick\n",
      "NOT FOUND: Gibraltar - Gibraltar\n",
      "NOT FOUND: Monaco - Monaco\n",
      "NOT FOUND: Batavia, Dutch East Indies - Dutch East Indies\n",
      "NOT FOUND: Tokyo - Japan\n",
      "CPU times: user 9.79 s, sys: 440 ms, total: 10.2 s\n",
      "Wall time: 3min 16s\n"
     ]
    }
   ],
   "source": [
    "%%time\n",
    "\n",
    "locs = {} # (lat, lng)\n",
    "\n",
    "for capital, country in places:\n",
    "    if capital not in locs:\n",
    "        found = False\n",
    "        try:\n",
    "            locations = google_maps.search(location=capital + ', ' + country)\n",
    "            if len(locations.list_data) == 1:\n",
    "                location = locations.list_data[0]\n",
    "                locs[capital] = (location.lat, location.lng)\n",
    "                found = True\n",
    "            if not found:\n",
    "                for location in locations.list_data:\n",
    "                    if location.country is None or str(location.country, 'utf-8') in capital_countries_d[capital]:\n",
    "                        locs[capital] = (location.lat, location.lng)\n",
    "                        found = True\n",
    "                        break\n",
    "        except ApiClientException as e:\n",
    "            pass\n",
    "        if not found:\n",
    "            try:\n",
    "                locations = google_maps.search(location=capital)\n",
    "                if len(locations.list_data) == 1:\n",
    "                    location = locations.list_data[0]\n",
    "                    locs[capital] = (location.lat, location.lng)\n",
    "                    found = True\n",
    "                if not found:\n",
    "                    for location in locations.list_data:\n",
    "                        if str(location.country, 'utf-8') in capital_countries_d[capital]:\n",
    "                            locs[capital] = (location.lat, location.lng)\n",
    "                            found = True\n",
    "                            break\n",
    "            except ApiClientException as e:\n",
    "                pass\n",
    "        if not found:\n",
    "            print('NOT FOUND:', capital, '-', country)"
   ]
  },
  {
   "cell_type": "code",
   "execution_count": 16,
   "metadata": {
    "collapsed": false
   },
   "outputs": [],
   "source": [
    "locs['Tokyo'] = (35.6732615, 139.5699618)\n",
    "locs['Jakarta'] = (-8.792258, 99.0179762)\n",
    "locs['Gibraltar'] = (36.1407734, -5.353599399999999)\n",
    "locs['Singapore'] = (1.3147268, 103.7065911)\n",
    "locs['Vatican City'] = (41.9021788, 12.4536007)\n",
    "locs['Batavia, Dutch East Indies'] = (-8.792258, 99.0179762)\n",
    "locs['Brasília'] = (-15.7942287, -47.8821658)\n",
    "locs['Monaco'] = (43.7400718, 7.426643599999999)\n",
    "locs['Persépolis'] = (29.934444, 52.891389)\n",
    "locs['Kingdom of England'] = (51.5073509, -0.1277583)\n",
    "locs['Tagsatzung'] = (47.3774336, 8.466504)\n",
    "locs['Brunswick'] = (52.266667, 10.516667)\n",
    "locs['Hong Kong'] = (22.3, 114.2)"
   ]
  },
  {
   "cell_type": "code",
   "execution_count": 17,
   "metadata": {
    "collapsed": false
   },
   "outputs": [
    {
     "name": "stdout",
     "output_type": "stream",
     "text": [
      "CPU times: user 1.83 s, sys: 4 ms, total: 1.84 s\n",
      "Wall time: 1.86 s\n"
     ]
    }
   ],
   "source": [
    "%%time\n",
    "\n",
    "def process_geolocation_capital_autor(x):\n",
    "    c = x['CAPITAL_AUTOR']\n",
    "    return locs.get(c, (0, 0))\n",
    "\n",
    "autores_df['GEOLOC_CAPITAL_AUTOR'] = autores_df.apply(process_geolocation_capital_autor, axis=1)"
   ]
  },
  {
   "cell_type": "code",
   "execution_count": 18,
   "metadata": {
    "collapsed": false
   },
   "outputs": [
    {
     "name": "stdout",
     "output_type": "stream",
     "text": [
      "CPU times: user 1.82 s, sys: 4 ms, total: 1.82 s\n",
      "Wall time: 1.82 s\n"
     ]
    }
   ],
   "source": [
    "%%time\n",
    "\n",
    "def process_geolocation_capital_ejemplar(x):\n",
    "    c = x['CAPITAL_EJEMPLAR']\n",
    "    return locs.get(c, (0, 0))\n",
    "\n",
    "autores_df['GEOLOC_CAPITAL_EJEMPLAR'] = autores_df.apply(process_geolocation_capital_ejemplar, axis=1)"
   ]
  },
  {
   "cell_type": "markdown",
   "metadata": {},
   "source": [
    "# Saving results"
   ]
  },
  {
   "cell_type": "code",
   "execution_count": 19,
   "metadata": {
    "collapsed": false
   },
   "outputs": [],
   "source": [
    "autores_df.to_csv('autores7.csv', index=False)"
   ]
  },
  {
   "cell_type": "code",
   "execution_count": null,
   "metadata": {
    "collapsed": true
   },
   "outputs": [],
   "source": []
  }
 ],
 "metadata": {
  "kernelspec": {
   "display_name": "Python 3",
   "language": "python",
   "name": "python3"
  },
  "language_info": {
   "codemirror_mode": {
    "name": "ipython",
    "version": 3
   },
   "file_extension": ".py",
   "mimetype": "text/x-python",
   "name": "python",
   "nbconvert_exporter": "python",
   "pygments_lexer": "ipython3",
   "version": "3.4.3"
  }
 },
 "nbformat": 4,
 "nbformat_minor": 1
}
