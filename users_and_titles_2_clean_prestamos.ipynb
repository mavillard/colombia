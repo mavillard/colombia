{
 "cells": [
  {
   "cell_type": "markdown",
   "metadata": {},
   "source": [
    "# Usuarios y títulos"
   ]
  },
  {
   "cell_type": "code",
   "execution_count": 1,
   "metadata": {
    "collapsed": true
   },
   "outputs": [],
   "source": [
    "import ast\n",
    "import csv\n",
    "import itertools\n",
    "import os\n",
    "import re\n",
    "from collections import Counter\n",
    "from collections import defaultdict\n",
    "from datetime import datetime\n",
    "from datetime import timedelta\n",
    "from string import punctuation\n",
    "\n",
    "import matplotlib\n",
    "import numpy as np\n",
    "import pandas as pd\n",
    "import seaborn as sns\n",
    "from matplotlib import pyplot as plt\n",
    "from pandas.tslib import Timestamp"
   ]
  },
  {
   "cell_type": "markdown",
   "metadata": {},
   "source": [
    "## Préstamos"
   ]
  },
  {
   "cell_type": "code",
   "execution_count": 2,
   "metadata": {
    "collapsed": false
   },
   "outputs": [
    {
     "name": "stdout",
     "output_type": "stream",
     "text": [
      "CPU times: user 17 s, sys: 816 ms, total: 17.8 s\n",
      "Wall time: 17.8 s\n"
     ]
    }
   ],
   "source": [
    "%%time\n",
    "\n",
    "prestamos_df = pd.read_csv('prestamos_paises_limpios.csv', header=0)\n",
    "prestamos_df = prestamos_df.fillna('')"
   ]
  },
  {
   "cell_type": "code",
   "execution_count": 3,
   "metadata": {
    "collapsed": false
   },
   "outputs": [
    {
     "data": {
      "text/plain": [
       "(3054360, 20)"
      ]
     },
     "execution_count": 3,
     "metadata": {},
     "output_type": "execute_result"
    }
   ],
   "source": [
    "prestamos_df.shape"
   ]
  },
  {
   "cell_type": "code",
   "execution_count": 4,
   "metadata": {
    "collapsed": false
   },
   "outputs": [
    {
     "data": {
      "text/html": [
       "<div>\n",
       "<table border=\"1\" class=\"dataframe\">\n",
       "  <thead>\n",
       "    <tr style=\"text-align: right;\">\n",
       "      <th></th>\n",
       "      <th>TITULO</th>\n",
       "      <th>AUTOR</th>\n",
       "      <th>SUCURSAL</th>\n",
       "      <th>COD_BARRAS_LIBRO</th>\n",
       "      <th>DEWEY</th>\n",
       "      <th>DESC_LOCALIZACION_EJEMPLAR</th>\n",
       "      <th>FECHA_PUB</th>\n",
       "      <th>PAIS_EJEMPLAR</th>\n",
       "      <th>OCUPACION</th>\n",
       "      <th>NIVEL_EDUCACION</th>\n",
       "      <th>AREA_ESTUDIO</th>\n",
       "      <th>SUCURSAL_PRESTAMO</th>\n",
       "      <th>SUCURSAL_DEVOLUCION</th>\n",
       "      <th>SUCURSAL_DEL_LECTOR</th>\n",
       "      <th>COD_BARRAS_LECTOR</th>\n",
       "      <th>CATEGORÍA</th>\n",
       "      <th>FECHA_PRESTAMO</th>\n",
       "      <th>FECHA_REAL_DEVOLUCION</th>\n",
       "      <th>DATE_PRESTAMO</th>\n",
       "      <th>DATE_DEVOLUCION</th>\n",
       "    </tr>\n",
       "  </thead>\n",
       "  <tbody>\n",
       "    <tr>\n",
       "      <th>0</th>\n",
       "      <td>Un bicho extraño</td>\n",
       "      <td>Daporta, Mon.</td>\n",
       "      <td>ARM</td>\n",
       "      <td>2298061</td>\n",
       "      <td>863</td>\n",
       "      <td>Infantil</td>\n",
       "      <td>2010</td>\n",
       "      <td>Spain</td>\n",
       "      <td></td>\n",
       "      <td></td>\n",
       "      <td></td>\n",
       "      <td>ARM</td>\n",
       "      <td>ARM</td>\n",
       "      <td>ARM</td>\n",
       "      <td>88429527</td>\n",
       "      <td>CTA</td>\n",
       "      <td>22/01/2015</td>\n",
       "      <td>04/02/2015</td>\n",
       "      <td>2015-01-22</td>\n",
       "      <td>2015-02-04</td>\n",
       "    </tr>\n",
       "    <tr>\n",
       "      <th>1</th>\n",
       "      <td>Un bicho extraño</td>\n",
       "      <td>Daporta, Mon.</td>\n",
       "      <td>ARM</td>\n",
       "      <td>2298061</td>\n",
       "      <td>863</td>\n",
       "      <td>Infantil</td>\n",
       "      <td>2010</td>\n",
       "      <td>Spain</td>\n",
       "      <td></td>\n",
       "      <td></td>\n",
       "      <td></td>\n",
       "      <td>ARM</td>\n",
       "      <td>ARM</td>\n",
       "      <td>ARM</td>\n",
       "      <td>88416381</td>\n",
       "      <td>CTA</td>\n",
       "      <td>31/03/2015</td>\n",
       "      <td>07/04/2015</td>\n",
       "      <td>2015-03-31</td>\n",
       "      <td>2015-04-07</td>\n",
       "    </tr>\n",
       "    <tr>\n",
       "      <th>2</th>\n",
       "      <td>Quisiera tener ...</td>\n",
       "      <td>Zoboli, Giovanna.</td>\n",
       "      <td>ARM</td>\n",
       "      <td>2284458</td>\n",
       "      <td>853</td>\n",
       "      <td>Infantil</td>\n",
       "      <td>2010</td>\n",
       "      <td>Mexico</td>\n",
       "      <td></td>\n",
       "      <td></td>\n",
       "      <td></td>\n",
       "      <td>ARM</td>\n",
       "      <td>ARM</td>\n",
       "      <td>ARM</td>\n",
       "      <td>88381353</td>\n",
       "      <td>CTA</td>\n",
       "      <td>07/11/2015</td>\n",
       "      <td>17/11/2015</td>\n",
       "      <td>2015-11-07</td>\n",
       "      <td>2015-11-17</td>\n",
       "    </tr>\n",
       "    <tr>\n",
       "      <th>3</th>\n",
       "      <td>Johannes Gutenberg</td>\n",
       "      <td>Borràs Perelló, Lluís.</td>\n",
       "      <td>ARM</td>\n",
       "      <td>2288922</td>\n",
       "      <td>925</td>\n",
       "      <td>Infantil</td>\n",
       "      <td>2010</td>\n",
       "      <td>Spain</td>\n",
       "      <td>Empleado</td>\n",
       "      <td>Técnico</td>\n",
       "      <td>Adm. de empresas</td>\n",
       "      <td>ARM</td>\n",
       "      <td>ARM</td>\n",
       "      <td>ARM</td>\n",
       "      <td>88007424</td>\n",
       "      <td>CEM</td>\n",
       "      <td>16/01/2015</td>\n",
       "      <td>16/01/2015</td>\n",
       "      <td>2015-01-16</td>\n",
       "      <td>2015-01-16</td>\n",
       "    </tr>\n",
       "    <tr>\n",
       "      <th>4</th>\n",
       "      <td>La fantástica leyenda de: la princesa y el dragón</td>\n",
       "      <td>Alins, Sonia.</td>\n",
       "      <td>ARM</td>\n",
       "      <td>2288896</td>\n",
       "      <td>863</td>\n",
       "      <td>Infantil</td>\n",
       "      <td>2010</td>\n",
       "      <td>Spain</td>\n",
       "      <td></td>\n",
       "      <td></td>\n",
       "      <td></td>\n",
       "      <td>ARM</td>\n",
       "      <td>ARM</td>\n",
       "      <td>ARM</td>\n",
       "      <td>88429529</td>\n",
       "      <td>CTA</td>\n",
       "      <td>21/01/2015</td>\n",
       "      <td>28/01/2015</td>\n",
       "      <td>2015-01-21</td>\n",
       "      <td>2015-01-28</td>\n",
       "    </tr>\n",
       "  </tbody>\n",
       "</table>\n",
       "</div>"
      ],
      "text/plain": [
       "                                              TITULO                   AUTOR  \\\n",
       "0                                   Un bicho extraño           Daporta, Mon.   \n",
       "1                                   Un bicho extraño           Daporta, Mon.   \n",
       "2                                 Quisiera tener ...       Zoboli, Giovanna.   \n",
       "3                                 Johannes Gutenberg  Borràs Perelló, Lluís.   \n",
       "4  La fantástica leyenda de: la princesa y el dragón           Alins, Sonia.   \n",
       "\n",
       "  SUCURSAL  COD_BARRAS_LIBRO DEWEY DESC_LOCALIZACION_EJEMPLAR  FECHA_PUB  \\\n",
       "0      ARM           2298061   863                   Infantil       2010   \n",
       "1      ARM           2298061   863                   Infantil       2010   \n",
       "2      ARM           2284458   853                   Infantil       2010   \n",
       "3      ARM           2288922   925                   Infantil       2010   \n",
       "4      ARM           2288896   863                   Infantil       2010   \n",
       "\n",
       "  PAIS_EJEMPLAR OCUPACION NIVEL_EDUCACION      AREA_ESTUDIO SUCURSAL_PRESTAMO  \\\n",
       "0         Spain                                                           ARM   \n",
       "1         Spain                                                           ARM   \n",
       "2        Mexico                                                           ARM   \n",
       "3         Spain  Empleado         Técnico  Adm. de empresas               ARM   \n",
       "4         Spain                                                           ARM   \n",
       "\n",
       "  SUCURSAL_DEVOLUCION SUCURSAL_DEL_LECTOR  COD_BARRAS_LECTOR CATEGORÍA  \\\n",
       "0                 ARM                 ARM           88429527       CTA   \n",
       "1                 ARM                 ARM           88416381       CTA   \n",
       "2                 ARM                 ARM           88381353       CTA   \n",
       "3                 ARM                 ARM           88007424       CEM   \n",
       "4                 ARM                 ARM           88429529       CTA   \n",
       "\n",
       "  FECHA_PRESTAMO FECHA_REAL_DEVOLUCION DATE_PRESTAMO DATE_DEVOLUCION  \n",
       "0     22/01/2015            04/02/2015    2015-01-22      2015-02-04  \n",
       "1     31/03/2015            07/04/2015    2015-03-31      2015-04-07  \n",
       "2     07/11/2015            17/11/2015    2015-11-07      2015-11-17  \n",
       "3     16/01/2015            16/01/2015    2015-01-16      2015-01-16  \n",
       "4     21/01/2015            28/01/2015    2015-01-21      2015-01-28  "
      ]
     },
     "execution_count": 4,
     "metadata": {},
     "output_type": "execute_result"
    }
   ],
   "source": [
    "prestamos_df.head()"
   ]
  },
  {
   "cell_type": "markdown",
   "metadata": {},
   "source": [
    "## Columnas útiles"
   ]
  },
  {
   "cell_type": "code",
   "execution_count": 5,
   "metadata": {
    "collapsed": true
   },
   "outputs": [],
   "source": [
    "prestamos_cols = [\n",
    "    'TITULO',\n",
    "    'AUTOR',\n",
    "#     'SUCURSAL',\n",
    "#     'COD_BARRAS_LIBRO',\n",
    "    'DEWEY',\n",
    "#     'DESC_LOCALIZACION_EJEMPLAR',\n",
    "    'FECHA_PUB',\n",
    "    'PAIS_EJEMPLAR',\n",
    "#     'OCUPACION',\n",
    "#     'NIVEL_EDUCACION',\n",
    "#     'AREA_ESTUDIO',\n",
    "#     'SUCURSAL_PRESTAMO',\n",
    "#     'SUCURSAL_DEVOLUCION',\n",
    "#     'SUCURSAL_DEL_LECTOR',\n",
    "    'COD_BARRAS_LECTOR',\n",
    "#     'CATEGORÍA',\n",
    "#     'FECHA_PRESTAMO',\n",
    "#     'FECHA_REAL_DEVOLUCION',\n",
    "#     'DATE_PRESTAMO',\n",
    "#     'DATE_DEVOLUCION',\n",
    "]"
   ]
  },
  {
   "cell_type": "code",
   "execution_count": 6,
   "metadata": {
    "collapsed": false
   },
   "outputs": [],
   "source": [
    "prestamos_df = prestamos_df[prestamos_cols]"
   ]
  },
  {
   "cell_type": "code",
   "execution_count": 7,
   "metadata": {
    "collapsed": false
   },
   "outputs": [
    {
     "data": {
      "text/plain": [
       "(3054360, 6)"
      ]
     },
     "execution_count": 7,
     "metadata": {},
     "output_type": "execute_result"
    }
   ],
   "source": [
    "prestamos_df.shape"
   ]
  },
  {
   "cell_type": "markdown",
   "metadata": {},
   "source": [
    "## Valores en blanco"
   ]
  },
  {
   "cell_type": "markdown",
   "metadata": {},
   "source": [
    "#### TITULO"
   ]
  },
  {
   "cell_type": "code",
   "execution_count": 8,
   "metadata": {
    "collapsed": false
   },
   "outputs": [
    {
     "data": {
      "text/plain": [
       "6"
      ]
     },
     "execution_count": 8,
     "metadata": {},
     "output_type": "execute_result"
    }
   ],
   "source": [
    "len(prestamos_df[prestamos_df.TITULO == ''])"
   ]
  },
  {
   "cell_type": "markdown",
   "metadata": {},
   "source": [
    "#### AUTOR"
   ]
  },
  {
   "cell_type": "code",
   "execution_count": 9,
   "metadata": {
    "collapsed": false
   },
   "outputs": [
    {
     "data": {
      "text/plain": [
       "409373"
      ]
     },
     "execution_count": 9,
     "metadata": {},
     "output_type": "execute_result"
    }
   ],
   "source": [
    "len(prestamos_df[prestamos_df.AUTOR == ''])"
   ]
  },
  {
   "cell_type": "markdown",
   "metadata": {},
   "source": [
    "#### DEWEY"
   ]
  },
  {
   "cell_type": "code",
   "execution_count": 10,
   "metadata": {
    "collapsed": false
   },
   "outputs": [
    {
     "data": {
      "text/plain": [
       "146"
      ]
     },
     "execution_count": 10,
     "metadata": {},
     "output_type": "execute_result"
    }
   ],
   "source": [
    "len(prestamos_df[prestamos_df.DEWEY == ''])"
   ]
  },
  {
   "cell_type": "markdown",
   "metadata": {},
   "source": [
    "#### FECHA_PUB"
   ]
  },
  {
   "cell_type": "code",
   "execution_count": 11,
   "metadata": {
    "collapsed": false
   },
   "outputs": [
    {
     "data": {
      "text/plain": [
       "4859"
      ]
     },
     "execution_count": 11,
     "metadata": {},
     "output_type": "execute_result"
    }
   ],
   "source": [
    "len(prestamos_df[prestamos_df.FECHA_PUB == 0])"
   ]
  },
  {
   "cell_type": "markdown",
   "metadata": {},
   "source": [
    "#### PAIS_EJEMPLAR"
   ]
  },
  {
   "cell_type": "code",
   "execution_count": 12,
   "metadata": {
    "collapsed": false
   },
   "outputs": [
    {
     "data": {
      "text/plain": [
       "86413"
      ]
     },
     "execution_count": 12,
     "metadata": {},
     "output_type": "execute_result"
    }
   ],
   "source": [
    "len(prestamos_df[prestamos_df.PAIS_EJEMPLAR == 'DESCONOCIDO'])"
   ]
  },
  {
   "cell_type": "markdown",
   "metadata": {
    "collapsed": true
   },
   "source": [
    "## Resultados finales"
   ]
  },
  {
   "cell_type": "code",
   "execution_count": 13,
   "metadata": {
    "collapsed": true
   },
   "outputs": [],
   "source": [
    "prestamos_df.to_csv('prestamos_limpios.csv', index=False)"
   ]
  },
  {
   "cell_type": "code",
   "execution_count": null,
   "metadata": {
    "collapsed": true
   },
   "outputs": [],
   "source": []
  }
 ],
 "metadata": {
  "kernelspec": {
   "display_name": "Python 3",
   "language": "python",
   "name": "python3"
  },
  "language_info": {
   "codemirror_mode": {
    "name": "ipython",
    "version": 3
   },
   "file_extension": ".py",
   "mimetype": "text/x-python",
   "name": "python",
   "nbconvert_exporter": "python",
   "pygments_lexer": "ipython3",
   "version": "3.4.3"
  }
 },
 "nbformat": 4,
 "nbformat_minor": 1
}
