{
 "cells": [
  {
   "cell_type": "markdown",
   "metadata": {},
   "source": [
    "# Geolocalización"
   ]
  },
  {
   "cell_type": "code",
   "execution_count": 1,
   "metadata": {
    "collapsed": true
   },
   "outputs": [],
   "source": [
    "import ast\n",
    "import csv\n",
    "import os\n",
    "import re\n",
    "from collections import defaultdict\n",
    "from collections import Counter\n",
    "from datetime import datetime\n",
    "from datetime import timedelta\n",
    "from string import punctuation\n",
    "\n",
    "import matplotlib\n",
    "import numpy as np\n",
    "import networkx as nx\n",
    "import pandas as pd\n",
    "import requests\n",
    "import seaborn as sns\n",
    "from geolocation.main import GoogleMaps\n",
    "from matplotlib import pyplot as plt\n",
    "from SPARQLWrapper import SPARQLWrapper, JSON\n",
    "\n",
    "from googlemaps_key import KEY"
   ]
  },
  {
   "cell_type": "markdown",
   "metadata": {},
   "source": [
    "## Autores"
   ]
  },
  {
   "cell_type": "code",
   "execution_count": 2,
   "metadata": {
    "collapsed": false
   },
   "outputs": [
    {
     "name": "stdout",
     "output_type": "stream",
     "text": [
      "CPU times: user 162 ms, sys: 857 µs, total: 163 ms\n",
      "Wall time: 162 ms\n"
     ]
    }
   ],
   "source": [
    "%%time\n",
    "\n",
    "autores_df = pd.read_csv(\n",
    "    'autores_colombianos_2.csv',\n",
    "    header=0,\n",
    "    converters={\n",
    "        'GEOLOC_CAPITAL_AUTOR': ast.literal_eval,\n",
    "        'GEOLOC_CAPITAL_EJEMPLAR': ast.literal_eval\n",
    "    }\n",
    ")\n",
    "autores_df = autores_df.fillna('')"
   ]
  },
  {
   "cell_type": "code",
   "execution_count": 3,
   "metadata": {
    "collapsed": false
   },
   "outputs": [
    {
     "data": {
      "text/plain": [
       "(3450, 12)"
      ]
     },
     "execution_count": 3,
     "metadata": {},
     "output_type": "execute_result"
    }
   ],
   "source": [
    "autores_df.shape"
   ]
  },
  {
   "cell_type": "code",
   "execution_count": 4,
   "metadata": {
    "collapsed": false
   },
   "outputs": [
    {
     "data": {
      "text/html": [
       "<div>\n",
       "<table border=\"1\" class=\"dataframe\">\n",
       "  <thead>\n",
       "    <tr style=\"text-align: right;\">\n",
       "      <th></th>\n",
       "      <th>TITULO</th>\n",
       "      <th>FECHA_PUB</th>\n",
       "      <th>PAIS_EJEMPLAR</th>\n",
       "      <th>AUTOR</th>\n",
       "      <th>PAIS_AUTOR</th>\n",
       "      <th>NOMBRE_LOCALIZADO</th>\n",
       "      <th>CAPITAL_AUTOR</th>\n",
       "      <th>CAPITAL_EJEMPLAR</th>\n",
       "      <th>GEOLOC_CAPITAL_AUTOR</th>\n",
       "      <th>GEOLOC_CAPITAL_EJEMPLAR</th>\n",
       "      <th>CIUDAD_AUTOR</th>\n",
       "      <th>DEPARTAMENTO_AUTOR</th>\n",
       "    </tr>\n",
       "  </thead>\n",
       "  <tbody>\n",
       "    <tr>\n",
       "      <th>0</th>\n",
       "      <td>En la laguna más profunda</td>\n",
       "      <td>2011</td>\n",
       "      <td>Colombia</td>\n",
       "      <td>Oscar Collazos</td>\n",
       "      <td>Colombia</td>\n",
       "      <td>Oscar Collazos</td>\n",
       "      <td>Bogotá</td>\n",
       "      <td>Bogotá</td>\n",
       "      <td>(4.710988599999999, -74.072092)</td>\n",
       "      <td>(4.710988599999999, -74.072092)</td>\n",
       "      <td>Bahía Solano</td>\n",
       "      <td>Chocó</td>\n",
       "    </tr>\n",
       "    <tr>\n",
       "      <th>1</th>\n",
       "      <td>Zoro</td>\n",
       "      <td>1997</td>\n",
       "      <td>Colombia</td>\n",
       "      <td>Jairo Aníbal Niño</td>\n",
       "      <td>Colombia</td>\n",
       "      <td>Jairo Aníbal Niño</td>\n",
       "      <td>Bogotá</td>\n",
       "      <td>Bogotá</td>\n",
       "      <td>(4.710988599999999, -74.072092)</td>\n",
       "      <td>(4.710988599999999, -74.072092)</td>\n",
       "      <td>Moniquirá</td>\n",
       "      <td>Boyacá</td>\n",
       "    </tr>\n",
       "    <tr>\n",
       "      <th>2</th>\n",
       "      <td>Mitos y leyendas indígenas de Colombia</td>\n",
       "      <td>2013</td>\n",
       "      <td>Colombia</td>\n",
       "      <td>Javier Ocampo López</td>\n",
       "      <td>Colombia</td>\n",
       "      <td>Javier Ocampo López</td>\n",
       "      <td>Bogotá</td>\n",
       "      <td>Bogotá</td>\n",
       "      <td>(4.710988599999999, -74.072092)</td>\n",
       "      <td>(4.710988599999999, -74.072092)</td>\n",
       "      <td>Aguadas</td>\n",
       "      <td>Caldas</td>\n",
       "    </tr>\n",
       "    <tr>\n",
       "      <th>3</th>\n",
       "      <td>Puro pueblo</td>\n",
       "      <td>2002</td>\n",
       "      <td>Colombia</td>\n",
       "      <td>Jairo Aníbal Niño</td>\n",
       "      <td>Colombia</td>\n",
       "      <td>Jairo Aníbal Niño</td>\n",
       "      <td>Bogotá</td>\n",
       "      <td>Bogotá</td>\n",
       "      <td>(4.710988599999999, -74.072092)</td>\n",
       "      <td>(4.710988599999999, -74.072092)</td>\n",
       "      <td>Moniquirá</td>\n",
       "      <td>Boyacá</td>\n",
       "    </tr>\n",
       "    <tr>\n",
       "      <th>4</th>\n",
       "      <td>Octubre, 1942-1952</td>\n",
       "      <td>1953</td>\n",
       "      <td>Colombia</td>\n",
       "      <td>Carmelina Soto Valencia</td>\n",
       "      <td>Colombia</td>\n",
       "      <td>Carmelina Soto Valencia</td>\n",
       "      <td>Bogotá</td>\n",
       "      <td>Bogotá</td>\n",
       "      <td>(4.710988599999999, -74.072092)</td>\n",
       "      <td>(4.710988599999999, -74.072092)</td>\n",
       "      <td>Armenia</td>\n",
       "      <td>Quindío</td>\n",
       "    </tr>\n",
       "  </tbody>\n",
       "</table>\n",
       "</div>"
      ],
      "text/plain": [
       "                                   TITULO  FECHA_PUB PAIS_EJEMPLAR  \\\n",
       "0               En la laguna más profunda       2011      Colombia   \n",
       "1                                    Zoro       1997      Colombia   \n",
       "2  Mitos y leyendas indígenas de Colombia       2013      Colombia   \n",
       "3                             Puro pueblo       2002      Colombia   \n",
       "4                      Octubre, 1942-1952       1953      Colombia   \n",
       "\n",
       "                     AUTOR PAIS_AUTOR        NOMBRE_LOCALIZADO CAPITAL_AUTOR  \\\n",
       "0           Oscar Collazos   Colombia           Oscar Collazos        Bogotá   \n",
       "1        Jairo Aníbal Niño   Colombia        Jairo Aníbal Niño        Bogotá   \n",
       "2      Javier Ocampo López   Colombia      Javier Ocampo López        Bogotá   \n",
       "3        Jairo Aníbal Niño   Colombia        Jairo Aníbal Niño        Bogotá   \n",
       "4  Carmelina Soto Valencia   Colombia  Carmelina Soto Valencia        Bogotá   \n",
       "\n",
       "  CAPITAL_EJEMPLAR             GEOLOC_CAPITAL_AUTOR  \\\n",
       "0           Bogotá  (4.710988599999999, -74.072092)   \n",
       "1           Bogotá  (4.710988599999999, -74.072092)   \n",
       "2           Bogotá  (4.710988599999999, -74.072092)   \n",
       "3           Bogotá  (4.710988599999999, -74.072092)   \n",
       "4           Bogotá  (4.710988599999999, -74.072092)   \n",
       "\n",
       "           GEOLOC_CAPITAL_EJEMPLAR  CIUDAD_AUTOR DEPARTAMENTO_AUTOR  \n",
       "0  (4.710988599999999, -74.072092)  Bahía Solano              Chocó  \n",
       "1  (4.710988599999999, -74.072092)     Moniquirá             Boyacá  \n",
       "2  (4.710988599999999, -74.072092)       Aguadas             Caldas  \n",
       "3  (4.710988599999999, -74.072092)     Moniquirá             Boyacá  \n",
       "4  (4.710988599999999, -74.072092)       Armenia            Quindío  "
      ]
     },
     "execution_count": 4,
     "metadata": {},
     "output_type": "execute_result"
    }
   ],
   "source": [
    "autores_df.head()"
   ]
  },
  {
   "cell_type": "code",
   "execution_count": 5,
   "metadata": {
    "collapsed": true
   },
   "outputs": [],
   "source": [
    "autores_df = autores_df[\n",
    "    (autores_df['CIUDAD_AUTOR'] != 'DESCONOCIDO') &\n",
    "    (autores_df['DEPARTAMENTO_AUTOR'] != 'DESCONOCIDO')\n",
    "]\n",
    "autores_df = autores_df.copy()"
   ]
  },
  {
   "cell_type": "code",
   "execution_count": 6,
   "metadata": {
    "collapsed": false
   },
   "outputs": [
    {
     "data": {
      "text/plain": [
       "(3217, 12)"
      ]
     },
     "execution_count": 6,
     "metadata": {},
     "output_type": "execute_result"
    }
   ],
   "source": [
    "autores_df.shape"
   ]
  },
  {
   "cell_type": "markdown",
   "metadata": {},
   "source": [
    "## Geocoordinates"
   ]
  },
  {
   "cell_type": "code",
   "execution_count": 7,
   "metadata": {
    "collapsed": false
   },
   "outputs": [
    {
     "data": {
      "text/plain": [
       "69"
      ]
     },
     "execution_count": 7,
     "metadata": {},
     "output_type": "execute_result"
    }
   ],
   "source": [
    "autores_df['CIUDAD_AUTOR'].nunique()"
   ]
  },
  {
   "cell_type": "code",
   "execution_count": 8,
   "metadata": {
    "collapsed": false
   },
   "outputs": [
    {
     "name": "stdout",
     "output_type": "stream",
     "text": [
      "CPU times: user 407 ms, sys: 38 µs, total: 407 ms\n",
      "Wall time: 404 ms\n"
     ]
    }
   ],
   "source": [
    "%%time\n",
    "\n",
    "places = set()\n",
    "for i, x in autores_df.iterrows():\n",
    "    ciudad = x['CIUDAD_AUTOR']\n",
    "    departamento = x['DEPARTAMENTO_AUTOR']\n",
    "    pais = 'Colombia'\n",
    "    places.add((ciudad, departamento, pais))"
   ]
  },
  {
   "cell_type": "code",
   "execution_count": 9,
   "metadata": {
    "collapsed": false
   },
   "outputs": [
    {
     "data": {
      "text/plain": [
       "69"
      ]
     },
     "execution_count": 9,
     "metadata": {},
     "output_type": "execute_result"
    }
   ],
   "source": [
    "len(places)"
   ]
  },
  {
   "cell_type": "code",
   "execution_count": 10,
   "metadata": {
    "collapsed": false
   },
   "outputs": [],
   "source": [
    "google_maps = GoogleMaps(api_key=KEY)"
   ]
  },
  {
   "cell_type": "code",
   "execution_count": 11,
   "metadata": {
    "collapsed": false
   },
   "outputs": [
    {
     "name": "stdout",
     "output_type": "stream",
     "text": [
      "NOT FOUND: ('Ibagué', 'Tolima', 'Colombia')\n",
      "NOT FOUND: ('Aracataca', 'Magdalena', 'Colombia')\n",
      "NOT FOUND: ('San Vicente de Chucurí', 'Santander', 'Colombia')\n",
      "NOT FOUND: ('Amalfi', 'Antioquia', 'Colombia')\n",
      "NOT FOUND: ('Medellín', 'Antioquia', 'Colombia')\n",
      "CPU times: user 1.63 s, sys: 61.4 ms, total: 1.69 s\n",
      "Wall time: 25.4 s\n"
     ]
    }
   ],
   "source": [
    "%%time\n",
    "\n",
    "locs = {} # (lat, lng)\n",
    "\n",
    "for p in places:\n",
    "    found = False\n",
    "    try:\n",
    "        locations = google_maps.search(location=', '.join(p))\n",
    "        if len(locations.list_data) == 1:\n",
    "            location = locations.list_data[0]\n",
    "            lc = location.country.decode('utf-8') \n",
    "            if lc == p[2]:\n",
    "                locs[p[0]] = (location.lat, location.lng)\n",
    "                found = True\n",
    "            else:\n",
    "                print('NOT FOUND:', p)\n",
    "    except ApiClientException as e:\n",
    "        pass\n",
    "    if not found:\n",
    "        print('NOT FOUND:', p)"
   ]
  },
  {
   "cell_type": "code",
   "execution_count": 12,
   "metadata": {
    "collapsed": false
   },
   "outputs": [],
   "source": [
    "locs['Amalfi'] = (6.909167, -75.076667)\n",
    "locs['Aracataca'] = (10.593694, -74.192808)\n",
    "locs['Ibagué'] = (4.433333, -75.233333)\n",
    "locs['Medellín'] = (6.230833, -75.590556)\n",
    "locs['San Vicente de Chucurí'] = (6.881944, -73.411944)"
   ]
  },
  {
   "cell_type": "code",
   "execution_count": 13,
   "metadata": {
    "collapsed": false
   },
   "outputs": [
    {
     "name": "stdout",
     "output_type": "stream",
     "text": [
      "CPU times: user 98 ms, sys: 360 µs, total: 98.4 ms\n",
      "Wall time: 97.2 ms\n"
     ]
    }
   ],
   "source": [
    "%%time\n",
    "\n",
    "def process_geolocation_ciudad_autor(x):\n",
    "    c = x['CIUDAD_AUTOR']\n",
    "    return locs[c]\n",
    "\n",
    "autores_df['GEOLOC_CIUDAD_AUTOR'] = autores_df.apply(process_geolocation_ciudad_autor, axis=1)"
   ]
  },
  {
   "cell_type": "markdown",
   "metadata": {
    "collapsed": true
   },
   "source": [
    "# Saving results"
   ]
  },
  {
   "cell_type": "code",
   "execution_count": 14,
   "metadata": {
    "collapsed": true
   },
   "outputs": [],
   "source": [
    "autores_df.to_csv('autores_colombianos_3.csv', index=False)"
   ]
  },
  {
   "cell_type": "code",
   "execution_count": null,
   "metadata": {
    "collapsed": true
   },
   "outputs": [],
   "source": []
  }
 ],
 "metadata": {
  "kernelspec": {
   "display_name": "Python 3",
   "language": "python",
   "name": "python3"
  },
  "language_info": {
   "codemirror_mode": {
    "name": "ipython",
    "version": 3
   },
   "file_extension": ".py",
   "mimetype": "text/x-python",
   "name": "python",
   "nbconvert_exporter": "python",
   "pygments_lexer": "ipython3",
   "version": "3.4.3"
  }
 },
 "nbformat": 4,
 "nbformat_minor": 1
}
