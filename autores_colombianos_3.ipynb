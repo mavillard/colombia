{
 "cells": [
  {
   "cell_type": "markdown",
   "metadata": {},
   "source": [
    "# Autores colombianos por provincias"
   ]
  },
  {
   "cell_type": "code",
   "execution_count": 1,
   "metadata": {
    "collapsed": true
   },
   "outputs": [],
   "source": [
    "import ast\n",
    "import csv\n",
    "import os\n",
    "import re\n",
    "from collections import defaultdict\n",
    "from collections import Counter\n",
    "from datetime import datetime\n",
    "from datetime import timedelta\n",
    "from string import punctuation\n",
    "\n",
    "import matplotlib\n",
    "import numpy as np\n",
    "import networkx as nx\n",
    "import pandas as pd\n",
    "import requests\n",
    "import seaborn as sns\n",
    "from geolocation.main import GoogleMaps\n",
    "from matplotlib import pyplot as plt\n",
    "from SPARQLWrapper import SPARQLWrapper, JSON\n",
    "\n",
    "from googlemaps_key import KEY"
   ]
  },
  {
   "cell_type": "markdown",
   "metadata": {},
   "source": [
    "## Autores"
   ]
  },
  {
   "cell_type": "code",
   "execution_count": 2,
   "metadata": {
    "collapsed": false
   },
   "outputs": [
    {
     "name": "stdout",
     "output_type": "stream",
     "text": [
      "CPU times: user 234 ms, sys: 8.35 ms, total: 242 ms\n",
      "Wall time: 241 ms\n"
     ]
    }
   ],
   "source": [
    "%%time\n",
    "\n",
    "autores_df = pd.read_csv(\n",
    "    'autores_colombianos_2.csv',\n",
    "    header=0,\n",
    "    converters={\n",
    "        'GEOLOC_CAPITAL_AUTOR': ast.literal_eval,\n",
    "        'GEOLOC_CAPITAL_EJEMPLAR': ast.literal_eval\n",
    "    }\n",
    ")\n",
    "autores_df = autores_df.fillna('')"
   ]
  },
  {
   "cell_type": "code",
   "execution_count": 3,
   "metadata": {
    "collapsed": false
   },
   "outputs": [
    {
     "data": {
      "text/plain": [
       "(5551, 13)"
      ]
     },
     "execution_count": 3,
     "metadata": {},
     "output_type": "execute_result"
    }
   ],
   "source": [
    "autores_df.shape"
   ]
  },
  {
   "cell_type": "code",
   "execution_count": 4,
   "metadata": {
    "collapsed": false
   },
   "outputs": [
    {
     "data": {
      "text/html": [
       "<div>\n",
       "<table border=\"1\" class=\"dataframe\">\n",
       "  <thead>\n",
       "    <tr style=\"text-align: right;\">\n",
       "      <th></th>\n",
       "      <th>TITULO</th>\n",
       "      <th>PAIS_EJEMPLAR</th>\n",
       "      <th>AUTOR</th>\n",
       "      <th>PAIS_AUTOR</th>\n",
       "      <th>FECHA_PUB</th>\n",
       "      <th>CAPITAL_AUTOR</th>\n",
       "      <th>CAPITAL_EJEMPLAR</th>\n",
       "      <th>GEOLOC_CAPITAL_AUTOR</th>\n",
       "      <th>GEOLOC_CAPITAL_EJEMPLAR</th>\n",
       "      <th>CIUDAD_AUTOR</th>\n",
       "      <th>DEPARTAMENTO_AUTOR</th>\n",
       "      <th>ENCONTRADO</th>\n",
       "      <th>NOMBRE_ENCONTRADO</th>\n",
       "    </tr>\n",
       "  </thead>\n",
       "  <tbody>\n",
       "    <tr>\n",
       "      <th>0</th>\n",
       "      <td>En la laguna más profunda</td>\n",
       "      <td>Colombia</td>\n",
       "      <td>Oscar Collazos</td>\n",
       "      <td>Colombia</td>\n",
       "      <td>2011</td>\n",
       "      <td>Bogotá</td>\n",
       "      <td>Bogotá</td>\n",
       "      <td>(4.710988599999999, -74.072092)</td>\n",
       "      <td>(4.710988599999999, -74.072092)</td>\n",
       "      <td>Bahía Solano</td>\n",
       "      <td>Chocó Department</td>\n",
       "      <td>True</td>\n",
       "      <td>Oscar Collazos</td>\n",
       "    </tr>\n",
       "    <tr>\n",
       "      <th>1</th>\n",
       "      <td>El gato bandido y otros cuentos</td>\n",
       "      <td>Colombia</td>\n",
       "      <td>Rafael Pombo</td>\n",
       "      <td>Colombia</td>\n",
       "      <td>2007</td>\n",
       "      <td>Bogotá</td>\n",
       "      <td>Bogotá</td>\n",
       "      <td>(4.710988599999999, -74.072092)</td>\n",
       "      <td>(4.710988599999999, -74.072092)</td>\n",
       "      <td>Bogota</td>\n",
       "      <td>DESCONOCIDO</td>\n",
       "      <td>True</td>\n",
       "      <td>Rafael Pombo</td>\n",
       "    </tr>\n",
       "    <tr>\n",
       "      <th>2</th>\n",
       "      <td>Cuentos pintados</td>\n",
       "      <td>Colombia</td>\n",
       "      <td>Rafael Pombo</td>\n",
       "      <td>Colombia</td>\n",
       "      <td>2011</td>\n",
       "      <td>Bogotá</td>\n",
       "      <td>Bogotá</td>\n",
       "      <td>(4.710988599999999, -74.072092)</td>\n",
       "      <td>(4.710988599999999, -74.072092)</td>\n",
       "      <td>Bogota</td>\n",
       "      <td>DESCONOCIDO</td>\n",
       "      <td>True</td>\n",
       "      <td>Rafael Pombo</td>\n",
       "    </tr>\n",
       "    <tr>\n",
       "      <th>3</th>\n",
       "      <td>Aleida : 10 años</td>\n",
       "      <td>Colombia</td>\n",
       "      <td>Vladdo</td>\n",
       "      <td>Colombia</td>\n",
       "      <td>2007</td>\n",
       "      <td>Bogotá</td>\n",
       "      <td>Bogotá</td>\n",
       "      <td>(4.710988599999999, -74.072092)</td>\n",
       "      <td>(4.710988599999999, -74.072092)</td>\n",
       "      <td>Bogota</td>\n",
       "      <td>DESCONOCIDO</td>\n",
       "      <td>True</td>\n",
       "      <td>Vladdo</td>\n",
       "    </tr>\n",
       "    <tr>\n",
       "      <th>4</th>\n",
       "      <td>Mitos y leyendas indígenas de Colombia</td>\n",
       "      <td>Colombia</td>\n",
       "      <td>Javier Ocampo López</td>\n",
       "      <td>Colombia</td>\n",
       "      <td>2013</td>\n",
       "      <td>Bogotá</td>\n",
       "      <td>Bogotá</td>\n",
       "      <td>(4.710988599999999, -74.072092)</td>\n",
       "      <td>(4.710988599999999, -74.072092)</td>\n",
       "      <td>Aguadas</td>\n",
       "      <td>DESCONOCIDO</td>\n",
       "      <td>True</td>\n",
       "      <td>Javier Ocampo López</td>\n",
       "    </tr>\n",
       "  </tbody>\n",
       "</table>\n",
       "</div>"
      ],
      "text/plain": [
       "                                   TITULO PAIS_EJEMPLAR                AUTOR  \\\n",
       "0               En la laguna más profunda      Colombia       Oscar Collazos   \n",
       "1         El gato bandido y otros cuentos      Colombia         Rafael Pombo   \n",
       "2                        Cuentos pintados      Colombia         Rafael Pombo   \n",
       "3                        Aleida : 10 años      Colombia               Vladdo   \n",
       "4  Mitos y leyendas indígenas de Colombia      Colombia  Javier Ocampo López   \n",
       "\n",
       "  PAIS_AUTOR  FECHA_PUB CAPITAL_AUTOR CAPITAL_EJEMPLAR  \\\n",
       "0   Colombia       2011        Bogotá           Bogotá   \n",
       "1   Colombia       2007        Bogotá           Bogotá   \n",
       "2   Colombia       2011        Bogotá           Bogotá   \n",
       "3   Colombia       2007        Bogotá           Bogotá   \n",
       "4   Colombia       2013        Bogotá           Bogotá   \n",
       "\n",
       "              GEOLOC_CAPITAL_AUTOR          GEOLOC_CAPITAL_EJEMPLAR  \\\n",
       "0  (4.710988599999999, -74.072092)  (4.710988599999999, -74.072092)   \n",
       "1  (4.710988599999999, -74.072092)  (4.710988599999999, -74.072092)   \n",
       "2  (4.710988599999999, -74.072092)  (4.710988599999999, -74.072092)   \n",
       "3  (4.710988599999999, -74.072092)  (4.710988599999999, -74.072092)   \n",
       "4  (4.710988599999999, -74.072092)  (4.710988599999999, -74.072092)   \n",
       "\n",
       "   CIUDAD_AUTOR DEPARTAMENTO_AUTOR ENCONTRADO    NOMBRE_ENCONTRADO  \n",
       "0  Bahía Solano   Chocó Department       True       Oscar Collazos  \n",
       "1        Bogota        DESCONOCIDO       True         Rafael Pombo  \n",
       "2        Bogota        DESCONOCIDO       True         Rafael Pombo  \n",
       "3        Bogota        DESCONOCIDO       True               Vladdo  \n",
       "4       Aguadas        DESCONOCIDO       True  Javier Ocampo López  "
      ]
     },
     "execution_count": 4,
     "metadata": {},
     "output_type": "execute_result"
    }
   ],
   "source": [
    "autores_df.head()"
   ]
  },
  {
   "cell_type": "markdown",
   "metadata": {},
   "source": [
    "## Ciudades y departamentos"
   ]
  },
  {
   "cell_type": "markdown",
   "metadata": {},
   "source": [
    "### Ciudades"
   ]
  },
  {
   "cell_type": "code",
   "execution_count": 5,
   "metadata": {
    "collapsed": true
   },
   "outputs": [],
   "source": [
    "dtypes = {\n",
    "    'Ciudad': str,\n",
    "    'Población': np.int32,\n",
    "    'Departamento': str,\n",
    "}\n",
    "\n",
    "ciudades_df = pd.read_csv(\n",
    "    'ciudades_colombia.csv',\n",
    "    sep='\\t',\n",
    "    header=-1,\n",
    "    names=['Wiki index', 'Ciudad', 'Población', 'Departamento'],\n",
    "    usecols=['Ciudad', 'Población', 'Departamento'],\n",
    "    dtype=dtypes,\n",
    "    thousands='.',\n",
    ")"
   ]
  },
  {
   "cell_type": "code",
   "execution_count": 6,
   "metadata": {
    "collapsed": true
   },
   "outputs": [],
   "source": [
    "ciudades_departamentos_sr = pd.Series(list(ciudades_df['Departamento']), index=ciudades_df['Ciudad'])"
   ]
  },
  {
   "cell_type": "code",
   "execution_count": 7,
   "metadata": {
    "collapsed": false
   },
   "outputs": [
    {
     "data": {
      "text/plain": [
       "Ciudad\n",
       "Bogotá             Cundinamarca\n",
       "Medellín              Antioquia\n",
       "Cali            Valle del Cauca\n",
       "Barranquilla          Atlántico\n",
       "Cartagena               Bolívar\n",
       "dtype: object"
      ]
     },
     "execution_count": 7,
     "metadata": {},
     "output_type": "execute_result"
    }
   ],
   "source": [
    "ciudades_departamentos_sr.head()"
   ]
  },
  {
   "cell_type": "markdown",
   "metadata": {},
   "source": [
    "#### Consistencia datasets"
   ]
  },
  {
   "cell_type": "code",
   "execution_count": 8,
   "metadata": {
    "collapsed": false
   },
   "outputs": [
    {
     "name": "stdout",
     "output_type": "stream",
     "text": [
      "Bogota\n",
      "La Tebaida, Quindío\n",
      "DESCONOCIDO\n",
      "Cartagena de Indias\n",
      "Donmatías\n",
      "La Ceja del Tambo\n",
      "Buga\n",
      "El Socorro\n",
      "Sincé\n",
      "Honda, Tolima\n",
      "El Carmen de Bolívar\n",
      "Corinto, Cauca\n",
      "Cartago Municipality\n",
      "Guapí\n"
     ]
    }
   ],
   "source": [
    "for x in autores_df['CIUDAD_AUTOR'].unique():\n",
    "    if x not in ciudades_departamentos_sr:\n",
    "        print(x)"
   ]
  },
  {
   "cell_type": "code",
   "execution_count": 9,
   "metadata": {
    "collapsed": false
   },
   "outputs": [],
   "source": [
    "cdd_cdd_dict = {}\n",
    "for c in autores_df['CIUDAD_AUTOR'].unique():\n",
    "    cdd_cdd_dict[c] = c"
   ]
  },
  {
   "cell_type": "code",
   "execution_count": 10,
   "metadata": {
    "collapsed": true
   },
   "outputs": [],
   "source": [
    "cdd_cdd_dict['Bogota'] = 'Bogotá'\n",
    "cdd_cdd_dict['La Tebaida, Quindío'] = 'La Tebaida'\n",
    "cdd_cdd_dict['DESCONOCIDO'] = 'DESCONOCIDO'\n",
    "cdd_cdd_dict['Donmatías'] = 'Don Matías'\n",
    "cdd_cdd_dict['La Ceja del Tambo'] = 'La Ceja'\n",
    "cdd_cdd_dict['Buga'] = 'Guadalajara de Buga'\n",
    "cdd_cdd_dict['El Socorro'] = 'Socorro'\n",
    "cdd_cdd_dict['Sincé'] = 'San Luis de Sincé'\n",
    "cdd_cdd_dict['Honda, Tolima'] = 'Honda'\n",
    "cdd_cdd_dict['El Carmen de Bolívar'] = 'Carmen de Bolivar'\n",
    "cdd_cdd_dict['Corinto, Cauca'] = 'Corinto'\n",
    "cdd_cdd_dict['Cartago Municipality'] = 'Cartago'\n",
    "cdd_cdd_dict['Guapí'] = 'Guapi'"
   ]
  },
  {
   "cell_type": "code",
   "execution_count": 11,
   "metadata": {
    "collapsed": false
   },
   "outputs": [
    {
     "name": "stdout",
     "output_type": "stream",
     "text": [
      "CPU times: user 153 ms, sys: 3.97 ms, total: 157 ms\n",
      "Wall time: 156 ms\n"
     ]
    }
   ],
   "source": [
    "%%time\n",
    "\n",
    "def process_ciudad(x):\n",
    "    return cdd_cdd_dict[x['CIUDAD_AUTOR']]\n",
    "\n",
    "autores_df['CIUDAD_AUTOR'] = autores_df.apply(process_ciudad, axis=1)"
   ]
  },
  {
   "cell_type": "markdown",
   "metadata": {},
   "source": [
    "### Departamentos"
   ]
  },
  {
   "cell_type": "code",
   "execution_count": 12,
   "metadata": {
    "collapsed": false
   },
   "outputs": [],
   "source": [
    "deps1_df = pd.read_csv('deps1.csv', sep='\\t', header=-1)"
   ]
  },
  {
   "cell_type": "code",
   "execution_count": 13,
   "metadata": {
    "collapsed": false
   },
   "outputs": [
    {
     "data": {
      "text/plain": [
       "(33, 8)"
      ]
     },
     "execution_count": 13,
     "metadata": {},
     "output_type": "execute_result"
    }
   ],
   "source": [
    "deps1_df.shape"
   ]
  },
  {
   "cell_type": "code",
   "execution_count": 14,
   "metadata": {
    "collapsed": false
   },
   "outputs": [
    {
     "data": {
      "text/html": [
       "<div>\n",
       "<table border=\"1\" class=\"dataframe\">\n",
       "  <thead>\n",
       "    <tr style=\"text-align: right;\">\n",
       "      <th></th>\n",
       "      <th>0</th>\n",
       "      <th>1</th>\n",
       "      <th>2</th>\n",
       "      <th>3</th>\n",
       "      <th>4</th>\n",
       "      <th>5</th>\n",
       "      <th>6</th>\n",
       "      <th>7</th>\n",
       "    </tr>\n",
       "  </thead>\n",
       "  <tbody>\n",
       "    <tr>\n",
       "      <th>0</th>\n",
       "      <td>0</td>\n",
       "      <td>Capital District</td>\n",
       "      <td>Enrique Peñalosa</td>\n",
       "      <td>CR</td>\n",
       "      <td>Bogotá</td>\n",
       "      <td>1,587</td>\n",
       "      <td>8,254,722</td>\n",
       "      <td>1538</td>\n",
       "    </tr>\n",
       "    <tr>\n",
       "      <th>1</th>\n",
       "      <td>1</td>\n",
       "      <td>Amazonas</td>\n",
       "      <td>Manuel Antonio Carebilla Cuéllar</td>\n",
       "      <td>CR</td>\n",
       "      <td>Leticia</td>\n",
       "      <td>109,665</td>\n",
       "      <td>80,360</td>\n",
       "      <td>1991</td>\n",
       "    </tr>\n",
       "    <tr>\n",
       "      <th>2</th>\n",
       "      <td>2</td>\n",
       "      <td>Antioquia</td>\n",
       "      <td>Luis Pérez</td>\n",
       "      <td>Liberal</td>\n",
       "      <td>Medellín</td>\n",
       "      <td>63,612</td>\n",
       "      <td>5,750,478</td>\n",
       "      <td>1826</td>\n",
       "    </tr>\n",
       "    <tr>\n",
       "      <th>3</th>\n",
       "      <td>3</td>\n",
       "      <td>Arauca</td>\n",
       "      <td>Ricardo Alvarado Bestene</td>\n",
       "      <td>La U</td>\n",
       "      <td>Arauca</td>\n",
       "      <td>23,818</td>\n",
       "      <td>282,302</td>\n",
       "      <td>1991</td>\n",
       "    </tr>\n",
       "    <tr>\n",
       "      <th>4</th>\n",
       "      <td>4</td>\n",
       "      <td>Atlántico</td>\n",
       "      <td>Eduardo I. Verano de la Rosa</td>\n",
       "      <td>Liberal</td>\n",
       "      <td>Barranquilla</td>\n",
       "      <td>3,388</td>\n",
       "      <td>2,365,663</td>\n",
       "      <td>1910</td>\n",
       "    </tr>\n",
       "  </tbody>\n",
       "</table>\n",
       "</div>"
      ],
      "text/plain": [
       "   0                  1                                  2         3  \\\n",
       "0  0  Capital District                   Enrique Peñalosa        CR    \n",
       "1  1          Amazonas   Manuel Antonio Carebilla Cuéllar        CR    \n",
       "2  2         Antioquia                         Luis Pérez   Liberal    \n",
       "3  3            Arauca           Ricardo Alvarado Bestene      La U    \n",
       "4  4         Atlántico       Eduardo I. Verano de la Rosa   Liberal    \n",
       "\n",
       "               4         5           6     7  \n",
       "0        Bogotá     1,587   8,254,722   1538  \n",
       "1       Leticia   109,665      80,360   1991  \n",
       "2      Medellín    63,612   5,750,478   1826  \n",
       "3        Arauca    23,818     282,302   1991  \n",
       "4  Barranquilla     3,388   2,365,663   1910  "
      ]
     },
     "execution_count": 14,
     "metadata": {},
     "output_type": "execute_result"
    }
   ],
   "source": [
    "deps1_df.head()"
   ]
  },
  {
   "cell_type": "code",
   "execution_count": 15,
   "metadata": {
    "collapsed": true
   },
   "outputs": [],
   "source": [
    "deps1_df[1] = deps1_df.apply(lambda x: x[1].strip(), axis=1)"
   ]
  },
  {
   "cell_type": "code",
   "execution_count": 16,
   "metadata": {
    "collapsed": true
   },
   "outputs": [],
   "source": [
    "deps1_set = set(deps1_df[1])"
   ]
  },
  {
   "cell_type": "code",
   "execution_count": 17,
   "metadata": {
    "collapsed": true
   },
   "outputs": [],
   "source": [
    "deps2_df = pd.read_csv('deps2.txt', header=-1)"
   ]
  },
  {
   "cell_type": "code",
   "execution_count": 18,
   "metadata": {
    "collapsed": false
   },
   "outputs": [
    {
     "data": {
      "text/plain": [
       "(33, 1)"
      ]
     },
     "execution_count": 18,
     "metadata": {},
     "output_type": "execute_result"
    }
   ],
   "source": [
    "deps2_df.shape"
   ]
  },
  {
   "cell_type": "code",
   "execution_count": 19,
   "metadata": {
    "collapsed": false
   },
   "outputs": [
    {
     "data": {
      "text/html": [
       "<div>\n",
       "<table border=\"1\" class=\"dataframe\">\n",
       "  <thead>\n",
       "    <tr style=\"text-align: right;\">\n",
       "      <th></th>\n",
       "      <th>0</th>\n",
       "    </tr>\n",
       "  </thead>\n",
       "  <tbody>\n",
       "    <tr>\n",
       "      <th>0</th>\n",
       "      <td>Antioquia</td>\n",
       "    </tr>\n",
       "    <tr>\n",
       "      <th>1</th>\n",
       "      <td>Caldas</td>\n",
       "    </tr>\n",
       "    <tr>\n",
       "      <th>2</th>\n",
       "      <td>Bogotá D.C.</td>\n",
       "    </tr>\n",
       "    <tr>\n",
       "      <th>3</th>\n",
       "      <td>Bolívar</td>\n",
       "    </tr>\n",
       "    <tr>\n",
       "      <th>4</th>\n",
       "      <td>Córdoba</td>\n",
       "    </tr>\n",
       "  </tbody>\n",
       "</table>\n",
       "</div>"
      ],
      "text/plain": [
       "             0\n",
       "0    Antioquia\n",
       "1       Caldas\n",
       "2  Bogotá D.C.\n",
       "3      Bolívar\n",
       "4      Córdoba"
      ]
     },
     "execution_count": 19,
     "metadata": {},
     "output_type": "execute_result"
    }
   ],
   "source": [
    "deps2_df.head()"
   ]
  },
  {
   "cell_type": "code",
   "execution_count": 20,
   "metadata": {
    "collapsed": true
   },
   "outputs": [],
   "source": [
    "deps2_df[0] = deps2_df.apply(lambda x: x[0].strip(), axis=1)"
   ]
  },
  {
   "cell_type": "code",
   "execution_count": 21,
   "metadata": {
    "collapsed": true
   },
   "outputs": [],
   "source": [
    "deps2_set = set(deps2_df[0])"
   ]
  },
  {
   "cell_type": "code",
   "execution_count": 22,
   "metadata": {
    "collapsed": false
   },
   "outputs": [],
   "source": [
    "deps_set = deps1_set.union(deps2_set)"
   ]
  },
  {
   "cell_type": "code",
   "execution_count": 23,
   "metadata": {
    "collapsed": false
   },
   "outputs": [
    {
     "data": {
      "text/plain": [
       "{'Bogotá D.C.', 'Capital District'}"
      ]
     },
     "execution_count": 23,
     "metadata": {},
     "output_type": "execute_result"
    }
   ],
   "source": [
    "deps_set.difference(deps1_set.intersection(deps2_set))"
   ]
  },
  {
   "cell_type": "code",
   "execution_count": 24,
   "metadata": {
    "collapsed": false
   },
   "outputs": [],
   "source": [
    "deps_set.remove('Capital District')"
   ]
  },
  {
   "cell_type": "code",
   "execution_count": 25,
   "metadata": {
    "collapsed": false
   },
   "outputs": [
    {
     "data": {
      "text/plain": [
       "33"
      ]
     },
     "execution_count": 25,
     "metadata": {},
     "output_type": "execute_result"
    }
   ],
   "source": [
    "len(deps_set)"
   ]
  },
  {
   "cell_type": "markdown",
   "metadata": {},
   "source": [
    "#### Consistencia datasets"
   ]
  },
  {
   "cell_type": "code",
   "execution_count": 26,
   "metadata": {
    "collapsed": true
   },
   "outputs": [],
   "source": [
    "dep_dep_dict = {}\n",
    "for d in deps_set:\n",
    "    dep_dep_dict[d] = d"
   ]
  },
  {
   "cell_type": "code",
   "execution_count": 27,
   "metadata": {
    "collapsed": true
   },
   "outputs": [],
   "source": [
    "dep_dep_dict['Capital District'] = 'Bogotá D.C.'"
   ]
  },
  {
   "cell_type": "code",
   "execution_count": 28,
   "metadata": {
    "collapsed": false
   },
   "outputs": [
    {
     "name": "stdout",
     "output_type": "stream",
     "text": [
      "San Andrés - Archipiélago de San Andrés\n",
      "Providencia - Archipiélago de San Andrés\n",
      "San Andrés - Archipiélago de San Andrés\n",
      "Providencia - Archipiélago de San Andrés\n"
     ]
    }
   ],
   "source": [
    "for x in ciudades_departamentos_sr.index:\n",
    "    dep = ciudades_departamentos_sr[x]\n",
    "    if isinstance(dep, str):\n",
    "        if dep not in deps_set:\n",
    "            print(x, '-', dep)\n",
    "    else:\n",
    "        for d in dep.values:\n",
    "            if d not in deps_set:\n",
    "                print(x, '-', d)"
   ]
  },
  {
   "cell_type": "code",
   "execution_count": 29,
   "metadata": {
    "collapsed": true
   },
   "outputs": [],
   "source": [
    "dep_dep_dict['Archipiélago de San Andrés'] = 'San Andrés y Providencia'"
   ]
  },
  {
   "cell_type": "code",
   "execution_count": 30,
   "metadata": {
    "collapsed": false
   },
   "outputs": [
    {
     "name": "stdout",
     "output_type": "stream",
     "text": [
      "Chocó Department\n",
      "DESCONOCIDO\n",
      "Quindío Department\n",
      "Cundinamarca Department\n",
      "Magdalena Department\n",
      "Antioquia Department\n",
      "Nariño Department\n",
      "Valle del Cauca Department\n",
      "Atlántico Department\n",
      "Arauca Department\n",
      "Santander Department\n",
      "Cauca Department\n",
      "Norte de Santander Department\n",
      "Boyacá Department\n",
      "Huila Department\n",
      "Atlántico (Colombia)\n"
     ]
    }
   ],
   "source": [
    "for x in autores_df['DEPARTAMENTO_AUTOR'].unique():\n",
    "    if x not in deps_set:\n",
    "        print(x)"
   ]
  },
  {
   "cell_type": "code",
   "execution_count": 31,
   "metadata": {
    "collapsed": true
   },
   "outputs": [],
   "source": [
    "dep_dep_dict['Chocó Department'] = 'Chocó'\n",
    "dep_dep_dict['DESCONOCIDO'] = 'DESCONOCIDO'\n",
    "dep_dep_dict['Quindío Department'] = 'Quindío'\n",
    "dep_dep_dict['Cundinamarca Department'] = 'Cundinamarca'\n",
    "dep_dep_dict['Magdalena Department'] = 'Magdalena'\n",
    "dep_dep_dict['Antioquia Department'] = 'Antioquia'\n",
    "dep_dep_dict['Nariño Department'] = 'Nariño'\n",
    "dep_dep_dict['Valle del Cauca Department'] = 'Valle del Cauca'\n",
    "dep_dep_dict['Atlántico Department'] = 'Atlántico'\n",
    "dep_dep_dict['Arauca Department'] = 'Arauca'\n",
    "dep_dep_dict['Santander Department'] = 'Santander'\n",
    "dep_dep_dict['Cauca Department'] = 'Cauca'\n",
    "dep_dep_dict['Norte de Santander Department'] = 'Norte de Santander'\n",
    "dep_dep_dict['Boyacá Department'] = 'Boyacá'\n",
    "dep_dep_dict['Huila Department'] = 'Huila'\n",
    "dep_dep_dict['Atlántico (Colombia)'] = 'Atlántico'"
   ]
  },
  {
   "cell_type": "code",
   "execution_count": 32,
   "metadata": {
    "collapsed": false
   },
   "outputs": [
    {
     "name": "stdout",
     "output_type": "stream",
     "text": [
      "CPU times: user 163 ms, sys: 0 ns, total: 163 ms\n",
      "Wall time: 160 ms\n"
     ]
    }
   ],
   "source": [
    "%%time\n",
    "\n",
    "def process_departamento(x):\n",
    "    return dep_dep_dict[x['DEPARTAMENTO_AUTOR']]\n",
    "\n",
    "autores_df['DEPARTAMENTO_AUTOR'] = autores_df.apply(process_departamento, axis=1)"
   ]
  },
  {
   "cell_type": "markdown",
   "metadata": {},
   "source": [
    "## Corrigiendo ciudades y departamentos"
   ]
  },
  {
   "cell_type": "code",
   "execution_count": 33,
   "metadata": {
    "collapsed": false
   },
   "outputs": [
    {
     "name": "stdout",
     "output_type": "stream",
     "text": [
      "CPU times: user 3.03 s, sys: 1.03 ms, total: 3.03 s\n",
      "Wall time: 3.01 s\n"
     ]
    }
   ],
   "source": [
    "%%time\n",
    "\n",
    "inconsistencias = set()\n",
    "corrections = 0\n",
    "\n",
    "for i, x in autores_df.iterrows():\n",
    "    ciudad = x['CIUDAD_AUTOR']\n",
    "    departamento = x['DEPARTAMENTO_AUTOR']\n",
    "    \n",
    "    if ciudad in ciudades_departamentos_sr:\n",
    "        deps = ciudades_departamentos_sr[ciudad]\n",
    "        if departamento == 'DESCONOCIDO':\n",
    "            if isinstance(deps, str):\n",
    "                autores_df.loc[i, 'DEPARTAMENTO_AUTOR'] = deps\n",
    "                corrections += 1\n",
    "            else:\n",
    "                if departamento not in deps.values:\n",
    "                    inconsistencias.add((i, ciudad, departamento, tuple(deps.values)))\n",
    "        else:\n",
    "            if isinstance(deps, str):\n",
    "                if departamento != deps:\n",
    "                    inconsistencias.add((i, ciudad, departamento, deps))\n",
    "            else:\n",
    "                if departamento not in deps.values:\n",
    "                    inconsistencias.add((i, ciudad, departamento, tuple(deps.values)))"
   ]
  },
  {
   "cell_type": "code",
   "execution_count": 34,
   "metadata": {
    "collapsed": false
   },
   "outputs": [
    {
     "data": {
      "text/plain": [
       "0"
      ]
     },
     "execution_count": 34,
     "metadata": {},
     "output_type": "execute_result"
    }
   ],
   "source": [
    "len(inconsistencias)"
   ]
  },
  {
   "cell_type": "code",
   "execution_count": 35,
   "metadata": {
    "collapsed": false
   },
   "outputs": [
    {
     "data": {
      "text/plain": [
       "2019"
      ]
     },
     "execution_count": 35,
     "metadata": {},
     "output_type": "execute_result"
    }
   ],
   "source": [
    "corrections"
   ]
  },
  {
   "cell_type": "markdown",
   "metadata": {
    "collapsed": true
   },
   "source": [
    "# Saving results"
   ]
  },
  {
   "cell_type": "code",
   "execution_count": 36,
   "metadata": {
    "collapsed": true
   },
   "outputs": [],
   "source": [
    "autores_df.to_csv('autores_colombianos_3.csv', index=False)"
   ]
  },
  {
   "cell_type": "code",
   "execution_count": null,
   "metadata": {
    "collapsed": true
   },
   "outputs": [],
   "source": []
  }
 ],
 "metadata": {
  "kernelspec": {
   "display_name": "Python 3",
   "language": "python",
   "name": "python3"
  },
  "language_info": {
   "codemirror_mode": {
    "name": "ipython",
    "version": 3
   },
   "file_extension": ".py",
   "mimetype": "text/x-python",
   "name": "python",
   "nbconvert_exporter": "python",
   "pygments_lexer": "ipython3",
   "version": "3.4.3"
  }
 },
 "nbformat": 4,
 "nbformat_minor": 1
}
