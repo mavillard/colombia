{
 "cells": [
  {
   "cell_type": "code",
   "execution_count": 1,
   "metadata": {
    "collapsed": false
   },
   "outputs": [],
   "source": [
    "import csv\n",
    "import os\n",
    "from collections import Counter\n",
    "from collections import defaultdict\n",
    "from string import punctuation\n",
    "\n",
    "import enchant\n",
    "import pandas as pd\n",
    "from nltk import word_tokenize\n",
    "from nltk.corpus import stopwords\n",
    "from nltk.util import ngrams"
   ]
  },
  {
   "cell_type": "markdown",
   "metadata": {},
   "source": [
    "# Lexicon"
   ]
  },
  {
   "cell_type": "code",
   "execution_count": 2,
   "metadata": {
    "collapsed": true
   },
   "outputs": [],
   "source": [
    "def remove_accent_marks(w):\n",
    "    r = w\n",
    "    r = r.replace('á', 'a')\n",
    "    r = r.replace('é', 'e')\n",
    "    r = r.replace('í', 'i')\n",
    "    r = r.replace('ó', 'o')\n",
    "    r = r.replace('ú', 'u')\n",
    "    return r"
   ]
  },
  {
   "cell_type": "code",
   "execution_count": 3,
   "metadata": {
    "collapsed": false
   },
   "outputs": [
    {
     "name": "stdout",
     "output_type": "stream",
     "text": [
      "CPU times: user 4.13 s, sys: 127 ms, total: 4.25 s\n",
      "Wall time: 4.22 s\n"
     ]
    }
   ],
   "source": [
    "%%time\n",
    "\n",
    "lexicon = {}\n",
    "with open('lexicon/es_lexicon.csv') as f:\n",
    "    reader = csv.reader(\n",
    "        f,\n",
    "        delimiter=' ',\n",
    "    )\n",
    "    for row in reader:\n",
    "        w = remove_accent_marks(row[0])\n",
    "        lexicon[w] = []\n",
    "        for i in range(1, len(row[1:]), 2):\n",
    "            entry = {}\n",
    "            entry['lemma'] = remove_accent_marks(row[i].lower())\n",
    "            entry['eagle'] = remove_accent_marks(row[i+1].lower())\n",
    "            lexicon[w].append(entry)"
   ]
  },
  {
   "cell_type": "code",
   "execution_count": 4,
   "metadata": {
    "collapsed": false
   },
   "outputs": [
    {
     "data": {
      "text/plain": [
       "500949"
      ]
     },
     "execution_count": 4,
     "metadata": {},
     "output_type": "execute_result"
    }
   ],
   "source": [
    "len(lexicon)"
   ]
  },
  {
   "cell_type": "code",
   "execution_count": 5,
   "metadata": {
    "collapsed": false
   },
   "outputs": [],
   "source": [
    "def is_vowel(c):\n",
    "    return c in 'aeiouAEIOUáéíóúÁÉÍÓÚüÜ'\n",
    "\n",
    "def next_level(w):\n",
    "    result = [w]\n",
    "    if is_vowel(w[0]):\n",
    "        result.append('h' + w)\n",
    "    elif w.startswith('h'):\n",
    "        result.append(w[1:])\n",
    "    if \"q'\" in w:\n",
    "        result.append(w.replace(\"q'\", 'que'))\n",
    "    for i in range(len(w)):\n",
    "        if w[i] == 'v':\n",
    "            result.append(w[:i] + 'b' + w[i+1:])\n",
    "        elif w[i] == 'b':\n",
    "            result.append(w[:i] + 'v' + w[i+1:])\n",
    "            result.append(w[:i] + 'd' + w[i+1:])\n",
    "        elif w[i] == 'd':\n",
    "            result.append(w[:i] + 'b' + w[i+1:])\n",
    "        elif w[i] == 'c' and i < len(w) - 1 and w[i+1] in 'ei':\n",
    "            result.append(w[:i] + 's' + w[i+1:])\n",
    "        elif w[i] == 's' and i < len(w) - 1 and w[i+1] in 'ei':\n",
    "            result.append(w[:i] + 'c' + w[i+1:])\n",
    "    return result\n",
    "\n",
    "def combinations_aux(visited, result):\n",
    "    while visited:\n",
    "        w = visited[0]\n",
    "        visited = visited[1:]\n",
    "        if w not in result:\n",
    "            result.append(w)\n",
    "            combs = next_level(w)\n",
    "            visited.extend(combs)        \n",
    "    return result\n",
    "\n",
    "def combinations(w):\n",
    "    return combinations_aux([w], [])"
   ]
  },
  {
   "cell_type": "code",
   "execution_count": 6,
   "metadata": {
    "collapsed": true
   },
   "outputs": [],
   "source": [
    "es = enchant.Dict('es_ES')"
   ]
  },
  {
   "cell_type": "markdown",
   "metadata": {},
   "source": [
    "# Analysis"
   ]
  },
  {
   "cell_type": "code",
   "execution_count": 7,
   "metadata": {
    "collapsed": true
   },
   "outputs": [],
   "source": [
    "excel = pd.ExcelFile('ColombiaWork2.xlsx')"
   ]
  },
  {
   "cell_type": "code",
   "execution_count": 8,
   "metadata": {
    "collapsed": true
   },
   "outputs": [],
   "source": [
    "df1 = excel.parse(0)\n",
    "df1 = df1.fillna('')"
   ]
  },
  {
   "cell_type": "code",
   "execution_count": 9,
   "metadata": {
    "collapsed": true
   },
   "outputs": [],
   "source": [
    "df2 = excel.parse(1)\n",
    "df2 = df2.fillna('')"
   ]
  },
  {
   "cell_type": "code",
   "execution_count": 10,
   "metadata": {
    "collapsed": true
   },
   "outputs": [],
   "source": [
    "df3 = excel.parse(2)\n",
    "df3 = df3.fillna('')"
   ]
  },
  {
   "cell_type": "code",
   "execution_count": 11,
   "metadata": {
    "collapsed": true
   },
   "outputs": [],
   "source": [
    "df4 = excel.parse(3)\n",
    "df4 = df4.fillna('')"
   ]
  },
  {
   "cell_type": "code",
   "execution_count": 12,
   "metadata": {
    "collapsed": true
   },
   "outputs": [],
   "source": [
    "df5 = excel.parse(4)\n",
    "df5 = df5.fillna('')"
   ]
  },
  {
   "cell_type": "code",
   "execution_count": 13,
   "metadata": {
    "collapsed": true
   },
   "outputs": [],
   "source": [
    "dfs = [df1, df2, df3, df4, df5]"
   ]
  },
  {
   "cell_type": "code",
   "execution_count": 14,
   "metadata": {
    "collapsed": true
   },
   "outputs": [],
   "source": [
    "discard_columns = ['Filename', 'Date (YYYY-MM-DD)', 'Name', 'Gender', 'Age', 'City', 'Drawing', 'Title', 'Story']"
   ]
  },
  {
   "cell_type": "code",
   "execution_count": 15,
   "metadata": {
    "collapsed": false
   },
   "outputs": [],
   "source": [
    "for i, df in enumerate(dfs):\n",
    "    for d in discard_columns:\n",
    "        if d not in df.columns:\n",
    "            print(i + 1, d)"
   ]
  },
  {
   "cell_type": "code",
   "execution_count": 16,
   "metadata": {
    "collapsed": false
   },
   "outputs": [],
   "source": [
    "df1.drop(discard_columns, inplace=True, axis=1)"
   ]
  },
  {
   "cell_type": "code",
   "execution_count": 17,
   "metadata": {
    "collapsed": false
   },
   "outputs": [],
   "source": [
    "df2.drop(discard_columns, inplace=True, axis=1)"
   ]
  },
  {
   "cell_type": "code",
   "execution_count": 18,
   "metadata": {
    "collapsed": false
   },
   "outputs": [],
   "source": [
    "df3.drop(discard_columns, inplace=True, axis=1)"
   ]
  },
  {
   "cell_type": "code",
   "execution_count": 19,
   "metadata": {
    "collapsed": false
   },
   "outputs": [],
   "source": [
    "df4.drop(discard_columns, inplace=True, axis=1)"
   ]
  },
  {
   "cell_type": "code",
   "execution_count": 20,
   "metadata": {
    "collapsed": false
   },
   "outputs": [],
   "source": [
    "df5.drop(discard_columns, inplace=True, axis=1)"
   ]
  },
  {
   "cell_type": "code",
   "execution_count": 21,
   "metadata": {
    "collapsed": true
   },
   "outputs": [],
   "source": [
    "dfs = [df1, df2, df3, df4, df5]"
   ]
  },
  {
   "cell_type": "markdown",
   "metadata": {},
   "source": [
    "## Palabras definidas"
   ]
  },
  {
   "cell_type": "code",
   "execution_count": 22,
   "metadata": {
    "collapsed": true
   },
   "outputs": [],
   "source": [
    "palabras_definidas = set()\n",
    "\n",
    "for df in dfs:\n",
    "    for col in df.columns:\n",
    "        if not (col.startswith('Question') or col.startswith('Answer')):\n",
    "            palabras_definidas.add(col)"
   ]
  },
  {
   "cell_type": "code",
   "execution_count": 23,
   "metadata": {
    "collapsed": false
   },
   "outputs": [
    {
     "data": {
      "text/plain": [
       "166"
      ]
     },
     "execution_count": 23,
     "metadata": {},
     "output_type": "execute_result"
    }
   ],
   "source": [
    "len(palabras_definidas)"
   ]
  },
  {
   "cell_type": "code",
   "execution_count": 24,
   "metadata": {
    "collapsed": false
   },
   "outputs": [
    {
     "data": {
      "text/plain": [
       "{'Abandono',\n",
       " 'Abrazar',\n",
       " 'Abuelos',\n",
       " 'Acompañar',\n",
       " 'Agradecimiento',\n",
       " 'Agua',\n",
       " 'Alegria',\n",
       " 'Alivio',\n",
       " 'Amar',\n",
       " 'Amistad',\n",
       " 'Amor',\n",
       " 'Aprender',\n",
       " 'Arma',\n",
       " 'Armonía',\n",
       " 'Asesinato',\n",
       " 'Astucia',\n",
       " 'Ayudar',\n",
       " 'Belleza',\n",
       " 'Besar',\n",
       " 'Blanco',\n",
       " 'Bomba',\n",
       " 'Bondad',\n",
       " 'Brincar',\n",
       " 'Cambio',\n",
       " 'Cariño',\n",
       " 'Carta',\n",
       " 'Casa',\n",
       " 'Castigar',\n",
       " 'Colombia',\n",
       " 'Comida',\n",
       " 'Compartir',\n",
       " 'Competencia',\n",
       " 'Competencia.1',\n",
       " 'Confianza',\n",
       " 'Conocimiento',\n",
       " 'Crecer',\n",
       " 'Cuento',\n",
       " 'Cuidar',\n",
       " 'Desear',\n",
       " 'Desperdiciar',\n",
       " 'Desplazamiento',\n",
       " 'Despreciar',\n",
       " 'Dolor',\n",
       " 'Engañar',\n",
       " 'Enseñanza',\n",
       " 'Esconder',\n",
       " 'Escribir',\n",
       " 'Escuela',\n",
       " 'Espantoso',\n",
       " 'Esperanza',\n",
       " 'Estudiantes',\n",
       " 'Familia',\n",
       " 'Feura',\n",
       " 'Fraternidad',\n",
       " 'Frio',\n",
       " 'Fuego',\n",
       " 'Fuera',\n",
       " 'Futuro',\n",
       " 'Golpear',\n",
       " 'Guerra',\n",
       " 'Guerrilla',\n",
       " 'Herir',\n",
       " 'Hermandad',\n",
       " 'Hijos',\n",
       " 'Hipocresía',\n",
       " 'Historia',\n",
       " 'Hombre',\n",
       " 'Humildad',\n",
       " 'Ignorancia',\n",
       " 'Injusticia',\n",
       " 'Invisible',\n",
       " 'Juego',\n",
       " 'Justicia',\n",
       " 'Lastimar',\n",
       " 'Leer',\n",
       " 'Limpieza',\n",
       " 'Llorar',\n",
       " 'Luz',\n",
       " 'Mafioso',\n",
       " 'Masacre',\n",
       " 'Matar',\n",
       " 'Mejor',\n",
       " 'Memoria',\n",
       " 'Mentira',\n",
       " 'Miedo',\n",
       " 'Montaña',\n",
       " 'Morir',\n",
       " 'Muerte',\n",
       " 'Mujer',\n",
       " 'Naturaleza',\n",
       " 'Negro',\n",
       " 'Niño',\n",
       " 'Obstinado',\n",
       " 'Ocultar',\n",
       " 'Olvido',\n",
       " 'Oración',\n",
       " 'Orgullo',\n",
       " 'Oscuridad',\n",
       " 'Paciencia',\n",
       " 'Padres',\n",
       " 'Palabra',\n",
       " 'Paramilitar',\n",
       " 'Paraíso',\n",
       " 'Pasado',\n",
       " 'Paz',\n",
       " 'Pensar',\n",
       " 'Penumbra',\n",
       " 'Penumbra.1',\n",
       " 'Peor',\n",
       " 'Perder',\n",
       " 'Perdon',\n",
       " 'Perdonar',\n",
       " 'Perdón',\n",
       " 'Pesadilla',\n",
       " 'Pobre',\n",
       " 'Poder',\n",
       " 'Poesia',\n",
       " 'Policía',\n",
       " 'Político',\n",
       " 'Presente',\n",
       " 'Presidente',\n",
       " 'Profesor',\n",
       " 'Profesor.1',\n",
       " 'Promesa',\n",
       " 'Querer',\n",
       " 'Quietud',\n",
       " 'Rabia',\n",
       " 'Recuerdo',\n",
       " 'Regalar',\n",
       " 'Regañar',\n",
       " 'Reparación',\n",
       " 'Respecto',\n",
       " 'Respeto',\n",
       " 'Responsabilidad',\n",
       " 'Rico',\n",
       " 'Robo',\n",
       " 'Sacar',\n",
       " 'Sangre',\n",
       " 'Secuestro',\n",
       " 'Seguro',\n",
       " 'Serenidad',\n",
       " 'Silencio',\n",
       " 'Sinceridad',\n",
       " 'Soberbia',\n",
       " 'Soldado',\n",
       " 'Soledad',\n",
       " 'Solidaridad',\n",
       " 'Sombra',\n",
       " 'Soñar',\n",
       " 'Sueño',\n",
       " 'Temer',\n",
       " 'Tiempo',\n",
       " 'Tranquilidad',\n",
       " 'Tristeza',\n",
       " 'Unión',\n",
       " 'Valorar',\n",
       " 'Verdad',\n",
       " 'Vida',\n",
       " 'Violencia',\n",
       " 'Virtud',\n",
       " 'Visible',\n",
       " 'Viveza',\n",
       " 'Voluntad',\n",
       " 'Vínculo',\n",
       " 'profesor',\n",
       " 'Árbol'}"
      ]
     },
     "execution_count": 24,
     "metadata": {},
     "output_type": "execute_result"
    }
   ],
   "source": [
    "palabras_definidas"
   ]
  },
  {
   "cell_type": "markdown",
   "metadata": {},
   "source": [
    "## Words"
   ]
  },
  {
   "cell_type": "code",
   "execution_count": 25,
   "metadata": {
    "collapsed": false
   },
   "outputs": [
    {
     "data": {
      "text/plain": [
       "'!\"#$%&\\'()*+,-./:;<=>?@[\\\\]^_`{|}~¡¿“”…'"
      ]
     },
     "execution_count": 25,
     "metadata": {},
     "output_type": "execute_result"
    }
   ],
   "source": [
    "punctuation = punctuation + '¡¿“”…'\n",
    "punctuation"
   ]
  },
  {
   "cell_type": "code",
   "execution_count": 26,
   "metadata": {
    "collapsed": true
   },
   "outputs": [],
   "source": [
    "def normalize(text):\n",
    "    text = text.lower()\n",
    "    text = remove_accent_marks(text)\n",
    "    for p in punctuation:\n",
    "        text = text.replace(p, '')\n",
    "    return text"
   ]
  },
  {
   "cell_type": "code",
   "execution_count": 27,
   "metadata": {
    "collapsed": false
   },
   "outputs": [],
   "source": [
    "total_words = []\n",
    "\n",
    "for df in dfs:\n",
    "    for c in df:\n",
    "        for x in df[c]:\n",
    "            text = normalize(x)\n",
    "            words = [w for w in word_tokenize(text)]\n",
    "            total_words.extend(words)"
   ]
  },
  {
   "cell_type": "code",
   "execution_count": 28,
   "metadata": {
    "collapsed": false
   },
   "outputs": [
    {
     "data": {
      "text/plain": [
       "23063"
      ]
     },
     "execution_count": 28,
     "metadata": {},
     "output_type": "execute_result"
    }
   ],
   "source": [
    "len(total_words)"
   ]
  },
  {
   "cell_type": "code",
   "execution_count": 29,
   "metadata": {
    "collapsed": true
   },
   "outputs": [],
   "source": [
    "total_words_freq = Counter(total_words)"
   ]
  },
  {
   "cell_type": "code",
   "execution_count": 30,
   "metadata": {
    "collapsed": false
   },
   "outputs": [
    {
     "data": {
      "text/plain": [
       "[('que', 1731),\n",
       " ('la', 1064),\n",
       " ('y', 771),\n",
       " ('de', 697),\n",
       " ('a', 486),\n",
       " ('paz', 461),\n",
       " ('es', 422),\n",
       " ('se', 418),\n",
       " ('en', 414),\n",
       " ('con', 385)]"
      ]
     },
     "execution_count": 30,
     "metadata": {},
     "output_type": "execute_result"
    }
   ],
   "source": [
    "total_words_freq.most_common(10)"
   ]
  },
  {
   "cell_type": "code",
   "execution_count": 31,
   "metadata": {
    "collapsed": false
   },
   "outputs": [],
   "source": [
    "stop_words = [remove_accent_marks(w) for w in stopwords.words('spanish')]"
   ]
  },
  {
   "cell_type": "code",
   "execution_count": 32,
   "metadata": {
    "collapsed": false
   },
   "outputs": [],
   "source": [
    "total_nonstop_words = [w for w in total_words if w not in stop_words]"
   ]
  },
  {
   "cell_type": "code",
   "execution_count": 33,
   "metadata": {
    "collapsed": false
   },
   "outputs": [
    {
     "data": {
      "text/plain": [
       "10593"
      ]
     },
     "execution_count": 33,
     "metadata": {},
     "output_type": "execute_result"
    }
   ],
   "source": [
    "len(total_nonstop_words)"
   ]
  },
  {
   "cell_type": "code",
   "execution_count": 34,
   "metadata": {
    "collapsed": true
   },
   "outputs": [],
   "source": [
    "total_nonstop_words_freq = Counter(total_nonstop_words)"
   ]
  },
  {
   "cell_type": "code",
   "execution_count": 35,
   "metadata": {
    "collapsed": false
   },
   "outputs": [
    {
     "data": {
      "text/plain": [
       "[('paz', 461),\n",
       " ('guerra', 343),\n",
       " ('da', 245),\n",
       " ('alimenta', 175),\n",
       " ('cosas', 161),\n",
       " ('personas', 154),\n",
       " ('persona', 132),\n",
       " ('pudieras', 131),\n",
       " ('dirias', 131),\n",
       " ('5', 127)]"
      ]
     },
     "execution_count": 35,
     "metadata": {},
     "output_type": "execute_result"
    }
   ],
   "source": [
    "total_nonstop_words_freq.most_common(10)"
   ]
  },
  {
   "cell_type": "markdown",
   "metadata": {},
   "source": [
    "## Spelling"
   ]
  },
  {
   "cell_type": "code",
   "execution_count": 36,
   "metadata": {
    "collapsed": false
   },
   "outputs": [
    {
     "name": "stdout",
     "output_type": "stream",
     "text": [
      "CPU times: user 13.6 s, sys: 6.56 ms, total: 13.6 s\n",
      "Wall time: 13.6 s\n"
     ]
    }
   ],
   "source": [
    "%%time\n",
    "\n",
    "correct_spelling = {}\n",
    "\n",
    "for w in total_words_freq:\n",
    "    if w not in correct_spelling:\n",
    "        if w in lexicon:\n",
    "            correct_spelling[w] = w\n",
    "        else:\n",
    "            combs = combinations(w)\n",
    "            freqs = [(c, total_words_freq[c]) for c in combs if c in total_words_freq and c in lexicon]\n",
    "            if freqs:\n",
    "                freqs.sort(key=lambda x: x[1], reverse=True)\n",
    "                correct_spelling[w] = freqs[0][0]\n",
    "            else:\n",
    "                freqs = [(c, total_words_freq[c]) for c in es.suggest(w) if c in total_words_freq]\n",
    "                if freqs:\n",
    "                    freqs.sort(key=lambda x: x[1], reverse=True)\n",
    "                    correct_spelling[w] = freqs[0][0]\n",
    "                else:\n",
    "                    correct_spelling[w] = w"
   ]
  },
  {
   "cell_type": "code",
   "execution_count": 37,
   "metadata": {
    "collapsed": false
   },
   "outputs": [
    {
     "data": {
      "text/plain": [
       "2802"
      ]
     },
     "execution_count": 37,
     "metadata": {},
     "output_type": "execute_result"
    }
   ],
   "source": [
    "len(correct_spelling) # it includes stop words"
   ]
  },
  {
   "cell_type": "code",
   "execution_count": 38,
   "metadata": {
    "collapsed": false
   },
   "outputs": [
    {
     "data": {
      "text/plain": [
       "True"
      ]
     },
     "execution_count": 38,
     "metadata": {},
     "output_type": "execute_result"
    }
   ],
   "source": [
    "'y' in stop_words"
   ]
  },
  {
   "cell_type": "code",
   "execution_count": 39,
   "metadata": {
    "collapsed": false
   },
   "outputs": [],
   "source": [
    "total_corrected_nonstop_words = [correct_spelling[w] for w in total_nonstop_words]\n",
    "total_corrected_nonstop_words = [w for w in total_corrected_nonstop_words if w not in stop_words]"
   ]
  },
  {
   "cell_type": "code",
   "execution_count": 40,
   "metadata": {
    "collapsed": false
   },
   "outputs": [
    {
     "data": {
      "text/plain": [
       "10078"
      ]
     },
     "execution_count": 40,
     "metadata": {},
     "output_type": "execute_result"
    }
   ],
   "source": [
    "len(total_corrected_nonstop_words)"
   ]
  },
  {
   "cell_type": "code",
   "execution_count": 41,
   "metadata": {
    "collapsed": true
   },
   "outputs": [],
   "source": [
    "total_corrected_nonstop_words_freq = Counter(total_corrected_nonstop_words)"
   ]
  },
  {
   "cell_type": "code",
   "execution_count": 42,
   "metadata": {
    "collapsed": false
   },
   "outputs": [
    {
     "data": {
      "text/plain": [
       "[('paz', 468),\n",
       " ('guerra', 423),\n",
       " ('da', 245),\n",
       " ('alimenta', 175),\n",
       " ('cosas', 161),\n",
       " ('personas', 155),\n",
       " ('hablar', 141),\n",
       " ('persona', 135),\n",
       " ('pudieras', 133),\n",
       " ('dirias', 131),\n",
       " ('pais', 113),\n",
       " ('vida', 110),\n",
       " ('miedo', 92),\n",
       " ('amor', 89),\n",
       " ('sueña', 88),\n",
       " ('q', 87),\n",
       " ('hacer', 83),\n",
       " ('alegria', 82),\n",
       " ('ser', 82),\n",
       " ('violencia', 77),\n",
       " ('alguien', 68),\n",
       " ('dice', 65),\n",
       " ('años', 64),\n",
       " ('habla', 64),\n",
       " ('tener', 63),\n",
       " ('hace', 62),\n",
       " ('diria', 61),\n",
       " ('viste', 50),\n",
       " ('mundo', 48),\n",
       " ('familia', 46),\n",
       " ('tristeza', 44),\n",
       " ('entrar', 43),\n",
       " ('bien', 43),\n",
       " ('gente', 42),\n",
       " ('demas', 42),\n",
       " ('vez', 40),\n",
       " ('quiero', 38),\n",
       " ('mal', 37),\n",
       " ('muerte', 37),\n",
       " ('15', 35),\n",
       " ('razones', 35),\n",
       " ('tranquilidad', 34),\n",
       " ('siento', 33),\n",
       " ('odio', 33),\n",
       " ('matar', 33),\n",
       " ('etc', 33),\n",
       " ('significa', 31),\n",
       " ('sueñas', 30),\n",
       " ('gracias', 30),\n",
       " ('maldad', 29),\n",
       " ('bueno', 28),\n",
       " ('solo', 28),\n",
       " ('armonia', 28),\n",
       " ('daño', 27),\n",
       " ('hacen', 27),\n",
       " ('felicidad', 27),\n",
       " ('asi', 26),\n",
       " ('mejor', 26),\n",
       " ('preguntaria', 24),\n",
       " ('niños', 24),\n",
       " ('camisa', 24),\n",
       " ('buena', 24),\n",
       " ('sueño', 24),\n",
       " ('ayudar', 23),\n",
       " ('respeto', 23),\n",
       " ('mama', 22),\n",
       " ('pantalon', 22),\n",
       " ('halla', 22),\n",
       " ('pelear', 21),\n",
       " ('vivir', 21),\n",
       " ('malo', 21),\n",
       " ('siempre', 21),\n",
       " ('buenas', 21),\n",
       " ('pudiera', 21),\n",
       " ('ves', 20),\n",
       " ('cariño', 20),\n",
       " ('familias', 20),\n",
       " ('cada', 20),\n",
       " ('haga', 20),\n",
       " ('amigos', 19),\n",
       " ('problemas', 18),\n",
       " ('biste', 17),\n",
       " ('paso', 17),\n",
       " ('mismo', 17),\n",
       " ('blanco', 17),\n",
       " ('muchas', 17),\n",
       " ('poder', 17),\n",
       " ('plata', 17),\n",
       " ('cosa', 16),\n",
       " ('nunca', 16),\n",
       " ('oscuridad', 15),\n",
       " ('corazon', 15),\n",
       " ('sentimiento', 15),\n",
       " ('dios', 15),\n",
       " ('haciendo', 15),\n",
       " ('dolor', 15),\n",
       " ('destruir', 14),\n",
       " ('mala', 14),\n",
       " ('respetar', 14),\n",
       " ('verde', 14),\n",
       " ('ase', 14),\n",
       " ('sufrimiento', 14),\n",
       " ('verdad', 14),\n",
       " ('temor', 14),\n",
       " ('blanca', 14),\n",
       " ('justicia', 14),\n",
       " ('matan', 14),\n",
       " ('10', 14),\n",
       " ('rencor', 13),\n",
       " ('perdona', 13),\n",
       " ('libertad', 13),\n",
       " ('dan', 13),\n",
       " ('lugar', 13),\n",
       " ('gusta', 13),\n",
       " ('veo', 13),\n",
       " ('amar', 13),\n",
       " ('malos', 13),\n",
       " ('tranquilo', 13),\n",
       " ('querer', 13),\n",
       " ('injusticia', 13),\n",
       " ('hecho', 13),\n",
       " ('hablando', 13),\n",
       " ('tan', 13),\n",
       " ('quiere', 13),\n",
       " ('todas', 12),\n",
       " ('ayuda', 12),\n",
       " ('pues', 12),\n",
       " ('padres', 12),\n",
       " ('saber', 12),\n",
       " ('decir', 12),\n",
       " ('ver', 12),\n",
       " ('dia', 12),\n",
       " ('perdon', 12),\n",
       " ('puede', 11),\n",
       " ('seguir', 11),\n",
       " ('zapatos', 11),\n",
       " ('grande', 11),\n",
       " ('armas', 11),\n",
       " ('papa', 11),\n",
       " ('siga', 11),\n",
       " ('harias', 11),\n",
       " ('futuro', 11),\n",
       " ('sentir', 11),\n",
       " ('quieren', 11),\n",
       " ('cinco', 11),\n",
       " ('mucha', 11),\n",
       " ('inocentes', 10),\n",
       " ('hermano', 10),\n",
       " ('feliz', 10),\n",
       " ('va', 10),\n",
       " ('inocente', 10),\n",
       " ('acabar', 10),\n",
       " ('alguna', 10),\n",
       " ('abandono', 10),\n",
       " ('dejen', 10),\n",
       " ('creo', 10),\n",
       " ('nadie', 10),\n",
       " ('hacerle', 10),\n",
       " ('arias', 10),\n",
       " ('5c', 9),\n",
       " ('sigan', 9),\n",
       " ('buen', 9),\n",
       " ('habana', 9),\n",
       " ('alegre', 9),\n",
       " ('vidas', 9),\n",
       " ('adelante', 9),\n",
       " ('deseo', 9),\n",
       " ('perdonar', 9),\n",
       " ('cumplir', 9),\n",
       " ('negro', 9),\n",
       " ('triste', 9),\n",
       " ('voy', 9),\n",
       " ('gran', 9),\n",
       " ('toda', 9),\n",
       " ('vas', 8),\n",
       " ('hicieran', 8),\n",
       " ('amistad', 8),\n",
       " ('azul', 8),\n",
       " ('lado', 8),\n",
       " ('manera', 8),\n",
       " ('presidente', 8),\n",
       " ('ama', 8),\n",
       " ('planeta', 8),\n",
       " ('forma', 8),\n",
       " ('sueños', 8),\n",
       " ('malas', 8),\n",
       " ('cualquier', 8),\n",
       " ('cuba', 8),\n",
       " ('necesita', 8),\n",
       " ('podemos', 8),\n",
       " ('calle', 8),\n",
       " ('muertes', 8),\n",
       " ('ve', 8),\n",
       " ('ninguna', 8),\n",
       " ('palabra', 8),\n",
       " ('dar', 8),\n",
       " ('razon', 8),\n",
       " ('pienso', 8),\n",
       " ('sola', 8),\n",
       " ('haces', 8)]"
      ]
     },
     "execution_count": 42,
     "metadata": {},
     "output_type": "execute_result"
    }
   ],
   "source": [
    "total_corrected_nonstop_words_freq.most_common(200)"
   ]
  },
  {
   "cell_type": "markdown",
   "metadata": {},
   "source": [
    "## Topics"
   ]
  },
  {
   "cell_type": "code",
   "execution_count": 43,
   "metadata": {
    "collapsed": false
   },
   "outputs": [],
   "source": [
    "topics = {\n",
    "    'paz': [('paz', 468),],\n",
    "    'ámbito_temporal': [('años', 64), ('siempre', 21), ('nunca', 16), ('dia', 12),],\n",
    "    'familia': [('familia', 46), ('mama', 22), ('familias', 20), ('padres', 12), ('papa', 11), ('hermano', 10),],\n",
    "    'vida': [('vida', 110), ('vivir', 21), ('vidas', 9),],\n",
    "    'gente': [('personas', 155), ('persona', 135), ('alguien', 68), ('demas', 42), ('gente', 42), ('niños', 24),],\n",
    "    'amor': [('amor', 89), ('cariño', 20), ('corazon', 15), ('querer', 13), ('amar', 13), ('ama', 8),],\n",
    "    'niños': [],\n",
    "    'perdón': [('perdona', 13), ('perdon', 12), ('perdonar', 9),],\n",
    "    'ámbito_espacial': [('pais', 113), ('mundo', 48), ('lugar', 13), ('habana', 9), ('calle', 8), ('cuba', 8), ('planeta', 8),],\n",
    "    'amistad': [('amigos', 19), ('amistad', 8),],\n",
    "    'tolerancia': [('respeto', 23), ('respetar', 14),],\n",
    "    'patriotismo': [],\n",
    "    'violencia': [('guerra', 423), ('violencia', 77), ('muerte', 37), ('matar', 33), ('daño', 27), ('pelear', 21), ('dolor', 15), ('sufrimiento', 14), ('destruir', 14), ('armas', 11), ('muertes', 8),],\n",
    "    'compañeros': [],\n",
    "    'solidaridad': [('ayudar', 23), ('ayuda', 12), ('necesita', 8),],\n",
    "    'comunicación': [('hablar', 141), ('dirias', 131), ('dice', 65), ('habla', 64), ('diria', 61), ('razones', 35), ('hablando', 13), ('decir', 12), ('palabra', 8), ('razon', 8),],\n",
    "    'conflicto': [('problemas', 18),],\n",
    "    'solución': [],\n",
    "    'felicidad': [('alegria', 82), ('felicidad', 27), ('feliz', 10), ('alegre', 9),],\n",
    "    'religión': [('dios', 15), ('fe', 8),],\n",
    "    'animales': [],\n",
    "    'educación': [],\n",
    "    'rencor': [('odio', 33), ('rencor', 13),],\n",
    "    'agradecimiento': [('gracias', 30), ],\n",
    "    'jóvenes': [],\n",
    "    'paz_interior': [('tranquilidad', 34), ('armonia', 28), ('tranquilo', 13),],\n",
    "    'agua': [],\n",
    "    'tristeza': [('tristeza', 44), ('triste', 9),],\n",
    "    'miedo': [('miedo', 92), ('oscuridad', 15), ('temor', 14),],\n",
    "    'deseo': [('pudieras', 133), ('sueña', 88), ('quiero', 38), ('sueñas', 30), ('sueño', 24), ('pudiera', 21), ('futuro', 11), ('seguir', 11), ('adelante', 9), ('cumplir', 9), ('deseo', 9), ('sueños', 8),],\n",
    "    'ética': [('bien', 43), ('mal', 37), ('maldad', 29), ('bueno', 28), ('malo', 21), ('malos', 13),],\n",
    "    'ropa': [('camisa', 24), ('pantalon', 22), ('zapatos', 11),],\n",
    "    'dinero': [('plata', 17),],\n",
    "    'sentimiento': [('sentimiento', 15), ('sentir', 11),],\n",
    "    'color': [('blanco', 17), ('verde', 14), ('blanca', 14), ('negro', 9), ('azul', 8)],\n",
    "    'justicia': [('justicia', 14), ('injusticia', 13),],\n",
    "    'libertad': [('libertad', 13),],\n",
    "    'inocencia': [('inocentes', 10), ('inocente', 10),],\n",
    "    'abandono': [('abandono', 10),],\n",
    "    'autoridad': [('presidente', 8),],\n",
    "}"
   ]
  },
  {
   "cell_type": "code",
   "execution_count": 44,
   "metadata": {
    "collapsed": false
   },
   "outputs": [],
   "source": [
    "tups = [(k, sum(map(lambda x: x[1], words)), words) for k, words in topics.items()]\n",
    "tups.sort(key=lambda x: x[1], reverse=True)"
   ]
  },
  {
   "cell_type": "code",
   "execution_count": 45,
   "metadata": {
    "collapsed": false,
    "scrolled": false
   },
   "outputs": [
    {
     "data": {
      "text/plain": [
       "[('violencia',\n",
       "  680,\n",
       "  [('guerra', 423),\n",
       "   ('violencia', 77),\n",
       "   ('muerte', 37),\n",
       "   ('matar', 33),\n",
       "   ('daño', 27),\n",
       "   ('pelear', 21),\n",
       "   ('dolor', 15),\n",
       "   ('sufrimiento', 14),\n",
       "   ('destruir', 14),\n",
       "   ('armas', 11),\n",
       "   ('muertes', 8)]),\n",
       " ('comunicación',\n",
       "  538,\n",
       "  [('hablar', 141),\n",
       "   ('dirias', 131),\n",
       "   ('dice', 65),\n",
       "   ('habla', 64),\n",
       "   ('diria', 61),\n",
       "   ('razones', 35),\n",
       "   ('hablando', 13),\n",
       "   ('decir', 12),\n",
       "   ('palabra', 8),\n",
       "   ('razon', 8)]),\n",
       " ('paz', 468, [('paz', 468)]),\n",
       " ('gente',\n",
       "  466,\n",
       "  [('personas', 155),\n",
       "   ('persona', 135),\n",
       "   ('alguien', 68),\n",
       "   ('demas', 42),\n",
       "   ('gente', 42),\n",
       "   ('niños', 24)]),\n",
       " ('deseo',\n",
       "  391,\n",
       "  [('pudieras', 133),\n",
       "   ('sueña', 88),\n",
       "   ('quiero', 38),\n",
       "   ('sueñas', 30),\n",
       "   ('sueño', 24),\n",
       "   ('pudiera', 21),\n",
       "   ('futuro', 11),\n",
       "   ('seguir', 11),\n",
       "   ('adelante', 9),\n",
       "   ('cumplir', 9),\n",
       "   ('deseo', 9),\n",
       "   ('sueños', 8)]),\n",
       " ('ámbito_espacial',\n",
       "  207,\n",
       "  [('pais', 113),\n",
       "   ('mundo', 48),\n",
       "   ('lugar', 13),\n",
       "   ('habana', 9),\n",
       "   ('calle', 8),\n",
       "   ('cuba', 8),\n",
       "   ('planeta', 8)]),\n",
       " ('ética',\n",
       "  171,\n",
       "  [('bien', 43),\n",
       "   ('mal', 37),\n",
       "   ('maldad', 29),\n",
       "   ('bueno', 28),\n",
       "   ('malo', 21),\n",
       "   ('malos', 13)]),\n",
       " ('amor',\n",
       "  158,\n",
       "  [('amor', 89),\n",
       "   ('cariño', 20),\n",
       "   ('corazon', 15),\n",
       "   ('querer', 13),\n",
       "   ('amar', 13),\n",
       "   ('ama', 8)]),\n",
       " ('vida', 140, [('vida', 110), ('vivir', 21), ('vidas', 9)]),\n",
       " ('felicidad',\n",
       "  128,\n",
       "  [('alegria', 82), ('felicidad', 27), ('feliz', 10), ('alegre', 9)]),\n",
       " ('familia',\n",
       "  121,\n",
       "  [('familia', 46),\n",
       "   ('mama', 22),\n",
       "   ('familias', 20),\n",
       "   ('padres', 12),\n",
       "   ('papa', 11),\n",
       "   ('hermano', 10)]),\n",
       " ('miedo', 121, [('miedo', 92), ('oscuridad', 15), ('temor', 14)]),\n",
       " ('ámbito_temporal',\n",
       "  113,\n",
       "  [('años', 64), ('siempre', 21), ('nunca', 16), ('dia', 12)]),\n",
       " ('paz_interior',\n",
       "  75,\n",
       "  [('tranquilidad', 34), ('armonia', 28), ('tranquilo', 13)]),\n",
       " ('color',\n",
       "  62,\n",
       "  [('blanco', 17), ('verde', 14), ('blanca', 14), ('negro', 9), ('azul', 8)]),\n",
       " ('ropa', 57, [('camisa', 24), ('pantalon', 22), ('zapatos', 11)]),\n",
       " ('tristeza', 53, [('tristeza', 44), ('triste', 9)]),\n",
       " ('rencor', 46, [('odio', 33), ('rencor', 13)]),\n",
       " ('solidaridad', 43, [('ayudar', 23), ('ayuda', 12), ('necesita', 8)]),\n",
       " ('tolerancia', 37, [('respeto', 23), ('respetar', 14)]),\n",
       " ('perdón', 34, [('perdona', 13), ('perdon', 12), ('perdonar', 9)]),\n",
       " ('agradecimiento', 30, [('gracias', 30)]),\n",
       " ('justicia', 27, [('justicia', 14), ('injusticia', 13)]),\n",
       " ('amistad', 27, [('amigos', 19), ('amistad', 8)]),\n",
       " ('sentimiento', 26, [('sentimiento', 15), ('sentir', 11)]),\n",
       " ('religión', 23, [('dios', 15), ('fe', 8)]),\n",
       " ('inocencia', 20, [('inocentes', 10), ('inocente', 10)]),\n",
       " ('conflicto', 18, [('problemas', 18)]),\n",
       " ('dinero', 17, [('plata', 17)]),\n",
       " ('libertad', 13, [('libertad', 13)]),\n",
       " ('abandono', 10, [('abandono', 10)]),\n",
       " ('autoridad', 8, [('presidente', 8)]),\n",
       " ('niños', 0, []),\n",
       " ('jóvenes', 0, []),\n",
       " ('educación', 0, []),\n",
       " ('patriotismo', 0, []),\n",
       " ('solución', 0, []),\n",
       " ('compañeros', 0, []),\n",
       " ('agua', 0, []),\n",
       " ('animales', 0, [])]"
      ]
     },
     "execution_count": 45,
     "metadata": {},
     "output_type": "execute_result"
    }
   ],
   "source": [
    "tups"
   ]
  },
  {
   "cell_type": "code",
   "execution_count": null,
   "metadata": {
    "collapsed": true
   },
   "outputs": [],
   "source": []
  }
 ],
 "metadata": {
  "kernelspec": {
   "display_name": "Python 3",
   "language": "python",
   "name": "python3"
  },
  "language_info": {
   "codemirror_mode": {
    "name": "ipython",
    "version": 3
   },
   "file_extension": ".py",
   "mimetype": "text/x-python",
   "name": "python",
   "nbconvert_exporter": "python",
   "pygments_lexer": "ipython3",
   "version": "3.4.3"
  }
 },
 "nbformat": 4,
 "nbformat_minor": 0
}
