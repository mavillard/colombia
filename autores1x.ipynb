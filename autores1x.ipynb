{
 "cells": [
  {
   "cell_type": "markdown",
   "metadata": {},
   "source": [
    "# Autores colombianos por provincias"
   ]
  },
  {
   "cell_type": "code",
   "execution_count": 1,
   "metadata": {
    "collapsed": true
   },
   "outputs": [],
   "source": [
    "import ast\n",
    "import csv\n",
    "import os\n",
    "import re\n",
    "from collections import defaultdict\n",
    "from collections import Counter\n",
    "from datetime import datetime\n",
    "from datetime import timedelta\n",
    "from string import punctuation\n",
    "\n",
    "import matplotlib\n",
    "import numpy as np\n",
    "import networkx as nx\n",
    "import pandas as pd\n",
    "import requests\n",
    "import seaborn as sns\n",
    "from geolocation.main import GoogleMaps\n",
    "from matplotlib import pyplot as plt\n",
    "from SPARQLWrapper import SPARQLWrapper, JSON\n",
    "\n",
    "from googlemaps_key import KEY"
   ]
  },
  {
   "cell_type": "markdown",
   "metadata": {},
   "source": [
    "## Autores"
   ]
  },
  {
   "cell_type": "code",
   "execution_count": 2,
   "metadata": {
    "collapsed": false
   },
   "outputs": [
    {
     "name": "stdout",
     "output_type": "stream",
     "text": [
      "CPU times: user 3.03 s, sys: 37.9 ms, total: 3.07 s\n",
      "Wall time: 3.07 s\n"
     ]
    }
   ],
   "source": [
    "%%time\n",
    "\n",
    "autores_df = pd.read_csv(\n",
    "    'autores7.csv',\n",
    "    header=0,\n",
    "    converters={\n",
    "        'GEOLOC_CAPITAL_AUTOR': ast.literal_eval,\n",
    "        'GEOLOC_CAPITAL_EJEMPLAR': ast.literal_eval\n",
    "    }\n",
    ")\n",
    "autores_df = autores_df.fillna('')"
   ]
  },
  {
   "cell_type": "code",
   "execution_count": 3,
   "metadata": {
    "collapsed": false
   },
   "outputs": [
    {
     "data": {
      "text/plain": [
       "(87200, 9)"
      ]
     },
     "execution_count": 3,
     "metadata": {},
     "output_type": "execute_result"
    }
   ],
   "source": [
    "autores_df.shape"
   ]
  },
  {
   "cell_type": "code",
   "execution_count": 4,
   "metadata": {
    "collapsed": false
   },
   "outputs": [
    {
     "data": {
      "text/html": [
       "<div>\n",
       "<table border=\"1\" class=\"dataframe\">\n",
       "  <thead>\n",
       "    <tr style=\"text-align: right;\">\n",
       "      <th></th>\n",
       "      <th>TITULO</th>\n",
       "      <th>PAIS_EJEMPLAR</th>\n",
       "      <th>AUTOR</th>\n",
       "      <th>PAIS_AUTOR</th>\n",
       "      <th>FECHA_PUB</th>\n",
       "      <th>CAPITAL_AUTOR</th>\n",
       "      <th>CAPITAL_EJEMPLAR</th>\n",
       "      <th>GEOLOC_CAPITAL_AUTOR</th>\n",
       "      <th>GEOLOC_CAPITAL_EJEMPLAR</th>\n",
       "    </tr>\n",
       "  </thead>\n",
       "  <tbody>\n",
       "    <tr>\n",
       "      <th>0</th>\n",
       "      <td>Adivina en qué pais ...</td>\n",
       "      <td>Spain</td>\n",
       "      <td>Martina Badstuber</td>\n",
       "      <td>Germany</td>\n",
       "      <td>2010</td>\n",
       "      <td>Berlin</td>\n",
       "      <td>Madrid</td>\n",
       "      <td>(52.52000659999999, 13.404954)</td>\n",
       "      <td>(40.4167754, -3.7037902)</td>\n",
       "    </tr>\n",
       "    <tr>\n",
       "      <th>1</th>\n",
       "      <td>¡No quiero hacer pipí en el orinal!</td>\n",
       "      <td>Spain</td>\n",
       "      <td>Roser Rius</td>\n",
       "      <td>Mexico</td>\n",
       "      <td>2009</td>\n",
       "      <td>Mexico City</td>\n",
       "      <td>Madrid</td>\n",
       "      <td>(19.4326077, -99.133208)</td>\n",
       "      <td>(40.4167754, -3.7037902)</td>\n",
       "    </tr>\n",
       "    <tr>\n",
       "      <th>2</th>\n",
       "      <td>Humo</td>\n",
       "      <td>Spain</td>\n",
       "      <td>Antón Fortes Torres</td>\n",
       "      <td>Spain</td>\n",
       "      <td>2008</td>\n",
       "      <td>Madrid</td>\n",
       "      <td>Madrid</td>\n",
       "      <td>(40.4167754, -3.7037902)</td>\n",
       "      <td>(40.4167754, -3.7037902)</td>\n",
       "    </tr>\n",
       "    <tr>\n",
       "      <th>3</th>\n",
       "      <td>Galleta para perros</td>\n",
       "      <td>Spain</td>\n",
       "      <td>Helen Cooper</td>\n",
       "      <td>United Kingdom</td>\n",
       "      <td>2008</td>\n",
       "      <td>London</td>\n",
       "      <td>Madrid</td>\n",
       "      <td>(51.5073509, -0.1277583)</td>\n",
       "      <td>(40.4167754, -3.7037902)</td>\n",
       "    </tr>\n",
       "    <tr>\n",
       "      <th>4</th>\n",
       "      <td>Autobio</td>\n",
       "      <td>Spain</td>\n",
       "      <td>Cyril Pedrosa</td>\n",
       "      <td>France</td>\n",
       "      <td>2009</td>\n",
       "      <td>Paris</td>\n",
       "      <td>Madrid</td>\n",
       "      <td>(48.856614, 2.3522219)</td>\n",
       "      <td>(40.4167754, -3.7037902)</td>\n",
       "    </tr>\n",
       "  </tbody>\n",
       "</table>\n",
       "</div>"
      ],
      "text/plain": [
       "                                TITULO PAIS_EJEMPLAR                AUTOR  \\\n",
       "0              Adivina en qué pais ...         Spain    Martina Badstuber   \n",
       "1  ¡No quiero hacer pipí en el orinal!         Spain           Roser Rius   \n",
       "2                                 Humo         Spain  Antón Fortes Torres   \n",
       "3                  Galleta para perros         Spain         Helen Cooper   \n",
       "4                              Autobio         Spain        Cyril Pedrosa   \n",
       "\n",
       "       PAIS_AUTOR  FECHA_PUB CAPITAL_AUTOR CAPITAL_EJEMPLAR  \\\n",
       "0         Germany       2010        Berlin           Madrid   \n",
       "1          Mexico       2009   Mexico City           Madrid   \n",
       "2           Spain       2008        Madrid           Madrid   \n",
       "3  United Kingdom       2008        London           Madrid   \n",
       "4          France       2009         Paris           Madrid   \n",
       "\n",
       "             GEOLOC_CAPITAL_AUTOR   GEOLOC_CAPITAL_EJEMPLAR  \n",
       "0  (52.52000659999999, 13.404954)  (40.4167754, -3.7037902)  \n",
       "1        (19.4326077, -99.133208)  (40.4167754, -3.7037902)  \n",
       "2        (40.4167754, -3.7037902)  (40.4167754, -3.7037902)  \n",
       "3        (51.5073509, -0.1277583)  (40.4167754, -3.7037902)  \n",
       "4          (48.856614, 2.3522219)  (40.4167754, -3.7037902)  "
      ]
     },
     "execution_count": 4,
     "metadata": {},
     "output_type": "execute_result"
    }
   ],
   "source": [
    "autores_df.head()"
   ]
  },
  {
   "cell_type": "markdown",
   "metadata": {},
   "source": [
    "## Autores colombianos"
   ]
  },
  {
   "cell_type": "code",
   "execution_count": 5,
   "metadata": {
    "collapsed": false
   },
   "outputs": [],
   "source": [
    "autores_colombianos_df = autores_df[autores_df['PAIS_AUTOR'] == 'Colombia']"
   ]
  },
  {
   "cell_type": "code",
   "execution_count": 6,
   "metadata": {
    "collapsed": false
   },
   "outputs": [
    {
     "data": {
      "text/plain": [
       "(5551, 9)"
      ]
     },
     "execution_count": 6,
     "metadata": {},
     "output_type": "execute_result"
    }
   ],
   "source": [
    "autores_colombianos_df.shape"
   ]
  },
  {
   "cell_type": "code",
   "execution_count": 7,
   "metadata": {
    "collapsed": false
   },
   "outputs": [
    {
     "data": {
      "text/html": [
       "<div>\n",
       "<table border=\"1\" class=\"dataframe\">\n",
       "  <thead>\n",
       "    <tr style=\"text-align: right;\">\n",
       "      <th></th>\n",
       "      <th>TITULO</th>\n",
       "      <th>PAIS_EJEMPLAR</th>\n",
       "      <th>AUTOR</th>\n",
       "      <th>PAIS_AUTOR</th>\n",
       "      <th>FECHA_PUB</th>\n",
       "      <th>CAPITAL_AUTOR</th>\n",
       "      <th>CAPITAL_EJEMPLAR</th>\n",
       "      <th>GEOLOC_CAPITAL_AUTOR</th>\n",
       "      <th>GEOLOC_CAPITAL_EJEMPLAR</th>\n",
       "    </tr>\n",
       "  </thead>\n",
       "  <tbody>\n",
       "    <tr>\n",
       "      <th>7</th>\n",
       "      <td>En la laguna más profunda</td>\n",
       "      <td>Colombia</td>\n",
       "      <td>Oscar Collazos</td>\n",
       "      <td>Colombia</td>\n",
       "      <td>2011</td>\n",
       "      <td>Bogotá</td>\n",
       "      <td>Bogotá</td>\n",
       "      <td>(4.710988599999999, -74.072092)</td>\n",
       "      <td>(4.710988599999999, -74.072092)</td>\n",
       "    </tr>\n",
       "    <tr>\n",
       "      <th>90</th>\n",
       "      <td>El gato bandido y otros cuentos</td>\n",
       "      <td>Colombia</td>\n",
       "      <td>Rafael Pombo</td>\n",
       "      <td>Colombia</td>\n",
       "      <td>2007</td>\n",
       "      <td>Bogotá</td>\n",
       "      <td>Bogotá</td>\n",
       "      <td>(4.710988599999999, -74.072092)</td>\n",
       "      <td>(4.710988599999999, -74.072092)</td>\n",
       "    </tr>\n",
       "    <tr>\n",
       "      <th>101</th>\n",
       "      <td>Cuentos pintados</td>\n",
       "      <td>Colombia</td>\n",
       "      <td>Rafael Pombo</td>\n",
       "      <td>Colombia</td>\n",
       "      <td>2011</td>\n",
       "      <td>Bogotá</td>\n",
       "      <td>Bogotá</td>\n",
       "      <td>(4.710988599999999, -74.072092)</td>\n",
       "      <td>(4.710988599999999, -74.072092)</td>\n",
       "    </tr>\n",
       "    <tr>\n",
       "      <th>120</th>\n",
       "      <td>Aleida : 10 años</td>\n",
       "      <td>Colombia</td>\n",
       "      <td>Vladdo</td>\n",
       "      <td>Colombia</td>\n",
       "      <td>2007</td>\n",
       "      <td>Bogotá</td>\n",
       "      <td>Bogotá</td>\n",
       "      <td>(4.710988599999999, -74.072092)</td>\n",
       "      <td>(4.710988599999999, -74.072092)</td>\n",
       "    </tr>\n",
       "    <tr>\n",
       "      <th>292</th>\n",
       "      <td>Mitos y leyendas indígenas de Colombia</td>\n",
       "      <td>Colombia</td>\n",
       "      <td>Javier Ocampo López</td>\n",
       "      <td>Colombia</td>\n",
       "      <td>2013</td>\n",
       "      <td>Bogotá</td>\n",
       "      <td>Bogotá</td>\n",
       "      <td>(4.710988599999999, -74.072092)</td>\n",
       "      <td>(4.710988599999999, -74.072092)</td>\n",
       "    </tr>\n",
       "  </tbody>\n",
       "</table>\n",
       "</div>"
      ],
      "text/plain": [
       "                                     TITULO PAIS_EJEMPLAR  \\\n",
       "7                 En la laguna más profunda      Colombia   \n",
       "90          El gato bandido y otros cuentos      Colombia   \n",
       "101                        Cuentos pintados      Colombia   \n",
       "120                        Aleida : 10 años      Colombia   \n",
       "292  Mitos y leyendas indígenas de Colombia      Colombia   \n",
       "\n",
       "                   AUTOR PAIS_AUTOR  FECHA_PUB CAPITAL_AUTOR CAPITAL_EJEMPLAR  \\\n",
       "7         Oscar Collazos   Colombia       2011        Bogotá           Bogotá   \n",
       "90          Rafael Pombo   Colombia       2007        Bogotá           Bogotá   \n",
       "101         Rafael Pombo   Colombia       2011        Bogotá           Bogotá   \n",
       "120               Vladdo   Colombia       2007        Bogotá           Bogotá   \n",
       "292  Javier Ocampo López   Colombia       2013        Bogotá           Bogotá   \n",
       "\n",
       "                GEOLOC_CAPITAL_AUTOR          GEOLOC_CAPITAL_EJEMPLAR  \n",
       "7    (4.710988599999999, -74.072092)  (4.710988599999999, -74.072092)  \n",
       "90   (4.710988599999999, -74.072092)  (4.710988599999999, -74.072092)  \n",
       "101  (4.710988599999999, -74.072092)  (4.710988599999999, -74.072092)  \n",
       "120  (4.710988599999999, -74.072092)  (4.710988599999999, -74.072092)  \n",
       "292  (4.710988599999999, -74.072092)  (4.710988599999999, -74.072092)  "
      ]
     },
     "execution_count": 7,
     "metadata": {},
     "output_type": "execute_result"
    }
   ],
   "source": [
    "autores_colombianos_df.head()"
   ]
  },
  {
   "cell_type": "markdown",
   "metadata": {},
   "source": [
    "## Departamentos Colombia"
   ]
  },
  {
   "cell_type": "code",
   "execution_count": 8,
   "metadata": {
    "collapsed": false
   },
   "outputs": [],
   "source": [
    "deps1_df = pd.read_csv('deps1.csv', sep='\\t', header=-1)"
   ]
  },
  {
   "cell_type": "code",
   "execution_count": 9,
   "metadata": {
    "collapsed": false
   },
   "outputs": [
    {
     "data": {
      "text/plain": [
       "(33, 8)"
      ]
     },
     "execution_count": 9,
     "metadata": {},
     "output_type": "execute_result"
    }
   ],
   "source": [
    "deps1_df.shape"
   ]
  },
  {
   "cell_type": "code",
   "execution_count": 10,
   "metadata": {
    "collapsed": false
   },
   "outputs": [
    {
     "data": {
      "text/html": [
       "<div>\n",
       "<table border=\"1\" class=\"dataframe\">\n",
       "  <thead>\n",
       "    <tr style=\"text-align: right;\">\n",
       "      <th></th>\n",
       "      <th>0</th>\n",
       "      <th>1</th>\n",
       "      <th>2</th>\n",
       "      <th>3</th>\n",
       "      <th>4</th>\n",
       "      <th>5</th>\n",
       "      <th>6</th>\n",
       "      <th>7</th>\n",
       "    </tr>\n",
       "  </thead>\n",
       "  <tbody>\n",
       "    <tr>\n",
       "      <th>0</th>\n",
       "      <td>0</td>\n",
       "      <td>Capital District</td>\n",
       "      <td>Enrique Peñalosa</td>\n",
       "      <td>CR</td>\n",
       "      <td>Bogotá</td>\n",
       "      <td>1,587</td>\n",
       "      <td>8,254,722</td>\n",
       "      <td>1538</td>\n",
       "    </tr>\n",
       "    <tr>\n",
       "      <th>1</th>\n",
       "      <td>1</td>\n",
       "      <td>Amazonas</td>\n",
       "      <td>Manuel Antonio Carebilla Cuéllar</td>\n",
       "      <td>CR</td>\n",
       "      <td>Leticia</td>\n",
       "      <td>109,665</td>\n",
       "      <td>80,360</td>\n",
       "      <td>1991</td>\n",
       "    </tr>\n",
       "    <tr>\n",
       "      <th>2</th>\n",
       "      <td>2</td>\n",
       "      <td>Antioquia</td>\n",
       "      <td>Luis Pérez</td>\n",
       "      <td>Liberal</td>\n",
       "      <td>Medellín</td>\n",
       "      <td>63,612</td>\n",
       "      <td>5,750,478</td>\n",
       "      <td>1826</td>\n",
       "    </tr>\n",
       "    <tr>\n",
       "      <th>3</th>\n",
       "      <td>3</td>\n",
       "      <td>Arauca</td>\n",
       "      <td>Ricardo Alvarado Bestene</td>\n",
       "      <td>La U</td>\n",
       "      <td>Arauca</td>\n",
       "      <td>23,818</td>\n",
       "      <td>282,302</td>\n",
       "      <td>1991</td>\n",
       "    </tr>\n",
       "    <tr>\n",
       "      <th>4</th>\n",
       "      <td>4</td>\n",
       "      <td>Atlántico</td>\n",
       "      <td>Eduardo I. Verano de la Rosa</td>\n",
       "      <td>Liberal</td>\n",
       "      <td>Barranquilla</td>\n",
       "      <td>3,388</td>\n",
       "      <td>2,365,663</td>\n",
       "      <td>1910</td>\n",
       "    </tr>\n",
       "  </tbody>\n",
       "</table>\n",
       "</div>"
      ],
      "text/plain": [
       "   0                  1                                  2         3  \\\n",
       "0  0  Capital District                   Enrique Peñalosa        CR    \n",
       "1  1          Amazonas   Manuel Antonio Carebilla Cuéllar        CR    \n",
       "2  2         Antioquia                         Luis Pérez   Liberal    \n",
       "3  3            Arauca           Ricardo Alvarado Bestene      La U    \n",
       "4  4         Atlántico       Eduardo I. Verano de la Rosa   Liberal    \n",
       "\n",
       "               4         5           6     7  \n",
       "0        Bogotá     1,587   8,254,722   1538  \n",
       "1       Leticia   109,665      80,360   1991  \n",
       "2      Medellín    63,612   5,750,478   1826  \n",
       "3        Arauca    23,818     282,302   1991  \n",
       "4  Barranquilla     3,388   2,365,663   1910  "
      ]
     },
     "execution_count": 10,
     "metadata": {},
     "output_type": "execute_result"
    }
   ],
   "source": [
    "deps1_df.head()"
   ]
  },
  {
   "cell_type": "code",
   "execution_count": 11,
   "metadata": {
    "collapsed": false
   },
   "outputs": [],
   "source": [
    "deps1_df[1] = deps1_df.apply(lambda x: x[1].strip(), axis=1)"
   ]
  },
  {
   "cell_type": "code",
   "execution_count": 12,
   "metadata": {
    "collapsed": true
   },
   "outputs": [],
   "source": [
    "deps1_set = set(deps1_df[1])"
   ]
  },
  {
   "cell_type": "code",
   "execution_count": 13,
   "metadata": {
    "collapsed": false
   },
   "outputs": [],
   "source": [
    "deps2_df = pd.read_csv('deps2.txt', header=-1)"
   ]
  },
  {
   "cell_type": "code",
   "execution_count": 14,
   "metadata": {
    "collapsed": false
   },
   "outputs": [
    {
     "data": {
      "text/plain": [
       "(33, 1)"
      ]
     },
     "execution_count": 14,
     "metadata": {},
     "output_type": "execute_result"
    }
   ],
   "source": [
    "deps2_df.shape"
   ]
  },
  {
   "cell_type": "code",
   "execution_count": 15,
   "metadata": {
    "collapsed": false
   },
   "outputs": [
    {
     "data": {
      "text/html": [
       "<div>\n",
       "<table border=\"1\" class=\"dataframe\">\n",
       "  <thead>\n",
       "    <tr style=\"text-align: right;\">\n",
       "      <th></th>\n",
       "      <th>0</th>\n",
       "    </tr>\n",
       "  </thead>\n",
       "  <tbody>\n",
       "    <tr>\n",
       "      <th>0</th>\n",
       "      <td>Antioquia</td>\n",
       "    </tr>\n",
       "    <tr>\n",
       "      <th>1</th>\n",
       "      <td>Caldas</td>\n",
       "    </tr>\n",
       "    <tr>\n",
       "      <th>2</th>\n",
       "      <td>Bogotá D.C.</td>\n",
       "    </tr>\n",
       "    <tr>\n",
       "      <th>3</th>\n",
       "      <td>Bolívar</td>\n",
       "    </tr>\n",
       "    <tr>\n",
       "      <th>4</th>\n",
       "      <td>Córdoba</td>\n",
       "    </tr>\n",
       "  </tbody>\n",
       "</table>\n",
       "</div>"
      ],
      "text/plain": [
       "             0\n",
       "0    Antioquia\n",
       "1       Caldas\n",
       "2  Bogotá D.C.\n",
       "3      Bolívar\n",
       "4      Córdoba"
      ]
     },
     "execution_count": 15,
     "metadata": {},
     "output_type": "execute_result"
    }
   ],
   "source": [
    "deps2_df.head()"
   ]
  },
  {
   "cell_type": "code",
   "execution_count": 16,
   "metadata": {
    "collapsed": false
   },
   "outputs": [],
   "source": [
    "deps2_df[0] = deps2_df.apply(lambda x: x[0].strip(), axis=1)"
   ]
  },
  {
   "cell_type": "code",
   "execution_count": 17,
   "metadata": {
    "collapsed": true
   },
   "outputs": [],
   "source": [
    "deps2_set = set(deps2_df[0])"
   ]
  },
  {
   "cell_type": "code",
   "execution_count": 18,
   "metadata": {
    "collapsed": false
   },
   "outputs": [
    {
     "data": {
      "text/plain": [
       "{'Bogotá D.C.', 'Capital District'}"
      ]
     },
     "execution_count": 18,
     "metadata": {},
     "output_type": "execute_result"
    }
   ],
   "source": [
    "deps1_set.union(deps2_set).difference(deps1_set.intersection(deps2_set))"
   ]
  },
  {
   "cell_type": "code",
   "execution_count": 19,
   "metadata": {
    "collapsed": false
   },
   "outputs": [],
   "source": [
    "deps_mappings = {}\n",
    "for d in deps1_set:\n",
    "    deps_mappings[d] = d\n",
    "deps_mappings['Capital District'] = 'Bogotá D.C.'"
   ]
  },
  {
   "cell_type": "markdown",
   "metadata": {},
   "source": [
    "## Ciudades y departamentos"
   ]
  },
  {
   "cell_type": "code",
   "execution_count": 20,
   "metadata": {
    "collapsed": true
   },
   "outputs": [],
   "source": [
    "dtypes = {\n",
    "    'Ciudad': str,\n",
    "    'Población': np.int32,\n",
    "    'Departamento': str,\n",
    "}\n",
    "\n",
    "ciudades_df = pd.read_csv(\n",
    "    'ciudades_colombia.csv',\n",
    "    sep='\\t',\n",
    "    header=-1,\n",
    "    names=['Wiki index', 'Ciudad', 'Población', 'Departamento'],\n",
    "    usecols=['Ciudad', 'Población', 'Departamento'],\n",
    "    dtype=dtypes,\n",
    "    thousands='.',\n",
    ")"
   ]
  },
  {
   "cell_type": "code",
   "execution_count": 21,
   "metadata": {
    "collapsed": true
   },
   "outputs": [],
   "source": [
    "departamentos_sr = pd.Series(list(ciudades_df['Departamento']), index=ciudades_df['Ciudad'])"
   ]
  },
  {
   "cell_type": "markdown",
   "metadata": {},
   "source": [
    "## Ciudades y departamentos autores"
   ]
  },
  {
   "cell_type": "code",
   "execution_count": 22,
   "metadata": {
    "collapsed": false
   },
   "outputs": [],
   "source": [
    "def get_ciudad_departamento_autor_data_wkd(name, lang):\n",
    "    template = \"\"\"\n",
    "        PREFIX wd: <http://www.wikidata.org/entity/>\n",
    "        PREFIX wdt: <http://www.wikidata.org/prop/direct/>\n",
    "        PREFIX rdfs: <http://www.w3.org/2000/01/rdf-schema#>\n",
    "\n",
    "        SELECT ?authorLabel ?pobLabel ?depLabel\n",
    "        WHERE {{\n",
    "            BIND(\"{0}\"@{1} AS ?authorLabel) .\n",
    "            ?author rdfs:label ?authorLabel .\n",
    "            ?author wdt:P31 wd:Q5 .\n",
    "            OPTIONAL {{ ?author wdt:P106 wd:Q36180 . }}\n",
    "            ?author wdt:P19 ?pob .\n",
    "            ?pob wdt:P31 wd:Q2555896 .\n",
    "            ?pob rdfs:label ?pobLabel .\n",
    "            ?pob wdt:P131 ?dep .\n",
    "            ?dep wdt:P31 wd:Q215655 .\n",
    "            ?dep rdfs:label ?depLabel .\n",
    "            FILTER(lang(?pobLabel)=\"{1}\")\n",
    "            FILTER(lang(?depLabel)=\"{1}\")\n",
    "        }}\n",
    "    \"\"\"\n",
    "    query = template.format(name, lang)\n",
    "    url = 'https://query.wikidata.org/bigdata/namespace/wdq/sparql'\n",
    "    data = requests.get(url, params={'query': query, 'format': 'json'}).json()\n",
    "    return data"
   ]
  },
  {
   "cell_type": "code",
   "execution_count": 32,
   "metadata": {
    "collapsed": true
   },
   "outputs": [],
   "source": [
    "sparql_dbp = SPARQLWrapper(\"http://dbpedia.org/sparql\")\n",
    "\n",
    "def get_ciudad_departamento_autor_data_dbp(name, lang):\n",
    "    template = \"\"\"\n",
    "        PREFIX dbo: <http://dbpedia.org/ontology/>\n",
    "        PREFIX dbp: <http://dbpedia.org/property/>\n",
    "        PREFIX rdf: <http://www.w3.org/1999/02/22-rdf-syntax-ns#>\n",
    "        PREFIX rdfs: <http://www.w3.org/2000/01/rdf-schema#>\n",
    "        PREFIX yago: <http://dbpedia.org/class/yago/>\n",
    "\n",
    "        SELECT ?authorLabel ?pobLabel ?depLabel\n",
    "        WHERE {{\n",
    "            BIND(\"{0}\"@{1} AS ?authorLabel) .\n",
    "            ?author rdfs:label ?authorLabel .\n",
    "            ?author rdf:type dbo:Person .\n",
    "            OPTIONAL {{ ?author rdf:type dbo:Writer . }}\n",
    "            ?author dbp:birthPlace ?pob .\n",
    "            ?pob rdf:type dbo:Place .\n",
    "            ?pob rdfs:label ?pobLabel .\n",
    "            ?pob dbo:isPartOf ?dep .\n",
    "            ?dep rdf:type yago:WikicatDepartmentsOfColombia .\n",
    "            ?dep rdfs:label ?depLabel .\n",
    "            FILTER(lang(?pobLabel)=\"{1}\")\n",
    "            FILTER(lang(?depLabel)=\"{1}\")\n",
    "        }}\n",
    "    \"\"\"\n",
    "    query = template.format(name, lang)\n",
    "    sparql_dbp.setQuery(query)\n",
    "    sparql_dbp.setReturnFormat(JSON)\n",
    "    data = sparql_dbp.query().convert()\n",
    "    return data"
   ]
  },
  {
   "cell_type": "code",
   "execution_count": 24,
   "metadata": {
    "collapsed": false
   },
   "outputs": [],
   "source": [
    "def get_ciudad_departamento_autor_data(db, name, lang):\n",
    "    try:\n",
    "        if db == 'wdt':\n",
    "            data = get_ciudad_departamento_autor_data_wkd(name, lang)\n",
    "        elif db == 'dbp':\n",
    "            data = get_ciudad_departamento_autor_data_dbp(name, lang)\n",
    "\n",
    "        pobs = set(d['pobLabel']['value'] for d in data['results']['bindings'])\n",
    "        if len(pobs) == 0:\n",
    "            pob = 'UNKOWN'\n",
    "        elif len(pobs) == 1:\n",
    "            pob = pobs.pop()\n",
    "        else:\n",
    "            print('MáS DE UNA POBLACIóN PARA', name, ':', pobs)\n",
    "            pob = pobs.pop()\n",
    "\n",
    "        deps = set(d['depLabel']['value'] for d in data['results']['bindings'])\n",
    "        if len(deps) == 0:\n",
    "            dep = 'UNKNOWN'\n",
    "        elif len(deps) == 1:\n",
    "            dep = deps.pop()\n",
    "        else:\n",
    "            print('MáS DE UN DEPARTAMENTO PARA', name, ':', deps)\n",
    "            dep = deps.pop()\n",
    "    except:\n",
    "        print('ERROR EN SPARQL PARA', name)\n",
    "        pob = 'UNKNOWN'\n",
    "        dep = 'UNKNOWN'\n",
    "    return (pob, dep)"
   ]
  },
  {
   "cell_type": "code",
   "execution_count": 25,
   "metadata": {
    "collapsed": true
   },
   "outputs": [],
   "source": [
    "def get_ciudad_departamento_autor(name):\n",
    "    for lang in ['es', 'en']:\n",
    "        for db in ['wkd', 'dbp']:\n",
    "            r = get_ciudad_departamento_autor_data(db, name, lang)\n",
    "            if r != ('UNKNOWN', 'UNKNOWN'):\n",
    "                return r\n",
    "    return ('DESCONOCIDO', 'DESCONOCIDO')"
   ]
  },
  {
   "cell_type": "code",
   "execution_count": null,
   "metadata": {
    "collapsed": false
   },
   "outputs": [
    {
     "name": "stdout",
     "output_type": "stream",
     "text": [
      "ERROR EN SPARQL PARA Oscar Collazos\n",
      "ERROR EN SPARQL PARA Rafael Pombo\n",
      "ERROR EN SPARQL PARA Vladdo\n",
      "ERROR EN SPARQL PARA Javier Ocampo López\n",
      "ERROR EN SPARQL PARA Germán Arciniegas\n",
      "ERROR EN SPARQL PARA Luis Carlos Restrepo\n",
      "ERROR EN SPARQL PARA Carmelina Soto Valencia\n",
      "ERROR EN SPARQL PARA Jesús Arango Cano\n",
      "ERROR EN SPARQL PARA Luis Duque Gómez\n",
      "ERROR EN SPARQL PARA Manuel Mejía Vallejo\n",
      "ERROR EN SPARQL PARA José Eustasio Rivera\n",
      "ERROR EN SPARQL PARA Gabriel García Márquez\n",
      "ERROR EN SPARQL PARA Gonzalo Correal Urrego\n",
      "ERROR EN SPARQL PARA Celso Román\n",
      "ERROR EN SPARQL PARA Juan Gustavo Cobo Borda\n",
      "ERROR EN SPARQL PARA Claudia Rueda\n",
      "ERROR EN SPARQL PARA Giovanni Quessep\n",
      "ERROR EN SPARQL PARA Mauricio Vélez\n",
      "ERROR EN SPARQL PARA Juan Manuel Roca\n",
      "ERROR EN SPARQL PARA José María Vargas Vila\n",
      "ERROR EN SPARQL PARA Pedro Ortiz Valdivieso\n",
      "ERROR EN SPARQL PARA Andrés Caicedo Estela\n",
      "ERROR EN SPARQL PARA Gustavo Adolfo Garcés\n",
      "ERROR EN SPARQL PARA Ricardo Silva Romero\n",
      "ERROR EN SPARQL PARA Germán Castro Caycedo\n",
      "ERROR EN SPARQL PARA Roberto Burgos Cantor\n",
      "ERROR EN SPARQL PARA Leo Matiz\n",
      "ERROR EN SPARQL PARA Gonzalo Márquez Cristo\n",
      "ERROR EN SPARQL PARA Pablo Montoya\n",
      "ERROR EN SPARQL PARA Carlos Pizarro Leongómez\n",
      "ERROR EN SPARQL PARA Luis López de Mesa\n",
      "ERROR EN SPARQL PARA Héctor Abad Faciolince\n",
      "ERROR EN SPARQL PARA William Ospina\n",
      "ERROR EN SPARQL PARA Piedad Bonnett\n",
      "ERROR EN SPARQL PARA Santiago Gamboa\n",
      "ERROR EN SPARQL PARA Jorge García Usta\n",
      "ERROR EN SPARQL PARA Alfonso López Michelsen\n",
      "ERROR EN SPARQL PARA Margarita García Robayo\n",
      "ERROR EN SPARQL PARA Efraím Medina Reyes\n",
      "ERROR EN SPARQL PARA Pirry\n",
      "ERROR EN SPARQL PARA Fernando Botero\n",
      "ERROR EN SPARQL PARA María Teresa Ronderos\n",
      "ERROR EN SPARQL PARA Fernando Vallejo\n",
      "ERROR EN SPARQL PARA Octavio Escobar Giraldo\n",
      "ERROR EN SPARQL PARA Arturo Escobar\n",
      "ERROR EN SPARQL PARA Juan Pablo Escobar\n",
      "ERROR EN SPARQL PARA Iván Cepeda Castro\n",
      "ERROR EN SPARQL PARA Fernando Velásquez Velásquez\n",
      "ERROR EN SPARQL PARA José Antonio Amaya\n",
      "ERROR EN SPARQL PARA Fernando Soto Aparicio\n",
      "ERROR EN SPARQL PARA Miguel Urrutia Montoya\n",
      "ERROR EN SPARQL PARA Mauricio Santa María Salamanca\n",
      "ERROR EN SPARQL PARA Roberto Junguito Bonnet\n",
      "ERROR EN SPARQL PARA Juan Cárdenas\n",
      "ERROR EN SPARQL PARA Carlos Mario Rodríguez\n",
      "ERROR EN SPARQL PARA Juan Carlos Henao\n",
      "ERROR EN SPARQL PARA Germán Patiño Ossa\n",
      "ERROR EN SPARQL PARA Fernando Molano Vargas\n",
      "ERROR EN SPARQL PARA Julio Oñate Martínez\n",
      "ERROR EN SPARQL PARA Totó la Momposina\n",
      "ERROR EN SPARQL PARA Virginia Vallejo\n",
      "ERROR EN SPARQL PARA Juan Gabriel Vásquez\n",
      "ERROR EN SPARQL PARA Jorge Enrique Vargas\n",
      "ERROR EN SPARQL PARA Silvia Arango\n",
      "ERROR EN SPARQL PARA Orlando Fals Borda\n",
      "ERROR EN SPARQL PARA Beatriz González\n",
      "ERROR EN SPARQL PARA Jorge Zalamea\n",
      "ERROR EN SPARQL PARA Fanny Buitrago\n",
      "ERROR EN SPARQL PARA Santiago Rojas\n",
      "ERROR EN SPARQL PARA Olga Behar\n",
      "ERROR EN SPARQL PARA Arturo Abella Rodríguez\n",
      "ERROR EN SPARQL PARA Fabián Castillo\n",
      "ERROR EN SPARQL PARA Jota Mario Valencia\n",
      "ERROR EN SPARQL PARA Jaime Posada Díaz\n",
      "ERROR EN SPARQL PARA Luis Fernando Charry\n",
      "ERROR EN SPARQL PARA Jaime Castro Castro\n",
      "ERROR EN SPARQL PARA Fernando Carrillo Flórez\n",
      "ERROR EN SPARQL PARA Carlos Ariel Sánchez Torres\n",
      "ERROR EN SPARQL PARA Raúl Gómez Jattin\n",
      "ERROR EN SPARQL PARA Alberto Salcedo Ramos\n",
      "ERROR EN SPARQL PARA Daniel Samper Pizano\n",
      "ERROR EN SPARQL PARA Ernesto McCausland\n",
      "ERROR EN SPARQL PARA Alfonso Múnera Cavadía\n",
      "ERROR EN SPARQL PARA Jaime Jaramillo Escobar\n",
      "ERROR EN SPARQL PARA Adalberto Agudelo Duque\n",
      "ERROR EN SPARQL PARA Sergio Ocampo Madrid\n",
      "ERROR EN SPARQL PARA Estanislao Zuleta\n",
      "ERROR EN SPARQL PARA Antonio Cacua Prada\n",
      "ERROR EN SPARQL PARA Luis Carlos López\n",
      "ERROR EN SPARQL PARA Carlos Orlando Pardo Rodríguez\n",
      "ERROR EN SPARQL PARA Jorge Eliécer Gaitán\n",
      "ERROR EN SPARQL PARA Rafael Baena\n",
      "ERROR EN SPARQL PARA Juan Camilo Restrepo Salazar\n",
      "ERROR EN SPARQL PARA Lucas Caballero Calderón\n"
     ]
    }
   ],
   "source": [
    "%%time\n",
    "\n",
    "autores_ciudades_departamentos_dict = {}\n",
    "\n",
    "for x in autores_colombianos_df['AUTOR'].unique():\n",
    "    autores_ciudades_departamentos_dict[x] = get_ciudad_departamento_autor(x)"
   ]
  },
  {
   "cell_type": "code",
   "execution_count": null,
   "metadata": {
    "collapsed": true
   },
   "outputs": [],
   "source": [
    "%%time\n",
    "\n",
    "def process_ciudad(x):\n",
    "    return autores_ciudades_departamentos_dict[x['AUTOR']][0]\n",
    "\n",
    "autores_colombianos_df['CIUDAD_AUTOR'] = autores_colombianos_df.apply(process_ciudad, axis=1)"
   ]
  },
  {
   "cell_type": "code",
   "execution_count": null,
   "metadata": {
    "collapsed": true
   },
   "outputs": [],
   "source": [
    "%%time\n",
    "\n",
    "def process_departamento(x):\n",
    "    return autores_ciudades_departamentos_dict[x['AUTOR']][1]\n",
    "\n",
    "autores_colombianos_df['CIUDAD_AUTOR'] = autores_colombianos_df.apply(process_departamento, axis=1)"
   ]
  },
  {
   "cell_type": "markdown",
   "metadata": {},
   "source": [
    "# Saving results"
   ]
  },
  {
   "cell_type": "code",
   "execution_count": 41,
   "metadata": {
    "collapsed": true
   },
   "outputs": [],
   "source": [
    "autores_colombianos_df.to_csv('autores_colombianos_1.csv', index=False)"
   ]
  },
  {
   "cell_type": "code",
   "execution_count": null,
   "metadata": {
    "collapsed": true
   },
   "outputs": [],
   "source": []
  }
 ],
 "metadata": {
  "kernelspec": {
   "display_name": "Python 3",
   "language": "python",
   "name": "python3"
  },
  "language_info": {
   "codemirror_mode": {
    "name": "ipython",
    "version": 3
   },
   "file_extension": ".py",
   "mimetype": "text/x-python",
   "name": "python",
   "nbconvert_exporter": "python",
   "pygments_lexer": "ipython3",
   "version": "3.4.3"
  }
 },
 "nbformat": 4,
 "nbformat_minor": 1
}
