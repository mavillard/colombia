{
 "cells": [
  {
   "cell_type": "markdown",
   "metadata": {},
   "source": [
    "# Usuarios y títulos"
   ]
  },
  {
   "cell_type": "code",
   "execution_count": 1,
   "metadata": {
    "collapsed": true
   },
   "outputs": [],
   "source": [
    "import csv\n",
    "import itertools\n",
    "import os\n",
    "import re\n",
    "from collections import Counter\n",
    "from collections import defaultdict\n",
    "from datetime import datetime\n",
    "from datetime import timedelta\n",
    "from string import punctuation\n",
    "\n",
    "import matplotlib\n",
    "import numpy as np\n",
    "import pandas as pd\n",
    "import seaborn as sns\n",
    "from matplotlib import pyplot as plt\n",
    "from pandas.tslib import Timestamp"
   ]
  },
  {
   "cell_type": "markdown",
   "metadata": {},
   "source": [
    "## Socios activos 2016"
   ]
  },
  {
   "cell_type": "code",
   "execution_count": 2,
   "metadata": {
    "collapsed": false
   },
   "outputs": [
    {
     "name": "stdout",
     "output_type": "stream",
     "text": [
      "CPU times: user 365 ms, sys: 11.9 ms, total: 377 ms\n",
      "Wall time: 376 ms\n"
     ]
    }
   ],
   "source": [
    "%%time\n",
    "\n",
    "dtypes = {\n",
    "    'CODBAR': str,\n",
    "    'Sucursal': str,\n",
    "    'Tratamiento': str,\n",
    "    'Barrio': str,\n",
    "    'Ciudad': str,\n",
    "    'CATEG': str,\n",
    "    'Ocupación1': str,\n",
    "    'Nivel Estudio1': str,\n",
    "    'Área de Estudio1': str,\n",
    "    'Fech. Nacim': pd.tslib.Timestamp,\n",
    "    'Edad': float,\n",
    "}\n",
    "\n",
    "perfiles_df = pd.read_csv(\n",
    "    'socios_activos_2016_ciudades_barrios.csv', header=0, dtype=dtypes, parse_dates=['Fech. Nacim'])\n",
    "perfiles_df = perfiles_df.fillna('')"
   ]
  },
  {
   "cell_type": "code",
   "execution_count": 3,
   "metadata": {
    "collapsed": false
   },
   "outputs": [
    {
     "data": {
      "text/plain": [
       "(50272, 11)"
      ]
     },
     "execution_count": 3,
     "metadata": {},
     "output_type": "execute_result"
    }
   ],
   "source": [
    "perfiles_df.shape"
   ]
  },
  {
   "cell_type": "code",
   "execution_count": 4,
   "metadata": {
    "collapsed": false
   },
   "outputs": [
    {
     "data": {
      "text/html": [
       "<div>\n",
       "<table border=\"1\" class=\"dataframe\">\n",
       "  <thead>\n",
       "    <tr style=\"text-align: right;\">\n",
       "      <th></th>\n",
       "      <th>CODBAR</th>\n",
       "      <th>Sucursal</th>\n",
       "      <th>Tratamiento</th>\n",
       "      <th>Barrio</th>\n",
       "      <th>Ciudad</th>\n",
       "      <th>CATEG</th>\n",
       "      <th>Ocupación1</th>\n",
       "      <th>Nivel Estudio1</th>\n",
       "      <th>Área de Estudio1</th>\n",
       "      <th>Fech. Nacim</th>\n",
       "      <th>Edad</th>\n",
       "    </tr>\n",
       "  </thead>\n",
       "  <tbody>\n",
       "    <tr>\n",
       "      <th>0</th>\n",
       "      <td>88180782</td>\n",
       "      <td>BLAA</td>\n",
       "      <td></td>\n",
       "      <td>chapinero</td>\n",
       "      <td>bogota</td>\n",
       "      <td>CIN</td>\n",
       "      <td>universidad</td>\n",
       "      <td></td>\n",
       "      <td></td>\n",
       "      <td></td>\n",
       "      <td></td>\n",
       "    </tr>\n",
       "    <tr>\n",
       "      <th>1</th>\n",
       "      <td>88183608</td>\n",
       "      <td>BLAA</td>\n",
       "      <td>sra.</td>\n",
       "      <td>ayacuyo ii</td>\n",
       "      <td>bogota</td>\n",
       "      <td>CEM</td>\n",
       "      <td>pensionado</td>\n",
       "      <td></td>\n",
       "      <td></td>\n",
       "      <td>1957-07-30 00:00:00</td>\n",
       "      <td>59</td>\n",
       "    </tr>\n",
       "    <tr>\n",
       "      <th>2</th>\n",
       "      <td>88181732</td>\n",
       "      <td>BLAA</td>\n",
       "      <td>sra.</td>\n",
       "      <td>icata</td>\n",
       "      <td>bogota</td>\n",
       "      <td>CEM</td>\n",
       "      <td>empleado</td>\n",
       "      <td>profesional</td>\n",
       "      <td>filosofía y letras</td>\n",
       "      <td></td>\n",
       "      <td></td>\n",
       "    </tr>\n",
       "    <tr>\n",
       "      <th>3</th>\n",
       "      <td>88182347</td>\n",
       "      <td>ARM</td>\n",
       "      <td>sr.</td>\n",
       "      <td>montenegro</td>\n",
       "      <td>montenegro</td>\n",
       "      <td>CEM</td>\n",
       "      <td>empleado</td>\n",
       "      <td>profesional</td>\n",
       "      <td>economía</td>\n",
       "      <td>1963-09-20 00:00:00</td>\n",
       "      <td>53</td>\n",
       "    </tr>\n",
       "    <tr>\n",
       "      <th>4</th>\n",
       "      <td>88181284</td>\n",
       "      <td>BLAA</td>\n",
       "      <td>sr.</td>\n",
       "      <td>soledad</td>\n",
       "      <td>bogota</td>\n",
       "      <td>CEM</td>\n",
       "      <td></td>\n",
       "      <td></td>\n",
       "      <td></td>\n",
       "      <td></td>\n",
       "      <td></td>\n",
       "    </tr>\n",
       "  </tbody>\n",
       "</table>\n",
       "</div>"
      ],
      "text/plain": [
       "     CODBAR Sucursal Tratamiento      Barrio      Ciudad CATEG   Ocupación1  \\\n",
       "0  88180782     BLAA               chapinero      bogota   CIN  universidad   \n",
       "1  88183608     BLAA        sra.  ayacuyo ii      bogota   CEM   pensionado   \n",
       "2  88181732     BLAA        sra.       icata      bogota   CEM     empleado   \n",
       "3  88182347      ARM         sr.  montenegro  montenegro   CEM     empleado   \n",
       "4  88181284     BLAA         sr.     soledad      bogota   CEM                \n",
       "\n",
       "  Nivel Estudio1    Área de Estudio1          Fech. Nacim Edad  \n",
       "0                                                               \n",
       "1                                     1957-07-30 00:00:00   59  \n",
       "2    profesional  filosofía y letras                            \n",
       "3    profesional            economía  1963-09-20 00:00:00   53  \n",
       "4                                                               "
      ]
     },
     "execution_count": 4,
     "metadata": {},
     "output_type": "execute_result"
    }
   ],
   "source": [
    "perfiles_df.head()"
   ]
  },
  {
   "cell_type": "markdown",
   "metadata": {},
   "source": [
    "# Calculando valores frecuentes"
   ]
  },
  {
   "cell_type": "code",
   "execution_count": 5,
   "metadata": {
    "collapsed": true
   },
   "outputs": [],
   "source": [
    "groups_df = perfiles_df.copy()"
   ]
  },
  {
   "cell_type": "code",
   "execution_count": 6,
   "metadata": {
    "collapsed": false
   },
   "outputs": [
    {
     "data": {
      "text/plain": [
       "(50272, 11)"
      ]
     },
     "execution_count": 6,
     "metadata": {},
     "output_type": "execute_result"
    }
   ],
   "source": [
    "groups_df.shape"
   ]
  },
  {
   "cell_type": "markdown",
   "metadata": {},
   "source": [
    "#### Sucursal"
   ]
  },
  {
   "cell_type": "code",
   "execution_count": 7,
   "metadata": {
    "collapsed": false
   },
   "outputs": [
    {
     "data": {
      "text/plain": [
       "31"
      ]
     },
     "execution_count": 7,
     "metadata": {},
     "output_type": "execute_result"
    }
   ],
   "source": [
    "groups_df['Sucursal'].nunique()"
   ]
  },
  {
   "cell_type": "code",
   "execution_count": 8,
   "metadata": {
    "collapsed": false
   },
   "outputs": [
    {
     "data": {
      "text/plain": [
       "BLAA      24278\n",
       "TUN        3165\n",
       "IBA        2339\n",
       "PAS        2089\n",
       "POP        2078\n",
       "NEI        1978\n",
       "PER        1922\n",
       "MAN        1159\n",
       "GIR        1090\n",
       "IPI        1041\n",
       "CAR         758\n",
       "SAN         728\n",
       "CASAGO      686\n",
       "VAL         660\n",
       "FLO         611\n",
       "ARM         575\n",
       "HON         544\n",
       "LET         526\n",
       "BUC         511\n",
       "QUI         478\n",
       "STM         438\n",
       "SIN         438\n",
       "BUE         337\n",
       "BAR         328\n",
       "VIL         298\n",
       "CAL         287\n",
       "RIO         250\n",
       "CUC         236\n",
       "MED         219\n",
       "MON         209\n",
       "             16\n",
       "Name: Sucursal, dtype: int64"
      ]
     },
     "execution_count": 8,
     "metadata": {},
     "output_type": "execute_result"
    }
   ],
   "source": [
    "groups_df['Sucursal'].value_counts()"
   ]
  },
  {
   "cell_type": "code",
   "execution_count": 9,
   "metadata": {
    "collapsed": false
   },
   "outputs": [
    {
     "name": "stdout",
     "output_type": "stream",
     "text": [
      "CPU times: user 1.48 s, sys: 0 ns, total: 1.48 s\n",
      "Wall time: 1.48 s\n"
     ]
    }
   ],
   "source": [
    "%%time\n",
    "\n",
    "ciudades_sucursales = {\n",
    "    'armenia': 'ARM',\n",
    "    'barranquilla': 'BAR',\n",
    "    'bogota': 'BLAA',\n",
    "    'bucaramanga': 'BUC',\n",
    "    'buenaventura': 'BUE',\n",
    "    'cali': 'CAL',\n",
    "    'cartagena': 'CAR',\n",
    "    'cucuta': 'CUC',\n",
    "    'florencia': 'FLO',\n",
    "    'girardot': 'GIR',\n",
    "    'honda': 'HON',\n",
    "    'ibague': 'IBA',\n",
    "    'ipiales': 'IPI',\n",
    "    'leticia': 'LET',\n",
    "    'manizales': 'MAN',\n",
    "    'medellin': 'MED',\n",
    "    'monteria': 'MON',\n",
    "    'neiva': 'NEI',\n",
    "    'pasto': 'PAS',\n",
    "    'pereira': 'PER',\n",
    "    'popayan': 'POP',\n",
    "    'quibdo': 'QUI',\n",
    "    'riohacha': 'RIO',\n",
    "    'san andres': 'SAN',\n",
    "    'santa marta': 'STM',\n",
    "    'sincelejo': 'SIN',\n",
    "    'tunja': 'TUN',\n",
    "    'valledupar': 'VAL',\n",
    "    'villavicencio': 'VIL',\n",
    "}\n",
    "\n",
    "def fill_blank_sucursal(x):\n",
    "    r = x['Sucursal']\n",
    "    if not r:\n",
    "        c = x['Ciudad']\n",
    "        if c in ciudades_sucursales:\n",
    "            r = ciudades_sucursales[c]\n",
    "    return r\n",
    "\n",
    "groups_df['Sucursal'] = groups_df.apply(fill_blank_sucursal, axis=1)"
   ]
  },
  {
   "cell_type": "code",
   "execution_count": 10,
   "metadata": {
    "collapsed": false
   },
   "outputs": [
    {
     "name": "stdout",
     "output_type": "stream",
     "text": [
      "CPU times: user 2.1 s, sys: 0 ns, total: 2.1 s\n",
      "Wall time: 2.1 s\n"
     ]
    }
   ],
   "source": [
    "%%time\n",
    "\n",
    "cn = groups_df['Sucursal'].value_counts()\n",
    "\n",
    "def group_sucursal(x):\n",
    "    e = x['Sucursal']\n",
    "    if e and cn[e] >= 0:\n",
    "        r = e\n",
    "    else:\n",
    "        r = 'OTRO'\n",
    "    return r\n",
    "\n",
    "groups_df['Sucursal'] = groups_df.apply(group_sucursal, axis=1)"
   ]
  },
  {
   "cell_type": "code",
   "execution_count": 11,
   "metadata": {
    "collapsed": false
   },
   "outputs": [
    {
     "data": {
      "text/plain": [
       "BLAA      24284\n",
       "TUN        3165\n",
       "IBA        2339\n",
       "PAS        2089\n",
       "POP        2078\n",
       "NEI        1978\n",
       "PER        1922\n",
       "MAN        1159\n",
       "GIR        1090\n",
       "IPI        1041\n",
       "CAR         758\n",
       "SAN         728\n",
       "CASAGO      686\n",
       "VAL         660\n",
       "FLO         611\n",
       "ARM         575\n",
       "HON         544\n",
       "LET         526\n",
       "BUC         511\n",
       "QUI         478\n",
       "STM         438\n",
       "SIN         438\n",
       "BUE         337\n",
       "BAR         328\n",
       "VIL         298\n",
       "CAL         287\n",
       "RIO         250\n",
       "CUC         236\n",
       "MED         219\n",
       "MON         209\n",
       "OTRO         10\n",
       "Name: Sucursal, dtype: int64"
      ]
     },
     "execution_count": 11,
     "metadata": {},
     "output_type": "execute_result"
    }
   ],
   "source": [
    "groups_df['Sucursal'].value_counts()"
   ]
  },
  {
   "cell_type": "code",
   "execution_count": 12,
   "metadata": {
    "collapsed": false
   },
   "outputs": [
    {
     "data": {
      "text/plain": [
       "31"
      ]
     },
     "execution_count": 12,
     "metadata": {},
     "output_type": "execute_result"
    }
   ],
   "source": [
    "groups_df['Sucursal'].nunique()"
   ]
  },
  {
   "cell_type": "markdown",
   "metadata": {
    "collapsed": true
   },
   "source": [
    "#### Ciudad"
   ]
  },
  {
   "cell_type": "code",
   "execution_count": 13,
   "metadata": {
    "collapsed": false
   },
   "outputs": [
    {
     "data": {
      "text/plain": [
       "524"
      ]
     },
     "execution_count": 13,
     "metadata": {},
     "output_type": "execute_result"
    }
   ],
   "source": [
    "groups_df['Ciudad'].nunique()"
   ]
  },
  {
   "cell_type": "code",
   "execution_count": 14,
   "metadata": {
    "collapsed": false
   },
   "outputs": [
    {
     "data": {
      "text/plain": [
       "bogota                                               23453\n",
       "tunja                                                 2968\n",
       "ibague                                                2305\n",
       "popayan                                               2028\n",
       "neiva                                                 1786\n",
       "pasto                                                 1702\n",
       "pereira                                               1478\n",
       "manizales                                             1136\n",
       "ipiales                                               1020\n",
       "girardot                                               910\n",
       "cartagena                                              731\n",
       "san andres                                             679\n",
       "valledupar                                             649\n",
       "florencia                                              607\n",
       "armenia                                                492\n",
       "leticia                                                487\n",
       "quibdo                                                 464\n",
       "santa marta                                            436\n",
       "sincelejo                                              428\n",
       "bucaramanga                                            380\n",
       "pasca                                                  365\n",
       "dosquebradas                                           362\n",
       "honda                                                  345\n",
       "buenaventura                                           333\n",
       "soacha                                                 324\n",
       "villavicencio                                          301\n",
       "cali                                                   271\n",
       "barranquilla                                           250\n",
       "riohacha                                               242\n",
       "medellin                                               223\n",
       "                                                     ...  \n",
       "catambuco pas                                            1\n",
       "xxxx                                                     1\n",
       "copacabana                                               1\n",
       "leticia aaaamazonas                                      1\n",
       "bogota colo mbia                                         1\n",
       "cabrera pasto                                            1\n",
       "bolivar                                                  1\n",
       "moniquira                                                1\n",
       "roso                                                     1\n",
       "concepcion                                               1\n",
       "ibague col señora de fatima                              1\n",
       "benjamin contain brasil                                  1\n",
       "viterbo                                                  1\n",
       "palermo h                                                1\n",
       "pago de una asociacion cta por valor de 3 000 a l        1\n",
       "toca                                                     1\n",
       "la vega                                                  1\n",
       "bogota kennedy                                           1\n",
       "cmarca                                                   1\n",
       "arjona car                                               1\n",
       "ibague colegio americano                                 1\n",
       "lavirginia                                               1\n",
       "togui                                                    1\n",
       "sibate cud                                               1\n",
       "salgar puerto                                            1\n",
       "sanra nmarta                                             1\n",
       "pasacaballo                                              1\n",
       "ext 0816                                                 1\n",
       "colon                                                    1\n",
       "ext                                                      1\n",
       "Name: Ciudad, dtype: int64"
      ]
     },
     "execution_count": 14,
     "metadata": {},
     "output_type": "execute_result"
    }
   ],
   "source": [
    "groups_df['Ciudad'].value_counts()"
   ]
  },
  {
   "cell_type": "code",
   "execution_count": 15,
   "metadata": {
    "collapsed": false
   },
   "outputs": [
    {
     "name": "stdout",
     "output_type": "stream",
     "text": [
      "CPU times: user 1.36 s, sys: 6 µs, total: 1.36 s\n",
      "Wall time: 1.35 s\n"
     ]
    }
   ],
   "source": [
    "%%time\n",
    "\n",
    "sucursales_ciudades = {\n",
    "    'ARM': 'armenia',\n",
    "    'BAR': 'barranquilla',\n",
    "    'BLAA': 'bogota',\n",
    "    'BUE': 'buenaventura',\n",
    "    'BUC': 'bucaramanga',\n",
    "    'CAL': 'cali',\n",
    "    'CAR': 'cartagena',\n",
    "    'CASAGO': 'bogota',\n",
    "    'CATMAN': 'bogota',\n",
    "    'CUC': 'cucuta',\n",
    "    'FLO': 'florencia',\n",
    "    'GIR': 'girardot',\n",
    "    'HON': 'honda',\n",
    "    'IBA': 'ibague',\n",
    "    'IEC': 'bogota',\n",
    "    'IPI': 'ipiales',\n",
    "    'LET': 'leticia',\n",
    "    'MAN': 'manizales',\n",
    "    'MED': 'medellin',\n",
    "    'MON': 'monteria',\n",
    "    'NEI': 'neiva',\n",
    "    'PAS': 'pasto',\n",
    "    'PER': 'pereira',\n",
    "    'POP': 'popayan',\n",
    "    'QUI': 'quibdo',\n",
    "    'RIO': 'riohacha',\n",
    "    'SAN': 'san andres',\n",
    "    'SIN': 'sincelejo',\n",
    "    'STM': 'santa marta',\n",
    "    'TUN': 'tunja',\n",
    "    'VAL': 'valledupar',\n",
    "    'VIL': 'villavicencio',\n",
    "}\n",
    "\n",
    "ciudades_ciudades = {\n",
    "    'armenia': 'Armenia',\n",
    "    'barranquilla': 'Barranquilla',\n",
    "    'bogota': 'Bogotá',\n",
    "    'bucaramanga': 'Bucaramanga',\n",
    "    'buenaventura': 'Buenaventura',\n",
    "    'cali': 'Cali',\n",
    "    'cartagena': 'Cartagena',\n",
    "    'cucuta': 'Cúcuta',\n",
    "    'florencia': 'Florencia',\n",
    "    'girardot': 'Girardot',\n",
    "    'honda': 'Honda',\n",
    "    'ibague': 'Ibagué',\n",
    "    'ipiales': 'Ipiales',\n",
    "    'leticia': 'Leticia',\n",
    "    'manizales': 'Manizales',\n",
    "    'medellin': 'Medellín',\n",
    "    'monteria': 'Montería',\n",
    "    'neiva': 'Neiva',\n",
    "    'pasto': 'Pasto',\n",
    "    'pereira': 'Pereira',\n",
    "    'popayan': 'Popayán',\n",
    "    'quibdo': 'Quibdó',\n",
    "    'riohacha': 'Riohacha',\n",
    "    'san andres': 'San Andrés',\n",
    "    'santa marta': 'Santa Marta',\n",
    "    'sincelejo': 'Sincelejo',\n",
    "    'tunja': 'Tunja',\n",
    "    'valledupar': 'Valledupar',\n",
    "    'villavicencio': 'Villavicencio',\n",
    "}\n",
    "\n",
    "def fill_blank_ciudad(x):\n",
    "    r = x['Ciudad']\n",
    "    if not r:\n",
    "        s = x['Sucursal']\n",
    "        if s in sucursales_ciudades:\n",
    "            r = sucursales_ciudades[s]\n",
    "    return r\n",
    "\n",
    "groups_df['Ciudad'] = groups_df.apply(fill_blank_ciudad, axis=1)"
   ]
  },
  {
   "cell_type": "code",
   "execution_count": 16,
   "metadata": {
    "collapsed": false
   },
   "outputs": [
    {
     "name": "stdout",
     "output_type": "stream",
     "text": [
      "CPU times: user 4.23 s, sys: 3.01 ms, total: 4.23 s\n",
      "Wall time: 4.23 s\n"
     ]
    }
   ],
   "source": [
    "%%time\n",
    "\n",
    "dtypes = {\n",
    "    'Ciudad': str,\n",
    "    'Población': np.int32,\n",
    "    'Departamento': str,\n",
    "}\n",
    "\n",
    "ciudades_df = pd.read_csv(\n",
    "    'ciudades_colombia.csv',\n",
    "    sep='\\t',\n",
    "    header=-1,\n",
    "    names=['Wiki index', 'Ciudad', 'Población', 'Departamento'],\n",
    "    usecols=['Ciudad', 'Población', 'Departamento'],\n",
    "    dtype=dtypes,\n",
    "    thousands='.',\n",
    ")\n",
    "\n",
    "def process_field_ciudad(x):\n",
    "    r = x['Ciudad'].strip().lower()\n",
    "    r = r.replace('á', 'a').replace('é', 'e').replace('í', 'i').replace('ó', 'o').replace('ú', 'u')\n",
    "    return r\n",
    "\n",
    "ciudades_df['Ciudad'] = ciudades_df.apply(process_field_ciudad, axis=1)\n",
    "cs = ciudades_df['Ciudad'].unique()\n",
    "\n",
    "cn = groups_df['Ciudad'].value_counts()\n",
    "\n",
    "def group_ciudad(x):\n",
    "    e = x['Ciudad']\n",
    "    if e and e in cs and cn[e] >= 10:\n",
    "        r = e\n",
    "    else:\n",
    "        r = 'OTRO'\n",
    "    return r\n",
    "\n",
    "groups_df['Ciudad'] = groups_df.apply(group_ciudad, axis=1)"
   ]
  },
  {
   "cell_type": "code",
   "execution_count": 17,
   "metadata": {
    "collapsed": false
   },
   "outputs": [
    {
     "data": {
      "text/plain": [
       "bogota           23496\n",
       "tunja             2970\n",
       "OTRO              2816\n",
       "ibague            2309\n",
       "popayan           2033\n",
       "neiva             1787\n",
       "pereira           1494\n",
       "manizales         1140\n",
       "ipiales           1020\n",
       "girardot           910\n",
       "cartagena          732\n",
       "san andres         684\n",
       "valledupar         651\n",
       "florencia          607\n",
       "armenia            495\n",
       "leticia            491\n",
       "quibdo             467\n",
       "santa marta        436\n",
       "sincelejo          428\n",
       "bucaramanga        381\n",
       "pasca              365\n",
       "dosquebradas       362\n",
       "honda              345\n",
       "buenaventura       335\n",
       "soacha             324\n",
       "villavicencio      302\n",
       "cali               273\n",
       "barranquilla       250\n",
       "riohacha           242\n",
       "medellin           223\n",
       "                 ...  \n",
       "calarca             23\n",
       "envigado            23\n",
       "circasia            21\n",
       "aipe                19\n",
       "ricaurte            18\n",
       "yaguara             17\n",
       "tabio               17\n",
       "sibate              17\n",
       "paipa               16\n",
       "villavieja          16\n",
       "baraya              16\n",
       "rivera              16\n",
       "motavita            15\n",
       "tenjo               15\n",
       "santa rosa          14\n",
       "salento             14\n",
       "oicata              13\n",
       "fusagasuga          13\n",
       "timbio              13\n",
       "chiquinquira        12\n",
       "cartago             12\n",
       "combita             12\n",
       "tocancipa           12\n",
       "guaduas             11\n",
       "bello               11\n",
       "tocaima             10\n",
       "chinchina           10\n",
       "piendamo            10\n",
       "turbaco             10\n",
       "acacias             10\n",
       "Name: Ciudad, dtype: int64"
      ]
     },
     "execution_count": 17,
     "metadata": {},
     "output_type": "execute_result"
    }
   ],
   "source": [
    "groups_df['Ciudad'].value_counts()"
   ]
  },
  {
   "cell_type": "code",
   "execution_count": 18,
   "metadata": {
    "collapsed": false
   },
   "outputs": [
    {
     "data": {
      "text/plain": [
       "83"
      ]
     },
     "execution_count": 18,
     "metadata": {},
     "output_type": "execute_result"
    }
   ],
   "source": [
    "groups_df['Ciudad'].nunique()"
   ]
  },
  {
   "cell_type": "markdown",
   "metadata": {
    "collapsed": true
   },
   "source": [
    "#### Tratamiento"
   ]
  },
  {
   "cell_type": "code",
   "execution_count": 19,
   "metadata": {
    "collapsed": false
   },
   "outputs": [
    {
     "data": {
      "text/plain": [
       "5"
      ]
     },
     "execution_count": 19,
     "metadata": {},
     "output_type": "execute_result"
    }
   ],
   "source": [
    "groups_df['Tratamiento'].nunique()"
   ]
  },
  {
   "cell_type": "code",
   "execution_count": 20,
   "metadata": {
    "collapsed": false
   },
   "outputs": [
    {
     "data": {
      "text/plain": [
       "sr.          22505\n",
       "sra.         22341\n",
       "              4995\n",
       "otra inf.      392\n",
       "inst            39\n",
       "Name: Tratamiento, dtype: int64"
      ]
     },
     "execution_count": 20,
     "metadata": {},
     "output_type": "execute_result"
    }
   ],
   "source": [
    "groups_df['Tratamiento'].value_counts()"
   ]
  },
  {
   "cell_type": "code",
   "execution_count": 21,
   "metadata": {
    "collapsed": false
   },
   "outputs": [
    {
     "name": "stdout",
     "output_type": "stream",
     "text": [
      "CPU times: user 1.41 s, sys: 23 µs, total: 1.41 s\n",
      "Wall time: 1.41 s\n"
     ]
    }
   ],
   "source": [
    "%%time\n",
    "\n",
    "cn = groups_df['Tratamiento'].value_counts()\n",
    "\n",
    "def group_tratamiento(x):\n",
    "    e = x['Tratamiento']\n",
    "    if e and (e == 'sr.' or e == 'sra.'):\n",
    "        r = e\n",
    "    else:\n",
    "        r = 'OTRO'\n",
    "    return r\n",
    "\n",
    "groups_df['Tratamiento'] = groups_df.apply(group_tratamiento, axis=1)"
   ]
  },
  {
   "cell_type": "code",
   "execution_count": 22,
   "metadata": {
    "collapsed": false
   },
   "outputs": [
    {
     "data": {
      "text/plain": [
       "sr.     22505\n",
       "sra.    22341\n",
       "OTRO     5426\n",
       "Name: Tratamiento, dtype: int64"
      ]
     },
     "execution_count": 22,
     "metadata": {},
     "output_type": "execute_result"
    }
   ],
   "source": [
    "groups_df['Tratamiento'].value_counts()"
   ]
  },
  {
   "cell_type": "code",
   "execution_count": 23,
   "metadata": {
    "collapsed": false
   },
   "outputs": [
    {
     "data": {
      "text/plain": [
       "3"
      ]
     },
     "execution_count": 23,
     "metadata": {},
     "output_type": "execute_result"
    }
   ],
   "source": [
    "groups_df['Tratamiento'].nunique()"
   ]
  },
  {
   "cell_type": "markdown",
   "metadata": {
    "collapsed": true
   },
   "source": [
    "#### Barrio"
   ]
  },
  {
   "cell_type": "code",
   "execution_count": 24,
   "metadata": {
    "collapsed": false
   },
   "outputs": [
    {
     "data": {
      "text/plain": [
       "9140"
      ]
     },
     "execution_count": 24,
     "metadata": {},
     "output_type": "execute_result"
    }
   ],
   "source": [
    "groups_df['Barrio'].nunique()"
   ]
  },
  {
   "cell_type": "code",
   "execution_count": 25,
   "metadata": {
    "collapsed": false
   },
   "outputs": [
    {
     "data": {
      "text/plain": [
       "centro                             1205\n",
       "chapinero                           433\n",
       "                                    365\n",
       "candelaria                          294\n",
       "palermo                             268\n",
       "soledad                             253\n",
       "castilla                            247\n",
       "fontibon                            244\n",
       "cedritos                            241\n",
       "nieves                              239\n",
       "kennedy                             227\n",
       "modelia                             218\n",
       "santa isabel                        211\n",
       "recuerdo                            208\n",
       "san luis                            201\n",
       "americas                            196\n",
       "santa barbara                       185\n",
       "santa ines                          183\n",
       "belen                               182\n",
       "teusaquillo                         168\n",
       "gaitan                              167\n",
       "san antonio                         161\n",
       "ciudad salitre                      160\n",
       "obrero                              155\n",
       "san francisco                       150\n",
       "galerias                            145\n",
       "centenario                          144\n",
       "suba                                142\n",
       "chapinero alto                      138\n",
       "libertador                          137\n",
       "                                   ... \n",
       "bulevar las villas                    1\n",
       "san juanito                           1\n",
       "fontibon ferrocaja                    1\n",
       "mirador de tunja                      1\n",
       "barrio providencia                    1\n",
       "conjunto residencial san isidro       1\n",
       "totuna                                1\n",
       "carabelas puente aranda               1\n",
       "santa helena 2                        1\n",
       "museo quimbaya                        1\n",
       "barrio torcoroma                      1\n",
       "calle 17 24 29 bl 14 ap 401           1\n",
       "braham linconl                        1\n",
       "seminario parque                      1\n",
       "urbanizacion confatolima              1\n",
       "sra maria del lago                    1\n",
       "atabanza 4                            1\n",
       "villagrande de la india 2             1\n",
       "villa 70                              1\n",
       "flower hill                           1\n",
       "florez de buenaños                    1\n",
       "portofino                             1\n",
       "rocosa sector angula                  1\n",
       "bulevar de las villas                 1\n",
       "alameda ii                            1\n",
       "munipal                               1\n",
       "quintarramos                          1\n",
       "villa osorio                          1\n",
       "b el pilar                            1\n",
       "villa sandra 2                        1\n",
       "Name: Barrio, dtype: int64"
      ]
     },
     "execution_count": 25,
     "metadata": {},
     "output_type": "execute_result"
    }
   ],
   "source": [
    "groups_df['Barrio'].value_counts()"
   ]
  },
  {
   "cell_type": "code",
   "execution_count": 26,
   "metadata": {
    "collapsed": false
   },
   "outputs": [
    {
     "name": "stdout",
     "output_type": "stream",
     "text": [
      "CPU times: user 2.05 s, sys: 4 µs, total: 2.05 s\n",
      "Wall time: 2.05 s\n"
     ]
    }
   ],
   "source": [
    "%%time\n",
    "\n",
    "cn = groups_df['Barrio'].value_counts()\n",
    "\n",
    "def group_barrio(x):\n",
    "    e = x['Barrio']\n",
    "    if e and cn[e] >= 2:\n",
    "        r = e\n",
    "    else:\n",
    "        r = 'OTRO'\n",
    "    return r\n",
    "\n",
    "groups_df['Barrio'] = groups_df.apply(group_barrio, axis=1)"
   ]
  },
  {
   "cell_type": "code",
   "execution_count": 27,
   "metadata": {
    "collapsed": false
   },
   "outputs": [
    {
     "data": {
      "text/plain": [
       "OTRO                            6085\n",
       "centro                          1205\n",
       "chapinero                        433\n",
       "candelaria                       294\n",
       "palermo                          268\n",
       "soledad                          253\n",
       "castilla                         247\n",
       "fontibon                         244\n",
       "cedritos                         241\n",
       "nieves                           239\n",
       "kennedy                          227\n",
       "modelia                          218\n",
       "santa isabel                     211\n",
       "recuerdo                         208\n",
       "san luis                         201\n",
       "americas                         196\n",
       "santa barbara                    185\n",
       "santa ines                       183\n",
       "belen                            182\n",
       "teusaquillo                      168\n",
       "gaitan                           167\n",
       "san antonio                      161\n",
       "ciudad salitre                   160\n",
       "obrero                           155\n",
       "san francisco                    150\n",
       "galerias                         145\n",
       "centenario                       144\n",
       "suba                             142\n",
       "chapinero alto                   138\n",
       "libertador                       137\n",
       "                                ... \n",
       "carlos lleras salitre              2\n",
       "tricentenario                      2\n",
       "altos de ziruma                    2\n",
       "jose maria cordoba                 2\n",
       "san marcos san cristobal           2\n",
       "puertas de alcala                  2\n",
       "londres                            2\n",
       "jimenez de quesada bosa            2\n",
       "condominio bello horizonte         2\n",
       "batallon                           2\n",
       "flores de buenaño                  2\n",
       "fuente v etapa                     2\n",
       "fontanar                           2\n",
       "villa country                      2\n",
       "san valentin                       2\n",
       "suba alcaparros                    2\n",
       "triunfo malvinas                   2\n",
       "quince de mayo                     2\n",
       "vereda el paraiso                  2\n",
       "huertas                            2\n",
       "bosques de rosablanca              2\n",
       "cerritos                           2\n",
       "primavera asul                     2\n",
       "llanura                            2\n",
       "vereda pubenza                     2\n",
       "urbanización 11 de noviembre       2\n",
       "veraneras                          2\n",
       "puerta de alcala                   2\n",
       "torres del bosque                  2\n",
       "urbanización ciudad pereira        2\n",
       "Name: Barrio, dtype: int64"
      ]
     },
     "execution_count": 27,
     "metadata": {},
     "output_type": "execute_result"
    }
   ],
   "source": [
    "groups_df['Barrio'].value_counts()"
   ]
  },
  {
   "cell_type": "code",
   "execution_count": 28,
   "metadata": {
    "collapsed": false
   },
   "outputs": [
    {
     "data": {
      "text/plain": [
       "3420"
      ]
     },
     "execution_count": 28,
     "metadata": {},
     "output_type": "execute_result"
    }
   ],
   "source": [
    "groups_df['Barrio'].nunique()"
   ]
  },
  {
   "cell_type": "markdown",
   "metadata": {
    "collapsed": true
   },
   "source": [
    "#### CATEG"
   ]
  },
  {
   "cell_type": "code",
   "execution_count": 29,
   "metadata": {
    "collapsed": false
   },
   "outputs": [
    {
     "data": {
      "text/plain": [
       "15"
      ]
     },
     "execution_count": 29,
     "metadata": {},
     "output_type": "execute_result"
    }
   ],
   "source": [
    "groups_df['CATEG'].nunique()"
   ]
  },
  {
   "cell_type": "code",
   "execution_count": 30,
   "metadata": {
    "collapsed": false
   },
   "outputs": [
    {
     "data": {
      "text/plain": [
       "CTU    17098\n",
       "CIS    15759\n",
       "CTA    10666\n",
       "CTB     1853\n",
       "CEM     1602\n",
       "CTF     1121\n",
       "CTI     1018\n",
       "CIP      339\n",
       "CTC      302\n",
       "CE1      216\n",
       "CIN      130\n",
       "CSU       92\n",
       "CIV       68\n",
       "CE2        6\n",
       "CML        2\n",
       "Name: CATEG, dtype: int64"
      ]
     },
     "execution_count": 30,
     "metadata": {},
     "output_type": "execute_result"
    }
   ],
   "source": [
    "groups_df['CATEG'].value_counts()"
   ]
  },
  {
   "cell_type": "code",
   "execution_count": 31,
   "metadata": {
    "collapsed": false
   },
   "outputs": [
    {
     "name": "stdout",
     "output_type": "stream",
     "text": [
      "CPU times: user 2.01 s, sys: 3.92 ms, total: 2.02 s\n",
      "Wall time: 2.01 s\n"
     ]
    }
   ],
   "source": [
    "%%time\n",
    "\n",
    "cn = groups_df['CATEG'].value_counts()\n",
    "\n",
    "def group_categoria(x):\n",
    "    e = x['CATEG']\n",
    "    if e and cn[e] >= 0:\n",
    "        r = e\n",
    "    else:\n",
    "        r = 'OTRO'\n",
    "    return r\n",
    "\n",
    "groups_df['CATEG'] = groups_df.apply(group_categoria, axis=1)"
   ]
  },
  {
   "cell_type": "code",
   "execution_count": 32,
   "metadata": {
    "collapsed": false
   },
   "outputs": [
    {
     "data": {
      "text/plain": [
       "CTU    17098\n",
       "CIS    15759\n",
       "CTA    10666\n",
       "CTB     1853\n",
       "CEM     1602\n",
       "CTF     1121\n",
       "CTI     1018\n",
       "CIP      339\n",
       "CTC      302\n",
       "CE1      216\n",
       "CIN      130\n",
       "CSU       92\n",
       "CIV       68\n",
       "CE2        6\n",
       "CML        2\n",
       "Name: CATEG, dtype: int64"
      ]
     },
     "execution_count": 32,
     "metadata": {},
     "output_type": "execute_result"
    }
   ],
   "source": [
    "groups_df['CATEG'].value_counts()"
   ]
  },
  {
   "cell_type": "code",
   "execution_count": 33,
   "metadata": {
    "collapsed": false
   },
   "outputs": [
    {
     "data": {
      "text/plain": [
       "15"
      ]
     },
     "execution_count": 33,
     "metadata": {},
     "output_type": "execute_result"
    }
   ],
   "source": [
    "groups_df['CATEG'].nunique()"
   ]
  },
  {
   "cell_type": "markdown",
   "metadata": {
    "collapsed": true
   },
   "source": [
    "#### Ocupación1"
   ]
  },
  {
   "cell_type": "code",
   "execution_count": 34,
   "metadata": {
    "collapsed": false
   },
   "outputs": [
    {
     "data": {
      "text/plain": [
       "30"
      ]
     },
     "execution_count": 34,
     "metadata": {},
     "output_type": "execute_result"
    }
   ],
   "source": [
    "groups_df['Ocupación1'].nunique()"
   ]
  },
  {
   "cell_type": "code",
   "execution_count": 35,
   "metadata": {
    "collapsed": false
   },
   "outputs": [
    {
     "data": {
      "text/plain": [
       "estudiante                 35805\n",
       "empleado                    3908\n",
       "docente                     2946\n",
       "independiente               2549\n",
       "                            1799\n",
       "trabajador y estudiante     1016\n",
       "pensionado                   920\n",
       "hogar                        507\n",
       "investigador                 258\n",
       "desempleado                  181\n",
       "universidad                  142\n",
       "colegios                      91\n",
       "cultural                      33\n",
       "salud                         30\n",
       "comercio                      28\n",
       "instuto técnico               15\n",
       "agropecuario                  12\n",
       "instuto tecnológico            5\n",
       "editorial                      5\n",
       "alimentos                      3\n",
       "financiero                     3\n",
       "congregación religiosa         3\n",
       "transporte                     2\n",
       "turismo                        2\n",
       "plástico                       2\n",
       "telecomunicaciones             2\n",
       "construcción                   2\n",
       "minero y energético            1\n",
       "bebidas                        1\n",
       "automotriz                     1\n",
       "Name: Ocupación1, dtype: int64"
      ]
     },
     "execution_count": 35,
     "metadata": {},
     "output_type": "execute_result"
    }
   ],
   "source": [
    "groups_df['Ocupación1'].value_counts()"
   ]
  },
  {
   "cell_type": "code",
   "execution_count": 36,
   "metadata": {
    "collapsed": false
   },
   "outputs": [
    {
     "name": "stdout",
     "output_type": "stream",
     "text": [
      "CPU times: user 2 s, sys: 0 ns, total: 2 s\n",
      "Wall time: 2 s\n"
     ]
    }
   ],
   "source": [
    "%%time\n",
    "\n",
    "cn = groups_df['Ocupación1'].value_counts()\n",
    "\n",
    "def group_ocupacion(x):\n",
    "    e = x['Ocupación1']\n",
    "    if e and cn[e] >= 10:\n",
    "        r = e\n",
    "    else:\n",
    "        r = 'OTRO'\n",
    "    return r\n",
    "\n",
    "groups_df['Ocupación1'] = groups_df.apply(group_ocupacion, axis=1)"
   ]
  },
  {
   "cell_type": "code",
   "execution_count": 37,
   "metadata": {
    "collapsed": false
   },
   "outputs": [
    {
     "data": {
      "text/plain": [
       "estudiante                 35805\n",
       "empleado                    3908\n",
       "docente                     2946\n",
       "independiente               2549\n",
       "OTRO                        1831\n",
       "trabajador y estudiante     1016\n",
       "pensionado                   920\n",
       "hogar                        507\n",
       "investigador                 258\n",
       "desempleado                  181\n",
       "universidad                  142\n",
       "colegios                      91\n",
       "cultural                      33\n",
       "salud                         30\n",
       "comercio                      28\n",
       "instuto técnico               15\n",
       "agropecuario                  12\n",
       "Name: Ocupación1, dtype: int64"
      ]
     },
     "execution_count": 37,
     "metadata": {},
     "output_type": "execute_result"
    }
   ],
   "source": [
    "groups_df['Ocupación1'].value_counts()"
   ]
  },
  {
   "cell_type": "code",
   "execution_count": 38,
   "metadata": {
    "collapsed": false
   },
   "outputs": [
    {
     "data": {
      "text/plain": [
       "17"
      ]
     },
     "execution_count": 38,
     "metadata": {},
     "output_type": "execute_result"
    }
   ],
   "source": [
    "groups_df['Ocupación1'].nunique()"
   ]
  },
  {
   "cell_type": "markdown",
   "metadata": {
    "collapsed": true
   },
   "source": [
    "#### Nivel Estudio1"
   ]
  },
  {
   "cell_type": "code",
   "execution_count": 39,
   "metadata": {
    "collapsed": false
   },
   "outputs": [
    {
     "data": {
      "text/plain": [
       "13"
      ]
     },
     "execution_count": 39,
     "metadata": {},
     "output_type": "execute_result"
    }
   ],
   "source": [
    "groups_df['Nivel Estudio1'].nunique()"
   ]
  },
  {
   "cell_type": "code",
   "execution_count": 40,
   "metadata": {
    "collapsed": false
   },
   "outputs": [
    {
     "data": {
      "text/plain": [
       "universitario 1 nivel    9657\n",
       "universitario 2 nivel    8121\n",
       "profesional              6882\n",
       "secundaria               6875\n",
       "básica primaria          6660\n",
       "                         6375\n",
       "maestría                 2180\n",
       "postgrado                1345\n",
       "técnico                   711\n",
       "graduado                  486\n",
       "doctorado                 437\n",
       "tecnológico               335\n",
       "ninguno                   208\n",
       "Name: Nivel Estudio1, dtype: int64"
      ]
     },
     "execution_count": 40,
     "metadata": {},
     "output_type": "execute_result"
    }
   ],
   "source": [
    "groups_df['Nivel Estudio1'].value_counts()"
   ]
  },
  {
   "cell_type": "code",
   "execution_count": 41,
   "metadata": {
    "collapsed": false
   },
   "outputs": [
    {
     "name": "stdout",
     "output_type": "stream",
     "text": [
      "CPU times: user 1.93 s, sys: 55 µs, total: 1.93 s\n",
      "Wall time: 1.93 s\n"
     ]
    }
   ],
   "source": [
    "%%time\n",
    "\n",
    "cn = groups_df['Nivel Estudio1'].value_counts()\n",
    "\n",
    "def group_nivel_estudio(x):\n",
    "    e = x['Nivel Estudio1']\n",
    "    if e and cn[e] >= 0:\n",
    "        r = e\n",
    "    else:\n",
    "        r = 'OTRO'\n",
    "    return r\n",
    "\n",
    "groups_df['Nivel Estudio1'] = groups_df.apply(group_nivel_estudio, axis=1)"
   ]
  },
  {
   "cell_type": "code",
   "execution_count": 42,
   "metadata": {
    "collapsed": false
   },
   "outputs": [
    {
     "data": {
      "text/plain": [
       "universitario 1 nivel    9657\n",
       "universitario 2 nivel    8121\n",
       "profesional              6882\n",
       "secundaria               6875\n",
       "básica primaria          6660\n",
       "OTRO                     6375\n",
       "maestría                 2180\n",
       "postgrado                1345\n",
       "técnico                   711\n",
       "graduado                  486\n",
       "doctorado                 437\n",
       "tecnológico               335\n",
       "ninguno                   208\n",
       "Name: Nivel Estudio1, dtype: int64"
      ]
     },
     "execution_count": 42,
     "metadata": {},
     "output_type": "execute_result"
    }
   ],
   "source": [
    "groups_df['Nivel Estudio1'].value_counts()"
   ]
  },
  {
   "cell_type": "code",
   "execution_count": 43,
   "metadata": {
    "collapsed": false
   },
   "outputs": [
    {
     "data": {
      "text/plain": [
       "13"
      ]
     },
     "execution_count": 43,
     "metadata": {},
     "output_type": "execute_result"
    }
   ],
   "source": [
    "groups_df['Nivel Estudio1'].nunique()"
   ]
  },
  {
   "cell_type": "markdown",
   "metadata": {
    "collapsed": true
   },
   "source": [
    "#### Área de Estudio1"
   ]
  },
  {
   "cell_type": "code",
   "execution_count": 44,
   "metadata": {
    "collapsed": false
   },
   "outputs": [
    {
     "data": {
      "text/plain": [
       "172"
      ]
     },
     "execution_count": 44,
     "metadata": {},
     "output_type": "execute_result"
    }
   ],
   "source": [
    "groups_df['Área de Estudio1'].nunique()"
   ]
  },
  {
   "cell_type": "code",
   "execution_count": 45,
   "metadata": {
    "collapsed": false
   },
   "outputs": [
    {
     "data": {
      "text/plain": [
       "                                23191\n",
       "derecho                          3448\n",
       "literatura                       1508\n",
       "pedagogía                        1151\n",
       "ciencias sociales                1131\n",
       "psicología                       1076\n",
       "historia                         1056\n",
       "filosofía y letras               1020\n",
       "idiomas                           857\n",
       "escolar                           841\n",
       "economía                          810\n",
       "sociología                        606\n",
       "medicina                          602\n",
       "antropología                      566\n",
       "arquitectura                      550\n",
       "ciencias políticas                538\n",
       "biología                          499\n",
       "artes plásticas                   468\n",
       "contaduría                        432\n",
       "artes escénicas                   430\n",
       "ing. industrial                   411\n",
       "adm. de empresas                  400\n",
       "ing. de sistemas                  381\n",
       "comunicación social               369\n",
       "ing. civil                        353\n",
       "música                            353\n",
       "matemáticas                       340\n",
       "ing. electrónica                  331\n",
       "adm. de empresas comerciales      307\n",
       "trabajo social                    306\n",
       "                                ...  \n",
       "tec. mecanica                       5\n",
       "ins. quirurgica                     5\n",
       "joyería                             5\n",
       "museologia                          4\n",
       "cosmetología                        4\n",
       "ing. biomedica                      4\n",
       "ing. geológica                      4\n",
       "ing. automotriz                     3\n",
       "gerontología                        3\n",
       "terapia respiratoria                3\n",
       "adm. de transporte                  3\n",
       "ing. geográfica                     3\n",
       "diseño de máquinas                  3\n",
       "acuicultura                         3\n",
       "biomédica                           3\n",
       "tec. control ambiental              3\n",
       "ing. térmica                        2\n",
       "ing. de sonido                      2\n",
       "ing. de recursos hídricos           2\n",
       "economía del hogar                  2\n",
       "adm. de oficinas                    2\n",
       "adm. marítima                       2\n",
       "metalmecánica                       2\n",
       "adm. de bienes raices               1\n",
       "aviación                            1\n",
       "ing. pesquera                       1\n",
       "metalurgía                          1\n",
       "tec. automotríz                     1\n",
       "economía industrial                 1\n",
       "adm. de servicios a bordo           1\n",
       "Name: Área de Estudio1, dtype: int64"
      ]
     },
     "execution_count": 45,
     "metadata": {},
     "output_type": "execute_result"
    }
   ],
   "source": [
    "groups_df['Área de Estudio1'].value_counts()"
   ]
  },
  {
   "cell_type": "code",
   "execution_count": 46,
   "metadata": {
    "collapsed": false
   },
   "outputs": [
    {
     "name": "stdout",
     "output_type": "stream",
     "text": [
      "CPU times: user 1.69 s, sys: 0 ns, total: 1.69 s\n",
      "Wall time: 1.68 s\n"
     ]
    }
   ],
   "source": [
    "%%time\n",
    "\n",
    "cn = groups_df['Área de Estudio1'].value_counts()\n",
    "\n",
    "def group_area_estudio(x):\n",
    "    e = x['Área de Estudio1']\n",
    "    if e and cn[e] >= 10:\n",
    "        r = e\n",
    "    else:\n",
    "        r = 'OTRO'\n",
    "    return r\n",
    "\n",
    "groups_df['Área de Estudio1'] = groups_df.apply(group_area_estudio, axis=1)"
   ]
  },
  {
   "cell_type": "code",
   "execution_count": 47,
   "metadata": {
    "collapsed": false
   },
   "outputs": [
    {
     "data": {
      "text/plain": [
       "OTRO                              23470\n",
       "derecho                            3448\n",
       "literatura                         1508\n",
       "pedagogía                          1151\n",
       "ciencias sociales                  1131\n",
       "psicología                         1076\n",
       "historia                           1056\n",
       "filosofía y letras                 1020\n",
       "idiomas                             857\n",
       "escolar                             841\n",
       "economía                            810\n",
       "sociología                          606\n",
       "medicina                            602\n",
       "antropología                        566\n",
       "arquitectura                        550\n",
       "ciencias políticas                  538\n",
       "biología                            499\n",
       "artes plásticas                     468\n",
       "contaduría                          432\n",
       "artes escénicas                     430\n",
       "ing. industrial                     411\n",
       "adm. de empresas                    400\n",
       "ing. de sistemas                    381\n",
       "comunicación social                 369\n",
       "música                              353\n",
       "ing. civil                          353\n",
       "matemáticas                         340\n",
       "ing. electrónica                    331\n",
       "adm. de empresas comerciales        307\n",
       "educación física                    306\n",
       "                                  ...  \n",
       "medios audivisuales                  26\n",
       "diseño electrónico                   25\n",
       "terapia ocupacional                  24\n",
       "ing. de petróleos                    23\n",
       "criminalística                       22\n",
       "ing. de telecomunicaciones           21\n",
       "telecomunicaciones                   20\n",
       "mecanica industrial                  20\n",
       "adm. agropecuaria                    20\n",
       "adm. bancaria                        19\n",
       "adm. de negocios                     18\n",
       "adm. agroindustrial                  18\n",
       "topografia                           17\n",
       "dibujo publicitario                  17\n",
       "restauración de bienes muebles       16\n",
       "bacteriología                        16\n",
       "diseño de interiores                 15\n",
       "danzas                               15\n",
       "ing. de producción                   14\n",
       "ecología                             14\n",
       "adm. deportiva                       14\n",
       "tec. contable                        13\n",
       "adm. de sistemas                     12\n",
       "ciencias forenses                    12\n",
       "ing. financiera                      11\n",
       "dibujo arquitec. y de ing.           11\n",
       "ing. sanitaria                       11\n",
       "ing. metarlúrgica                    11\n",
       "biología marina                      10\n",
       "ing. tipográfica                     10\n",
       "Name: Área de Estudio1, dtype: int64"
      ]
     },
     "execution_count": 47,
     "metadata": {},
     "output_type": "execute_result"
    }
   ],
   "source": [
    "groups_df['Área de Estudio1'].value_counts()"
   ]
  },
  {
   "cell_type": "code",
   "execution_count": 48,
   "metadata": {
    "collapsed": false,
    "scrolled": true
   },
   "outputs": [
    {
     "data": {
      "text/plain": [
       "113"
      ]
     },
     "execution_count": 48,
     "metadata": {},
     "output_type": "execute_result"
    }
   ],
   "source": [
    "groups_df['Área de Estudio1'].nunique()"
   ]
  },
  {
   "cell_type": "markdown",
   "metadata": {
    "collapsed": true
   },
   "source": [
    "#### Edad"
   ]
  },
  {
   "cell_type": "code",
   "execution_count": 49,
   "metadata": {
    "collapsed": false
   },
   "outputs": [
    {
     "data": {
      "text/plain": [
       "100"
      ]
     },
     "execution_count": 49,
     "metadata": {},
     "output_type": "execute_result"
    }
   ],
   "source": [
    "groups_df['Edad'].nunique()"
   ]
  },
  {
   "cell_type": "code",
   "execution_count": 50,
   "metadata": {
    "collapsed": false
   },
   "outputs": [
    {
     "data": {
      "text/plain": [
       "        6626\n",
       "22.0    1928\n",
       "21.0    1860\n",
       "23.0    1819\n",
       "20.0    1770\n",
       "24.0    1653\n",
       "19.0    1539\n",
       "17.0    1539\n",
       "18.0    1463\n",
       "25.0    1459\n",
       "16.0    1320\n",
       "26.0    1235\n",
       "27.0    1124\n",
       "28.0    1068\n",
       "10.0    1001\n",
       "9.0      993\n",
       "15.0     989\n",
       "11.0     960\n",
       "30.0     934\n",
       "29.0     927\n",
       "8.0      887\n",
       "12.0     817\n",
       "32.0     794\n",
       "31.0     793\n",
       "13.0     766\n",
       "33.0     696\n",
       "7.0      694\n",
       "14.0     692\n",
       "35.0     677\n",
       "34.0     647\n",
       "        ... \n",
       "69.0      94\n",
       "71.0      86\n",
       "70.0      84\n",
       "72.0      79\n",
       "74.0      58\n",
       "73.0      53\n",
       "76.0      42\n",
       "75.0      40\n",
       "78.0      32\n",
       "77.0      29\n",
       "81.0      14\n",
       "80.0      11\n",
       "84.0      11\n",
       "79.0      10\n",
       "83.0       9\n",
       "82.0       8\n",
       "86.0       7\n",
       "89.0       5\n",
       "88.0       4\n",
       "87.0       3\n",
       "93.0       2\n",
       "85.0       2\n",
       "90.0       1\n",
       "91.0       1\n",
       "92.0       1\n",
       "94.0       1\n",
       "95.0       1\n",
       "97.0       1\n",
       "98.0       1\n",
       "99.0       1\n",
       "Name: Edad, dtype: int64"
      ]
     },
     "execution_count": 50,
     "metadata": {},
     "output_type": "execute_result"
    }
   ],
   "source": [
    "groups_df['Edad'].value_counts()"
   ]
  },
  {
   "cell_type": "code",
   "execution_count": 51,
   "metadata": {
    "collapsed": false
   },
   "outputs": [
    {
     "name": "stdout",
     "output_type": "stream",
     "text": [
      "CPU times: user 1.49 s, sys: 0 ns, total: 1.49 s\n",
      "Wall time: 1.49 s\n"
     ]
    }
   ],
   "source": [
    "%%time\n",
    "\n",
    "def fill_blank_edad(x):\n",
    "    r = x['Edad']\n",
    "    if not r:\n",
    "        r = -1\n",
    "    else:\n",
    "        r = int(r)\n",
    "    return r\n",
    "\n",
    "groups_df['Edad'] = groups_df.apply(fill_blank_edad, axis=1)"
   ]
  },
  {
   "cell_type": "code",
   "execution_count": 52,
   "metadata": {
    "collapsed": false
   },
   "outputs": [
    {
     "data": {
      "text/plain": [
       "-1     6626\n",
       " 22    1928\n",
       " 21    1860\n",
       " 23    1819\n",
       " 20    1770\n",
       " 24    1653\n",
       " 17    1539\n",
       " 19    1539\n",
       " 18    1463\n",
       " 25    1459\n",
       " 16    1320\n",
       " 26    1235\n",
       " 27    1124\n",
       " 28    1068\n",
       " 10    1001\n",
       " 9      993\n",
       " 15     989\n",
       " 11     960\n",
       " 30     934\n",
       " 29     927\n",
       " 8      887\n",
       " 12     817\n",
       " 32     794\n",
       " 31     793\n",
       " 13     766\n",
       " 33     696\n",
       " 7      694\n",
       " 14     692\n",
       " 35     677\n",
       " 34     647\n",
       "       ... \n",
       " 69      94\n",
       " 71      86\n",
       " 70      84\n",
       " 72      79\n",
       " 74      58\n",
       " 73      53\n",
       " 76      42\n",
       " 75      40\n",
       " 78      32\n",
       " 77      29\n",
       " 81      14\n",
       " 84      11\n",
       " 80      11\n",
       " 79      10\n",
       " 83       9\n",
       " 82       8\n",
       " 86       7\n",
       " 89       5\n",
       " 88       4\n",
       " 87       3\n",
       " 93       2\n",
       " 85       2\n",
       " 92       1\n",
       " 98       1\n",
       " 99       1\n",
       " 91       1\n",
       " 97       1\n",
       " 90       1\n",
       " 94       1\n",
       " 95       1\n",
       "Name: Edad, dtype: int64"
      ]
     },
     "execution_count": 52,
     "metadata": {},
     "output_type": "execute_result"
    }
   ],
   "source": [
    "groups_df['Edad'].value_counts()"
   ]
  },
  {
   "cell_type": "code",
   "execution_count": 53,
   "metadata": {
    "collapsed": false
   },
   "outputs": [
    {
     "data": {
      "text/plain": [
       "100"
      ]
     },
     "execution_count": 53,
     "metadata": {},
     "output_type": "execute_result"
    }
   ],
   "source": [
    "groups_df['Edad'].nunique()"
   ]
  },
  {
   "cell_type": "markdown",
   "metadata": {
    "collapsed": true
   },
   "source": [
    "#### Rango_edad"
   ]
  },
  {
   "cell_type": "code",
   "execution_count": 54,
   "metadata": {
    "collapsed": false
   },
   "outputs": [
    {
     "name": "stdout",
     "output_type": "stream",
     "text": [
      "CPU times: user 2.72 ms, sys: 0 ns, total: 2.72 ms\n",
      "Wall time: 2.57 ms\n"
     ]
    }
   ],
   "source": [
    "%%time\n",
    "\n",
    "def bins_to_labels(bins):\n",
    "    labels = []\n",
    "    labels.append('OTRO'.format(bins[1]))\n",
    "    labels.append('{}-'.format(bins[2]))\n",
    "    for i in range(2, len(bins) - 2):\n",
    "        labels.append('{}-{}'.format(bins[i]+1, bins[i+1]))\n",
    "    labels.append('{}+'.format(bins[-2]+1))\n",
    "    return labels\n",
    "\n",
    "# bins = [-2, -1, 11, 17, 25, 65, 100]\n",
    "# bins = [-2, -1, 15, 30, 40, 50, 64, 999]\n",
    "bins = [-2, -1, 17, 29, 39, 49, 64, 999]\n",
    "labels = bins_to_labels(bins)\n",
    "\n",
    "def calculate_rango(x):\n",
    "    pd.cut(pd.Series(x), bins=bins, labels=labels)\n",
    "\n",
    "groups_df['Rango_edad'] = pd.cut(groups_df['Edad'], bins=bins, labels=labels)"
   ]
  },
  {
   "cell_type": "code",
   "execution_count": 55,
   "metadata": {
    "collapsed": false
   },
   "outputs": [
    {
     "data": {
      "text/plain": [
       "18-29    17845\n",
       "17-      12770\n",
       "OTRO      6626\n",
       "30-39     6609\n",
       "40-49     2617\n",
       "50-64     2541\n",
       "65+       1264\n",
       "Name: Rango_edad, dtype: int64"
      ]
     },
     "execution_count": 55,
     "metadata": {},
     "output_type": "execute_result"
    }
   ],
   "source": [
    "groups_df['Rango_edad'].value_counts()"
   ]
  },
  {
   "cell_type": "code",
   "execution_count": 56,
   "metadata": {
    "collapsed": false
   },
   "outputs": [
    {
     "data": {
      "text/plain": [
       "7"
      ]
     },
     "execution_count": 56,
     "metadata": {},
     "output_type": "execute_result"
    }
   ],
   "source": [
    "groups_df['Rango_edad'].nunique()"
   ]
  },
  {
   "cell_type": "markdown",
   "metadata": {
    "collapsed": true
   },
   "source": [
    "## Resultados finales"
   ]
  },
  {
   "cell_type": "code",
   "execution_count": 57,
   "metadata": {
    "collapsed": false
   },
   "outputs": [
    {
     "data": {
      "text/plain": [
       "(50272, 12)"
      ]
     },
     "execution_count": 57,
     "metadata": {},
     "output_type": "execute_result"
    }
   ],
   "source": [
    "groups_df.shape"
   ]
  },
  {
   "cell_type": "code",
   "execution_count": 58,
   "metadata": {
    "collapsed": true
   },
   "outputs": [],
   "source": [
    "groups_df.to_csv('usuarios_2016.csv', index=False)"
   ]
  },
  {
   "cell_type": "code",
   "execution_count": null,
   "metadata": {
    "collapsed": true
   },
   "outputs": [],
   "source": []
  }
 ],
 "metadata": {
  "kernelspec": {
   "display_name": "Python 3",
   "language": "python",
   "name": "python3"
  },
  "language_info": {
   "codemirror_mode": {
    "name": "ipython",
    "version": 3
   },
   "file_extension": ".py",
   "mimetype": "text/x-python",
   "name": "python",
   "nbconvert_exporter": "python",
   "pygments_lexer": "ipython3",
   "version": "3.4.3"
  }
 },
 "nbformat": 4,
 "nbformat_minor": 1
}
