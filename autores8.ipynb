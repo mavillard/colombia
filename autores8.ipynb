{
 "cells": [
  {
   "cell_type": "markdown",
   "metadata": {},
   "source": [
    "# Geolocation"
   ]
  },
  {
   "cell_type": "code",
   "execution_count": 1,
   "metadata": {
    "collapsed": false
   },
   "outputs": [],
   "source": [
    "import csv\n",
    "import os\n",
    "import re\n",
    "from collections import defaultdict\n",
    "from collections import Counter\n",
    "from datetime import datetime\n",
    "from datetime import timedelta\n",
    "from string import punctuation\n",
    "\n",
    "import matplotlib\n",
    "import numpy as np\n",
    "import networkx as nx\n",
    "import pandas as pd\n",
    "import requests\n",
    "import seaborn as sns\n",
    "from geolocation.exceptions import ApiClientException\n",
    "from geolocation.main import GoogleMaps\n",
    "from matplotlib import pyplot as plt\n",
    "from SPARQLWrapper import SPARQLWrapper, JSON\n",
    "\n",
    "from googlemaps_key import KEY"
   ]
  },
  {
   "cell_type": "markdown",
   "metadata": {},
   "source": [
    "# Autores"
   ]
  },
  {
   "cell_type": "code",
   "execution_count": 2,
   "metadata": {
    "collapsed": false
   },
   "outputs": [
    {
     "name": "stdout",
     "output_type": "stream",
     "text": [
      "CPU times: user 180 ms, sys: 4.41 ms, total: 185 ms\n",
      "Wall time: 184 ms\n"
     ]
    }
   ],
   "source": [
    "%%time\n",
    "\n",
    "autores_df = pd.read_csv('autores7.csv', header=0)\n",
    "autores_df = autores_df.fillna('')"
   ]
  },
  {
   "cell_type": "code",
   "execution_count": 3,
   "metadata": {
    "collapsed": false
   },
   "outputs": [
    {
     "data": {
      "text/plain": [
       "(61864, 8)"
      ]
     },
     "execution_count": 3,
     "metadata": {},
     "output_type": "execute_result"
    }
   ],
   "source": [
    "autores_df.shape"
   ]
  },
  {
   "cell_type": "code",
   "execution_count": 4,
   "metadata": {
    "collapsed": false
   },
   "outputs": [
    {
     "data": {
      "text/html": [
       "<div>\n",
       "<table border=\"1\" class=\"dataframe\">\n",
       "  <thead>\n",
       "    <tr style=\"text-align: right;\">\n",
       "      <th></th>\n",
       "      <th>TITULO</th>\n",
       "      <th>FECHA_PUB</th>\n",
       "      <th>PAIS_EJEMPLAR</th>\n",
       "      <th>AUTOR</th>\n",
       "      <th>PAIS_AUTOR</th>\n",
       "      <th>NOMBRE_LOCALIZADO</th>\n",
       "      <th>CAPITAL_AUTOR</th>\n",
       "      <th>CAPITAL_EJEMPLAR</th>\n",
       "    </tr>\n",
       "  </thead>\n",
       "  <tbody>\n",
       "    <tr>\n",
       "      <th>0</th>\n",
       "      <td>Adivina en qué pais ...</td>\n",
       "      <td>2010</td>\n",
       "      <td>Spain</td>\n",
       "      <td>Martina Badstuber</td>\n",
       "      <td>Germany</td>\n",
       "      <td>Martina Badstuber</td>\n",
       "      <td>Berlin</td>\n",
       "      <td>Madrid</td>\n",
       "    </tr>\n",
       "    <tr>\n",
       "      <th>1</th>\n",
       "      <td>Galleta para perros</td>\n",
       "      <td>2008</td>\n",
       "      <td>Spain</td>\n",
       "      <td>Helen Cooper</td>\n",
       "      <td>United Kingdom</td>\n",
       "      <td>Helen Cooper</td>\n",
       "      <td>London</td>\n",
       "      <td>Madrid</td>\n",
       "    </tr>\n",
       "    <tr>\n",
       "      <th>2</th>\n",
       "      <td>Codrilo</td>\n",
       "      <td>2009</td>\n",
       "      <td>Spain</td>\n",
       "      <td>Roberto Aliaga Sánchez</td>\n",
       "      <td>Spain</td>\n",
       "      <td>Roberto Aliaga</td>\n",
       "      <td>Madrid</td>\n",
       "      <td>Madrid</td>\n",
       "    </tr>\n",
       "    <tr>\n",
       "      <th>3</th>\n",
       "      <td>Félix, : el coleccionista de miedos</td>\n",
       "      <td>2009</td>\n",
       "      <td>Spain</td>\n",
       "      <td>Fina Casalderrey</td>\n",
       "      <td>Spain</td>\n",
       "      <td>Fina Casalderrey</td>\n",
       "      <td>Madrid</td>\n",
       "      <td>Madrid</td>\n",
       "    </tr>\n",
       "    <tr>\n",
       "      <th>4</th>\n",
       "      <td>En la laguna más profunda</td>\n",
       "      <td>2011</td>\n",
       "      <td>Colombia</td>\n",
       "      <td>Oscar Collazos</td>\n",
       "      <td>Colombia</td>\n",
       "      <td>Oscar Collazos</td>\n",
       "      <td>Bogotá</td>\n",
       "      <td>Bogotá</td>\n",
       "    </tr>\n",
       "  </tbody>\n",
       "</table>\n",
       "</div>"
      ],
      "text/plain": [
       "                                TITULO  FECHA_PUB PAIS_EJEMPLAR  \\\n",
       "0              Adivina en qué pais ...       2010         Spain   \n",
       "1                  Galleta para perros       2008         Spain   \n",
       "2                              Codrilo       2009         Spain   \n",
       "3  Félix, : el coleccionista de miedos       2009         Spain   \n",
       "4            En la laguna más profunda       2011      Colombia   \n",
       "\n",
       "                    AUTOR      PAIS_AUTOR  NOMBRE_LOCALIZADO CAPITAL_AUTOR  \\\n",
       "0       Martina Badstuber         Germany  Martina Badstuber        Berlin   \n",
       "1            Helen Cooper  United Kingdom       Helen Cooper        London   \n",
       "2  Roberto Aliaga Sánchez           Spain     Roberto Aliaga        Madrid   \n",
       "3        Fina Casalderrey           Spain   Fina Casalderrey        Madrid   \n",
       "4          Oscar Collazos        Colombia     Oscar Collazos        Bogotá   \n",
       "\n",
       "  CAPITAL_EJEMPLAR  \n",
       "0           Madrid  \n",
       "1           Madrid  \n",
       "2           Madrid  \n",
       "3           Madrid  \n",
       "4           Bogotá  "
      ]
     },
     "execution_count": 4,
     "metadata": {},
     "output_type": "execute_result"
    }
   ],
   "source": [
    "autores_df.head()"
   ]
  },
  {
   "cell_type": "markdown",
   "metadata": {},
   "source": [
    "## Limpiando datos"
   ]
  },
  {
   "cell_type": "code",
   "execution_count": 5,
   "metadata": {
    "collapsed": true
   },
   "outputs": [],
   "source": [
    "autores_df = autores_df[\n",
    "    (autores_df['CAPITAL_AUTOR'] != 'DESCONOCIDO') &\n",
    "    (autores_df['CAPITAL_EJEMPLAR'] != 'DESCONOCIDO')\n",
    "]"
   ]
  },
  {
   "cell_type": "code",
   "execution_count": 6,
   "metadata": {
    "collapsed": false
   },
   "outputs": [
    {
     "data": {
      "text/plain": [
       "61857"
      ]
     },
     "execution_count": 6,
     "metadata": {},
     "output_type": "execute_result"
    }
   ],
   "source": [
    "len(autores_df)"
   ]
  },
  {
   "cell_type": "code",
   "execution_count": 7,
   "metadata": {
    "collapsed": false
   },
   "outputs": [
    {
     "data": {
      "text/html": [
       "<div>\n",
       "<table border=\"1\" class=\"dataframe\">\n",
       "  <thead>\n",
       "    <tr style=\"text-align: right;\">\n",
       "      <th></th>\n",
       "      <th>TITULO</th>\n",
       "      <th>FECHA_PUB</th>\n",
       "      <th>PAIS_EJEMPLAR</th>\n",
       "      <th>AUTOR</th>\n",
       "      <th>PAIS_AUTOR</th>\n",
       "      <th>NOMBRE_LOCALIZADO</th>\n",
       "      <th>CAPITAL_AUTOR</th>\n",
       "      <th>CAPITAL_EJEMPLAR</th>\n",
       "    </tr>\n",
       "  </thead>\n",
       "  <tbody>\n",
       "    <tr>\n",
       "      <th>0</th>\n",
       "      <td>Adivina en qué pais ...</td>\n",
       "      <td>2010</td>\n",
       "      <td>Spain</td>\n",
       "      <td>Martina Badstuber</td>\n",
       "      <td>Germany</td>\n",
       "      <td>Martina Badstuber</td>\n",
       "      <td>Berlin</td>\n",
       "      <td>Madrid</td>\n",
       "    </tr>\n",
       "    <tr>\n",
       "      <th>1</th>\n",
       "      <td>Galleta para perros</td>\n",
       "      <td>2008</td>\n",
       "      <td>Spain</td>\n",
       "      <td>Helen Cooper</td>\n",
       "      <td>United Kingdom</td>\n",
       "      <td>Helen Cooper</td>\n",
       "      <td>London</td>\n",
       "      <td>Madrid</td>\n",
       "    </tr>\n",
       "    <tr>\n",
       "      <th>2</th>\n",
       "      <td>Codrilo</td>\n",
       "      <td>2009</td>\n",
       "      <td>Spain</td>\n",
       "      <td>Roberto Aliaga Sánchez</td>\n",
       "      <td>Spain</td>\n",
       "      <td>Roberto Aliaga</td>\n",
       "      <td>Madrid</td>\n",
       "      <td>Madrid</td>\n",
       "    </tr>\n",
       "    <tr>\n",
       "      <th>3</th>\n",
       "      <td>Félix, : el coleccionista de miedos</td>\n",
       "      <td>2009</td>\n",
       "      <td>Spain</td>\n",
       "      <td>Fina Casalderrey</td>\n",
       "      <td>Spain</td>\n",
       "      <td>Fina Casalderrey</td>\n",
       "      <td>Madrid</td>\n",
       "      <td>Madrid</td>\n",
       "    </tr>\n",
       "    <tr>\n",
       "      <th>4</th>\n",
       "      <td>En la laguna más profunda</td>\n",
       "      <td>2011</td>\n",
       "      <td>Colombia</td>\n",
       "      <td>Oscar Collazos</td>\n",
       "      <td>Colombia</td>\n",
       "      <td>Oscar Collazos</td>\n",
       "      <td>Bogotá</td>\n",
       "      <td>Bogotá</td>\n",
       "    </tr>\n",
       "  </tbody>\n",
       "</table>\n",
       "</div>"
      ],
      "text/plain": [
       "                                TITULO  FECHA_PUB PAIS_EJEMPLAR  \\\n",
       "0              Adivina en qué pais ...       2010         Spain   \n",
       "1                  Galleta para perros       2008         Spain   \n",
       "2                              Codrilo       2009         Spain   \n",
       "3  Félix, : el coleccionista de miedos       2009         Spain   \n",
       "4            En la laguna más profunda       2011      Colombia   \n",
       "\n",
       "                    AUTOR      PAIS_AUTOR  NOMBRE_LOCALIZADO CAPITAL_AUTOR  \\\n",
       "0       Martina Badstuber         Germany  Martina Badstuber        Berlin   \n",
       "1            Helen Cooper  United Kingdom       Helen Cooper        London   \n",
       "2  Roberto Aliaga Sánchez           Spain     Roberto Aliaga        Madrid   \n",
       "3        Fina Casalderrey           Spain   Fina Casalderrey        Madrid   \n",
       "4          Oscar Collazos        Colombia     Oscar Collazos        Bogotá   \n",
       "\n",
       "  CAPITAL_EJEMPLAR  \n",
       "0           Madrid  \n",
       "1           Madrid  \n",
       "2           Madrid  \n",
       "3           Madrid  \n",
       "4           Bogotá  "
      ]
     },
     "execution_count": 7,
     "metadata": {},
     "output_type": "execute_result"
    }
   ],
   "source": [
    "autores_df.head()"
   ]
  },
  {
   "cell_type": "markdown",
   "metadata": {},
   "source": [
    "# Geocoordinates"
   ]
  },
  {
   "cell_type": "code",
   "execution_count": 8,
   "metadata": {
    "collapsed": false
   },
   "outputs": [
    {
     "data": {
      "text/plain": [
       "108"
      ]
     },
     "execution_count": 8,
     "metadata": {},
     "output_type": "execute_result"
    }
   ],
   "source": [
    "autores_df['CAPITAL_EJEMPLAR'].nunique()"
   ]
  },
  {
   "cell_type": "code",
   "execution_count": 9,
   "metadata": {
    "collapsed": false
   },
   "outputs": [
    {
     "data": {
      "text/plain": [
       "147"
      ]
     },
     "execution_count": 9,
     "metadata": {},
     "output_type": "execute_result"
    }
   ],
   "source": [
    "autores_df['CAPITAL_AUTOR'].nunique()"
   ]
  },
  {
   "cell_type": "code",
   "execution_count": 10,
   "metadata": {
    "collapsed": false
   },
   "outputs": [
    {
     "name": "stdout",
     "output_type": "stream",
     "text": [
      "CPU times: user 9.86 s, sys: 4.38 ms, total: 9.86 s\n",
      "Wall time: 9.86 s\n"
     ]
    }
   ],
   "source": [
    "%%time\n",
    "\n",
    "places = set()\n",
    "for i, x in autores_df.iterrows():\n",
    "    pais_ejemplar = x['PAIS_EJEMPLAR']\n",
    "    capital_ejemplar = x['CAPITAL_EJEMPLAR']\n",
    "    places.add((capital_ejemplar, pais_ejemplar))\n",
    "    pais_autor = x['PAIS_AUTOR']\n",
    "    capital_autor = x['CAPITAL_AUTOR']\n",
    "    places.add((capital_autor, pais_autor))"
   ]
  },
  {
   "cell_type": "code",
   "execution_count": 11,
   "metadata": {
    "collapsed": false
   },
   "outputs": [
    {
     "data": {
      "text/plain": [
       "193"
      ]
     },
     "execution_count": 11,
     "metadata": {},
     "output_type": "execute_result"
    }
   ],
   "source": [
    "len(places)"
   ]
  },
  {
   "cell_type": "code",
   "execution_count": 12,
   "metadata": {
    "collapsed": true
   },
   "outputs": [],
   "source": [
    "capital_countries_d = defaultdict(set)\n",
    "for a, b in places:\n",
    "    capital_countries_d[a].add(b)"
   ]
  },
  {
   "cell_type": "code",
   "execution_count": 13,
   "metadata": {
    "collapsed": false
   },
   "outputs": [
    {
     "name": "stdout",
     "output_type": "stream",
     "text": [
      "London - {'United Kingdom', 'England'}\n",
      "Prague - {'Czechoslovakia', 'Czech Republic'}\n",
      "Luanda - {'Portuguese Angola', 'Angola'}\n",
      "Washington, D.C. - {'United States', 'District of Columbia'}\n",
      "Berlin - {'Weimar Republic', 'Germany'}\n",
      "Naypyidaw - {'Myanmar', 'Burma'}\n"
     ]
    }
   ],
   "source": [
    "for k in capital_countries_d:\n",
    "    if len(capital_countries_d[k]) > 1:\n",
    "        print(k, '-', capital_countries_d[k])"
   ]
  },
  {
   "cell_type": "markdown",
   "metadata": {},
   "source": [
    "##### ==> No duplicated capital's names for two different countries"
   ]
  },
  {
   "cell_type": "code",
   "execution_count": 14,
   "metadata": {
    "collapsed": true
   },
   "outputs": [],
   "source": [
    "google_maps = GoogleMaps(api_key=KEY)"
   ]
  },
  {
   "cell_type": "code",
   "execution_count": 15,
   "metadata": {
    "collapsed": false,
    "scrolled": true
   },
   "outputs": [
    {
     "name": "stdout",
     "output_type": "stream",
     "text": [
      "NOT FOUND: Monaco - Monaco\n",
      "NOT FOUND: Brasília - Brazil\n",
      "NOT FOUND: Brussels - Belgium\n",
      "NOT FOUND: Tokyo - Japan\n",
      "NOT FOUND: Hong Kong - Hong Kong\n",
      "NOT FOUND: Bonaire - Caribbean Netherlands\n",
      "NOT FOUND: Singapore - Singapore\n",
      "NOT FOUND: Jakarta - Indonesia\n",
      "CPU times: user 4.06 s, sys: 186 ms, total: 4.25 s\n",
      "Wall time: 1min 11s\n"
     ]
    }
   ],
   "source": [
    "%%time\n",
    "\n",
    "locs = {} # (lat, lng)\n",
    "\n",
    "for capital, country in places:\n",
    "    if capital not in locs:\n",
    "        found = False\n",
    "        try:\n",
    "            locations = google_maps.search(location=capital + ', ' + country)\n",
    "            if len(locations.list_data) == 1:\n",
    "                location = locations.list_data[0]\n",
    "                locs[capital] = (location.lat, location.lng)\n",
    "                found = True\n",
    "            else:\n",
    "                for location in locations.list_data:\n",
    "                    if location.country is None or str(location.country, 'utf-8') in capital_countries_d[capital]:\n",
    "                        locs[capital] = (location.lat, location.lng)\n",
    "                        found = True\n",
    "                        break\n",
    "        except ApiClientException as e:\n",
    "            pass\n",
    "        if not found:\n",
    "            try:\n",
    "                locations = google_maps.search(location=country + ', ' + capital)\n",
    "                if len(locations.list_data) == 1:\n",
    "                    location = locations.list_data[0]\n",
    "                    locs[capital] = (location.lat, location.lng)\n",
    "                    found = True\n",
    "                else:\n",
    "                    for location in locations.list_data:\n",
    "                        if location.country is None or str(location.country, 'utf-8') in capital_countries_d[capital]:\n",
    "                            locs[capital] = (location.lat, location.lng)\n",
    "                            found = True\n",
    "                            break\n",
    "            except ApiClientException as e:\n",
    "                pass\n",
    "        if not found:\n",
    "            try:\n",
    "                locations = google_maps.search(location=capital)\n",
    "                if len(locations.list_data) == 1:\n",
    "                    location = locations.list_data[0]\n",
    "                    locs[capital] = (location.lat, location.lng)\n",
    "                    found = True\n",
    "                else:\n",
    "                    for location in locations.list_data:\n",
    "                        if str(location.country, 'utf-8') in capital_countries_d[capital]:\n",
    "                            locs[capital] = (location.lat, location.lng)\n",
    "                            found = True\n",
    "                            break\n",
    "            except ApiClientException as e:\n",
    "                pass\n",
    "        if not found:\n",
    "            print('NOT FOUND:', capital, '-', country)"
   ]
  },
  {
   "cell_type": "code",
   "execution_count": 16,
   "metadata": {
    "collapsed": false
   },
   "outputs": [],
   "source": [
    "locs['Bonaire'] = (12.183333, -68.25)\n",
    "locs['Brasília'] = (-15.7942287, -47.8821658)\n",
    "locs['Brussels'] = (50.85, 4.35)\n",
    "locs['Hong Kong'] = (22.3, 114.2)\n",
    "locs['Jakarta'] = (-8.792258, 99.0179762)\n",
    "locs['Monaco'] = (43.7400718, 7.426643599999999)\n",
    "locs['Singapore'] = (1.3147268, 103.7065911)\n",
    "locs['Tokyo'] = (35.6732615, 139.5699618)"
   ]
  },
  {
   "cell_type": "code",
   "execution_count": 17,
   "metadata": {
    "collapsed": false
   },
   "outputs": [
    {
     "name": "stdout",
     "output_type": "stream",
     "text": [
      "CPU times: user 1.91 s, sys: 7.69 ms, total: 1.92 s\n",
      "Wall time: 1.91 s\n"
     ]
    }
   ],
   "source": [
    "%%time\n",
    "\n",
    "def process_geolocation_capital_autor(x):\n",
    "    c = x['CAPITAL_AUTOR']\n",
    "    return locs.get(c, (0, 0))\n",
    "\n",
    "autores_df['GEOLOC_CAPITAL_AUTOR'] = autores_df.apply(process_geolocation_capital_autor, axis=1)"
   ]
  },
  {
   "cell_type": "code",
   "execution_count": 18,
   "metadata": {
    "collapsed": false
   },
   "outputs": [
    {
     "name": "stdout",
     "output_type": "stream",
     "text": [
      "CPU times: user 1.31 s, sys: 0 ns, total: 1.31 s\n",
      "Wall time: 1.31 s\n"
     ]
    }
   ],
   "source": [
    "%%time\n",
    "\n",
    "def process_geolocation_capital_ejemplar(x):\n",
    "    c = x['CAPITAL_EJEMPLAR']\n",
    "    return locs.get(c, (0, 0))\n",
    "\n",
    "autores_df['GEOLOC_CAPITAL_EJEMPLAR'] = autores_df.apply(process_geolocation_capital_ejemplar, axis=1)"
   ]
  },
  {
   "cell_type": "markdown",
   "metadata": {},
   "source": [
    "# Saving results"
   ]
  },
  {
   "cell_type": "code",
   "execution_count": 19,
   "metadata": {
    "collapsed": false
   },
   "outputs": [],
   "source": [
    "autores_df.to_csv('autores8.csv', index=False)"
   ]
  },
  {
   "cell_type": "code",
   "execution_count": null,
   "metadata": {
    "collapsed": true
   },
   "outputs": [],
   "source": []
  }
 ],
 "metadata": {
  "kernelspec": {
   "display_name": "Python 3",
   "language": "python",
   "name": "python3"
  },
  "language_info": {
   "codemirror_mode": {
    "name": "ipython",
    "version": 3
   },
   "file_extension": ".py",
   "mimetype": "text/x-python",
   "name": "python",
   "nbconvert_exporter": "python",
   "pygments_lexer": "ipython3",
   "version": "3.4.3"
  }
 },
 "nbformat": 4,
 "nbformat_minor": 1
}
