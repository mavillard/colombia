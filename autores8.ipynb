{
 "cells": [
  {
   "cell_type": "markdown",
   "metadata": {},
   "source": [
    "# Maps"
   ]
  },
  {
   "cell_type": "code",
   "execution_count": 1,
   "metadata": {
    "collapsed": true
   },
   "outputs": [],
   "source": [
    "import ast\n",
    "import csv\n",
    "import os\n",
    "import re\n",
    "from collections import defaultdict\n",
    "from collections import Counter\n",
    "from datetime import datetime\n",
    "from datetime import timedelta\n",
    "from string import punctuation\n",
    "\n",
    "import matplotlib\n",
    "import numpy as np\n",
    "import networkx as nx\n",
    "import pandas as pd\n",
    "import requests\n",
    "import seaborn as sns\n",
    "from geolocation.main import GoogleMaps\n",
    "from matplotlib import pyplot as plt\n",
    "from SPARQLWrapper import SPARQLWrapper, JSON\n",
    "\n",
    "from googlemaps_key import KEY"
   ]
  },
  {
   "cell_type": "markdown",
   "metadata": {},
   "source": [
    "# Autores"
   ]
  },
  {
   "cell_type": "code",
   "execution_count": 2,
   "metadata": {
    "collapsed": false
   },
   "outputs": [
    {
     "name": "stdout",
     "output_type": "stream",
     "text": [
      "CPU times: user 4.49 s, sys: 25.3 ms, total: 4.51 s\n",
      "Wall time: 4.51 s\n"
     ]
    }
   ],
   "source": [
    "%%time\n",
    "\n",
    "autores_df = pd.read_csv(\n",
    "    'autores7.csv',\n",
    "    header=0,\n",
    "    converters={\n",
    "        'GEOLOC_CAPITAL_AUTOR': ast.literal_eval,\n",
    "        'GEOLOC_CAPITAL_EJEMPLAR': ast.literal_eval\n",
    "    }\n",
    ")\n",
    "autores_df = autores_df.fillna('')"
   ]
  },
  {
   "cell_type": "code",
   "execution_count": 3,
   "metadata": {
    "collapsed": false
   },
   "outputs": [
    {
     "data": {
      "text/plain": [
       "(87200, 9)"
      ]
     },
     "execution_count": 3,
     "metadata": {},
     "output_type": "execute_result"
    }
   ],
   "source": [
    "autores_df.shape"
   ]
  },
  {
   "cell_type": "code",
   "execution_count": 4,
   "metadata": {
    "collapsed": false
   },
   "outputs": [
    {
     "data": {
      "text/html": [
       "<div>\n",
       "<table border=\"1\" class=\"dataframe\">\n",
       "  <thead>\n",
       "    <tr style=\"text-align: right;\">\n",
       "      <th></th>\n",
       "      <th>TITULO</th>\n",
       "      <th>PAIS_EJEMPLAR</th>\n",
       "      <th>AUTOR</th>\n",
       "      <th>PAIS_AUTOR</th>\n",
       "      <th>FECHA_PUB</th>\n",
       "      <th>CAPITAL_AUTOR</th>\n",
       "      <th>CAPITAL_EJEMPLAR</th>\n",
       "      <th>GEOLOC_CAPITAL_AUTOR</th>\n",
       "      <th>GEOLOC_CAPITAL_EJEMPLAR</th>\n",
       "    </tr>\n",
       "  </thead>\n",
       "  <tbody>\n",
       "    <tr>\n",
       "      <th>0</th>\n",
       "      <td>Adivina en qué pais ...</td>\n",
       "      <td>Spain</td>\n",
       "      <td>Martina Badstuber</td>\n",
       "      <td>Germany</td>\n",
       "      <td>2010</td>\n",
       "      <td>Berlin</td>\n",
       "      <td>Madrid</td>\n",
       "      <td>(52.52000659999999, 13.404954)</td>\n",
       "      <td>(40.4167754, -3.7037902)</td>\n",
       "    </tr>\n",
       "    <tr>\n",
       "      <th>1</th>\n",
       "      <td>¡No quiero hacer pipí en el orinal!</td>\n",
       "      <td>Spain</td>\n",
       "      <td>Roser Rius</td>\n",
       "      <td>Mexico</td>\n",
       "      <td>2009</td>\n",
       "      <td>Mexico City</td>\n",
       "      <td>Madrid</td>\n",
       "      <td>(19.4326077, -99.133208)</td>\n",
       "      <td>(40.4167754, -3.7037902)</td>\n",
       "    </tr>\n",
       "    <tr>\n",
       "      <th>2</th>\n",
       "      <td>Humo</td>\n",
       "      <td>Spain</td>\n",
       "      <td>Antón Fortes Torres</td>\n",
       "      <td>Spain</td>\n",
       "      <td>2008</td>\n",
       "      <td>Madrid</td>\n",
       "      <td>Madrid</td>\n",
       "      <td>(40.4167754, -3.7037902)</td>\n",
       "      <td>(40.4167754, -3.7037902)</td>\n",
       "    </tr>\n",
       "    <tr>\n",
       "      <th>3</th>\n",
       "      <td>Galleta para perros</td>\n",
       "      <td>Spain</td>\n",
       "      <td>Helen Cooper</td>\n",
       "      <td>United Kingdom</td>\n",
       "      <td>2008</td>\n",
       "      <td>London</td>\n",
       "      <td>Madrid</td>\n",
       "      <td>(51.5073509, -0.1277583)</td>\n",
       "      <td>(40.4167754, -3.7037902)</td>\n",
       "    </tr>\n",
       "    <tr>\n",
       "      <th>4</th>\n",
       "      <td>Autobio</td>\n",
       "      <td>Spain</td>\n",
       "      <td>Cyril Pedrosa</td>\n",
       "      <td>France</td>\n",
       "      <td>2009</td>\n",
       "      <td>Paris</td>\n",
       "      <td>Madrid</td>\n",
       "      <td>(48.856614, 2.3522219)</td>\n",
       "      <td>(40.4167754, -3.7037902)</td>\n",
       "    </tr>\n",
       "  </tbody>\n",
       "</table>\n",
       "</div>"
      ],
      "text/plain": [
       "                                TITULO PAIS_EJEMPLAR                AUTOR  \\\n",
       "0              Adivina en qué pais ...         Spain    Martina Badstuber   \n",
       "1  ¡No quiero hacer pipí en el orinal!         Spain           Roser Rius   \n",
       "2                                 Humo         Spain  Antón Fortes Torres   \n",
       "3                  Galleta para perros         Spain         Helen Cooper   \n",
       "4                              Autobio         Spain        Cyril Pedrosa   \n",
       "\n",
       "       PAIS_AUTOR  FECHA_PUB CAPITAL_AUTOR CAPITAL_EJEMPLAR  \\\n",
       "0         Germany       2010        Berlin           Madrid   \n",
       "1          Mexico       2009   Mexico City           Madrid   \n",
       "2           Spain       2008        Madrid           Madrid   \n",
       "3  United Kingdom       2008        London           Madrid   \n",
       "4          France       2009         Paris           Madrid   \n",
       "\n",
       "             GEOLOC_CAPITAL_AUTOR   GEOLOC_CAPITAL_EJEMPLAR  \n",
       "0  (52.52000659999999, 13.404954)  (40.4167754, -3.7037902)  \n",
       "1        (19.4326077, -99.133208)  (40.4167754, -3.7037902)  \n",
       "2        (40.4167754, -3.7037902)  (40.4167754, -3.7037902)  \n",
       "3        (51.5073509, -0.1277583)  (40.4167754, -3.7037902)  \n",
       "4          (48.856614, 2.3522219)  (40.4167754, -3.7037902)  "
      ]
     },
     "execution_count": 4,
     "metadata": {},
     "output_type": "execute_result"
    }
   ],
   "source": [
    "autores_df.head()"
   ]
  },
  {
   "cell_type": "markdown",
   "metadata": {},
   "source": [
    "# Places and coordinates"
   ]
  },
  {
   "cell_type": "markdown",
   "metadata": {},
   "source": [
    "## Cleaning 1"
   ]
  },
  {
   "cell_type": "code",
   "execution_count": 5,
   "metadata": {
    "collapsed": false
   },
   "outputs": [],
   "source": [
    "autores_df = autores_df[\n",
    "    (autores_df['PAIS_AUTOR'] != 'No place, unknown, or undetermined') &\n",
    "    (autores_df['PAIS_EJEMPLAR'] != 'No place, unknown, or undetermined')\n",
    "]"
   ]
  },
  {
   "cell_type": "markdown",
   "metadata": {},
   "source": [
    "## Places and coordinates dictionary"
   ]
  },
  {
   "cell_type": "code",
   "execution_count": 6,
   "metadata": {
    "collapsed": false
   },
   "outputs": [
    {
     "name": "stdout",
     "output_type": "stream",
     "text": [
      "CPU times: user 21.2 s, sys: 0 ns, total: 21.2 s\n",
      "Wall time: 21.2 s\n"
     ]
    }
   ],
   "source": [
    "%%time\n",
    "\n",
    "place_coord_d = {}\n",
    "\n",
    "for i, x in autores_df.iterrows():\n",
    "    place_coord_d[x['PAIS_AUTOR']] = x['GEOLOC_CAPITAL_AUTOR']\n",
    "    place_coord_d[x['PAIS_EJEMPLAR']]= x['GEOLOC_CAPITAL_EJEMPLAR']"
   ]
  },
  {
   "cell_type": "markdown",
   "metadata": {},
   "source": [
    "## Coordinates and places dictionary 1"
   ]
  },
  {
   "cell_type": "code",
   "execution_count": 7,
   "metadata": {
    "collapsed": true
   },
   "outputs": [],
   "source": [
    "coord_places_d = defaultdict(list)\n",
    "\n",
    "for k in place_coord_d:\n",
    "    coord_places_d[place_coord_d[k]].append(k)\n",
    "\n",
    "coord_places_d = dict(coord_places_d)"
   ]
  },
  {
   "cell_type": "markdown",
   "metadata": {},
   "source": [
    "## Places dictionary"
   ]
  },
  {
   "cell_type": "code",
   "execution_count": 8,
   "metadata": {
    "collapsed": false
   },
   "outputs": [],
   "source": [
    "paises_autor_c = autores_df['PAIS_AUTOR'].value_counts()\n",
    "paises_ejemplar_c = autores_df['PAIS_EJEMPLAR'].value_counts()\n",
    "places_c = paises_autor_c.add(paises_ejemplar_c, fill_value=0).astype(int)"
   ]
  },
  {
   "cell_type": "code",
   "execution_count": 9,
   "metadata": {
    "collapsed": true
   },
   "outputs": [],
   "source": [
    "def sort_by_frequency(places):\n",
    "    places_freqs = [(p, places_c[p]) for p in places]\n",
    "    sorted_freqs = sorted(places_freqs, key=lambda x: x[1], reverse=True)\n",
    "    sorted_places = [p for p, f in sorted_freqs]\n",
    "    return sorted_places"
   ]
  },
  {
   "cell_type": "code",
   "execution_count": 10,
   "metadata": {
    "collapsed": false
   },
   "outputs": [],
   "source": [
    "place_place_d = {}\n",
    "\n",
    "for k in coord_places_d:\n",
    "    sorted_places = sort_by_frequency(coord_places_d[k])\n",
    "    for p in sorted_places:\n",
    "        place_place_d[p] = sorted_places[0]"
   ]
  },
  {
   "cell_type": "markdown",
   "metadata": {},
   "source": [
    "## Coordinates and places dictionary 2"
   ]
  },
  {
   "cell_type": "code",
   "execution_count": 11,
   "metadata": {
    "collapsed": true
   },
   "outputs": [],
   "source": [
    "coord_place_d = {}\n",
    "\n",
    "for k in coord_places_d:\n",
    "    coord_place_d[k] = place_place_d[coord_places_d[k][0]]"
   ]
  },
  {
   "cell_type": "markdown",
   "metadata": {},
   "source": [
    "## Cleaning 2"
   ]
  },
  {
   "cell_type": "code",
   "execution_count": 12,
   "metadata": {
    "collapsed": false
   },
   "outputs": [
    {
     "name": "stdout",
     "output_type": "stream",
     "text": [
      "CPU times: user 2.54 s, sys: 12 ms, total: 2.55 s\n",
      "Wall time: 2.55 s\n"
     ]
    }
   ],
   "source": [
    "%%time\n",
    "\n",
    "def process_pais_autor(x):\n",
    "    return place_place_d[x['PAIS_AUTOR']]\n",
    "\n",
    "autores_df['PAIS_AUTOR'] = autores_df.apply(process_pais_autor, axis=1)"
   ]
  },
  {
   "cell_type": "code",
   "execution_count": 13,
   "metadata": {
    "collapsed": false
   },
   "outputs": [
    {
     "name": "stdout",
     "output_type": "stream",
     "text": [
      "CPU times: user 2.5 s, sys: 8.08 ms, total: 2.51 s\n",
      "Wall time: 2.51 s\n"
     ]
    }
   ],
   "source": [
    "%%time\n",
    "\n",
    "def process_pais_ejemplar(x):\n",
    "    return place_place_d[x['PAIS_EJEMPLAR']]\n",
    "\n",
    "autores_df['PAIS_EJEMPLAR'] = autores_df.apply(process_pais_ejemplar, axis=1)"
   ]
  },
  {
   "cell_type": "markdown",
   "metadata": {},
   "source": [
    "# Resultados"
   ]
  },
  {
   "cell_type": "code",
   "execution_count": 14,
   "metadata": {
    "collapsed": false
   },
   "outputs": [
    {
     "data": {
      "text/plain": [
       "73920"
      ]
     },
     "execution_count": 14,
     "metadata": {},
     "output_type": "execute_result"
    }
   ],
   "source": [
    "autores_df['TITULO'].nunique()"
   ]
  },
  {
   "cell_type": "code",
   "execution_count": 15,
   "metadata": {
    "collapsed": false
   },
   "outputs": [
    {
     "data": {
      "text/plain": [
       "Obras completas                                                 170\n",
       "Antología poética                                               118\n",
       "Cuentos                                                          91\n",
       "Antología                                                        83\n",
       "Poemas                                                           70\n",
       "Cuentos completos                                                64\n",
       "Poesía                                                           57\n",
       "Poesía completa                                                  50\n",
       "Obra poética                                                     45\n",
       "Obras escogidas                                                  43\n",
       "Teatro                                                           41\n",
       "Obras                                                            37\n",
       "Poesías completas                                                35\n",
       "María                                                            34\n",
       "Obras selectas                                                   33\n",
       "Poesías                                                          32\n",
       "Antología personal                                               30\n",
       "Martín Fierro                                                    28\n",
       "Diálogos                                                         27\n",
       "La isla del tesoro                                               27\n",
       "Memorias                                                         27\n",
       "Fausto                                                           27\n",
       "Cien años de soledad                                             26\n",
       "Madame Bovary                                                    26\n",
       "La vorágine                                                      26\n",
       "Don Quijote de la Mancha                                         26\n",
       "Teatro completo                                                  25\n",
       "Escritos políticos                                               24\n",
       "Hamlet                                                           24\n",
       "El proceso                                                       23\n",
       "                                                               ... \n",
       "El precio era alto : volumen I                                    1\n",
       "Hermanas                                                          1\n",
       "The Slavophile controversy : history of a conservative utopi      1\n",
       "La curación por el espíritu                                       1\n",
       "Garfield se pasa                                                  1\n",
       "Bello como una prisión en llamas : breve relación de los Gor      1\n",
       "La historiografía en Grecia y Roma : conceptos y autores          1\n",
       "Chichi no koyomi                                                  1\n",
       "Ghosts                                                            1\n",
       "Garfield y el deporte                                             1\n",
       "Introducción a la física santillana : edición para el docent      1\n",
       "Todo estaba sucio : novela                                        1\n",
       "Universalismo constructivo                                        1\n",
       "Hiawatha                                                          1\n",
       "Las ciudades y los escritores                                     1\n",
       "El tiempo de la amistad : (cuentos 1948-1976)                     1\n",
       "La encuadernación al alcance de todos : manual para el afici      1\n",
       "En el banquete de Platón : ciencia                                1\n",
       "Light in August                                                   1\n",
       "Patio de locos                                                    1\n",
       "Elogio del libro                                                  1\n",
       "Lo amador : y otros cuentos                                       1\n",
       "Para una erótica latinoamericana                                  1\n",
       "The science fiction of Edgar Allan Poe                            1\n",
       "A history of the human community : prehistory to the present      1\n",
       "El caso de la chica del night-club : El caso del seductor in      1\n",
       "El sexo puesto : el más completo manual recreativo, educativ      1\n",
       "Civilización material, economía y capitalismo, siglos  XV-XV      1\n",
       "In memoria del P. Ferdinando Arboleda alunno del Pont. Colle      1\n",
       "                                                                  1\n",
       "Name: TITULO, dtype: int64"
      ]
     },
     "execution_count": 15,
     "metadata": {},
     "output_type": "execute_result"
    }
   ],
   "source": [
    "autores_df['TITULO'].value_counts()"
   ]
  },
  {
   "cell_type": "code",
   "execution_count": 16,
   "metadata": {
    "collapsed": false
   },
   "outputs": [
    {
     "data": {
      "text/plain": [
       "118"
      ]
     },
     "execution_count": 16,
     "metadata": {},
     "output_type": "execute_result"
    }
   ],
   "source": [
    "autores_df['PAIS_EJEMPLAR'].nunique()"
   ]
  },
  {
   "cell_type": "code",
   "execution_count": 17,
   "metadata": {
    "collapsed": false
   },
   "outputs": [
    {
     "data": {
      "text/plain": [
       "Spain               42246\n",
       "Colombia            12237\n",
       "Argentina            8428\n",
       "Mexico               7879\n",
       "United States        4161\n",
       "United Kingdom       2466\n",
       "France               2092\n",
       "Venezuela            1259\n",
       "Chile                 900\n",
       "New York (State)      884\n",
       "Cuba                  578\n",
       "Peru                  459\n",
       "Brazil                457\n",
       "Italy                 419\n",
       "Germany               360\n",
       "Ecuador               305\n",
       "California            160\n",
       "Uruguay               153\n",
       "Canada                139\n",
       "Japan                 116\n",
       "Switzerland           114\n",
       "Austria               110\n",
       "Portugal              104\n",
       "Russia                101\n",
       "Netherlands            86\n",
       "Costa Rica             83\n",
       "Massachusetts          69\n",
       "China                  62\n",
       "Puerto Rico            56\n",
       "El Salvador            55\n",
       "                    ...  \n",
       "Scotland                2\n",
       "Jan Mayen               2\n",
       "Curaçao                 2\n",
       "Ireland                 2\n",
       "Wisconsin               2\n",
       "Uganda                  1\n",
       "Sierra Leone            1\n",
       "Malaysia                1\n",
       "Utah                    1\n",
       "Louisiana               1\n",
       "Nevada                  1\n",
       "Rhode Island            1\n",
       "Egypt                   1\n",
       "New Hampshire           1\n",
       "Colorado                1\n",
       "Maine                   1\n",
       "Ontario                 1\n",
       "Nebraska                1\n",
       "Virginia                1\n",
       "Vatican City            1\n",
       "Albania                 1\n",
       "Georgia                 1\n",
       "Texas                   1\n",
       "Haiti                   1\n",
       "Ukraine                 1\n",
       "Alabama                 1\n",
       "Kiribati                1\n",
       "Saint-Martin            1\n",
       "Turkey                  1\n",
       "Oregon                  1\n",
       "Name: PAIS_EJEMPLAR, dtype: int64"
      ]
     },
     "execution_count": 17,
     "metadata": {},
     "output_type": "execute_result"
    }
   ],
   "source": [
    "autores_df['PAIS_EJEMPLAR'].value_counts()"
   ]
  },
  {
   "cell_type": "code",
   "execution_count": 18,
   "metadata": {
    "collapsed": false
   },
   "outputs": [
    {
     "data": {
      "text/plain": [
       "21997"
      ]
     },
     "execution_count": 18,
     "metadata": {},
     "output_type": "execute_result"
    }
   ],
   "source": [
    "autores_df['AUTOR'].nunique()"
   ]
  },
  {
   "cell_type": "code",
   "execution_count": 19,
   "metadata": {
    "collapsed": false
   },
   "outputs": [
    {
     "data": {
      "text/plain": [
       "William Shakespeare             381\n",
       "Gabriel García Márquez          367\n",
       "Jules Verne                     220\n",
       "Karl Marx                       217\n",
       "Jorge Luis Borges               216\n",
       "Miguel de Cervantes Saavedra    213\n",
       "Isaac Asimov                    206\n",
       "Oscar Wilde                     194\n",
       "Agatha Christie                 178\n",
       "Julio Cortázar                  176\n",
       "Charles Dickens                 170\n",
       "Franz Kafka                     169\n",
       "Diana Uribe                     169\n",
       "Pablo Neruda                    167\n",
       "Mario Vargas Llosa              162\n",
       "Edgar Allan Poe                 154\n",
       "Friedrich Wilhelm Nietzsche     153\n",
       "Stefan Zweig                    149\n",
       "Octavio Paz                     147\n",
       "Robert Louis Stevenson          141\n",
       "Mario Benedetti                 134\n",
       "Federico García Lorca           133\n",
       "Hans Christian Andersen         132\n",
       "Aldous Leonard Huxley           132\n",
       "Platón                          130\n",
       "Honoré de Balzac                129\n",
       "Jean Paul Sartre                129\n",
       "Sigmund Freud                   127\n",
       "Hermann Hesse                   123\n",
       "Arthur Conan Doyle              122\n",
       "                               ... \n",
       "Patrick Hughes                    1\n",
       "James Goldschmidt                 1\n",
       "Hugh Walker                       1\n",
       "Roderich Menzel                   1\n",
       "Tadeusz Kowalik                   1\n",
       "Patrick Carnes                    1\n",
       "Luis Nicolau d'Olwer              1\n",
       "José Piñera Echenique             1\n",
       "Jacques Le Rider                  1\n",
       "Francisco Rubio Llorente          1\n",
       "Alison Gopnik                     1\n",
       "Aljoscha Blau                     1\n",
       "Edmond Pilon                      1\n",
       "Antoni Talarn                     1\n",
       "Giancarlo De Carlo                1\n",
       "Ricardo Pérez                     1\n",
       "José Vicente Abreu                1\n",
       "Alain Reinberg                    1\n",
       "Giacinto Spagnoletti              1\n",
       "Malcolm de Chazal                 1\n",
       "Isoko Hatano                      1\n",
       "Michio Takeyama                   1\n",
       "August Kleinzahler                1\n",
       "Norbert Berkowitz                 1\n",
       "Rafael Cardoso                    1\n",
       "Karl Rosenkranz                   1\n",
       "Wilson Alvarez                    1\n",
       "Vladimir Voinovich                1\n",
       "Paul Josef Cordes                 1\n",
       "Richard Buckle                    1\n",
       "Name: AUTOR, dtype: int64"
      ]
     },
     "execution_count": 19,
     "metadata": {},
     "output_type": "execute_result"
    }
   ],
   "source": [
    "autores_df['AUTOR'].value_counts()"
   ]
  },
  {
   "cell_type": "code",
   "execution_count": 20,
   "metadata": {
    "collapsed": false
   },
   "outputs": [
    {
     "data": {
      "text/plain": [
       "201"
      ]
     },
     "execution_count": 20,
     "metadata": {},
     "output_type": "execute_result"
    }
   ],
   "source": [
    "autores_df['PAIS_AUTOR'].nunique()"
   ]
  },
  {
   "cell_type": "code",
   "execution_count": 21,
   "metadata": {
    "collapsed": false
   },
   "outputs": [
    {
     "data": {
      "text/plain": [
       "United States                       13473\n",
       "Spain                               10138\n",
       "France                               8560\n",
       "United Kingdom                       8084\n",
       "Colombia                             5712\n",
       "Germany                              5392\n",
       "Italy                                4444\n",
       "Argentina                            3667\n",
       "Mexico                               2588\n",
       "Austria                              1579\n",
       "Chile                                1253\n",
       "Belgium                              1212\n",
       "Brazil                               1161\n",
       "Ireland                              1099\n",
       "Cuba                                 1097\n",
       "Canada                               1084\n",
       "Peru                                 1044\n",
       "Switzerland                          1019\n",
       "Venezuela                             961\n",
       "Russia                                885\n",
       "Poland                                728\n",
       "Uruguay                               672\n",
       "Greece                                620\n",
       "Netherlands                           554\n",
       "Japan                                 549\n",
       "Portugal                              528\n",
       "Czech Republic                        498\n",
       "India                                 480\n",
       "Algeria                               396\n",
       "Australia                             384\n",
       "                                    ...  \n",
       "Scotland                                2\n",
       "Jorezmitas                              2\n",
       "Moldova                                 2\n",
       "Kingdom of Hanover                      2\n",
       "Benin                                   2\n",
       "Mauritania                              1\n",
       "Swaziland                               1\n",
       "Saint Kitts and Nevis                   1\n",
       "Falkland Islands                        1\n",
       "Sultanate of Zanzibar                   1\n",
       "Moldavia                                1\n",
       "Bahrain                                 1\n",
       "Saint Vincent and the Grenadines        1\n",
       "Ryukyu Kingdom                          1\n",
       "Kuwait                                  1\n",
       "Duchy of Brunswick                      1\n",
       "Mongolia                                1\n",
       "Rwanda                                  1\n",
       "Principality of Anhalt                  1\n",
       "Kwantung Leased Territory               1\n",
       "Principality of Lippe                   1\n",
       "Duchy of Holstein                       1\n",
       "Solomon Islands                         1\n",
       "Spanish East Indies                     1\n",
       "Duchy of Saxe-Altenburg                 1\n",
       "Kingdom of Sardinia                     1\n",
       "British America                         1\n",
       "Montserrat                              1\n",
       "Dominion of Newfoundland                1\n",
       "East Africa Protectorate                1\n",
       "Name: PAIS_AUTOR, dtype: int64"
      ]
     },
     "execution_count": 21,
     "metadata": {},
     "output_type": "execute_result"
    }
   ],
   "source": [
    "autores_df['PAIS_AUTOR'].value_counts()"
   ]
  },
  {
   "cell_type": "markdown",
   "metadata": {},
   "source": [
    "# Rutas"
   ]
  },
  {
   "cell_type": "code",
   "execution_count": 22,
   "metadata": {
    "collapsed": false
   },
   "outputs": [
    {
     "data": {
      "text/plain": [
       "201"
      ]
     },
     "execution_count": 22,
     "metadata": {},
     "output_type": "execute_result"
    }
   ],
   "source": [
    "autores_df['PAIS_AUTOR'].nunique()"
   ]
  },
  {
   "cell_type": "code",
   "execution_count": 23,
   "metadata": {
    "collapsed": false
   },
   "outputs": [
    {
     "data": {
      "text/plain": [
       "United States     13473\n",
       "Spain             10138\n",
       "France             8560\n",
       "United Kingdom     8084\n",
       "Colombia           5712\n",
       "Name: PAIS_AUTOR, dtype: int64"
      ]
     },
     "execution_count": 23,
     "metadata": {},
     "output_type": "execute_result"
    }
   ],
   "source": [
    "autores_df['PAIS_AUTOR'].value_counts().head()"
   ]
  },
  {
   "cell_type": "code",
   "execution_count": 24,
   "metadata": {
    "collapsed": false
   },
   "outputs": [
    {
     "data": {
      "text/plain": [
       "118"
      ]
     },
     "execution_count": 24,
     "metadata": {},
     "output_type": "execute_result"
    }
   ],
   "source": [
    "autores_df['PAIS_EJEMPLAR'].nunique()"
   ]
  },
  {
   "cell_type": "code",
   "execution_count": 25,
   "metadata": {
    "collapsed": false
   },
   "outputs": [
    {
     "data": {
      "text/plain": [
       "Spain            42246\n",
       "Colombia         12237\n",
       "Argentina         8428\n",
       "Mexico            7879\n",
       "United States     4161\n",
       "Name: PAIS_EJEMPLAR, dtype: int64"
      ]
     },
     "execution_count": 25,
     "metadata": {},
     "output_type": "execute_result"
    }
   ],
   "source": [
    "autores_df['PAIS_EJEMPLAR'].value_counts().head()"
   ]
  },
  {
   "cell_type": "code",
   "execution_count": 26,
   "metadata": {
    "collapsed": false
   },
   "outputs": [
    {
     "name": "stdout",
     "output_type": "stream",
     "text": [
      "CPU times: user 12.2 s, sys: 7.99 ms, total: 12.2 s\n",
      "Wall time: 12.2 s\n"
     ]
    }
   ],
   "source": [
    "%%time\n",
    "\n",
    "all_routes = []\n",
    "for i, x in autores_df.iterrows():\n",
    "    geoloc_autor = x['GEOLOC_CAPITAL_AUTOR']\n",
    "    geoloc_ejemplar = x['GEOLOC_CAPITAL_EJEMPLAR']\n",
    "    all_routes.append((coord_place_d[geoloc_autor], coord_place_d[geoloc_ejemplar]))"
   ]
  },
  {
   "cell_type": "code",
   "execution_count": 27,
   "metadata": {
    "collapsed": false
   },
   "outputs": [],
   "source": [
    "cycles = [r for r in all_routes if r[0] == r[1]]\n",
    "routes = [r for r in all_routes if r[0] != r[1]]"
   ]
  },
  {
   "cell_type": "code",
   "execution_count": 28,
   "metadata": {
    "collapsed": false
   },
   "outputs": [],
   "source": [
    "cycles_c = Counter(cycles)\n",
    "routes_c = Counter(routes)"
   ]
  },
  {
   "cell_type": "code",
   "execution_count": 29,
   "metadata": {
    "collapsed": false
   },
   "outputs": [
    {
     "data": {
      "text/plain": [
       "47"
      ]
     },
     "execution_count": 29,
     "metadata": {},
     "output_type": "execute_result"
    }
   ],
   "source": [
    "len(cycles_c)"
   ]
  },
  {
   "cell_type": "code",
   "execution_count": 30,
   "metadata": {
    "collapsed": false
   },
   "outputs": [
    {
     "data": {
      "text/plain": [
       "1747"
      ]
     },
     "execution_count": 30,
     "metadata": {},
     "output_type": "execute_result"
    }
   ],
   "source": [
    "len(routes_c)"
   ]
  },
  {
   "cell_type": "code",
   "execution_count": 31,
   "metadata": {
    "collapsed": true
   },
   "outputs": [],
   "source": [
    "top_cycles = cycles_c.most_common()\n",
    "top_routes = routes_c.most_common()"
   ]
  },
  {
   "cell_type": "code",
   "execution_count": 32,
   "metadata": {
    "collapsed": false
   },
   "outputs": [
    {
     "data": {
      "text/plain": [
       "[(('Spain', 'Spain'), 8001),\n",
       " (('Colombia', 'Colombia'), 4897),\n",
       " (('Argentina', 'Argentina'), 1824),\n",
       " (('United States', 'United States'), 1737),\n",
       " (('Mexico', 'Mexico'), 1679),\n",
       " (('France', 'France'), 1129),\n",
       " (('United Kingdom', 'United Kingdom'), 910),\n",
       " (('Venezuela', 'Venezuela'), 486),\n",
       " (('Chile', 'Chile'), 340),\n",
       " (('Peru', 'Peru'), 301),\n",
       " (('Brazil', 'Brazil'), 285),\n",
       " (('Cuba', 'Cuba'), 264),\n",
       " (('Italy', 'Italy'), 219),\n",
       " (('Ecuador', 'Ecuador'), 154),\n",
       " (('Germany', 'Germany'), 145),\n",
       " (('Uruguay', 'Uruguay'), 85),\n",
       " (('Portugal', 'Portugal'), 67),\n",
       " (('Russia', 'Russia'), 59),\n",
       " (('Japan', 'Japan'), 39),\n",
       " (('El Salvador', 'El Salvador'), 24),\n",
       " (('Costa Rica', 'Costa Rica'), 20),\n",
       " (('Guatemala', 'Guatemala'), 20),\n",
       " (('Bolivia', 'Bolivia'), 20),\n",
       " (('Switzerland', 'Switzerland'), 17),\n",
       " (('Dominican Republic', 'Dominican Republic'), 15),\n",
       " (('Nicaragua', 'Nicaragua'), 13),\n",
       " (('Norway', 'Norway'), 13),\n",
       " (('Panama', 'Panama'), 11),\n",
       " (('Puerto Rico', 'Puerto Rico'), 8),\n",
       " (('Paraguay', 'Paraguay'), 8),\n",
       " (('Canada', 'Canada'), 8),\n",
       " (('Belgium', 'Belgium'), 7),\n",
       " (('Denmark', 'Denmark'), 7),\n",
       " (('Czech Republic', 'Czech Republic'), 6),\n",
       " (('Austria', 'Austria'), 6),\n",
       " (('Netherlands', 'Netherlands'), 5),\n",
       " (('China', 'China'), 5),\n",
       " (('Sweden', 'Sweden'), 5),\n",
       " (('Poland', 'Poland'), 4),\n",
       " (('Honduras', 'Honduras'), 4),\n",
       " (('India', 'India'), 3),\n",
       " (('Hungary', 'Hungary'), 3),\n",
       " (('Jamaica', 'Jamaica'), 2),\n",
       " (('Vietnam', 'Vietnam'), 2),\n",
       " (('Finland', 'Finland'), 1),\n",
       " (('Iran', 'Iran'), 1),\n",
       " (('Ireland', 'Ireland'), 1)]"
      ]
     },
     "execution_count": 32,
     "metadata": {},
     "output_type": "execute_result"
    }
   ],
   "source": [
    "top_cycles"
   ]
  },
  {
   "cell_type": "code",
   "execution_count": 33,
   "metadata": {
    "collapsed": false
   },
   "outputs": [
    {
     "data": {
      "text/plain": [
       "[(('United States', 'Spain'), 6872),\n",
       " (('United Kingdom', 'Spain'), 4575),\n",
       " (('France', 'Spain'), 4367),\n",
       " (('Germany', 'Spain'), 2936),\n",
       " (('Italy', 'Spain'), 2536),\n",
       " (('France', 'Argentina'), 1133),\n",
       " (('United States', 'Colombia'), 1115),\n",
       " (('United States', 'Argentina'), 988),\n",
       " (('United States', 'Mexico'), 978),\n",
       " (('Argentina', 'Spain'), 889),\n",
       " (('Austria', 'Spain'), 859),\n",
       " (('Spain', 'Colombia'), 763),\n",
       " (('France', 'Mexico'), 710),\n",
       " (('Belgium', 'Spain'), 644),\n",
       " (('Ireland', 'Spain'), 591),\n",
       " (('Switzerland', 'Spain'), 588),\n",
       " (('United Kingdom', 'United States'), 580),\n",
       " (('Germany', 'Argentina'), 553),\n",
       " (('United Kingdom', 'Colombia'), 545),\n",
       " (('United Kingdom', 'Mexico'), 544),\n",
       " (('United States', 'United Kingdom'), 540),\n",
       " (('United Kingdom', 'Argentina'), 525),\n",
       " (('Spain', 'Mexico'), 518),\n",
       " (('Canada', 'Spain'), 515),\n",
       " (('United States', 'New York (State)'), 509),\n",
       " (('France', 'Colombia'), 500),\n",
       " (('Italy', 'Argentina'), 485),\n",
       " (('Spain', 'Argentina'), 474),\n",
       " (('Germany', 'Mexico'), 459),\n",
       " (('Russia', 'Spain'), 452),\n",
       " (('Mexico', 'Spain'), 447),\n",
       " (('Poland', 'Spain'), 430),\n",
       " (('Argentina', 'Colombia'), 410),\n",
       " (('Cuba', 'Spain'), 380),\n",
       " (('Italy', 'Mexico'), 371),\n",
       " (('Germany', 'Colombia'), 354),\n",
       " (('Chile', 'Spain'), 354),\n",
       " (('Brazil', 'Colombia'), 336),\n",
       " (('Italy', 'Colombia'), 323),\n",
       " (('Germany', 'United States'), 319),\n",
       " (('Peru', 'Spain'), 315),\n",
       " (('Netherlands', 'Spain'), 311),\n",
       " (('Greece', 'Spain'), 311),\n",
       " (('Mexico', 'Colombia'), 303),\n",
       " (('Argentina', 'Mexico'), 302),\n",
       " (('Japan', 'Spain'), 280),\n",
       " (('Colombia', 'Spain'), 276),\n",
       " (('Portugal', 'Spain'), 270),\n",
       " (('Czech Republic', 'Spain'), 252),\n",
       " (('Chile', 'Colombia'), 238),\n",
       " (('India', 'Spain'), 237),\n",
       " (('Venezuela', 'Colombia'), 220),\n",
       " (('Brazil', 'Spain'), 218),\n",
       " (('Australia', 'Spain'), 204),\n",
       " (('Sweden', 'Spain'), 202),\n",
       " (('France', 'United States'), 198),\n",
       " (('Uruguay', 'Spain'), 195),\n",
       " (('Austria', 'Argentina'), 188),\n",
       " (('Algeria', 'Spain'), 181),\n",
       " (('Peru', 'Colombia'), 171),\n",
       " (('Belgium', 'Colombia'), 169),\n",
       " (('Prussia', 'Spain'), 165),\n",
       " (('Germany', 'United Kingdom'), 156),\n",
       " (('Cuba', 'Colombia'), 154),\n",
       " (('Canada', 'Colombia'), 154),\n",
       " (('Denmark', 'Spain'), 149),\n",
       " (('Austria', 'Mexico'), 146),\n",
       " (('Romania', 'Spain'), 143),\n",
       " (('Norway', 'Spain'), 141),\n",
       " (('Morocco', 'Spain'), 139),\n",
       " (('Ukraine', 'Spain'), 138),\n",
       " (('Uruguay', 'Argentina'), 137),\n",
       " (('Germany', 'France'), 135),\n",
       " (('Belgium', 'Argentina'), 130),\n",
       " (('Colombia', 'Mexico'), 129),\n",
       " (('Hungary', 'Spain'), 128),\n",
       " (('Egypt', 'Spain'), 128),\n",
       " (('Israel', 'Spain'), 127),\n",
       " (('Chile', 'Mexico'), 124),\n",
       " (('South Africa', 'Spain'), 115),\n",
       " (('Italy', 'United States'), 114),\n",
       " (('British Raj', 'Spain'), 113),\n",
       " (('France', 'United Kingdom'), 112),\n",
       " (('Venezuela', 'Spain'), 111),\n",
       " (('Brazil', 'Argentina'), 110),\n",
       " (('Switzerland', 'Argentina'), 108),\n",
       " (('Portugal', 'Colombia'), 107),\n",
       " (('Ireland', 'United Kingdom'), 105),\n",
       " (('Brazil', 'Mexico'), 104),\n",
       " (('Chile', 'Argentina'), 103),\n",
       " (('Russia', 'Argentina'), 103),\n",
       " (('United States', 'California'), 103),\n",
       " (('Cuba', 'Mexico'), 102),\n",
       " (('Italy', 'France'), 101),\n",
       " (('Canada', 'Argentina'), 100),\n",
       " (('Austria', 'United States'), 97),\n",
       " (('Austria', 'Colombia'), 96),\n",
       " (('Switzerland', 'Mexico'), 95),\n",
       " (('Ireland', 'Argentina'), 95),\n",
       " (('United Kingdom', 'New York (State)'), 95),\n",
       " (('France', 'Chile'), 93),\n",
       " (('Uruguay', 'Colombia'), 92),\n",
       " (('Panama', 'Mexico'), 91),\n",
       " (('Peru', 'Mexico'), 90),\n",
       " (('Belgium', 'France'), 90),\n",
       " (('Netherlands', 'Colombia'), 88),\n",
       " (('Ireland', 'Colombia'), 87),\n",
       " (('China', 'Spain'), 87),\n",
       " (('Colombia', 'Argentina'), 83),\n",
       " (('Greece', 'Argentina'), 81),\n",
       " (('Belgium', 'Mexico'), 80),\n",
       " (('Algeria', 'Argentina'), 79),\n",
       " (('Canada', 'United States'), 78),\n",
       " (('Nicaragua', 'Spain'), 77),\n",
       " (('United States', 'Venezuela'), 76),\n",
       " (('Ireland', 'United States'), 76),\n",
       " (('Canada', 'Mexico'), 75),\n",
       " (('France', 'Venezuela'), 75),\n",
       " (('Greece', 'Mexico'), 74),\n",
       " (('United States', 'France'), 73),\n",
       " (('Poland', 'Argentina'), 73),\n",
       " (('New Zealand', 'Spain'), 73),\n",
       " (('Peru', 'Argentina'), 72),\n",
       " (('Iran', 'Spain'), 71),\n",
       " (('Republic of Florence', 'Spain'), 71),\n",
       " (('Austria', 'United Kingdom'), 70),\n",
       " (('Uruguay', 'Mexico'), 69),\n",
       " (('Ireland', 'Mexico'), 69),\n",
       " (('India', 'Colombia'), 67),\n",
       " (('Spain', 'United States'), 65),\n",
       " (('Finland', 'Spain'), 64),\n",
       " (('Saint Lucia', 'Colombia'), 63),\n",
       " (('Russia', 'Mexico'), 63),\n",
       " (('Japan', 'Colombia'), 62),\n",
       " (('Grand Duchy of Baden', 'Spain'), 62),\n",
       " (('Württemberg', 'Spain'), 61),\n",
       " (('Spain', 'Venezuela'), 61),\n",
       " (('Italy', 'United Kingdom'), 61),\n",
       " (('India', 'Argentina'), 61),\n",
       " (('Turkey', 'Spain'), 61),\n",
       " (('Russia', 'Colombia'), 59),\n",
       " (('Cuba', 'Argentina'), 59),\n",
       " (('Czech Republic', 'Argentina'), 58),\n",
       " (('Canada', 'United Kingdom'), 57),\n",
       " (('Argentina', 'Venezuela'), 57),\n",
       " (('Ecuador', 'Colombia'), 57),\n",
       " (('Free City of Lübeck', 'Spain'), 57),\n",
       " (('Poland', 'Mexico'), 56),\n",
       " (('Mexico', 'Argentina'), 55),\n",
       " (('Russia', 'United States'), 54),\n",
       " (('Colombia', 'France'), 53),\n",
       " (('Spain', 'France'), 53),\n",
       " (('United States', 'Chile'), 53),\n",
       " (('Denmark', 'Colombia'), 52),\n",
       " (('Venezuela', 'Mexico'), 52),\n",
       " (('United Kingdom', 'Chile'), 52),\n",
       " (('Colombia', 'Venezuela'), 52),\n",
       " (('Vietnam', 'Spain'), 51),\n",
       " (('United Kingdom', 'France'), 51),\n",
       " (('Colombia', 'United States'), 51),\n",
       " (('Italy', 'Venezuela'), 50),\n",
       " (('Ukraine', 'Argentina'), 50),\n",
       " (('Jamaica', 'Spain'), 47),\n",
       " (('Prussia', 'Argentina'), 47),\n",
       " (('Electorate of Saxony', 'Spain'), 45),\n",
       " (('Algeria', 'France'), 44),\n",
       " (('Poland', 'United States'), 43),\n",
       " (('Cuba', 'Venezuela'), 43),\n",
       " (('Greece', 'Colombia'), 43),\n",
       " (('Bulgaria', 'Spain'), 42),\n",
       " (('Japan', 'United States'), 42),\n",
       " (('Czech Republic', 'Colombia'), 42),\n",
       " (('Australia', 'Mexico'), 41),\n",
       " (('Switzerland', 'Colombia'), 41),\n",
       " (('Prussia', 'Mexico'), 41),\n",
       " (('Argentina', 'Cuba'), 41),\n",
       " (('Netherlands', 'Mexico'), 41),\n",
       " (('Morocco', 'Argentina'), 40),\n",
       " (('Venezuela', 'Argentina'), 39),\n",
       " (('Nicaragua', 'Mexico'), 38),\n",
       " (('Serbia', 'Spain'), 38),\n",
       " (('Algeria', 'Mexico'), 38),\n",
       " (('Latvia', 'Spain'), 38),\n",
       " (('United States', 'Germany'), 38),\n",
       " (('Argentina', 'United States'), 37),\n",
       " (('Tunisia', 'Spain'), 37),\n",
       " (('United States', 'Massachusetts'), 37),\n",
       " (('India', 'United States'), 37),\n",
       " (('Lithuania', 'Spain'), 36),\n",
       " (('Czech Republic', 'Mexico'), 35),\n",
       " (('Panama', 'Spain'), 35),\n",
       " (('Ottoman Empire', 'Spain'), 34),\n",
       " (('Australia', 'United States'), 34),\n",
       " (('Lebanon', 'Spain'), 34),\n",
       " (('Greece', 'United Kingdom'), 34),\n",
       " (('Czech Republic', 'United States'), 34),\n",
       " (('India', 'Mexico'), 34),\n",
       " (('Spain', 'Chile'), 34),\n",
       " (('Germany', 'New York (State)'), 33),\n",
       " (('Switzerland', 'United States'), 33),\n",
       " (('Prussia', 'Colombia'), 33),\n",
       " (('Switzerland', 'France'), 33),\n",
       " (('France', 'Italy'), 32),\n",
       " (('Poland', 'Colombia'), 32),\n",
       " (('Germany', 'Chile'), 32),\n",
       " (('Australia', 'Colombia'), 31),\n",
       " (('Panama', 'Colombia'), 31),\n",
       " (('United Kingdom', 'Italy'), 31),\n",
       " (('Nicaragua', 'Colombia'), 31),\n",
       " (('United States', 'Canada'), 31),\n",
       " (('Japan', 'Mexico'), 30),\n",
       " (('Greece', 'France'), 30),\n",
       " (('Cuba', 'United States'), 30),\n",
       " (('United Kingdom', 'Venezuela'), 30),\n",
       " (('Württemberg', 'Argentina'), 30),\n",
       " (('Germany', 'Venezuela'), 29),\n",
       " (('Canada', 'France'), 29),\n",
       " (('Portugal', 'Mexico'), 29),\n",
       " (('Electorate of Cologne', 'United States'), 28),\n",
       " (('United States', 'Cuba'), 28),\n",
       " (('Australia', 'Argentina'), 28),\n",
       " (('Romania', 'Colombia'), 28),\n",
       " (('Kingdom of Lombardy–Venetia', 'Spain'), 28),\n",
       " (('Honduras', 'Mexico'), 27),\n",
       " (('Uruguay', 'Venezuela'), 27),\n",
       " (('Dominican Republic', 'Spain'), 27),\n",
       " (('France', 'Switzerland'), 27),\n",
       " (('Austria', 'Chile'), 26),\n",
       " (('Sweden', 'Mexico'), 26),\n",
       " (('Nigeria', 'Spain'), 26),\n",
       " (('Romania', 'Mexico'), 26),\n",
       " (('United States', 'Puerto Rico'), 26),\n",
       " (('Argentina', 'Chile'), 25),\n",
       " (('Switzerland', 'Cuba'), 25),\n",
       " (('Dominican Republic', 'Colombia'), 25),\n",
       " (('Romania', 'Argentina'), 25),\n",
       " (('Chile', 'Venezuela'), 25),\n",
       " (('Peru', 'Venezuela'), 25),\n",
       " (('Pakistan', 'Spain'), 25),\n",
       " (('British Raj', 'Argentina'), 25),\n",
       " (('Guatemala', 'Mexico'), 25),\n",
       " (('Philippines', 'Spain'), 25),\n",
       " (('British Raj', 'United Kingdom'), 24),\n",
       " (('Italy', 'Brazil'), 24),\n",
       " (('Algeria', 'Colombia'), 24),\n",
       " (('United States', 'Washington (State)'), 24),\n",
       " (('Japan', 'Argentina'), 24),\n",
       " (('Uruguay', 'Cuba'), 23),\n",
       " (('Mexico', 'Venezuela'), 23),\n",
       " (('Germany', 'Italy'), 23),\n",
       " (('Bulgaria', 'Mexico'), 23),\n",
       " (('Kingdom of Galicia and Lodomeria', 'Spain'), 23),\n",
       " (('Grand Duchy of Baden', 'Argentina'), 23),\n",
       " (('Switzerland', 'United Kingdom'), 22),\n",
       " (('Zimbabwe', 'Spain'), 22),\n",
       " (('Russia', 'United Kingdom'), 22),\n",
       " (('Sweden', 'United States'), 22),\n",
       " (('Morocco', 'Colombia'), 22),\n",
       " (('Germany', 'Austria'), 22),\n",
       " (('Belgium', 'United States'), 22),\n",
       " (('Israel', 'Mexico'), 22),\n",
       " (('Free City of Lübeck', 'Argentina'), 21),\n",
       " (('Austria', 'Germany'), 21),\n",
       " (('Netherlands', 'United States'), 21),\n",
       " (('Electorate of Cologne', 'United Kingdom'), 21),\n",
       " (('Spain', 'Cuba'), 21),\n",
       " (('Electorate of Cologne', 'Spain'), 21),\n",
       " (('Canada', 'New York (State)'), 21),\n",
       " (('Germany', 'Russia'), 21),\n",
       " (('Guatemala', 'Spain'), 21),\n",
       " (('Honduras', 'Spain'), 21),\n",
       " (('Ecuador', 'Spain'), 20),\n",
       " (('South Africa', 'Colombia'), 20),\n",
       " (('Hungary', 'Argentina'), 20),\n",
       " (('Ecuador', 'Mexico'), 20),\n",
       " (('British Raj', 'Colombia'), 20),\n",
       " (('Japan', 'United Kingdom'), 20),\n",
       " (('Netherlands', 'Argentina'), 20),\n",
       " (('Greece', 'United States'), 20),\n",
       " (('Peru', 'Chile'), 20),\n",
       " (('United States', 'Italy'), 20),\n",
       " (('Dominican Republic', 'Mexico'), 20),\n",
       " (('Puerto Rico', 'Spain'), 20),\n",
       " (('Egypt', 'Mexico'), 20),\n",
       " (('Eritrea', 'Brazil'), 19),\n",
       " (('Iran', 'Colombia'), 19),\n",
       " (('Austria', 'France'), 19),\n",
       " (('France', 'New York (State)'), 19),\n",
       " (('British Raj', 'United States'), 19),\n",
       " (('Spain', 'Peru'), 19),\n",
       " (('Germany', 'Canada'), 19),\n",
       " (('France', 'Germany'), 19),\n",
       " (('Czech Republic', 'United Kingdom'), 19),\n",
       " (('Italy', 'Germany'), 19),\n",
       " (('India', 'United Kingdom'), 19),\n",
       " (('Russia', 'France'), 19),\n",
       " (('Ecuador', 'Argentina'), 19),\n",
       " (('Spain', 'United Kingdom'), 18),\n",
       " (('Ukraine', 'Mexico'), 18),\n",
       " (('Taiwan', 'Spain'), 18),\n",
       " (('Mexico', 'United States'), 18),\n",
       " (('Turkey', 'Colombia'), 18),\n",
       " (('Germany', 'Switzerland'), 18),\n",
       " (('Japan', 'New York (State)'), 18),\n",
       " (('Ireland', 'New York (State)'), 18),\n",
       " (('Brazil', 'United States'), 17),\n",
       " (('United States', 'Switzerland'), 17),\n",
       " (('Germany', 'Netherlands'), 17),\n",
       " (('Republic of Florence', 'Colombia'), 17),\n",
       " (('Australia', 'United Kingdom'), 17),\n",
       " (('Sweden', 'Colombia'), 17),\n",
       " (('Germany', 'Japan'), 17),\n",
       " (('Kenya', 'Spain'), 17),\n",
       " (('Nicaragua', 'Argentina'), 16),\n",
       " (('Denmark', 'Argentina'), 16),\n",
       " (('Norway', 'Argentina'), 16),\n",
       " (('Turkey', 'Argentina'), 16),\n",
       " (('Hungary', 'United States'), 16),\n",
       " (('Croatia', 'Spain'), 16),\n",
       " (('Italy', 'Austria'), 16),\n",
       " (('Hungary', 'Mexico'), 16),\n",
       " (('Kingdom of Lombardy–Venetia', 'Colombia'), 16),\n",
       " (('Madagascar', 'Spain'), 16),\n",
       " (('Chile', 'Cuba'), 16),\n",
       " (('United States', 'Brazil'), 16),\n",
       " (('Germany', 'Cuba'), 16),\n",
       " (('Portugal', 'Argentina'), 16),\n",
       " (('Bulgaria', 'Argentina'), 16),\n",
       " (('France', 'Canada'), 16),\n",
       " (('New Zealand', 'United Kingdom'), 16),\n",
       " (('United States', 'Peru'), 16),\n",
       " (('Denmark', 'Mexico'), 15),\n",
       " (('Free City of Lübeck', 'Chile'), 15),\n",
       " (('Bolivia', 'Spain'), 15),\n",
       " (('South Africa', 'United States'), 15),\n",
       " (('Burma', 'Spain'), 15),\n",
       " (('Algeria', 'United States'), 15),\n",
       " (('Belarus', 'Spain'), 15),\n",
       " (('New Zealand', 'Argentina'), 15),\n",
       " (('Norway', 'Mexico'), 15),\n",
       " (('United States', 'Ecuador'), 15),\n",
       " (('Peru', 'United States'), 15),\n",
       " (('Ireland', 'France'), 15),\n",
       " (('Canada', 'Venezuela'), 15),\n",
       " (('France', 'Peru'), 15),\n",
       " (('United Kingdom', 'California'), 15),\n",
       " (('Spain', 'Ecuador'), 15),\n",
       " (('Argentina', 'France'), 15),\n",
       " (('Germany', 'California'), 15),\n",
       " (('Romania', 'France'), 14),\n",
       " (('United Kingdom', 'Massachusetts'), 14),\n",
       " (('Belgium', 'United Kingdom'), 14),\n",
       " (('Czech Republic', 'France'), 14),\n",
       " (('Colombia', 'Peru'), 14),\n",
       " (('Venezuela', 'Cuba'), 14),\n",
       " (('Tunisia', 'Mexico'), 14),\n",
       " (('Bangladesh', 'Spain'), 14),\n",
       " (('Colombia', 'Portugal'), 14),\n",
       " (('Netherlands', 'Venezuela'), 14),\n",
       " (('Colombia', 'Chile'), 14),\n",
       " (('Norway', 'United States'), 14),\n",
       " (('Poland', 'United Kingdom'), 14),\n",
       " (('Colombia', 'Cuba'), 14),\n",
       " (('Bolivia', 'Colombia'), 14),\n",
       " (('United States', 'New Jersey'), 13),\n",
       " (('Uruguay', 'Chile'), 13),\n",
       " (('Honduras', 'Colombia'), 13),\n",
       " (('South Africa', 'Mexico'), 13),\n",
       " (('Guatemala', 'Colombia'), 13),\n",
       " (('Egypt', 'Argentina'), 13),\n",
       " (('China', 'Colombia'), 13),\n",
       " (('Italy', 'Uruguay'), 13),\n",
       " (('Saint Lucia', 'Spain'), 13),\n",
       " (('United Kingdom', 'Brazil'), 13),\n",
       " (('Denmark', 'United States'), 13),\n",
       " (('Italy', 'Japan'), 13),\n",
       " (('France', 'Ecuador'), 13),\n",
       " (('United States', 'Netherlands'), 13),\n",
       " (('Grand Duchy of Baden', 'Mexico'), 13),\n",
       " (('Sri Lanka', 'Spain'), 13),\n",
       " (('Italy', 'Cuba'), 13),\n",
       " (('Germany', 'Peru'), 13),\n",
       " (('Colombia', 'Germany'), 13),\n",
       " (('Paraguay', 'Spain'), 13),\n",
       " (('Bolivia', 'Mexico'), 13),\n",
       " (('Hungary', 'Colombia'), 13),\n",
       " (('Ecuador', 'Venezuela'), 13),\n",
       " (('Portugal', 'Venezuela'), 13),\n",
       " (('South Africa', 'United Kingdom'), 13),\n",
       " (('Colombia', 'United Kingdom'), 13),\n",
       " (('Italy', 'Canada'), 12),\n",
       " (('Free City of Lübeck', 'Colombia'), 12),\n",
       " (('Württemberg', 'Mexico'), 12),\n",
       " (('Brazil', 'Venezuela'), 12),\n",
       " (('United States', 'Illinois'), 12),\n",
       " (('France', 'Cuba'), 12),\n",
       " (('Eritrea', 'Colombia'), 12),\n",
       " (('Paraguay', 'Argentina'), 12),\n",
       " (('New Zealand', 'United States'), 12),\n",
       " (('United States', 'Florida'), 12),\n",
       " (('Ukraine', 'United States'), 12),\n",
       " (('Peru', 'Cuba'), 11),\n",
       " (('Jamaica', 'Argentina'), 11),\n",
       " (('Netherlands', 'United Kingdom'), 11),\n",
       " (('Italy', 'New York (State)'), 11),\n",
       " (('Panama', 'Argentina'), 11),\n",
       " (('Kingdom of Lombardy–Venetia', 'Mexico'), 11),\n",
       " (('Sweden', 'Chile'), 11),\n",
       " (('Andorra', 'Spain'), 11),\n",
       " (('Italy', 'Netherlands'), 11),\n",
       " (('Costa Rica', 'Spain'), 11),\n",
       " (('Poland', 'Germany'), 11),\n",
       " (('Portugal', 'Brazil'), 11),\n",
       " (('Chile', 'United States'), 11),\n",
       " (('France', 'Austria'), 11),\n",
       " (('Italy', 'Chile'), 11),\n",
       " (('Belgium', 'Venezuela'), 11),\n",
       " (('Republic of Florence', 'Argentina'), 11),\n",
       " (('Republic of Genoa', 'Spain'), 11),\n",
       " (('Syria', 'Spain'), 11),\n",
       " (('Brazil', 'Chile'), 10),\n",
       " (('Afghanistan', 'Spain'), 10),\n",
       " (('United Kingdom', 'Ecuador'), 10),\n",
       " (('Switzerland', 'Venezuela'), 10),\n",
       " (('Tunisia', 'Argentina'), 10),\n",
       " (('Sweden', 'Argentina'), 10),\n",
       " (('El Salvador', 'Colombia'), 10),\n",
       " (('Malta', 'Spain'), 10),\n",
       " (('Mexico', 'Chile'), 10),\n",
       " (('Serbia', 'Mexico'), 10),\n",
       " (('Switzerland', 'Chile'), 10),\n",
       " (('Egypt', 'United States'), 10),\n",
       " (('Brazil', 'Burma'), 10),\n",
       " (('Colombia', 'Italy'), 10),\n",
       " (('United Kingdom', 'Germany'), 10),\n",
       " (('Germany', 'Brazil'), 10),\n",
       " (('South Korea', 'Spain'), 10),\n",
       " (('Ireland', 'Venezuela'), 9),\n",
       " (('Iceland', 'Spain'), 9),\n",
       " (('Egypt', 'United Kingdom'), 9),\n",
       " (('Liberia', 'Spain'), 9),\n",
       " (('Romania', 'United States'), 9),\n",
       " (('July Monarchy', 'Spain'), 9),\n",
       " (('Mexico', 'Ecuador'), 9),\n",
       " (('South Africa', 'Argentina'), 9),\n",
       " (('China', 'United States'), 9),\n",
       " (('Paraguay', 'Mexico'), 9),\n",
       " (('Prussia', 'United States'), 9),\n",
       " (('Republic of Florence', 'Mexico'), 9),\n",
       " (('South Korea', 'Mexico'), 9),\n",
       " (('Colombia', 'Brazil'), 9),\n",
       " (('Costa Rica', 'Colombia'), 9),\n",
       " (('Kingdom of Galicia and Lodomeria', 'Mexico'), 9),\n",
       " (('Württemberg', 'Colombia'), 9),\n",
       " (('Poland', 'Venezuela'), 9),\n",
       " (('Thailand', 'Spain'), 9),\n",
       " (('Israel', 'United States'), 9),\n",
       " (('Indonesia', 'Spain'), 9),\n",
       " (('Colombia', 'New York (State)'), 9),\n",
       " (('Spain', 'El Salvador'), 9),\n",
       " (('Cuba', 'Chile'), 9),\n",
       " (('Belgium', 'New York (State)'), 9),\n",
       " (('Poland', 'France'), 9),\n",
       " (('Libya', 'Spain'), 9),\n",
       " (('Australia', 'Chile'), 9),\n",
       " (('Chile', 'China'), 9),\n",
       " (('Spain', 'Italy'), 9),\n",
       " (('United States', 'Japan'), 9),\n",
       " (('Venezuela', 'Chile'), 8),\n",
       " (('Lithuania', 'United States'), 8),\n",
       " (('Germany', 'Uruguay'), 8),\n",
       " (('Hungary', 'United Kingdom'), 8),\n",
       " (('Iran', 'France'), 8),\n",
       " (('Poland', 'Canada'), 8),\n",
       " (('France', 'Netherlands'), 8),\n",
       " (('Jersey', 'Spain'), 8),\n",
       " (('Bolivia', 'Brazil'), 8),\n",
       " (('Israel', 'Argentina'), 8),\n",
       " (('Spain', 'Uruguay'), 8),\n",
       " (('Senegal', 'Spain'), 8),\n",
       " (('Spain', 'New York (State)'), 8),\n",
       " (('Brazil', 'France'), 8),\n",
       " (('Brazil', 'Cuba'), 8),\n",
       " (('France', 'California'), 8),\n",
       " (('Iran', 'United States'), 8),\n",
       " (('Prussia', 'Russia'), 8),\n",
       " (('France', 'Brazil'), 8),\n",
       " (('Paraguay', 'Colombia'), 8),\n",
       " (('Brazil', 'Ecuador'), 8),\n",
       " (('Switzerland', 'Germany'), 8),\n",
       " (('France', 'Belgium'), 8),\n",
       " (('July Monarchy', 'Argentina'), 8),\n",
       " (('Italy', 'Peru'), 8),\n",
       " (('Puebla', 'Mexico'), 8),\n",
       " (('Dominican Republic', 'Argentina'), 8),\n",
       " (('Cuba', 'Costa Rica'), 8),\n",
       " (('Belgium', 'Chile'), 8),\n",
       " (('Russia', 'China'), 8),\n",
       " (('Argentina', 'Uruguay'), 8),\n",
       " (('El Salvador', 'Spain'), 8),\n",
       " (('Imperio aqueménida', 'Spain'), 8),\n",
       " (('Cuba', 'Ecuador'), 8),\n",
       " (('Vietnam', 'Argentina'), 7),\n",
       " (('Cameroon', 'Spain'), 7),\n",
       " (('Duchy of Schleswig', 'Spain'), 7),\n",
       " (('Republic of Florence', 'Italy'), 7),\n",
       " (('Argentina', 'United Kingdom'), 7),\n",
       " (('United Kingdom', 'Peru'), 7),\n",
       " (('Morocco', 'France'), 7),\n",
       " (('Württemberg', 'United States'), 7),\n",
       " (('Venezuela', 'France'), 7),\n",
       " (('Italy', 'Ecuador'), 7),\n",
       " (('Spain', 'Austria'), 7),\n",
       " (('Lithuania', 'Mexico'), 7),\n",
       " (('Colombia', 'Ecuador'), 7),\n",
       " (('Electorate of Saxony', 'Mexico'), 7),\n",
       " (('Latvia', 'United Kingdom'), 7),\n",
       " (('Ireland', 'Chile'), 7),\n",
       " (('Zambia', 'Argentina'), 7),\n",
       " (('United Kingdom', 'New Jersey'), 7),\n",
       " (('Greece', 'Chile'), 7),\n",
       " (('Electorate of Cologne', 'Austria'), 7),\n",
       " (('Bolivia', 'Argentina'), 7),\n",
       " (('United States', 'China'), 7),\n",
       " (('Free City of Lübeck', 'Mexico'), 7),\n",
       " (('United Kingdom', 'Netherlands'), 7),\n",
       " (('Mozambique', 'Portugal'), 7),\n",
       " (('Lithuania', 'France'), 7),\n",
       " (('Latvia', 'Mexico'), 7),\n",
       " (('Chile', 'Peru'), 7),\n",
       " (('Venezuela', 'Ecuador'), 7),\n",
       " (('China', 'Mexico'), 7),\n",
       " (('Electorate of Saxony', 'Argentina'), 7),\n",
       " (('Mexico', 'Peru'), 7),\n",
       " (('United States of the Ionian Islands', 'Spain'), 7),\n",
       " (('Japan', 'France'), 7),\n",
       " (('British Ceylon', 'Spain'), 7),\n",
       " (('China', 'Argentina'), 7),\n",
       " (('United Kingdom', 'Cuba'), 7),\n",
       " (('Grand Duchy of Mecklenburg-Schwerin', 'Spain'), 7),\n",
       " (('United States', 'Connecticut'), 7),\n",
       " (('Bulgaria', 'France'), 7),\n",
       " (('Norway', 'United Kingdom'), 7),\n",
       " (('Ottoman Empire', 'Argentina'), 7),\n",
       " (('Argentina', 'Brazil'), 7),\n",
       " (('Prussia', 'France'), 7),\n",
       " (('United States', 'Austria'), 7),\n",
       " (('Prussia', 'Germany'), 7),\n",
       " (('Hungary', 'Germany'), 7),\n",
       " (('Mozambique', 'Spain'), 7),\n",
       " (('Ukraine', 'Colombia'), 6),\n",
       " (('Argentina', 'Peru'), 6),\n",
       " (('Duchy of Salzburg', 'Spain'), 6),\n",
       " (('Singapore', 'Spain'), 6),\n",
       " (('Nigeria', 'United States'), 6),\n",
       " (('Czech Republic', 'Germany'), 6),\n",
       " (('United Kingdom', 'Canada'), 6),\n",
       " (('Nicaragua', 'Venezuela'), 6),\n",
       " (('South Africa', 'France'), 6),\n",
       " (('British Raj', 'Mexico'), 6),\n",
       " (('Electorate of Cologne', 'Germany'), 6),\n",
       " (('Slovenia', 'Spain'), 6),\n",
       " (('Uganda', 'Spain'), 6),\n",
       " (('Netherlands', 'Cuba'), 6),\n",
       " (('Ecuador', 'Cuba'), 6),\n",
       " (('Egypt', 'France'), 6),\n",
       " (('Iran', 'New York (State)'), 6),\n",
       " (('Spain', 'Canada'), 6),\n",
       " (('Morocco', 'Mexico'), 6),\n",
       " (('El Salvador', 'Mexico'), 6),\n",
       " (('Costa Rica', 'Mexico'), 6),\n",
       " (('Iraq', 'Spain'), 6),\n",
       " (('Angola', 'Spain'), 6),\n",
       " (('Kenya', 'New York (State)'), 6),\n",
       " (('Switzerland', 'Italy'), 6),\n",
       " (('Iran', 'United Kingdom'), 6),\n",
       " (('Turkey', 'Mexico'), 6),\n",
       " (('Norway', 'Colombia'), 6),\n",
       " (('Belarus', 'Argentina'), 6),\n",
       " (('Vietnam', 'France'), 6),\n",
       " (('Austria', 'Italy'), 6),\n",
       " (('Netherlands', 'France'), 6),\n",
       " (('British Raj', 'Chile'), 6),\n",
       " (('France', 'Uruguay'), 6),\n",
       " (('Haiti', 'Spain'), 6),\n",
       " (('Spain', 'Germany'), 6),\n",
       " (('United Kingdom', 'Indiana'), 6),\n",
       " (('Slovakia', 'Spain'), 6),\n",
       " (('New Zealand', 'Colombia'), 6),\n",
       " (('Jamaica', 'Mexico'), 6),\n",
       " (('Austria', 'New York (State)'), 6),\n",
       " (('Greece', 'Italy'), 6),\n",
       " (('Haiti', 'Colombia'), 6),\n",
       " (('France', 'El Salvador'), 6),\n",
       " (('Brazil', 'United Kingdom'), 6),\n",
       " (('Switzerland', 'New York (State)'), 6),\n",
       " (('Prussia', 'United Kingdom'), 6),\n",
       " (('Russia', 'Cuba'), 5),\n",
       " (('United States', 'Tennessee'), 5),\n",
       " (('Greece', 'New York (State)'), 5),\n",
       " (('Netherlands', 'Italy'), 5),\n",
       " (('Austria', 'Brazil'), 5),\n",
       " (('Australia', 'New York (State)'), 5),\n",
       " (('Australia', 'Venezuela'), 5),\n",
       " (('Croatia', 'United States'), 5),\n",
       " (('Puerto Rico', 'Colombia'), 5),\n",
       " (('United States', 'North Carolina'), 5),\n",
       " (('India', 'New York (State)'), 5),\n",
       " (('Cuba', 'United Kingdom'), 5),\n",
       " (('United States', 'Missouri'), 5),\n",
       " (('Russia', 'Canada'), 5),\n",
       " (('Electorate of Cologne', 'New York (State)'), 5),\n",
       " (('Electorate of Cologne', 'France'), 5),\n",
       " (('Austria', 'Netherlands'), 5),\n",
       " (('Ottoman Empire', 'Mexico'), 5),\n",
       " (('Burma', 'Colombia'), 5),\n",
       " (('Costa Rica', 'Venezuela'), 5),\n",
       " (('Monaco', 'Spain'), 5),\n",
       " (('Eritrea', 'Spain'), 5),\n",
       " (('Lithuania', 'United Kingdom'), 5),\n",
       " (('Canada', 'Chile'), 5),\n",
       " (('Algeria', 'Chile'), 5),\n",
       " (('Zambia', 'Spain'), 5),\n",
       " (('Colombia', 'Sikkim'), 5),\n",
       " (('Malaysia', 'Spain'), 5),\n",
       " (('Chile', 'Ecuador'), 5),\n",
       " (('New Zealand', 'Mexico'), 5),\n",
       " (('Bulgaria', 'United States'), 5),\n",
       " (('Saint Lucia', 'United States'), 5),\n",
       " (('Latvia', 'United States'), 5),\n",
       " (('Russia', 'Germany'), 5),\n",
       " (('Egypt', 'Colombia'), 5),\n",
       " (('Lithuania', 'Argentina'), 5),\n",
       " (('Egypt', 'Brazil'), 5),\n",
       " (('United States', 'Indiana'), 5),\n",
       " (('Georgia', 'Spain'), 5),\n",
       " (('Luxembourg', 'Spain'), 5),\n",
       " (('Spain', 'Costa Rica'), 5),\n",
       " (('Dominican Republic', 'Venezuela'), 5),\n",
       " (('France', 'Japan'), 5),\n",
       " (('Germany', 'Costa Rica'), 5),\n",
       " (('United States', 'Costa Rica'), 5),\n",
       " (('Republic of Venice', 'Spain'), 5),\n",
       " (('Germany', 'China'), 5),\n",
       " (('Mexico', 'Cuba'), 5),\n",
       " (('Finland', 'United Kingdom'), 5),\n",
       " (('Austria', 'Sweden'), 5),\n",
       " (('Indonesia', 'Tennessee'), 5),\n",
       " (('Sri Lanka', 'United States'), 5),\n",
       " (('Czech Republic', 'Canada'), 5),\n",
       " (('Uruguay', 'Russia'), 5),\n",
       " (('Free City of Lübeck', 'United States'), 5),\n",
       " (('Colombia', 'Costa Rica'), 5),\n",
       " (('Grand Duchy of Baden', 'Chile'), 5),\n",
       " (('Somalia', 'Spain'), 5),\n",
       " (('Argentina', 'Ecuador'), 5),\n",
       " (('Austria', 'Venezuela'), 4),\n",
       " (('Estonia', 'Spain'), 4),\n",
       " (('China', 'New York (State)'), 4),\n",
       " (('Mexico', 'New York (State)'), 4),\n",
       " (('Sweden', 'France'), 4),\n",
       " (('Russia', 'Venezuela'), 4),\n",
       " (('Zambia', 'Colombia'), 4),\n",
       " (('Denmark', 'Brazil'), 4),\n",
       " (('Australia', 'China'), 4),\n",
       " (('Antigua and Barbuda', 'Spain'), 4),\n",
       " (('Lithuania', 'Colombia'), 4),\n",
       " (('Nicaragua', 'Cuba'), 4),\n",
       " (('Poland', 'Chile'), 4),\n",
       " (('South Africa', 'Venezuela'), 4),\n",
       " (('Syria', 'Mexico'), 4),\n",
       " (('India', 'Chile'), 4),\n",
       " (('Uruguay', 'United States'), 4),\n",
       " (('Nicaragua', 'Chile'), 4),\n",
       " (('Cuba', 'Puerto Rico'), 4),\n",
       " (('Dominica', 'Spain'), 4),\n",
       " (('Kingdom of Galicia and Lodomeria', 'United States'), 4),\n",
       " (('Mali', 'Mexico'), 4),\n",
       " (('Venezuela', 'United States'), 4),\n",
       " (('Ukraine', 'France'), 4),\n",
       " (('Peru', 'Ecuador'), 4),\n",
       " (('Sierra Leone', 'Spain'), 4),\n",
       " ((\"Côte d'Ivoire\", 'Spain'), 4),\n",
       " (('Algeria', 'United Kingdom'), 4),\n",
       " (('Kingdom of Lombardy–Venetia', 'Italy'), 4),\n",
       " (('Dominican Republic', 'United States'), 4),\n",
       " (('Finland', 'Mexico'), 4),\n",
       " (('Jamaica', 'New York (State)'), 4),\n",
       " (('Venezuela', 'Peru'), 4),\n",
       " (('Albania', 'Spain'), 4),\n",
       " (('United Kingdom', 'South Korea'), 4),\n",
       " (('Senegal', 'France'), 4),\n",
       " (('Ireland', 'Ecuador'), 4),\n",
       " (('Denmark', 'Germany'), 4),\n",
       " (('Argentina', 'New York (State)'), 4),\n",
       " (('Denmark', 'United Kingdom'), 4),\n",
       " (('Peru', 'France'), 4),\n",
       " (('Belarus', 'United States'), 4),\n",
       " (('Poland', 'Austria'), 4),\n",
       " (('Puerto Rico', 'United States'), 4),\n",
       " (('Russia', 'Austria'), 4),\n",
       " (('Ukraine', 'Brazil'), 4),\n",
       " (('Uruguay', 'Peru'), 4),\n",
       " (('Japan', 'Peru'), 4),\n",
       " (('United States of the Ionian Islands', 'Japan'), 4),\n",
       " (('Turkey', 'New York (State)'), 4),\n",
       " (('Cuba', 'Austria'), 4),\n",
       " (('Electorate of Cologne', 'Japan'), 4),\n",
       " (('Peru', 'United Kingdom'), 4),\n",
       " (('Burkina Faso', 'Spain'), 4),\n",
       " (('Namibia', 'Colombia'), 4),\n",
       " (('Electorate of Saxony', 'France'), 4),\n",
       " (('Mexico', 'Costa Rica'), 4),\n",
       " (('Netherlands', 'Germany'), 4),\n",
       " (('Jamaica', 'United States'), 4),\n",
       " (('Schwarzburg-Sondershausen', 'Spain'), 4),\n",
       " (('Romania', 'United Kingdom'), 4),\n",
       " (('Mexico', 'France'), 4),\n",
       " (('Kingdom of Lombardy–Venetia', 'Argentina'), 4),\n",
       " (('Panama', 'Costa Rica'), 4),\n",
       " (('Cuba', 'France'), 4),\n",
       " (('Canada', 'California'), 4),\n",
       " (('Republic of Florence', 'United States'), 4),\n",
       " (('Brazil', 'Portugal'), 4),\n",
       " (('United States', 'Ohio'), 4),\n",
       " (('Dutch Republic', 'Spain'), 4),\n",
       " (('Württemberg', 'New York (State)'), 4),\n",
       " (('Belarus', 'Mexico'), 4),\n",
       " (('Indonesia', 'Mexico'), 4),\n",
       " (('Kingdom of Bavaria', 'Spain'), 4),\n",
       " (('Uruguay', 'Japan'), 4),\n",
       " (('Czech Republic', 'Chile'), 4),\n",
       " (('Bulgaria', 'Venezuela'), 4),\n",
       " (('United States', 'Panama'), 4),\n",
       " (('Ukraine', 'United Kingdom'), 4),\n",
       " (('Brazil', 'Peru'), 4),\n",
       " (('India', 'Finland'), 4),\n",
       " (('Poland', 'Cuba'), 3),\n",
       " (('Nicaragua', 'United States'), 3),\n",
       " (('Vietnam', 'Venezuela'), 3),\n",
       " (('Japan', 'Venezuela'), 3),\n",
       " (('Nigeria', 'United Kingdom'), 3),\n",
       " (('Dominican Republic', 'Ecuador'), 3),\n",
       " (('Switzerland', 'Uruguay'), 3),\n",
       " (('Ireland', 'Italy'), 3),\n",
       " (('Spain', 'China'), 3),\n",
       " (('Netherlands', 'New Jersey'), 3),\n",
       " (('Japan', 'California'), 3),\n",
       " (('Virginia', 'Spain'), 3),\n",
       " (('United Kingdom', 'Austria'), 3),\n",
       " (('Austria', 'Switzerland'), 3),\n",
       " (('Iran', 'Argentina'), 3),\n",
       " (('Jamaica', 'United Kingdom'), 3),\n",
       " (('Peru', 'New York (State)'), 3),\n",
       " (('United Kingdom', 'Illinois'), 3),\n",
       " (('Switzerland', 'Greece'), 3),\n",
       " (('Russia', 'New York (State)'), 3),\n",
       " (('Haiti', 'Cuba'), 3),\n",
       " (('Belgium', 'Ecuador'), 3),\n",
       " (('Argentina', 'Austria'), 3),\n",
       " (('Cyprus', 'United States'), 3),\n",
       " (('Zimbabwe', 'Colombia'), 3),\n",
       " (('Mexico', 'Italy'), 3),\n",
       " (('Croatia', 'Mexico'), 3),\n",
       " (('Czech Republic', 'Italy'), 3),\n",
       " (('Nicaragua', 'Peru'), 3),\n",
       " (('Uruguay', 'Costa Rica'), 3),\n",
       " (('Poland', 'Ecuador'), 3),\n",
       " (('Malawi', 'Spain'), 3),\n",
       " (('Slovenia', 'Argentina'), 3),\n",
       " (('Azerbaijan', 'Spain'), 3),\n",
       " (('Ukraine', 'New York (State)'), 3),\n",
       " (('Chile', 'United Kingdom'), 3),\n",
       " (('Electorate of Cologne', 'Canada'), 3),\n",
       " (('Taifa of Murcia', 'Spain'), 3),\n",
       " (('Canada', 'Illinois'), 3),\n",
       " (('Jamaica', 'Venezuela'), 3),\n",
       " (('Russia', 'Chile'), 3),\n",
       " (('Monaco', 'Argentina'), 3),\n",
       " (('Spain', 'Switzerland'), 3),\n",
       " (('Morocco', 'United States'), 3),\n",
       " (('Grand Duchy of Baden', 'Colombia'), 3),\n",
       " (('Haiti', 'Venezuela'), 3),\n",
       " (('Sri Lanka', 'Argentina'), 3),\n",
       " (('Germany', 'Belgium'), 3),\n",
       " (('Romania', 'New York (State)'), 3),\n",
       " (('Uzbekistan', 'Spain'), 3),\n",
       " (('Pakistan', 'Mexico'), 3),\n",
       " (('Romania', 'Venezuela'), 3),\n",
       " (('Paraguay', 'Chile'), 3),\n",
       " (('Gibraltar', 'Spain'), 3),\n",
       " (('Belgium', 'Cuba'), 3),\n",
       " (('Nevis', 'Mexico'), 3),\n",
       " (('Antigua and Barbuda', 'New York (State)'), 3),\n",
       " (('Ukraine', 'Venezuela'), 3),\n",
       " (('Liberia', 'Mexico'), 3),\n",
       " (('Guyana', 'United Kingdom'), 3),\n",
       " (('Netherlands', 'Chile'), 3),\n",
       " (('Japan', 'China'), 3),\n",
       " (('Republic of the Congo', 'Spain'), 3),\n",
       " (('Poland', 'New York (State)'), 3),\n",
       " (('Ottoman Empire', 'Colombia'), 3),\n",
       " (('Japan', 'Germany'), 3),\n",
       " (('Kingdom of Lombardy–Venetia', 'Chile'), 3),\n",
       " (('Cuba', 'Florida'), 3),\n",
       " (('Electorate of Cologne', 'Switzerland'), 3),\n",
       " (('Netherlands', 'New York (State)'), 3),\n",
       " (('Colombia', 'El Salvador'), 3),\n",
       " (('Egypt', 'Venezuela'), 3),\n",
       " (('Serbia', 'United States'), 3),\n",
       " (('Austria', 'Ecuador'), 3),\n",
       " (('Uruguay', 'France'), 3),\n",
       " (('Poland', 'Italy'), 3),\n",
       " (('United Kingdom', 'Sweden'), 3),\n",
       " (('Colombia', 'Uruguay'), 3),\n",
       " (('Bulgaria', 'Colombia'), 3),\n",
       " (('Iraq', 'Israel'), 3),\n",
       " (('Colombia', 'Netherlands'), 3),\n",
       " (('Mexico', 'Nicaragua'), 3),\n",
       " (('Turkey', 'United States'), 3),\n",
       " (('Belgium', 'Canada'), 3),\n",
       " (('France', 'Costa Rica'), 3),\n",
       " (('United States', 'Uruguay'), 3),\n",
       " (('Panama', 'Venezuela'), 3),\n",
       " (('United States', 'Pennsylvania'), 3),\n",
       " (('Finland', 'Germany'), 3),\n",
       " (('British Ceylon', 'United States'), 3),\n",
       " (('Bolivia', 'Peru'), 3),\n",
       " (('Iran', 'Mexico'), 3),\n",
       " (('Slovakia', 'Argentina'), 3),\n",
       " (('Argentina', 'Netherlands'), 3),\n",
       " (('Israel', 'Colombia'), 3),\n",
       " (('Colombia', 'Russia'), 3),\n",
       " (('Monaco', 'France'), 3),\n",
       " (('Trinidad and Tobago', 'Spain'), 3),\n",
       " (('United Kingdom', 'Switzerland'), 3),\n",
       " (('Imperio aqueménida', 'Mexico'), 3),\n",
       " (('United States', 'Maryland'), 3),\n",
       " (('Canada', 'Massachusetts'), 3),\n",
       " (('Cuba', 'Cambodia'), 3),\n",
       " (('Norway', 'Chile'), 3),\n",
       " (('July Monarchy', 'Colombia'), 3),\n",
       " (('Nigeria', 'Colombia'), 3),\n",
       " (('Italy', 'Switzerland'), 3),\n",
       " (('Angola', 'Portugal'), 3),\n",
       " (('Vietnam', 'Colombia'), 3),\n",
       " (('Romania', 'Chile'), 3),\n",
       " (('China', 'United Kingdom'), 3),\n",
       " (('Republic of Florence', 'France'), 3),\n",
       " (('Greece', 'Venezuela'), 3),\n",
       " (('Electorate of Cologne', 'Colombia'), 3),\n",
       " (('Argentina', 'Canada'), 3),\n",
       " (('Cuba', 'Peru'), 3),\n",
       " (('Jamaica', 'Colombia'), 3),\n",
       " (('Uruguay', 'Ecuador'), 3),\n",
       " (('Guatemala', 'Venezuela'), 2),\n",
       " (('Ottoman Empire', 'Venezuela'), 2),\n",
       " (('Guinea', 'Spain'), 2),\n",
       " (('British Ceylon', 'Canada'), 2),\n",
       " (('Canada', 'Brazil'), 2),\n",
       " (('Russia', 'Peru'), 2),\n",
       " (('Electorate of Cologne', 'Venezuela'), 2),\n",
       " (('United Kingdom', 'Japan'), 2),\n",
       " (('Spain', 'Greece'), 2),\n",
       " (('Spain', 'Russia'), 2),\n",
       " (('Belgium', 'Hungary'), 2),\n",
       " (('Germany', 'Senegal'), 2),\n",
       " (('Chile', 'Nicaragua'), 2),\n",
       " (('Czech Republic', 'Netherlands'), 2),\n",
       " (('Guatemala', 'Chile'), 2),\n",
       " (('Grand Duchy of Mecklenburg-Schwerin', 'United States'), 2),\n",
       " (('France', 'French Guiana'), 2),\n",
       " (('Argentina', 'Panama'), 2),\n",
       " (('United Kingdom', 'Costa Rica'), 2),\n",
       " (('Saxe-Weimar', 'Spain'), 2),\n",
       " (('Nevis', 'United States'), 2),\n",
       " (('Mauritius', 'Mexico'), 2),\n",
       " (('Sweden', 'United Kingdom'), 2),\n",
       " (('Saudi Arabia', 'Spain'), 2),\n",
       " (('Russia', 'Switzerland'), 2),\n",
       " (('Grand Duchy of Baden', 'United States'), 2),\n",
       " (('Mexico', 'United Kingdom'), 2),\n",
       " (('Singapore', 'Mexico'), 2),\n",
       " (('Thailand', 'Italy'), 2),\n",
       " (('Haiti', 'Massachusetts'), 2),\n",
       " (('Morocco', 'United Kingdom'), 2),\n",
       " (('United Kingdom', 'Israel'), 2),\n",
       " (('Sri Lanka', 'United Kingdom'), 2),\n",
       " (('Germany', 'Portugal'), 2),\n",
       " (('Brazil', 'New York (State)'), 2),\n",
       " (('United Kingdom', 'Michigan'), 2),\n",
       " (('Duchy of Schleswig', 'Colombia'), 2),\n",
       " (('Italy', 'Cambodia'), 2),\n",
       " (('Cuba', 'Brazil'), 2),\n",
       " (('July Monarchy', 'France'), 2),\n",
       " (('Estonia', 'United States'), 2),\n",
       " (('Lebanon', 'New York (State)'), 2),\n",
       " (('France', 'Michigan'), 2),\n",
       " (('Ireland', 'Peru'), 2),\n",
       " (('Republic of Florence', 'Venezuela'), 2),\n",
       " (('Mozambique', 'Colombia'), 2),\n",
       " (('Ecuador', 'United States'), 2),\n",
       " (('Peru', 'Uruguay'), 2),\n",
       " (('Estonia', 'Argentina'), 2),\n",
       " (('July Monarchy', 'Italy'), 2),\n",
       " (('Württemberg', 'Germany'), 2),\n",
       " (('Colombia', 'Greece'), 2),\n",
       " (('Germany', 'Illinois'), 2),\n",
       " (('Poland', 'Sweden'), 2),\n",
       " (('Panama', 'United Kingdom'), 2),\n",
       " (('Russia', 'Ecuador'), 2),\n",
       " (('Guatemala', 'Nicaragua'), 2),\n",
       " (('Portugal', 'Peru'), 2),\n",
       " (('Japan', 'Brazil'), 2),\n",
       " (('Portugal', 'Cuba'), 2),\n",
       " (('Latvia', 'Canada'), 2),\n",
       " (('El Salvador', 'Costa Rica'), 2),\n",
       " (('Colombia', 'Poland'), 2),\n",
       " (('Serbia', 'Macedonia'), 2),\n",
       " (('Kingdom of Galicia and Lodomeria', 'Argentina'), 2),\n",
       " (('Portugal', 'Ecuador'), 2),\n",
       " (('Colombia', 'Austria'), 2),\n",
       " (('Kingdom of Galicia and Lodomeria', 'United Kingdom'), 2),\n",
       " (('Belarus', 'New York (State)'), 2),\n",
       " (('France', 'Vietnam'), 2),\n",
       " (('Honduras', 'Venezuela'), 2),\n",
       " (('Algeria', 'Venezuela'), 2),\n",
       " (('United States', 'Arizona'), 2),\n",
       " (('Czech Republic', 'Ecuador'), 2),\n",
       " (('Colombia', 'Curaçao'), 2),\n",
       " (('Chile', 'France'), 2),\n",
       " (('Lebanon', 'France'), 2),\n",
       " (('Duchy of Salzburg', 'Mexico'), 2),\n",
       " (('Ottoman Empire', 'United States'), 2),\n",
       " (('Brazil', 'New Jersey'), 2),\n",
       " (('Mexico', 'Puerto Rico'), 2),\n",
       " (('Poland', 'Brazil'), 2),\n",
       " (('Colombia', 'Norway'), 2),\n",
       " (('Cuba', 'New York (State)'), 2),\n",
       " (('Cambodia', 'France'), 2),\n",
       " (('Turkey', 'United Kingdom'), 2),\n",
       " (('France', 'China'), 2),\n",
       " (('Colombia', 'Guatemala'), 2),\n",
       " (('Switzerland', 'Sweden'), 2),\n",
       " (('France', 'Illinois'), 2),\n",
       " (('Algeria', 'New York (State)'), 2),\n",
       " (('Czech Republic', 'Austria'), 2),\n",
       " (('Argentina', 'Florida'), 2),\n",
       " (('Zimbabwe', 'United States'), 2),\n",
       " (('Italy', 'Sweden'), 2),\n",
       " (('Bolivia', 'Chile'), 2),\n",
       " (('Benin', 'New York (State)'), 2),\n",
       " (('Indonesia', 'United States'), 2),\n",
       " (('Austria', 'Cuba'), 2),\n",
       " (('Kingdom of Lombardy–Venetia', 'France'), 2),\n",
       " (('Luxembourg', 'Argentina'), 2),\n",
       " (('Switzerland', 'Puerto Rico'), 2),\n",
       " (('Chile', 'Costa Rica'), 2),\n",
       " (('Republic of Florence', 'United Kingdom'), 2),\n",
       " (('Malawi', 'New York (State)'), 2),\n",
       " (('Nicaragua', 'Costa Rica'), 2),\n",
       " (('Norway', 'New York (State)'), 2),\n",
       " (('Netherlands', 'Canada'), 2),\n",
       " (('Russia', 'California'), 2),\n",
       " (('Nicaragua', 'Guatemala'), 2),\n",
       " (('Argentina', 'El Salvador'), 2),\n",
       " (('Italy', 'Denmark'), 2),\n",
       " (('July Monarchy', 'Chile'), 2),\n",
       " (('Latvia', 'Colombia'), 2),\n",
       " (('Haiti', 'New York (State)'), 2),\n",
       " (('Peru', 'China'), 2),\n",
       " (('Colombia', 'Japan'), 2),\n",
       " (('Greece', 'Peru'), 2),\n",
       " (('Burma', 'Mexico'), 2),\n",
       " (('Spain', 'Brazil'), 2),\n",
       " (('Guyana', 'United States'), 2),\n",
       " (('Switzerland', 'Ecuador'), 2),\n",
       " (('China', 'Germany'), 2),\n",
       " (('Pakistan', 'Colombia'), 2),\n",
       " (('Belgium', 'Germany'), 2),\n",
       " (('Prussia', 'Chile'), 2),\n",
       " (('Italy', 'Somalia'), 2),\n",
       " (('Electorate of Cologne', 'Netherlands'), 2),\n",
       " (('South Korea', 'United States'), 2),\n",
       " (('Free City of Lübeck', 'France'), 2),\n",
       " (('Belarus', 'Colombia'), 2),\n",
       " (('Prussia', 'Italy'), 2),\n",
       " (('United States', 'Nicaragua'), 2),\n",
       " (('Peru', 'Puerto Rico'), 2),\n",
       " (('Mexico', 'Uruguay'), 2),\n",
       " (('Senegal', 'Argentina'), 2),\n",
       " (('Ecuador', 'France'), 2),\n",
       " (('United States', 'South Korea'), 2),\n",
       " (('Grand Duchy of Baden', 'Germany'), 2),\n",
       " (('Imperio aqueménida', 'Argentina'), 2),\n",
       " (('Poland', 'Japan'), 2),\n",
       " (('Sri Lanka', 'Mexico'), 2),\n",
       " (('Russia', 'Brazil'), 2),\n",
       " (('Chile', 'Puerto Rico'), 2),\n",
       " (('Mali', 'United Kingdom'), 2),\n",
       " ...]"
      ]
     },
     "execution_count": 33,
     "metadata": {},
     "output_type": "execute_result"
    }
   ],
   "source": [
    "top_routes"
   ]
  },
  {
   "cell_type": "markdown",
   "metadata": {},
   "source": [
    "# Maps"
   ]
  },
  {
   "cell_type": "code",
   "execution_count": 34,
   "metadata": {
    "collapsed": true
   },
   "outputs": [],
   "source": [
    "def get_coords(place):\n",
    "    place = place_place_d[place]\n",
    "    coord = place_coord_d[place]\n",
    "    return coord"
   ]
  },
  {
   "cell_type": "code",
   "execution_count": 35,
   "metadata": {
    "collapsed": true
   },
   "outputs": [],
   "source": [
    "cycles_graph = nx.DiGraph()\n",
    "routes_graph = nx.DiGraph()"
   ]
  },
  {
   "cell_type": "code",
   "execution_count": 36,
   "metadata": {
    "collapsed": false
   },
   "outputs": [],
   "source": [
    "for k in cycles_c:\n",
    "    if k[0] not in cycles_graph:\n",
    "        lat, lng = get_coords(k[0])\n",
    "        cycles_graph.add_node(k[0], latitude=lat, longitude=lng, weight=cycles_c[k])\n",
    "    cycles_graph.add_edge(k[0], k[0], weight=cycles_c[k])"
   ]
  },
  {
   "cell_type": "code",
   "execution_count": 37,
   "metadata": {
    "collapsed": false
   },
   "outputs": [],
   "source": [
    "for k in routes_c:\n",
    "    if k[0] not in routes_graph:\n",
    "        lat, lng = get_coords(k[0])\n",
    "        routes_graph.add_node(k[0], latitude=lat, longitude=lng, weight=0)\n",
    "    old_weight = routes_graph.node[k[0]]['weight']\n",
    "    new_weight = old_weight + routes_c[k]\n",
    "    routes_graph.node[k[0]]['weight'] = new_weight\n",
    "    if k[1] not in routes_graph:\n",
    "        lat, lng = get_coords(k[1])\n",
    "        routes_graph.add_node(k[1], latitude=lat, longitude=lng, weight=0)\n",
    "    old_weight = routes_graph.node[k[1]]['weight']\n",
    "    new_weight = old_weight + routes_c[k]\n",
    "    routes_graph.node[k[1]]['weight'] = new_weight\n",
    "    routes_graph.add_edge(k[0], k[1], weight=routes_c[k])"
   ]
  },
  {
   "cell_type": "markdown",
   "metadata": {},
   "source": [
    "# Filtering labels"
   ]
  },
  {
   "cell_type": "code",
   "execution_count": 38,
   "metadata": {
    "collapsed": true
   },
   "outputs": [],
   "source": [
    "def select_top_nodes(g, p):\n",
    "    ns = [(n, d['weight']) for n, d in g.nodes_iter(data=True)]\n",
    "    ns = sorted(ns, key=lambda x: x[1], reverse=True)\n",
    "    amount = round(len(ns) * p)\n",
    "    taken = ns[:amount]\n",
    "    labels = [n for n, w in taken]\n",
    "    return labels"
   ]
  },
  {
   "cell_type": "code",
   "execution_count": 39,
   "metadata": {
    "collapsed": false
   },
   "outputs": [],
   "source": [
    "for i in range(10, 100, 10):\n",
    "    p = i / 100\n",
    "    top_cycles_labels = select_top_nodes(cycles_graph, p)\n",
    "    for k in cycles_graph:\n",
    "        if k in top_cycles_labels:\n",
    "            cycles_graph.node[k]['show_label_' + str(i)] = k\n",
    "        else:\n",
    "            cycles_graph.node[k]['show_label_' + str(i)] = ''"
   ]
  },
  {
   "cell_type": "code",
   "execution_count": 40,
   "metadata": {
    "collapsed": false
   },
   "outputs": [],
   "source": [
    "for i in range(10, 100, 10):\n",
    "    p = i / 100\n",
    "    top_routes_labels = select_top_nodes(routes_graph, p)\n",
    "    for k in routes_graph:\n",
    "        if k in top_routes_labels:\n",
    "            routes_graph.node[k]['show_label_' + str(i)] = k\n",
    "        else:\n",
    "            routes_graph.node[k]['show_label_' + str(i)] = ''"
   ]
  },
  {
   "cell_type": "markdown",
   "metadata": {},
   "source": [
    "# Saving results"
   ]
  },
  {
   "cell_type": "code",
   "execution_count": 41,
   "metadata": {
    "collapsed": true
   },
   "outputs": [],
   "source": [
    "nx.write_gexf(cycles_graph, 'cycles_graph.gexf')\n",
    "nx.write_gexf(routes_graph, 'routes_graph.gexf')"
   ]
  },
  {
   "cell_type": "code",
   "execution_count": null,
   "metadata": {
    "collapsed": true
   },
   "outputs": [],
   "source": []
  }
 ],
 "metadata": {
  "kernelspec": {
   "display_name": "Python 3",
   "language": "python",
   "name": "python3"
  },
  "language_info": {
   "codemirror_mode": {
    "name": "ipython",
    "version": 3
   },
   "file_extension": ".py",
   "mimetype": "text/x-python",
   "name": "python",
   "nbconvert_exporter": "python",
   "pygments_lexer": "ipython3",
   "version": "3.4.3"
  }
 },
 "nbformat": 4,
 "nbformat_minor": 1
}
