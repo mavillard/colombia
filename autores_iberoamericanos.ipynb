{
 "cells": [
  {
   "cell_type": "markdown",
   "metadata": {},
   "source": [
    "# Autores iberoamericanos"
   ]
  },
  {
   "cell_type": "code",
   "execution_count": 1,
   "metadata": {
    "collapsed": true
   },
   "outputs": [],
   "source": [
    "import ast\n",
    "import csv\n",
    "import os\n",
    "import pickle\n",
    "import re\n",
    "from collections import defaultdict\n",
    "from collections import Counter\n",
    "from datetime import datetime\n",
    "from datetime import timedelta\n",
    "from string import punctuation\n",
    "\n",
    "import matplotlib\n",
    "import numpy as np\n",
    "import networkx as nx\n",
    "import pandas as pd\n",
    "import requests\n",
    "import seaborn as sns\n",
    "from geolocation.main import GoogleMaps\n",
    "from matplotlib import pyplot as plt\n",
    "from SPARQLWrapper import SPARQLWrapper, JSON\n",
    "\n",
    "from googlemaps_key import KEY"
   ]
  },
  {
   "cell_type": "markdown",
   "metadata": {},
   "source": [
    "## Autores"
   ]
  },
  {
   "cell_type": "code",
   "execution_count": 2,
   "metadata": {
    "collapsed": false
   },
   "outputs": [
    {
     "name": "stdout",
     "output_type": "stream",
     "text": [
      "CPU times: user 2.83 s, sys: 31.4 ms, total: 2.86 s\n",
      "Wall time: 2.86 s\n"
     ]
    }
   ],
   "source": [
    "%%time\n",
    "\n",
    "autores_df = pd.read_csv(\n",
    "    'autores7.csv',\n",
    "    header=0,\n",
    "    converters={\n",
    "        'GEOLOC_CAPITAL_AUTOR': ast.literal_eval,\n",
    "        'GEOLOC_CAPITAL_EJEMPLAR': ast.literal_eval\n",
    "    }\n",
    ")\n",
    "autores_df = autores_df.fillna('')"
   ]
  },
  {
   "cell_type": "code",
   "execution_count": 3,
   "metadata": {
    "collapsed": false
   },
   "outputs": [
    {
     "data": {
      "text/plain": [
       "(87200, 9)"
      ]
     },
     "execution_count": 3,
     "metadata": {},
     "output_type": "execute_result"
    }
   ],
   "source": [
    "autores_df.shape"
   ]
  },
  {
   "cell_type": "code",
   "execution_count": 4,
   "metadata": {
    "collapsed": false
   },
   "outputs": [
    {
     "data": {
      "text/html": [
       "<div>\n",
       "<table border=\"1\" class=\"dataframe\">\n",
       "  <thead>\n",
       "    <tr style=\"text-align: right;\">\n",
       "      <th></th>\n",
       "      <th>TITULO</th>\n",
       "      <th>PAIS_EJEMPLAR</th>\n",
       "      <th>AUTOR</th>\n",
       "      <th>PAIS_AUTOR</th>\n",
       "      <th>FECHA_PUB</th>\n",
       "      <th>CAPITAL_AUTOR</th>\n",
       "      <th>CAPITAL_EJEMPLAR</th>\n",
       "      <th>GEOLOC_CAPITAL_AUTOR</th>\n",
       "      <th>GEOLOC_CAPITAL_EJEMPLAR</th>\n",
       "    </tr>\n",
       "  </thead>\n",
       "  <tbody>\n",
       "    <tr>\n",
       "      <th>0</th>\n",
       "      <td>Adivina en qué pais ...</td>\n",
       "      <td>Spain</td>\n",
       "      <td>Martina Badstuber</td>\n",
       "      <td>Germany</td>\n",
       "      <td>2010</td>\n",
       "      <td>Berlin</td>\n",
       "      <td>Madrid</td>\n",
       "      <td>(52.52000659999999, 13.404954)</td>\n",
       "      <td>(40.4167754, -3.7037902)</td>\n",
       "    </tr>\n",
       "    <tr>\n",
       "      <th>1</th>\n",
       "      <td>¡No quiero hacer pipí en el orinal!</td>\n",
       "      <td>Spain</td>\n",
       "      <td>Roser Rius</td>\n",
       "      <td>Mexico</td>\n",
       "      <td>2009</td>\n",
       "      <td>Mexico City</td>\n",
       "      <td>Madrid</td>\n",
       "      <td>(19.4326077, -99.133208)</td>\n",
       "      <td>(40.4167754, -3.7037902)</td>\n",
       "    </tr>\n",
       "    <tr>\n",
       "      <th>2</th>\n",
       "      <td>Humo</td>\n",
       "      <td>Spain</td>\n",
       "      <td>Antón Fortes Torres</td>\n",
       "      <td>Spain</td>\n",
       "      <td>2008</td>\n",
       "      <td>Madrid</td>\n",
       "      <td>Madrid</td>\n",
       "      <td>(40.4167754, -3.7037902)</td>\n",
       "      <td>(40.4167754, -3.7037902)</td>\n",
       "    </tr>\n",
       "    <tr>\n",
       "      <th>3</th>\n",
       "      <td>Galleta para perros</td>\n",
       "      <td>Spain</td>\n",
       "      <td>Helen Cooper</td>\n",
       "      <td>United Kingdom</td>\n",
       "      <td>2008</td>\n",
       "      <td>London</td>\n",
       "      <td>Madrid</td>\n",
       "      <td>(51.5073509, -0.1277583)</td>\n",
       "      <td>(40.4167754, -3.7037902)</td>\n",
       "    </tr>\n",
       "    <tr>\n",
       "      <th>4</th>\n",
       "      <td>Autobio</td>\n",
       "      <td>Spain</td>\n",
       "      <td>Cyril Pedrosa</td>\n",
       "      <td>France</td>\n",
       "      <td>2009</td>\n",
       "      <td>Paris</td>\n",
       "      <td>Madrid</td>\n",
       "      <td>(48.856614, 2.3522219)</td>\n",
       "      <td>(40.4167754, -3.7037902)</td>\n",
       "    </tr>\n",
       "  </tbody>\n",
       "</table>\n",
       "</div>"
      ],
      "text/plain": [
       "                                TITULO PAIS_EJEMPLAR                AUTOR  \\\n",
       "0              Adivina en qué pais ...         Spain    Martina Badstuber   \n",
       "1  ¡No quiero hacer pipí en el orinal!         Spain           Roser Rius   \n",
       "2                                 Humo         Spain  Antón Fortes Torres   \n",
       "3                  Galleta para perros         Spain         Helen Cooper   \n",
       "4                              Autobio         Spain        Cyril Pedrosa   \n",
       "\n",
       "       PAIS_AUTOR  FECHA_PUB CAPITAL_AUTOR CAPITAL_EJEMPLAR  \\\n",
       "0         Germany       2010        Berlin           Madrid   \n",
       "1          Mexico       2009   Mexico City           Madrid   \n",
       "2           Spain       2008        Madrid           Madrid   \n",
       "3  United Kingdom       2008        London           Madrid   \n",
       "4          France       2009         Paris           Madrid   \n",
       "\n",
       "             GEOLOC_CAPITAL_AUTOR   GEOLOC_CAPITAL_EJEMPLAR  \n",
       "0  (52.52000659999999, 13.404954)  (40.4167754, -3.7037902)  \n",
       "1        (19.4326077, -99.133208)  (40.4167754, -3.7037902)  \n",
       "2        (40.4167754, -3.7037902)  (40.4167754, -3.7037902)  \n",
       "3        (51.5073509, -0.1277583)  (40.4167754, -3.7037902)  \n",
       "4          (48.856614, 2.3522219)  (40.4167754, -3.7037902)  "
      ]
     },
     "execution_count": 4,
     "metadata": {},
     "output_type": "execute_result"
    }
   ],
   "source": [
    "autores_df.head()"
   ]
  },
  {
   "cell_type": "markdown",
   "metadata": {},
   "source": [
    "## Autores iberoamericanos"
   ]
  },
  {
   "cell_type": "code",
   "execution_count": 5,
   "metadata": {
    "collapsed": true
   },
   "outputs": [],
   "source": [
    "paises_iberoamericanos = [\n",
    "    # Español\n",
    "    'Argentina', 'Bolivia', 'Brasil', 'Chile', 'Colombia', 'Costa Rica', 'Cuba', 'Ecuador',\n",
    "    'El Salvador', 'Guatemala', 'Honduras', 'México', 'Nicaragua', 'Panamá', 'Paraguay',\n",
    "    'Perú', 'Puerto Rico', 'República Dominicana', 'Uruguay', 'Venezuela',\n",
    "    # Inglés\n",
    "    'Argentina', 'Bolivia', 'Brazil', 'Chile', 'Colombia', 'Costa Rica', 'Cuba', 'Ecuador',\n",
    "    'El Salvador', 'Guatemala', 'Honduras', 'Mexico', 'Nicaragua', 'Panama', 'Paraguay',\n",
    "    'Peru', 'Puerto Rico', 'Dominican Republic', 'Uruguay', 'Venezuela',\n",
    "]"
   ]
  },
  {
   "cell_type": "code",
   "execution_count": 6,
   "metadata": {
    "collapsed": true
   },
   "outputs": [],
   "source": [
    "autores_iberoamericanos_df = autores_df[autores_df.PAIS_AUTOR.isin(paises_iberoamericanos)]"
   ]
  },
  {
   "cell_type": "code",
   "execution_count": 7,
   "metadata": {
    "collapsed": false
   },
   "outputs": [
    {
     "data": {
      "text/plain": [
       "(19260, 9)"
      ]
     },
     "execution_count": 7,
     "metadata": {},
     "output_type": "execute_result"
    }
   ],
   "source": [
    "autores_iberoamericanos_df.shape"
   ]
  },
  {
   "cell_type": "code",
   "execution_count": 8,
   "metadata": {
    "collapsed": false
   },
   "outputs": [
    {
     "data": {
      "text/html": [
       "<div>\n",
       "<table border=\"1\" class=\"dataframe\">\n",
       "  <thead>\n",
       "    <tr style=\"text-align: right;\">\n",
       "      <th></th>\n",
       "      <th>TITULO</th>\n",
       "      <th>PAIS_EJEMPLAR</th>\n",
       "      <th>AUTOR</th>\n",
       "      <th>PAIS_AUTOR</th>\n",
       "      <th>FECHA_PUB</th>\n",
       "      <th>CAPITAL_AUTOR</th>\n",
       "      <th>CAPITAL_EJEMPLAR</th>\n",
       "      <th>GEOLOC_CAPITAL_AUTOR</th>\n",
       "      <th>GEOLOC_CAPITAL_EJEMPLAR</th>\n",
       "    </tr>\n",
       "  </thead>\n",
       "  <tbody>\n",
       "    <tr>\n",
       "      <th>1</th>\n",
       "      <td>¡No quiero hacer pipí en el orinal!</td>\n",
       "      <td>Spain</td>\n",
       "      <td>Roser Rius</td>\n",
       "      <td>Mexico</td>\n",
       "      <td>2009</td>\n",
       "      <td>Mexico City</td>\n",
       "      <td>Madrid</td>\n",
       "      <td>(19.4326077, -99.133208)</td>\n",
       "      <td>(40.4167754, -3.7037902)</td>\n",
       "    </tr>\n",
       "    <tr>\n",
       "      <th>7</th>\n",
       "      <td>En la laguna más profunda</td>\n",
       "      <td>Colombia</td>\n",
       "      <td>Oscar Collazos</td>\n",
       "      <td>Colombia</td>\n",
       "      <td>2011</td>\n",
       "      <td>Bogotá</td>\n",
       "      <td>Bogotá</td>\n",
       "      <td>(4.710988599999999, -74.072092)</td>\n",
       "      <td>(4.710988599999999, -74.072092)</td>\n",
       "    </tr>\n",
       "    <tr>\n",
       "      <th>30</th>\n",
       "      <td>¡Oh, los colores!</td>\n",
       "      <td>Spain</td>\n",
       "      <td>Jorge Luján</td>\n",
       "      <td>Panama</td>\n",
       "      <td>2010</td>\n",
       "      <td>Panama City</td>\n",
       "      <td>Madrid</td>\n",
       "      <td>(8.9823792, -79.51986959999999)</td>\n",
       "      <td>(40.4167754, -3.7037902)</td>\n",
       "    </tr>\n",
       "    <tr>\n",
       "      <th>40</th>\n",
       "      <td>Galileo Galilei</td>\n",
       "      <td>Spain</td>\n",
       "      <td>Guilherme de Almeida</td>\n",
       "      <td>Brazil</td>\n",
       "      <td>2009</td>\n",
       "      <td>Brasília</td>\n",
       "      <td>Madrid</td>\n",
       "      <td>(-15.7942287, -47.8821658)</td>\n",
       "      <td>(40.4167754, -3.7037902)</td>\n",
       "    </tr>\n",
       "    <tr>\n",
       "      <th>41</th>\n",
       "      <td>Haiku</td>\n",
       "      <td>Argentina</td>\n",
       "      <td>Iris Rivera</td>\n",
       "      <td>Argentina</td>\n",
       "      <td>2009</td>\n",
       "      <td>Buenos Aires</td>\n",
       "      <td>Buenos Aires</td>\n",
       "      <td>(-34.6036844, -58.3815591)</td>\n",
       "      <td>(-34.6036844, -58.3815591)</td>\n",
       "    </tr>\n",
       "  </tbody>\n",
       "</table>\n",
       "</div>"
      ],
      "text/plain": [
       "                                 TITULO PAIS_EJEMPLAR                 AUTOR  \\\n",
       "1   ¡No quiero hacer pipí en el orinal!         Spain            Roser Rius   \n",
       "7             En la laguna más profunda      Colombia        Oscar Collazos   \n",
       "30                   ¡Oh, los colores!          Spain           Jorge Luján   \n",
       "40                      Galileo Galilei         Spain  Guilherme de Almeida   \n",
       "41                                Haiku     Argentina           Iris Rivera   \n",
       "\n",
       "   PAIS_AUTOR  FECHA_PUB CAPITAL_AUTOR CAPITAL_EJEMPLAR  \\\n",
       "1      Mexico       2009   Mexico City           Madrid   \n",
       "7    Colombia       2011        Bogotá           Bogotá   \n",
       "30     Panama       2010   Panama City           Madrid   \n",
       "40     Brazil       2009      Brasília           Madrid   \n",
       "41  Argentina       2009  Buenos Aires     Buenos Aires   \n",
       "\n",
       "               GEOLOC_CAPITAL_AUTOR          GEOLOC_CAPITAL_EJEMPLAR  \n",
       "1          (19.4326077, -99.133208)         (40.4167754, -3.7037902)  \n",
       "7   (4.710988599999999, -74.072092)  (4.710988599999999, -74.072092)  \n",
       "30  (8.9823792, -79.51986959999999)         (40.4167754, -3.7037902)  \n",
       "40       (-15.7942287, -47.8821658)         (40.4167754, -3.7037902)  \n",
       "41       (-34.6036844, -58.3815591)       (-34.6036844, -58.3815591)  "
      ]
     },
     "execution_count": 8,
     "metadata": {},
     "output_type": "execute_result"
    }
   ],
   "source": [
    "autores_iberoamericanos_df.head()"
   ]
  },
  {
   "cell_type": "markdown",
   "metadata": {},
   "source": [
    "## Resultados"
   ]
  },
  {
   "cell_type": "markdown",
   "metadata": {},
   "source": [
    "### Ciclos"
   ]
  },
  {
   "cell_type": "code",
   "execution_count": 9,
   "metadata": {
    "collapsed": true
   },
   "outputs": [],
   "source": [
    "ciclos_df = autores_iberoamericanos_df[\n",
    "    (autores_iberoamericanos_df.PAIS_EJEMPLAR == autores_iberoamericanos_df.PAIS_AUTOR)\n",
    "]"
   ]
  },
  {
   "cell_type": "code",
   "execution_count": 10,
   "metadata": {
    "collapsed": false
   },
   "outputs": [
    {
     "data": {
      "text/plain": [
       "10315"
      ]
     },
     "execution_count": 10,
     "metadata": {},
     "output_type": "execute_result"
    }
   ],
   "source": [
    "len(ciclos_df)"
   ]
  },
  {
   "cell_type": "markdown",
   "metadata": {},
   "source": [
    "#### Obras escritas por autores iberoamericanos y editadas en el mismo país de origen del autor"
   ]
  },
  {
   "cell_type": "code",
   "execution_count": 11,
   "metadata": {
    "collapsed": false
   },
   "outputs": [
    {
     "data": {
      "text/plain": [
       "Obras completas                                                 33\n",
       "Antología poética                                               26\n",
       "Antología                                                       22\n",
       "Obra poética                                                    22\n",
       "Cuentos                                                         22\n",
       "María                                                           19\n",
       "Cuentos completos                                               15\n",
       "El coronel no tiene quien le escriba                            15\n",
       "Poesía                                                          15\n",
       "La vorágine                                                     13\n",
       "Cien años de soledad                                            13\n",
       "Poesía completa                                                 12\n",
       "Obras selectas                                                  11\n",
       "Obras                                                           10\n",
       "Los grandes conflictos sociales y económicos de nuestra hist    10\n",
       "Hacienda pública                                                 9\n",
       "Teatro                                                           9\n",
       "Facundo                                                          9\n",
       "Derecho penal : parte general                                    9\n",
       "Memorias                                                         9\n",
       "La hojarasca                                                     8\n",
       "Relato de un náufrago                                            8\n",
       "Ojos de perro azul                                               8\n",
       "Poemas                                                           8\n",
       "Perdido en el Amazonas                                           8\n",
       "Poesías                                                          7\n",
       "Del amor y otros demonios                                        7\n",
       "Historia básica de Colombia                                      7\n",
       "Doce cuentos peregrinos                                          7\n",
       "Teatro completo                                                  7\n",
       "                                                                ..\n",
       "El peso de la tentación                                          1\n",
       "El capitalismo, comunismo y libertad                             1\n",
       "Miguel Enríquez y el proyecto revolucionario en Chile : disc     1\n",
       "Obras reunidas II : teatro                                       1\n",
       "Poeta con paisaje : ensayos sobre la vida de Octavio Paz         1\n",
       "Faustino, vecino del barrio : o el miedo a las multitudes en     1\n",
       "La Argentina y la tormenta del mundo : ideas e ideologías en     1\n",
       "Mutis y la minería: amorosa mutissia                             1\n",
       "La palabra bajo fuego                                            1\n",
       "Un... dos... tres... ¡ya!                                        1\n",
       "Brújulas empresariales III                                       1\n",
       "Bolívar el hombre de las dificultades capítulo 35: El regres     1\n",
       "Proyecto para un arca en medio de un diluvio de plomo            1\n",
       "Cubagua : novela ; Orinoco (capítulo de una historia de este     1\n",
       "Exilio                                                           1\n",
       "Entrevistas con líderes de América : Fidel Castro, Hugo Cháv     1\n",
       "García Márquez : la soledad y la gloria : su vida y obra         1\n",
       "Historia y culturas de México prehispánico                       1\n",
       "José Donoso : el escribidor intruso : selección de articulos     1\n",
       "Pronto                                                           1\n",
       "Rumbos para una Colombia más justa                               1\n",
       "Conversaciones con un amigo                                      1\n",
       "Vagabundo en Tombuctú, alias gardelito y otros relatos           1\n",
       "Ciencia y desarrollo                                             1\n",
       "Apuntamientos para la historia política i social de la Nueva     1\n",
       "No estamos para nadie : escenas de la ciudad y sus delirios      1\n",
       "El viejo soldado                                                 1\n",
       "Representar y disponer : un estudio de la noción de represen     1\n",
       "La estación violenta                                             1\n",
       "La constitución y sus reformas                                   1\n",
       "Name: TITULO, dtype: int64"
      ]
     },
     "execution_count": 11,
     "metadata": {},
     "output_type": "execute_result"
    }
   ],
   "source": [
    "ciclos_df.TITULO.value_counts()"
   ]
  },
  {
   "cell_type": "markdown",
   "metadata": {},
   "source": [
    "#### Número de obras"
   ]
  },
  {
   "cell_type": "code",
   "execution_count": 12,
   "metadata": {
    "collapsed": false
   },
   "outputs": [
    {
     "data": {
      "text/plain": [
       "9000"
      ]
     },
     "execution_count": 12,
     "metadata": {},
     "output_type": "execute_result"
    }
   ],
   "source": [
    "ciclos_df.TITULO.nunique()"
   ]
  },
  {
   "cell_type": "markdown",
   "metadata": {},
   "source": [
    "#### Autores"
   ]
  },
  {
   "cell_type": "code",
   "execution_count": 13,
   "metadata": {
    "collapsed": false
   },
   "outputs": [
    {
     "data": {
      "text/plain": [
       "Gabriel García Márquez         204\n",
       "Fernando Soto Aparicio          98\n",
       "Jorge Luis Borges               98\n",
       "Javier Ocampo López             79\n",
       "Eduardo Caballero Calderón      78\n",
       "José María Vargas Vila          76\n",
       "Octavio Paz                     76\n",
       "Rafael Pombo                    75\n",
       "Celso Román                     67\n",
       "Estanislao Zuleta               67\n",
       "Juan Gustavo Cobo Borda         64\n",
       "Germán Arciniegas               61\n",
       "William Ospina                  57\n",
       "José Martí                      55\n",
       "Germán Castro Caycedo           55\n",
       "Germán Espinosa                 55\n",
       "Manuel Mejía Vallejo            54\n",
       "Tomás Carrasquilla              51\n",
       "Orlando Fals Borda              48\n",
       "Andrés Caicedo Estela           47\n",
       "Manuel Zapata Olivella          45\n",
       "Jorge Isaacs                    43\n",
       "León de Greiff                  43\n",
       "Eduardo Lemaitre                43\n",
       "Juan Manuel Roca                42\n",
       "Alfonso López Michelsen         41\n",
       "Jesús Arango Cano               41\n",
       "Antonio Cacua Prada             40\n",
       "Ruth Rocha                      40\n",
       "Jorge Eliécer Gaitán            39\n",
       "                              ... \n",
       "José de Armas y Cárdenas         1\n",
       "Vicente Battista                 1\n",
       "Diego Arias                      1\n",
       "Patricia Phelps de Cisneros      1\n",
       "Pablo José Hernández             1\n",
       "Patricia Guerrero                1\n",
       "Ricardo Legorreta Vilchis        1\n",
       "Ricardo López Méndez             1\n",
       "Eduardo Sojo Garza-Aldape        1\n",
       "Hollman Morris                   1\n",
       "Rodolfo Mederos                  1\n",
       "Marcelo A. Moreno                1\n",
       "José Gabriel Vazeilles           1\n",
       "Jorge Rausch                     1\n",
       "Estanislao del Campo             1\n",
       "Rosalba Campra                   1\n",
       "Héctor P. Agosti                 1\n",
       "Gustavo Oliva                    1\n",
       "Martín Adán                      1\n",
       "Francisco Goitia                 1\n",
       "Alfredo Barros Errázuriz         1\n",
       "Ana María Sánchez                1\n",
       "Aureliano Oyarzún Navarro        1\n",
       "Juan Carlos Puig                 1\n",
       "Armando Reverón                  1\n",
       "Federico Assler                  1\n",
       "Manuel Ceballos Ramírez          1\n",
       "Ricardo Acosta                   1\n",
       "Johanna Calle                    1\n",
       "Pixinguinha                      1\n",
       "Name: AUTOR, dtype: int64"
      ]
     },
     "execution_count": 13,
     "metadata": {},
     "output_type": "execute_result"
    }
   ],
   "source": [
    "ciclos_df.AUTOR.value_counts()"
   ]
  },
  {
   "cell_type": "markdown",
   "metadata": {},
   "source": [
    "#### Número de autores"
   ]
  },
  {
   "cell_type": "code",
   "execution_count": 14,
   "metadata": {
    "collapsed": false
   },
   "outputs": [
    {
     "data": {
      "text/plain": [
       "2370"
      ]
     },
     "execution_count": 14,
     "metadata": {},
     "output_type": "execute_result"
    }
   ],
   "source": [
    "ciclos_df.AUTOR.nunique()"
   ]
  },
  {
   "cell_type": "markdown",
   "metadata": {},
   "source": [
    "#### Países"
   ]
  },
  {
   "cell_type": "code",
   "execution_count": 15,
   "metadata": {
    "collapsed": false
   },
   "outputs": [
    {
     "name": "stdout",
     "output_type": "stream",
     "text": [
      "CPU times: user 1.4 s, sys: 11.5 ms, total: 1.41 s\n",
      "Wall time: 1.41 s\n"
     ]
    }
   ],
   "source": [
    "%%time\n",
    "\n",
    "paises_cy = []\n",
    "for i, x in ciclos_df.iterrows():\n",
    "    pais_autor = x['PAIS_AUTOR']\n",
    "    pais_ejemplar = x['PAIS_EJEMPLAR']\n",
    "    paises_cy.append((pais_autor, pais_ejemplar))"
   ]
  },
  {
   "cell_type": "code",
   "execution_count": 16,
   "metadata": {
    "collapsed": true
   },
   "outputs": [],
   "source": [
    "paises_cy_c = Counter(paises_cy)"
   ]
  },
  {
   "cell_type": "code",
   "execution_count": 17,
   "metadata": {
    "collapsed": true
   },
   "outputs": [],
   "source": [
    "top_paises_cy = paises_cy_c.most_common()"
   ]
  },
  {
   "cell_type": "code",
   "execution_count": 18,
   "metadata": {
    "collapsed": false
   },
   "outputs": [
    {
     "data": {
      "text/plain": [
       "[(('Colombia', 'Colombia'), 4754),\n",
       " (('Argentina', 'Argentina'), 1824),\n",
       " (('Mexico', 'Mexico'), 1679),\n",
       " (('Venezuela', 'Venezuela'), 486),\n",
       " (('Chile', 'Chile'), 340),\n",
       " (('Peru', 'Peru'), 301),\n",
       " (('Brazil', 'Brazil'), 285),\n",
       " (('Cuba', 'Cuba'), 264),\n",
       " (('Ecuador', 'Ecuador'), 154),\n",
       " (('Uruguay', 'Uruguay'), 85),\n",
       " (('El Salvador', 'El Salvador'), 24),\n",
       " (('Costa Rica', 'Costa Rica'), 20),\n",
       " (('Guatemala', 'Guatemala'), 20),\n",
       " (('Bolivia', 'Bolivia'), 20),\n",
       " (('Dominican Republic', 'Dominican Republic'), 15),\n",
       " (('Nicaragua', 'Nicaragua'), 13),\n",
       " (('Panama', 'Panama'), 11),\n",
       " (('Puerto Rico', 'Puerto Rico'), 8),\n",
       " (('Paraguay', 'Paraguay'), 8),\n",
       " (('Honduras', 'Honduras'), 4)]"
      ]
     },
     "execution_count": 18,
     "metadata": {},
     "output_type": "execute_result"
    }
   ],
   "source": [
    "top_paises_cy"
   ]
  },
  {
   "cell_type": "markdown",
   "metadata": {},
   "source": [
    "### Rutas iberoamericanas"
   ]
  },
  {
   "cell_type": "code",
   "execution_count": 19,
   "metadata": {
    "collapsed": true
   },
   "outputs": [],
   "source": [
    "rutas_iberoamericanas_df = autores_iberoamericanos_df[\n",
    "    (autores_iberoamericanos_df.PAIS_EJEMPLAR.isin(paises_iberoamericanos)) &\n",
    "    (autores_iberoamericanos_df.PAIS_EJEMPLAR != autores_iberoamericanos_df.PAIS_AUTOR)\n",
    "]"
   ]
  },
  {
   "cell_type": "code",
   "execution_count": 20,
   "metadata": {
    "collapsed": false
   },
   "outputs": [
    {
     "data": {
      "text/plain": [
       "4929"
      ]
     },
     "execution_count": 20,
     "metadata": {},
     "output_type": "execute_result"
    }
   ],
   "source": [
    "len(rutas_iberoamericanas_df)"
   ]
  },
  {
   "cell_type": "markdown",
   "metadata": {},
   "source": [
    "#### Obras escritas por autores iberoamericanos y editadas en Iberoamérica, pero en un país diferente del país de origen del autor"
   ]
  },
  {
   "cell_type": "code",
   "execution_count": 21,
   "metadata": {
    "collapsed": false
   },
   "outputs": [
    {
     "data": {
      "text/plain": [
       "Antología poética                                               14\n",
       "Obras completas                                                 13\n",
       "Antología                                                       12\n",
       "Cuentos                                                         12\n",
       "La vorágine                                                     12\n",
       "Poesía                                                          11\n",
       "Las venas abiertas de América Latina                            11\n",
       "Antología personal                                              11\n",
       "María                                                           10\n",
       "Aura                                                             9\n",
       "Derecho constitucional colombiano                                9\n",
       "Cuentos completos                                                7\n",
       "Obra poética                                                     7\n",
       "Cien años de soledad                                             7\n",
       "Veinte poemas de amor y una canción desesperada                  6\n",
       "Cuentos de la selva                                              6\n",
       "Poemas                                                           6\n",
       "Poesías completas                                                6\n",
       "Metodología de la investigación                                  6\n",
       "Obra selecta                                                     6\n",
       "La oveja negra y demás fábulas                                   6\n",
       "Hijo de hombre                                                   5\n",
       "Ariel                                                            5\n",
       "Huasipungo                                                       5\n",
       "Obras escogidas                                                  5\n",
       "La región más transparente                                       5\n",
       "Derecho administrativo laboral : función pública                 5\n",
       "La educación como práctica de la libertad                        5\n",
       "Primero estaba el mar                                            5\n",
       "Canto general                                                    5\n",
       "                                                                ..\n",
       "Las reformas del estado y de la administración pública           1\n",
       "Skudmart : química con la muerte                                 1\n",
       "Escuela de formación : la educación                              1\n",
       "Socialismo                                                       1\n",
       "Cuentos de esto y de lo otro                                     1\n",
       "El peregrino de compostela : (diario de un mago)                 1\n",
       "Máximas, principios y pensamientos                               1\n",
       "Medianoche en video : 1/5                                        1\n",
       "Introducción a la filosofía de la liberación                     1\n",
       "Presagio de carnaval                                             1\n",
       "De la memoria a la acción : crítica histórica                    1\n",
       "El más alto ejemplo de heroísmo : discursos pronunciados por     1\n",
       "Rafael Orozco (q.e.p.d) cantante vallenato                       1\n",
       "La miopía de Rodríguez : y otros cuentos                         1\n",
       "El mar y la serpiente                                            1\n",
       "Hispanismos en el Tagalo                                         1\n",
       "Selecciones poéticas                                             1\n",
       "Memorias de un elefante : una completa guía alfabética e ilu     1\n",
       "Desarrollo de tecnología para producir etanol para carburant     1\n",
       "La importancia de morir a tiempo                                 1\n",
       "La frontera de cristal : una novela en nueve cuentos             1\n",
       "Baile con serpientes                                             1\n",
       "Vicente Gerbasi (1913)                                           1\n",
       "Biografía del desarraigo                                         1\n",
       "Últimas historias de hombres casados                             1\n",
       "Curiosidad : una historia natural                                1\n",
       "Las fechas del Persiles                                          1\n",
       "Antología de la guitarra colombiana                              1\n",
       "La música y el instante : crónicas                               1\n",
       "El bolerista de américa esta es mi historia V.                   1\n",
       "Name: TITULO, dtype: int64"
      ]
     },
     "execution_count": 21,
     "metadata": {},
     "output_type": "execute_result"
    }
   ],
   "source": [
    "rutas_iberoamericanas_df.TITULO.value_counts()"
   ]
  },
  {
   "cell_type": "markdown",
   "metadata": {},
   "source": [
    "#### Número de obras"
   ]
  },
  {
   "cell_type": "code",
   "execution_count": 22,
   "metadata": {
    "collapsed": false
   },
   "outputs": [
    {
     "data": {
      "text/plain": [
       "4312"
      ]
     },
     "execution_count": 22,
     "metadata": {},
     "output_type": "execute_result"
    }
   ],
   "source": [
    "rutas_iberoamericanas_df.TITULO.nunique()"
   ]
  },
  {
   "cell_type": "markdown",
   "metadata": {},
   "source": [
    "#### Autores"
   ]
  },
  {
   "cell_type": "code",
   "execution_count": 23,
   "metadata": {
    "collapsed": false
   },
   "outputs": [
    {
     "data": {
      "text/plain": [
       "Diana Uribe                   169\n",
       "Pablo Neruda                   94\n",
       "Carlos Fuentes                 90\n",
       "Mario Vargas Llosa             58\n",
       "Horacio Quiroga                48\n",
       "Rubén Darío                    48\n",
       "Gabriel García Márquez         48\n",
       "Eduardo Galeano                44\n",
       "Diego Younes Moreno            42\n",
       "Marta Traba                    39\n",
       "José Martí                     38\n",
       "César Vallejo                  37\n",
       "Antonio Orlando Rodríguez      37\n",
       "Jorge Luis Borges              35\n",
       "Jorge Amado                    34\n",
       "Juan Carlos Onetti             33\n",
       "Simón Bolívar                  33\n",
       "Paulo Freire                   32\n",
       "Ernesto Guevara                32\n",
       "Germán Arciniegas              31\n",
       "Augusto Monterroso             29\n",
       "Mario Mendoza                  29\n",
       "José María Arguedas            28\n",
       "Paulo Coelho                   28\n",
       "Rubem Fonseca                  27\n",
       "Marta Harnecker                27\n",
       "Hugo Cerda Gutiérrez           27\n",
       "Enrique D. Dussel              26\n",
       "Isabel Allende                 26\n",
       "Carlos Medina Gallego          23\n",
       "                             ... \n",
       "María Luisa Bombal              1\n",
       "Jorge Antonio Aldrete           1\n",
       "Cirilo Villaverde               1\n",
       "Francisco Javier Rodríguez      1\n",
       "Antonio Di Benedetto            1\n",
       "Ricardo Bressani                1\n",
       "Pablo Mieres                    1\n",
       "Rodolfo Barón Castro            1\n",
       "Julio Barrenechea               1\n",
       "Rafael Sánchez López            1\n",
       "Luiz Eduardo Soares             1\n",
       "Ida Rodríguez Prampolini        1\n",
       "Agustín Squella                 1\n",
       "Jules Supervielle               1\n",
       "Francisco Bilbao                1\n",
       "Alejandra Orozco                1\n",
       "Agustín Moreno                  1\n",
       "Enrique Carreras                1\n",
       "Omar Torrijos Herrera           1\n",
       "Jesús Castillo                  1\n",
       "Gustavo González                1\n",
       "Ricardo Cortés                  1\n",
       "Sandra López                    1\n",
       "Luis Olivera                    1\n",
       "Raúl Ferrero Costa              1\n",
       "Beatriz Allende                 1\n",
       "Cristian Rodríguez              1\n",
       "Arturo Carrera                  1\n",
       "José Antonio Ramos Sucre        1\n",
       "Luis Carlos López               1\n",
       "Name: AUTOR, dtype: int64"
      ]
     },
     "execution_count": 23,
     "metadata": {},
     "output_type": "execute_result"
    }
   ],
   "source": [
    "rutas_iberoamericanas_df.AUTOR.value_counts()"
   ]
  },
  {
   "cell_type": "markdown",
   "metadata": {},
   "source": [
    "#### Número de autores"
   ]
  },
  {
   "cell_type": "code",
   "execution_count": 24,
   "metadata": {
    "collapsed": false
   },
   "outputs": [
    {
     "data": {
      "text/plain": [
       "1491"
      ]
     },
     "execution_count": 24,
     "metadata": {},
     "output_type": "execute_result"
    }
   ],
   "source": [
    "rutas_iberoamericanas_df.AUTOR.nunique()"
   ]
  },
  {
   "cell_type": "markdown",
   "metadata": {},
   "source": [
    "#### Países"
   ]
  },
  {
   "cell_type": "code",
   "execution_count": 25,
   "metadata": {
    "collapsed": false
   },
   "outputs": [
    {
     "name": "stdout",
     "output_type": "stream",
     "text": [
      "CPU times: user 640 ms, sys: 0 ns, total: 640 ms\n",
      "Wall time: 638 ms\n"
     ]
    }
   ],
   "source": [
    "%%time\n",
    "\n",
    "paises_ri = []\n",
    "for i, x in rutas_iberoamericanas_df.iterrows():\n",
    "    pais_autor = x['PAIS_AUTOR']\n",
    "    pais_ejemplar = x['PAIS_EJEMPLAR']\n",
    "    paises_ri.append((pais_autor, pais_ejemplar))"
   ]
  },
  {
   "cell_type": "code",
   "execution_count": 26,
   "metadata": {
    "collapsed": true
   },
   "outputs": [],
   "source": [
    "paises_ri_c = Counter(paises_ri)"
   ]
  },
  {
   "cell_type": "code",
   "execution_count": 27,
   "metadata": {
    "collapsed": true
   },
   "outputs": [],
   "source": [
    "top_paises_ri = paises_ri_c.most_common()"
   ]
  },
  {
   "cell_type": "code",
   "execution_count": 28,
   "metadata": {
    "collapsed": false
   },
   "outputs": [
    {
     "data": {
      "text/plain": [
       "[(('Argentina', 'Colombia'), 410),\n",
       " (('Brazil', 'Colombia'), 336),\n",
       " (('Mexico', 'Colombia'), 303),\n",
       " (('Argentina', 'Mexico'), 302),\n",
       " (('Chile', 'Colombia'), 238),\n",
       " (('Venezuela', 'Colombia'), 220),\n",
       " (('Peru', 'Colombia'), 171),\n",
       " (('Cuba', 'Colombia'), 154),\n",
       " (('Uruguay', 'Argentina'), 137),\n",
       " (('Colombia', 'Mexico'), 128),\n",
       " (('Chile', 'Mexico'), 124),\n",
       " (('Brazil', 'Argentina'), 110),\n",
       " (('Brazil', 'Mexico'), 104),\n",
       " (('Chile', 'Argentina'), 103),\n",
       " (('Cuba', 'Mexico'), 102),\n",
       " (('Uruguay', 'Colombia'), 92),\n",
       " (('Panama', 'Mexico'), 91),\n",
       " (('Peru', 'Mexico'), 90),\n",
       " (('Colombia', 'Argentina'), 83),\n",
       " (('Peru', 'Argentina'), 72),\n",
       " (('Uruguay', 'Mexico'), 69),\n",
       " (('Cuba', 'Argentina'), 59),\n",
       " (('Argentina', 'Venezuela'), 57),\n",
       " (('Ecuador', 'Colombia'), 57),\n",
       " (('Mexico', 'Argentina'), 55),\n",
       " (('Venezuela', 'Mexico'), 52),\n",
       " (('Colombia', 'Venezuela'), 49),\n",
       " (('Cuba', 'Venezuela'), 43),\n",
       " (('Argentina', 'Cuba'), 41),\n",
       " (('Venezuela', 'Argentina'), 39),\n",
       " (('Nicaragua', 'Mexico'), 38),\n",
       " (('Panama', 'Colombia'), 31),\n",
       " (('Nicaragua', 'Colombia'), 31),\n",
       " (('Honduras', 'Mexico'), 27),\n",
       " (('Uruguay', 'Venezuela'), 27),\n",
       " (('Dominican Republic', 'Colombia'), 25),\n",
       " (('Argentina', 'Chile'), 25),\n",
       " (('Guatemala', 'Mexico'), 25),\n",
       " (('Chile', 'Venezuela'), 25),\n",
       " (('Peru', 'Venezuela'), 25),\n",
       " (('Uruguay', 'Cuba'), 23),\n",
       " (('Mexico', 'Venezuela'), 23),\n",
       " (('Dominican Republic', 'Mexico'), 20),\n",
       " (('Peru', 'Chile'), 20),\n",
       " (('Ecuador', 'Mexico'), 20),\n",
       " (('Ecuador', 'Argentina'), 19),\n",
       " (('Nicaragua', 'Argentina'), 16),\n",
       " (('Chile', 'Cuba'), 16),\n",
       " (('Venezuela', 'Cuba'), 14),\n",
       " (('Bolivia', 'Colombia'), 14),\n",
       " (('Colombia', 'Chile'), 14),\n",
       " (('Colombia', 'Cuba'), 14),\n",
       " (('Ecuador', 'Venezuela'), 13),\n",
       " (('Uruguay', 'Chile'), 13),\n",
       " (('Guatemala', 'Colombia'), 13),\n",
       " (('Honduras', 'Colombia'), 13),\n",
       " (('Bolivia', 'Mexico'), 13),\n",
       " (('Colombia', 'Peru'), 13),\n",
       " (('Brazil', 'Venezuela'), 12),\n",
       " (('Paraguay', 'Argentina'), 12),\n",
       " (('Peru', 'Cuba'), 11),\n",
       " (('Panama', 'Argentina'), 11),\n",
       " (('El Salvador', 'Colombia'), 10),\n",
       " (('Brazil', 'Chile'), 10),\n",
       " (('Mexico', 'Chile'), 10),\n",
       " (('Mexico', 'Ecuador'), 9),\n",
       " (('Cuba', 'Chile'), 9),\n",
       " (('Costa Rica', 'Colombia'), 9),\n",
       " (('Paraguay', 'Mexico'), 9),\n",
       " (('Colombia', 'Brazil'), 9),\n",
       " (('Paraguay', 'Colombia'), 8),\n",
       " (('Brazil', 'Ecuador'), 8),\n",
       " (('Bolivia', 'Brazil'), 8),\n",
       " (('Venezuela', 'Chile'), 8),\n",
       " (('Cuba', 'Costa Rica'), 8),\n",
       " (('Dominican Republic', 'Argentina'), 8),\n",
       " (('Brazil', 'Cuba'), 8),\n",
       " (('Argentina', 'Uruguay'), 8),\n",
       " (('Cuba', 'Ecuador'), 8),\n",
       " (('Mexico', 'Peru'), 7),\n",
       " (('Chile', 'Peru'), 7),\n",
       " (('Bolivia', 'Argentina'), 7),\n",
       " (('Colombia', 'Ecuador'), 7),\n",
       " (('Venezuela', 'Ecuador'), 7),\n",
       " (('Argentina', 'Brazil'), 7),\n",
       " (('Costa Rica', 'Mexico'), 6),\n",
       " (('Ecuador', 'Cuba'), 6),\n",
       " (('El Salvador', 'Mexico'), 6),\n",
       " (('Nicaragua', 'Venezuela'), 6),\n",
       " (('Argentina', 'Peru'), 6),\n",
       " (('Costa Rica', 'Venezuela'), 5),\n",
       " (('Chile', 'Ecuador'), 5),\n",
       " (('Argentina', 'Ecuador'), 5),\n",
       " (('Colombia', 'Costa Rica'), 5),\n",
       " (('Mexico', 'Cuba'), 5),\n",
       " (('Puerto Rico', 'Colombia'), 5),\n",
       " (('Dominican Republic', 'Venezuela'), 5),\n",
       " (('Mexico', 'Costa Rica'), 4),\n",
       " (('Peru', 'Ecuador'), 4),\n",
       " (('Nicaragua', 'Chile'), 4),\n",
       " (('Panama', 'Costa Rica'), 4),\n",
       " (('Venezuela', 'Peru'), 4),\n",
       " (('Nicaragua', 'Cuba'), 4),\n",
       " (('Cuba', 'Puerto Rico'), 4),\n",
       " (('Brazil', 'Peru'), 4),\n",
       " (('Uruguay', 'Peru'), 4),\n",
       " (('Colombia', 'El Salvador'), 3),\n",
       " (('Uruguay', 'Ecuador'), 3),\n",
       " (('Paraguay', 'Chile'), 3),\n",
       " (('Cuba', 'Peru'), 3),\n",
       " (('Panama', 'Venezuela'), 3),\n",
       " (('Mexico', 'Nicaragua'), 3),\n",
       " (('Uruguay', 'Costa Rica'), 3),\n",
       " (('Bolivia', 'Peru'), 3),\n",
       " (('Colombia', 'Uruguay'), 3),\n",
       " (('Dominican Republic', 'Ecuador'), 3),\n",
       " (('Nicaragua', 'Peru'), 3),\n",
       " (('Cuba', 'Guatemala'), 2),\n",
       " (('Chile', 'Costa Rica'), 2),\n",
       " (('Honduras', 'El Salvador'), 2),\n",
       " (('Mexico', 'Puerto Rico'), 2),\n",
       " (('Chile', 'Puerto Rico'), 2),\n",
       " (('Chile', 'Nicaragua'), 2),\n",
       " (('Honduras', 'Venezuela'), 2),\n",
       " (('Guatemala', 'Nicaragua'), 2),\n",
       " (('Chile', 'El Salvador'), 2),\n",
       " (('El Salvador', 'Costa Rica'), 2),\n",
       " (('Guatemala', 'Venezuela'), 2),\n",
       " (('Argentina', 'Bolivia'), 2),\n",
       " (('Argentina', 'El Salvador'), 2),\n",
       " (('Argentina', 'Puerto Rico'), 2),\n",
       " (('Dominican Republic', 'Cuba'), 2),\n",
       " (('Paraguay', 'Venezuela'), 2),\n",
       " (('Cuba', 'Brazil'), 2),\n",
       " (('Nicaragua', 'Costa Rica'), 2),\n",
       " (('Peru', 'Uruguay'), 2),\n",
       " (('Guatemala', 'Chile'), 2),\n",
       " (('Venezuela', 'Uruguay'), 2),\n",
       " (('Dominican Republic', 'Peru'), 2),\n",
       " (('Mexico', 'Uruguay'), 2),\n",
       " (('Nicaragua', 'Guatemala'), 2),\n",
       " (('Colombia', 'Guatemala'), 2),\n",
       " (('Guatemala', 'Cuba'), 2),\n",
       " (('Bolivia', 'Chile'), 2),\n",
       " (('Argentina', 'Panama'), 2),\n",
       " (('El Salvador', 'Cuba'), 2),\n",
       " (('Peru', 'Puerto Rico'), 2),\n",
       " (('Costa Rica', 'Cuba'), 1),\n",
       " (('Argentina', 'Costa Rica'), 1),\n",
       " (('Cuba', 'Panama'), 1),\n",
       " (('El Salvador', 'Chile'), 1),\n",
       " (('Honduras', 'Cuba'), 1),\n",
       " (('Ecuador', 'Guatemala'), 1),\n",
       " (('Cuba', 'Uruguay'), 1),\n",
       " (('El Salvador', 'Peru'), 1),\n",
       " (('Brazil', 'Bolivia'), 1),\n",
       " (('Honduras', 'Argentina'), 1),\n",
       " (('Nicaragua', 'Ecuador'), 1),\n",
       " (('Cuba', 'El Salvador'), 1),\n",
       " (('Chile', 'Bolivia'), 1),\n",
       " (('Colombia', 'Paraguay'), 1),\n",
       " (('Brazil', 'Honduras'), 1),\n",
       " (('Dominican Republic', 'Brazil'), 1),\n",
       " (('Costa Rica', 'Guatemala'), 1),\n",
       " (('Ecuador', 'Chile'), 1),\n",
       " (('El Salvador', 'Argentina'), 1),\n",
       " (('Bolivia', 'Cuba'), 1),\n",
       " (('Mexico', 'Honduras'), 1),\n",
       " (('Dominican Republic', 'Nicaragua'), 1),\n",
       " (('Dominican Republic', 'Puerto Rico'), 1),\n",
       " (('Venezuela', 'Panama'), 1),\n",
       " (('Mexico', 'Guatemala'), 1),\n",
       " (('Brazil', 'Costa Rica'), 1),\n",
       " (('Brazil', 'Nicaragua'), 1),\n",
       " (('Guatemala', 'Argentina'), 1),\n",
       " (('Paraguay', 'Ecuador'), 1),\n",
       " (('Brazil', 'Uruguay'), 1),\n",
       " (('Chile', 'Brazil'), 1),\n",
       " (('Cuba', 'Honduras'), 1),\n",
       " (('Paraguay', 'Cuba'), 1),\n",
       " (('Brazil', 'Guatemala'), 1),\n",
       " (('Costa Rica', 'Chile'), 1),\n",
       " (('Colombia', 'Panama'), 1),\n",
       " (('Guatemala', 'Costa Rica'), 1),\n",
       " (('Venezuela', 'Paraguay'), 1),\n",
       " (('Dominican Republic', 'El Salvador'), 1)]"
      ]
     },
     "execution_count": 28,
     "metadata": {},
     "output_type": "execute_result"
    }
   ],
   "source": [
    "top_paises_ri"
   ]
  },
  {
   "cell_type": "markdown",
   "metadata": {},
   "source": [
    "### Rutas mundiales"
   ]
  },
  {
   "cell_type": "code",
   "execution_count": 29,
   "metadata": {
    "collapsed": true
   },
   "outputs": [],
   "source": [
    "rutas_mundiales_df = autores_iberoamericanos_df[\n",
    "    ~autores_iberoamericanos_df.PAIS_EJEMPLAR.isin(paises_iberoamericanos)\n",
    "]"
   ]
  },
  {
   "cell_type": "code",
   "execution_count": 30,
   "metadata": {
    "collapsed": false
   },
   "outputs": [
    {
     "data": {
      "text/plain": [
       "4016"
      ]
     },
     "execution_count": 30,
     "metadata": {},
     "output_type": "execute_result"
    }
   ],
   "source": [
    "len(rutas_mundiales_df)"
   ]
  },
  {
   "cell_type": "markdown",
   "metadata": {},
   "source": [
    "#### Obras escritas por autores iberoamericanos y editadas fuera de Iberoamérica"
   ]
  },
  {
   "cell_type": "code",
   "execution_count": 31,
   "metadata": {
    "collapsed": false
   },
   "outputs": [
    {
     "data": {
      "text/plain": [
       "Antología poética                                               16\n",
       "Obras completas                                                 15\n",
       "La ciudad y los perros                                          10\n",
       "Poesía                                                           9\n",
       "Historia contemporánea de América Latina                         8\n",
       "Poesía completa                                                  8\n",
       "Cuentos                                                          7\n",
       "Cuentos completos                                                7\n",
       "La casa verde                                                    7\n",
       "Obra poética                                                     6\n",
       "Pantaleón y las visitadoras                                      6\n",
       "Antología                                                        6\n",
       "Primer ensayo sobre la población                                 6\n",
       "Conversación en la catedral                                      6\n",
       "Juntacadáveres                                                   6\n",
       "Confesiones                                                      6\n",
       "Cien años de soledad                                             6\n",
       "Tres tristes tigres                                              5\n",
       "María                                                            5\n",
       "Obra poética completa                                            5\n",
       "La muerte de Artemio Cruz                                        5\n",
       "Las ciudades invisibles                                          4\n",
       "El astillero                                                     4\n",
       "El lugar sin límites                                             4\n",
       "El obsceno pájaro de la noche                                    4\n",
       "La invención de Morel                                            4\n",
       "Si una noche de invierno un viajero                              4\n",
       "El otoño del patriarca                                           4\n",
       "Poesías completas                                                4\n",
       "Canto general                                                    4\n",
       "                                                                ..\n",
       "Lope de Aguirre, Príncipe de la libertad                         1\n",
       "Jesús el Nazareno : terapeuta y kabalista                        1\n",
       "En busca de los pobres de Jesucristo : el pensamiento de Bar     1\n",
       "Escritura y secreto                                              1\n",
       "Cuba por Korda                                                   1\n",
       "Fragmentos a su imán                                             1\n",
       "Verdi y Wagner : sus mejores grabaciones en DVD y CD             1\n",
       "Rubén Darío y la nueva cultura americana : (curso en seis le     1\n",
       "Espejismos : poemas entre el suelo y el cielo                    1\n",
       "Epistemología : curso de actualización                           1\n",
       "El miedo escénico y otras hierbas                                1\n",
       "Salsavida : Roman                                                1\n",
       "La noche : misterio herético en treinta episodios y tres fin     1\n",
       "Azul... : prosas profanas, cantos de vida y esperanza            1\n",
       "Conversaciones con Paulo Mendes da Rocha                         1\n",
       "Dos novelitas poco edificantes                                   1\n",
       "Motecta                                                          1\n",
       "Milagro en roma Milagro en Roma                                  1\n",
       "Agua                                                             1\n",
       "Sudeste ligados                                                  1\n",
       "La teoría de las inteligencias liberadoras : estrategias par     1\n",
       "El regreso                                                       1\n",
       "Los héroes de la emancipación de la raza hispanoamericana        1\n",
       "América Latina en José Martí : antología de ensayos              1\n",
       "Acto cultural ; El día que me quieras ; La soberbia milagros     1\n",
       "Sonetos del extraño                                              1\n",
       "Cuentas pendientes                                               1\n",
       "Atlas de educación en diabetes en América Latina y el Caribe     1\n",
       "Borges en /y/ sobre cine                                         1\n",
       "País portatil                                                    1\n",
       "Name: TITULO, dtype: int64"
      ]
     },
     "execution_count": 31,
     "metadata": {},
     "output_type": "execute_result"
    }
   ],
   "source": [
    "rutas_mundiales_df.TITULO.value_counts()"
   ]
  },
  {
   "cell_type": "markdown",
   "metadata": {},
   "source": [
    "#### Número de obras"
   ]
  },
  {
   "cell_type": "code",
   "execution_count": 32,
   "metadata": {
    "collapsed": false
   },
   "outputs": [
    {
     "data": {
      "text/plain": [
       "3603"
      ]
     },
     "execution_count": 32,
     "metadata": {},
     "output_type": "execute_result"
    }
   ],
   "source": [
    "rutas_mundiales_df.TITULO.nunique()"
   ]
  },
  {
   "cell_type": "markdown",
   "metadata": {},
   "source": [
    "#### Autores"
   ]
  },
  {
   "cell_type": "code",
   "execution_count": 33,
   "metadata": {
    "collapsed": false
   },
   "outputs": [
    {
     "data": {
      "text/plain": [
       "Gabriel García Márquez       115\n",
       "Mario Vargas Llosa            97\n",
       "Jorge Luis Borges             83\n",
       "Italo Calvino                 59\n",
       "Pablo Neruda                  55\n",
       "Octavio Paz                   54\n",
       "Alejandro Jodorowsky          44\n",
       "Santo Agustín                 39\n",
       "Rubén Darío                   37\n",
       "Carlos Fuentes                31\n",
       "Guillermo Cabrera Infante     31\n",
       "Juan Carlos Onetti            30\n",
       "Adolfo Bioy Casares           30\n",
       "Cristina Peri Rossi           29\n",
       "Mario Bunge                   29\n",
       "Isabel Allende                28\n",
       "José Martí                    27\n",
       "Leonardo Boff                 27\n",
       "José Donoso                   27\n",
       "Roberto Bolaño                24\n",
       "Horacio Quiroga               23\n",
       "Alfredo Bryce Echenique       22\n",
       "Jorge Edwards                 19\n",
       "Juan José Benítez             19\n",
       "César Vallejo                 19\n",
       "Jorge Amado                   19\n",
       "Eduardo Galeano               19\n",
       "Alberto Manguel               19\n",
       "Juan Rulfo                    18\n",
       "José Lezama Lima              18\n",
       "                            ... \n",
       "Fernando Niembro               1\n",
       "Román Piña Chan                1\n",
       "Sebastián Rodríguez            1\n",
       "Richard Herr                   1\n",
       "Alfredo Campos                 1\n",
       "América Sánchez                1\n",
       "Francisco Varela               1\n",
       "Ernesto Hernández Busto        1\n",
       "Tryno Maldonado                1\n",
       "Ricardo Baeza                  1\n",
       "Martín Chambi                  1\n",
       "Gustavo Sierra                 1\n",
       "Rubén Blades                   1\n",
       "Moyses Szklo                   1\n",
       "Pedro Moreno                   1\n",
       "Igor Saavedra                  1\n",
       "Graciela Iturbide              1\n",
       "David Rosenmann-Taub           1\n",
       "Manuel Gutiérrez Nájera        1\n",
       "José Fernández                 1\n",
       "Rubén Alonso                   1\n",
       "José Victorino Lastarria       1\n",
       "Juan Parra del Riego           1\n",
       "Pedro Hernández                1\n",
       "Luis Martín                    1\n",
       "Rodolfo Barón Castro           1\n",
       "Rómulo D. Carbia               1\n",
       "Nelson Motta                   1\n",
       "Salarrué                       1\n",
       "Antonio Caro                   1\n",
       "Name: AUTOR, dtype: int64"
      ]
     },
     "execution_count": 33,
     "metadata": {},
     "output_type": "execute_result"
    }
   ],
   "source": [
    "rutas_mundiales_df.AUTOR.value_counts()"
   ]
  },
  {
   "cell_type": "markdown",
   "metadata": {},
   "source": [
    "#### Número de autores"
   ]
  },
  {
   "cell_type": "code",
   "execution_count": 34,
   "metadata": {
    "collapsed": false
   },
   "outputs": [
    {
     "data": {
      "text/plain": [
       "1257"
      ]
     },
     "execution_count": 34,
     "metadata": {},
     "output_type": "execute_result"
    }
   ],
   "source": [
    "rutas_mundiales_df.AUTOR.nunique()"
   ]
  },
  {
   "cell_type": "markdown",
   "metadata": {},
   "source": [
    "#### Países"
   ]
  },
  {
   "cell_type": "code",
   "execution_count": 35,
   "metadata": {
    "collapsed": false
   },
   "outputs": [
    {
     "name": "stdout",
     "output_type": "stream",
     "text": [
      "CPU times: user 515 ms, sys: 3.32 ms, total: 518 ms\n",
      "Wall time: 517 ms\n"
     ]
    }
   ],
   "source": [
    "%%time\n",
    "\n",
    "paises_rw = []\n",
    "for i, x in rutas_mundiales_df.iterrows():\n",
    "    pais_autor = x['PAIS_AUTOR']\n",
    "    pais_ejemplar = x['PAIS_EJEMPLAR']\n",
    "    paises_rw.append((pais_autor, pais_ejemplar))"
   ]
  },
  {
   "cell_type": "code",
   "execution_count": 36,
   "metadata": {
    "collapsed": true
   },
   "outputs": [],
   "source": [
    "paises_rw_c = Counter(paises_rw)"
   ]
  },
  {
   "cell_type": "code",
   "execution_count": 37,
   "metadata": {
    "collapsed": true
   },
   "outputs": [],
   "source": [
    "top_paises_rw = paises_rw_c.most_common()"
   ]
  },
  {
   "cell_type": "code",
   "execution_count": 38,
   "metadata": {
    "collapsed": false
   },
   "outputs": [
    {
     "data": {
      "text/plain": [
       "[(('Argentina', 'Spain'), 889),\n",
       " (('Mexico', 'Spain'), 447),\n",
       " (('Cuba', 'Spain'), 380),\n",
       " (('Chile', 'Spain'), 354),\n",
       " (('Peru', 'Spain'), 315),\n",
       " (('Colombia', 'Spain'), 270),\n",
       " (('Brazil', 'Spain'), 218),\n",
       " (('Uruguay', 'Spain'), 195),\n",
       " (('Venezuela', 'Spain'), 111),\n",
       " (('Nicaragua', 'Spain'), 77),\n",
       " (('Colombia', 'United States'), 50),\n",
       " (('Colombia', 'France'), 48),\n",
       " (('Argentina', 'United States'), 37),\n",
       " (('Panama', 'Spain'), 35),\n",
       " (('Cuba', 'United States'), 30),\n",
       " (('Dominican Republic', 'Spain'), 27),\n",
       " (('Honduras', 'Spain'), 21),\n",
       " (('Guatemala', 'Spain'), 21),\n",
       " (('Ecuador', 'Spain'), 20),\n",
       " (('Puerto Rico', 'Spain'), 20),\n",
       " (('Mexico', 'United States'), 17),\n",
       " (('Brazil', 'United States'), 16),\n",
       " (('Peru', 'United States'), 15),\n",
       " (('Bolivia', 'Spain'), 15),\n",
       " (('Argentina', 'France'), 15),\n",
       " (('Colombia', 'Portugal'), 14),\n",
       " (('Paraguay', 'Spain'), 13),\n",
       " (('Colombia', 'Germany'), 13),\n",
       " (('Colombia', 'England'), 12),\n",
       " (('Costa Rica', 'Spain'), 11),\n",
       " (('Chile', 'United States'), 11),\n",
       " (('Brazil', 'Burma'), 10),\n",
       " (('Colombia', 'Italy'), 10),\n",
       " (('Chile', 'China'), 9),\n",
       " (('Colombia', 'New York (State)'), 9),\n",
       " (('El Salvador', 'Spain'), 8),\n",
       " (('Brazil', 'France'), 8),\n",
       " (('Argentina', 'England'), 7),\n",
       " (('Venezuela', 'France'), 7),\n",
       " (('Uruguay', 'Russia'), 5),\n",
       " (('Colombia', 'Sikkim'), 5),\n",
       " (('Peru', 'France'), 4),\n",
       " (('Cuba', 'Austria'), 4),\n",
       " (('Uruguay', 'United States'), 4),\n",
       " (('Cuba', 'France'), 4),\n",
       " (('Puerto Rico', 'United States'), 4),\n",
       " (('Argentina', 'New York (State)'), 4),\n",
       " (('Mexico', 'France'), 4),\n",
       " (('Peru', 'England'), 4),\n",
       " (('Dominican Republic', 'United States'), 4),\n",
       " (('Uruguay', 'Japan'), 4),\n",
       " (('Mexico', 'New York (State)'), 4),\n",
       " (('Brazil', 'Portugal'), 4),\n",
       " (('Venezuela', 'United States'), 4),\n",
       " (('Cuba', 'Florida'), 3),\n",
       " (('Argentina', 'Austria'), 3),\n",
       " (('Colombia', 'Russia'), 3),\n",
       " (('Nicaragua', 'United States'), 3),\n",
       " (('Cuba', 'Cambodia'), 3),\n",
       " (('Argentina', 'Canada'), 3),\n",
       " (('Peru', 'New York (State)'), 3),\n",
       " (('Argentina', 'Netherlands'), 3),\n",
       " (('Brazil', 'United Kingdom'), 3),\n",
       " (('Brazil', 'England'), 3),\n",
       " (('Uruguay', 'France'), 3),\n",
       " (('Mexico', 'Italy'), 3),\n",
       " (('Colombia', 'Netherlands'), 3),\n",
       " (('Cuba', 'England'), 3),\n",
       " (('Ecuador', 'United States'), 2),\n",
       " (('Colombia', 'Curaçao'), 2),\n",
       " (('Chile', 'England'), 2),\n",
       " (('Panama', 'New York (State)'), 2),\n",
       " (('Cuba', 'New York (State)'), 2),\n",
       " (('Colombia', 'Greece'), 2),\n",
       " (('Argentina', 'Italy'), 2),\n",
       " (('Chile', 'Germany'), 2),\n",
       " (('Venezuela', 'England'), 2),\n",
       " (('Chile', 'France'), 2),\n",
       " (('Brazil', 'New Jersey'), 2),\n",
       " (('Bolivia', 'United States'), 2),\n",
       " (('Brazil', 'Switzerland'), 2),\n",
       " (('Brazil', 'New York (State)'), 2),\n",
       " (('Cuba', 'United Kingdom'), 2),\n",
       " (('Panama', 'England'), 2),\n",
       " (('Colombia', 'Japan'), 2),\n",
       " (('Ecuador', 'Japan'), 2),\n",
       " (('Mexico', 'England'), 2),\n",
       " (('Colombia', 'Austria'), 2),\n",
       " (('Chile', 'Sweden'), 2),\n",
       " (('Ecuador', 'France'), 2),\n",
       " (('Argentina', 'Florida'), 2),\n",
       " (('Colombia', 'Norway'), 2),\n",
       " (('Peru', 'China'), 2),\n",
       " (('Colombia', 'Poland'), 2),\n",
       " (('Colombia', 'Belgium'), 2),\n",
       " (('Colombia', 'Illinois'), 1),\n",
       " (('Brazil', 'North Carolina'), 1),\n",
       " (('Argentina', 'Portugal'), 1),\n",
       " (('Mexico', 'Austria'), 1),\n",
       " (('Colombia', 'China'), 1),\n",
       " (('Brazil', 'Indiana'), 1),\n",
       " (('Colombia', 'Switzerland'), 1),\n",
       " (('Colombia', 'Monaco'), 1),\n",
       " (('Mexico', 'Washington (State)'), 1),\n",
       " (('Colombia', 'Sweden'), 1),\n",
       " (('Bolivia', 'Italy'), 1),\n",
       " (('Chile', 'Switzerland'), 1),\n",
       " (('Colombia', 'French Guiana'), 1),\n",
       " (('Brazil', 'Wisconsin'), 1),\n",
       " (('Nicaragua', 'England'), 1),\n",
       " (('Brazil', 'Austria'), 1),\n",
       " (('El Salvador', 'New Hampshire'), 1),\n",
       " (('Nicaragua', 'France'), 1),\n",
       " (('El Salvador', 'United States'), 1),\n",
       " (('Mexico', 'District of Columbia'), 1),\n",
       " (('Uruguay', 'California'), 1),\n",
       " (('Brazil', 'Singapore'), 1),\n",
       " (('Uruguay', 'Italy'), 1),\n",
       " (('Cuba', 'Washington (State)'), 1),\n",
       " (('Argentina', 'Montenegro'), 1),\n",
       " (('Brazil', 'Massachusetts'), 1),\n",
       " (('Dominican Republic', 'New York (State)'), 1),\n",
       " (('Uruguay', 'Hong Kong'), 1),\n",
       " (('Guatemala', 'New York (State)'), 1),\n",
       " (('Uruguay', 'Thailand'), 1),\n",
       " (('Mexico', 'Montenegro'), 1),\n",
       " (('Honduras', 'Haiti'), 1),\n",
       " (('Colombia', 'Denmark'), 1),\n",
       " (('Panama', 'United States'), 1),\n",
       " (('Uruguay', 'China'), 1),\n",
       " (('Colombia', 'Turkey'), 1),\n",
       " (('Cuba', 'Canada'), 1),\n",
       " (('Dominican Republic', 'South Carolina'), 1),\n",
       " (('Colombia', 'Romania'), 1),\n",
       " (('Argentina', 'Russia'), 1),\n",
       " (('Brazil', 'China'), 1),\n",
       " (('Peru', 'Germany'), 1),\n",
       " (('Peru', 'Netherlands'), 1),\n",
       " (('Paraguay', 'Portugal'), 1),\n",
       " (('Argentina', 'Germany'), 1),\n",
       " (('Argentina', 'China'), 1),\n",
       " (('Chile', 'United Kingdom'), 1),\n",
       " (('Peru', 'Montserrat'), 1),\n",
       " (('Mexico', 'California'), 1),\n",
       " (('Dominican Republic', 'France'), 1),\n",
       " (('Bolivia', 'Switzerland'), 1),\n",
       " (('Brazil', 'Germany'), 1),\n",
       " (('Venezuela', 'Belgium'), 1),\n",
       " (('Cuba', 'Japan'), 1),\n",
       " (('Colombia', 'Florida'), 1),\n",
       " (('Paraguay', 'France'), 1),\n",
       " (('Brazil', 'District of Columbia'), 1),\n",
       " (('Colombia', 'Hungary'), 1),\n",
       " (('Colombia', 'Vatican City'), 1),\n",
       " (('Colombia', 'New Caledonia'), 1),\n",
       " (('Argentina', 'Australia'), 1),\n",
       " (('Chile', 'Belgium'), 1),\n",
       " (('Venezuela', 'Vietnam'), 1),\n",
       " (('Ecuador', 'England'), 1),\n",
       " (('Argentina', 'Pennsylvania'), 1),\n",
       " (('Argentina', 'Denmark'), 1),\n",
       " (('Brazil', 'Canada'), 1),\n",
       " (('Guatemala', 'United States'), 1),\n",
       " (('Venezuela', 'Portugal'), 1),\n",
       " (('Cuba', 'Jamaica'), 1),\n",
       " (('Colombia', 'Canada'), 1),\n",
       " (('Mexico', 'Switzerland'), 1),\n",
       " (('Mexico', 'Japan'), 1)]"
      ]
     },
     "execution_count": 38,
     "metadata": {},
     "output_type": "execute_result"
    }
   ],
   "source": [
    "top_paises_rw"
   ]
  },
  {
   "cell_type": "markdown",
   "metadata": {},
   "source": [
    "## Grafos"
   ]
  },
  {
   "cell_type": "code",
   "execution_count": 39,
   "metadata": {
    "collapsed": false
   },
   "outputs": [
    {
     "name": "stdout",
     "output_type": "stream",
     "text": [
      "CPU times: user 18.1 s, sys: 0 ns, total: 18.1 s\n",
      "Wall time: 18.1 s\n"
     ]
    }
   ],
   "source": [
    "%%time\n",
    "\n",
    "coords = {}\n",
    "for i, x in autores_df.iterrows():\n",
    "    coords[x.PAIS_AUTOR] = x.GEOLOC_CAPITAL_AUTOR\n",
    "    coords[x.PAIS_EJEMPLAR] = x.GEOLOC_CAPITAL_EJEMPLAR"
   ]
  },
  {
   "cell_type": "code",
   "execution_count": 40,
   "metadata": {
    "collapsed": true
   },
   "outputs": [],
   "source": [
    "cycles_graph = nx.DiGraph()\n",
    "r_iber_graph = nx.DiGraph()\n",
    "r_wrld_graph = nx.DiGraph()"
   ]
  },
  {
   "cell_type": "code",
   "execution_count": 41,
   "metadata": {
    "collapsed": false
   },
   "outputs": [],
   "source": [
    "for k in paises_cy_c:\n",
    "    if k[0] not in cycles_graph:\n",
    "        lat, lng = coords[k[0]]\n",
    "        cycles_graph.add_node(k[0], latitude=lat, longitude=lng, weight=paises_cy_c[k])\n",
    "    \n",
    "    cycles_graph.add_edge(k[0], k[0], weight=paises_cy_c[k])"
   ]
  },
  {
   "cell_type": "code",
   "execution_count": 42,
   "metadata": {
    "collapsed": true
   },
   "outputs": [],
   "source": [
    "for k in paises_ri_c:\n",
    "    if k[0] not in r_iber_graph:\n",
    "        lat, lng = coords[k[0]]\n",
    "        r_iber_graph.add_node(k[0], latitude=lat, longitude=lng, weight=0)\n",
    "    r_iber_graph.node[k[0]]['weight'] += paises_ri_c[k]\n",
    "    \n",
    "    if k[1] not in r_iber_graph:\n",
    "        lat, lng = coords[k[1]]\n",
    "        r_iber_graph.add_node(k[1], latitude=lat, longitude=lng, weight=0)\n",
    "    r_iber_graph.node[k[1]]['weight'] += paises_ri_c[k]\n",
    "    \n",
    "    r_iber_graph.add_edge(k[0], k[1], weight=paises_ri_c[k])"
   ]
  },
  {
   "cell_type": "code",
   "execution_count": 43,
   "metadata": {
    "collapsed": true
   },
   "outputs": [],
   "source": [
    "for k in paises_rw_c:\n",
    "    if k[0] not in r_wrld_graph:\n",
    "        lat, lng = coords[k[0]]\n",
    "        r_wrld_graph.add_node(k[0], latitude=lat, longitude=lng, weight=0)\n",
    "    r_wrld_graph.node[k[0]]['weight'] += paises_rw_c[k]\n",
    "    \n",
    "    if k[1] not in r_wrld_graph:\n",
    "        lat, lng = coords[k[1]]\n",
    "        r_wrld_graph.add_node(k[1], latitude=lat, longitude=lng, weight=0)\n",
    "    r_wrld_graph.node[k[1]]['weight'] += paises_rw_c[k]\n",
    "    \n",
    "    r_wrld_graph.add_edge(k[0], k[1], weight=paises_rw_c[k])"
   ]
  },
  {
   "cell_type": "code",
   "execution_count": 44,
   "metadata": {
    "collapsed": false
   },
   "outputs": [
    {
     "data": {
      "text/plain": [
       "20"
      ]
     },
     "execution_count": 44,
     "metadata": {},
     "output_type": "execute_result"
    }
   ],
   "source": [
    "cycles_graph.number_of_nodes()"
   ]
  },
  {
   "cell_type": "code",
   "execution_count": 45,
   "metadata": {
    "collapsed": false
   },
   "outputs": [
    {
     "data": {
      "text/plain": [
       "20"
      ]
     },
     "execution_count": 45,
     "metadata": {},
     "output_type": "execute_result"
    }
   ],
   "source": [
    "cycles_graph.number_of_edges()"
   ]
  },
  {
   "cell_type": "code",
   "execution_count": 46,
   "metadata": {
    "collapsed": false
   },
   "outputs": [
    {
     "data": {
      "text/plain": [
       "20"
      ]
     },
     "execution_count": 46,
     "metadata": {},
     "output_type": "execute_result"
    }
   ],
   "source": [
    "r_iber_graph.number_of_nodes()"
   ]
  },
  {
   "cell_type": "code",
   "execution_count": 47,
   "metadata": {
    "collapsed": false
   },
   "outputs": [
    {
     "data": {
      "text/plain": [
       "186"
      ]
     },
     "execution_count": 47,
     "metadata": {},
     "output_type": "execute_result"
    }
   ],
   "source": [
    "r_iber_graph.number_of_edges()"
   ]
  },
  {
   "cell_type": "code",
   "execution_count": 48,
   "metadata": {
    "collapsed": false
   },
   "outputs": [
    {
     "data": {
      "text/plain": [
       "75"
      ]
     },
     "execution_count": 48,
     "metadata": {},
     "output_type": "execute_result"
    }
   ],
   "source": [
    "r_wrld_graph.number_of_nodes()"
   ]
  },
  {
   "cell_type": "code",
   "execution_count": 49,
   "metadata": {
    "collapsed": false
   },
   "outputs": [
    {
     "data": {
      "text/plain": [
       "168"
      ]
     },
     "execution_count": 49,
     "metadata": {},
     "output_type": "execute_result"
    }
   ],
   "source": [
    "r_wrld_graph.number_of_edges()"
   ]
  },
  {
   "cell_type": "markdown",
   "metadata": {},
   "source": [
    "## Filtering labels"
   ]
  },
  {
   "cell_type": "code",
   "execution_count": 50,
   "metadata": {
    "collapsed": true
   },
   "outputs": [],
   "source": [
    "def select_top_nodes(g, p):\n",
    "    ns = [(n, d['weight']) for n, d in g.nodes_iter(data=True)]\n",
    "    ns = sorted(ns, key=lambda x: x[1], reverse=True)\n",
    "    amount = round(len(ns) * p)\n",
    "    taken = ns[:amount]\n",
    "    labels = [n for n, w in taken]\n",
    "    return labels"
   ]
  },
  {
   "cell_type": "code",
   "execution_count": 51,
   "metadata": {
    "collapsed": true
   },
   "outputs": [],
   "source": [
    "for i in range(10, 100, 10):\n",
    "    p = i / 100\n",
    "    top_cy_labels = select_top_nodes(cycles_graph, p)\n",
    "    for k in cycles_graph:\n",
    "        if k in top_cy_labels:\n",
    "            cycles_graph.node[k]['show_label_' + str(i)] = k\n",
    "        else:\n",
    "            cycles_graph.node[k]['show_label_' + str(i)] = ''"
   ]
  },
  {
   "cell_type": "code",
   "execution_count": 52,
   "metadata": {
    "collapsed": true
   },
   "outputs": [],
   "source": [
    "for i in range(10, 100, 10):\n",
    "    p = i / 100\n",
    "    top_ri_labels = select_top_nodes(r_iber_graph, p)\n",
    "    for k in r_iber_graph:\n",
    "        if k in top_ri_labels:\n",
    "            r_iber_graph.node[k]['show_label_' + str(i)] = k\n",
    "        else:\n",
    "            r_iber_graph.node[k]['show_label_' + str(i)] = ''"
   ]
  },
  {
   "cell_type": "code",
   "execution_count": 53,
   "metadata": {
    "collapsed": true
   },
   "outputs": [],
   "source": [
    "for i in range(10, 100, 10):\n",
    "    p = i / 100\n",
    "    top_rw_labels = select_top_nodes(r_wrld_graph, p)\n",
    "    for k in r_wrld_graph:\n",
    "        if k in top_rw_labels:\n",
    "            r_wrld_graph.node[k]['show_label_' + str(i)] = k\n",
    "        else:\n",
    "            r_wrld_graph.node[k]['show_label_' + str(i)] = ''"
   ]
  },
  {
   "cell_type": "markdown",
   "metadata": {},
   "source": [
    "# Saving results"
   ]
  },
  {
   "cell_type": "code",
   "execution_count": 54,
   "metadata": {
    "collapsed": true
   },
   "outputs": [],
   "source": [
    "nx.write_gexf(cycles_graph, 'grafo_ciclos_iberoamericanos.gexf')\n",
    "nx.write_gexf(r_iber_graph, 'grafo_rutas_iberoamericanas.gexf')\n",
    "nx.write_gexf(r_wrld_graph, 'grafo_rutas_mundiales.gexf')"
   ]
  },
  {
   "cell_type": "code",
   "execution_count": null,
   "metadata": {
    "collapsed": true
   },
   "outputs": [],
   "source": []
  }
 ],
 "metadata": {
  "kernelspec": {
   "display_name": "Python 3",
   "language": "python",
   "name": "python3"
  },
  "language_info": {
   "codemirror_mode": {
    "name": "ipython",
    "version": 3
   },
   "file_extension": ".py",
   "mimetype": "text/x-python",
   "name": "python",
   "nbconvert_exporter": "python",
   "pygments_lexer": "ipython3",
   "version": "3.4.3"
  }
 },
 "nbformat": 4,
 "nbformat_minor": 1
}
