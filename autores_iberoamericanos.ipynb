{
 "cells": [
  {
   "cell_type": "markdown",
   "metadata": {},
   "source": [
    "# Autores iberoamericanos"
   ]
  },
  {
   "cell_type": "code",
   "execution_count": 1,
   "metadata": {
    "collapsed": true
   },
   "outputs": [],
   "source": [
    "import ast\n",
    "import csv\n",
    "import os\n",
    "import pickle\n",
    "import re\n",
    "from collections import defaultdict\n",
    "from collections import Counter\n",
    "from datetime import datetime\n",
    "from datetime import timedelta\n",
    "from string import punctuation\n",
    "\n",
    "import matplotlib\n",
    "import numpy as np\n",
    "import networkx as nx\n",
    "import pandas as pd\n",
    "import requests\n",
    "import seaborn as sns\n",
    "from geolocation.main import GoogleMaps\n",
    "from matplotlib import pyplot as plt\n",
    "from SPARQLWrapper import SPARQLWrapper, JSON\n",
    "\n",
    "from googlemaps_key import KEY"
   ]
  },
  {
   "cell_type": "markdown",
   "metadata": {},
   "source": [
    "## Autores"
   ]
  },
  {
   "cell_type": "code",
   "execution_count": 2,
   "metadata": {
    "collapsed": false
   },
   "outputs": [
    {
     "name": "stdout",
     "output_type": "stream",
     "text": [
      "CPU times: user 2.08 s, sys: 25.8 ms, total: 2.11 s\n",
      "Wall time: 2.1 s\n"
     ]
    }
   ],
   "source": [
    "%%time\n",
    "\n",
    "autores_df = pd.read_csv(\n",
    "    'autores8.csv',\n",
    "    header=0,\n",
    "    converters={\n",
    "        'GEOLOC_CAPITAL_AUTOR': ast.literal_eval,\n",
    "        'GEOLOC_CAPITAL_EJEMPLAR': ast.literal_eval\n",
    "    }\n",
    ")\n",
    "autores_df = autores_df.fillna('')"
   ]
  },
  {
   "cell_type": "code",
   "execution_count": 3,
   "metadata": {
    "collapsed": false
   },
   "outputs": [
    {
     "data": {
      "text/plain": [
       "(61857, 10)"
      ]
     },
     "execution_count": 3,
     "metadata": {},
     "output_type": "execute_result"
    }
   ],
   "source": [
    "autores_df.shape"
   ]
  },
  {
   "cell_type": "code",
   "execution_count": 4,
   "metadata": {
    "collapsed": false
   },
   "outputs": [
    {
     "data": {
      "text/html": [
       "<div>\n",
       "<table border=\"1\" class=\"dataframe\">\n",
       "  <thead>\n",
       "    <tr style=\"text-align: right;\">\n",
       "      <th></th>\n",
       "      <th>TITULO</th>\n",
       "      <th>FECHA_PUB</th>\n",
       "      <th>PAIS_EJEMPLAR</th>\n",
       "      <th>AUTOR</th>\n",
       "      <th>PAIS_AUTOR</th>\n",
       "      <th>NOMBRE_LOCALIZADO</th>\n",
       "      <th>CAPITAL_AUTOR</th>\n",
       "      <th>CAPITAL_EJEMPLAR</th>\n",
       "      <th>GEOLOC_CAPITAL_AUTOR</th>\n",
       "      <th>GEOLOC_CAPITAL_EJEMPLAR</th>\n",
       "    </tr>\n",
       "  </thead>\n",
       "  <tbody>\n",
       "    <tr>\n",
       "      <th>0</th>\n",
       "      <td>Adivina en qué pais ...</td>\n",
       "      <td>2010</td>\n",
       "      <td>Spain</td>\n",
       "      <td>Martina Badstuber</td>\n",
       "      <td>Germany</td>\n",
       "      <td>Martina Badstuber</td>\n",
       "      <td>Berlin</td>\n",
       "      <td>Madrid</td>\n",
       "      <td>(52.52000659999999, 13.404954)</td>\n",
       "      <td>(40.4167754, -3.7037902)</td>\n",
       "    </tr>\n",
       "    <tr>\n",
       "      <th>1</th>\n",
       "      <td>Galleta para perros</td>\n",
       "      <td>2008</td>\n",
       "      <td>Spain</td>\n",
       "      <td>Helen Cooper</td>\n",
       "      <td>United Kingdom</td>\n",
       "      <td>Helen Cooper</td>\n",
       "      <td>London</td>\n",
       "      <td>Madrid</td>\n",
       "      <td>(51.5073509, -0.1277583)</td>\n",
       "      <td>(40.4167754, -3.7037902)</td>\n",
       "    </tr>\n",
       "    <tr>\n",
       "      <th>2</th>\n",
       "      <td>Codrilo</td>\n",
       "      <td>2009</td>\n",
       "      <td>Spain</td>\n",
       "      <td>Roberto Aliaga Sánchez</td>\n",
       "      <td>Spain</td>\n",
       "      <td>Roberto Aliaga</td>\n",
       "      <td>Madrid</td>\n",
       "      <td>Madrid</td>\n",
       "      <td>(40.4167754, -3.7037902)</td>\n",
       "      <td>(40.4167754, -3.7037902)</td>\n",
       "    </tr>\n",
       "    <tr>\n",
       "      <th>3</th>\n",
       "      <td>Félix, : el coleccionista de miedos</td>\n",
       "      <td>2009</td>\n",
       "      <td>Spain</td>\n",
       "      <td>Fina Casalderrey</td>\n",
       "      <td>Spain</td>\n",
       "      <td>Fina Casalderrey</td>\n",
       "      <td>Madrid</td>\n",
       "      <td>Madrid</td>\n",
       "      <td>(40.4167754, -3.7037902)</td>\n",
       "      <td>(40.4167754, -3.7037902)</td>\n",
       "    </tr>\n",
       "    <tr>\n",
       "      <th>4</th>\n",
       "      <td>En la laguna más profunda</td>\n",
       "      <td>2011</td>\n",
       "      <td>Colombia</td>\n",
       "      <td>Oscar Collazos</td>\n",
       "      <td>Colombia</td>\n",
       "      <td>Oscar Collazos</td>\n",
       "      <td>Bogotá</td>\n",
       "      <td>Bogotá</td>\n",
       "      <td>(4.710988599999999, -74.072092)</td>\n",
       "      <td>(4.710988599999999, -74.072092)</td>\n",
       "    </tr>\n",
       "  </tbody>\n",
       "</table>\n",
       "</div>"
      ],
      "text/plain": [
       "                                TITULO  FECHA_PUB PAIS_EJEMPLAR  \\\n",
       "0              Adivina en qué pais ...       2010         Spain   \n",
       "1                  Galleta para perros       2008         Spain   \n",
       "2                              Codrilo       2009         Spain   \n",
       "3  Félix, : el coleccionista de miedos       2009         Spain   \n",
       "4            En la laguna más profunda       2011      Colombia   \n",
       "\n",
       "                    AUTOR      PAIS_AUTOR  NOMBRE_LOCALIZADO CAPITAL_AUTOR  \\\n",
       "0       Martina Badstuber         Germany  Martina Badstuber        Berlin   \n",
       "1            Helen Cooper  United Kingdom       Helen Cooper        London   \n",
       "2  Roberto Aliaga Sánchez           Spain     Roberto Aliaga        Madrid   \n",
       "3        Fina Casalderrey           Spain   Fina Casalderrey        Madrid   \n",
       "4          Oscar Collazos        Colombia     Oscar Collazos        Bogotá   \n",
       "\n",
       "  CAPITAL_EJEMPLAR             GEOLOC_CAPITAL_AUTOR  \\\n",
       "0           Madrid   (52.52000659999999, 13.404954)   \n",
       "1           Madrid         (51.5073509, -0.1277583)   \n",
       "2           Madrid         (40.4167754, -3.7037902)   \n",
       "3           Madrid         (40.4167754, -3.7037902)   \n",
       "4           Bogotá  (4.710988599999999, -74.072092)   \n",
       "\n",
       "           GEOLOC_CAPITAL_EJEMPLAR  \n",
       "0         (40.4167754, -3.7037902)  \n",
       "1         (40.4167754, -3.7037902)  \n",
       "2         (40.4167754, -3.7037902)  \n",
       "3         (40.4167754, -3.7037902)  \n",
       "4  (4.710988599999999, -74.072092)  "
      ]
     },
     "execution_count": 4,
     "metadata": {},
     "output_type": "execute_result"
    }
   ],
   "source": [
    "autores_df.head()"
   ]
  },
  {
   "cell_type": "markdown",
   "metadata": {},
   "source": [
    "## Autores iberoamericanos"
   ]
  },
  {
   "cell_type": "code",
   "execution_count": 5,
   "metadata": {
    "collapsed": true
   },
   "outputs": [],
   "source": [
    "paises_iberoamericanos = [\n",
    "    # Español\n",
    "    'Argentina', 'Bolivia', 'Brasil', 'Chile', 'Colombia', 'Costa Rica', 'Cuba', 'Ecuador',\n",
    "    'El Salvador', 'Guatemala', 'Honduras', 'México', 'Nicaragua', 'Panamá', 'Paraguay',\n",
    "    'Perú', 'Puerto Rico', 'República Dominicana', 'Uruguay', 'Venezuela',\n",
    "    # Inglés\n",
    "    'Argentina', 'Bolivia', 'Brazil', 'Chile', 'Colombia', 'Costa Rica', 'Cuba', 'Ecuador',\n",
    "    'El Salvador', 'Guatemala', 'Honduras', 'Mexico', 'Nicaragua', 'Panama', 'Paraguay',\n",
    "    'Peru', 'Puerto Rico', 'Dominican Republic', 'Uruguay', 'Venezuela',\n",
    "]"
   ]
  },
  {
   "cell_type": "code",
   "execution_count": 6,
   "metadata": {
    "collapsed": true
   },
   "outputs": [],
   "source": [
    "autores_iberoamericanos_df = autores_df[autores_df.PAIS_AUTOR.isin(paises_iberoamericanos)]"
   ]
  },
  {
   "cell_type": "code",
   "execution_count": 7,
   "metadata": {
    "collapsed": false
   },
   "outputs": [
    {
     "data": {
      "text/plain": [
       "(13782, 10)"
      ]
     },
     "execution_count": 7,
     "metadata": {},
     "output_type": "execute_result"
    }
   ],
   "source": [
    "autores_iberoamericanos_df.shape"
   ]
  },
  {
   "cell_type": "code",
   "execution_count": 8,
   "metadata": {
    "collapsed": false
   },
   "outputs": [
    {
     "data": {
      "text/html": [
       "<div>\n",
       "<table border=\"1\" class=\"dataframe\">\n",
       "  <thead>\n",
       "    <tr style=\"text-align: right;\">\n",
       "      <th></th>\n",
       "      <th>TITULO</th>\n",
       "      <th>FECHA_PUB</th>\n",
       "      <th>PAIS_EJEMPLAR</th>\n",
       "      <th>AUTOR</th>\n",
       "      <th>PAIS_AUTOR</th>\n",
       "      <th>NOMBRE_LOCALIZADO</th>\n",
       "      <th>CAPITAL_AUTOR</th>\n",
       "      <th>CAPITAL_EJEMPLAR</th>\n",
       "      <th>GEOLOC_CAPITAL_AUTOR</th>\n",
       "      <th>GEOLOC_CAPITAL_EJEMPLAR</th>\n",
       "    </tr>\n",
       "  </thead>\n",
       "  <tbody>\n",
       "    <tr>\n",
       "      <th>4</th>\n",
       "      <td>En la laguna más profunda</td>\n",
       "      <td>2011</td>\n",
       "      <td>Colombia</td>\n",
       "      <td>Oscar Collazos</td>\n",
       "      <td>Colombia</td>\n",
       "      <td>Oscar Collazos</td>\n",
       "      <td>Bogotá</td>\n",
       "      <td>Bogotá</td>\n",
       "      <td>(4.710988599999999, -74.072092)</td>\n",
       "      <td>(4.710988599999999, -74.072092)</td>\n",
       "    </tr>\n",
       "    <tr>\n",
       "      <th>32</th>\n",
       "      <td>Galileo Galilei</td>\n",
       "      <td>2009</td>\n",
       "      <td>Spain</td>\n",
       "      <td>Guilherme de Almeida</td>\n",
       "      <td>Brazil</td>\n",
       "      <td>Guilherme de Almeida</td>\n",
       "      <td>Brasília</td>\n",
       "      <td>Madrid</td>\n",
       "      <td>(-15.7942287, -47.8821658)</td>\n",
       "      <td>(40.4167754, -3.7037902)</td>\n",
       "    </tr>\n",
       "    <tr>\n",
       "      <th>33</th>\n",
       "      <td>Haiku</td>\n",
       "      <td>2009</td>\n",
       "      <td>Argentina</td>\n",
       "      <td>Iris Rivera</td>\n",
       "      <td>Argentina</td>\n",
       "      <td>Iris Rivera</td>\n",
       "      <td>Buenos Aires</td>\n",
       "      <td>Buenos Aires</td>\n",
       "      <td>(-34.6036844, -58.3815591)</td>\n",
       "      <td>(-34.6036844, -58.3815591)</td>\n",
       "    </tr>\n",
       "    <tr>\n",
       "      <th>50</th>\n",
       "      <td>Sana que sana</td>\n",
       "      <td>2008</td>\n",
       "      <td>Spain</td>\n",
       "      <td>María Cristina Ramos</td>\n",
       "      <td>Argentina</td>\n",
       "      <td>María Cristina Ramos</td>\n",
       "      <td>Buenos Aires</td>\n",
       "      <td>Madrid</td>\n",
       "      <td>(-34.6036844, -58.3815591)</td>\n",
       "      <td>(40.4167754, -3.7037902)</td>\n",
       "    </tr>\n",
       "    <tr>\n",
       "      <th>54</th>\n",
       "      <td>Nicanor Parra : poemas ilustrados</td>\n",
       "      <td>2012</td>\n",
       "      <td>Chile</td>\n",
       "      <td>Nicanor Parra</td>\n",
       "      <td>Chile</td>\n",
       "      <td>Nicanor Parra</td>\n",
       "      <td>Santiago</td>\n",
       "      <td>Santiago</td>\n",
       "      <td>(-33.4488897, -70.6692655)</td>\n",
       "      <td>(-33.4488897, -70.6692655)</td>\n",
       "    </tr>\n",
       "  </tbody>\n",
       "</table>\n",
       "</div>"
      ],
      "text/plain": [
       "                               TITULO  FECHA_PUB PAIS_EJEMPLAR  \\\n",
       "4           En la laguna más profunda       2011      Colombia   \n",
       "32                    Galileo Galilei       2009         Spain   \n",
       "33                              Haiku       2009     Argentina   \n",
       "50                      Sana que sana       2008         Spain   \n",
       "54  Nicanor Parra : poemas ilustrados       2012         Chile   \n",
       "\n",
       "                   AUTOR PAIS_AUTOR     NOMBRE_LOCALIZADO CAPITAL_AUTOR  \\\n",
       "4         Oscar Collazos   Colombia        Oscar Collazos        Bogotá   \n",
       "32  Guilherme de Almeida     Brazil  Guilherme de Almeida      Brasília   \n",
       "33           Iris Rivera  Argentina           Iris Rivera  Buenos Aires   \n",
       "50  María Cristina Ramos  Argentina  María Cristina Ramos  Buenos Aires   \n",
       "54         Nicanor Parra      Chile         Nicanor Parra      Santiago   \n",
       "\n",
       "   CAPITAL_EJEMPLAR             GEOLOC_CAPITAL_AUTOR  \\\n",
       "4            Bogotá  (4.710988599999999, -74.072092)   \n",
       "32           Madrid       (-15.7942287, -47.8821658)   \n",
       "33     Buenos Aires       (-34.6036844, -58.3815591)   \n",
       "50           Madrid       (-34.6036844, -58.3815591)   \n",
       "54         Santiago       (-33.4488897, -70.6692655)   \n",
       "\n",
       "            GEOLOC_CAPITAL_EJEMPLAR  \n",
       "4   (4.710988599999999, -74.072092)  \n",
       "32         (40.4167754, -3.7037902)  \n",
       "33       (-34.6036844, -58.3815591)  \n",
       "50         (40.4167754, -3.7037902)  \n",
       "54       (-33.4488897, -70.6692655)  "
      ]
     },
     "execution_count": 8,
     "metadata": {},
     "output_type": "execute_result"
    }
   ],
   "source": [
    "autores_iberoamericanos_df.head()"
   ]
  },
  {
   "cell_type": "markdown",
   "metadata": {},
   "source": [
    "## Resultados"
   ]
  },
  {
   "cell_type": "markdown",
   "metadata": {},
   "source": [
    "### Ciclos"
   ]
  },
  {
   "cell_type": "code",
   "execution_count": 9,
   "metadata": {
    "collapsed": true
   },
   "outputs": [],
   "source": [
    "ciclos_df = autores_iberoamericanos_df[\n",
    "    (autores_iberoamericanos_df.PAIS_EJEMPLAR == autores_iberoamericanos_df.PAIS_AUTOR)\n",
    "]"
   ]
  },
  {
   "cell_type": "code",
   "execution_count": 10,
   "metadata": {
    "collapsed": false
   },
   "outputs": [
    {
     "data": {
      "text/plain": [
       "7054"
      ]
     },
     "execution_count": 10,
     "metadata": {},
     "output_type": "execute_result"
    }
   ],
   "source": [
    "len(ciclos_df)"
   ]
  },
  {
   "cell_type": "markdown",
   "metadata": {},
   "source": [
    "#### Obras escritas por autores iberoamericanos y editadas en el mismo país de origen del autor"
   ]
  },
  {
   "cell_type": "code",
   "execution_count": 11,
   "metadata": {
    "collapsed": false
   },
   "outputs": [
    {
     "data": {
      "text/plain": [
       "Obras completas                                                 28\n",
       "Cuentos                                                         22\n",
       "Antología                                                       21\n",
       "María                                                           19\n",
       "Antología poética                                               18\n",
       "Obra poética                                                    15\n",
       "El coronel no tiene quien le escriba                            14\n",
       "Cuentos completos                                               14\n",
       "Cien años de soledad                                            13\n",
       "La vorágine                                                     13\n",
       "Poesía                                                          11\n",
       "Los grandes conflictos sociales y económicos de nuestra hist    10\n",
       "Poesía completa                                                 10\n",
       "Obras                                                           10\n",
       "Teatro                                                           9\n",
       "Facundo                                                          9\n",
       "Perdido en el Amazonas                                           8\n",
       "La hojarasca                                                     8\n",
       "Ojos de perro azul                                               8\n",
       "Teatro completo                                                  8\n",
       "Poesías                                                          8\n",
       "Relato de un náufrago                                            8\n",
       "Historia básica de Colombia                                      7\n",
       "Tierra de promisión                                              7\n",
       "Del amor y otros demonios                                        7\n",
       "El amor en los tiempos del cólera                                7\n",
       "Doce cuentos peregrinos                                          7\n",
       "El otoño del patriarca                                           7\n",
       "La marquesa de Yolombó                                           6\n",
       "Noticia de un secuestro                                          6\n",
       "                                                                ..\n",
       "El compañero presidente                                          1\n",
       "Cartas y discursos políticos : itinerario de una pasión repu     1\n",
       "Marquitos, campesino de chiapán : o el miedo a no poder serv     1\n",
       "Prosa literaria                                                  1\n",
       "El cascabel del halcón                                           1\n",
       "La furia de los elementos                                        1\n",
       "Herbarium : plantas mexicanas del alma                           1\n",
       "Obra poética en prosa y verso                                    1\n",
       "Una autobiografía soterrada : (ampliaciones, rectificaciones     1\n",
       "El regreso : y otros cuentos inquietantes                        1\n",
       "O quinze                                                         1\n",
       "Arte y trama en el cuento indígena                               1\n",
       "El Karina ; el hueco ; el Cachalandrán amarillo                  1\n",
       "Temas de nuestra América                                         1\n",
       "Libro del cielo y del infierno                                   1\n",
       "La muerte de Bolatriste                                          1\n",
       "Monteadentro : 1983-1989                                         1\n",
       "El chulla Romero y Flores                                        1\n",
       "Los habitantes : novela                                          1\n",
       "Morir con papá : novela                                          1\n",
       "Breve historia de la narrativa colombiana : siglos XVI-XX        1\n",
       "Piel de recuerdo : poemas                                        1\n",
       "Pipo conductor                                                   1\n",
       "El libro de la locura                                            1\n",
       "En algún valle de lagrimas                                       1\n",
       "La sombra de tu paso                                             1\n",
       "El fariseo                                                       1\n",
       "Otras historias : cuentos                                        1\n",
       "Lexicografía                                                     1\n",
       "Escolios a un texto implícito: obra completa                     1\n",
       "Name: TITULO, dtype: int64"
      ]
     },
     "execution_count": 11,
     "metadata": {},
     "output_type": "execute_result"
    }
   ],
   "source": [
    "ciclos_df.TITULO.value_counts()"
   ]
  },
  {
   "cell_type": "markdown",
   "metadata": {},
   "source": [
    "#### Número de obras"
   ]
  },
  {
   "cell_type": "code",
   "execution_count": 12,
   "metadata": {
    "collapsed": false
   },
   "outputs": [
    {
     "data": {
      "text/plain": [
       "6043"
      ]
     },
     "execution_count": 12,
     "metadata": {},
     "output_type": "execute_result"
    }
   ],
   "source": [
    "ciclos_df.TITULO.nunique()"
   ]
  },
  {
   "cell_type": "markdown",
   "metadata": {},
   "source": [
    "#### Autores"
   ]
  },
  {
   "cell_type": "code",
   "execution_count": 13,
   "metadata": {
    "collapsed": false
   },
   "outputs": [
    {
     "data": {
      "text/plain": [
       "Gabriel García Márquez        204\n",
       "Fernando Soto Aparicio         98\n",
       "Jorge Luis Borges              98\n",
       "Jairo Aníbal Niño              92\n",
       "Javier Ocampo López            79\n",
       "Eduardo Caballero Calderón     78\n",
       "Octavio Paz                    76\n",
       "José María Vargas Vila         76\n",
       "Celso Román                    67\n",
       "William Ospina                 57\n",
       "Germán Espinosa                55\n",
       "Germán Castro Caycedo          55\n",
       "José Martí                     55\n",
       "Manuel Mejía Vallejo           54\n",
       "Tomás Carrasquilla             51\n",
       "Andrés Caicedo                 48\n",
       "Manuel Zapata Olivella         45\n",
       "León de Greiff                 43\n",
       "Jorge Isaacs                   43\n",
       "Juan Manuel Roca               42\n",
       "Ruth Rocha                     40\n",
       "Alfredo Iriarte                39\n",
       "Alfonso Reyes                  38\n",
       "Oscar Collazos                 37\n",
       "Roberto Fontanarrosa           36\n",
       "Miguel Antonio Caro            36\n",
       "Daniel Samper Pizano           34\n",
       "José Emilio Pacheco            34\n",
       "Piedad Bonnett                 30\n",
       "Jorge Zalamea                  30\n",
       "                             ... \n",
       "Fernando Iwasaki                1\n",
       "Germán Pardo García             1\n",
       "Carlos Sabat Ercasty            1\n",
       "Rosa Beltrán                    1\n",
       "Carlos Valdés                   1\n",
       "Paz Alicia Garciadiego          1\n",
       "Guadalupe Nettel                1\n",
       "Fernando Solanas                1\n",
       "Rafael Delgado                  1\n",
       "Mariano Moreno                  1\n",
       "Fernando González Gortázar      1\n",
       "Rubén Medina                    1\n",
       "José Bianco                     1\n",
       "Pablo Rojas Paz                 1\n",
       "Carlos Herrejón Peredo          1\n",
       "José Vicente Abreu              1\n",
       "Roger Pla                       1\n",
       "Estanislao del Campo            1\n",
       "Lucas Bridges                   1\n",
       "Manuel Mejía                    1\n",
       "Enrique Larreta                 1\n",
       "Marco Haurélio                  1\n",
       "Zacarías Reyán                  1\n",
       "Enrique Gil Gilbert             1\n",
       "Mabel Pagano                    1\n",
       "Abilio Estévez                  1\n",
       "Caio Fernando Abreu             1\n",
       "Germán List Arzubide            1\n",
       "Mireya Cueto                    1\n",
       "Marcelo Quiroga Santa Cruz      1\n",
       "Name: NOMBRE_LOCALIZADO, dtype: int64"
      ]
     },
     "execution_count": 13,
     "metadata": {},
     "output_type": "execute_result"
    }
   ],
   "source": [
    "ciclos_df.NOMBRE_LOCALIZADO.value_counts()"
   ]
  },
  {
   "cell_type": "markdown",
   "metadata": {},
   "source": [
    "#### Número de autores"
   ]
  },
  {
   "cell_type": "code",
   "execution_count": 14,
   "metadata": {
    "collapsed": false
   },
   "outputs": [
    {
     "data": {
      "text/plain": [
       "1306"
      ]
     },
     "execution_count": 14,
     "metadata": {},
     "output_type": "execute_result"
    }
   ],
   "source": [
    "ciclos_df.NOMBRE_LOCALIZADO.nunique()"
   ]
  },
  {
   "cell_type": "markdown",
   "metadata": {},
   "source": [
    "#### Países"
   ]
  },
  {
   "cell_type": "code",
   "execution_count": 15,
   "metadata": {
    "collapsed": false
   },
   "outputs": [
    {
     "name": "stdout",
     "output_type": "stream",
     "text": [
      "CPU times: user 878 ms, sys: 3.7 ms, total: 882 ms\n",
      "Wall time: 880 ms\n"
     ]
    }
   ],
   "source": [
    "%%time\n",
    "\n",
    "paises_cy = []\n",
    "for i, x in ciclos_df.iterrows():\n",
    "    pais_autor = x['PAIS_AUTOR']\n",
    "    pais_ejemplar = x['PAIS_EJEMPLAR']\n",
    "    paises_cy.append((pais_autor, pais_ejemplar))"
   ]
  },
  {
   "cell_type": "code",
   "execution_count": 16,
   "metadata": {
    "collapsed": true
   },
   "outputs": [],
   "source": [
    "paises_cy_c = Counter(paises_cy)"
   ]
  },
  {
   "cell_type": "code",
   "execution_count": 17,
   "metadata": {
    "collapsed": true
   },
   "outputs": [],
   "source": [
    "top_paises_cy = paises_cy_c.most_common()"
   ]
  },
  {
   "cell_type": "code",
   "execution_count": 18,
   "metadata": {
    "collapsed": false
   },
   "outputs": [
    {
     "data": {
      "text/plain": [
       "[(('Colombia', 'Colombia'), 2883),\n",
       " (('Mexico', 'Mexico'), 1364),\n",
       " (('Argentina', 'Argentina'), 1346),\n",
       " (('Venezuela', 'Venezuela'), 280),\n",
       " (('Chile', 'Chile'), 247),\n",
       " (('Brazil', 'Brazil'), 239),\n",
       " (('Cuba', 'Cuba'), 223),\n",
       " (('Peru', 'Peru'), 199),\n",
       " (('Ecuador', 'Ecuador'), 99),\n",
       " (('Uruguay', 'Uruguay'), 79),\n",
       " (('Costa Rica', 'Costa Rica'), 25),\n",
       " (('Bolivia', 'Bolivia'), 20),\n",
       " (('El Salvador', 'El Salvador'), 13),\n",
       " (('Nicaragua', 'Nicaragua'), 10),\n",
       " (('Dominican Republic', 'Dominican Republic'), 10),\n",
       " (('Panama', 'Panama'), 7),\n",
       " (('Guatemala', 'Guatemala'), 5),\n",
       " (('Paraguay', 'Paraguay'), 4),\n",
       " (('Honduras', 'Honduras'), 1)]"
      ]
     },
     "execution_count": 18,
     "metadata": {},
     "output_type": "execute_result"
    }
   ],
   "source": [
    "top_paises_cy"
   ]
  },
  {
   "cell_type": "markdown",
   "metadata": {},
   "source": [
    "### Rutas iberoamericanas"
   ]
  },
  {
   "cell_type": "code",
   "execution_count": 19,
   "metadata": {
    "collapsed": true
   },
   "outputs": [],
   "source": [
    "rutas_iberoamericanas_df = autores_iberoamericanos_df[\n",
    "    (autores_iberoamericanos_df.PAIS_EJEMPLAR.isin(paises_iberoamericanos)) &\n",
    "    (autores_iberoamericanos_df.PAIS_EJEMPLAR != autores_iberoamericanos_df.PAIS_AUTOR)\n",
    "]"
   ]
  },
  {
   "cell_type": "code",
   "execution_count": 20,
   "metadata": {
    "collapsed": false
   },
   "outputs": [
    {
     "data": {
      "text/plain": [
       "3528"
      ]
     },
     "execution_count": 20,
     "metadata": {},
     "output_type": "execute_result"
    }
   ],
   "source": [
    "len(rutas_iberoamericanas_df)"
   ]
  },
  {
   "cell_type": "markdown",
   "metadata": {},
   "source": [
    "#### Obras escritas por autores iberoamericanos y editadas en Iberoamérica, pero en un país diferente del país de origen del autor"
   ]
  },
  {
   "cell_type": "code",
   "execution_count": 21,
   "metadata": {
    "collapsed": false
   },
   "outputs": [
    {
     "data": {
      "text/plain": [
       "Martín Fierro                                                   19\n",
       "Antología poética                                               18\n",
       "Cuentos                                                         12\n",
       "La vorágine                                                     12\n",
       "Antología                                                       11\n",
       "Las venas abiertas de América Latina                            11\n",
       "Poesía                                                          11\n",
       "María                                                           10\n",
       "Aura                                                             9\n",
       "Antología personal                                               9\n",
       "Cuentos completos                                                8\n",
       "Obras completas                                                  8\n",
       "El reino de este mundo                                           8\n",
       "Obra selecta                                                     7\n",
       "Poemas                                                           7\n",
       "Cien años de soledad                                             7\n",
       "Obra poética                                                     6\n",
       "Veinte poemas de amor y una canción desesperada                  6\n",
       "Poesías completas                                                6\n",
       "Derecho penal : parte general                                    6\n",
       "Cuentos de la selva                                              6\n",
       "La oveja negra y demás fábulas                                   6\n",
       "Paradiso                                                         5\n",
       "Gramática de la lengua castellana                                5\n",
       "Yo el supremo                                                    5\n",
       "Canto general                                                    5\n",
       "Ariel                                                            5\n",
       "El siglo de las luces                                            5\n",
       "Huasipungo                                                       5\n",
       "Doña Bárbara                                                     5\n",
       "                                                                ..\n",
       "Postales                                                         1\n",
       "Derecho penal : Parte general                                    1\n",
       "Mensajes                                                         1\n",
       "En serio y en broma                                              1\n",
       "Dejen todo en mis manos                                          1\n",
       "Cuentos de vendavalia                                            1\n",
       "De noche andamos en círculos                                     1\n",
       "La increible y triste historia de la Cándida Eréndira y de s     1\n",
       "Los días del venado                                              1\n",
       "Teatro de Florencio Sánchez : nuestros hijos ; m'hijo el dot     1\n",
       "Los españoles en la historia y en la literatura : dos ensayo     1\n",
       "El show de José Fin                                              1\n",
       "Textos costeños : obra periodística                              1\n",
       "Cuentos de H. Bustos Domecq                                      1\n",
       "Pedro Figari : mito y memoria rioplatenses / Gabriel Peluffo     1\n",
       "Huellas en los encuentros de geometría y aritmética              1\n",
       "Geografía del hambre                                             1\n",
       "Literatura infantil, violencia y medios de comunicación : pr     1\n",
       "Miss Tacuarembó                                                  1\n",
       "a Los OVNIS de oro : poemas indios                               1\n",
       "Li M'in una niña de Chimel                                       1\n",
       "¿De dónde salió esa cosa azul?                                   1\n",
       "El precio del estaño : una tragedia boliviana                    1\n",
       "Miedo y osadía : la cotidianidad del docente que se arriesga     1\n",
       "Carandiru outras histórias                                       1\n",
       "Obras reunidas                                                   1\n",
       "Los dos payasos                                                  1\n",
       "Obra completa                                                    1\n",
       "La invención de Morel ; Plan de evasión ; La trama celeste       1\n",
       "Los días enmascarados                                            1\n",
       "Name: TITULO, dtype: int64"
      ]
     },
     "execution_count": 21,
     "metadata": {},
     "output_type": "execute_result"
    }
   ],
   "source": [
    "rutas_iberoamericanas_df.TITULO.value_counts()"
   ]
  },
  {
   "cell_type": "markdown",
   "metadata": {},
   "source": [
    "#### Número de obras"
   ]
  },
  {
   "cell_type": "code",
   "execution_count": 22,
   "metadata": {
    "collapsed": false
   },
   "outputs": [
    {
     "data": {
      "text/plain": [
       "2946"
      ]
     },
     "execution_count": 22,
     "metadata": {},
     "output_type": "execute_result"
    }
   ],
   "source": [
    "rutas_iberoamericanas_df.TITULO.nunique()"
   ]
  },
  {
   "cell_type": "markdown",
   "metadata": {},
   "source": [
    "#### Autores"
   ]
  },
  {
   "cell_type": "code",
   "execution_count": 23,
   "metadata": {
    "collapsed": false
   },
   "outputs": [
    {
     "data": {
      "text/plain": [
       "Pablo Neruda                 94\n",
       "Carlos Fuentes               90\n",
       "Mario Benedetti              78\n",
       "Mario Vargas Llosa           58\n",
       "Alejo Carpentier             57\n",
       "Fernando Ayala               51\n",
       "Horacio Quiroga              48\n",
       "Gabriel García Márquez       48\n",
       "Rubén Darío                  48\n",
       "Eduardo Galeano              44\n",
       "Marta Traba                  39\n",
       "José Martí                   38\n",
       "César Vallejo                37\n",
       "Antonio Orlando Rodríguez    37\n",
       "Jorge Luis Borges            35\n",
       "Jorge Amado                  34\n",
       "Darío Jaramillo              33\n",
       "Juan Carlos Onetti           33\n",
       "Alfonso Reyes                32\n",
       "Paulo Freire                 32\n",
       "José Hernández               30\n",
       "Augusto Monterroso           29\n",
       "Paulo Coelho                 28\n",
       "José María Arguedas          28\n",
       "Marta Harnecker              27\n",
       "Rubem Fonseca                27\n",
       "Isabel Allende               26\n",
       "Gabriela Mistral             22\n",
       "Ricardo Sánchez              21\n",
       "Ernesto Cardenal             20\n",
       "                             ..\n",
       "Luciano Álvarez               1\n",
       "Boris Izaguirre               1\n",
       "Víctor Montoya                1\n",
       "Guillermo del Toro            1\n",
       "Mónica Lavín                  1\n",
       "Florestan Fernandes           1\n",
       "María Granata                 1\n",
       "Joaquín Torres-García         1\n",
       "César Uribe                   1\n",
       "Yosip Ibrahim                 1\n",
       "Ricardo Jaimes Freyre         1\n",
       "Denis Lerrer Rosenfield       1\n",
       "Alfonso Calderón              1\n",
       "Elvio Romero                  1\n",
       "Carlos Anaya                  1\n",
       "Tomás Harris                  1\n",
       "Ricardo Luna                  1\n",
       "José Paulo Paes               1\n",
       "José María Heredia            1\n",
       "Fernán Silva Valdés           1\n",
       "Osvaldo Sauma                 1\n",
       "Ednodio Quintero              1\n",
       "Roberto Mascaró               1\n",
       "Abel Posse                    1\n",
       "Gabriel Trujillo Muñoz        1\n",
       "Leonardo Valencia             1\n",
       "Pablo de Santis               1\n",
       "Javier Argüello               1\n",
       "Rafael Spregelburd            1\n",
       "Raúl Contreras                1\n",
       "Name: NOMBRE_LOCALIZADO, dtype: int64"
      ]
     },
     "execution_count": 23,
     "metadata": {},
     "output_type": "execute_result"
    }
   ],
   "source": [
    "rutas_iberoamericanas_df.NOMBRE_LOCALIZADO.value_counts()"
   ]
  },
  {
   "cell_type": "markdown",
   "metadata": {},
   "source": [
    "#### Número de autores"
   ]
  },
  {
   "cell_type": "code",
   "execution_count": 24,
   "metadata": {
    "collapsed": false
   },
   "outputs": [
    {
     "data": {
      "text/plain": [
       "835"
      ]
     },
     "execution_count": 24,
     "metadata": {},
     "output_type": "execute_result"
    }
   ],
   "source": [
    "rutas_iberoamericanas_df.NOMBRE_LOCALIZADO.nunique()"
   ]
  },
  {
   "cell_type": "markdown",
   "metadata": {},
   "source": [
    "#### Países"
   ]
  },
  {
   "cell_type": "code",
   "execution_count": 25,
   "metadata": {
    "collapsed": false
   },
   "outputs": [
    {
     "name": "stdout",
     "output_type": "stream",
     "text": [
      "CPU times: user 472 ms, sys: 0 ns, total: 472 ms\n",
      "Wall time: 471 ms\n"
     ]
    }
   ],
   "source": [
    "%%time\n",
    "\n",
    "paises_ri = []\n",
    "for i, x in rutas_iberoamericanas_df.iterrows():\n",
    "    pais_autor = x['PAIS_AUTOR']\n",
    "    pais_ejemplar = x['PAIS_EJEMPLAR']\n",
    "    paises_ri.append((pais_autor, pais_ejemplar))"
   ]
  },
  {
   "cell_type": "code",
   "execution_count": 26,
   "metadata": {
    "collapsed": true
   },
   "outputs": [],
   "source": [
    "paises_ri_c = Counter(paises_ri)"
   ]
  },
  {
   "cell_type": "code",
   "execution_count": 27,
   "metadata": {
    "collapsed": true
   },
   "outputs": [],
   "source": [
    "top_paises_ri = paises_ri_c.most_common()"
   ]
  },
  {
   "cell_type": "code",
   "execution_count": 28,
   "metadata": {
    "collapsed": false
   },
   "outputs": [
    {
     "data": {
      "text/plain": [
       "[(('Argentina', 'Colombia'), 342),\n",
       " (('Argentina', 'Mexico'), 187),\n",
       " (('Mexico', 'Colombia'), 181),\n",
       " (('Peru', 'Colombia'), 150),\n",
       " (('Chile', 'Colombia'), 148),\n",
       " (('Cuba', 'Colombia'), 147),\n",
       " (('Uruguay', 'Argentina'), 147),\n",
       " (('Brazil', 'Colombia'), 128),\n",
       " (('Uruguay', 'Colombia'), 125),\n",
       " (('Cuba', 'Mexico'), 109),\n",
       " (('Brazil', 'Argentina'), 90),\n",
       " (('Colombia', 'Mexico'), 87),\n",
       " (('Uruguay', 'Mexico'), 87),\n",
       " (('Chile', 'Argentina'), 83),\n",
       " (('Peru', 'Argentina'), 81),\n",
       " (('Peru', 'Mexico'), 80),\n",
       " (('Panama', 'Mexico'), 73),\n",
       " (('Chile', 'Mexico'), 69),\n",
       " (('Venezuela', 'Colombia'), 67),\n",
       " (('Brazil', 'Mexico'), 59),\n",
       " (('Cuba', 'Argentina'), 59),\n",
       " (('Colombia', 'Argentina'), 49),\n",
       " (('Nicaragua', 'Colombia'), 39),\n",
       " (('Argentina', 'Venezuela'), 38),\n",
       " (('Mexico', 'Argentina'), 35),\n",
       " (('Cuba', 'Venezuela'), 35),\n",
       " (('Nicaragua', 'Mexico'), 33),\n",
       " (('Ecuador', 'Colombia'), 32),\n",
       " (('Venezuela', 'Mexico'), 28),\n",
       " (('Colombia', 'Venezuela'), 28),\n",
       " (('Uruguay', 'Venezuela'), 25),\n",
       " (('Honduras', 'Mexico'), 24),\n",
       " (('Argentina', 'Cuba'), 22),\n",
       " (('Peru', 'Venezuela'), 21),\n",
       " (('Panama', 'Colombia'), 20),\n",
       " (('Uruguay', 'Cuba'), 20),\n",
       " (('Chile', 'Venezuela'), 20),\n",
       " (('Peru', 'Chile'), 19),\n",
       " (('Argentina', 'Chile'), 18),\n",
       " (('Colombia', 'Cuba'), 16),\n",
       " (('Nicaragua', 'Argentina'), 16),\n",
       " (('Chile', 'Peru'), 16),\n",
       " (('Dominican Republic', 'Colombia'), 16),\n",
       " (('Chile', 'Cuba'), 15),\n",
       " (('Mexico', 'Venezuela'), 14),\n",
       " (('Dominican Republic', 'Mexico'), 14),\n",
       " (('Ecuador', 'Argentina'), 13),\n",
       " (('Ecuador', 'Mexico'), 12),\n",
       " (('Uruguay', 'Chile'), 12),\n",
       " (('Venezuela', 'Cuba'), 11),\n",
       " (('Brazil', 'Ecuador'), 11),\n",
       " (('Venezuela', 'Argentina'), 11),\n",
       " (('Peru', 'Cuba'), 11),\n",
       " (('Ecuador', 'Venezuela'), 10),\n",
       " (('Brazil', 'Venezuela'), 10),\n",
       " (('Honduras', 'Colombia'), 10),\n",
       " (('Colombia', 'Peru'), 9),\n",
       " (('Brazil', 'Cuba'), 8),\n",
       " (('Bolivia', 'Colombia'), 8),\n",
       " (('Bolivia', 'Mexico'), 8),\n",
       " (('Venezuela', 'Chile'), 8),\n",
       " (('Guatemala', 'Mexico'), 7),\n",
       " (('Cuba', 'Chile'), 7),\n",
       " (('Costa Rica', 'Mexico'), 7),\n",
       " (('Colombia', 'Brazil'), 7),\n",
       " (('Mexico', 'Chile'), 7),\n",
       " (('Cuba', 'Ecuador'), 7),\n",
       " (('Brazil', 'Chile'), 7),\n",
       " (('Chile', 'Ecuador'), 7),\n",
       " (('Ecuador', 'Cuba'), 6),\n",
       " (('Paraguay', 'Argentina'), 6),\n",
       " (('Paraguay', 'Mexico'), 6),\n",
       " (('Cuba', 'Costa Rica'), 6),\n",
       " (('Cuba', 'Puerto Rico'), 6),\n",
       " (('Bolivia', 'Brazil'), 6),\n",
       " (('Dominican Republic', 'Argentina'), 6),\n",
       " (('Bolivia', 'Argentina'), 5),\n",
       " (('Dominican Republic', 'Venezuela'), 5),\n",
       " (('Nicaragua', 'Venezuela'), 4),\n",
       " (('Nicaragua', 'Cuba'), 4),\n",
       " (('Paraguay', 'Colombia'), 4),\n",
       " (('Cuba', 'Uruguay'), 4),\n",
       " (('Mexico', 'Cuba'), 4),\n",
       " (('Costa Rica', 'Colombia'), 4),\n",
       " (('Colombia', 'Ecuador'), 4),\n",
       " (('Nicaragua', 'Chile'), 4),\n",
       " (('Argentina', 'Brazil'), 4),\n",
       " (('El Salvador', 'Colombia'), 3),\n",
       " (('Cuba', 'Peru'), 3),\n",
       " (('Brazil', 'Peru'), 3),\n",
       " (('Panama', 'Costa Rica'), 3),\n",
       " (('Panama', 'Venezuela'), 3),\n",
       " (('Panama', 'Argentina'), 3),\n",
       " (('Colombia', 'Chile'), 3),\n",
       " (('Colombia', 'Uruguay'), 3),\n",
       " (('Mexico', 'Peru'), 3),\n",
       " (('Argentina', 'Uruguay'), 3),\n",
       " (('Uruguay', 'Ecuador'), 3),\n",
       " (('Guatemala', 'Colombia'), 3),\n",
       " (('Peru', 'Uruguay'), 2),\n",
       " (('Honduras', 'El Salvador'), 2),\n",
       " (('Argentina', 'Ecuador'), 2),\n",
       " (('El Salvador', 'Mexico'), 2),\n",
       " (('Mexico', 'Costa Rica'), 2),\n",
       " (('Chile', 'Nicaragua'), 2),\n",
       " (('Guatemala', 'Venezuela'), 2),\n",
       " (('Mexico', 'Uruguay'), 2),\n",
       " (('Nicaragua', 'Guatemala'), 2),\n",
       " (('Chile', 'Costa Rica'), 2),\n",
       " (('Costa Rica', 'Argentina'), 2),\n",
       " (('Paraguay', 'Chile'), 2),\n",
       " (('Peru', 'Puerto Rico'), 2),\n",
       " (('Mexico', 'Puerto Rico'), 2),\n",
       " (('Cuba', 'Guatemala'), 2),\n",
       " (('Peru', 'Ecuador'), 2),\n",
       " (('Guatemala', 'Nicaragua'), 2),\n",
       " (('Chile', 'El Salvador'), 2),\n",
       " (('Argentina', 'El Salvador'), 2),\n",
       " (('Mexico', 'Ecuador'), 2),\n",
       " (('Colombia', 'El Salvador'), 2),\n",
       " (('Bolivia', 'Chile'), 2),\n",
       " (('Chile', 'Puerto Rico'), 2),\n",
       " (('Brazil', 'Nicaragua'), 1),\n",
       " (('Venezuela', 'Ecuador'), 1),\n",
       " (('Paraguay', 'Ecuador'), 1),\n",
       " (('Venezuela', 'Uruguay'), 1),\n",
       " (('Guatemala', 'Cuba'), 1),\n",
       " (('Costa Rica', 'Cuba'), 1),\n",
       " (('El Salvador', 'Cuba'), 1),\n",
       " (('Nicaragua', 'Peru'), 1),\n",
       " (('Paraguay', 'Venezuela'), 1),\n",
       " (('El Salvador', 'Costa Rica'), 1),\n",
       " (('Guatemala', 'Argentina'), 1),\n",
       " (('Cuba', 'Brazil'), 1),\n",
       " (('El Salvador', 'Peru'), 1),\n",
       " (('Cuba', 'El Salvador'), 1),\n",
       " (('Chile', 'Brazil'), 1),\n",
       " (('Honduras', 'Peru'), 1),\n",
       " (('Dominican Republic', 'Puerto Rico'), 1),\n",
       " (('Venezuela', 'Costa Rica'), 1),\n",
       " (('Argentina', 'Bolivia'), 1),\n",
       " (('Costa Rica', 'Chile'), 1),\n",
       " (('Brazil', 'Uruguay'), 1),\n",
       " (('Guatemala', 'Chile'), 1),\n",
       " (('Ecuador', 'Chile'), 1),\n",
       " (('Argentina', 'Costa Rica'), 1),\n",
       " (('Nicaragua', 'Ecuador'), 1),\n",
       " (('Argentina', 'Peru'), 1),\n",
       " (('Honduras', 'Venezuela'), 1),\n",
       " (('Dominican Republic', 'Cuba'), 1),\n",
       " (('Costa Rica', 'Venezuela'), 1),\n",
       " (('Bolivia', 'Cuba'), 1),\n",
       " (('Honduras', 'Cuba'), 1),\n",
       " (('Chile', 'Bolivia'), 1),\n",
       " (('Cuba', 'Nicaragua'), 1),\n",
       " (('Brazil', 'Guatemala'), 1),\n",
       " (('Uruguay', 'Costa Rica'), 1),\n",
       " (('Dominican Republic', 'Nicaragua'), 1),\n",
       " (('Panama', 'Ecuador'), 1),\n",
       " (('Argentina', 'Paraguay'), 1)]"
      ]
     },
     "execution_count": 28,
     "metadata": {},
     "output_type": "execute_result"
    }
   ],
   "source": [
    "top_paises_ri"
   ]
  },
  {
   "cell_type": "markdown",
   "metadata": {},
   "source": [
    "### Rutas mundiales"
   ]
  },
  {
   "cell_type": "code",
   "execution_count": 29,
   "metadata": {
    "collapsed": true
   },
   "outputs": [],
   "source": [
    "rutas_mundiales_df = autores_iberoamericanos_df[\n",
    "    ~autores_iberoamericanos_df.PAIS_EJEMPLAR.isin(paises_iberoamericanos)\n",
    "]"
   ]
  },
  {
   "cell_type": "code",
   "execution_count": 30,
   "metadata": {
    "collapsed": false
   },
   "outputs": [
    {
     "data": {
      "text/plain": [
       "3200"
      ]
     },
     "execution_count": 30,
     "metadata": {},
     "output_type": "execute_result"
    }
   ],
   "source": [
    "len(rutas_mundiales_df)"
   ]
  },
  {
   "cell_type": "markdown",
   "metadata": {},
   "source": [
    "#### Obras escritas por autores iberoamericanos y editadas fuera de Iberoamérica"
   ]
  },
  {
   "cell_type": "code",
   "execution_count": 31,
   "metadata": {
    "collapsed": false
   },
   "outputs": [
    {
     "data": {
      "text/plain": [
       "Antología poética                                               18\n",
       "Obras completas                                                 15\n",
       "Cuentos completos                                               11\n",
       "La ciudad y los perros                                          10\n",
       "Cuentos                                                          9\n",
       "Poesía completa                                                  9\n",
       "Poesía                                                           9\n",
       "Martín Fierro                                                    8\n",
       "La casa verde                                                    7\n",
       "Conversación en la catedral                                      6\n",
       "Cien años de soledad                                             6\n",
       "Obra poética                                                     6\n",
       "Juntacadáveres                                                   6\n",
       "Antología                                                        6\n",
       "Los pasos perdidos                                               6\n",
       "Pantaleón y las visitadoras                                      6\n",
       "Primer ensayo sobre la población                                 6\n",
       "Obra poética completa                                            5\n",
       "Tres tristes tigres                                              5\n",
       "La muerte de Artemio Cruz                                        5\n",
       "María                                                            5\n",
       "Canto general                                                    4\n",
       "El Aleph                                                         4\n",
       "El otoño del patriarca                                           4\n",
       "El siglo de las luces                                            4\n",
       "Las ciudades invisibles                                          4\n",
       "Poesías completas                                                4\n",
       "Si una noche de invierno un viajero                              4\n",
       "El astillero                                                     4\n",
       "El obsceno pájaro de la noche                                    4\n",
       "                                                                ..\n",
       "En el umbral del arte moderno : Velázquez, Zurbarán, Goya, P     1\n",
       "Controversias en física                                          1\n",
       "Qepa Wiñaq... siempre literatura y antropología                  1\n",
       "Cuba : la gesta revolucionaria                                   1\n",
       "Manera de una psique sin cuerpo                                  1\n",
       "Poesía castellana completa                                       1\n",
       "Iglesia y vida religiosa en la Edad Media                        1\n",
       "El cielo llora por mí                                            1\n",
       "El Incal                                                         1\n",
       "De Crepusculario a Las uvas y el viento : 1923-1954              1\n",
       "Nostalgia de la tierra : antología                               1\n",
       "Geometría emocional : Sebastián escultor                         1\n",
       "No perdamos también el siglo XXI                                 1\n",
       "Todas esas muertes : premio Alfaguara 1971                       1\n",
       "Versos profanos                                                  1\n",
       "Libro de las preguntas                                           1\n",
       "La amortajada                                                    1\n",
       "El libro uruguayo de los muertos : pequeña muestra del vicio     1\n",
       "Elogio de la mentira                                             1\n",
       "El guardaespaldas                                                1\n",
       "Antología lírica                                                 1\n",
       "El dios de Darwin                                                1\n",
       "Desafíos a la Libertad                                           1\n",
       "El mago : la extraordinaria historia de Paulo Coelho  y de c     1\n",
       "Pedro Páramo ; El llano en llamas                                1\n",
       "Ese músico que llevo dentro                                      1\n",
       "Looking for history : dispatches from Latin America              1\n",
       "Aunque es de noche                                               1\n",
       "Corazón mestizo : el delirio de Cuba                             1\n",
       "La trama celeste                                                 1\n",
       "Name: TITULO, dtype: int64"
      ]
     },
     "execution_count": 31,
     "metadata": {},
     "output_type": "execute_result"
    }
   ],
   "source": [
    "rutas_mundiales_df.TITULO.value_counts()"
   ]
  },
  {
   "cell_type": "markdown",
   "metadata": {},
   "source": [
    "#### Número de obras"
   ]
  },
  {
   "cell_type": "code",
   "execution_count": 32,
   "metadata": {
    "collapsed": false
   },
   "outputs": [
    {
     "data": {
      "text/plain": [
       "2784"
      ]
     },
     "execution_count": 32,
     "metadata": {},
     "output_type": "execute_result"
    }
   ],
   "source": [
    "rutas_mundiales_df.TITULO.nunique()"
   ]
  },
  {
   "cell_type": "markdown",
   "metadata": {},
   "source": [
    "#### Autores"
   ]
  },
  {
   "cell_type": "code",
   "execution_count": 33,
   "metadata": {
    "collapsed": false
   },
   "outputs": [
    {
     "data": {
      "text/plain": [
       "Gabriel García Márquez       115\n",
       "Mario Vargas Llosa            97\n",
       "Jorge Luis Borges             83\n",
       "Italo Calvino                 59\n",
       "Pablo Neruda                  55\n",
       "Octavio Paz                   54\n",
       "Mario Benedetti               46\n",
       "Alejandro Jodorowsky          44\n",
       "Rubén Darío                   37\n",
       "Alejo Carpentier              36\n",
       "Carlos Fuentes                31\n",
       "Guillermo Cabrera Infante     31\n",
       "Adolfo Bioy Casares           30\n",
       "Juan Carlos Onetti            30\n",
       "Mario Bunge                   29\n",
       "Cristina Peri Rossi           29\n",
       "Isabel Allende                28\n",
       "José Donoso                   27\n",
       "Leonardo Boff                 27\n",
       "José Martí                    27\n",
       "Roberto Bolaño                24\n",
       "Horacio Quiroga               23\n",
       "Alfredo Bryce Echenique       22\n",
       "Ramón Menéndez                20\n",
       "Alberto Manguel               19\n",
       "César Vallejo                 19\n",
       "Jorge Amado                   19\n",
       "Eduardo Galeano               19\n",
       "Jorge Edwards                 19\n",
       "Reinaldo Arenas               18\n",
       "                            ... \n",
       "Emilio Aragón                  1\n",
       "Octavio Escobar Giraldo        1\n",
       "Enrique Lihn                   1\n",
       "Mario Hernández                1\n",
       "Violeta Parra                  1\n",
       "Francisco Ortega               1\n",
       "Andrea Jeftanovic              1\n",
       "Alicia Dujovne Ortiz           1\n",
       "Juan Martini                   1\n",
       "Vicente Grez                   1\n",
       "Oscar Castro                   1\n",
       "David Wapner                   1\n",
       "Carlos Marighella              1\n",
       "Mariano Azuela                 1\n",
       "José Vasconcelos               1\n",
       "Felipe Pérez                   1\n",
       "Ricardo Baeza                  1\n",
       "David Rosenmann-Taub           1\n",
       "Roberto Valero Real            1\n",
       "Alfonso Cortés                 1\n",
       "Alberto Laiseca                1\n",
       "Will Rodríguez                 1\n",
       "Juan Almeida Bosque            1\n",
       "José Arteaga                   1\n",
       "Juan Bautista Alberdi          1\n",
       "Alberto Baeza Flores           1\n",
       "Juan Calzadilla                1\n",
       "Manuel Maples Arce             1\n",
       "Coral Bracho                   1\n",
       "Leonardo da Jandra             1\n",
       "Name: NOMBRE_LOCALIZADO, dtype: int64"
      ]
     },
     "execution_count": 33,
     "metadata": {},
     "output_type": "execute_result"
    }
   ],
   "source": [
    "rutas_mundiales_df.NOMBRE_LOCALIZADO.value_counts()"
   ]
  },
  {
   "cell_type": "markdown",
   "metadata": {},
   "source": [
    "#### Número de autores"
   ]
  },
  {
   "cell_type": "code",
   "execution_count": 34,
   "metadata": {
    "collapsed": false
   },
   "outputs": [
    {
     "data": {
      "text/plain": [
       "726"
      ]
     },
     "execution_count": 34,
     "metadata": {},
     "output_type": "execute_result"
    }
   ],
   "source": [
    "rutas_mundiales_df.NOMBRE_LOCALIZADO.nunique()"
   ]
  },
  {
   "cell_type": "markdown",
   "metadata": {},
   "source": [
    "#### Países"
   ]
  },
  {
   "cell_type": "code",
   "execution_count": 35,
   "metadata": {
    "collapsed": false
   },
   "outputs": [
    {
     "name": "stdout",
     "output_type": "stream",
     "text": [
      "CPU times: user 412 ms, sys: 3.71 ms, total: 416 ms\n",
      "Wall time: 415 ms\n"
     ]
    }
   ],
   "source": [
    "%%time\n",
    "\n",
    "paises_rw = []\n",
    "for i, x in rutas_mundiales_df.iterrows():\n",
    "    pais_autor = x['PAIS_AUTOR']\n",
    "    pais_ejemplar = x['PAIS_EJEMPLAR']\n",
    "    paises_rw.append((pais_autor, pais_ejemplar))"
   ]
  },
  {
   "cell_type": "code",
   "execution_count": 36,
   "metadata": {
    "collapsed": true
   },
   "outputs": [],
   "source": [
    "paises_rw_c = Counter(paises_rw)"
   ]
  },
  {
   "cell_type": "code",
   "execution_count": 37,
   "metadata": {
    "collapsed": true
   },
   "outputs": [],
   "source": [
    "top_paises_rw = paises_rw_c.most_common()"
   ]
  },
  {
   "cell_type": "code",
   "execution_count": 38,
   "metadata": {
    "collapsed": false
   },
   "outputs": [
    {
     "data": {
      "text/plain": [
       "[(('Argentina', 'Spain'), 701),\n",
       " (('Cuba', 'Spain'), 387),\n",
       " (('Mexico', 'Spain'), 312),\n",
       " (('Peru', 'Spain'), 309),\n",
       " (('Chile', 'Spain'), 289),\n",
       " (('Colombia', 'Spain'), 224),\n",
       " (('Uruguay', 'Spain'), 214),\n",
       " (('Brazil', 'Spain'), 166),\n",
       " (('Nicaragua', 'Spain'), 78),\n",
       " (('Venezuela', 'Spain'), 60),\n",
       " (('Colombia', 'Francia'), 35),\n",
       " (('Panama', 'Spain'), 29),\n",
       " (('Colombia', 'United States'), 25),\n",
       " (('Honduras', 'Spain'), 21),\n",
       " (('Cuba', 'United States'), 19),\n",
       " (('Argentina', 'United States'), 19),\n",
       " (('Dominican Republic', 'Spain'), 17),\n",
       " (('Colombia', 'Germany'), 16),\n",
       " (('Colombia', 'Portugal'), 15),\n",
       " (('Guatemala', 'Spain'), 14),\n",
       " (('Ecuador', 'Spain'), 14),\n",
       " (('Bolivia', 'Spain'), 12),\n",
       " (('Peru', 'United States'), 12),\n",
       " (('Argentina', 'Francia'), 8),\n",
       " (('Brazil', 'Burma'), 8),\n",
       " (('Paraguay', 'Spain'), 8),\n",
       " (('Chile', 'China'), 8),\n",
       " (('Brazil', 'United States'), 7),\n",
       " (('Chile', 'United States'), 7),\n",
       " (('Colombia', 'New York (State)'), 7),\n",
       " (('Mexico', 'United States'), 7),\n",
       " (('El Salvador', 'Spain'), 6),\n",
       " (('Venezuela', 'Francia'), 5),\n",
       " (('Colombia', 'Italy'), 5),\n",
       " (('Uruguay', 'Russia'), 5),\n",
       " (('Colombia', 'England'), 5),\n",
       " (('Argentina', 'England'), 4),\n",
       " (('Puerto Rico', 'United States'), 4),\n",
       " (('Uruguay', 'Japan'), 4),\n",
       " (('Costa Rica', 'Spain'), 3),\n",
       " (('Nicaragua', 'United States'), 3),\n",
       " (('Uruguay', 'Francia'), 3),\n",
       " (('Argentina', 'Netherlands'), 3),\n",
       " (('Colombia', 'Poland'), 2),\n",
       " (('Brazil', 'Francia'), 2),\n",
       " (('Bolivia', 'United States'), 2),\n",
       " (('Ecuador', 'United States'), 2),\n",
       " (('Colombia', 'Greece'), 2),\n",
       " (('Peru', 'China'), 2),\n",
       " (('Colombia', 'Sikkim'), 2),\n",
       " (('Mexico', 'New York (State)'), 2),\n",
       " (('Mexico', 'Francia'), 2),\n",
       " (('Colombia', 'Austria'), 2),\n",
       " (('Colombia', 'Curaçao'), 2),\n",
       " (('Mexico', 'Italy'), 2),\n",
       " (('Panama', 'England'), 2),\n",
       " (('Ecuador', 'Francia'), 2),\n",
       " (('Peru', 'New York (State)'), 2),\n",
       " (('Uruguay', 'United States'), 2),\n",
       " (('Colombia', 'Norway'), 2),\n",
       " (('Cuba', 'Florida'), 2),\n",
       " (('Brazil', 'Portugal'), 2),\n",
       " (('Peru', 'Francia'), 2),\n",
       " (('Peru', 'England'), 2),\n",
       " (('Ecuador', 'Japan'), 2),\n",
       " (('Paraguay', 'United Kingdom'), 1),\n",
       " (('Mexico', 'Switzerland'), 1),\n",
       " (('Argentina', 'Russia'), 1),\n",
       " (('Cuba', 'Cambodia'), 1),\n",
       " (('Colombia', 'Japan'), 1),\n",
       " (('Colombia', 'China'), 1),\n",
       " (('Brazil', 'District of Columbia'), 1),\n",
       " (('Brazil', 'North Carolina'), 1),\n",
       " (('Colombia', 'Canada'), 1),\n",
       " (('Cuba', 'Washington (State)'), 1),\n",
       " (('Peru', 'Netherlands'), 1),\n",
       " (('Chile', 'Francia'), 1),\n",
       " (('Uruguay', 'California'), 1),\n",
       " (('Uruguay', 'Italy'), 1),\n",
       " (('Chile', 'Sikkim'), 1),\n",
       " (('Venezuela', 'Vietnam'), 1),\n",
       " (('Argentina', 'Pennsylvania'), 1),\n",
       " (('Bolivia', 'Italy'), 1),\n",
       " (('Cuba', 'Canada'), 1),\n",
       " (('Colombia', 'Florida'), 1),\n",
       " (('Colombia', 'Denmark'), 1),\n",
       " (('Brazil', 'Massachusetts'), 1),\n",
       " (('Brazil', 'New Jersey'), 1),\n",
       " (('Colombia', 'Hungary'), 1),\n",
       " (('Uruguay', 'Hong Kong'), 1),\n",
       " (('Brazil', 'Switzerland'), 1),\n",
       " (('Colombia', 'Russia'), 1),\n",
       " (('El Salvador', 'New Hampshire'), 1),\n",
       " (('Colombia', 'Belgium'), 1),\n",
       " (('Dominican Republic', 'New York (State)'), 1),\n",
       " (('Dominican Republic', 'South Carolina'), 1),\n",
       " (('Uruguay', 'Uganda'), 1),\n",
       " (('Colombia', 'French Guiana'), 1),\n",
       " (('Colombia', 'Illinois'), 1),\n",
       " (('Nicaragua', 'Francia'), 1),\n",
       " (('Chile', 'United Kingdom'), 1),\n",
       " (('Ecuador', 'England'), 1),\n",
       " (('Chile', 'England'), 1),\n",
       " (('Argentina', 'Florida'), 1),\n",
       " (('Colombia', 'New Caledonia'), 1),\n",
       " (('Cuba', 'Australia'), 1),\n",
       " (('Dominican Republic', 'United States'), 1),\n",
       " (('Colombia', 'Monaco'), 1),\n",
       " (('Colombia', 'Turkey'), 1),\n",
       " (('Colombia', 'Sweden'), 1),\n",
       " (('Nicaragua', 'England'), 1),\n",
       " (('Cuba', 'England'), 1),\n",
       " (('Brazil', 'Singapore'), 1),\n",
       " (('Bolivia', 'Switzerland'), 1),\n",
       " (('Cuba', 'Francia'), 1),\n",
       " (('Cuba', 'United Kingdom'), 1),\n",
       " (('Venezuela', 'Belgium'), 1),\n",
       " (('Argentina', 'Italy'), 1),\n",
       " (('Cuba', 'Jamaica'), 1),\n",
       " (('Mexico', 'England'), 1),\n",
       " (('El Salvador', 'United States'), 1),\n",
       " (('Uruguay', 'Thailand'), 1),\n",
       " (('Colombia', 'Netherlands'), 1)]"
      ]
     },
     "execution_count": 38,
     "metadata": {},
     "output_type": "execute_result"
    }
   ],
   "source": [
    "top_paises_rw"
   ]
  },
  {
   "cell_type": "markdown",
   "metadata": {},
   "source": [
    "## Grafos"
   ]
  },
  {
   "cell_type": "code",
   "execution_count": 39,
   "metadata": {
    "collapsed": false
   },
   "outputs": [
    {
     "name": "stdout",
     "output_type": "stream",
     "text": [
      "CPU times: user 12.4 s, sys: 3.53 ms, total: 12.4 s\n",
      "Wall time: 12.4 s\n"
     ]
    }
   ],
   "source": [
    "%%time\n",
    "\n",
    "coords = {}\n",
    "for i, x in autores_df.iterrows():\n",
    "    coords[x.PAIS_AUTOR] = x.GEOLOC_CAPITAL_AUTOR\n",
    "    coords[x.PAIS_EJEMPLAR] = x.GEOLOC_CAPITAL_EJEMPLAR"
   ]
  },
  {
   "cell_type": "code",
   "execution_count": 40,
   "metadata": {
    "collapsed": true
   },
   "outputs": [],
   "source": [
    "cycles_graph = nx.DiGraph()\n",
    "r_iber_graph = nx.DiGraph()\n",
    "r_wrld_graph = nx.DiGraph()"
   ]
  },
  {
   "cell_type": "code",
   "execution_count": 41,
   "metadata": {
    "collapsed": false
   },
   "outputs": [],
   "source": [
    "for k in paises_cy_c:\n",
    "    if k[0] not in cycles_graph:\n",
    "        lat, lng = coords[k[0]]\n",
    "        cycles_graph.add_node(k[0], latitude=lat, longitude=lng, weight=paises_cy_c[k])\n",
    "    \n",
    "    cycles_graph.add_edge(k[0], k[0], weight=paises_cy_c[k])"
   ]
  },
  {
   "cell_type": "code",
   "execution_count": 42,
   "metadata": {
    "collapsed": true
   },
   "outputs": [],
   "source": [
    "for k in paises_ri_c:\n",
    "    if k[0] not in r_iber_graph:\n",
    "        lat, lng = coords[k[0]]\n",
    "        r_iber_graph.add_node(k[0], latitude=lat, longitude=lng, weight=0)\n",
    "    r_iber_graph.node[k[0]]['weight'] += paises_ri_c[k]\n",
    "    \n",
    "    if k[1] not in r_iber_graph:\n",
    "        lat, lng = coords[k[1]]\n",
    "        r_iber_graph.add_node(k[1], latitude=lat, longitude=lng, weight=0)\n",
    "    r_iber_graph.node[k[1]]['weight'] += paises_ri_c[k]\n",
    "    \n",
    "    r_iber_graph.add_edge(k[0], k[1], weight=paises_ri_c[k])"
   ]
  },
  {
   "cell_type": "code",
   "execution_count": 43,
   "metadata": {
    "collapsed": true
   },
   "outputs": [],
   "source": [
    "for k in paises_rw_c:\n",
    "    if k[0] not in r_wrld_graph:\n",
    "        lat, lng = coords[k[0]]\n",
    "        r_wrld_graph.add_node(k[0], latitude=lat, longitude=lng, weight=0)\n",
    "    r_wrld_graph.node[k[0]]['weight'] += paises_rw_c[k]\n",
    "    \n",
    "    if k[1] not in r_wrld_graph:\n",
    "        lat, lng = coords[k[1]]\n",
    "        r_wrld_graph.add_node(k[1], latitude=lat, longitude=lng, weight=0)\n",
    "    r_wrld_graph.node[k[1]]['weight'] += paises_rw_c[k]\n",
    "    \n",
    "    r_wrld_graph.add_edge(k[0], k[1], weight=paises_rw_c[k])"
   ]
  },
  {
   "cell_type": "code",
   "execution_count": 44,
   "metadata": {
    "collapsed": false
   },
   "outputs": [
    {
     "data": {
      "text/plain": [
       "19"
      ]
     },
     "execution_count": 44,
     "metadata": {},
     "output_type": "execute_result"
    }
   ],
   "source": [
    "cycles_graph.number_of_nodes()"
   ]
  },
  {
   "cell_type": "code",
   "execution_count": 45,
   "metadata": {
    "collapsed": false
   },
   "outputs": [
    {
     "data": {
      "text/plain": [
       "19"
      ]
     },
     "execution_count": 45,
     "metadata": {},
     "output_type": "execute_result"
    }
   ],
   "source": [
    "cycles_graph.number_of_edges()"
   ]
  },
  {
   "cell_type": "code",
   "execution_count": 46,
   "metadata": {
    "collapsed": false
   },
   "outputs": [
    {
     "data": {
      "text/plain": [
       "20"
      ]
     },
     "execution_count": 46,
     "metadata": {},
     "output_type": "execute_result"
    }
   ],
   "source": [
    "r_iber_graph.number_of_nodes()"
   ]
  },
  {
   "cell_type": "code",
   "execution_count": 47,
   "metadata": {
    "collapsed": false
   },
   "outputs": [
    {
     "data": {
      "text/plain": [
       "160"
      ]
     },
     "execution_count": 47,
     "metadata": {},
     "output_type": "execute_result"
    }
   ],
   "source": [
    "r_iber_graph.number_of_edges()"
   ]
  },
  {
   "cell_type": "code",
   "execution_count": 48,
   "metadata": {
    "collapsed": false
   },
   "outputs": [
    {
     "data": {
      "text/plain": [
       "69"
      ]
     },
     "execution_count": 48,
     "metadata": {},
     "output_type": "execute_result"
    }
   ],
   "source": [
    "r_wrld_graph.number_of_nodes()"
   ]
  },
  {
   "cell_type": "code",
   "execution_count": 49,
   "metadata": {
    "collapsed": false
   },
   "outputs": [
    {
     "data": {
      "text/plain": [
       "123"
      ]
     },
     "execution_count": 49,
     "metadata": {},
     "output_type": "execute_result"
    }
   ],
   "source": [
    "r_wrld_graph.number_of_edges()"
   ]
  },
  {
   "cell_type": "markdown",
   "metadata": {},
   "source": [
    "## Filtering labels"
   ]
  },
  {
   "cell_type": "code",
   "execution_count": 50,
   "metadata": {
    "collapsed": true
   },
   "outputs": [],
   "source": [
    "def select_top_nodes(g, p):\n",
    "    ns = [(n, d['weight']) for n, d in g.nodes_iter(data=True)]\n",
    "    ns = sorted(ns, key=lambda x: x[1], reverse=True)\n",
    "    amount = round(len(ns) * p)\n",
    "    taken = ns[:amount]\n",
    "    labels = [n for n, w in taken]\n",
    "    return labels"
   ]
  },
  {
   "cell_type": "code",
   "execution_count": 51,
   "metadata": {
    "collapsed": true
   },
   "outputs": [],
   "source": [
    "for i in range(10, 100, 10):\n",
    "    p = i / 100\n",
    "    top_cy_labels = select_top_nodes(cycles_graph, p)\n",
    "    for k in cycles_graph:\n",
    "        if k in top_cy_labels:\n",
    "            cycles_graph.node[k]['show_label_' + str(i)] = k\n",
    "        else:\n",
    "            cycles_graph.node[k]['show_label_' + str(i)] = ''"
   ]
  },
  {
   "cell_type": "code",
   "execution_count": 52,
   "metadata": {
    "collapsed": true
   },
   "outputs": [],
   "source": [
    "for i in range(10, 100, 10):\n",
    "    p = i / 100\n",
    "    top_ri_labels = select_top_nodes(r_iber_graph, p)\n",
    "    for k in r_iber_graph:\n",
    "        if k in top_ri_labels:\n",
    "            r_iber_graph.node[k]['show_label_' + str(i)] = k\n",
    "        else:\n",
    "            r_iber_graph.node[k]['show_label_' + str(i)] = ''"
   ]
  },
  {
   "cell_type": "code",
   "execution_count": 53,
   "metadata": {
    "collapsed": true
   },
   "outputs": [],
   "source": [
    "for i in range(10, 100, 10):\n",
    "    p = i / 100\n",
    "    top_rw_labels = select_top_nodes(r_wrld_graph, p)\n",
    "    for k in r_wrld_graph:\n",
    "        if k in top_rw_labels:\n",
    "            r_wrld_graph.node[k]['show_label_' + str(i)] = k\n",
    "        else:\n",
    "            r_wrld_graph.node[k]['show_label_' + str(i)] = ''"
   ]
  },
  {
   "cell_type": "markdown",
   "metadata": {},
   "source": [
    "# Saving results"
   ]
  },
  {
   "cell_type": "code",
   "execution_count": 54,
   "metadata": {
    "collapsed": true
   },
   "outputs": [],
   "source": [
    "nx.write_gexf(cycles_graph, 'gephi/grafo_ciclos_iberoamericanos.gexf')\n",
    "nx.write_gexf(r_iber_graph, 'gephi/grafo_rutas_iberoamericanas.gexf')\n",
    "nx.write_gexf(r_wrld_graph, 'gephi/grafo_rutas_mundiales.gexf')"
   ]
  },
  {
   "cell_type": "code",
   "execution_count": 55,
   "metadata": {
    "collapsed": true
   },
   "outputs": [],
   "source": [
    "autores_iberoamericanos_df.to_csv('autores_iberoamericanos.csv', index=False)"
   ]
  },
  {
   "cell_type": "code",
   "execution_count": null,
   "metadata": {
    "collapsed": true
   },
   "outputs": [],
   "source": []
  }
 ],
 "metadata": {
  "kernelspec": {
   "display_name": "Python 3",
   "language": "python",
   "name": "python3"
  },
  "language_info": {
   "codemirror_mode": {
    "name": "ipython",
    "version": 3
   },
   "file_extension": ".py",
   "mimetype": "text/x-python",
   "name": "python",
   "nbconvert_exporter": "python",
   "pygments_lexer": "ipython3",
   "version": "3.4.3"
  }
 },
 "nbformat": 4,
 "nbformat_minor": 1
}
