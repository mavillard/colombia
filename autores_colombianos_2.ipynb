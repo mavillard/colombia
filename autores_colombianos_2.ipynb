{
 "cells": [
  {
   "cell_type": "markdown",
   "metadata": {},
   "source": [
    "# Alternative names (combinations) for top Colombian authors"
   ]
  },
  {
   "cell_type": "code",
   "execution_count": 1,
   "metadata": {
    "collapsed": true
   },
   "outputs": [],
   "source": [
    "import ast\n",
    "import csv\n",
    "import os\n",
    "import re\n",
    "from collections import defaultdict\n",
    "from collections import Counter\n",
    "from datetime import datetime\n",
    "from datetime import timedelta\n",
    "from string import punctuation\n",
    "\n",
    "import matplotlib\n",
    "import numpy as np\n",
    "import networkx as nx\n",
    "import pandas as pd\n",
    "import requests\n",
    "import seaborn as sns\n",
    "from geolocation.main import GoogleMaps\n",
    "from matplotlib import pyplot as plt\n",
    "from SPARQLWrapper import SPARQLWrapper, JSON\n",
    "\n",
    "from googlemaps_key import KEY"
   ]
  },
  {
   "cell_type": "markdown",
   "metadata": {},
   "source": [
    "## Autores"
   ]
  },
  {
   "cell_type": "code",
   "execution_count": 2,
   "metadata": {
    "collapsed": false
   },
   "outputs": [
    {
     "name": "stdout",
     "output_type": "stream",
     "text": [
      "CPU times: user 265 ms, sys: 8.03 ms, total: 273 ms\n",
      "Wall time: 272 ms\n"
     ]
    }
   ],
   "source": [
    "%%time\n",
    "\n",
    "autores_df = pd.read_csv(\n",
    "    'autores_colombianos_1.csv',\n",
    "    header=0,\n",
    "    converters={\n",
    "        'GEOLOC_CAPITAL_AUTOR': ast.literal_eval,\n",
    "        'GEOLOC_CAPITAL_EJEMPLAR': ast.literal_eval\n",
    "    }\n",
    ")\n",
    "autores_df = autores_df.fillna('')"
   ]
  },
  {
   "cell_type": "code",
   "execution_count": 3,
   "metadata": {
    "collapsed": false
   },
   "outputs": [
    {
     "data": {
      "text/plain": [
       "(5551, 12)"
      ]
     },
     "execution_count": 3,
     "metadata": {},
     "output_type": "execute_result"
    }
   ],
   "source": [
    "autores_df.shape"
   ]
  },
  {
   "cell_type": "code",
   "execution_count": 4,
   "metadata": {
    "collapsed": false
   },
   "outputs": [
    {
     "data": {
      "text/html": [
       "<div>\n",
       "<table border=\"1\" class=\"dataframe\">\n",
       "  <thead>\n",
       "    <tr style=\"text-align: right;\">\n",
       "      <th></th>\n",
       "      <th>TITULO</th>\n",
       "      <th>PAIS_EJEMPLAR</th>\n",
       "      <th>AUTOR</th>\n",
       "      <th>PAIS_AUTOR</th>\n",
       "      <th>FECHA_PUB</th>\n",
       "      <th>CAPITAL_AUTOR</th>\n",
       "      <th>CAPITAL_EJEMPLAR</th>\n",
       "      <th>GEOLOC_CAPITAL_AUTOR</th>\n",
       "      <th>GEOLOC_CAPITAL_EJEMPLAR</th>\n",
       "      <th>CIUDAD_AUTOR</th>\n",
       "      <th>DEPARTAMENTO_AUTOR</th>\n",
       "      <th>ENCONTRADO</th>\n",
       "    </tr>\n",
       "  </thead>\n",
       "  <tbody>\n",
       "    <tr>\n",
       "      <th>0</th>\n",
       "      <td>En la laguna más profunda</td>\n",
       "      <td>Colombia</td>\n",
       "      <td>Oscar Collazos</td>\n",
       "      <td>Colombia</td>\n",
       "      <td>2011</td>\n",
       "      <td>Bogotá</td>\n",
       "      <td>Bogotá</td>\n",
       "      <td>(4.710988599999999, -74.072092)</td>\n",
       "      <td>(4.710988599999999, -74.072092)</td>\n",
       "      <td>Bahía Solano</td>\n",
       "      <td>Chocó Department</td>\n",
       "      <td>True</td>\n",
       "    </tr>\n",
       "    <tr>\n",
       "      <th>1</th>\n",
       "      <td>El gato bandido y otros cuentos</td>\n",
       "      <td>Colombia</td>\n",
       "      <td>Rafael Pombo</td>\n",
       "      <td>Colombia</td>\n",
       "      <td>2007</td>\n",
       "      <td>Bogotá</td>\n",
       "      <td>Bogotá</td>\n",
       "      <td>(4.710988599999999, -74.072092)</td>\n",
       "      <td>(4.710988599999999, -74.072092)</td>\n",
       "      <td>Bogota</td>\n",
       "      <td>DESCONOCIDO</td>\n",
       "      <td>True</td>\n",
       "    </tr>\n",
       "    <tr>\n",
       "      <th>2</th>\n",
       "      <td>Cuentos pintados</td>\n",
       "      <td>Colombia</td>\n",
       "      <td>Rafael Pombo</td>\n",
       "      <td>Colombia</td>\n",
       "      <td>2011</td>\n",
       "      <td>Bogotá</td>\n",
       "      <td>Bogotá</td>\n",
       "      <td>(4.710988599999999, -74.072092)</td>\n",
       "      <td>(4.710988599999999, -74.072092)</td>\n",
       "      <td>Bogota</td>\n",
       "      <td>DESCONOCIDO</td>\n",
       "      <td>True</td>\n",
       "    </tr>\n",
       "    <tr>\n",
       "      <th>3</th>\n",
       "      <td>Aleida : 10 años</td>\n",
       "      <td>Colombia</td>\n",
       "      <td>Vladdo</td>\n",
       "      <td>Colombia</td>\n",
       "      <td>2007</td>\n",
       "      <td>Bogotá</td>\n",
       "      <td>Bogotá</td>\n",
       "      <td>(4.710988599999999, -74.072092)</td>\n",
       "      <td>(4.710988599999999, -74.072092)</td>\n",
       "      <td>Bogota</td>\n",
       "      <td>DESCONOCIDO</td>\n",
       "      <td>True</td>\n",
       "    </tr>\n",
       "    <tr>\n",
       "      <th>4</th>\n",
       "      <td>Mitos y leyendas indígenas de Colombia</td>\n",
       "      <td>Colombia</td>\n",
       "      <td>Javier Ocampo López</td>\n",
       "      <td>Colombia</td>\n",
       "      <td>2013</td>\n",
       "      <td>Bogotá</td>\n",
       "      <td>Bogotá</td>\n",
       "      <td>(4.710988599999999, -74.072092)</td>\n",
       "      <td>(4.710988599999999, -74.072092)</td>\n",
       "      <td>Aguadas</td>\n",
       "      <td>DESCONOCIDO</td>\n",
       "      <td>True</td>\n",
       "    </tr>\n",
       "  </tbody>\n",
       "</table>\n",
       "</div>"
      ],
      "text/plain": [
       "                                   TITULO PAIS_EJEMPLAR                AUTOR  \\\n",
       "0               En la laguna más profunda      Colombia       Oscar Collazos   \n",
       "1         El gato bandido y otros cuentos      Colombia         Rafael Pombo   \n",
       "2                        Cuentos pintados      Colombia         Rafael Pombo   \n",
       "3                        Aleida : 10 años      Colombia               Vladdo   \n",
       "4  Mitos y leyendas indígenas de Colombia      Colombia  Javier Ocampo López   \n",
       "\n",
       "  PAIS_AUTOR  FECHA_PUB CAPITAL_AUTOR CAPITAL_EJEMPLAR  \\\n",
       "0   Colombia       2011        Bogotá           Bogotá   \n",
       "1   Colombia       2007        Bogotá           Bogotá   \n",
       "2   Colombia       2011        Bogotá           Bogotá   \n",
       "3   Colombia       2007        Bogotá           Bogotá   \n",
       "4   Colombia       2013        Bogotá           Bogotá   \n",
       "\n",
       "              GEOLOC_CAPITAL_AUTOR          GEOLOC_CAPITAL_EJEMPLAR  \\\n",
       "0  (4.710988599999999, -74.072092)  (4.710988599999999, -74.072092)   \n",
       "1  (4.710988599999999, -74.072092)  (4.710988599999999, -74.072092)   \n",
       "2  (4.710988599999999, -74.072092)  (4.710988599999999, -74.072092)   \n",
       "3  (4.710988599999999, -74.072092)  (4.710988599999999, -74.072092)   \n",
       "4  (4.710988599999999, -74.072092)  (4.710988599999999, -74.072092)   \n",
       "\n",
       "   CIUDAD_AUTOR DEPARTAMENTO_AUTOR ENCONTRADO  \n",
       "0  Bahía Solano   Chocó Department       True  \n",
       "1        Bogota        DESCONOCIDO       True  \n",
       "2        Bogota        DESCONOCIDO       True  \n",
       "3        Bogota        DESCONOCIDO       True  \n",
       "4       Aguadas        DESCONOCIDO       True  "
      ]
     },
     "execution_count": 4,
     "metadata": {},
     "output_type": "execute_result"
    }
   ],
   "source": [
    "autores_df.head()"
   ]
  },
  {
   "cell_type": "markdown",
   "metadata": {},
   "source": [
    "## Autores no encontrados"
   ]
  },
  {
   "cell_type": "code",
   "execution_count": 5,
   "metadata": {
    "collapsed": false
   },
   "outputs": [],
   "source": [
    "autores_no_encontrados_df = autores_df[autores_df['ENCONTRADO'] == False]"
   ]
  },
  {
   "cell_type": "code",
   "execution_count": 6,
   "metadata": {
    "collapsed": false
   },
   "outputs": [
    {
     "data": {
      "text/plain": [
       "(304, 12)"
      ]
     },
     "execution_count": 6,
     "metadata": {},
     "output_type": "execute_result"
    }
   ],
   "source": [
    "autores_no_encontrados_df.shape"
   ]
  },
  {
   "cell_type": "code",
   "execution_count": 7,
   "metadata": {
    "collapsed": false
   },
   "outputs": [
    {
     "data": {
      "text/html": [
       "<div>\n",
       "<table border=\"1\" class=\"dataframe\">\n",
       "  <thead>\n",
       "    <tr style=\"text-align: right;\">\n",
       "      <th></th>\n",
       "      <th>TITULO</th>\n",
       "      <th>PAIS_EJEMPLAR</th>\n",
       "      <th>AUTOR</th>\n",
       "      <th>PAIS_AUTOR</th>\n",
       "      <th>FECHA_PUB</th>\n",
       "      <th>CAPITAL_AUTOR</th>\n",
       "      <th>CAPITAL_EJEMPLAR</th>\n",
       "      <th>GEOLOC_CAPITAL_AUTOR</th>\n",
       "      <th>GEOLOC_CAPITAL_EJEMPLAR</th>\n",
       "      <th>CIUDAD_AUTOR</th>\n",
       "      <th>DEPARTAMENTO_AUTOR</th>\n",
       "      <th>ENCONTRADO</th>\n",
       "    </tr>\n",
       "  </thead>\n",
       "  <tbody>\n",
       "    <tr>\n",
       "      <th>41</th>\n",
       "      <td>Orquídeas, tesoro de Colombia = Orchids, a Col...</td>\n",
       "      <td>Colombia</td>\n",
       "      <td>Pedro Ortiz Valdivieso</td>\n",
       "      <td>Colombia</td>\n",
       "      <td>2014</td>\n",
       "      <td>Bogotá</td>\n",
       "      <td>Bogotá</td>\n",
       "      <td>(4.710988599999999, -74.072092)</td>\n",
       "      <td>(4.710988599999999, -74.072092)</td>\n",
       "      <td>DESCONOCIDO</td>\n",
       "      <td>DESCONOCIDO</td>\n",
       "      <td>False</td>\n",
       "    </tr>\n",
       "    <tr>\n",
       "      <th>43</th>\n",
       "      <td>Cuentos completos</td>\n",
       "      <td>Colombia</td>\n",
       "      <td>Andrés Caicedo Estela</td>\n",
       "      <td>Colombia</td>\n",
       "      <td>2014</td>\n",
       "      <td>Bogotá</td>\n",
       "      <td>Bogotá</td>\n",
       "      <td>(4.710988599999999, -74.072092)</td>\n",
       "      <td>(4.710988599999999, -74.072092)</td>\n",
       "      <td>DESCONOCIDO</td>\n",
       "      <td>DESCONOCIDO</td>\n",
       "      <td>False</td>\n",
       "    </tr>\n",
       "    <tr>\n",
       "      <th>67</th>\n",
       "      <td>Érase una vez el amor pero tuve que matarlo</td>\n",
       "      <td>Colombia</td>\n",
       "      <td>Efraím Medina Reyes</td>\n",
       "      <td>Colombia</td>\n",
       "      <td>2014</td>\n",
       "      <td>Bogotá</td>\n",
       "      <td>Bogotá</td>\n",
       "      <td>(4.710988599999999, -74.072092)</td>\n",
       "      <td>(4.710988599999999, -74.072092)</td>\n",
       "      <td>DESCONOCIDO</td>\n",
       "      <td>DESCONOCIDO</td>\n",
       "      <td>False</td>\n",
       "    </tr>\n",
       "    <tr>\n",
       "      <th>83</th>\n",
       "      <td>Mi cuerpo es una celda : (una autobiografía)</td>\n",
       "      <td>Colombia</td>\n",
       "      <td>Andrés Caicedo Estela</td>\n",
       "      <td>Colombia</td>\n",
       "      <td>2014</td>\n",
       "      <td>Bogotá</td>\n",
       "      <td>Bogotá</td>\n",
       "      <td>(4.710988599999999, -74.072092)</td>\n",
       "      <td>(4.710988599999999, -74.072092)</td>\n",
       "      <td>DESCONOCIDO</td>\n",
       "      <td>DESCONOCIDO</td>\n",
       "      <td>False</td>\n",
       "    </tr>\n",
       "    <tr>\n",
       "      <th>85</th>\n",
       "      <td>Manual de derecho penal : parte general</td>\n",
       "      <td>Colombia</td>\n",
       "      <td>Fernando Velásquez Velásquez</td>\n",
       "      <td>Colombia</td>\n",
       "      <td>2014</td>\n",
       "      <td>Bogotá</td>\n",
       "      <td>Bogotá</td>\n",
       "      <td>(4.710988599999999, -74.072092)</td>\n",
       "      <td>(4.710988599999999, -74.072092)</td>\n",
       "      <td>DESCONOCIDO</td>\n",
       "      <td>DESCONOCIDO</td>\n",
       "      <td>False</td>\n",
       "    </tr>\n",
       "  </tbody>\n",
       "</table>\n",
       "</div>"
      ],
      "text/plain": [
       "                                               TITULO PAIS_EJEMPLAR  \\\n",
       "41  Orquídeas, tesoro de Colombia = Orchids, a Col...      Colombia   \n",
       "43                                  Cuentos completos      Colombia   \n",
       "67        Érase una vez el amor pero tuve que matarlo      Colombia   \n",
       "83       Mi cuerpo es una celda : (una autobiografía)      Colombia   \n",
       "85            Manual de derecho penal : parte general      Colombia   \n",
       "\n",
       "                           AUTOR PAIS_AUTOR  FECHA_PUB CAPITAL_AUTOR  \\\n",
       "41        Pedro Ortiz Valdivieso   Colombia       2014        Bogotá   \n",
       "43         Andrés Caicedo Estela   Colombia       2014        Bogotá   \n",
       "67           Efraím Medina Reyes   Colombia       2014        Bogotá   \n",
       "83         Andrés Caicedo Estela   Colombia       2014        Bogotá   \n",
       "85  Fernando Velásquez Velásquez   Colombia       2014        Bogotá   \n",
       "\n",
       "   CAPITAL_EJEMPLAR             GEOLOC_CAPITAL_AUTOR  \\\n",
       "41           Bogotá  (4.710988599999999, -74.072092)   \n",
       "43           Bogotá  (4.710988599999999, -74.072092)   \n",
       "67           Bogotá  (4.710988599999999, -74.072092)   \n",
       "83           Bogotá  (4.710988599999999, -74.072092)   \n",
       "85           Bogotá  (4.710988599999999, -74.072092)   \n",
       "\n",
       "            GEOLOC_CAPITAL_EJEMPLAR CIUDAD_AUTOR DEPARTAMENTO_AUTOR ENCONTRADO  \n",
       "41  (4.710988599999999, -74.072092)  DESCONOCIDO        DESCONOCIDO      False  \n",
       "43  (4.710988599999999, -74.072092)  DESCONOCIDO        DESCONOCIDO      False  \n",
       "67  (4.710988599999999, -74.072092)  DESCONOCIDO        DESCONOCIDO      False  \n",
       "83  (4.710988599999999, -74.072092)  DESCONOCIDO        DESCONOCIDO      False  \n",
       "85  (4.710988599999999, -74.072092)  DESCONOCIDO        DESCONOCIDO      False  "
      ]
     },
     "execution_count": 7,
     "metadata": {},
     "output_type": "execute_result"
    }
   ],
   "source": [
    "autores_no_encontrados_df.head()"
   ]
  },
  {
   "cell_type": "code",
   "execution_count": 8,
   "metadata": {
    "collapsed": false
   },
   "outputs": [],
   "source": [
    "count_autores_no_encontrados_sr = \\\n",
    "    autores_no_encontrados_df.groupby(['AUTOR'])['TITULO'].count().sort_values(ascending=False)"
   ]
  },
  {
   "cell_type": "code",
   "execution_count": 9,
   "metadata": {
    "collapsed": false
   },
   "outputs": [
    {
     "data": {
      "text/plain": [
       "AUTOR\n",
       "Jorge Isaacs                   65\n",
       "Andrés Caicedo Estela          51\n",
       "Eduardo Lemaitre Román         39\n",
       "Diomedes Díaz                  19\n",
       "Carlos Ariel Sánchez Torres    19\n",
       "Name: TITULO, dtype: int64"
      ]
     },
     "execution_count": 9,
     "metadata": {},
     "output_type": "execute_result"
    }
   ],
   "source": [
    "count_autores_no_encontrados_sr.head()"
   ]
  },
  {
   "cell_type": "code",
   "execution_count": 10,
   "metadata": {
    "collapsed": true
   },
   "outputs": [],
   "source": [
    "THRESHOLD = 2"
   ]
  },
  {
   "cell_type": "code",
   "execution_count": 11,
   "metadata": {
    "collapsed": false
   },
   "outputs": [],
   "source": [
    "top_autores_no_encontrados_sr = count_autores_no_encontrados_sr[lambda x: x >= THRESHOLD]"
   ]
  },
  {
   "cell_type": "code",
   "execution_count": 12,
   "metadata": {
    "collapsed": false
   },
   "outputs": [
    {
     "data": {
      "text/plain": [
       "(26,)"
      ]
     },
     "execution_count": 12,
     "metadata": {},
     "output_type": "execute_result"
    }
   ],
   "source": [
    "top_autores_no_encontrados_sr.shape"
   ]
  },
  {
   "cell_type": "code",
   "execution_count": 13,
   "metadata": {
    "collapsed": false
   },
   "outputs": [
    {
     "data": {
      "text/plain": [
       "AUTOR\n",
       "Jorge Isaacs                     65\n",
       "Andrés Caicedo Estela            51\n",
       "Eduardo Lemaitre Román           39\n",
       "Diomedes Díaz                    19\n",
       "Carlos Ariel Sánchez Torres      19\n",
       "Efraím Medina Reyes              14\n",
       "Fernando Velásquez Velásquez     12\n",
       "Carlos Rincón                    10\n",
       "Fernando Ponce de León París      7\n",
       "Pedro Ortiz Valdivieso            7\n",
       "Carolina Sanín                    6\n",
       "Rafael Escalona                   6\n",
       "Alexandra Cardona Restrepo        4\n",
       "Mauricio Cárdenas                 4\n",
       "María Teresa Hincapié             3\n",
       "César Mauricio Velásquez Ossa     3\n",
       "Augusto Castro                    3\n",
       "Mauricio Rodríguez Múnera         3\n",
       "Manuel Marulanda Vélez            3\n",
       "Guillermo Fernández de Soto       3\n",
       "Consuelo Hernández                3\n",
       "Andrés de Santa María             2\n",
       "Alejandro Estrada                 2\n",
       "Alberto Carrasquilla Barrera      2\n",
       "Fernando Rojas                    2\n",
       "Juanita León                      2\n",
       "Name: TITULO, dtype: int64"
      ]
     },
     "execution_count": 13,
     "metadata": {},
     "output_type": "execute_result"
    }
   ],
   "source": [
    "top_autores_no_encontrados_sr"
   ]
  },
  {
   "cell_type": "markdown",
   "metadata": {},
   "source": [
    "## Ciudades y departamentos"
   ]
  },
  {
   "cell_type": "code",
   "execution_count": 14,
   "metadata": {
    "collapsed": true
   },
   "outputs": [],
   "source": [
    "def get_ciudad_departamento_autor_data_wkd(name, lang):\n",
    "    template = \"\"\"\n",
    "        PREFIX wd: <http://www.wikidata.org/entity/>\n",
    "        PREFIX wdt: <http://www.wikidata.org/prop/direct/>\n",
    "        PREFIX rdfs: <http://www.w3.org/2000/01/rdf-schema#>\n",
    "\n",
    "        SELECT ?authorLabel ?pobLabel ?depLabel\n",
    "        WHERE {{\n",
    "            BIND(\"{0}\"@{1} AS ?authorLabel) .\n",
    "            ?author rdfs:label ?authorLabel .\n",
    "            ?author wdt:P31 wd:Q5 .\n",
    "            OPTIONAL {{\n",
    "                ?author wdt:P106 wd:Q36180 .\n",
    "            }}\n",
    "            ?author wdt:P19 ?pob .\n",
    "            {{\n",
    "                ?pob wdt:P31 wd:Q2555896 .\n",
    "            }}\n",
    "            UNION\n",
    "            {{\n",
    "                ?pob wdt:P31 wd:Q5119 .\n",
    "                ?pob wdt:P17 wd:Q739 .\n",
    "            }}\n",
    "            ?pob rdfs:label ?pobLabel .\n",
    "            FILTER(lang(?pobLabel)=\"{1}\")\n",
    "            OPTIONAL {{\n",
    "                ?pob wdt:P131 ?dep .\n",
    "                ?dep wdt:P31 wd:Q215655 .\n",
    "                ?dep rdfs:label ?depLabel .\n",
    "                FILTER(lang(?depLabel)=\"{1}\")\n",
    "            }}\n",
    "        }}\n",
    "    \"\"\"\n",
    "    query = template.format(name, lang)\n",
    "    url = 'https://query.wikidata.org/bigdata/namespace/wdq/sparql'\n",
    "    data = requests.get(url, params={'query': query, 'format': 'json'}).json()\n",
    "    return data"
   ]
  },
  {
   "cell_type": "code",
   "execution_count": 15,
   "metadata": {
    "collapsed": true
   },
   "outputs": [],
   "source": [
    "sparql_dbp = SPARQLWrapper(\"http://dbpedia.org/sparql\")\n",
    "\n",
    "def get_ciudad_departamento_autor_data_dbp(name, lang):\n",
    "    template = \"\"\"\n",
    "        PREFIX dbo: <http://dbpedia.org/ontology/>\n",
    "        PREFIX dbp: <http://dbpedia.org/property/>\n",
    "        PREFIX rdf: <http://www.w3.org/1999/02/22-rdf-syntax-ns#>\n",
    "        PREFIX rdfs: <http://www.w3.org/2000/01/rdf-schema#>\n",
    "        PREFIX yago: <http://dbpedia.org/class/yago/>\n",
    "\n",
    "        SELECT ?authorLabel ?pobLabel ?depLabel\n",
    "        WHERE {{\n",
    "            BIND(\"{0}\"@{1} AS ?authorLabel) .\n",
    "            ?author rdfs:label ?authorLabel .\n",
    "            ?author rdf:type dbo:Person .\n",
    "            OPTIONAL {{\n",
    "                ?author rdf:type dbo:Writer .\n",
    "            }}\n",
    "            ?author dbp:birthPlace ?pob .\n",
    "            ?pob rdf:type yago:WikicatMunicipalitiesOfColombia .\n",
    "            ?pob rdfs:label ?pobLabel .\n",
    "            FILTER(lang(?pobLabel)=\"{1}\")\n",
    "            OPTIONAL {{\n",
    "                ?pob dbo:isPartOf ?dep .\n",
    "                ?dep rdf:type yago:WikicatDepartmentsOfColombia .\n",
    "                ?dep rdfs:label ?depLabel .\n",
    "                FILTER(lang(?depLabel)=\"{1}\")\n",
    "            }}\n",
    "        }}\n",
    "    \"\"\"\n",
    "    query = template.format(name, lang)\n",
    "    sparql_dbp.setQuery(query)\n",
    "    sparql_dbp.setReturnFormat(JSON)\n",
    "    data = sparql_dbp.query().convert()\n",
    "    return data"
   ]
  },
  {
   "cell_type": "code",
   "execution_count": 16,
   "metadata": {
    "collapsed": true
   },
   "outputs": [],
   "source": [
    "error_autores = set()\n",
    "\n",
    "def get_ciudad_departamento_autor_data(db, name, lang):\n",
    "    pob = 'UNKNOWN'\n",
    "    dep = 'UNKNOWN'\n",
    "    try:\n",
    "        if db == 'wdt':\n",
    "            data = get_ciudad_departamento_autor_data_wkd(name, lang)\n",
    "        elif db == 'dbp':\n",
    "            data = get_ciudad_departamento_autor_data_dbp(name, lang)\n",
    "        \n",
    "        if data['results']['bindings']:\n",
    "            d = data['results']['bindings'][0]\n",
    "            if 'pobLabel' in d:\n",
    "                pob = d['pobLabel']['value']\n",
    "            else:\n",
    "                pob = 'UNKNOWN'\n",
    "            if 'depLabel' in d:\n",
    "                dep = d['depLabel']['value']\n",
    "            else:\n",
    "                dep = 'UNKNOWN'\n",
    "    except Exception as e:\n",
    "        print('ERROR EN SPARQL PARA', name)\n",
    "        error_autores.add(name)\n",
    "    return (pob, dep)"
   ]
  },
  {
   "cell_type": "code",
   "execution_count": 17,
   "metadata": {
    "collapsed": true
   },
   "outputs": [],
   "source": [
    "autores_encontrados_list = []\n",
    "\n",
    "def get_ciudad_departamento_autor(name):\n",
    "    result = ('DESCONOCIDO', 'DESCONOCIDO')\n",
    "    for lang in ['es', 'en']:\n",
    "        for db in ['wdt', 'dbp']:\n",
    "            r = get_ciudad_departamento_autor_data(db, name, lang)\n",
    "            if r[0] != 'UNKNOWN':\n",
    "                autores_encontrados_list.append(name)\n",
    "                if r[1] == 'UNKNOWN':\n",
    "                    result = (r[0], 'DESCONOCIDO')\n",
    "                else: #r[1] != 'UNKNOWN'\n",
    "                    result = r\n",
    "                    return result\n",
    "    return result"
   ]
  },
  {
   "cell_type": "code",
   "execution_count": 18,
   "metadata": {
    "collapsed": false
   },
   "outputs": [
    {
     "name": "stdout",
     "output_type": "stream",
     "text": [
      "CPU times: user 110 ms, sys: 0 ns, total: 110 ms\n",
      "Wall time: 109 ms\n"
     ]
    }
   ],
   "source": [
    "%%time\n",
    "\n",
    "autores_ciudades_dict = {}\n",
    "autores_departamentos_dict = {}\n",
    "\n",
    "for i, x in autores_df.drop_duplicates(['AUTOR']).iterrows():\n",
    "    autores_ciudades_dict[x['AUTOR']] = x['CIUDAD_AUTOR']\n",
    "    autores_departamentos_dict[x['AUTOR']] = x['DEPARTAMENTO_AUTOR']"
   ]
  },
  {
   "cell_type": "code",
   "execution_count": 19,
   "metadata": {
    "collapsed": true
   },
   "outputs": [],
   "source": [
    "def combinaciones(ls):\n",
    "    r = []\n",
    "    for x in ls:\n",
    "        aux = list(ls)\n",
    "        aux.remove(x)\n",
    "        r.append(aux)\n",
    "    return r"
   ]
  },
  {
   "cell_type": "code",
   "execution_count": 20,
   "metadata": {
    "collapsed": false
   },
   "outputs": [
    {
     "name": "stdout",
     "output_type": "stream",
     "text": [
      "CPU times: user 3.47 s, sys: 156 ms, total: 3.63 s\n",
      "Wall time: 1min 6s\n"
     ]
    }
   ],
   "source": [
    "%%time\n",
    "\n",
    "nombres_encontrados_dict = {}\n",
    "\n",
    "for autor in top_autores_no_encontrados_sr.index:\n",
    "    nombres = autor.split()\n",
    "    if len(nombres) > 1:\n",
    "        for c in combinaciones(nombres):\n",
    "            aux = ' '.join(c)\n",
    "            (ciudad, departamento) = get_ciudad_departamento_autor(aux)\n",
    "            if ciudad != 'DESCONOCIDO':\n",
    "                autores_ciudades_dict[autor] = ciudad\n",
    "                autores_departamentos_dict[autor] = departamento\n",
    "                nombres_encontrados_dict[autor] = aux\n",
    "                break"
   ]
  },
  {
   "cell_type": "code",
   "execution_count": 21,
   "metadata": {
    "collapsed": false
   },
   "outputs": [
    {
     "name": "stdout",
     "output_type": "stream",
     "text": [
      "CPU times: user 170 ms, sys: 0 ns, total: 170 ms\n",
      "Wall time: 169 ms\n"
     ]
    }
   ],
   "source": [
    "%%time\n",
    "\n",
    "def process_ciudad(x):\n",
    "    return autores_ciudades_dict[x['AUTOR']]\n",
    "\n",
    "autores_df['CIUDAD_AUTOR'] = autores_df.apply(process_ciudad, axis=1)"
   ]
  },
  {
   "cell_type": "code",
   "execution_count": 22,
   "metadata": {
    "collapsed": false
   },
   "outputs": [
    {
     "name": "stdout",
     "output_type": "stream",
     "text": [
      "CPU times: user 155 ms, sys: 1.62 ms, total: 157 ms\n",
      "Wall time: 157 ms\n"
     ]
    }
   ],
   "source": [
    "%%time\n",
    "\n",
    "def process_departamento(x):\n",
    "    return autores_departamentos_dict[x['AUTOR']]\n",
    "\n",
    "autores_df['DEPARTAMENTO_AUTOR'] = autores_df.apply(process_departamento, axis=1)"
   ]
  },
  {
   "cell_type": "code",
   "execution_count": 23,
   "metadata": {
    "collapsed": false
   },
   "outputs": [
    {
     "name": "stdout",
     "output_type": "stream",
     "text": [
      "CPU times: user 254 ms, sys: 0 ns, total: 254 ms\n",
      "Wall time: 252 ms\n"
     ]
    }
   ],
   "source": [
    "%%time\n",
    "\n",
    "def process_nombre_encontrado(x):\n",
    "    if x['ENCONTRADO']:\n",
    "        r = x['AUTOR']\n",
    "    elif x['AUTOR'] in nombres_encontrados_dict:\n",
    "        r = nombres_encontrados_dict[x['AUTOR']]\n",
    "    else:\n",
    "        r = ''\n",
    "    return r\n",
    "\n",
    "autores_df['NOMBRE_ENCONTRADO'] = autores_df.apply(process_nombre_encontrado, axis=1)"
   ]
  },
  {
   "cell_type": "code",
   "execution_count": 24,
   "metadata": {
    "collapsed": false
   },
   "outputs": [
    {
     "name": "stdout",
     "output_type": "stream",
     "text": [
      "CPU times: user 116 ms, sys: 3.84 ms, total: 120 ms\n",
      "Wall time: 119 ms\n"
     ]
    }
   ],
   "source": [
    "%%time\n",
    "\n",
    "def process_encontrado(x):\n",
    "    return x['ENCONTRADO'] or x['AUTOR'] in nombres_encontrados_dict\n",
    "\n",
    "autores_df['ENCONTRADO'] = autores_df.apply(process_encontrado, axis=1)"
   ]
  },
  {
   "cell_type": "markdown",
   "metadata": {},
   "source": [
    "# Saving results"
   ]
  },
  {
   "cell_type": "code",
   "execution_count": 25,
   "metadata": {
    "collapsed": false
   },
   "outputs": [],
   "source": [
    "autores_df.to_csv('autores_colombianos_2.csv', index=False)"
   ]
  },
  {
   "cell_type": "code",
   "execution_count": null,
   "metadata": {
    "collapsed": true
   },
   "outputs": [],
   "source": []
  }
 ],
 "metadata": {
  "kernelspec": {
   "display_name": "Python 3",
   "language": "python",
   "name": "python3"
  },
  "language_info": {
   "codemirror_mode": {
    "name": "ipython",
    "version": 3
   },
   "file_extension": ".py",
   "mimetype": "text/x-python",
   "name": "python",
   "nbconvert_exporter": "python",
   "pygments_lexer": "ipython3",
   "version": "3.4.3"
  }
 },
 "nbformat": 4,
 "nbformat_minor": 1
}
