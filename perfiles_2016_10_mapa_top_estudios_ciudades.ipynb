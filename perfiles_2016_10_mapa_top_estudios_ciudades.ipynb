{
 "cells": [
  {
   "cell_type": "code",
   "execution_count": 1,
   "metadata": {
    "collapsed": true
   },
   "outputs": [],
   "source": [
    "import csv\n",
    "import itertools\n",
    "import os\n",
    "import re\n",
    "from collections import Counter\n",
    "from collections import defaultdict\n",
    "from datetime import datetime\n",
    "from datetime import timedelta\n",
    "from string import punctuation\n",
    "\n",
    "import matplotlib\n",
    "import networkx as nx\n",
    "import numpy as np\n",
    "import pandas as pd\n",
    "import seaborn as sns\n",
    "from matplotlib import pyplot as plt\n",
    "from pandas.tslib import Timestamp"
   ]
  },
  {
   "cell_type": "code",
   "execution_count": 2,
   "metadata": {
    "collapsed": true
   },
   "outputs": [],
   "source": [
    "%matplotlib inline\n",
    "matplotlib.rcParams['figure.max_open_warning'] = 100\n",
    "matplotlib.rcParams['lines.linewidth'] = 1.0"
   ]
  },
  {
   "cell_type": "code",
   "execution_count": 3,
   "metadata": {
    "collapsed": true
   },
   "outputs": [],
   "source": [
    "from IPython.display import display\n",
    "\n",
    "def print_full_df(df):\n",
    "    pd.set_option('display.max_rows', len(df))\n",
    "    display(df)\n",
    "    pd.reset_option('display.max_rows')"
   ]
  },
  {
   "cell_type": "markdown",
   "metadata": {},
   "source": [
    "# Grupos"
   ]
  },
  {
   "cell_type": "markdown",
   "metadata": {},
   "source": [
    "## Socios activos 2016"
   ]
  },
  {
   "cell_type": "code",
   "execution_count": 4,
   "metadata": {
    "collapsed": true
   },
   "outputs": [],
   "source": [
    "# 1.       CTA: categoría para niños y jóvenes hasta bachillerato\n",
    "# 2.       CTI: categoría infantil, hasta doce años y solo es para Bogotá (blaa –biblioteca Luis Ángel Arango)\n",
    "# 3.       CTB: público general (solo permite préstamo de libros)\n",
    "# 4.       CTC: público en general (permite préstamo de libros y material audiovisual)\n",
    "# 5.       CTF: categoría familiar, pueden acceder a los beneficios hasta tres personas del grupo familiar que se asocia\n",
    "# 6.       CE1, CE2, CE2: categorías empresariales (solo para instituciones)\n",
    "# 7.       CIS: categoría Inclusión Social\n",
    "# 8.       CTU: categoría Universitaria\n",
    "# 9.       VIP: Investigadores, préstamo de 30 materiales (libros y material audiovisual)\n",
    "\n",
    "#      Categoría de lector: CE1 Categoría empresarial                                   218\n",
    "#      Categoría de lector: CE2 Categoría empresarial 2                                   5\n",
    "#      Categoría de lector: CEM Categoría Empleado/Pensionado                          1593\n",
    "#      Categoría de lector: CIN Categoría Interbibliotecario                            128\n",
    "#      Categoría de lector: CIP Categoría Investigador                                  351\n",
    "#      Categoría de lector: CIS Categoría Inclusión Preferencial                      15974\n",
    "#      Categoría de lector: CIV Categoría Investigadores                                 72\n",
    "#      Categoría de lector: CML Categoría Mediador de Proyectos Culturales                2\n",
    "#      Categoría de lector: CSU Categoría Sucursal                                       91\n",
    "#      Categoría de lector: CTA Categoría Básica A                                    10610\n",
    "#      Categoría de lector: CTB Categoría B                                            1359\n",
    "#      Categoría de lector: CTC Categoría C                                             224\n",
    "#      Categoría de lector: CTF Categoría familiar                                     1105\n",
    "#      Categoría de lector: CTI Categoría Infantil                                     1004\n",
    "#      Categoría de lector: CTU Categoría General                                     17402\n",
    "#      Categoría de lector: PTE PROCESOS TÉCNICOS                                        95"
   ]
  },
  {
   "cell_type": "code",
   "execution_count": 5,
   "metadata": {
    "collapsed": false
   },
   "outputs": [
    {
     "name": "stdout",
     "output_type": "stream",
     "text": [
      "CPU times: user 73 ms, sys: 4.57 ms, total: 77.6 ms\n",
      "Wall time: 76.9 ms\n"
     ]
    }
   ],
   "source": [
    "%%time\n",
    "\n",
    "dtypes = {\n",
    "    'Sucursal': str,\n",
    "    'Tratamiento': str,\n",
    "    'Barrio': str,\n",
    "    'Ciudad': str,\n",
    "    'CATEG': str,\n",
    "    'Ocupación1': str,\n",
    "    'Nivel Estudio1': str,\n",
    "    'Área de Estudio1': str,\n",
    "    'Edad': 'category',\n",
    "}\n",
    "\n",
    "perfiles_df = pd.read_csv(\n",
    "    'valores_grupos_2016.csv', header=0, dtype=dtypes)\n",
    "# perfiles_df = perfiles_df.fillna('')"
   ]
  },
  {
   "cell_type": "code",
   "execution_count": 6,
   "metadata": {
    "collapsed": false
   },
   "outputs": [
    {
     "data": {
      "text/plain": [
       "(50272, 9)"
      ]
     },
     "execution_count": 6,
     "metadata": {},
     "output_type": "execute_result"
    }
   ],
   "source": [
    "perfiles_df.shape"
   ]
  },
  {
   "cell_type": "code",
   "execution_count": 7,
   "metadata": {
    "collapsed": false
   },
   "outputs": [
    {
     "data": {
      "text/html": [
       "<div>\n",
       "<table border=\"1\" class=\"dataframe\">\n",
       "  <thead>\n",
       "    <tr style=\"text-align: right;\">\n",
       "      <th></th>\n",
       "      <th>Sucursal</th>\n",
       "      <th>Tratamiento</th>\n",
       "      <th>Barrio</th>\n",
       "      <th>Ciudad</th>\n",
       "      <th>CATEG</th>\n",
       "      <th>Ocupación1</th>\n",
       "      <th>Nivel Estudio1</th>\n",
       "      <th>Área de Estudio1</th>\n",
       "      <th>Edad</th>\n",
       "    </tr>\n",
       "  </thead>\n",
       "  <tbody>\n",
       "    <tr>\n",
       "      <th>0</th>\n",
       "      <td>BLAA</td>\n",
       "      <td>OTRO</td>\n",
       "      <td>chapinero</td>\n",
       "      <td>bogota</td>\n",
       "      <td>CIN</td>\n",
       "      <td>universidad</td>\n",
       "      <td>OTRO</td>\n",
       "      <td>OTRO</td>\n",
       "      <td>OTRO</td>\n",
       "    </tr>\n",
       "    <tr>\n",
       "      <th>1</th>\n",
       "      <td>BLAA</td>\n",
       "      <td>sra.</td>\n",
       "      <td>OTRO</td>\n",
       "      <td>bogota</td>\n",
       "      <td>CEM</td>\n",
       "      <td>pensionado</td>\n",
       "      <td>OTRO</td>\n",
       "      <td>OTRO</td>\n",
       "      <td>50-64</td>\n",
       "    </tr>\n",
       "    <tr>\n",
       "      <th>2</th>\n",
       "      <td>BLAA</td>\n",
       "      <td>sra.</td>\n",
       "      <td>icata</td>\n",
       "      <td>bogota</td>\n",
       "      <td>CEM</td>\n",
       "      <td>empleado</td>\n",
       "      <td>profesional</td>\n",
       "      <td>filosofía y letras</td>\n",
       "      <td>OTRO</td>\n",
       "    </tr>\n",
       "    <tr>\n",
       "      <th>3</th>\n",
       "      <td>ARM</td>\n",
       "      <td>sr.</td>\n",
       "      <td>OTRO</td>\n",
       "      <td>OTRO</td>\n",
       "      <td>CEM</td>\n",
       "      <td>empleado</td>\n",
       "      <td>profesional</td>\n",
       "      <td>economía</td>\n",
       "      <td>50-64</td>\n",
       "    </tr>\n",
       "    <tr>\n",
       "      <th>4</th>\n",
       "      <td>BLAA</td>\n",
       "      <td>sr.</td>\n",
       "      <td>soledad</td>\n",
       "      <td>bogota</td>\n",
       "      <td>CEM</td>\n",
       "      <td>OTRO</td>\n",
       "      <td>OTRO</td>\n",
       "      <td>OTRO</td>\n",
       "      <td>OTRO</td>\n",
       "    </tr>\n",
       "  </tbody>\n",
       "</table>\n",
       "</div>"
      ],
      "text/plain": [
       "  Sucursal Tratamiento     Barrio  Ciudad CATEG   Ocupación1 Nivel Estudio1  \\\n",
       "0     BLAA        OTRO  chapinero  bogota   CIN  universidad           OTRO   \n",
       "1     BLAA        sra.       OTRO  bogota   CEM   pensionado           OTRO   \n",
       "2     BLAA        sra.      icata  bogota   CEM     empleado    profesional   \n",
       "3      ARM         sr.       OTRO    OTRO   CEM     empleado    profesional   \n",
       "4     BLAA         sr.    soledad  bogota   CEM         OTRO           OTRO   \n",
       "\n",
       "     Área de Estudio1   Edad  \n",
       "0                OTRO   OTRO  \n",
       "1                OTRO  50-64  \n",
       "2  filosofía y letras   OTRO  \n",
       "3            economía  50-64  \n",
       "4                OTRO   OTRO  "
      ]
     },
     "execution_count": 7,
     "metadata": {},
     "output_type": "execute_result"
    }
   ],
   "source": [
    "perfiles_df.head()"
   ]
  },
  {
   "cell_type": "markdown",
   "metadata": {},
   "source": [
    "# Eliminando valores en blanco"
   ]
  },
  {
   "cell_type": "code",
   "execution_count": 8,
   "metadata": {
    "collapsed": true
   },
   "outputs": [],
   "source": [
    "perfiles_df = perfiles_df[['Ciudad', 'Nivel Estudio1', 'Área de Estudio1']]"
   ]
  },
  {
   "cell_type": "code",
   "execution_count": 9,
   "metadata": {
    "collapsed": false
   },
   "outputs": [],
   "source": [
    "perfiles_df = perfiles_df[\n",
    "    (perfiles_df['Ciudad'] != 'OTRO')\n",
    "]"
   ]
  },
  {
   "cell_type": "code",
   "execution_count": 10,
   "metadata": {
    "collapsed": false
   },
   "outputs": [
    {
     "data": {
      "text/plain": [
       "(47456, 3)"
      ]
     },
     "execution_count": 10,
     "metadata": {},
     "output_type": "execute_result"
    }
   ],
   "source": [
    "perfiles_df.shape"
   ]
  },
  {
   "cell_type": "code",
   "execution_count": 11,
   "metadata": {
    "collapsed": false
   },
   "outputs": [
    {
     "data": {
      "text/html": [
       "<div>\n",
       "<table border=\"1\" class=\"dataframe\">\n",
       "  <thead>\n",
       "    <tr style=\"text-align: right;\">\n",
       "      <th></th>\n",
       "      <th>Ciudad</th>\n",
       "      <th>Nivel Estudio1</th>\n",
       "      <th>Área de Estudio1</th>\n",
       "    </tr>\n",
       "  </thead>\n",
       "  <tbody>\n",
       "    <tr>\n",
       "      <th>0</th>\n",
       "      <td>bogota</td>\n",
       "      <td>OTRO</td>\n",
       "      <td>OTRO</td>\n",
       "    </tr>\n",
       "    <tr>\n",
       "      <th>1</th>\n",
       "      <td>bogota</td>\n",
       "      <td>OTRO</td>\n",
       "      <td>OTRO</td>\n",
       "    </tr>\n",
       "    <tr>\n",
       "      <th>2</th>\n",
       "      <td>bogota</td>\n",
       "      <td>profesional</td>\n",
       "      <td>filosofía y letras</td>\n",
       "    </tr>\n",
       "    <tr>\n",
       "      <th>4</th>\n",
       "      <td>bogota</td>\n",
       "      <td>OTRO</td>\n",
       "      <td>OTRO</td>\n",
       "    </tr>\n",
       "    <tr>\n",
       "      <th>5</th>\n",
       "      <td>bogota</td>\n",
       "      <td>OTRO</td>\n",
       "      <td>OTRO</td>\n",
       "    </tr>\n",
       "  </tbody>\n",
       "</table>\n",
       "</div>"
      ],
      "text/plain": [
       "   Ciudad Nivel Estudio1    Área de Estudio1\n",
       "0  bogota           OTRO                OTRO\n",
       "1  bogota           OTRO                OTRO\n",
       "2  bogota    profesional  filosofía y letras\n",
       "4  bogota           OTRO                OTRO\n",
       "5  bogota           OTRO                OTRO"
      ]
     },
     "execution_count": 11,
     "metadata": {},
     "output_type": "execute_result"
    }
   ],
   "source": [
    "perfiles_df.head()"
   ]
  },
  {
   "cell_type": "markdown",
   "metadata": {},
   "source": [
    "# Agrupando"
   ]
  },
  {
   "cell_type": "markdown",
   "metadata": {},
   "source": [
    "## Todas las ciudades"
   ]
  },
  {
   "cell_type": "code",
   "execution_count": 12,
   "metadata": {
    "collapsed": true
   },
   "outputs": [],
   "source": [
    "ciudades_sucursales = {\n",
    "    'armenia': 'ARM',\n",
    "    'barranquilla': 'BAR',\n",
    "    'bogota': 'BLAA',\n",
    "    'bucaramanga': 'BUC',\n",
    "    'buenaventura': 'BUE',\n",
    "    'cali': 'CAL',\n",
    "    'cartagena': 'CAR',\n",
    "    'cucuta': 'CUC',\n",
    "    'florencia': 'FLO',\n",
    "    'girardot': 'GIR',\n",
    "    'honda': 'HON',\n",
    "    'ibague': 'IBA',\n",
    "    'ipiales': 'IPI',\n",
    "    'leticia': 'LET',\n",
    "    'manizales': 'MAN',\n",
    "    'medellin': 'MED',\n",
    "    'monteria': 'MON',\n",
    "    'neiva': 'NEI',\n",
    "    'pasto': 'PAS',\n",
    "    'pereira': 'PER',\n",
    "    'popayan': 'POP',\n",
    "    'quibdo': 'QUI',\n",
    "    'riohacha': 'RIO',\n",
    "    'san andres': 'SAN',\n",
    "    'santa marta': 'STM',\n",
    "    'sincelejo': 'SIN',\n",
    "    'tunja': 'TUN',\n",
    "    'valledupar': 'VAL',\n",
    "    'villavicencio': 'VIL',\n",
    "}\n",
    "\n",
    "sucursales = {\n",
    "    'ARM': {'name': 'Armenia', 'latitude': 4.53, 'longitude': -75.68, 'weight': 575},\n",
    "    'BAR': {'name': 'Barranquilla', 'latitude': 10.963889, 'longitude': -74.796389, 'weight': 328},\n",
    "    'BLAA': {'name': 'Bogotá', 'latitude': 4.59677, 'longitude': -74.072848, 'weight': 24284},\n",
    "    'BUC': {'name': 'Bucaramanga', 'latitude': 7.133333, 'longitude': -73.0, 'weight': 511},\n",
    "    'BUE': {'name': 'Buenaventura', 'latitude': 3.877222, 'longitude': -77.026667, 'weight': 337},\n",
    "    'CAL': {'name': 'Cali', 'latitude': 3.420556, 'longitude': -76.522222, 'weight': 287},\n",
    "    'CAR': {'name': 'Cartagena', 'latitude': 10.4, 'longitude': -75.5, 'weight': 758},\n",
    "    'CUC': {'name': 'Cúcuta', 'latitude': 7.894167, 'longitude': -72.503889, 'weight': 236},\n",
    "    'FLO': {'name': 'Florencia', 'latitude': 1.614167, 'longitude': -75.611667, 'weight': 611},\n",
    "    'GIR': {'name': 'Girardot', 'latitude': 4.305, 'longitude': -74.801667, 'weight': 1090},\n",
    "    'HON': {'name': 'Honda', 'latitude': 5.204167, 'longitude': -74.741667, 'weight': 544},\n",
    "    'IBA': {'name': 'Ibagué', 'latitude': 4.433333, 'longitude': -75.233333, 'weight': 2339},\n",
    "    'IPI': {'name': 'Ipiales', 'latitude': 0.830278, 'longitude': -77.644444, 'weight': 1041},\n",
    "    'LET': {'name': 'Leticia', 'latitude': -4.205278, 'longitude': -69.932778, 'weight': 526},\n",
    "    'MAN': {'name': 'Manizales', 'latitude': 5.1, 'longitude': -75.55, 'weight': 1159},\n",
    "    'MED': {'name': 'Medellín', 'latitude': 6.230833, 'longitude': -75.590556, 'weight': 219},\n",
    "    'MON': {'name': 'Montería', 'latitude': 8.75, 'longitude': -75.883333, 'weight': 209},\n",
    "    'NEI': {'name': 'Neiva', 'latitude': 2.998611, 'longitude': -75.304444, 'weight': 1978},\n",
    "    'PAS': {'name': 'Pasto', 'latitude': 1.207778, 'longitude': -77.277222, 'weight': 2089},\n",
    "    'PER': {'name': 'Pereira', 'latitude': 4.814278, 'longitude': -75.694558, 'weight': 1922},\n",
    "    'POP': {'name': 'Popayán', 'latitude': 2.454167, 'longitude': -76.609167, 'weight': 2078},\n",
    "    'QUI': {'name': 'Quibdó', 'latitude': 5.692222, 'longitude': -76.658056, 'weight': 478},\n",
    "    'RIO': {'name': 'Riohacha', 'latitude': 11.544167, 'longitude': -72.906944, 'weight': 250},\n",
    "    'SAN': {'name': 'San Andrés', 'latitude': 12.583333, 'longitude': -81.7, 'weight': 728},\n",
    "    'SIN': {'name': 'Sincelejo', 'latitude': 9.295, 'longitude': -75.396111, 'weight': 438},\n",
    "    'STM': {'name': 'Santa Marta', 'latitude': 11.241944, 'longitude': -74.205278, 'weight': 438},\n",
    "    'TUN': {'name': 'Tunja', 'latitude': 5.533333, 'longitude': -73.366667, 'weight': 3165},\n",
    "    'VAL': {'name': 'Valledupar', 'latitude': 10.483333, 'longitude': -73.25, 'weight': 660},\n",
    "    'VIL': {'name': 'Villavicencio', 'latitude': 4.15, 'longitude': -73.633333, 'weight': 298},\n",
    "}\n",
    "\n",
    "# weights obtenidos de perfiles_df['Sucursal'].value_counts()"
   ]
  },
  {
   "cell_type": "markdown",
   "metadata": {},
   "source": [
    "### Top 1 nivel de estudios por ciudad"
   ]
  },
  {
   "cell_type": "code",
   "execution_count": 13,
   "metadata": {
    "collapsed": false
   },
   "outputs": [],
   "source": [
    "niveles_ciudades = perfiles_df[perfiles_df['Nivel Estudio1'] != 'OTRO'] \\\n",
    "    .groupby(['Ciudad'])['Nivel Estudio1'] \\\n",
    "    .agg(lambda x: x.value_counts().index[0])"
   ]
  },
  {
   "cell_type": "code",
   "execution_count": 14,
   "metadata": {
    "collapsed": false
   },
   "outputs": [],
   "source": [
    "top_niveles_ciudades_ls = [\n",
    "    (x, y)\n",
    "    for x, y in niveles_ciudades.iteritems()\n",
    "    if x in ciudades_sucursales\n",
    "]"
   ]
  },
  {
   "cell_type": "code",
   "execution_count": 15,
   "metadata": {
    "collapsed": true
   },
   "outputs": [],
   "source": [
    "top_niveles_ciudades_df = pd.DataFrame(top_niveles_ciudades_ls, columns=['Ciudad', 'Top nivel de estudios'])"
   ]
  },
  {
   "cell_type": "code",
   "execution_count": 16,
   "metadata": {
    "collapsed": false
   },
   "outputs": [
    {
     "data": {
      "text/html": [
       "<div>\n",
       "<table border=\"1\" class=\"dataframe\">\n",
       "  <thead>\n",
       "    <tr style=\"text-align: right;\">\n",
       "      <th></th>\n",
       "      <th>Ciudad</th>\n",
       "      <th>Top nivel de estudios</th>\n",
       "    </tr>\n",
       "  </thead>\n",
       "  <tbody>\n",
       "    <tr>\n",
       "      <th>0</th>\n",
       "      <td>armenia</td>\n",
       "      <td>profesional</td>\n",
       "    </tr>\n",
       "    <tr>\n",
       "      <th>1</th>\n",
       "      <td>barranquilla</td>\n",
       "      <td>universitario 2 nivel</td>\n",
       "    </tr>\n",
       "    <tr>\n",
       "      <th>2</th>\n",
       "      <td>bogota</td>\n",
       "      <td>universitario 1 nivel</td>\n",
       "    </tr>\n",
       "    <tr>\n",
       "      <th>3</th>\n",
       "      <td>bucaramanga</td>\n",
       "      <td>profesional</td>\n",
       "    </tr>\n",
       "    <tr>\n",
       "      <th>4</th>\n",
       "      <td>buenaventura</td>\n",
       "      <td>básica primaria</td>\n",
       "    </tr>\n",
       "    <tr>\n",
       "      <th>5</th>\n",
       "      <td>cali</td>\n",
       "      <td>profesional</td>\n",
       "    </tr>\n",
       "    <tr>\n",
       "      <th>6</th>\n",
       "      <td>cartagena</td>\n",
       "      <td>universitario 2 nivel</td>\n",
       "    </tr>\n",
       "    <tr>\n",
       "      <th>7</th>\n",
       "      <td>cucuta</td>\n",
       "      <td>universitario 1 nivel</td>\n",
       "    </tr>\n",
       "    <tr>\n",
       "      <th>8</th>\n",
       "      <td>florencia</td>\n",
       "      <td>básica primaria</td>\n",
       "    </tr>\n",
       "    <tr>\n",
       "      <th>9</th>\n",
       "      <td>girardot</td>\n",
       "      <td>secundaria</td>\n",
       "    </tr>\n",
       "    <tr>\n",
       "      <th>10</th>\n",
       "      <td>honda</td>\n",
       "      <td>básica primaria</td>\n",
       "    </tr>\n",
       "    <tr>\n",
       "      <th>11</th>\n",
       "      <td>ibague</td>\n",
       "      <td>secundaria</td>\n",
       "    </tr>\n",
       "    <tr>\n",
       "      <th>12</th>\n",
       "      <td>ipiales</td>\n",
       "      <td>secundaria</td>\n",
       "    </tr>\n",
       "    <tr>\n",
       "      <th>13</th>\n",
       "      <td>leticia</td>\n",
       "      <td>secundaria</td>\n",
       "    </tr>\n",
       "    <tr>\n",
       "      <th>14</th>\n",
       "      <td>manizales</td>\n",
       "      <td>universitario 1 nivel</td>\n",
       "    </tr>\n",
       "    <tr>\n",
       "      <th>15</th>\n",
       "      <td>medellin</td>\n",
       "      <td>profesional</td>\n",
       "    </tr>\n",
       "    <tr>\n",
       "      <th>16</th>\n",
       "      <td>monteria</td>\n",
       "      <td>profesional</td>\n",
       "    </tr>\n",
       "    <tr>\n",
       "      <th>17</th>\n",
       "      <td>neiva</td>\n",
       "      <td>secundaria</td>\n",
       "    </tr>\n",
       "    <tr>\n",
       "      <th>18</th>\n",
       "      <td>pereira</td>\n",
       "      <td>secundaria</td>\n",
       "    </tr>\n",
       "    <tr>\n",
       "      <th>19</th>\n",
       "      <td>popayan</td>\n",
       "      <td>básica primaria</td>\n",
       "    </tr>\n",
       "    <tr>\n",
       "      <th>20</th>\n",
       "      <td>quibdo</td>\n",
       "      <td>secundaria</td>\n",
       "    </tr>\n",
       "    <tr>\n",
       "      <th>21</th>\n",
       "      <td>riohacha</td>\n",
       "      <td>secundaria</td>\n",
       "    </tr>\n",
       "    <tr>\n",
       "      <th>22</th>\n",
       "      <td>san andres</td>\n",
       "      <td>básica primaria</td>\n",
       "    </tr>\n",
       "    <tr>\n",
       "      <th>23</th>\n",
       "      <td>santa marta</td>\n",
       "      <td>universitario 1 nivel</td>\n",
       "    </tr>\n",
       "    <tr>\n",
       "      <th>24</th>\n",
       "      <td>sincelejo</td>\n",
       "      <td>secundaria</td>\n",
       "    </tr>\n",
       "    <tr>\n",
       "      <th>25</th>\n",
       "      <td>tunja</td>\n",
       "      <td>básica primaria</td>\n",
       "    </tr>\n",
       "    <tr>\n",
       "      <th>26</th>\n",
       "      <td>valledupar</td>\n",
       "      <td>universitario 1 nivel</td>\n",
       "    </tr>\n",
       "    <tr>\n",
       "      <th>27</th>\n",
       "      <td>villavicencio</td>\n",
       "      <td>universitario 1 nivel</td>\n",
       "    </tr>\n",
       "  </tbody>\n",
       "</table>\n",
       "</div>"
      ],
      "text/plain": [
       "           Ciudad  Top nivel de estudios\n",
       "0         armenia            profesional\n",
       "1    barranquilla  universitario 2 nivel\n",
       "2          bogota  universitario 1 nivel\n",
       "3     bucaramanga            profesional\n",
       "4    buenaventura        básica primaria\n",
       "5            cali            profesional\n",
       "6       cartagena  universitario 2 nivel\n",
       "7          cucuta  universitario 1 nivel\n",
       "8       florencia        básica primaria\n",
       "9        girardot             secundaria\n",
       "10          honda        básica primaria\n",
       "11         ibague             secundaria\n",
       "12        ipiales             secundaria\n",
       "13        leticia             secundaria\n",
       "14      manizales  universitario 1 nivel\n",
       "15       medellin            profesional\n",
       "16       monteria            profesional\n",
       "17          neiva             secundaria\n",
       "18        pereira             secundaria\n",
       "19        popayan        básica primaria\n",
       "20         quibdo             secundaria\n",
       "21       riohacha             secundaria\n",
       "22     san andres        básica primaria\n",
       "23    santa marta  universitario 1 nivel\n",
       "24      sincelejo             secundaria\n",
       "25          tunja        básica primaria\n",
       "26     valledupar  universitario 1 nivel\n",
       "27  villavicencio  universitario 1 nivel"
      ]
     },
     "metadata": {},
     "output_type": "display_data"
    }
   ],
   "source": [
    "print_full_df(top_niveles_ciudades_df)"
   ]
  },
  {
   "cell_type": "code",
   "execution_count": 17,
   "metadata": {
    "collapsed": true
   },
   "outputs": [],
   "source": [
    "niveles_g = nx.Graph()\n",
    "\n",
    "for i, n in top_niveles_ciudades_df.iterrows():\n",
    "    nivel = n['Top nivel de estudios']\n",
    "    ciudad = n['Ciudad']\n",
    "    sucursal = ciudades_sucursales[ciudad]\n",
    "    name = sucursales[sucursal]['name']\n",
    "    lat = sucursales[sucursal]['latitude']\n",
    "    long = sucursales[sucursal]['longitude']\n",
    "    weight = sucursales[sucursal]['weight']\n",
    "    \n",
    "    niveles_g.add_node(\n",
    "        sucursal,\n",
    "        name=name,\n",
    "        level=nivel,\n",
    "        latitude=lat,\n",
    "        longitude=long,\n",
    "        weight=weight,\n",
    "    )"
   ]
  },
  {
   "cell_type": "code",
   "execution_count": 18,
   "metadata": {
    "collapsed": false
   },
   "outputs": [
    {
     "data": {
      "text/plain": [
       "array(['profesional', 'universitario 2 nivel', 'universitario 1 nivel',\n",
       "       'básica primaria', 'secundaria'], dtype=object)"
      ]
     },
     "execution_count": 18,
     "metadata": {},
     "output_type": "execute_result"
    }
   ],
   "source": [
    "top_niveles_ciudades_df['Top nivel de estudios'].unique()"
   ]
  },
  {
   "cell_type": "code",
   "execution_count": 19,
   "metadata": {
    "collapsed": true
   },
   "outputs": [],
   "source": [
    "nx.write_gexf(niveles_g, 'niveles_estudio_ciudades.gexf')"
   ]
  },
  {
   "cell_type": "markdown",
   "metadata": {},
   "source": [
    "### Top 1 área de estudios por ciudad"
   ]
  },
  {
   "cell_type": "code",
   "execution_count": 20,
   "metadata": {
    "collapsed": false
   },
   "outputs": [],
   "source": [
    "areas_ciudades = perfiles_df[perfiles_df['Área de Estudio1'] != 'OTRO'] \\\n",
    "    .groupby(['Ciudad'])['Área de Estudio1'] \\\n",
    "    .agg(lambda x: x.value_counts().index[0])"
   ]
  },
  {
   "cell_type": "code",
   "execution_count": 21,
   "metadata": {
    "collapsed": false
   },
   "outputs": [],
   "source": [
    "top_areas_ciudades_ls = [\n",
    "    (x, y)\n",
    "    for x, y in areas_ciudades.iteritems()\n",
    "    if x in ciudades_sucursales\n",
    "]"
   ]
  },
  {
   "cell_type": "code",
   "execution_count": 22,
   "metadata": {
    "collapsed": true
   },
   "outputs": [],
   "source": [
    "top_areas_ciudades_df = pd.DataFrame(top_areas_ciudades_ls, columns=['Ciudad', 'Top área de estudios'])"
   ]
  },
  {
   "cell_type": "code",
   "execution_count": 23,
   "metadata": {
    "collapsed": false
   },
   "outputs": [
    {
     "data": {
      "text/html": [
       "<div>\n",
       "<table border=\"1\" class=\"dataframe\">\n",
       "  <thead>\n",
       "    <tr style=\"text-align: right;\">\n",
       "      <th></th>\n",
       "      <th>Ciudad</th>\n",
       "      <th>Top área de estudios</th>\n",
       "    </tr>\n",
       "  </thead>\n",
       "  <tbody>\n",
       "    <tr>\n",
       "      <th>0</th>\n",
       "      <td>armenia</td>\n",
       "      <td>literatura</td>\n",
       "    </tr>\n",
       "    <tr>\n",
       "      <th>1</th>\n",
       "      <td>barranquilla</td>\n",
       "      <td>sociología</td>\n",
       "    </tr>\n",
       "    <tr>\n",
       "      <th>2</th>\n",
       "      <td>bogota</td>\n",
       "      <td>derecho</td>\n",
       "    </tr>\n",
       "    <tr>\n",
       "      <th>3</th>\n",
       "      <td>bucaramanga</td>\n",
       "      <td>historia</td>\n",
       "    </tr>\n",
       "    <tr>\n",
       "      <th>4</th>\n",
       "      <td>buenaventura</td>\n",
       "      <td>adm. de empresas</td>\n",
       "    </tr>\n",
       "    <tr>\n",
       "      <th>5</th>\n",
       "      <td>cali</td>\n",
       "      <td>historia</td>\n",
       "    </tr>\n",
       "    <tr>\n",
       "      <th>6</th>\n",
       "      <td>cartagena</td>\n",
       "      <td>derecho</td>\n",
       "    </tr>\n",
       "    <tr>\n",
       "      <th>7</th>\n",
       "      <td>cucuta</td>\n",
       "      <td>derecho</td>\n",
       "    </tr>\n",
       "    <tr>\n",
       "      <th>8</th>\n",
       "      <td>florencia</td>\n",
       "      <td>derecho</td>\n",
       "    </tr>\n",
       "    <tr>\n",
       "      <th>9</th>\n",
       "      <td>girardot</td>\n",
       "      <td>escolar</td>\n",
       "    </tr>\n",
       "    <tr>\n",
       "      <th>10</th>\n",
       "      <td>honda</td>\n",
       "      <td>contaduría</td>\n",
       "    </tr>\n",
       "    <tr>\n",
       "      <th>11</th>\n",
       "      <td>ibague</td>\n",
       "      <td>derecho</td>\n",
       "    </tr>\n",
       "    <tr>\n",
       "      <th>12</th>\n",
       "      <td>ipiales</td>\n",
       "      <td>escolar</td>\n",
       "    </tr>\n",
       "    <tr>\n",
       "      <th>13</th>\n",
       "      <td>leticia</td>\n",
       "      <td>derecho</td>\n",
       "    </tr>\n",
       "    <tr>\n",
       "      <th>14</th>\n",
       "      <td>manizales</td>\n",
       "      <td>derecho</td>\n",
       "    </tr>\n",
       "    <tr>\n",
       "      <th>15</th>\n",
       "      <td>medellin</td>\n",
       "      <td>historia</td>\n",
       "    </tr>\n",
       "    <tr>\n",
       "      <th>16</th>\n",
       "      <td>monteria</td>\n",
       "      <td>ciencias sociales</td>\n",
       "    </tr>\n",
       "    <tr>\n",
       "      <th>17</th>\n",
       "      <td>neiva</td>\n",
       "      <td>escolar</td>\n",
       "    </tr>\n",
       "    <tr>\n",
       "      <th>18</th>\n",
       "      <td>pereira</td>\n",
       "      <td>literatura</td>\n",
       "    </tr>\n",
       "    <tr>\n",
       "      <th>19</th>\n",
       "      <td>popayan</td>\n",
       "      <td>derecho</td>\n",
       "    </tr>\n",
       "    <tr>\n",
       "      <th>20</th>\n",
       "      <td>quibdo</td>\n",
       "      <td>derecho</td>\n",
       "    </tr>\n",
       "    <tr>\n",
       "      <th>21</th>\n",
       "      <td>riohacha</td>\n",
       "      <td>idiomas</td>\n",
       "    </tr>\n",
       "    <tr>\n",
       "      <th>22</th>\n",
       "      <td>san andres</td>\n",
       "      <td>derecho</td>\n",
       "    </tr>\n",
       "    <tr>\n",
       "      <th>23</th>\n",
       "      <td>santa marta</td>\n",
       "      <td>derecho</td>\n",
       "    </tr>\n",
       "    <tr>\n",
       "      <th>24</th>\n",
       "      <td>sincelejo</td>\n",
       "      <td>derecho</td>\n",
       "    </tr>\n",
       "    <tr>\n",
       "      <th>25</th>\n",
       "      <td>tunja</td>\n",
       "      <td>derecho</td>\n",
       "    </tr>\n",
       "    <tr>\n",
       "      <th>26</th>\n",
       "      <td>valledupar</td>\n",
       "      <td>derecho</td>\n",
       "    </tr>\n",
       "    <tr>\n",
       "      <th>27</th>\n",
       "      <td>villavicencio</td>\n",
       "      <td>derecho</td>\n",
       "    </tr>\n",
       "  </tbody>\n",
       "</table>\n",
       "</div>"
      ],
      "text/plain": [
       "           Ciudad Top área de estudios\n",
       "0         armenia           literatura\n",
       "1    barranquilla           sociología\n",
       "2          bogota              derecho\n",
       "3     bucaramanga             historia\n",
       "4    buenaventura     adm. de empresas\n",
       "5            cali             historia\n",
       "6       cartagena              derecho\n",
       "7          cucuta              derecho\n",
       "8       florencia              derecho\n",
       "9        girardot              escolar\n",
       "10          honda           contaduría\n",
       "11         ibague              derecho\n",
       "12        ipiales              escolar\n",
       "13        leticia              derecho\n",
       "14      manizales              derecho\n",
       "15       medellin             historia\n",
       "16       monteria    ciencias sociales\n",
       "17          neiva              escolar\n",
       "18        pereira           literatura\n",
       "19        popayan              derecho\n",
       "20         quibdo              derecho\n",
       "21       riohacha              idiomas\n",
       "22     san andres              derecho\n",
       "23    santa marta              derecho\n",
       "24      sincelejo              derecho\n",
       "25          tunja              derecho\n",
       "26     valledupar              derecho\n",
       "27  villavicencio              derecho"
      ]
     },
     "metadata": {},
     "output_type": "display_data"
    }
   ],
   "source": [
    "print_full_df(top_areas_ciudades_df)"
   ]
  },
  {
   "cell_type": "code",
   "execution_count": 24,
   "metadata": {
    "collapsed": true
   },
   "outputs": [],
   "source": [
    "areas_g = nx.Graph()\n",
    "\n",
    "for i, n in top_areas_ciudades_df.iterrows():\n",
    "    area = n['Top área de estudios']\n",
    "    ciudad = n['Ciudad']\n",
    "    sucursal = ciudades_sucursales[ciudad]\n",
    "    name = sucursales[sucursal]['name']\n",
    "    lat = sucursales[sucursal]['latitude']\n",
    "    long = sucursales[sucursal]['longitude']\n",
    "    weight = sucursales[sucursal]['weight']\n",
    "    \n",
    "    areas_g.add_node(\n",
    "        sucursal,\n",
    "        name=name,\n",
    "        field=area,\n",
    "        latitude=lat,\n",
    "        longitude=long,\n",
    "        weight=weight,\n",
    "    )"
   ]
  },
  {
   "cell_type": "code",
   "execution_count": 25,
   "metadata": {
    "collapsed": false
   },
   "outputs": [
    {
     "data": {
      "text/plain": [
       "array(['literatura', 'sociología', 'derecho', 'historia',\n",
       "       'adm. de empresas', 'escolar', 'contaduría', 'ciencias sociales',\n",
       "       'idiomas'], dtype=object)"
      ]
     },
     "execution_count": 25,
     "metadata": {},
     "output_type": "execute_result"
    }
   ],
   "source": [
    "top_areas_ciudades_df['Top área de estudios'].unique()"
   ]
  },
  {
   "cell_type": "code",
   "execution_count": 26,
   "metadata": {
    "collapsed": true
   },
   "outputs": [],
   "source": [
    "nx.write_gexf(areas_g, 'areas_estudio_ciudades.gexf')"
   ]
  },
  {
   "cell_type": "code",
   "execution_count": null,
   "metadata": {
    "collapsed": true
   },
   "outputs": [],
   "source": []
  }
 ],
 "metadata": {
  "kernelspec": {
   "display_name": "Python 3",
   "language": "python",
   "name": "python3"
  },
  "language_info": {
   "codemirror_mode": {
    "name": "ipython",
    "version": 3
   },
   "file_extension": ".py",
   "mimetype": "text/x-python",
   "name": "python",
   "nbconvert_exporter": "python",
   "pygments_lexer": "ipython3",
   "version": "3.4.3"
  }
 },
 "nbformat": 4,
 "nbformat_minor": 1
}
